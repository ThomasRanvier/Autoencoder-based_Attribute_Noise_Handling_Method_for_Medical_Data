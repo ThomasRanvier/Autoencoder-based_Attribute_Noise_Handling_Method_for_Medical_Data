{
 "cells": [
  {
   "cell_type": "code",
   "execution_count": 1,
   "metadata": {
    "ExecuteTime": {
     "end_time": "2022-06-03T08:41:57.147663Z",
     "start_time": "2022-06-03T08:41:45.452505Z"
    },
    "execution": {
     "iopub.execute_input": "2022-06-03T08:58:03.389762Z",
     "iopub.status.busy": "2022-06-03T08:58:03.389207Z",
     "iopub.status.idle": "2022-06-03T08:58:11.028078Z",
     "shell.execute_reply": "2022-06-03T08:58:11.027312Z"
    }
   },
   "outputs": [],
   "source": [
    "from __future__ import print_function\n",
    "import warnings\n",
    "warnings.filterwarnings(\"ignore\", category=UserWarning)\n",
    "warnings.filterwarnings(\"ignore\", category=FutureWarning)\n",
    "## Disable tf future deprecated messages\n",
    "import logging\n",
    "logging.getLogger('tensorflow').disabled = True\n",
    "## Disable tf CUDA messages\n",
    "import os\n",
    "os.environ['TF_CPP_MIN_LOG_LEVEL'] = '3'\n",
    "\n",
    "%matplotlib inline\n",
    "\n",
    "import sys\n",
    "import random\n",
    "import numpy as np\n",
    "import pandas as pd\n",
    "\n",
    "import utils\n",
    "import correction\n",
    "from models.dense import *\n",
    "from models.gain import gain\n",
    "from models.soft_impute import SoftImpute\n",
    "from models.sinkhorn import OTimputer\n",
    "from models.mida import mida\n",
    "\n",
    "import scipy.stats\n",
    "\n",
    "from sklearn.experimental import enable_iterative_imputer\n",
    "from sklearn.impute import IterativeImputer\n",
    "from sklearn.impute import KNNImputer, SimpleImputer\n",
    "\n",
    "import sklearn.neighbors._base\n",
    "sys.modules['sklearn.neighbors.base'] = sklearn.neighbors._base\n",
    "from missingpy import MissForest\n",
    "\n",
    "torch.backends.cudnn.enabled = True\n",
    "torch.backends.cudnn.benchmark = True\n",
    "dtype = torch.cuda.FloatTensor"
   ]
  },
  {
   "cell_type": "markdown",
   "metadata": {},
   "source": [
    "## Repeat all experiments for 10 runs"
   ]
  },
  {
   "cell_type": "code",
   "execution_count": 2,
   "metadata": {
    "ExecuteTime": {
     "end_time": "2022-06-03T08:41:57.154855Z",
     "start_time": "2022-06-03T08:41:57.150277Z"
    },
    "execution": {
     "iopub.execute_input": "2022-06-03T08:58:11.031893Z",
     "iopub.status.busy": "2022-06-03T08:58:11.031437Z",
     "iopub.status.idle": "2022-06-03T08:58:11.033080Z",
     "shell.execute_reply": "2022-06-03T08:58:11.033452Z"
    }
   },
   "outputs": [],
   "source": [
    "n_runs = 10"
   ]
  },
  {
   "cell_type": "markdown",
   "metadata": {},
   "source": [
    "## Load data"
   ]
  },
  {
   "cell_type": "code",
   "execution_count": 3,
   "metadata": {
    "ExecuteTime": {
     "end_time": "2022-06-03T08:42:03.258950Z",
     "start_time": "2022-06-03T08:41:57.157391Z"
    },
    "execution": {
     "iopub.execute_input": "2022-06-03T08:58:11.042338Z",
     "iopub.status.busy": "2022-06-03T08:58:11.041941Z",
     "iopub.status.idle": "2022-06-03T08:58:14.144863Z",
     "shell.execute_reply": "2022-06-03T08:58:14.145242Z"
    }
   },
   "outputs": [
    {
     "name": "stdout",
     "output_type": "stream",
     "text": [
      "Dataset shape: (361, 80)\n",
      "19.75% missing data\n",
      "Class distribution: (array([0, 1]), array([195, 166]))\n"
     ]
    }
   ],
   "source": [
    "data_missing, missing_mask, y = utils.load_covid()"
   ]
  },
  {
   "cell_type": "markdown",
   "metadata": {},
   "source": [
    "## Run OUR METHOD"
   ]
  },
  {
   "cell_type": "code",
   "execution_count": 4,
   "metadata": {
    "ExecuteTime": {
     "end_time": "2022-06-03T08:48:09.348462Z",
     "start_time": "2022-06-03T08:48:09.348449Z"
    },
    "execution": {
     "iopub.execute_input": "2022-06-03T08:58:14.156089Z",
     "iopub.status.busy": "2022-06-03T08:58:14.155584Z",
     "iopub.status.idle": "2022-06-03T09:16:15.905303Z",
     "shell.execute_reply": "2022-06-03T09:16:15.904809Z"
    },
    "scrolled": false
   },
   "outputs": [
    {
     "name": "stdout",
     "output_type": "stream",
     "text": [
      "Ite 00000 - 0.91 sec - Loss 0.105701 - ACC 83.54% - ACC Mean 83.54% - AUC 90.79% - AUC Mean 90.79% - Deter 000\n",
      "Ite 00050 - 0.14 sec - Loss 0.098855 - ACC 83.21% - ACC Mean 83.93% - AUC 90.42% - AUC Mean 90.70% - Deter 042\n",
      "Ite 00100 - 0.16 sec - Loss 0.081510 - ACC 84.40% - ACC Mean 84.24% - AUC 90.86% - AUC Mean 90.56% - Deter 092\n",
      "Ite 00150 - 0.23 sec - Loss 0.051500 - ACC 84.82% - ACC Mean 83.64% - AUC 91.07% - AUC Mean 90.68% - Deter 142\n",
      "Ite 00200 - 0.16 sec - Loss 0.031194 - ACC 84.25% - ACC Mean 84.47% - AUC 92.13% - AUC Mean 91.57% - Deter 000\n",
      "Ite 00250 - 0.12 sec - Loss 0.024782 - ACC 83.39% - ACC Mean 84.18% - AUC 91.84% - AUC Mean 91.68% - Deter 050\n",
      "Ite 00300 - 0.15 sec - Loss 0.022782 - ACC 83.41% - ACC Mean 83.96% - AUC 90.89% - AUC Mean 91.47% - Deter 100\n",
      "Ite 00350 - 0.09 sec - Loss 0.021857 - ACC 87.47% - ACC Mean 84.31% - AUC 92.58% - AUC Mean 91.57% - Deter 000\n",
      "Ite 00400 - 0.12 sec - Loss 0.021241 - ACC 85.00% - ACC Mean 84.89% - AUC 92.42% - AUC Mean 92.09% - Deter 006\n",
      "Ite 00450 - 0.11 sec - Loss 0.020683 - ACC 84.91% - ACC Mean 85.40% - AUC 92.05% - AUC Mean 92.40% - Deter 056\n",
      "Ite 00500 - 0.12 sec - Loss 0.020072 - ACC 85.36% - ACC Mean 85.97% - AUC 92.14% - AUC Mean 92.40% - Deter 106\n",
      "Ite 00550 - 0.29 sec - Loss 0.019408 - ACC 85.26% - ACC Mean 86.20% - AUC 92.13% - AUC Mean 92.22% - Deter 156\n",
      "Ite 00600 - 0.15 sec - Loss 0.018648 - ACC 85.86% - ACC Mean 85.91% - AUC 92.16% - AUC Mean 92.28% - Deter 005\n",
      "Ite 00650 - 0.11 sec - Loss 0.017875 - ACC 84.87% - ACC Mean 85.61% - AUC 92.29% - AUC Mean 91.93% - Deter 055\n",
      "Ite 00700 - 0.11 sec - Loss 0.017108 - ACC 87.08% - ACC Mean 85.95% - AUC 91.85% - AUC Mean 91.68% - Deter 105\n",
      "Ite 00750 - 0.15 sec - Loss 0.016422 - ACC 87.04% - ACC Mean 85.73% - AUC 91.71% - AUC Mean 91.62% - Deter 155\n",
      "Ite 00800 - 0.13 sec - Loss 0.015776 - ACC 84.87% - ACC Mean 85.62% - AUC 92.56% - AUC Mean 91.77% - Deter 205\n",
      "Ite 00850 - 0.14 sec - Loss 0.015174 - ACC 86.67% - ACC Mean 86.01% - AUC 94.17% - AUC Mean 92.23% - Deter 255\n",
      "Ite 00900 - 0.10 sec - Loss 0.014625 - ACC 86.38% - ACC Mean 85.94% - AUC 92.18% - AUC Mean 92.37% - Deter 305\n",
      "Ite 00950 - 0.10 sec - Loss 0.014128 - ACC 85.83% - ACC Mean 85.41% - AUC 92.36% - AUC Mean 92.26% - Deter 355\n",
      "Ite 00995 - 0.17 sec - Loss 0.013721 - ACC 86.13% - ACC Mean 85.65% - AUC 92.69% - AUC Mean 92.32% - Deter 400\n",
      "Early stop ite 995, rollback to correction of ite 595, whith acc of 88.72% and auc of 94.64%\n",
      "OUR METHOD RUN 1/10 - acc: 88.72% +- 0.0% - auc: 94.64% +- 0.0%\n",
      "Ite 00000 - 0.16 sec - Loss 0.104928 - ACC 85.62% - ACC Mean 85.62% - AUC 90.35% - AUC Mean 90.35% - Deter 000\n",
      "Ite 00050 - 0.12 sec - Loss 0.098121 - ACC 82.52% - ACC Mean 84.78% - AUC 89.50% - AUC Mean 90.33% - Deter 010\n",
      "Ite 00100 - 0.15 sec - Loss 0.082113 - ACC 84.15% - ACC Mean 83.93% - AUC 90.71% - AUC Mean 90.22% - Deter 013\n",
      "Ite 00150 - 0.11 sec - Loss 0.052365 - ACC 83.79% - ACC Mean 83.95% - AUC 90.81% - AUC Mean 90.42% - Deter 063\n",
      "Ite 00200 - 0.11 sec - Loss 0.031629 - ACC 84.67% - ACC Mean 84.33% - AUC 91.46% - AUC Mean 91.33% - Deter 009\n",
      "Ite 00250 - 0.11 sec - Loss 0.025071 - ACC 85.07% - ACC Mean 84.60% - AUC 91.99% - AUC Mean 91.63% - Deter 043\n",
      "Ite 00300 - 0.13 sec - Loss 0.023162 - ACC 85.00% - ACC Mean 84.19% - AUC 91.40% - AUC Mean 91.70% - Deter 046\n",
      "Ite 00350 - 0.14 sec - Loss 0.022391 - ACC 84.70% - ACC Mean 84.44% - AUC 91.27% - AUC Mean 91.29% - Deter 096\n",
      "Ite 00400 - 0.14 sec - Loss 0.021921 - ACC 84.60% - ACC Mean 84.33% - AUC 92.13% - AUC Mean 91.33% - Deter 000\n",
      "Ite 00450 - 0.10 sec - Loss 0.021553 - ACC 84.09% - ACC Mean 84.15% - AUC 90.74% - AUC Mean 91.14% - Deter 050\n",
      "Ite 00500 - 0.09 sec - Loss 0.021150 - ACC 84.16% - ACC Mean 83.91% - AUC 91.30% - AUC Mean 91.09% - Deter 100\n",
      "Ite 00550 - 0.13 sec - Loss 0.020709 - ACC 83.95% - ACC Mean 83.97% - AUC 91.50% - AUC Mean 91.37% - Deter 150\n",
      "Ite 00600 - 0.13 sec - Loss 0.020089 - ACC 85.63% - ACC Mean 84.29% - AUC 91.43% - AUC Mean 91.39% - Deter 200\n",
      "Ite 00650 - 0.10 sec - Loss 0.019344 - ACC 85.63% - ACC Mean 84.95% - AUC 91.43% - AUC Mean 91.54% - Deter 003\n",
      "Ite 00700 - 0.09 sec - Loss 0.018497 - ACC 85.63% - ACC Mean 85.06% - AUC 91.48% - AUC Mean 91.46% - Deter 053\n",
      "Ite 00750 - 0.15 sec - Loss 0.017669 - ACC 85.07% - ACC Mean 84.52% - AUC 91.31% - AUC Mean 91.39% - Deter 103\n",
      "Ite 00800 - 0.16 sec - Loss 0.016859 - ACC 84.60% - ACC Mean 84.31% - AUC 91.39% - AUC Mean 91.43% - Deter 153\n",
      "Ite 00850 - 0.11 sec - Loss 0.016119 - ACC 84.29% - ACC Mean 84.69% - AUC 91.52% - AUC Mean 91.44% - Deter 203\n",
      "Ite 00900 - 0.09 sec - Loss 0.015483 - ACC 83.74% - ACC Mean 85.10% - AUC 92.44% - AUC Mean 91.69% - Deter 006\n",
      "Ite 00950 - 0.09 sec - Loss 0.014930 - ACC 85.14% - ACC Mean 85.07% - AUC 91.22% - AUC Mean 91.81% - Deter 027\n",
      "Ite 01000 - 0.20 sec - Loss 0.014422 - ACC 85.30% - ACC Mean 84.91% - AUC 91.09% - AUC Mean 91.72% - Deter 077\n",
      "Ite 01050 - 0.09 sec - Loss 0.013996 - ACC 86.51% - ACC Mean 85.20% - AUC 92.32% - AUC Mean 91.87% - Deter 127\n",
      "Ite 01100 - 0.09 sec - Loss 0.013589 - ACC 86.48% - ACC Mean 85.39% - AUC 92.56% - AUC Mean 92.12% - Deter 177\n",
      "Ite 01150 - 0.13 sec - Loss 0.013203 - ACC 86.16% - ACC Mean 85.88% - AUC 92.41% - AUC Mean 92.20% - Deter 227\n",
      "Ite 01200 - 0.14 sec - Loss 0.012862 - ACC 87.56% - ACC Mean 86.86% - AUC 92.93% - AUC Mean 92.77% - Deter 002\n",
      "Ite 01250 - 0.12 sec - Loss 0.012559 - ACC 86.26% - ACC Mean 87.06% - AUC 92.56% - AUC Mean 92.74% - Deter 052\n",
      "Ite 01300 - 0.11 sec - Loss 0.012265 - ACC 88.88% - ACC Mean 87.28% - AUC 93.30% - AUC Mean 92.88% - Deter 102\n",
      "Ite 01350 - 0.16 sec - Loss 0.011991 - ACC 87.70% - ACC Mean 86.87% - AUC 93.61% - AUC Mean 92.62% - Deter 152\n",
      "Ite 01400 - 0.10 sec - Loss 0.011735 - ACC 87.68% - ACC Mean 86.70% - AUC 93.85% - AUC Mean 92.64% - Deter 202\n",
      "Ite 01450 - 0.14 sec - Loss 0.011484 - ACC 86.71% - ACC Mean 86.69% - AUC 94.25% - AUC Mean 92.99% - Deter 024\n",
      "Ite 01500 - 0.14 sec - Loss 0.011220 - ACC 85.33% - ACC Mean 86.13% - AUC 93.09% - AUC Mean 92.56% - Deter 074\n",
      "Ite 01550 - 0.09 sec - Loss 0.010949 - ACC 85.53% - ACC Mean 86.64% - AUC 91.45% - AUC Mean 92.63% - Deter 124\n",
      "Ite 01600 - 0.09 sec - Loss 0.010693 - ACC 86.73% - ACC Mean 86.39% - AUC 92.78% - AUC Mean 92.42% - Deter 174\n",
      "Ite 01650 - 0.09 sec - Loss 0.010455 - ACC 87.42% - ACC Mean 86.46% - AUC 92.41% - AUC Mean 92.61% - Deter 224\n",
      "Ite 01700 - 0.12 sec - Loss 0.010209 - ACC 86.83% - ACC Mean 85.85% - AUC 92.86% - AUC Mean 92.37% - Deter 274\n",
      "Ite 01750 - 0.13 sec - Loss 0.009991 - ACC 84.86% - ACC Mean 85.93% - AUC 92.89% - AUC Mean 92.42% - Deter 324\n",
      "Ite 01800 - 0.13 sec - Loss 0.009773 - ACC 85.98% - ACC Mean 86.19% - AUC 92.86% - AUC Mean 92.52% - Deter 374\n",
      "Ite 01826 - 0.14 sec - Loss 0.009678 - ACC 85.77% - ACC Mean 86.00% - AUC 92.18% - AUC Mean 92.55% - Deter 400\n",
      "Early stop ite 1826, rollback to correction of ite 1426, whith acc of 88.97% and auc of 94.74%\n",
      "OUR METHOD RUN 2/10 - acc: 88.97% +- 0.0% - auc: 94.74% +- 0.0%\n",
      "Ite 00000 - 0.19 sec - Loss 0.104005 - ACC 85.31% - ACC Mean 85.31% - AUC 90.24% - AUC Mean 90.24% - Deter 000\n",
      "Ite 00050 - 0.18 sec - Loss 0.098025 - ACC 85.27% - ACC Mean 85.02% - AUC 90.74% - AUC Mean 90.58% - Deter 031\n",
      "Ite 00100 - 0.10 sec - Loss 0.082832 - ACC 84.66% - ACC Mean 84.78% - AUC 90.16% - AUC Mean 90.41% - Deter 081\n",
      "Ite 00150 - 0.12 sec - Loss 0.053651 - ACC 84.21% - ACC Mean 83.97% - AUC 90.55% - AUC Mean 90.54% - Deter 131\n",
      "Ite 00200 - 0.15 sec - Loss 0.032521 - ACC 83.60% - ACC Mean 85.05% - AUC 90.74% - AUC Mean 91.13% - Deter 001\n",
      "Ite 00250 - 0.13 sec - Loss 0.025379 - ACC 85.12% - ACC Mean 85.16% - AUC 91.19% - AUC Mean 91.27% - Deter 051\n",
      "Ite 00300 - 0.14 sec - Loss 0.023085 - ACC 85.07% - ACC Mean 85.14% - AUC 91.35% - AUC Mean 91.52% - Deter 101\n",
      "Ite 00350 - 0.09 sec - Loss 0.022119 - ACC 85.68% - ACC Mean 84.93% - AUC 91.59% - AUC Mean 91.67% - Deter 007\n",
      "Ite 00400 - 0.10 sec - Loss 0.021536 - ACC 84.91% - ACC Mean 85.39% - AUC 91.47% - AUC Mean 91.87% - Deter 057\n",
      "Ite 00450 - 0.16 sec - Loss 0.021051 - ACC 85.98% - ACC Mean 85.90% - AUC 92.51% - AUC Mean 91.80% - Deter 002\n",
      "Ite 00500 - 0.09 sec - Loss 0.020564 - ACC 86.24% - ACC Mean 85.86% - AUC 91.83% - AUC Mean 91.61% - Deter 052\n",
      "Ite 00550 - 0.14 sec - Loss 0.020059 - ACC 85.02% - ACC Mean 85.26% - AUC 91.05% - AUC Mean 91.44% - Deter 102\n",
      "Ite 00600 - 0.10 sec - Loss 0.019447 - ACC 85.37% - ACC Mean 84.69% - AUC 91.88% - AUC Mean 91.24% - Deter 152\n",
      "Ite 00650 - 0.11 sec - Loss 0.018790 - ACC 85.14% - ACC Mean 84.68% - AUC 90.28% - AUC Mean 90.89% - Deter 002\n",
      "Ite 00700 - 0.11 sec - Loss 0.018092 - ACC 84.18% - ACC Mean 83.97% - AUC 89.95% - AUC Mean 90.91% - Deter 052\n",
      "Ite 00750 - 0.15 sec - Loss 0.017442 - ACC 84.05% - ACC Mean 84.44% - AUC 90.56% - AUC Mean 90.79% - Deter 102\n",
      "Ite 00800 - 0.11 sec - Loss 0.016828 - ACC 83.34% - ACC Mean 84.35% - AUC 90.36% - AUC Mean 90.74% - Deter 152\n",
      "Ite 00850 - 0.14 sec - Loss 0.016284 - ACC 82.67% - ACC Mean 85.00% - AUC 90.47% - AUC Mean 90.83% - Deter 202\n",
      "Ite 00900 - 0.18 sec - Loss 0.015799 - ACC 86.68% - ACC Mean 85.17% - AUC 91.17% - AUC Mean 91.03% - Deter 252\n",
      "Ite 00950 - 0.12 sec - Loss 0.015349 - ACC 85.30% - ACC Mean 85.36% - AUC 91.69% - AUC Mean 91.29% - Deter 302\n",
      "Ite 01000 - 0.12 sec - Loss 0.014915 - ACC 86.12% - ACC Mean 85.33% - AUC 91.62% - AUC Mean 91.54% - Deter 352\n",
      "Ite 01048 - 0.20 sec - Loss 0.014571 - ACC 84.35% - ACC Mean 85.19% - AUC 91.72% - AUC Mean 91.60% - Deter 400\n",
      "Early stop ite 1048, rollback to correction of ite 648, whith acc of 87.2% and auc of 93.39%\n",
      "OUR METHOD RUN 3/10 - acc: 87.2% +- 0.0% - auc: 93.39% +- 0.0%\n",
      "Ite 00000 - 0.12 sec - Loss 0.104380 - ACC 84.15% - ACC Mean 84.15% - AUC 91.18% - AUC Mean 91.18% - Deter 000\n",
      "Ite 00050 - 0.10 sec - Loss 0.096401 - ACC 83.80% - ACC Mean 84.65% - AUC 90.06% - AUC Mean 90.58% - Deter 007\n",
      "Ite 00100 - 0.29 sec - Loss 0.077916 - ACC 84.96% - ACC Mean 85.23% - AUC 90.18% - AUC Mean 90.78% - Deter 043\n",
      "Ite 00150 - 0.12 sec - Loss 0.049324 - ACC 83.95% - ACC Mean 84.09% - AUC 91.79% - AUC Mean 91.12% - Deter 093\n",
      "Ite 00200 - 0.14 sec - Loss 0.031185 - ACC 84.16% - ACC Mean 85.19% - AUC 91.19% - AUC Mean 91.69% - Deter 010\n",
      "Ite 00250 - 0.12 sec - Loss 0.025132 - ACC 84.25% - ACC Mean 85.00% - AUC 91.97% - AUC Mean 91.83% - Deter 060\n",
      "Ite 00300 - 0.11 sec - Loss 0.023093 - ACC 84.00% - ACC Mean 84.49% - AUC 91.68% - AUC Mean 91.80% - Deter 110\n",
      "Ite 00350 - 0.13 sec - Loss 0.022191 - ACC 84.56% - ACC Mean 84.52% - AUC 92.19% - AUC Mean 91.93% - Deter 160\n",
      "Ite 00400 - 0.17 sec - Loss 0.021638 - ACC 84.56% - ACC Mean 84.35% - AUC 92.19% - AUC Mean 91.91% - Deter 210\n",
      "Ite 00450 - 0.13 sec - Loss 0.021206 - ACC 84.30% - ACC Mean 84.30% - AUC 91.36% - AUC Mean 91.77% - Deter 260\n",
      "Ite 00500 - 0.10 sec - Loss 0.020782 - ACC 84.30% - ACC Mean 84.23% - AUC 91.71% - AUC Mean 91.56% - Deter 310\n",
      "Ite 00550 - 0.17 sec - Loss 0.020360 - ACC 84.30% - ACC Mean 84.18% - AUC 91.80% - AUC Mean 91.55% - Deter 360\n",
      "Ite 00590 - 0.12 sec - Loss 0.019940 - ACC 83.39% - ACC Mean 83.99% - AUC 91.59% - AUC Mean 91.51% - Deter 400\n",
      "Early stop ite 590, rollback to correction of ite 190, whith acc of 85.89% and auc of 92.4%\n",
      "OUR METHOD RUN 4/10 - acc: 85.89% +- 0.0% - auc: 92.4% +- 0.0%\n",
      "Ite 00000 - 0.14 sec - Loss 0.105125 - ACC 84.36% - ACC Mean 84.36% - AUC 91.01% - AUC Mean 91.01% - Deter 000\n",
      "Ite 00050 - 0.14 sec - Loss 0.097928 - ACC 83.72% - ACC Mean 84.70% - AUC 90.53% - AUC Mean 90.37% - Deter 049\n",
      "Ite 00100 - 0.12 sec - Loss 0.079921 - ACC 83.75% - ACC Mean 84.34% - AUC 89.99% - AUC Mean 90.46% - Deter 099\n",
      "Ite 00150 - 0.09 sec - Loss 0.048967 - ACC 83.49% - ACC Mean 84.17% - AUC 90.21% - AUC Mean 90.41% - Deter 149\n",
      "Ite 00200 - 0.16 sec - Loss 0.029469 - ACC 85.02% - ACC Mean 84.05% - AUC 91.69% - AUC Mean 91.06% - Deter 003\n",
      "Ite 00250 - 0.12 sec - Loss 0.024111 - ACC 85.63% - ACC Mean 85.54% - AUC 91.44% - AUC Mean 91.63% - Deter 053\n",
      "Ite 00300 - 0.10 sec - Loss 0.022597 - ACC 85.58% - ACC Mean 85.64% - AUC 92.24% - AUC Mean 92.15% - Deter 103\n",
      "Ite 00350 - 0.12 sec - Loss 0.021937 - ACC 85.68% - ACC Mean 85.56% - AUC 91.84% - AUC Mean 92.07% - Deter 153\n",
      "Ite 00400 - 0.12 sec - Loss 0.021506 - ACC 84.42% - ACC Mean 85.21% - AUC 91.34% - AUC Mean 91.70% - Deter 203\n",
      "Ite 00450 - 0.11 sec - Loss 0.021115 - ACC 84.16% - ACC Mean 84.68% - AUC 91.18% - AUC Mean 91.38% - Deter 253\n",
      "Ite 00500 - 0.11 sec - Loss 0.020689 - ACC 84.72% - ACC Mean 84.61% - AUC 91.50% - AUC Mean 91.37% - Deter 303\n",
      "Ite 00550 - 0.13 sec - Loss 0.020212 - ACC 84.16% - ACC Mean 84.45% - AUC 91.18% - AUC Mean 91.33% - Deter 353\n",
      "Ite 00597 - 0.16 sec - Loss 0.019653 - ACC 83.86% - ACC Mean 84.23% - AUC 91.11% - AUC Mean 91.20% - Deter 400\n",
      "Early stop ite 597, rollback to correction of ite 197, whith acc of 85.89% and auc of 92.37%\n",
      "OUR METHOD RUN 5/10 - acc: 85.89% +- 0.0% - auc: 92.37% +- 0.0%\n",
      "Ite 00000 - 0.16 sec - Loss 0.104090 - ACC 84.05% - ACC Mean 84.05% - AUC 90.01% - AUC Mean 90.01% - Deter 000\n",
      "Ite 00050 - 0.16 sec - Loss 0.097696 - ACC 85.30% - ACC Mean 85.50% - AUC 91.07% - AUC Mean 90.78% - Deter 004\n",
      "Ite 00100 - 0.13 sec - Loss 0.082261 - ACC 84.96% - ACC Mean 85.61% - AUC 90.80% - AUC Mean 90.93% - Deter 054\n",
      "Ite 00150 - 0.15 sec - Loss 0.053070 - ACC 84.00% - ACC Mean 84.68% - AUC 90.91% - AUC Mean 90.58% - Deter 104\n",
      "Ite 00200 - 0.14 sec - Loss 0.031542 - ACC 85.33% - ACC Mean 84.78% - AUC 91.84% - AUC Mean 91.61% - Deter 154\n",
      "Ite 00250 - 0.10 sec - Loss 0.024764 - ACC 83.91% - ACC Mean 85.08% - AUC 91.69% - AUC Mean 91.93% - Deter 204\n",
      "Ite 00300 - 0.09 sec - Loss 0.022842 - ACC 83.70% - ACC Mean 84.20% - AUC 91.86% - AUC Mean 91.83% - Deter 254\n",
      "Ite 00350 - 0.13 sec - Loss 0.021982 - ACC 83.70% - ACC Mean 83.74% - AUC 91.86% - AUC Mean 91.87% - Deter 304\n",
      "Ite 00400 - 0.10 sec - Loss 0.021410 - ACC 84.09% - ACC Mean 83.47% - AUC 90.81% - AUC Mean 91.28% - Deter 354\n",
      "Ite 00446 - 0.17 sec - Loss 0.020946 - ACC 83.49% - ACC Mean 83.77% - AUC 90.43% - AUC Mean 90.65% - Deter 400\n",
      "Early stop ite 446, rollback to correction of ite 46, whith acc of 86.98% and auc of 92.73%\n",
      "OUR METHOD RUN 6/10 - acc: 86.98% +- 0.0% - auc: 92.73% +- 0.0%\n",
      "Ite 00000 - 0.18 sec - Loss 0.103758 - ACC 82.63% - ACC Mean 82.63% - AUC 89.89% - AUC Mean 89.89% - Deter 000\n",
      "Ite 00050 - 0.16 sec - Loss 0.096348 - ACC 84.40% - ACC Mean 84.18% - AUC 90.38% - AUC Mean 89.75% - Deter 045\n",
      "Ite 00100 - 0.14 sec - Loss 0.077031 - ACC 85.31% - ACC Mean 84.93% - AUC 91.18% - AUC Mean 90.94% - Deter 006\n",
      "Ite 00150 - 0.11 sec - Loss 0.045555 - ACC 84.51% - ACC Mean 84.45% - AUC 91.28% - AUC Mean 91.27% - Deter 025\n",
      "Ite 00200 - 0.11 sec - Loss 0.028449 - ACC 85.33% - ACC Mean 85.22% - AUC 91.09% - AUC Mean 91.66% - Deter 019\n",
      "Ite 00250 - 0.15 sec - Loss 0.023817 - ACC 84.30% - ACC Mean 84.63% - AUC 91.42% - AUC Mean 91.48% - Deter 069\n",
      "Ite 00300 - 0.12 sec - Loss 0.022281 - ACC 83.79% - ACC Mean 84.22% - AUC 91.08% - AUC Mean 91.56% - Deter 119\n",
      "Ite 00350 - 0.18 sec - Loss 0.021421 - ACC 83.79% - ACC Mean 83.86% - AUC 90.93% - AUC Mean 90.83% - Deter 169\n",
      "Ite 00400 - 0.14 sec - Loss 0.020726 - ACC 84.79% - ACC Mean 84.00% - AUC 90.57% - AUC Mean 90.63% - Deter 219\n",
      "Ite 00450 - 0.13 sec - Loss 0.020042 - ACC 84.49% - ACC Mean 83.86% - AUC 90.44% - AUC Mean 90.36% - Deter 269\n",
      "Ite 00500 - 0.14 sec - Loss 0.019322 - ACC 83.10% - ACC Mean 83.13% - AUC 89.90% - AUC Mean 90.04% - Deter 319\n",
      "Ite 00550 - 0.13 sec - Loss 0.018606 - ACC 82.19% - ACC Mean 83.31% - AUC 89.94% - AUC Mean 89.82% - Deter 369\n",
      "Ite 00581 - 0.11 sec - Loss 0.018146 - ACC 85.06% - ACC Mean 83.64% - AUC 89.93% - AUC Mean 90.05% - Deter 400\n",
      "Early stop ite 581, rollback to correction of ite 181, whith acc of 85.89% and auc of 92.17%\n",
      "OUR METHOD RUN 7/10 - acc: 85.89% +- 0.0% - auc: 92.17% +- 0.0%\n",
      "Ite 00000 - 0.12 sec - Loss 0.104487 - ACC 85.27% - ACC Mean 85.27% - AUC 90.34% - AUC Mean 90.34% - Deter 000\n",
      "Ite 00050 - 0.18 sec - Loss 0.097535 - ACC 85.57% - ACC Mean 84.42% - AUC 90.74% - AUC Mean 90.24% - Deter 033\n",
      "Ite 00100 - 0.20 sec - Loss 0.082307 - ACC 84.40% - ACC Mean 84.37% - AUC 89.92% - AUC Mean 90.08% - Deter 083\n",
      "Ite 00150 - 0.23 sec - Loss 0.056383 - ACC 84.40% - ACC Mean 84.45% - AUC 90.95% - AUC Mean 90.07% - Deter 133\n",
      "Ite 00200 - 0.13 sec - Loss 0.034435 - ACC 85.07% - ACC Mean 83.86% - AUC 91.67% - AUC Mean 90.83% - Deter 183\n",
      "Ite 00250 - 0.14 sec - Loss 0.025735 - ACC 84.72% - ACC Mean 84.95% - AUC 91.39% - AUC Mean 91.82% - Deter 011\n",
      "Ite 00300 - 0.12 sec - Loss 0.023243 - ACC 84.72% - ACC Mean 85.08% - AUC 91.92% - AUC Mean 91.65% - Deter 061\n",
      "Ite 00350 - 0.11 sec - Loss 0.022352 - ACC 84.98% - ACC Mean 85.08% - AUC 92.11% - AUC Mean 92.03% - Deter 111\n",
      "Ite 00400 - 0.19 sec - Loss 0.021889 - ACC 84.98% - ACC Mean 85.07% - AUC 92.08% - AUC Mean 92.08% - Deter 161\n",
      "Ite 00450 - 0.11 sec - Loss 0.021556 - ACC 84.72% - ACC Mean 84.85% - AUC 91.94% - AUC Mean 92.02% - Deter 211\n",
      "Ite 00500 - 0.18 sec - Loss 0.021224 - ACC 85.02% - ACC Mean 84.84% - AUC 91.97% - AUC Mean 91.83% - Deter 261\n",
      "Ite 00550 - 0.16 sec - Loss 0.020887 - ACC 83.39% - ACC Mean 84.53% - AUC 91.71% - AUC Mean 91.66% - Deter 311\n",
      "Ite 00600 - 0.16 sec - Loss 0.020442 - ACC 83.65% - ACC Mean 83.89% - AUC 91.71% - AUC Mean 91.38% - Deter 361\n",
      "Ite 00639 - 0.19 sec - Loss 0.020032 - ACC 85.42% - ACC Mean 84.19% - AUC 91.69% - AUC Mean 91.43% - Deter 400\n",
      "Early stop ite 639, rollback to correction of ite 239, whith acc of 85.89% and auc of 92.4%\n",
      "OUR METHOD RUN 8/10 - acc: 85.89% +- 0.0% - auc: 92.4% +- 0.0%\n",
      "Ite 00000 - 0.12 sec - Loss 0.103298 - ACC 82.68% - ACC Mean 82.68% - AUC 89.93% - AUC Mean 89.93% - Deter 000\n",
      "Ite 00050 - 0.18 sec - Loss 0.096426 - ACC 82.94% - ACC Mean 83.65% - AUC 89.96% - AUC Mean 90.28% - Deter 001\n",
      "Ite 00100 - 0.25 sec - Loss 0.078321 - ACC 84.36% - ACC Mean 84.27% - AUC 90.46% - AUC Mean 90.41% - Deter 051\n",
      "Ite 00150 - 0.11 sec - Loss 0.047219 - ACC 84.46% - ACC Mean 83.93% - AUC 91.48% - AUC Mean 91.13% - Deter 101\n",
      "Ite 00200 - 0.13 sec - Loss 0.029145 - ACC 85.33% - ACC Mean 85.00% - AUC 91.09% - AUC Mean 91.42% - Deter 035\n",
      "Ite 00250 - 0.15 sec - Loss 0.024159 - ACC 83.91% - ACC Mean 84.81% - AUC 91.01% - AUC Mean 91.30% - Deter 085\n",
      "Ite 00300 - 0.16 sec - Loss 0.022650 - ACC 84.30% - ACC Mean 84.05% - AUC 90.63% - AUC Mean 90.91% - Deter 135\n",
      "Ite 00350 - 0.17 sec - Loss 0.021956 - ACC 83.39% - ACC Mean 83.91% - AUC 91.25% - AUC Mean 90.96% - Deter 185\n",
      "Ite 00400 - 0.15 sec - Loss 0.021489 - ACC 83.39% - ACC Mean 84.10% - AUC 91.27% - AUC Mean 90.76% - Deter 235\n",
      "Ite 00450 - 0.14 sec - Loss 0.021077 - ACC 83.09% - ACC Mean 83.73% - AUC 90.28% - AUC Mean 90.65% - Deter 285\n",
      "Ite 00500 - 0.11 sec - Loss 0.020644 - ACC 84.16% - ACC Mean 83.97% - AUC 91.28% - AUC Mean 91.13% - Deter 335\n",
      "Ite 00550 - 0.21 sec - Loss 0.020172 - ACC 83.70% - ACC Mean 83.95% - AUC 91.15% - AUC Mean 91.27% - Deter 385\n",
      "Ite 00565 - 0.19 sec - Loss 0.019993 - ACC 83.70% - ACC Mean 83.90% - AUC 91.91% - AUC Mean 91.30% - Deter 400\n",
      "Early stop ite 565, rollback to correction of ite 165, whith acc of 85.28% and auc of 92.16%\n",
      "OUR METHOD RUN 9/10 - acc: 85.28% +- 0.0% - auc: 92.16% +- 0.0%\n",
      "Ite 00000 - 0.11 sec - Loss 0.103247 - ACC 83.12% - ACC Mean 83.12% - AUC 90.76% - AUC Mean 90.76% - Deter 000\n",
      "Ite 00050 - 0.16 sec - Loss 0.096560 - ACC 85.92% - ACC Mean 85.54% - AUC 91.28% - AUC Mean 91.14% - Deter 026\n",
      "Ite 00100 - 0.18 sec - Loss 0.080054 - ACC 84.05% - ACC Mean 84.86% - AUC 90.97% - AUC Mean 90.77% - Deter 076\n",
      "Ite 00150 - 0.16 sec - Loss 0.052258 - ACC 84.31% - ACC Mean 84.46% - AUC 90.27% - AUC Mean 90.64% - Deter 126\n",
      "Ite 00200 - 0.18 sec - Loss 0.032939 - ACC 84.00% - ACC Mean 84.44% - AUC 91.19% - AUC Mean 91.64% - Deter 176\n",
      "Ite 00250 - 0.09 sec - Loss 0.026071 - ACC 84.60% - ACC Mean 84.23% - AUC 91.47% - AUC Mean 91.50% - Deter 226\n",
      "Ite 00300 - 0.13 sec - Loss 0.023718 - ACC 84.60% - ACC Mean 84.48% - AUC 91.93% - AUC Mean 91.57% - Deter 276\n",
      "Ite 00350 - 0.10 sec - Loss 0.022706 - ACC 84.60% - ACC Mean 84.57% - AUC 91.95% - AUC Mean 91.90% - Deter 326\n",
      "Ite 00400 - 0.13 sec - Loss 0.022139 - ACC 83.70% - ACC Mean 84.41% - AUC 91.57% - AUC Mean 91.84% - Deter 376\n",
      "Ite 00424 - 0.15 sec - Loss 0.021925 - ACC 84.00% - ACC Mean 84.13% - AUC 91.94% - AUC Mean 91.83% - Deter 400\n",
      "Early stop ite 424, rollback to correction of ite 24, whith acc of 87.7% and auc of 92.46%\n",
      "OUR METHOD RUN 10/10 - acc: 87.7% +- 0.0% - auc: 92.46% +- 0.0%\n",
      "\n",
      "OUR METHOD GLOBAL - acc: 86.84% +- 1.23% - auc: 92.95% +- 0.93%\n"
     ]
    }
   ],
   "source": [
    "params = {\n",
    "    'nb_batches': 10,\n",
    "    'reg_noise_std': .03,\n",
    "    'net_input': 'data_corrupted',\n",
    "    'net_params': [80, 80],\n",
    "    'adam_lr': .0001,\n",
    "    'adam_weight_decay': 0.,\n",
    "}\n",
    "\n",
    "ours_accs, ours_aucs = [], []\n",
    "for i in range(n_runs):\n",
    "    ours_correction = correction.run(data_missing, 4001, params, y=y, missing_mask=missing_mask, seed=i)\n",
    "    ## Since our method returns 2 imputations select the best one\n",
    "    scores_raw = utils.get_scores(ours_correction['raw_out'], y)\n",
    "    acc = scores_raw['test_balanced_accuracy']\n",
    "    auc = scores_raw['test_roc_auc_ovo']\n",
    "    acc = acc.mean()\n",
    "    acc_std = acc.std()\n",
    "    auc = auc.mean()\n",
    "    auc_std = auc.std()\n",
    "    if 'masked_out' in ours_correction:\n",
    "        scores_masked = utils.get_scores(ours_correction['masked_out'], y)\n",
    "        acc_masked = scores_masked['test_balanced_accuracy']\n",
    "        auc_masked = scores_masked['test_roc_auc_ovo']\n",
    "        if auc_masked.mean() > auc:\n",
    "            acc = acc_masked.mean()\n",
    "            acc_std = acc_masked.std()\n",
    "            auc = auc_masked.mean()\n",
    "            auc_std = auc_masked.std()\n",
    "    print(f'OUR METHOD RUN {i + 1}/{n_runs} - acc: {round(acc.mean() * 100, 2)}% +- {round(acc.std() * 100, 2)}% - ' +\n",
    "          f'auc: {round(auc.mean() * 100, 2)}% +- {round(auc.std() * 100, 2)}%')\n",
    "    ours_accs.append(acc.mean())\n",
    "    ours_aucs.append(auc.mean())\n",
    "print(f'\\nOUR METHOD GLOBAL - acc: {round(np.array(ours_accs).mean() * 100, 2)}% +- {round(np.array(ours_accs).std() * 100, 2)}% - ' +\n",
    "      f'auc: {round(np.array(ours_aucs).mean() * 100, 2)}% +- {round(np.array(ours_aucs).std() * 100, 2)}%')"
   ]
  },
  {
   "cell_type": "markdown",
   "metadata": {},
   "source": [
    "## Run Median, Mean and KNN"
   ]
  },
  {
   "cell_type": "code",
   "execution_count": 5,
   "metadata": {
    "ExecuteTime": {
     "end_time": "2022-06-03T08:48:09.350679Z",
     "start_time": "2022-06-03T08:48:09.350666Z"
    },
    "execution": {
     "iopub.execute_input": "2022-06-03T09:16:15.919915Z",
     "iopub.status.busy": "2022-06-03T09:16:15.919370Z",
     "iopub.status.idle": "2022-06-03T09:16:16.297923Z",
     "shell.execute_reply": "2022-06-03T09:16:16.298255Z"
    }
   },
   "outputs": [
    {
     "name": "stdout",
     "output_type": "stream",
     "text": [
      "MEDIAN - acc: 83.47% +- 0.0% - auc: 90.52% +- 0.0%\n",
      "MEAN - acc: 85.91% +- 0.0% - auc: 91.2% +- 0.0%\n",
      "KNN - acc: 88.08% +- 0.0% - auc: 91.53% +- 0.0%\n"
     ]
    }
   ],
   "source": [
    "data_missing_nans = np.where(missing_mask, data_missing, np.nan)\n",
    "\n",
    "median_imputer = SimpleImputer(missing_values=np.nan, strategy='median')\n",
    "mean_imputer = SimpleImputer(missing_values=np.nan, strategy='mean')\n",
    "knn_imputer = KNNImputer(n_neighbors=10, weights='uniform')\n",
    "\n",
    "median_completed = median_imputer.fit_transform(data_missing_nans)\n",
    "mean_completed = mean_imputer.fit_transform(data_missing_nans)\n",
    "knn_completed = knn_imputer.fit_transform(data_missing_nans)\n",
    "\n",
    "## All runs would be the same since deterministic methods\n",
    "scores = utils.get_scores(median_completed, y)\n",
    "acc = [scores['test_balanced_accuracy'].mean()] * n_runs\n",
    "auc = [scores['test_roc_auc_ovo'].mean()] * n_runs\n",
    "print(f'MEDIAN - acc: {round(np.mean(acc) * 100, 2)}% +- {round(np.std(acc) * 100, 2)}% - ' +\n",
    "      f'auc: {round(np.mean(auc) * 100, 2)}% +- {round(np.std(auc) * 100, 2)}%')\n",
    "median_accs = acc\n",
    "median_aucs = auc\n",
    "\n",
    "scores = utils.get_scores(mean_completed, y)\n",
    "acc = [scores['test_balanced_accuracy'].mean()] * n_runs\n",
    "auc = [scores['test_roc_auc_ovo'].mean()] * n_runs\n",
    "print(f'MEAN - acc: {round(np.mean(acc) * 100, 2)}% +- {round(np.std(acc) * 100, 2)}% - ' +\n",
    "      f'auc: {round(np.mean(auc) * 100, 2)}% +- {round(np.std(auc) * 100, 2)}%')\n",
    "mean_accs = acc\n",
    "mean_aucs = auc\n",
    "\n",
    "scores = utils.get_scores(knn_completed, y)\n",
    "acc = [scores['test_balanced_accuracy'].mean()] * n_runs\n",
    "auc = [scores['test_roc_auc_ovo'].mean()] * n_runs\n",
    "print(f'KNN - acc: {round(np.mean(acc) * 100, 2)}% +- {round(np.std(acc) * 100, 2)}% - ' +\n",
    "      f'auc: {round(np.mean(auc) * 100, 2)}% +- {round(np.std(auc) * 100, 2)}%')\n",
    "knn_accs = acc\n",
    "knn_aucs = auc"
   ]
  },
  {
   "cell_type": "markdown",
   "metadata": {},
   "source": [
    "## Run GAIN"
   ]
  },
  {
   "cell_type": "code",
   "execution_count": 6,
   "metadata": {
    "ExecuteTime": {
     "end_time": "2022-06-03T08:48:09.353446Z",
     "start_time": "2022-06-03T08:48:09.353433Z"
    },
    "execution": {
     "iopub.execute_input": "2022-06-03T09:16:16.307775Z",
     "iopub.status.busy": "2022-06-03T09:16:16.307311Z",
     "iopub.status.idle": "2022-06-03T09:23:30.250031Z",
     "shell.execute_reply": "2022-06-03T09:23:30.250580Z"
    },
    "scrolled": false
   },
   "outputs": [
    {
     "name": "stderr",
     "output_type": "stream",
     "text": [
      "100%|██████████| 5000/5000 [00:45<00:00, 109.71it/s]\n"
     ]
    },
    {
     "name": "stdout",
     "output_type": "stream",
     "text": [
      "\n",
      "GAIN RUN 1/10 - acc: 86.53% +- 1.27% - auc: 90.97% +- 2.93%\n",
      "\n"
     ]
    },
    {
     "name": "stderr",
     "output_type": "stream",
     "text": [
      "100%|██████████| 5000/5000 [00:45<00:00, 110.55it/s]\n"
     ]
    },
    {
     "name": "stdout",
     "output_type": "stream",
     "text": [
      "\n",
      "GAIN RUN 2/10 - acc: 85.89% +- 2.73% - auc: 90.09% +- 2.92%\n",
      "\n"
     ]
    },
    {
     "name": "stderr",
     "output_type": "stream",
     "text": [
      "100%|██████████| 5000/5000 [00:45<00:00, 110.24it/s]\n"
     ]
    },
    {
     "name": "stdout",
     "output_type": "stream",
     "text": [
      "\n",
      "GAIN RUN 3/10 - acc: 84.87% +- 2.18% - auc: 90.98% +- 2.47%\n",
      "\n"
     ]
    },
    {
     "name": "stderr",
     "output_type": "stream",
     "text": [
      "100%|██████████| 5000/5000 [00:46<00:00, 108.60it/s]\n"
     ]
    },
    {
     "name": "stdout",
     "output_type": "stream",
     "text": [
      "\n",
      "GAIN RUN 4/10 - acc: 84.11% +- 6.49% - auc: 90.86% +- 3.0%\n",
      "\n"
     ]
    },
    {
     "name": "stderr",
     "output_type": "stream",
     "text": [
      "100%|██████████| 5000/5000 [00:44<00:00, 113.56it/s]\n"
     ]
    },
    {
     "name": "stdout",
     "output_type": "stream",
     "text": [
      "\n",
      "GAIN RUN 5/10 - acc: 86.24% +- 3.54% - auc: 92.52% +- 2.03%\n",
      "\n"
     ]
    },
    {
     "name": "stderr",
     "output_type": "stream",
     "text": [
      "100%|██████████| 5000/5000 [00:39<00:00, 127.86it/s]\n"
     ]
    },
    {
     "name": "stdout",
     "output_type": "stream",
     "text": [
      "\n",
      "GAIN RUN 6/10 - acc: 83.77% +- 4.71% - auc: 91.16% +- 2.74%\n",
      "\n"
     ]
    },
    {
     "name": "stderr",
     "output_type": "stream",
     "text": [
      "100%|██████████| 5000/5000 [00:37<00:00, 134.99it/s]\n"
     ]
    },
    {
     "name": "stdout",
     "output_type": "stream",
     "text": [
      "\n",
      "GAIN RUN 7/10 - acc: 85.08% +- 2.11% - auc: 91.68% +- 1.17%\n",
      "\n"
     ]
    },
    {
     "name": "stderr",
     "output_type": "stream",
     "text": [
      "100%|██████████| 5000/5000 [00:34<00:00, 143.42it/s]\n"
     ]
    },
    {
     "name": "stdout",
     "output_type": "stream",
     "text": [
      "\n",
      "GAIN RUN 8/10 - acc: 84.13% +- 3.33% - auc: 91.05% +- 1.45%\n",
      "\n"
     ]
    },
    {
     "name": "stderr",
     "output_type": "stream",
     "text": [
      "100%|██████████| 5000/5000 [00:37<00:00, 133.83it/s]\n"
     ]
    },
    {
     "name": "stdout",
     "output_type": "stream",
     "text": [
      "\n",
      "GAIN RUN 9/10 - acc: 85.83% +- 2.34% - auc: 91.75% +- 1.44%\n",
      "\n"
     ]
    },
    {
     "name": "stderr",
     "output_type": "stream",
     "text": [
      "100%|██████████| 5000/5000 [00:37<00:00, 132.79it/s]\n"
     ]
    },
    {
     "name": "stdout",
     "output_type": "stream",
     "text": [
      "\n",
      "GAIN RUN 10/10 - acc: 84.92% +- 3.86% - auc: 92.54% +- 1.87%\n",
      "\n",
      "GAIN GLOBAL - acc: 85.14% +- 0.91% - auc: 91.36% +- 0.73%\n"
     ]
    }
   ],
   "source": [
    "gain_parameters = {'batch_size': 128,\n",
    "                   'hint_rate': .9,\n",
    "                   'alpha': 100,\n",
    "                   'iterations': 5000}\n",
    "\n",
    "gain_accs, gain_aucs = [], []\n",
    "for i in range(n_runs):\n",
    "    random.seed(i)\n",
    "    np.random.seed(i)\n",
    "    torch.manual_seed(i)\n",
    "    imputed = gain(data_missing_nans, gain_parameters)\n",
    "    scores = utils.get_scores(imputed, y)\n",
    "    acc = scores['test_balanced_accuracy']\n",
    "    auc = scores['test_roc_auc_ovo']\n",
    "    print(f'\\nGAIN RUN {i + 1}/{n_runs} - acc: {round(acc.mean() * 100, 2)}% +- {round(acc.std() * 100, 2)}% - ' +\n",
    "          f'auc: {round(auc.mean() * 100, 2)}% +- {round(auc.std() * 100, 2)}%\\n')\n",
    "    gain_accs.append(acc.mean())\n",
    "    gain_aucs.append(auc.mean())\n",
    "print(f'GAIN GLOBAL - acc: {round(np.array(gain_accs).mean() * 100, 2)}% +- {round(np.array(gain_accs).std() * 100, 2)}% - ' +\n",
    "      f'auc: {round(np.array(gain_aucs).mean() * 100, 2)}% +- {round(np.array(gain_aucs).std() * 100, 2)}%')"
   ]
  },
  {
   "cell_type": "markdown",
   "metadata": {},
   "source": [
    "## Run MICE"
   ]
  },
  {
   "cell_type": "code",
   "execution_count": 7,
   "metadata": {
    "ExecuteTime": {
     "end_time": "2022-06-03T08:48:09.354925Z",
     "start_time": "2022-06-03T08:48:09.354913Z"
    },
    "execution": {
     "iopub.execute_input": "2022-06-03T09:23:30.263654Z",
     "iopub.status.busy": "2022-06-03T09:23:30.263149Z",
     "iopub.status.idle": "2022-06-03T09:25:22.287983Z",
     "shell.execute_reply": "2022-06-03T09:25:22.288323Z"
    }
   },
   "outputs": [
    {
     "name": "stdout",
     "output_type": "stream",
     "text": [
      "MICE - acc: 87.98% +- 0.0% - auc: 92.43% +- 0.0%\n"
     ]
    }
   ],
   "source": [
    "imputer = IterativeImputer()\n",
    "imputed = imputer.fit_transform(data_missing_nans)\n",
    "## All runs would be the same since deterministic method\n",
    "scores = utils.get_scores(imputed, y)\n",
    "acc = [scores['test_balanced_accuracy'].mean()] * n_runs\n",
    "auc = [scores['test_roc_auc_ovo'].mean()] * n_runs\n",
    "print(f'MICE - acc: {round(np.mean(acc) * 100, 2)}% +- {round(np.std(acc) * 100, 2)}% - ' +\n",
    "      f'auc: {round(np.mean(auc) * 100, 2)}% +- {round(np.std(auc) * 100, 2)}%')\n",
    "mice_accs = acc\n",
    "mice_aucs = auc"
   ]
  },
  {
   "cell_type": "markdown",
   "metadata": {},
   "source": [
    "## Run MISSFOREST"
   ]
  },
  {
   "cell_type": "code",
   "execution_count": 8,
   "metadata": {
    "ExecuteTime": {
     "end_time": "2022-06-03T08:48:09.356759Z",
     "start_time": "2022-06-03T08:48:09.356740Z"
    },
    "execution": {
     "iopub.execute_input": "2022-06-03T09:25:22.305616Z",
     "iopub.status.busy": "2022-06-03T09:25:22.304942Z",
     "iopub.status.idle": "2022-06-03T10:56:02.107708Z",
     "shell.execute_reply": "2022-06-03T10:56:02.108765Z"
    },
    "scrolled": false
   },
   "outputs": [
    {
     "name": "stdout",
     "output_type": "stream",
     "text": [
      "Iteration: 0\n",
      "Iteration: 1\n",
      "Iteration: 2\n",
      "Iteration: 3\n",
      "Iteration: 4\n",
      "Iteration: 5\n",
      "Iteration: 6\n",
      "\n",
      "MISSFOREST RUN 1/10 - acc: 85.09% +- 5.73% - auc: 89.59% +- 5.09%\n",
      "\n",
      "Iteration: 0\n",
      "Iteration: 1\n",
      "Iteration: 2\n",
      "Iteration: 3\n",
      "Iteration: 4\n",
      "Iteration: 5\n",
      "Iteration: 6\n",
      "Iteration: 7\n",
      "Iteration: 8\n",
      "\n",
      "MISSFOREST RUN 2/10 - acc: 83.68% +- 6.02% - auc: 89.85% +- 3.83%\n",
      "\n",
      "Iteration: 0\n",
      "Iteration: 1\n",
      "Iteration: 2\n",
      "Iteration: 3\n",
      "Iteration: 4\n",
      "Iteration: 5\n",
      "Iteration: 6\n",
      "Iteration: 7\n",
      "\n",
      "MISSFOREST RUN 3/10 - acc: 87.17% +- 2.73% - auc: 91.73% +- 3.62%\n",
      "\n",
      "Iteration: 0\n",
      "Iteration: 1\n",
      "Iteration: 2\n",
      "Iteration: 3\n",
      "Iteration: 4\n",
      "Iteration: 5\n",
      "Iteration: 6\n",
      "\n",
      "MISSFOREST RUN 4/10 - acc: 83.63% +- 4.42% - auc: 90.95% +- 3.82%\n",
      "\n",
      "Iteration: 0\n",
      "Iteration: 1\n",
      "Iteration: 2\n",
      "Iteration: 3\n",
      "Iteration: 4\n",
      "Iteration: 5\n",
      "Iteration: 6\n",
      "Iteration: 7\n",
      "\n",
      "MISSFOREST RUN 5/10 - acc: 85.83% +- 2.83% - auc: 92.92% +- 1.26%\n",
      "\n",
      "Iteration: 0\n",
      "Iteration: 1\n",
      "Iteration: 2\n",
      "Iteration: 3\n",
      "Iteration: 4\n",
      "Iteration: 5\n",
      "Iteration: 6\n",
      "Iteration: 7\n",
      "Iteration: 8\n",
      "\n",
      "MISSFOREST RUN 6/10 - acc: 82.48% +- 7.18% - auc: 89.67% +- 3.97%\n",
      "\n",
      "Iteration: 0\n",
      "Iteration: 1\n",
      "Iteration: 2\n",
      "Iteration: 3\n",
      "Iteration: 4\n",
      "Iteration: 5\n",
      "Iteration: 6\n",
      "Iteration: 7\n",
      "\n",
      "MISSFOREST RUN 7/10 - acc: 83.53% +- 4.19% - auc: 91.36% +- 2.8%\n",
      "\n",
      "Iteration: 0\n",
      "Iteration: 1\n",
      "Iteration: 2\n",
      "Iteration: 3\n",
      "Iteration: 4\n",
      "Iteration: 5\n",
      "Iteration: 6\n",
      "Iteration: 7\n",
      "\n",
      "MISSFOREST RUN 8/10 - acc: 85.98% +- 3.94% - auc: 91.73% +- 3.3%\n",
      "\n",
      "Iteration: 0\n",
      "Iteration: 1\n",
      "Iteration: 2\n",
      "Iteration: 3\n",
      "Iteration: 4\n",
      "Iteration: 5\n",
      "Iteration: 6\n",
      "Iteration: 7\n",
      "\n",
      "MISSFOREST RUN 9/10 - acc: 87.84% +- 3.37% - auc: 92.13% +- 2.22%\n",
      "\n",
      "Iteration: 0\n",
      "Iteration: 1\n",
      "Iteration: 2\n",
      "Iteration: 3\n",
      "Iteration: 4\n",
      "Iteration: 5\n",
      "Iteration: 6\n",
      "Iteration: 7\n",
      "Iteration: 8\n",
      "\n",
      "MISSFOREST RUN 10/10 - acc: 86.28% +- 3.85% - auc: 93.04% +- 1.26%\n",
      "\n",
      "\n",
      "MISSFOREST GLOBAL - acc: 85.15% +- 1.67% - auc: 91.3% +- 1.2%\n"
     ]
    }
   ],
   "source": [
    "miss_accs, miss_aucs = [], []\n",
    "for i in range(n_runs):\n",
    "    random.seed(i)\n",
    "    np.random.seed(i)\n",
    "    torch.manual_seed(i)\n",
    "    imputer = MissForest(n_jobs=-1, random_state=i)\n",
    "    imputed = imputer.fit_transform(data_missing_nans)\n",
    "    scores = utils.get_scores(imputed, y)\n",
    "    acc = scores['test_balanced_accuracy']\n",
    "    auc = scores['test_roc_auc_ovo']\n",
    "    print(f'\\nMISSFOREST RUN {i + 1}/{n_runs} - acc: {round(acc.mean() * 100, 2)}% +- {round(acc.std() * 100, 2)}% - ' +\n",
    "          f'auc: {round(auc.mean() * 100, 2)}% +- {round(auc.std() * 100, 2)}%\\n')\n",
    "    miss_accs.append(acc.mean())\n",
    "    miss_aucs.append(auc.mean())\n",
    "print(f'\\nMISSFOREST GLOBAL - acc: {round(np.array(miss_accs).mean() * 100, 2)}% +- {round(np.array(miss_accs).std() * 100, 2)}% - ' +\n",
    "      f'auc: {round(np.array(miss_aucs).mean() * 100, 2)}% +- {round(np.array(miss_aucs).std() * 100, 2)}%')"
   ]
  },
  {
   "cell_type": "markdown",
   "metadata": {},
   "source": [
    "## Run SOFTIMPUTE"
   ]
  },
  {
   "cell_type": "code",
   "execution_count": 9,
   "metadata": {
    "ExecuteTime": {
     "end_time": "2022-06-03T08:48:09.359095Z",
     "start_time": "2022-06-03T08:48:09.359078Z"
    },
    "execution": {
     "iopub.execute_input": "2022-06-03T10:56:02.120042Z",
     "iopub.status.busy": "2022-06-03T10:56:02.119240Z",
     "iopub.status.idle": "2022-06-03T10:56:02.657562Z",
     "shell.execute_reply": "2022-06-03T10:56:02.657917Z"
    }
   },
   "outputs": [
    {
     "name": "stdout",
     "output_type": "stream",
     "text": [
      "SOFTIMPUTE RUN 1/10 - acc: 84.77% +- 6.0% - auc: 91.17% +- 3.65%\n",
      "SOFTIMPUTE RUN 2/10 - acc: 85.12% +- 4.79% - auc: 91.82% +- 1.55%\n",
      "SOFTIMPUTE RUN 3/10 - acc: 84.82% +- 6.18% - auc: 91.83% +- 3.87%\n",
      "SOFTIMPUTE RUN 4/10 - acc: 85.5% +- 5.94% - auc: 91.3% +- 3.96%\n",
      "SOFTIMPUTE RUN 5/10 - acc: 85.03% +- 6.1% - auc: 90.35% +- 3.57%\n",
      "SOFTIMPUTE RUN 6/10 - acc: 84.95% +- 4.49% - auc: 91.47% +- 3.57%\n",
      "SOFTIMPUTE RUN 7/10 - acc: 84.08% +- 1.68% - auc: 91.42% +- 2.31%\n",
      "SOFTIMPUTE RUN 8/10 - acc: 83.14% +- 7.13% - auc: 89.42% +- 3.96%\n",
      "SOFTIMPUTE RUN 9/10 - acc: 83.09% +- 5.92% - auc: 90.07% +- 3.65%\n",
      "SOFTIMPUTE RUN 10/10 - acc: 84.3% +- 5.21% - auc: 92.31% +- 3.77%\n",
      "\n",
      "SOFTIMPUTE GLOBAL - acc: 84.48% +- 0.78% - auc: 91.12% +- 0.85%\n"
     ]
    }
   ],
   "source": [
    "soft_accs, soft_aucs = [], []\n",
    "for i in range(n_runs):\n",
    "    random.seed(i)\n",
    "    np.random.seed(i)\n",
    "    torch.manual_seed(i)\n",
    "    imputer = SoftImpute(random_state=i)\n",
    "    imputer.fit(data_missing_nans)\n",
    "    imputed = imputer.predict(data_missing_nans)\n",
    "    imputed = np.where(missing_mask, data_missing, imputed)\n",
    "    scores = utils.get_scores(imputed, y)\n",
    "    acc = scores['test_balanced_accuracy']\n",
    "    auc = scores['test_roc_auc_ovo']\n",
    "    print(f'SOFTIMPUTE RUN {i + 1}/{n_runs} - acc: {round(acc.mean() * 100, 2)}% +- {round(acc.std() * 100, 2)}% - ' +\n",
    "          f'auc: {round(auc.mean() * 100, 2)}% +- {round(auc.std() * 100, 2)}%')\n",
    "    soft_accs.append(acc.mean())\n",
    "    soft_aucs.append(auc.mean())\n",
    "print(f'\\nSOFTIMPUTE GLOBAL - acc: {round(np.array(soft_accs).mean() * 100, 2)}% +- {round(np.array(soft_accs).std() * 100, 2)}% - ' +\n",
    "      f'auc: {round(np.array(soft_aucs).mean() * 100, 2)}% +- {round(np.array(soft_aucs).std() * 100, 2)}%')"
   ]
  },
  {
   "cell_type": "markdown",
   "metadata": {},
   "source": [
    "## Run SINKHORN"
   ]
  },
  {
   "cell_type": "code",
   "execution_count": 10,
   "metadata": {
    "ExecuteTime": {
     "end_time": "2022-06-03T08:52:26.303985Z",
     "start_time": "2022-06-03T08:48:53.864072Z"
    },
    "execution": {
     "iopub.execute_input": "2022-06-03T10:56:02.665694Z",
     "iopub.status.busy": "2022-06-03T10:56:02.660003Z",
     "iopub.status.idle": "2022-06-03T11:01:27.638797Z",
     "shell.execute_reply": "2022-06-03T11:01:27.637637Z"
    }
   },
   "outputs": [
    {
     "name": "stdout",
     "output_type": "stream",
     "text": [
      "batchsize = 128, epsilon = 0.0100\n",
      "Iteration 0:\t Loss: 0.5535\n",
      "\n",
      "SINKHORN RUN 1/10 - acc: 86.45% +- 1.4% - auc: 93.5% +- 1.92%\n",
      "\n",
      "batchsize = 128, epsilon = 0.0100\n",
      "Iteration 0:\t Loss: 0.5059\n",
      "\n",
      "SINKHORN RUN 2/10 - acc: 86.07% +- 3.49% - auc: 90.42% +- 3.31%\n",
      "\n",
      "batchsize = 128, epsilon = 0.0100\n",
      "Iteration 0:\t Loss: 0.4620\n",
      "\n",
      "SINKHORN RUN 3/10 - acc: 88.26% +- 2.7% - auc: 92.83% +- 2.34%\n",
      "\n",
      "batchsize = 128, epsilon = 0.0100\n",
      "Iteration 0:\t Loss: 0.5249\n",
      "\n",
      "SINKHORN RUN 4/10 - acc: 85.39% +- 4.17% - auc: 90.6% +- 1.88%\n",
      "\n",
      "batchsize = 128, epsilon = 0.0100\n",
      "Iteration 0:\t Loss: 0.5598\n",
      "\n",
      "SINKHORN RUN 5/10 - acc: 87.7% +- 3.65% - auc: 92.28% +- 2.34%\n",
      "\n",
      "batchsize = 128, epsilon = 0.0100\n",
      "Iteration 0:\t Loss: 0.5161\n",
      "\n",
      "SINKHORN RUN 6/10 - acc: 89.7% +- 1.86% - auc: 91.61% +- 1.26%\n",
      "\n",
      "batchsize = 128, epsilon = 0.0100\n",
      "Iteration 0:\t Loss: 0.4920\n",
      "\n",
      "SINKHORN RUN 7/10 - acc: 85.3% +- 2.39% - auc: 89.97% +- 1.72%\n",
      "\n",
      "batchsize = 128, epsilon = 0.0100\n",
      "Iteration 0:\t Loss: 0.4799\n",
      "\n",
      "SINKHORN RUN 8/10 - acc: 85.91% +- 5.22% - auc: 90.97% +- 2.94%\n",
      "\n",
      "batchsize = 128, epsilon = 0.0100\n",
      "Iteration 0:\t Loss: 0.5525\n",
      "\n",
      "SINKHORN RUN 9/10 - acc: 85.09% +- 4.49% - auc: 90.4% +- 2.0%\n",
      "\n",
      "batchsize = 128, epsilon = 0.0100\n",
      "Iteration 0:\t Loss: 0.4930\n",
      "\n",
      "SINKHORN RUN 10/10 - acc: 88.29% +- 5.23% - auc: 92.19% +- 2.54%\n",
      "\n",
      "\n",
      "SINKHORN GLOBAL - acc: 86.82% +- 1.49% - auc: 91.48% +- 1.13%\n"
     ]
    }
   ],
   "source": [
    "sink_accs, sink_aucs = [], []\n",
    "for i in range(n_runs):\n",
    "    random.seed(i)\n",
    "    np.random.seed(i)\n",
    "    torch.manual_seed(i)\n",
    "    imputer = OTimputer(niter=500)\n",
    "    imputed = imputer.fit_transform(data_missing_nans).cpu().detach().numpy()\n",
    "    scores = utils.get_scores(imputed, y)\n",
    "    acc = scores['test_balanced_accuracy']\n",
    "    auc = scores['test_roc_auc_ovo']\n",
    "    print(f'\\nSINKHORN RUN {i + 1}/{n_runs} - acc: {round(acc.mean() * 100, 2)}% +- {round(acc.std() * 100, 2)}% - ' +\n",
    "          f'auc: {round(auc.mean() * 100, 2)}% +- {round(auc.std() * 100, 2)}%\\n')\n",
    "    sink_accs.append(acc.mean())\n",
    "    sink_aucs.append(auc.mean())\n",
    "print(f'\\nSINKHORN GLOBAL - acc: {round(np.array(sink_accs).mean() * 100, 2)}% +- {round(np.array(sink_accs).std() * 100, 2)}% - ' +\n",
    "      f'auc: {round(np.array(sink_aucs).mean() * 100, 2)}% +- {round(np.array(sink_aucs).std() * 100, 2)}%')"
   ]
  },
  {
   "cell_type": "markdown",
   "metadata": {},
   "source": [
    "## Run MIDA"
   ]
  },
  {
   "cell_type": "code",
   "execution_count": 11,
   "metadata": {
    "ExecuteTime": {
     "end_time": "2022-06-03T08:43:06.247536Z",
     "start_time": "2022-06-03T08:42:03.275411Z"
    },
    "execution": {
     "iopub.execute_input": "2022-06-03T11:01:27.650854Z",
     "iopub.status.busy": "2022-06-03T11:01:27.650385Z",
     "iopub.status.idle": "2022-06-03T11:04:55.575651Z",
     "shell.execute_reply": "2022-06-03T11:04:55.576150Z"
    }
   },
   "outputs": [
    {
     "name": "stdout",
     "output_type": "stream",
     "text": [
      "Stop training at epoch: 1500/1500, return best output\n",
      "\n",
      "MIDA RUN 1/10 - acc: 84.31% +- 2.68% - auc: 90.35% +- 2.31%\n",
      "\n",
      "Stop training at epoch: 1500/1500, return best output\n",
      "\n",
      "MIDA RUN 2/10 - acc: 84.67% +- 3.9% - auc: 92.36% +- 1.38%\n",
      "\n",
      "Stop training at epoch: 1500/1500, return best output\n",
      "\n",
      "MIDA RUN 3/10 - acc: 84.86% +- 4.69% - auc: 91.72% +- 2.02%\n",
      "\n",
      "Stop training at epoch: 1500/1500, return best output\n",
      "\n",
      "MIDA RUN 4/10 - acc: 86.49% +- 3.72% - auc: 91.28% +- 2.04%\n",
      "\n",
      "Stop training at epoch: 1500/1500, return best output\n",
      "\n",
      "MIDA RUN 5/10 - acc: 83.56% +- 4.2% - auc: 92.3% +- 2.8%\n",
      "\n",
      "Stop training at epoch: 1500/1500, return best output\n",
      "\n",
      "MIDA RUN 6/10 - acc: 86.94% +- 3.95% - auc: 92.49% +- 1.83%\n",
      "\n",
      "Stop training at epoch: 1500/1500, return best output\n",
      "\n",
      "MIDA RUN 7/10 - acc: 85.43% +- 3.24% - auc: 91.36% +- 2.4%\n",
      "\n",
      "Stop training at epoch: 1500/1500, return best output\n",
      "\n",
      "MIDA RUN 8/10 - acc: 86.68% +- 3.57% - auc: 91.81% +- 2.27%\n",
      "\n",
      "Stop training at epoch: 1500/1500, return best output\n",
      "\n",
      "MIDA RUN 9/10 - acc: 85.67% +- 4.07% - auc: 91.82% +- 2.6%\n",
      "\n",
      "Stop training at epoch: 1500/1500, return best output\n",
      "\n",
      "MIDA RUN 10/10 - acc: 86.89% +- 3.13% - auc: 91.2% +- 1.55%\n",
      "\n",
      "\n",
      "MIDA GLOBAL - acc: 85.55% +- 1.12% - auc: 91.67% +- 0.62%\n"
     ]
    }
   ],
   "source": [
    "mida_accs, mida_aucs = [], []\n",
    "for i in range(n_runs):\n",
    "    random.seed(i)\n",
    "    np.random.seed(i)\n",
    "    torch.manual_seed(i)\n",
    "    imputed = mida(data_missing_nans, num_layers=2, num_epochs=1500)\n",
    "    imputed = np.where(missing_mask, data_missing, imputed)\n",
    "    scores = utils.get_scores(imputed, y)\n",
    "    acc = scores['test_balanced_accuracy']\n",
    "    auc = scores['test_roc_auc_ovo']\n",
    "    print(f'\\nMIDA RUN {i + 1}/{n_runs} - acc: {round(acc.mean() * 100, 2)}% +- {round(acc.std() * 100, 2)}% - ' +\n",
    "          f'auc: {round(auc.mean() * 100, 2)}% +- {round(auc.std() * 100, 2)}%\\n')\n",
    "    mida_accs.append(acc.mean())\n",
    "    mida_aucs.append(auc.mean())\n",
    "print(f'\\nMIDA GLOBAL - acc: {round(np.array(mida_accs).mean() * 100, 2)}% +- {round(np.array(mida_accs).std() * 100, 2)}% - ' +\n",
    "      f'auc: {round(np.array(mida_aucs).mean() * 100, 2)}% +- {round(np.array(mida_aucs).std() * 100, 2)}%')"
   ]
  },
  {
   "cell_type": "markdown",
   "metadata": {},
   "source": [
    "## Run T-tests"
   ]
  },
  {
   "cell_type": "code",
   "execution_count": 12,
   "metadata": {
    "ExecuteTime": {
     "end_time": "2022-06-03T08:48:09.361269Z",
     "start_time": "2022-06-03T08:48:09.361255Z"
    },
    "execution": {
     "iopub.execute_input": "2022-06-03T11:04:55.588359Z",
     "iopub.status.busy": "2022-06-03T11:04:55.587695Z",
     "iopub.status.idle": "2022-06-03T11:04:55.593091Z",
     "shell.execute_reply": "2022-06-03T11:04:55.593887Z"
    },
    "scrolled": false
   },
   "outputs": [
    {
     "name": "stdout",
     "output_type": "stream",
     "text": [
      "Metric ACC - OUR METHOD is significantly better than MEDIAN\n",
      "Metric AUC - OUR METHOD is significantly better than MEDIAN\n",
      "Metric ACC - OUR METHOD is significantly better than MEAN\n",
      "Metric AUC - OUR METHOD is significantly better than MEAN\n",
      "Metric ACC - OUR METHOD is significantly worse than KNN\n",
      "Metric AUC - OUR METHOD is significantly better than KNN\n",
      "Metric ACC - OUR METHOD is significantly better than GAIN\n",
      "Metric AUC - OUR METHOD is significantly better than GAIN\n",
      "Metric ACC - OUR METHOD is significantly worse than MICE\n",
      "Metric AUC - OUR METHOD is even with MICE\n",
      "Metric ACC - OUR METHOD is significantly better than MISS\n",
      "Metric AUC - OUR METHOD is significantly better than MISS\n",
      "Metric ACC - OUR METHOD is significantly better than SOFT\n",
      "Metric AUC - OUR METHOD is significantly better than SOFT\n",
      "Metric ACC - OUR METHOD is even with SINK\n",
      "Metric AUC - OUR METHOD is significantly better than SINK\n",
      "Metric ACC - OUR METHOD is significantly better than MIDA\n",
      "Metric AUC - OUR METHOD is significantly better than MIDA\n"
     ]
    }
   ],
   "source": [
    "for model, metrics in {\n",
    "        'MEDIAN': {'ACC': median_accs, 'AUC': median_aucs},\n",
    "        'MEAN': {'ACC': mean_accs, 'AUC': mean_aucs},\n",
    "        'KNN': {'ACC': knn_accs, 'AUC': knn_aucs},\n",
    "        'GAIN': {'ACC': gain_accs, 'AUC': gain_aucs},\n",
    "        'MICE': {'ACC': mice_accs, 'AUC': mice_aucs},\n",
    "        'MISS': {'ACC': miss_accs, 'AUC': miss_aucs},\n",
    "        'SOFT': {'ACC': soft_accs, 'AUC': soft_aucs},\n",
    "        'SINK': {'ACC': sink_accs, 'AUC': sink_aucs},\n",
    "        'MIDA': {'ACC': mida_accs, 'AUC': mida_aucs}}.items():\n",
    "    for metric_name, metric in metrics.items():\n",
    "        ours_metric = ours_accs if metric_name == 'ACC' else ours_aucs\n",
    "        t, p = scipy.stats.ttest_ind(np.array(ours_metric), np.array(metric))\n",
    "        if p <= .05:\n",
    "            if t > 0:\n",
    "                ## Our method is better\n",
    "                print(f'Metric {metric_name} - OUR METHOD is significantly better than {model}')\n",
    "            else:\n",
    "                ## Theirs is better\n",
    "                print(f'Metric {metric_name} - OUR METHOD is significantly worse than {model}')\n",
    "        else:\n",
    "            ## Else we are even\n",
    "            print(f'Metric {metric_name} - OUR METHOD is even with {model}')"
   ]
  }
 ],
 "metadata": {
  "kernelspec": {
   "display_name": "Python 3 (ipykernel)",
   "language": "python",
   "name": "python3"
  },
  "language_info": {
   "codemirror_mode": {
    "name": "ipython",
    "version": 3
   },
   "file_extension": ".py",
   "mimetype": "text/x-python",
   "name": "python",
   "nbconvert_exporter": "python",
   "pygments_lexer": "ipython3",
   "version": "3.9.7"
  },
  "latex_envs": {
   "LaTeX_envs_menu_present": true,
   "autoclose": false,
   "autocomplete": true,
   "bibliofile": "biblio.bib",
   "cite_by": "apalike",
   "current_citInitial": 1,
   "eqLabelWithNumbers": true,
   "eqNumInitial": 1,
   "hotkeys": {
    "equation": "Ctrl-E",
    "itemize": "Ctrl-I"
   },
   "labels_anchors": false,
   "latex_user_defs": false,
   "report_style_numbering": false,
   "user_envs_cfg": false
  }
 },
 "nbformat": 4,
 "nbformat_minor": 2
}
