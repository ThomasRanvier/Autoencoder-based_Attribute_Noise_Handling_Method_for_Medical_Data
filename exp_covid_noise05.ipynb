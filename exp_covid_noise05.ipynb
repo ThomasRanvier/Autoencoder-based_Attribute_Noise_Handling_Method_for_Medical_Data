{
 "cells": [
  {
   "cell_type": "code",
   "execution_count": 1,
   "metadata": {
    "ExecuteTime": {
     "end_time": "2022-06-03T15:22:32.840331Z",
     "start_time": "2022-06-03T15:22:29.696281Z"
    },
    "execution": {
     "iopub.execute_input": "2022-06-04T07:14:43.227119Z",
     "iopub.status.busy": "2022-06-04T07:14:43.225697Z",
     "iopub.status.idle": "2022-06-04T07:15:15.336493Z",
     "shell.execute_reply": "2022-06-04T07:15:15.334982Z"
    }
   },
   "outputs": [],
   "source": [
    "from __future__ import print_function\n",
    "import warnings\n",
    "warnings.filterwarnings(\"ignore\", category=UserWarning)\n",
    "warnings.filterwarnings(\"ignore\", category=FutureWarning)\n",
    "## Disable tf future deprecated messages\n",
    "import logging\n",
    "logging.getLogger('tensorflow').disabled = True\n",
    "## Disable tf CUDA messages\n",
    "import os\n",
    "os.environ['TF_CPP_MIN_LOG_LEVEL'] = '3'\n",
    "\n",
    "%matplotlib inline\n",
    "\n",
    "import sys\n",
    "import random\n",
    "import numpy as np\n",
    "import pandas as pd\n",
    "\n",
    "import utils\n",
    "import correction\n",
    "from models.dense import *\n",
    "from models.gain import gain\n",
    "from models.soft_impute import SoftImpute\n",
    "from models.sinkhorn import OTimputer\n",
    "from models.mida import mida\n",
    "\n",
    "import scipy.stats\n",
    "\n",
    "from sklearn.experimental import enable_iterative_imputer\n",
    "from sklearn.impute import IterativeImputer\n",
    "from sklearn.impute import KNNImputer, SimpleImputer\n",
    "\n",
    "import sklearn.neighbors._base\n",
    "sys.modules['sklearn.neighbors.base'] = sklearn.neighbors._base\n",
    "from missingpy import MissForest\n",
    "\n",
    "torch.backends.cudnn.enabled = True\n",
    "torch.backends.cudnn.benchmark = True\n",
    "dtype = torch.cuda.FloatTensor"
   ]
  },
  {
   "cell_type": "markdown",
   "metadata": {},
   "source": [
    "## Repeat all experiments for 10 runs"
   ]
  },
  {
   "cell_type": "code",
   "execution_count": 2,
   "metadata": {
    "ExecuteTime": {
     "end_time": "2022-06-03T15:22:32.845502Z",
     "start_time": "2022-06-03T15:22:32.842130Z"
    },
    "execution": {
     "iopub.execute_input": "2022-06-04T07:15:15.348015Z",
     "iopub.status.busy": "2022-06-04T07:15:15.347153Z",
     "iopub.status.idle": "2022-06-04T07:15:15.351687Z",
     "shell.execute_reply": "2022-06-04T07:15:15.350962Z"
    }
   },
   "outputs": [],
   "source": [
    "n_runs = 10"
   ]
  },
  {
   "cell_type": "markdown",
   "metadata": {},
   "source": [
    "## Load data"
   ]
  },
  {
   "cell_type": "code",
   "execution_count": 3,
   "metadata": {
    "ExecuteTime": {
     "end_time": "2022-06-03T15:22:34.289014Z",
     "start_time": "2022-06-03T15:22:32.847779Z"
    },
    "execution": {
     "iopub.execute_input": "2022-06-04T07:15:15.357990Z",
     "iopub.status.busy": "2022-06-04T07:15:15.357211Z",
     "iopub.status.idle": "2022-06-04T07:15:17.977517Z",
     "shell.execute_reply": "2022-06-04T07:15:17.978558Z"
    }
   },
   "outputs": [
    {
     "name": "stdout",
     "output_type": "stream",
     "text": [
      "Dataset shape: (361, 80)\n",
      "19.75% missing data\n",
      "Class distribution: (array([0, 1]), array([195, 166]))\n"
     ]
    }
   ],
   "source": [
    "data_missing, missing_mask, y = utils.load_covid()\n",
    "## Inject noise\n",
    "data_missing = utils.inject_noise(data_missing.copy(), noise_rate=.05)\n",
    "## Replace missing values locations by 0\n",
    "data_missing = data_missing * missing_mask"
   ]
  },
  {
   "cell_type": "markdown",
   "metadata": {},
   "source": [
    "## Run OUR METHOD"
   ]
  },
  {
   "cell_type": "code",
   "execution_count": 4,
   "metadata": {
    "ExecuteTime": {
     "end_time": "2022-06-03T15:23:05.486728Z",
     "start_time": "2022-06-03T15:22:34.290669Z"
    },
    "execution": {
     "iopub.execute_input": "2022-06-04T07:15:17.988433Z",
     "iopub.status.busy": "2022-06-04T07:15:17.987787Z",
     "iopub.status.idle": "2022-06-04T07:29:28.527320Z",
     "shell.execute_reply": "2022-06-04T07:29:28.528457Z"
    },
    "scrolled": false
   },
   "outputs": [
    {
     "name": "stdout",
     "output_type": "stream",
     "text": [
      "Ite 00000 - 0.75 sec - Loss 0.103927 - ACC 81.09% - ACC Mean 81.09% - AUC 88.62% - AUC Mean 88.62% - Deter 000\n",
      "Ite 00050 - 0.10 sec - Loss 0.097284 - ACC 83.21% - ACC Mean 81.64% - AUC 88.59% - AUC Mean 88.55% - Deter 022\n",
      "Ite 00100 - 0.09 sec - Loss 0.080281 - ACC 82.35% - ACC Mean 81.42% - AUC 87.44% - AUC Mean 87.36% - Deter 072\n",
      "Ite 00150 - 0.10 sec - Loss 0.052228 - ACC 80.78% - ACC Mean 81.82% - AUC 87.35% - AUC Mean 87.83% - Deter 122\n",
      "Ite 00200 - 0.10 sec - Loss 0.035158 - ACC 82.14% - ACC Mean 83.50% - AUC 90.06% - AUC Mean 90.13% - Deter 009\n",
      "Ite 00250 - 0.09 sec - Loss 0.030170 - ACC 84.26% - ACC Mean 83.29% - AUC 90.16% - AUC Mean 90.36% - Deter 059\n",
      "Ite 00300 - 0.09 sec - Loss 0.028655 - ACC 81.54% - ACC Mean 82.61% - AUC 89.78% - AUC Mean 90.19% - Deter 109\n",
      "Ite 00350 - 0.10 sec - Loss 0.027947 - ACC 81.84% - ACC Mean 82.77% - AUC 90.15% - AUC Mean 90.14% - Deter 159\n",
      "Ite 00400 - 0.10 sec - Loss 0.027472 - ACC 82.94% - ACC Mean 82.76% - AUC 89.94% - AUC Mean 90.13% - Deter 002\n",
      "Ite 00450 - 0.14 sec - Loss 0.027028 - ACC 84.01% - ACC Mean 83.22% - AUC 90.16% - AUC Mean 90.37% - Deter 008\n",
      "Ite 00500 - 0.08 sec - Loss 0.026535 - ACC 81.98% - ACC Mean 82.89% - AUC 90.23% - AUC Mean 90.13% - Deter 058\n",
      "Ite 00550 - 0.09 sec - Loss 0.025998 - ACC 81.84% - ACC Mean 82.98% - AUC 90.10% - AUC Mean 90.32% - Deter 108\n",
      "Ite 00600 - 0.13 sec - Loss 0.025363 - ACC 82.20% - ACC Mean 82.66% - AUC 90.09% - AUC Mean 90.47% - Deter 158\n",
      "Ite 00650 - 0.10 sec - Loss 0.024685 - ACC 83.87% - ACC Mean 83.08% - AUC 91.21% - AUC Mean 90.57% - Deter 208\n",
      "Ite 00700 - 0.10 sec - Loss 0.023981 - ACC 83.70% - ACC Mean 83.64% - AUC 90.69% - AUC Mean 90.83% - Deter 258\n",
      "Ite 00750 - 0.09 sec - Loss 0.023305 - ACC 83.26% - ACC Mean 83.31% - AUC 90.97% - AUC Mean 90.49% - Deter 308\n",
      "Ite 00800 - 0.10 sec - Loss 0.022644 - ACC 83.10% - ACC Mean 83.39% - AUC 90.37% - AUC Mean 90.58% - Deter 358\n",
      "Ite 00842 - 0.09 sec - Loss 0.022136 - ACC 82.42% - ACC Mean 82.58% - AUC 90.08% - AUC Mean 90.29% - Deter 400\n",
      "Early stop ite 842, rollback to correction of ite 442, whith acc of 87.13% and auc of 92.54%\n",
      "OUR METHOD RUN 1/10 - acc: 87.13% +- 0.0% - auc: 92.54% +- 0.0%\n",
      "Ite 00000 - 0.11 sec - Loss 0.103205 - ACC 81.18% - ACC Mean 81.18% - AUC 88.67% - AUC Mean 88.67% - Deter 000\n",
      "Ite 00050 - 0.11 sec - Loss 0.096597 - ACC 82.95% - ACC Mean 82.05% - AUC 89.07% - AUC Mean 89.25% - Deter 016\n",
      "Ite 00100 - 0.10 sec - Loss 0.080652 - ACC 82.74% - ACC Mean 82.28% - AUC 87.99% - AUC Mean 88.33% - Deter 066\n",
      "Ite 00150 - 0.11 sec - Loss 0.052757 - ACC 84.61% - ACC Mean 82.45% - AUC 90.08% - AUC Mean 88.37% - Deter 007\n",
      "Ite 00200 - 0.10 sec - Loss 0.035346 - ACC 84.52% - ACC Mean 85.73% - AUC 90.58% - AUC Mean 90.69% - Deter 014\n",
      "Ite 00250 - 0.10 sec - Loss 0.030297 - ACC 84.26% - ACC Mean 84.64% - AUC 90.41% - AUC Mean 90.80% - Deter 044\n",
      "Ite 00300 - 0.09 sec - Loss 0.028860 - ACC 84.87% - ACC Mean 84.34% - AUC 90.47% - AUC Mean 90.34% - Deter 094\n",
      "Ite 00350 - 0.09 sec - Loss 0.028262 - ACC 84.92% - ACC Mean 84.31% - AUC 90.23% - AUC Mean 90.36% - Deter 144\n",
      "Ite 00400 - 0.10 sec - Loss 0.027875 - ACC 84.92% - ACC Mean 84.57% - AUC 90.23% - AUC Mean 90.47% - Deter 194\n",
      "Ite 00450 - 0.09 sec - Loss 0.027548 - ACC 85.17% - ACC Mean 85.04% - AUC 90.54% - AUC Mean 90.74% - Deter 244\n",
      "Ite 00500 - 0.10 sec - Loss 0.027194 - ACC 85.94% - ACC Mean 84.64% - AUC 91.11% - AUC Mean 90.97% - Deter 294\n",
      "Ite 00550 - 0.09 sec - Loss 0.026809 - ACC 84.47% - ACC Mean 84.12% - AUC 90.90% - AUC Mean 90.95% - Deter 344\n",
      "Ite 00600 - 0.10 sec - Loss 0.026263 - ACC 84.03% - ACC Mean 84.10% - AUC 91.32% - AUC Mean 91.00% - Deter 029\n",
      "Ite 00650 - 0.15 sec - Loss 0.025634 - ACC 83.87% - ACC Mean 84.22% - AUC 91.31% - AUC Mean 91.22% - Deter 023\n",
      "Ite 00700 - 0.12 sec - Loss 0.024840 - ACC 84.03% - ACC Mean 84.38% - AUC 91.29% - AUC Mean 91.42% - Deter 073\n",
      "Ite 00750 - 0.13 sec - Loss 0.023990 - ACC 84.52% - ACC Mean 84.44% - AUC 91.69% - AUC Mean 91.55% - Deter 009\n",
      "Ite 00800 - 0.09 sec - Loss 0.023185 - ACC 84.87% - ACC Mean 85.63% - AUC 90.85% - AUC Mean 91.54% - Deter 046\n",
      "Ite 00850 - 0.12 sec - Loss 0.022420 - ACC 83.61% - ACC Mean 84.10% - AUC 91.33% - AUC Mean 91.24% - Deter 096\n",
      "Ite 00900 - 0.08 sec - Loss 0.021785 - ACC 83.91% - ACC Mean 83.63% - AUC 91.19% - AUC Mean 91.16% - Deter 146\n",
      "Ite 00950 - 0.10 sec - Loss 0.021244 - ACC 82.56% - ACC Mean 83.50% - AUC 90.54% - AUC Mean 90.85% - Deter 196\n",
      "Ite 01000 - 0.09 sec - Loss 0.020759 - ACC 84.07% - ACC Mean 83.37% - AUC 90.94% - AUC Mean 90.93% - Deter 026\n",
      "Ite 01050 - 0.08 sec - Loss 0.020340 - ACC 85.00% - ACC Mean 83.45% - AUC 92.58% - AUC Mean 90.97% - Deter 024\n",
      "Ite 01100 - 0.10 sec - Loss 0.019934 - ACC 83.54% - ACC Mean 83.94% - AUC 89.52% - AUC Mean 90.31% - Deter 074\n",
      "Ite 01150 - 0.13 sec - Loss 0.019563 - ACC 83.84% - ACC Mean 83.80% - AUC 91.19% - AUC Mean 90.08% - Deter 124\n",
      "Ite 01200 - 0.10 sec - Loss 0.019216 - ACC 81.54% - ACC Mean 83.87% - AUC 90.40% - AUC Mean 90.19% - Deter 174\n",
      "Ite 01250 - 0.09 sec - Loss 0.018883 - ACC 84.61% - ACC Mean 84.31% - AUC 90.60% - AUC Mean 91.01% - Deter 224\n",
      "Ite 01300 - 0.14 sec - Loss 0.018575 - ACC 82.24% - ACC Mean 84.03% - AUC 91.32% - AUC Mean 90.95% - Deter 011\n",
      "Ite 01350 - 0.12 sec - Loss 0.018268 - ACC 82.28% - ACC Mean 84.29% - AUC 91.89% - AUC Mean 91.14% - Deter 061\n",
      "Ite 01400 - 0.17 sec - Loss 0.017991 - ACC 87.74% - ACC Mean 85.16% - AUC 92.56% - AUC Mean 91.59% - Deter 111\n",
      "Ite 01450 - 0.08 sec - Loss 0.017723 - ACC 86.77% - ACC Mean 85.04% - AUC 93.56% - AUC Mean 91.51% - Deter 161\n",
      "Ite 01500 - 0.10 sec - Loss 0.017449 - ACC 88.76% - ACC Mean 85.86% - AUC 93.57% - AUC Mean 91.97% - Deter 026\n",
      "Ite 01550 - 0.10 sec - Loss 0.017166 - ACC 85.96% - ACC Mean 85.50% - AUC 92.09% - AUC Mean 91.87% - Deter 032\n",
      "Ite 01600 - 0.12 sec - Loss 0.016914 - ACC 86.66% - ACC Mean 85.24% - AUC 93.01% - AUC Mean 91.75% - Deter 033\n",
      "Ite 01650 - 0.09 sec - Loss 0.016674 - ACC 85.61% - ACC Mean 84.98% - AUC 90.59% - AUC Mean 91.36% - Deter 083\n",
      "Ite 01700 - 0.08 sec - Loss 0.016432 - ACC 84.36% - ACC Mean 84.93% - AUC 91.46% - AUC Mean 91.20% - Deter 133\n",
      "Ite 01750 - 0.10 sec - Loss 0.016184 - ACC 84.92% - ACC Mean 84.64% - AUC 91.70% - AUC Mean 91.14% - Deter 183\n",
      "Ite 01800 - 0.09 sec - Loss 0.015945 - ACC 84.19% - ACC Mean 84.89% - AUC 90.53% - AUC Mean 90.94% - Deter 233\n",
      "Ite 01850 - 0.11 sec - Loss 0.015713 - ACC 84.43% - ACC Mean 85.12% - AUC 92.30% - AUC Mean 91.16% - Deter 283\n",
      "Ite 01900 - 0.13 sec - Loss 0.015521 - ACC 85.14% - ACC Mean 84.64% - AUC 92.97% - AUC Mean 91.03% - Deter 333\n",
      "Ite 01950 - 0.15 sec - Loss 0.015288 - ACC 84.66% - ACC Mean 84.81% - AUC 91.26% - AUC Mean 91.11% - Deter 383\n",
      "Ite 01967 - 0.10 sec - Loss 0.015214 - ACC 84.12% - ACC Mean 84.82% - AUC 90.60% - AUC Mean 91.07% - Deter 400\n",
      "Early stop ite 1967, rollback to correction of ite 1567, whith acc of 88.81% and auc of 94.26%\n",
      "OUR METHOD RUN 2/10 - acc: 88.81% +- 0.0% - auc: 94.26% +- 0.0%\n",
      "Ite 00000 - 0.10 sec - Loss 0.102331 - ACC 84.45% - ACC Mean 84.45% - AUC 89.83% - AUC Mean 89.83% - Deter 000\n",
      "Ite 00050 - 0.14 sec - Loss 0.096556 - ACC 81.44% - ACC Mean 83.12% - AUC 88.91% - AUC Mean 89.55% - Deter 009\n",
      "Ite 00100 - 0.11 sec - Loss 0.081953 - ACC 82.30% - ACC Mean 81.40% - AUC 89.31% - AUC Mean 88.51% - Deter 059\n",
      "Ite 00150 - 0.11 sec - Loss 0.054611 - ACC 85.48% - ACC Mean 84.04% - AUC 89.97% - AUC Mean 89.89% - Deter 010\n",
      "Ite 00200 - 0.10 sec - Loss 0.036356 - ACC 83.57% - ACC Mean 84.92% - AUC 90.78% - AUC Mean 91.07% - Deter 060\n",
      "Ite 00250 - 0.10 sec - Loss 0.030602 - ACC 84.15% - ACC Mean 84.08% - AUC 91.35% - AUC Mean 91.14% - Deter 010\n",
      "Ite 00300 - 0.14 sec - Loss 0.028781 - ACC 84.14% - ACC Mean 84.18% - AUC 91.22% - AUC Mean 91.31% - Deter 006\n",
      "Ite 00350 - 0.09 sec - Loss 0.027991 - ACC 83.82% - ACC Mean 84.08% - AUC 91.43% - AUC Mean 91.30% - Deter 056\n",
      "Ite 00400 - 0.12 sec - Loss 0.027486 - ACC 83.56% - ACC Mean 83.58% - AUC 91.28% - AUC Mean 91.31% - Deter 106\n",
      "Ite 00450 - 0.10 sec - Loss 0.027041 - ACC 82.68% - ACC Mean 83.59% - AUC 90.82% - AUC Mean 91.34% - Deter 156\n",
      "Ite 00500 - 0.10 sec - Loss 0.026576 - ACC 84.12% - ACC Mean 83.77% - AUC 91.47% - AUC Mean 91.38% - Deter 206\n",
      "Ite 00550 - 0.10 sec - Loss 0.026077 - ACC 83.58% - ACC Mean 83.79% - AUC 91.11% - AUC Mean 91.34% - Deter 256\n",
      "Ite 00600 - 0.11 sec - Loss 0.025465 - ACC 86.55% - ACC Mean 84.49% - AUC 91.85% - AUC Mean 91.49% - Deter 040\n",
      "Ite 00650 - 0.09 sec - Loss 0.024814 - ACC 83.40% - ACC Mean 84.53% - AUC 90.79% - AUC Mean 91.28% - Deter 090\n",
      "Ite 00700 - 0.10 sec - Loss 0.024130 - ACC 83.66% - ACC Mean 83.59% - AUC 91.17% - AUC Mean 91.01% - Deter 140\n",
      "Ite 00750 - 0.10 sec - Loss 0.023494 - ACC 83.66% - ACC Mean 83.71% - AUC 91.35% - AUC Mean 91.26% - Deter 190\n",
      "Ite 00800 - 0.09 sec - Loss 0.022908 - ACC 84.92% - ACC Mean 85.03% - AUC 91.52% - AUC Mean 91.41% - Deter 240\n",
      "Ite 00850 - 0.10 sec - Loss 0.022375 - ACC 85.22% - ACC Mean 84.64% - AUC 90.83% - AUC Mean 91.05% - Deter 290\n",
      "Ite 00900 - 0.09 sec - Loss 0.021917 - ACC 83.94% - ACC Mean 84.64% - AUC 90.47% - AUC Mean 90.93% - Deter 340\n",
      "Ite 00950 - 0.09 sec - Loss 0.021477 - ACC 84.67% - ACC Mean 84.30% - AUC 90.74% - AUC Mean 90.69% - Deter 390\n",
      "Ite 00960 - 0.10 sec - Loss 0.021369 - ACC 84.85% - ACC Mean 84.34% - AUC 90.84% - AUC Mean 90.70% - Deter 400\n",
      "Early stop ite 960, rollback to correction of ite 560, whith acc of 86.52% and auc of 92.31%\n",
      "OUR METHOD RUN 3/10 - acc: 86.52% +- 0.0% - auc: 92.31% +- 0.0%\n",
      "Ite 00000 - 0.10 sec - Loss 0.102681 - ACC 80.54% - ACC Mean 80.54% - AUC 88.45% - AUC Mean 88.45% - Deter 000\n",
      "Ite 00050 - 0.10 sec - Loss 0.094941 - ACC 85.30% - ACC Mean 83.25% - AUC 91.24% - AUC Mean 89.58% - Deter 006\n",
      "Ite 00100 - 0.11 sec - Loss 0.076920 - ACC 83.77% - ACC Mean 82.40% - AUC 88.38% - AUC Mean 88.58% - Deter 049\n",
      "Ite 00150 - 0.10 sec - Loss 0.050374 - ACC 84.26% - ACC Mean 84.35% - AUC 90.45% - AUC Mean 89.85% - Deter 099\n",
      "Ite 00200 - 0.11 sec - Loss 0.034914 - ACC 83.97% - ACC Mean 85.64% - AUC 90.65% - AUC Mean 91.20% - Deter 149\n",
      "Ite 00250 - 0.09 sec - Loss 0.030287 - ACC 82.75% - ACC Mean 85.02% - AUC 90.81% - AUC Mean 91.05% - Deter 199\n",
      "Ite 00300 - 0.10 sec - Loss 0.028795 - ACC 84.57% - ACC Mean 84.60% - AUC 90.28% - AUC Mean 90.79% - Deter 249\n",
      "Ite 00350 - 0.10 sec - Loss 0.028114 - ACC 84.26% - ACC Mean 84.56% - AUC 90.77% - AUC Mean 90.75% - Deter 299\n",
      "Ite 00400 - 0.09 sec - Loss 0.027673 - ACC 84.26% - ACC Mean 84.43% - AUC 90.76% - AUC Mean 90.70% - Deter 349\n",
      "Ite 00450 - 0.09 sec - Loss 0.027305 - ACC 82.49% - ACC Mean 84.51% - AUC 90.29% - AUC Mean 90.61% - Deter 399\n",
      "Ite 00451 - 0.11 sec - Loss 0.027302 - ACC 84.31% - ACC Mean 84.50% - AUC 90.58% - AUC Mean 90.61% - Deter 400\n",
      "Early stop ite 451, rollback to correction of ite 51, whith acc of 86.72% and auc of 92.09%\n",
      "OUR METHOD RUN 4/10 - acc: 86.72% +- 0.0% - auc: 92.09% +- 0.0%\n",
      "Ite 00000 - 0.09 sec - Loss 0.103410 - ACC 83.91% - ACC Mean 83.91% - AUC 88.04% - AUC Mean 88.04% - Deter 000\n",
      "Ite 00050 - 0.13 sec - Loss 0.096427 - ACC 81.83% - ACC Mean 83.45% - AUC 88.18% - AUC Mean 88.68% - Deter 020\n",
      "Ite 00100 - 0.10 sec - Loss 0.078604 - ACC 82.56% - ACC Mean 82.50% - AUC 88.66% - AUC Mean 88.19% - Deter 070\n",
      "Ite 00150 - 0.11 sec - Loss 0.049591 - ACC 82.25% - ACC Mean 81.42% - AUC 89.43% - AUC Mean 87.98% - Deter 120\n",
      "Ite 00200 - 0.11 sec - Loss 0.033345 - ACC 86.20% - ACC Mean 85.29% - AUC 91.26% - AUC Mean 90.83% - Deter 022\n",
      "Ite 00250 - 0.10 sec - Loss 0.029472 - ACC 86.11% - ACC Mean 85.86% - AUC 91.49% - AUC Mean 91.31% - Deter 072\n",
      "Ite 00300 - 0.10 sec - Loss 0.028397 - ACC 85.38% - ACC Mean 84.92% - AUC 91.24% - AUC Mean 91.32% - Deter 122\n",
      "Ite 00350 - 0.09 sec - Loss 0.027890 - ACC 85.69% - ACC Mean 84.53% - AUC 91.37% - AUC Mean 91.18% - Deter 038\n",
      "Ite 00400 - 0.12 sec - Loss 0.027519 - ACC 83.87% - ACC Mean 84.27% - AUC 91.28% - AUC Mean 91.02% - Deter 088\n",
      "Ite 00450 - 0.13 sec - Loss 0.027164 - ACC 83.61% - ACC Mean 83.95% - AUC 90.78% - AUC Mean 90.98% - Deter 138\n",
      "Ite 00500 - 0.09 sec - Loss 0.026770 - ACC 83.91% - ACC Mean 84.06% - AUC 91.37% - AUC Mean 91.15% - Deter 188\n",
      "Ite 00550 - 0.09 sec - Loss 0.026318 - ACC 82.75% - ACC Mean 84.05% - AUC 90.84% - AUC Mean 91.19% - Deter 238\n",
      "Ite 00600 - 0.10 sec - Loss 0.025746 - ACC 86.04% - ACC Mean 84.52% - AUC 91.65% - AUC Mean 91.27% - Deter 288\n",
      "Ite 00650 - 0.11 sec - Loss 0.025081 - ACC 83.66% - ACC Mean 84.89% - AUC 91.04% - AUC Mean 91.06% - Deter 338\n",
      "Ite 00700 - 0.10 sec - Loss 0.024326 - ACC 84.17% - ACC Mean 84.89% - AUC 91.12% - AUC Mean 90.94% - Deter 388\n",
      "Ite 00712 - 0.10 sec - Loss 0.024158 - ACC 85.17% - ACC Mean 84.74% - AUC 90.47% - AUC Mean 90.91% - Deter 400\n",
      "Early stop ite 712, rollback to correction of ite 312, whith acc of 84.78% and auc of 91.87%\n",
      "OUR METHOD RUN 5/10 - acc: 84.78% +- 0.0% - auc: 91.87% +- 0.0%\n",
      "Ite 00000 - 0.10 sec - Loss 0.102400 - ACC 82.60% - ACC Mean 82.60% - AUC 88.24% - AUC Mean 88.24% - Deter 000\n",
      "Ite 00050 - 0.11 sec - Loss 0.096226 - ACC 82.14% - ACC Mean 82.70% - AUC 88.06% - AUC Mean 88.23% - Deter 001\n",
      "Ite 00100 - 0.13 sec - Loss 0.081209 - ACC 80.83% - ACC Mean 82.36% - AUC 87.47% - AUC Mean 88.01% - Deter 033\n",
      "Ite 00150 - 0.10 sec - Loss 0.053847 - ACC 84.52% - ACC Mean 82.08% - AUC 91.33% - AUC Mean 88.50% - Deter 001\n",
      "Ite 00200 - 0.10 sec - Loss 0.035415 - ACC 84.95% - ACC Mean 84.36% - AUC 92.06% - AUC Mean 91.43% - Deter 014\n",
      "Ite 00250 - 0.11 sec - Loss 0.030116 - ACC 84.31% - ACC Mean 84.53% - AUC 90.22% - AUC Mean 91.20% - Deter 064\n",
      "Ite 00300 - 0.09 sec - Loss 0.028644 - ACC 83.05% - ACC Mean 83.53% - AUC 90.37% - AUC Mean 90.44% - Deter 114\n",
      "Ite 00350 - 0.10 sec - Loss 0.027962 - ACC 83.05% - ACC Mean 82.98% - AUC 90.33% - AUC Mean 90.39% - Deter 164\n",
      "Ite 00400 - 0.09 sec - Loss 0.027494 - ACC 82.80% - ACC Mean 82.67% - AUC 89.95% - AUC Mean 90.28% - Deter 214\n",
      "Ite 00450 - 0.10 sec - Loss 0.027065 - ACC 82.80% - ACC Mean 82.54% - AUC 89.90% - AUC Mean 90.11% - Deter 264\n",
      "Ite 00500 - 0.11 sec - Loss 0.026602 - ACC 82.45% - ACC Mean 82.54% - AUC 90.08% - AUC Mean 90.05% - Deter 314\n",
      "Ite 00550 - 0.09 sec - Loss 0.026076 - ACC 82.80% - ACC Mean 82.81% - AUC 90.07% - AUC Mean 90.05% - Deter 364\n",
      "Ite 00586 - 0.12 sec - Loss 0.025597 - ACC 82.49% - ACC Mean 82.87% - AUC 89.70% - AUC Mean 90.09% - Deter 400\n",
      "Early stop ite 586, rollback to correction of ite 186, whith acc of 85.2% and auc of 92.54%\n",
      "OUR METHOD RUN 6/10 - acc: 85.2% +- 0.0% - auc: 92.54% +- 0.0%\n",
      "Ite 00000 - 0.09 sec - Loss 0.102101 - ACC 83.09% - ACC Mean 83.09% - AUC 88.93% - AUC Mean 88.93% - Deter 000\n",
      "Ite 00050 - 0.12 sec - Loss 0.094919 - ACC 81.23% - ACC Mean 82.72% - AUC 88.35% - AUC Mean 89.07% - Deter 007\n",
      "Ite 00100 - 0.13 sec - Loss 0.076366 - ACC 81.18% - ACC Mean 81.37% - AUC 88.74% - AUC Mean 88.55% - Deter 057\n",
      "Ite 00150 - 0.12 sec - Loss 0.047531 - ACC 84.87% - ACC Mean 83.46% - AUC 90.58% - AUC Mean 89.36% - Deter 005\n",
      "Ite 00200 - 0.10 sec - Loss 0.033202 - ACC 85.99% - ACC Mean 85.37% - AUC 91.52% - AUC Mean 91.04% - Deter 014\n",
      "Ite 00250 - 0.09 sec - Loss 0.029545 - ACC 82.45% - ACC Mean 84.79% - AUC 90.43% - AUC Mean 91.19% - Deter 064\n",
      "Ite 00300 - 0.10 sec - Loss 0.028319 - ACC 83.35% - ACC Mean 83.36% - AUC 90.91% - AUC Mean 90.97% - Deter 114\n",
      "Ite 00350 - 0.11 sec - Loss 0.027605 - ACC 82.80% - ACC Mean 82.94% - AUC 90.73% - AUC Mean 90.86% - Deter 164\n",
      "Ite 00400 - 0.11 sec - Loss 0.027013 - ACC 83.40% - ACC Mean 82.93% - AUC 90.90% - AUC Mean 90.83% - Deter 214\n",
      "Ite 00450 - 0.10 sec - Loss 0.026405 - ACC 83.10% - ACC Mean 83.19% - AUC 90.77% - AUC Mean 90.82% - Deter 264\n",
      "Ite 00500 - 0.10 sec - Loss 0.025753 - ACC 83.61% - ACC Mean 83.27% - AUC 91.08% - AUC Mean 90.90% - Deter 314\n",
      "Ite 00550 - 0.10 sec - Loss 0.025082 - ACC 83.10% - ACC Mean 83.51% - AUC 90.96% - AUC Mean 91.05% - Deter 364\n",
      "Ite 00586 - 0.09 sec - Loss 0.024552 - ACC 83.35% - ACC Mean 83.35% - AUC 91.05% - AUC Mean 91.06% - Deter 400\n",
      "Early stop ite 586, rollback to correction of ite 186, whith acc of 85.29% and auc of 91.8%\n",
      "OUR METHOD RUN 7/10 - acc: 85.29% +- 0.0% - auc: 91.8% +- 0.0%\n",
      "Ite 00000 - 0.12 sec - Loss 0.102770 - ACC 82.04% - ACC Mean 82.04% - AUC 88.29% - AUC Mean 88.29% - Deter 000\n",
      "Ite 00050 - 0.13 sec - Loss 0.096029 - ACC 81.88% - ACC Mean 82.73% - AUC 87.81% - AUC Mean 88.32% - Deter 012\n",
      "Ite 00100 - 0.15 sec - Loss 0.081208 - ACC 81.95% - ACC Mean 82.52% - AUC 89.15% - AUC Mean 88.77% - Deter 043\n",
      "Ite 00150 - 0.11 sec - Loss 0.056752 - ACC 80.88% - ACC Mean 81.92% - AUC 88.58% - AUC Mean 88.97% - Deter 093\n",
      "Ite 00200 - 0.09 sec - Loss 0.037473 - ACC 83.75% - ACC Mean 82.08% - AUC 89.72% - AUC Mean 89.02% - Deter 002\n",
      "Ite 00250 - 0.10 sec - Loss 0.030636 - ACC 85.39% - ACC Mean 85.85% - AUC 91.49% - AUC Mean 91.68% - Deter 016\n",
      "Ite 00300 - 0.10 sec - Loss 0.028826 - ACC 86.21% - ACC Mean 85.15% - AUC 91.70% - AUC Mean 91.74% - Deter 042\n",
      "Ite 00350 - 0.10 sec - Loss 0.028173 - ACC 86.34% - ACC Mean 85.36% - AUC 91.39% - AUC Mean 91.68% - Deter 092\n",
      "Ite 00400 - 0.11 sec - Loss 0.027819 - ACC 84.82% - ACC Mean 85.26% - AUC 91.45% - AUC Mean 91.47% - Deter 142\n",
      "Ite 00450 - 0.10 sec - Loss 0.027528 - ACC 84.82% - ACC Mean 84.91% - AUC 91.45% - AUC Mean 91.39% - Deter 192\n",
      "Ite 00500 - 0.11 sec - Loss 0.027216 - ACC 83.61% - ACC Mean 84.54% - AUC 91.21% - AUC Mean 91.38% - Deter 242\n",
      "Ite 00550 - 0.10 sec - Loss 0.026878 - ACC 85.13% - ACC Mean 84.21% - AUC 91.17% - AUC Mean 91.26% - Deter 292\n",
      "Ite 00600 - 0.10 sec - Loss 0.026425 - ACC 85.43% - ACC Mean 84.65% - AUC 91.34% - AUC Mean 91.22% - Deter 342\n",
      "Ite 00650 - 0.11 sec - Loss 0.025894 - ACC 85.17% - ACC Mean 84.87% - AUC 91.00% - AUC Mean 90.90% - Deter 392\n",
      "Ite 00658 - 0.10 sec - Loss 0.025800 - ACC 85.17% - ACC Mean 84.88% - AUC 90.86% - AUC Mean 90.85% - Deter 400\n",
      "Early stop ite 658, rollback to correction of ite 258, whith acc of 85.2% and auc of 92.44%\n",
      "OUR METHOD RUN 8/10 - acc: 85.2% +- 0.0% - auc: 92.44% +- 0.0%\n",
      "Ite 00000 - 0.14 sec - Loss 0.101572 - ACC 82.53% - ACC Mean 82.53% - AUC 88.36% - AUC Mean 88.36% - Deter 000\n",
      "Ite 00050 - 0.10 sec - Loss 0.094941 - ACC 81.49% - ACC Mean 82.91% - AUC 88.42% - AUC Mean 89.23% - Deter 012\n",
      "Ite 00100 - 0.12 sec - Loss 0.077650 - ACC 80.48% - ACC Mean 82.03% - AUC 87.26% - AUC Mean 88.75% - Deter 062\n",
      "Ite 00150 - 0.10 sec - Loss 0.049074 - ACC 84.26% - ACC Mean 83.72% - AUC 90.71% - AUC Mean 89.99% - Deter 027\n",
      "Ite 00200 - 0.12 sec - Loss 0.033571 - ACC 83.35% - ACC Mean 84.95% - AUC 90.70% - AUC Mean 91.05% - Deter 046\n",
      "Ite 00250 - 0.10 sec - Loss 0.029587 - ACC 85.17% - ACC Mean 84.17% - AUC 90.62% - AUC Mean 90.85% - Deter 096\n",
      "Ite 00300 - 0.14 sec - Loss 0.028407 - ACC 85.17% - ACC Mean 84.78% - AUC 90.87% - AUC Mean 90.81% - Deter 146\n",
      "Ite 00350 - 0.10 sec - Loss 0.027835 - ACC 83.66% - ACC Mean 84.43% - AUC 90.91% - AUC Mean 90.89% - Deter 196\n",
      "Ite 00400 - 0.10 sec - Loss 0.027425 - ACC 83.96% - ACC Mean 84.62% - AUC 91.11% - AUC Mean 90.91% - Deter 246\n",
      "Ite 00450 - 0.09 sec - Loss 0.027025 - ACC 85.78% - ACC Mean 84.74% - AUC 91.25% - AUC Mean 90.94% - Deter 296\n",
      "Ite 00500 - 0.11 sec - Loss 0.026581 - ACC 85.78% - ACC Mean 85.09% - AUC 91.25% - AUC Mean 91.14% - Deter 346\n",
      "Ite 00550 - 0.08 sec - Loss 0.026076 - ACC 82.19% - ACC Mean 85.07% - AUC 89.97% - AUC Mean 90.91% - Deter 396\n",
      "Ite 00554 - 0.12 sec - Loss 0.026015 - ACC 85.17% - ACC Mean 85.04% - AUC 91.00% - AUC Mean 90.89% - Deter 400\n",
      "Early stop ite 554, rollback to correction of ite 154, whith acc of 85.18% and auc of 91.73%\n",
      "OUR METHOD RUN 9/10 - acc: 85.18% +- 0.0% - auc: 91.73% +- 0.0%\n",
      "Ite 00000 - 0.09 sec - Loss 0.101638 - ACC 82.90% - ACC Mean 82.90% - AUC 89.73% - AUC Mean 89.73% - Deter 000\n",
      "Ite 00050 - 0.11 sec - Loss 0.095173 - ACC 82.09% - ACC Mean 81.69% - AUC 88.69% - AUC Mean 88.57% - Deter 019\n",
      "Ite 00100 - 0.10 sec - Loss 0.079133 - ACC 80.83% - ACC Mean 80.96% - AUC 88.68% - AUC Mean 88.60% - Deter 069\n",
      "Ite 00150 - 0.09 sec - Loss 0.053154 - ACC 83.77% - ACC Mean 82.27% - AUC 88.54% - AUC Mean 87.87% - Deter 005\n",
      "Ite 00200 - 0.13 sec - Loss 0.036698 - ACC 82.75% - ACC Mean 83.49% - AUC 90.52% - AUC Mean 89.93% - Deter 037\n",
      "Ite 00250 - 0.12 sec - Loss 0.031248 - ACC 84.61% - ACC Mean 82.86% - AUC 90.18% - AUC Mean 90.48% - Deter 087\n",
      "Ite 00300 - 0.12 sec - Loss 0.029403 - ACC 83.80% - ACC Mean 83.18% - AUC 89.91% - AUC Mean 90.11% - Deter 137\n",
      "Ite 00350 - 0.14 sec - Loss 0.028586 - ACC 83.80% - ACC Mean 82.94% - AUC 89.91% - AUC Mean 90.19% - Deter 187\n",
      "Ite 00400 - 0.09 sec - Loss 0.028109 - ACC 82.19% - ACC Mean 82.96% - AUC 90.06% - AUC Mean 90.13% - Deter 237\n",
      "Ite 00450 - 0.10 sec - Loss 0.027751 - ACC 83.80% - ACC Mean 82.88% - AUC 89.54% - AUC Mean 90.12% - Deter 287\n",
      "Ite 00500 - 0.14 sec - Loss 0.027413 - ACC 82.19% - ACC Mean 82.97% - AUC 89.97% - AUC Mean 90.16% - Deter 337\n",
      "Ite 00550 - 0.09 sec - Loss 0.027049 - ACC 83.00% - ACC Mean 83.30% - AUC 90.59% - AUC Mean 90.15% - Deter 387\n",
      "Ite 00563 - 0.11 sec - Loss 0.026923 - ACC 83.00% - ACC Mean 83.35% - AUC 90.59% - AUC Mean 90.15% - Deter 400\n",
      "Early stop ite 563, rollback to correction of ite 163, whith acc of 85.9% and auc of 91.09%\n",
      "OUR METHOD RUN 10/10 - acc: 85.9% +- 0.0% - auc: 91.09% +- 0.0%\n",
      "\n",
      "OUR METHOD GLOBAL - acc: 86.07% +- 1.18% - auc: 92.27% +- 0.79%\n"
     ]
    }
   ],
   "source": [
    "params = {\n",
    "    'nb_batches': 10,\n",
    "    'reg_noise_std': .03,\n",
    "    'net_input': 'data_corrupted',\n",
    "    'net_params': [80, 80],\n",
    "    'adam_lr': .0001,\n",
    "    'adam_weight_decay': 0.,\n",
    "}\n",
    "\n",
    "ours_accs, ours_aucs = [], []\n",
    "for i in range(n_runs):\n",
    "    ours_correction = correction.run(data_missing, 4001, params, y=y, missing_mask=missing_mask, seed=i)\n",
    "    ## Since our method returns 2 imputations select the best one\n",
    "    scores_raw = utils.get_scores(ours_correction['raw_out'], y)\n",
    "    acc = scores_raw['test_balanced_accuracy']\n",
    "    auc = scores_raw['test_roc_auc_ovo']\n",
    "    acc = acc.mean()\n",
    "    acc_std = acc.std()\n",
    "    auc = auc.mean()\n",
    "    auc_std = auc.std()\n",
    "    if 'masked_out' in ours_correction:\n",
    "        scores_masked = utils.get_scores(ours_correction['masked_out'], y)\n",
    "        acc_masked = scores_masked['test_balanced_accuracy']\n",
    "        auc_masked = scores_masked['test_roc_auc_ovo']\n",
    "        if auc_masked.mean() > auc:\n",
    "            acc = acc_masked.mean()\n",
    "            acc_std = acc_masked.std()\n",
    "            auc = auc_masked.mean()\n",
    "            auc_std = auc_masked.std()\n",
    "    print(f'OUR METHOD RUN {i + 1}/{n_runs} - acc: {round(acc.mean() * 100, 2)}% +- {round(acc.std() * 100, 2)}% - ' +\n",
    "          f'auc: {round(auc.mean() * 100, 2)}% +- {round(auc.std() * 100, 2)}%')\n",
    "    ours_accs.append(acc.mean())\n",
    "    ours_aucs.append(auc.mean())\n",
    "print(f'\\nOUR METHOD GLOBAL - acc: {round(np.array(ours_accs).mean() * 100, 2)}% +- {round(np.array(ours_accs).std() * 100, 2)}% - ' +\n",
    "      f'auc: {round(np.array(ours_aucs).mean() * 100, 2)}% +- {round(np.array(ours_aucs).std() * 100, 2)}%')"
   ]
  },
  {
   "cell_type": "markdown",
   "metadata": {},
   "source": [
    "## Run Median, Mean and KNN"
   ]
  },
  {
   "cell_type": "code",
   "execution_count": 5,
   "metadata": {
    "ExecuteTime": {
     "end_time": "2022-06-03T15:23:05.488483Z",
     "start_time": "2022-06-03T15:23:05.488473Z"
    },
    "execution": {
     "iopub.execute_input": "2022-06-04T07:29:28.540468Z",
     "iopub.status.busy": "2022-06-04T07:29:28.539032Z",
     "iopub.status.idle": "2022-06-04T07:29:28.805652Z",
     "shell.execute_reply": "2022-06-04T07:29:28.804714Z"
    }
   },
   "outputs": [
    {
     "name": "stdout",
     "output_type": "stream",
     "text": [
      "MEDIAN - acc: 79.99% +- 0.0% - auc: 89.8% +- 0.0%\n",
      "MEAN - acc: 85.92% +- 0.0% - auc: 90.72% +- 0.0%\n",
      "KNN - acc: 85.83% +- 0.0% - auc: 90.9% +- 0.0%\n"
     ]
    }
   ],
   "source": [
    "data_missing_nans = np.where(missing_mask, data_missing, np.nan)\n",
    "\n",
    "median_imputer = SimpleImputer(missing_values=np.nan, strategy='median')\n",
    "mean_imputer = SimpleImputer(missing_values=np.nan, strategy='mean')\n",
    "knn_imputer = KNNImputer(n_neighbors=10, weights='uniform')\n",
    "\n",
    "median_completed = median_imputer.fit_transform(data_missing_nans)\n",
    "mean_completed = mean_imputer.fit_transform(data_missing_nans)\n",
    "knn_completed = knn_imputer.fit_transform(data_missing_nans)\n",
    "\n",
    "## All runs would be the same since deterministic methods\n",
    "scores = utils.get_scores(median_completed, y)\n",
    "acc = [scores['test_balanced_accuracy'].mean()] * n_runs\n",
    "auc = [scores['test_roc_auc_ovo'].mean()] * n_runs\n",
    "print(f'MEDIAN - acc: {round(np.mean(acc) * 100, 2)}% +- {round(np.std(acc) * 100, 2)}% - ' +\n",
    "      f'auc: {round(np.mean(auc) * 100, 2)}% +- {round(np.std(auc) * 100, 2)}%')\n",
    "median_accs = acc\n",
    "median_aucs = auc\n",
    "\n",
    "scores = utils.get_scores(mean_completed, y)\n",
    "acc = [scores['test_balanced_accuracy'].mean()] * n_runs\n",
    "auc = [scores['test_roc_auc_ovo'].mean()] * n_runs\n",
    "print(f'MEAN - acc: {round(np.mean(acc) * 100, 2)}% +- {round(np.std(acc) * 100, 2)}% - ' +\n",
    "      f'auc: {round(np.mean(auc) * 100, 2)}% +- {round(np.std(auc) * 100, 2)}%')\n",
    "mean_accs = acc\n",
    "mean_aucs = auc\n",
    "\n",
    "scores = utils.get_scores(knn_completed, y)\n",
    "acc = [scores['test_balanced_accuracy'].mean()] * n_runs\n",
    "auc = [scores['test_roc_auc_ovo'].mean()] * n_runs\n",
    "print(f'KNN - acc: {round(np.mean(acc) * 100, 2)}% +- {round(np.std(acc) * 100, 2)}% - ' +\n",
    "      f'auc: {round(np.mean(auc) * 100, 2)}% +- {round(np.std(auc) * 100, 2)}%')\n",
    "knn_accs = acc\n",
    "knn_aucs = auc"
   ]
  },
  {
   "cell_type": "markdown",
   "metadata": {},
   "source": [
    "## Run GAIN"
   ]
  },
  {
   "cell_type": "code",
   "execution_count": 6,
   "metadata": {
    "ExecuteTime": {
     "end_time": "2022-06-03T15:23:05.489380Z",
     "start_time": "2022-06-03T15:23:05.489371Z"
    },
    "execution": {
     "iopub.execute_input": "2022-06-04T07:29:28.817364Z",
     "iopub.status.busy": "2022-06-04T07:29:28.816394Z",
     "iopub.status.idle": "2022-06-04T07:35:46.730741Z",
     "shell.execute_reply": "2022-06-04T07:35:46.730246Z"
    },
    "scrolled": false
   },
   "outputs": [
    {
     "name": "stderr",
     "output_type": "stream",
     "text": [
      "100%|██████████| 5000/5000 [00:36<00:00, 138.34it/s]\n"
     ]
    },
    {
     "name": "stdout",
     "output_type": "stream",
     "text": [
      "\n",
      "GAIN RUN 1/10 - acc: 81.27% +- 3.55% - auc: 87.56% +- 1.74%\n",
      "\n"
     ]
    },
    {
     "name": "stderr",
     "output_type": "stream",
     "text": [
      "100%|██████████| 5000/5000 [00:35<00:00, 139.16it/s]\n"
     ]
    },
    {
     "name": "stdout",
     "output_type": "stream",
     "text": [
      "\n",
      "GAIN RUN 2/10 - acc: 81.51% +- 4.88% - auc: 88.97% +- 3.02%\n",
      "\n"
     ]
    },
    {
     "name": "stderr",
     "output_type": "stream",
     "text": [
      "100%|██████████| 5000/5000 [00:36<00:00, 138.21it/s]\n"
     ]
    },
    {
     "name": "stdout",
     "output_type": "stream",
     "text": [
      "\n",
      "GAIN RUN 3/10 - acc: 82.4% +- 3.71% - auc: 88.58% +- 1.94%\n",
      "\n"
     ]
    },
    {
     "name": "stderr",
     "output_type": "stream",
     "text": [
      "100%|██████████| 5000/5000 [00:36<00:00, 136.65it/s]\n"
     ]
    },
    {
     "name": "stdout",
     "output_type": "stream",
     "text": [
      "\n",
      "GAIN RUN 4/10 - acc: 81.77% +- 2.47% - auc: 87.58% +- 1.86%\n",
      "\n"
     ]
    },
    {
     "name": "stderr",
     "output_type": "stream",
     "text": [
      "100%|██████████| 5000/5000 [00:36<00:00, 136.17it/s]\n"
     ]
    },
    {
     "name": "stdout",
     "output_type": "stream",
     "text": [
      "\n",
      "GAIN RUN 5/10 - acc: 87.83% +- 2.86% - auc: 91.87% +- 2.23%\n",
      "\n"
     ]
    },
    {
     "name": "stderr",
     "output_type": "stream",
     "text": [
      "100%|██████████| 5000/5000 [00:30<00:00, 164.56it/s]\n"
     ]
    },
    {
     "name": "stdout",
     "output_type": "stream",
     "text": [
      "\n",
      "GAIN RUN 6/10 - acc: 80.66% +- 3.22% - auc: 86.89% +- 2.23%\n",
      "\n"
     ]
    },
    {
     "name": "stderr",
     "output_type": "stream",
     "text": [
      "100%|██████████| 5000/5000 [00:37<00:00, 134.21it/s]\n"
     ]
    },
    {
     "name": "stdout",
     "output_type": "stream",
     "text": [
      "\n",
      "GAIN RUN 7/10 - acc: 85.12% +- 5.27% - auc: 91.21% +- 2.61%\n",
      "\n"
     ]
    },
    {
     "name": "stderr",
     "output_type": "stream",
     "text": [
      "100%|██████████| 5000/5000 [00:38<00:00, 129.87it/s]\n"
     ]
    },
    {
     "name": "stdout",
     "output_type": "stream",
     "text": [
      "\n",
      "GAIN RUN 8/10 - acc: 84.01% +- 3.7% - auc: 88.35% +- 3.28%\n",
      "\n"
     ]
    },
    {
     "name": "stderr",
     "output_type": "stream",
     "text": [
      "100%|██████████| 5000/5000 [00:39<00:00, 125.51it/s]\n"
     ]
    },
    {
     "name": "stdout",
     "output_type": "stream",
     "text": [
      "\n",
      "GAIN RUN 9/10 - acc: 87.66% +- 1.99% - auc: 92.16% +- 1.42%\n",
      "\n"
     ]
    },
    {
     "name": "stderr",
     "output_type": "stream",
     "text": [
      "100%|██████████| 5000/5000 [00:39<00:00, 126.06it/s]\n"
     ]
    },
    {
     "name": "stdout",
     "output_type": "stream",
     "text": [
      "\n",
      "GAIN RUN 10/10 - acc: 84.41% +- 2.06% - auc: 90.28% +- 2.14%\n",
      "\n",
      "GAIN GLOBAL - acc: 83.66% +- 2.46% - auc: 89.35% +- 1.81%\n"
     ]
    }
   ],
   "source": [
    "gain_parameters = {'batch_size': 128,\n",
    "                   'hint_rate': .9,\n",
    "                   'alpha': 100,\n",
    "                   'iterations': 5000}\n",
    "\n",
    "gain_accs, gain_aucs = [], []\n",
    "for i in range(n_runs):\n",
    "    random.seed(i)\n",
    "    np.random.seed(i)\n",
    "    torch.manual_seed(i)\n",
    "    imputed = gain(data_missing_nans, gain_parameters)\n",
    "    scores = utils.get_scores(imputed, y)\n",
    "    acc = scores['test_balanced_accuracy']\n",
    "    auc = scores['test_roc_auc_ovo']\n",
    "    print(f'\\nGAIN RUN {i + 1}/{n_runs} - acc: {round(acc.mean() * 100, 2)}% +- {round(acc.std() * 100, 2)}% - ' +\n",
    "          f'auc: {round(auc.mean() * 100, 2)}% +- {round(auc.std() * 100, 2)}%\\n')\n",
    "    gain_accs.append(acc.mean())\n",
    "    gain_aucs.append(auc.mean())\n",
    "print(f'GAIN GLOBAL - acc: {round(np.array(gain_accs).mean() * 100, 2)}% +- {round(np.array(gain_accs).std() * 100, 2)}% - ' +\n",
    "      f'auc: {round(np.array(gain_aucs).mean() * 100, 2)}% +- {round(np.array(gain_aucs).std() * 100, 2)}%')"
   ]
  },
  {
   "cell_type": "markdown",
   "metadata": {},
   "source": [
    "## Run MICE"
   ]
  },
  {
   "cell_type": "code",
   "execution_count": 7,
   "metadata": {
    "ExecuteTime": {
     "end_time": "2022-06-03T15:23:05.489983Z",
     "start_time": "2022-06-03T15:23:05.489973Z"
    },
    "execution": {
     "iopub.execute_input": "2022-06-04T07:35:46.737875Z",
     "iopub.status.busy": "2022-06-04T07:35:46.737449Z",
     "iopub.status.idle": "2022-06-04T07:36:21.518710Z",
     "shell.execute_reply": "2022-06-04T07:36:21.519093Z"
    }
   },
   "outputs": [
    {
     "name": "stdout",
     "output_type": "stream",
     "text": [
      "MICE - acc: 85.22% +- 0.0% - auc: 90.45% +- 0.0%\n"
     ]
    }
   ],
   "source": [
    "imputer = IterativeImputer()\n",
    "imputed = imputer.fit_transform(data_missing_nans)\n",
    "## All runs would be the same since deterministic method\n",
    "scores = utils.get_scores(imputed, y)\n",
    "acc = [scores['test_balanced_accuracy'].mean()] * n_runs\n",
    "auc = [scores['test_roc_auc_ovo'].mean()] * n_runs\n",
    "print(f'MICE - acc: {round(np.mean(acc) * 100, 2)}% +- {round(np.std(acc) * 100, 2)}% - ' +\n",
    "      f'auc: {round(np.mean(auc) * 100, 2)}% +- {round(np.std(auc) * 100, 2)}%')\n",
    "mice_accs = acc\n",
    "mice_aucs = auc"
   ]
  },
  {
   "cell_type": "markdown",
   "metadata": {},
   "source": [
    "## Run MISSFOREST"
   ]
  },
  {
   "cell_type": "code",
   "execution_count": 8,
   "metadata": {
    "ExecuteTime": {
     "end_time": "2022-06-03T15:23:05.490726Z",
     "start_time": "2022-06-03T15:23:05.490717Z"
    },
    "execution": {
     "iopub.execute_input": "2022-06-04T07:36:21.536601Z",
     "iopub.status.busy": "2022-06-04T07:36:21.524821Z",
     "iopub.status.idle": "2022-06-04T08:43:37.624900Z",
     "shell.execute_reply": "2022-06-04T08:43:37.625513Z"
    },
    "scrolled": false
   },
   "outputs": [
    {
     "name": "stdout",
     "output_type": "stream",
     "text": [
      "Iteration: 0\n",
      "Iteration: 1\n",
      "Iteration: 2\n",
      "Iteration: 3\n",
      "Iteration: 4\n",
      "Iteration: 5\n",
      "Iteration: 6\n",
      "Iteration: 7\n",
      "\n",
      "MISSFOREST RUN 1/10 - acc: 85.5% +- 1.81% - auc: 90.85% +- 1.33%\n",
      "\n",
      "Iteration: 0\n",
      "Iteration: 1\n",
      "Iteration: 2\n",
      "Iteration: 3\n",
      "Iteration: 4\n",
      "\n",
      "MISSFOREST RUN 2/10 - acc: 84.0% +- 3.21% - auc: 90.73% +- 1.76%\n",
      "\n",
      "Iteration: 0\n",
      "Iteration: 1\n",
      "Iteration: 2\n",
      "Iteration: 3\n",
      "Iteration: 4\n",
      "Iteration: 5\n",
      "\n",
      "MISSFOREST RUN 3/10 - acc: 82.0% +- 2.39% - auc: 90.36% +- 1.12%\n",
      "\n",
      "Iteration: 0\n",
      "Iteration: 1\n",
      "Iteration: 2\n",
      "Iteration: 3\n",
      "Iteration: 4\n",
      "Iteration: 5\n",
      "Iteration: 6\n",
      "Iteration: 7\n",
      "\n",
      "MISSFOREST RUN 4/10 - acc: 84.9% +- 1.52% - auc: 90.66% +- 1.57%\n",
      "\n",
      "Iteration: 0\n",
      "Iteration: 1\n",
      "Iteration: 2\n",
      "Iteration: 3\n",
      "Iteration: 4\n",
      "Iteration: 5\n",
      "\n",
      "MISSFOREST RUN 5/10 - acc: 82.8% +- 2.57% - auc: 90.92% +- 1.69%\n",
      "\n",
      "Iteration: 0\n",
      "Iteration: 1\n",
      "Iteration: 2\n",
      "Iteration: 3\n",
      "Iteration: 4\n",
      "Iteration: 5\n",
      "\n",
      "MISSFOREST RUN 6/10 - acc: 83.45% +- 3.57% - auc: 90.96% +- 1.81%\n",
      "\n",
      "Iteration: 0\n",
      "Iteration: 1\n",
      "Iteration: 2\n",
      "Iteration: 3\n",
      "Iteration: 4\n",
      "Iteration: 5\n",
      "Iteration: 6\n",
      "Iteration: 7\n",
      "\n",
      "MISSFOREST RUN 7/10 - acc: 84.94% +- 2.34% - auc: 91.1% +- 1.74%\n",
      "\n",
      "Iteration: 0\n",
      "Iteration: 1\n",
      "Iteration: 2\n",
      "Iteration: 3\n",
      "Iteration: 4\n",
      "Iteration: 5\n",
      "Iteration: 6\n",
      "\n",
      "MISSFOREST RUN 8/10 - acc: 85.72% +- 2.29% - auc: 90.72% +- 2.01%\n",
      "\n",
      "Iteration: 0\n",
      "Iteration: 1\n",
      "Iteration: 2\n",
      "Iteration: 3\n",
      "Iteration: 4\n",
      "\n",
      "MISSFOREST RUN 9/10 - acc: 83.77% +- 2.24% - auc: 91.17% +- 0.75%\n",
      "\n",
      "Iteration: 0\n",
      "Iteration: 1\n",
      "Iteration: 2\n",
      "Iteration: 3\n",
      "\n",
      "MISSFOREST RUN 10/10 - acc: 84.15% +- 3.24% - auc: 90.47% +- 2.3%\n",
      "\n",
      "\n",
      "MISSFOREST GLOBAL - acc: 84.12% +- 1.12% - auc: 90.79% +- 0.24%\n"
     ]
    }
   ],
   "source": [
    "miss_accs, miss_aucs = [], []\n",
    "for i in range(n_runs):\n",
    "    random.seed(i)\n",
    "    np.random.seed(i)\n",
    "    torch.manual_seed(i)\n",
    "    imputer = MissForest(n_jobs=-1, random_state=i)\n",
    "    imputed = imputer.fit_transform(data_missing_nans)\n",
    "    scores = utils.get_scores(imputed, y)\n",
    "    acc = scores['test_balanced_accuracy']\n",
    "    auc = scores['test_roc_auc_ovo']\n",
    "    print(f'\\nMISSFOREST RUN {i + 1}/{n_runs} - acc: {round(acc.mean() * 100, 2)}% +- {round(acc.std() * 100, 2)}% - ' +\n",
    "          f'auc: {round(auc.mean() * 100, 2)}% +- {round(auc.std() * 100, 2)}%\\n')\n",
    "    miss_accs.append(acc.mean())\n",
    "    miss_aucs.append(auc.mean())\n",
    "print(f'\\nMISSFOREST GLOBAL - acc: {round(np.array(miss_accs).mean() * 100, 2)}% +- {round(np.array(miss_accs).std() * 100, 2)}% - ' +\n",
    "      f'auc: {round(np.array(miss_aucs).mean() * 100, 2)}% +- {round(np.array(miss_aucs).std() * 100, 2)}%')"
   ]
  },
  {
   "cell_type": "markdown",
   "metadata": {},
   "source": [
    "## Run SOFTIMPUTE"
   ]
  },
  {
   "cell_type": "code",
   "execution_count": 9,
   "metadata": {
    "ExecuteTime": {
     "end_time": "2022-06-03T15:23:05.491327Z",
     "start_time": "2022-06-03T15:23:05.491318Z"
    },
    "execution": {
     "iopub.execute_input": "2022-06-04T08:43:37.628549Z",
     "iopub.status.busy": "2022-06-04T08:43:37.627971Z",
     "iopub.status.idle": "2022-06-04T08:43:38.860385Z",
     "shell.execute_reply": "2022-06-04T08:43:38.860741Z"
    }
   },
   "outputs": [
    {
     "name": "stdout",
     "output_type": "stream",
     "text": [
      "SOFTIMPUTE RUN 1/10 - acc: 86.3% +- 2.98% - auc: 90.29% +- 2.2%\n",
      "SOFTIMPUTE RUN 2/10 - acc: 84.48% +- 1.04% - auc: 91.18% +- 2.52%\n",
      "SOFTIMPUTE RUN 3/10 - acc: 81.47% +- 7.71% - auc: 90.14% +- 3.89%\n",
      "SOFTIMPUTE RUN 4/10 - acc: 84.6% +- 4.41% - auc: 89.93% +- 3.59%\n",
      "SOFTIMPUTE RUN 5/10 - acc: 87.63% +- 2.74% - auc: 91.74% +- 1.87%\n",
      "SOFTIMPUTE RUN 6/10 - acc: 84.27% +- 2.42% - auc: 91.47% +- 0.71%\n",
      "SOFTIMPUTE RUN 7/10 - acc: 85.92% +- 2.9% - auc: 90.75% +- 2.9%\n",
      "SOFTIMPUTE RUN 8/10 - acc: 84.36% +- 8.86% - auc: 89.64% +- 4.99%\n",
      "SOFTIMPUTE RUN 9/10 - acc: 84.36% +- 7.56% - auc: 89.92% +- 4.04%\n",
      "SOFTIMPUTE RUN 10/10 - acc: 84.27% +- 5.53% - auc: 89.63% +- 3.83%\n",
      "\n",
      "SOFTIMPUTE GLOBAL - acc: 84.76% +- 1.54% - auc: 90.47% +- 0.73%\n"
     ]
    }
   ],
   "source": [
    "soft_accs, soft_aucs = [], []\n",
    "for i in range(n_runs):\n",
    "    random.seed(i)\n",
    "    np.random.seed(i)\n",
    "    torch.manual_seed(i)\n",
    "    imputer = SoftImpute(random_state=i)\n",
    "    imputer.fit(data_missing_nans)\n",
    "    imputed = imputer.predict(data_missing_nans)\n",
    "    imputed = np.where(missing_mask, data_missing, imputed)\n",
    "    scores = utils.get_scores(imputed, y)\n",
    "    acc = scores['test_balanced_accuracy']\n",
    "    auc = scores['test_roc_auc_ovo']\n",
    "    print(f'SOFTIMPUTE RUN {i + 1}/{n_runs} - acc: {round(acc.mean() * 100, 2)}% +- {round(acc.std() * 100, 2)}% - ' +\n",
    "          f'auc: {round(auc.mean() * 100, 2)}% +- {round(auc.std() * 100, 2)}%')\n",
    "    soft_accs.append(acc.mean())\n",
    "    soft_aucs.append(auc.mean())\n",
    "print(f'\\nSOFTIMPUTE GLOBAL - acc: {round(np.array(soft_accs).mean() * 100, 2)}% +- {round(np.array(soft_accs).std() * 100, 2)}% - ' +\n",
    "      f'auc: {round(np.array(soft_aucs).mean() * 100, 2)}% +- {round(np.array(soft_aucs).std() * 100, 2)}%')"
   ]
  },
  {
   "cell_type": "markdown",
   "metadata": {},
   "source": [
    "## Run SINKHORN"
   ]
  },
  {
   "cell_type": "code",
   "execution_count": 10,
   "metadata": {
    "ExecuteTime": {
     "end_time": "2022-06-03T15:23:05.491915Z",
     "start_time": "2022-06-03T15:23:05.491906Z"
    },
    "execution": {
     "iopub.execute_input": "2022-06-04T08:43:38.869225Z",
     "iopub.status.busy": "2022-06-04T08:43:38.868710Z",
     "iopub.status.idle": "2022-06-04T08:49:56.514876Z",
     "shell.execute_reply": "2022-06-04T08:49:56.514369Z"
    }
   },
   "outputs": [
    {
     "name": "stdout",
     "output_type": "stream",
     "text": [
      "batchsize = 128, epsilon = 0.0100\n",
      "Iteration 0:\t Loss: 0.8793\n",
      "\n",
      "SINKHORN RUN 1/10 - acc: 80.46% +- 5.63% - auc: 89.12% +- 3.75%\n",
      "\n",
      "batchsize = 128, epsilon = 0.0100\n",
      "Iteration 0:\t Loss: 0.7879\n",
      "\n",
      "SINKHORN RUN 2/10 - acc: 82.9% +- 1.76% - auc: 90.7% +- 2.43%\n",
      "\n",
      "batchsize = 128, epsilon = 0.0100\n",
      "Iteration 0:\t Loss: 0.8190\n",
      "\n",
      "SINKHORN RUN 3/10 - acc: 80.53% +- 1.76% - auc: 88.39% +- 1.68%\n",
      "\n",
      "batchsize = 128, epsilon = 0.0100\n",
      "Iteration 0:\t Loss: 0.8065\n",
      "\n",
      "SINKHORN RUN 4/10 - acc: 86.73% +- 1.48% - auc: 91.71% +- 1.2%\n",
      "\n",
      "batchsize = 128, epsilon = 0.0100\n",
      "Iteration 0:\t Loss: 0.8547\n",
      "\n",
      "SINKHORN RUN 5/10 - acc: 84.19% +- 3.84% - auc: 88.97% +- 2.06%\n",
      "\n",
      "batchsize = 128, epsilon = 0.0100\n",
      "Iteration 0:\t Loss: 0.8141\n",
      "\n",
      "SINKHORN RUN 6/10 - acc: 78.52% +- 2.53% - auc: 87.82% +- 2.57%\n",
      "\n",
      "batchsize = 128, epsilon = 0.0100\n",
      "Iteration 0:\t Loss: 0.7769\n",
      "\n",
      "SINKHORN RUN 7/10 - acc: 82.23% +- 2.49% - auc: 89.89% +- 1.82%\n",
      "\n",
      "batchsize = 128, epsilon = 0.0100\n",
      "Iteration 0:\t Loss: 0.7720\n",
      "\n",
      "SINKHORN RUN 8/10 - acc: 84.89% +- 3.68% - auc: 90.33% +- 3.42%\n",
      "\n",
      "batchsize = 128, epsilon = 0.0100\n",
      "Iteration 0:\t Loss: 0.8215\n",
      "\n",
      "SINKHORN RUN 9/10 - acc: 79.37% +- 5.18% - auc: 87.83% +- 2.71%\n",
      "\n",
      "batchsize = 128, epsilon = 0.0100\n",
      "Iteration 0:\t Loss: 0.7953\n",
      "\n",
      "SINKHORN RUN 10/10 - acc: 83.19% +- 3.27% - auc: 89.71% +- 0.78%\n",
      "\n",
      "\n",
      "SINKHORN GLOBAL - acc: 82.3% +- 2.46% - auc: 89.45% +- 1.2%\n"
     ]
    }
   ],
   "source": [
    "sink_accs, sink_aucs = [], []\n",
    "for i in range(n_runs):\n",
    "    random.seed(i)\n",
    "    np.random.seed(i)\n",
    "    torch.manual_seed(i)\n",
    "    imputer = OTimputer(niter=500)\n",
    "    imputed = imputer.fit_transform(data_missing_nans).cpu().detach().numpy()\n",
    "    scores = utils.get_scores(imputed, y)\n",
    "    acc = scores['test_balanced_accuracy']\n",
    "    auc = scores['test_roc_auc_ovo']\n",
    "    print(f'\\nSINKHORN RUN {i + 1}/{n_runs} - acc: {round(acc.mean() * 100, 2)}% +- {round(acc.std() * 100, 2)}% - ' +\n",
    "          f'auc: {round(auc.mean() * 100, 2)}% +- {round(auc.std() * 100, 2)}%\\n')\n",
    "    sink_accs.append(acc.mean())\n",
    "    sink_aucs.append(auc.mean())\n",
    "print(f'\\nSINKHORN GLOBAL - acc: {round(np.array(sink_accs).mean() * 100, 2)}% +- {round(np.array(sink_accs).std() * 100, 2)}% - ' +\n",
    "      f'auc: {round(np.array(sink_aucs).mean() * 100, 2)}% +- {round(np.array(sink_aucs).std() * 100, 2)}%')"
   ]
  },
  {
   "cell_type": "markdown",
   "metadata": {},
   "source": [
    "## Run MIDA"
   ]
  },
  {
   "cell_type": "code",
   "execution_count": 11,
   "metadata": {
    "ExecuteTime": {
     "end_time": "2022-06-03T15:23:05.492695Z",
     "start_time": "2022-06-03T15:23:05.492686Z"
    },
    "execution": {
     "iopub.execute_input": "2022-06-04T08:49:56.522582Z",
     "iopub.status.busy": "2022-06-04T08:49:56.522138Z",
     "iopub.status.idle": "2022-06-04T08:54:28.731186Z",
     "shell.execute_reply": "2022-06-04T08:54:28.731918Z"
    }
   },
   "outputs": [
    {
     "name": "stdout",
     "output_type": "stream",
     "text": [
      "Stop training at epoch: 1500/1500, return best output\n",
      "\n",
      "MIDA RUN 1/10 - acc: 82.05% +- 4.94% - auc: 89.52% +- 2.39%\n",
      "\n",
      "Stop training at epoch: 1500/1500, return best output\n",
      "\n",
      "MIDA RUN 2/10 - acc: 84.71% +- 1.46% - auc: 89.91% +- 1.52%\n",
      "\n",
      "Stop training at epoch: 1500/1500, return best output\n",
      "\n",
      "MIDA RUN 3/10 - acc: 82.42% +- 4.32% - auc: 89.52% +- 2.59%\n",
      "\n",
      "Stop training at epoch: 1500/1500, return best output\n",
      "\n",
      "MIDA RUN 4/10 - acc: 80.91% +- 4.93% - auc: 89.41% +- 3.83%\n",
      "\n",
      "Stop training at epoch: 1500/1500, return best output\n",
      "\n",
      "MIDA RUN 5/10 - acc: 83.68% +- 3.75% - auc: 90.62% +- 2.59%\n",
      "\n",
      "Stop training at epoch: 1500/1500, return best output\n",
      "\n",
      "MIDA RUN 6/10 - acc: 82.38% +- 5.34% - auc: 89.47% +- 2.83%\n",
      "\n",
      "Stop training at epoch: 1500/1500, return best output\n",
      "\n",
      "MIDA RUN 7/10 - acc: 82.5% +- 1.06% - auc: 89.25% +- 2.19%\n",
      "\n",
      "Stop training at epoch: 1500/1500, return best output\n",
      "\n",
      "MIDA RUN 8/10 - acc: 84.1% +- 2.51% - auc: 90.37% +- 1.97%\n",
      "\n",
      "Stop training at epoch: 1500/1500, return best output\n",
      "\n",
      "MIDA RUN 9/10 - acc: 85.05% +- 3.31% - auc: 89.99% +- 1.16%\n",
      "\n",
      "Stop training at epoch: 1500/1500, return best output\n",
      "\n",
      "MIDA RUN 10/10 - acc: 81.47% +- 4.45% - auc: 89.61% +- 2.25%\n",
      "\n",
      "\n",
      "MIDA GLOBAL - acc: 82.93% +- 1.32% - auc: 89.77% +- 0.42%\n"
     ]
    }
   ],
   "source": [
    "mida_accs, mida_aucs = [], []\n",
    "for i in range(n_runs):\n",
    "    random.seed(i)\n",
    "    np.random.seed(i)\n",
    "    torch.manual_seed(i)\n",
    "    imputed = mida(data_missing_nans, num_layers=2, num_epochs=1500)\n",
    "    imputed = np.where(missing_mask, data_missing, imputed)\n",
    "    scores = utils.get_scores(imputed, y)\n",
    "    acc = scores['test_balanced_accuracy']\n",
    "    auc = scores['test_roc_auc_ovo']\n",
    "    print(f'\\nMIDA RUN {i + 1}/{n_runs} - acc: {round(acc.mean() * 100, 2)}% +- {round(acc.std() * 100, 2)}% - ' +\n",
    "          f'auc: {round(auc.mean() * 100, 2)}% +- {round(auc.std() * 100, 2)}%\\n')\n",
    "    mida_accs.append(acc.mean())\n",
    "    mida_aucs.append(auc.mean())\n",
    "print(f'\\nMIDA GLOBAL - acc: {round(np.array(mida_accs).mean() * 100, 2)}% +- {round(np.array(mida_accs).std() * 100, 2)}% - ' +\n",
    "      f'auc: {round(np.array(mida_aucs).mean() * 100, 2)}% +- {round(np.array(mida_aucs).std() * 100, 2)}%')"
   ]
  },
  {
   "cell_type": "markdown",
   "metadata": {},
   "source": [
    "## Run T-tests"
   ]
  },
  {
   "cell_type": "code",
   "execution_count": 12,
   "metadata": {
    "ExecuteTime": {
     "end_time": "2022-06-03T15:23:05.493389Z",
     "start_time": "2022-06-03T15:23:05.493380Z"
    },
    "execution": {
     "iopub.execute_input": "2022-06-04T08:54:28.742592Z",
     "iopub.status.busy": "2022-06-04T08:54:28.736539Z",
     "iopub.status.idle": "2022-06-04T08:54:28.759445Z",
     "shell.execute_reply": "2022-06-04T08:54:28.758740Z"
    },
    "scrolled": false
   },
   "outputs": [
    {
     "name": "stdout",
     "output_type": "stream",
     "text": [
      "Metric ACC - OUR METHOD is significantly better than MEDIAN\n",
      "Metric AUC - OUR METHOD is significantly better than MEDIAN\n",
      "Metric ACC - OUR METHOD is even with MEAN\n",
      "Metric AUC - OUR METHOD is significantly better than MEAN\n",
      "Metric ACC - OUR METHOD is even with KNN\n",
      "Metric AUC - OUR METHOD is significantly better than KNN\n",
      "Metric ACC - OUR METHOD is significantly better than GAIN\n",
      "Metric AUC - OUR METHOD is significantly better than GAIN\n",
      "Metric ACC - OUR METHOD is significantly better than MICE\n",
      "Metric AUC - OUR METHOD is significantly better than MICE\n",
      "Metric ACC - OUR METHOD is significantly better than MISS\n",
      "Metric AUC - OUR METHOD is significantly better than MISS\n",
      "Metric ACC - OUR METHOD is even with SOFT\n",
      "Metric AUC - OUR METHOD is significantly better than SOFT\n",
      "Metric ACC - OUR METHOD is significantly better than SINK\n",
      "Metric AUC - OUR METHOD is significantly better than SINK\n",
      "Metric ACC - OUR METHOD is significantly better than MIDA\n",
      "Metric AUC - OUR METHOD is significantly better than MIDA\n"
     ]
    }
   ],
   "source": [
    "for model, metrics in {\n",
    "        'MEDIAN': {'ACC': median_accs, 'AUC': median_aucs},\n",
    "        'MEAN': {'ACC': mean_accs, 'AUC': mean_aucs},\n",
    "        'KNN': {'ACC': knn_accs, 'AUC': knn_aucs},\n",
    "        'GAIN': {'ACC': gain_accs, 'AUC': gain_aucs},\n",
    "        'MICE': {'ACC': mice_accs, 'AUC': mice_aucs},\n",
    "        'MISS': {'ACC': miss_accs, 'AUC': miss_aucs},\n",
    "        'SOFT': {'ACC': soft_accs, 'AUC': soft_aucs},\n",
    "        'SINK': {'ACC': sink_accs, 'AUC': sink_aucs},\n",
    "        'MIDA': {'ACC': mida_accs, 'AUC': mida_aucs}}.items():\n",
    "    for metric_name, metric in metrics.items():\n",
    "        ours_metric = ours_accs if metric_name == 'ACC' else ours_aucs\n",
    "        t, p = scipy.stats.ttest_ind(np.array(ours_metric), np.array(metric))\n",
    "        if p <= .05:\n",
    "            if t > 0:\n",
    "                ## Our method is better\n",
    "                print(f'Metric {metric_name} - OUR METHOD is significantly better than {model}')\n",
    "            else:\n",
    "                ## Theirs is better\n",
    "                print(f'Metric {metric_name} - OUR METHOD is significantly worse than {model}')\n",
    "        else:\n",
    "            ## Else we are even\n",
    "            print(f'Metric {metric_name} - OUR METHOD is even with {model}')"
   ]
  }
 ],
 "metadata": {
  "kernelspec": {
   "display_name": "Python 3 (ipykernel)",
   "language": "python",
   "name": "python3"
  },
  "language_info": {
   "codemirror_mode": {
    "name": "ipython",
    "version": 3
   },
   "file_extension": ".py",
   "mimetype": "text/x-python",
   "name": "python",
   "nbconvert_exporter": "python",
   "pygments_lexer": "ipython3",
   "version": "3.9.7"
  },
  "latex_envs": {
   "LaTeX_envs_menu_present": true,
   "autoclose": false,
   "autocomplete": true,
   "bibliofile": "biblio.bib",
   "cite_by": "apalike",
   "current_citInitial": 1,
   "eqLabelWithNumbers": true,
   "eqNumInitial": 1,
   "hotkeys": {
    "equation": "Ctrl-E",
    "itemize": "Ctrl-I"
   },
   "labels_anchors": false,
   "latex_user_defs": false,
   "report_style_numbering": false,
   "user_envs_cfg": false
  }
 },
 "nbformat": 4,
 "nbformat_minor": 2
}
