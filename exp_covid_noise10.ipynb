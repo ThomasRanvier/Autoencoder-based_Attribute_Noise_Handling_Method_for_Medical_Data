{
 "cells": [
  {
   "cell_type": "code",
   "execution_count": 1,
   "metadata": {
    "ExecuteTime": {
     "end_time": "2022-06-03T15:22:32.840331Z",
     "start_time": "2022-06-03T15:22:29.696281Z"
    },
    "execution": {
     "iopub.execute_input": "2022-06-04T07:14:43.060933Z",
     "iopub.status.busy": "2022-06-04T07:14:43.054903Z",
     "iopub.status.idle": "2022-06-04T07:15:15.338094Z",
     "shell.execute_reply": "2022-06-04T07:15:15.336695Z"
    }
   },
   "outputs": [],
   "source": [
    "from __future__ import print_function\n",
    "import warnings\n",
    "warnings.filterwarnings(\"ignore\", category=UserWarning)\n",
    "warnings.filterwarnings(\"ignore\", category=FutureWarning)\n",
    "## Disable tf future deprecated messages\n",
    "import logging\n",
    "logging.getLogger('tensorflow').disabled = True\n",
    "## Disable tf CUDA messages\n",
    "import os\n",
    "os.environ['TF_CPP_MIN_LOG_LEVEL'] = '3'\n",
    "\n",
    "%matplotlib inline\n",
    "\n",
    "import sys\n",
    "import random\n",
    "import numpy as np\n",
    "import pandas as pd\n",
    "\n",
    "import utils\n",
    "import correction\n",
    "from models.dense import *\n",
    "from models.gain import gain\n",
    "from models.soft_impute import SoftImpute\n",
    "from models.sinkhorn import OTimputer\n",
    "from models.mida import mida\n",
    "\n",
    "import scipy.stats\n",
    "\n",
    "from sklearn.experimental import enable_iterative_imputer\n",
    "from sklearn.impute import IterativeImputer\n",
    "from sklearn.impute import KNNImputer, SimpleImputer\n",
    "\n",
    "import sklearn.neighbors._base\n",
    "sys.modules['sklearn.neighbors.base'] = sklearn.neighbors._base\n",
    "from missingpy import MissForest\n",
    "\n",
    "torch.backends.cudnn.enabled = True\n",
    "torch.backends.cudnn.benchmark = True\n",
    "dtype = torch.cuda.FloatTensor"
   ]
  },
  {
   "cell_type": "markdown",
   "metadata": {},
   "source": [
    "## Repeat all experiments for 10 runs"
   ]
  },
  {
   "cell_type": "code",
   "execution_count": 2,
   "metadata": {
    "ExecuteTime": {
     "end_time": "2022-06-03T15:22:32.845502Z",
     "start_time": "2022-06-03T15:22:32.842130Z"
    },
    "execution": {
     "iopub.execute_input": "2022-06-04T07:15:15.344160Z",
     "iopub.status.busy": "2022-06-04T07:15:15.343514Z",
     "iopub.status.idle": "2022-06-04T07:15:15.347730Z",
     "shell.execute_reply": "2022-06-04T07:15:15.347096Z"
    }
   },
   "outputs": [],
   "source": [
    "n_runs = 10"
   ]
  },
  {
   "cell_type": "markdown",
   "metadata": {},
   "source": [
    "## Load data"
   ]
  },
  {
   "cell_type": "code",
   "execution_count": 3,
   "metadata": {
    "ExecuteTime": {
     "end_time": "2022-06-03T15:22:34.289014Z",
     "start_time": "2022-06-03T15:22:32.847779Z"
    },
    "execution": {
     "iopub.execute_input": "2022-06-04T07:15:15.353250Z",
     "iopub.status.busy": "2022-06-04T07:15:15.352722Z",
     "iopub.status.idle": "2022-06-04T07:15:17.978191Z",
     "shell.execute_reply": "2022-06-04T07:15:17.979322Z"
    }
   },
   "outputs": [
    {
     "name": "stdout",
     "output_type": "stream",
     "text": [
      "Dataset shape: (361, 80)\n",
      "19.75% missing data\n",
      "Class distribution: (array([0, 1]), array([195, 166]))\n"
     ]
    }
   ],
   "source": [
    "data_missing, missing_mask, y = utils.load_covid()\n",
    "## Inject noise\n",
    "data_missing = utils.inject_noise(data_missing.copy(), noise_rate=.10)\n",
    "## Replace missing values locations by 0\n",
    "data_missing = data_missing * missing_mask"
   ]
  },
  {
   "cell_type": "markdown",
   "metadata": {},
   "source": [
    "## Run OUR METHOD"
   ]
  },
  {
   "cell_type": "code",
   "execution_count": 4,
   "metadata": {
    "ExecuteTime": {
     "end_time": "2022-06-03T15:23:05.486728Z",
     "start_time": "2022-06-03T15:22:34.290669Z"
    },
    "execution": {
     "iopub.execute_input": "2022-06-04T07:15:17.989144Z",
     "iopub.status.busy": "2022-06-04T07:15:17.988533Z",
     "iopub.status.idle": "2022-06-04T07:32:54.740419Z",
     "shell.execute_reply": "2022-06-04T07:32:54.740912Z"
    },
    "scrolled": false
   },
   "outputs": [
    {
     "name": "stdout",
     "output_type": "stream",
     "text": [
      "Ite 00000 - 0.77 sec - Loss 0.101749 - ACC 80.80% - ACC Mean 80.80% - AUC 88.04% - AUC Mean 88.04% - Deter 000\n",
      "Ite 00050 - 0.11 sec - Loss 0.095351 - ACC 80.56% - ACC Mean 79.83% - AUC 87.46% - AUC Mean 87.34% - Deter 018\n",
      "Ite 00100 - 0.11 sec - Loss 0.078948 - ACC 79.77% - ACC Mean 80.50% - AUC 86.62% - AUC Mean 87.36% - Deter 047\n",
      "Ite 00150 - 0.10 sec - Loss 0.053134 - ACC 79.88% - ACC Mean 80.12% - AUC 87.13% - AUC Mean 87.11% - Deter 097\n",
      "Ite 00200 - 0.10 sec - Loss 0.038708 - ACC 81.33% - ACC Mean 80.17% - AUC 86.89% - AUC Mean 86.62% - Deter 147\n",
      "Ite 00250 - 0.11 sec - Loss 0.034882 - ACC 81.20% - ACC Mean 81.18% - AUC 86.92% - AUC Mean 86.76% - Deter 197\n",
      "Ite 00300 - 0.09 sec - Loss 0.033713 - ACC 80.64% - ACC Mean 80.85% - AUC 86.81% - AUC Mean 86.49% - Deter 247\n",
      "Ite 00350 - 0.10 sec - Loss 0.033111 - ACC 80.17% - ACC Mean 80.41% - AUC 85.54% - AUC Mean 86.26% - Deter 297\n",
      "Ite 00400 - 0.09 sec - Loss 0.032666 - ACC 80.47% - ACC Mean 80.60% - AUC 86.29% - AUC Mean 86.54% - Deter 347\n",
      "Ite 00450 - 0.10 sec - Loss 0.032237 - ACC 80.13% - ACC Mean 80.84% - AUC 86.51% - AUC Mean 87.01% - Deter 002\n",
      "Ite 00500 - 0.10 sec - Loss 0.031730 - ACC 81.02% - ACC Mean 81.03% - AUC 86.76% - AUC Mean 87.42% - Deter 013\n",
      "Ite 00550 - 0.11 sec - Loss 0.031196 - ACC 82.17% - ACC Mean 80.80% - AUC 88.02% - AUC Mean 87.16% - Deter 063\n",
      "Ite 00600 - 0.09 sec - Loss 0.030558 - ACC 81.17% - ACC Mean 80.71% - AUC 87.09% - AUC Mean 87.05% - Deter 113\n",
      "Ite 00650 - 0.21 sec - Loss 0.029840 - ACC 81.66% - ACC Mean 80.72% - AUC 86.46% - AUC Mean 86.87% - Deter 163\n",
      "Ite 00700 - 0.10 sec - Loss 0.029038 - ACC 81.83% - ACC Mean 80.84% - AUC 87.64% - AUC Mean 87.09% - Deter 213\n",
      "Ite 00750 - 0.10 sec - Loss 0.028330 - ACC 82.73% - ACC Mean 80.78% - AUC 87.76% - AUC Mean 87.53% - Deter 035\n",
      "Ite 00800 - 0.09 sec - Loss 0.027709 - ACC 78.04% - ACC Mean 80.91% - AUC 86.09% - AUC Mean 87.91% - Deter 085\n",
      "Ite 00850 - 0.10 sec - Loss 0.027146 - ACC 79.79% - ACC Mean 81.43% - AUC 88.11% - AUC Mean 88.14% - Deter 135\n",
      "Ite 00900 - 0.10 sec - Loss 0.026630 - ACC 79.66% - ACC Mean 81.07% - AUC 86.30% - AUC Mean 87.81% - Deter 185\n",
      "Ite 00950 - 0.09 sec - Loss 0.026099 - ACC 84.50% - ACC Mean 81.84% - AUC 89.29% - AUC Mean 88.19% - Deter 020\n",
      "Ite 01000 - 0.09 sec - Loss 0.025625 - ACC 79.71% - ACC Mean 82.48% - AUC 88.07% - AUC Mean 88.65% - Deter 001\n",
      "Ite 01050 - 0.10 sec - Loss 0.025218 - ACC 83.94% - ACC Mean 82.32% - AUC 89.80% - AUC Mean 88.59% - Deter 051\n",
      "Ite 01100 - 0.09 sec - Loss 0.024890 - ACC 85.67% - ACC Mean 82.75% - AUC 90.14% - AUC Mean 88.84% - Deter 101\n",
      "Ite 01150 - 0.09 sec - Loss 0.024547 - ACC 83.77% - ACC Mean 83.01% - AUC 90.12% - AUC Mean 88.72% - Deter 151\n",
      "Ite 01200 - 0.12 sec - Loss 0.024266 - ACC 82.85% - ACC Mean 83.02% - AUC 88.10% - AUC Mean 88.56% - Deter 201\n",
      "Ite 01250 - 0.12 sec - Loss 0.023986 - ACC 81.06% - ACC Mean 82.80% - AUC 88.55% - AUC Mean 88.66% - Deter 251\n",
      "Ite 01300 - 0.09 sec - Loss 0.023711 - ACC 80.73% - ACC Mean 82.73% - AUC 87.62% - AUC Mean 88.62% - Deter 301\n",
      "Ite 01350 - 0.14 sec - Loss 0.023399 - ACC 83.54% - ACC Mean 82.37% - AUC 87.78% - AUC Mean 88.55% - Deter 351\n",
      "Ite 01399 - 0.10 sec - Loss 0.023145 - ACC 83.20% - ACC Mean 82.61% - AUC 88.75% - AUC Mean 88.58% - Deter 400\n",
      "Early stop ite 1399, rollback to correction of ite 999, whith acc of 83.58% and auc of 92.22%\n",
      "OUR METHOD RUN 1/10 - acc: 83.58% +- 0.0% - auc: 92.22% +- 0.0%\n",
      "Ite 00000 - 0.10 sec - Loss 0.101000 - ACC 80.00% - ACC Mean 80.00% - AUC 87.12% - AUC Mean 87.12% - Deter 000\n",
      "Ite 00050 - 0.11 sec - Loss 0.094592 - ACC 81.15% - ACC Mean 80.38% - AUC 87.19% - AUC Mean 86.94% - Deter 020\n",
      "Ite 00100 - 0.15 sec - Loss 0.079163 - ACC 80.89% - ACC Mean 80.76% - AUC 87.31% - AUC Mean 87.16% - Deter 022\n",
      "Ite 00150 - 0.09 sec - Loss 0.053463 - ACC 79.26% - ACC Mean 80.58% - AUC 86.58% - AUC Mean 87.08% - Deter 072\n",
      "Ite 00200 - 0.10 sec - Loss 0.038927 - ACC 79.56% - ACC Mean 79.86% - AUC 86.49% - AUC Mean 86.63% - Deter 122\n",
      "Ite 00250 - 0.11 sec - Loss 0.035047 - ACC 81.10% - ACC Mean 80.55% - AUC 87.47% - AUC Mean 87.05% - Deter 021\n",
      "Ite 00300 - 0.11 sec - Loss 0.033986 - ACC 80.42% - ACC Mean 81.04% - AUC 86.75% - AUC Mean 87.06% - Deter 007\n",
      "Ite 00350 - 0.09 sec - Loss 0.033514 - ACC 80.37% - ACC Mean 80.74% - AUC 86.88% - AUC Mean 86.98% - Deter 017\n",
      "Ite 00400 - 0.10 sec - Loss 0.033178 - ACC 80.63% - ACC Mean 80.45% - AUC 86.96% - AUC Mean 86.84% - Deter 067\n",
      "Ite 00450 - 0.13 sec - Loss 0.032869 - ACC 79.81% - ACC Mean 80.26% - AUC 86.55% - AUC Mean 86.73% - Deter 117\n",
      "Ite 00500 - 0.10 sec - Loss 0.032489 - ACC 80.23% - ACC Mean 80.10% - AUC 88.05% - AUC Mean 87.05% - Deter 007\n",
      "Ite 00550 - 0.13 sec - Loss 0.032082 - ACC 80.23% - ACC Mean 80.58% - AUC 86.05% - AUC Mean 87.34% - Deter 020\n",
      "Ite 00600 - 0.09 sec - Loss 0.031530 - ACC 80.02% - ACC Mean 81.26% - AUC 87.00% - AUC Mean 87.70% - Deter 070\n",
      "Ite 00650 - 0.10 sec - Loss 0.030826 - ACC 80.66% - ACC Mean 81.60% - AUC 86.38% - AUC Mean 87.30% - Deter 120\n",
      "Ite 00700 - 0.09 sec - Loss 0.029931 - ACC 84.62% - ACC Mean 82.92% - AUC 88.87% - AUC Mean 88.06% - Deter 007\n",
      "Ite 00750 - 0.10 sec - Loss 0.029118 - ACC 83.40% - ACC Mean 84.16% - AUC 88.09% - AUC Mean 88.93% - Deter 007\n",
      "Ite 00800 - 0.09 sec - Loss 0.028372 - ACC 82.42% - ACC Mean 83.52% - AUC 88.02% - AUC Mean 88.76% - Deter 057\n",
      "Ite 00850 - 0.13 sec - Loss 0.027728 - ACC 81.47% - ACC Mean 83.14% - AUC 87.13% - AUC Mean 88.76% - Deter 107\n",
      "Ite 00900 - 0.09 sec - Loss 0.027180 - ACC 82.88% - ACC Mean 82.95% - AUC 89.76% - AUC Mean 88.82% - Deter 157\n",
      "Ite 00950 - 0.13 sec - Loss 0.026698 - ACC 82.74% - ACC Mean 82.31% - AUC 88.62% - AUC Mean 88.34% - Deter 207\n",
      "Ite 01000 - 0.10 sec - Loss 0.026254 - ACC 81.77% - ACC Mean 82.44% - AUC 87.99% - AUC Mean 88.56% - Deter 257\n",
      "Ite 01050 - 0.14 sec - Loss 0.025842 - ACC 85.03% - ACC Mean 83.04% - AUC 89.24% - AUC Mean 89.32% - Deter 307\n",
      "Ite 01100 - 0.09 sec - Loss 0.025464 - ACC 80.61% - ACC Mean 82.41% - AUC 89.43% - AUC Mean 89.02% - Deter 357\n",
      "Ite 01143 - 0.10 sec - Loss 0.025123 - ACC 84.38% - ACC Mean 83.37% - AUC 88.54% - AUC Mean 89.22% - Deter 400\n",
      "Early stop ite 1143, rollback to correction of ite 743, whith acc of 85.41% and auc of 92.08%\n",
      "OUR METHOD RUN 2/10 - acc: 85.41% +- 0.0% - auc: 92.08% +- 0.0%\n",
      "Ite 00000 - 0.10 sec - Loss 0.100195 - ACC 79.86% - ACC Mean 79.86% - AUC 86.68% - AUC Mean 86.68% - Deter 000\n",
      "Ite 00050 - 0.11 sec - Loss 0.094630 - ACC 80.35% - ACC Mean 79.71% - AUC 87.57% - AUC Mean 87.01% - Deter 002\n",
      "Ite 00100 - 0.10 sec - Loss 0.080647 - ACC 79.07% - ACC Mean 79.84% - AUC 86.33% - AUC Mean 87.00% - Deter 049\n",
      "Ite 00150 - 0.10 sec - Loss 0.055421 - ACC 77.62% - ACC Mean 78.61% - AUC 86.50% - AUC Mean 86.64% - Deter 099\n",
      "Ite 00200 - 0.13 sec - Loss 0.039888 - ACC 80.00% - ACC Mean 80.04% - AUC 87.75% - AUC Mean 87.70% - Deter 149\n",
      "Ite 00250 - 0.10 sec - Loss 0.035296 - ACC 80.25% - ACC Mean 79.92% - AUC 87.41% - AUC Mean 87.58% - Deter 199\n",
      "Ite 00300 - 0.10 sec - Loss 0.033839 - ACC 79.75% - ACC Mean 80.00% - AUC 87.12% - AUC Mean 87.27% - Deter 249\n",
      "Ite 00350 - 0.10 sec - Loss 0.033161 - ACC 79.24% - ACC Mean 79.57% - AUC 86.93% - AUC Mean 87.07% - Deter 299\n",
      "Ite 00400 - 0.10 sec - Loss 0.032687 - ACC 78.98% - ACC Mean 79.51% - AUC 87.03% - AUC Mean 87.21% - Deter 349\n",
      "Ite 00450 - 0.12 sec - Loss 0.032230 - ACC 80.92% - ACC Mean 78.95% - AUC 87.70% - AUC Mean 87.08% - Deter 399\n",
      "Ite 00451 - 0.10 sec - Loss 0.032207 - ACC 79.54% - ACC Mean 78.95% - AUC 87.72% - AUC Mean 87.09% - Deter 400\n",
      "Early stop ite 451, rollback to correction of ite 51, whith acc of 82.38% and auc of 88.74%\n",
      "OUR METHOD RUN 3/10 - acc: 82.38% +- 0.0% - auc: 88.74% +- 0.0%\n",
      "Ite 00000 - 0.14 sec - Loss 0.100606 - ACC 79.10% - ACC Mean 79.10% - AUC 87.17% - AUC Mean 87.17% - Deter 000\n",
      "Ite 00050 - 0.10 sec - Loss 0.093118 - ACC 80.02% - ACC Mean 79.70% - AUC 87.17% - AUC Mean 87.08% - Deter 036\n",
      "Ite 00100 - 0.10 sec - Loss 0.075725 - ACC 78.93% - ACC Mean 79.70% - AUC 86.64% - AUC Mean 86.96% - Deter 086\n",
      "Ite 00150 - 0.14 sec - Loss 0.051266 - ACC 81.49% - ACC Mean 80.07% - AUC 87.60% - AUC Mean 86.86% - Deter 136\n",
      "Ite 00200 - 0.13 sec - Loss 0.038525 - ACC 80.63% - ACC Mean 79.95% - AUC 86.80% - AUC Mean 86.90% - Deter 186\n",
      "Ite 00250 - 0.10 sec - Loss 0.034983 - ACC 80.20% - ACC Mean 80.18% - AUC 86.91% - AUC Mean 86.56% - Deter 236\n",
      "Ite 00300 - 0.11 sec - Loss 0.033848 - ACC 79.33% - ACC Mean 79.58% - AUC 86.86% - AUC Mean 86.69% - Deter 286\n",
      "Ite 00350 - 0.10 sec - Loss 0.033296 - ACC 79.52% - ACC Mean 79.96% - AUC 86.37% - AUC Mean 86.96% - Deter 336\n",
      "Ite 00400 - 0.09 sec - Loss 0.032916 - ACC 80.98% - ACC Mean 79.91% - AUC 86.77% - AUC Mean 86.63% - Deter 386\n",
      "Ite 00414 - 0.11 sec - Loss 0.032818 - ACC 80.42% - ACC Mean 80.06% - AUC 86.38% - AUC Mean 86.58% - Deter 400\n",
      "Early stop ite 414, rollback to correction of ite 14, whith acc of 81.52% and auc of 88.31%\n",
      "OUR METHOD RUN 4/10 - acc: 81.52% +- 0.0% - auc: 88.31% +- 0.0%\n",
      "Ite 00000 - 0.14 sec - Loss 0.101241 - ACC 81.08% - ACC Mean 81.08% - AUC 87.96% - AUC Mean 87.96% - Deter 000\n",
      "Ite 00050 - 0.10 sec - Loss 0.094470 - ACC 79.89% - ACC Mean 79.89% - AUC 87.65% - AUC Mean 87.07% - Deter 037\n",
      "Ite 00100 - 0.14 sec - Loss 0.077271 - ACC 77.99% - ACC Mean 79.25% - AUC 86.29% - AUC Mean 86.71% - Deter 087\n",
      "Ite 00150 - 0.14 sec - Loss 0.050611 - ACC 79.36% - ACC Mean 79.15% - AUC 87.88% - AUC Mean 87.41% - Deter 007\n",
      "Ite 00200 - 0.13 sec - Loss 0.037158 - ACC 78.08% - ACC Mean 79.71% - AUC 86.15% - AUC Mean 87.19% - Deter 049\n",
      "Ite 00250 - 0.10 sec - Loss 0.034297 - ACC 78.77% - ACC Mean 79.70% - AUC 86.61% - AUC Mean 86.79% - Deter 099\n",
      "Ite 00300 - 0.10 sec - Loss 0.033501 - ACC 79.33% - ACC Mean 79.94% - AUC 86.49% - AUC Mean 87.02% - Deter 149\n",
      "Ite 00350 - 0.11 sec - Loss 0.033089 - ACC 80.74% - ACC Mean 80.03% - AUC 87.29% - AUC Mean 87.18% - Deter 199\n",
      "Ite 00400 - 0.12 sec - Loss 0.032759 - ACC 81.34% - ACC Mean 80.03% - AUC 87.90% - AUC Mean 87.17% - Deter 249\n",
      "Ite 00450 - 0.13 sec - Loss 0.032417 - ACC 80.09% - ACC Mean 80.07% - AUC 87.56% - AUC Mean 87.22% - Deter 299\n",
      "Ite 00500 - 0.15 sec - Loss 0.031989 - ACC 80.18% - ACC Mean 80.14% - AUC 87.24% - AUC Mean 87.17% - Deter 349\n",
      "Ite 00550 - 0.11 sec - Loss 0.031505 - ACC 79.88% - ACC Mean 80.47% - AUC 87.14% - AUC Mean 87.12% - Deter 004\n",
      "Ite 00600 - 0.09 sec - Loss 0.030896 - ACC 79.73% - ACC Mean 80.47% - AUC 86.48% - AUC Mean 87.12% - Deter 054\n",
      "Ite 00650 - 0.09 sec - Loss 0.030181 - ACC 79.71% - ACC Mean 80.69% - AUC 86.44% - AUC Mean 87.13% - Deter 104\n",
      "Ite 00700 - 0.10 sec - Loss 0.029381 - ACC 79.98% - ACC Mean 80.70% - AUC 87.07% - AUC Mean 87.43% - Deter 154\n",
      "Ite 00750 - 0.11 sec - Loss 0.028628 - ACC 79.80% - ACC Mean 80.72% - AUC 87.86% - AUC Mean 87.31% - Deter 204\n",
      "Ite 00800 - 0.10 sec - Loss 0.027901 - ACC 81.18% - ACC Mean 81.33% - AUC 87.64% - AUC Mean 87.44% - Deter 254\n",
      "Ite 00850 - 0.15 sec - Loss 0.027110 - ACC 81.01% - ACC Mean 81.56% - AUC 87.54% - AUC Mean 87.61% - Deter 021\n",
      "Ite 00900 - 0.14 sec - Loss 0.026441 - ACC 80.74% - ACC Mean 82.03% - AUC 87.62% - AUC Mean 87.95% - Deter 071\n",
      "Ite 00950 - 0.11 sec - Loss 0.025874 - ACC 79.12% - ACC Mean 81.81% - AUC 86.35% - AUC Mean 88.11% - Deter 121\n",
      "Ite 01000 - 0.09 sec - Loss 0.025391 - ACC 82.53% - ACC Mean 82.19% - AUC 88.37% - AUC Mean 88.34% - Deter 171\n",
      "Ite 01050 - 0.09 sec - Loss 0.024990 - ACC 84.47% - ACC Mean 82.60% - AUC 87.89% - AUC Mean 88.82% - Deter 027\n",
      "Ite 01100 - 0.08 sec - Loss 0.024640 - ACC 78.95% - ACC Mean 81.82% - AUC 87.50% - AUC Mean 88.37% - Deter 001\n",
      "Ite 01150 - 0.08 sec - Loss 0.024283 - ACC 82.13% - ACC Mean 82.24% - AUC 89.95% - AUC Mean 88.52% - Deter 051\n",
      "Ite 01200 - 0.10 sec - Loss 0.023956 - ACC 79.03% - ACC Mean 81.93% - AUC 86.49% - AUC Mean 88.44% - Deter 101\n",
      "Ite 01250 - 0.13 sec - Loss 0.023648 - ACC 80.58% - ACC Mean 81.89% - AUC 87.10% - AUC Mean 88.57% - Deter 151\n",
      "Ite 01300 - 0.22 sec - Loss 0.023348 - ACC 82.43% - ACC Mean 81.61% - AUC 87.60% - AUC Mean 88.36% - Deter 201\n",
      "Ite 01350 - 0.10 sec - Loss 0.023029 - ACC 83.73% - ACC Mean 81.25% - AUC 88.82% - AUC Mean 88.03% - Deter 251\n",
      "Ite 01400 - 0.10 sec - Loss 0.022753 - ACC 80.86% - ACC Mean 81.45% - AUC 87.18% - AUC Mean 87.89% - Deter 301\n",
      "Ite 01450 - 0.11 sec - Loss 0.022455 - ACC 81.48% - ACC Mean 81.77% - AUC 86.86% - AUC Mean 88.11% - Deter 026\n",
      "Ite 01500 - 0.10 sec - Loss 0.022182 - ACC 83.47% - ACC Mean 81.51% - AUC 87.48% - AUC Mean 88.11% - Deter 076\n",
      "Ite 01550 - 0.10 sec - Loss 0.021902 - ACC 79.13% - ACC Mean 81.31% - AUC 86.95% - AUC Mean 87.89% - Deter 126\n",
      "Ite 01600 - 0.10 sec - Loss 0.021628 - ACC 79.47% - ACC Mean 81.66% - AUC 88.29% - AUC Mean 88.00% - Deter 176\n",
      "Ite 01650 - 0.10 sec - Loss 0.021368 - ACC 82.66% - ACC Mean 81.54% - AUC 88.31% - AUC Mean 88.07% - Deter 226\n",
      "Ite 01700 - 0.12 sec - Loss 0.021111 - ACC 83.98% - ACC Mean 82.13% - AUC 88.21% - AUC Mean 88.14% - Deter 276\n",
      "Ite 01750 - 0.13 sec - Loss 0.020871 - ACC 82.88% - ACC Mean 82.77% - AUC 88.91% - AUC Mean 88.79% - Deter 326\n",
      "Ite 01800 - 0.11 sec - Loss 0.020641 - ACC 84.47% - ACC Mean 82.89% - AUC 89.64% - AUC Mean 89.03% - Deter 376\n",
      "Ite 01850 - 0.12 sec - Loss 0.020386 - ACC 81.03% - ACC Mean 82.94% - AUC 88.76% - AUC Mean 88.97% - Deter 035\n",
      "Ite 01900 - 0.10 sec - Loss 0.020150 - ACC 84.99% - ACC Mean 83.33% - AUC 88.60% - AUC Mean 89.33% - Deter 085\n",
      "Ite 01950 - 0.10 sec - Loss 0.019895 - ACC 84.44% - ACC Mean 83.74% - AUC 89.63% - AUC Mean 89.60% - Deter 024\n",
      "Ite 02000 - 0.10 sec - Loss 0.019626 - ACC 82.16% - ACC Mean 83.56% - AUC 88.35% - AUC Mean 89.67% - Deter 074\n",
      "Ite 02050 - 0.12 sec - Loss 0.019384 - ACC 83.24% - ACC Mean 83.32% - AUC 88.49% - AUC Mean 89.64% - Deter 124\n",
      "Ite 02100 - 0.10 sec - Loss 0.019111 - ACC 80.39% - ACC Mean 83.47% - AUC 88.54% - AUC Mean 89.24% - Deter 174\n",
      "Ite 02150 - 0.10 sec - Loss 0.018874 - ACC 81.97% - ACC Mean 83.57% - AUC 91.28% - AUC Mean 89.65% - Deter 224\n",
      "Ite 02200 - 0.09 sec - Loss 0.018609 - ACC 85.19% - ACC Mean 83.26% - AUC 90.15% - AUC Mean 89.37% - Deter 274\n",
      "Ite 02250 - 0.12 sec - Loss 0.018372 - ACC 84.65% - ACC Mean 82.97% - AUC 88.65% - AUC Mean 89.09% - Deter 324\n",
      "Ite 02300 - 0.10 sec - Loss 0.018118 - ACC 79.44% - ACC Mean 82.42% - AUC 86.92% - AUC Mean 88.81% - Deter 374\n",
      "Ite 02326 - 0.11 sec - Loss 0.017968 - ACC 79.65% - ACC Mean 82.31% - AUC 89.13% - AUC Mean 88.87% - Deter 400\n",
      "Early stop ite 2326, rollback to correction of ite 1926, whith acc of 87.29% and auc of 92.69%\n",
      "OUR METHOD RUN 5/10 - acc: 87.29% +- 0.0% - auc: 92.69% +- 0.0%\n",
      "Ite 00000 - 0.10 sec - Loss 0.100226 - ACC 79.00% - ACC Mean 79.00% - AUC 85.03% - AUC Mean 85.03% - Deter 000\n",
      "Ite 00050 - 0.11 sec - Loss 0.094289 - ACC 79.18% - ACC Mean 79.47% - AUC 85.36% - AUC Mean 86.50% - Deter 030\n",
      "Ite 00100 - 0.11 sec - Loss 0.079881 - ACC 78.66% - ACC Mean 79.37% - AUC 85.44% - AUC Mean 86.25% - Deter 080\n",
      "Ite 00150 - 0.10 sec - Loss 0.054463 - ACC 80.59% - ACC Mean 78.62% - AUC 86.90% - AUC Mean 85.86% - Deter 130\n",
      "Ite 00200 - 0.12 sec - Loss 0.038931 - ACC 81.10% - ACC Mean 80.53% - AUC 87.06% - AUC Mean 86.71% - Deter 180\n",
      "Ite 00250 - 0.09 sec - Loss 0.034839 - ACC 80.58% - ACC Mean 80.59% - AUC 86.87% - AUC Mean 86.87% - Deter 230\n",
      "Ite 00300 - 0.11 sec - Loss 0.033664 - ACC 80.28% - ACC Mean 80.63% - AUC 86.57% - AUC Mean 86.64% - Deter 280\n",
      "Ite 00350 - 0.11 sec - Loss 0.033089 - ACC 81.15% - ACC Mean 80.45% - AUC 86.69% - AUC Mean 86.49% - Deter 330\n",
      "Ite 00400 - 0.10 sec - Loss 0.032660 - ACC 81.28% - ACC Mean 80.32% - AUC 86.64% - AUC Mean 86.44% - Deter 380\n",
      "Ite 00420 - 0.11 sec - Loss 0.032481 - ACC 79.24% - ACC Mean 80.18% - AUC 86.19% - AUC Mean 86.39% - Deter 400\n",
      "Early stop ite 420, rollback to correction of ite 20, whith acc of 80.03% and auc of 88.28%\n",
      "OUR METHOD RUN 6/10 - acc: 80.03% +- 0.0% - auc: 88.28% +- 0.0%\n",
      "Ite 00000 - 0.11 sec - Loss 0.099919 - ACC 79.65% - ACC Mean 79.65% - AUC 86.48% - AUC Mean 86.48% - Deter 000\n",
      "Ite 00050 - 0.10 sec - Loss 0.092948 - ACC 79.21% - ACC Mean 78.74% - AUC 86.29% - AUC Mean 85.97% - Deter 049\n",
      "Ite 00100 - 0.11 sec - Loss 0.075216 - ACC 80.20% - ACC Mean 79.62% - AUC 87.59% - AUC Mean 86.46% - Deter 000\n",
      "Ite 00150 - 0.10 sec - Loss 0.048863 - ACC 81.45% - ACC Mean 80.80% - AUC 87.26% - AUC Mean 87.33% - Deter 008\n",
      "Ite 00200 - 0.15 sec - Loss 0.037059 - ACC 80.58% - ACC Mean 80.86% - AUC 86.96% - AUC Mean 87.32% - Deter 058\n",
      "Ite 00250 - 0.09 sec - Loss 0.034352 - ACC 80.03% - ACC Mean 80.84% - AUC 86.19% - AUC Mean 86.77% - Deter 108\n",
      "Ite 00300 - 0.11 sec - Loss 0.033427 - ACC 79.99% - ACC Mean 80.97% - AUC 86.29% - AUC Mean 86.67% - Deter 158\n",
      "Ite 00350 - 0.13 sec - Loss 0.032838 - ACC 79.73% - ACC Mean 80.85% - AUC 86.18% - AUC Mean 86.70% - Deter 208\n",
      "Ite 00400 - 0.10 sec - Loss 0.032312 - ACC 79.10% - ACC Mean 80.53% - AUC 86.55% - AUC Mean 86.99% - Deter 009\n",
      "Ite 00450 - 0.14 sec - Loss 0.031739 - ACC 79.47% - ACC Mean 79.38% - AUC 85.96% - AUC Mean 86.44% - Deter 059\n",
      "Ite 00500 - 0.09 sec - Loss 0.031080 - ACC 78.94% - ACC Mean 79.27% - AUC 85.41% - AUC Mean 85.96% - Deter 109\n",
      "Ite 00550 - 0.10 sec - Loss 0.030409 - ACC 79.82% - ACC Mean 79.68% - AUC 85.49% - AUC Mean 85.87% - Deter 159\n",
      "Ite 00600 - 0.09 sec - Loss 0.029706 - ACC 80.34% - ACC Mean 79.44% - AUC 84.55% - AUC Mean 85.41% - Deter 209\n",
      "Ite 00650 - 0.12 sec - Loss 0.029047 - ACC 78.50% - ACC Mean 79.27% - AUC 85.08% - AUC Mean 85.36% - Deter 259\n",
      "Ite 00700 - 0.10 sec - Loss 0.028440 - ACC 79.20% - ACC Mean 79.16% - AUC 84.56% - AUC Mean 85.14% - Deter 309\n",
      "Ite 00750 - 0.11 sec - Loss 0.027947 - ACC 77.44% - ACC Mean 79.29% - AUC 84.71% - AUC Mean 85.35% - Deter 007\n",
      "Ite 00800 - 0.09 sec - Loss 0.027516 - ACC 80.25% - ACC Mean 79.36% - AUC 87.74% - AUC Mean 85.66% - Deter 024\n",
      "Ite 00850 - 0.13 sec - Loss 0.027111 - ACC 80.84% - ACC Mean 79.70% - AUC 86.03% - AUC Mean 86.06% - Deter 074\n",
      "Ite 00900 - 0.09 sec - Loss 0.026716 - ACC 79.14% - ACC Mean 78.93% - AUC 85.86% - AUC Mean 85.91% - Deter 124\n",
      "Ite 00950 - 0.10 sec - Loss 0.026351 - ACC 79.93% - ACC Mean 79.21% - AUC 85.21% - AUC Mean 86.33% - Deter 174\n",
      "Ite 01000 - 0.10 sec - Loss 0.026015 - ACC 78.65% - ACC Mean 80.01% - AUC 87.08% - AUC Mean 86.77% - Deter 224\n",
      "Ite 01050 - 0.10 sec - Loss 0.025670 - ACC 81.21% - ACC Mean 80.20% - AUC 86.89% - AUC Mean 86.84% - Deter 012\n",
      "Ite 01100 - 0.11 sec - Loss 0.025322 - ACC 80.12% - ACC Mean 81.02% - AUC 86.89% - AUC Mean 87.61% - Deter 062\n",
      "Ite 01150 - 0.11 sec - Loss 0.024929 - ACC 81.39% - ACC Mean 81.18% - AUC 87.43% - AUC Mean 88.17% - Deter 112\n",
      "Ite 01200 - 0.10 sec - Loss 0.024568 - ACC 80.11% - ACC Mean 81.00% - AUC 87.75% - AUC Mean 87.90% - Deter 162\n",
      "Ite 01250 - 0.09 sec - Loss 0.024213 - ACC 83.35% - ACC Mean 81.34% - AUC 88.22% - AUC Mean 88.06% - Deter 212\n",
      "Ite 01300 - 0.12 sec - Loss 0.023874 - ACC 81.37% - ACC Mean 81.50% - AUC 89.05% - AUC Mean 88.39% - Deter 030\n",
      "Ite 01350 - 0.09 sec - Loss 0.023458 - ACC 79.80% - ACC Mean 81.66% - AUC 87.46% - AUC Mean 88.54% - Deter 012\n",
      "Ite 01400 - 0.12 sec - Loss 0.023095 - ACC 85.35% - ACC Mean 81.81% - AUC 90.33% - AUC Mean 88.45% - Deter 017\n",
      "Ite 01450 - 0.12 sec - Loss 0.022740 - ACC 79.77% - ACC Mean 81.44% - AUC 86.32% - AUC Mean 88.06% - Deter 040\n",
      "Ite 01500 - 0.10 sec - Loss 0.022386 - ACC 79.80% - ACC Mean 80.77% - AUC 87.40% - AUC Mean 87.55% - Deter 090\n",
      "Ite 01550 - 0.14 sec - Loss 0.022027 - ACC 80.34% - ACC Mean 81.51% - AUC 86.23% - AUC Mean 87.81% - Deter 140\n",
      "Ite 01600 - 0.10 sec - Loss 0.021701 - ACC 82.34% - ACC Mean 81.45% - AUC 88.04% - AUC Mean 87.78% - Deter 190\n",
      "Ite 01650 - 0.13 sec - Loss 0.021376 - ACC 79.28% - ACC Mean 81.79% - AUC 87.02% - AUC Mean 88.16% - Deter 240\n",
      "Ite 01700 - 0.10 sec - Loss 0.021046 - ACC 79.13% - ACC Mean 81.68% - AUC 86.82% - AUC Mean 87.83% - Deter 290\n",
      "Ite 01750 - 0.12 sec - Loss 0.020771 - ACC 81.57% - ACC Mean 82.19% - AUC 87.93% - AUC Mean 88.49% - Deter 340\n",
      "Ite 01800 - 0.13 sec - Loss 0.020483 - ACC 84.50% - ACC Mean 82.60% - AUC 89.10% - AUC Mean 88.46% - Deter 390\n",
      "Ite 01810 - 0.15 sec - Loss 0.020412 - ACC 81.95% - ACC Mean 82.53% - AUC 88.87% - AUC Mean 88.48% - Deter 400\n",
      "Early stop ite 1810, rollback to correction of ite 1410, whith acc of 84.73% and auc of 91.63%\n",
      "OUR METHOD RUN 7/10 - acc: 84.73% +- 0.0% - auc: 91.63% +- 0.0%\n",
      "Ite 00000 - 0.13 sec - Loss 0.100618 - ACC 79.10% - ACC Mean 79.10% - AUC 86.82% - AUC Mean 86.82% - Deter 000\n",
      "Ite 00050 - 0.12 sec - Loss 0.094088 - ACC 79.75% - ACC Mean 79.44% - AUC 86.65% - AUC Mean 86.67% - Deter 014\n",
      "Ite 00100 - 0.11 sec - Loss 0.079766 - ACC 80.80% - ACC Mean 79.72% - AUC 87.47% - AUC Mean 86.97% - Deter 006\n",
      "Ite 00150 - 0.10 sec - Loss 0.056641 - ACC 79.58% - ACC Mean 79.94% - AUC 86.90% - AUC Mean 87.15% - Deter 040\n",
      "Ite 00200 - 0.11 sec - Loss 0.040083 - ACC 79.28% - ACC Mean 79.24% - AUC 86.67% - AUC Mean 86.70% - Deter 090\n",
      "Ite 00250 - 0.10 sec - Loss 0.035051 - ACC 80.40% - ACC Mean 80.17% - AUC 86.90% - AUC Mean 86.56% - Deter 140\n",
      "Ite 00300 - 0.11 sec - Loss 0.033836 - ACC 80.84% - ACC Mean 80.59% - AUC 86.51% - AUC Mean 86.83% - Deter 190\n",
      "Ite 00350 - 0.10 sec - Loss 0.033382 - ACC 80.65% - ACC Mean 80.49% - AUC 86.98% - AUC Mean 86.83% - Deter 240\n",
      "Ite 00400 - 0.10 sec - Loss 0.033110 - ACC 81.10% - ACC Mean 80.36% - AUC 87.17% - AUC Mean 86.95% - Deter 290\n",
      "Ite 00450 - 0.12 sec - Loss 0.032876 - ACC 79.80% - ACC Mean 80.18% - AUC 86.64% - AUC Mean 86.88% - Deter 340\n",
      "Ite 00500 - 0.17 sec - Loss 0.032584 - ACC 80.84% - ACC Mean 80.37% - AUC 86.70% - AUC Mean 86.94% - Deter 390\n",
      "Ite 00510 - 0.10 sec - Loss 0.032544 - ACC 80.84% - ACC Mean 80.36% - AUC 86.70% - AUC Mean 86.94% - Deter 400\n",
      "Early stop ite 510, rollback to correction of ite 110, whith acc of 80.48% and auc of 88.21%\n",
      "OUR METHOD RUN 8/10 - acc: 80.48% +- 0.0% - auc: 88.21% +- 0.0%\n",
      "Ite 00000 - 0.11 sec - Loss 0.099510 - ACC 79.10% - ACC Mean 79.10% - AUC 87.26% - AUC Mean 87.26% - Deter 000\n",
      "Ite 00050 - 0.19 sec - Loss 0.093071 - ACC 80.35% - ACC Mean 79.31% - AUC 86.89% - AUC Mean 87.20% - Deter 003\n",
      "Ite 00100 - 0.12 sec - Loss 0.076190 - ACC 78.50% - ACC Mean 79.25% - AUC 86.42% - AUC Mean 86.83% - Deter 015\n",
      "Ite 00150 - 0.11 sec - Loss 0.050002 - ACC 80.16% - ACC Mean 80.45% - AUC 87.70% - AUC Mean 87.08% - Deter 065\n",
      "Ite 00200 - 0.13 sec - Loss 0.037514 - ACC 80.07% - ACC Mean 80.20% - AUC 87.01% - AUC Mean 87.16% - Deter 115\n",
      "Ite 00250 - 0.10 sec - Loss 0.034537 - ACC 80.84% - ACC Mean 80.03% - AUC 87.06% - AUC Mean 87.07% - Deter 165\n",
      "Ite 00300 - 0.10 sec - Loss 0.033644 - ACC 79.88% - ACC Mean 80.09% - AUC 86.85% - AUC Mean 86.68% - Deter 215\n",
      "Ite 00350 - 0.21 sec - Loss 0.033193 - ACC 80.19% - ACC Mean 80.04% - AUC 86.48% - AUC Mean 86.46% - Deter 265\n",
      "Ite 00400 - 0.11 sec - Loss 0.032865 - ACC 79.03% - ACC Mean 79.98% - AUC 86.63% - AUC Mean 86.59% - Deter 315\n",
      "Ite 00450 - 0.15 sec - Loss 0.032549 - ACC 80.55% - ACC Mean 80.21% - AUC 87.00% - AUC Mean 86.60% - Deter 365\n",
      "Ite 00485 - 0.13 sec - Loss 0.032301 - ACC 80.93% - ACC Mean 80.45% - AUC 86.51% - AUC Mean 86.60% - Deter 400\n",
      "Early stop ite 485, rollback to correction of ite 85, whith acc of 82.05% and auc of 88.97%\n",
      "OUR METHOD RUN 9/10 - acc: 82.05% +- 0.0% - auc: 88.97% +- 0.0%\n",
      "Ite 00000 - 0.16 sec - Loss 0.099556 - ACC 79.71% - ACC Mean 79.71% - AUC 86.90% - AUC Mean 86.90% - Deter 000\n",
      "Ite 00050 - 0.11 sec - Loss 0.093259 - ACC 79.15% - ACC Mean 79.58% - AUC 86.35% - AUC Mean 86.52% - Deter 044\n",
      "Ite 00100 - 0.14 sec - Loss 0.077505 - ACC 81.19% - ACC Mean 80.05% - AUC 86.85% - AUC Mean 86.56% - Deter 094\n",
      "Ite 00150 - 0.12 sec - Loss 0.053331 - ACC 81.31% - ACC Mean 80.54% - AUC 87.57% - AUC Mean 87.24% - Deter 144\n",
      "Ite 00200 - 0.10 sec - Loss 0.039785 - ACC 80.12% - ACC Mean 80.54% - AUC 87.05% - AUC Mean 87.01% - Deter 194\n",
      "Ite 00250 - 0.10 sec - Loss 0.035691 - ACC 81.24% - ACC Mean 80.58% - AUC 87.04% - AUC Mean 86.76% - Deter 244\n",
      "Ite 00300 - 0.11 sec - Loss 0.034329 - ACC 80.93% - ACC Mean 80.55% - AUC 86.83% - AUC Mean 86.51% - Deter 294\n",
      "Ite 00350 - 0.49 sec - Loss 0.033701 - ACC 80.12% - ACC Mean 80.37% - AUC 85.77% - AUC Mean 86.26% - Deter 344\n",
      "Ite 00400 - 0.15 sec - Loss 0.033299 - ACC 79.30% - ACC Mean 80.05% - AUC 84.87% - AUC Mean 85.85% - Deter 394\n",
      "Ite 00406 - 0.13 sec - Loss 0.033256 - ACC 79.08% - ACC Mean 80.03% - AUC 85.19% - AUC Mean 85.83% - Deter 400\n",
      "Early stop ite 406, rollback to correction of ite 6, whith acc of 82.72% and auc of 88.27%\n",
      "OUR METHOD RUN 10/10 - acc: 82.72% +- 0.0% - auc: 88.27% +- 0.0%\n",
      "\n",
      "OUR METHOD GLOBAL - acc: 83.02% +- 2.15% - auc: 89.94% +- 1.84%\n"
     ]
    }
   ],
   "source": [
    "params = {\n",
    "    'nb_batches': 10,\n",
    "    'reg_noise_std': .03,\n",
    "    'net_input': 'data_corrupted',\n",
    "    'net_params': [80, 80],\n",
    "    'adam_lr': .0001,\n",
    "    'adam_weight_decay': 0.,\n",
    "}\n",
    "\n",
    "ours_accs, ours_aucs = [], []\n",
    "for i in range(n_runs):\n",
    "    ours_correction = correction.run(data_missing, 4001, params, y=y, missing_mask=missing_mask, seed=i)\n",
    "    ## Since our method returns 2 imputations select the best one\n",
    "    scores_raw = utils.get_scores(ours_correction['raw_out'], y)\n",
    "    acc = scores_raw['test_balanced_accuracy']\n",
    "    auc = scores_raw['test_roc_auc_ovo']\n",
    "    acc = acc.mean()\n",
    "    acc_std = acc.std()\n",
    "    auc = auc.mean()\n",
    "    auc_std = auc.std()\n",
    "    if 'masked_out' in ours_correction:\n",
    "        scores_masked = utils.get_scores(ours_correction['masked_out'], y)\n",
    "        acc_masked = scores_masked['test_balanced_accuracy']\n",
    "        auc_masked = scores_masked['test_roc_auc_ovo']\n",
    "        if auc_masked.mean() > auc:\n",
    "            acc = acc_masked.mean()\n",
    "            acc_std = acc_masked.std()\n",
    "            auc = auc_masked.mean()\n",
    "            auc_std = auc_masked.std()\n",
    "    print(f'OUR METHOD RUN {i + 1}/{n_runs} - acc: {round(acc.mean() * 100, 2)}% +- {round(acc.std() * 100, 2)}% - ' +\n",
    "          f'auc: {round(auc.mean() * 100, 2)}% +- {round(auc.std() * 100, 2)}%')\n",
    "    ours_accs.append(acc.mean())\n",
    "    ours_aucs.append(auc.mean())\n",
    "print(f'\\nOUR METHOD GLOBAL - acc: {round(np.array(ours_accs).mean() * 100, 2)}% +- {round(np.array(ours_accs).std() * 100, 2)}% - ' +\n",
    "      f'auc: {round(np.array(ours_aucs).mean() * 100, 2)}% +- {round(np.array(ours_aucs).std() * 100, 2)}%')"
   ]
  },
  {
   "cell_type": "markdown",
   "metadata": {},
   "source": [
    "## Run Median, Mean and KNN"
   ]
  },
  {
   "cell_type": "code",
   "execution_count": 5,
   "metadata": {
    "ExecuteTime": {
     "end_time": "2022-06-03T15:23:05.488483Z",
     "start_time": "2022-06-03T15:23:05.488473Z"
    },
    "execution": {
     "iopub.execute_input": "2022-06-04T07:32:54.745330Z",
     "iopub.status.busy": "2022-06-04T07:32:54.744867Z",
     "iopub.status.idle": "2022-06-04T07:32:55.277085Z",
     "shell.execute_reply": "2022-06-04T07:32:55.277446Z"
    }
   },
   "outputs": [
    {
     "name": "stdout",
     "output_type": "stream",
     "text": [
      "MEDIAN - acc: 81.34% +- 0.0% - auc: 86.45% +- 0.0%\n",
      "MEAN - acc: 80.47% +- 0.0% - auc: 87.07% +- 0.0%\n",
      "KNN - acc: 81.54% +- 0.0% - auc: 88.13% +- 0.0%\n"
     ]
    }
   ],
   "source": [
    "data_missing_nans = np.where(missing_mask, data_missing, np.nan)\n",
    "\n",
    "median_imputer = SimpleImputer(missing_values=np.nan, strategy='median')\n",
    "mean_imputer = SimpleImputer(missing_values=np.nan, strategy='mean')\n",
    "knn_imputer = KNNImputer(n_neighbors=10, weights='uniform')\n",
    "\n",
    "median_completed = median_imputer.fit_transform(data_missing_nans)\n",
    "mean_completed = mean_imputer.fit_transform(data_missing_nans)\n",
    "knn_completed = knn_imputer.fit_transform(data_missing_nans)\n",
    "\n",
    "## All runs would be the same since deterministic methods\n",
    "scores = utils.get_scores(median_completed, y)\n",
    "acc = [scores['test_balanced_accuracy'].mean()] * n_runs\n",
    "auc = [scores['test_roc_auc_ovo'].mean()] * n_runs\n",
    "print(f'MEDIAN - acc: {round(np.mean(acc) * 100, 2)}% +- {round(np.std(acc) * 100, 2)}% - ' +\n",
    "      f'auc: {round(np.mean(auc) * 100, 2)}% +- {round(np.std(auc) * 100, 2)}%')\n",
    "median_accs = acc\n",
    "median_aucs = auc\n",
    "\n",
    "scores = utils.get_scores(mean_completed, y)\n",
    "acc = [scores['test_balanced_accuracy'].mean()] * n_runs\n",
    "auc = [scores['test_roc_auc_ovo'].mean()] * n_runs\n",
    "print(f'MEAN - acc: {round(np.mean(acc) * 100, 2)}% +- {round(np.std(acc) * 100, 2)}% - ' +\n",
    "      f'auc: {round(np.mean(auc) * 100, 2)}% +- {round(np.std(auc) * 100, 2)}%')\n",
    "mean_accs = acc\n",
    "mean_aucs = auc\n",
    "\n",
    "scores = utils.get_scores(knn_completed, y)\n",
    "acc = [scores['test_balanced_accuracy'].mean()] * n_runs\n",
    "auc = [scores['test_roc_auc_ovo'].mean()] * n_runs\n",
    "print(f'KNN - acc: {round(np.mean(acc) * 100, 2)}% +- {round(np.std(acc) * 100, 2)}% - ' +\n",
    "      f'auc: {round(np.mean(auc) * 100, 2)}% +- {round(np.std(auc) * 100, 2)}%')\n",
    "knn_accs = acc\n",
    "knn_aucs = auc"
   ]
  },
  {
   "cell_type": "markdown",
   "metadata": {},
   "source": [
    "## Run GAIN"
   ]
  },
  {
   "cell_type": "code",
   "execution_count": 6,
   "metadata": {
    "ExecuteTime": {
     "end_time": "2022-06-03T15:23:05.489380Z",
     "start_time": "2022-06-03T15:23:05.489371Z"
    },
    "execution": {
     "iopub.execute_input": "2022-06-04T07:32:55.281399Z",
     "iopub.status.busy": "2022-06-04T07:32:55.280966Z",
     "iopub.status.idle": "2022-06-04T07:39:23.681276Z",
     "shell.execute_reply": "2022-06-04T07:39:23.681637Z"
    },
    "scrolled": false
   },
   "outputs": [
    {
     "name": "stderr",
     "output_type": "stream",
     "text": [
      "100%|██████████| 5000/5000 [00:35<00:00, 141.79it/s]\n"
     ]
    },
    {
     "name": "stdout",
     "output_type": "stream",
     "text": [
      "\n",
      "GAIN RUN 1/10 - acc: 79.69% +- 1.78% - auc: 87.19% +- 2.16%\n",
      "\n"
     ]
    },
    {
     "name": "stderr",
     "output_type": "stream",
     "text": [
      "100%|██████████| 5000/5000 [00:36<00:00, 136.33it/s]\n"
     ]
    },
    {
     "name": "stdout",
     "output_type": "stream",
     "text": [
      "\n",
      "GAIN RUN 2/10 - acc: 82.41% +- 2.27% - auc: 87.7% +- 3.23%\n",
      "\n"
     ]
    },
    {
     "name": "stderr",
     "output_type": "stream",
     "text": [
      "100%|██████████| 5000/5000 [00:38<00:00, 130.51it/s]\n"
     ]
    },
    {
     "name": "stdout",
     "output_type": "stream",
     "text": [
      "\n",
      "GAIN RUN 3/10 - acc: 79.88% +- 4.37% - auc: 87.28% +- 1.99%\n",
      "\n"
     ]
    },
    {
     "name": "stderr",
     "output_type": "stream",
     "text": [
      "100%|██████████| 5000/5000 [00:39<00:00, 127.82it/s]\n"
     ]
    },
    {
     "name": "stdout",
     "output_type": "stream",
     "text": [
      "\n",
      "GAIN RUN 4/10 - acc: 78.1% +- 3.47% - auc: 85.38% +- 2.0%\n",
      "\n"
     ]
    },
    {
     "name": "stderr",
     "output_type": "stream",
     "text": [
      "100%|██████████| 5000/5000 [00:36<00:00, 137.86it/s]\n"
     ]
    },
    {
     "name": "stdout",
     "output_type": "stream",
     "text": [
      "\n",
      "GAIN RUN 5/10 - acc: 83.91% +- 2.39% - auc: 87.8% +- 1.7%\n",
      "\n"
     ]
    },
    {
     "name": "stderr",
     "output_type": "stream",
     "text": [
      "100%|██████████| 5000/5000 [00:40<00:00, 122.77it/s]\n"
     ]
    },
    {
     "name": "stdout",
     "output_type": "stream",
     "text": [
      "\n",
      "GAIN RUN 6/10 - acc: 82.15% +- 1.38% - auc: 88.11% +- 1.87%\n",
      "\n"
     ]
    },
    {
     "name": "stderr",
     "output_type": "stream",
     "text": [
      "100%|██████████| 5000/5000 [00:33<00:00, 149.13it/s]\n"
     ]
    },
    {
     "name": "stdout",
     "output_type": "stream",
     "text": [
      "\n",
      "GAIN RUN 7/10 - acc: 81.08% +- 3.24% - auc: 86.49% +- 1.73%\n",
      "\n"
     ]
    },
    {
     "name": "stderr",
     "output_type": "stream",
     "text": [
      "100%|██████████| 5000/5000 [00:37<00:00, 133.79it/s]\n"
     ]
    },
    {
     "name": "stdout",
     "output_type": "stream",
     "text": [
      "\n",
      "GAIN RUN 8/10 - acc: 80.28% +- 2.8% - auc: 88.37% +- 3.66%\n",
      "\n"
     ]
    },
    {
     "name": "stderr",
     "output_type": "stream",
     "text": [
      "100%|██████████| 5000/5000 [00:36<00:00, 136.48it/s]\n"
     ]
    },
    {
     "name": "stdout",
     "output_type": "stream",
     "text": [
      "\n",
      "GAIN RUN 9/10 - acc: 80.98% +- 4.96% - auc: 87.05% +- 2.08%\n",
      "\n"
     ]
    },
    {
     "name": "stderr",
     "output_type": "stream",
     "text": [
      "100%|██████████| 5000/5000 [00:38<00:00, 128.77it/s]\n"
     ]
    },
    {
     "name": "stdout",
     "output_type": "stream",
     "text": [
      "\n",
      "GAIN RUN 10/10 - acc: 81.96% +- 5.27% - auc: 88.33% +- 2.38%\n",
      "\n",
      "GAIN GLOBAL - acc: 81.04% +- 1.57% - auc: 87.37% +- 0.87%\n"
     ]
    }
   ],
   "source": [
    "gain_parameters = {'batch_size': 128,\n",
    "                   'hint_rate': .9,\n",
    "                   'alpha': 100,\n",
    "                   'iterations': 5000}\n",
    "\n",
    "gain_accs, gain_aucs = [], []\n",
    "for i in range(n_runs):\n",
    "    random.seed(i)\n",
    "    np.random.seed(i)\n",
    "    torch.manual_seed(i)\n",
    "    imputed = gain(data_missing_nans, gain_parameters)\n",
    "    scores = utils.get_scores(imputed, y)\n",
    "    acc = scores['test_balanced_accuracy']\n",
    "    auc = scores['test_roc_auc_ovo']\n",
    "    print(f'\\nGAIN RUN {i + 1}/{n_runs} - acc: {round(acc.mean() * 100, 2)}% +- {round(acc.std() * 100, 2)}% - ' +\n",
    "          f'auc: {round(auc.mean() * 100, 2)}% +- {round(auc.std() * 100, 2)}%\\n')\n",
    "    gain_accs.append(acc.mean())\n",
    "    gain_aucs.append(auc.mean())\n",
    "print(f'GAIN GLOBAL - acc: {round(np.array(gain_accs).mean() * 100, 2)}% +- {round(np.array(gain_accs).std() * 100, 2)}% - ' +\n",
    "      f'auc: {round(np.array(gain_aucs).mean() * 100, 2)}% +- {round(np.array(gain_aucs).std() * 100, 2)}%')"
   ]
  },
  {
   "cell_type": "markdown",
   "metadata": {},
   "source": [
    "## Run MICE"
   ]
  },
  {
   "cell_type": "code",
   "execution_count": 7,
   "metadata": {
    "ExecuteTime": {
     "end_time": "2022-06-03T15:23:05.489983Z",
     "start_time": "2022-06-03T15:23:05.489973Z"
    },
    "execution": {
     "iopub.execute_input": "2022-06-04T07:39:23.688573Z",
     "iopub.status.busy": "2022-06-04T07:39:23.685722Z",
     "iopub.status.idle": "2022-06-04T07:40:29.678704Z",
     "shell.execute_reply": "2022-06-04T07:40:29.679044Z"
    }
   },
   "outputs": [
    {
     "name": "stdout",
     "output_type": "stream",
     "text": [
      "MICE - acc: 78.37% +- 0.0% - auc: 85.48% +- 0.0%\n"
     ]
    }
   ],
   "source": [
    "imputer = IterativeImputer()\n",
    "imputed = imputer.fit_transform(data_missing_nans)\n",
    "## All runs would be the same since deterministic method\n",
    "scores = utils.get_scores(imputed, y)\n",
    "acc = [scores['test_balanced_accuracy'].mean()] * n_runs\n",
    "auc = [scores['test_roc_auc_ovo'].mean()] * n_runs\n",
    "print(f'MICE - acc: {round(np.mean(acc) * 100, 2)}% +- {round(np.std(acc) * 100, 2)}% - ' +\n",
    "      f'auc: {round(np.mean(auc) * 100, 2)}% +- {round(np.std(auc) * 100, 2)}%')\n",
    "mice_accs = acc\n",
    "mice_aucs = auc"
   ]
  },
  {
   "cell_type": "markdown",
   "metadata": {},
   "source": [
    "## Run MISSFOREST"
   ]
  },
  {
   "cell_type": "code",
   "execution_count": 8,
   "metadata": {
    "ExecuteTime": {
     "end_time": "2022-06-03T15:23:05.490726Z",
     "start_time": "2022-06-03T15:23:05.490717Z"
    },
    "execution": {
     "iopub.execute_input": "2022-06-04T07:40:29.698197Z",
     "iopub.status.busy": "2022-06-04T07:40:29.697750Z",
     "iopub.status.idle": "2022-06-04T08:54:32.533499Z",
     "shell.execute_reply": "2022-06-04T08:54:32.534565Z"
    },
    "scrolled": false
   },
   "outputs": [
    {
     "name": "stdout",
     "output_type": "stream",
     "text": [
      "Iteration: 0\n",
      "Iteration: 1\n",
      "Iteration: 2\n",
      "Iteration: 3\n",
      "Iteration: 4\n",
      "Iteration: 5\n",
      "Iteration: 6\n",
      "\n",
      "MISSFOREST RUN 1/10 - acc: 80.0% +- 5.54% - auc: 86.91% +- 4.15%\n",
      "\n",
      "Iteration: 0\n",
      "Iteration: 1\n",
      "Iteration: 2\n",
      "Iteration: 3\n",
      "Iteration: 4\n",
      "Iteration: 5\n",
      "Iteration: 6\n",
      "Iteration: 7\n",
      "\n",
      "MISSFOREST RUN 2/10 - acc: 81.51% +- 5.97% - auc: 87.53% +- 4.81%\n",
      "\n",
      "Iteration: 0\n",
      "Iteration: 1\n",
      "Iteration: 2\n",
      "Iteration: 3\n",
      "Iteration: 4\n",
      "Iteration: 5\n",
      "\n",
      "MISSFOREST RUN 3/10 - acc: 84.46% +- 2.53% - auc: 90.56% +- 3.32%\n",
      "\n",
      "Iteration: 0\n",
      "Iteration: 1\n",
      "Iteration: 2\n",
      "Iteration: 3\n",
      "Iteration: 4\n",
      "Iteration: 5\n",
      "\n",
      "MISSFOREST RUN 4/10 - acc: 78.88% +- 5.78% - auc: 87.64% +- 4.7%\n",
      "\n",
      "Iteration: 0\n",
      "Iteration: 1\n",
      "Iteration: 2\n",
      "Iteration: 3\n",
      "Iteration: 4\n",
      "Iteration: 5\n",
      "Iteration: 6\n",
      "\n",
      "MISSFOREST RUN 5/10 - acc: 82.83% +- 4.49% - auc: 88.55% +- 3.15%\n",
      "\n",
      "Iteration: 0\n",
      "Iteration: 1\n",
      "Iteration: 2\n",
      "Iteration: 3\n",
      "Iteration: 4\n",
      "Iteration: 5\n",
      "Iteration: 6\n",
      "\n",
      "MISSFOREST RUN 6/10 - acc: 81.09% +- 3.75% - auc: 87.23% +- 5.71%\n",
      "\n",
      "Iteration: 0\n",
      "Iteration: 1\n",
      "Iteration: 2\n",
      "Iteration: 3\n",
      "Iteration: 4\n",
      "Iteration: 5\n",
      "Iteration: 6\n",
      "Iteration: 7\n",
      "Iteration: 8\n",
      "\n",
      "MISSFOREST RUN 7/10 - acc: 78.64% +- 3.8% - auc: 86.14% +- 4.13%\n",
      "\n",
      "Iteration: 0\n",
      "Iteration: 1\n",
      "Iteration: 2\n",
      "Iteration: 3\n",
      "Iteration: 4\n",
      "Iteration: 5\n",
      "Iteration: 6\n",
      "Iteration: 7\n",
      "Iteration: 8\n",
      "\n",
      "MISSFOREST RUN 8/10 - acc: 80.33% +- 3.82% - auc: 84.05% +- 4.11%\n",
      "\n",
      "Iteration: 0\n",
      "Iteration: 1\n",
      "Iteration: 2\n",
      "Iteration: 3\n",
      "Iteration: 4\n",
      "Iteration: 5\n",
      "\n",
      "MISSFOREST RUN 9/10 - acc: 81.11% +- 5.34% - auc: 87.06% +- 5.48%\n",
      "\n",
      "Iteration: 0\n",
      "Iteration: 1\n",
      "Iteration: 2\n",
      "Iteration: 3\n",
      "Iteration: 4\n",
      "Iteration: 5\n",
      "Iteration: 6\n",
      "Iteration: 7\n",
      "\n",
      "MISSFOREST RUN 10/10 - acc: 84.57% +- 4.11% - auc: 89.53% +- 5.0%\n",
      "\n",
      "\n",
      "MISSFOREST GLOBAL - acc: 81.34% +- 1.97% - auc: 87.52% +- 1.7%\n"
     ]
    }
   ],
   "source": [
    "miss_accs, miss_aucs = [], []\n",
    "for i in range(n_runs):\n",
    "    random.seed(i)\n",
    "    np.random.seed(i)\n",
    "    torch.manual_seed(i)\n",
    "    imputer = MissForest(n_jobs=-1, random_state=i)\n",
    "    imputed = imputer.fit_transform(data_missing_nans)\n",
    "    scores = utils.get_scores(imputed, y)\n",
    "    acc = scores['test_balanced_accuracy']\n",
    "    auc = scores['test_roc_auc_ovo']\n",
    "    print(f'\\nMISSFOREST RUN {i + 1}/{n_runs} - acc: {round(acc.mean() * 100, 2)}% +- {round(acc.std() * 100, 2)}% - ' +\n",
    "          f'auc: {round(auc.mean() * 100, 2)}% +- {round(auc.std() * 100, 2)}%\\n')\n",
    "    miss_accs.append(acc.mean())\n",
    "    miss_aucs.append(auc.mean())\n",
    "print(f'\\nMISSFOREST GLOBAL - acc: {round(np.array(miss_accs).mean() * 100, 2)}% +- {round(np.array(miss_accs).std() * 100, 2)}% - ' +\n",
    "      f'auc: {round(np.array(miss_aucs).mean() * 100, 2)}% +- {round(np.array(miss_aucs).std() * 100, 2)}%')"
   ]
  },
  {
   "cell_type": "markdown",
   "metadata": {},
   "source": [
    "## Run SOFTIMPUTE"
   ]
  },
  {
   "cell_type": "code",
   "execution_count": 9,
   "metadata": {
    "ExecuteTime": {
     "end_time": "2022-06-03T15:23:05.491327Z",
     "start_time": "2022-06-03T15:23:05.491318Z"
    },
    "execution": {
     "iopub.execute_input": "2022-06-04T08:54:32.544560Z",
     "iopub.status.busy": "2022-06-04T08:54:32.543707Z",
     "iopub.status.idle": "2022-06-04T08:54:33.308778Z",
     "shell.execute_reply": "2022-06-04T08:54:33.307899Z"
    }
   },
   "outputs": [
    {
     "name": "stdout",
     "output_type": "stream",
     "text": [
      "SOFTIMPUTE RUN 1/10 - acc: 81.33% +- 3.58% - auc: 88.08% +- 2.74%\n",
      "SOFTIMPUTE RUN 2/10 - acc: 84.9% +- 2.16% - auc: 88.56% +- 3.15%\n",
      "SOFTIMPUTE RUN 3/10 - acc: 80.64% +- 2.94% - auc: 87.02% +- 2.48%\n",
      "SOFTIMPUTE RUN 4/10 - acc: 82.1% +- 1.93% - auc: 89.58% +- 2.44%\n",
      "SOFTIMPUTE RUN 5/10 - acc: 80.01% +- 2.73% - auc: 87.34% +- 3.51%\n",
      "SOFTIMPUTE RUN 6/10 - acc: 80.37% +- 3.5% - auc: 87.17% +- 2.6%\n",
      "SOFTIMPUTE RUN 7/10 - acc: 85.95% +- 1.88% - auc: 90.12% +- 3.63%\n",
      "SOFTIMPUTE RUN 8/10 - acc: 78.42% +- 5.42% - auc: 87.37% +- 3.86%\n",
      "SOFTIMPUTE RUN 9/10 - acc: 80.64% +- 3.44% - auc: 88.12% +- 2.08%\n",
      "SOFTIMPUTE RUN 10/10 - acc: 82.84% +- 2.1% - auc: 87.91% +- 2.91%\n",
      "\n",
      "SOFTIMPUTE GLOBAL - acc: 81.72% +- 2.18% - auc: 88.13% +- 0.98%\n"
     ]
    }
   ],
   "source": [
    "soft_accs, soft_aucs = [], []\n",
    "for i in range(n_runs):\n",
    "    random.seed(i)\n",
    "    np.random.seed(i)\n",
    "    torch.manual_seed(i)\n",
    "    imputer = SoftImpute(random_state=i)\n",
    "    imputer.fit(data_missing_nans)\n",
    "    imputed = imputer.predict(data_missing_nans)\n",
    "    imputed = np.where(missing_mask, data_missing, imputed)\n",
    "    scores = utils.get_scores(imputed, y)\n",
    "    acc = scores['test_balanced_accuracy']\n",
    "    auc = scores['test_roc_auc_ovo']\n",
    "    print(f'SOFTIMPUTE RUN {i + 1}/{n_runs} - acc: {round(acc.mean() * 100, 2)}% +- {round(acc.std() * 100, 2)}% - ' +\n",
    "          f'auc: {round(auc.mean() * 100, 2)}% +- {round(auc.std() * 100, 2)}%')\n",
    "    soft_accs.append(acc.mean())\n",
    "    soft_aucs.append(auc.mean())\n",
    "print(f'\\nSOFTIMPUTE GLOBAL - acc: {round(np.array(soft_accs).mean() * 100, 2)}% +- {round(np.array(soft_accs).std() * 100, 2)}% - ' +\n",
    "      f'auc: {round(np.array(soft_aucs).mean() * 100, 2)}% +- {round(np.array(soft_aucs).std() * 100, 2)}%')"
   ]
  },
  {
   "cell_type": "markdown",
   "metadata": {},
   "source": [
    "## Run SINKHORN"
   ]
  },
  {
   "cell_type": "code",
   "execution_count": 10,
   "metadata": {
    "ExecuteTime": {
     "end_time": "2022-06-03T15:23:05.491915Z",
     "start_time": "2022-06-03T15:23:05.491906Z"
    },
    "execution": {
     "iopub.execute_input": "2022-06-04T08:54:33.315856Z",
     "iopub.status.busy": "2022-06-04T08:54:33.314964Z",
     "iopub.status.idle": "2022-06-04T09:00:10.171975Z",
     "shell.execute_reply": "2022-06-04T09:00:10.172359Z"
    }
   },
   "outputs": [
    {
     "name": "stdout",
     "output_type": "stream",
     "text": [
      "batchsize = 128, epsilon = 0.0100\n",
      "Iteration 0:\t Loss: 1.1618\n",
      "\n",
      "SINKHORN RUN 1/10 - acc: 81.04% +- 5.08% - auc: 85.5% +- 5.43%\n",
      "\n",
      "batchsize = 128, epsilon = 0.0100\n",
      "Iteration 0:\t Loss: 1.0488\n",
      "\n",
      "SINKHORN RUN 2/10 - acc: 80.23% +- 3.84% - auc: 87.32% +- 2.25%\n",
      "\n",
      "batchsize = 128, epsilon = 0.0100\n",
      "Iteration 0:\t Loss: 1.1203\n",
      "\n",
      "SINKHORN RUN 3/10 - acc: 80.65% +- 5.78% - auc: 85.64% +- 5.23%\n",
      "\n",
      "batchsize = 128, epsilon = 0.0100\n",
      "Iteration 0:\t Loss: 1.0252\n",
      "\n",
      "SINKHORN RUN 4/10 - acc: 84.71% +- 4.85% - auc: 88.57% +- 4.41%\n",
      "\n",
      "batchsize = 128, epsilon = 0.0100\n",
      "Iteration 0:\t Loss: 1.1496\n",
      "\n",
      "SINKHORN RUN 5/10 - acc: 78.63% +- 5.47% - auc: 85.13% +- 4.5%\n",
      "\n",
      "batchsize = 128, epsilon = 0.0100\n",
      "Iteration 0:\t Loss: 1.1051\n",
      "\n",
      "SINKHORN RUN 6/10 - acc: 83.17% +- 2.2% - auc: 87.44% +- 3.47%\n",
      "\n",
      "batchsize = 128, epsilon = 0.0100\n",
      "Iteration 0:\t Loss: 1.0622\n",
      "\n",
      "SINKHORN RUN 7/10 - acc: 82.11% +- 3.85% - auc: 88.4% +- 2.07%\n",
      "\n",
      "batchsize = 128, epsilon = 0.0100\n",
      "Iteration 0:\t Loss: 1.0266\n",
      "\n",
      "SINKHORN RUN 8/10 - acc: 81.51% +- 1.77% - auc: 87.15% +- 2.73%\n",
      "\n",
      "batchsize = 128, epsilon = 0.0100\n",
      "Iteration 0:\t Loss: 1.1014\n",
      "\n",
      "SINKHORN RUN 9/10 - acc: 80.68% +- 5.99% - auc: 85.95% +- 5.24%\n",
      "\n",
      "batchsize = 128, epsilon = 0.0100\n",
      "Iteration 0:\t Loss: 1.0686\n",
      "\n",
      "SINKHORN RUN 10/10 - acc: 84.84% +- 2.44% - auc: 88.51% +- 3.17%\n",
      "\n",
      "\n",
      "SINKHORN GLOBAL - acc: 81.76% +- 1.88% - auc: 86.96% +- 1.25%\n"
     ]
    }
   ],
   "source": [
    "sink_accs, sink_aucs = [], []\n",
    "for i in range(n_runs):\n",
    "    random.seed(i)\n",
    "    np.random.seed(i)\n",
    "    torch.manual_seed(i)\n",
    "    imputer = OTimputer(niter=500)\n",
    "    imputed = imputer.fit_transform(data_missing_nans).cpu().detach().numpy()\n",
    "    scores = utils.get_scores(imputed, y)\n",
    "    acc = scores['test_balanced_accuracy']\n",
    "    auc = scores['test_roc_auc_ovo']\n",
    "    print(f'\\nSINKHORN RUN {i + 1}/{n_runs} - acc: {round(acc.mean() * 100, 2)}% +- {round(acc.std() * 100, 2)}% - ' +\n",
    "          f'auc: {round(auc.mean() * 100, 2)}% +- {round(auc.std() * 100, 2)}%\\n')\n",
    "    sink_accs.append(acc.mean())\n",
    "    sink_aucs.append(auc.mean())\n",
    "print(f'\\nSINKHORN GLOBAL - acc: {round(np.array(sink_accs).mean() * 100, 2)}% +- {round(np.array(sink_accs).std() * 100, 2)}% - ' +\n",
    "      f'auc: {round(np.array(sink_aucs).mean() * 100, 2)}% +- {round(np.array(sink_aucs).std() * 100, 2)}%')"
   ]
  },
  {
   "cell_type": "markdown",
   "metadata": {},
   "source": [
    "## Run MIDA"
   ]
  },
  {
   "cell_type": "code",
   "execution_count": 11,
   "metadata": {
    "ExecuteTime": {
     "end_time": "2022-06-03T15:23:05.492695Z",
     "start_time": "2022-06-03T15:23:05.492686Z"
    },
    "execution": {
     "iopub.execute_input": "2022-06-04T09:00:10.178030Z",
     "iopub.status.busy": "2022-06-04T09:00:10.174564Z",
     "iopub.status.idle": "2022-06-04T09:03:48.079048Z",
     "shell.execute_reply": "2022-06-04T09:03:48.080111Z"
    }
   },
   "outputs": [
    {
     "name": "stdout",
     "output_type": "stream",
     "text": [
      "Stop training at epoch: 1500/1500, return best output\n",
      "\n",
      "MIDA RUN 1/10 - acc: 80.43% +- 5.25% - auc: 85.81% +- 4.79%\n",
      "\n",
      "Stop training at epoch: 1500/1500, return best output\n",
      "\n",
      "MIDA RUN 2/10 - acc: 82.31% +- 3.17% - auc: 88.58% +- 3.16%\n",
      "\n",
      "Stop training at epoch: 1500/1500, return best output\n",
      "\n",
      "MIDA RUN 3/10 - acc: 81.17% +- 2.71% - auc: 87.48% +- 3.82%\n",
      "\n",
      "Stop training at epoch: 1500/1500, return best output\n",
      "\n",
      "MIDA RUN 4/10 - acc: 79.57% +- 4.39% - auc: 86.38% +- 4.5%\n",
      "\n",
      "Stop training at epoch: 1500/1500, return best output\n",
      "\n",
      "MIDA RUN 5/10 - acc: 79.6% +- 3.39% - auc: 85.7% +- 3.8%\n",
      "\n",
      "Stop training at epoch: 1500/1500, return best output\n",
      "\n",
      "MIDA RUN 6/10 - acc: 80.3% +- 4.15% - auc: 85.23% +- 3.82%\n",
      "\n",
      "Stop training at epoch: 1500/1500, return best output\n",
      "\n",
      "MIDA RUN 7/10 - acc: 80.2% +- 4.06% - auc: 85.32% +- 4.57%\n",
      "\n",
      "Stop training at epoch: 1500/1500, return best output\n",
      "\n",
      "MIDA RUN 8/10 - acc: 82.0% +- 4.55% - auc: 88.34% +- 2.67%\n",
      "\n",
      "Stop training at epoch: 1500/1500, return best output\n",
      "\n",
      "MIDA RUN 9/10 - acc: 80.72% +- 5.68% - auc: 85.79% +- 5.84%\n",
      "\n",
      "Stop training at epoch: 1500/1500, return best output\n",
      "\n",
      "MIDA RUN 10/10 - acc: 81.19% +- 3.4% - auc: 88.3% +- 2.9%\n",
      "\n",
      "\n",
      "MIDA GLOBAL - acc: 80.75% +- 0.88% - auc: 86.69% +- 1.27%\n"
     ]
    }
   ],
   "source": [
    "mida_accs, mida_aucs = [], []\n",
    "for i in range(n_runs):\n",
    "    random.seed(i)\n",
    "    np.random.seed(i)\n",
    "    torch.manual_seed(i)\n",
    "    imputed = mida(data_missing_nans, num_layers=2, num_epochs=1500)\n",
    "    imputed = np.where(missing_mask, data_missing, imputed)\n",
    "    scores = utils.get_scores(imputed, y)\n",
    "    acc = scores['test_balanced_accuracy']\n",
    "    auc = scores['test_roc_auc_ovo']\n",
    "    print(f'\\nMIDA RUN {i + 1}/{n_runs} - acc: {round(acc.mean() * 100, 2)}% +- {round(acc.std() * 100, 2)}% - ' +\n",
    "          f'auc: {round(auc.mean() * 100, 2)}% +- {round(auc.std() * 100, 2)}%\\n')\n",
    "    mida_accs.append(acc.mean())\n",
    "    mida_aucs.append(auc.mean())\n",
    "print(f'\\nMIDA GLOBAL - acc: {round(np.array(mida_accs).mean() * 100, 2)}% +- {round(np.array(mida_accs).std() * 100, 2)}% - ' +\n",
    "      f'auc: {round(np.array(mida_aucs).mean() * 100, 2)}% +- {round(np.array(mida_aucs).std() * 100, 2)}%')"
   ]
  },
  {
   "cell_type": "markdown",
   "metadata": {},
   "source": [
    "## Run T-tests"
   ]
  },
  {
   "cell_type": "code",
   "execution_count": 12,
   "metadata": {
    "ExecuteTime": {
     "end_time": "2022-06-03T15:23:05.493389Z",
     "start_time": "2022-06-03T15:23:05.493380Z"
    },
    "execution": {
     "iopub.execute_input": "2022-06-04T09:03:48.094989Z",
     "iopub.status.busy": "2022-06-04T09:03:48.093764Z",
     "iopub.status.idle": "2022-06-04T09:03:48.099706Z",
     "shell.execute_reply": "2022-06-04T09:03:48.100604Z"
    },
    "scrolled": false
   },
   "outputs": [
    {
     "name": "stdout",
     "output_type": "stream",
     "text": [
      "Metric ACC - OUR METHOD is significantly better than MEDIAN\n",
      "Metric AUC - OUR METHOD is significantly better than MEDIAN\n",
      "Metric ACC - OUR METHOD is significantly better than MEAN\n",
      "Metric AUC - OUR METHOD is significantly better than MEAN\n",
      "Metric ACC - OUR METHOD is even with KNN\n",
      "Metric AUC - OUR METHOD is significantly better than KNN\n",
      "Metric ACC - OUR METHOD is significantly better than GAIN\n",
      "Metric AUC - OUR METHOD is significantly better than GAIN\n",
      "Metric ACC - OUR METHOD is significantly better than MICE\n",
      "Metric AUC - OUR METHOD is significantly better than MICE\n",
      "Metric ACC - OUR METHOD is even with MISS\n",
      "Metric AUC - OUR METHOD is significantly better than MISS\n",
      "Metric ACC - OUR METHOD is even with SOFT\n",
      "Metric AUC - OUR METHOD is significantly better than SOFT\n",
      "Metric ACC - OUR METHOD is even with SINK\n",
      "Metric AUC - OUR METHOD is significantly better than SINK\n",
      "Metric ACC - OUR METHOD is significantly better than MIDA\n",
      "Metric AUC - OUR METHOD is significantly better than MIDA\n"
     ]
    }
   ],
   "source": [
    "for model, metrics in {\n",
    "        'MEDIAN': {'ACC': median_accs, 'AUC': median_aucs},\n",
    "        'MEAN': {'ACC': mean_accs, 'AUC': mean_aucs},\n",
    "        'KNN': {'ACC': knn_accs, 'AUC': knn_aucs},\n",
    "        'GAIN': {'ACC': gain_accs, 'AUC': gain_aucs},\n",
    "        'MICE': {'ACC': mice_accs, 'AUC': mice_aucs},\n",
    "        'MISS': {'ACC': miss_accs, 'AUC': miss_aucs},\n",
    "        'SOFT': {'ACC': soft_accs, 'AUC': soft_aucs},\n",
    "        'SINK': {'ACC': sink_accs, 'AUC': sink_aucs},\n",
    "        'MIDA': {'ACC': mida_accs, 'AUC': mida_aucs}}.items():\n",
    "    for metric_name, metric in metrics.items():\n",
    "        ours_metric = ours_accs if metric_name == 'ACC' else ours_aucs\n",
    "        t, p = scipy.stats.ttest_ind(np.array(ours_metric), np.array(metric))\n",
    "        if p <= .05:\n",
    "            if t > 0:\n",
    "                ## Our method is better\n",
    "                print(f'Metric {metric_name} - OUR METHOD is significantly better than {model}')\n",
    "            else:\n",
    "                ## Theirs is better\n",
    "                print(f'Metric {metric_name} - OUR METHOD is significantly worse than {model}')\n",
    "        else:\n",
    "            ## Else we are even\n",
    "            print(f'Metric {metric_name} - OUR METHOD is even with {model}')"
   ]
  }
 ],
 "metadata": {
  "kernelspec": {
   "display_name": "Python 3 (ipykernel)",
   "language": "python",
   "name": "python3"
  },
  "language_info": {
   "codemirror_mode": {
    "name": "ipython",
    "version": 3
   },
   "file_extension": ".py",
   "mimetype": "text/x-python",
   "name": "python",
   "nbconvert_exporter": "python",
   "pygments_lexer": "ipython3",
   "version": "3.9.7"
  },
  "latex_envs": {
   "LaTeX_envs_menu_present": true,
   "autoclose": false,
   "autocomplete": true,
   "bibliofile": "biblio.bib",
   "cite_by": "apalike",
   "current_citInitial": 1,
   "eqLabelWithNumbers": true,
   "eqNumInitial": 1,
   "hotkeys": {
    "equation": "Ctrl-E",
    "itemize": "Ctrl-I"
   },
   "labels_anchors": false,
   "latex_user_defs": false,
   "report_style_numbering": false,
   "user_envs_cfg": false
  }
 },
 "nbformat": 4,
 "nbformat_minor": 2
}
