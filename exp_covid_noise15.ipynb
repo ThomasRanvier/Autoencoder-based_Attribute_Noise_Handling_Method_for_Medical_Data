{
 "cells": [
  {
   "cell_type": "code",
   "execution_count": 1,
   "metadata": {
    "ExecuteTime": {
     "end_time": "2022-06-03T15:22:32.840331Z",
     "start_time": "2022-06-03T15:22:29.696281Z"
    },
    "execution": {
     "iopub.execute_input": "2022-06-04T07:14:43.063481Z",
     "iopub.status.busy": "2022-06-04T07:14:43.062001Z",
     "iopub.status.idle": "2022-06-04T07:15:15.336575Z",
     "shell.execute_reply": "2022-06-04T07:15:15.334934Z"
    }
   },
   "outputs": [],
   "source": [
    "from __future__ import print_function\n",
    "import warnings\n",
    "warnings.filterwarnings(\"ignore\", category=UserWarning)\n",
    "warnings.filterwarnings(\"ignore\", category=FutureWarning)\n",
    "## Disable tf future deprecated messages\n",
    "import logging\n",
    "logging.getLogger('tensorflow').disabled = True\n",
    "## Disable tf CUDA messages\n",
    "import os\n",
    "os.environ['TF_CPP_MIN_LOG_LEVEL'] = '3'\n",
    "\n",
    "%matplotlib inline\n",
    "\n",
    "import sys\n",
    "import random\n",
    "import numpy as np\n",
    "import pandas as pd\n",
    "\n",
    "import utils\n",
    "import correction\n",
    "from models.dense import *\n",
    "from models.gain import gain\n",
    "from models.soft_impute import SoftImpute\n",
    "from models.sinkhorn import OTimputer\n",
    "from models.mida import mida\n",
    "\n",
    "import scipy.stats\n",
    "\n",
    "from sklearn.experimental import enable_iterative_imputer\n",
    "from sklearn.impute import IterativeImputer\n",
    "from sklearn.impute import KNNImputer, SimpleImputer\n",
    "\n",
    "import sklearn.neighbors._base\n",
    "sys.modules['sklearn.neighbors.base'] = sklearn.neighbors._base\n",
    "from missingpy import MissForest\n",
    "\n",
    "torch.backends.cudnn.enabled = True\n",
    "torch.backends.cudnn.benchmark = True\n",
    "dtype = torch.cuda.FloatTensor"
   ]
  },
  {
   "cell_type": "markdown",
   "metadata": {},
   "source": [
    "## Repeat all experiments for 10 runs"
   ]
  },
  {
   "cell_type": "code",
   "execution_count": 2,
   "metadata": {
    "ExecuteTime": {
     "end_time": "2022-06-03T15:22:32.845502Z",
     "start_time": "2022-06-03T15:22:32.842130Z"
    },
    "execution": {
     "iopub.execute_input": "2022-06-04T07:15:15.344502Z",
     "iopub.status.busy": "2022-06-04T07:15:15.341468Z",
     "iopub.status.idle": "2022-06-04T07:15:15.349783Z",
     "shell.execute_reply": "2022-06-04T07:15:15.348859Z"
    }
   },
   "outputs": [],
   "source": [
    "n_runs = 10"
   ]
  },
  {
   "cell_type": "markdown",
   "metadata": {},
   "source": [
    "## Load data"
   ]
  },
  {
   "cell_type": "code",
   "execution_count": 3,
   "metadata": {
    "ExecuteTime": {
     "end_time": "2022-06-03T15:22:34.289014Z",
     "start_time": "2022-06-03T15:22:32.847779Z"
    },
    "execution": {
     "iopub.execute_input": "2022-06-04T07:15:15.356694Z",
     "iopub.status.busy": "2022-06-04T07:15:15.356094Z",
     "iopub.status.idle": "2022-06-04T07:15:17.978467Z",
     "shell.execute_reply": "2022-06-04T07:15:17.979670Z"
    }
   },
   "outputs": [
    {
     "name": "stdout",
     "output_type": "stream",
     "text": [
      "Dataset shape: (361, 80)\n",
      "19.75% missing data\n",
      "Class distribution: (array([0, 1]), array([195, 166]))\n"
     ]
    }
   ],
   "source": [
    "data_missing, missing_mask, y = utils.load_covid()\n",
    "## Inject noise\n",
    "data_missing = utils.inject_noise(data_missing.copy(), noise_rate=.15)\n",
    "## Replace missing values locations by 0\n",
    "data_missing = data_missing * missing_mask"
   ]
  },
  {
   "cell_type": "markdown",
   "metadata": {},
   "source": [
    "## Run OUR METHOD"
   ]
  },
  {
   "cell_type": "code",
   "execution_count": 4,
   "metadata": {
    "ExecuteTime": {
     "end_time": "2022-06-03T15:23:05.486728Z",
     "start_time": "2022-06-03T15:22:34.290669Z"
    },
    "execution": {
     "iopub.execute_input": "2022-06-04T07:15:17.988951Z",
     "iopub.status.busy": "2022-06-04T07:15:17.988053Z",
     "iopub.status.idle": "2022-06-04T07:34:19.405948Z",
     "shell.execute_reply": "2022-06-04T07:34:19.403627Z"
    },
    "scrolled": false
   },
   "outputs": [
    {
     "name": "stdout",
     "output_type": "stream",
     "text": [
      "Ite 00000 - 0.77 sec - Loss 0.099644 - ACC 77.10% - ACC Mean 77.10% - AUC 83.66% - AUC Mean 83.66% - Deter 000\n",
      "Ite 00050 - 0.13 sec - Loss 0.093518 - ACC 77.66% - ACC Mean 77.56% - AUC 82.77% - AUC Mean 83.50% - Deter 021\n",
      "Ite 00100 - 0.19 sec - Loss 0.077955 - ACC 76.54% - ACC Mean 76.60% - AUC 82.29% - AUC Mean 83.13% - Deter 071\n",
      "Ite 00150 - 0.09 sec - Loss 0.054687 - ACC 76.00% - ACC Mean 75.94% - AUC 83.71% - AUC Mean 83.50% - Deter 028\n",
      "Ite 00200 - 0.13 sec - Loss 0.043290 - ACC 77.45% - ACC Mean 76.90% - AUC 83.47% - AUC Mean 83.58% - Deter 078\n",
      "Ite 00250 - 0.10 sec - Loss 0.040481 - ACC 78.18% - ACC Mean 77.87% - AUC 83.75% - AUC Mean 83.63% - Deter 128\n",
      "Ite 00300 - 0.10 sec - Loss 0.039599 - ACC 77.49% - ACC Mean 77.79% - AUC 83.19% - AUC Mean 83.59% - Deter 009\n",
      "Ite 00350 - 0.10 sec - Loss 0.039115 - ACC 78.25% - ACC Mean 78.05% - AUC 84.09% - AUC Mean 83.76% - Deter 025\n",
      "Ite 00400 - 0.11 sec - Loss 0.038733 - ACC 78.51% - ACC Mean 78.23% - AUC 83.33% - AUC Mean 84.22% - Deter 003\n",
      "Ite 00450 - 0.09 sec - Loss 0.038326 - ACC 78.65% - ACC Mean 78.76% - AUC 85.42% - AUC Mean 84.49% - Deter 009\n",
      "Ite 00500 - 0.10 sec - Loss 0.037854 - ACC 79.52% - ACC Mean 78.61% - AUC 85.41% - AUC Mean 84.40% - Deter 059\n",
      "Ite 00550 - 0.10 sec - Loss 0.037359 - ACC 80.58% - ACC Mean 79.01% - AUC 87.82% - AUC Mean 85.25% - Deter 010\n",
      "Ite 00600 - 0.10 sec - Loss 0.036752 - ACC 79.97% - ACC Mean 79.49% - AUC 84.92% - AUC Mean 85.70% - Deter 060\n",
      "Ite 00650 - 0.10 sec - Loss 0.036132 - ACC 81.21% - ACC Mean 80.35% - AUC 87.31% - AUC Mean 86.31% - Deter 048\n",
      "Ite 00700 - 0.10 sec - Loss 0.035518 - ACC 79.27% - ACC Mean 80.52% - AUC 86.34% - AUC Mean 87.03% - Deter 018\n",
      "Ite 00750 - 0.09 sec - Loss 0.034959 - ACC 82.23% - ACC Mean 81.13% - AUC 86.84% - AUC Mean 86.87% - Deter 043\n",
      "Ite 00800 - 0.10 sec - Loss 0.034337 - ACC 82.40% - ACC Mean 80.95% - AUC 89.32% - AUC Mean 87.38% - Deter 003\n",
      "Ite 00850 - 0.09 sec - Loss 0.033804 - ACC 81.51% - ACC Mean 81.38% - AUC 89.21% - AUC Mean 88.29% - Deter 025\n",
      "Ite 00900 - 0.10 sec - Loss 0.033306 - ACC 79.19% - ACC Mean 81.91% - AUC 88.45% - AUC Mean 88.49% - Deter 075\n",
      "Ite 00950 - 0.09 sec - Loss 0.032852 - ACC 80.50% - ACC Mean 81.75% - AUC 88.04% - AUC Mean 88.18% - Deter 125\n",
      "Ite 01000 - 0.10 sec - Loss 0.032354 - ACC 82.12% - ACC Mean 81.57% - AUC 87.16% - AUC Mean 87.68% - Deter 175\n",
      "Ite 01050 - 0.10 sec - Loss 0.031960 - ACC 79.57% - ACC Mean 81.90% - AUC 86.73% - AUC Mean 88.28% - Deter 225\n",
      "Ite 01100 - 0.09 sec - Loss 0.031598 - ACC 83.52% - ACC Mean 81.67% - AUC 87.89% - AUC Mean 88.02% - Deter 275\n",
      "Ite 01150 - 0.09 sec - Loss 0.031247 - ACC 80.99% - ACC Mean 82.18% - AUC 89.82% - AUC Mean 88.70% - Deter 019\n",
      "Ite 01200 - 0.09 sec - Loss 0.030944 - ACC 86.45% - ACC Mean 82.67% - AUC 90.62% - AUC Mean 89.15% - Deter 069\n",
      "Ite 01250 - 0.14 sec - Loss 0.030634 - ACC 81.01% - ACC Mean 82.78% - AUC 89.33% - AUC Mean 89.45% - Deter 119\n",
      "Ite 01300 - 0.09 sec - Loss 0.030301 - ACC 82.56% - ACC Mean 82.87% - AUC 88.12% - AUC Mean 89.51% - Deter 169\n",
      "Ite 01350 - 0.11 sec - Loss 0.029986 - ACC 81.99% - ACC Mean 82.69% - AUC 89.65% - AUC Mean 89.12% - Deter 219\n",
      "Ite 01400 - 0.10 sec - Loss 0.029685 - ACC 82.13% - ACC Mean 83.77% - AUC 88.87% - AUC Mean 89.45% - Deter 269\n",
      "Ite 01450 - 0.13 sec - Loss 0.029368 - ACC 82.63% - ACC Mean 83.77% - AUC 89.04% - AUC Mean 89.26% - Deter 319\n",
      "Ite 01500 - 0.10 sec - Loss 0.029024 - ACC 83.24% - ACC Mean 83.70% - AUC 88.62% - AUC Mean 89.62% - Deter 369\n",
      "Ite 01531 - 0.09 sec - Loss 0.028772 - ACC 84.13% - ACC Mean 84.08% - AUC 89.79% - AUC Mean 89.67% - Deter 400\n",
      "Early stop ite 1531, rollback to correction of ite 1131, whith acc of 85.9% and auc of 92.5%\n",
      "OUR METHOD RUN 1/10 - acc: 85.9% +- 0.0% - auc: 92.5% +- 0.0%\n",
      "Ite 00000 - 0.09 sec - Loss 0.098917 - ACC 77.10% - ACC Mean 77.10% - AUC 83.19% - AUC Mean 83.19% - Deter 000\n",
      "Ite 00050 - 0.11 sec - Loss 0.092868 - ACC 76.47% - ACC Mean 77.43% - AUC 83.68% - AUC Mean 83.65% - Deter 026\n",
      "Ite 00100 - 0.12 sec - Loss 0.078163 - ACC 78.61% - ACC Mean 77.20% - AUC 84.10% - AUC Mean 83.67% - Deter 008\n",
      "Ite 00150 - 0.10 sec - Loss 0.055083 - ACC 76.25% - ACC Mean 75.96% - AUC 83.82% - AUC Mean 83.53% - Deter 058\n",
      "Ite 00200 - 0.16 sec - Loss 0.043326 - ACC 78.21% - ACC Mean 76.11% - AUC 83.93% - AUC Mean 83.79% - Deter 108\n",
      "Ite 00250 - 0.10 sec - Loss 0.040533 - ACC 78.51% - ACC Mean 78.04% - AUC 83.93% - AUC Mean 83.90% - Deter 158\n",
      "Ite 00300 - 0.10 sec - Loss 0.039800 - ACC 78.21% - ACC Mean 78.19% - AUC 83.89% - AUC Mean 83.85% - Deter 208\n",
      "Ite 00350 - 0.22 sec - Loss 0.039463 - ACC 78.21% - ACC Mean 78.15% - AUC 83.93% - AUC Mean 83.85% - Deter 258\n",
      "Ite 00400 - 0.09 sec - Loss 0.039202 - ACC 78.25% - ACC Mean 78.13% - AUC 83.96% - AUC Mean 83.85% - Deter 308\n",
      "Ite 00450 - 0.14 sec - Loss 0.038937 - ACC 78.21% - ACC Mean 78.13% - AUC 83.93% - AUC Mean 83.87% - Deter 358\n",
      "Ite 00492 - 0.10 sec - Loss 0.038665 - ACC 78.21% - ACC Mean 78.12% - AUC 83.89% - AUC Mean 83.89% - Deter 400\n",
      "Early stop ite 492, rollback to correction of ite 92, whith acc of 77.78% and auc of 84.47%\n",
      "OUR METHOD RUN 2/10 - acc: 77.78% +- 0.0% - auc: 84.47% +- 0.0%\n",
      "Ite 00000 - 0.12 sec - Loss 0.098151 - ACC 77.91% - ACC Mean 77.91% - AUC 83.80% - AUC Mean 83.80% - Deter 000\n",
      "Ite 00050 - 0.13 sec - Loss 0.092872 - ACC 77.24% - ACC Mean 77.72% - AUC 83.00% - AUC Mean 83.14% - Deter 045\n",
      "Ite 00100 - 0.10 sec - Loss 0.079727 - ACC 77.19% - ACC Mean 77.31% - AUC 83.37% - AUC Mean 83.22% - Deter 095\n",
      "Ite 00150 - 0.10 sec - Loss 0.056932 - ACC 76.55% - ACC Mean 77.44% - AUC 83.20% - AUC Mean 83.44% - Deter 002\n",
      "Ite 00200 - 0.10 sec - Loss 0.044107 - ACC 78.68% - ACC Mean 77.82% - AUC 84.63% - AUC Mean 84.09% - Deter 000\n",
      "Ite 00250 - 0.10 sec - Loss 0.040676 - ACC 79.03% - ACC Mean 78.75% - AUC 84.24% - AUC Mean 84.17% - Deter 050\n",
      "Ite 00300 - 0.11 sec - Loss 0.039649 - ACC 77.33% - ACC Mean 78.58% - AUC 83.67% - AUC Mean 83.90% - Deter 100\n",
      "Ite 00350 - 0.09 sec - Loss 0.039169 - ACC 77.63% - ACC Mean 78.39% - AUC 83.95% - AUC Mean 83.84% - Deter 150\n",
      "Ite 00400 - 0.10 sec - Loss 0.038834 - ACC 78.73% - ACC Mean 78.38% - AUC 84.06% - AUC Mean 83.76% - Deter 200\n",
      "Ite 00450 - 0.09 sec - Loss 0.038488 - ACC 77.36% - ACC Mean 78.17% - AUC 83.36% - AUC Mean 83.56% - Deter 250\n",
      "Ite 00500 - 0.11 sec - Loss 0.038085 - ACC 78.18% - ACC Mean 78.16% - AUC 83.81% - AUC Mean 83.57% - Deter 300\n",
      "Ite 00550 - 0.10 sec - Loss 0.037650 - ACC 77.57% - ACC Mean 78.35% - AUC 83.81% - AUC Mean 83.75% - Deter 021\n",
      "Ite 00600 - 0.13 sec - Loss 0.037093 - ACC 79.86% - ACC Mean 79.47% - AUC 85.30% - AUC Mean 84.40% - Deter 015\n",
      "Ite 00650 - 0.11 sec - Loss 0.036465 - ACC 80.44% - ACC Mean 80.13% - AUC 84.64% - AUC Mean 84.56% - Deter 065\n",
      "Ite 00700 - 0.09 sec - Loss 0.035751 - ACC 80.74% - ACC Mean 80.17% - AUC 84.34% - AUC Mean 84.49% - Deter 115\n",
      "Ite 00750 - 0.12 sec - Loss 0.035096 - ACC 79.93% - ACC Mean 80.85% - AUC 84.92% - AUC Mean 84.71% - Deter 007\n",
      "Ite 00800 - 0.09 sec - Loss 0.034536 - ACC 81.25% - ACC Mean 80.60% - AUC 85.65% - AUC Mean 84.74% - Deter 057\n",
      "Ite 00850 - 0.10 sec - Loss 0.034068 - ACC 80.44% - ACC Mean 80.80% - AUC 85.22% - AUC Mean 85.01% - Deter 017\n",
      "Ite 00900 - 0.09 sec - Loss 0.033643 - ACC 81.25% - ACC Mean 80.86% - AUC 84.81% - AUC Mean 85.19% - Deter 043\n",
      "Ite 00950 - 0.09 sec - Loss 0.033251 - ACC 79.95% - ACC Mean 80.73% - AUC 85.94% - AUC Mean 84.94% - Deter 010\n",
      "Ite 01000 - 0.09 sec - Loss 0.032858 - ACC 81.25% - ACC Mean 80.71% - AUC 84.81% - AUC Mean 85.01% - Deter 034\n",
      "Ite 01050 - 0.09 sec - Loss 0.032459 - ACC 81.25% - ACC Mean 80.90% - AUC 86.50% - AUC Mean 85.61% - Deter 036\n",
      "Ite 01100 - 0.11 sec - Loss 0.031994 - ACC 80.25% - ACC Mean 81.23% - AUC 86.21% - AUC Mean 86.83% - Deter 019\n",
      "Ite 01150 - 0.12 sec - Loss 0.031546 - ACC 81.25% - ACC Mean 81.03% - AUC 84.93% - AUC Mean 87.50% - Deter 046\n",
      "Ite 01200 - 0.09 sec - Loss 0.031139 - ACC 80.46% - ACC Mean 81.35% - AUC 88.63% - AUC Mean 88.12% - Deter 096\n",
      "Ite 01250 - 0.10 sec - Loss 0.030766 - ACC 81.13% - ACC Mean 81.42% - AUC 88.18% - AUC Mean 88.15% - Deter 146\n",
      "Ite 01300 - 0.09 sec - Loss 0.030391 - ACC 81.20% - ACC Mean 81.24% - AUC 87.07% - AUC Mean 87.95% - Deter 196\n",
      "Ite 01350 - 0.09 sec - Loss 0.030029 - ACC 81.41% - ACC Mean 81.36% - AUC 89.27% - AUC Mean 88.01% - Deter 246\n",
      "Ite 01400 - 0.10 sec - Loss 0.029677 - ACC 80.86% - ACC Mean 81.81% - AUC 87.04% - AUC Mean 88.45% - Deter 009\n",
      "Ite 01450 - 0.10 sec - Loss 0.029357 - ACC 81.21% - ACC Mean 82.07% - AUC 87.78% - AUC Mean 88.42% - Deter 059\n",
      "Ite 01500 - 0.11 sec - Loss 0.029021 - ACC 82.37% - ACC Mean 82.29% - AUC 89.10% - AUC Mean 88.59% - Deter 109\n",
      "Ite 01550 - 0.22 sec - Loss 0.028695 - ACC 83.19% - ACC Mean 82.18% - AUC 89.79% - AUC Mean 88.53% - Deter 159\n",
      "Ite 01600 - 0.09 sec - Loss 0.028368 - ACC 83.01% - ACC Mean 82.95% - AUC 89.20% - AUC Mean 88.97% - Deter 016\n",
      "Ite 01650 - 0.11 sec - Loss 0.028047 - ACC 85.09% - ACC Mean 83.33% - AUC 90.61% - AUC Mean 89.43% - Deter 066\n",
      "Ite 01700 - 0.10 sec - Loss 0.027735 - ACC 79.73% - ACC Mean 82.93% - AUC 88.08% - AUC Mean 89.18% - Deter 014\n",
      "Ite 01750 - 0.09 sec - Loss 0.027462 - ACC 81.99% - ACC Mean 82.78% - AUC 87.78% - AUC Mean 89.10% - Deter 064\n",
      "Ite 01800 - 0.10 sec - Loss 0.027139 - ACC 80.36% - ACC Mean 83.37% - AUC 90.23% - AUC Mean 89.42% - Deter 114\n",
      "Ite 01850 - 0.12 sec - Loss 0.026835 - ACC 83.16% - ACC Mean 83.62% - AUC 90.11% - AUC Mean 89.36% - Deter 164\n",
      "Ite 01900 - 0.10 sec - Loss 0.026524 - ACC 83.80% - ACC Mean 83.41% - AUC 88.19% - AUC Mean 89.43% - Deter 214\n",
      "Ite 01950 - 0.09 sec - Loss 0.026149 - ACC 82.86% - ACC Mean 83.69% - AUC 88.11% - AUC Mean 89.73% - Deter 005\n",
      "Ite 02000 - 0.11 sec - Loss 0.025774 - ACC 86.52% - ACC Mean 84.23% - AUC 91.72% - AUC Mean 90.11% - Deter 055\n",
      "Ite 02050 - 0.10 sec - Loss 0.025422 - ACC 84.44% - ACC Mean 84.40% - AUC 90.11% - AUC Mean 89.81% - Deter 105\n",
      "Ite 02100 - 0.10 sec - Loss 0.025064 - ACC 85.34% - ACC Mean 84.89% - AUC 90.80% - AUC Mean 90.45% - Deter 155\n",
      "Ite 02150 - 0.13 sec - Loss 0.024664 - ACC 86.26% - ACC Mean 84.43% - AUC 91.38% - AUC Mean 90.42% - Deter 205\n",
      "Ite 02200 - 0.10 sec - Loss 0.024218 - ACC 86.62% - ACC Mean 84.44% - AUC 89.92% - AUC Mean 89.97% - Deter 255\n",
      "Ite 02250 - 0.10 sec - Loss 0.023731 - ACC 84.08% - ACC Mean 84.29% - AUC 90.50% - AUC Mean 90.33% - Deter 004\n",
      "Ite 02300 - 0.10 sec - Loss 0.023232 - ACC 80.01% - ACC Mean 83.96% - AUC 87.84% - AUC Mean 89.89% - Deter 054\n",
      "Ite 02350 - 0.10 sec - Loss 0.022780 - ACC 84.68% - ACC Mean 83.03% - AUC 89.28% - AUC Mean 89.11% - Deter 104\n",
      "Ite 02400 - 0.11 sec - Loss 0.022289 - ACC 77.75% - ACC Mean 81.54% - AUC 86.74% - AUC Mean 88.15% - Deter 154\n",
      "Ite 02450 - 0.11 sec - Loss 0.021790 - ACC 81.88% - ACC Mean 81.45% - AUC 88.12% - AUC Mean 87.99% - Deter 204\n",
      "Ite 02500 - 0.14 sec - Loss 0.021281 - ACC 82.12% - ACC Mean 81.10% - AUC 88.61% - AUC Mean 87.75% - Deter 254\n",
      "Ite 02550 - 0.11 sec - Loss 0.020784 - ACC 80.26% - ACC Mean 80.31% - AUC 88.58% - AUC Mean 87.21% - Deter 304\n",
      "Ite 02600 - 0.10 sec - Loss 0.020274 - ACC 79.72% - ACC Mean 80.74% - AUC 87.56% - AUC Mean 87.34% - Deter 354\n",
      "Ite 02646 - 0.10 sec - Loss 0.019802 - ACC 84.23% - ACC Mean 80.85% - AUC 89.97% - AUC Mean 87.65% - Deter 400\n",
      "Early stop ite 2646, rollback to correction of ite 2246, whith acc of 85.27% and auc of 93.11%\n",
      "OUR METHOD RUN 3/10 - acc: 85.27% +- 0.0% - auc: 93.11% +- 0.0%\n",
      "Ite 00000 - 0.16 sec - Loss 0.098571 - ACC 77.18% - ACC Mean 77.18% - AUC 83.72% - AUC Mean 83.72% - Deter 000\n",
      "Ite 00050 - 0.10 sec - Loss 0.091392 - ACC 77.02% - ACC Mean 77.33% - AUC 83.16% - AUC Mean 83.23% - Deter 006\n",
      "Ite 00100 - 0.10 sec - Loss 0.074857 - ACC 77.95% - ACC Mean 77.52% - AUC 83.74% - AUC Mean 83.30% - Deter 008\n",
      "Ite 00150 - 0.10 sec - Loss 0.052783 - ACC 78.72% - ACC Mean 77.75% - AUC 84.52% - AUC Mean 83.86% - Deter 008\n",
      "Ite 00200 - 0.10 sec - Loss 0.042816 - ACC 78.21% - ACC Mean 77.59% - AUC 82.94% - AUC Mean 83.47% - Deter 058\n",
      "Ite 00250 - 0.10 sec - Loss 0.040383 - ACC 78.21% - ACC Mean 78.10% - AUC 82.98% - AUC Mean 83.40% - Deter 108\n",
      "Ite 00300 - 0.09 sec - Loss 0.039568 - ACC 78.21% - ACC Mean 78.14% - AUC 83.89% - AUC Mean 83.38% - Deter 158\n",
      "Ite 00350 - 0.14 sec - Loss 0.039124 - ACC 78.21% - ACC Mean 78.20% - AUC 83.89% - AUC Mean 83.45% - Deter 208\n",
      "Ite 00400 - 0.10 sec - Loss 0.038781 - ACC 78.21% - ACC Mean 78.10% - AUC 83.89% - AUC Mean 83.50% - Deter 258\n",
      "Ite 00450 - 0.10 sec - Loss 0.038418 - ACC 78.21% - ACC Mean 78.23% - AUC 83.89% - AUC Mean 83.59% - Deter 308\n",
      "Ite 00500 - 0.10 sec - Loss 0.037981 - ACC 78.51% - ACC Mean 78.50% - AUC 83.92% - AUC Mean 84.48% - Deter 033\n",
      "Ite 00550 - 0.11 sec - Loss 0.037499 - ACC 78.21% - ACC Mean 78.61% - AUC 82.98% - AUC Mean 84.53% - Deter 030\n",
      "Ite 00600 - 0.11 sec - Loss 0.036860 - ACC 79.34% - ACC Mean 79.07% - AUC 84.54% - AUC Mean 84.73% - Deter 011\n",
      "Ite 00650 - 0.09 sec - Loss 0.036195 - ACC 78.21% - ACC Mean 79.19% - AUC 82.98% - AUC Mean 85.11% - Deter 037\n",
      "Ite 00700 - 0.13 sec - Loss 0.035518 - ACC 79.52% - ACC Mean 79.53% - AUC 86.11% - AUC Mean 85.73% - Deter 087\n",
      "Ite 00750 - 0.10 sec - Loss 0.034873 - ACC 78.21% - ACC Mean 80.07% - AUC 84.88% - AUC Mean 86.81% - Deter 041\n",
      "Ite 00800 - 0.11 sec - Loss 0.034282 - ACC 80.07% - ACC Mean 80.71% - AUC 87.06% - AUC Mean 87.59% - Deter 042\n",
      "Ite 00850 - 0.09 sec - Loss 0.033762 - ACC 79.62% - ACC Mean 81.07% - AUC 87.47% - AUC Mean 87.95% - Deter 019\n",
      "Ite 00900 - 0.09 sec - Loss 0.033286 - ACC 82.35% - ACC Mean 82.00% - AUC 87.63% - AUC Mean 88.17% - Deter 069\n",
      "Ite 00950 - 0.10 sec - Loss 0.032844 - ACC 80.45% - ACC Mean 82.41% - AUC 87.94% - AUC Mean 88.06% - Deter 119\n",
      "Ite 01000 - 0.14 sec - Loss 0.032414 - ACC 80.24% - ACC Mean 83.02% - AUC 85.75% - AUC Mean 88.50% - Deter 169\n",
      "Ite 01050 - 0.10 sec - Loss 0.032056 - ACC 81.75% - ACC Mean 82.56% - AUC 86.26% - AUC Mean 87.98% - Deter 219\n",
      "Ite 01100 - 0.10 sec - Loss 0.031702 - ACC 80.70% - ACC Mean 82.09% - AUC 87.07% - AUC Mean 87.77% - Deter 269\n",
      "Ite 01150 - 0.09 sec - Loss 0.031337 - ACC 80.36% - ACC Mean 82.18% - AUC 86.97% - AUC Mean 87.90% - Deter 319\n",
      "Ite 01200 - 0.12 sec - Loss 0.031019 - ACC 81.80% - ACC Mean 81.47% - AUC 87.97% - AUC Mean 87.88% - Deter 369\n",
      "Ite 01231 - 0.13 sec - Loss 0.030823 - ACC 82.46% - ACC Mean 81.91% - AUC 89.82% - AUC Mean 88.14% - Deter 400\n",
      "Early stop ite 1231, rollback to correction of ite 831, whith acc of 81.82% and auc of 90.88%\n",
      "OUR METHOD RUN 4/10 - acc: 81.82% +- 0.0% - auc: 90.88% +- 0.0%\n",
      "Ite 00000 - 0.11 sec - Loss 0.099145 - ACC 77.32% - ACC Mean 77.32% - AUC 83.76% - AUC Mean 83.76% - Deter 000\n",
      "Ite 00050 - 0.10 sec - Loss 0.092650 - ACC 77.61% - ACC Mean 77.43% - AUC 83.74% - AUC Mean 84.17% - Deter 022\n",
      "Ite 00100 - 0.10 sec - Loss 0.075966 - ACC 75.50% - ACC Mean 76.49% - AUC 83.56% - AUC Mean 83.62% - Deter 072\n",
      "Ite 00150 - 0.09 sec - Loss 0.052240 - ACC 75.99% - ACC Mean 76.06% - AUC 84.16% - AUC Mean 83.86% - Deter 122\n",
      "Ite 00200 - 0.10 sec - Loss 0.041984 - ACC 78.21% - ACC Mean 77.71% - AUC 83.14% - AUC Mean 83.81% - Deter 172\n",
      "Ite 00250 - 0.09 sec - Loss 0.040002 - ACC 78.21% - ACC Mean 78.22% - AUC 84.09% - AUC Mean 83.91% - Deter 222\n",
      "Ite 00300 - 0.11 sec - Loss 0.039414 - ACC 78.21% - ACC Mean 78.04% - AUC 84.28% - AUC Mean 83.90% - Deter 272\n",
      "Ite 00350 - 0.10 sec - Loss 0.039069 - ACC 78.21% - ACC Mean 78.15% - AUC 83.19% - AUC Mean 83.91% - Deter 322\n",
      "Ite 00400 - 0.12 sec - Loss 0.038747 - ACC 77.36% - ACC Mean 78.26% - AUC 83.83% - AUC Mean 83.99% - Deter 372\n",
      "Ite 00450 - 0.11 sec - Loss 0.038335 - ACC 78.21% - ACC Mean 78.21% - AUC 84.09% - AUC Mean 83.88% - Deter 043\n",
      "Ite 00500 - 0.09 sec - Loss 0.037822 - ACC 78.91% - ACC Mean 78.36% - AUC 85.24% - AUC Mean 84.14% - Deter 018\n",
      "Ite 00550 - 0.12 sec - Loss 0.037247 - ACC 78.21% - ACC Mean 78.65% - AUC 84.08% - AUC Mean 84.54% - Deter 068\n",
      "Ite 00600 - 0.13 sec - Loss 0.036553 - ACC 83.18% - ACC Mean 79.31% - AUC 87.44% - AUC Mean 84.82% - Deter 118\n",
      "Ite 00650 - 0.13 sec - Loss 0.035847 - ACC 80.19% - ACC Mean 80.42% - AUC 83.78% - AUC Mean 85.60% - Deter 043\n",
      "Ite 00700 - 0.12 sec - Loss 0.035104 - ACC 79.93% - ACC Mean 80.29% - AUC 85.16% - AUC Mean 85.83% - Deter 093\n",
      "Ite 00750 - 0.11 sec - Loss 0.034405 - ACC 79.93% - ACC Mean 80.37% - AUC 84.23% - AUC Mean 86.16% - Deter 143\n",
      "Ite 00800 - 0.10 sec - Loss 0.033815 - ACC 81.56% - ACC Mean 80.52% - AUC 87.78% - AUC Mean 86.05% - Deter 193\n",
      "Ite 00850 - 0.13 sec - Loss 0.033290 - ACC 80.44% - ACC Mean 81.02% - AUC 87.46% - AUC Mean 86.68% - Deter 014\n",
      "Ite 00900 - 0.10 sec - Loss 0.032792 - ACC 82.33% - ACC Mean 81.87% - AUC 88.50% - AUC Mean 87.59% - Deter 018\n",
      "Ite 00950 - 0.09 sec - Loss 0.032313 - ACC 84.50% - ACC Mean 81.44% - AUC 88.72% - AUC Mean 87.75% - Deter 019\n",
      "Ite 01000 - 0.11 sec - Loss 0.031852 - ACC 81.15% - ACC Mean 82.34% - AUC 86.96% - AUC Mean 87.91% - Deter 069\n",
      "Ite 01050 - 0.09 sec - Loss 0.031443 - ACC 80.74% - ACC Mean 82.20% - AUC 87.68% - AUC Mean 88.15% - Deter 036\n",
      "Ite 01100 - 0.11 sec - Loss 0.030988 - ACC 81.23% - ACC Mean 82.77% - AUC 89.48% - AUC Mean 89.04% - Deter 004\n",
      "Ite 01150 - 0.10 sec - Loss 0.030557 - ACC 81.69% - ACC Mean 82.97% - AUC 89.50% - AUC Mean 89.27% - Deter 037\n",
      "Ite 01200 - 0.11 sec - Loss 0.030167 - ACC 82.11% - ACC Mean 82.77% - AUC 89.48% - AUC Mean 89.15% - Deter 024\n",
      "Ite 01250 - 0.13 sec - Loss 0.029793 - ACC 81.35% - ACC Mean 82.68% - AUC 87.49% - AUC Mean 88.78% - Deter 074\n",
      "Ite 01300 - 0.09 sec - Loss 0.029426 - ACC 82.61% - ACC Mean 82.59% - AUC 89.56% - AUC Mean 88.99% - Deter 124\n",
      "Ite 01350 - 0.09 sec - Loss 0.029083 - ACC 82.73% - ACC Mean 82.23% - AUC 89.81% - AUC Mean 88.72% - Deter 174\n",
      "Ite 01400 - 0.10 sec - Loss 0.028757 - ACC 79.96% - ACC Mean 81.83% - AUC 88.22% - AUC Mean 88.68% - Deter 224\n",
      "Ite 01450 - 0.09 sec - Loss 0.028424 - ACC 81.63% - ACC Mean 82.12% - AUC 88.75% - AUC Mean 88.87% - Deter 274\n",
      "Ite 01500 - 0.12 sec - Loss 0.028105 - ACC 81.68% - ACC Mean 82.49% - AUC 88.32% - AUC Mean 89.14% - Deter 003\n",
      "Ite 01550 - 0.10 sec - Loss 0.027790 - ACC 81.41% - ACC Mean 82.20% - AUC 87.30% - AUC Mean 89.03% - Deter 053\n",
      "Ite 01600 - 0.12 sec - Loss 0.027452 - ACC 81.34% - ACC Mean 82.55% - AUC 88.00% - AUC Mean 88.98% - Deter 103\n",
      "Ite 01650 - 0.11 sec - Loss 0.027142 - ACC 82.25% - ACC Mean 82.21% - AUC 89.66% - AUC Mean 88.94% - Deter 153\n",
      "Ite 01700 - 0.09 sec - Loss 0.026810 - ACC 81.15% - ACC Mean 82.08% - AUC 88.19% - AUC Mean 88.45% - Deter 203\n",
      "Ite 01750 - 0.11 sec - Loss 0.026452 - ACC 81.28% - ACC Mean 81.77% - AUC 88.35% - AUC Mean 88.27% - Deter 253\n",
      "Ite 01800 - 0.10 sec - Loss 0.026067 - ACC 81.63% - ACC Mean 82.08% - AUC 88.17% - AUC Mean 88.21% - Deter 303\n",
      "Ite 01850 - 0.13 sec - Loss 0.025703 - ACC 84.13% - ACC Mean 81.96% - AUC 88.47% - AUC Mean 88.29% - Deter 353\n",
      "Ite 01897 - 0.12 sec - Loss 0.025349 - ACC 85.25% - ACC Mean 83.13% - AUC 88.33% - AUC Mean 88.86% - Deter 400\n",
      "Early stop ite 1897, rollback to correction of ite 1497, whith acc of 84.09% and auc of 92.35%\n",
      "OUR METHOD RUN 5/10 - acc: 84.09% +- 0.0% - auc: 92.35% +- 0.0%\n",
      "Ite 00000 - 0.13 sec - Loss 0.098180 - ACC 79.68% - ACC Mean 79.68% - AUC 84.73% - AUC Mean 84.73% - Deter 000\n",
      "Ite 00050 - 0.10 sec - Loss 0.092535 - ACC 77.90% - ACC Mean 78.90% - AUC 84.31% - AUC Mean 84.50% - Deter 043\n",
      "Ite 00100 - 0.11 sec - Loss 0.078819 - ACC 78.21% - ACC Mean 77.87% - AUC 83.90% - AUC Mean 84.18% - Deter 013\n",
      "Ite 00150 - 0.13 sec - Loss 0.055823 - ACC 78.12% - ACC Mean 78.06% - AUC 84.10% - AUC Mean 83.94% - Deter 063\n",
      "Ite 00200 - 0.11 sec - Loss 0.043360 - ACC 77.86% - ACC Mean 77.03% - AUC 83.84% - AUC Mean 83.23% - Deter 113\n",
      "Ite 00250 - 0.12 sec - Loss 0.040411 - ACC 77.60% - ACC Mean 77.36% - AUC 83.68% - AUC Mean 83.30% - Deter 163\n",
      "Ite 00300 - 0.13 sec - Loss 0.039555 - ACC 78.21% - ACC Mean 77.71% - AUC 83.84% - AUC Mean 83.52% - Deter 213\n",
      "Ite 00350 - 0.10 sec - Loss 0.039109 - ACC 78.21% - ACC Mean 78.17% - AUC 83.89% - AUC Mean 83.69% - Deter 263\n",
      "Ite 00400 - 0.10 sec - Loss 0.038761 - ACC 78.17% - ACC Mean 78.20% - AUC 83.46% - AUC Mean 83.72% - Deter 313\n",
      "Ite 00450 - 0.11 sec - Loss 0.038379 - ACC 78.21% - ACC Mean 78.28% - AUC 83.89% - AUC Mean 83.80% - Deter 363\n",
      "Ite 00487 - 0.13 sec - Loss 0.038043 - ACC 78.21% - ACC Mean 78.21% - AUC 83.89% - AUC Mean 83.83% - Deter 400\n",
      "Early stop ite 487, rollback to correction of ite 87, whith acc of 77.73% and auc of 85.33%\n",
      "OUR METHOD RUN 6/10 - acc: 77.73% +- 0.0% - auc: 85.33% +- 0.0%\n",
      "Ite 00000 - 0.13 sec - Loss 0.097925 - ACC 77.69% - ACC Mean 77.69% - AUC 83.57% - AUC Mean 83.57% - Deter 000\n",
      "Ite 00050 - 0.11 sec - Loss 0.091245 - ACC 77.73% - ACC Mean 77.65% - AUC 83.74% - AUC Mean 83.91% - Deter 038\n",
      "Ite 00100 - 0.12 sec - Loss 0.074473 - ACC 75.53% - ACC Mean 76.63% - AUC 83.70% - AUC Mean 83.69% - Deter 088\n",
      "Ite 00150 - 0.10 sec - Loss 0.051117 - ACC 75.78% - ACC Mean 75.73% - AUC 83.47% - AUC Mean 83.68% - Deter 138\n",
      "Ite 00200 - 0.10 sec - Loss 0.042011 - ACC 78.00% - ACC Mean 77.65% - AUC 83.40% - AUC Mean 83.64% - Deter 188\n",
      "Ite 00250 - 0.10 sec - Loss 0.040101 - ACC 78.00% - ACC Mean 78.12% - AUC 83.47% - AUC Mean 83.51% - Deter 238\n",
      "Ite 00300 - 0.10 sec - Loss 0.039432 - ACC 78.51% - ACC Mean 77.99% - AUC 83.96% - AUC Mean 83.56% - Deter 288\n",
      "Ite 00350 - 0.11 sec - Loss 0.038980 - ACC 78.21% - ACC Mean 78.13% - AUC 83.93% - AUC Mean 83.78% - Deter 338\n",
      "Ite 00400 - 0.12 sec - Loss 0.038570 - ACC 78.51% - ACC Mean 78.13% - AUC 83.96% - AUC Mean 83.80% - Deter 388\n",
      "Ite 00412 - 0.16 sec - Loss 0.038460 - ACC 78.51% - ACC Mean 78.15% - AUC 83.96% - AUC Mean 83.80% - Deter 400\n",
      "Early stop ite 412, rollback to correction of ite 12, whith acc of 77.38% and auc of 84.58%\n",
      "OUR METHOD RUN 7/10 - acc: 77.38% +- 0.0% - auc: 84.58% +- 0.0%\n",
      "Ite 00000 - 0.16 sec - Loss 0.098650 - ACC 77.95% - ACC Mean 77.95% - AUC 83.03% - AUC Mean 83.03% - Deter 000\n",
      "Ite 00050 - 0.11 sec - Loss 0.092434 - ACC 77.95% - ACC Mean 77.98% - AUC 83.03% - AUC Mean 83.31% - Deter 037\n",
      "Ite 00100 - 0.10 sec - Loss 0.078936 - ACC 78.34% - ACC Mean 77.46% - AUC 83.96% - AUC Mean 83.65% - Deter 008\n",
      "Ite 00150 - 0.13 sec - Loss 0.058349 - ACC 76.72% - ACC Mean 76.34% - AUC 83.10% - AUC Mean 83.37% - Deter 058\n",
      "Ite 00200 - 0.10 sec - Loss 0.044687 - ACC 75.91% - ACC Mean 75.67% - AUC 82.76% - AUC Mean 83.01% - Deter 108\n",
      "Ite 00250 - 0.09 sec - Loss 0.040722 - ACC 77.90% - ACC Mean 77.15% - AUC 82.58% - AUC Mean 82.33% - Deter 158\n",
      "Ite 00300 - 0.13 sec - Loss 0.039803 - ACC 77.74% - ACC Mean 77.84% - AUC 82.16% - AUC Mean 82.29% - Deter 208\n",
      "Ite 00350 - 0.12 sec - Loss 0.039452 - ACC 78.16% - ACC Mean 77.99% - AUC 82.75% - AUC Mean 82.45% - Deter 258\n",
      "Ite 00400 - 0.13 sec - Loss 0.039227 - ACC 78.12% - ACC Mean 78.22% - AUC 82.54% - AUC Mean 82.58% - Deter 308\n",
      "Ite 00450 - 0.11 sec - Loss 0.039016 - ACC 77.69% - ACC Mean 78.07% - AUC 82.48% - AUC Mean 82.49% - Deter 358\n",
      "Ite 00492 - 0.10 sec - Loss 0.038794 - ACC 77.44% - ACC Mean 78.22% - AUC 82.27% - AUC Mean 82.63% - Deter 400\n",
      "Early stop ite 492, rollback to correction of ite 92, whith acc of 78.08% and auc of 85.25%\n",
      "OUR METHOD RUN 8/10 - acc: 78.08% +- 0.0% - auc: 85.25% +- 0.0%\n",
      "Ite 00000 - 0.10 sec - Loss 0.097419 - ACC 75.68% - ACC Mean 75.68% - AUC 82.66% - AUC Mean 82.66% - Deter 000\n",
      "Ite 00050 - 0.11 sec - Loss 0.091244 - ACC 76.13% - ACC Mean 76.90% - AUC 82.82% - AUC Mean 83.17% - Deter 010\n",
      "Ite 00100 - 0.22 sec - Loss 0.075106 - ACC 77.53% - ACC Mean 77.70% - AUC 84.20% - AUC Mean 83.92% - Deter 060\n",
      "Ite 00150 - 0.16 sec - Loss 0.051948 - ACC 78.18% - ACC Mean 78.06% - AUC 83.69% - AUC Mean 83.87% - Deter 110\n",
      "Ite 00200 - 0.13 sec - Loss 0.042306 - ACC 77.91% - ACC Mean 77.85% - AUC 83.66% - AUC Mean 83.72% - Deter 160\n",
      "Ite 00250 - 0.10 sec - Loss 0.040166 - ACC 78.21% - ACC Mean 77.85% - AUC 83.89% - AUC Mean 83.60% - Deter 210\n",
      "Ite 00300 - 0.10 sec - Loss 0.039477 - ACC 77.95% - ACC Mean 77.93% - AUC 83.64% - AUC Mean 83.67% - Deter 260\n",
      "Ite 00350 - 0.15 sec - Loss 0.039087 - ACC 77.69% - ACC Mean 78.02% - AUC 83.45% - AUC Mean 83.67% - Deter 310\n",
      "Ite 00400 - 0.12 sec - Loss 0.038764 - ACC 77.44% - ACC Mean 78.12% - AUC 83.09% - AUC Mean 83.77% - Deter 360\n",
      "Ite 00440 - 0.13 sec - Loss 0.038467 - ACC 78.21% - ACC Mean 78.19% - AUC 83.89% - AUC Mean 83.84% - Deter 400\n",
      "Early stop ite 440, rollback to correction of ite 40, whith acc of 77.75% and auc of 84.94%\n",
      "OUR METHOD RUN 9/10 - acc: 77.75% +- 0.0% - auc: 84.94% +- 0.0%\n",
      "Ite 00000 - 0.12 sec - Loss 0.097573 - ACC 78.09% - ACC Mean 78.09% - AUC 83.13% - AUC Mean 83.13% - Deter 000\n",
      "Ite 00050 - 0.10 sec - Loss 0.091570 - ACC 78.00% - ACC Mean 77.78% - AUC 83.67% - AUC Mean 83.40% - Deter 015\n",
      "Ite 00100 - 0.11 sec - Loss 0.076641 - ACC 75.57% - ACC Mean 77.21% - AUC 83.79% - AUC Mean 83.75% - Deter 065\n",
      "Ite 00150 - 0.10 sec - Loss 0.055054 - ACC 74.93% - ACC Mean 75.35% - AUC 83.28% - AUC Mean 83.41% - Deter 115\n",
      "Ite 00200 - 0.19 sec - Loss 0.044246 - ACC 76.97% - ACC Mean 75.53% - AUC 83.00% - AUC Mean 83.52% - Deter 165\n",
      "Ite 00250 - 0.13 sec - Loss 0.041129 - ACC 77.32% - ACC Mean 77.02% - AUC 83.72% - AUC Mean 83.06% - Deter 215\n",
      "Ite 00300 - 0.11 sec - Loss 0.040102 - ACC 76.67% - ACC Mean 76.77% - AUC 82.67% - AUC Mean 82.80% - Deter 265\n",
      "Ite 00350 - 0.11 sec - Loss 0.039595 - ACC 77.36% - ACC Mean 76.75% - AUC 83.25% - AUC Mean 82.84% - Deter 315\n",
      "Ite 00400 - 0.10 sec - Loss 0.039233 - ACC 76.89% - ACC Mean 76.82% - AUC 82.70% - AUC Mean 82.78% - Deter 365\n",
      "Ite 00435 - 0.09 sec - Loss 0.039007 - ACC 76.41% - ACC Mean 76.74% - AUC 82.36% - AUC Mean 82.71% - Deter 400\n",
      "Early stop ite 435, rollback to correction of ite 35, whith acc of 77.59% and auc of 85.39%\n",
      "OUR METHOD RUN 10/10 - acc: 77.59% +- 0.0% - auc: 85.39% +- 0.0%\n",
      "\n",
      "OUR METHOD GLOBAL - acc: 80.34% +- 3.36% - auc: 87.88% +- 3.58%\n"
     ]
    }
   ],
   "source": [
    "params = {\n",
    "    'nb_batches': 10,\n",
    "    'reg_noise_std': .03,\n",
    "    'net_input': 'data_corrupted',\n",
    "    'net_params': [80, 80],\n",
    "    'adam_lr': .0001,\n",
    "    'adam_weight_decay': 0.,\n",
    "}\n",
    "\n",
    "ours_accs, ours_aucs = [], []\n",
    "for i in range(n_runs):\n",
    "    ours_correction = correction.run(data_missing, 4001, params, y=y, missing_mask=missing_mask, seed=i)\n",
    "    ## Since our method returns 2 imputations select the best one\n",
    "    scores_raw = utils.get_scores(ours_correction['raw_out'], y)\n",
    "    acc = scores_raw['test_balanced_accuracy']\n",
    "    auc = scores_raw['test_roc_auc_ovo']\n",
    "    acc = acc.mean()\n",
    "    acc_std = acc.std()\n",
    "    auc = auc.mean()\n",
    "    auc_std = auc.std()\n",
    "    if 'masked_out' in ours_correction:\n",
    "        scores_masked = utils.get_scores(ours_correction['masked_out'], y)\n",
    "        acc_masked = scores_masked['test_balanced_accuracy']\n",
    "        auc_masked = scores_masked['test_roc_auc_ovo']\n",
    "        if auc_masked.mean() > auc:\n",
    "            acc = acc_masked.mean()\n",
    "            acc_std = acc_masked.std()\n",
    "            auc = auc_masked.mean()\n",
    "            auc_std = auc_masked.std()\n",
    "    print(f'OUR METHOD RUN {i + 1}/{n_runs} - acc: {round(acc.mean() * 100, 2)}% +- {round(acc.std() * 100, 2)}% - ' +\n",
    "          f'auc: {round(auc.mean() * 100, 2)}% +- {round(auc.std() * 100, 2)}%')\n",
    "    ours_accs.append(acc.mean())\n",
    "    ours_aucs.append(auc.mean())\n",
    "print(f'\\nOUR METHOD GLOBAL - acc: {round(np.array(ours_accs).mean() * 100, 2)}% +- {round(np.array(ours_accs).std() * 100, 2)}% - ' +\n",
    "      f'auc: {round(np.array(ours_aucs).mean() * 100, 2)}% +- {round(np.array(ours_aucs).std() * 100, 2)}%')"
   ]
  },
  {
   "cell_type": "markdown",
   "metadata": {},
   "source": [
    "## Run Median, Mean and KNN"
   ]
  },
  {
   "cell_type": "code",
   "execution_count": 5,
   "metadata": {
    "ExecuteTime": {
     "end_time": "2022-06-03T15:23:05.488483Z",
     "start_time": "2022-06-03T15:23:05.488473Z"
    },
    "execution": {
     "iopub.execute_input": "2022-06-04T07:34:19.416896Z",
     "iopub.status.busy": "2022-06-04T07:34:19.415719Z",
     "iopub.status.idle": "2022-06-04T07:34:19.865496Z",
     "shell.execute_reply": "2022-06-04T07:34:19.865083Z"
    }
   },
   "outputs": [
    {
     "name": "stdout",
     "output_type": "stream",
     "text": [
      "MEDIAN - acc: 79.76% +- 0.0% - auc: 83.68% +- 0.0%\n",
      "MEAN - acc: 79.2% +- 0.0% - auc: 85.05% +- 0.0%\n",
      "KNN - acc: 78.97% +- 0.0% - auc: 86.57% +- 0.0%\n"
     ]
    }
   ],
   "source": [
    "data_missing_nans = np.where(missing_mask, data_missing, np.nan)\n",
    "\n",
    "median_imputer = SimpleImputer(missing_values=np.nan, strategy='median')\n",
    "mean_imputer = SimpleImputer(missing_values=np.nan, strategy='mean')\n",
    "knn_imputer = KNNImputer(n_neighbors=10, weights='uniform')\n",
    "\n",
    "median_completed = median_imputer.fit_transform(data_missing_nans)\n",
    "mean_completed = mean_imputer.fit_transform(data_missing_nans)\n",
    "knn_completed = knn_imputer.fit_transform(data_missing_nans)\n",
    "\n",
    "## All runs would be the same since deterministic methods\n",
    "scores = utils.get_scores(median_completed, y)\n",
    "acc = [scores['test_balanced_accuracy'].mean()] * n_runs\n",
    "auc = [scores['test_roc_auc_ovo'].mean()] * n_runs\n",
    "print(f'MEDIAN - acc: {round(np.mean(acc) * 100, 2)}% +- {round(np.std(acc) * 100, 2)}% - ' +\n",
    "      f'auc: {round(np.mean(auc) * 100, 2)}% +- {round(np.std(auc) * 100, 2)}%')\n",
    "median_accs = acc\n",
    "median_aucs = auc\n",
    "\n",
    "scores = utils.get_scores(mean_completed, y)\n",
    "acc = [scores['test_balanced_accuracy'].mean()] * n_runs\n",
    "auc = [scores['test_roc_auc_ovo'].mean()] * n_runs\n",
    "print(f'MEAN - acc: {round(np.mean(acc) * 100, 2)}% +- {round(np.std(acc) * 100, 2)}% - ' +\n",
    "      f'auc: {round(np.mean(auc) * 100, 2)}% +- {round(np.std(auc) * 100, 2)}%')\n",
    "mean_accs = acc\n",
    "mean_aucs = auc\n",
    "\n",
    "scores = utils.get_scores(knn_completed, y)\n",
    "acc = [scores['test_balanced_accuracy'].mean()] * n_runs\n",
    "auc = [scores['test_roc_auc_ovo'].mean()] * n_runs\n",
    "print(f'KNN - acc: {round(np.mean(acc) * 100, 2)}% +- {round(np.std(acc) * 100, 2)}% - ' +\n",
    "      f'auc: {round(np.mean(auc) * 100, 2)}% +- {round(np.std(auc) * 100, 2)}%')\n",
    "knn_accs = acc\n",
    "knn_aucs = auc"
   ]
  },
  {
   "cell_type": "markdown",
   "metadata": {},
   "source": [
    "## Run GAIN"
   ]
  },
  {
   "cell_type": "code",
   "execution_count": 6,
   "metadata": {
    "ExecuteTime": {
     "end_time": "2022-06-03T15:23:05.489380Z",
     "start_time": "2022-06-03T15:23:05.489371Z"
    },
    "execution": {
     "iopub.execute_input": "2022-06-04T07:34:19.877503Z",
     "iopub.status.busy": "2022-06-04T07:34:19.877031Z",
     "iopub.status.idle": "2022-06-04T07:40:50.060534Z",
     "shell.execute_reply": "2022-06-04T07:40:50.059900Z"
    },
    "scrolled": false
   },
   "outputs": [
    {
     "name": "stderr",
     "output_type": "stream",
     "text": [
      "100%|██████████| 5000/5000 [00:38<00:00, 130.93it/s]\n"
     ]
    },
    {
     "name": "stdout",
     "output_type": "stream",
     "text": [
      "\n",
      "GAIN RUN 1/10 - acc: 78.48% +- 3.18% - auc: 84.17% +- 5.45%\n",
      "\n"
     ]
    },
    {
     "name": "stderr",
     "output_type": "stream",
     "text": [
      "100%|██████████| 5000/5000 [00:39<00:00, 126.68it/s]\n"
     ]
    },
    {
     "name": "stdout",
     "output_type": "stream",
     "text": [
      "\n",
      "GAIN RUN 2/10 - acc: 74.1% +- 7.28% - auc: 79.97% +- 4.27%\n",
      "\n"
     ]
    },
    {
     "name": "stderr",
     "output_type": "stream",
     "text": [
      "100%|██████████| 5000/5000 [00:32<00:00, 152.10it/s]\n"
     ]
    },
    {
     "name": "stdout",
     "output_type": "stream",
     "text": [
      "\n",
      "GAIN RUN 3/10 - acc: 78.06% +- 3.99% - auc: 84.62% +- 2.54%\n",
      "\n"
     ]
    },
    {
     "name": "stderr",
     "output_type": "stream",
     "text": [
      "100%|██████████| 5000/5000 [00:39<00:00, 125.91it/s]\n"
     ]
    },
    {
     "name": "stdout",
     "output_type": "stream",
     "text": [
      "\n",
      "GAIN RUN 4/10 - acc: 78.03% +- 3.15% - auc: 85.4% +- 2.59%\n",
      "\n"
     ]
    },
    {
     "name": "stderr",
     "output_type": "stream",
     "text": [
      "100%|██████████| 5000/5000 [00:36<00:00, 138.43it/s]\n"
     ]
    },
    {
     "name": "stdout",
     "output_type": "stream",
     "text": [
      "\n",
      "GAIN RUN 5/10 - acc: 80.79% +- 3.92% - auc: 85.99% +- 4.74%\n",
      "\n"
     ]
    },
    {
     "name": "stderr",
     "output_type": "stream",
     "text": [
      "100%|██████████| 5000/5000 [00:37<00:00, 133.81it/s]\n"
     ]
    },
    {
     "name": "stdout",
     "output_type": "stream",
     "text": [
      "\n",
      "GAIN RUN 6/10 - acc: 79.41% +- 3.42% - auc: 84.28% +- 2.61%\n",
      "\n"
     ]
    },
    {
     "name": "stderr",
     "output_type": "stream",
     "text": [
      "100%|██████████| 5000/5000 [00:38<00:00, 128.72it/s]\n"
     ]
    },
    {
     "name": "stdout",
     "output_type": "stream",
     "text": [
      "\n",
      "GAIN RUN 7/10 - acc: 78.02% +- 5.07% - auc: 85.7% +- 3.18%\n",
      "\n"
     ]
    },
    {
     "name": "stderr",
     "output_type": "stream",
     "text": [
      "100%|██████████| 5000/5000 [00:35<00:00, 139.20it/s]\n"
     ]
    },
    {
     "name": "stdout",
     "output_type": "stream",
     "text": [
      "\n",
      "GAIN RUN 8/10 - acc: 75.05% +- 4.96% - auc: 80.76% +- 3.51%\n",
      "\n"
     ]
    },
    {
     "name": "stderr",
     "output_type": "stream",
     "text": [
      "100%|██████████| 5000/5000 [00:35<00:00, 141.83it/s]\n"
     ]
    },
    {
     "name": "stdout",
     "output_type": "stream",
     "text": [
      "\n",
      "GAIN RUN 9/10 - acc: 75.67% +- 4.42% - auc: 81.39% +- 5.51%\n",
      "\n"
     ]
    },
    {
     "name": "stderr",
     "output_type": "stream",
     "text": [
      "100%|██████████| 5000/5000 [00:36<00:00, 138.34it/s]\n"
     ]
    },
    {
     "name": "stdout",
     "output_type": "stream",
     "text": [
      "\n",
      "GAIN RUN 10/10 - acc: 78.85% +- 2.49% - auc: 84.64% +- 1.87%\n",
      "\n",
      "GAIN GLOBAL - acc: 77.65% +- 1.97% - auc: 83.69% +- 2.06%\n"
     ]
    }
   ],
   "source": [
    "gain_parameters = {'batch_size': 128,\n",
    "                   'hint_rate': .9,\n",
    "                   'alpha': 100,\n",
    "                   'iterations': 5000}\n",
    "\n",
    "gain_accs, gain_aucs = [], []\n",
    "for i in range(n_runs):\n",
    "    random.seed(i)\n",
    "    np.random.seed(i)\n",
    "    torch.manual_seed(i)\n",
    "    imputed = gain(data_missing_nans, gain_parameters)\n",
    "    scores = utils.get_scores(imputed, y)\n",
    "    acc = scores['test_balanced_accuracy']\n",
    "    auc = scores['test_roc_auc_ovo']\n",
    "    print(f'\\nGAIN RUN {i + 1}/{n_runs} - acc: {round(acc.mean() * 100, 2)}% +- {round(acc.std() * 100, 2)}% - ' +\n",
    "          f'auc: {round(auc.mean() * 100, 2)}% +- {round(auc.std() * 100, 2)}%\\n')\n",
    "    gain_accs.append(acc.mean())\n",
    "    gain_aucs.append(auc.mean())\n",
    "print(f'GAIN GLOBAL - acc: {round(np.array(gain_accs).mean() * 100, 2)}% +- {round(np.array(gain_accs).std() * 100, 2)}% - ' +\n",
    "      f'auc: {round(np.array(gain_aucs).mean() * 100, 2)}% +- {round(np.array(gain_aucs).std() * 100, 2)}%')"
   ]
  },
  {
   "cell_type": "markdown",
   "metadata": {},
   "source": [
    "## Run MICE"
   ]
  },
  {
   "cell_type": "code",
   "execution_count": 7,
   "metadata": {
    "ExecuteTime": {
     "end_time": "2022-06-03T15:23:05.489983Z",
     "start_time": "2022-06-03T15:23:05.489973Z"
    },
    "execution": {
     "iopub.execute_input": "2022-06-04T07:40:50.088865Z",
     "iopub.status.busy": "2022-06-04T07:40:50.088380Z",
     "iopub.status.idle": "2022-06-04T07:42:15.563954Z",
     "shell.execute_reply": "2022-06-04T07:42:15.564382Z"
    }
   },
   "outputs": [
    {
     "name": "stdout",
     "output_type": "stream",
     "text": [
      "MICE - acc: 78.03% +- 0.0% - auc: 86.72% +- 0.0%\n"
     ]
    }
   ],
   "source": [
    "imputer = IterativeImputer()\n",
    "imputed = imputer.fit_transform(data_missing_nans)\n",
    "## All runs would be the same since deterministic method\n",
    "scores = utils.get_scores(imputed, y)\n",
    "acc = [scores['test_balanced_accuracy'].mean()] * n_runs\n",
    "auc = [scores['test_roc_auc_ovo'].mean()] * n_runs\n",
    "print(f'MICE - acc: {round(np.mean(acc) * 100, 2)}% +- {round(np.std(acc) * 100, 2)}% - ' +\n",
    "      f'auc: {round(np.mean(auc) * 100, 2)}% +- {round(np.std(auc) * 100, 2)}%')\n",
    "mice_accs = acc\n",
    "mice_aucs = auc"
   ]
  },
  {
   "cell_type": "markdown",
   "metadata": {},
   "source": [
    "## Run MISSFOREST"
   ]
  },
  {
   "cell_type": "code",
   "execution_count": 8,
   "metadata": {
    "ExecuteTime": {
     "end_time": "2022-06-03T15:23:05.490726Z",
     "start_time": "2022-06-03T15:23:05.490717Z"
    },
    "execution": {
     "iopub.execute_input": "2022-06-04T07:42:15.588604Z",
     "iopub.status.busy": "2022-06-04T07:42:15.588135Z",
     "iopub.status.idle": "2022-06-04T09:03:40.257643Z",
     "shell.execute_reply": "2022-06-04T09:03:40.256353Z"
    },
    "scrolled": false
   },
   "outputs": [
    {
     "name": "stdout",
     "output_type": "stream",
     "text": [
      "Iteration: 0\n",
      "Iteration: 1\n",
      "Iteration: 2\n",
      "Iteration: 3\n",
      "Iteration: 4\n",
      "Iteration: 5\n",
      "Iteration: 6\n",
      "Iteration: 7\n",
      "\n",
      "MISSFOREST RUN 1/10 - acc: 77.26% +- 3.94% - auc: 83.98% +- 5.03%\n",
      "\n",
      "Iteration: 0\n",
      "Iteration: 1\n",
      "Iteration: 2\n",
      "Iteration: 3\n",
      "Iteration: 4\n",
      "Iteration: 5\n",
      "Iteration: 6\n",
      "Iteration: 7\n",
      "\n",
      "MISSFOREST RUN 2/10 - acc: 78.15% +- 3.04% - auc: 85.04% +- 3.42%\n",
      "\n",
      "Iteration: 0\n",
      "Iteration: 1\n",
      "Iteration: 2\n",
      "Iteration: 3\n",
      "Iteration: 4\n",
      "Iteration: 5\n",
      "Iteration: 6\n",
      "Iteration: 7\n",
      "Iteration: 8\n",
      "Iteration: 9\n",
      "\n",
      "MISSFOREST RUN 3/10 - acc: 78.89% +- 2.48% - auc: 86.22% +- 3.69%\n",
      "\n",
      "Iteration: 0\n",
      "Iteration: 1\n",
      "Iteration: 2\n",
      "Iteration: 3\n",
      "Iteration: 4\n",
      "Iteration: 5\n",
      "Iteration: 6\n",
      "\n",
      "MISSFOREST RUN 4/10 - acc: 78.36% +- 3.04% - auc: 83.98% +- 4.39%\n",
      "\n",
      "Iteration: 0\n",
      "Iteration: 1\n",
      "Iteration: 2\n",
      "Iteration: 3\n",
      "Iteration: 4\n",
      "Iteration: 5\n",
      "Iteration: 6\n",
      "Iteration: 7\n",
      "Iteration: 8\n",
      "Iteration: 9\n",
      "\n",
      "MISSFOREST RUN 5/10 - acc: 75.72% +- 3.19% - auc: 83.21% +- 5.01%\n",
      "\n",
      "Iteration: 0\n",
      "Iteration: 1\n",
      "Iteration: 2\n",
      "Iteration: 3\n",
      "Iteration: 4\n",
      "Iteration: 5\n",
      "Iteration: 6\n",
      "\n",
      "MISSFOREST RUN 6/10 - acc: 77.56% +- 4.25% - auc: 84.96% +- 4.75%\n",
      "\n",
      "Iteration: 0\n",
      "Iteration: 1\n",
      "Iteration: 2\n",
      "Iteration: 3\n",
      "Iteration: 4\n",
      "Iteration: 5\n",
      "Iteration: 6\n",
      "Iteration: 7\n",
      "Iteration: 8\n",
      "Iteration: 9\n",
      "\n",
      "MISSFOREST RUN 7/10 - acc: 78.84% +- 2.94% - auc: 85.62% +- 3.86%\n",
      "\n",
      "Iteration: 0\n",
      "Iteration: 1\n",
      "Iteration: 2\n",
      "Iteration: 3\n",
      "Iteration: 4\n",
      "Iteration: 5\n",
      "Iteration: 6\n",
      "Iteration: 7\n",
      "Iteration: 8\n",
      "Iteration: 9\n",
      "\n",
      "MISSFOREST RUN 8/10 - acc: 78.31% +- 3.75% - auc: 85.56% +- 6.62%\n",
      "\n",
      "Iteration: 0\n",
      "Iteration: 1\n",
      "Iteration: 2\n",
      "Iteration: 3\n",
      "Iteration: 4\n",
      "Iteration: 5\n",
      "\n",
      "MISSFOREST RUN 9/10 - acc: 76.78% +- 6.33% - auc: 82.98% +- 5.28%\n",
      "\n",
      "Iteration: 0\n",
      "Iteration: 1\n",
      "Iteration: 2\n",
      "Iteration: 3\n",
      "Iteration: 4\n",
      "Iteration: 5\n",
      "Iteration: 6\n",
      "Iteration: 7\n",
      "Iteration: 8\n",
      "Iteration: 9\n",
      "\n",
      "MISSFOREST RUN 10/10 - acc: 76.04% +- 5.22% - auc: 83.28% +- 3.66%\n",
      "\n",
      "\n",
      "MISSFOREST GLOBAL - acc: 77.59% +- 1.07% - auc: 84.48% +- 1.09%\n"
     ]
    }
   ],
   "source": [
    "miss_accs, miss_aucs = [], []\n",
    "for i in range(n_runs):\n",
    "    random.seed(i)\n",
    "    np.random.seed(i)\n",
    "    torch.manual_seed(i)\n",
    "    imputer = MissForest(n_jobs=-1, random_state=i)\n",
    "    imputed = imputer.fit_transform(data_missing_nans)\n",
    "    scores = utils.get_scores(imputed, y)\n",
    "    acc = scores['test_balanced_accuracy']\n",
    "    auc = scores['test_roc_auc_ovo']\n",
    "    print(f'\\nMISSFOREST RUN {i + 1}/{n_runs} - acc: {round(acc.mean() * 100, 2)}% +- {round(acc.std() * 100, 2)}% - ' +\n",
    "          f'auc: {round(auc.mean() * 100, 2)}% +- {round(auc.std() * 100, 2)}%\\n')\n",
    "    miss_accs.append(acc.mean())\n",
    "    miss_aucs.append(auc.mean())\n",
    "print(f'\\nMISSFOREST GLOBAL - acc: {round(np.array(miss_accs).mean() * 100, 2)}% +- {round(np.array(miss_accs).std() * 100, 2)}% - ' +\n",
    "      f'auc: {round(np.array(miss_aucs).mean() * 100, 2)}% +- {round(np.array(miss_aucs).std() * 100, 2)}%')"
   ]
  },
  {
   "cell_type": "markdown",
   "metadata": {},
   "source": [
    "## Run SOFTIMPUTE"
   ]
  },
  {
   "cell_type": "code",
   "execution_count": 9,
   "metadata": {
    "ExecuteTime": {
     "end_time": "2022-06-03T15:23:05.491327Z",
     "start_time": "2022-06-03T15:23:05.491318Z"
    },
    "execution": {
     "iopub.execute_input": "2022-06-04T09:03:40.270217Z",
     "iopub.status.busy": "2022-06-04T09:03:40.269401Z",
     "iopub.status.idle": "2022-06-04T09:03:40.753097Z",
     "shell.execute_reply": "2022-06-04T09:03:40.753491Z"
    }
   },
   "outputs": [
    {
     "name": "stdout",
     "output_type": "stream",
     "text": [
      "SOFTIMPUTE RUN 1/10 - acc: 76.68% +- 5.47% - auc: 83.38% +- 3.43%\n",
      "SOFTIMPUTE RUN 2/10 - acc: 75.31% +- 4.38% - auc: 82.71% +- 4.09%\n",
      "SOFTIMPUTE RUN 3/10 - acc: 72.78% +- 2.52% - auc: 82.19% +- 2.41%\n",
      "SOFTIMPUTE RUN 4/10 - acc: 74.31% +- 3.4% - auc: 81.71% +- 2.31%\n",
      "SOFTIMPUTE RUN 5/10 - acc: 74.97% +- 4.47% - auc: 81.35% +- 4.53%\n",
      "SOFTIMPUTE RUN 6/10 - acc: 79.43% +- 4.97% - auc: 84.74% +- 3.02%\n",
      "SOFTIMPUTE RUN 7/10 - acc: 80.91% +- 1.9% - auc: 88.36% +- 2.96%\n",
      "SOFTIMPUTE RUN 8/10 - acc: 77.66% +- 5.04% - auc: 84.65% +- 2.79%\n",
      "SOFTIMPUTE RUN 9/10 - acc: 78.34% +- 4.74% - auc: 83.36% +- 4.47%\n",
      "SOFTIMPUTE RUN 10/10 - acc: 74.8% +- 5.27% - auc: 81.69% +- 5.24%\n",
      "\n",
      "SOFTIMPUTE GLOBAL - acc: 76.52% +- 2.41% - auc: 83.41% +- 2.0%\n"
     ]
    }
   ],
   "source": [
    "soft_accs, soft_aucs = [], []\n",
    "for i in range(n_runs):\n",
    "    random.seed(i)\n",
    "    np.random.seed(i)\n",
    "    torch.manual_seed(i)\n",
    "    imputer = SoftImpute(random_state=i)\n",
    "    imputer.fit(data_missing_nans)\n",
    "    imputed = imputer.predict(data_missing_nans)\n",
    "    imputed = np.where(missing_mask, data_missing, imputed)\n",
    "    scores = utils.get_scores(imputed, y)\n",
    "    acc = scores['test_balanced_accuracy']\n",
    "    auc = scores['test_roc_auc_ovo']\n",
    "    print(f'SOFTIMPUTE RUN {i + 1}/{n_runs} - acc: {round(acc.mean() * 100, 2)}% +- {round(acc.std() * 100, 2)}% - ' +\n",
    "          f'auc: {round(auc.mean() * 100, 2)}% +- {round(auc.std() * 100, 2)}%')\n",
    "    soft_accs.append(acc.mean())\n",
    "    soft_aucs.append(auc.mean())\n",
    "print(f'\\nSOFTIMPUTE GLOBAL - acc: {round(np.array(soft_accs).mean() * 100, 2)}% +- {round(np.array(soft_accs).std() * 100, 2)}% - ' +\n",
    "      f'auc: {round(np.array(soft_aucs).mean() * 100, 2)}% +- {round(np.array(soft_aucs).std() * 100, 2)}%')"
   ]
  },
  {
   "cell_type": "markdown",
   "metadata": {},
   "source": [
    "## Run SINKHORN"
   ]
  },
  {
   "cell_type": "code",
   "execution_count": 10,
   "metadata": {
    "ExecuteTime": {
     "end_time": "2022-06-03T15:23:05.491915Z",
     "start_time": "2022-06-03T15:23:05.491906Z"
    },
    "execution": {
     "iopub.execute_input": "2022-06-04T09:03:40.759173Z",
     "iopub.status.busy": "2022-06-04T09:03:40.755784Z",
     "iopub.status.idle": "2022-06-04T09:08:04.865785Z",
     "shell.execute_reply": "2022-06-04T09:08:04.866793Z"
    }
   },
   "outputs": [
    {
     "name": "stdout",
     "output_type": "stream",
     "text": [
      "batchsize = 128, epsilon = 0.0100\n",
      "Iteration 0:\t Loss: 1.4523\n",
      "\n",
      "SINKHORN RUN 1/10 - acc: 78.6% +- 2.93% - auc: 82.03% +- 3.74%\n",
      "\n",
      "batchsize = 128, epsilon = 0.0100\n",
      "Iteration 0:\t Loss: 1.3807\n",
      "\n",
      "SINKHORN RUN 2/10 - acc: 77.89% +- 5.09% - auc: 82.22% +- 4.71%\n",
      "\n",
      "batchsize = 128, epsilon = 0.0100\n",
      "Iteration 0:\t Loss: 1.3245\n",
      "\n",
      "SINKHORN RUN 3/10 - acc: 79.8% +- 2.75% - auc: 84.44% +- 2.75%\n",
      "\n",
      "batchsize = 128, epsilon = 0.0100\n",
      "Iteration 0:\t Loss: 1.3335\n",
      "\n",
      "SINKHORN RUN 4/10 - acc: 77.85% +- 2.73% - auc: 84.4% +- 4.97%\n",
      "\n",
      "batchsize = 128, epsilon = 0.0100\n",
      "Iteration 0:\t Loss: 1.4605\n",
      "\n",
      "SINKHORN RUN 5/10 - acc: 81.32% +- 3.45% - auc: 86.12% +- 5.14%\n",
      "\n",
      "batchsize = 128, epsilon = 0.0100\n",
      "Iteration 0:\t Loss: 1.3736\n",
      "\n",
      "SINKHORN RUN 6/10 - acc: 77.3% +- 3.11% - auc: 83.74% +- 3.66%\n",
      "\n",
      "batchsize = 128, epsilon = 0.0100\n",
      "Iteration 0:\t Loss: 1.2752\n",
      "\n",
      "SINKHORN RUN 7/10 - acc: 78.55% +- 5.9% - auc: 84.03% +- 6.12%\n",
      "\n",
      "batchsize = 128, epsilon = 0.0100\n",
      "Iteration 0:\t Loss: 1.3199\n",
      "\n",
      "SINKHORN RUN 8/10 - acc: 79.49% +- 2.9% - auc: 84.78% +- 3.43%\n",
      "\n",
      "batchsize = 128, epsilon = 0.0100\n",
      "Iteration 0:\t Loss: 1.3283\n",
      "\n",
      "SINKHORN RUN 9/10 - acc: 78.88% +- 3.16% - auc: 85.55% +- 4.66%\n",
      "\n",
      "batchsize = 128, epsilon = 0.0100\n",
      "Iteration 0:\t Loss: 1.3232\n",
      "\n",
      "SINKHORN RUN 10/10 - acc: 79.63% +- 1.88% - auc: 85.93% +- 1.37%\n",
      "\n",
      "\n",
      "SINKHORN GLOBAL - acc: 78.93% +- 1.11% - auc: 84.32% +- 1.33%\n"
     ]
    }
   ],
   "source": [
    "sink_accs, sink_aucs = [], []\n",
    "for i in range(n_runs):\n",
    "    random.seed(i)\n",
    "    np.random.seed(i)\n",
    "    torch.manual_seed(i)\n",
    "    imputer = OTimputer(niter=500)\n",
    "    imputed = imputer.fit_transform(data_missing_nans).cpu().detach().numpy()\n",
    "    scores = utils.get_scores(imputed, y)\n",
    "    acc = scores['test_balanced_accuracy']\n",
    "    auc = scores['test_roc_auc_ovo']\n",
    "    print(f'\\nSINKHORN RUN {i + 1}/{n_runs} - acc: {round(acc.mean() * 100, 2)}% +- {round(acc.std() * 100, 2)}% - ' +\n",
    "          f'auc: {round(auc.mean() * 100, 2)}% +- {round(auc.std() * 100, 2)}%\\n')\n",
    "    sink_accs.append(acc.mean())\n",
    "    sink_aucs.append(auc.mean())\n",
    "print(f'\\nSINKHORN GLOBAL - acc: {round(np.array(sink_accs).mean() * 100, 2)}% +- {round(np.array(sink_accs).std() * 100, 2)}% - ' +\n",
    "      f'auc: {round(np.array(sink_aucs).mean() * 100, 2)}% +- {round(np.array(sink_aucs).std() * 100, 2)}%')"
   ]
  },
  {
   "cell_type": "markdown",
   "metadata": {},
   "source": [
    "## Run MIDA"
   ]
  },
  {
   "cell_type": "code",
   "execution_count": 11,
   "metadata": {
    "ExecuteTime": {
     "end_time": "2022-06-03T15:23:05.492695Z",
     "start_time": "2022-06-03T15:23:05.492686Z"
    },
    "execution": {
     "iopub.execute_input": "2022-06-04T09:08:04.877279Z",
     "iopub.status.busy": "2022-06-04T09:08:04.876202Z",
     "iopub.status.idle": "2022-06-04T09:10:50.724967Z",
     "shell.execute_reply": "2022-06-04T09:10:50.725947Z"
    }
   },
   "outputs": [
    {
     "name": "stdout",
     "output_type": "stream",
     "text": [
      "Stop training at epoch: 1500/1500, return best output\n",
      "\n",
      "MIDA RUN 1/10 - acc: 76.85% +- 5.43% - auc: 83.72% +- 4.48%\n",
      "\n",
      "Stop training at epoch: 1500/1500, return best output\n",
      "\n",
      "MIDA RUN 2/10 - acc: 76.14% +- 4.78% - auc: 83.54% +- 1.61%\n",
      "\n",
      "Stop training at epoch: 1500/1500, return best output\n",
      "\n",
      "MIDA RUN 3/10 - acc: 78.82% +- 4.55% - auc: 86.38% +- 2.74%\n",
      "\n",
      "Stop training at epoch: 1500/1500, return best output\n",
      "\n",
      "MIDA RUN 4/10 - acc: 76.15% +- 3.76% - auc: 84.64% +- 4.34%\n",
      "\n",
      "Stop training at epoch: 1500/1500, return best output\n",
      "\n",
      "MIDA RUN 5/10 - acc: 76.91% +- 4.68% - auc: 84.26% +- 2.79%\n",
      "\n",
      "Stop training at epoch: 1500/1500, return best output\n",
      "\n",
      "MIDA RUN 6/10 - acc: 79.48% +- 4.28% - auc: 84.7% +- 2.79%\n",
      "\n",
      "Stop training at epoch: 1500/1500, return best output\n",
      "\n",
      "MIDA RUN 7/10 - acc: 76.11% +- 4.52% - auc: 83.82% +- 3.17%\n",
      "\n",
      "Stop training at epoch: 1500/1500, return best output\n",
      "\n",
      "MIDA RUN 8/10 - acc: 80.91% +- 4.42% - auc: 85.46% +- 3.49%\n",
      "\n",
      "Stop training at epoch: 1500/1500, return best output\n",
      "\n",
      "MIDA RUN 9/10 - acc: 78.33% +- 4.2% - auc: 85.19% +- 1.26%\n",
      "\n",
      "Stop training at epoch: 1500/1500, return best output\n",
      "\n",
      "MIDA RUN 10/10 - acc: 77.35% +- 4.64% - auc: 84.24% +- 3.42%\n",
      "\n",
      "\n",
      "MIDA GLOBAL - acc: 77.7% +- 1.55% - auc: 84.6% +- 0.84%\n"
     ]
    }
   ],
   "source": [
    "mida_accs, mida_aucs = [], []\n",
    "for i in range(n_runs):\n",
    "    random.seed(i)\n",
    "    np.random.seed(i)\n",
    "    torch.manual_seed(i)\n",
    "    imputed = mida(data_missing_nans, num_layers=2, num_epochs=1500)\n",
    "    imputed = np.where(missing_mask, data_missing, imputed)\n",
    "    scores = utils.get_scores(imputed, y)\n",
    "    acc = scores['test_balanced_accuracy']\n",
    "    auc = scores['test_roc_auc_ovo']\n",
    "    print(f'\\nMIDA RUN {i + 1}/{n_runs} - acc: {round(acc.mean() * 100, 2)}% +- {round(acc.std() * 100, 2)}% - ' +\n",
    "          f'auc: {round(auc.mean() * 100, 2)}% +- {round(auc.std() * 100, 2)}%\\n')\n",
    "    mida_accs.append(acc.mean())\n",
    "    mida_aucs.append(auc.mean())\n",
    "print(f'\\nMIDA GLOBAL - acc: {round(np.array(mida_accs).mean() * 100, 2)}% +- {round(np.array(mida_accs).std() * 100, 2)}% - ' +\n",
    "      f'auc: {round(np.array(mida_aucs).mean() * 100, 2)}% +- {round(np.array(mida_aucs).std() * 100, 2)}%')"
   ]
  },
  {
   "cell_type": "markdown",
   "metadata": {},
   "source": [
    "## Run T-tests"
   ]
  },
  {
   "cell_type": "code",
   "execution_count": 12,
   "metadata": {
    "ExecuteTime": {
     "end_time": "2022-06-03T15:23:05.493389Z",
     "start_time": "2022-06-03T15:23:05.493380Z"
    },
    "execution": {
     "iopub.execute_input": "2022-06-04T09:10:50.739104Z",
     "iopub.status.busy": "2022-06-04T09:10:50.738240Z",
     "iopub.status.idle": "2022-06-04T09:10:50.745165Z",
     "shell.execute_reply": "2022-06-04T09:10:50.744060Z"
    },
    "scrolled": false
   },
   "outputs": [
    {
     "name": "stdout",
     "output_type": "stream",
     "text": [
      "Metric ACC - OUR METHOD is even with MEDIAN\n",
      "Metric AUC - OUR METHOD is significantly better than MEDIAN\n",
      "Metric ACC - OUR METHOD is even with MEAN\n",
      "Metric AUC - OUR METHOD is significantly better than MEAN\n",
      "Metric ACC - OUR METHOD is even with KNN\n",
      "Metric AUC - OUR METHOD is even with KNN\n",
      "Metric ACC - OUR METHOD is even with GAIN\n",
      "Metric AUC - OUR METHOD is significantly better than GAIN\n",
      "Metric ACC - OUR METHOD is even with MICE\n",
      "Metric AUC - OUR METHOD is even with MICE\n",
      "Metric ACC - OUR METHOD is significantly better than MISS\n",
      "Metric AUC - OUR METHOD is significantly better than MISS\n",
      "Metric ACC - OUR METHOD is significantly better than SOFT\n",
      "Metric AUC - OUR METHOD is significantly better than SOFT\n",
      "Metric ACC - OUR METHOD is even with SINK\n",
      "Metric AUC - OUR METHOD is significantly better than SINK\n",
      "Metric ACC - OUR METHOD is significantly better than MIDA\n",
      "Metric AUC - OUR METHOD is significantly better than MIDA\n"
     ]
    }
   ],
   "source": [
    "for model, metrics in {\n",
    "        'MEDIAN': {'ACC': median_accs, 'AUC': median_aucs},\n",
    "        'MEAN': {'ACC': mean_accs, 'AUC': mean_aucs},\n",
    "        'KNN': {'ACC': knn_accs, 'AUC': knn_aucs},\n",
    "        'GAIN': {'ACC': gain_accs, 'AUC': gain_aucs},\n",
    "        'MICE': {'ACC': mice_accs, 'AUC': mice_aucs},\n",
    "        'MISS': {'ACC': miss_accs, 'AUC': miss_aucs},\n",
    "        'SOFT': {'ACC': soft_accs, 'AUC': soft_aucs},\n",
    "        'SINK': {'ACC': sink_accs, 'AUC': sink_aucs},\n",
    "        'MIDA': {'ACC': mida_accs, 'AUC': mida_aucs}}.items():\n",
    "    for metric_name, metric in metrics.items():\n",
    "        ours_metric = ours_accs if metric_name == 'ACC' else ours_aucs\n",
    "        t, p = scipy.stats.ttest_ind(np.array(ours_metric), np.array(metric))\n",
    "        if p <= .05:\n",
    "            if t > 0:\n",
    "                ## Our method is better\n",
    "                print(f'Metric {metric_name} - OUR METHOD is significantly better than {model}')\n",
    "            else:\n",
    "                ## Theirs is better\n",
    "                print(f'Metric {metric_name} - OUR METHOD is significantly worse than {model}')\n",
    "        else:\n",
    "            ## Else we are even\n",
    "            print(f'Metric {metric_name} - OUR METHOD is even with {model}')"
   ]
  }
 ],
 "metadata": {
  "kernelspec": {
   "display_name": "Python 3 (ipykernel)",
   "language": "python",
   "name": "python3"
  },
  "language_info": {
   "codemirror_mode": {
    "name": "ipython",
    "version": 3
   },
   "file_extension": ".py",
   "mimetype": "text/x-python",
   "name": "python",
   "nbconvert_exporter": "python",
   "pygments_lexer": "ipython3",
   "version": "3.9.7"
  },
  "latex_envs": {
   "LaTeX_envs_menu_present": true,
   "autoclose": false,
   "autocomplete": true,
   "bibliofile": "biblio.bib",
   "cite_by": "apalike",
   "current_citInitial": 1,
   "eqLabelWithNumbers": true,
   "eqNumInitial": 1,
   "hotkeys": {
    "equation": "Ctrl-E",
    "itemize": "Ctrl-I"
   },
   "labels_anchors": false,
   "latex_user_defs": false,
   "report_style_numbering": false,
   "user_envs_cfg": false
  }
 },
 "nbformat": 4,
 "nbformat_minor": 2
}
