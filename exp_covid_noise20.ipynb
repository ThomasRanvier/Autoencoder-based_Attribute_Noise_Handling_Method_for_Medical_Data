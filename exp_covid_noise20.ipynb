{
 "cells": [
  {
   "cell_type": "code",
   "execution_count": 1,
   "metadata": {
    "ExecuteTime": {
     "end_time": "2022-06-03T15:22:32.840331Z",
     "start_time": "2022-06-03T15:22:29.696281Z"
    },
    "execution": {
     "iopub.execute_input": "2022-06-04T07:14:43.063189Z",
     "iopub.status.busy": "2022-06-04T07:14:43.061407Z",
     "iopub.status.idle": "2022-06-04T07:15:15.338882Z",
     "shell.execute_reply": "2022-06-04T07:15:15.336694Z"
    }
   },
   "outputs": [],
   "source": [
    "from __future__ import print_function\n",
    "import warnings\n",
    "warnings.filterwarnings(\"ignore\", category=UserWarning)\n",
    "warnings.filterwarnings(\"ignore\", category=FutureWarning)\n",
    "## Disable tf future deprecated messages\n",
    "import logging\n",
    "logging.getLogger('tensorflow').disabled = True\n",
    "## Disable tf CUDA messages\n",
    "import os\n",
    "os.environ['TF_CPP_MIN_LOG_LEVEL'] = '3'\n",
    "\n",
    "%matplotlib inline\n",
    "\n",
    "import sys\n",
    "import random\n",
    "import numpy as np\n",
    "import pandas as pd\n",
    "\n",
    "import utils\n",
    "import correction\n",
    "from models.dense import *\n",
    "from models.gain import gain\n",
    "from models.soft_impute import SoftImpute\n",
    "from models.sinkhorn import OTimputer\n",
    "from models.mida import mida\n",
    "\n",
    "import scipy.stats\n",
    "\n",
    "from sklearn.experimental import enable_iterative_imputer\n",
    "from sklearn.impute import IterativeImputer\n",
    "from sklearn.impute import KNNImputer, SimpleImputer\n",
    "\n",
    "import sklearn.neighbors._base\n",
    "sys.modules['sklearn.neighbors.base'] = sklearn.neighbors._base\n",
    "from missingpy import MissForest\n",
    "\n",
    "torch.backends.cudnn.enabled = True\n",
    "torch.backends.cudnn.benchmark = True\n",
    "dtype = torch.cuda.FloatTensor"
   ]
  },
  {
   "cell_type": "markdown",
   "metadata": {},
   "source": [
    "## Repeat all experiments for 10 runs"
   ]
  },
  {
   "cell_type": "code",
   "execution_count": 2,
   "metadata": {
    "ExecuteTime": {
     "end_time": "2022-06-03T15:22:32.845502Z",
     "start_time": "2022-06-03T15:22:32.842130Z"
    },
    "execution": {
     "iopub.execute_input": "2022-06-04T07:15:15.345912Z",
     "iopub.status.busy": "2022-06-04T07:15:15.345170Z",
     "iopub.status.idle": "2022-06-04T07:15:15.351618Z",
     "shell.execute_reply": "2022-06-04T07:15:15.352278Z"
    }
   },
   "outputs": [],
   "source": [
    "n_runs = 10"
   ]
  },
  {
   "cell_type": "markdown",
   "metadata": {},
   "source": [
    "## Load data"
   ]
  },
  {
   "cell_type": "code",
   "execution_count": 3,
   "metadata": {
    "ExecuteTime": {
     "end_time": "2022-06-03T15:22:34.289014Z",
     "start_time": "2022-06-03T15:22:32.847779Z"
    },
    "execution": {
     "iopub.execute_input": "2022-06-04T07:15:15.359706Z",
     "iopub.status.busy": "2022-06-04T07:15:15.359111Z",
     "iopub.status.idle": "2022-06-04T07:15:17.985240Z",
     "shell.execute_reply": "2022-06-04T07:15:17.984639Z"
    }
   },
   "outputs": [
    {
     "name": "stdout",
     "output_type": "stream",
     "text": [
      "Dataset shape: (361, 80)\n",
      "19.75% missing data\n",
      "Class distribution: (array([0, 1]), array([195, 166]))\n"
     ]
    }
   ],
   "source": [
    "data_missing, missing_mask, y = utils.load_covid()\n",
    "## Inject noise\n",
    "data_missing = utils.inject_noise(data_missing.copy(), noise_rate=.20)\n",
    "## Replace missing values locations by 0\n",
    "data_missing = data_missing * missing_mask"
   ]
  },
  {
   "cell_type": "markdown",
   "metadata": {},
   "source": [
    "## Run OUR METHOD"
   ]
  },
  {
   "cell_type": "code",
   "execution_count": 4,
   "metadata": {
    "ExecuteTime": {
     "end_time": "2022-06-03T15:23:05.486728Z",
     "start_time": "2022-06-03T15:22:34.290669Z"
    },
    "execution": {
     "iopub.execute_input": "2022-06-04T07:15:17.994274Z",
     "iopub.status.busy": "2022-06-04T07:15:17.993803Z",
     "iopub.status.idle": "2022-06-04T07:25:45.547652Z",
     "shell.execute_reply": "2022-06-04T07:25:45.546432Z"
    },
    "scrolled": false
   },
   "outputs": [
    {
     "name": "stdout",
     "output_type": "stream",
     "text": [
      "Ite 00000 - 0.72 sec - Loss 0.098336 - ACC 77.62% - ACC Mean 77.62% - AUC 84.95% - AUC Mean 84.95% - Deter 000\n",
      "Ite 00050 - 0.10 sec - Loss 0.092353 - ACC 77.72% - ACC Mean 77.80% - AUC 85.59% - AUC Mean 85.30% - Deter 020\n",
      "Ite 00100 - 0.10 sec - Loss 0.077381 - ACC 77.54% - ACC Mean 78.36% - AUC 84.94% - AUC Mean 85.49% - Deter 044\n",
      "Ite 00150 - 0.10 sec - Loss 0.056319 - ACC 76.20% - ACC Mean 77.87% - AUC 84.12% - AUC Mean 84.92% - Deter 094\n",
      "Ite 00200 - 0.12 sec - Loss 0.047174 - ACC 76.85% - ACC Mean 78.01% - AUC 84.64% - AUC Mean 84.72% - Deter 144\n",
      "Ite 00250 - 0.12 sec - Loss 0.045156 - ACC 78.17% - ACC Mean 78.22% - AUC 84.19% - AUC Mean 85.07% - Deter 194\n",
      "Ite 00300 - 0.13 sec - Loss 0.044531 - ACC 77.83% - ACC Mean 77.57% - AUC 84.33% - AUC Mean 84.82% - Deter 244\n",
      "Ite 00350 - 0.13 sec - Loss 0.044161 - ACC 77.02% - ACC Mean 77.64% - AUC 84.86% - AUC Mean 84.82% - Deter 294\n",
      "Ite 00400 - 0.10 sec - Loss 0.043862 - ACC 77.62% - ACC Mean 77.53% - AUC 84.97% - AUC Mean 84.76% - Deter 344\n",
      "Ite 00450 - 0.10 sec - Loss 0.043490 - ACC 77.31% - ACC Mean 77.45% - AUC 84.66% - AUC Mean 84.77% - Deter 394\n",
      "Ite 00456 - 0.10 sec - Loss 0.043440 - ACC 77.10% - ACC Mean 77.50% - AUC 84.43% - AUC Mean 84.81% - Deter 400\n",
      "Early stop ite 456, rollback to correction of ite 56, whith acc of 78.63% and auc of 86.47%\n",
      "OUR METHOD RUN 1/10 - acc: 78.63% +- 0.0% - auc: 86.47% +- 0.0%\n",
      "Ite 00000 - 0.10 sec - Loss 0.097800 - ACC 79.65% - ACC Mean 79.65% - AUC 86.49% - AUC Mean 86.49% - Deter 000\n",
      "Ite 00050 - 0.12 sec - Loss 0.091932 - ACC 80.09% - ACC Mean 79.41% - AUC 86.70% - AUC Mean 86.62% - Deter 049\n",
      "Ite 00100 - 0.11 sec - Loss 0.078080 - ACC 75.85% - ACC Mean 78.20% - AUC 84.11% - AUC Mean 85.58% - Deter 099\n",
      "Ite 00150 - 0.11 sec - Loss 0.057352 - ACC 76.64% - ACC Mean 77.34% - AUC 83.58% - AUC Mean 84.56% - Deter 149\n",
      "Ite 00200 - 0.11 sec - Loss 0.047577 - ACC 76.11% - ACC Mean 77.94% - AUC 83.47% - AUC Mean 84.69% - Deter 199\n",
      "Ite 00250 - 0.10 sec - Loss 0.045404 - ACC 78.57% - ACC Mean 77.37% - AUC 84.18% - AUC Mean 83.99% - Deter 249\n",
      "Ite 00300 - 0.10 sec - Loss 0.044797 - ACC 78.74% - ACC Mean 77.69% - AUC 84.30% - AUC Mean 84.30% - Deter 299\n",
      "Ite 00350 - 0.10 sec - Loss 0.044500 - ACC 77.72% - ACC Mean 77.81% - AUC 84.81% - AUC Mean 84.65% - Deter 349\n",
      "Ite 00400 - 0.10 sec - Loss 0.044270 - ACC 78.18% - ACC Mean 77.86% - AUC 85.07% - AUC Mean 84.76% - Deter 399\n",
      "Ite 00401 - 0.10 sec - Loss 0.044259 - ACC 78.18% - ACC Mean 77.87% - AUC 84.98% - AUC Mean 84.77% - Deter 400\n",
      "Early stop ite 401, rollback to correction of ite 1, whith acc of 81.59% and auc of 87.39%\n",
      "OUR METHOD RUN 2/10 - acc: 81.59% +- 0.0% - auc: 87.39% +- 0.0%\n",
      "Ite 00000 - 0.11 sec - Loss 0.097017 - ACC 77.46% - ACC Mean 77.46% - AUC 84.76% - AUC Mean 84.76% - Deter 000\n",
      "Ite 00050 - 0.11 sec - Loss 0.091961 - ACC 77.93% - ACC Mean 77.64% - AUC 85.10% - AUC Mean 84.92% - Deter 049\n",
      "Ite 00100 - 0.11 sec - Loss 0.079282 - ACC 77.76% - ACC Mean 78.42% - AUC 84.88% - AUC Mean 85.30% - Deter 099\n",
      "Ite 00150 - 0.10 sec - Loss 0.058114 - ACC 78.58% - ACC Mean 77.98% - AUC 85.84% - AUC Mean 85.00% - Deter 149\n",
      "Ite 00200 - 0.10 sec - Loss 0.047840 - ACC 80.56% - ACC Mean 79.87% - AUC 86.12% - AUC Mean 85.85% - Deter 002\n",
      "Ite 00250 - 0.10 sec - Loss 0.045298 - ACC 80.60% - ACC Mean 80.26% - AUC 85.63% - AUC Mean 86.07% - Deter 025\n",
      "Ite 00300 - 0.15 sec - Loss 0.044468 - ACC 78.49% - ACC Mean 78.88% - AUC 84.99% - AUC Mean 85.28% - Deter 003\n",
      "Ite 00350 - 0.10 sec - Loss 0.044011 - ACC 77.10% - ACC Mean 78.77% - AUC 84.43% - AUC Mean 85.37% - Deter 053\n",
      "Ite 00400 - 0.10 sec - Loss 0.043613 - ACC 78.79% - ACC Mean 79.21% - AUC 85.84% - AUC Mean 85.75% - Deter 042\n",
      "Ite 00450 - 0.11 sec - Loss 0.043133 - ACC 80.21% - ACC Mean 79.50% - AUC 86.34% - AUC Mean 85.84% - Deter 029\n",
      "Ite 00500 - 0.09 sec - Loss 0.042584 - ACC 80.00% - ACC Mean 79.20% - AUC 86.24% - AUC Mean 85.78% - Deter 079\n",
      "Ite 00550 - 0.11 sec - Loss 0.041983 - ACC 79.65% - ACC Mean 79.97% - AUC 86.15% - AUC Mean 86.02% - Deter 129\n",
      "Ite 00600 - 0.12 sec - Loss 0.041262 - ACC 79.64% - ACC Mean 79.81% - AUC 86.07% - AUC Mean 86.04% - Deter 179\n",
      "Ite 00650 - 0.09 sec - Loss 0.040546 - ACC 80.67% - ACC Mean 79.60% - AUC 86.64% - AUC Mean 86.17% - Deter 229\n",
      "Ite 00700 - 0.09 sec - Loss 0.039865 - ACC 79.14% - ACC Mean 79.68% - AUC 85.70% - AUC Mean 86.35% - Deter 010\n",
      "Ite 00750 - 0.10 sec - Loss 0.039237 - ACC 78.64% - ACC Mean 79.32% - AUC 85.07% - AUC Mean 86.14% - Deter 060\n",
      "Ite 00800 - 0.16 sec - Loss 0.038601 - ACC 79.59% - ACC Mean 79.26% - AUC 86.32% - AUC Mean 85.38% - Deter 010\n",
      "Ite 00850 - 0.11 sec - Loss 0.037951 - ACC 77.09% - ACC Mean 79.45% - AUC 83.24% - AUC Mean 85.43% - Deter 060\n",
      "Ite 00900 - 0.11 sec - Loss 0.037394 - ACC 79.92% - ACC Mean 79.85% - AUC 85.07% - AUC Mean 85.88% - Deter 047\n",
      "Ite 00950 - 0.10 sec - Loss 0.036866 - ACC 79.16% - ACC Mean 80.30% - AUC 85.52% - AUC Mean 86.26% - Deter 040\n",
      "Ite 01000 - 0.12 sec - Loss 0.036373 - ACC 78.60% - ACC Mean 80.51% - AUC 85.82% - AUC Mean 86.53% - Deter 090\n",
      "Ite 01050 - 0.13 sec - Loss 0.035914 - ACC 79.38% - ACC Mean 80.15% - AUC 88.29% - AUC Mean 86.18% - Deter 140\n",
      "Ite 01100 - 0.09 sec - Loss 0.035444 - ACC 80.27% - ACC Mean 80.28% - AUC 85.79% - AUC Mean 86.41% - Deter 190\n",
      "Ite 01150 - 0.10 sec - Loss 0.035009 - ACC 79.24% - ACC Mean 79.52% - AUC 85.02% - AUC Mean 86.29% - Deter 240\n",
      "Ite 01200 - 0.11 sec - Loss 0.034583 - ACC 79.74% - ACC Mean 79.78% - AUC 85.90% - AUC Mean 86.27% - Deter 290\n",
      "Ite 01250 - 0.17 sec - Loss 0.034187 - ACC 79.00% - ACC Mean 80.64% - AUC 85.96% - AUC Mean 86.76% - Deter 340\n",
      "Ite 01300 - 0.10 sec - Loss 0.033785 - ACC 79.59% - ACC Mean 80.65% - AUC 86.48% - AUC Mean 86.95% - Deter 390\n",
      "Ite 01310 - 0.10 sec - Loss 0.033711 - ACC 81.14% - ACC Mean 80.63% - AUC 86.99% - AUC Mean 86.79% - Deter 400\n",
      "Early stop ite 1310, rollback to correction of ite 910, whith acc of 83.83% and auc of 90.05%\n",
      "OUR METHOD RUN 3/10 - acc: 83.83% +- 0.0% - auc: 90.05% +- 0.0%\n",
      "Ite 00000 - 0.10 sec - Loss 0.097448 - ACC 77.67% - ACC Mean 77.67% - AUC 85.58% - AUC Mean 85.58% - Deter 000\n",
      "Ite 00050 - 0.10 sec - Loss 0.090592 - ACC 79.91% - ACC Mean 79.03% - AUC 86.07% - AUC Mean 86.20% - Deter 026\n",
      "Ite 00100 - 0.10 sec - Loss 0.074881 - ACC 79.95% - ACC Mean 79.54% - AUC 86.87% - AUC Mean 86.10% - Deter 014\n",
      "Ite 00150 - 0.11 sec - Loss 0.055139 - ACC 77.38% - ACC Mean 77.75% - AUC 85.58% - AUC Mean 85.18% - Deter 064\n",
      "Ite 00200 - 0.10 sec - Loss 0.047074 - ACC 80.22% - ACC Mean 78.47% - AUC 86.83% - AUC Mean 85.75% - Deter 114\n",
      "Ite 00250 - 0.13 sec - Loss 0.045207 - ACC 78.24% - ACC Mean 78.82% - AUC 86.74% - AUC Mean 86.13% - Deter 164\n",
      "Ite 00300 - 0.14 sec - Loss 0.044535 - ACC 78.76% - ACC Mean 79.13% - AUC 85.96% - AUC Mean 86.12% - Deter 214\n",
      "Ite 00350 - 0.14 sec - Loss 0.044161 - ACC 78.66% - ACC Mean 79.31% - AUC 86.24% - AUC Mean 86.16% - Deter 264\n",
      "Ite 00400 - 0.10 sec - Loss 0.043845 - ACC 76.94% - ACC Mean 79.01% - AUC 85.21% - AUC Mean 86.09% - Deter 314\n",
      "Ite 00450 - 0.09 sec - Loss 0.043479 - ACC 75.91% - ACC Mean 78.12% - AUC 84.68% - AUC Mean 85.62% - Deter 364\n",
      "Ite 00486 - 0.10 sec - Loss 0.043208 - ACC 76.16% - ACC Mean 77.55% - AUC 84.20% - AUC Mean 85.34% - Deter 400\n",
      "Early stop ite 486, rollback to correction of ite 86, whith acc of 81.07% and auc of 87.61%\n",
      "OUR METHOD RUN 4/10 - acc: 81.07% +- 0.0% - auc: 87.61% +- 0.0%\n",
      "Ite 00000 - 0.11 sec - Loss 0.098104 - ACC 80.12% - ACC Mean 80.12% - AUC 87.49% - AUC Mean 87.49% - Deter 000\n",
      "Ite 00050 - 0.14 sec - Loss 0.091834 - ACC 80.61% - ACC Mean 78.69% - AUC 87.64% - AUC Mean 86.42% - Deter 000\n",
      "Ite 00100 - 0.11 sec - Loss 0.076045 - ACC 79.09% - ACC Mean 78.95% - AUC 86.84% - AUC Mean 86.57% - Deter 007\n",
      "Ite 00150 - 0.12 sec - Loss 0.054698 - ACC 80.85% - ACC Mean 80.88% - AUC 87.21% - AUC Mean 87.34% - Deter 057\n",
      "Ite 00200 - 0.13 sec - Loss 0.046268 - ACC 79.48% - ACC Mean 80.34% - AUC 86.20% - AUC Mean 86.79% - Deter 107\n",
      "Ite 00250 - 0.10 sec - Loss 0.044815 - ACC 80.65% - ACC Mean 79.37% - AUC 86.38% - AUC Mean 85.89% - Deter 157\n",
      "Ite 00300 - 0.11 sec - Loss 0.044342 - ACC 79.23% - ACC Mean 79.55% - AUC 86.03% - AUC Mean 85.78% - Deter 207\n",
      "Ite 00350 - 0.11 sec - Loss 0.044024 - ACC 79.48% - ACC Mean 79.40% - AUC 85.40% - AUC Mean 85.75% - Deter 257\n",
      "Ite 00400 - 0.10 sec - Loss 0.043717 - ACC 78.23% - ACC Mean 79.75% - AUC 85.57% - AUC Mean 86.05% - Deter 307\n",
      "Ite 00450 - 0.12 sec - Loss 0.043335 - ACC 79.65% - ACC Mean 79.40% - AUC 86.13% - AUC Mean 85.97% - Deter 357\n",
      "Ite 00493 - 0.14 sec - Loss 0.042956 - ACC 79.99% - ACC Mean 79.40% - AUC 86.08% - AUC Mean 86.03% - Deter 400\n",
      "Early stop ite 493, rollback to correction of ite 93, whith acc of 81.12% and auc of 88.21%\n",
      "OUR METHOD RUN 5/10 - acc: 81.12% +- 0.0% - auc: 88.21% +- 0.0%\n",
      "Ite 00000 - 0.13 sec - Loss 0.097018 - ACC 75.88% - ACC Mean 75.88% - AUC 83.09% - AUC Mean 83.09% - Deter 000\n",
      "Ite 00050 - 0.13 sec - Loss 0.091603 - ACC 78.02% - ACC Mean 78.36% - AUC 85.31% - AUC Mean 85.21% - Deter 026\n",
      "Ite 00100 - 0.10 sec - Loss 0.078465 - ACC 79.30% - ACC Mean 77.75% - AUC 84.85% - AUC Mean 84.94% - Deter 043\n",
      "Ite 00150 - 0.10 sec - Loss 0.057661 - ACC 77.87% - ACC Mean 77.30% - AUC 85.23% - AUC Mean 84.82% - Deter 004\n",
      "Ite 00200 - 0.12 sec - Loss 0.047464 - ACC 77.92% - ACC Mean 78.59% - AUC 85.04% - AUC Mean 85.56% - Deter 054\n",
      "Ite 00250 - 0.11 sec - Loss 0.045172 - ACC 77.01% - ACC Mean 78.74% - AUC 84.26% - AUC Mean 85.35% - Deter 104\n",
      "Ite 00300 - 0.10 sec - Loss 0.044503 - ACC 78.64% - ACC Mean 78.38% - AUC 84.66% - AUC Mean 85.04% - Deter 154\n",
      "Ite 00350 - 0.12 sec - Loss 0.044139 - ACC 78.43% - ACC Mean 78.71% - AUC 84.44% - AUC Mean 85.13% - Deter 204\n",
      "Ite 00400 - 0.14 sec - Loss 0.043840 - ACC 77.87% - ACC Mean 78.59% - AUC 84.85% - AUC Mean 85.14% - Deter 254\n",
      "Ite 00450 - 0.10 sec - Loss 0.043484 - ACC 77.27% - ACC Mean 78.46% - AUC 85.24% - AUC Mean 85.13% - Deter 304\n",
      "Ite 00500 - 0.11 sec - Loss 0.043082 - ACC 77.31% - ACC Mean 77.86% - AUC 85.08% - AUC Mean 84.90% - Deter 354\n",
      "Ite 00546 - 0.10 sec - Loss 0.042644 - ACC 77.41% - ACC Mean 77.29% - AUC 84.58% - AUC Mean 84.66% - Deter 400\n",
      "Early stop ite 546, rollback to correction of ite 146, whith acc of 82.51% and auc of 87.48%\n",
      "OUR METHOD RUN 6/10 - acc: 82.51% +- 0.0% - auc: 87.48% +- 0.0%\n",
      "Ite 00000 - 0.14 sec - Loss 0.096679 - ACC 78.31% - ACC Mean 78.31% - AUC 86.31% - AUC Mean 86.31% - Deter 000\n",
      "Ite 00050 - 0.11 sec - Loss 0.090262 - ACC 78.45% - ACC Mean 78.94% - AUC 85.85% - AUC Mean 86.29% - Deter 039\n",
      "Ite 00100 - 0.09 sec - Loss 0.074546 - ACC 79.14% - ACC Mean 79.05% - AUC 85.83% - AUC Mean 86.13% - Deter 089\n",
      "Ite 00150 - 0.11 sec - Loss 0.053924 - ACC 78.06% - ACC Mean 78.38% - AUC 84.80% - AUC Mean 84.85% - Deter 139\n",
      "Ite 00200 - 0.10 sec - Loss 0.046391 - ACC 77.03% - ACC Mean 77.84% - AUC 84.25% - AUC Mean 84.64% - Deter 189\n",
      "Ite 00250 - 0.10 sec - Loss 0.044895 - ACC 79.22% - ACC Mean 77.96% - AUC 85.17% - AUC Mean 84.55% - Deter 239\n",
      "Ite 00300 - 0.11 sec - Loss 0.044328 - ACC 77.96% - ACC Mean 77.85% - AUC 83.92% - AUC Mean 84.11% - Deter 289\n",
      "Ite 00350 - 0.10 sec - Loss 0.043890 - ACC 75.82% - ACC Mean 77.38% - AUC 83.64% - AUC Mean 84.12% - Deter 339\n",
      "Ite 00400 - 0.10 sec - Loss 0.043469 - ACC 75.60% - ACC Mean 76.12% - AUC 83.66% - AUC Mean 83.74% - Deter 389\n",
      "Ite 00411 - 0.14 sec - Loss 0.043352 - ACC 76.16% - ACC Mean 76.09% - AUC 83.73% - AUC Mean 83.71% - Deter 400\n",
      "Early stop ite 411, rollback to correction of ite 11, whith acc of 79.12% and auc of 87.1%\n",
      "OUR METHOD RUN 7/10 - acc: 79.12% +- 0.0% - auc: 87.1% +- 0.0%\n",
      "Ite 00000 - 0.11 sec - Loss 0.097423 - ACC 79.57% - ACC Mean 79.57% - AUC 86.82% - AUC Mean 86.82% - Deter 000\n",
      "Ite 00050 - 0.10 sec - Loss 0.091434 - ACC 79.44% - ACC Mean 78.32% - AUC 86.16% - AUC Mean 86.03% - Deter 016\n",
      "Ite 00100 - 0.11 sec - Loss 0.078624 - ACC 77.32% - ACC Mean 78.33% - AUC 85.09% - AUC Mean 85.71% - Deter 030\n",
      "Ite 00150 - 0.12 sec - Loss 0.059736 - ACC 81.68% - ACC Mean 77.60% - AUC 87.07% - AUC Mean 85.24% - Deter 080\n",
      "Ite 00200 - 0.11 sec - Loss 0.048204 - ACC 79.40% - ACC Mean 79.80% - AUC 85.72% - AUC Mean 86.09% - Deter 130\n",
      "Ite 00250 - 0.10 sec - Loss 0.045379 - ACC 77.27% - ACC Mean 78.78% - AUC 84.54% - AUC Mean 85.41% - Deter 180\n",
      "Ite 00300 - 0.12 sec - Loss 0.044735 - ACC 78.14% - ACC Mean 78.09% - AUC 85.45% - AUC Mean 85.17% - Deter 230\n",
      "Ite 00350 - 0.10 sec - Loss 0.044447 - ACC 77.58% - ACC Mean 78.07% - AUC 85.00% - AUC Mean 85.10% - Deter 280\n",
      "Ite 00400 - 0.14 sec - Loss 0.044242 - ACC 77.67% - ACC Mean 77.89% - AUC 84.72% - AUC Mean 84.94% - Deter 330\n",
      "Ite 00450 - 0.11 sec - Loss 0.044012 - ACC 76.46% - ACC Mean 77.47% - AUC 84.46% - AUC Mean 84.60% - Deter 380\n",
      "Ite 00470 - 0.10 sec - Loss 0.043927 - ACC 77.61% - ACC Mean 77.17% - AUC 84.42% - AUC Mean 84.50% - Deter 400\n",
      "Early stop ite 470, rollback to correction of ite 70, whith acc of 80.65% and auc of 87.63%\n",
      "OUR METHOD RUN 8/10 - acc: 80.65% +- 0.0% - auc: 87.63% +- 0.0%\n",
      "Ite 00000 - 0.14 sec - Loss 0.096278 - ACC 77.72% - ACC Mean 77.72% - AUC 85.64% - AUC Mean 85.64% - Deter 000\n",
      "Ite 00050 - 0.11 sec - Loss 0.090378 - ACC 78.79% - ACC Mean 78.46% - AUC 85.90% - AUC Mean 85.56% - Deter 039\n",
      "Ite 00100 - 0.10 sec - Loss 0.074934 - ACC 77.76% - ACC Mean 78.00% - AUC 84.82% - AUC Mean 85.49% - Deter 028\n",
      "Ite 00150 - 0.16 sec - Loss 0.054061 - ACC 76.69% - ACC Mean 78.05% - AUC 84.15% - AUC Mean 85.19% - Deter 078\n",
      "Ite 00200 - 0.11 sec - Loss 0.046462 - ACC 77.75% - ACC Mean 77.75% - AUC 85.38% - AUC Mean 84.80% - Deter 128\n",
      "Ite 00250 - 0.13 sec - Loss 0.044938 - ACC 77.15% - ACC Mean 77.97% - AUC 84.28% - AUC Mean 85.06% - Deter 178\n",
      "Ite 00300 - 0.10 sec - Loss 0.044392 - ACC 76.68% - ACC Mean 77.31% - AUC 84.35% - AUC Mean 84.51% - Deter 228\n",
      "Ite 00350 - 0.14 sec - Loss 0.044028 - ACC 76.38% - ACC Mean 77.15% - AUC 84.22% - AUC Mean 84.49% - Deter 278\n",
      "Ite 00400 - 0.11 sec - Loss 0.043675 - ACC 76.68% - ACC Mean 76.93% - AUC 84.64% - AUC Mean 84.42% - Deter 328\n",
      "Ite 00450 - 0.14 sec - Loss 0.043259 - ACC 77.20% - ACC Mean 77.11% - AUC 84.55% - AUC Mean 84.43% - Deter 378\n",
      "Ite 00472 - 0.11 sec - Loss 0.043059 - ACC 77.15% - ACC Mean 77.19% - AUC 84.43% - AUC Mean 84.41% - Deter 400\n",
      "Early stop ite 472, rollback to correction of ite 72, whith acc of 79.09% and auc of 86.84%\n",
      "OUR METHOD RUN 9/10 - acc: 79.09% +- 0.0% - auc: 86.84% +- 0.0%\n",
      "Ite 00000 - 0.11 sec - Loss 0.096471 - ACC 78.49% - ACC Mean 78.49% - AUC 85.20% - AUC Mean 85.20% - Deter 000\n",
      "Ite 00050 - 0.10 sec - Loss 0.090704 - ACC 80.00% - ACC Mean 79.24% - AUC 86.81% - AUC Mean 85.97% - Deter 010\n",
      "Ite 00100 - 0.10 sec - Loss 0.076622 - ACC 79.78% - ACC Mean 79.94% - AUC 86.24% - AUC Mean 86.28% - Deter 044\n",
      "Ite 00150 - 0.10 sec - Loss 0.057103 - ACC 77.02% - ACC Mean 78.31% - AUC 84.32% - AUC Mean 85.42% - Deter 094\n",
      "Ite 00200 - 0.12 sec - Loss 0.048275 - ACC 78.23% - ACC Mean 77.98% - AUC 85.13% - AUC Mean 84.91% - Deter 144\n",
      "Ite 00250 - 0.10 sec - Loss 0.045881 - ACC 78.23% - ACC Mean 78.47% - AUC 84.57% - AUC Mean 85.21% - Deter 194\n",
      "Ite 00300 - 0.10 sec - Loss 0.045033 - ACC 78.27% - ACC Mean 78.40% - AUC 84.19% - AUC Mean 84.50% - Deter 244\n",
      "Ite 00350 - 0.11 sec - Loss 0.044580 - ACC 78.57% - ACC Mean 78.38% - AUC 84.48% - AUC Mean 84.30% - Deter 294\n",
      "Ite 00400 - 0.11 sec - Loss 0.044226 - ACC 77.97% - ACC Mean 77.83% - AUC 84.47% - AUC Mean 84.14% - Deter 344\n",
      "Ite 00450 - 0.11 sec - Loss 0.043880 - ACC 78.58% - ACC Mean 78.08% - AUC 85.18% - AUC Mean 84.55% - Deter 394\n",
      "Ite 00456 - 0.10 sec - Loss 0.043838 - ACC 78.01% - ACC Mean 78.01% - AUC 84.43% - AUC Mean 84.48% - Deter 400\n",
      "Early stop ite 456, rollback to correction of ite 56, whith acc of 81.12% and auc of 87.44%\n",
      "OUR METHOD RUN 10/10 - acc: 81.12% +- 0.0% - auc: 87.44% +- 0.0%\n",
      "\n",
      "OUR METHOD GLOBAL - acc: 80.87% +- 1.53% - auc: 87.62% +- 0.93%\n"
     ]
    }
   ],
   "source": [
    "params = {\n",
    "    'nb_batches': 10,\n",
    "    'reg_noise_std': .03,\n",
    "    'net_input': 'data_corrupted',\n",
    "    'net_params': [80, 80],\n",
    "    'adam_lr': .0001,\n",
    "    'adam_weight_decay': 0.,\n",
    "}\n",
    "\n",
    "ours_accs, ours_aucs = [], []\n",
    "for i in range(n_runs):\n",
    "    ours_correction = correction.run(data_missing, 4001, params, y=y, missing_mask=missing_mask, seed=i)\n",
    "    ## Since our method returns 2 imputations select the best one\n",
    "    scores_raw = utils.get_scores(ours_correction['raw_out'], y)\n",
    "    acc = scores_raw['test_balanced_accuracy']\n",
    "    auc = scores_raw['test_roc_auc_ovo']\n",
    "    acc = acc.mean()\n",
    "    acc_std = acc.std()\n",
    "    auc = auc.mean()\n",
    "    auc_std = auc.std()\n",
    "    if 'masked_out' in ours_correction:\n",
    "        scores_masked = utils.get_scores(ours_correction['masked_out'], y)\n",
    "        acc_masked = scores_masked['test_balanced_accuracy']\n",
    "        auc_masked = scores_masked['test_roc_auc_ovo']\n",
    "        if auc_masked.mean() > auc:\n",
    "            acc = acc_masked.mean()\n",
    "            acc_std = acc_masked.std()\n",
    "            auc = auc_masked.mean()\n",
    "            auc_std = auc_masked.std()\n",
    "    print(f'OUR METHOD RUN {i + 1}/{n_runs} - acc: {round(acc.mean() * 100, 2)}% +- {round(acc.std() * 100, 2)}% - ' +\n",
    "          f'auc: {round(auc.mean() * 100, 2)}% +- {round(auc.std() * 100, 2)}%')\n",
    "    ours_accs.append(acc.mean())\n",
    "    ours_aucs.append(auc.mean())\n",
    "print(f'\\nOUR METHOD GLOBAL - acc: {round(np.array(ours_accs).mean() * 100, 2)}% +- {round(np.array(ours_accs).std() * 100, 2)}% - ' +\n",
    "      f'auc: {round(np.array(ours_aucs).mean() * 100, 2)}% +- {round(np.array(ours_aucs).std() * 100, 2)}%')"
   ]
  },
  {
   "cell_type": "markdown",
   "metadata": {},
   "source": [
    "## Run Median, Mean and KNN"
   ]
  },
  {
   "cell_type": "code",
   "execution_count": 5,
   "metadata": {
    "ExecuteTime": {
     "end_time": "2022-06-03T15:23:05.488483Z",
     "start_time": "2022-06-03T15:23:05.488473Z"
    },
    "execution": {
     "iopub.execute_input": "2022-06-04T07:25:45.557181Z",
     "iopub.status.busy": "2022-06-04T07:25:45.556334Z",
     "iopub.status.idle": "2022-06-04T07:25:45.857286Z",
     "shell.execute_reply": "2022-06-04T07:25:45.858296Z"
    }
   },
   "outputs": [
    {
     "name": "stdout",
     "output_type": "stream",
     "text": [
      "MEDIAN - acc: 79.96% +- 0.0% - auc: 85.26% +- 0.0%\n",
      "MEAN - acc: 79.72% +- 0.0% - auc: 87.24% +- 0.0%\n",
      "KNN - acc: 82.15% +- 0.0% - auc: 85.08% +- 0.0%\n"
     ]
    }
   ],
   "source": [
    "data_missing_nans = np.where(missing_mask, data_missing, np.nan)\n",
    "\n",
    "median_imputer = SimpleImputer(missing_values=np.nan, strategy='median')\n",
    "mean_imputer = SimpleImputer(missing_values=np.nan, strategy='mean')\n",
    "knn_imputer = KNNImputer(n_neighbors=10, weights='uniform')\n",
    "\n",
    "median_completed = median_imputer.fit_transform(data_missing_nans)\n",
    "mean_completed = mean_imputer.fit_transform(data_missing_nans)\n",
    "knn_completed = knn_imputer.fit_transform(data_missing_nans)\n",
    "\n",
    "## All runs would be the same since deterministic methods\n",
    "scores = utils.get_scores(median_completed, y)\n",
    "acc = [scores['test_balanced_accuracy'].mean()] * n_runs\n",
    "auc = [scores['test_roc_auc_ovo'].mean()] * n_runs\n",
    "print(f'MEDIAN - acc: {round(np.mean(acc) * 100, 2)}% +- {round(np.std(acc) * 100, 2)}% - ' +\n",
    "      f'auc: {round(np.mean(auc) * 100, 2)}% +- {round(np.std(auc) * 100, 2)}%')\n",
    "median_accs = acc\n",
    "median_aucs = auc\n",
    "\n",
    "scores = utils.get_scores(mean_completed, y)\n",
    "acc = [scores['test_balanced_accuracy'].mean()] * n_runs\n",
    "auc = [scores['test_roc_auc_ovo'].mean()] * n_runs\n",
    "print(f'MEAN - acc: {round(np.mean(acc) * 100, 2)}% +- {round(np.std(acc) * 100, 2)}% - ' +\n",
    "      f'auc: {round(np.mean(auc) * 100, 2)}% +- {round(np.std(auc) * 100, 2)}%')\n",
    "mean_accs = acc\n",
    "mean_aucs = auc\n",
    "\n",
    "scores = utils.get_scores(knn_completed, y)\n",
    "acc = [scores['test_balanced_accuracy'].mean()] * n_runs\n",
    "auc = [scores['test_roc_auc_ovo'].mean()] * n_runs\n",
    "print(f'KNN - acc: {round(np.mean(acc) * 100, 2)}% +- {round(np.std(acc) * 100, 2)}% - ' +\n",
    "      f'auc: {round(np.mean(auc) * 100, 2)}% +- {round(np.std(auc) * 100, 2)}%')\n",
    "knn_accs = acc\n",
    "knn_aucs = auc"
   ]
  },
  {
   "cell_type": "markdown",
   "metadata": {},
   "source": [
    "## Run GAIN"
   ]
  },
  {
   "cell_type": "code",
   "execution_count": 6,
   "metadata": {
    "ExecuteTime": {
     "end_time": "2022-06-03T15:23:05.489380Z",
     "start_time": "2022-06-03T15:23:05.489371Z"
    },
    "execution": {
     "iopub.execute_input": "2022-06-04T07:25:45.866403Z",
     "iopub.status.busy": "2022-06-04T07:25:45.865552Z",
     "iopub.status.idle": "2022-06-04T07:32:36.413299Z",
     "shell.execute_reply": "2022-06-04T07:32:36.412601Z"
    },
    "scrolled": false
   },
   "outputs": [
    {
     "name": "stderr",
     "output_type": "stream",
     "text": [
      "100%|██████████| 5000/5000 [00:44<00:00, 113.32it/s]\n"
     ]
    },
    {
     "name": "stdout",
     "output_type": "stream",
     "text": [
      "\n",
      "GAIN RUN 1/10 - acc: 77.57% +- 6.07% - auc: 84.78% +- 3.38%\n",
      "\n"
     ]
    },
    {
     "name": "stderr",
     "output_type": "stream",
     "text": [
      "100%|██████████| 5000/5000 [00:42<00:00, 116.40it/s]\n"
     ]
    },
    {
     "name": "stdout",
     "output_type": "stream",
     "text": [
      "\n",
      "GAIN RUN 2/10 - acc: 78.28% +- 4.98% - auc: 86.4% +- 3.6%\n",
      "\n"
     ]
    },
    {
     "name": "stderr",
     "output_type": "stream",
     "text": [
      "100%|██████████| 5000/5000 [00:42<00:00, 116.29it/s]\n"
     ]
    },
    {
     "name": "stdout",
     "output_type": "stream",
     "text": [
      "\n",
      "GAIN RUN 3/10 - acc: 78.83% +- 4.58% - auc: 84.98% +- 3.52%\n",
      "\n"
     ]
    },
    {
     "name": "stderr",
     "output_type": "stream",
     "text": [
      "100%|██████████| 5000/5000 [00:44<00:00, 111.47it/s]\n"
     ]
    },
    {
     "name": "stdout",
     "output_type": "stream",
     "text": [
      "\n",
      "GAIN RUN 4/10 - acc: 79.65% +- 3.1% - auc: 86.4% +- 2.02%\n",
      "\n"
     ]
    },
    {
     "name": "stderr",
     "output_type": "stream",
     "text": [
      "100%|██████████| 5000/5000 [00:43<00:00, 115.68it/s]\n"
     ]
    },
    {
     "name": "stdout",
     "output_type": "stream",
     "text": [
      "\n",
      "GAIN RUN 5/10 - acc: 79.28% +- 4.77% - auc: 84.73% +- 4.65%\n",
      "\n"
     ]
    },
    {
     "name": "stderr",
     "output_type": "stream",
     "text": [
      "100%|██████████| 5000/5000 [00:36<00:00, 137.77it/s]\n"
     ]
    },
    {
     "name": "stdout",
     "output_type": "stream",
     "text": [
      "\n",
      "GAIN RUN 6/10 - acc: 77.35% +- 5.0% - auc: 84.0% +- 5.1%\n",
      "\n"
     ]
    },
    {
     "name": "stderr",
     "output_type": "stream",
     "text": [
      "100%|██████████| 5000/5000 [00:36<00:00, 138.22it/s]\n"
     ]
    },
    {
     "name": "stdout",
     "output_type": "stream",
     "text": [
      "\n",
      "GAIN RUN 7/10 - acc: 77.64% +- 4.05% - auc: 84.59% +- 3.47%\n",
      "\n"
     ]
    },
    {
     "name": "stderr",
     "output_type": "stream",
     "text": [
      "100%|██████████| 5000/5000 [00:37<00:00, 133.76it/s]\n"
     ]
    },
    {
     "name": "stdout",
     "output_type": "stream",
     "text": [
      "\n",
      "GAIN RUN 8/10 - acc: 77.19% +- 2.45% - auc: 83.86% +- 3.54%\n",
      "\n"
     ]
    },
    {
     "name": "stderr",
     "output_type": "stream",
     "text": [
      "100%|██████████| 5000/5000 [00:36<00:00, 136.32it/s]\n"
     ]
    },
    {
     "name": "stdout",
     "output_type": "stream",
     "text": [
      "\n",
      "GAIN RUN 9/10 - acc: 79.4% +- 3.53% - auc: 85.37% +- 2.91%\n",
      "\n"
     ]
    },
    {
     "name": "stderr",
     "output_type": "stream",
     "text": [
      "100%|██████████| 5000/5000 [00:37<00:00, 134.69it/s]\n"
     ]
    },
    {
     "name": "stdout",
     "output_type": "stream",
     "text": [
      "\n",
      "GAIN RUN 10/10 - acc: 81.22% +- 3.54% - auc: 86.93% +- 3.69%\n",
      "\n",
      "GAIN GLOBAL - acc: 78.64% +- 1.22% - auc: 85.2% +- 1.0%\n"
     ]
    }
   ],
   "source": [
    "gain_parameters = {'batch_size': 128,\n",
    "                   'hint_rate': .9,\n",
    "                   'alpha': 100,\n",
    "                   'iterations': 5000}\n",
    "\n",
    "gain_accs, gain_aucs = [], []\n",
    "for i in range(n_runs):\n",
    "    random.seed(i)\n",
    "    np.random.seed(i)\n",
    "    torch.manual_seed(i)\n",
    "    imputed = gain(data_missing_nans, gain_parameters)\n",
    "    scores = utils.get_scores(imputed, y)\n",
    "    acc = scores['test_balanced_accuracy']\n",
    "    auc = scores['test_roc_auc_ovo']\n",
    "    print(f'\\nGAIN RUN {i + 1}/{n_runs} - acc: {round(acc.mean() * 100, 2)}% +- {round(acc.std() * 100, 2)}% - ' +\n",
    "          f'auc: {round(auc.mean() * 100, 2)}% +- {round(auc.std() * 100, 2)}%\\n')\n",
    "    gain_accs.append(acc.mean())\n",
    "    gain_aucs.append(auc.mean())\n",
    "print(f'GAIN GLOBAL - acc: {round(np.array(gain_accs).mean() * 100, 2)}% +- {round(np.array(gain_accs).std() * 100, 2)}% - ' +\n",
    "      f'auc: {round(np.array(gain_aucs).mean() * 100, 2)}% +- {round(np.array(gain_aucs).std() * 100, 2)}%')"
   ]
  },
  {
   "cell_type": "markdown",
   "metadata": {},
   "source": [
    "## Run MICE"
   ]
  },
  {
   "cell_type": "code",
   "execution_count": 7,
   "metadata": {
    "ExecuteTime": {
     "end_time": "2022-06-03T15:23:05.489983Z",
     "start_time": "2022-06-03T15:23:05.489973Z"
    },
    "execution": {
     "iopub.execute_input": "2022-06-04T07:32:36.420583Z",
     "iopub.status.busy": "2022-06-04T07:32:36.419847Z",
     "iopub.status.idle": "2022-06-04T07:33:01.679133Z",
     "shell.execute_reply": "2022-06-04T07:33:01.678643Z"
    }
   },
   "outputs": [
    {
     "name": "stdout",
     "output_type": "stream",
     "text": [
      "MICE - acc: 79.29% +- 0.0% - auc: 84.34% +- 0.0%\n"
     ]
    }
   ],
   "source": [
    "imputer = IterativeImputer()\n",
    "imputed = imputer.fit_transform(data_missing_nans)\n",
    "## All runs would be the same since deterministic method\n",
    "scores = utils.get_scores(imputed, y)\n",
    "acc = [scores['test_balanced_accuracy'].mean()] * n_runs\n",
    "auc = [scores['test_roc_auc_ovo'].mean()] * n_runs\n",
    "print(f'MICE - acc: {round(np.mean(acc) * 100, 2)}% +- {round(np.std(acc) * 100, 2)}% - ' +\n",
    "      f'auc: {round(np.mean(auc) * 100, 2)}% +- {round(np.std(auc) * 100, 2)}%')\n",
    "mice_accs = acc\n",
    "mice_aucs = auc"
   ]
  },
  {
   "cell_type": "markdown",
   "metadata": {},
   "source": [
    "## Run MISSFOREST"
   ]
  },
  {
   "cell_type": "code",
   "execution_count": 8,
   "metadata": {
    "ExecuteTime": {
     "end_time": "2022-06-03T15:23:05.490726Z",
     "start_time": "2022-06-03T15:23:05.490717Z"
    },
    "execution": {
     "iopub.execute_input": "2022-06-04T07:33:01.693169Z",
     "iopub.status.busy": "2022-06-04T07:33:01.692709Z",
     "iopub.status.idle": "2022-06-04T08:48:01.942487Z",
     "shell.execute_reply": "2022-06-04T08:48:01.942873Z"
    },
    "scrolled": false
   },
   "outputs": [
    {
     "name": "stdout",
     "output_type": "stream",
     "text": [
      "Iteration: 0\n",
      "Iteration: 1\n",
      "Iteration: 2\n",
      "Iteration: 3\n",
      "Iteration: 4\n",
      "Iteration: 5\n",
      "\n",
      "MISSFOREST RUN 1/10 - acc: 78.8% +- 2.85% - auc: 85.69% +- 3.53%\n",
      "\n",
      "Iteration: 0\n",
      "Iteration: 1\n",
      "Iteration: 2\n",
      "Iteration: 3\n",
      "Iteration: 4\n",
      "Iteration: 5\n",
      "Iteration: 6\n",
      "Iteration: 7\n",
      "\n",
      "MISSFOREST RUN 2/10 - acc: 82.99% +- 6.19% - auc: 86.37% +- 5.03%\n",
      "\n",
      "Iteration: 0\n",
      "Iteration: 1\n",
      "Iteration: 2\n",
      "Iteration: 3\n",
      "Iteration: 4\n",
      "Iteration: 5\n",
      "Iteration: 6\n",
      "\n",
      "MISSFOREST RUN 3/10 - acc: 81.15% +- 1.84% - auc: 85.71% +- 3.21%\n",
      "\n",
      "Iteration: 0\n",
      "Iteration: 1\n",
      "Iteration: 2\n",
      "Iteration: 3\n",
      "Iteration: 4\n",
      "Iteration: 5\n",
      "\n",
      "MISSFOREST RUN 4/10 - acc: 79.62% +- 1.48% - auc: 86.13% +- 2.53%\n",
      "\n",
      "Iteration: 0\n",
      "Iteration: 1\n",
      "Iteration: 2\n",
      "Iteration: 3\n",
      "Iteration: 4\n",
      "Iteration: 5\n",
      "Iteration: 6\n",
      "Iteration: 7\n",
      "\n",
      "MISSFOREST RUN 5/10 - acc: 78.86% +- 4.62% - auc: 85.76% +- 5.79%\n",
      "\n",
      "Iteration: 0\n",
      "Iteration: 1\n",
      "Iteration: 2\n",
      "Iteration: 3\n",
      "Iteration: 4\n",
      "Iteration: 5\n",
      "Iteration: 6\n",
      "\n",
      "MISSFOREST RUN 6/10 - acc: 79.91% +- 1.93% - auc: 84.62% +- 2.25%\n",
      "\n",
      "Iteration: 0\n",
      "Iteration: 1\n",
      "Iteration: 2\n",
      "Iteration: 3\n",
      "Iteration: 4\n",
      "Iteration: 5\n",
      "\n",
      "MISSFOREST RUN 7/10 - acc: 79.56% +- 3.79% - auc: 86.47% +- 3.43%\n",
      "\n",
      "Iteration: 0\n",
      "Iteration: 1\n",
      "Iteration: 2\n",
      "Iteration: 3\n",
      "Iteration: 4\n",
      "Iteration: 5\n",
      "Iteration: 6\n",
      "\n",
      "MISSFOREST RUN 8/10 - acc: 78.54% +- 3.68% - auc: 83.81% +- 2.9%\n",
      "\n",
      "Iteration: 0\n",
      "Iteration: 1\n",
      "Iteration: 2\n",
      "Iteration: 3\n",
      "Iteration: 4\n",
      "Iteration: 5\n",
      "Iteration: 6\n",
      "Iteration: 7\n",
      "\n",
      "MISSFOREST RUN 9/10 - acc: 78.91% +- 2.93% - auc: 84.77% +- 2.55%\n",
      "\n",
      "Iteration: 0\n",
      "Iteration: 1\n",
      "Iteration: 2\n",
      "Iteration: 3\n",
      "Iteration: 4\n",
      "Iteration: 5\n",
      "Iteration: 6\n",
      "Iteration: 7\n",
      "\n",
      "MISSFOREST RUN 10/10 - acc: 76.25% +- 4.25% - auc: 83.54% +- 3.85%\n",
      "\n",
      "\n",
      "MISSFOREST GLOBAL - acc: 79.46% +- 1.67% - auc: 85.29% +- 0.99%\n"
     ]
    }
   ],
   "source": [
    "miss_accs, miss_aucs = [], []\n",
    "for i in range(n_runs):\n",
    "    random.seed(i)\n",
    "    np.random.seed(i)\n",
    "    torch.manual_seed(i)\n",
    "    imputer = MissForest(n_jobs=-1, random_state=i)\n",
    "    imputed = imputer.fit_transform(data_missing_nans)\n",
    "    scores = utils.get_scores(imputed, y)\n",
    "    acc = scores['test_balanced_accuracy']\n",
    "    auc = scores['test_roc_auc_ovo']\n",
    "    print(f'\\nMISSFOREST RUN {i + 1}/{n_runs} - acc: {round(acc.mean() * 100, 2)}% +- {round(acc.std() * 100, 2)}% - ' +\n",
    "          f'auc: {round(auc.mean() * 100, 2)}% +- {round(auc.std() * 100, 2)}%\\n')\n",
    "    miss_accs.append(acc.mean())\n",
    "    miss_aucs.append(auc.mean())\n",
    "print(f'\\nMISSFOREST GLOBAL - acc: {round(np.array(miss_accs).mean() * 100, 2)}% +- {round(np.array(miss_accs).std() * 100, 2)}% - ' +\n",
    "      f'auc: {round(np.array(miss_aucs).mean() * 100, 2)}% +- {round(np.array(miss_aucs).std() * 100, 2)}%')"
   ]
  },
  {
   "cell_type": "markdown",
   "metadata": {},
   "source": [
    "## Run SOFTIMPUTE"
   ]
  },
  {
   "cell_type": "code",
   "execution_count": 9,
   "metadata": {
    "ExecuteTime": {
     "end_time": "2022-06-03T15:23:05.491327Z",
     "start_time": "2022-06-03T15:23:05.491318Z"
    },
    "execution": {
     "iopub.execute_input": "2022-06-04T08:48:01.950808Z",
     "iopub.status.busy": "2022-06-04T08:48:01.950321Z",
     "iopub.status.idle": "2022-06-04T08:48:03.258224Z",
     "shell.execute_reply": "2022-06-04T08:48:03.258654Z"
    }
   },
   "outputs": [
    {
     "name": "stdout",
     "output_type": "stream",
     "text": [
      "SOFTIMPUTE RUN 1/10 - acc: 78.77% +- 0.82% - auc: 83.05% +- 2.04%\n",
      "SOFTIMPUTE RUN 2/10 - acc: 78.55% +- 2.86% - auc: 83.52% +- 2.82%\n",
      "SOFTIMPUTE RUN 3/10 - acc: 76.59% +- 3.0% - auc: 83.29% +- 2.56%\n",
      "SOFTIMPUTE RUN 4/10 - acc: 78.56% +- 3.7% - auc: 85.77% +- 3.22%\n",
      "SOFTIMPUTE RUN 5/10 - acc: 80.26% +- 3.59% - auc: 86.47% +- 3.05%\n",
      "SOFTIMPUTE RUN 6/10 - acc: 79.9% +- 3.66% - auc: 85.88% +- 3.77%\n",
      "SOFTIMPUTE RUN 7/10 - acc: 78.14% +- 2.75% - auc: 84.95% +- 1.79%\n",
      "SOFTIMPUTE RUN 8/10 - acc: 80.19% +- 4.27% - auc: 84.11% +- 2.76%\n",
      "SOFTIMPUTE RUN 9/10 - acc: 81.01% +- 2.8% - auc: 86.81% +- 3.27%\n",
      "SOFTIMPUTE RUN 10/10 - acc: 76.99% +- 3.19% - auc: 82.83% +- 2.37%\n",
      "\n",
      "SOFTIMPUTE GLOBAL - acc: 78.89% +- 1.37% - auc: 84.67% +- 1.42%\n"
     ]
    }
   ],
   "source": [
    "soft_accs, soft_aucs = [], []\n",
    "for i in range(n_runs):\n",
    "    random.seed(i)\n",
    "    np.random.seed(i)\n",
    "    torch.manual_seed(i)\n",
    "    imputer = SoftImpute(random_state=i)\n",
    "    imputer.fit(data_missing_nans)\n",
    "    imputed = imputer.predict(data_missing_nans)\n",
    "    imputed = np.where(missing_mask, data_missing, imputed)\n",
    "    scores = utils.get_scores(imputed, y)\n",
    "    acc = scores['test_balanced_accuracy']\n",
    "    auc = scores['test_roc_auc_ovo']\n",
    "    print(f'SOFTIMPUTE RUN {i + 1}/{n_runs} - acc: {round(acc.mean() * 100, 2)}% +- {round(acc.std() * 100, 2)}% - ' +\n",
    "          f'auc: {round(auc.mean() * 100, 2)}% +- {round(auc.std() * 100, 2)}%')\n",
    "    soft_accs.append(acc.mean())\n",
    "    soft_aucs.append(auc.mean())\n",
    "print(f'\\nSOFTIMPUTE GLOBAL - acc: {round(np.array(soft_accs).mean() * 100, 2)}% +- {round(np.array(soft_accs).std() * 100, 2)}% - ' +\n",
    "      f'auc: {round(np.array(soft_aucs).mean() * 100, 2)}% +- {round(np.array(soft_aucs).std() * 100, 2)}%')"
   ]
  },
  {
   "cell_type": "markdown",
   "metadata": {},
   "source": [
    "## Run SINKHORN"
   ]
  },
  {
   "cell_type": "code",
   "execution_count": 10,
   "metadata": {
    "ExecuteTime": {
     "end_time": "2022-06-03T15:23:05.491915Z",
     "start_time": "2022-06-03T15:23:05.491906Z"
    },
    "execution": {
     "iopub.execute_input": "2022-06-04T08:48:03.265794Z",
     "iopub.status.busy": "2022-06-04T08:48:03.265369Z",
     "iopub.status.idle": "2022-06-04T08:54:12.602979Z",
     "shell.execute_reply": "2022-06-04T08:54:12.603404Z"
    }
   },
   "outputs": [
    {
     "name": "stdout",
     "output_type": "stream",
     "text": [
      "batchsize = 128, epsilon = 0.0100\n",
      "Iteration 0:\t Loss: 1.6442\n",
      "\n",
      "SINKHORN RUN 1/10 - acc: 78.33% +- 2.41% - auc: 84.02% +- 2.98%\n",
      "\n",
      "batchsize = 128, epsilon = 0.0100\n",
      "Iteration 0:\t Loss: 1.5952\n",
      "\n",
      "SINKHORN RUN 2/10 - acc: 80.98% +- 2.89% - auc: 85.88% +- 2.92%\n",
      "\n",
      "batchsize = 128, epsilon = 0.0100\n",
      "Iteration 0:\t Loss: 1.5867\n",
      "\n",
      "SINKHORN RUN 3/10 - acc: 80.95% +- 5.53% - auc: 86.94% +- 2.19%\n",
      "\n",
      "batchsize = 128, epsilon = 0.0100\n",
      "Iteration 0:\t Loss: 1.4959\n",
      "\n",
      "SINKHORN RUN 4/10 - acc: 79.33% +- 0.32% - auc: 85.05% +- 2.66%\n",
      "\n",
      "batchsize = 128, epsilon = 0.0100\n",
      "Iteration 0:\t Loss: 1.7346\n",
      "\n",
      "SINKHORN RUN 5/10 - acc: 76.98% +- 3.27% - auc: 82.63% +- 3.35%\n",
      "\n",
      "batchsize = 128, epsilon = 0.0100\n",
      "Iteration 0:\t Loss: 1.6709\n",
      "\n",
      "SINKHORN RUN 6/10 - acc: 77.6% +- 3.49% - auc: 83.32% +- 2.23%\n",
      "\n",
      "batchsize = 128, epsilon = 0.0100\n",
      "Iteration 0:\t Loss: 1.5279\n",
      "\n",
      "SINKHORN RUN 7/10 - acc: 79.93% +- 5.99% - auc: 85.67% +- 4.09%\n",
      "\n",
      "batchsize = 128, epsilon = 0.0100\n",
      "Iteration 0:\t Loss: 1.5654\n",
      "\n",
      "SINKHORN RUN 8/10 - acc: 78.39% +- 6.04% - auc: 85.25% +- 3.88%\n",
      "\n",
      "batchsize = 128, epsilon = 0.0100\n",
      "Iteration 0:\t Loss: 1.5788\n",
      "\n",
      "SINKHORN RUN 9/10 - acc: 77.54% +- 4.06% - auc: 82.54% +- 3.95%\n",
      "\n",
      "batchsize = 128, epsilon = 0.0100\n",
      "Iteration 0:\t Loss: 1.5361\n",
      "\n",
      "SINKHORN RUN 10/10 - acc: 79.06% +- 2.5% - auc: 84.33% +- 3.19%\n",
      "\n",
      "\n",
      "SINKHORN GLOBAL - acc: 78.91% +- 1.33% - auc: 84.56% +- 1.38%\n"
     ]
    }
   ],
   "source": [
    "sink_accs, sink_aucs = [], []\n",
    "for i in range(n_runs):\n",
    "    random.seed(i)\n",
    "    np.random.seed(i)\n",
    "    torch.manual_seed(i)\n",
    "    imputer = OTimputer(niter=500)\n",
    "    imputed = imputer.fit_transform(data_missing_nans).cpu().detach().numpy()\n",
    "    scores = utils.get_scores(imputed, y)\n",
    "    acc = scores['test_balanced_accuracy']\n",
    "    auc = scores['test_roc_auc_ovo']\n",
    "    print(f'\\nSINKHORN RUN {i + 1}/{n_runs} - acc: {round(acc.mean() * 100, 2)}% +- {round(acc.std() * 100, 2)}% - ' +\n",
    "          f'auc: {round(auc.mean() * 100, 2)}% +- {round(auc.std() * 100, 2)}%\\n')\n",
    "    sink_accs.append(acc.mean())\n",
    "    sink_aucs.append(auc.mean())\n",
    "print(f'\\nSINKHORN GLOBAL - acc: {round(np.array(sink_accs).mean() * 100, 2)}% +- {round(np.array(sink_accs).std() * 100, 2)}% - ' +\n",
    "      f'auc: {round(np.array(sink_aucs).mean() * 100, 2)}% +- {round(np.array(sink_aucs).std() * 100, 2)}%')"
   ]
  },
  {
   "cell_type": "markdown",
   "metadata": {},
   "source": [
    "## Run MIDA"
   ]
  },
  {
   "cell_type": "code",
   "execution_count": 11,
   "metadata": {
    "ExecuteTime": {
     "end_time": "2022-06-03T15:23:05.492695Z",
     "start_time": "2022-06-03T15:23:05.492686Z"
    },
    "execution": {
     "iopub.execute_input": "2022-06-04T08:54:12.609771Z",
     "iopub.status.busy": "2022-06-04T08:54:12.605920Z",
     "iopub.status.idle": "2022-06-04T08:59:54.200306Z",
     "shell.execute_reply": "2022-06-04T08:59:54.199823Z"
    }
   },
   "outputs": [
    {
     "name": "stdout",
     "output_type": "stream",
     "text": [
      "Stop training at epoch: 1500/1500, return best output\n",
      "\n",
      "MIDA RUN 1/10 - acc: 78.72% +- 5.53% - auc: 84.04% +- 3.68%\n",
      "\n",
      "Stop training at epoch: 1500/1500, return best output\n",
      "\n",
      "MIDA RUN 2/10 - acc: 79.98% +- 6.27% - auc: 84.26% +- 5.72%\n",
      "\n",
      "Stop training at epoch: 1500/1500, return best output\n",
      "\n",
      "MIDA RUN 3/10 - acc: 79.51% +- 4.89% - auc: 87.05% +- 4.13%\n",
      "\n",
      "Stop training at epoch: 1500/1500, return best output\n",
      "\n",
      "MIDA RUN 4/10 - acc: 77.45% +- 4.33% - auc: 85.17% +- 3.81%\n",
      "\n",
      "Stop training at epoch: 1500/1500, return best output\n",
      "\n",
      "MIDA RUN 5/10 - acc: 78.89% +- 5.73% - auc: 83.85% +- 4.2%\n",
      "\n",
      "Stop training at epoch: 1500/1500, return best output\n",
      "\n",
      "MIDA RUN 6/10 - acc: 79.38% +- 5.52% - auc: 85.48% +- 2.84%\n",
      "\n",
      "Stop training at epoch: 1500/1500, return best output\n",
      "\n",
      "MIDA RUN 7/10 - acc: 76.99% +- 3.28% - auc: 83.27% +- 2.71%\n",
      "\n",
      "Stop training at epoch: 1500/1500, return best output\n",
      "\n",
      "MIDA RUN 8/10 - acc: 79.28% +- 3.86% - auc: 84.19% +- 3.36%\n",
      "\n",
      "Stop training at epoch: 1500/1500, return best output\n",
      "\n",
      "MIDA RUN 9/10 - acc: 80.16% +- 5.6% - auc: 85.33% +- 4.84%\n",
      "\n",
      "Stop training at epoch: 1500/1500, return best output\n",
      "\n",
      "MIDA RUN 10/10 - acc: 78.87% +- 5.04% - auc: 85.05% +- 3.72%\n",
      "\n",
      "\n",
      "MIDA GLOBAL - acc: 78.93% +- 0.96% - auc: 84.77% +- 1.02%\n"
     ]
    }
   ],
   "source": [
    "mida_accs, mida_aucs = [], []\n",
    "for i in range(n_runs):\n",
    "    random.seed(i)\n",
    "    np.random.seed(i)\n",
    "    torch.manual_seed(i)\n",
    "    imputed = mida(data_missing_nans, num_layers=2, num_epochs=1500)\n",
    "    imputed = np.where(missing_mask, data_missing, imputed)\n",
    "    scores = utils.get_scores(imputed, y)\n",
    "    acc = scores['test_balanced_accuracy']\n",
    "    auc = scores['test_roc_auc_ovo']\n",
    "    print(f'\\nMIDA RUN {i + 1}/{n_runs} - acc: {round(acc.mean() * 100, 2)}% +- {round(acc.std() * 100, 2)}% - ' +\n",
    "          f'auc: {round(auc.mean() * 100, 2)}% +- {round(auc.std() * 100, 2)}%\\n')\n",
    "    mida_accs.append(acc.mean())\n",
    "    mida_aucs.append(auc.mean())\n",
    "print(f'\\nMIDA GLOBAL - acc: {round(np.array(mida_accs).mean() * 100, 2)}% +- {round(np.array(mida_accs).std() * 100, 2)}% - ' +\n",
    "      f'auc: {round(np.array(mida_aucs).mean() * 100, 2)}% +- {round(np.array(mida_aucs).std() * 100, 2)}%')"
   ]
  },
  {
   "cell_type": "markdown",
   "metadata": {},
   "source": [
    "## Run T-tests"
   ]
  },
  {
   "cell_type": "code",
   "execution_count": 12,
   "metadata": {
    "ExecuteTime": {
     "end_time": "2022-06-03T15:23:05.493389Z",
     "start_time": "2022-06-03T15:23:05.493380Z"
    },
    "execution": {
     "iopub.execute_input": "2022-06-04T08:59:54.213491Z",
     "iopub.status.busy": "2022-06-04T08:59:54.212896Z",
     "iopub.status.idle": "2022-06-04T08:59:54.217060Z",
     "shell.execute_reply": "2022-06-04T08:59:54.216558Z"
    },
    "scrolled": false
   },
   "outputs": [
    {
     "name": "stdout",
     "output_type": "stream",
     "text": [
      "Metric ACC - OUR METHOD is even with MEDIAN\n",
      "Metric AUC - OUR METHOD is significantly better than MEDIAN\n",
      "Metric ACC - OUR METHOD is significantly better than MEAN\n",
      "Metric AUC - OUR METHOD is even with MEAN\n",
      "Metric ACC - OUR METHOD is significantly worse than KNN\n",
      "Metric AUC - OUR METHOD is significantly better than KNN\n",
      "Metric ACC - OUR METHOD is significantly better than GAIN\n",
      "Metric AUC - OUR METHOD is significantly better than GAIN\n",
      "Metric ACC - OUR METHOD is significantly better than MICE\n",
      "Metric AUC - OUR METHOD is significantly better than MICE\n",
      "Metric ACC - OUR METHOD is even with MISS\n",
      "Metric AUC - OUR METHOD is significantly better than MISS\n",
      "Metric ACC - OUR METHOD is significantly better than SOFT\n",
      "Metric AUC - OUR METHOD is significantly better than SOFT\n",
      "Metric ACC - OUR METHOD is significantly better than SINK\n",
      "Metric AUC - OUR METHOD is significantly better than SINK\n",
      "Metric ACC - OUR METHOD is significantly better than MIDA\n",
      "Metric AUC - OUR METHOD is significantly better than MIDA\n"
     ]
    }
   ],
   "source": [
    "for model, metrics in {\n",
    "        'MEDIAN': {'ACC': median_accs, 'AUC': median_aucs},\n",
    "        'MEAN': {'ACC': mean_accs, 'AUC': mean_aucs},\n",
    "        'KNN': {'ACC': knn_accs, 'AUC': knn_aucs},\n",
    "        'GAIN': {'ACC': gain_accs, 'AUC': gain_aucs},\n",
    "        'MICE': {'ACC': mice_accs, 'AUC': mice_aucs},\n",
    "        'MISS': {'ACC': miss_accs, 'AUC': miss_aucs},\n",
    "        'SOFT': {'ACC': soft_accs, 'AUC': soft_aucs},\n",
    "        'SINK': {'ACC': sink_accs, 'AUC': sink_aucs},\n",
    "        'MIDA': {'ACC': mida_accs, 'AUC': mida_aucs}}.items():\n",
    "    for metric_name, metric in metrics.items():\n",
    "        ours_metric = ours_accs if metric_name == 'ACC' else ours_aucs\n",
    "        t, p = scipy.stats.ttest_ind(np.array(ours_metric), np.array(metric))\n",
    "        if p <= .05:\n",
    "            if t > 0:\n",
    "                ## Our method is better\n",
    "                print(f'Metric {metric_name} - OUR METHOD is significantly better than {model}')\n",
    "            else:\n",
    "                ## Theirs is better\n",
    "                print(f'Metric {metric_name} - OUR METHOD is significantly worse than {model}')\n",
    "        else:\n",
    "            ## Else we are even\n",
    "            print(f'Metric {metric_name} - OUR METHOD is even with {model}')"
   ]
  }
 ],
 "metadata": {
  "kernelspec": {
   "display_name": "Python 3 (ipykernel)",
   "language": "python",
   "name": "python3"
  },
  "language_info": {
   "codemirror_mode": {
    "name": "ipython",
    "version": 3
   },
   "file_extension": ".py",
   "mimetype": "text/x-python",
   "name": "python",
   "nbconvert_exporter": "python",
   "pygments_lexer": "ipython3",
   "version": "3.9.7"
  },
  "latex_envs": {
   "LaTeX_envs_menu_present": true,
   "autoclose": false,
   "autocomplete": true,
   "bibliofile": "biblio.bib",
   "cite_by": "apalike",
   "current_citInitial": 1,
   "eqLabelWithNumbers": true,
   "eqNumInitial": 1,
   "hotkeys": {
    "equation": "Ctrl-E",
    "itemize": "Ctrl-I"
   },
   "labels_anchors": false,
   "latex_user_defs": false,
   "report_style_numbering": false,
   "user_envs_cfg": false
  }
 },
 "nbformat": 4,
 "nbformat_minor": 2
}
