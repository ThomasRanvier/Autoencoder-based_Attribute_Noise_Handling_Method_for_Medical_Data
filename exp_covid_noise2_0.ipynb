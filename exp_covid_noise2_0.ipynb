{
 "cells": [
  {
   "cell_type": "code",
   "execution_count": 1,
   "metadata": {
    "ExecuteTime": {
     "end_time": "2022-06-07T08:11:39.412870Z",
     "start_time": "2022-06-07T08:11:35.692131Z"
    },
    "execution": {
     "iopub.execute_input": "2022-06-07T09:15:11.416835Z",
     "iopub.status.busy": "2022-06-07T09:15:11.415165Z",
     "iopub.status.idle": "2022-06-07T09:15:15.962802Z",
     "shell.execute_reply": "2022-06-07T09:15:15.963898Z"
    }
   },
   "outputs": [],
   "source": [
    "from __future__ import print_function\n",
    "import warnings\n",
    "warnings.filterwarnings('ignore')\n",
    "## Disable tf future deprecated messages\n",
    "import logging\n",
    "logging.getLogger('tensorflow').disabled = True\n",
    "## Disable tf CUDA messages\n",
    "import os\n",
    "os.environ['TF_CPP_MIN_LOG_LEVEL'] = '3'\n",
    "\n",
    "%matplotlib inline\n",
    "\n",
    "import sys\n",
    "import random\n",
    "import numpy as np\n",
    "import pandas as pd\n",
    "\n",
    "import utils\n",
    "import correction\n",
    "from models.dense import *\n",
    "from models.gain import gain\n",
    "from models.soft_impute import SoftImpute\n",
    "from models.sinkhorn import OTimputer\n",
    "from models.mida import mida\n",
    "from models.polishing import polishing\n",
    "from models.filtering import filtering\n",
    "\n",
    "import scipy.stats\n",
    "\n",
    "from sklearn.experimental import enable_iterative_imputer\n",
    "from sklearn.impute import IterativeImputer\n",
    "from sklearn.impute import KNNImputer, SimpleImputer\n",
    "\n",
    "import sklearn.neighbors._base\n",
    "sys.modules['sklearn.neighbors.base'] = sklearn.neighbors._base\n",
    "from missingpy import MissForest\n",
    "\n",
    "torch.backends.cudnn.enabled = True\n",
    "torch.backends.cudnn.benchmark = True\n",
    "dtype = torch.cuda.FloatTensor"
   ]
  },
  {
   "cell_type": "markdown",
   "metadata": {},
   "source": [
    "## Repeat all experiments for 10 runs"
   ]
  },
  {
   "cell_type": "code",
   "execution_count": 2,
   "metadata": {
    "ExecuteTime": {
     "end_time": "2022-06-07T08:11:39.417491Z",
     "start_time": "2022-06-07T08:11:39.415081Z"
    },
    "execution": {
     "iopub.execute_input": "2022-06-07T09:15:15.970021Z",
     "iopub.status.busy": "2022-06-07T09:15:15.968875Z",
     "iopub.status.idle": "2022-06-07T09:15:15.971123Z",
     "shell.execute_reply": "2022-06-07T09:15:15.971978Z"
    }
   },
   "outputs": [],
   "source": [
    "n_runs = 10"
   ]
  },
  {
   "cell_type": "markdown",
   "metadata": {},
   "source": [
    "## Load data"
   ]
  },
  {
   "cell_type": "code",
   "execution_count": 3,
   "metadata": {
    "ExecuteTime": {
     "end_time": "2022-06-07T08:11:41.218694Z",
     "start_time": "2022-06-07T08:11:39.419632Z"
    },
    "execution": {
     "iopub.execute_input": "2022-06-07T09:15:15.977262Z",
     "iopub.status.busy": "2022-06-07T09:15:15.976230Z",
     "iopub.status.idle": "2022-06-07T09:15:18.217021Z",
     "shell.execute_reply": "2022-06-07T09:15:18.216636Z"
    }
   },
   "outputs": [
    {
     "name": "stdout",
     "output_type": "stream",
     "text": [
      "Dataset shape: (361, 80)\n",
      "19.75% missing data\n",
      "Class distribution: (array([0, 1]), array([195, 166]))\n"
     ]
    }
   ],
   "source": [
    "data_missing, missing_mask, y = utils.load_covid()\n",
    "## Inject noise\n",
    "data_missing = utils.inject_noise(data_missing.copy(), noise_rate=0.)\n",
    "## Replace missing values locations by 0\n",
    "data_missing = data_missing * missing_mask"
   ]
  },
  {
   "cell_type": "markdown",
   "metadata": {},
   "source": [
    "## Run OUR METHOD"
   ]
  },
  {
   "cell_type": "code",
   "execution_count": 4,
   "metadata": {
    "ExecuteTime": {
     "end_time": "2022-06-07T08:25:41.124140Z",
     "start_time": "2022-06-07T08:11:41.222736Z"
    },
    "execution": {
     "iopub.execute_input": "2022-06-07T09:15:18.225136Z",
     "iopub.status.busy": "2022-06-07T09:15:18.224702Z",
     "iopub.status.idle": "2022-06-07T09:34:31.281231Z",
     "shell.execute_reply": "2022-06-07T09:34:31.281547Z"
    },
    "scrolled": false
   },
   "outputs": [
    {
     "name": "stdout",
     "output_type": "stream",
     "text": [
      "Ite 00000 - 0.98 sec - Loss 0.105701 - ACC 83.54% - ACC Mean 83.54% - AUC 90.79% - AUC Mean 90.79% - Deter 000\n",
      "Ite 00050 - 0.13 sec - Loss 0.098855 - ACC 83.21% - ACC Mean 83.93% - AUC 90.42% - AUC Mean 90.70% - Deter 042\n",
      "Ite 00100 - 0.09 sec - Loss 0.081510 - ACC 84.40% - ACC Mean 84.24% - AUC 90.86% - AUC Mean 90.56% - Deter 092\n",
      "Ite 00150 - 0.10 sec - Loss 0.051500 - ACC 84.82% - ACC Mean 83.64% - AUC 91.07% - AUC Mean 90.68% - Deter 142\n",
      "Ite 00200 - 0.10 sec - Loss 0.031194 - ACC 84.25% - ACC Mean 84.47% - AUC 92.13% - AUC Mean 91.57% - Deter 000\n",
      "Ite 00250 - 0.10 sec - Loss 0.024782 - ACC 83.39% - ACC Mean 84.18% - AUC 91.84% - AUC Mean 91.68% - Deter 050\n",
      "Ite 00300 - 0.11 sec - Loss 0.022782 - ACC 83.41% - ACC Mean 83.96% - AUC 90.89% - AUC Mean 91.47% - Deter 100\n",
      "Ite 00350 - 0.10 sec - Loss 0.021857 - ACC 87.47% - ACC Mean 84.31% - AUC 92.58% - AUC Mean 91.57% - Deter 000\n",
      "Ite 00400 - 0.11 sec - Loss 0.021241 - ACC 85.00% - ACC Mean 84.89% - AUC 92.42% - AUC Mean 92.09% - Deter 006\n",
      "Ite 00450 - 0.09 sec - Loss 0.020683 - ACC 84.91% - ACC Mean 85.40% - AUC 92.05% - AUC Mean 92.40% - Deter 056\n",
      "Ite 00500 - 0.09 sec - Loss 0.020072 - ACC 85.36% - ACC Mean 85.97% - AUC 92.14% - AUC Mean 92.40% - Deter 106\n",
      "Ite 00550 - 0.09 sec - Loss 0.019408 - ACC 85.26% - ACC Mean 86.20% - AUC 92.13% - AUC Mean 92.22% - Deter 156\n",
      "Ite 00600 - 0.16 sec - Loss 0.018648 - ACC 85.86% - ACC Mean 85.91% - AUC 92.16% - AUC Mean 92.28% - Deter 005\n",
      "Ite 00650 - 0.09 sec - Loss 0.017875 - ACC 84.87% - ACC Mean 85.61% - AUC 92.29% - AUC Mean 91.93% - Deter 055\n",
      "Ite 00700 - 0.09 sec - Loss 0.017108 - ACC 87.08% - ACC Mean 85.95% - AUC 91.85% - AUC Mean 91.68% - Deter 105\n",
      "Ite 00750 - 0.09 sec - Loss 0.016422 - ACC 87.04% - ACC Mean 85.73% - AUC 91.71% - AUC Mean 91.62% - Deter 155\n",
      "Ite 00800 - 0.10 sec - Loss 0.015776 - ACC 84.87% - ACC Mean 85.62% - AUC 92.56% - AUC Mean 91.77% - Deter 205\n",
      "Ite 00850 - 0.17 sec - Loss 0.015174 - ACC 86.67% - ACC Mean 86.01% - AUC 94.17% - AUC Mean 92.23% - Deter 255\n",
      "Ite 00900 - 0.15 sec - Loss 0.014625 - ACC 86.38% - ACC Mean 85.94% - AUC 92.18% - AUC Mean 92.37% - Deter 305\n",
      "Ite 00950 - 0.09 sec - Loss 0.014128 - ACC 85.83% - ACC Mean 85.41% - AUC 92.36% - AUC Mean 92.26% - Deter 355\n",
      "Ite 00995 - 0.09 sec - Loss 0.013721 - ACC 86.13% - ACC Mean 85.65% - AUC 92.69% - AUC Mean 92.32% - Deter 400\n",
      "Early stop ite 995, rollback to correction of ite 595, whith acc of 88.72% and auc of 94.64%\n",
      "OUR METHOD RUN 1/10 - acc: 88.72% +- 0.0% - auc: 94.64% +- 0.0%\n",
      "Ite 00000 - 0.11 sec - Loss 0.104928 - ACC 85.62% - ACC Mean 85.62% - AUC 90.35% - AUC Mean 90.35% - Deter 000\n",
      "Ite 00050 - 0.10 sec - Loss 0.098121 - ACC 82.52% - ACC Mean 84.78% - AUC 89.50% - AUC Mean 90.33% - Deter 010\n",
      "Ite 00100 - 0.10 sec - Loss 0.082113 - ACC 84.15% - ACC Mean 83.93% - AUC 90.71% - AUC Mean 90.22% - Deter 013\n",
      "Ite 00150 - 0.09 sec - Loss 0.052365 - ACC 83.79% - ACC Mean 83.95% - AUC 90.81% - AUC Mean 90.42% - Deter 063\n",
      "Ite 00200 - 0.10 sec - Loss 0.031629 - ACC 84.67% - ACC Mean 84.33% - AUC 91.46% - AUC Mean 91.33% - Deter 009\n",
      "Ite 00250 - 0.19 sec - Loss 0.025071 - ACC 85.07% - ACC Mean 84.60% - AUC 91.99% - AUC Mean 91.63% - Deter 043\n",
      "Ite 00300 - 0.09 sec - Loss 0.023162 - ACC 85.00% - ACC Mean 84.19% - AUC 91.40% - AUC Mean 91.70% - Deter 046\n",
      "Ite 00350 - 0.18 sec - Loss 0.022391 - ACC 84.70% - ACC Mean 84.44% - AUC 91.27% - AUC Mean 91.29% - Deter 096\n",
      "Ite 00400 - 0.14 sec - Loss 0.021921 - ACC 84.60% - ACC Mean 84.33% - AUC 92.13% - AUC Mean 91.33% - Deter 000\n",
      "Ite 00450 - 0.20 sec - Loss 0.021553 - ACC 84.09% - ACC Mean 84.15% - AUC 90.74% - AUC Mean 91.14% - Deter 050\n",
      "Ite 00500 - 0.09 sec - Loss 0.021150 - ACC 84.16% - ACC Mean 83.91% - AUC 91.30% - AUC Mean 91.09% - Deter 100\n",
      "Ite 00550 - 0.09 sec - Loss 0.020709 - ACC 83.95% - ACC Mean 83.97% - AUC 91.50% - AUC Mean 91.37% - Deter 150\n",
      "Ite 00600 - 0.09 sec - Loss 0.020089 - ACC 85.63% - ACC Mean 84.29% - AUC 91.43% - AUC Mean 91.39% - Deter 200\n",
      "Ite 00650 - 0.10 sec - Loss 0.019344 - ACC 85.63% - ACC Mean 84.95% - AUC 91.43% - AUC Mean 91.54% - Deter 003\n",
      "Ite 00700 - 0.09 sec - Loss 0.018497 - ACC 85.63% - ACC Mean 85.06% - AUC 91.48% - AUC Mean 91.46% - Deter 053\n",
      "Ite 00750 - 0.09 sec - Loss 0.017669 - ACC 85.07% - ACC Mean 84.52% - AUC 91.31% - AUC Mean 91.39% - Deter 103\n",
      "Ite 00800 - 0.09 sec - Loss 0.016859 - ACC 84.60% - ACC Mean 84.31% - AUC 91.39% - AUC Mean 91.43% - Deter 153\n",
      "Ite 00850 - 0.39 sec - Loss 0.016119 - ACC 84.29% - ACC Mean 84.69% - AUC 91.52% - AUC Mean 91.44% - Deter 203\n",
      "Ite 00900 - 0.19 sec - Loss 0.015483 - ACC 83.74% - ACC Mean 85.10% - AUC 92.44% - AUC Mean 91.69% - Deter 006\n",
      "Ite 00950 - 0.13 sec - Loss 0.014930 - ACC 85.14% - ACC Mean 85.07% - AUC 91.22% - AUC Mean 91.81% - Deter 027\n",
      "Ite 01000 - 0.10 sec - Loss 0.014422 - ACC 85.30% - ACC Mean 84.91% - AUC 91.09% - AUC Mean 91.72% - Deter 077\n",
      "Ite 01050 - 0.09 sec - Loss 0.013996 - ACC 86.51% - ACC Mean 85.20% - AUC 92.32% - AUC Mean 91.87% - Deter 127\n",
      "Ite 01100 - 0.10 sec - Loss 0.013589 - ACC 86.48% - ACC Mean 85.39% - AUC 92.56% - AUC Mean 92.12% - Deter 177\n",
      "Ite 01150 - 0.09 sec - Loss 0.013203 - ACC 86.16% - ACC Mean 85.88% - AUC 92.41% - AUC Mean 92.20% - Deter 227\n",
      "Ite 01200 - 0.08 sec - Loss 0.012862 - ACC 87.56% - ACC Mean 86.86% - AUC 92.93% - AUC Mean 92.77% - Deter 002\n",
      "Ite 01250 - 0.10 sec - Loss 0.012559 - ACC 86.26% - ACC Mean 87.06% - AUC 92.56% - AUC Mean 92.74% - Deter 052\n",
      "Ite 01300 - 0.09 sec - Loss 0.012265 - ACC 88.88% - ACC Mean 87.28% - AUC 93.30% - AUC Mean 92.88% - Deter 102\n",
      "Ite 01350 - 0.10 sec - Loss 0.011991 - ACC 87.70% - ACC Mean 86.87% - AUC 93.61% - AUC Mean 92.62% - Deter 152\n",
      "Ite 01400 - 0.09 sec - Loss 0.011735 - ACC 87.68% - ACC Mean 86.70% - AUC 93.85% - AUC Mean 92.64% - Deter 202\n",
      "Ite 01450 - 0.08 sec - Loss 0.011484 - ACC 86.71% - ACC Mean 86.69% - AUC 94.25% - AUC Mean 92.99% - Deter 024\n",
      "Ite 01500 - 0.10 sec - Loss 0.011220 - ACC 85.33% - ACC Mean 86.13% - AUC 93.09% - AUC Mean 92.56% - Deter 074\n",
      "Ite 01550 - 0.09 sec - Loss 0.010949 - ACC 85.53% - ACC Mean 86.64% - AUC 91.45% - AUC Mean 92.63% - Deter 124\n",
      "Ite 01600 - 0.16 sec - Loss 0.010693 - ACC 86.73% - ACC Mean 86.39% - AUC 92.78% - AUC Mean 92.42% - Deter 174\n",
      "Ite 01650 - 0.09 sec - Loss 0.010455 - ACC 87.42% - ACC Mean 86.46% - AUC 92.41% - AUC Mean 92.61% - Deter 224\n",
      "Ite 01700 - 0.09 sec - Loss 0.010209 - ACC 86.83% - ACC Mean 85.85% - AUC 92.86% - AUC Mean 92.37% - Deter 274\n",
      "Ite 01750 - 0.09 sec - Loss 0.009991 - ACC 84.86% - ACC Mean 85.93% - AUC 92.89% - AUC Mean 92.42% - Deter 324\n",
      "Ite 01800 - 0.10 sec - Loss 0.009773 - ACC 85.98% - ACC Mean 86.19% - AUC 92.86% - AUC Mean 92.52% - Deter 374\n",
      "Ite 01826 - 0.09 sec - Loss 0.009678 - ACC 85.77% - ACC Mean 86.00% - AUC 92.18% - AUC Mean 92.55% - Deter 400\n",
      "Early stop ite 1826, rollback to correction of ite 1426, whith acc of 88.97% and auc of 94.74%\n",
      "OUR METHOD RUN 2/10 - acc: 88.97% +- 0.0% - auc: 94.74% +- 0.0%\n",
      "Ite 00000 - 0.58 sec - Loss 0.104005 - ACC 85.31% - ACC Mean 85.31% - AUC 90.24% - AUC Mean 90.24% - Deter 000\n",
      "Ite 00050 - 0.10 sec - Loss 0.098025 - ACC 85.27% - ACC Mean 85.02% - AUC 90.74% - AUC Mean 90.58% - Deter 031\n",
      "Ite 00100 - 0.09 sec - Loss 0.082832 - ACC 84.66% - ACC Mean 84.78% - AUC 90.16% - AUC Mean 90.41% - Deter 081\n",
      "Ite 00150 - 0.09 sec - Loss 0.053651 - ACC 84.21% - ACC Mean 83.97% - AUC 90.55% - AUC Mean 90.54% - Deter 131\n",
      "Ite 00200 - 0.10 sec - Loss 0.032521 - ACC 83.60% - ACC Mean 85.05% - AUC 90.74% - AUC Mean 91.13% - Deter 001\n",
      "Ite 00250 - 0.09 sec - Loss 0.025379 - ACC 85.12% - ACC Mean 85.16% - AUC 91.19% - AUC Mean 91.27% - Deter 051\n",
      "Ite 00300 - 0.10 sec - Loss 0.023085 - ACC 85.07% - ACC Mean 85.14% - AUC 91.35% - AUC Mean 91.52% - Deter 101\n",
      "Ite 00350 - 0.11 sec - Loss 0.022119 - ACC 85.68% - ACC Mean 84.93% - AUC 91.59% - AUC Mean 91.67% - Deter 007\n",
      "Ite 00400 - 0.10 sec - Loss 0.021536 - ACC 84.91% - ACC Mean 85.39% - AUC 91.47% - AUC Mean 91.87% - Deter 057\n",
      "Ite 00450 - 0.41 sec - Loss 0.021051 - ACC 85.98% - ACC Mean 85.90% - AUC 92.51% - AUC Mean 91.80% - Deter 002\n",
      "Ite 00500 - 0.10 sec - Loss 0.020564 - ACC 86.24% - ACC Mean 85.86% - AUC 91.83% - AUC Mean 91.61% - Deter 052\n",
      "Ite 00550 - 0.09 sec - Loss 0.020059 - ACC 85.02% - ACC Mean 85.26% - AUC 91.05% - AUC Mean 91.44% - Deter 102\n",
      "Ite 00600 - 0.09 sec - Loss 0.019447 - ACC 85.37% - ACC Mean 84.69% - AUC 91.88% - AUC Mean 91.24% - Deter 152\n",
      "Ite 00650 - 0.09 sec - Loss 0.018790 - ACC 85.14% - ACC Mean 84.68% - AUC 90.28% - AUC Mean 90.89% - Deter 002\n",
      "Ite 00700 - 0.17 sec - Loss 0.018092 - ACC 84.18% - ACC Mean 83.97% - AUC 89.95% - AUC Mean 90.91% - Deter 052\n",
      "Ite 00750 - 0.19 sec - Loss 0.017442 - ACC 84.05% - ACC Mean 84.44% - AUC 90.56% - AUC Mean 90.79% - Deter 102\n",
      "Ite 00800 - 0.09 sec - Loss 0.016828 - ACC 83.34% - ACC Mean 84.35% - AUC 90.36% - AUC Mean 90.74% - Deter 152\n",
      "Ite 00850 - 0.09 sec - Loss 0.016284 - ACC 82.67% - ACC Mean 85.00% - AUC 90.47% - AUC Mean 90.83% - Deter 202\n",
      "Ite 00900 - 0.10 sec - Loss 0.015799 - ACC 86.68% - ACC Mean 85.17% - AUC 91.17% - AUC Mean 91.03% - Deter 252\n",
      "Ite 00950 - 0.09 sec - Loss 0.015349 - ACC 85.30% - ACC Mean 85.36% - AUC 91.69% - AUC Mean 91.29% - Deter 302\n",
      "Ite 01000 - 0.09 sec - Loss 0.014915 - ACC 86.12% - ACC Mean 85.33% - AUC 91.62% - AUC Mean 91.54% - Deter 352\n",
      "Ite 01048 - 0.09 sec - Loss 0.014571 - ACC 84.35% - ACC Mean 85.19% - AUC 91.72% - AUC Mean 91.60% - Deter 400\n",
      "Early stop ite 1048, rollback to correction of ite 648, whith acc of 87.2% and auc of 93.39%\n",
      "OUR METHOD RUN 3/10 - acc: 87.2% +- 0.0% - auc: 93.39% +- 0.0%\n",
      "Ite 00000 - 0.09 sec - Loss 0.104380 - ACC 84.15% - ACC Mean 84.15% - AUC 91.18% - AUC Mean 91.18% - Deter 000\n",
      "Ite 00050 - 0.11 sec - Loss 0.096401 - ACC 83.80% - ACC Mean 84.65% - AUC 90.06% - AUC Mean 90.58% - Deter 007\n",
      "Ite 00100 - 0.09 sec - Loss 0.077916 - ACC 84.96% - ACC Mean 85.23% - AUC 90.18% - AUC Mean 90.78% - Deter 043\n",
      "Ite 00150 - 0.13 sec - Loss 0.049324 - ACC 83.95% - ACC Mean 84.09% - AUC 91.79% - AUC Mean 91.12% - Deter 093\n",
      "Ite 00200 - 0.11 sec - Loss 0.031185 - ACC 84.16% - ACC Mean 85.19% - AUC 91.19% - AUC Mean 91.69% - Deter 010\n",
      "Ite 00250 - 0.47 sec - Loss 0.025132 - ACC 84.25% - ACC Mean 85.00% - AUC 91.97% - AUC Mean 91.83% - Deter 060\n",
      "Ite 00300 - 0.11 sec - Loss 0.023093 - ACC 84.00% - ACC Mean 84.49% - AUC 91.68% - AUC Mean 91.80% - Deter 110\n",
      "Ite 00350 - 0.54 sec - Loss 0.022191 - ACC 84.56% - ACC Mean 84.52% - AUC 92.19% - AUC Mean 91.93% - Deter 160\n",
      "Ite 00400 - 0.09 sec - Loss 0.021638 - ACC 84.56% - ACC Mean 84.35% - AUC 92.19% - AUC Mean 91.91% - Deter 210\n",
      "Ite 00450 - 0.50 sec - Loss 0.021206 - ACC 84.30% - ACC Mean 84.30% - AUC 91.36% - AUC Mean 91.77% - Deter 260\n",
      "Ite 00500 - 0.08 sec - Loss 0.020782 - ACC 84.30% - ACC Mean 84.23% - AUC 91.71% - AUC Mean 91.56% - Deter 310\n",
      "Ite 00550 - 0.09 sec - Loss 0.020360 - ACC 84.30% - ACC Mean 84.18% - AUC 91.80% - AUC Mean 91.55% - Deter 360\n",
      "Ite 00590 - 0.09 sec - Loss 0.019940 - ACC 83.39% - ACC Mean 83.99% - AUC 91.59% - AUC Mean 91.51% - Deter 400\n",
      "Early stop ite 590, rollback to correction of ite 190, whith acc of 85.89% and auc of 92.4%\n",
      "OUR METHOD RUN 4/10 - acc: 85.89% +- 0.0% - auc: 92.4% +- 0.0%\n",
      "Ite 00000 - 0.09 sec - Loss 0.105125 - ACC 84.36% - ACC Mean 84.36% - AUC 91.01% - AUC Mean 91.01% - Deter 000\n",
      "Ite 00050 - 0.09 sec - Loss 0.097928 - ACC 83.72% - ACC Mean 84.70% - AUC 90.53% - AUC Mean 90.37% - Deter 049\n",
      "Ite 00100 - 0.53 sec - Loss 0.079921 - ACC 83.75% - ACC Mean 84.34% - AUC 89.99% - AUC Mean 90.46% - Deter 099\n",
      "Ite 00150 - 0.10 sec - Loss 0.048967 - ACC 83.49% - ACC Mean 84.17% - AUC 90.21% - AUC Mean 90.41% - Deter 149\n",
      "Ite 00200 - 0.09 sec - Loss 0.029469 - ACC 85.02% - ACC Mean 84.05% - AUC 91.69% - AUC Mean 91.06% - Deter 003\n",
      "Ite 00250 - 0.09 sec - Loss 0.024111 - ACC 85.63% - ACC Mean 85.54% - AUC 91.44% - AUC Mean 91.63% - Deter 053\n",
      "Ite 00300 - 0.50 sec - Loss 0.022597 - ACC 85.58% - ACC Mean 85.64% - AUC 92.24% - AUC Mean 92.15% - Deter 103\n",
      "Ite 00350 - 0.10 sec - Loss 0.021937 - ACC 85.68% - ACC Mean 85.56% - AUC 91.84% - AUC Mean 92.07% - Deter 153\n",
      "Ite 00400 - 0.09 sec - Loss 0.021506 - ACC 84.42% - ACC Mean 85.21% - AUC 91.34% - AUC Mean 91.70% - Deter 203\n",
      "Ite 00450 - 0.09 sec - Loss 0.021115 - ACC 84.16% - ACC Mean 84.68% - AUC 91.18% - AUC Mean 91.38% - Deter 253\n",
      "Ite 00500 - 0.18 sec - Loss 0.020689 - ACC 84.72% - ACC Mean 84.61% - AUC 91.50% - AUC Mean 91.37% - Deter 303\n",
      "Ite 00550 - 0.18 sec - Loss 0.020212 - ACC 84.16% - ACC Mean 84.45% - AUC 91.18% - AUC Mean 91.33% - Deter 353\n",
      "Ite 00597 - 0.09 sec - Loss 0.019653 - ACC 83.86% - ACC Mean 84.23% - AUC 91.11% - AUC Mean 91.20% - Deter 400\n",
      "Early stop ite 597, rollback to correction of ite 197, whith acc of 85.89% and auc of 92.37%\n",
      "OUR METHOD RUN 5/10 - acc: 85.89% +- 0.0% - auc: 92.37% +- 0.0%\n",
      "Ite 00000 - 0.19 sec - Loss 0.104090 - ACC 84.05% - ACC Mean 84.05% - AUC 90.01% - AUC Mean 90.01% - Deter 000\n",
      "Ite 00050 - 0.42 sec - Loss 0.097696 - ACC 85.30% - ACC Mean 85.50% - AUC 91.07% - AUC Mean 90.78% - Deter 004\n",
      "Ite 00100 - 0.11 sec - Loss 0.082261 - ACC 84.96% - ACC Mean 85.61% - AUC 90.80% - AUC Mean 90.93% - Deter 054\n",
      "Ite 00150 - 0.11 sec - Loss 0.053070 - ACC 84.00% - ACC Mean 84.68% - AUC 90.91% - AUC Mean 90.58% - Deter 104\n",
      "Ite 00200 - 0.09 sec - Loss 0.031542 - ACC 85.33% - ACC Mean 84.78% - AUC 91.84% - AUC Mean 91.61% - Deter 154\n",
      "Ite 00250 - 0.10 sec - Loss 0.024764 - ACC 83.91% - ACC Mean 85.08% - AUC 91.69% - AUC Mean 91.93% - Deter 204\n",
      "Ite 00300 - 0.09 sec - Loss 0.022842 - ACC 83.70% - ACC Mean 84.20% - AUC 91.86% - AUC Mean 91.83% - Deter 254\n",
      "Ite 00350 - 0.18 sec - Loss 0.021982 - ACC 83.70% - ACC Mean 83.74% - AUC 91.86% - AUC Mean 91.87% - Deter 304\n",
      "Ite 00400 - 0.09 sec - Loss 0.021410 - ACC 84.09% - ACC Mean 83.47% - AUC 90.81% - AUC Mean 91.28% - Deter 354\n",
      "Ite 00446 - 0.09 sec - Loss 0.020946 - ACC 83.49% - ACC Mean 83.77% - AUC 90.43% - AUC Mean 90.65% - Deter 400\n",
      "Early stop ite 446, rollback to correction of ite 46, whith acc of 86.98% and auc of 92.73%\n",
      "OUR METHOD RUN 6/10 - acc: 86.98% +- 0.0% - auc: 92.73% +- 0.0%\n",
      "Ite 00000 - 0.10 sec - Loss 0.103758 - ACC 82.63% - ACC Mean 82.63% - AUC 89.89% - AUC Mean 89.89% - Deter 000\n",
      "Ite 00050 - 0.10 sec - Loss 0.096348 - ACC 84.40% - ACC Mean 84.18% - AUC 90.38% - AUC Mean 89.75% - Deter 045\n",
      "Ite 00100 - 0.09 sec - Loss 0.077031 - ACC 85.31% - ACC Mean 84.93% - AUC 91.18% - AUC Mean 90.94% - Deter 006\n",
      "Ite 00150 - 0.09 sec - Loss 0.045555 - ACC 84.51% - ACC Mean 84.45% - AUC 91.28% - AUC Mean 91.27% - Deter 025\n",
      "Ite 00200 - 0.10 sec - Loss 0.028449 - ACC 85.33% - ACC Mean 85.22% - AUC 91.09% - AUC Mean 91.66% - Deter 019\n",
      "Ite 00250 - 0.11 sec - Loss 0.023817 - ACC 84.30% - ACC Mean 84.63% - AUC 91.42% - AUC Mean 91.48% - Deter 069\n",
      "Ite 00300 - 0.09 sec - Loss 0.022281 - ACC 83.79% - ACC Mean 84.22% - AUC 91.08% - AUC Mean 91.56% - Deter 119\n",
      "Ite 00350 - 0.09 sec - Loss 0.021421 - ACC 83.79% - ACC Mean 83.86% - AUC 90.93% - AUC Mean 90.83% - Deter 169\n",
      "Ite 00400 - 0.09 sec - Loss 0.020726 - ACC 84.79% - ACC Mean 84.00% - AUC 90.57% - AUC Mean 90.63% - Deter 219\n",
      "Ite 00450 - 0.09 sec - Loss 0.020042 - ACC 84.49% - ACC Mean 83.86% - AUC 90.44% - AUC Mean 90.36% - Deter 269\n",
      "Ite 00500 - 0.51 sec - Loss 0.019322 - ACC 83.10% - ACC Mean 83.13% - AUC 89.90% - AUC Mean 90.04% - Deter 319\n",
      "Ite 00550 - 0.10 sec - Loss 0.018606 - ACC 82.19% - ACC Mean 83.31% - AUC 89.94% - AUC Mean 89.82% - Deter 369\n",
      "Ite 00581 - 0.09 sec - Loss 0.018146 - ACC 85.06% - ACC Mean 83.64% - AUC 89.93% - AUC Mean 90.05% - Deter 400\n",
      "Early stop ite 581, rollback to correction of ite 181, whith acc of 85.89% and auc of 92.17%\n",
      "OUR METHOD RUN 7/10 - acc: 85.89% +- 0.0% - auc: 92.17% +- 0.0%\n",
      "Ite 00000 - 0.49 sec - Loss 0.104487 - ACC 85.27% - ACC Mean 85.27% - AUC 90.34% - AUC Mean 90.34% - Deter 000\n",
      "Ite 00050 - 0.10 sec - Loss 0.097535 - ACC 85.57% - ACC Mean 84.42% - AUC 90.74% - AUC Mean 90.24% - Deter 033\n",
      "Ite 00100 - 0.09 sec - Loss 0.082307 - ACC 84.40% - ACC Mean 84.37% - AUC 89.92% - AUC Mean 90.08% - Deter 083\n",
      "Ite 00150 - 0.46 sec - Loss 0.056383 - ACC 84.40% - ACC Mean 84.45% - AUC 90.95% - AUC Mean 90.07% - Deter 133\n",
      "Ite 00200 - 0.11 sec - Loss 0.034435 - ACC 85.07% - ACC Mean 83.86% - AUC 91.67% - AUC Mean 90.83% - Deter 183\n",
      "Ite 00250 - 0.09 sec - Loss 0.025735 - ACC 84.72% - ACC Mean 84.95% - AUC 91.39% - AUC Mean 91.82% - Deter 011\n",
      "Ite 00300 - 0.11 sec - Loss 0.023243 - ACC 84.72% - ACC Mean 85.08% - AUC 91.92% - AUC Mean 91.65% - Deter 061\n",
      "Ite 00350 - 0.57 sec - Loss 0.022352 - ACC 84.98% - ACC Mean 85.08% - AUC 92.11% - AUC Mean 92.03% - Deter 111\n",
      "Ite 00400 - 0.09 sec - Loss 0.021889 - ACC 84.98% - ACC Mean 85.07% - AUC 92.08% - AUC Mean 92.08% - Deter 161\n",
      "Ite 00450 - 0.14 sec - Loss 0.021556 - ACC 84.72% - ACC Mean 84.85% - AUC 91.94% - AUC Mean 92.02% - Deter 211\n",
      "Ite 00500 - 0.52 sec - Loss 0.021224 - ACC 85.02% - ACC Mean 84.84% - AUC 91.97% - AUC Mean 91.83% - Deter 261\n",
      "Ite 00550 - 0.10 sec - Loss 0.020887 - ACC 83.39% - ACC Mean 84.53% - AUC 91.71% - AUC Mean 91.66% - Deter 311\n",
      "Ite 00600 - 0.15 sec - Loss 0.020442 - ACC 83.65% - ACC Mean 83.89% - AUC 91.71% - AUC Mean 91.38% - Deter 361\n",
      "Ite 00639 - 0.10 sec - Loss 0.020032 - ACC 85.42% - ACC Mean 84.19% - AUC 91.69% - AUC Mean 91.43% - Deter 400\n",
      "Early stop ite 639, rollback to correction of ite 239, whith acc of 85.89% and auc of 92.4%\n",
      "OUR METHOD RUN 8/10 - acc: 85.89% +- 0.0% - auc: 92.4% +- 0.0%\n",
      "Ite 00000 - 0.10 sec - Loss 0.103298 - ACC 82.68% - ACC Mean 82.68% - AUC 89.93% - AUC Mean 89.93% - Deter 000\n",
      "Ite 00050 - 0.48 sec - Loss 0.096426 - ACC 82.94% - ACC Mean 83.65% - AUC 89.96% - AUC Mean 90.28% - Deter 001\n",
      "Ite 00100 - 0.09 sec - Loss 0.078321 - ACC 84.36% - ACC Mean 84.27% - AUC 90.46% - AUC Mean 90.41% - Deter 051\n",
      "Ite 00150 - 0.43 sec - Loss 0.047219 - ACC 84.46% - ACC Mean 83.93% - AUC 91.48% - AUC Mean 91.13% - Deter 101\n",
      "Ite 00200 - 0.10 sec - Loss 0.029145 - ACC 85.33% - ACC Mean 85.00% - AUC 91.09% - AUC Mean 91.42% - Deter 035\n",
      "Ite 00250 - 0.21 sec - Loss 0.024159 - ACC 83.91% - ACC Mean 84.81% - AUC 91.01% - AUC Mean 91.30% - Deter 085\n",
      "Ite 00300 - 0.17 sec - Loss 0.022650 - ACC 84.30% - ACC Mean 84.05% - AUC 90.63% - AUC Mean 90.91% - Deter 135\n",
      "Ite 00350 - 0.19 sec - Loss 0.021956 - ACC 83.39% - ACC Mean 83.91% - AUC 91.25% - AUC Mean 90.96% - Deter 185\n",
      "Ite 00400 - 0.09 sec - Loss 0.021489 - ACC 83.39% - ACC Mean 84.10% - AUC 91.27% - AUC Mean 90.76% - Deter 235\n",
      "Ite 00450 - 0.47 sec - Loss 0.021077 - ACC 83.09% - ACC Mean 83.73% - AUC 90.28% - AUC Mean 90.65% - Deter 285\n",
      "Ite 00500 - 0.11 sec - Loss 0.020644 - ACC 84.16% - ACC Mean 83.97% - AUC 91.28% - AUC Mean 91.13% - Deter 335\n",
      "Ite 00550 - 0.09 sec - Loss 0.020172 - ACC 83.70% - ACC Mean 83.95% - AUC 91.15% - AUC Mean 91.27% - Deter 385\n",
      "Ite 00565 - 0.09 sec - Loss 0.019993 - ACC 83.70% - ACC Mean 83.90% - AUC 91.91% - AUC Mean 91.30% - Deter 400\n",
      "Early stop ite 565, rollback to correction of ite 165, whith acc of 85.28% and auc of 92.16%\n",
      "OUR METHOD RUN 9/10 - acc: 85.28% +- 0.0% - auc: 92.16% +- 0.0%\n",
      "Ite 00000 - 0.09 sec - Loss 0.103247 - ACC 83.12% - ACC Mean 83.12% - AUC 90.76% - AUC Mean 90.76% - Deter 000\n",
      "Ite 00050 - 0.10 sec - Loss 0.096560 - ACC 85.92% - ACC Mean 85.54% - AUC 91.28% - AUC Mean 91.14% - Deter 026\n",
      "Ite 00100 - 0.10 sec - Loss 0.080054 - ACC 84.05% - ACC Mean 84.86% - AUC 90.97% - AUC Mean 90.77% - Deter 076\n",
      "Ite 00150 - 0.10 sec - Loss 0.052258 - ACC 84.31% - ACC Mean 84.46% - AUC 90.27% - AUC Mean 90.64% - Deter 126\n",
      "Ite 00200 - 0.50 sec - Loss 0.032939 - ACC 84.00% - ACC Mean 84.44% - AUC 91.19% - AUC Mean 91.64% - Deter 176\n",
      "Ite 00250 - 0.09 sec - Loss 0.026071 - ACC 84.60% - ACC Mean 84.23% - AUC 91.47% - AUC Mean 91.50% - Deter 226\n",
      "Ite 00300 - 0.09 sec - Loss 0.023718 - ACC 84.60% - ACC Mean 84.48% - AUC 91.93% - AUC Mean 91.57% - Deter 276\n",
      "Ite 00350 - 0.10 sec - Loss 0.022706 - ACC 84.60% - ACC Mean 84.57% - AUC 91.95% - AUC Mean 91.90% - Deter 326\n",
      "Ite 00400 - 0.09 sec - Loss 0.022139 - ACC 83.70% - ACC Mean 84.41% - AUC 91.57% - AUC Mean 91.84% - Deter 376\n",
      "Ite 00424 - 0.33 sec - Loss 0.021925 - ACC 84.00% - ACC Mean 84.13% - AUC 91.94% - AUC Mean 91.83% - Deter 400\n",
      "Early stop ite 424, rollback to correction of ite 24, whith acc of 87.7% and auc of 92.46%\n",
      "OUR METHOD RUN 10/10 - acc: 87.7% +- 0.0% - auc: 92.46% +- 0.0%\n",
      "\n",
      "OUR METHOD GLOBAL - acc: 86.84% +- 1.23% - auc: 92.95% +- 0.93%\n"
     ]
    }
   ],
   "source": [
    "params = {\n",
    "    'nb_batches': 10,\n",
    "    'reg_noise_std': .03,\n",
    "    'net_input': 'data_corrupted',\n",
    "    'net_params': [80, 80],\n",
    "    'adam_lr': .0001,\n",
    "    'adam_weight_decay': 0.,\n",
    "}\n",
    "\n",
    "ours_accs, ours_aucs = [], []\n",
    "for i in range(n_runs):\n",
    "    ours_correction = correction.run(data_missing, 4001, params, y=y, missing_mask=missing_mask, seed=i)\n",
    "    ## Since our method returns 2 imputations select the best one\n",
    "    scores_raw = utils.get_scores(ours_correction['raw_out'], y)\n",
    "    acc = scores_raw['test_balanced_accuracy']\n",
    "    auc = scores_raw['test_roc_auc_ovo']\n",
    "    acc = acc.mean()\n",
    "    acc_std = acc.std()\n",
    "    auc = auc.mean()\n",
    "    auc_std = auc.std()\n",
    "    if 'masked_out' in ours_correction:\n",
    "        scores_masked = utils.get_scores(ours_correction['masked_out'], y)\n",
    "        acc_masked = scores_masked['test_balanced_accuracy']\n",
    "        auc_masked = scores_masked['test_roc_auc_ovo']\n",
    "        if auc_masked.mean() > auc:\n",
    "            acc = acc_masked.mean()\n",
    "            acc_std = acc_masked.std()\n",
    "            auc = auc_masked.mean()\n",
    "            auc_std = auc_masked.std()\n",
    "    print(f'OUR METHOD RUN {i + 1}/{n_runs} - acc: {round(acc.mean() * 100, 2)}% +- {round(acc.std() * 100, 2)}% - ' +\n",
    "          f'auc: {round(auc.mean() * 100, 2)}% +- {round(auc.std() * 100, 2)}%')\n",
    "    ours_accs.append(acc.mean())\n",
    "    ours_aucs.append(auc.mean())\n",
    "print(f'\\nOUR METHOD GLOBAL - acc: {round(np.array(ours_accs).mean() * 100, 2)}% +- {round(np.array(ours_accs).std() * 100, 2)}% - ' +\n",
    "      f'auc: {round(np.array(ours_aucs).mean() * 100, 2)}% +- {round(np.array(ours_aucs).std() * 100, 2)}%')"
   ]
  },
  {
   "cell_type": "markdown",
   "metadata": {},
   "source": [
    "## Run MICE"
   ]
  },
  {
   "cell_type": "code",
   "execution_count": 5,
   "metadata": {
    "ExecuteTime": {
     "end_time": "2022-06-07T08:25:47.812154Z",
     "start_time": "2022-06-07T08:25:41.125881Z"
    },
    "execution": {
     "iopub.execute_input": "2022-06-07T09:34:31.285770Z",
     "iopub.status.busy": "2022-06-07T09:34:31.285402Z",
     "iopub.status.idle": "2022-06-07T09:34:50.987201Z",
     "shell.execute_reply": "2022-06-07T09:34:50.987539Z"
    }
   },
   "outputs": [
    {
     "name": "stdout",
     "output_type": "stream",
     "text": [
      "MICE - acc: 87.98% +- 0.0% - auc: 92.43% +- 0.0%\n"
     ]
    }
   ],
   "source": [
    "data_missing_nans = np.where(missing_mask, data_missing, np.nan)\n",
    "\n",
    "imputer = IterativeImputer()\n",
    "imputed = imputer.fit_transform(data_missing_nans)\n",
    "## All runs would be the same since deterministic method\n",
    "scores = utils.get_scores(imputed, y)\n",
    "acc = [scores['test_balanced_accuracy'].mean()] * n_runs\n",
    "auc = [scores['test_roc_auc_ovo'].mean()] * n_runs\n",
    "print(f'MICE - acc: {round(np.mean(acc) * 100, 2)}% +- {round(np.std(acc) * 100, 2)}% - ' +\n",
    "      f'auc: {round(np.mean(auc) * 100, 2)}% +- {round(np.std(auc) * 100, 2)}%')\n",
    "mice_accs = acc\n",
    "mice_aucs = auc"
   ]
  },
  {
   "cell_type": "markdown",
   "metadata": {},
   "source": [
    "## Run SFIL"
   ]
  },
  {
   "cell_type": "code",
   "execution_count": 6,
   "metadata": {
    "ExecuteTime": {
     "end_time": "2022-06-07T08:25:49.133209Z",
     "start_time": "2022-06-07T08:25:47.813384Z"
    },
    "execution": {
     "iopub.execute_input": "2022-06-07T09:34:50.992409Z",
     "iopub.status.busy": "2022-06-07T09:34:50.992008Z",
     "iopub.status.idle": "2022-06-07T09:34:53.036532Z",
     "shell.execute_reply": "2022-06-07T09:34:53.036854Z"
    }
   },
   "outputs": [
    {
     "name": "stdout",
     "output_type": "stream",
     "text": [
      "SFIL RUN 1/10 - acc: 86.05% +- 4.14% - auc: 91.0% +- 3.65%\n",
      "SFIL RUN 2/10 - acc: 85.57% +- 2.84% - auc: 90.1% +- 1.4%\n",
      "SFIL RUN 3/10 - acc: 84.32% +- 3.13% - auc: 91.92% +- 3.41%\n",
      "SFIL RUN 4/10 - acc: 84.43% +- 5.24% - auc: 91.41% +- 2.89%\n",
      "SFIL RUN 5/10 - acc: 84.03% +- 1.75% - auc: 88.87% +- 1.99%\n",
      "SFIL RUN 6/10 - acc: 87.2% +- 3.88% - auc: 92.69% +- 3.48%\n",
      "SFIL RUN 7/10 - acc: 85.12% +- 5.35% - auc: 90.62% +- 2.58%\n",
      "SFIL RUN 8/10 - acc: 85.19% +- 3.11% - auc: 91.44% +- 2.91%\n",
      "SFIL RUN 9/10 - acc: 84.25% +- 2.95% - auc: 90.24% +- 3.89%\n",
      "SFIL RUN 10/10 - acc: 87.01% +- 2.77% - auc: 90.88% +- 2.53%\n",
      "SFIL GLOBAL - acc: 85.32% +- 1.08% - auc: 90.92% +- 1.0%\n"
     ]
    }
   ],
   "source": [
    "sfil_accs, sfil_aucs = [], []\n",
    "for i in range(n_runs):\n",
    "    acc, auc = filtering(imputed, y, mode='standard', random_state=i)\n",
    "    sfil_accs.append(acc.mean())\n",
    "    sfil_aucs.append(auc.mean())\n",
    "    print(f'SFIL RUN {i + 1}/{n_runs} - acc: {round(np.mean(acc) * 100, 2)}% +- {round(np.std(acc) * 100, 2)}% - ' +\n",
    "          f'auc: {round(np.mean(auc) * 100, 2)}% +- {round(np.std(auc) * 100, 2)}%')\n",
    "print(f'SFIL GLOBAL - acc: {round(np.mean(sfil_accs) * 100, 2)}% +- {round(np.std(sfil_accs) * 100, 2)}% - ' +\n",
    "      f'auc: {round(np.mean(sfil_aucs) * 100, 2)}% +- {round(np.std(sfil_aucs) * 100, 2)}%')"
   ]
  },
  {
   "cell_type": "markdown",
   "metadata": {},
   "source": [
    "## Run PFIL"
   ]
  },
  {
   "cell_type": "code",
   "execution_count": 7,
   "metadata": {
    "ExecuteTime": {
     "end_time": "2022-06-07T08:35:09.194980Z",
     "start_time": "2022-06-07T08:25:49.134766Z"
    },
    "execution": {
     "iopub.execute_input": "2022-06-07T09:34:53.041543Z",
     "iopub.status.busy": "2022-06-07T09:34:53.039089Z",
     "iopub.status.idle": "2022-06-07T09:52:51.622705Z",
     "shell.execute_reply": "2022-06-07T09:52:51.623674Z"
    },
    "scrolled": false
   },
   "outputs": [
    {
     "name": "stdout",
     "output_type": "stream",
     "text": [
      "PFIL RUN 1/10 - acc: 84.02% +- 2.17% - auc: 88.89% +- 3.71%\n",
      "PFIL RUN 2/10 - acc: 82.43% +- 5.35% - auc: 89.04% +- 4.29%\n",
      "PFIL RUN 3/10 - acc: 84.8% +- 2.98% - auc: 90.76% +- 2.19%\n",
      "PFIL RUN 4/10 - acc: 82.2% +- 7.36% - auc: 88.66% +- 8.66%\n",
      "PFIL RUN 5/10 - acc: 87.06% +- 1.79% - auc: 91.36% +- 1.15%\n",
      "PFIL RUN 6/10 - acc: 86.44% +- 5.65% - auc: 91.35% +- 4.71%\n",
      "PFIL RUN 7/10 - acc: 86.52% +- 5.81% - auc: 91.7% +- 3.44%\n",
      "PFIL RUN 8/10 - acc: 84.36% +- 1.82% - auc: 91.11% +- 3.73%\n",
      "PFIL RUN 9/10 - acc: 80.83% +- 5.46% - auc: 89.37% +- 1.85%\n",
      "PFIL RUN 10/10 - acc: 84.19% +- 2.81% - auc: 90.66% +- 2.62%\n",
      "PFIL GLOBAL - acc: 84.28% +- 1.93% - auc: 90.29% +- 1.11%\n"
     ]
    }
   ],
   "source": [
    "pfil_accs, pfil_aucs = [], []\n",
    "for i in range(n_runs):\n",
    "    acc, auc = filtering(imputed, y, mode='panda', random_state=i)\n",
    "    pfil_accs.append(acc.mean())\n",
    "    pfil_aucs.append(auc.mean())\n",
    "    print(f'PFIL RUN {i + 1}/{n_runs} - acc: {round(np.mean(acc) * 100, 2)}% +- {round(np.std(acc) * 100, 2)}% - ' +\n",
    "          f'auc: {round(np.mean(auc) * 100, 2)}% +- {round(np.std(auc) * 100, 2)}%')\n",
    "print(f'PFIL GLOBAL - acc: {round(np.mean(pfil_accs) * 100, 2)}% +- {round(np.std(pfil_accs) * 100, 2)}% - ' +\n",
    "      f'auc: {round(np.mean(pfil_aucs) * 100, 2)}% +- {round(np.std(pfil_aucs) * 100, 2)}%')"
   ]
  },
  {
   "cell_type": "markdown",
   "metadata": {},
   "source": [
    "## Run SPOL"
   ]
  },
  {
   "cell_type": "code",
   "execution_count": 8,
   "metadata": {
    "ExecuteTime": {
     "end_time": "2022-06-07T08:50:33.353751Z",
     "start_time": "2022-06-07T08:49:36.684786Z"
    },
    "execution": {
     "iopub.execute_input": "2022-06-07T09:52:51.630695Z",
     "iopub.status.busy": "2022-06-07T09:52:51.628212Z",
     "iopub.status.idle": "2022-06-07T09:53:35.673558Z",
     "shell.execute_reply": "2022-06-07T09:53:35.673862Z"
    }
   },
   "outputs": [
    {
     "name": "stdout",
     "output_type": "stream",
     "text": [
      "SPOL RUN 1/10 - acc: 85.27% +- 2.4% - auc: 90.13% +- 3.92%\n",
      "SPOL RUN 2/10 - acc: 84.77% +- 6.47% - auc: 90.57% +- 2.86%\n",
      "SPOL RUN 3/10 - acc: 87.33% +- 4.12% - auc: 92.67% +- 2.74%\n",
      "SPOL RUN 4/10 - acc: 80.3% +- 1.84% - auc: 89.12% +- 3.0%\n",
      "SPOL RUN 5/10 - acc: 84.44% +- 2.97% - auc: 90.7% +- 2.03%\n",
      "SPOL RUN 6/10 - acc: 87.57% +- 6.1% - auc: 93.45% +- 4.31%\n",
      "SPOL RUN 7/10 - acc: 84.72% +- 1.49% - auc: 91.97% +- 1.27%\n",
      "SPOL RUN 8/10 - acc: 84.33% +- 4.85% - auc: 90.6% +- 3.63%\n",
      "SPOL RUN 9/10 - acc: 86.51% +- 3.27% - auc: 92.23% +- 2.13%\n",
      "SPOL RUN 10/10 - acc: 85.02% +- 4.01% - auc: 92.25% +- 1.54%\n",
      "SPOL GLOBAL - acc: 85.03% +- 1.93% - auc: 91.37% +- 1.27%\n"
     ]
    }
   ],
   "source": [
    "spol_accs, spol_aucs = [], []\n",
    "for i in range(n_runs):\n",
    "    acc, auc = polishing(imputed, y, mode='standard', random_state=i)\n",
    "    spol_accs.append(acc.mean())\n",
    "    spol_aucs.append(auc.mean())\n",
    "    print(f'SPOL RUN {i + 1}/{n_runs} - acc: {round(np.mean(acc) * 100, 2)}% +- {round(np.std(acc) * 100, 2)}% - ' +\n",
    "          f'auc: {round(np.mean(auc) * 100, 2)}% +- {round(np.std(auc) * 100, 2)}%')\n",
    "print(f'SPOL GLOBAL - acc: {round(np.mean(spol_accs) * 100, 2)}% +- {round(np.std(spol_accs) * 100, 2)}% - ' +\n",
    "      f'auc: {round(np.mean(spol_aucs) * 100, 2)}% +- {round(np.std(spol_aucs) * 100, 2)}%')"
   ]
  },
  {
   "cell_type": "markdown",
   "metadata": {},
   "source": [
    "## Run PPOL"
   ]
  },
  {
   "cell_type": "code",
   "execution_count": 9,
   "metadata": {
    "ExecuteTime": {
     "end_time": "2022-06-07T08:54:57.736311Z",
     "start_time": "2022-06-07T08:54:53.057083Z"
    },
    "execution": {
     "iopub.execute_input": "2022-06-07T09:53:35.680854Z",
     "iopub.status.busy": "2022-06-07T09:53:35.677714Z",
     "iopub.status.idle": "2022-06-07T10:05:49.288117Z",
     "shell.execute_reply": "2022-06-07T10:05:49.289160Z"
    }
   },
   "outputs": [
    {
     "name": "stdout",
     "output_type": "stream",
     "text": [
      "PPOL RUN 1/10 - acc: 83.18% +- 1.72% - auc: 91.64% +- 1.35%\n",
      "PPOL RUN 2/10 - acc: 83.6% +- 2.8% - auc: 89.71% +- 3.46%\n",
      "PPOL RUN 3/10 - acc: 84.71% +- 2.75% - auc: 91.23% +- 0.93%\n",
      "PPOL RUN 4/10 - acc: 84.93% +- 5.37% - auc: 90.26% +- 6.45%\n",
      "PPOL RUN 5/10 - acc: 85.48% +- 3.23% - auc: 91.38% +- 1.91%\n",
      "PPOL RUN 6/10 - acc: 83.24% +- 2.76% - auc: 89.71% +- 2.86%\n",
      "PPOL RUN 7/10 - acc: 84.93% +- 5.24% - auc: 90.99% +- 4.97%\n",
      "PPOL RUN 8/10 - acc: 83.92% +- 6.29% - auc: 92.0% +- 4.76%\n",
      "PPOL RUN 9/10 - acc: 84.25% +- 5.53% - auc: 90.06% +- 2.38%\n",
      "PPOL RUN 10/10 - acc: 84.88% +- 3.16% - auc: 91.34% +- 5.04%\n",
      "PPOL GLOBAL - acc: 84.31% +- 0.76% - auc: 90.83% +- 0.79%\n"
     ]
    }
   ],
   "source": [
    "ppol_accs, ppol_aucs = [], []\n",
    "for i in range(n_runs):\n",
    "    acc, auc = polishing(imputed, y, mode='panda', random_state=i)\n",
    "    ppol_accs.append(acc.mean())\n",
    "    ppol_aucs.append(auc.mean())\n",
    "    print(f'PPOL RUN {i + 1}/{n_runs} - acc: {round(np.mean(acc) * 100, 2)}% +- {round(np.std(acc) * 100, 2)}% - ' +\n",
    "          f'auc: {round(np.mean(auc) * 100, 2)}% +- {round(np.std(auc) * 100, 2)}%')\n",
    "print(f'PPOL GLOBAL - acc: {round(np.mean(ppol_accs) * 100, 2)}% +- {round(np.std(ppol_accs) * 100, 2)}% - ' +\n",
    "      f'auc: {round(np.mean(ppol_aucs) * 100, 2)}% +- {round(np.std(ppol_aucs) * 100, 2)}%')"
   ]
  },
  {
   "cell_type": "markdown",
   "metadata": {},
   "source": [
    "## Run T-tests"
   ]
  },
  {
   "cell_type": "code",
   "execution_count": 10,
   "metadata": {
    "ExecuteTime": {
     "end_time": "2022-06-07T08:52:25.983958Z",
     "start_time": "2022-06-07T08:52:25.963898Z"
    },
    "execution": {
     "iopub.execute_input": "2022-06-07T10:05:49.300444Z",
     "iopub.status.busy": "2022-06-07T10:05:49.299270Z",
     "iopub.status.idle": "2022-06-07T10:05:49.305057Z",
     "shell.execute_reply": "2022-06-07T10:05:49.303928Z"
    },
    "scrolled": false
   },
   "outputs": [
    {
     "name": "stdout",
     "output_type": "stream",
     "text": [
      "Metric ACC - OUR METHOD is significantly worse than MICE\n",
      "Metric AUC - OUR METHOD is even with MICE\n",
      "Metric ACC - OUR METHOD is significantly better than SFIL\n",
      "Metric AUC - OUR METHOD is significantly better than SFIL\n",
      "Metric ACC - OUR METHOD is significantly better than PFIL\n",
      "Metric AUC - OUR METHOD is significantly better than PFIL\n",
      "Metric ACC - OUR METHOD is significantly better than SPOL\n",
      "Metric AUC - OUR METHOD is significantly better than SPOL\n",
      "Metric ACC - OUR METHOD is significantly better than PPOL\n",
      "Metric AUC - OUR METHOD is significantly better than PPOL\n"
     ]
    }
   ],
   "source": [
    "for model, metrics in {\n",
    "        'MICE': {'ACC': mice_accs, 'AUC': mice_aucs},\n",
    "        'SFIL': {'ACC': sfil_accs, 'AUC': sfil_aucs},\n",
    "        'PFIL': {'ACC': pfil_accs, 'AUC': pfil_aucs},\n",
    "        'SPOL': {'ACC': spol_accs, 'AUC': spol_aucs},\n",
    "        'PPOL': {'ACC': ppol_accs, 'AUC': ppol_aucs}}.items():\n",
    "    for metric_name, metric in metrics.items():\n",
    "        ours_metric = ours_accs if metric_name == 'ACC' else ours_aucs\n",
    "        t, p = scipy.stats.ttest_ind(np.array(ours_metric), np.array(metric))\n",
    "        if p <= .05:\n",
    "            if t > 0:\n",
    "                ## Our method is better\n",
    "                print(f'Metric {metric_name} - OUR METHOD is significantly better than {model}')\n",
    "            else:\n",
    "                ## Theirs is better\n",
    "                print(f'Metric {metric_name} - OUR METHOD is significantly worse than {model}')\n",
    "        else:\n",
    "            ## Else we are even\n",
    "            print(f'Metric {metric_name} - OUR METHOD is even with {model}')"
   ]
  }
 ],
 "metadata": {
  "kernelspec": {
   "display_name": "Python 3 (ipykernel)",
   "language": "python",
   "name": "python3"
  },
  "language_info": {
   "codemirror_mode": {
    "name": "ipython",
    "version": 3
   },
   "file_extension": ".py",
   "mimetype": "text/x-python",
   "name": "python",
   "nbconvert_exporter": "python",
   "pygments_lexer": "ipython3",
   "version": "3.9.7"
  },
  "latex_envs": {
   "LaTeX_envs_menu_present": true,
   "autoclose": false,
   "autocomplete": true,
   "bibliofile": "biblio.bib",
   "cite_by": "apalike",
   "current_citInitial": 1,
   "eqLabelWithNumbers": true,
   "eqNumInitial": 1,
   "hotkeys": {
    "equation": "Ctrl-E",
    "itemize": "Ctrl-I"
   },
   "labels_anchors": false,
   "latex_user_defs": false,
   "report_style_numbering": false,
   "user_envs_cfg": false
  }
 },
 "nbformat": 4,
 "nbformat_minor": 2
}
