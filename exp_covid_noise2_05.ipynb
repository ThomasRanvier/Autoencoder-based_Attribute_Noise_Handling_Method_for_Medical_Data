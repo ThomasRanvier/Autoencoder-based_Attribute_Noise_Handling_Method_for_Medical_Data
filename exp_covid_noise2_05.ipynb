{
 "cells": [
  {
   "cell_type": "code",
   "execution_count": 1,
   "metadata": {
    "ExecuteTime": {
     "end_time": "2022-06-07T08:11:39.412870Z",
     "start_time": "2022-06-07T08:11:35.692131Z"
    },
    "execution": {
     "iopub.execute_input": "2022-06-07T09:01:46.573163Z",
     "iopub.status.busy": "2022-06-07T09:01:46.572383Z",
     "iopub.status.idle": "2022-06-07T09:01:52.080146Z",
     "shell.execute_reply": "2022-06-07T09:01:52.079453Z"
    }
   },
   "outputs": [],
   "source": [
    "from __future__ import print_function\n",
    "import warnings\n",
    "warnings.filterwarnings('ignore')\n",
    "## Disable tf future deprecated messages\n",
    "import logging\n",
    "logging.getLogger('tensorflow').disabled = True\n",
    "## Disable tf CUDA messages\n",
    "import os\n",
    "os.environ['TF_CPP_MIN_LOG_LEVEL'] = '3'\n",
    "\n",
    "%matplotlib inline\n",
    "\n",
    "import sys\n",
    "import random\n",
    "import numpy as np\n",
    "import pandas as pd\n",
    "\n",
    "import utils\n",
    "import correction\n",
    "from models.dense import *\n",
    "from models.gain import gain\n",
    "from models.soft_impute import SoftImpute\n",
    "from models.sinkhorn import OTimputer\n",
    "from models.mida import mida\n",
    "from models.polishing import polishing\n",
    "from models.filtering import filtering\n",
    "\n",
    "import scipy.stats\n",
    "\n",
    "from sklearn.experimental import enable_iterative_imputer\n",
    "from sklearn.impute import IterativeImputer\n",
    "from sklearn.impute import KNNImputer, SimpleImputer\n",
    "\n",
    "import sklearn.neighbors._base\n",
    "sys.modules['sklearn.neighbors.base'] = sklearn.neighbors._base\n",
    "from missingpy import MissForest\n",
    "\n",
    "torch.backends.cudnn.enabled = True\n",
    "torch.backends.cudnn.benchmark = True\n",
    "dtype = torch.cuda.FloatTensor"
   ]
  },
  {
   "cell_type": "markdown",
   "metadata": {},
   "source": [
    "## Repeat all experiments for 10 runs"
   ]
  },
  {
   "cell_type": "code",
   "execution_count": 2,
   "metadata": {
    "ExecuteTime": {
     "end_time": "2022-06-07T08:11:39.417491Z",
     "start_time": "2022-06-07T08:11:39.415081Z"
    },
    "execution": {
     "iopub.execute_input": "2022-06-07T09:01:52.088010Z",
     "iopub.status.busy": "2022-06-07T09:01:52.087572Z",
     "iopub.status.idle": "2022-06-07T09:01:52.092659Z",
     "shell.execute_reply": "2022-06-07T09:01:52.092086Z"
    }
   },
   "outputs": [],
   "source": [
    "n_runs = 10"
   ]
  },
  {
   "cell_type": "markdown",
   "metadata": {},
   "source": [
    "## Load data"
   ]
  },
  {
   "cell_type": "code",
   "execution_count": 3,
   "metadata": {
    "ExecuteTime": {
     "end_time": "2022-06-07T08:11:41.218694Z",
     "start_time": "2022-06-07T08:11:39.419632Z"
    },
    "execution": {
     "iopub.execute_input": "2022-06-07T09:01:52.099181Z",
     "iopub.status.busy": "2022-06-07T09:01:52.098754Z",
     "iopub.status.idle": "2022-06-07T09:01:55.654295Z",
     "shell.execute_reply": "2022-06-07T09:01:55.653510Z"
    }
   },
   "outputs": [
    {
     "name": "stdout",
     "output_type": "stream",
     "text": [
      "Dataset shape: (361, 80)\n",
      "19.75% missing data\n",
      "Class distribution: (array([0, 1]), array([195, 166]))\n"
     ]
    }
   ],
   "source": [
    "data_missing, missing_mask, y = utils.load_covid()\n",
    "## Inject noise\n",
    "data_missing = utils.inject_noise(data_missing.copy(), noise_rate=.05)\n",
    "## Replace missing values locations by 0\n",
    "data_missing = data_missing * missing_mask"
   ]
  },
  {
   "cell_type": "markdown",
   "metadata": {},
   "source": [
    "## Run OUR METHOD"
   ]
  },
  {
   "cell_type": "code",
   "execution_count": 4,
   "metadata": {
    "ExecuteTime": {
     "end_time": "2022-06-07T08:25:41.124140Z",
     "start_time": "2022-06-07T08:11:41.222736Z"
    },
    "execution": {
     "iopub.execute_input": "2022-06-07T09:01:55.663013Z",
     "iopub.status.busy": "2022-06-07T09:01:55.662361Z",
     "iopub.status.idle": "2022-06-07T09:26:08.125852Z",
     "shell.execute_reply": "2022-06-07T09:26:08.126430Z"
    },
    "scrolled": false
   },
   "outputs": [
    {
     "name": "stdout",
     "output_type": "stream",
     "text": [
      "Ite 00000 - 0.55 sec - Loss 0.103323 - ACC 82.73% - ACC Mean 82.73% - AUC 86.74% - AUC Mean 86.74% - Deter 000\n",
      "Ite 00050 - 0.27 sec - Loss 0.096753 - ACC 81.76% - ACC Mean 82.17% - AUC 86.62% - AUC Mean 86.92% - Deter 016\n",
      "Ite 00100 - 0.53 sec - Loss 0.079836 - ACC 80.60% - ACC Mean 81.53% - AUC 85.68% - AUC Mean 86.54% - Deter 066\n",
      "Ite 00150 - 0.52 sec - Loss 0.051980 - ACC 80.23% - ACC Mean 81.66% - AUC 86.00% - AUC Mean 86.20% - Deter 116\n",
      "Ite 00200 - 0.30 sec - Loss 0.035170 - ACC 79.86% - ACC Mean 80.05% - AUC 85.71% - AUC Mean 85.79% - Deter 166\n",
      "Ite 00250 - 0.45 sec - Loss 0.030423 - ACC 79.86% - ACC Mean 80.24% - AUC 85.70% - AUC Mean 85.92% - Deter 216\n",
      "Ite 00300 - 0.38 sec - Loss 0.028985 - ACC 80.19% - ACC Mean 80.57% - AUC 85.83% - AUC Mean 86.26% - Deter 266\n",
      "Ite 00350 - 0.10 sec - Loss 0.028292 - ACC 81.30% - ACC Mean 80.61% - AUC 86.25% - AUC Mean 86.21% - Deter 316\n",
      "Ite 00400 - 0.10 sec - Loss 0.027777 - ACC 80.53% - ACC Mean 80.62% - AUC 87.32% - AUC Mean 86.25% - Deter 366\n",
      "Ite 00434 - 0.10 sec - Loss 0.027446 - ACC 80.09% - ACC Mean 80.60% - AUC 87.62% - AUC Mean 86.91% - Deter 400\n",
      "Early stop ite 434, rollback to correction of ite 34, whith acc of 82.71% and auc of 88.5%\n",
      "OUR METHOD RUN 1/10 - acc: 82.71% +- 0.0% - auc: 88.5% +- 0.0%\n",
      "Ite 00000 - 0.43 sec - Loss 0.102499 - ACC 81.27% - ACC Mean 81.27% - AUC 85.07% - AUC Mean 85.07% - Deter 000\n",
      "Ite 00050 - 0.09 sec - Loss 0.095938 - ACC 82.01% - ACC Mean 82.37% - AUC 87.68% - AUC Mean 86.94% - Deter 005\n",
      "Ite 00100 - 0.43 sec - Loss 0.080042 - ACC 82.08% - ACC Mean 82.12% - AUC 86.64% - AUC Mean 87.09% - Deter 034\n",
      "Ite 00150 - 0.09 sec - Loss 0.052242 - ACC 83.71% - ACC Mean 82.30% - AUC 86.98% - AUC Mean 86.61% - Deter 084\n",
      "Ite 00200 - 0.11 sec - Loss 0.035390 - ACC 79.12% - ACC Mean 81.63% - AUC 85.29% - AUC Mean 86.39% - Deter 134\n",
      "Ite 00250 - 0.47 sec - Loss 0.030600 - ACC 82.01% - ACC Mean 82.09% - AUC 87.18% - AUC Mean 86.86% - Deter 184\n",
      "Ite 00300 - 0.10 sec - Loss 0.029248 - ACC 81.45% - ACC Mean 82.16% - AUC 86.50% - AUC Mean 86.91% - Deter 234\n",
      "Ite 00350 - 0.10 sec - Loss 0.028712 - ACC 82.22% - ACC Mean 81.64% - AUC 86.22% - AUC Mean 86.26% - Deter 284\n",
      "Ite 00400 - 0.48 sec - Loss 0.028355 - ACC 79.77% - ACC Mean 81.00% - AUC 85.82% - AUC Mean 86.08% - Deter 334\n",
      "Ite 00450 - 0.09 sec - Loss 0.028068 - ACC 80.28% - ACC Mean 80.28% - AUC 85.47% - AUC Mean 85.77% - Deter 384\n",
      "Ite 00466 - 0.10 sec - Loss 0.027982 - ACC 80.62% - ACC Mean 80.22% - AUC 86.23% - AUC Mean 85.90% - Deter 400\n",
      "Early stop ite 466, rollback to correction of ite 66, whith acc of 82.56% and auc of 88.56%\n",
      "OUR METHOD RUN 2/10 - acc: 82.56% +- 0.0% - auc: 88.56% +- 0.0%\n",
      "Ite 00000 - 0.11 sec - Loss 0.101703 - ACC 82.44% - ACC Mean 82.44% - AUC 86.11% - AUC Mean 86.11% - Deter 000\n",
      "Ite 00050 - 0.10 sec - Loss 0.095981 - ACC 81.53% - ACC Mean 81.88% - AUC 86.62% - AUC Mean 86.64% - Deter 017\n",
      "Ite 00100 - 0.10 sec - Loss 0.081561 - ACC 82.38% - ACC Mean 82.28% - AUC 86.76% - AUC Mean 86.56% - Deter 067\n",
      "Ite 00150 - 0.10 sec - Loss 0.054947 - ACC 80.31% - ACC Mean 82.46% - AUC 85.64% - AUC Mean 87.08% - Deter 117\n",
      "Ite 00200 - 0.62 sec - Loss 0.036945 - ACC 80.52% - ACC Mean 81.18% - AUC 85.55% - AUC Mean 86.33% - Deter 167\n",
      "Ite 00250 - 0.09 sec - Loss 0.031129 - ACC 80.54% - ACC Mean 80.94% - AUC 86.05% - AUC Mean 86.57% - Deter 041\n",
      "Ite 00300 - 0.10 sec - Loss 0.029305 - ACC 80.28% - ACC Mean 80.91% - AUC 85.27% - AUC Mean 86.12% - Deter 091\n",
      "Ite 00350 - 0.11 sec - Loss 0.028533 - ACC 81.35% - ACC Mean 80.40% - AUC 85.85% - AUC Mean 85.41% - Deter 141\n",
      "Ite 00400 - 0.10 sec - Loss 0.028040 - ACC 81.14% - ACC Mean 80.48% - AUC 86.83% - AUC Mean 85.70% - Deter 191\n",
      "Ite 00450 - 0.51 sec - Loss 0.027596 - ACC 80.93% - ACC Mean 80.93% - AUC 86.15% - AUC Mean 86.82% - Deter 028\n",
      "Ite 00500 - 0.14 sec - Loss 0.027138 - ACC 82.08% - ACC Mean 81.36% - AUC 87.45% - AUC Mean 87.17% - Deter 043\n",
      "Ite 00550 - 0.09 sec - Loss 0.026637 - ACC 82.08% - ACC Mean 81.85% - AUC 87.95% - AUC Mean 87.41% - Deter 010\n",
      "Ite 00600 - 0.09 sec - Loss 0.026023 - ACC 82.36% - ACC Mean 81.88% - AUC 87.19% - AUC Mean 87.15% - Deter 060\n",
      "Ite 00650 - 0.09 sec - Loss 0.025340 - ACC 83.04% - ACC Mean 81.73% - AUC 87.95% - AUC Mean 87.94% - Deter 008\n",
      "Ite 00700 - 0.09 sec - Loss 0.024599 - ACC 81.01% - ACC Mean 82.68% - AUC 87.15% - AUC Mean 88.01% - Deter 058\n",
      "Ite 00750 - 0.11 sec - Loss 0.023939 - ACC 81.31% - ACC Mean 82.53% - AUC 87.05% - AUC Mean 87.96% - Deter 028\n",
      "Ite 00800 - 0.10 sec - Loss 0.023354 - ACC 82.77% - ACC Mean 82.64% - AUC 87.78% - AUC Mean 87.83% - Deter 078\n",
      "Ite 00850 - 0.10 sec - Loss 0.022845 - ACC 81.65% - ACC Mean 83.33% - AUC 87.84% - AUC Mean 88.15% - Deter 016\n",
      "Ite 00900 - 0.41 sec - Loss 0.022388 - ACC 84.12% - ACC Mean 83.51% - AUC 87.52% - AUC Mean 88.11% - Deter 041\n",
      "Ite 00950 - 0.18 sec - Loss 0.021935 - ACC 83.94% - ACC Mean 83.10% - AUC 87.63% - AUC Mean 88.12% - Deter 091\n",
      "Ite 01000 - 0.44 sec - Loss 0.021515 - ACC 82.74% - ACC Mean 82.78% - AUC 88.35% - AUC Mean 88.54% - Deter 141\n",
      "Ite 01050 - 0.50 sec - Loss 0.021161 - ACC 82.61% - ACC Mean 82.68% - AUC 87.68% - AUC Mean 88.40% - Deter 191\n",
      "Ite 01100 - 0.09 sec - Loss 0.020826 - ACC 83.05% - ACC Mean 82.55% - AUC 89.26% - AUC Mean 88.54% - Deter 241\n",
      "Ite 01150 - 0.09 sec - Loss 0.020477 - ACC 82.67% - ACC Mean 82.69% - AUC 89.02% - AUC Mean 88.99% - Deter 291\n",
      "Ite 01200 - 0.51 sec - Loss 0.020130 - ACC 83.15% - ACC Mean 83.06% - AUC 89.76% - AUC Mean 89.49% - Deter 341\n",
      "Ite 01250 - 0.50 sec - Loss 0.019797 - ACC 82.15% - ACC Mean 83.46% - AUC 88.23% - AUC Mean 89.52% - Deter 391\n",
      "Ite 01259 - 0.59 sec - Loss 0.019726 - ACC 83.96% - ACC Mean 83.50% - AUC 89.84% - AUC Mean 89.47% - Deter 400\n",
      "Early stop ite 1259, rollback to correction of ite 859, whith acc of 85.1% and auc of 91.48%\n",
      "OUR METHOD RUN 3/10 - acc: 85.1% +- 0.0% - auc: 91.48% +- 0.0%\n",
      "Ite 00000 - 0.10 sec - Loss 0.102055 - ACC 80.35% - ACC Mean 80.35% - AUC 85.21% - AUC Mean 85.21% - Deter 000\n",
      "Ite 00050 - 0.10 sec - Loss 0.094380 - ACC 84.11% - ACC Mean 81.91% - AUC 87.73% - AUC Mean 86.21% - Deter 014\n",
      "Ite 00100 - 0.33 sec - Loss 0.076613 - ACC 83.30% - ACC Mean 82.54% - AUC 86.92% - AUC Mean 86.47% - Deter 064\n",
      "Ite 00150 - 0.09 sec - Loss 0.050394 - ACC 79.37% - ACC Mean 82.36% - AUC 84.84% - AUC Mean 87.02% - Deter 044\n",
      "Ite 00200 - 0.11 sec - Loss 0.035181 - ACC 81.40% - ACC Mean 81.33% - AUC 86.87% - AUC Mean 86.76% - Deter 094\n",
      "Ite 00250 - 0.54 sec - Loss 0.030615 - ACC 80.51% - ACC Mean 81.16% - AUC 86.40% - AUC Mean 86.86% - Deter 144\n",
      "Ite 00300 - 0.10 sec - Loss 0.029166 - ACC 81.96% - ACC Mean 80.96% - AUC 87.40% - AUC Mean 87.09% - Deter 194\n",
      "Ite 00350 - 0.13 sec - Loss 0.028516 - ACC 81.66% - ACC Mean 81.05% - AUC 87.14% - AUC Mean 86.72% - Deter 244\n",
      "Ite 00400 - 0.51 sec - Loss 0.028078 - ACC 81.69% - ACC Mean 81.22% - AUC 86.71% - AUC Mean 86.69% - Deter 294\n",
      "Ite 00450 - 0.09 sec - Loss 0.027701 - ACC 82.57% - ACC Mean 81.08% - AUC 86.84% - AUC Mean 86.76% - Deter 021\n",
      "Ite 00500 - 0.10 sec - Loss 0.027314 - ACC 82.57% - ACC Mean 81.28% - AUC 87.22% - AUC Mean 87.04% - Deter 071\n",
      "Ite 00550 - 0.11 sec - Loss 0.026888 - ACC 82.17% - ACC Mean 81.93% - AUC 90.26% - AUC Mean 87.87% - Deter 002\n",
      "Ite 00600 - 0.11 sec - Loss 0.026316 - ACC 82.89% - ACC Mean 82.05% - AUC 88.19% - AUC Mean 87.56% - Deter 052\n",
      "Ite 00650 - 0.32 sec - Loss 0.025668 - ACC 80.91% - ACC Mean 81.73% - AUC 86.02% - AUC Mean 87.30% - Deter 102\n",
      "Ite 00700 - 0.12 sec - Loss 0.024866 - ACC 81.37% - ACC Mean 81.38% - AUC 87.01% - AUC Mean 86.97% - Deter 152\n",
      "Ite 00750 - 0.09 sec - Loss 0.024086 - ACC 81.79% - ACC Mean 81.35% - AUC 85.43% - AUC Mean 87.23% - Deter 202\n",
      "Ite 00800 - 0.09 sec - Loss 0.023351 - ACC 81.11% - ACC Mean 80.92% - AUC 89.21% - AUC Mean 87.66% - Deter 252\n",
      "Ite 00850 - 0.14 sec - Loss 0.022696 - ACC 82.80% - ACC Mean 81.20% - AUC 88.58% - AUC Mean 87.83% - Deter 302\n",
      "Ite 00900 - 0.10 sec - Loss 0.022137 - ACC 82.56% - ACC Mean 81.98% - AUC 89.65% - AUC Mean 88.44% - Deter 352\n",
      "Ite 00950 - 0.51 sec - Loss 0.021633 - ACC 83.70% - ACC Mean 82.91% - AUC 89.97% - AUC Mean 89.04% - Deter 013\n",
      "Ite 01000 - 0.10 sec - Loss 0.021163 - ACC 83.49% - ACC Mean 82.79% - AUC 87.51% - AUC Mean 89.00% - Deter 063\n",
      "Ite 01050 - 0.10 sec - Loss 0.020766 - ACC 84.14% - ACC Mean 83.23% - AUC 89.52% - AUC Mean 88.98% - Deter 113\n",
      "Ite 01100 - 0.10 sec - Loss 0.020405 - ACC 85.16% - ACC Mean 83.48% - AUC 91.06% - AUC Mean 89.56% - Deter 163\n",
      "Ite 01150 - 0.10 sec - Loss 0.020032 - ACC 83.47% - ACC Mean 84.08% - AUC 89.65% - AUC Mean 89.70% - Deter 045\n",
      "Ite 01200 - 0.10 sec - Loss 0.019707 - ACC 83.57% - ACC Mean 84.11% - AUC 89.74% - AUC Mean 90.12% - Deter 022\n",
      "Ite 01250 - 0.10 sec - Loss 0.019375 - ACC 85.84% - ACC Mean 84.72% - AUC 90.59% - AUC Mean 90.44% - Deter 072\n",
      "Ite 01300 - 0.21 sec - Loss 0.019065 - ACC 84.92% - ACC Mean 84.85% - AUC 91.40% - AUC Mean 90.52% - Deter 028\n",
      "Ite 01350 - 0.09 sec - Loss 0.018776 - ACC 88.02% - ACC Mean 85.12% - AUC 91.23% - AUC Mean 90.72% - Deter 030\n",
      "Ite 01400 - 0.09 sec - Loss 0.018511 - ACC 84.38% - ACC Mean 84.79% - AUC 91.27% - AUC Mean 90.77% - Deter 080\n",
      "Ite 01450 - 0.11 sec - Loss 0.018256 - ACC 83.40% - ACC Mean 84.53% - AUC 89.18% - AUC Mean 90.56% - Deter 130\n",
      "Ite 01500 - 0.11 sec - Loss 0.018004 - ACC 83.21% - ACC Mean 84.69% - AUC 88.58% - AUC Mean 90.55% - Deter 180\n",
      "Ite 01550 - 0.18 sec - Loss 0.017749 - ACC 86.87% - ACC Mean 84.35% - AUC 89.47% - AUC Mean 90.58% - Deter 038\n",
      "Ite 01600 - 0.09 sec - Loss 0.017501 - ACC 82.33% - ACC Mean 84.31% - AUC 90.68% - AUC Mean 90.63% - Deter 088\n",
      "Ite 01650 - 0.09 sec - Loss 0.017267 - ACC 85.57% - ACC Mean 84.48% - AUC 92.35% - AUC Mean 90.67% - Deter 138\n",
      "Ite 01700 - 0.09 sec - Loss 0.017054 - ACC 87.16% - ACC Mean 84.04% - AUC 93.54% - AUC Mean 90.66% - Deter 000\n",
      "Ite 01750 - 0.10 sec - Loss 0.016834 - ACC 81.30% - ACC Mean 84.22% - AUC 90.11% - AUC Mean 90.83% - Deter 050\n",
      "Ite 01800 - 0.10 sec - Loss 0.016641 - ACC 85.87% - ACC Mean 84.22% - AUC 92.63% - AUC Mean 90.77% - Deter 100\n",
      "Ite 01850 - 0.10 sec - Loss 0.016423 - ACC 84.46% - ACC Mean 84.16% - AUC 92.17% - AUC Mean 90.99% - Deter 150\n",
      "Ite 01900 - 0.33 sec - Loss 0.016249 - ACC 83.58% - ACC Mean 84.87% - AUC 92.00% - AUC Mean 91.27% - Deter 200\n",
      "Ite 01950 - 0.24 sec - Loss 0.016051 - ACC 84.78% - ACC Mean 84.15% - AUC 90.62% - AUC Mean 91.19% - Deter 040\n",
      "Ite 02000 - 0.39 sec - Loss 0.015859 - ACC 83.53% - ACC Mean 84.12% - AUC 91.70% - AUC Mean 91.02% - Deter 090\n",
      "Ite 02050 - 0.09 sec - Loss 0.015663 - ACC 84.33% - ACC Mean 84.18% - AUC 91.56% - AUC Mean 91.26% - Deter 140\n",
      "Ite 02100 - 0.09 sec - Loss 0.015460 - ACC 81.89% - ACC Mean 84.30% - AUC 89.83% - AUC Mean 91.35% - Deter 040\n",
      "Ite 02150 - 0.09 sec - Loss 0.015285 - ACC 84.14% - ACC Mean 84.29% - AUC 91.22% - AUC Mean 91.37% - Deter 090\n",
      "Ite 02200 - 0.10 sec - Loss 0.015101 - ACC 84.00% - ACC Mean 83.69% - AUC 91.13% - AUC Mean 91.31% - Deter 140\n",
      "Ite 02250 - 0.09 sec - Loss 0.014915 - ACC 84.96% - ACC Mean 83.57% - AUC 91.53% - AUC Mean 91.35% - Deter 190\n",
      "Ite 02300 - 0.11 sec - Loss 0.014716 - ACC 84.88% - ACC Mean 84.43% - AUC 91.97% - AUC Mean 91.42% - Deter 240\n",
      "Ite 02350 - 0.10 sec - Loss 0.014551 - ACC 83.85% - ACC Mean 84.25% - AUC 92.08% - AUC Mean 91.50% - Deter 290\n",
      "Ite 02400 - 0.09 sec - Loss 0.014350 - ACC 83.21% - ACC Mean 84.30% - AUC 91.67% - AUC Mean 91.11% - Deter 340\n",
      "Ite 02450 - 0.18 sec - Loss 0.014149 - ACC 86.47% - ACC Mean 84.59% - AUC 91.45% - AUC Mean 91.33% - Deter 390\n",
      "Ite 02460 - 0.10 sec - Loss 0.014117 - ACC 84.47% - ACC Mean 84.48% - AUC 91.53% - AUC Mean 91.23% - Deter 400\n",
      "Early stop ite 2460, rollback to correction of ite 2060, whith acc of 84.36% and auc of 93.97%\n",
      "OUR METHOD RUN 4/10 - acc: 84.36% +- 0.0% - auc: 93.97% +- 0.0%\n",
      "Ite 00000 - 0.10 sec - Loss 0.102786 - ACC 81.79% - ACC Mean 81.79% - AUC 88.08% - AUC Mean 88.08% - Deter 000\n",
      "Ite 00050 - 0.10 sec - Loss 0.095849 - ACC 82.74% - ACC Mean 82.39% - AUC 88.21% - AUC Mean 88.40% - Deter 038\n",
      "Ite 00100 - 0.09 sec - Loss 0.078283 - ACC 81.60% - ACC Mean 82.76% - AUC 85.74% - AUC Mean 86.88% - Deter 088\n",
      "Ite 00150 - 0.10 sec - Loss 0.049881 - ACC 81.20% - ACC Mean 81.54% - AUC 85.43% - AUC Mean 85.37% - Deter 138\n",
      "Ite 00200 - 0.10 sec - Loss 0.033824 - ACC 79.12% - ACC Mean 80.90% - AUC 85.67% - AUC Mean 86.02% - Deter 188\n",
      "Ite 00250 - 0.11 sec - Loss 0.029889 - ACC 79.94% - ACC Mean 79.80% - AUC 85.63% - AUC Mean 85.73% - Deter 238\n",
      "Ite 00300 - 0.09 sec - Loss 0.028825 - ACC 80.23% - ACC Mean 80.06% - AUC 85.69% - AUC Mean 85.84% - Deter 288\n",
      "Ite 00350 - 0.09 sec - Loss 0.028351 - ACC 79.68% - ACC Mean 80.01% - AUC 85.28% - AUC Mean 85.71% - Deter 338\n",
      "Ite 00400 - 0.09 sec - Loss 0.028003 - ACC 79.64% - ACC Mean 79.50% - AUC 85.68% - AUC Mean 85.44% - Deter 388\n",
      "Ite 00412 - 0.09 sec - Loss 0.027908 - ACC 79.33% - ACC Mean 79.55% - AUC 85.64% - AUC Mean 85.57% - Deter 400\n",
      "Early stop ite 412, rollback to correction of ite 12, whith acc of 84.37% and auc of 90.19%\n",
      "OUR METHOD RUN 5/10 - acc: 84.37% +- 0.0% - auc: 90.19% +- 0.0%\n",
      "Ite 00000 - 0.09 sec - Loss 0.101761 - ACC 79.84% - ACC Mean 79.84% - AUC 87.85% - AUC Mean 87.85% - Deter 000\n",
      "Ite 00050 - 0.10 sec - Loss 0.095624 - ACC 80.10% - ACC Mean 80.91% - AUC 86.02% - AUC Mean 86.97% - Deter 048\n",
      "Ite 00100 - 0.10 sec - Loss 0.080718 - ACC 81.19% - ACC Mean 80.89% - AUC 86.37% - AUC Mean 86.19% - Deter 043\n",
      "Ite 00150 - 0.11 sec - Loss 0.053456 - ACC 80.51% - ACC Mean 81.09% - AUC 86.77% - AUC Mean 85.69% - Deter 093\n",
      "Ite 00200 - 0.14 sec - Loss 0.035537 - ACC 77.92% - ACC Mean 79.93% - AUC 85.72% - AUC Mean 86.39% - Deter 143\n",
      "Ite 00250 - 0.09 sec - Loss 0.030484 - ACC 81.70% - ACC Mean 80.54% - AUC 88.45% - AUC Mean 87.12% - Deter 193\n",
      "Ite 00300 - 0.10 sec - Loss 0.029048 - ACC 80.97% - ACC Mean 81.28% - AUC 87.49% - AUC Mean 87.35% - Deter 243\n",
      "Ite 00350 - 0.09 sec - Loss 0.028391 - ACC 80.96% - ACC Mean 81.19% - AUC 86.57% - AUC Mean 87.25% - Deter 293\n",
      "Ite 00400 - 0.18 sec - Loss 0.027942 - ACC 80.40% - ACC Mean 81.27% - AUC 86.15% - AUC Mean 86.34% - Deter 343\n",
      "Ite 00450 - 0.09 sec - Loss 0.027522 - ACC 81.33% - ACC Mean 80.71% - AUC 86.71% - AUC Mean 86.35% - Deter 393\n",
      "Ite 00457 - 0.48 sec - Loss 0.027464 - ACC 80.78% - ACC Mean 80.70% - AUC 86.43% - AUC Mean 86.35% - Deter 400\n",
      "Early stop ite 457, rollback to correction of ite 57, whith acc of 81.99% and auc of 89.1%\n",
      "OUR METHOD RUN 6/10 - acc: 81.99% +- 0.0% - auc: 89.1% +- 0.0%\n",
      "Ite 00000 - 0.18 sec - Loss 0.101413 - ACC 81.78% - ACC Mean 81.78% - AUC 86.24% - AUC Mean 86.24% - Deter 000\n",
      "Ite 00050 - 0.10 sec - Loss 0.094266 - ACC 82.99% - ACC Mean 82.36% - AUC 86.02% - AUC Mean 86.27% - Deter 049\n",
      "Ite 00100 - 0.10 sec - Loss 0.075835 - ACC 82.38% - ACC Mean 82.17% - AUC 86.20% - AUC Mean 86.01% - Deter 099\n",
      "Ite 00150 - 0.11 sec - Loss 0.047102 - ACC 82.55% - ACC Mean 81.74% - AUC 87.05% - AUC Mean 86.17% - Deter 149\n",
      "Ite 00200 - 0.10 sec - Loss 0.033090 - ACC 82.90% - ACC Mean 81.77% - AUC 87.20% - AUC Mean 86.72% - Deter 199\n",
      "Ite 00250 - 0.09 sec - Loss 0.029688 - ACC 81.70% - ACC Mean 81.69% - AUC 86.14% - AUC Mean 86.40% - Deter 048\n",
      "Ite 00300 - 0.10 sec - Loss 0.028542 - ACC 81.45% - ACC Mean 81.48% - AUC 86.13% - AUC Mean 85.81% - Deter 098\n",
      "Ite 00350 - 0.10 sec - Loss 0.027842 - ACC 83.10% - ACC Mean 82.05% - AUC 86.69% - AUC Mean 86.33% - Deter 148\n",
      "Ite 00400 - 0.10 sec - Loss 0.027224 - ACC 81.47% - ACC Mean 81.80% - AUC 86.16% - AUC Mean 86.50% - Deter 024\n",
      "Ite 00450 - 0.10 sec - Loss 0.026583 - ACC 80.51% - ACC Mean 81.06% - AUC 85.46% - AUC Mean 85.92% - Deter 074\n",
      "Ite 00500 - 0.48 sec - Loss 0.025902 - ACC 81.16% - ACC Mean 81.32% - AUC 85.89% - AUC Mean 85.77% - Deter 124\n",
      "Ite 00550 - 0.09 sec - Loss 0.025217 - ACC 80.56% - ACC Mean 82.05% - AUC 84.64% - AUC Mean 86.30% - Deter 174\n",
      "Ite 00600 - 0.09 sec - Loss 0.024515 - ACC 83.79% - ACC Mean 83.89% - AUC 88.45% - AUC Mean 87.59% - Deter 010\n",
      "Ite 00650 - 0.10 sec - Loss 0.023895 - ACC 83.53% - ACC Mean 83.45% - AUC 89.57% - AUC Mean 88.41% - Deter 017\n",
      "Ite 00700 - 0.10 sec - Loss 0.023314 - ACC 82.99% - ACC Mean 83.10% - AUC 89.11% - AUC Mean 88.57% - Deter 067\n",
      "Ite 00750 - 0.09 sec - Loss 0.022834 - ACC 83.44% - ACC Mean 82.40% - AUC 89.48% - AUC Mean 88.71% - Deter 117\n",
      "Ite 00800 - 0.10 sec - Loss 0.022406 - ACC 81.83% - ACC Mean 82.56% - AUC 88.51% - AUC Mean 88.91% - Deter 038\n",
      "Ite 00850 - 0.09 sec - Loss 0.022033 - ACC 81.88% - ACC Mean 82.20% - AUC 87.59% - AUC Mean 88.68% - Deter 088\n",
      "Ite 00900 - 0.10 sec - Loss 0.021680 - ACC 82.13% - ACC Mean 81.81% - AUC 90.09% - AUC Mean 88.64% - Deter 004\n",
      "Ite 00950 - 0.09 sec - Loss 0.021335 - ACC 83.28% - ACC Mean 81.94% - AUC 89.65% - AUC Mean 89.21% - Deter 007\n",
      "Ite 01000 - 0.09 sec - Loss 0.020999 - ACC 82.99% - ACC Mean 82.01% - AUC 89.69% - AUC Mean 89.50% - Deter 031\n",
      "Ite 01050 - 0.09 sec - Loss 0.020688 - ACC 81.88% - ACC Mean 81.98% - AUC 89.69% - AUC Mean 89.32% - Deter 022\n",
      "Ite 01100 - 0.18 sec - Loss 0.020363 - ACC 81.58% - ACC Mean 82.13% - AUC 88.69% - AUC Mean 89.59% - Deter 072\n",
      "Ite 01150 - 0.09 sec - Loss 0.019999 - ACC 82.02% - ACC Mean 81.90% - AUC 88.77% - AUC Mean 89.49% - Deter 122\n",
      "Ite 01200 - 0.50 sec - Loss 0.019658 - ACC 83.68% - ACC Mean 82.31% - AUC 90.07% - AUC Mean 89.46% - Deter 018\n",
      "Ite 01250 - 0.08 sec - Loss 0.019316 - ACC 81.59% - ACC Mean 82.24% - AUC 87.54% - AUC Mean 89.49% - Deter 008\n",
      "Ite 01300 - 0.09 sec - Loss 0.018975 - ACC 81.31% - ACC Mean 82.52% - AUC 89.77% - AUC Mean 89.57% - Deter 058\n",
      "Ite 01350 - 0.10 sec - Loss 0.018626 - ACC 83.70% - ACC Mean 83.21% - AUC 89.92% - AUC Mean 89.81% - Deter 108\n",
      "Ite 01400 - 0.09 sec - Loss 0.018300 - ACC 83.58% - ACC Mean 83.14% - AUC 89.90% - AUC Mean 89.77% - Deter 158\n",
      "Ite 01450 - 0.09 sec - Loss 0.018011 - ACC 84.73% - ACC Mean 83.50% - AUC 92.82% - AUC Mean 90.06% - Deter 000\n",
      "Ite 01500 - 0.11 sec - Loss 0.017699 - ACC 82.49% - ACC Mean 83.50% - AUC 90.92% - AUC Mean 90.06% - Deter 050\n",
      "Ite 01550 - 0.10 sec - Loss 0.017392 - ACC 82.96% - ACC Mean 83.20% - AUC 89.54% - AUC Mean 89.80% - Deter 100\n",
      "Ite 01600 - 0.09 sec - Loss 0.017092 - ACC 82.92% - ACC Mean 83.29% - AUC 89.10% - AUC Mean 89.73% - Deter 150\n",
      "Ite 01650 - 0.09 sec - Loss 0.016804 - ACC 83.19% - ACC Mean 82.87% - AUC 90.42% - AUC Mean 89.80% - Deter 200\n",
      "Ite 01700 - 0.72 sec - Loss 0.016505 - ACC 83.37% - ACC Mean 83.38% - AUC 90.33% - AUC Mean 89.84% - Deter 250\n",
      "Ite 01750 - 0.09 sec - Loss 0.016240 - ACC 84.72% - ACC Mean 83.42% - AUC 91.20% - AUC Mean 89.81% - Deter 300\n",
      "Ite 01800 - 0.09 sec - Loss 0.015992 - ACC 84.41% - ACC Mean 84.04% - AUC 91.76% - AUC Mean 89.87% - Deter 350\n",
      "Ite 01850 - 0.09 sec - Loss 0.015711 - ACC 79.86% - ACC Mean 83.30% - AUC 88.24% - AUC Mean 89.87% - Deter 400\n",
      "Early stop ite 1850, rollback to correction of ite 1450, whith acc of 84.73% and auc of 92.82%\n",
      "OUR METHOD RUN 7/10 - acc: 84.73% +- 0.0% - auc: 92.82% +- 0.0%\n",
      "Ite 00000 - 0.10 sec - Loss 0.102172 - ACC 82.04% - ACC Mean 82.04% - AUC 87.10% - AUC Mean 87.10% - Deter 000\n",
      "Ite 00050 - 0.12 sec - Loss 0.095454 - ACC 81.46% - ACC Mean 81.97% - AUC 86.35% - AUC Mean 87.06% - Deter 017\n",
      "Ite 00100 - 0.09 sec - Loss 0.080777 - ACC 81.65% - ACC Mean 80.86% - AUC 86.07% - AUC Mean 86.04% - Deter 067\n",
      "Ite 00150 - 0.10 sec - Loss 0.056604 - ACC 83.15% - ACC Mean 82.27% - AUC 86.32% - AUC Mean 86.19% - Deter 117\n",
      "Ite 00200 - 0.10 sec - Loss 0.037768 - ACC 81.01% - ACC Mean 81.54% - AUC 86.88% - AUC Mean 86.11% - Deter 167\n",
      "Ite 00250 - 0.10 sec - Loss 0.031069 - ACC 80.18% - ACC Mean 80.26% - AUC 84.71% - AUC Mean 85.57% - Deter 217\n",
      "Ite 00300 - 0.10 sec - Loss 0.029284 - ACC 79.63% - ACC Mean 79.90% - AUC 84.96% - AUC Mean 85.34% - Deter 267\n",
      "Ite 00350 - 0.45 sec - Loss 0.028666 - ACC 80.18% - ACC Mean 79.66% - AUC 85.47% - AUC Mean 85.15% - Deter 317\n",
      "Ite 00400 - 0.10 sec - Loss 0.028324 - ACC 79.41% - ACC Mean 79.98% - AUC 84.93% - AUC Mean 85.26% - Deter 367\n",
      "Ite 00433 - 0.10 sec - Loss 0.028115 - ACC 79.07% - ACC Mean 80.10% - AUC 84.43% - AUC Mean 85.34% - Deter 400\n",
      "Early stop ite 433, rollback to correction of ite 33, whith acc of 82.66% and auc of 88.14%\n",
      "OUR METHOD RUN 8/10 - acc: 82.66% +- 0.0% - auc: 88.14% +- 0.0%\n",
      "Ite 00000 - 0.10 sec - Loss 0.100968 - ACC 83.90% - ACC Mean 83.90% - AUC 87.22% - AUC Mean 87.22% - Deter 000\n",
      "Ite 00050 - 0.09 sec - Loss 0.094371 - ACC 81.79% - ACC Mean 82.43% - AUC 87.61% - AUC Mean 87.05% - Deter 049\n",
      "Ite 00100 - 0.09 sec - Loss 0.076997 - ACC 82.33% - ACC Mean 82.19% - AUC 86.08% - AUC Mean 87.21% - Deter 041\n",
      "Ite 00150 - 0.10 sec - Loss 0.048750 - ACC 82.38% - ACC Mean 81.19% - AUC 86.68% - AUC Mean 86.12% - Deter 091\n",
      "Ite 00200 - 0.10 sec - Loss 0.033842 - ACC 79.41% - ACC Mean 80.55% - AUC 85.07% - AUC Mean 85.81% - Deter 141\n",
      "Ite 00250 - 0.13 sec - Loss 0.030042 - ACC 80.25% - ACC Mean 80.12% - AUC 85.04% - AUC Mean 85.48% - Deter 191\n",
      "Ite 00300 - 0.23 sec - Loss 0.028912 - ACC 80.49% - ACC Mean 79.99% - AUC 85.88% - AUC Mean 85.09% - Deter 241\n",
      "Ite 00350 - 0.58 sec - Loss 0.028375 - ACC 79.08% - ACC Mean 80.16% - AUC 85.38% - AUC Mean 85.74% - Deter 291\n",
      "Ite 00400 - 0.10 sec - Loss 0.027986 - ACC 79.43% - ACC Mean 79.43% - AUC 86.58% - AUC Mean 85.43% - Deter 341\n",
      "Ite 00450 - 0.09 sec - Loss 0.027621 - ACC 79.63% - ACC Mean 79.37% - AUC 85.37% - AUC Mean 85.47% - Deter 391\n",
      "Ite 00459 - 0.09 sec - Loss 0.027552 - ACC 79.63% - ACC Mean 79.38% - AUC 85.24% - AUC Mean 85.51% - Deter 400\n",
      "Early stop ite 459, rollback to correction of ite 59, whith acc of 81.83% and auc of 88.23%\n",
      "OUR METHOD RUN 9/10 - acc: 81.83% +- 0.0% - auc: 88.23% +- 0.0%\n",
      "Ite 00000 - 0.29 sec - Loss 0.100979 - ACC 81.84% - ACC Mean 81.84% - AUC 87.77% - AUC Mean 87.77% - Deter 000\n",
      "Ite 00050 - 0.09 sec - Loss 0.094485 - ACC 82.70% - ACC Mean 82.50% - AUC 86.65% - AUC Mean 87.12% - Deter 036\n",
      "Ite 00100 - 0.13 sec - Loss 0.078457 - ACC 83.34% - ACC Mean 82.60% - AUC 87.22% - AUC Mean 86.94% - Deter 086\n",
      "Ite 00150 - 0.09 sec - Loss 0.052782 - ACC 81.83% - ACC Mean 83.27% - AUC 87.18% - AUC Mean 87.32% - Deter 136\n",
      "Ite 00200 - 0.10 sec - Loss 0.036727 - ACC 81.48% - ACC Mean 82.18% - AUC 86.41% - AUC Mean 86.93% - Deter 186\n",
      "Ite 00250 - 0.44 sec - Loss 0.031460 - ACC 82.69% - ACC Mean 81.99% - AUC 87.39% - AUC Mean 86.82% - Deter 014\n",
      "Ite 00300 - 0.08 sec - Loss 0.029704 - ACC 81.57% - ACC Mean 81.19% - AUC 87.16% - AUC Mean 86.67% - Deter 064\n",
      "Ite 00350 - 0.08 sec - Loss 0.028945 - ACC 81.28% - ACC Mean 81.01% - AUC 87.23% - AUC Mean 86.86% - Deter 114\n",
      "Ite 00400 - 0.10 sec - Loss 0.028482 - ACC 81.28% - ACC Mean 81.02% - AUC 86.87% - AUC Mean 86.92% - Deter 164\n",
      "Ite 00450 - 0.10 sec - Loss 0.028109 - ACC 81.28% - ACC Mean 81.22% - AUC 87.17% - AUC Mean 87.02% - Deter 214\n",
      "Ite 00500 - 0.47 sec - Loss 0.027749 - ACC 81.28% - ACC Mean 81.12% - AUC 87.17% - AUC Mean 87.13% - Deter 264\n",
      "Ite 00550 - 0.09 sec - Loss 0.027366 - ACC 80.93% - ACC Mean 80.89% - AUC 87.08% - AUC Mean 86.87% - Deter 314\n",
      "Ite 00600 - 0.09 sec - Loss 0.026876 - ACC 83.25% - ACC Mean 81.03% - AUC 88.14% - AUC Mean 86.93% - Deter 364\n",
      "Ite 00636 - 0.11 sec - Loss 0.026440 - ACC 83.26% - ACC Mean 81.35% - AUC 88.39% - AUC Mean 87.17% - Deter 400\n",
      "Early stop ite 636, rollback to correction of ite 236, whith acc of 83.04% and auc of 88.73%\n",
      "OUR METHOD RUN 10/10 - acc: 83.04% +- 0.0% - auc: 88.73% +- 0.0%\n",
      "\n",
      "OUR METHOD GLOBAL - acc: 83.34% +- 1.13% - auc: 89.97% +- 1.98%\n"
     ]
    }
   ],
   "source": [
    "params = {\n",
    "    'nb_batches': 10,\n",
    "    'reg_noise_std': .03,\n",
    "    'net_input': 'data_corrupted',\n",
    "    'net_params': [80, 80],\n",
    "    'adam_lr': .0001,\n",
    "    'adam_weight_decay': 0.,\n",
    "}\n",
    "\n",
    "ours_accs, ours_aucs = [], []\n",
    "for i in range(n_runs):\n",
    "    ours_correction = correction.run(data_missing, 4001, params, y=y, missing_mask=missing_mask, seed=i)\n",
    "    ## Since our method returns 2 imputations select the best one\n",
    "    scores_raw = utils.get_scores(ours_correction['raw_out'], y)\n",
    "    acc = scores_raw['test_balanced_accuracy']\n",
    "    auc = scores_raw['test_roc_auc_ovo']\n",
    "    acc = acc.mean()\n",
    "    acc_std = acc.std()\n",
    "    auc = auc.mean()\n",
    "    auc_std = auc.std()\n",
    "    if 'masked_out' in ours_correction:\n",
    "        scores_masked = utils.get_scores(ours_correction['masked_out'], y)\n",
    "        acc_masked = scores_masked['test_balanced_accuracy']\n",
    "        auc_masked = scores_masked['test_roc_auc_ovo']\n",
    "        if auc_masked.mean() > auc:\n",
    "            acc = acc_masked.mean()\n",
    "            acc_std = acc_masked.std()\n",
    "            auc = auc_masked.mean()\n",
    "            auc_std = auc_masked.std()\n",
    "    print(f'OUR METHOD RUN {i + 1}/{n_runs} - acc: {round(acc.mean() * 100, 2)}% +- {round(acc.std() * 100, 2)}% - ' +\n",
    "          f'auc: {round(auc.mean() * 100, 2)}% +- {round(auc.std() * 100, 2)}%')\n",
    "    ours_accs.append(acc.mean())\n",
    "    ours_aucs.append(auc.mean())\n",
    "print(f'\\nOUR METHOD GLOBAL - acc: {round(np.array(ours_accs).mean() * 100, 2)}% +- {round(np.array(ours_accs).std() * 100, 2)}% - ' +\n",
    "      f'auc: {round(np.array(ours_aucs).mean() * 100, 2)}% +- {round(np.array(ours_aucs).std() * 100, 2)}%')"
   ]
  },
  {
   "cell_type": "markdown",
   "metadata": {},
   "source": [
    "## Run MICE"
   ]
  },
  {
   "cell_type": "code",
   "execution_count": 5,
   "metadata": {
    "ExecuteTime": {
     "end_time": "2022-06-07T08:25:47.812154Z",
     "start_time": "2022-06-07T08:25:41.125881Z"
    },
    "execution": {
     "iopub.execute_input": "2022-06-07T09:26:08.133058Z",
     "iopub.status.busy": "2022-06-07T09:26:08.132171Z",
     "iopub.status.idle": "2022-06-07T09:26:26.873014Z",
     "shell.execute_reply": "2022-06-07T09:26:26.873540Z"
    }
   },
   "outputs": [
    {
     "name": "stdout",
     "output_type": "stream",
     "text": [
      "MICE - acc: 80.86% +- 0.0% - auc: 88.65% +- 0.0%\n"
     ]
    }
   ],
   "source": [
    "data_missing_nans = np.where(missing_mask, data_missing, np.nan)\n",
    "\n",
    "imputer = IterativeImputer()\n",
    "imputed = imputer.fit_transform(data_missing_nans)\n",
    "## All runs would be the same since deterministic method\n",
    "scores = utils.get_scores(imputed, y)\n",
    "acc = [scores['test_balanced_accuracy'].mean()] * n_runs\n",
    "auc = [scores['test_roc_auc_ovo'].mean()] * n_runs\n",
    "print(f'MICE - acc: {round(np.mean(acc) * 100, 2)}% +- {round(np.std(acc) * 100, 2)}% - ' +\n",
    "      f'auc: {round(np.mean(auc) * 100, 2)}% +- {round(np.std(auc) * 100, 2)}%')\n",
    "mice_accs = acc\n",
    "mice_aucs = auc"
   ]
  },
  {
   "cell_type": "markdown",
   "metadata": {},
   "source": [
    "## Run SFIL"
   ]
  },
  {
   "cell_type": "code",
   "execution_count": 6,
   "metadata": {
    "ExecuteTime": {
     "end_time": "2022-06-07T08:25:49.133209Z",
     "start_time": "2022-06-07T08:25:47.813384Z"
    },
    "execution": {
     "iopub.execute_input": "2022-06-07T09:26:26.878720Z",
     "iopub.status.busy": "2022-06-07T09:26:26.878318Z",
     "iopub.status.idle": "2022-06-07T09:26:28.833604Z",
     "shell.execute_reply": "2022-06-07T09:26:28.834029Z"
    }
   },
   "outputs": [
    {
     "name": "stdout",
     "output_type": "stream",
     "text": [
      "SFIL RUN 1/10 - acc: 84.98% +- 2.5% - auc: 92.0% +- 2.74%\n",
      "SFIL RUN 2/10 - acc: 81.73% +- 4.24% - auc: 87.84% +- 4.1%\n",
      "SFIL RUN 3/10 - acc: 81.53% +- 5.78% - auc: 89.08% +- 4.22%\n",
      "SFIL RUN 4/10 - acc: 83.23% +- 4.06% - auc: 88.93% +- 4.66%\n",
      "SFIL RUN 5/10 - acc: 81.53% +- 1.69% - auc: 88.02% +- 2.14%\n",
      "SFIL RUN 6/10 - acc: 80.9% +- 5.21% - auc: 87.99% +- 3.42%\n",
      "SFIL RUN 7/10 - acc: 82.45% +- 4.46% - auc: 88.92% +- 5.51%\n",
      "SFIL RUN 8/10 - acc: 82.73% +- 2.97% - auc: 89.24% +- 1.87%\n",
      "SFIL RUN 9/10 - acc: 81.93% +- 5.49% - auc: 87.99% +- 5.15%\n",
      "SFIL RUN 10/10 - acc: 80.22% +- 4.5% - auc: 85.86% +- 4.09%\n",
      "SFIL GLOBAL - acc: 82.12% +- 1.26% - auc: 88.59% +- 1.47%\n"
     ]
    }
   ],
   "source": [
    "sfil_accs, sfil_aucs = [], []\n",
    "for i in range(n_runs):\n",
    "    acc, auc = filtering(imputed, y, mode='standard', random_state=i)\n",
    "    sfil_accs.append(acc.mean())\n",
    "    sfil_aucs.append(auc.mean())\n",
    "    print(f'SFIL RUN {i + 1}/{n_runs} - acc: {round(np.mean(acc) * 100, 2)}% +- {round(np.std(acc) * 100, 2)}% - ' +\n",
    "          f'auc: {round(np.mean(auc) * 100, 2)}% +- {round(np.std(auc) * 100, 2)}%')\n",
    "print(f'SFIL GLOBAL - acc: {round(np.mean(sfil_accs) * 100, 2)}% +- {round(np.std(sfil_accs) * 100, 2)}% - ' +\n",
    "      f'auc: {round(np.mean(sfil_aucs) * 100, 2)}% +- {round(np.std(sfil_aucs) * 100, 2)}%')"
   ]
  },
  {
   "cell_type": "markdown",
   "metadata": {},
   "source": [
    "## Run PFIL"
   ]
  },
  {
   "cell_type": "code",
   "execution_count": 7,
   "metadata": {
    "ExecuteTime": {
     "end_time": "2022-06-07T08:35:09.194980Z",
     "start_time": "2022-06-07T08:25:49.134766Z"
    },
    "execution": {
     "iopub.execute_input": "2022-06-07T09:26:28.843468Z",
     "iopub.status.busy": "2022-06-07T09:26:28.842574Z",
     "iopub.status.idle": "2022-06-07T09:42:49.039460Z",
     "shell.execute_reply": "2022-06-07T09:42:49.040411Z"
    },
    "scrolled": false
   },
   "outputs": [
    {
     "name": "stdout",
     "output_type": "stream",
     "text": [
      "PFIL RUN 1/10 - acc: 81.78% +- 4.02% - auc: 89.44% +- 4.03%\n",
      "PFIL RUN 2/10 - acc: 80.89% +- 5.19% - auc: 88.29% +- 3.4%\n",
      "PFIL RUN 3/10 - acc: 80.7% +- 2.35% - auc: 89.96% +- 1.29%\n",
      "PFIL RUN 4/10 - acc: 82.68% +- 4.45% - auc: 91.29% +- 3.65%\n",
      "PFIL RUN 5/10 - acc: 79.76% +- 7.35% - auc: 88.57% +- 3.96%\n",
      "PFIL RUN 6/10 - acc: 80.29% +- 3.26% - auc: 90.93% +- 2.94%\n",
      "PFIL RUN 7/10 - acc: 81.17% +- 3.36% - auc: 90.23% +- 3.48%\n",
      "PFIL RUN 8/10 - acc: 84.57% +- 4.18% - auc: 93.63% +- 2.16%\n",
      "PFIL RUN 9/10 - acc: 81.84% +- 5.78% - auc: 90.63% +- 3.23%\n",
      "PFIL RUN 10/10 - acc: 80.69% +- 5.29% - auc: 89.35% +- 3.53%\n",
      "PFIL GLOBAL - acc: 81.44% +- 1.31% - auc: 90.23% +- 1.46%\n"
     ]
    }
   ],
   "source": [
    "pfil_accs, pfil_aucs = [], []\n",
    "for i in range(n_runs):\n",
    "    acc, auc = filtering(imputed, y, mode='panda', random_state=i)\n",
    "    pfil_accs.append(acc.mean())\n",
    "    pfil_aucs.append(auc.mean())\n",
    "    print(f'PFIL RUN {i + 1}/{n_runs} - acc: {round(np.mean(acc) * 100, 2)}% +- {round(np.std(acc) * 100, 2)}% - ' +\n",
    "          f'auc: {round(np.mean(auc) * 100, 2)}% +- {round(np.std(auc) * 100, 2)}%')\n",
    "print(f'PFIL GLOBAL - acc: {round(np.mean(pfil_accs) * 100, 2)}% +- {round(np.std(pfil_accs) * 100, 2)}% - ' +\n",
    "      f'auc: {round(np.mean(pfil_aucs) * 100, 2)}% +- {round(np.std(pfil_aucs) * 100, 2)}%')"
   ]
  },
  {
   "cell_type": "markdown",
   "metadata": {},
   "source": [
    "## Run SPOL"
   ]
  },
  {
   "cell_type": "code",
   "execution_count": 8,
   "metadata": {
    "ExecuteTime": {
     "end_time": "2022-06-07T08:50:33.353751Z",
     "start_time": "2022-06-07T08:49:36.684786Z"
    },
    "execution": {
     "iopub.execute_input": "2022-06-07T09:42:49.051495Z",
     "iopub.status.busy": "2022-06-07T09:42:49.050826Z",
     "iopub.status.idle": "2022-06-07T09:43:38.181715Z",
     "shell.execute_reply": "2022-06-07T09:43:38.182707Z"
    }
   },
   "outputs": [
    {
     "name": "stdout",
     "output_type": "stream",
     "text": [
      "SPOL RUN 1/10 - acc: 81.28% +- 4.35% - auc: 85.97% +- 4.88%\n",
      "SPOL RUN 2/10 - acc: 80.76% +- 4.12% - auc: 86.22% +- 5.82%\n",
      "SPOL RUN 3/10 - acc: 82.29% +- 4.06% - auc: 89.27% +- 4.71%\n",
      "SPOL RUN 4/10 - acc: 82.31% +- 3.61% - auc: 87.5% +- 4.23%\n",
      "SPOL RUN 5/10 - acc: 84.51% +- 3.92% - auc: 90.94% +- 3.1%\n",
      "SPOL RUN 6/10 - acc: 82.45% +- 4.11% - auc: 87.55% +- 3.63%\n",
      "SPOL RUN 7/10 - acc: 83.02% +- 3.77% - auc: 89.94% +- 3.47%\n",
      "SPOL RUN 8/10 - acc: 83.43% +- 1.64% - auc: 89.26% +- 2.35%\n",
      "SPOL RUN 9/10 - acc: 83.79% +- 4.54% - auc: 88.55% +- 6.08%\n",
      "SPOL RUN 10/10 - acc: 79.46% +- 4.05% - auc: 89.08% +- 4.4%\n",
      "SPOL GLOBAL - acc: 82.33% +- 1.43% - auc: 88.43% +- 1.52%\n"
     ]
    }
   ],
   "source": [
    "spol_accs, spol_aucs = [], []\n",
    "for i in range(n_runs):\n",
    "    acc, auc = polishing(imputed, y, mode='standard', random_state=i)\n",
    "    spol_accs.append(acc.mean())\n",
    "    spol_aucs.append(auc.mean())\n",
    "    print(f'SPOL RUN {i + 1}/{n_runs} - acc: {round(np.mean(acc) * 100, 2)}% +- {round(np.std(acc) * 100, 2)}% - ' +\n",
    "          f'auc: {round(np.mean(auc) * 100, 2)}% +- {round(np.std(auc) * 100, 2)}%')\n",
    "print(f'SPOL GLOBAL - acc: {round(np.mean(spol_accs) * 100, 2)}% +- {round(np.std(spol_accs) * 100, 2)}% - ' +\n",
    "      f'auc: {round(np.mean(spol_aucs) * 100, 2)}% +- {round(np.std(spol_aucs) * 100, 2)}%')"
   ]
  },
  {
   "cell_type": "markdown",
   "metadata": {},
   "source": [
    "## Run PPOL"
   ]
  },
  {
   "cell_type": "code",
   "execution_count": 9,
   "metadata": {
    "ExecuteTime": {
     "end_time": "2022-06-07T08:54:57.736311Z",
     "start_time": "2022-06-07T08:54:53.057083Z"
    },
    "execution": {
     "iopub.execute_input": "2022-06-07T09:43:38.187374Z",
     "iopub.status.busy": "2022-06-07T09:43:38.186310Z",
     "iopub.status.idle": "2022-06-07T10:00:51.314083Z",
     "shell.execute_reply": "2022-06-07T10:00:51.315097Z"
    }
   },
   "outputs": [
    {
     "name": "stdout",
     "output_type": "stream",
     "text": [
      "PPOL RUN 1/10 - acc: 83.49% +- 2.41% - auc: 89.5% +- 3.93%\n",
      "PPOL RUN 2/10 - acc: 80.1% +- 5.16% - auc: 88.03% +- 3.14%\n",
      "PPOL RUN 3/10 - acc: 81.33% +- 3.52% - auc: 90.13% +- 3.73%\n",
      "PPOL RUN 4/10 - acc: 83.34% +- 5.7% - auc: 91.46% +- 2.92%\n",
      "PPOL RUN 5/10 - acc: 84.86% +- 4.73% - auc: 90.89% +- 3.96%\n",
      "PPOL RUN 6/10 - acc: 81.96% +- 2.96% - auc: 92.37% +- 1.62%\n",
      "PPOL RUN 7/10 - acc: 83.03% +- 6.57% - auc: 90.68% +- 3.86%\n",
      "PPOL RUN 8/10 - acc: 83.26% +- 2.89% - auc: 91.84% +- 1.9%\n",
      "PPOL RUN 9/10 - acc: 83.11% +- 2.18% - auc: 89.3% +- 2.72%\n",
      "PPOL RUN 10/10 - acc: 82.32% +- 6.48% - auc: 90.07% +- 2.94%\n",
      "PPOL GLOBAL - acc: 82.68% +- 1.25% - auc: 90.43% +- 1.23%\n"
     ]
    }
   ],
   "source": [
    "ppol_accs, ppol_aucs = [], []\n",
    "for i in range(n_runs):\n",
    "    acc, auc = polishing(imputed, y, mode='panda', random_state=i)\n",
    "    ppol_accs.append(acc.mean())\n",
    "    ppol_aucs.append(auc.mean())\n",
    "    print(f'PPOL RUN {i + 1}/{n_runs} - acc: {round(np.mean(acc) * 100, 2)}% +- {round(np.std(acc) * 100, 2)}% - ' +\n",
    "          f'auc: {round(np.mean(auc) * 100, 2)}% +- {round(np.std(auc) * 100, 2)}%')\n",
    "print(f'PPOL GLOBAL - acc: {round(np.mean(ppol_accs) * 100, 2)}% +- {round(np.std(ppol_accs) * 100, 2)}% - ' +\n",
    "      f'auc: {round(np.mean(ppol_aucs) * 100, 2)}% +- {round(np.std(ppol_aucs) * 100, 2)}%')"
   ]
  },
  {
   "cell_type": "markdown",
   "metadata": {},
   "source": [
    "## Run T-tests"
   ]
  },
  {
   "cell_type": "code",
   "execution_count": 10,
   "metadata": {
    "ExecuteTime": {
     "end_time": "2022-06-07T08:52:25.983958Z",
     "start_time": "2022-06-07T08:52:25.963898Z"
    },
    "execution": {
     "iopub.execute_input": "2022-06-07T10:00:51.328271Z",
     "iopub.status.busy": "2022-06-07T10:00:51.327011Z",
     "iopub.status.idle": "2022-06-07T10:00:51.332203Z",
     "shell.execute_reply": "2022-06-07T10:00:51.331119Z"
    },
    "scrolled": false
   },
   "outputs": [
    {
     "name": "stdout",
     "output_type": "stream",
     "text": [
      "Metric ACC - OUR METHOD is significantly better than MICE\n",
      "Metric AUC - OUR METHOD is even with MICE\n",
      "Metric ACC - OUR METHOD is significantly better than SFIL\n",
      "Metric AUC - OUR METHOD is even with SFIL\n",
      "Metric ACC - OUR METHOD is significantly better than PFIL\n",
      "Metric AUC - OUR METHOD is even with PFIL\n",
      "Metric ACC - OUR METHOD is even with SPOL\n",
      "Metric AUC - OUR METHOD is even with SPOL\n",
      "Metric ACC - OUR METHOD is even with PPOL\n",
      "Metric AUC - OUR METHOD is even with PPOL\n"
     ]
    }
   ],
   "source": [
    "for model, metrics in {\n",
    "        'MICE': {'ACC': mice_accs, 'AUC': mice_aucs},\n",
    "        'SFIL': {'ACC': sfil_accs, 'AUC': sfil_aucs},\n",
    "        'PFIL': {'ACC': pfil_accs, 'AUC': pfil_aucs},\n",
    "        'SPOL': {'ACC': spol_accs, 'AUC': spol_aucs},\n",
    "        'PPOL': {'ACC': ppol_accs, 'AUC': ppol_aucs}}.items():\n",
    "    for metric_name, metric in metrics.items():\n",
    "        ours_metric = ours_accs if metric_name == 'ACC' else ours_aucs\n",
    "        t, p = scipy.stats.ttest_ind(np.array(ours_metric), np.array(metric))\n",
    "        if p <= .05:\n",
    "            if t > 0:\n",
    "                ## Our method is better\n",
    "                print(f'Metric {metric_name} - OUR METHOD is significantly better than {model}')\n",
    "            else:\n",
    "                ## Theirs is better\n",
    "                print(f'Metric {metric_name} - OUR METHOD is significantly worse than {model}')\n",
    "        else:\n",
    "            ## Else we are even\n",
    "            print(f'Metric {metric_name} - OUR METHOD is even with {model}')"
   ]
  }
 ],
 "metadata": {
  "kernelspec": {
   "display_name": "Python 3 (ipykernel)",
   "language": "python",
   "name": "python3"
  },
  "language_info": {
   "codemirror_mode": {
    "name": "ipython",
    "version": 3
   },
   "file_extension": ".py",
   "mimetype": "text/x-python",
   "name": "python",
   "nbconvert_exporter": "python",
   "pygments_lexer": "ipython3",
   "version": "3.9.7"
  },
  "latex_envs": {
   "LaTeX_envs_menu_present": true,
   "autoclose": false,
   "autocomplete": true,
   "bibliofile": "biblio.bib",
   "cite_by": "apalike",
   "current_citInitial": 1,
   "eqLabelWithNumbers": true,
   "eqNumInitial": 1,
   "hotkeys": {
    "equation": "Ctrl-E",
    "itemize": "Ctrl-I"
   },
   "labels_anchors": false,
   "latex_user_defs": false,
   "report_style_numbering": false,
   "user_envs_cfg": false
  }
 },
 "nbformat": 4,
 "nbformat_minor": 2
}
