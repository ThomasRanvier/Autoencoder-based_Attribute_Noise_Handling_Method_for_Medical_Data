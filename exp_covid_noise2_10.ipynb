{
 "cells": [
  {
   "cell_type": "code",
   "execution_count": 1,
   "metadata": {
    "ExecuteTime": {
     "end_time": "2022-06-07T08:11:39.412870Z",
     "start_time": "2022-06-07T08:11:35.692131Z"
    },
    "execution": {
     "iopub.execute_input": "2022-06-07T09:01:46.546174Z",
     "iopub.status.busy": "2022-06-07T09:01:46.543423Z",
     "iopub.status.idle": "2022-06-07T09:01:52.304011Z",
     "shell.execute_reply": "2022-06-07T09:01:52.302355Z"
    }
   },
   "outputs": [],
   "source": [
    "from __future__ import print_function\n",
    "import warnings\n",
    "warnings.filterwarnings('ignore')\n",
    "## Disable tf future deprecated messages\n",
    "import logging\n",
    "logging.getLogger('tensorflow').disabled = True\n",
    "## Disable tf CUDA messages\n",
    "import os\n",
    "os.environ['TF_CPP_MIN_LOG_LEVEL'] = '3'\n",
    "\n",
    "%matplotlib inline\n",
    "\n",
    "import sys\n",
    "import random\n",
    "import numpy as np\n",
    "import pandas as pd\n",
    "\n",
    "import utils\n",
    "import correction\n",
    "from models.dense import *\n",
    "from models.gain import gain\n",
    "from models.soft_impute import SoftImpute\n",
    "from models.sinkhorn import OTimputer\n",
    "from models.mida import mida\n",
    "from models.polishing import polishing\n",
    "from models.filtering import filtering\n",
    "\n",
    "import scipy.stats\n",
    "\n",
    "from sklearn.experimental import enable_iterative_imputer\n",
    "from sklearn.impute import IterativeImputer\n",
    "from sklearn.impute import KNNImputer, SimpleImputer\n",
    "\n",
    "import sklearn.neighbors._base\n",
    "sys.modules['sklearn.neighbors.base'] = sklearn.neighbors._base\n",
    "from missingpy import MissForest\n",
    "\n",
    "torch.backends.cudnn.enabled = True\n",
    "torch.backends.cudnn.benchmark = True\n",
    "dtype = torch.cuda.FloatTensor"
   ]
  },
  {
   "cell_type": "markdown",
   "metadata": {},
   "source": [
    "## Repeat all experiments for 10 runs"
   ]
  },
  {
   "cell_type": "code",
   "execution_count": 2,
   "metadata": {
    "ExecuteTime": {
     "end_time": "2022-06-07T08:11:39.417491Z",
     "start_time": "2022-06-07T08:11:39.415081Z"
    },
    "execution": {
     "iopub.execute_input": "2022-06-07T09:01:52.310059Z",
     "iopub.status.busy": "2022-06-07T09:01:52.309083Z",
     "iopub.status.idle": "2022-06-07T09:01:52.312221Z",
     "shell.execute_reply": "2022-06-07T09:01:52.311360Z"
    }
   },
   "outputs": [],
   "source": [
    "n_runs = 10"
   ]
  },
  {
   "cell_type": "markdown",
   "metadata": {},
   "source": [
    "## Load data"
   ]
  },
  {
   "cell_type": "code",
   "execution_count": 3,
   "metadata": {
    "ExecuteTime": {
     "end_time": "2022-06-07T08:11:41.218694Z",
     "start_time": "2022-06-07T08:11:39.419632Z"
    },
    "execution": {
     "iopub.execute_input": "2022-06-07T09:01:52.317430Z",
     "iopub.status.busy": "2022-06-07T09:01:52.316752Z",
     "iopub.status.idle": "2022-06-07T09:01:56.336690Z",
     "shell.execute_reply": "2022-06-07T09:01:56.337119Z"
    }
   },
   "outputs": [
    {
     "name": "stdout",
     "output_type": "stream",
     "text": [
      "Dataset shape: (361, 80)\n",
      "19.75% missing data\n",
      "Class distribution: (array([0, 1]), array([195, 166]))\n"
     ]
    }
   ],
   "source": [
    "data_missing, missing_mask, y = utils.load_covid()\n",
    "## Inject noise\n",
    "data_missing = utils.inject_noise(data_missing.copy(), noise_rate=.1)\n",
    "## Replace missing values locations by 0\n",
    "data_missing = data_missing * missing_mask"
   ]
  },
  {
   "cell_type": "markdown",
   "metadata": {},
   "source": [
    "## Run OUR METHOD"
   ]
  },
  {
   "cell_type": "code",
   "execution_count": 4,
   "metadata": {
    "ExecuteTime": {
     "end_time": "2022-06-07T08:25:41.124140Z",
     "start_time": "2022-06-07T08:11:41.222736Z"
    },
    "execution": {
     "iopub.execute_input": "2022-06-07T09:01:56.541267Z",
     "iopub.status.busy": "2022-06-07T09:01:56.540445Z",
     "iopub.status.idle": "2022-06-07T09:22:48.529696Z",
     "shell.execute_reply": "2022-06-07T09:22:48.530928Z"
    },
    "scrolled": false
   },
   "outputs": [
    {
     "name": "stdout",
     "output_type": "stream",
     "text": [
      "Ite 00000 - 0.54 sec - Loss 0.102094 - ACC 78.43% - ACC Mean 78.43% - AUC 87.48% - AUC Mean 87.48% - Deter 000\n",
      "Ite 00050 - 0.10 sec - Loss 0.095703 - ACC 79.41% - ACC Mean 79.06% - AUC 87.84% - AUC Mean 87.39% - Deter 012\n",
      "Ite 00100 - 0.11 sec - Loss 0.079324 - ACC 81.60% - ACC Mean 80.83% - AUC 88.97% - AUC Mean 88.51% - Deter 014\n",
      "Ite 00150 - 0.10 sec - Loss 0.053546 - ACC 80.44% - ACC Mean 80.51% - AUC 88.18% - AUC Mean 88.58% - Deter 064\n",
      "Ite 00200 - 0.11 sec - Loss 0.039317 - ACC 79.57% - ACC Mean 80.51% - AUC 88.39% - AUC Mean 88.53% - Deter 012\n",
      "Ite 00250 - 0.49 sec - Loss 0.035540 - ACC 80.48% - ACC Mean 80.38% - AUC 88.28% - AUC Mean 88.30% - Deter 062\n",
      "Ite 00300 - 0.10 sec - Loss 0.034372 - ACC 80.48% - ACC Mean 80.51% - AUC 88.28% - AUC Mean 88.26% - Deter 112\n",
      "Ite 00350 - 0.14 sec - Loss 0.033789 - ACC 80.27% - ACC Mean 80.63% - AUC 88.18% - AUC Mean 88.19% - Deter 162\n",
      "Ite 00400 - 0.17 sec - Loss 0.033346 - ACC 80.83% - ACC Mean 80.57% - AUC 88.11% - AUC Mean 87.86% - Deter 212\n",
      "Ite 00450 - 0.11 sec - Loss 0.032910 - ACC 81.34% - ACC Mean 80.86% - AUC 88.38% - AUC Mean 88.08% - Deter 008\n",
      "Ite 00500 - 0.37 sec - Loss 0.032415 - ACC 81.13% - ACC Mean 81.48% - AUC 88.62% - AUC Mean 88.79% - Deter 016\n",
      "Ite 00550 - 0.50 sec - Loss 0.031843 - ACC 80.39% - ACC Mean 81.53% - AUC 88.52% - AUC Mean 88.98% - Deter 008\n",
      "Ite 00600 - 0.15 sec - Loss 0.031176 - ACC 81.55% - ACC Mean 81.67% - AUC 89.15% - AUC Mean 88.91% - Deter 058\n",
      "Ite 00650 - 0.10 sec - Loss 0.030464 - ACC 81.60% - ACC Mean 81.90% - AUC 89.65% - AUC Mean 89.16% - Deter 032\n",
      "Ite 00700 - 0.11 sec - Loss 0.029731 - ACC 81.72% - ACC Mean 82.23% - AUC 89.07% - AUC Mean 89.28% - Deter 020\n",
      "Ite 00750 - 0.11 sec - Loss 0.029085 - ACC 82.02% - ACC Mean 82.70% - AUC 88.71% - AUC Mean 89.65% - Deter 032\n",
      "Ite 00800 - 0.39 sec - Loss 0.028501 - ACC 81.16% - ACC Mean 82.46% - AUC 88.53% - AUC Mean 89.18% - Deter 082\n",
      "Ite 00850 - 0.10 sec - Loss 0.027926 - ACC 82.58% - ACC Mean 82.36% - AUC 89.93% - AUC Mean 88.75% - Deter 132\n",
      "Ite 00900 - 0.10 sec - Loss 0.027445 - ACC 82.07% - ACC Mean 82.61% - AUC 87.64% - AUC Mean 88.71% - Deter 182\n",
      "Ite 00950 - 0.11 sec - Loss 0.026961 - ACC 80.62% - ACC Mean 82.41% - AUC 88.12% - AUC Mean 88.62% - Deter 232\n",
      "Ite 01000 - 0.49 sec - Loss 0.026523 - ACC 81.90% - ACC Mean 81.69% - AUC 88.02% - AUC Mean 88.50% - Deter 282\n",
      "Ite 01050 - 0.10 sec - Loss 0.026125 - ACC 81.65% - ACC Mean 81.75% - AUC 88.10% - AUC Mean 88.26% - Deter 332\n",
      "Ite 01100 - 0.10 sec - Loss 0.025740 - ACC 80.31% - ACC Mean 81.55% - AUC 89.39% - AUC Mean 88.31% - Deter 382\n",
      "Ite 01118 - 0.13 sec - Loss 0.025628 - ACC 80.71% - ACC Mean 81.58% - AUC 87.91% - AUC Mean 88.32% - Deter 400\n",
      "Early stop ite 1118, rollback to correction of ite 718, whith acc of 84.12% and auc of 91.02%\n",
      "OUR METHOD RUN 1/10 - acc: 84.12% +- 0.0% - auc: 91.02% +- 0.0%\n",
      "Ite 00000 - 0.10 sec - Loss 0.101328 - ACC 81.69% - ACC Mean 81.69% - AUC 88.36% - AUC Mean 88.36% - Deter 000\n",
      "Ite 00050 - 0.22 sec - Loss 0.094986 - ACC 80.95% - ACC Mean 81.25% - AUC 88.53% - AUC Mean 88.30% - Deter 022\n",
      "Ite 00100 - 0.11 sec - Loss 0.079664 - ACC 81.62% - ACC Mean 81.62% - AUC 88.89% - AUC Mean 88.53% - Deter 009\n",
      "Ite 00150 - 0.10 sec - Loss 0.053986 - ACC 80.75% - ACC Mean 81.56% - AUC 88.28% - AUC Mean 88.80% - Deter 024\n",
      "Ite 00200 - 0.49 sec - Loss 0.039432 - ACC 81.31% - ACC Mean 81.34% - AUC 88.74% - AUC Mean 88.64% - Deter 074\n",
      "Ite 00250 - 0.11 sec - Loss 0.035653 - ACC 81.90% - ACC Mean 81.39% - AUC 88.52% - AUC Mean 88.84% - Deter 124\n",
      "Ite 00300 - 0.10 sec - Loss 0.034611 - ACC 82.07% - ACC Mean 81.46% - AUC 89.04% - AUC Mean 88.79% - Deter 174\n",
      "Ite 00350 - 0.10 sec - Loss 0.034189 - ACC 80.72% - ACC Mean 81.43% - AUC 88.77% - AUC Mean 89.14% - Deter 042\n",
      "Ite 00400 - 0.10 sec - Loss 0.033886 - ACC 81.90% - ACC Mean 81.32% - AUC 88.88% - AUC Mean 89.18% - Deter 092\n",
      "Ite 00450 - 0.54 sec - Loss 0.033610 - ACC 80.72% - ACC Mean 81.23% - AUC 88.87% - AUC Mean 89.13% - Deter 142\n",
      "Ite 00500 - 0.43 sec - Loss 0.033265 - ACC 80.67% - ACC Mean 80.97% - AUC 89.23% - AUC Mean 89.02% - Deter 192\n",
      "Ite 00550 - 0.13 sec - Loss 0.032843 - ACC 80.08% - ACC Mean 80.83% - AUC 88.93% - AUC Mean 88.98% - Deter 242\n",
      "Ite 00600 - 0.19 sec - Loss 0.032300 - ACC 82.21% - ACC Mean 81.10% - AUC 88.69% - AUC Mean 88.84% - Deter 292\n",
      "Ite 00650 - 0.10 sec - Loss 0.031622 - ACC 81.98% - ACC Mean 81.52% - AUC 88.81% - AUC Mean 88.83% - Deter 342\n",
      "Ite 00700 - 0.10 sec - Loss 0.030760 - ACC 79.46% - ACC Mean 81.96% - AUC 88.53% - AUC Mean 88.62% - Deter 392\n",
      "Ite 00708 - 0.10 sec - Loss 0.030638 - ACC 82.30% - ACC Mean 81.95% - AUC 88.22% - AUC Mean 88.55% - Deter 400\n",
      "Early stop ite 708, rollback to correction of ite 308, whith acc of 82.33% and auc of 90.09%\n",
      "OUR METHOD RUN 2/10 - acc: 82.33% +- 0.0% - auc: 90.09% +- 0.0%\n",
      "Ite 00000 - 0.42 sec - Loss 0.100547 - ACC 81.04% - ACC Mean 81.04% - AUC 87.98% - AUC Mean 87.98% - Deter 000\n",
      "Ite 00050 - 0.14 sec - Loss 0.095001 - ACC 80.95% - ACC Mean 81.17% - AUC 89.07% - AUC Mean 88.55% - Deter 013\n",
      "Ite 00100 - 0.11 sec - Loss 0.081153 - ACC 81.65% - ACC Mean 81.23% - AUC 88.54% - AUC Mean 88.70% - Deter 036\n",
      "Ite 00150 - 0.12 sec - Loss 0.056043 - ACC 79.92% - ACC Mean 80.91% - AUC 87.35% - AUC Mean 88.88% - Deter 006\n",
      "Ite 00200 - 0.28 sec - Loss 0.040497 - ACC 80.48% - ACC Mean 80.10% - AUC 89.55% - AUC Mean 89.00% - Deter 024\n",
      "Ite 00250 - 0.09 sec - Loss 0.035955 - ACC 80.99% - ACC Mean 80.17% - AUC 89.95% - AUC Mean 89.15% - Deter 074\n",
      "Ite 00300 - 0.09 sec - Loss 0.034522 - ACC 80.23% - ACC Mean 80.49% - AUC 88.84% - AUC Mean 89.11% - Deter 124\n",
      "Ite 00350 - 0.63 sec - Loss 0.033905 - ACC 81.09% - ACC Mean 80.64% - AUC 88.74% - AUC Mean 89.00% - Deter 174\n",
      "Ite 00400 - 0.54 sec - Loss 0.033473 - ACC 80.83% - ACC Mean 81.00% - AUC 88.08% - AUC Mean 88.33% - Deter 224\n",
      "Ite 00450 - 0.19 sec - Loss 0.033065 - ACC 81.39% - ACC Mean 81.22% - AUC 88.18% - AUC Mean 88.16% - Deter 274\n",
      "Ite 00500 - 0.09 sec - Loss 0.032599 - ACC 81.30% - ACC Mean 81.48% - AUC 88.93% - AUC Mean 88.55% - Deter 324\n",
      "Ite 00550 - 0.10 sec - Loss 0.032063 - ACC 82.30% - ACC Mean 81.88% - AUC 89.43% - AUC Mean 88.99% - Deter 374\n",
      "Ite 00576 - 0.10 sec - Loss 0.031753 - ACC 81.95% - ACC Mean 81.92% - AUC 89.65% - AUC Mean 89.12% - Deter 400\n",
      "Early stop ite 576, rollback to correction of ite 176, whith acc of 81.67% and auc of 89.99%\n",
      "OUR METHOD RUN 3/10 - acc: 81.67% +- 0.0% - auc: 89.99% +- 0.0%\n",
      "Ite 00000 - 0.48 sec - Loss 0.100862 - ACC 79.55% - ACC Mean 79.55% - AUC 86.94% - AUC Mean 86.94% - Deter 000\n",
      "Ite 00050 - 0.54 sec - Loss 0.093415 - ACC 79.71% - ACC Mean 80.76% - AUC 88.05% - AUC Mean 87.87% - Deter 043\n",
      "Ite 00100 - 0.10 sec - Loss 0.076116 - ACC 83.07% - ACC Mean 81.29% - AUC 89.13% - AUC Mean 88.66% - Deter 010\n",
      "Ite 00150 - 0.09 sec - Loss 0.051913 - ACC 80.92% - ACC Mean 80.64% - AUC 88.17% - AUC Mean 88.33% - Deter 060\n",
      "Ite 00200 - 0.50 sec - Loss 0.039187 - ACC 81.60% - ACC Mean 81.20% - AUC 88.55% - AUC Mean 88.28% - Deter 110\n",
      "Ite 00250 - 0.09 sec - Loss 0.035644 - ACC 80.11% - ACC Mean 81.22% - AUC 87.13% - AUC Mean 88.43% - Deter 160\n",
      "Ite 00300 - 0.10 sec - Loss 0.034477 - ACC 82.16% - ACC Mean 80.77% - AUC 89.03% - AUC Mean 88.20% - Deter 210\n",
      "Ite 00350 - 0.09 sec - Loss 0.033934 - ACC 80.92% - ACC Mean 80.18% - AUC 87.55% - AUC Mean 87.97% - Deter 260\n",
      "Ite 00400 - 0.11 sec - Loss 0.033531 - ACC 80.02% - ACC Mean 79.99% - AUC 87.70% - AUC Mean 87.82% - Deter 310\n",
      "Ite 00450 - 0.11 sec - Loss 0.033158 - ACC 80.02% - ACC Mean 80.14% - AUC 87.66% - AUC Mean 87.92% - Deter 360\n",
      "Ite 00490 - 0.13 sec - Loss 0.032817 - ACC 80.58% - ACC Mean 80.23% - AUC 88.23% - AUC Mean 88.03% - Deter 400\n",
      "Early stop ite 490, rollback to correction of ite 90, whith acc of 82.43% and auc of 89.51%\n",
      "OUR METHOD RUN 4/10 - acc: 82.43% +- 0.0% - auc: 89.51% +- 0.0%\n",
      "Ite 00000 - 0.10 sec - Loss 0.101572 - ACC 81.79% - ACC Mean 81.79% - AUC 88.30% - AUC Mean 88.30% - Deter 000\n",
      "Ite 00050 - 0.41 sec - Loss 0.094788 - ACC 80.78% - ACC Mean 81.40% - AUC 88.30% - AUC Mean 88.34% - Deter 028\n",
      "Ite 00100 - 0.11 sec - Loss 0.077499 - ACC 81.00% - ACC Mean 81.44% - AUC 88.15% - AUC Mean 88.24% - Deter 010\n",
      "Ite 00150 - 0.11 sec - Loss 0.051086 - ACC 81.65% - ACC Mean 81.71% - AUC 88.23% - AUC Mean 88.49% - Deter 060\n",
      "Ite 00200 - 0.11 sec - Loss 0.037812 - ACC 81.90% - ACC Mean 81.73% - AUC 88.65% - AUC Mean 88.39% - Deter 110\n",
      "Ite 00250 - 0.12 sec - Loss 0.035006 - ACC 82.21% - ACC Mean 81.93% - AUC 89.03% - AUC Mean 88.74% - Deter 160\n",
      "Ite 00300 - 0.11 sec - Loss 0.034210 - ACC 82.21% - ACC Mean 82.00% - AUC 88.96% - AUC Mean 88.77% - Deter 210\n",
      "Ite 00350 - 0.11 sec - Loss 0.033822 - ACC 81.81% - ACC Mean 82.05% - AUC 88.71% - AUC Mean 88.71% - Deter 260\n",
      "Ite 00400 - 0.11 sec - Loss 0.033506 - ACC 82.42% - ACC Mean 82.17% - AUC 87.68% - AUC Mean 88.44% - Deter 310\n",
      "Ite 00450 - 0.11 sec - Loss 0.033180 - ACC 80.02% - ACC Mean 82.15% - AUC 87.88% - AUC Mean 88.06% - Deter 360\n",
      "Ite 00490 - 0.54 sec - Loss 0.032879 - ACC 81.53% - ACC Mean 81.51% - AUC 87.56% - AUC Mean 88.22% - Deter 400\n",
      "Early stop ite 490, rollback to correction of ite 90, whith acc of 82.81% and auc of 89.77%\n",
      "OUR METHOD RUN 5/10 - acc: 82.81% +- 0.0% - auc: 89.77% +- 0.0%\n",
      "Ite 00000 - 0.10 sec - Loss 0.100521 - ACC 80.88% - ACC Mean 80.88% - AUC 87.31% - AUC Mean 87.31% - Deter 000\n",
      "Ite 00050 - 0.11 sec - Loss 0.094559 - ACC 80.76% - ACC Mean 81.12% - AUC 88.03% - AUC Mean 88.04% - Deter 032\n",
      "Ite 00100 - 0.10 sec - Loss 0.080181 - ACC 80.27% - ACC Mean 80.66% - AUC 88.01% - AUC Mean 88.04% - Deter 082\n",
      "Ite 00150 - 0.11 sec - Loss 0.055005 - ACC 80.54% - ACC Mean 80.22% - AUC 88.73% - AUC Mean 88.54% - Deter 011\n",
      "Ite 00200 - 0.19 sec - Loss 0.039545 - ACC 79.47% - ACC Mean 80.34% - AUC 87.85% - AUC Mean 88.53% - Deter 047\n",
      "Ite 00250 - 0.39 sec - Loss 0.035534 - ACC 80.54% - ACC Mean 80.49% - AUC 88.62% - AUC Mean 88.58% - Deter 097\n",
      "Ite 00300 - 0.10 sec - Loss 0.034377 - ACC 81.44% - ACC Mean 80.61% - AUC 88.47% - AUC Mean 88.73% - Deter 147\n",
      "Ite 00350 - 0.11 sec - Loss 0.033844 - ACC 80.21% - ACC Mean 80.63% - AUC 88.91% - AUC Mean 88.93% - Deter 197\n",
      "Ite 00400 - 0.11 sec - Loss 0.033443 - ACC 80.78% - ACC Mean 80.33% - AUC 88.52% - AUC Mean 88.96% - Deter 247\n",
      "Ite 00450 - 0.09 sec - Loss 0.033052 - ACC 79.31% - ACC Mean 80.05% - AUC 88.55% - AUC Mean 88.79% - Deter 297\n",
      "Ite 00500 - 0.10 sec - Loss 0.032605 - ACC 80.23% - ACC Mean 79.84% - AUC 88.05% - AUC Mean 88.63% - Deter 347\n",
      "Ite 00550 - 0.12 sec - Loss 0.032063 - ACC 80.43% - ACC Mean 79.69% - AUC 88.15% - AUC Mean 88.46% - Deter 397\n",
      "Ite 00553 - 0.12 sec - Loss 0.032025 - ACC 81.44% - ACC Mean 79.74% - AUC 88.42% - AUC Mean 88.45% - Deter 400\n",
      "Early stop ite 553, rollback to correction of ite 153, whith acc of 81.28% and auc of 89.71%\n",
      "OUR METHOD RUN 6/10 - acc: 81.28% +- 0.0% - auc: 89.71% +- 0.0%\n",
      "Ite 00000 - 0.11 sec - Loss 0.100207 - ACC 80.58% - ACC Mean 80.58% - AUC 87.65% - AUC Mean 87.65% - Deter 000\n",
      "Ite 00050 - 0.11 sec - Loss 0.093312 - ACC 80.37% - ACC Mean 80.59% - AUC 88.79% - AUC Mean 88.09% - Deter 020\n",
      "Ite 00100 - 0.11 sec - Loss 0.075773 - ACC 80.06% - ACC Mean 80.11% - AUC 88.68% - AUC Mean 88.41% - Deter 070\n",
      "Ite 00150 - 0.11 sec - Loss 0.049552 - ACC 79.95% - ACC Mean 80.32% - AUC 88.42% - AUC Mean 88.53% - Deter 120\n",
      "Ite 00200 - 0.10 sec - Loss 0.037667 - ACC 80.02% - ACC Mean 80.24% - AUC 87.85% - AUC Mean 87.95% - Deter 170\n",
      "Ite 00250 - 0.11 sec - Loss 0.034954 - ACC 80.28% - ACC Mean 80.60% - AUC 88.71% - AUC Mean 88.40% - Deter 021\n",
      "Ite 00300 - 0.11 sec - Loss 0.033988 - ACC 81.39% - ACC Mean 81.09% - AUC 88.69% - AUC Mean 88.75% - Deter 006\n",
      "Ite 00350 - 0.10 sec - Loss 0.033384 - ACC 79.41% - ACC Mean 80.82% - AUC 88.50% - AUC Mean 88.53% - Deter 056\n",
      "Ite 00400 - 0.10 sec - Loss 0.032811 - ACC 79.66% - ACC Mean 80.63% - AUC 87.93% - AUC Mean 88.24% - Deter 106\n",
      "Ite 00450 - 0.10 sec - Loss 0.032193 - ACC 81.44% - ACC Mean 80.97% - AUC 88.76% - AUC Mean 88.23% - Deter 156\n",
      "Ite 00500 - 0.09 sec - Loss 0.031516 - ACC 80.99% - ACC Mean 80.95% - AUC 88.63% - AUC Mean 88.68% - Deter 006\n",
      "Ite 00550 - 0.09 sec - Loss 0.030820 - ACC 79.73% - ACC Mean 81.10% - AUC 88.47% - AUC Mean 88.87% - Deter 001\n",
      "Ite 00600 - 0.11 sec - Loss 0.030163 - ACC 81.62% - ACC Mean 81.62% - AUC 90.62% - AUC Mean 89.31% - Deter 024\n",
      "Ite 00650 - 0.10 sec - Loss 0.029564 - ACC 80.04% - ACC Mean 81.02% - AUC 88.51% - AUC Mean 88.71% - Deter 074\n",
      "Ite 00700 - 0.10 sec - Loss 0.029007 - ACC 82.49% - ACC Mean 80.98% - AUC 88.67% - AUC Mean 88.58% - Deter 124\n",
      "Ite 00750 - 0.10 sec - Loss 0.028538 - ACC 83.14% - ACC Mean 81.50% - AUC 90.58% - AUC Mean 88.79% - Deter 174\n",
      "Ite 00800 - 0.10 sec - Loss 0.028121 - ACC 81.46% - ACC Mean 81.61% - AUC 88.97% - AUC Mean 89.13% - Deter 224\n",
      "Ite 00850 - 0.10 sec - Loss 0.027724 - ACC 82.58% - ACC Mean 81.31% - AUC 89.42% - AUC Mean 88.96% - Deter 274\n",
      "Ite 00900 - 0.10 sec - Loss 0.027378 - ACC 80.44% - ACC Mean 80.83% - AUC 89.22% - AUC Mean 88.83% - Deter 324\n",
      "Ite 00950 - 0.16 sec - Loss 0.027007 - ACC 81.95% - ACC Mean 81.05% - AUC 88.21% - AUC Mean 89.24% - Deter 374\n",
      "Ite 00976 - 0.09 sec - Loss 0.026810 - ACC 82.32% - ACC Mean 81.60% - AUC 89.86% - AUC Mean 89.05% - Deter 400\n",
      "Early stop ite 976, rollback to correction of ite 576, whith acc of 84.37% and auc of 91.14%\n",
      "OUR METHOD RUN 7/10 - acc: 84.37% +- 0.0% - auc: 91.14% +- 0.0%\n",
      "Ite 00000 - 0.10 sec - Loss 0.100942 - ACC 81.19% - ACC Mean 81.19% - AUC 88.35% - AUC Mean 88.35% - Deter 000\n",
      "Ite 00050 - 0.14 sec - Loss 0.094430 - ACC 81.44% - ACC Mean 81.19% - AUC 88.55% - AUC Mean 88.34% - Deter 030\n",
      "Ite 00100 - 0.11 sec - Loss 0.080230 - ACC 81.86% - ACC Mean 81.55% - AUC 89.33% - AUC Mean 88.87% - Deter 027\n",
      "Ite 00150 - 0.10 sec - Loss 0.057622 - ACC 81.00% - ACC Mean 80.66% - AUC 88.86% - AUC Mean 88.38% - Deter 077\n",
      "Ite 00200 - 0.19 sec - Loss 0.041193 - ACC 82.22% - ACC Mean 81.65% - AUC 89.35% - AUC Mean 89.00% - Deter 014\n",
      "Ite 00250 - 0.30 sec - Loss 0.035934 - ACC 82.00% - ACC Mean 81.79% - AUC 88.74% - AUC Mean 89.08% - Deter 064\n",
      "Ite 00300 - 0.19 sec - Loss 0.034596 - ACC 81.11% - ACC Mean 81.77% - AUC 88.80% - AUC Mean 89.03% - Deter 114\n",
      "Ite 00350 - 0.09 sec - Loss 0.034126 - ACC 81.61% - ACC Mean 81.88% - AUC 89.34% - AUC Mean 89.10% - Deter 164\n",
      "Ite 00400 - 0.10 sec - Loss 0.033845 - ACC 82.00% - ACC Mean 81.91% - AUC 87.87% - AUC Mean 89.06% - Deter 214\n",
      "Ite 00450 - 0.09 sec - Loss 0.033615 - ACC 80.40% - ACC Mean 82.03% - AUC 88.31% - AUC Mean 88.83% - Deter 264\n",
      "Ite 00500 - 0.50 sec - Loss 0.033348 - ACC 82.16% - ACC Mean 81.25% - AUC 88.00% - AUC Mean 88.25% - Deter 314\n",
      "Ite 00550 - 0.09 sec - Loss 0.033042 - ACC 82.42% - ACC Mean 81.33% - AUC 88.31% - AUC Mean 88.19% - Deter 364\n",
      "Ite 00586 - 0.09 sec - Loss 0.032742 - ACC 82.24% - ACC Mean 81.68% - AUC 88.82% - AUC Mean 88.61% - Deter 400\n",
      "Early stop ite 586, rollback to correction of ite 186, whith acc of 83.03% and auc of 89.75%\n",
      "OUR METHOD RUN 8/10 - acc: 83.03% +- 0.0% - auc: 89.75% +- 0.0%\n",
      "Ite 00000 - 0.10 sec - Loss 0.099755 - ACC 82.81% - ACC Mean 82.81% - AUC 89.33% - AUC Mean 89.33% - Deter 000\n",
      "Ite 00050 - 0.13 sec - Loss 0.093349 - ACC 81.65% - ACC Mean 81.55% - AUC 89.44% - AUC Mean 88.59% - Deter 000\n",
      "Ite 00100 - 0.12 sec - Loss 0.076746 - ACC 81.34% - ACC Mean 81.58% - AUC 88.49% - AUC Mean 88.86% - Deter 050\n",
      "Ite 00150 - 0.10 sec - Loss 0.050407 - ACC 81.74% - ACC Mean 81.53% - AUC 88.76% - AUC Mean 88.54% - Deter 100\n",
      "Ite 00200 - 0.11 sec - Loss 0.038010 - ACC 82.00% - ACC Mean 81.36% - AUC 88.45% - AUC Mean 88.23% - Deter 150\n",
      "Ite 00250 - 0.10 sec - Loss 0.035126 - ACC 80.92% - ACC Mean 81.36% - AUC 88.25% - AUC Mean 88.27% - Deter 200\n",
      "Ite 00300 - 0.10 sec - Loss 0.034235 - ACC 80.32% - ACC Mean 80.67% - AUC 87.94% - AUC Mean 88.01% - Deter 250\n",
      "Ite 00350 - 0.10 sec - Loss 0.033788 - ACC 80.06% - ACC Mean 80.51% - AUC 87.92% - AUC Mean 87.93% - Deter 300\n",
      "Ite 00400 - 0.09 sec - Loss 0.033431 - ACC 80.02% - ACC Mean 80.39% - AUC 87.85% - AUC Mean 87.94% - Deter 350\n",
      "Ite 00450 - 0.10 sec - Loss 0.033074 - ACC 80.27% - ACC Mean 80.28% - AUC 87.84% - AUC Mean 87.86% - Deter 400\n",
      "Early stop ite 450, rollback to correction of ite 50, whith acc of 81.65% and auc of 89.44%\n",
      "OUR METHOD RUN 9/10 - acc: 81.65% +- 0.0% - auc: 89.44% +- 0.0%\n",
      "Ite 00000 - 0.10 sec - Loss 0.099834 - ACC 81.90% - ACC Mean 81.90% - AUC 88.31% - AUC Mean 88.31% - Deter 000\n",
      "Ite 00050 - 0.10 sec - Loss 0.093550 - ACC 81.90% - ACC Mean 81.58% - AUC 88.65% - AUC Mean 88.18% - Deter 041\n",
      "Ite 00100 - 0.09 sec - Loss 0.078020 - ACC 80.99% - ACC Mean 81.09% - AUC 87.80% - AUC Mean 88.10% - Deter 041\n",
      "Ite 00150 - 0.10 sec - Loss 0.054380 - ACC 81.30% - ACC Mean 80.93% - AUC 87.61% - AUC Mean 88.13% - Deter 091\n",
      "Ite 00200 - 0.10 sec - Loss 0.040817 - ACC 80.40% - ACC Mean 81.14% - AUC 88.52% - AUC Mean 88.50% - Deter 028\n",
      "Ite 00250 - 0.09 sec - Loss 0.036555 - ACC 80.89% - ACC Mean 81.39% - AUC 88.96% - AUC Mean 88.77% - Deter 028\n",
      "Ite 00300 - 0.09 sec - Loss 0.035097 - ACC 80.77% - ACC Mean 81.23% - AUC 89.21% - AUC Mean 88.80% - Deter 001\n",
      "Ite 00350 - 0.10 sec - Loss 0.034444 - ACC 80.88% - ACC Mean 81.43% - AUC 89.38% - AUC Mean 89.01% - Deter 051\n",
      "Ite 00400 - 0.09 sec - Loss 0.034031 - ACC 82.72% - ACC Mean 81.86% - AUC 89.40% - AUC Mean 89.18% - Deter 024\n",
      "Ite 00450 - 0.10 sec - Loss 0.033707 - ACC 82.07% - ACC Mean 81.86% - AUC 89.13% - AUC Mean 89.17% - Deter 074\n",
      "Ite 00500 - 0.10 sec - Loss 0.033378 - ACC 81.90% - ACC Mean 81.68% - AUC 88.78% - AUC Mean 89.13% - Deter 028\n",
      "Ite 00550 - 0.10 sec - Loss 0.033011 - ACC 82.22% - ACC Mean 81.62% - AUC 88.60% - AUC Mean 88.89% - Deter 078\n",
      "Ite 00600 - 0.27 sec - Loss 0.032535 - ACC 81.40% - ACC Mean 81.44% - AUC 89.07% - AUC Mean 88.73% - Deter 128\n",
      "Ite 00650 - 0.10 sec - Loss 0.031940 - ACC 81.60% - ACC Mean 81.61% - AUC 89.02% - AUC Mean 88.88% - Deter 178\n",
      "Ite 00700 - 0.10 sec - Loss 0.031221 - ACC 81.34% - ACC Mean 81.58% - AUC 88.54% - AUC Mean 89.27% - Deter 017\n",
      "Ite 00750 - 0.09 sec - Loss 0.030486 - ACC 81.30% - ACC Mean 81.49% - AUC 90.13% - AUC Mean 89.30% - Deter 067\n",
      "Ite 00800 - 0.10 sec - Loss 0.029787 - ACC 80.32% - ACC Mean 81.71% - AUC 88.87% - AUC Mean 89.42% - Deter 008\n",
      "Ite 00850 - 0.09 sec - Loss 0.029072 - ACC 80.90% - ACC Mean 82.03% - AUC 88.79% - AUC Mean 89.32% - Deter 029\n",
      "Ite 00900 - 0.10 sec - Loss 0.028385 - ACC 81.93% - ACC Mean 81.44% - AUC 88.67% - AUC Mean 88.64% - Deter 079\n",
      "Ite 00950 - 0.10 sec - Loss 0.027810 - ACC 81.37% - ACC Mean 81.79% - AUC 87.75% - AUC Mean 88.52% - Deter 129\n",
      "Ite 01000 - 0.09 sec - Loss 0.027305 - ACC 82.18% - ACC Mean 82.47% - AUC 88.97% - AUC Mean 89.07% - Deter 179\n",
      "Ite 01050 - 0.09 sec - Loss 0.026904 - ACC 82.32% - ACC Mean 82.37% - AUC 88.15% - AUC Mean 88.79% - Deter 229\n",
      "Ite 01100 - 0.09 sec - Loss 0.026447 - ACC 83.54% - ACC Mean 82.76% - AUC 88.90% - AUC Mean 88.87% - Deter 279\n",
      "Ite 01150 - 0.09 sec - Loss 0.026017 - ACC 82.46% - ACC Mean 82.82% - AUC 88.76% - AUC Mean 88.58% - Deter 329\n",
      "Ite 01200 - 0.10 sec - Loss 0.025645 - ACC 81.95% - ACC Mean 81.97% - AUC 88.38% - AUC Mean 88.52% - Deter 379\n",
      "Ite 01221 - 0.11 sec - Loss 0.025524 - ACC 82.38% - ACC Mean 81.78% - AUC 87.81% - AUC Mean 88.53% - Deter 400\n",
      "Early stop ite 1221, rollback to correction of ite 821, whith acc of 82.51% and auc of 91.11%\n",
      "OUR METHOD RUN 10/10 - acc: 82.51% +- 0.0% - auc: 91.11% +- 0.0%\n",
      "\n",
      "OUR METHOD GLOBAL - acc: 82.62% +- 0.96% - auc: 90.15% +- 0.64%\n"
     ]
    }
   ],
   "source": [
    "params = {\n",
    "    'nb_batches': 10,\n",
    "    'reg_noise_std': .03,\n",
    "    'net_input': 'data_corrupted',\n",
    "    'net_params': [80, 80],\n",
    "    'adam_lr': .0001,\n",
    "    'adam_weight_decay': 0.,\n",
    "}\n",
    "\n",
    "ours_accs, ours_aucs = [], []\n",
    "for i in range(n_runs):\n",
    "    ours_correction = correction.run(data_missing, 4001, params, y=y, missing_mask=missing_mask, seed=i)\n",
    "    ## Since our method returns 2 imputations select the best one\n",
    "    scores_raw = utils.get_scores(ours_correction['raw_out'], y)\n",
    "    acc = scores_raw['test_balanced_accuracy']\n",
    "    auc = scores_raw['test_roc_auc_ovo']\n",
    "    acc = acc.mean()\n",
    "    acc_std = acc.std()\n",
    "    auc = auc.mean()\n",
    "    auc_std = auc.std()\n",
    "    if 'masked_out' in ours_correction:\n",
    "        scores_masked = utils.get_scores(ours_correction['masked_out'], y)\n",
    "        acc_masked = scores_masked['test_balanced_accuracy']\n",
    "        auc_masked = scores_masked['test_roc_auc_ovo']\n",
    "        if auc_masked.mean() > auc:\n",
    "            acc = acc_masked.mean()\n",
    "            acc_std = acc_masked.std()\n",
    "            auc = auc_masked.mean()\n",
    "            auc_std = auc_masked.std()\n",
    "    print(f'OUR METHOD RUN {i + 1}/{n_runs} - acc: {round(acc.mean() * 100, 2)}% +- {round(acc.std() * 100, 2)}% - ' +\n",
    "          f'auc: {round(auc.mean() * 100, 2)}% +- {round(auc.std() * 100, 2)}%')\n",
    "    ours_accs.append(acc.mean())\n",
    "    ours_aucs.append(auc.mean())\n",
    "print(f'\\nOUR METHOD GLOBAL - acc: {round(np.array(ours_accs).mean() * 100, 2)}% +- {round(np.array(ours_accs).std() * 100, 2)}% - ' +\n",
    "      f'auc: {round(np.array(ours_aucs).mean() * 100, 2)}% +- {round(np.array(ours_aucs).std() * 100, 2)}%')"
   ]
  },
  {
   "cell_type": "markdown",
   "metadata": {},
   "source": [
    "## Run MICE"
   ]
  },
  {
   "cell_type": "code",
   "execution_count": 5,
   "metadata": {
    "ExecuteTime": {
     "end_time": "2022-06-07T08:25:47.812154Z",
     "start_time": "2022-06-07T08:25:41.125881Z"
    },
    "execution": {
     "iopub.execute_input": "2022-06-07T09:22:48.543832Z",
     "iopub.status.busy": "2022-06-07T09:22:48.541072Z",
     "iopub.status.idle": "2022-06-07T09:23:03.420520Z",
     "shell.execute_reply": "2022-06-07T09:23:03.419983Z"
    }
   },
   "outputs": [
    {
     "name": "stdout",
     "output_type": "stream",
     "text": [
      "MICE - acc: 79.73% +- 0.0% - auc: 88.37% +- 0.0%\n"
     ]
    }
   ],
   "source": [
    "data_missing_nans = np.where(missing_mask, data_missing, np.nan)\n",
    "\n",
    "imputer = IterativeImputer()\n",
    "imputed = imputer.fit_transform(data_missing_nans)\n",
    "## All runs would be the same since deterministic method\n",
    "scores = utils.get_scores(imputed, y)\n",
    "acc = [scores['test_balanced_accuracy'].mean()] * n_runs\n",
    "auc = [scores['test_roc_auc_ovo'].mean()] * n_runs\n",
    "print(f'MICE - acc: {round(np.mean(acc) * 100, 2)}% +- {round(np.std(acc) * 100, 2)}% - ' +\n",
    "      f'auc: {round(np.mean(auc) * 100, 2)}% +- {round(np.std(auc) * 100, 2)}%')\n",
    "mice_accs = acc\n",
    "mice_aucs = auc"
   ]
  },
  {
   "cell_type": "markdown",
   "metadata": {},
   "source": [
    "## Run SFIL"
   ]
  },
  {
   "cell_type": "code",
   "execution_count": 6,
   "metadata": {
    "ExecuteTime": {
     "end_time": "2022-06-07T08:25:49.133209Z",
     "start_time": "2022-06-07T08:25:47.813384Z"
    },
    "execution": {
     "iopub.execute_input": "2022-06-07T09:23:03.425665Z",
     "iopub.status.busy": "2022-06-07T09:23:03.425167Z",
     "iopub.status.idle": "2022-06-07T09:23:06.166603Z",
     "shell.execute_reply": "2022-06-07T09:23:06.166147Z"
    }
   },
   "outputs": [
    {
     "name": "stdout",
     "output_type": "stream",
     "text": [
      "SFIL RUN 1/10 - acc: 79.86% +- 2.0% - auc: 84.78% +- 4.6%\n",
      "SFIL RUN 2/10 - acc: 79.71% +- 4.4% - auc: 84.11% +- 4.8%\n",
      "SFIL RUN 3/10 - acc: 78.43% +- 2.86% - auc: 83.89% +- 3.55%\n",
      "SFIL RUN 4/10 - acc: 79.88% +- 7.24% - auc: 86.71% +- 5.35%\n",
      "SFIL RUN 5/10 - acc: 79.42% +- 3.24% - auc: 84.11% +- 3.28%\n",
      "SFIL RUN 6/10 - acc: 79.12% +- 4.86% - auc: 81.56% +- 3.14%\n",
      "SFIL RUN 7/10 - acc: 79.28% +- 4.28% - auc: 83.52% +- 1.9%\n",
      "SFIL RUN 8/10 - acc: 81.02% +- 3.25% - auc: 85.76% +- 4.75%\n",
      "SFIL RUN 9/10 - acc: 76.11% +- 6.64% - auc: 83.15% +- 4.06%\n",
      "SFIL RUN 10/10 - acc: 78.39% +- 3.72% - auc: 82.48% +- 4.23%\n",
      "SFIL GLOBAL - acc: 79.12% +- 1.24% - auc: 84.01% +- 1.42%\n"
     ]
    }
   ],
   "source": [
    "sfil_accs, sfil_aucs = [], []\n",
    "for i in range(n_runs):\n",
    "    acc, auc = filtering(imputed, y, mode='standard', random_state=i)\n",
    "    sfil_accs.append(acc.mean())\n",
    "    sfil_aucs.append(auc.mean())\n",
    "    print(f'SFIL RUN {i + 1}/{n_runs} - acc: {round(np.mean(acc) * 100, 2)}% +- {round(np.std(acc) * 100, 2)}% - ' +\n",
    "          f'auc: {round(np.mean(auc) * 100, 2)}% +- {round(np.std(auc) * 100, 2)}%')\n",
    "print(f'SFIL GLOBAL - acc: {round(np.mean(sfil_accs) * 100, 2)}% +- {round(np.std(sfil_accs) * 100, 2)}% - ' +\n",
    "      f'auc: {round(np.mean(sfil_aucs) * 100, 2)}% +- {round(np.std(sfil_aucs) * 100, 2)}%')"
   ]
  },
  {
   "cell_type": "markdown",
   "metadata": {},
   "source": [
    "## Run PFIL"
   ]
  },
  {
   "cell_type": "code",
   "execution_count": 7,
   "metadata": {
    "ExecuteTime": {
     "end_time": "2022-06-07T08:35:09.194980Z",
     "start_time": "2022-06-07T08:25:49.134766Z"
    },
    "execution": {
     "iopub.execute_input": "2022-06-07T09:23:06.177001Z",
     "iopub.status.busy": "2022-06-07T09:23:06.176561Z",
     "iopub.status.idle": "2022-06-07T09:39:00.603880Z",
     "shell.execute_reply": "2022-06-07T09:39:00.604907Z"
    },
    "scrolled": false
   },
   "outputs": [
    {
     "name": "stdout",
     "output_type": "stream",
     "text": [
      "PFIL RUN 1/10 - acc: 79.88% +- 5.64% - auc: 84.55% +- 5.71%\n",
      "PFIL RUN 2/10 - acc: 81.55% +- 3.3% - auc: 88.15% +- 2.8%\n",
      "PFIL RUN 3/10 - acc: 83.2% +- 4.15% - auc: 88.76% +- 2.59%\n",
      "PFIL RUN 4/10 - acc: 82.74% +- 2.95% - auc: 89.54% +- 1.83%\n",
      "PFIL RUN 5/10 - acc: 82.93% +- 4.69% - auc: 88.75% +- 5.06%\n",
      "PFIL RUN 6/10 - acc: 81.89% +- 3.61% - auc: 88.35% +- 2.82%\n",
      "PFIL RUN 7/10 - acc: 81.93% +- 2.51% - auc: 87.54% +- 4.78%\n",
      "PFIL RUN 8/10 - acc: 81.21% +- 4.8% - auc: 88.76% +- 3.74%\n",
      "PFIL RUN 9/10 - acc: 80.91% +- 3.08% - auc: 87.3% +- 3.86%\n",
      "PFIL RUN 10/10 - acc: 84.11% +- 4.08% - auc: 89.74% +- 2.61%\n",
      "PFIL GLOBAL - acc: 82.04% +- 1.18% - auc: 88.14% +- 1.4%\n"
     ]
    }
   ],
   "source": [
    "pfil_accs, pfil_aucs = [], []\n",
    "for i in range(n_runs):\n",
    "    acc, auc = filtering(imputed, y, mode='panda', random_state=i)\n",
    "    pfil_accs.append(acc.mean())\n",
    "    pfil_aucs.append(auc.mean())\n",
    "    print(f'PFIL RUN {i + 1}/{n_runs} - acc: {round(np.mean(acc) * 100, 2)}% +- {round(np.std(acc) * 100, 2)}% - ' +\n",
    "          f'auc: {round(np.mean(auc) * 100, 2)}% +- {round(np.std(auc) * 100, 2)}%')\n",
    "print(f'PFIL GLOBAL - acc: {round(np.mean(pfil_accs) * 100, 2)}% +- {round(np.std(pfil_accs) * 100, 2)}% - ' +\n",
    "      f'auc: {round(np.mean(pfil_aucs) * 100, 2)}% +- {round(np.std(pfil_aucs) * 100, 2)}%')"
   ]
  },
  {
   "cell_type": "markdown",
   "metadata": {},
   "source": [
    "## Run SPOL"
   ]
  },
  {
   "cell_type": "code",
   "execution_count": 8,
   "metadata": {
    "ExecuteTime": {
     "end_time": "2022-06-07T08:50:33.353751Z",
     "start_time": "2022-06-07T08:49:36.684786Z"
    },
    "execution": {
     "iopub.execute_input": "2022-06-07T09:39:00.614570Z",
     "iopub.status.busy": "2022-06-07T09:39:00.613614Z",
     "iopub.status.idle": "2022-06-07T09:39:42.828307Z",
     "shell.execute_reply": "2022-06-07T09:39:42.829303Z"
    }
   },
   "outputs": [
    {
     "name": "stdout",
     "output_type": "stream",
     "text": [
      "SPOL RUN 1/10 - acc: 80.14% +- 4.66% - auc: 85.83% +- 4.54%\n",
      "SPOL RUN 2/10 - acc: 80.65% +- 4.63% - auc: 85.49% +- 5.1%\n",
      "SPOL RUN 3/10 - acc: 78.43% +- 3.57% - auc: 84.38% +- 2.02%\n",
      "SPOL RUN 4/10 - acc: 83.5% +- 1.78% - auc: 87.73% +- 0.74%\n",
      "SPOL RUN 5/10 - acc: 81.55% +- 3.84% - auc: 87.73% +- 3.37%\n",
      "SPOL RUN 6/10 - acc: 81.2% +- 6.36% - auc: 87.66% +- 3.79%\n",
      "SPOL RUN 7/10 - acc: 79.96% +- 3.84% - auc: 85.37% +- 3.44%\n",
      "SPOL RUN 8/10 - acc: 78.55% +- 4.76% - auc: 86.21% +- 4.58%\n",
      "SPOL RUN 9/10 - acc: 80.73% +- 2.56% - auc: 83.36% +- 4.21%\n",
      "SPOL RUN 10/10 - acc: 79.41% +- 3.29% - auc: 88.4% +- 3.39%\n",
      "SPOL GLOBAL - acc: 80.41% +- 1.43% - auc: 86.21% +- 1.56%\n"
     ]
    }
   ],
   "source": [
    "spol_accs, spol_aucs = [], []\n",
    "for i in range(n_runs):\n",
    "    acc, auc = polishing(imputed, y, mode='standard', random_state=i)\n",
    "    spol_accs.append(acc.mean())\n",
    "    spol_aucs.append(auc.mean())\n",
    "    print(f'SPOL RUN {i + 1}/{n_runs} - acc: {round(np.mean(acc) * 100, 2)}% +- {round(np.std(acc) * 100, 2)}% - ' +\n",
    "          f'auc: {round(np.mean(auc) * 100, 2)}% +- {round(np.std(auc) * 100, 2)}%')\n",
    "print(f'SPOL GLOBAL - acc: {round(np.mean(spol_accs) * 100, 2)}% +- {round(np.std(spol_accs) * 100, 2)}% - ' +\n",
    "      f'auc: {round(np.mean(spol_aucs) * 100, 2)}% +- {round(np.std(spol_aucs) * 100, 2)}%')"
   ]
  },
  {
   "cell_type": "markdown",
   "metadata": {},
   "source": [
    "## Run PPOL"
   ]
  },
  {
   "cell_type": "code",
   "execution_count": 9,
   "metadata": {
    "ExecuteTime": {
     "end_time": "2022-06-07T08:54:57.736311Z",
     "start_time": "2022-06-07T08:54:53.057083Z"
    },
    "execution": {
     "iopub.execute_input": "2022-06-07T09:39:42.845836Z",
     "iopub.status.busy": "2022-06-07T09:39:42.839785Z",
     "iopub.status.idle": "2022-06-07T09:59:11.307313Z",
     "shell.execute_reply": "2022-06-07T09:59:11.308410Z"
    }
   },
   "outputs": [
    {
     "name": "stdout",
     "output_type": "stream",
     "text": [
      "PPOL RUN 1/10 - acc: 82.25% +- 5.35% - auc: 88.29% +- 4.69%\n",
      "PPOL RUN 2/10 - acc: 79.19% +- 4.66% - auc: 85.35% +- 6.11%\n",
      "PPOL RUN 3/10 - acc: 83.05% +- 1.82% - auc: 88.46% +- 1.3%\n",
      "PPOL RUN 4/10 - acc: 80.26% +- 1.07% - auc: 87.15% +- 3.01%\n",
      "PPOL RUN 5/10 - acc: 82.4% +- 2.39% - auc: 88.55% +- 4.21%\n",
      "PPOL RUN 6/10 - acc: 81.02% +- 3.36% - auc: 88.6% +- 1.91%\n",
      "PPOL RUN 7/10 - acc: 81.62% +- 4.03% - auc: 86.54% +- 4.56%\n",
      "PPOL RUN 8/10 - acc: 76.56% +- 4.79% - auc: 84.71% +- 6.53%\n",
      "PPOL RUN 9/10 - acc: 80.14% +- 3.64% - auc: 88.38% +- 3.53%\n",
      "PPOL RUN 10/10 - acc: 79.48% +- 1.37% - auc: 85.21% +- 1.77%\n",
      "PPOL GLOBAL - acc: 80.6% +- 1.82% - auc: 87.13% +- 1.48%\n"
     ]
    }
   ],
   "source": [
    "ppol_accs, ppol_aucs = [], []\n",
    "for i in range(n_runs):\n",
    "    acc, auc = polishing(imputed, y, mode='panda', random_state=i)\n",
    "    ppol_accs.append(acc.mean())\n",
    "    ppol_aucs.append(auc.mean())\n",
    "    print(f'PPOL RUN {i + 1}/{n_runs} - acc: {round(np.mean(acc) * 100, 2)}% +- {round(np.std(acc) * 100, 2)}% - ' +\n",
    "          f'auc: {round(np.mean(auc) * 100, 2)}% +- {round(np.std(auc) * 100, 2)}%')\n",
    "print(f'PPOL GLOBAL - acc: {round(np.mean(ppol_accs) * 100, 2)}% +- {round(np.std(ppol_accs) * 100, 2)}% - ' +\n",
    "      f'auc: {round(np.mean(ppol_aucs) * 100, 2)}% +- {round(np.std(ppol_aucs) * 100, 2)}%')"
   ]
  },
  {
   "cell_type": "markdown",
   "metadata": {},
   "source": [
    "## Run T-tests"
   ]
  },
  {
   "cell_type": "code",
   "execution_count": 10,
   "metadata": {
    "ExecuteTime": {
     "end_time": "2022-06-07T08:52:25.983958Z",
     "start_time": "2022-06-07T08:52:25.963898Z"
    },
    "execution": {
     "iopub.execute_input": "2022-06-07T09:59:11.320326Z",
     "iopub.status.busy": "2022-06-07T09:59:11.319151Z",
     "iopub.status.idle": "2022-06-07T09:59:11.323004Z",
     "shell.execute_reply": "2022-06-07T09:59:11.323979Z"
    },
    "scrolled": false
   },
   "outputs": [
    {
     "name": "stdout",
     "output_type": "stream",
     "text": [
      "Metric ACC - OUR METHOD is significantly better than MICE\n",
      "Metric AUC - OUR METHOD is significantly better than MICE\n",
      "Metric ACC - OUR METHOD is significantly better than SFIL\n",
      "Metric AUC - OUR METHOD is significantly better than SFIL\n",
      "Metric ACC - OUR METHOD is even with PFIL\n",
      "Metric AUC - OUR METHOD is significantly better than PFIL\n",
      "Metric ACC - OUR METHOD is significantly better than SPOL\n",
      "Metric AUC - OUR METHOD is significantly better than SPOL\n",
      "Metric ACC - OUR METHOD is significantly better than PPOL\n",
      "Metric AUC - OUR METHOD is significantly better than PPOL\n"
     ]
    }
   ],
   "source": [
    "for model, metrics in {\n",
    "        'MICE': {'ACC': mice_accs, 'AUC': mice_aucs},\n",
    "        'SFIL': {'ACC': sfil_accs, 'AUC': sfil_aucs},\n",
    "        'PFIL': {'ACC': pfil_accs, 'AUC': pfil_aucs},\n",
    "        'SPOL': {'ACC': spol_accs, 'AUC': spol_aucs},\n",
    "        'PPOL': {'ACC': ppol_accs, 'AUC': ppol_aucs}}.items():\n",
    "    for metric_name, metric in metrics.items():\n",
    "        ours_metric = ours_accs if metric_name == 'ACC' else ours_aucs\n",
    "        t, p = scipy.stats.ttest_ind(np.array(ours_metric), np.array(metric))\n",
    "        if p <= .05:\n",
    "            if t > 0:\n",
    "                ## Our method is better\n",
    "                print(f'Metric {metric_name} - OUR METHOD is significantly better than {model}')\n",
    "            else:\n",
    "                ## Theirs is better\n",
    "                print(f'Metric {metric_name} - OUR METHOD is significantly worse than {model}')\n",
    "        else:\n",
    "            ## Else we are even\n",
    "            print(f'Metric {metric_name} - OUR METHOD is even with {model}')"
   ]
  }
 ],
 "metadata": {
  "kernelspec": {
   "display_name": "Python 3 (ipykernel)",
   "language": "python",
   "name": "python3"
  },
  "language_info": {
   "codemirror_mode": {
    "name": "ipython",
    "version": 3
   },
   "file_extension": ".py",
   "mimetype": "text/x-python",
   "name": "python",
   "nbconvert_exporter": "python",
   "pygments_lexer": "ipython3",
   "version": "3.9.7"
  },
  "latex_envs": {
   "LaTeX_envs_menu_present": true,
   "autoclose": false,
   "autocomplete": true,
   "bibliofile": "biblio.bib",
   "cite_by": "apalike",
   "current_citInitial": 1,
   "eqLabelWithNumbers": true,
   "eqNumInitial": 1,
   "hotkeys": {
    "equation": "Ctrl-E",
    "itemize": "Ctrl-I"
   },
   "labels_anchors": false,
   "latex_user_defs": false,
   "report_style_numbering": false,
   "user_envs_cfg": false
  }
 },
 "nbformat": 4,
 "nbformat_minor": 2
}
