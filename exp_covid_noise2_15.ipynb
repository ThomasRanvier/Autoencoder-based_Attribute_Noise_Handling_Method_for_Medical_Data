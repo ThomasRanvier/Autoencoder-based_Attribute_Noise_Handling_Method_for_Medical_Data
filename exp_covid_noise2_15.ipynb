{
 "cells": [
  {
   "cell_type": "code",
   "execution_count": 1,
   "metadata": {
    "ExecuteTime": {
     "end_time": "2022-06-07T08:11:39.412870Z",
     "start_time": "2022-06-07T08:11:35.692131Z"
    },
    "execution": {
     "iopub.execute_input": "2022-06-07T09:01:46.556174Z",
     "iopub.status.busy": "2022-06-07T09:01:46.555647Z",
     "iopub.status.idle": "2022-06-07T09:01:52.100832Z",
     "shell.execute_reply": "2022-06-07T09:01:52.099099Z"
    }
   },
   "outputs": [],
   "source": [
    "from __future__ import print_function\n",
    "import warnings\n",
    "warnings.filterwarnings('ignore')\n",
    "## Disable tf future deprecated messages\n",
    "import logging\n",
    "logging.getLogger('tensorflow').disabled = True\n",
    "## Disable tf CUDA messages\n",
    "import os\n",
    "os.environ['TF_CPP_MIN_LOG_LEVEL'] = '3'\n",
    "\n",
    "%matplotlib inline\n",
    "\n",
    "import sys\n",
    "import random\n",
    "import numpy as np\n",
    "import pandas as pd\n",
    "\n",
    "import utils\n",
    "import correction\n",
    "from models.dense import *\n",
    "from models.gain import gain\n",
    "from models.soft_impute import SoftImpute\n",
    "from models.sinkhorn import OTimputer\n",
    "from models.mida import mida\n",
    "from models.polishing import polishing\n",
    "from models.filtering import filtering\n",
    "\n",
    "import scipy.stats\n",
    "\n",
    "from sklearn.experimental import enable_iterative_imputer\n",
    "from sklearn.impute import IterativeImputer\n",
    "from sklearn.impute import KNNImputer, SimpleImputer\n",
    "\n",
    "import sklearn.neighbors._base\n",
    "sys.modules['sklearn.neighbors.base'] = sklearn.neighbors._base\n",
    "from missingpy import MissForest\n",
    "\n",
    "torch.backends.cudnn.enabled = True\n",
    "torch.backends.cudnn.benchmark = True\n",
    "dtype = torch.cuda.FloatTensor"
   ]
  },
  {
   "cell_type": "markdown",
   "metadata": {},
   "source": [
    "## Repeat all experiments for 10 runs"
   ]
  },
  {
   "cell_type": "code",
   "execution_count": 2,
   "metadata": {
    "ExecuteTime": {
     "end_time": "2022-06-07T08:11:39.417491Z",
     "start_time": "2022-06-07T08:11:39.415081Z"
    },
    "execution": {
     "iopub.execute_input": "2022-06-07T09:01:52.110350Z",
     "iopub.status.busy": "2022-06-07T09:01:52.109351Z",
     "iopub.status.idle": "2022-06-07T09:01:52.113269Z",
     "shell.execute_reply": "2022-06-07T09:01:52.112443Z"
    }
   },
   "outputs": [],
   "source": [
    "n_runs = 10"
   ]
  },
  {
   "cell_type": "markdown",
   "metadata": {},
   "source": [
    "## Load data"
   ]
  },
  {
   "cell_type": "code",
   "execution_count": 3,
   "metadata": {
    "ExecuteTime": {
     "end_time": "2022-06-07T08:11:41.218694Z",
     "start_time": "2022-06-07T08:11:39.419632Z"
    },
    "execution": {
     "iopub.execute_input": "2022-06-07T09:01:52.122868Z",
     "iopub.status.busy": "2022-06-07T09:01:52.122110Z",
     "iopub.status.idle": "2022-06-07T09:01:56.074311Z",
     "shell.execute_reply": "2022-06-07T09:01:56.074704Z"
    }
   },
   "outputs": [
    {
     "name": "stdout",
     "output_type": "stream",
     "text": [
      "Dataset shape: (361, 80)\n",
      "19.75% missing data\n",
      "Class distribution: (array([0, 1]), array([195, 166]))\n"
     ]
    }
   ],
   "source": [
    "data_missing, missing_mask, y = utils.load_covid()\n",
    "## Inject noise\n",
    "data_missing = utils.inject_noise(data_missing.copy(), noise_rate=.15)\n",
    "## Replace missing values locations by 0\n",
    "data_missing = data_missing * missing_mask"
   ]
  },
  {
   "cell_type": "markdown",
   "metadata": {},
   "source": [
    "## Run OUR METHOD"
   ]
  },
  {
   "cell_type": "code",
   "execution_count": 4,
   "metadata": {
    "ExecuteTime": {
     "end_time": "2022-06-07T08:25:41.124140Z",
     "start_time": "2022-06-07T08:11:41.222736Z"
    },
    "execution": {
     "iopub.execute_input": "2022-06-07T09:01:56.090737Z",
     "iopub.status.busy": "2022-06-07T09:01:56.090273Z",
     "iopub.status.idle": "2022-06-07T09:17:03.917709Z",
     "shell.execute_reply": "2022-06-07T09:17:03.918678Z"
    },
    "scrolled": false
   },
   "outputs": [
    {
     "name": "stdout",
     "output_type": "stream",
     "text": [
      "Ite 00000 - 0.63 sec - Loss 0.100253 - ACC 78.60% - ACC Mean 78.60% - AUC 86.69% - AUC Mean 86.69% - Deter 000\n",
      "Ite 00050 - 0.11 sec - Loss 0.094004 - ACC 76.94% - ACC Mean 77.79% - AUC 85.43% - AUC Mean 86.57% - Deter 046\n",
      "Ite 00100 - 0.11 sec - Loss 0.078099 - ACC 77.59% - ACC Mean 76.83% - AUC 86.04% - AUC Mean 86.00% - Deter 096\n",
      "Ite 00150 - 0.48 sec - Loss 0.054582 - ACC 77.03% - ACC Mean 77.76% - AUC 85.30% - AUC Mean 86.31% - Deter 146\n",
      "Ite 00200 - 0.11 sec - Loss 0.043222 - ACC 77.00% - ACC Mean 77.84% - AUC 84.69% - AUC Mean 85.50% - Deter 196\n",
      "Ite 00250 - 0.09 sec - Loss 0.040511 - ACC 77.60% - ACC Mean 77.35% - AUC 85.22% - AUC Mean 85.01% - Deter 246\n",
      "Ite 00300 - 0.18 sec - Loss 0.039656 - ACC 77.60% - ACC Mean 77.39% - AUC 85.16% - AUC Mean 85.00% - Deter 296\n",
      "Ite 00350 - 0.12 sec - Loss 0.039176 - ACC 77.86% - ACC Mean 77.46% - AUC 85.45% - AUC Mean 85.15% - Deter 346\n",
      "Ite 00400 - 0.48 sec - Loss 0.038790 - ACC 77.85% - ACC Mean 77.72% - AUC 85.28% - AUC Mean 85.34% - Deter 396\n",
      "Ite 00404 - 0.10 sec - Loss 0.038770 - ACC 76.95% - ACC Mean 77.75% - AUC 85.59% - AUC Mean 85.36% - Deter 400\n",
      "Early stop ite 404, rollback to correction of ite 4, whith acc of 80.07% and auc of 88.19%\n",
      "OUR METHOD RUN 1/10 - acc: 80.07% +- 0.0% - auc: 88.19% +- 0.0%\n",
      "Ite 00000 - 0.38 sec - Loss 0.099667 - ACC 79.91% - ACC Mean 79.91% - AUC 87.21% - AUC Mean 87.21% - Deter 000\n",
      "Ite 00050 - 0.55 sec - Loss 0.093616 - ACC 78.54% - ACC Mean 78.23% - AUC 86.16% - AUC Mean 86.04% - Deter 050\n",
      "Ite 00100 - 0.14 sec - Loss 0.078819 - ACC 77.79% - ACC Mean 78.09% - AUC 83.84% - AUC Mean 86.00% - Deter 012\n",
      "Ite 00150 - 0.12 sec - Loss 0.055595 - ACC 77.56% - ACC Mean 77.87% - AUC 85.04% - AUC Mean 85.50% - Deter 062\n",
      "Ite 00200 - 0.49 sec - Loss 0.043694 - ACC 78.47% - ACC Mean 77.86% - AUC 85.70% - AUC Mean 85.30% - Deter 112\n",
      "Ite 00250 - 0.50 sec - Loss 0.040767 - ACC 78.47% - ACC Mean 77.78% - AUC 85.44% - AUC Mean 85.18% - Deter 162\n",
      "Ite 00300 - 0.28 sec - Loss 0.039980 - ACC 77.56% - ACC Mean 78.15% - AUC 85.49% - AUC Mean 85.37% - Deter 212\n",
      "Ite 00350 - 0.10 sec - Loss 0.039594 - ACC 77.86% - ACC Mean 78.26% - AUC 85.29% - AUC Mean 85.70% - Deter 262\n",
      "Ite 00400 - 0.11 sec - Loss 0.039287 - ACC 78.12% - ACC Mean 78.34% - AUC 85.71% - AUC Mean 85.83% - Deter 312\n",
      "Ite 00450 - 0.10 sec - Loss 0.038967 - ACC 78.12% - ACC Mean 78.37% - AUC 85.71% - AUC Mean 85.96% - Deter 362\n",
      "Ite 00488 - 0.45 sec - Loss 0.038677 - ACC 78.12% - ACC Mean 78.28% - AUC 85.84% - AUC Mean 85.75% - Deter 400\n",
      "Early stop ite 488, rollback to correction of ite 88, whith acc of 78.39% and auc of 87.73%\n",
      "OUR METHOD RUN 2/10 - acc: 78.39% +- 0.0% - auc: 87.73% +- 0.0%\n",
      "Ite 00000 - 0.18 sec - Loss 0.098920 - ACC 79.86% - ACC Mean 79.86% - AUC 87.54% - AUC Mean 87.54% - Deter 000\n",
      "Ite 00050 - 0.10 sec - Loss 0.093573 - ACC 77.18% - ACC Mean 77.99% - AUC 86.92% - AUC Mean 86.73% - Deter 049\n",
      "Ite 00100 - 0.11 sec - Loss 0.080406 - ACC 78.16% - ACC Mean 76.82% - AUC 87.34% - AUC Mean 86.38% - Deter 099\n",
      "Ite 00150 - 0.53 sec - Loss 0.057597 - ACC 78.41% - ACC Mean 78.16% - AUC 86.57% - AUC Mean 86.56% - Deter 149\n",
      "Ite 00200 - 0.17 sec - Loss 0.044639 - ACC 78.72% - ACC Mean 77.94% - AUC 87.70% - AUC Mean 86.12% - Deter 199\n",
      "Ite 00250 - 0.09 sec - Loss 0.041064 - ACC 77.07% - ACC Mean 78.22% - AUC 85.26% - AUC Mean 86.50% - Deter 249\n",
      "Ite 00300 - 0.10 sec - Loss 0.039930 - ACC 79.02% - ACC Mean 77.85% - AUC 86.89% - AUC Mean 86.31% - Deter 299\n",
      "Ite 00350 - 0.11 sec - Loss 0.039363 - ACC 77.29% - ACC Mean 77.51% - AUC 86.02% - AUC Mean 86.05% - Deter 349\n",
      "Ite 00400 - 0.12 sec - Loss 0.038946 - ACC 77.59% - ACC Mean 77.58% - AUC 85.34% - AUC Mean 86.04% - Deter 399\n",
      "Ite 00401 - 0.45 sec - Loss 0.038931 - ACC 76.99% - ACC Mean 77.58% - AUC 85.82% - AUC Mean 86.04% - Deter 400\n",
      "Early stop ite 401, rollback to correction of ite 1, whith acc of 79.21% and auc of 87.9%\n",
      "OUR METHOD RUN 3/10 - acc: 79.21% +- 0.0% - auc: 87.9% +- 0.0%\n",
      "Ite 00000 - 0.11 sec - Loss 0.099288 - ACC 78.64% - ACC Mean 78.64% - AUC 86.39% - AUC Mean 86.39% - Deter 000\n",
      "Ite 00050 - 0.10 sec - Loss 0.092099 - ACC 79.00% - ACC Mean 77.68% - AUC 86.19% - AUC Mean 86.34% - Deter 029\n",
      "Ite 00100 - 0.50 sec - Loss 0.075474 - ACC 78.09% - ACC Mean 78.09% - AUC 86.42% - AUC Mean 85.96% - Deter 079\n",
      "Ite 00150 - 0.11 sec - Loss 0.053451 - ACC 77.86% - ACC Mean 77.81% - AUC 85.36% - AUC Mean 85.98% - Deter 129\n",
      "Ite 00200 - 0.14 sec - Loss 0.043270 - ACC 77.87% - ACC Mean 77.50% - AUC 85.47% - AUC Mean 85.47% - Deter 179\n",
      "Ite 00250 - 0.11 sec - Loss 0.040672 - ACC 78.17% - ACC Mean 78.16% - AUC 85.18% - AUC Mean 85.50% - Deter 229\n",
      "Ite 00300 - 0.10 sec - Loss 0.039848 - ACC 78.17% - ACC Mean 78.32% - AUC 85.56% - AUC Mean 85.62% - Deter 279\n",
      "Ite 00350 - 0.12 sec - Loss 0.039426 - ACC 79.63% - ACC Mean 78.48% - AUC 86.45% - AUC Mean 85.65% - Deter 329\n",
      "Ite 00400 - 0.11 sec - Loss 0.039116 - ACC 78.42% - ACC Mean 78.64% - AUC 85.86% - AUC Mean 85.85% - Deter 379\n",
      "Ite 00421 - 0.13 sec - Loss 0.038997 - ACC 78.72% - ACC Mean 78.76% - AUC 86.12% - AUC Mean 85.90% - Deter 400\n",
      "Early stop ite 421, rollback to correction of ite 21, whith acc of 78.35% and auc of 87.65%\n",
      "OUR METHOD RUN 4/10 - acc: 78.35% +- 0.0% - auc: 87.65% +- 0.0%\n",
      "Ite 00000 - 0.11 sec - Loss 0.099932 - ACC 75.73% - ACC Mean 75.73% - AUC 86.49% - AUC Mean 86.49% - Deter 000\n",
      "Ite 00050 - 0.47 sec - Loss 0.093453 - ACC 75.43% - ACC Mean 76.96% - AUC 85.95% - AUC Mean 86.06% - Deter 034\n",
      "Ite 00100 - 0.11 sec - Loss 0.076878 - ACC 76.99% - ACC Mean 77.30% - AUC 86.60% - AUC Mean 86.36% - Deter 022\n",
      "Ite 00150 - 0.10 sec - Loss 0.052819 - ACC 78.13% - ACC Mean 77.45% - AUC 86.94% - AUC Mean 86.34% - Deter 045\n",
      "Ite 00200 - 0.10 sec - Loss 0.042183 - ACC 76.72% - ACC Mean 77.79% - AUC 85.87% - AUC Mean 86.55% - Deter 047\n",
      "Ite 00250 - 0.10 sec - Loss 0.040149 - ACC 77.03% - ACC Mean 77.02% - AUC 84.81% - AUC Mean 85.43% - Deter 097\n",
      "Ite 00300 - 0.10 sec - Loss 0.039556 - ACC 77.33% - ACC Mean 77.06% - AUC 84.92% - AUC Mean 85.07% - Deter 147\n",
      "Ite 00350 - 0.45 sec - Loss 0.039196 - ACC 77.03% - ACC Mean 77.06% - AUC 84.98% - AUC Mean 84.73% - Deter 197\n",
      "Ite 00400 - 0.51 sec - Loss 0.038878 - ACC 77.03% - ACC Mean 77.08% - AUC 84.60% - AUC Mean 84.78% - Deter 247\n",
      "Ite 00450 - 0.11 sec - Loss 0.038493 - ACC 77.03% - ACC Mean 77.19% - AUC 85.05% - AUC Mean 84.89% - Deter 297\n",
      "Ite 00500 - 0.11 sec - Loss 0.038038 - ACC 77.64% - ACC Mean 76.83% - AUC 85.64% - AUC Mean 85.17% - Deter 347\n",
      "Ite 00550 - 0.41 sec - Loss 0.037485 - ACC 78.11% - ACC Mean 77.57% - AUC 86.21% - AUC Mean 86.07% - Deter 397\n",
      "Ite 00553 - 0.14 sec - Loss 0.037443 - ACC 80.02% - ACC Mean 77.64% - AUC 86.80% - AUC Mean 86.12% - Deter 400\n",
      "Early stop ite 553, rollback to correction of ite 153, whith acc of 78.43% and auc of 87.49%\n",
      "OUR METHOD RUN 5/10 - acc: 78.43% +- 0.0% - auc: 87.49% +- 0.0%\n",
      "Ite 00000 - 0.53 sec - Loss 0.098909 - ACC 76.94% - ACC Mean 76.94% - AUC 85.36% - AUC Mean 85.36% - Deter 000\n",
      "Ite 00050 - 0.19 sec - Loss 0.093267 - ACC 78.74% - ACC Mean 77.43% - AUC 86.79% - AUC Mean 86.08% - Deter 004\n",
      "Ite 00100 - 0.11 sec - Loss 0.079568 - ACC 78.39% - ACC Mean 77.56% - AUC 85.93% - AUC Mean 86.26% - Deter 034\n",
      "Ite 00150 - 0.10 sec - Loss 0.056675 - ACC 77.86% - ACC Mean 78.07% - AUC 85.34% - AUC Mean 85.92% - Deter 084\n",
      "Ite 00200 - 0.54 sec - Loss 0.043904 - ACC 77.57% - ACC Mean 77.86% - AUC 85.05% - AUC Mean 85.58% - Deter 134\n",
      "Ite 00250 - 0.45 sec - Loss 0.040712 - ACC 78.17% - ACC Mean 77.98% - AUC 85.20% - AUC Mean 85.48% - Deter 184\n",
      "Ite 00300 - 0.11 sec - Loss 0.039795 - ACC 78.47% - ACC Mean 77.96% - AUC 86.59% - AUC Mean 85.59% - Deter 234\n",
      "Ite 00350 - 0.10 sec - Loss 0.039321 - ACC 78.17% - ACC Mean 77.88% - AUC 85.43% - AUC Mean 85.56% - Deter 284\n",
      "Ite 00400 - 0.09 sec - Loss 0.038950 - ACC 77.03% - ACC Mean 77.61% - AUC 84.93% - AUC Mean 85.37% - Deter 334\n",
      "Ite 00450 - 0.11 sec - Loss 0.038544 - ACC 77.03% - ACC Mean 77.14% - AUC 84.78% - AUC Mean 85.00% - Deter 384\n",
      "Ite 00466 - 0.12 sec - Loss 0.038418 - ACC 76.72% - ACC Mean 76.93% - AUC 84.69% - AUC Mean 84.89% - Deter 400\n",
      "Early stop ite 466, rollback to correction of ite 66, whith acc of 78.04% and auc of 87.33%\n",
      "OUR METHOD RUN 6/10 - acc: 78.04% +- 0.0% - auc: 87.33% +- 0.0%\n",
      "Ite 00000 - 0.11 sec - Loss 0.098543 - ACC 77.80% - ACC Mean 77.80% - AUC 86.24% - AUC Mean 86.24% - Deter 000\n",
      "Ite 00050 - 0.11 sec - Loss 0.091913 - ACC 76.99% - ACC Mean 77.32% - AUC 85.91% - AUC Mean 86.16% - Deter 046\n",
      "Ite 00100 - 0.11 sec - Loss 0.075304 - ACC 76.95% - ACC Mean 77.07% - AUC 84.90% - AUC Mean 85.74% - Deter 096\n",
      "Ite 00150 - 0.34 sec - Loss 0.051805 - ACC 77.79% - ACC Mean 77.66% - AUC 85.78% - AUC Mean 85.65% - Deter 146\n",
      "Ite 00200 - 0.12 sec - Loss 0.042301 - ACC 77.79% - ACC Mean 77.94% - AUC 85.79% - AUC Mean 85.91% - Deter 196\n",
      "Ite 00250 - 0.11 sec - Loss 0.040263 - ACC 78.09% - ACC Mean 77.77% - AUC 85.34% - AUC Mean 85.87% - Deter 246\n",
      "Ite 00300 - 0.11 sec - Loss 0.039537 - ACC 77.48% - ACC Mean 77.80% - AUC 85.91% - AUC Mean 85.91% - Deter 296\n",
      "Ite 00350 - 0.10 sec - Loss 0.039017 - ACC 77.48% - ACC Mean 77.72% - AUC 86.29% - AUC Mean 86.12% - Deter 346\n",
      "Ite 00400 - 0.11 sec - Loss 0.038522 - ACC 78.39% - ACC Mean 77.92% - AUC 86.05% - AUC Mean 86.15% - Deter 396\n",
      "Ite 00404 - 0.49 sec - Loss 0.038495 - ACC 77.48% - ACC Mean 77.93% - AUC 86.07% - AUC Mean 86.15% - Deter 400\n",
      "Early stop ite 404, rollback to correction of ite 4, whith acc of 76.59% and auc of 87.39%\n",
      "OUR METHOD RUN 7/10 - acc: 76.59% +- 0.0% - auc: 87.39% +- 0.0%\n",
      "Ite 00000 - 0.11 sec - Loss 0.099228 - ACC 78.51% - ACC Mean 78.51% - AUC 85.96% - AUC Mean 85.96% - Deter 000\n",
      "Ite 00050 - 0.11 sec - Loss 0.092989 - ACC 78.60% - ACC Mean 77.70% - AUC 86.17% - AUC Mean 85.43% - Deter 028\n",
      "Ite 00100 - 0.12 sec - Loss 0.079475 - ACC 76.64% - ACC Mean 77.21% - AUC 85.31% - AUC Mean 85.38% - Deter 078\n",
      "Ite 00150 - 0.14 sec - Loss 0.058814 - ACC 78.17% - ACC Mean 78.00% - AUC 85.48% - AUC Mean 85.44% - Deter 128\n",
      "Ite 00200 - 0.11 sec - Loss 0.045034 - ACC 76.06% - ACC Mean 77.10% - AUC 84.47% - AUC Mean 85.28% - Deter 040\n",
      "Ite 00250 - 0.11 sec - Loss 0.040974 - ACC 76.06% - ACC Mean 76.47% - AUC 84.81% - AUC Mean 84.88% - Deter 090\n",
      "Ite 00300 - 0.11 sec - Loss 0.040012 - ACC 77.86% - ACC Mean 77.56% - AUC 85.07% - AUC Mean 85.19% - Deter 140\n",
      "Ite 00350 - 0.13 sec - Loss 0.039646 - ACC 77.86% - ACC Mean 78.03% - AUC 85.07% - AUC Mean 85.33% - Deter 190\n",
      "Ite 00400 - 0.54 sec - Loss 0.039428 - ACC 77.86% - ACC Mean 78.06% - AUC 85.29% - AUC Mean 85.30% - Deter 240\n",
      "Ite 00450 - 0.11 sec - Loss 0.039225 - ACC 77.86% - ACC Mean 78.04% - AUC 85.29% - AUC Mean 85.36% - Deter 290\n",
      "Ite 00500 - 0.11 sec - Loss 0.039008 - ACC 78.17% - ACC Mean 78.13% - AUC 85.48% - AUC Mean 85.43% - Deter 340\n",
      "Ite 00550 - 0.55 sec - Loss 0.038762 - ACC 78.17% - ACC Mean 78.14% - AUC 85.76% - AUC Mean 85.49% - Deter 390\n",
      "Ite 00560 - 0.11 sec - Loss 0.038674 - ACC 78.17% - ACC Mean 78.19% - AUC 85.54% - AUC Mean 85.55% - Deter 400\n",
      "Early stop ite 560, rollback to correction of ite 160, whith acc of 78.42% and auc of 86.84%\n",
      "OUR METHOD RUN 8/10 - acc: 78.42% +- 0.0% - auc: 86.84% +- 0.0%\n",
      "Ite 00000 - 0.11 sec - Loss 0.098119 - ACC 77.91% - ACC Mean 77.91% - AUC 87.66% - AUC Mean 87.66% - Deter 000\n",
      "Ite 00050 - 0.11 sec - Loss 0.091953 - ACC 78.95% - ACC Mean 77.95% - AUC 85.81% - AUC Mean 86.52% - Deter 037\n",
      "Ite 00100 - 0.12 sec - Loss 0.075891 - ACC 78.12% - ACC Mean 78.00% - AUC 86.23% - AUC Mean 86.07% - Deter 087\n",
      "Ite 00150 - 0.25 sec - Loss 0.052172 - ACC 78.46% - ACC Mean 78.46% - AUC 86.75% - AUC Mean 86.42% - Deter 137\n",
      "Ite 00200 - 0.16 sec - Loss 0.042249 - ACC 78.51% - ACC Mean 78.53% - AUC 86.66% - AUC Mean 86.51% - Deter 187\n",
      "Ite 00250 - 0.10 sec - Loss 0.040210 - ACC 78.51% - ACC Mean 78.44% - AUC 86.65% - AUC Mean 86.55% - Deter 237\n",
      "Ite 00300 - 0.11 sec - Loss 0.039583 - ACC 78.51% - ACC Mean 78.47% - AUC 86.66% - AUC Mean 86.61% - Deter 287\n",
      "Ite 00350 - 0.10 sec - Loss 0.039202 - ACC 77.61% - ACC Mean 78.39% - AUC 86.11% - AUC Mean 86.51% - Deter 337\n",
      "Ite 00400 - 0.11 sec - Loss 0.038879 - ACC 77.69% - ACC Mean 78.37% - AUC 86.16% - AUC Mean 86.40% - Deter 387\n",
      "Ite 00413 - 0.13 sec - Loss 0.038788 - ACC 78.81% - ACC Mean 78.45% - AUC 86.15% - AUC Mean 86.33% - Deter 400\n",
      "Early stop ite 413, rollback to correction of ite 13, whith acc of 78.95% and auc of 87.77%\n",
      "OUR METHOD RUN 9/10 - acc: 78.95% +- 0.0% - auc: 87.77% +- 0.0%\n",
      "Ite 00000 - 0.10 sec - Loss 0.098242 - ACC 77.44% - ACC Mean 77.44% - AUC 84.67% - AUC Mean 84.67% - Deter 000\n",
      "Ite 00050 - 0.10 sec - Loss 0.092198 - ACC 76.81% - ACC Mean 77.57% - AUC 86.00% - AUC Mean 85.69% - Deter 034\n",
      "Ite 00100 - 0.11 sec - Loss 0.077455 - ACC 77.90% - ACC Mean 77.84% - AUC 85.97% - AUC Mean 85.69% - Deter 084\n",
      "Ite 00150 - 0.11 sec - Loss 0.055806 - ACC 76.98% - ACC Mean 77.22% - AUC 85.23% - AUC Mean 85.39% - Deter 134\n",
      "Ite 00200 - 0.10 sec - Loss 0.044664 - ACC 77.55% - ACC Mean 77.26% - AUC 86.10% - AUC Mean 85.63% - Deter 184\n",
      "Ite 00250 - 0.10 sec - Loss 0.041416 - ACC 76.94% - ACC Mean 77.23% - AUC 86.48% - AUC Mean 85.80% - Deter 234\n",
      "Ite 00300 - 0.10 sec - Loss 0.040338 - ACC 77.29% - ACC Mean 77.21% - AUC 85.89% - AUC Mean 85.67% - Deter 284\n",
      "Ite 00350 - 0.11 sec - Loss 0.039812 - ACC 76.99% - ACC Mean 77.10% - AUC 84.25% - AUC Mean 85.54% - Deter 334\n",
      "Ite 00400 - 0.09 sec - Loss 0.039465 - ACC 76.38% - ACC Mean 76.98% - AUC 84.30% - AUC Mean 85.33% - Deter 384\n",
      "Ite 00416 - 0.11 sec - Loss 0.039378 - ACC 76.99% - ACC Mean 76.96% - AUC 85.60% - AUC Mean 85.31% - Deter 400\n",
      "Early stop ite 416, rollback to correction of ite 16, whith acc of 77.53% and auc of 87.63%\n",
      "OUR METHOD RUN 10/10 - acc: 77.53% +- 0.0% - auc: 87.63% +- 0.0%\n",
      "\n",
      "OUR METHOD GLOBAL - acc: 78.4% +- 0.89% - auc: 87.59% +- 0.35%\n"
     ]
    }
   ],
   "source": [
    "params = {\n",
    "    'nb_batches': 10,\n",
    "    'reg_noise_std': .03,\n",
    "    'net_input': 'data_corrupted',\n",
    "    'net_params': [80, 80],\n",
    "    'adam_lr': .0001,\n",
    "    'adam_weight_decay': 0.,\n",
    "}\n",
    "\n",
    "ours_accs, ours_aucs = [], []\n",
    "for i in range(n_runs):\n",
    "    ours_correction = correction.run(data_missing, 4001, params, y=y, missing_mask=missing_mask, seed=i)\n",
    "    ## Since our method returns 2 imputations select the best one\n",
    "    scores_raw = utils.get_scores(ours_correction['raw_out'], y)\n",
    "    acc = scores_raw['test_balanced_accuracy']\n",
    "    auc = scores_raw['test_roc_auc_ovo']\n",
    "    acc = acc.mean()\n",
    "    acc_std = acc.std()\n",
    "    auc = auc.mean()\n",
    "    auc_std = auc.std()\n",
    "    if 'masked_out' in ours_correction:\n",
    "        scores_masked = utils.get_scores(ours_correction['masked_out'], y)\n",
    "        acc_masked = scores_masked['test_balanced_accuracy']\n",
    "        auc_masked = scores_masked['test_roc_auc_ovo']\n",
    "        if auc_masked.mean() > auc:\n",
    "            acc = acc_masked.mean()\n",
    "            acc_std = acc_masked.std()\n",
    "            auc = auc_masked.mean()\n",
    "            auc_std = auc_masked.std()\n",
    "    print(f'OUR METHOD RUN {i + 1}/{n_runs} - acc: {round(acc.mean() * 100, 2)}% +- {round(acc.std() * 100, 2)}% - ' +\n",
    "          f'auc: {round(auc.mean() * 100, 2)}% +- {round(auc.std() * 100, 2)}%')\n",
    "    ours_accs.append(acc.mean())\n",
    "    ours_aucs.append(auc.mean())\n",
    "print(f'\\nOUR METHOD GLOBAL - acc: {round(np.array(ours_accs).mean() * 100, 2)}% +- {round(np.array(ours_accs).std() * 100, 2)}% - ' +\n",
    "      f'auc: {round(np.array(ours_aucs).mean() * 100, 2)}% +- {round(np.array(ours_aucs).std() * 100, 2)}%')"
   ]
  },
  {
   "cell_type": "markdown",
   "metadata": {},
   "source": [
    "## Run MICE"
   ]
  },
  {
   "cell_type": "code",
   "execution_count": 5,
   "metadata": {
    "ExecuteTime": {
     "end_time": "2022-06-07T08:25:47.812154Z",
     "start_time": "2022-06-07T08:25:41.125881Z"
    },
    "execution": {
     "iopub.execute_input": "2022-06-07T09:17:03.926650Z",
     "iopub.status.busy": "2022-06-07T09:17:03.925756Z",
     "iopub.status.idle": "2022-06-07T09:17:15.625700Z",
     "shell.execute_reply": "2022-06-07T09:17:15.626101Z"
    }
   },
   "outputs": [
    {
     "name": "stdout",
     "output_type": "stream",
     "text": [
      "MICE - acc: 77.5% +- 0.0% - auc: 85.27% +- 0.0%\n"
     ]
    }
   ],
   "source": [
    "data_missing_nans = np.where(missing_mask, data_missing, np.nan)\n",
    "\n",
    "imputer = IterativeImputer()\n",
    "imputed = imputer.fit_transform(data_missing_nans)\n",
    "## All runs would be the same since deterministic method\n",
    "scores = utils.get_scores(imputed, y)\n",
    "acc = [scores['test_balanced_accuracy'].mean()] * n_runs\n",
    "auc = [scores['test_roc_auc_ovo'].mean()] * n_runs\n",
    "print(f'MICE - acc: {round(np.mean(acc) * 100, 2)}% +- {round(np.std(acc) * 100, 2)}% - ' +\n",
    "      f'auc: {round(np.mean(auc) * 100, 2)}% +- {round(np.std(auc) * 100, 2)}%')\n",
    "mice_accs = acc\n",
    "mice_aucs = auc"
   ]
  },
  {
   "cell_type": "markdown",
   "metadata": {},
   "source": [
    "## Run SFIL"
   ]
  },
  {
   "cell_type": "code",
   "execution_count": 6,
   "metadata": {
    "ExecuteTime": {
     "end_time": "2022-06-07T08:25:49.133209Z",
     "start_time": "2022-06-07T08:25:47.813384Z"
    },
    "execution": {
     "iopub.execute_input": "2022-06-07T09:17:15.630737Z",
     "iopub.status.busy": "2022-06-07T09:17:15.628206Z",
     "iopub.status.idle": "2022-06-07T09:17:17.432343Z",
     "shell.execute_reply": "2022-06-07T09:17:17.432703Z"
    }
   },
   "outputs": [
    {
     "name": "stdout",
     "output_type": "stream",
     "text": [
      "SFIL RUN 1/10 - acc: 76.65% +- 5.13% - auc: 83.31% +- 4.71%\n",
      "SFIL RUN 2/10 - acc: 79.21% +- 5.12% - auc: 85.98% +- 4.2%\n",
      "SFIL RUN 3/10 - acc: 78.06% +- 4.56% - auc: 83.05% +- 6.13%\n",
      "SFIL RUN 4/10 - acc: 73.16% +- 5.4% - auc: 81.53% +- 5.57%\n",
      "SFIL RUN 5/10 - acc: 76.82% +- 5.68% - auc: 84.85% +- 2.52%\n",
      "SFIL RUN 6/10 - acc: 80.87% +- 5.1% - auc: 84.32% +- 4.98%\n",
      "SFIL RUN 7/10 - acc: 76.26% +- 3.42% - auc: 83.75% +- 3.72%\n",
      "SFIL RUN 8/10 - acc: 76.0% +- 6.15% - auc: 82.87% +- 7.78%\n",
      "SFIL RUN 9/10 - acc: 80.34% +- 4.55% - auc: 85.55% +- 4.36%\n",
      "SFIL RUN 10/10 - acc: 78.02% +- 3.16% - auc: 83.58% +- 3.4%\n",
      "SFIL GLOBAL - acc: 77.54% +- 2.16% - auc: 83.88% +- 1.27%\n"
     ]
    }
   ],
   "source": [
    "sfil_accs, sfil_aucs = [], []\n",
    "for i in range(n_runs):\n",
    "    acc, auc = filtering(imputed, y, mode='standard', random_state=i)\n",
    "    sfil_accs.append(acc.mean())\n",
    "    sfil_aucs.append(auc.mean())\n",
    "    print(f'SFIL RUN {i + 1}/{n_runs} - acc: {round(np.mean(acc) * 100, 2)}% +- {round(np.std(acc) * 100, 2)}% - ' +\n",
    "          f'auc: {round(np.mean(auc) * 100, 2)}% +- {round(np.std(auc) * 100, 2)}%')\n",
    "print(f'SFIL GLOBAL - acc: {round(np.mean(sfil_accs) * 100, 2)}% +- {round(np.std(sfil_accs) * 100, 2)}% - ' +\n",
    "      f'auc: {round(np.mean(sfil_aucs) * 100, 2)}% +- {round(np.std(sfil_aucs) * 100, 2)}%')"
   ]
  },
  {
   "cell_type": "markdown",
   "metadata": {},
   "source": [
    "## Run PFIL"
   ]
  },
  {
   "cell_type": "code",
   "execution_count": 7,
   "metadata": {
    "ExecuteTime": {
     "end_time": "2022-06-07T08:35:09.194980Z",
     "start_time": "2022-06-07T08:25:49.134766Z"
    },
    "execution": {
     "iopub.execute_input": "2022-06-07T09:17:17.440745Z",
     "iopub.status.busy": "2022-06-07T09:17:17.434803Z",
     "iopub.status.idle": "2022-06-07T09:31:03.496258Z",
     "shell.execute_reply": "2022-06-07T09:31:03.497327Z"
    },
    "scrolled": false
   },
   "outputs": [
    {
     "name": "stdout",
     "output_type": "stream",
     "text": [
      "PFIL RUN 1/10 - acc: 80.02% +- 2.09% - auc: 85.0% +- 0.94%\n",
      "PFIL RUN 2/10 - acc: 78.09% +- 3.55% - auc: 84.42% +- 2.02%\n",
      "PFIL RUN 3/10 - acc: 80.94% +- 4.69% - auc: 87.78% +- 3.64%\n",
      "PFIL RUN 4/10 - acc: 80.01% +- 3.0% - auc: 84.22% +- 1.86%\n",
      "PFIL RUN 5/10 - acc: 80.21% +- 2.86% - auc: 84.67% +- 4.4%\n",
      "PFIL RUN 6/10 - acc: 82.31% +- 0.83% - auc: 88.02% +- 1.84%\n",
      "PFIL RUN 7/10 - acc: 76.04% +- 2.44% - auc: 83.74% +- 2.9%\n",
      "PFIL RUN 8/10 - acc: 78.29% +- 1.45% - auc: 83.18% +- 1.95%\n",
      "PFIL RUN 9/10 - acc: 80.32% +- 4.62% - auc: 85.66% +- 4.28%\n",
      "PFIL RUN 10/10 - acc: 79.63% +- 2.3% - auc: 85.78% +- 4.01%\n",
      "PFIL GLOBAL - acc: 79.59% +- 1.64% - auc: 85.25% +- 1.52%\n"
     ]
    }
   ],
   "source": [
    "pfil_accs, pfil_aucs = [], []\n",
    "for i in range(n_runs):\n",
    "    acc, auc = filtering(imputed, y, mode='panda', random_state=i)\n",
    "    pfil_accs.append(acc.mean())\n",
    "    pfil_aucs.append(auc.mean())\n",
    "    print(f'PFIL RUN {i + 1}/{n_runs} - acc: {round(np.mean(acc) * 100, 2)}% +- {round(np.std(acc) * 100, 2)}% - ' +\n",
    "          f'auc: {round(np.mean(auc) * 100, 2)}% +- {round(np.std(auc) * 100, 2)}%')\n",
    "print(f'PFIL GLOBAL - acc: {round(np.mean(pfil_accs) * 100, 2)}% +- {round(np.std(pfil_accs) * 100, 2)}% - ' +\n",
    "      f'auc: {round(np.mean(pfil_aucs) * 100, 2)}% +- {round(np.std(pfil_aucs) * 100, 2)}%')"
   ]
  },
  {
   "cell_type": "markdown",
   "metadata": {},
   "source": [
    "## Run SPOL"
   ]
  },
  {
   "cell_type": "code",
   "execution_count": 8,
   "metadata": {
    "ExecuteTime": {
     "end_time": "2022-06-07T08:50:33.353751Z",
     "start_time": "2022-06-07T08:49:36.684786Z"
    },
    "execution": {
     "iopub.execute_input": "2022-06-07T09:31:03.505649Z",
     "iopub.status.busy": "2022-06-07T09:31:03.504686Z",
     "iopub.status.idle": "2022-06-07T09:31:42.264333Z",
     "shell.execute_reply": "2022-06-07T09:31:42.265270Z"
    }
   },
   "outputs": [
    {
     "name": "stdout",
     "output_type": "stream",
     "text": [
      "SPOL RUN 1/10 - acc: 79.19% +- 3.19% - auc: 82.37% +- 3.2%\n",
      "SPOL RUN 2/10 - acc: 79.25% +- 1.73% - auc: 85.71% +- 1.67%\n",
      "SPOL RUN 3/10 - acc: 75.84% +- 4.74% - auc: 82.81% +- 3.6%\n",
      "SPOL RUN 4/10 - acc: 79.23% +- 4.28% - auc: 83.14% +- 4.23%\n",
      "SPOL RUN 5/10 - acc: 77.49% +- 4.27% - auc: 84.31% +- 3.61%\n",
      "SPOL RUN 6/10 - acc: 80.09% +- 2.35% - auc: 84.33% +- 4.28%\n",
      "SPOL RUN 7/10 - acc: 78.99% +- 5.48% - auc: 83.08% +- 5.34%\n",
      "SPOL RUN 8/10 - acc: 76.61% +- 3.9% - auc: 81.84% +- 2.34%\n",
      "SPOL RUN 9/10 - acc: 82.16% +- 3.64% - auc: 86.94% +- 4.62%\n",
      "SPOL RUN 10/10 - acc: 78.89% +- 3.73% - auc: 83.86% +- 4.91%\n",
      "SPOL GLOBAL - acc: 78.77% +- 1.7% - auc: 83.84% +- 1.48%\n"
     ]
    }
   ],
   "source": [
    "spol_accs, spol_aucs = [], []\n",
    "for i in range(n_runs):\n",
    "    acc, auc = polishing(imputed, y, mode='standard', random_state=i)\n",
    "    spol_accs.append(acc.mean())\n",
    "    spol_aucs.append(auc.mean())\n",
    "    print(f'SPOL RUN {i + 1}/{n_runs} - acc: {round(np.mean(acc) * 100, 2)}% +- {round(np.std(acc) * 100, 2)}% - ' +\n",
    "          f'auc: {round(np.mean(auc) * 100, 2)}% +- {round(np.std(auc) * 100, 2)}%')\n",
    "print(f'SPOL GLOBAL - acc: {round(np.mean(spol_accs) * 100, 2)}% +- {round(np.std(spol_accs) * 100, 2)}% - ' +\n",
    "      f'auc: {round(np.mean(spol_aucs) * 100, 2)}% +- {round(np.std(spol_aucs) * 100, 2)}%')"
   ]
  },
  {
   "cell_type": "markdown",
   "metadata": {},
   "source": [
    "## Run PPOL"
   ]
  },
  {
   "cell_type": "code",
   "execution_count": 9,
   "metadata": {
    "ExecuteTime": {
     "end_time": "2022-06-07T08:54:57.736311Z",
     "start_time": "2022-06-07T08:54:53.057083Z"
    },
    "execution": {
     "iopub.execute_input": "2022-06-07T09:31:42.274770Z",
     "iopub.status.busy": "2022-06-07T09:31:42.271040Z",
     "iopub.status.idle": "2022-06-07T09:49:56.805521Z",
     "shell.execute_reply": "2022-06-07T09:49:56.806525Z"
    }
   },
   "outputs": [
    {
     "name": "stdout",
     "output_type": "stream",
     "text": [
      "PPOL RUN 1/10 - acc: 80.94% +- 5.65% - auc: 86.2% +- 3.92%\n",
      "PPOL RUN 2/10 - acc: 79.46% +- 4.49% - auc: 84.85% +- 3.84%\n",
      "PPOL RUN 3/10 - acc: 77.9% +- 3.96% - auc: 85.58% +- 2.98%\n",
      "PPOL RUN 4/10 - acc: 77.73% +- 4.9% - auc: 81.65% +- 3.3%\n",
      "PPOL RUN 5/10 - acc: 78.49% +- 3.64% - auc: 83.27% +- 4.82%\n",
      "PPOL RUN 6/10 - acc: 82.3% +- 3.91% - auc: 86.51% +- 2.69%\n",
      "PPOL RUN 7/10 - acc: 77.76% +- 3.9% - auc: 85.13% +- 1.89%\n",
      "PPOL RUN 8/10 - acc: 78.53% +- 3.02% - auc: 84.12% +- 3.72%\n",
      "PPOL RUN 9/10 - acc: 77.26% +- 4.65% - auc: 81.43% +- 3.63%\n",
      "PPOL RUN 10/10 - acc: 81.46% +- 4.59% - auc: 86.05% +- 3.72%\n",
      "PPOL GLOBAL - acc: 79.18% +- 1.69% - auc: 84.48% +- 1.74%\n"
     ]
    }
   ],
   "source": [
    "ppol_accs, ppol_aucs = [], []\n",
    "for i in range(n_runs):\n",
    "    acc, auc = polishing(imputed, y, mode='panda', random_state=i)\n",
    "    ppol_accs.append(acc.mean())\n",
    "    ppol_aucs.append(auc.mean())\n",
    "    print(f'PPOL RUN {i + 1}/{n_runs} - acc: {round(np.mean(acc) * 100, 2)}% +- {round(np.std(acc) * 100, 2)}% - ' +\n",
    "          f'auc: {round(np.mean(auc) * 100, 2)}% +- {round(np.std(auc) * 100, 2)}%')\n",
    "print(f'PPOL GLOBAL - acc: {round(np.mean(ppol_accs) * 100, 2)}% +- {round(np.std(ppol_accs) * 100, 2)}% - ' +\n",
    "      f'auc: {round(np.mean(ppol_aucs) * 100, 2)}% +- {round(np.std(ppol_aucs) * 100, 2)}%')"
   ]
  },
  {
   "cell_type": "markdown",
   "metadata": {},
   "source": [
    "## Run T-tests"
   ]
  },
  {
   "cell_type": "code",
   "execution_count": 10,
   "metadata": {
    "ExecuteTime": {
     "end_time": "2022-06-07T08:52:25.983958Z",
     "start_time": "2022-06-07T08:52:25.963898Z"
    },
    "execution": {
     "iopub.execute_input": "2022-06-07T09:49:56.817835Z",
     "iopub.status.busy": "2022-06-07T09:49:56.816991Z",
     "iopub.status.idle": "2022-06-07T09:49:56.822253Z",
     "shell.execute_reply": "2022-06-07T09:49:56.820929Z"
    },
    "scrolled": false
   },
   "outputs": [
    {
     "name": "stdout",
     "output_type": "stream",
     "text": [
      "Metric ACC - OUR METHOD is significantly better than MICE\n",
      "Metric AUC - OUR METHOD is significantly better than MICE\n",
      "Metric ACC - OUR METHOD is even with SFIL\n",
      "Metric AUC - OUR METHOD is significantly better than SFIL\n",
      "Metric ACC - OUR METHOD is even with PFIL\n",
      "Metric AUC - OUR METHOD is significantly better than PFIL\n",
      "Metric ACC - OUR METHOD is even with SPOL\n",
      "Metric AUC - OUR METHOD is significantly better than SPOL\n",
      "Metric ACC - OUR METHOD is even with PPOL\n",
      "Metric AUC - OUR METHOD is significantly better than PPOL\n"
     ]
    }
   ],
   "source": [
    "for model, metrics in {\n",
    "        'MICE': {'ACC': mice_accs, 'AUC': mice_aucs},\n",
    "        'SFIL': {'ACC': sfil_accs, 'AUC': sfil_aucs},\n",
    "        'PFIL': {'ACC': pfil_accs, 'AUC': pfil_aucs},\n",
    "        'SPOL': {'ACC': spol_accs, 'AUC': spol_aucs},\n",
    "        'PPOL': {'ACC': ppol_accs, 'AUC': ppol_aucs}}.items():\n",
    "    for metric_name, metric in metrics.items():\n",
    "        ours_metric = ours_accs if metric_name == 'ACC' else ours_aucs\n",
    "        t, p = scipy.stats.ttest_ind(np.array(ours_metric), np.array(metric))\n",
    "        if p <= .05:\n",
    "            if t > 0:\n",
    "                ## Our method is better\n",
    "                print(f'Metric {metric_name} - OUR METHOD is significantly better than {model}')\n",
    "            else:\n",
    "                ## Theirs is better\n",
    "                print(f'Metric {metric_name} - OUR METHOD is significantly worse than {model}')\n",
    "        else:\n",
    "            ## Else we are even\n",
    "            print(f'Metric {metric_name} - OUR METHOD is even with {model}')"
   ]
  }
 ],
 "metadata": {
  "kernelspec": {
   "display_name": "Python 3 (ipykernel)",
   "language": "python",
   "name": "python3"
  },
  "language_info": {
   "codemirror_mode": {
    "name": "ipython",
    "version": 3
   },
   "file_extension": ".py",
   "mimetype": "text/x-python",
   "name": "python",
   "nbconvert_exporter": "python",
   "pygments_lexer": "ipython3",
   "version": "3.9.7"
  },
  "latex_envs": {
   "LaTeX_envs_menu_present": true,
   "autoclose": false,
   "autocomplete": true,
   "bibliofile": "biblio.bib",
   "cite_by": "apalike",
   "current_citInitial": 1,
   "eqLabelWithNumbers": true,
   "eqNumInitial": 1,
   "hotkeys": {
    "equation": "Ctrl-E",
    "itemize": "Ctrl-I"
   },
   "labels_anchors": false,
   "latex_user_defs": false,
   "report_style_numbering": false,
   "user_envs_cfg": false
  }
 },
 "nbformat": 4,
 "nbformat_minor": 2
}
