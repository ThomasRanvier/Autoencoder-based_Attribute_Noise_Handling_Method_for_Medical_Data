{
 "cells": [
  {
   "cell_type": "code",
   "execution_count": 1,
   "metadata": {
    "ExecuteTime": {
     "end_time": "2022-06-07T08:11:39.412870Z",
     "start_time": "2022-06-07T08:11:35.692131Z"
    },
    "execution": {
     "iopub.execute_input": "2022-06-07T09:01:46.715519Z",
     "iopub.status.busy": "2022-06-07T09:01:46.710234Z",
     "iopub.status.idle": "2022-06-07T09:01:52.124099Z",
     "shell.execute_reply": "2022-06-07T09:01:52.121624Z"
    }
   },
   "outputs": [],
   "source": [
    "from __future__ import print_function\n",
    "import warnings\n",
    "warnings.filterwarnings('ignore')\n",
    "## Disable tf future deprecated messages\n",
    "import logging\n",
    "logging.getLogger('tensorflow').disabled = True\n",
    "## Disable tf CUDA messages\n",
    "import os\n",
    "os.environ['TF_CPP_MIN_LOG_LEVEL'] = '3'\n",
    "\n",
    "%matplotlib inline\n",
    "\n",
    "import sys\n",
    "import random\n",
    "import numpy as np\n",
    "import pandas as pd\n",
    "\n",
    "import utils\n",
    "import correction\n",
    "from models.dense import *\n",
    "from models.gain import gain\n",
    "from models.soft_impute import SoftImpute\n",
    "from models.sinkhorn import OTimputer\n",
    "from models.mida import mida\n",
    "from models.polishing import polishing\n",
    "from models.filtering import filtering\n",
    "\n",
    "import scipy.stats\n",
    "\n",
    "from sklearn.experimental import enable_iterative_imputer\n",
    "from sklearn.impute import IterativeImputer\n",
    "from sklearn.impute import KNNImputer, SimpleImputer\n",
    "\n",
    "import sklearn.neighbors._base\n",
    "sys.modules['sklearn.neighbors.base'] = sklearn.neighbors._base\n",
    "from missingpy import MissForest\n",
    "\n",
    "torch.backends.cudnn.enabled = True\n",
    "torch.backends.cudnn.benchmark = True\n",
    "dtype = torch.cuda.FloatTensor"
   ]
  },
  {
   "cell_type": "markdown",
   "metadata": {},
   "source": [
    "## Repeat all experiments for 10 runs"
   ]
  },
  {
   "cell_type": "code",
   "execution_count": 2,
   "metadata": {
    "ExecuteTime": {
     "end_time": "2022-06-07T08:11:39.417491Z",
     "start_time": "2022-06-07T08:11:39.415081Z"
    },
    "execution": {
     "iopub.execute_input": "2022-06-07T09:01:52.130752Z",
     "iopub.status.busy": "2022-06-07T09:01:52.129597Z",
     "iopub.status.idle": "2022-06-07T09:01:52.133119Z",
     "shell.execute_reply": "2022-06-07T09:01:52.131987Z"
    }
   },
   "outputs": [],
   "source": [
    "n_runs = 10"
   ]
  },
  {
   "cell_type": "markdown",
   "metadata": {},
   "source": [
    "## Load data"
   ]
  },
  {
   "cell_type": "code",
   "execution_count": 3,
   "metadata": {
    "ExecuteTime": {
     "end_time": "2022-06-07T08:11:41.218694Z",
     "start_time": "2022-06-07T08:11:39.419632Z"
    },
    "execution": {
     "iopub.execute_input": "2022-06-07T09:01:52.139090Z",
     "iopub.status.busy": "2022-06-07T09:01:52.138289Z",
     "iopub.status.idle": "2022-06-07T09:01:55.718617Z",
     "shell.execute_reply": "2022-06-07T09:01:55.718956Z"
    }
   },
   "outputs": [
    {
     "name": "stdout",
     "output_type": "stream",
     "text": [
      "Dataset shape: (361, 80)\n",
      "19.75% missing data\n",
      "Class distribution: (array([0, 1]), array([195, 166]))\n"
     ]
    }
   ],
   "source": [
    "data_missing, missing_mask, y = utils.load_covid()\n",
    "## Inject noise\n",
    "data_missing = utils.inject_noise(data_missing.copy(), noise_rate=.2)\n",
    "## Replace missing values locations by 0\n",
    "data_missing = data_missing * missing_mask"
   ]
  },
  {
   "cell_type": "markdown",
   "metadata": {},
   "source": [
    "## Run OUR METHOD"
   ]
  },
  {
   "cell_type": "code",
   "execution_count": 4,
   "metadata": {
    "ExecuteTime": {
     "end_time": "2022-06-07T08:25:41.124140Z",
     "start_time": "2022-06-07T08:11:41.222736Z"
    },
    "execution": {
     "iopub.execute_input": "2022-06-07T09:01:55.742628Z",
     "iopub.status.busy": "2022-06-07T09:01:55.742097Z",
     "iopub.status.idle": "2022-06-07T09:17:48.996012Z",
     "shell.execute_reply": "2022-06-07T09:17:48.994864Z"
    },
    "scrolled": false
   },
   "outputs": [
    {
     "name": "stdout",
     "output_type": "stream",
     "text": [
      "Ite 00000 - 0.65 sec - Loss 0.097695 - ACC 79.44% - ACC Mean 79.44% - AUC 84.53% - AUC Mean 84.53% - Deter 000\n",
      "Ite 00050 - 0.10 sec - Loss 0.091798 - ACC 79.70% - ACC Mean 79.36% - AUC 84.63% - AUC Mean 84.45% - Deter 043\n",
      "Ite 00100 - 0.13 sec - Loss 0.076857 - ACC 80.56% - ACC Mean 79.98% - AUC 85.14% - AUC Mean 84.76% - Deter 093\n",
      "Ite 00150 - 0.45 sec - Loss 0.055789 - ACC 78.37% - ACC Mean 79.85% - AUC 85.14% - AUC Mean 85.49% - Deter 019\n",
      "Ite 00200 - 0.12 sec - Loss 0.046559 - ACC 78.88% - ACC Mean 78.72% - AUC 85.33% - AUC Mean 85.44% - Deter 069\n",
      "Ite 00250 - 0.09 sec - Loss 0.044456 - ACC 79.63% - ACC Mean 79.34% - AUC 85.71% - AUC Mean 85.74% - Deter 119\n",
      "Ite 00300 - 0.11 sec - Loss 0.043830 - ACC 80.09% - ACC Mean 80.11% - AUC 85.89% - AUC Mean 86.07% - Deter 019\n",
      "Ite 00350 - 0.14 sec - Loss 0.043458 - ACC 78.92% - ACC Mean 80.12% - AUC 85.65% - AUC Mean 86.07% - Deter 069\n",
      "Ite 00400 - 0.44 sec - Loss 0.043164 - ACC 80.44% - ACC Mean 80.02% - AUC 86.27% - AUC Mean 86.01% - Deter 119\n",
      "Ite 00450 - 0.09 sec - Loss 0.042858 - ACC 80.44% - ACC Mean 80.25% - AUC 86.27% - AUC Mean 86.12% - Deter 169\n",
      "Ite 00500 - 0.10 sec - Loss 0.042499 - ACC 79.84% - ACC Mean 80.03% - AUC 86.02% - AUC Mean 86.08% - Deter 219\n",
      "Ite 00550 - 0.52 sec - Loss 0.042096 - ACC 80.14% - ACC Mean 80.02% - AUC 86.31% - AUC Mean 86.09% - Deter 269\n",
      "Ite 00600 - 0.10 sec - Loss 0.041574 - ACC 79.93% - ACC Mean 80.13% - AUC 85.71% - AUC Mean 86.14% - Deter 319\n",
      "Ite 00650 - 0.11 sec - Loss 0.040968 - ACC 80.40% - ACC Mean 80.05% - AUC 86.03% - AUC Mean 86.01% - Deter 369\n",
      "Ite 00681 - 0.14 sec - Loss 0.040520 - ACC 79.54% - ACC Mean 79.97% - AUC 85.17% - AUC Mean 85.71% - Deter 400\n",
      "Early stop ite 681, rollback to correction of ite 281, whith acc of 80.75% and auc of 86.71%\n",
      "OUR METHOD RUN 1/10 - acc: 80.75% +- 0.0% - auc: 86.71% +- 0.0%\n",
      "Ite 00000 - 0.10 sec - Loss 0.097068 - ACC 79.70% - ACC Mean 79.70% - AUC 84.53% - AUC Mean 84.53% - Deter 000\n",
      "Ite 00050 - 0.11 sec - Loss 0.091204 - ACC 78.14% - ACC Mean 79.62% - AUC 85.01% - AUC Mean 84.82% - Deter 036\n",
      "Ite 00100 - 0.11 sec - Loss 0.077152 - ACC 80.30% - ACC Mean 79.71% - AUC 84.81% - AUC Mean 84.95% - Deter 026\n",
      "Ite 00150 - 0.10 sec - Loss 0.056354 - ACC 78.63% - ACC Mean 78.80% - AUC 84.34% - AUC Mean 84.93% - Deter 076\n",
      "Ite 00200 - 0.10 sec - Loss 0.046789 - ACC 77.37% - ACC Mean 77.76% - AUC 84.26% - AUC Mean 84.32% - Deter 126\n",
      "Ite 00250 - 0.09 sec - Loss 0.044638 - ACC 78.49% - ACC Mean 78.00% - AUC 85.05% - AUC Mean 84.69% - Deter 176\n",
      "Ite 00300 - 0.11 sec - Loss 0.044036 - ACC 76.75% - ACC Mean 77.93% - AUC 84.29% - AUC Mean 84.67% - Deter 226\n",
      "Ite 00350 - 0.43 sec - Loss 0.043731 - ACC 78.18% - ACC Mean 78.04% - AUC 84.88% - AUC Mean 84.72% - Deter 276\n",
      "Ite 00400 - 0.54 sec - Loss 0.043462 - ACC 78.18% - ACC Mean 77.96% - AUC 84.88% - AUC Mean 84.66% - Deter 326\n",
      "Ite 00450 - 0.10 sec - Loss 0.043185 - ACC 77.93% - ACC Mean 78.06% - AUC 84.61% - AUC Mean 84.66% - Deter 376\n",
      "Ite 00474 - 0.13 sec - Loss 0.043016 - ACC 77.93% - ACC Mean 78.00% - AUC 84.61% - AUC Mean 84.65% - Deter 400\n",
      "Early stop ite 474, rollback to correction of ite 74, whith acc of 80.3% and auc of 85.81%\n",
      "OUR METHOD RUN 2/10 - acc: 80.3% +- 0.0% - auc: 85.81% +- 0.0%\n",
      "Ite 00000 - 0.10 sec - Loss 0.096285 - ACC 79.05% - ACC Mean 79.05% - AUC 85.53% - AUC Mean 85.53% - Deter 000\n",
      "Ite 00050 - 0.10 sec - Loss 0.091183 - ACC 79.49% - ACC Mean 78.98% - AUC 84.87% - AUC Mean 84.45% - Deter 049\n",
      "Ite 00100 - 0.13 sec - Loss 0.078531 - ACC 78.02% - ACC Mean 79.29% - AUC 83.64% - AUC Mean 84.23% - Deter 099\n",
      "Ite 00150 - 0.10 sec - Loss 0.058029 - ACC 79.14% - ACC Mean 79.21% - AUC 84.90% - AUC Mean 84.65% - Deter 025\n",
      "Ite 00200 - 0.46 sec - Loss 0.047619 - ACC 79.49% - ACC Mean 79.03% - AUC 84.29% - AUC Mean 84.53% - Deter 075\n",
      "Ite 00250 - 0.54 sec - Loss 0.044868 - ACC 79.54% - ACC Mean 79.33% - AUC 84.20% - AUC Mean 84.56% - Deter 125\n",
      "Ite 00300 - 0.10 sec - Loss 0.044018 - ACC 78.31% - ACC Mean 79.00% - AUC 84.82% - AUC Mean 84.66% - Deter 175\n",
      "Ite 00350 - 0.10 sec - Loss 0.043578 - ACC 78.31% - ACC Mean 79.00% - AUC 84.73% - AUC Mean 84.70% - Deter 225\n",
      "Ite 00400 - 0.10 sec - Loss 0.043239 - ACC 79.70% - ACC Mean 79.12% - AUC 85.23% - AUC Mean 84.77% - Deter 275\n",
      "Ite 00450 - 0.11 sec - Loss 0.042881 - ACC 78.06% - ACC Mean 79.13% - AUC 84.65% - AUC Mean 84.85% - Deter 325\n",
      "Ite 00500 - 0.10 sec - Loss 0.042464 - ACC 79.14% - ACC Mean 78.88% - AUC 85.14% - AUC Mean 84.83% - Deter 375\n",
      "Ite 00525 - 0.45 sec - Loss 0.042208 - ACC 78.78% - ACC Mean 78.93% - AUC 85.13% - AUC Mean 84.94% - Deter 400\n",
      "Early stop ite 525, rollback to correction of ite 125, whith acc of 80.3% and auc of 86.05%\n",
      "OUR METHOD RUN 3/10 - acc: 80.3% +- 0.0% - auc: 86.05% +- 0.0%\n",
      "Ite 00000 - 0.10 sec - Loss 0.096682 - ACC 78.63% - ACC Mean 78.63% - AUC 85.22% - AUC Mean 85.22% - Deter 000\n",
      "Ite 00050 - 0.50 sec - Loss 0.089781 - ACC 77.67% - ACC Mean 79.13% - AUC 85.68% - AUC Mean 85.30% - Deter 007\n",
      "Ite 00100 - 0.11 sec - Loss 0.074058 - ACC 78.18% - ACC Mean 78.83% - AUC 84.79% - AUC Mean 84.76% - Deter 057\n",
      "Ite 00150 - 0.12 sec - Loss 0.054429 - ACC 76.25% - ACC Mean 77.12% - AUC 83.67% - AUC Mean 83.97% - Deter 107\n",
      "Ite 00200 - 0.11 sec - Loss 0.046455 - ACC 76.20% - ACC Mean 76.77% - AUC 83.17% - AUC Mean 83.61% - Deter 157\n",
      "Ite 00250 - 0.10 sec - Loss 0.044535 - ACC 77.10% - ACC Mean 77.05% - AUC 83.63% - AUC Mean 83.66% - Deter 207\n",
      "Ite 00300 - 0.51 sec - Loss 0.043891 - ACC 78.02% - ACC Mean 77.92% - AUC 83.76% - AUC Mean 83.76% - Deter 257\n",
      "Ite 00350 - 0.25 sec - Loss 0.043550 - ACC 78.02% - ACC Mean 78.13% - AUC 83.66% - AUC Mean 83.93% - Deter 307\n",
      "Ite 00400 - 0.10 sec - Loss 0.043273 - ACC 78.07% - ACC Mean 78.22% - AUC 83.48% - AUC Mean 83.96% - Deter 357\n",
      "Ite 00443 - 0.10 sec - Loss 0.043025 - ACC 78.32% - ACC Mean 78.30% - AUC 83.83% - AUC Mean 83.93% - Deter 400\n",
      "Early stop ite 443, rollback to correction of ite 43, whith acc of 79.95% and auc of 86.53%\n",
      "OUR METHOD RUN 4/10 - acc: 79.95% +- 0.0% - auc: 86.53% +- 0.0%\n",
      "Ite 00000 - 0.46 sec - Loss 0.097297 - ACC 80.00% - ACC Mean 80.00% - AUC 84.56% - AUC Mean 84.56% - Deter 000\n",
      "Ite 00050 - 0.11 sec - Loss 0.091099 - ACC 77.23% - ACC Mean 78.82% - AUC 84.68% - AUC Mean 84.81% - Deter 022\n",
      "Ite 00100 - 0.11 sec - Loss 0.075193 - ACC 78.44% - ACC Mean 78.14% - AUC 84.77% - AUC Mean 84.67% - Deter 072\n",
      "Ite 00150 - 0.09 sec - Loss 0.053790 - ACC 79.23% - ACC Mean 78.72% - AUC 85.35% - AUC Mean 84.40% - Deter 122\n",
      "Ite 00200 - 0.21 sec - Loss 0.045575 - ACC 78.88% - ACC Mean 78.55% - AUC 84.53% - AUC Mean 84.48% - Deter 172\n",
      "Ite 00250 - 0.11 sec - Loss 0.044153 - ACC 78.11% - ACC Mean 78.42% - AUC 83.97% - AUC Mean 84.37% - Deter 222\n",
      "Ite 00300 - 0.11 sec - Loss 0.043706 - ACC 78.92% - ACC Mean 78.43% - AUC 85.42% - AUC Mean 84.52% - Deter 272\n",
      "Ite 00350 - 0.13 sec - Loss 0.043419 - ACC 78.58% - ACC Mean 78.75% - AUC 84.51% - AUC Mean 84.67% - Deter 322\n",
      "Ite 00400 - 0.11 sec - Loss 0.043143 - ACC 78.58% - ACC Mean 78.79% - AUC 84.73% - AUC Mean 84.85% - Deter 372\n",
      "Ite 00428 - 0.51 sec - Loss 0.042968 - ACC 79.07% - ACC Mean 78.89% - AUC 84.43% - AUC Mean 84.94% - Deter 400\n",
      "Early stop ite 428, rollback to correction of ite 28, whith acc of 79.16% and auc of 86.14%\n",
      "OUR METHOD RUN 5/10 - acc: 79.16% +- 0.0% - auc: 86.14% +- 0.0%\n",
      "Ite 00000 - 0.10 sec - Loss 0.096336 - ACC 79.35% - ACC Mean 79.35% - AUC 84.86% - AUC Mean 84.86% - Deter 000\n",
      "Ite 00050 - 0.11 sec - Loss 0.090879 - ACC 79.70% - ACC Mean 79.48% - AUC 85.10% - AUC Mean 84.93% - Deter 035\n",
      "Ite 00100 - 0.11 sec - Loss 0.078009 - ACC 78.74% - ACC Mean 78.97% - AUC 85.65% - AUC Mean 85.05% - Deter 014\n",
      "Ite 00150 - 0.25 sec - Loss 0.057340 - ACC 78.28% - ACC Mean 78.31% - AUC 85.17% - AUC Mean 84.91% - Deter 048\n",
      "Ite 00200 - 0.32 sec - Loss 0.046930 - ACC 77.97% - ACC Mean 77.82% - AUC 84.57% - AUC Mean 84.41% - Deter 098\n",
      "Ite 00250 - 0.11 sec - Loss 0.044531 - ACC 76.50% - ACC Mean 77.73% - AUC 83.57% - AUC Mean 84.23% - Deter 148\n",
      "Ite 00300 - 0.11 sec - Loss 0.043846 - ACC 77.97% - ACC Mean 77.82% - AUC 84.38% - AUC Mean 84.26% - Deter 198\n",
      "Ite 00350 - 0.10 sec - Loss 0.043475 - ACC 77.67% - ACC Mean 78.09% - AUC 83.79% - AUC Mean 84.55% - Deter 248\n",
      "Ite 00400 - 0.10 sec - Loss 0.043158 - ACC 78.23% - ACC Mean 78.03% - AUC 84.84% - AUC Mean 84.41% - Deter 298\n",
      "Ite 00450 - 0.11 sec - Loss 0.042816 - ACC 78.02% - ACC Mean 78.23% - AUC 84.35% - AUC Mean 84.57% - Deter 348\n",
      "Ite 00500 - 0.58 sec - Loss 0.042413 - ACC 77.02% - ACC Mean 78.11% - AUC 84.06% - AUC Mean 84.45% - Deter 398\n",
      "Ite 00502 - 0.14 sec - Loss 0.042402 - ACC 76.90% - ACC Mean 78.08% - AUC 83.31% - AUC Mean 84.44% - Deter 400\n",
      "Early stop ite 502, rollback to correction of ite 102, whith acc of 79.65% and auc of 86.06%\n",
      "OUR METHOD RUN 6/10 - acc: 79.65% +- 0.0% - auc: 86.06% +- 0.0%\n",
      "Ite 00000 - 0.12 sec - Loss 0.096013 - ACC 79.70% - ACC Mean 79.70% - AUC 84.76% - AUC Mean 84.76% - Deter 000\n",
      "Ite 00050 - 0.11 sec - Loss 0.089674 - ACC 78.02% - ACC Mean 78.73% - AUC 84.71% - AUC Mean 84.95% - Deter 021\n",
      "Ite 00100 - 0.13 sec - Loss 0.073910 - ACC 77.11% - ACC Mean 78.09% - AUC 83.79% - AUC Mean 84.64% - Deter 071\n",
      "Ite 00150 - 0.11 sec - Loss 0.053113 - ACC 77.41% - ACC Mean 77.67% - AUC 83.64% - AUC Mean 84.06% - Deter 121\n",
      "Ite 00200 - 0.11 sec - Loss 0.045728 - ACC 77.41% - ACC Mean 77.37% - AUC 83.53% - AUC Mean 83.82% - Deter 171\n",
      "Ite 00250 - 0.11 sec - Loss 0.044172 - ACC 77.46% - ACC Mean 77.26% - AUC 83.41% - AUC Mean 83.83% - Deter 221\n",
      "Ite 00300 - 0.51 sec - Loss 0.043598 - ACC 76.89% - ACC Mean 77.29% - AUC 84.06% - AUC Mean 83.95% - Deter 271\n",
      "Ite 00350 - 0.09 sec - Loss 0.043165 - ACC 77.76% - ACC Mean 77.54% - AUC 84.13% - AUC Mean 84.15% - Deter 321\n",
      "Ite 00400 - 0.58 sec - Loss 0.042716 - ACC 77.41% - ACC Mean 77.73% - AUC 84.25% - AUC Mean 84.33% - Deter 371\n",
      "Ite 00429 - 0.10 sec - Loss 0.042427 - ACC 77.41% - ACC Mean 77.99% - AUC 84.10% - AUC Mean 84.49% - Deter 400\n",
      "Early stop ite 429, rollback to correction of ite 29, whith acc of 79.05% and auc of 85.73%\n",
      "OUR METHOD RUN 7/10 - acc: 79.05% +- 0.0% - auc: 85.73% +- 0.0%\n",
      "Ite 00000 - 0.18 sec - Loss 0.096704 - ACC 78.40% - ACC Mean 78.40% - AUC 85.59% - AUC Mean 85.59% - Deter 000\n",
      "Ite 00050 - 0.53 sec - Loss 0.090722 - ACC 79.14% - ACC Mean 78.71% - AUC 84.83% - AUC Mean 84.65% - Deter 023\n",
      "Ite 00100 - 0.11 sec - Loss 0.077850 - ACC 79.14% - ACC Mean 78.26% - AUC 84.99% - AUC Mean 84.69% - Deter 073\n",
      "Ite 00150 - 0.13 sec - Loss 0.058809 - ACC 78.53% - ACC Mean 78.49% - AUC 83.88% - AUC Mean 84.41% - Deter 123\n",
      "Ite 00200 - 0.35 sec - Loss 0.047453 - ACC 79.44% - ACC Mean 78.45% - AUC 84.93% - AUC Mean 84.14% - Deter 173\n",
      "Ite 00250 - 0.11 sec - Loss 0.044678 - ACC 76.75% - ACC Mean 78.10% - AUC 83.91% - AUC Mean 84.63% - Deter 223\n",
      "Ite 00300 - 0.49 sec - Loss 0.044046 - ACC 77.26% - ACC Mean 77.47% - AUC 84.44% - AUC Mean 84.34% - Deter 273\n",
      "Ite 00350 - 0.12 sec - Loss 0.043768 - ACC 76.96% - ACC Mean 77.49% - AUC 84.00% - AUC Mean 84.35% - Deter 323\n",
      "Ite 00400 - 0.10 sec - Loss 0.043572 - ACC 78.49% - ACC Mean 77.76% - AUC 84.70% - AUC Mean 84.42% - Deter 373\n",
      "Ite 00427 - 0.15 sec - Loss 0.043462 - ACC 78.18% - ACC Mean 78.00% - AUC 84.65% - AUC Mean 84.46% - Deter 400\n",
      "Early stop ite 427, rollback to correction of ite 27, whith acc of 79.3% and auc of 85.94%\n",
      "OUR METHOD RUN 8/10 - acc: 79.3% +- 0.0% - auc: 85.94% +- 0.0%\n",
      "Ite 00000 - 0.12 sec - Loss 0.095623 - ACC 78.63% - ACC Mean 78.63% - AUC 84.55% - AUC Mean 84.55% - Deter 000\n",
      "Ite 00050 - 0.12 sec - Loss 0.089794 - ACC 79.95% - ACC Mean 78.61% - AUC 85.52% - AUC Mean 84.79% - Deter 018\n",
      "Ite 00100 - 0.11 sec - Loss 0.074777 - ACC 79.49% - ACC Mean 78.69% - AUC 85.60% - AUC Mean 85.06% - Deter 036\n",
      "Ite 00150 - 0.11 sec - Loss 0.053901 - ACC 77.81% - ACC Mean 78.56% - AUC 84.99% - AUC Mean 85.34% - Deter 036\n",
      "Ite 00200 - 0.11 sec - Loss 0.045941 - ACC 77.51% - ACC Mean 78.01% - AUC 84.21% - AUC Mean 84.75% - Deter 086\n",
      "Ite 00250 - 0.10 sec - Loss 0.044303 - ACC 77.34% - ACC Mean 77.56% - AUC 83.60% - AUC Mean 84.33% - Deter 136\n",
      "Ite 00300 - 0.09 sec - Loss 0.043780 - ACC 77.76% - ACC Mean 77.92% - AUC 84.31% - AUC Mean 84.37% - Deter 186\n",
      "Ite 00350 - 0.17 sec - Loss 0.043471 - ACC 78.32% - ACC Mean 77.94% - AUC 84.51% - AUC Mean 84.32% - Deter 236\n",
      "Ite 00400 - 0.18 sec - Loss 0.043192 - ACC 78.42% - ACC Mean 78.01% - AUC 84.27% - AUC Mean 84.44% - Deter 286\n",
      "Ite 00450 - 0.14 sec - Loss 0.042882 - ACC 78.42% - ACC Mean 78.04% - AUC 84.12% - AUC Mean 84.40% - Deter 336\n",
      "Ite 00500 - 0.10 sec - Loss 0.042506 - ACC 79.19% - ACC Mean 78.65% - AUC 85.32% - AUC Mean 84.98% - Deter 386\n",
      "Ite 00514 - 0.10 sec - Loss 0.042362 - ACC 77.60% - ACC Mean 78.63% - AUC 84.13% - AUC Mean 85.02% - Deter 400\n",
      "Early stop ite 514, rollback to correction of ite 114, whith acc of 79.27% and auc of 86.48%\n",
      "OUR METHOD RUN 9/10 - acc: 79.27% +- 0.0% - auc: 86.48% +- 0.0%\n",
      "Ite 00000 - 0.10 sec - Loss 0.095757 - ACC 77.83% - ACC Mean 77.83% - AUC 83.78% - AUC Mean 83.78% - Deter 000\n",
      "Ite 00050 - 0.20 sec - Loss 0.089953 - ACC 80.51% - ACC Mean 79.07% - AUC 85.33% - AUC Mean 84.74% - Deter 018\n",
      "Ite 00100 - 0.17 sec - Loss 0.075740 - ACC 79.65% - ACC Mean 79.36% - AUC 85.31% - AUC Mean 84.95% - Deter 068\n",
      "Ite 00150 - 0.11 sec - Loss 0.056299 - ACC 77.06% - ACC Mean 78.29% - AUC 85.45% - AUC Mean 85.04% - Deter 118\n",
      "Ite 00200 - 0.14 sec - Loss 0.047517 - ACC 77.06% - ACC Mean 77.42% - AUC 84.18% - AUC Mean 84.39% - Deter 168\n",
      "Ite 00250 - 0.10 sec - Loss 0.045107 - ACC 77.06% - ACC Mean 77.13% - AUC 83.75% - AUC Mean 83.91% - Deter 218\n",
      "Ite 00300 - 0.10 sec - Loss 0.044281 - ACC 77.72% - ACC Mean 77.04% - AUC 83.69% - AUC Mean 83.70% - Deter 268\n",
      "Ite 00350 - 0.12 sec - Loss 0.043851 - ACC 77.11% - ACC Mean 77.03% - AUC 83.53% - AUC Mean 83.66% - Deter 318\n",
      "Ite 00400 - 0.09 sec - Loss 0.043542 - ACC 76.50% - ACC Mean 76.84% - AUC 83.43% - AUC Mean 83.69% - Deter 368\n",
      "Ite 00432 - 0.46 sec - Loss 0.043334 - ACC 76.81% - ACC Mean 76.80% - AUC 83.45% - AUC Mean 83.72% - Deter 400\n",
      "Early stop ite 432, rollback to correction of ite 32, whith acc of 79.91% and auc of 86.56%\n",
      "OUR METHOD RUN 10/10 - acc: 79.91% +- 0.0% - auc: 86.56% +- 0.0%\n",
      "\n",
      "OUR METHOD GLOBAL - acc: 79.77% +- 0.54% - auc: 86.2% +- 0.32%\n"
     ]
    }
   ],
   "source": [
    "params = {\n",
    "    'nb_batches': 10,\n",
    "    'reg_noise_std': .03,\n",
    "    'net_input': 'data_corrupted',\n",
    "    'net_params': [80, 80],\n",
    "    'adam_lr': .0001,\n",
    "    'adam_weight_decay': 0.,\n",
    "}\n",
    "\n",
    "ours_accs, ours_aucs = [], []\n",
    "for i in range(n_runs):\n",
    "    ours_correction = correction.run(data_missing, 4001, params, y=y, missing_mask=missing_mask, seed=i)\n",
    "    ## Since our method returns 2 imputations select the best one\n",
    "    scores_raw = utils.get_scores(ours_correction['raw_out'], y)\n",
    "    acc = scores_raw['test_balanced_accuracy']\n",
    "    auc = scores_raw['test_roc_auc_ovo']\n",
    "    acc = acc.mean()\n",
    "    acc_std = acc.std()\n",
    "    auc = auc.mean()\n",
    "    auc_std = auc.std()\n",
    "    if 'masked_out' in ours_correction:\n",
    "        scores_masked = utils.get_scores(ours_correction['masked_out'], y)\n",
    "        acc_masked = scores_masked['test_balanced_accuracy']\n",
    "        auc_masked = scores_masked['test_roc_auc_ovo']\n",
    "        if auc_masked.mean() > auc:\n",
    "            acc = acc_masked.mean()\n",
    "            acc_std = acc_masked.std()\n",
    "            auc = auc_masked.mean()\n",
    "            auc_std = auc_masked.std()\n",
    "    print(f'OUR METHOD RUN {i + 1}/{n_runs} - acc: {round(acc.mean() * 100, 2)}% +- {round(acc.std() * 100, 2)}% - ' +\n",
    "          f'auc: {round(auc.mean() * 100, 2)}% +- {round(auc.std() * 100, 2)}%')\n",
    "    ours_accs.append(acc.mean())\n",
    "    ours_aucs.append(auc.mean())\n",
    "print(f'\\nOUR METHOD GLOBAL - acc: {round(np.array(ours_accs).mean() * 100, 2)}% +- {round(np.array(ours_accs).std() * 100, 2)}% - ' +\n",
    "      f'auc: {round(np.array(ours_aucs).mean() * 100, 2)}% +- {round(np.array(ours_aucs).std() * 100, 2)}%')"
   ]
  },
  {
   "cell_type": "markdown",
   "metadata": {},
   "source": [
    "## Run MICE"
   ]
  },
  {
   "cell_type": "code",
   "execution_count": 5,
   "metadata": {
    "ExecuteTime": {
     "end_time": "2022-06-07T08:25:47.812154Z",
     "start_time": "2022-06-07T08:25:41.125881Z"
    },
    "execution": {
     "iopub.execute_input": "2022-06-07T09:17:49.005601Z",
     "iopub.status.busy": "2022-06-07T09:17:49.004621Z",
     "iopub.status.idle": "2022-06-07T09:18:10.730116Z",
     "shell.execute_reply": "2022-06-07T09:18:10.730628Z"
    }
   },
   "outputs": [
    {
     "name": "stdout",
     "output_type": "stream",
     "text": [
      "MICE - acc: 76.17% +- 0.0% - auc: 83.6% +- 0.0%\n"
     ]
    }
   ],
   "source": [
    "data_missing_nans = np.where(missing_mask, data_missing, np.nan)\n",
    "\n",
    "imputer = IterativeImputer()\n",
    "imputed = imputer.fit_transform(data_missing_nans)\n",
    "## All runs would be the same since deterministic method\n",
    "scores = utils.get_scores(imputed, y)\n",
    "acc = [scores['test_balanced_accuracy'].mean()] * n_runs\n",
    "auc = [scores['test_roc_auc_ovo'].mean()] * n_runs\n",
    "print(f'MICE - acc: {round(np.mean(acc) * 100, 2)}% +- {round(np.std(acc) * 100, 2)}% - ' +\n",
    "      f'auc: {round(np.mean(auc) * 100, 2)}% +- {round(np.std(auc) * 100, 2)}%')\n",
    "mice_accs = acc\n",
    "mice_aucs = auc"
   ]
  },
  {
   "cell_type": "markdown",
   "metadata": {},
   "source": [
    "## Run SFIL"
   ]
  },
  {
   "cell_type": "code",
   "execution_count": 6,
   "metadata": {
    "ExecuteTime": {
     "end_time": "2022-06-07T08:25:49.133209Z",
     "start_time": "2022-06-07T08:25:47.813384Z"
    },
    "execution": {
     "iopub.execute_input": "2022-06-07T09:18:10.736419Z",
     "iopub.status.busy": "2022-06-07T09:18:10.735978Z",
     "iopub.status.idle": "2022-06-07T09:18:13.952998Z",
     "shell.execute_reply": "2022-06-07T09:18:13.953371Z"
    }
   },
   "outputs": [
    {
     "name": "stdout",
     "output_type": "stream",
     "text": [
      "SFIL RUN 1/10 - acc: 76.6% +- 2.99% - auc: 83.06% +- 2.5%\n",
      "SFIL RUN 2/10 - acc: 75.11% +- 2.79% - auc: 80.54% +- 2.8%\n",
      "SFIL RUN 3/10 - acc: 72.8% +- 2.42% - auc: 76.88% +- 2.5%\n",
      "SFIL RUN 4/10 - acc: 75.63% +- 2.47% - auc: 79.62% +- 1.64%\n",
      "SFIL RUN 5/10 - acc: 75.45% +- 6.0% - auc: 80.37% +- 4.28%\n",
      "SFIL RUN 6/10 - acc: 75.09% +- 5.77% - auc: 77.8% +- 5.59%\n",
      "SFIL RUN 7/10 - acc: 74.44% +- 2.26% - auc: 78.84% +- 2.58%\n",
      "SFIL RUN 8/10 - acc: 78.75% +- 1.95% - auc: 81.91% +- 2.44%\n",
      "SFIL RUN 9/10 - acc: 74.93% +- 4.87% - auc: 81.31% +- 2.29%\n",
      "SFIL RUN 10/10 - acc: 73.29% +- 7.25% - auc: 78.81% +- 8.19%\n",
      "SFIL GLOBAL - acc: 75.21% +- 1.58% - auc: 79.91% +- 1.8%\n"
     ]
    }
   ],
   "source": [
    "sfil_accs, sfil_aucs = [], []\n",
    "for i in range(n_runs):\n",
    "    acc, auc = filtering(imputed, y, mode='standard', random_state=i)\n",
    "    sfil_accs.append(acc.mean())\n",
    "    sfil_aucs.append(auc.mean())\n",
    "    print(f'SFIL RUN {i + 1}/{n_runs} - acc: {round(np.mean(acc) * 100, 2)}% +- {round(np.std(acc) * 100, 2)}% - ' +\n",
    "          f'auc: {round(np.mean(auc) * 100, 2)}% +- {round(np.std(auc) * 100, 2)}%')\n",
    "print(f'SFIL GLOBAL - acc: {round(np.mean(sfil_accs) * 100, 2)}% +- {round(np.std(sfil_accs) * 100, 2)}% - ' +\n",
    "      f'auc: {round(np.mean(sfil_aucs) * 100, 2)}% +- {round(np.std(sfil_aucs) * 100, 2)}%')"
   ]
  },
  {
   "cell_type": "markdown",
   "metadata": {},
   "source": [
    "## Run PFIL"
   ]
  },
  {
   "cell_type": "code",
   "execution_count": 7,
   "metadata": {
    "ExecuteTime": {
     "end_time": "2022-06-07T08:35:09.194980Z",
     "start_time": "2022-06-07T08:25:49.134766Z"
    },
    "execution": {
     "iopub.execute_input": "2022-06-07T09:18:13.963418Z",
     "iopub.status.busy": "2022-06-07T09:18:13.962952Z",
     "iopub.status.idle": "2022-06-07T09:32:02.422040Z",
     "shell.execute_reply": "2022-06-07T09:32:02.423120Z"
    },
    "scrolled": false
   },
   "outputs": [
    {
     "name": "stdout",
     "output_type": "stream",
     "text": [
      "PFIL RUN 1/10 - acc: 78.71% +- 2.29% - auc: 84.63% +- 1.42%\n",
      "PFIL RUN 2/10 - acc: 80.72% +- 5.99% - auc: 84.56% +- 6.04%\n",
      "PFIL RUN 3/10 - acc: 76.53% +- 6.18% - auc: 82.01% +- 2.89%\n",
      "PFIL RUN 4/10 - acc: 77.56% +- 7.02% - auc: 84.51% +- 5.91%\n",
      "PFIL RUN 5/10 - acc: 81.4% +- 2.22% - auc: 86.07% +- 2.09%\n",
      "PFIL RUN 6/10 - acc: 76.02% +- 3.89% - auc: 82.49% +- 3.09%\n",
      "PFIL RUN 7/10 - acc: 79.75% +- 3.23% - auc: 85.35% +- 2.35%\n",
      "PFIL RUN 8/10 - acc: 80.55% +- 4.56% - auc: 85.74% +- 4.39%\n",
      "PFIL RUN 9/10 - acc: 74.58% +- 6.79% - auc: 78.85% +- 4.5%\n",
      "PFIL RUN 10/10 - acc: 78.25% +- 2.86% - auc: 83.51% +- 3.95%\n",
      "PFIL GLOBAL - acc: 78.41% +- 2.13% - auc: 83.77% +- 2.07%\n"
     ]
    }
   ],
   "source": [
    "pfil_accs, pfil_aucs = [], []\n",
    "for i in range(n_runs):\n",
    "    acc, auc = filtering(imputed, y, mode='panda', random_state=i)\n",
    "    pfil_accs.append(acc.mean())\n",
    "    pfil_aucs.append(auc.mean())\n",
    "    print(f'PFIL RUN {i + 1}/{n_runs} - acc: {round(np.mean(acc) * 100, 2)}% +- {round(np.std(acc) * 100, 2)}% - ' +\n",
    "          f'auc: {round(np.mean(auc) * 100, 2)}% +- {round(np.std(auc) * 100, 2)}%')\n",
    "print(f'PFIL GLOBAL - acc: {round(np.mean(pfil_accs) * 100, 2)}% +- {round(np.std(pfil_accs) * 100, 2)}% - ' +\n",
    "      f'auc: {round(np.mean(pfil_aucs) * 100, 2)}% +- {round(np.std(pfil_aucs) * 100, 2)}%')"
   ]
  },
  {
   "cell_type": "markdown",
   "metadata": {},
   "source": [
    "## Run SPOL"
   ]
  },
  {
   "cell_type": "code",
   "execution_count": 8,
   "metadata": {
    "ExecuteTime": {
     "end_time": "2022-06-07T08:50:33.353751Z",
     "start_time": "2022-06-07T08:49:36.684786Z"
    },
    "execution": {
     "iopub.execute_input": "2022-06-07T09:32:02.434166Z",
     "iopub.status.busy": "2022-06-07T09:32:02.433448Z",
     "iopub.status.idle": "2022-06-07T09:32:42.140488Z",
     "shell.execute_reply": "2022-06-07T09:32:42.140851Z"
    }
   },
   "outputs": [
    {
     "name": "stdout",
     "output_type": "stream",
     "text": [
      "SPOL RUN 1/10 - acc: 78.17% +- 4.3% - auc: 83.31% +- 2.67%\n",
      "SPOL RUN 2/10 - acc: 77.09% +- 5.19% - auc: 82.44% +- 3.88%\n",
      "SPOL RUN 3/10 - acc: 76.01% +- 3.13% - auc: 80.27% +- 3.2%\n",
      "SPOL RUN 4/10 - acc: 75.37% +- 3.28% - auc: 81.29% +- 4.24%\n",
      "SPOL RUN 5/10 - acc: 80.19% +- 3.84% - auc: 86.71% +- 2.85%\n",
      "SPOL RUN 6/10 - acc: 76.94% +- 5.3% - auc: 82.56% +- 4.72%\n",
      "SPOL RUN 7/10 - acc: 75.99% +- 3.87% - auc: 81.85% +- 3.93%\n",
      "SPOL RUN 8/10 - acc: 78.17% +- 2.35% - auc: 81.99% +- 2.38%\n",
      "SPOL RUN 9/10 - acc: 74.25% +- 6.48% - auc: 80.86% +- 4.31%\n",
      "SPOL RUN 10/10 - acc: 76.3% +- 4.35% - auc: 81.1% +- 3.27%\n",
      "SPOL GLOBAL - acc: 76.85% +- 1.59% - auc: 82.24% +- 1.71%\n"
     ]
    }
   ],
   "source": [
    "spol_accs, spol_aucs = [], []\n",
    "for i in range(n_runs):\n",
    "    acc, auc = polishing(imputed, y, mode='standard', random_state=i)\n",
    "    spol_accs.append(acc.mean())\n",
    "    spol_aucs.append(auc.mean())\n",
    "    print(f'SPOL RUN {i + 1}/{n_runs} - acc: {round(np.mean(acc) * 100, 2)}% +- {round(np.std(acc) * 100, 2)}% - ' +\n",
    "          f'auc: {round(np.mean(auc) * 100, 2)}% +- {round(np.std(auc) * 100, 2)}%')\n",
    "print(f'SPOL GLOBAL - acc: {round(np.mean(spol_accs) * 100, 2)}% +- {round(np.std(spol_accs) * 100, 2)}% - ' +\n",
    "      f'auc: {round(np.mean(spol_aucs) * 100, 2)}% +- {round(np.std(spol_aucs) * 100, 2)}%')"
   ]
  },
  {
   "cell_type": "markdown",
   "metadata": {},
   "source": [
    "## Run PPOL"
   ]
  },
  {
   "cell_type": "code",
   "execution_count": 9,
   "metadata": {
    "ExecuteTime": {
     "end_time": "2022-06-07T08:54:57.736311Z",
     "start_time": "2022-06-07T08:54:53.057083Z"
    },
    "execution": {
     "iopub.execute_input": "2022-06-07T09:32:42.147572Z",
     "iopub.status.busy": "2022-06-07T09:32:42.147080Z",
     "iopub.status.idle": "2022-06-07T09:51:07.630052Z",
     "shell.execute_reply": "2022-06-07T09:51:07.628957Z"
    }
   },
   "outputs": [
    {
     "name": "stdout",
     "output_type": "stream",
     "text": [
      "PPOL RUN 1/10 - acc: 77.67% +- 3.79% - auc: 82.61% +- 3.24%\n",
      "PPOL RUN 2/10 - acc: 78.57% +- 6.29% - auc: 83.31% +- 6.19%\n",
      "PPOL RUN 3/10 - acc: 77.54% +- 2.59% - auc: 83.09% +- 2.49%\n",
      "PPOL RUN 4/10 - acc: 78.35% +- 4.77% - auc: 84.35% +- 3.84%\n",
      "PPOL RUN 5/10 - acc: 77.46% +- 5.13% - auc: 83.18% +- 4.46%\n",
      "PPOL RUN 6/10 - acc: 75.12% +- 3.93% - auc: 81.6% +- 2.34%\n",
      "PPOL RUN 7/10 - acc: 75.05% +- 3.06% - auc: 83.47% +- 4.53%\n",
      "PPOL RUN 8/10 - acc: 77.43% +- 5.21% - auc: 81.74% +- 6.04%\n",
      "PPOL RUN 9/10 - acc: 73.79% +- 6.21% - auc: 81.14% +- 3.79%\n",
      "PPOL RUN 10/10 - acc: 76.75% +- 2.94% - auc: 84.4% +- 3.76%\n",
      "PPOL GLOBAL - acc: 76.77% +- 1.5% - auc: 82.89% +- 1.06%\n"
     ]
    }
   ],
   "source": [
    "ppol_accs, ppol_aucs = [], []\n",
    "for i in range(n_runs):\n",
    "    acc, auc = polishing(imputed, y, mode='panda', random_state=i)\n",
    "    ppol_accs.append(acc.mean())\n",
    "    ppol_aucs.append(auc.mean())\n",
    "    print(f'PPOL RUN {i + 1}/{n_runs} - acc: {round(np.mean(acc) * 100, 2)}% +- {round(np.std(acc) * 100, 2)}% - ' +\n",
    "          f'auc: {round(np.mean(auc) * 100, 2)}% +- {round(np.std(auc) * 100, 2)}%')\n",
    "print(f'PPOL GLOBAL - acc: {round(np.mean(ppol_accs) * 100, 2)}% +- {round(np.std(ppol_accs) * 100, 2)}% - ' +\n",
    "      f'auc: {round(np.mean(ppol_aucs) * 100, 2)}% +- {round(np.std(ppol_aucs) * 100, 2)}%')"
   ]
  },
  {
   "cell_type": "markdown",
   "metadata": {},
   "source": [
    "## Run T-tests"
   ]
  },
  {
   "cell_type": "code",
   "execution_count": 10,
   "metadata": {
    "ExecuteTime": {
     "end_time": "2022-06-07T08:52:25.983958Z",
     "start_time": "2022-06-07T08:52:25.963898Z"
    },
    "execution": {
     "iopub.execute_input": "2022-06-07T09:51:07.642171Z",
     "iopub.status.busy": "2022-06-07T09:51:07.641255Z",
     "iopub.status.idle": "2022-06-07T09:51:07.647294Z",
     "shell.execute_reply": "2022-06-07T09:51:07.646250Z"
    },
    "scrolled": false
   },
   "outputs": [
    {
     "name": "stdout",
     "output_type": "stream",
     "text": [
      "Metric ACC - OUR METHOD is significantly better than MICE\n",
      "Metric AUC - OUR METHOD is significantly better than MICE\n",
      "Metric ACC - OUR METHOD is significantly better than SFIL\n",
      "Metric AUC - OUR METHOD is significantly better than SFIL\n",
      "Metric ACC - OUR METHOD is even with PFIL\n",
      "Metric AUC - OUR METHOD is significantly better than PFIL\n",
      "Metric ACC - OUR METHOD is significantly better than SPOL\n",
      "Metric AUC - OUR METHOD is significantly better than SPOL\n",
      "Metric ACC - OUR METHOD is significantly better than PPOL\n",
      "Metric AUC - OUR METHOD is significantly better than PPOL\n"
     ]
    }
   ],
   "source": [
    "for model, metrics in {\n",
    "        'MICE': {'ACC': mice_accs, 'AUC': mice_aucs},\n",
    "        'SFIL': {'ACC': sfil_accs, 'AUC': sfil_aucs},\n",
    "        'PFIL': {'ACC': pfil_accs, 'AUC': pfil_aucs},\n",
    "        'SPOL': {'ACC': spol_accs, 'AUC': spol_aucs},\n",
    "        'PPOL': {'ACC': ppol_accs, 'AUC': ppol_aucs}}.items():\n",
    "    for metric_name, metric in metrics.items():\n",
    "        ours_metric = ours_accs if metric_name == 'ACC' else ours_aucs\n",
    "        t, p = scipy.stats.ttest_ind(np.array(ours_metric), np.array(metric))\n",
    "        if p <= .05:\n",
    "            if t > 0:\n",
    "                ## Our method is better\n",
    "                print(f'Metric {metric_name} - OUR METHOD is significantly better than {model}')\n",
    "            else:\n",
    "                ## Theirs is better\n",
    "                print(f'Metric {metric_name} - OUR METHOD is significantly worse than {model}')\n",
    "        else:\n",
    "            ## Else we are even\n",
    "            print(f'Metric {metric_name} - OUR METHOD is even with {model}')"
   ]
  }
 ],
 "metadata": {
  "kernelspec": {
   "display_name": "Python 3 (ipykernel)",
   "language": "python",
   "name": "python3"
  },
  "language_info": {
   "codemirror_mode": {
    "name": "ipython",
    "version": 3
   },
   "file_extension": ".py",
   "mimetype": "text/x-python",
   "name": "python",
   "nbconvert_exporter": "python",
   "pygments_lexer": "ipython3",
   "version": "3.9.7"
  },
  "latex_envs": {
   "LaTeX_envs_menu_present": true,
   "autoclose": false,
   "autocomplete": true,
   "bibliofile": "biblio.bib",
   "cite_by": "apalike",
   "current_citInitial": 1,
   "eqLabelWithNumbers": true,
   "eqNumInitial": 1,
   "hotkeys": {
    "equation": "Ctrl-E",
    "itemize": "Ctrl-I"
   },
   "labels_anchors": false,
   "latex_user_defs": false,
   "report_style_numbering": false,
   "user_envs_cfg": false
  }
 },
 "nbformat": 4,
 "nbformat_minor": 2
}
