{
 "cells": [
  {
   "cell_type": "code",
   "execution_count": 1,
   "metadata": {
    "ExecuteTime": {
     "end_time": "2022-06-07T08:11:39.412870Z",
     "start_time": "2022-06-07T08:11:35.692131Z"
    },
    "execution": {
     "iopub.execute_input": "2022-06-07T09:01:46.474074Z",
     "iopub.status.busy": "2022-06-07T09:01:46.472870Z",
     "iopub.status.idle": "2022-06-07T09:01:52.127879Z",
     "shell.execute_reply": "2022-06-07T09:01:52.127256Z"
    }
   },
   "outputs": [],
   "source": [
    "from __future__ import print_function\n",
    "import warnings\n",
    "warnings.filterwarnings('ignore')\n",
    "## Disable tf future deprecated messages\n",
    "import logging\n",
    "logging.getLogger('tensorflow').disabled = True\n",
    "## Disable tf CUDA messages\n",
    "import os\n",
    "os.environ['TF_CPP_MIN_LOG_LEVEL'] = '3'\n",
    "\n",
    "%matplotlib inline\n",
    "\n",
    "import sys\n",
    "import random\n",
    "import numpy as np\n",
    "import pandas as pd\n",
    "\n",
    "import utils\n",
    "import correction\n",
    "from models.dense import *\n",
    "from models.gain import gain\n",
    "from models.soft_impute import SoftImpute\n",
    "from models.sinkhorn import OTimputer\n",
    "from models.mida import mida\n",
    "from models.polishing import polishing\n",
    "from models.filtering import filtering\n",
    "\n",
    "import scipy.stats\n",
    "\n",
    "from sklearn.experimental import enable_iterative_imputer\n",
    "from sklearn.impute import IterativeImputer\n",
    "from sklearn.impute import KNNImputer, SimpleImputer\n",
    "\n",
    "import sklearn.neighbors._base\n",
    "sys.modules['sklearn.neighbors.base'] = sklearn.neighbors._base\n",
    "from missingpy import MissForest\n",
    "\n",
    "torch.backends.cudnn.enabled = True\n",
    "torch.backends.cudnn.benchmark = True\n",
    "dtype = torch.cuda.FloatTensor"
   ]
  },
  {
   "cell_type": "markdown",
   "metadata": {},
   "source": [
    "## Repeat all experiments for 10 runs"
   ]
  },
  {
   "cell_type": "code",
   "execution_count": 2,
   "metadata": {
    "ExecuteTime": {
     "end_time": "2022-06-07T08:11:39.417491Z",
     "start_time": "2022-06-07T08:11:39.415081Z"
    },
    "execution": {
     "iopub.execute_input": "2022-06-07T09:01:52.133771Z",
     "iopub.status.busy": "2022-06-07T09:01:52.132487Z",
     "iopub.status.idle": "2022-06-07T09:01:52.136343Z",
     "shell.execute_reply": "2022-06-07T09:01:52.135304Z"
    }
   },
   "outputs": [],
   "source": [
    "n_runs = 10"
   ]
  },
  {
   "cell_type": "markdown",
   "metadata": {},
   "source": [
    "## Load data"
   ]
  },
  {
   "cell_type": "code",
   "execution_count": 3,
   "metadata": {
    "ExecuteTime": {
     "end_time": "2022-06-07T08:11:41.218694Z",
     "start_time": "2022-06-07T08:11:39.419632Z"
    },
    "execution": {
     "iopub.execute_input": "2022-06-07T09:01:52.143297Z",
     "iopub.status.busy": "2022-06-07T09:01:52.142077Z",
     "iopub.status.idle": "2022-06-07T09:01:55.678664Z",
     "shell.execute_reply": "2022-06-07T09:01:55.677579Z"
    }
   },
   "outputs": [
    {
     "name": "stdout",
     "output_type": "stream",
     "text": [
      "Dataset shape: (361, 80)\n",
      "19.75% missing data\n",
      "Class distribution: (array([0, 1]), array([195, 166]))\n"
     ]
    }
   ],
   "source": [
    "data_missing, missing_mask, y = utils.load_covid()\n",
    "## Inject noise\n",
    "data_missing = utils.inject_noise(data_missing.copy(), noise_rate=.4)\n",
    "## Replace missing values locations by 0\n",
    "data_missing = data_missing * missing_mask"
   ]
  },
  {
   "cell_type": "markdown",
   "metadata": {},
   "source": [
    "## Run OUR METHOD"
   ]
  },
  {
   "cell_type": "code",
   "execution_count": 4,
   "metadata": {
    "ExecuteTime": {
     "end_time": "2022-06-07T08:25:41.124140Z",
     "start_time": "2022-06-07T08:11:41.222736Z"
    },
    "execution": {
     "iopub.execute_input": "2022-06-07T09:01:55.687900Z",
     "iopub.status.busy": "2022-06-07T09:01:55.686957Z",
     "iopub.status.idle": "2022-06-07T09:18:02.494469Z",
     "shell.execute_reply": "2022-06-07T09:18:02.494816Z"
    },
    "scrolled": false
   },
   "outputs": [
    {
     "name": "stdout",
     "output_type": "stream",
     "text": [
      "Ite 00000 - 0.74 sec - Loss 0.090028 - ACC 71.04% - ACC Mean 71.04% - AUC 77.28% - AUC Mean 77.28% - Deter 000\n",
      "Ite 00050 - 0.11 sec - Loss 0.085444 - ACC 72.57% - ACC Mean 70.25% - AUC 78.85% - AUC Mean 77.81% - Deter 034\n",
      "Ite 00100 - 0.54 sec - Loss 0.074959 - ACC 71.01% - ACC Mean 71.13% - AUC 77.72% - AUC Mean 78.40% - Deter 015\n",
      "Ite 00150 - 0.11 sec - Loss 0.064008 - ACC 69.42% - ACC Mean 71.01% - AUC 76.64% - AUC Mean 78.15% - Deter 020\n",
      "Ite 00200 - 0.44 sec - Loss 0.060939 - ACC 70.40% - ACC Mean 70.54% - AUC 77.10% - AUC Mean 77.49% - Deter 070\n",
      "Ite 00250 - 0.11 sec - Loss 0.060184 - ACC 72.27% - ACC Mean 70.42% - AUC 78.26% - AUC Mean 77.41% - Deter 120\n",
      "Ite 00300 - 0.33 sec - Loss 0.059803 - ACC 72.22% - ACC Mean 70.77% - AUC 79.02% - AUC Mean 77.64% - Deter 170\n",
      "Ite 00350 - 0.13 sec - Loss 0.059436 - ACC 70.71% - ACC Mean 71.31% - AUC 77.81% - AUC Mean 78.17% - Deter 220\n",
      "Ite 00400 - 0.12 sec - Loss 0.059059 - ACC 69.33% - ACC Mean 71.30% - AUC 76.72% - AUC Mean 78.19% - Deter 270\n",
      "Ite 00450 - 0.10 sec - Loss 0.058610 - ACC 71.31% - ACC Mean 71.26% - AUC 78.21% - AUC Mean 78.11% - Deter 320\n",
      "Ite 00500 - 0.41 sec - Loss 0.058082 - ACC 69.54% - ACC Mean 71.12% - AUC 77.25% - AUC Mean 78.03% - Deter 370\n",
      "Ite 00530 - 0.10 sec - Loss 0.057703 - ACC 71.62% - ACC Mean 71.11% - AUC 78.42% - AUC Mean 77.86% - Deter 400\n",
      "Early stop ite 530, rollback to correction of ite 130, whith acc of 72.48% and auc of 79.55%\n",
      "OUR METHOD RUN 1/10 - acc: 72.48% +- 0.0% - auc: 79.55% +- 0.0%\n",
      "Ite 00000 - 0.11 sec - Loss 0.089626 - ACC 71.66% - ACC Mean 71.66% - AUC 78.83% - AUC Mean 78.83% - Deter 000\n",
      "Ite 00050 - 0.59 sec - Loss 0.085101 - ACC 71.06% - ACC Mean 70.80% - AUC 78.36% - AUC Mean 77.91% - Deter 043\n",
      "Ite 00100 - 0.55 sec - Loss 0.074696 - ACC 71.41% - ACC Mean 70.89% - AUC 79.03% - AUC Mean 78.60% - Deter 010\n",
      "Ite 00150 - 0.10 sec - Loss 0.063711 - ACC 72.17% - ACC Mean 71.06% - AUC 77.61% - AUC Mean 77.67% - Deter 060\n",
      "Ite 00200 - 0.53 sec - Loss 0.060785 - ACC 70.05% - ACC Mean 70.93% - AUC 77.43% - AUC Mean 76.92% - Deter 110\n",
      "Ite 00250 - 0.54 sec - Loss 0.060172 - ACC 69.54% - ACC Mean 70.23% - AUC 76.86% - AUC Mean 76.79% - Deter 160\n",
      "Ite 00300 - 0.49 sec - Loss 0.059838 - ACC 70.75% - ACC Mean 69.95% - AUC 76.80% - AUC Mean 77.08% - Deter 210\n",
      "Ite 00350 - 0.51 sec - Loss 0.059518 - ACC 70.36% - ACC Mean 70.28% - AUC 77.44% - AUC Mean 77.20% - Deter 260\n",
      "Ite 00400 - 0.11 sec - Loss 0.059156 - ACC 71.52% - ACC Mean 71.33% - AUC 78.58% - AUC Mean 78.17% - Deter 310\n",
      "Ite 00450 - 0.10 sec - Loss 0.058699 - ACC 71.01% - ACC Mean 71.43% - AUC 78.05% - AUC Mean 78.44% - Deter 360\n",
      "Ite 00490 - 0.13 sec - Loss 0.058349 - ACC 70.85% - ACC Mean 71.30% - AUC 78.78% - AUC Mean 78.81% - Deter 400\n",
      "Early stop ite 490, rollback to correction of ite 90, whith acc of 70.71% and auc of 79.92%\n",
      "OUR METHOD RUN 2/10 - acc: 70.71% +- 0.0% - auc: 79.92% +- 0.0%\n",
      "Ite 00000 - 0.10 sec - Loss 0.089088 - ACC 71.06% - ACC Mean 71.06% - AUC 77.32% - AUC Mean 77.32% - Deter 000\n",
      "Ite 00050 - 0.21 sec - Loss 0.085247 - ACC 71.06% - ACC Mean 71.14% - AUC 77.55% - AUC Mean 77.43% - Deter 039\n",
      "Ite 00100 - 0.11 sec - Loss 0.076627 - ACC 71.06% - ACC Mean 71.07% - AUC 76.91% - AUC Mean 77.88% - Deter 029\n",
      "Ite 00150 - 0.12 sec - Loss 0.065228 - ACC 71.24% - ACC Mean 70.65% - AUC 77.93% - AUC Mean 77.60% - Deter 079\n",
      "Ite 00200 - 0.10 sec - Loss 0.061208 - ACC 70.68% - ACC Mean 70.23% - AUC 76.63% - AUC Mean 77.37% - Deter 129\n",
      "Ite 00250 - 0.10 sec - Loss 0.060124 - ACC 70.68% - ACC Mean 70.36% - AUC 76.66% - AUC Mean 77.18% - Deter 179\n",
      "Ite 00300 - 0.11 sec - Loss 0.059571 - ACC 70.99% - ACC Mean 70.37% - AUC 76.83% - AUC Mean 77.10% - Deter 229\n",
      "Ite 00350 - 0.12 sec - Loss 0.059088 - ACC 69.77% - ACC Mean 70.15% - AUC 77.38% - AUC Mean 77.13% - Deter 279\n",
      "Ite 00400 - 0.12 sec - Loss 0.058562 - ACC 70.08% - ACC Mean 69.87% - AUC 77.11% - AUC Mean 77.17% - Deter 329\n",
      "Ite 00450 - 0.12 sec - Loss 0.057907 - ACC 69.17% - ACC Mean 69.89% - AUC 76.52% - AUC Mean 77.14% - Deter 379\n",
      "Ite 00471 - 0.10 sec - Loss 0.057631 - ACC 69.42% - ACC Mean 69.99% - AUC 76.74% - AUC Mean 77.19% - Deter 400\n",
      "Early stop ite 471, rollback to correction of ite 71, whith acc of 71.87% and auc of 78.68%\n",
      "OUR METHOD RUN 3/10 - acc: 71.87% +- 0.0% - auc: 78.68% +- 0.0%\n",
      "Ite 00000 - 0.13 sec - Loss 0.089281 - ACC 70.75% - ACC Mean 70.75% - AUC 78.08% - AUC Mean 78.08% - Deter 000\n",
      "Ite 00050 - 0.11 sec - Loss 0.083791 - ACC 69.26% - ACC Mean 70.49% - AUC 76.32% - AUC Mean 77.97% - Deter 044\n",
      "Ite 00100 - 0.17 sec - Loss 0.072408 - ACC 69.38% - ACC Mean 70.17% - AUC 77.12% - AUC Mean 77.21% - Deter 094\n",
      "Ite 00150 - 0.24 sec - Loss 0.062766 - ACC 70.75% - ACC Mean 69.95% - AUC 77.55% - AUC Mean 76.84% - Deter 144\n",
      "Ite 00200 - 0.12 sec - Loss 0.060566 - ACC 70.24% - ACC Mean 70.93% - AUC 77.38% - AUC Mean 77.34% - Deter 194\n",
      "Ite 00250 - 0.11 sec - Loss 0.060024 - ACC 71.66% - ACC Mean 71.20% - AUC 77.64% - AUC Mean 77.45% - Deter 244\n",
      "Ite 00300 - 0.10 sec - Loss 0.059693 - ACC 69.33% - ACC Mean 71.15% - AUC 76.35% - AUC Mean 77.37% - Deter 294\n",
      "Ite 00350 - 0.11 sec - Loss 0.059376 - ACC 71.27% - ACC Mean 71.16% - AUC 77.25% - AUC Mean 77.43% - Deter 344\n",
      "Ite 00400 - 0.12 sec - Loss 0.059017 - ACC 69.89% - ACC Mean 71.18% - AUC 77.18% - AUC Mean 77.45% - Deter 394\n",
      "Ite 00406 - 0.12 sec - Loss 0.058954 - ACC 70.61% - ACC Mean 71.30% - AUC 77.46% - AUC Mean 77.54% - Deter 400\n",
      "Early stop ite 406, rollback to correction of ite 6, whith acc of 71.66% and auc of 79.4%\n",
      "OUR METHOD RUN 4/10 - acc: 71.66% +- 0.0% - auc: 79.4% +- 0.0%\n",
      "Ite 00000 - 0.28 sec - Loss 0.090002 - ACC 71.29% - ACC Mean 71.29% - AUC 77.18% - AUC Mean 77.18% - Deter 000\n",
      "Ite 00050 - 0.52 sec - Loss 0.085131 - ACC 72.22% - ACC Mean 71.20% - AUC 77.89% - AUC Mean 77.29% - Deter 010\n",
      "Ite 00100 - 0.42 sec - Loss 0.073878 - ACC 71.20% - ACC Mean 71.29% - AUC 77.58% - AUC Mean 77.73% - Deter 038\n",
      "Ite 00150 - 0.57 sec - Loss 0.062909 - ACC 70.94% - ACC Mean 70.93% - AUC 77.89% - AUC Mean 77.00% - Deter 088\n",
      "Ite 00200 - 0.27 sec - Loss 0.060435 - ACC 70.54% - ACC Mean 70.76% - AUC 76.80% - AUC Mean 76.85% - Deter 138\n",
      "Ite 00250 - 0.50 sec - Loss 0.059937 - ACC 69.94% - ACC Mean 70.26% - AUC 76.76% - AUC Mean 76.86% - Deter 188\n",
      "Ite 00300 - 0.11 sec - Loss 0.059583 - ACC 70.59% - ACC Mean 70.02% - AUC 76.72% - AUC Mean 76.72% - Deter 238\n",
      "Ite 00350 - 0.10 sec - Loss 0.059205 - ACC 69.73% - ACC Mean 69.89% - AUC 76.59% - AUC Mean 76.68% - Deter 288\n",
      "Ite 00400 - 0.10 sec - Loss 0.058748 - ACC 70.24% - ACC Mean 70.19% - AUC 77.21% - AUC Mean 76.87% - Deter 338\n",
      "Ite 00450 - 0.50 sec - Loss 0.058156 - ACC 70.38% - ACC Mean 70.09% - AUC 77.09% - AUC Mean 76.72% - Deter 388\n",
      "Ite 00462 - 0.10 sec - Loss 0.058016 - ACC 69.77% - ACC Mean 70.04% - AUC 76.33% - AUC Mean 76.68% - Deter 400\n",
      "Early stop ite 462, rollback to correction of ite 62, whith acc of 71.27% and auc of 79.24%\n",
      "OUR METHOD RUN 5/10 - acc: 71.27% +- 0.0% - auc: 79.24% +- 0.0%\n",
      "Ite 00000 - 0.48 sec - Loss 0.089003 - ACC 68.37% - ACC Mean 68.37% - AUC 75.75% - AUC Mean 75.75% - Deter 000\n",
      "Ite 00050 - 0.31 sec - Loss 0.084751 - ACC 70.08% - ACC Mean 70.49% - AUC 77.30% - AUC Mean 76.92% - Deter 015\n",
      "Ite 00100 - 0.48 sec - Loss 0.075361 - ACC 70.15% - ACC Mean 69.48% - AUC 77.99% - AUC Mean 76.61% - Deter 001\n",
      "Ite 00150 - 0.11 sec - Loss 0.064250 - ACC 69.63% - ACC Mean 70.24% - AUC 77.08% - AUC Mean 77.43% - Deter 041\n",
      "Ite 00200 - 0.16 sec - Loss 0.060898 - ACC 70.24% - ACC Mean 70.02% - AUC 77.56% - AUC Mean 76.87% - Deter 091\n",
      "Ite 00250 - 0.37 sec - Loss 0.060136 - ACC 70.19% - ACC Mean 70.21% - AUC 77.28% - AUC Mean 77.03% - Deter 141\n",
      "Ite 00300 - 0.34 sec - Loss 0.059775 - ACC 71.29% - ACC Mean 70.58% - AUC 76.76% - AUC Mean 77.10% - Deter 191\n",
      "Ite 00350 - 0.34 sec - Loss 0.059415 - ACC 71.92% - ACC Mean 71.00% - AUC 77.56% - AUC Mean 77.35% - Deter 241\n",
      "Ite 00400 - 0.11 sec - Loss 0.059033 - ACC 71.22% - ACC Mean 71.29% - AUC 78.09% - AUC Mean 77.92% - Deter 291\n",
      "Ite 00450 - 0.11 sec - Loss 0.058570 - ACC 70.36% - ACC Mean 70.62% - AUC 78.04% - AUC Mean 77.96% - Deter 341\n",
      "Ite 00500 - 0.15 sec - Loss 0.058044 - ACC 68.12% - ACC Mean 69.80% - AUC 76.06% - AUC Mean 77.42% - Deter 391\n",
      "Ite 00509 - 0.12 sec - Loss 0.057935 - ACC 68.42% - ACC Mean 69.70% - AUC 76.92% - AUC Mean 77.31% - Deter 400\n",
      "Early stop ite 509, rollback to correction of ite 109, whith acc of 71.83% and auc of 79.28%\n",
      "OUR METHOD RUN 6/10 - acc: 71.83% +- 0.0% - auc: 79.28% +- 0.0%\n",
      "Ite 00000 - 0.60 sec - Loss 0.088738 - ACC 67.71% - ACC Mean 67.71% - AUC 76.54% - AUC Mean 76.54% - Deter 000\n",
      "Ite 00050 - 0.12 sec - Loss 0.083751 - ACC 69.33% - ACC Mean 68.78% - AUC 75.88% - AUC Mean 76.56% - Deter 049\n",
      "Ite 00100 - 0.13 sec - Loss 0.072509 - ACC 71.10% - ACC Mean 68.69% - AUC 78.09% - AUC Mean 76.73% - Deter 007\n",
      "Ite 00150 - 0.11 sec - Loss 0.062583 - ACC 71.27% - ACC Mean 70.64% - AUC 77.55% - AUC Mean 77.64% - Deter 008\n",
      "Ite 00200 - 0.32 sec - Loss 0.060464 - ACC 69.80% - ACC Mean 70.54% - AUC 77.82% - AUC Mean 77.90% - Deter 037\n",
      "Ite 00250 - 0.11 sec - Loss 0.059851 - ACC 69.31% - ACC Mean 70.44% - AUC 75.68% - AUC Mean 77.31% - Deter 087\n",
      "Ite 00300 - 0.10 sec - Loss 0.059411 - ACC 70.40% - ACC Mean 70.62% - AUC 76.08% - AUC Mean 77.00% - Deter 137\n",
      "Ite 00350 - 0.13 sec - Loss 0.058931 - ACC 71.36% - ACC Mean 71.25% - AUC 78.12% - AUC Mean 77.76% - Deter 187\n",
      "Ite 00400 - 0.11 sec - Loss 0.058339 - ACC 71.87% - ACC Mean 71.66% - AUC 78.62% - AUC Mean 78.17% - Deter 237\n",
      "Ite 00450 - 0.11 sec - Loss 0.057614 - ACC 71.87% - ACC Mean 71.72% - AUC 78.78% - AUC Mean 78.34% - Deter 287\n",
      "Ite 00500 - 0.11 sec - Loss 0.056837 - ACC 71.87% - ACC Mean 71.68% - AUC 78.62% - AUC Mean 78.25% - Deter 337\n",
      "Ite 00550 - 0.12 sec - Loss 0.055927 - ACC 71.20% - ACC Mean 71.11% - AUC 77.44% - AUC Mean 77.77% - Deter 387\n",
      "Ite 00563 - 0.11 sec - Loss 0.055662 - ACC 69.82% - ACC Mean 70.99% - AUC 75.69% - AUC Mean 77.59% - Deter 400\n",
      "Early stop ite 563, rollback to correction of ite 163, whith acc of 71.27% and auc of 79.31%\n",
      "OUR METHOD RUN 7/10 - acc: 71.27% +- 0.0% - auc: 79.31% +- 0.0%\n",
      "Ite 00000 - 0.10 sec - Loss 0.089344 - ACC 70.71% - ACC Mean 70.71% - AUC 77.51% - AUC Mean 77.51% - Deter 000\n",
      "Ite 00050 - 0.15 sec - Loss 0.084716 - ACC 72.00% - ACC Mean 71.28% - AUC 77.05% - AUC Mean 77.41% - Deter 020\n",
      "Ite 00100 - 0.11 sec - Loss 0.075708 - ACC 71.57% - ACC Mean 71.68% - AUC 76.32% - AUC Mean 76.84% - Deter 070\n",
      "Ite 00150 - 0.31 sec - Loss 0.064861 - ACC 69.54% - ACC Mean 70.93% - AUC 76.97% - AUC Mean 76.62% - Deter 120\n",
      "Ite 00200 - 0.11 sec - Loss 0.060811 - ACC 70.96% - ACC Mean 70.63% - AUC 76.50% - AUC Mean 76.45% - Deter 170\n",
      "Ite 00250 - 0.51 sec - Loss 0.060107 - ACC 69.70% - ACC Mean 70.70% - AUC 75.55% - AUC Mean 76.89% - Deter 220\n",
      "Ite 00300 - 0.12 sec - Loss 0.059781 - ACC 70.87% - ACC Mean 70.66% - AUC 77.16% - AUC Mean 76.74% - Deter 270\n",
      "Ite 00350 - 0.12 sec - Loss 0.059433 - ACC 70.57% - ACC Mean 70.69% - AUC 77.39% - AUC Mean 76.93% - Deter 320\n",
      "Ite 00400 - 0.11 sec - Loss 0.059050 - ACC 70.61% - ACC Mean 70.73% - AUC 76.88% - AUC Mean 77.22% - Deter 370\n",
      "Ite 00430 - 0.12 sec - Loss 0.058796 - ACC 70.01% - ACC Mean 70.64% - AUC 77.15% - AUC Mean 77.24% - Deter 400\n",
      "Early stop ite 430, rollback to correction of ite 30, whith acc of 71.45% and auc of 78.41%\n",
      "OUR METHOD RUN 8/10 - acc: 71.45% +- 0.0% - auc: 78.41% +- 0.0%\n",
      "Ite 00000 - 0.12 sec - Loss 0.088336 - ACC 71.57% - ACC Mean 71.57% - AUC 79.97% - AUC Mean 79.97% - Deter 000\n",
      "Ite 00050 - 0.12 sec - Loss 0.083673 - ACC 70.71% - ACC Mean 71.32% - AUC 78.87% - AUC Mean 79.49% - Deter 024\n",
      "Ite 00100 - 0.13 sec - Loss 0.072815 - ACC 70.10% - ACC Mean 70.44% - AUC 78.36% - AUC Mean 78.58% - Deter 074\n",
      "Ite 00150 - 0.11 sec - Loss 0.062753 - ACC 70.75% - ACC Mean 70.56% - AUC 76.81% - AUC Mean 77.93% - Deter 124\n",
      "Ite 00200 - 0.10 sec - Loss 0.060515 - ACC 70.19% - ACC Mean 70.57% - AUC 77.00% - AUC Mean 77.21% - Deter 174\n",
      "Ite 00250 - 0.10 sec - Loss 0.059964 - ACC 70.85% - ACC Mean 70.42% - AUC 77.26% - AUC Mean 77.12% - Deter 224\n",
      "Ite 00300 - 0.10 sec - Loss 0.059607 - ACC 70.85% - ACC Mean 70.83% - AUC 77.39% - AUC Mean 77.44% - Deter 274\n",
      "Ite 00350 - 0.11 sec - Loss 0.059234 - ACC 71.62% - ACC Mean 71.00% - AUC 78.05% - AUC Mean 77.67% - Deter 324\n",
      "Ite 00400 - 0.12 sec - Loss 0.058825 - ACC 70.15% - ACC Mean 70.84% - AUC 77.33% - AUC Mean 77.81% - Deter 374\n",
      "Ite 00426 - 0.09 sec - Loss 0.058573 - ACC 69.80% - ACC Mean 70.89% - AUC 77.48% - AUC Mean 77.89% - Deter 400\n",
      "Early stop ite 426, rollback to correction of ite 26, whith acc of 71.83% and auc of 80.43%\n",
      "OUR METHOD RUN 9/10 - acc: 71.83% +- 0.0% - auc: 80.43% +- 0.0%\n",
      "Ite 00000 - 0.10 sec - Loss 0.088682 - ACC 69.94% - ACC Mean 69.94% - AUC 77.28% - AUC Mean 77.28% - Deter 000\n",
      "Ite 00050 - 0.11 sec - Loss 0.084133 - ACC 71.04% - ACC Mean 70.48% - AUC 76.74% - AUC Mean 77.36% - Deter 020\n",
      "Ite 00100 - 0.13 sec - Loss 0.074139 - ACC 70.99% - ACC Mean 70.24% - AUC 77.48% - AUC Mean 76.77% - Deter 070\n",
      "Ite 00150 - 0.11 sec - Loss 0.064423 - ACC 68.17% - ACC Mean 69.44% - AUC 75.58% - AUC Mean 76.14% - Deter 120\n",
      "Ite 00200 - 0.11 sec - Loss 0.061453 - ACC 68.92% - ACC Mean 68.41% - AUC 76.79% - AUC Mean 75.89% - Deter 170\n",
      "Ite 00250 - 0.11 sec - Loss 0.060516 - ACC 69.72% - ACC Mean 68.84% - AUC 75.79% - AUC Mean 76.24% - Deter 220\n",
      "Ite 00300 - 0.13 sec - Loss 0.060051 - ACC 69.81% - ACC Mean 69.63% - AUC 76.46% - AUC Mean 76.72% - Deter 270\n",
      "Ite 00350 - 0.12 sec - Loss 0.059680 - ACC 70.01% - ACC Mean 69.31% - AUC 77.42% - AUC Mean 76.53% - Deter 320\n",
      "Ite 00400 - 0.20 sec - Loss 0.059311 - ACC 71.53% - ACC Mean 70.02% - AUC 76.82% - AUC Mean 76.95% - Deter 370\n",
      "Ite 00430 - 0.56 sec - Loss 0.059082 - ACC 71.74% - ACC Mean 70.39% - AUC 77.39% - AUC Mean 77.10% - Deter 400\n",
      "Early stop ite 430, rollback to correction of ite 30, whith acc of 71.97% and auc of 79.17%\n",
      "OUR METHOD RUN 10/10 - acc: 71.97% +- 0.0% - auc: 79.17% +- 0.0%\n",
      "\n",
      "OUR METHOD GLOBAL - acc: 71.63% +- 0.46% - auc: 79.34% +- 0.54%\n"
     ]
    }
   ],
   "source": [
    "params = {\n",
    "    'nb_batches': 10,\n",
    "    'reg_noise_std': .03,\n",
    "    'net_input': 'data_corrupted',\n",
    "    'net_params': [80, 80],\n",
    "    'adam_lr': .0001,\n",
    "    'adam_weight_decay': 0.,\n",
    "}\n",
    "\n",
    "ours_accs, ours_aucs = [], []\n",
    "for i in range(n_runs):\n",
    "    ours_correction = correction.run(data_missing, 4001, params, y=y, missing_mask=missing_mask, seed=i)\n",
    "    ## Since our method returns 2 imputations select the best one\n",
    "    scores_raw = utils.get_scores(ours_correction['raw_out'], y)\n",
    "    acc = scores_raw['test_balanced_accuracy']\n",
    "    auc = scores_raw['test_roc_auc_ovo']\n",
    "    acc = acc.mean()\n",
    "    acc_std = acc.std()\n",
    "    auc = auc.mean()\n",
    "    auc_std = auc.std()\n",
    "    if 'masked_out' in ours_correction:\n",
    "        scores_masked = utils.get_scores(ours_correction['masked_out'], y)\n",
    "        acc_masked = scores_masked['test_balanced_accuracy']\n",
    "        auc_masked = scores_masked['test_roc_auc_ovo']\n",
    "        if auc_masked.mean() > auc:\n",
    "            acc = acc_masked.mean()\n",
    "            acc_std = acc_masked.std()\n",
    "            auc = auc_masked.mean()\n",
    "            auc_std = auc_masked.std()\n",
    "    print(f'OUR METHOD RUN {i + 1}/{n_runs} - acc: {round(acc.mean() * 100, 2)}% +- {round(acc.std() * 100, 2)}% - ' +\n",
    "          f'auc: {round(auc.mean() * 100, 2)}% +- {round(auc.std() * 100, 2)}%')\n",
    "    ours_accs.append(acc.mean())\n",
    "    ours_aucs.append(auc.mean())\n",
    "print(f'\\nOUR METHOD GLOBAL - acc: {round(np.array(ours_accs).mean() * 100, 2)}% +- {round(np.array(ours_accs).std() * 100, 2)}% - ' +\n",
    "      f'auc: {round(np.array(ours_aucs).mean() * 100, 2)}% +- {round(np.array(ours_aucs).std() * 100, 2)}%')"
   ]
  },
  {
   "cell_type": "markdown",
   "metadata": {},
   "source": [
    "## Run MICE"
   ]
  },
  {
   "cell_type": "code",
   "execution_count": 5,
   "metadata": {
    "ExecuteTime": {
     "end_time": "2022-06-07T08:25:47.812154Z",
     "start_time": "2022-06-07T08:25:41.125881Z"
    },
    "execution": {
     "iopub.execute_input": "2022-06-07T09:18:02.500588Z",
     "iopub.status.busy": "2022-06-07T09:18:02.497789Z",
     "iopub.status.idle": "2022-06-07T09:18:20.764308Z",
     "shell.execute_reply": "2022-06-07T09:18:20.764679Z"
    }
   },
   "outputs": [
    {
     "name": "stdout",
     "output_type": "stream",
     "text": [
      "MICE - acc: 68.05% +- 0.0% - auc: 76.38% +- 0.0%\n"
     ]
    }
   ],
   "source": [
    "data_missing_nans = np.where(missing_mask, data_missing, np.nan)\n",
    "\n",
    "imputer = IterativeImputer()\n",
    "imputed = imputer.fit_transform(data_missing_nans)\n",
    "## All runs would be the same since deterministic method\n",
    "scores = utils.get_scores(imputed, y)\n",
    "acc = [scores['test_balanced_accuracy'].mean()] * n_runs\n",
    "auc = [scores['test_roc_auc_ovo'].mean()] * n_runs\n",
    "print(f'MICE - acc: {round(np.mean(acc) * 100, 2)}% +- {round(np.std(acc) * 100, 2)}% - ' +\n",
    "      f'auc: {round(np.mean(auc) * 100, 2)}% +- {round(np.std(auc) * 100, 2)}%')\n",
    "mice_accs = acc\n",
    "mice_aucs = auc"
   ]
  },
  {
   "cell_type": "markdown",
   "metadata": {},
   "source": [
    "## Run SFIL"
   ]
  },
  {
   "cell_type": "code",
   "execution_count": 6,
   "metadata": {
    "ExecuteTime": {
     "end_time": "2022-06-07T08:25:49.133209Z",
     "start_time": "2022-06-07T08:25:47.813384Z"
    },
    "execution": {
     "iopub.execute_input": "2022-06-07T09:18:20.770630Z",
     "iopub.status.busy": "2022-06-07T09:18:20.769427Z",
     "iopub.status.idle": "2022-06-07T09:18:23.058244Z",
     "shell.execute_reply": "2022-06-07T09:18:23.058757Z"
    }
   },
   "outputs": [
    {
     "name": "stdout",
     "output_type": "stream",
     "text": [
      "SFIL RUN 1/10 - acc: 70.37% +- 3.65% - auc: 72.61% +- 4.73%\n",
      "SFIL RUN 2/10 - acc: 66.98% +- 5.52% - auc: 70.55% +- 3.61%\n",
      "SFIL RUN 3/10 - acc: 65.53% +- 5.3% - auc: 72.11% +- 8.87%\n",
      "SFIL RUN 4/10 - acc: 66.5% +- 5.38% - auc: 75.31% +- 7.21%\n",
      "SFIL RUN 5/10 - acc: 67.66% +- 6.74% - auc: 73.06% +- 3.49%\n",
      "SFIL RUN 6/10 - acc: 67.41% +- 4.13% - auc: 69.66% +- 5.23%\n",
      "SFIL RUN 7/10 - acc: 72.0% +- 3.62% - auc: 75.68% +- 5.27%\n",
      "SFIL RUN 8/10 - acc: 69.59% +- 6.29% - auc: 73.08% +- 6.7%\n",
      "SFIL RUN 9/10 - acc: 68.95% +- 3.28% - auc: 72.95% +- 3.94%\n",
      "SFIL RUN 10/10 - acc: 65.09% +- 8.0% - auc: 71.36% +- 9.88%\n",
      "SFIL GLOBAL - acc: 68.01% +- 2.08% - auc: 72.64% +- 1.79%\n"
     ]
    }
   ],
   "source": [
    "sfil_accs, sfil_aucs = [], []\n",
    "for i in range(n_runs):\n",
    "    acc, auc = filtering(imputed, y, mode='standard', random_state=i)\n",
    "    sfil_accs.append(acc.mean())\n",
    "    sfil_aucs.append(auc.mean())\n",
    "    print(f'SFIL RUN {i + 1}/{n_runs} - acc: {round(np.mean(acc) * 100, 2)}% +- {round(np.std(acc) * 100, 2)}% - ' +\n",
    "          f'auc: {round(np.mean(auc) * 100, 2)}% +- {round(np.std(auc) * 100, 2)}%')\n",
    "print(f'SFIL GLOBAL - acc: {round(np.mean(sfil_accs) * 100, 2)}% +- {round(np.std(sfil_accs) * 100, 2)}% - ' +\n",
    "      f'auc: {round(np.mean(sfil_aucs) * 100, 2)}% +- {round(np.std(sfil_aucs) * 100, 2)}%')"
   ]
  },
  {
   "cell_type": "markdown",
   "metadata": {},
   "source": [
    "## Run PFIL"
   ]
  },
  {
   "cell_type": "code",
   "execution_count": 7,
   "metadata": {
    "ExecuteTime": {
     "end_time": "2022-06-07T08:35:09.194980Z",
     "start_time": "2022-06-07T08:25:49.134766Z"
    },
    "execution": {
     "iopub.execute_input": "2022-06-07T09:18:23.062012Z",
     "iopub.status.busy": "2022-06-07T09:18:23.061539Z",
     "iopub.status.idle": "2022-06-07T09:32:28.070259Z",
     "shell.execute_reply": "2022-06-07T09:32:28.070705Z"
    },
    "scrolled": false
   },
   "outputs": [
    {
     "name": "stdout",
     "output_type": "stream",
     "text": [
      "PFIL RUN 1/10 - acc: 65.88% +- 4.61% - auc: 70.25% +- 4.5%\n",
      "PFIL RUN 2/10 - acc: 65.88% +- 3.91% - auc: 70.02% +- 4.47%\n",
      "PFIL RUN 3/10 - acc: 64.72% +- 3.78% - auc: 74.19% +- 2.92%\n",
      "PFIL RUN 4/10 - acc: 67.26% +- 7.24% - auc: 73.05% +- 6.29%\n",
      "PFIL RUN 5/10 - acc: 71.08% +- 3.05% - auc: 76.37% +- 5.16%\n",
      "PFIL RUN 6/10 - acc: 71.01% +- 4.54% - auc: 74.05% +- 7.06%\n",
      "PFIL RUN 7/10 - acc: 69.88% +- 6.39% - auc: 75.39% +- 7.73%\n",
      "PFIL RUN 8/10 - acc: 70.06% +- 5.42% - auc: 76.56% +- 7.58%\n",
      "PFIL RUN 9/10 - acc: 71.53% +- 6.7% - auc: 77.18% +- 4.4%\n",
      "PFIL RUN 10/10 - acc: 69.74% +- 5.73% - auc: 74.64% +- 6.81%\n",
      "PFIL GLOBAL - acc: 68.7% +- 2.39% - auc: 74.17% +- 2.35%\n"
     ]
    }
   ],
   "source": [
    "pfil_accs, pfil_aucs = [], []\n",
    "for i in range(n_runs):\n",
    "    acc, auc = filtering(imputed, y, mode='panda', random_state=i)\n",
    "    pfil_accs.append(acc.mean())\n",
    "    pfil_aucs.append(auc.mean())\n",
    "    print(f'PFIL RUN {i + 1}/{n_runs} - acc: {round(np.mean(acc) * 100, 2)}% +- {round(np.std(acc) * 100, 2)}% - ' +\n",
    "          f'auc: {round(np.mean(auc) * 100, 2)}% +- {round(np.std(auc) * 100, 2)}%')\n",
    "print(f'PFIL GLOBAL - acc: {round(np.mean(pfil_accs) * 100, 2)}% +- {round(np.std(pfil_accs) * 100, 2)}% - ' +\n",
    "      f'auc: {round(np.mean(pfil_aucs) * 100, 2)}% +- {round(np.std(pfil_aucs) * 100, 2)}%')"
   ]
  },
  {
   "cell_type": "markdown",
   "metadata": {},
   "source": [
    "## Run SPOL"
   ]
  },
  {
   "cell_type": "code",
   "execution_count": 8,
   "metadata": {
    "ExecuteTime": {
     "end_time": "2022-06-07T08:50:33.353751Z",
     "start_time": "2022-06-07T08:49:36.684786Z"
    },
    "execution": {
     "iopub.execute_input": "2022-06-07T09:32:28.078525Z",
     "iopub.status.busy": "2022-06-07T09:32:28.078034Z",
     "iopub.status.idle": "2022-06-07T09:33:08.861421Z",
     "shell.execute_reply": "2022-06-07T09:33:08.860971Z"
    }
   },
   "outputs": [
    {
     "name": "stdout",
     "output_type": "stream",
     "text": [
      "SPOL RUN 1/10 - acc: 65.23% +- 5.88% - auc: 72.03% +- 7.28%\n",
      "SPOL RUN 2/10 - acc: 64.31% +- 2.94% - auc: 69.29% +- 4.71%\n",
      "SPOL RUN 3/10 - acc: 67.2% +- 4.85% - auc: 72.63% +- 3.99%\n",
      "SPOL RUN 4/10 - acc: 69.65% +- 5.52% - auc: 72.48% +- 6.78%\n",
      "SPOL RUN 5/10 - acc: 69.41% +- 8.05% - auc: 72.37% +- 8.32%\n",
      "SPOL RUN 6/10 - acc: 68.46% +- 4.96% - auc: 73.91% +- 6.31%\n",
      "SPOL RUN 7/10 - acc: 63.85% +- 10.68% - auc: 70.44% +- 8.54%\n",
      "SPOL RUN 8/10 - acc: 72.71% +- 5.0% - auc: 76.4% +- 5.94%\n",
      "SPOL RUN 9/10 - acc: 64.91% +- 5.07% - auc: 71.55% +- 4.62%\n",
      "SPOL RUN 10/10 - acc: 64.23% +- 4.86% - auc: 69.81% +- 7.3%\n",
      "SPOL GLOBAL - acc: 67.0% +- 2.83% - auc: 72.09% +- 1.96%\n"
     ]
    }
   ],
   "source": [
    "spol_accs, spol_aucs = [], []\n",
    "for i in range(n_runs):\n",
    "    acc, auc = polishing(imputed, y, mode='standard', random_state=i)\n",
    "    spol_accs.append(acc.mean())\n",
    "    spol_aucs.append(auc.mean())\n",
    "    print(f'SPOL RUN {i + 1}/{n_runs} - acc: {round(np.mean(acc) * 100, 2)}% +- {round(np.std(acc) * 100, 2)}% - ' +\n",
    "          f'auc: {round(np.mean(auc) * 100, 2)}% +- {round(np.std(auc) * 100, 2)}%')\n",
    "print(f'SPOL GLOBAL - acc: {round(np.mean(spol_accs) * 100, 2)}% +- {round(np.std(spol_accs) * 100, 2)}% - ' +\n",
    "      f'auc: {round(np.mean(spol_aucs) * 100, 2)}% +- {round(np.std(spol_aucs) * 100, 2)}%')"
   ]
  },
  {
   "cell_type": "markdown",
   "metadata": {},
   "source": [
    "## Run PPOL"
   ]
  },
  {
   "cell_type": "code",
   "execution_count": 9,
   "metadata": {
    "ExecuteTime": {
     "end_time": "2022-06-07T08:54:57.736311Z",
     "start_time": "2022-06-07T08:54:53.057083Z"
    },
    "execution": {
     "iopub.execute_input": "2022-06-07T09:33:08.869676Z",
     "iopub.status.busy": "2022-06-07T09:33:08.868939Z",
     "iopub.status.idle": "2022-06-07T09:52:03.665474Z",
     "shell.execute_reply": "2022-06-07T09:52:03.666507Z"
    }
   },
   "outputs": [
    {
     "name": "stdout",
     "output_type": "stream",
     "text": [
      "PPOL RUN 1/10 - acc: 70.99% +- 3.71% - auc: 76.57% +- 5.63%\n",
      "PPOL RUN 2/10 - acc: 68.8% +- 3.82% - auc: 75.09% +- 3.48%\n",
      "PPOL RUN 3/10 - acc: 70.52% +- 5.4% - auc: 76.66% +- 5.3%\n",
      "PPOL RUN 4/10 - acc: 69.91% +- 4.96% - auc: 76.21% +- 5.06%\n",
      "PPOL RUN 5/10 - acc: 67.78% +- 3.46% - auc: 75.62% +- 3.09%\n",
      "PPOL RUN 6/10 - acc: 68.4% +- 3.27% - auc: 74.09% +- 3.98%\n",
      "PPOL RUN 7/10 - acc: 67.98% +- 9.11% - auc: 72.15% +- 7.97%\n",
      "PPOL RUN 8/10 - acc: 71.2% +- 4.42% - auc: 76.75% +- 6.98%\n",
      "PPOL RUN 9/10 - acc: 68.74% +- 5.75% - auc: 74.99% +- 6.18%\n",
      "PPOL RUN 10/10 - acc: 70.4% +- 4.69% - auc: 77.49% +- 1.77%\n",
      "PPOL GLOBAL - acc: 69.47% +- 1.21% - auc: 75.56% +- 1.49%\n"
     ]
    }
   ],
   "source": [
    "ppol_accs, ppol_aucs = [], []\n",
    "for i in range(n_runs):\n",
    "    acc, auc = polishing(imputed, y, mode='panda', random_state=i)\n",
    "    ppol_accs.append(acc.mean())\n",
    "    ppol_aucs.append(auc.mean())\n",
    "    print(f'PPOL RUN {i + 1}/{n_runs} - acc: {round(np.mean(acc) * 100, 2)}% +- {round(np.std(acc) * 100, 2)}% - ' +\n",
    "          f'auc: {round(np.mean(auc) * 100, 2)}% +- {round(np.std(auc) * 100, 2)}%')\n",
    "print(f'PPOL GLOBAL - acc: {round(np.mean(ppol_accs) * 100, 2)}% +- {round(np.std(ppol_accs) * 100, 2)}% - ' +\n",
    "      f'auc: {round(np.mean(ppol_aucs) * 100, 2)}% +- {round(np.std(ppol_aucs) * 100, 2)}%')"
   ]
  },
  {
   "cell_type": "markdown",
   "metadata": {},
   "source": [
    "## Run T-tests"
   ]
  },
  {
   "cell_type": "code",
   "execution_count": 10,
   "metadata": {
    "ExecuteTime": {
     "end_time": "2022-06-07T08:52:25.983958Z",
     "start_time": "2022-06-07T08:52:25.963898Z"
    },
    "execution": {
     "iopub.execute_input": "2022-06-07T09:52:03.674649Z",
     "iopub.status.busy": "2022-06-07T09:52:03.673875Z",
     "iopub.status.idle": "2022-06-07T09:52:03.680554Z",
     "shell.execute_reply": "2022-06-07T09:52:03.681311Z"
    },
    "scrolled": false
   },
   "outputs": [
    {
     "name": "stdout",
     "output_type": "stream",
     "text": [
      "Metric ACC - OUR METHOD is significantly better than MICE\n",
      "Metric AUC - OUR METHOD is significantly better than MICE\n",
      "Metric ACC - OUR METHOD is significantly better than SFIL\n",
      "Metric AUC - OUR METHOD is significantly better than SFIL\n",
      "Metric ACC - OUR METHOD is significantly better than PFIL\n",
      "Metric AUC - OUR METHOD is significantly better than PFIL\n",
      "Metric ACC - OUR METHOD is significantly better than SPOL\n",
      "Metric AUC - OUR METHOD is significantly better than SPOL\n",
      "Metric ACC - OUR METHOD is significantly better than PPOL\n",
      "Metric AUC - OUR METHOD is significantly better than PPOL\n"
     ]
    }
   ],
   "source": [
    "for model, metrics in {\n",
    "        'MICE': {'ACC': mice_accs, 'AUC': mice_aucs},\n",
    "        'SFIL': {'ACC': sfil_accs, 'AUC': sfil_aucs},\n",
    "        'PFIL': {'ACC': pfil_accs, 'AUC': pfil_aucs},\n",
    "        'SPOL': {'ACC': spol_accs, 'AUC': spol_aucs},\n",
    "        'PPOL': {'ACC': ppol_accs, 'AUC': ppol_aucs}}.items():\n",
    "    for metric_name, metric in metrics.items():\n",
    "        ours_metric = ours_accs if metric_name == 'ACC' else ours_aucs\n",
    "        t, p = scipy.stats.ttest_ind(np.array(ours_metric), np.array(metric))\n",
    "        if p <= .05:\n",
    "            if t > 0:\n",
    "                ## Our method is better\n",
    "                print(f'Metric {metric_name} - OUR METHOD is significantly better than {model}')\n",
    "            else:\n",
    "                ## Theirs is better\n",
    "                print(f'Metric {metric_name} - OUR METHOD is significantly worse than {model}')\n",
    "        else:\n",
    "            ## Else we are even\n",
    "            print(f'Metric {metric_name} - OUR METHOD is even with {model}')"
   ]
  }
 ],
 "metadata": {
  "kernelspec": {
   "display_name": "Python 3 (ipykernel)",
   "language": "python",
   "name": "python3"
  },
  "language_info": {
   "codemirror_mode": {
    "name": "ipython",
    "version": 3
   },
   "file_extension": ".py",
   "mimetype": "text/x-python",
   "name": "python",
   "nbconvert_exporter": "python",
   "pygments_lexer": "ipython3",
   "version": "3.9.7"
  },
  "latex_envs": {
   "LaTeX_envs_menu_present": true,
   "autoclose": false,
   "autocomplete": true,
   "bibliofile": "biblio.bib",
   "cite_by": "apalike",
   "current_citInitial": 1,
   "eqLabelWithNumbers": true,
   "eqNumInitial": 1,
   "hotkeys": {
    "equation": "Ctrl-E",
    "itemize": "Ctrl-I"
   },
   "labels_anchors": false,
   "latex_user_defs": false,
   "report_style_numbering": false,
   "user_envs_cfg": false
  }
 },
 "nbformat": 4,
 "nbformat_minor": 2
}
