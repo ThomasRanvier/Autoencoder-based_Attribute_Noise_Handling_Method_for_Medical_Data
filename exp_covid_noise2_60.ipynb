{
 "cells": [
  {
   "cell_type": "code",
   "execution_count": 1,
   "metadata": {
    "ExecuteTime": {
     "end_time": "2022-06-07T08:11:39.412870Z",
     "start_time": "2022-06-07T08:11:35.692131Z"
    },
    "execution": {
     "iopub.execute_input": "2022-06-07T09:01:46.639059Z",
     "iopub.status.busy": "2022-06-07T09:01:46.633702Z",
     "iopub.status.idle": "2022-06-07T09:01:52.098444Z",
     "shell.execute_reply": "2022-06-07T09:01:52.097689Z"
    }
   },
   "outputs": [],
   "source": [
    "from __future__ import print_function\n",
    "import warnings\n",
    "warnings.filterwarnings('ignore')\n",
    "## Disable tf future deprecated messages\n",
    "import logging\n",
    "logging.getLogger('tensorflow').disabled = True\n",
    "## Disable tf CUDA messages\n",
    "import os\n",
    "os.environ['TF_CPP_MIN_LOG_LEVEL'] = '3'\n",
    "\n",
    "%matplotlib inline\n",
    "\n",
    "import sys\n",
    "import random\n",
    "import numpy as np\n",
    "import pandas as pd\n",
    "\n",
    "import utils\n",
    "import correction\n",
    "from models.dense import *\n",
    "from models.gain import gain\n",
    "from models.soft_impute import SoftImpute\n",
    "from models.sinkhorn import OTimputer\n",
    "from models.mida import mida\n",
    "from models.polishing import polishing\n",
    "from models.filtering import filtering\n",
    "\n",
    "import scipy.stats\n",
    "\n",
    "from sklearn.experimental import enable_iterative_imputer\n",
    "from sklearn.impute import IterativeImputer\n",
    "from sklearn.impute import KNNImputer, SimpleImputer\n",
    "\n",
    "import sklearn.neighbors._base\n",
    "sys.modules['sklearn.neighbors.base'] = sklearn.neighbors._base\n",
    "from missingpy import MissForest\n",
    "\n",
    "torch.backends.cudnn.enabled = True\n",
    "torch.backends.cudnn.benchmark = True\n",
    "dtype = torch.cuda.FloatTensor"
   ]
  },
  {
   "cell_type": "markdown",
   "metadata": {},
   "source": [
    "## Repeat all experiments for 10 runs"
   ]
  },
  {
   "cell_type": "code",
   "execution_count": 2,
   "metadata": {
    "ExecuteTime": {
     "end_time": "2022-06-07T08:11:39.417491Z",
     "start_time": "2022-06-07T08:11:39.415081Z"
    },
    "execution": {
     "iopub.execute_input": "2022-06-07T09:01:52.102779Z",
     "iopub.status.busy": "2022-06-07T09:01:52.102266Z",
     "iopub.status.idle": "2022-06-07T09:01:52.104781Z",
     "shell.execute_reply": "2022-06-07T09:01:52.104344Z"
    }
   },
   "outputs": [],
   "source": [
    "n_runs = 10"
   ]
  },
  {
   "cell_type": "markdown",
   "metadata": {},
   "source": [
    "## Load data"
   ]
  },
  {
   "cell_type": "code",
   "execution_count": 3,
   "metadata": {
    "ExecuteTime": {
     "end_time": "2022-06-07T08:11:41.218694Z",
     "start_time": "2022-06-07T08:11:39.419632Z"
    },
    "execution": {
     "iopub.execute_input": "2022-06-07T09:01:52.108523Z",
     "iopub.status.busy": "2022-06-07T09:01:52.108066Z",
     "iopub.status.idle": "2022-06-07T09:01:55.661228Z",
     "shell.execute_reply": "2022-06-07T09:01:55.660007Z"
    }
   },
   "outputs": [
    {
     "name": "stdout",
     "output_type": "stream",
     "text": [
      "Dataset shape: (361, 80)\n",
      "19.75% missing data\n",
      "Class distribution: (array([0, 1]), array([195, 166]))\n"
     ]
    }
   ],
   "source": [
    "data_missing, missing_mask, y = utils.load_covid()\n",
    "## Inject noise\n",
    "data_missing = utils.inject_noise(data_missing.copy(), noise_rate=.6)\n",
    "## Replace missing values locations by 0\n",
    "data_missing = data_missing * missing_mask"
   ]
  },
  {
   "cell_type": "markdown",
   "metadata": {},
   "source": [
    "## Run OUR METHOD"
   ]
  },
  {
   "cell_type": "code",
   "execution_count": 4,
   "metadata": {
    "ExecuteTime": {
     "end_time": "2022-06-07T08:25:41.124140Z",
     "start_time": "2022-06-07T08:11:41.222736Z"
    },
    "execution": {
     "iopub.execute_input": "2022-06-07T09:01:55.673328Z",
     "iopub.status.busy": "2022-06-07T09:01:55.672301Z",
     "iopub.status.idle": "2022-06-07T09:28:01.176230Z",
     "shell.execute_reply": "2022-06-07T09:28:01.174182Z"
    },
    "scrolled": false
   },
   "outputs": [
    {
     "name": "stdout",
     "output_type": "stream",
     "text": [
      "Ite 00000 - 0.68 sec - Loss 0.082385 - ACC 70.08% - ACC Mean 70.08% - AUC 73.56% - AUC Mean 73.56% - Deter 000\n",
      "Ite 00050 - 0.12 sec - Loss 0.079130 - ACC 67.28% - ACC Mean 70.07% - AUC 71.65% - AUC Mean 74.10% - Deter 028\n",
      "Ite 00100 - 0.43 sec - Loss 0.072999 - ACC 69.38% - ACC Mean 68.83% - AUC 73.61% - AUC Mean 73.30% - Deter 078\n",
      "Ite 00150 - 0.11 sec - Loss 0.068739 - ACC 70.65% - ACC Mean 69.61% - AUC 74.37% - AUC Mean 74.59% - Deter 128\n",
      "Ite 00200 - 0.42 sec - Loss 0.067652 - ACC 68.65% - ACC Mean 69.47% - AUC 72.67% - AUC Mean 74.27% - Deter 178\n",
      "Ite 00250 - 0.13 sec - Loss 0.067117 - ACC 69.81% - ACC Mean 68.53% - AUC 72.41% - AUC Mean 73.57% - Deter 228\n",
      "Ite 00300 - 0.12 sec - Loss 0.066545 - ACC 69.04% - ACC Mean 68.93% - AUC 75.17% - AUC Mean 73.86% - Deter 278\n",
      "Ite 00350 - 0.50 sec - Loss 0.065885 - ACC 68.31% - ACC Mean 68.96% - AUC 74.58% - AUC Mean 74.00% - Deter 328\n",
      "Ite 00400 - 0.13 sec - Loss 0.065170 - ACC 67.98% - ACC Mean 68.53% - AUC 73.99% - AUC Mean 73.66% - Deter 378\n",
      "Ite 00422 - 0.11 sec - Loss 0.064767 - ACC 69.31% - ACC Mean 68.56% - AUC 74.50% - AUC Mean 73.88% - Deter 400\n",
      "Early stop ite 422, rollback to correction of ite 22, whith acc of 74.09% and auc of 77.89%\n",
      "OUR METHOD RUN 1/10 - acc: 74.09% +- 0.0% - auc: 77.89% +- 0.0%\n",
      "Ite 00000 - 0.12 sec - Loss 0.082017 - ACC 68.15% - ACC Mean 68.15% - AUC 71.74% - AUC Mean 71.74% - Deter 000\n",
      "Ite 00050 - 0.11 sec - Loss 0.078842 - ACC 67.18% - ACC Mean 69.20% - AUC 72.08% - AUC Mean 72.73% - Deter 026\n",
      "Ite 00100 - 0.12 sec - Loss 0.072992 - ACC 68.62% - ACC Mean 68.81% - AUC 74.30% - AUC Mean 74.49% - Deter 020\n",
      "Ite 00150 - 0.13 sec - Loss 0.068798 - ACC 67.19% - ACC Mean 67.80% - AUC 72.76% - AUC Mean 73.61% - Deter 070\n",
      "Ite 00200 - 0.11 sec - Loss 0.067663 - ACC 68.03% - ACC Mean 68.79% - AUC 72.59% - AUC Mean 74.19% - Deter 038\n",
      "Ite 00250 - 0.51 sec - Loss 0.067066 - ACC 69.62% - ACC Mean 69.17% - AUC 74.33% - AUC Mean 74.25% - Deter 088\n",
      "Ite 00300 - 0.12 sec - Loss 0.066432 - ACC 69.76% - ACC Mean 69.16% - AUC 74.18% - AUC Mean 74.02% - Deter 032\n",
      "Ite 00350 - 0.11 sec - Loss 0.065697 - ACC 70.01% - ACC Mean 69.43% - AUC 73.55% - AUC Mean 73.80% - Deter 082\n",
      "Ite 00400 - 0.13 sec - Loss 0.064854 - ACC 68.59% - ACC Mean 69.47% - AUC 72.07% - AUC Mean 73.61% - Deter 132\n",
      "Ite 00450 - 0.11 sec - Loss 0.063794 - ACC 67.17% - ACC Mean 69.14% - AUC 72.21% - AUC Mean 72.95% - Deter 182\n",
      "Ite 00500 - 0.11 sec - Loss 0.062551 - ACC 69.21% - ACC Mean 69.30% - AUC 73.23% - AUC Mean 73.26% - Deter 232\n",
      "Ite 00550 - 0.12 sec - Loss 0.061171 - ACC 70.84% - ACC Mean 69.08% - AUC 76.13% - AUC Mean 73.32% - Deter 282\n",
      "Ite 00600 - 0.17 sec - Loss 0.059468 - ACC 70.21% - ACC Mean 69.21% - AUC 73.79% - AUC Mean 73.27% - Deter 332\n",
      "Ite 00650 - 0.50 sec - Loss 0.057617 - ACC 65.97% - ACC Mean 68.03% - AUC 71.36% - AUC Mean 72.34% - Deter 382\n",
      "Ite 00668 - 0.43 sec - Loss 0.056894 - ACC 65.77% - ACC Mean 67.66% - AUC 71.19% - AUC Mean 72.07% - Deter 400\n",
      "Early stop ite 668, rollback to correction of ite 268, whith acc of 70.9% and auc of 76.88%\n",
      "OUR METHOD RUN 2/10 - acc: 70.9% +- 0.0% - auc: 76.88% +- 0.0%\n",
      "Ite 00000 - 0.51 sec - Loss 0.081961 - ACC 66.70% - ACC Mean 66.70% - AUC 72.01% - AUC Mean 72.01% - Deter 000\n",
      "Ite 00050 - 0.11 sec - Loss 0.079255 - ACC 67.08% - ACC Mean 67.98% - AUC 70.88% - AUC Mean 72.92% - Deter 029\n",
      "Ite 00100 - 0.12 sec - Loss 0.074129 - ACC 68.96% - ACC Mean 68.49% - AUC 73.82% - AUC Mean 73.82% - Deter 007\n",
      "Ite 00150 - 0.59 sec - Loss 0.069440 - ACC 70.91% - ACC Mean 68.81% - AUC 75.55% - AUC Mean 74.14% - Deter 022\n",
      "Ite 00200 - 0.12 sec - Loss 0.067761 - ACC 68.67% - ACC Mean 69.27% - AUC 73.84% - AUC Mean 74.68% - Deter 008\n",
      "Ite 00250 - 0.13 sec - Loss 0.066927 - ACC 70.00% - ACC Mean 69.91% - AUC 76.14% - AUC Mean 75.58% - Deter 016\n",
      "Ite 00300 - 0.17 sec - Loss 0.066199 - ACC 70.65% - ACC Mean 69.97% - AUC 76.37% - AUC Mean 75.76% - Deter 021\n",
      "Ite 00350 - 0.11 sec - Loss 0.065301 - ACC 69.91% - ACC Mean 70.09% - AUC 75.89% - AUC Mean 75.82% - Deter 071\n",
      "Ite 00400 - 0.49 sec - Loss 0.064278 - ACC 70.54% - ACC Mean 70.11% - AUC 74.66% - AUC Mean 75.82% - Deter 121\n",
      "Ite 00450 - 0.50 sec - Loss 0.062993 - ACC 69.01% - ACC Mean 70.09% - AUC 75.67% - AUC Mean 75.70% - Deter 171\n",
      "Ite 00500 - 0.47 sec - Loss 0.061462 - ACC 68.74% - ACC Mean 69.33% - AUC 72.15% - AUC Mean 74.30% - Deter 221\n",
      "Ite 00550 - 0.56 sec - Loss 0.059777 - ACC 67.66% - ACC Mean 69.12% - AUC 71.41% - AUC Mean 73.24% - Deter 271\n",
      "Ite 00600 - 0.12 sec - Loss 0.057943 - ACC 68.81% - ACC Mean 68.27% - AUC 71.60% - AUC Mean 72.49% - Deter 321\n",
      "Ite 00650 - 0.52 sec - Loss 0.056037 - ACC 69.21% - ACC Mean 68.21% - AUC 73.96% - AUC Mean 72.74% - Deter 371\n",
      "Ite 00679 - 0.48 sec - Loss 0.054884 - ACC 68.23% - ACC Mean 68.15% - AUC 73.22% - AUC Mean 73.01% - Deter 400\n",
      "Early stop ite 679, rollback to correction of ite 279, whith acc of 70.96% and auc of 77.64%\n",
      "OUR METHOD RUN 3/10 - acc: 70.96% +- 0.0% - auc: 77.64% +- 0.0%\n",
      "Ite 00000 - 0.11 sec - Loss 0.082089 - ACC 69.66% - ACC Mean 69.66% - AUC 74.97% - AUC Mean 74.97% - Deter 000\n",
      "Ite 00050 - 0.11 sec - Loss 0.078464 - ACC 70.27% - ACC Mean 69.16% - AUC 74.30% - AUC Mean 73.98% - Deter 006\n",
      "Ite 00100 - 0.13 sec - Loss 0.072288 - ACC 69.23% - ACC Mean 68.99% - AUC 73.54% - AUC Mean 73.28% - Deter 056\n",
      "Ite 00150 - 0.49 sec - Loss 0.068604 - ACC 68.63% - ACC Mean 68.43% - AUC 72.89% - AUC Mean 73.12% - Deter 106\n",
      "Ite 00200 - 0.55 sec - Loss 0.067540 - ACC 69.45% - ACC Mean 68.26% - AUC 73.11% - AUC Mean 72.66% - Deter 156\n",
      "Ite 00250 - 0.12 sec - Loss 0.066971 - ACC 68.40% - ACC Mean 68.27% - AUC 72.89% - AUC Mean 72.62% - Deter 206\n",
      "Ite 00300 - 0.14 sec - Loss 0.066365 - ACC 70.17% - ACC Mean 68.42% - AUC 72.90% - AUC Mean 72.94% - Deter 256\n",
      "Ite 00350 - 0.12 sec - Loss 0.065608 - ACC 69.21% - ACC Mean 68.79% - AUC 73.70% - AUC Mean 73.56% - Deter 306\n",
      "Ite 00400 - 0.17 sec - Loss 0.064780 - ACC 70.98% - ACC Mean 68.87% - AUC 74.30% - AUC Mean 73.72% - Deter 356\n",
      "Ite 00444 - 0.12 sec - Loss 0.063899 - ACC 70.21% - ACC Mean 69.19% - AUC 75.03% - AUC Mean 74.14% - Deter 400\n",
      "Early stop ite 444, rollback to correction of ite 44, whith acc of 71.46% and auc of 75.69%\n",
      "OUR METHOD RUN 4/10 - acc: 71.46% +- 0.0% - auc: 75.69% +- 0.0%\n",
      "Ite 00000 - 0.44 sec - Loss 0.082488 - ACC 70.51% - ACC Mean 70.51% - AUC 73.82% - AUC Mean 73.82% - Deter 000\n",
      "Ite 00050 - 0.12 sec - Loss 0.079114 - ACC 69.46% - ACC Mean 69.92% - AUC 71.99% - AUC Mean 74.00% - Deter 018\n",
      "Ite 00100 - 0.53 sec - Loss 0.072663 - ACC 67.61% - ACC Mean 68.75% - AUC 73.38% - AUC Mean 72.70% - Deter 068\n",
      "Ite 00150 - 0.38 sec - Loss 0.068352 - ACC 69.99% - ACC Mean 68.86% - AUC 74.63% - AUC Mean 73.93% - Deter 021\n",
      "Ite 00200 - 0.12 sec - Loss 0.067402 - ACC 68.31% - ACC Mean 69.41% - AUC 73.10% - AUC Mean 73.59% - Deter 071\n",
      "Ite 00250 - 0.11 sec - Loss 0.066784 - ACC 70.76% - ACC Mean 69.86% - AUC 74.47% - AUC Mean 73.72% - Deter 004\n",
      "Ite 00300 - 0.12 sec - Loss 0.066041 - ACC 69.92% - ACC Mean 70.20% - AUC 72.70% - AUC Mean 73.46% - Deter 054\n",
      "Ite 00350 - 0.37 sec - Loss 0.065097 - ACC 70.55% - ACC Mean 69.94% - AUC 74.71% - AUC Mean 73.65% - Deter 104\n",
      "Ite 00400 - 0.38 sec - Loss 0.063974 - ACC 68.89% - ACC Mean 69.90% - AUC 72.48% - AUC Mean 73.70% - Deter 154\n",
      "Ite 00450 - 0.14 sec - Loss 0.062631 - ACC 67.89% - ACC Mean 69.80% - AUC 73.09% - AUC Mean 73.63% - Deter 204\n",
      "Ite 00500 - 0.13 sec - Loss 0.061135 - ACC 67.73% - ACC Mean 69.12% - AUC 72.96% - AUC Mean 73.79% - Deter 254\n",
      "Ite 00550 - 0.12 sec - Loss 0.059523 - ACC 67.40% - ACC Mean 68.69% - AUC 72.58% - AUC Mean 73.82% - Deter 304\n",
      "Ite 00600 - 0.47 sec - Loss 0.057668 - ACC 69.57% - ACC Mean 69.17% - AUC 75.10% - AUC Mean 74.33% - Deter 008\n",
      "Ite 00650 - 0.11 sec - Loss 0.055481 - ACC 68.30% - ACC Mean 69.09% - AUC 73.53% - AUC Mean 73.87% - Deter 058\n",
      "Ite 00700 - 0.12 sec - Loss 0.053375 - ACC 70.82% - ACC Mean 68.81% - AUC 74.59% - AUC Mean 73.45% - Deter 108\n",
      "Ite 00750 - 0.15 sec - Loss 0.051182 - ACC 69.86% - ACC Mean 69.30% - AUC 74.01% - AUC Mean 74.00% - Deter 158\n",
      "Ite 00800 - 0.10 sec - Loss 0.048948 - ACC 69.30% - ACC Mean 68.16% - AUC 73.63% - AUC Mean 73.71% - Deter 208\n",
      "Ite 00850 - 0.11 sec - Loss 0.046783 - ACC 70.68% - ACC Mean 68.68% - AUC 74.07% - AUC Mean 73.50% - Deter 258\n",
      "Ite 00900 - 0.52 sec - Loss 0.044682 - ACC 69.80% - ACC Mean 69.15% - AUC 74.70% - AUC Mean 73.92% - Deter 308\n",
      "Ite 00950 - 0.11 sec - Loss 0.042542 - ACC 67.64% - ACC Mean 69.28% - AUC 72.41% - AUC Mean 73.87% - Deter 358\n",
      "Ite 01000 - 0.12 sec - Loss 0.040360 - ACC 67.50% - ACC Mean 68.85% - AUC 72.61% - AUC Mean 73.16% - Deter 043\n",
      "Ite 01050 - 0.55 sec - Loss 0.038314 - ACC 67.37% - ACC Mean 67.87% - AUC 71.17% - AUC Mean 72.38% - Deter 093\n",
      "Ite 01100 - 0.13 sec - Loss 0.036348 - ACC 67.63% - ACC Mean 67.61% - AUC 72.56% - AUC Mean 71.94% - Deter 143\n",
      "Ite 01150 - 0.11 sec - Loss 0.034558 - ACC 66.98% - ACC Mean 67.38% - AUC 72.38% - AUC Mean 71.82% - Deter 193\n",
      "Ite 01200 - 0.12 sec - Loss 0.032908 - ACC 66.81% - ACC Mean 66.54% - AUC 70.52% - AUC Mean 71.38% - Deter 243\n",
      "Ite 01250 - 0.11 sec - Loss 0.031347 - ACC 67.88% - ACC Mean 66.54% - AUC 71.95% - AUC Mean 71.60% - Deter 293\n",
      "Ite 01300 - 0.13 sec - Loss 0.029872 - ACC 68.23% - ACC Mean 66.90% - AUC 72.89% - AUC Mean 73.01% - Deter 013\n",
      "Ite 01350 - 0.15 sec - Loss 0.028493 - ACC 68.89% - ACC Mean 66.84% - AUC 74.08% - AUC Mean 73.59% - Deter 063\n",
      "Ite 01400 - 0.12 sec - Loss 0.027175 - ACC 65.52% - ACC Mean 67.35% - AUC 72.18% - AUC Mean 74.12% - Deter 024\n",
      "Ite 01450 - 0.12 sec - Loss 0.025905 - ACC 70.79% - ACC Mean 67.67% - AUC 77.25% - AUC Mean 74.00% - Deter 074\n",
      "Ite 01500 - 0.12 sec - Loss 0.024740 - ACC 69.39% - ACC Mean 68.04% - AUC 77.50% - AUC Mean 74.60% - Deter 048\n",
      "Ite 01550 - 0.12 sec - Loss 0.023673 - ACC 72.53% - ACC Mean 68.84% - AUC 79.21% - AUC Mean 75.40% - Deter 098\n",
      "Ite 01600 - 0.12 sec - Loss 0.022602 - ACC 68.96% - ACC Mean 69.46% - AUC 76.13% - AUC Mean 75.79% - Deter 148\n",
      "Ite 01650 - 0.13 sec - Loss 0.021633 - ACC 71.26% - ACC Mean 69.88% - AUC 76.43% - AUC Mean 75.85% - Deter 198\n",
      "Ite 01700 - 0.11 sec - Loss 0.020673 - ACC 70.82% - ACC Mean 69.01% - AUC 76.34% - AUC Mean 74.89% - Deter 248\n",
      "Ite 01750 - 0.13 sec - Loss 0.019823 - ACC 70.77% - ACC Mean 69.07% - AUC 76.67% - AUC Mean 74.84% - Deter 298\n",
      "Ite 01800 - 0.12 sec - Loss 0.018974 - ACC 68.19% - ACC Mean 68.33% - AUC 72.34% - AUC Mean 74.14% - Deter 348\n",
      "Ite 01850 - 0.11 sec - Loss 0.018192 - ACC 69.52% - ACC Mean 67.78% - AUC 74.40% - AUC Mean 72.94% - Deter 398\n",
      "Ite 01852 - 0.11 sec - Loss 0.018169 - ACC 69.21% - ACC Mean 67.82% - AUC 73.69% - AUC Mean 72.92% - Deter 400\n",
      "Early stop ite 1852, rollback to correction of ite 1452, whith acc of 72.86% and auc of 80.88%\n",
      "OUR METHOD RUN 5/10 - acc: 72.86% +- 0.0% - auc: 80.88% +- 0.0%\n",
      "Ite 00000 - 0.11 sec - Loss 0.081642 - ACC 67.09% - ACC Mean 67.09% - AUC 72.04% - AUC Mean 72.04% - Deter 000\n",
      "Ite 00050 - 0.12 sec - Loss 0.078674 - ACC 69.38% - ACC Mean 66.91% - AUC 73.11% - AUC Mean 72.12% - Deter 003\n",
      "Ite 00100 - 0.12 sec - Loss 0.073301 - ACC 69.13% - ACC Mean 68.10% - AUC 73.43% - AUC Mean 73.49% - Deter 031\n",
      "Ite 00150 - 0.12 sec - Loss 0.068986 - ACC 68.61% - ACC Mean 68.72% - AUC 72.56% - AUC Mean 73.41% - Deter 081\n",
      "Ite 00200 - 0.11 sec - Loss 0.067706 - ACC 69.38% - ACC Mean 68.45% - AUC 75.04% - AUC Mean 73.68% - Deter 019\n",
      "Ite 00250 - 0.11 sec - Loss 0.067118 - ACC 69.57% - ACC Mean 69.14% - AUC 74.91% - AUC Mean 74.53% - Deter 012\n",
      "Ite 00300 - 0.19 sec - Loss 0.066530 - ACC 69.45% - ACC Mean 69.31% - AUC 74.83% - AUC Mean 74.90% - Deter 062\n",
      "Ite 00350 - 0.11 sec - Loss 0.065818 - ACC 69.91% - ACC Mean 69.20% - AUC 75.50% - AUC Mean 74.87% - Deter 005\n",
      "Ite 00400 - 0.24 sec - Loss 0.065024 - ACC 70.35% - ACC Mean 69.41% - AUC 75.92% - AUC Mean 74.84% - Deter 002\n",
      "Ite 00450 - 0.22 sec - Loss 0.064053 - ACC 70.33% - ACC Mean 69.46% - AUC 76.10% - AUC Mean 74.87% - Deter 052\n",
      "Ite 00500 - 0.12 sec - Loss 0.062874 - ACC 67.51% - ACC Mean 68.62% - AUC 72.05% - AUC Mean 73.31% - Deter 046\n",
      "Ite 00550 - 0.11 sec - Loss 0.061484 - ACC 66.49% - ACC Mean 68.30% - AUC 73.60% - AUC Mean 72.84% - Deter 096\n",
      "Ite 00600 - 0.12 sec - Loss 0.059901 - ACC 67.34% - ACC Mean 68.65% - AUC 71.85% - AUC Mean 73.08% - Deter 146\n",
      "Ite 00650 - 0.12 sec - Loss 0.057986 - ACC 69.75% - ACC Mean 68.35% - AUC 73.81% - AUC Mean 72.87% - Deter 196\n",
      "Ite 00700 - 0.12 sec - Loss 0.055869 - ACC 68.23% - ACC Mean 68.44% - AUC 72.15% - AUC Mean 72.74% - Deter 246\n",
      "Ite 00750 - 0.11 sec - Loss 0.053620 - ACC 68.23% - ACC Mean 68.47% - AUC 71.56% - AUC Mean 72.80% - Deter 296\n",
      "Ite 00800 - 0.11 sec - Loss 0.051247 - ACC 69.70% - ACC Mean 68.53% - AUC 72.67% - AUC Mean 72.99% - Deter 346\n",
      "Ite 00850 - 0.18 sec - Loss 0.048805 - ACC 69.66% - ACC Mean 69.02% - AUC 72.26% - AUC Mean 73.09% - Deter 396\n",
      "Ite 00854 - 0.13 sec - Loss 0.048664 - ACC 69.10% - ACC Mean 68.99% - AUC 72.71% - AUC Mean 72.94% - Deter 400\n",
      "Early stop ite 854, rollback to correction of ite 454, whith acc of 70.14% and auc of 76.64%\n",
      "OUR METHOD RUN 6/10 - acc: 70.14% +- 0.0% - auc: 76.64% +- 0.0%\n",
      "Ite 00000 - 0.14 sec - Loss 0.081607 - ACC 66.46% - ACC Mean 66.46% - AUC 71.54% - AUC Mean 71.54% - Deter 000\n",
      "Ite 00050 - 0.11 sec - Loss 0.078159 - ACC 66.87% - ACC Mean 68.28% - AUC 72.09% - AUC Mean 72.58% - Deter 026\n",
      "Ite 00100 - 0.12 sec - Loss 0.071960 - ACC 68.21% - ACC Mean 67.84% - AUC 72.52% - AUC Mean 72.76% - Deter 023\n",
      "Ite 00150 - 0.11 sec - Loss 0.068303 - ACC 68.52% - ACC Mean 68.62% - AUC 74.01% - AUC Mean 72.85% - Deter 073\n",
      "Ite 00200 - 0.13 sec - Loss 0.067322 - ACC 68.65% - ACC Mean 68.30% - AUC 73.69% - AUC Mean 73.54% - Deter 027\n",
      "Ite 00250 - 0.11 sec - Loss 0.066594 - ACC 68.96% - ACC Mean 68.45% - AUC 74.16% - AUC Mean 73.53% - Deter 077\n",
      "Ite 00300 - 0.11 sec - Loss 0.065777 - ACC 68.14% - ACC Mean 69.02% - AUC 73.73% - AUC Mean 73.76% - Deter 127\n",
      "Ite 00350 - 0.11 sec - Loss 0.064730 - ACC 68.86% - ACC Mean 69.59% - AUC 73.96% - AUC Mean 74.20% - Deter 001\n",
      "Ite 00400 - 0.13 sec - Loss 0.063525 - ACC 70.55% - ACC Mean 69.69% - AUC 74.77% - AUC Mean 74.35% - Deter 005\n",
      "Ite 00450 - 0.11 sec - Loss 0.061992 - ACC 68.43% - ACC Mean 69.55% - AUC 73.80% - AUC Mean 74.53% - Deter 055\n",
      "Ite 00500 - 0.11 sec - Loss 0.060107 - ACC 71.58% - ACC Mean 69.28% - AUC 76.44% - AUC Mean 74.52% - Deter 105\n",
      "Ite 00550 - 0.16 sec - Loss 0.058125 - ACC 67.76% - ACC Mean 69.06% - AUC 73.55% - AUC Mean 74.40% - Deter 155\n",
      "Ite 00600 - 0.11 sec - Loss 0.056110 - ACC 70.14% - ACC Mean 68.78% - AUC 74.87% - AUC Mean 74.43% - Deter 205\n",
      "Ite 00650 - 0.11 sec - Loss 0.054025 - ACC 67.96% - ACC Mean 68.61% - AUC 73.91% - AUC Mean 74.30% - Deter 255\n",
      "Ite 00700 - 0.10 sec - Loss 0.051835 - ACC 68.68% - ACC Mean 68.07% - AUC 75.74% - AUC Mean 74.25% - Deter 305\n",
      "Ite 00750 - 0.11 sec - Loss 0.049538 - ACC 67.67% - ACC Mean 68.01% - AUC 73.43% - AUC Mean 74.32% - Deter 355\n",
      "Ite 00795 - 0.11 sec - Loss 0.047487 - ACC 68.19% - ACC Mean 67.46% - AUC 75.42% - AUC Mean 73.96% - Deter 400\n",
      "Early stop ite 795, rollback to correction of ite 395, whith acc of 71.37% and auc of 76.6%\n",
      "OUR METHOD RUN 7/10 - acc: 71.37% +- 0.0% - auc: 76.6% +- 0.0%\n",
      "Ite 00000 - 0.13 sec - Loss 0.081867 - ACC 69.14% - ACC Mean 69.14% - AUC 72.96% - AUC Mean 72.96% - Deter 000\n",
      "Ite 00050 - 0.11 sec - Loss 0.078636 - ACC 68.93% - ACC Mean 68.95% - AUC 73.43% - AUC Mean 73.52% - Deter 019\n",
      "Ite 00100 - 0.12 sec - Loss 0.073203 - ACC 70.86% - ACC Mean 69.15% - AUC 76.34% - AUC Mean 74.48% - Deter 000\n",
      "Ite 00150 - 0.11 sec - Loss 0.068810 - ACC 70.07% - ACC Mean 70.25% - AUC 73.98% - AUC Mean 75.18% - Deter 042\n",
      "Ite 00200 - 0.11 sec - Loss 0.067689 - ACC 70.50% - ACC Mean 70.17% - AUC 74.69% - AUC Mean 74.46% - Deter 092\n",
      "Ite 00250 - 0.10 sec - Loss 0.067179 - ACC 69.26% - ACC Mean 69.69% - AUC 73.97% - AUC Mean 74.68% - Deter 142\n",
      "Ite 00300 - 0.12 sec - Loss 0.066624 - ACC 69.22% - ACC Mean 69.36% - AUC 75.50% - AUC Mean 74.94% - Deter 192\n",
      "Ite 00350 - 0.10 sec - Loss 0.065920 - ACC 70.07% - ACC Mean 69.53% - AUC 75.72% - AUC Mean 75.11% - Deter 242\n",
      "Ite 00400 - 0.29 sec - Loss 0.065094 - ACC 69.50% - ACC Mean 69.66% - AUC 75.38% - AUC Mean 75.00% - Deter 292\n",
      "Ite 00450 - 0.13 sec - Loss 0.064044 - ACC 68.55% - ACC Mean 69.07% - AUC 74.06% - AUC Mean 74.83% - Deter 342\n",
      "Ite 00500 - 0.11 sec - Loss 0.062846 - ACC 69.01% - ACC Mean 68.66% - AUC 75.52% - AUC Mean 74.72% - Deter 392\n",
      "Ite 00508 - 0.11 sec - Loss 0.062643 - ACC 69.33% - ACC Mean 68.68% - AUC 76.00% - AUC Mean 74.76% - Deter 400\n",
      "Early stop ite 508, rollback to correction of ite 108, whith acc of 71.33% and auc of 76.75%\n",
      "OUR METHOD RUN 8/10 - acc: 71.33% +- 0.0% - auc: 76.75% +- 0.0%\n",
      "Ite 00000 - 0.11 sec - Loss 0.081220 - ACC 70.83% - ACC Mean 70.83% - AUC 73.83% - AUC Mean 73.83% - Deter 000\n",
      "Ite 00050 - 0.11 sec - Loss 0.077921 - ACC 70.27% - ACC Mean 70.10% - AUC 73.59% - AUC Mean 73.49% - Deter 036\n",
      "Ite 00100 - 0.12 sec - Loss 0.071763 - ACC 66.41% - ACC Mean 67.35% - AUC 72.67% - AUC Mean 73.15% - Deter 086\n",
      "Ite 00150 - 0.11 sec - Loss 0.068179 - ACC 70.51% - ACC Mean 69.34% - AUC 75.94% - AUC Mean 74.38% - Deter 000\n",
      "Ite 00200 - 0.48 sec - Loss 0.067234 - ACC 70.91% - ACC Mean 69.73% - AUC 73.85% - AUC Mean 74.56% - Deter 050\n",
      "Ite 00250 - 0.11 sec - Loss 0.066588 - ACC 69.79% - ACC Mean 69.66% - AUC 74.29% - AUC Mean 74.45% - Deter 100\n",
      "Ite 00300 - 0.12 sec - Loss 0.065864 - ACC 68.23% - ACC Mean 69.59% - AUC 73.77% - AUC Mean 74.74% - Deter 150\n",
      "Ite 00350 - 0.11 sec - Loss 0.064934 - ACC 67.45% - ACC Mean 68.99% - AUC 72.99% - AUC Mean 74.41% - Deter 200\n",
      "Ite 00400 - 0.11 sec - Loss 0.063837 - ACC 69.13% - ACC Mean 68.69% - AUC 74.85% - AUC Mean 74.10% - Deter 250\n",
      "Ite 00450 - 0.47 sec - Loss 0.062560 - ACC 69.07% - ACC Mean 68.58% - AUC 73.86% - AUC Mean 73.40% - Deter 300\n",
      "Ite 00500 - 0.47 sec - Loss 0.061065 - ACC 68.46% - ACC Mean 68.45% - AUC 74.17% - AUC Mean 73.92% - Deter 048\n",
      "Ite 00550 - 0.12 sec - Loss 0.059257 - ACC 68.34% - ACC Mean 68.65% - AUC 72.47% - AUC Mean 73.46% - Deter 098\n",
      "Ite 00600 - 0.61 sec - Loss 0.057258 - ACC 69.00% - ACC Mean 69.29% - AUC 72.30% - AUC Mean 73.04% - Deter 148\n",
      "Ite 00650 - 0.10 sec - Loss 0.055196 - ACC 67.38% - ACC Mean 68.39% - AUC 72.44% - AUC Mean 72.47% - Deter 198\n",
      "Ite 00700 - 0.60 sec - Loss 0.052971 - ACC 67.71% - ACC Mean 68.36% - AUC 71.21% - AUC Mean 72.26% - Deter 248\n",
      "Ite 00750 - 0.11 sec - Loss 0.050582 - ACC 69.66% - ACC Mean 68.93% - AUC 73.32% - AUC Mean 72.45% - Deter 298\n",
      "Ite 00800 - 0.11 sec - Loss 0.048333 - ACC 69.58% - ACC Mean 69.57% - AUC 72.96% - AUC Mean 73.72% - Deter 348\n",
      "Ite 00850 - 0.51 sec - Loss 0.046119 - ACC 70.96% - ACC Mean 69.58% - AUC 76.61% - AUC Mean 74.38% - Deter 000\n",
      "Ite 00900 - 0.12 sec - Loss 0.043997 - ACC 68.26% - ACC Mean 69.08% - AUC 73.49% - AUC Mean 74.33% - Deter 050\n",
      "Ite 00950 - 0.11 sec - Loss 0.041824 - ACC 69.18% - ACC Mean 68.17% - AUC 74.03% - AUC Mean 73.82% - Deter 100\n",
      "Ite 01000 - 0.12 sec - Loss 0.039722 - ACC 65.49% - ACC Mean 67.58% - AUC 70.31% - AUC Mean 73.00% - Deter 150\n",
      "Ite 01050 - 0.12 sec - Loss 0.037701 - ACC 66.72% - ACC Mean 67.13% - AUC 71.62% - AUC Mean 72.35% - Deter 200\n",
      "Ite 01100 - 0.11 sec - Loss 0.035739 - ACC 65.59% - ACC Mean 66.17% - AUC 71.13% - AUC Mean 72.11% - Deter 250\n",
      "Ite 01150 - 0.12 sec - Loss 0.033919 - ACC 68.20% - ACC Mean 65.67% - AUC 72.71% - AUC Mean 72.14% - Deter 300\n",
      "Ite 01200 - 0.12 sec - Loss 0.032288 - ACC 64.81% - ACC Mean 66.65% - AUC 71.69% - AUC Mean 72.27% - Deter 350\n",
      "Ite 01250 - 0.36 sec - Loss 0.030701 - ACC 65.63% - ACC Mean 66.73% - AUC 71.59% - AUC Mean 71.97% - Deter 400\n",
      "Early stop ite 1250, rollback to correction of ite 850, whith acc of 70.96% and auc of 76.61%\n",
      "OUR METHOD RUN 9/10 - acc: 70.96% +- 0.0% - auc: 76.61% +- 0.0%\n",
      "Ite 00000 - 0.11 sec - Loss 0.081345 - ACC 69.53% - ACC Mean 69.53% - AUC 74.03% - AUC Mean 74.03% - Deter 000\n",
      "Ite 00050 - 0.11 sec - Loss 0.078101 - ACC 67.02% - ACC Mean 68.20% - AUC 71.45% - AUC Mean 73.83% - Deter 001\n",
      "Ite 00100 - 0.14 sec - Loss 0.072549 - ACC 68.59% - ACC Mean 68.51% - AUC 74.02% - AUC Mean 73.41% - Deter 051\n",
      "Ite 00150 - 0.13 sec - Loss 0.069042 - ACC 67.16% - ACC Mean 68.10% - AUC 72.48% - AUC Mean 72.89% - Deter 101\n",
      "Ite 00200 - 0.12 sec - Loss 0.067865 - ACC 69.35% - ACC Mean 69.30% - AUC 75.42% - AUC Mean 74.75% - Deter 151\n",
      "Ite 00250 - 0.48 sec - Loss 0.067265 - ACC 67.06% - ACC Mean 68.50% - AUC 72.74% - AUC Mean 74.00% - Deter 201\n",
      "Ite 00300 - 0.11 sec - Loss 0.066632 - ACC 68.39% - ACC Mean 68.60% - AUC 73.80% - AUC Mean 73.91% - Deter 251\n",
      "Ite 00350 - 0.52 sec - Loss 0.065859 - ACC 70.81% - ACC Mean 68.86% - AUC 75.44% - AUC Mean 74.28% - Deter 301\n",
      "Ite 00400 - 0.11 sec - Loss 0.064983 - ACC 67.40% - ACC Mean 68.84% - AUC 73.03% - AUC Mean 74.31% - Deter 351\n",
      "Ite 00449 - 0.11 sec - Loss 0.063883 - ACC 68.06% - ACC Mean 68.61% - AUC 72.59% - AUC Mean 73.61% - Deter 400\n",
      "Early stop ite 449, rollback to correction of ite 49, whith acc of 69.7% and auc of 77.57%\n",
      "OUR METHOD RUN 10/10 - acc: 69.7% +- 0.0% - auc: 77.57% +- 0.0%\n",
      "\n",
      "OUR METHOD GLOBAL - acc: 71.38% +- 1.2% - auc: 77.31% +- 1.34%\n"
     ]
    }
   ],
   "source": [
    "params = {\n",
    "    'nb_batches': 10,\n",
    "    'reg_noise_std': .03,\n",
    "    'net_input': 'data_corrupted',\n",
    "    'net_params': [80, 80],\n",
    "    'adam_lr': .0001,\n",
    "    'adam_weight_decay': 0.,\n",
    "}\n",
    "\n",
    "ours_accs, ours_aucs = [], []\n",
    "for i in range(n_runs):\n",
    "    ours_correction = correction.run(data_missing, 4001, params, y=y, missing_mask=missing_mask, seed=i)\n",
    "    ## Since our method returns 2 imputations select the best one\n",
    "    scores_raw = utils.get_scores(ours_correction['raw_out'], y)\n",
    "    acc = scores_raw['test_balanced_accuracy']\n",
    "    auc = scores_raw['test_roc_auc_ovo']\n",
    "    acc = acc.mean()\n",
    "    acc_std = acc.std()\n",
    "    auc = auc.mean()\n",
    "    auc_std = auc.std()\n",
    "    if 'masked_out' in ours_correction:\n",
    "        scores_masked = utils.get_scores(ours_correction['masked_out'], y)\n",
    "        acc_masked = scores_masked['test_balanced_accuracy']\n",
    "        auc_masked = scores_masked['test_roc_auc_ovo']\n",
    "        if auc_masked.mean() > auc:\n",
    "            acc = acc_masked.mean()\n",
    "            acc_std = acc_masked.std()\n",
    "            auc = auc_masked.mean()\n",
    "            auc_std = auc_masked.std()\n",
    "    print(f'OUR METHOD RUN {i + 1}/{n_runs} - acc: {round(acc.mean() * 100, 2)}% +- {round(acc.std() * 100, 2)}% - ' +\n",
    "          f'auc: {round(auc.mean() * 100, 2)}% +- {round(auc.std() * 100, 2)}%')\n",
    "    ours_accs.append(acc.mean())\n",
    "    ours_aucs.append(auc.mean())\n",
    "print(f'\\nOUR METHOD GLOBAL - acc: {round(np.array(ours_accs).mean() * 100, 2)}% +- {round(np.array(ours_accs).std() * 100, 2)}% - ' +\n",
    "      f'auc: {round(np.array(ours_aucs).mean() * 100, 2)}% +- {round(np.array(ours_aucs).std() * 100, 2)}%')"
   ]
  },
  {
   "cell_type": "markdown",
   "metadata": {},
   "source": [
    "## Run MICE"
   ]
  },
  {
   "cell_type": "code",
   "execution_count": 5,
   "metadata": {
    "ExecuteTime": {
     "end_time": "2022-06-07T08:25:47.812154Z",
     "start_time": "2022-06-07T08:25:41.125881Z"
    },
    "execution": {
     "iopub.execute_input": "2022-06-07T09:28:01.183277Z",
     "iopub.status.busy": "2022-06-07T09:28:01.182768Z",
     "iopub.status.idle": "2022-06-07T09:28:09.609405Z",
     "shell.execute_reply": "2022-06-07T09:28:09.608551Z"
    }
   },
   "outputs": [
    {
     "name": "stdout",
     "output_type": "stream",
     "text": [
      "MICE - acc: 69.96% +- 0.0% - auc: 73.72% +- 0.0%\n"
     ]
    }
   ],
   "source": [
    "data_missing_nans = np.where(missing_mask, data_missing, np.nan)\n",
    "\n",
    "imputer = IterativeImputer()\n",
    "imputed = imputer.fit_transform(data_missing_nans)\n",
    "## All runs would be the same since deterministic method\n",
    "scores = utils.get_scores(imputed, y)\n",
    "acc = [scores['test_balanced_accuracy'].mean()] * n_runs\n",
    "auc = [scores['test_roc_auc_ovo'].mean()] * n_runs\n",
    "print(f'MICE - acc: {round(np.mean(acc) * 100, 2)}% +- {round(np.std(acc) * 100, 2)}% - ' +\n",
    "      f'auc: {round(np.mean(auc) * 100, 2)}% +- {round(np.std(auc) * 100, 2)}%')\n",
    "mice_accs = acc\n",
    "mice_aucs = auc"
   ]
  },
  {
   "cell_type": "markdown",
   "metadata": {},
   "source": [
    "## Run SFIL"
   ]
  },
  {
   "cell_type": "code",
   "execution_count": 6,
   "metadata": {
    "ExecuteTime": {
     "end_time": "2022-06-07T08:25:49.133209Z",
     "start_time": "2022-06-07T08:25:47.813384Z"
    },
    "execution": {
     "iopub.execute_input": "2022-06-07T09:28:09.616158Z",
     "iopub.status.busy": "2022-06-07T09:28:09.615300Z",
     "iopub.status.idle": "2022-06-07T09:28:12.145478Z",
     "shell.execute_reply": "2022-06-07T09:28:12.145797Z"
    }
   },
   "outputs": [
    {
     "name": "stdout",
     "output_type": "stream",
     "text": [
      "SFIL RUN 1/10 - acc: 57.06% +- 7.37% - auc: 61.94% +- 7.91%\n",
      "SFIL RUN 2/10 - acc: 55.48% +- 7.67% - auc: 65.37% +- 8.99%\n",
      "SFIL RUN 3/10 - acc: 61.29% +- 6.61% - auc: 66.93% +- 3.11%\n",
      "SFIL RUN 4/10 - acc: 61.35% +- 6.38% - auc: 70.99% +- 6.31%\n",
      "SFIL RUN 5/10 - acc: 60.91% +- 5.88% - auc: 64.84% +- 6.14%\n",
      "SFIL RUN 6/10 - acc: 62.81% +- 6.56% - auc: 68.26% +- 6.5%\n",
      "SFIL RUN 7/10 - acc: 62.12% +- 6.38% - auc: 67.16% +- 9.21%\n",
      "SFIL RUN 8/10 - acc: 59.99% +- 6.45% - auc: 70.59% +- 5.93%\n",
      "SFIL RUN 9/10 - acc: 59.08% +- 6.49% - auc: 66.08% +- 9.95%\n",
      "SFIL RUN 10/10 - acc: 60.03% +- 6.57% - auc: 69.56% +- 6.51%\n",
      "SFIL GLOBAL - acc: 60.01% +- 2.16% - auc: 67.17% +- 2.65%\n"
     ]
    }
   ],
   "source": [
    "sfil_accs, sfil_aucs = [], []\n",
    "for i in range(n_runs):\n",
    "    acc, auc = filtering(imputed, y, mode='standard', random_state=i)\n",
    "    sfil_accs.append(acc.mean())\n",
    "    sfil_aucs.append(auc.mean())\n",
    "    print(f'SFIL RUN {i + 1}/{n_runs} - acc: {round(np.mean(acc) * 100, 2)}% +- {round(np.std(acc) * 100, 2)}% - ' +\n",
    "          f'auc: {round(np.mean(auc) * 100, 2)}% +- {round(np.std(auc) * 100, 2)}%')\n",
    "print(f'SFIL GLOBAL - acc: {round(np.mean(sfil_accs) * 100, 2)}% +- {round(np.std(sfil_accs) * 100, 2)}% - ' +\n",
    "      f'auc: {round(np.mean(sfil_aucs) * 100, 2)}% +- {round(np.std(sfil_aucs) * 100, 2)}%')"
   ]
  },
  {
   "cell_type": "markdown",
   "metadata": {},
   "source": [
    "## Run PFIL"
   ]
  },
  {
   "cell_type": "code",
   "execution_count": 7,
   "metadata": {
    "ExecuteTime": {
     "end_time": "2022-06-07T08:35:09.194980Z",
     "start_time": "2022-06-07T08:25:49.134766Z"
    },
    "execution": {
     "iopub.execute_input": "2022-06-07T09:28:12.150910Z",
     "iopub.status.busy": "2022-06-07T09:28:12.148293Z",
     "iopub.status.idle": "2022-06-07T09:45:34.944112Z",
     "shell.execute_reply": "2022-06-07T09:45:34.944415Z"
    },
    "scrolled": false
   },
   "outputs": [
    {
     "name": "stdout",
     "output_type": "stream",
     "text": [
      "PFIL RUN 1/10 - acc: 69.78% +- 4.28% - auc: 74.29% +- 6.15%\n",
      "PFIL RUN 2/10 - acc: 69.66% +- 6.96% - auc: 72.96% +- 7.39%\n",
      "PFIL RUN 3/10 - acc: 64.92% +- 3.83% - auc: 68.91% +- 3.61%\n",
      "PFIL RUN 4/10 - acc: 66.84% +- 2.79% - auc: 71.24% +- 4.13%\n",
      "PFIL RUN 5/10 - acc: 68.23% +- 2.77% - auc: 74.13% +- 3.06%\n",
      "PFIL RUN 6/10 - acc: 64.08% +- 4.89% - auc: 70.05% +- 3.41%\n",
      "PFIL RUN 7/10 - acc: 72.4% +- 2.6% - auc: 74.26% +- 3.17%\n",
      "PFIL RUN 8/10 - acc: 67.59% +- 2.45% - auc: 70.27% +- 4.42%\n",
      "PFIL RUN 9/10 - acc: 67.34% +- 5.47% - auc: 73.36% +- 4.02%\n",
      "PFIL RUN 10/10 - acc: 64.54% +- 5.48% - auc: 72.53% +- 7.13%\n",
      "PFIL GLOBAL - acc: 67.54% +- 2.49% - auc: 72.2% +- 1.86%\n"
     ]
    }
   ],
   "source": [
    "pfil_accs, pfil_aucs = [], []\n",
    "for i in range(n_runs):\n",
    "    acc, auc = filtering(imputed, y, mode='panda', random_state=i)\n",
    "    pfil_accs.append(acc.mean())\n",
    "    pfil_aucs.append(auc.mean())\n",
    "    print(f'PFIL RUN {i + 1}/{n_runs} - acc: {round(np.mean(acc) * 100, 2)}% +- {round(np.std(acc) * 100, 2)}% - ' +\n",
    "          f'auc: {round(np.mean(auc) * 100, 2)}% +- {round(np.std(auc) * 100, 2)}%')\n",
    "print(f'PFIL GLOBAL - acc: {round(np.mean(pfil_accs) * 100, 2)}% +- {round(np.std(pfil_accs) * 100, 2)}% - ' +\n",
    "      f'auc: {round(np.mean(pfil_aucs) * 100, 2)}% +- {round(np.std(pfil_aucs) * 100, 2)}%')"
   ]
  },
  {
   "cell_type": "markdown",
   "metadata": {},
   "source": [
    "## Run SPOL"
   ]
  },
  {
   "cell_type": "code",
   "execution_count": 8,
   "metadata": {
    "ExecuteTime": {
     "end_time": "2022-06-07T08:50:33.353751Z",
     "start_time": "2022-06-07T08:49:36.684786Z"
    },
    "execution": {
     "iopub.execute_input": "2022-06-07T09:45:34.950114Z",
     "iopub.status.busy": "2022-06-07T09:45:34.949264Z",
     "iopub.status.idle": "2022-06-07T09:46:11.895226Z",
     "shell.execute_reply": "2022-06-07T09:46:11.894837Z"
    }
   },
   "outputs": [
    {
     "name": "stdout",
     "output_type": "stream",
     "text": [
      "SPOL RUN 1/10 - acc: 59.88% +- 4.28% - auc: 63.82% +- 4.47%\n",
      "SPOL RUN 2/10 - acc: 53.09% +- 6.75% - auc: 58.96% +- 7.76%\n",
      "SPOL RUN 3/10 - acc: 67.62% +- 8.57% - auc: 68.69% +- 7.28%\n",
      "SPOL RUN 4/10 - acc: 57.51% +- 6.17% - auc: 60.07% +- 7.53%\n",
      "SPOL RUN 5/10 - acc: 60.96% +- 4.45% - auc: 65.1% +- 7.16%\n",
      "SPOL RUN 6/10 - acc: 59.47% +- 6.33% - auc: 62.02% +- 5.54%\n",
      "SPOL RUN 7/10 - acc: 62.91% +- 4.82% - auc: 67.32% +- 4.35%\n",
      "SPOL RUN 8/10 - acc: 62.24% +- 3.07% - auc: 67.49% +- 3.92%\n",
      "SPOL RUN 9/10 - acc: 60.36% +- 3.43% - auc: 62.67% +- 4.58%\n",
      "SPOL RUN 10/10 - acc: 61.23% +- 8.28% - auc: 62.71% +- 7.77%\n",
      "SPOL GLOBAL - acc: 60.53% +- 3.54% - auc: 63.89% +- 3.07%\n"
     ]
    }
   ],
   "source": [
    "spol_accs, spol_aucs = [], []\n",
    "for i in range(n_runs):\n",
    "    acc, auc = polishing(imputed, y, mode='standard', random_state=i)\n",
    "    spol_accs.append(acc.mean())\n",
    "    spol_aucs.append(auc.mean())\n",
    "    print(f'SPOL RUN {i + 1}/{n_runs} - acc: {round(np.mean(acc) * 100, 2)}% +- {round(np.std(acc) * 100, 2)}% - ' +\n",
    "          f'auc: {round(np.mean(auc) * 100, 2)}% +- {round(np.std(auc) * 100, 2)}%')\n",
    "print(f'SPOL GLOBAL - acc: {round(np.mean(spol_accs) * 100, 2)}% +- {round(np.std(spol_accs) * 100, 2)}% - ' +\n",
    "      f'auc: {round(np.mean(spol_aucs) * 100, 2)}% +- {round(np.std(spol_aucs) * 100, 2)}%')"
   ]
  },
  {
   "cell_type": "markdown",
   "metadata": {},
   "source": [
    "## Run PPOL"
   ]
  },
  {
   "cell_type": "code",
   "execution_count": 9,
   "metadata": {
    "ExecuteTime": {
     "end_time": "2022-06-07T08:54:57.736311Z",
     "start_time": "2022-06-07T08:54:53.057083Z"
    },
    "execution": {
     "iopub.execute_input": "2022-06-07T09:46:11.903269Z",
     "iopub.status.busy": "2022-06-07T09:46:11.902842Z",
     "iopub.status.idle": "2022-06-07T10:02:33.055239Z",
     "shell.execute_reply": "2022-06-07T10:02:33.056296Z"
    }
   },
   "outputs": [
    {
     "name": "stdout",
     "output_type": "stream",
     "text": [
      "PPOL RUN 1/10 - acc: 65.96% +- 3.12% - auc: 70.4% +- 4.13%\n",
      "PPOL RUN 2/10 - acc: 70.83% +- 5.97% - auc: 73.4% +- 6.47%\n",
      "PPOL RUN 3/10 - acc: 72.76% +- 3.08% - auc: 76.11% +- 3.9%\n",
      "PPOL RUN 4/10 - acc: 64.73% +- 5.18% - auc: 69.88% +- 5.54%\n",
      "PPOL RUN 5/10 - acc: 66.45% +- 6.24% - auc: 70.47% +- 6.49%\n",
      "PPOL RUN 6/10 - acc: 62.27% +- 2.57% - auc: 67.59% +- 4.5%\n",
      "PPOL RUN 7/10 - acc: 65.9% +- 7.34% - auc: 70.6% +- 5.04%\n",
      "PPOL RUN 8/10 - acc: 64.94% +- 5.56% - auc: 69.84% +- 7.39%\n",
      "PPOL RUN 9/10 - acc: 65.17% +- 3.88% - auc: 69.54% +- 5.22%\n",
      "PPOL RUN 10/10 - acc: 70.65% +- 4.43% - auc: 73.08% +- 5.86%\n",
      "PPOL GLOBAL - acc: 66.97% +- 3.15% - auc: 71.09% +- 2.31%\n"
     ]
    }
   ],
   "source": [
    "ppol_accs, ppol_aucs = [], []\n",
    "for i in range(n_runs):\n",
    "    acc, auc = polishing(imputed, y, mode='panda', random_state=i)\n",
    "    ppol_accs.append(acc.mean())\n",
    "    ppol_aucs.append(auc.mean())\n",
    "    print(f'PPOL RUN {i + 1}/{n_runs} - acc: {round(np.mean(acc) * 100, 2)}% +- {round(np.std(acc) * 100, 2)}% - ' +\n",
    "          f'auc: {round(np.mean(auc) * 100, 2)}% +- {round(np.std(auc) * 100, 2)}%')\n",
    "print(f'PPOL GLOBAL - acc: {round(np.mean(ppol_accs) * 100, 2)}% +- {round(np.std(ppol_accs) * 100, 2)}% - ' +\n",
    "      f'auc: {round(np.mean(ppol_aucs) * 100, 2)}% +- {round(np.std(ppol_aucs) * 100, 2)}%')"
   ]
  },
  {
   "cell_type": "markdown",
   "metadata": {},
   "source": [
    "## Run T-tests"
   ]
  },
  {
   "cell_type": "code",
   "execution_count": 10,
   "metadata": {
    "ExecuteTime": {
     "end_time": "2022-06-07T08:52:25.983958Z",
     "start_time": "2022-06-07T08:52:25.963898Z"
    },
    "execution": {
     "iopub.execute_input": "2022-06-07T10:02:33.073172Z",
     "iopub.status.busy": "2022-06-07T10:02:33.071637Z",
     "iopub.status.idle": "2022-06-07T10:02:33.075766Z",
     "shell.execute_reply": "2022-06-07T10:02:33.074351Z"
    },
    "scrolled": false
   },
   "outputs": [
    {
     "name": "stdout",
     "output_type": "stream",
     "text": [
      "Metric ACC - OUR METHOD is significantly better than MICE\n",
      "Metric AUC - OUR METHOD is significantly better than MICE\n",
      "Metric ACC - OUR METHOD is significantly better than SFIL\n",
      "Metric AUC - OUR METHOD is significantly better than SFIL\n",
      "Metric ACC - OUR METHOD is significantly better than PFIL\n",
      "Metric AUC - OUR METHOD is significantly better than PFIL\n",
      "Metric ACC - OUR METHOD is significantly better than SPOL\n",
      "Metric AUC - OUR METHOD is significantly better than SPOL\n",
      "Metric ACC - OUR METHOD is significantly better than PPOL\n",
      "Metric AUC - OUR METHOD is significantly better than PPOL\n"
     ]
    }
   ],
   "source": [
    "for model, metrics in {\n",
    "        'MICE': {'ACC': mice_accs, 'AUC': mice_aucs},\n",
    "        'SFIL': {'ACC': sfil_accs, 'AUC': sfil_aucs},\n",
    "        'PFIL': {'ACC': pfil_accs, 'AUC': pfil_aucs},\n",
    "        'SPOL': {'ACC': spol_accs, 'AUC': spol_aucs},\n",
    "        'PPOL': {'ACC': ppol_accs, 'AUC': ppol_aucs}}.items():\n",
    "    for metric_name, metric in metrics.items():\n",
    "        ours_metric = ours_accs if metric_name == 'ACC' else ours_aucs\n",
    "        t, p = scipy.stats.ttest_ind(np.array(ours_metric), np.array(metric))\n",
    "        if p <= .05:\n",
    "            if t > 0:\n",
    "                ## Our method is better\n",
    "                print(f'Metric {metric_name} - OUR METHOD is significantly better than {model}')\n",
    "            else:\n",
    "                ## Theirs is better\n",
    "                print(f'Metric {metric_name} - OUR METHOD is significantly worse than {model}')\n",
    "        else:\n",
    "            ## Else we are even\n",
    "            print(f'Metric {metric_name} - OUR METHOD is even with {model}')"
   ]
  }
 ],
 "metadata": {
  "kernelspec": {
   "display_name": "Python 3 (ipykernel)",
   "language": "python",
   "name": "python3"
  },
  "language_info": {
   "codemirror_mode": {
    "name": "ipython",
    "version": 3
   },
   "file_extension": ".py",
   "mimetype": "text/x-python",
   "name": "python",
   "nbconvert_exporter": "python",
   "pygments_lexer": "ipython3",
   "version": "3.9.7"
  },
  "latex_envs": {
   "LaTeX_envs_menu_present": true,
   "autoclose": false,
   "autocomplete": true,
   "bibliofile": "biblio.bib",
   "cite_by": "apalike",
   "current_citInitial": 1,
   "eqLabelWithNumbers": true,
   "eqNumInitial": 1,
   "hotkeys": {
    "equation": "Ctrl-E",
    "itemize": "Ctrl-I"
   },
   "labels_anchors": false,
   "latex_user_defs": false,
   "report_style_numbering": false,
   "user_envs_cfg": false
  }
 },
 "nbformat": 4,
 "nbformat_minor": 2
}
