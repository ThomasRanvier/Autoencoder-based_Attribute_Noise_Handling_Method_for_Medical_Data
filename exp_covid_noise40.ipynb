{
 "cells": [
  {
   "cell_type": "code",
   "execution_count": 1,
   "metadata": {
    "ExecuteTime": {
     "end_time": "2022-06-03T15:22:32.840331Z",
     "start_time": "2022-06-03T15:22:29.696281Z"
    },
    "execution": {
     "iopub.execute_input": "2022-06-04T07:14:43.094125Z",
     "iopub.status.busy": "2022-06-04T07:14:43.091978Z",
     "iopub.status.idle": "2022-06-04T07:15:15.339073Z",
     "shell.execute_reply": "2022-06-04T07:15:15.339900Z"
    }
   },
   "outputs": [],
   "source": [
    "from __future__ import print_function\n",
    "import warnings\n",
    "warnings.filterwarnings(\"ignore\", category=UserWarning)\n",
    "warnings.filterwarnings(\"ignore\", category=FutureWarning)\n",
    "## Disable tf future deprecated messages\n",
    "import logging\n",
    "logging.getLogger('tensorflow').disabled = True\n",
    "## Disable tf CUDA messages\n",
    "import os\n",
    "os.environ['TF_CPP_MIN_LOG_LEVEL'] = '3'\n",
    "\n",
    "%matplotlib inline\n",
    "\n",
    "import sys\n",
    "import random\n",
    "import numpy as np\n",
    "import pandas as pd\n",
    "\n",
    "import utils\n",
    "import correction\n",
    "from models.dense import *\n",
    "from models.gain import gain\n",
    "from models.soft_impute import SoftImpute\n",
    "from models.sinkhorn import OTimputer\n",
    "from models.mida import mida\n",
    "\n",
    "import scipy.stats\n",
    "\n",
    "from sklearn.experimental import enable_iterative_imputer\n",
    "from sklearn.impute import IterativeImputer\n",
    "from sklearn.impute import KNNImputer, SimpleImputer\n",
    "\n",
    "import sklearn.neighbors._base\n",
    "sys.modules['sklearn.neighbors.base'] = sklearn.neighbors._base\n",
    "from missingpy import MissForest\n",
    "\n",
    "torch.backends.cudnn.enabled = True\n",
    "torch.backends.cudnn.benchmark = True\n",
    "dtype = torch.cuda.FloatTensor"
   ]
  },
  {
   "cell_type": "markdown",
   "metadata": {},
   "source": [
    "## Repeat all experiments for 10 runs"
   ]
  },
  {
   "cell_type": "code",
   "execution_count": 2,
   "metadata": {
    "ExecuteTime": {
     "end_time": "2022-06-03T15:22:32.845502Z",
     "start_time": "2022-06-03T15:22:32.842130Z"
    },
    "execution": {
     "iopub.execute_input": "2022-06-04T07:15:15.351349Z",
     "iopub.status.busy": "2022-06-04T07:15:15.350715Z",
     "iopub.status.idle": "2022-06-04T07:15:15.354203Z",
     "shell.execute_reply": "2022-06-04T07:15:15.355096Z"
    }
   },
   "outputs": [],
   "source": [
    "n_runs = 10"
   ]
  },
  {
   "cell_type": "markdown",
   "metadata": {},
   "source": [
    "## Load data"
   ]
  },
  {
   "cell_type": "code",
   "execution_count": 3,
   "metadata": {
    "ExecuteTime": {
     "end_time": "2022-06-03T15:22:34.289014Z",
     "start_time": "2022-06-03T15:22:32.847779Z"
    },
    "execution": {
     "iopub.execute_input": "2022-06-04T07:15:15.361196Z",
     "iopub.status.busy": "2022-06-04T07:15:15.360644Z",
     "iopub.status.idle": "2022-06-04T07:15:18.049627Z",
     "shell.execute_reply": "2022-06-04T07:15:18.050725Z"
    }
   },
   "outputs": [
    {
     "name": "stdout",
     "output_type": "stream",
     "text": [
      "Dataset shape: (361, 80)\n",
      "19.75% missing data\n",
      "Class distribution: (array([0, 1]), array([195, 166]))\n"
     ]
    }
   ],
   "source": [
    "data_missing, missing_mask, y = utils.load_covid()\n",
    "## Inject noise\n",
    "data_missing = utils.inject_noise(data_missing.copy(), noise_rate=.40)\n",
    "## Replace missing values locations by 0\n",
    "data_missing = data_missing * missing_mask"
   ]
  },
  {
   "cell_type": "markdown",
   "metadata": {},
   "source": [
    "## Run OUR METHOD"
   ]
  },
  {
   "cell_type": "code",
   "execution_count": 4,
   "metadata": {
    "ExecuteTime": {
     "end_time": "2022-06-03T15:23:05.486728Z",
     "start_time": "2022-06-03T15:22:34.290669Z"
    },
    "execution": {
     "iopub.execute_input": "2022-06-04T07:15:18.064540Z",
     "iopub.status.busy": "2022-06-04T07:15:18.063728Z",
     "iopub.status.idle": "2022-06-04T07:36:07.431363Z",
     "shell.execute_reply": "2022-06-04T07:36:07.431811Z"
    },
    "scrolled": false
   },
   "outputs": [
    {
     "name": "stdout",
     "output_type": "stream",
     "text": [
      "Ite 00000 - 0.72 sec - Loss 0.090179 - ACC 70.30% - ACC Mean 70.30% - AUC 79.44% - AUC Mean 79.44% - Deter 000\n",
      "Ite 00050 - 0.11 sec - Loss 0.085490 - ACC 72.10% - ACC Mean 70.94% - AUC 79.21% - AUC Mean 79.34% - Deter 038\n",
      "Ite 00100 - 0.12 sec - Loss 0.074606 - ACC 71.84% - ACC Mean 71.23% - AUC 80.28% - AUC Mean 78.90% - Deter 001\n",
      "Ite 00150 - 0.15 sec - Loss 0.063214 - ACC 71.28% - ACC Mean 71.41% - AUC 79.93% - AUC Mean 79.81% - Deter 051\n",
      "Ite 00200 - 0.13 sec - Loss 0.059992 - ACC 71.28% - ACC Mean 71.39% - AUC 79.96% - AUC Mean 79.96% - Deter 101\n",
      "Ite 00250 - 0.12 sec - Loss 0.059210 - ACC 71.80% - ACC Mean 71.43% - AUC 80.27% - AUC Mean 79.93% - Deter 151\n",
      "Ite 00300 - 0.12 sec - Loss 0.058822 - ACC 71.78% - ACC Mean 71.40% - AUC 79.59% - AUC Mean 79.92% - Deter 201\n",
      "Ite 00350 - 0.15 sec - Loss 0.058482 - ACC 71.28% - ACC Mean 71.32% - AUC 80.06% - AUC Mean 79.86% - Deter 251\n",
      "Ite 00400 - 0.10 sec - Loss 0.058135 - ACC 71.03% - ACC Mean 71.02% - AUC 79.54% - AUC Mean 79.53% - Deter 301\n",
      "Ite 00450 - 0.10 sec - Loss 0.057722 - ACC 69.30% - ACC Mean 70.91% - AUC 77.90% - AUC Mean 79.50% - Deter 032\n",
      "Ite 00500 - 0.11 sec - Loss 0.057225 - ACC 71.03% - ACC Mean 71.02% - AUC 79.94% - AUC Mean 79.64% - Deter 002\n",
      "Ite 00550 - 0.15 sec - Loss 0.056673 - ACC 70.30% - ACC Mean 71.08% - AUC 80.08% - AUC Mean 79.83% - Deter 022\n",
      "Ite 00600 - 0.10 sec - Loss 0.056035 - ACC 70.30% - ACC Mean 70.23% - AUC 78.11% - AUC Mean 78.99% - Deter 072\n",
      "Ite 00650 - 0.11 sec - Loss 0.055330 - ACC 70.56% - ACC Mean 70.53% - AUC 79.58% - AUC Mean 78.74% - Deter 122\n",
      "Ite 00700 - 0.11 sec - Loss 0.054528 - ACC 72.15% - ACC Mean 71.31% - AUC 79.13% - AUC Mean 79.23% - Deter 172\n",
      "Ite 00750 - 0.11 sec - Loss 0.053718 - ACC 73.39% - ACC Mean 71.26% - AUC 80.36% - AUC Mean 78.85% - Deter 222\n",
      "Ite 00800 - 0.10 sec - Loss 0.052816 - ACC 71.78% - ACC Mean 71.67% - AUC 79.60% - AUC Mean 78.87% - Deter 272\n",
      "Ite 00850 - 0.10 sec - Loss 0.051906 - ACC 70.93% - ACC Mean 71.96% - AUC 77.86% - AUC Mean 79.33% - Deter 322\n",
      "Ite 00900 - 0.13 sec - Loss 0.050952 - ACC 72.03% - ACC Mean 71.82% - AUC 79.49% - AUC Mean 79.15% - Deter 372\n",
      "Ite 00928 - 0.11 sec - Loss 0.050406 - ACC 72.07% - ACC Mean 72.03% - AUC 79.66% - AUC Mean 79.39% - Deter 400\n",
      "Early stop ite 928, rollback to correction of ite 528, whith acc of 72.09% and auc of 81.24%\n",
      "OUR METHOD RUN 1/10 - acc: 72.09% +- 0.0% - auc: 81.24% +- 0.0%\n",
      "Ite 00000 - 0.10 sec - Loss 0.089679 - ACC 71.58% - ACC Mean 71.58% - AUC 80.04% - AUC Mean 80.04% - Deter 000\n",
      "Ite 00050 - 0.13 sec - Loss 0.085211 - ACC 71.98% - ACC Mean 71.50% - AUC 79.34% - AUC Mean 79.21% - Deter 048\n",
      "Ite 00100 - 0.11 sec - Loss 0.074953 - ACC 71.98% - ACC Mean 71.82% - AUC 79.19% - AUC Mean 79.19% - Deter 098\n",
      "Ite 00150 - 0.14 sec - Loss 0.063373 - ACC 72.73% - ACC Mean 72.20% - AUC 79.38% - AUC Mean 79.25% - Deter 006\n",
      "Ite 00200 - 0.12 sec - Loss 0.059973 - ACC 71.94% - ACC Mean 71.96% - AUC 79.26% - AUC Mean 79.38% - Deter 056\n",
      "Ite 00250 - 0.11 sec - Loss 0.059237 - ACC 71.60% - ACC Mean 71.83% - AUC 79.24% - AUC Mean 79.29% - Deter 106\n",
      "Ite 00300 - 0.17 sec - Loss 0.058875 - ACC 71.89% - ACC Mean 71.80% - AUC 79.20% - AUC Mean 79.25% - Deter 156\n",
      "Ite 00350 - 0.10 sec - Loss 0.058552 - ACC 71.94% - ACC Mean 71.77% - AUC 79.54% - AUC Mean 79.23% - Deter 206\n",
      "Ite 00400 - 0.11 sec - Loss 0.058209 - ACC 71.31% - ACC Mean 71.78% - AUC 79.10% - AUC Mean 79.23% - Deter 256\n",
      "Ite 00450 - 0.11 sec - Loss 0.057796 - ACC 71.63% - ACC Mean 71.76% - AUC 78.91% - AUC Mean 79.19% - Deter 306\n",
      "Ite 00500 - 0.10 sec - Loss 0.057300 - ACC 71.63% - ACC Mean 71.76% - AUC 78.89% - AUC Mean 79.27% - Deter 356\n",
      "Ite 00544 - 0.11 sec - Loss 0.056759 - ACC 72.73% - ACC Mean 71.72% - AUC 79.33% - AUC Mean 79.35% - Deter 400\n",
      "Early stop ite 544, rollback to correction of ite 144, whith acc of 73.5% and auc of 80.75%\n",
      "OUR METHOD RUN 2/10 - acc: 73.5% +- 0.0% - auc: 80.75% +- 0.0%\n",
      "Ite 00000 - 0.14 sec - Loss 0.089133 - ACC 70.58% - ACC Mean 70.58% - AUC 77.99% - AUC Mean 77.99% - Deter 000\n",
      "Ite 00050 - 0.10 sec - Loss 0.085202 - ACC 71.49% - ACC Mean 71.47% - AUC 78.58% - AUC Mean 78.75% - Deter 040\n",
      "Ite 00100 - 0.11 sec - Loss 0.076491 - ACC 70.59% - ACC Mean 70.28% - AUC 77.94% - AUC Mean 77.52% - Deter 090\n",
      "Ite 00150 - 0.20 sec - Loss 0.064750 - ACC 69.52% - ACC Mean 71.42% - AUC 79.51% - AUC Mean 79.63% - Deter 036\n",
      "Ite 00200 - 0.11 sec - Loss 0.060337 - ACC 70.39% - ACC Mean 70.67% - AUC 78.87% - AUC Mean 79.20% - Deter 086\n",
      "Ite 00250 - 0.11 sec - Loss 0.059207 - ACC 70.06% - ACC Mean 70.36% - AUC 79.06% - AUC Mean 79.29% - Deter 136\n",
      "Ite 00300 - 0.15 sec - Loss 0.058733 - ACC 70.11% - ACC Mean 70.21% - AUC 79.62% - AUC Mean 78.99% - Deter 186\n",
      "Ite 00350 - 0.11 sec - Loss 0.058346 - ACC 70.36% - ACC Mean 70.92% - AUC 78.93% - AUC Mean 79.49% - Deter 236\n",
      "Ite 00400 - 0.16 sec - Loss 0.057920 - ACC 71.22% - ACC Mean 71.28% - AUC 79.90% - AUC Mean 79.45% - Deter 286\n",
      "Ite 00450 - 0.11 sec - Loss 0.057433 - ACC 72.71% - ACC Mean 71.65% - AUC 79.86% - AUC Mean 79.55% - Deter 336\n",
      "Ite 00500 - 0.11 sec - Loss 0.056852 - ACC 71.20% - ACC Mean 72.24% - AUC 80.03% - AUC Mean 79.89% - Deter 006\n",
      "Ite 00550 - 0.14 sec - Loss 0.056200 - ACC 72.75% - ACC Mean 72.23% - AUC 79.57% - AUC Mean 80.09% - Deter 033\n",
      "Ite 00600 - 0.12 sec - Loss 0.055424 - ACC 74.06% - ACC Mean 73.17% - AUC 81.28% - AUC Mean 80.39% - Deter 002\n",
      "Ite 00650 - 0.13 sec - Loss 0.054611 - ACC 73.76% - ACC Mean 73.59% - AUC 81.00% - AUC Mean 80.52% - Deter 052\n",
      "Ite 00700 - 0.11 sec - Loss 0.053731 - ACC 72.85% - ACC Mean 73.38% - AUC 80.36% - AUC Mean 80.26% - Deter 102\n",
      "Ite 00750 - 0.11 sec - Loss 0.052770 - ACC 72.64% - ACC Mean 73.10% - AUC 79.34% - AUC Mean 80.03% - Deter 152\n",
      "Ite 00800 - 0.13 sec - Loss 0.051804 - ACC 72.80% - ACC Mean 72.68% - AUC 79.40% - AUC Mean 79.40% - Deter 202\n",
      "Ite 00850 - 0.11 sec - Loss 0.050820 - ACC 72.10% - ACC Mean 72.32% - AUC 79.63% - AUC Mean 79.21% - Deter 252\n",
      "Ite 00900 - 0.21 sec - Loss 0.049792 - ACC 73.06% - ACC Mean 71.98% - AUC 78.64% - AUC Mean 78.77% - Deter 302\n",
      "Ite 00950 - 0.11 sec - Loss 0.048629 - ACC 71.12% - ACC Mean 72.13% - AUC 78.84% - AUC Mean 78.93% - Deter 352\n",
      "Ite 00998 - 0.10 sec - Loss 0.047539 - ACC 70.84% - ACC Mean 71.60% - AUC 77.38% - AUC Mean 78.41% - Deter 400\n",
      "Early stop ite 998, rollback to correction of ite 598, whith acc of 74.62% and auc of 81.54%\n",
      "OUR METHOD RUN 3/10 - acc: 74.62% +- 0.0% - auc: 81.54% +- 0.0%\n",
      "Ite 00000 - 0.22 sec - Loss 0.089437 - ACC 73.05% - ACC Mean 73.05% - AUC 80.24% - AUC Mean 80.24% - Deter 000\n",
      "Ite 00050 - 0.11 sec - Loss 0.083907 - ACC 72.24% - ACC Mean 71.57% - AUC 79.28% - AUC Mean 79.60% - Deter 016\n",
      "Ite 00100 - 0.14 sec - Loss 0.072382 - ACC 72.31% - ACC Mean 71.70% - AUC 79.21% - AUC Mean 78.67% - Deter 066\n",
      "Ite 00150 - 0.11 sec - Loss 0.062231 - ACC 71.95% - ACC Mean 72.12% - AUC 78.60% - AUC Mean 79.12% - Deter 116\n",
      "Ite 00200 - 0.10 sec - Loss 0.059728 - ACC 72.43% - ACC Mean 71.97% - AUC 79.21% - AUC Mean 79.26% - Deter 166\n",
      "Ite 00250 - 0.11 sec - Loss 0.059094 - ACC 72.22% - ACC Mean 71.77% - AUC 79.47% - AUC Mean 79.28% - Deter 216\n",
      "Ite 00300 - 0.10 sec - Loss 0.058747 - ACC 72.52% - ACC Mean 71.81% - AUC 79.74% - AUC Mean 79.31% - Deter 266\n",
      "Ite 00350 - 0.10 sec - Loss 0.058425 - ACC 72.31% - ACC Mean 71.91% - AUC 79.53% - AUC Mean 79.21% - Deter 316\n",
      "Ite 00400 - 0.10 sec - Loss 0.058086 - ACC 72.27% - ACC Mean 71.97% - AUC 78.68% - AUC Mean 79.28% - Deter 366\n",
      "Ite 00434 - 0.10 sec - Loss 0.057809 - ACC 71.64% - ACC Mean 71.88% - AUC 79.49% - AUC Mean 79.44% - Deter 400\n",
      "Early stop ite 434, rollback to correction of ite 34, whith acc of 72.96% and auc of 80.5%\n",
      "OUR METHOD RUN 4/10 - acc: 72.96% +- 0.0% - auc: 80.5% +- 0.0%\n",
      "Ite 00000 - 0.10 sec - Loss 0.090027 - ACC 72.49% - ACC Mean 72.49% - AUC 78.77% - AUC Mean 78.77% - Deter 000\n",
      "Ite 00050 - 0.14 sec - Loss 0.085062 - ACC 71.89% - ACC Mean 71.38% - AUC 78.50% - AUC Mean 78.49% - Deter 048\n",
      "Ite 00100 - 0.11 sec - Loss 0.073546 - ACC 72.79% - ACC Mean 72.01% - AUC 79.50% - AUC Mean 79.39% - Deter 028\n",
      "Ite 00150 - 0.11 sec - Loss 0.062070 - ACC 71.28% - ACC Mean 72.57% - AUC 79.45% - AUC Mean 79.85% - Deter 012\n",
      "Ite 00200 - 0.14 sec - Loss 0.059462 - ACC 72.64% - ACC Mean 73.18% - AUC 79.97% - AUC Mean 79.84% - Deter 026\n",
      "Ite 00250 - 0.11 sec - Loss 0.058968 - ACC 71.31% - ACC Mean 72.06% - AUC 79.20% - AUC Mean 79.46% - Deter 076\n",
      "Ite 00300 - 0.11 sec - Loss 0.058616 - ACC 71.68% - ACC Mean 71.77% - AUC 78.95% - AUC Mean 79.57% - Deter 126\n",
      "Ite 00350 - 0.11 sec - Loss 0.058236 - ACC 71.94% - ACC Mean 71.79% - AUC 79.34% - AUC Mean 79.61% - Deter 176\n",
      "Ite 00400 - 0.11 sec - Loss 0.057787 - ACC 72.96% - ACC Mean 72.12% - AUC 80.14% - AUC Mean 79.65% - Deter 226\n",
      "Ite 00450 - 0.18 sec - Loss 0.057210 - ACC 71.68% - ACC Mean 71.98% - AUC 79.25% - AUC Mean 79.54% - Deter 276\n",
      "Ite 00500 - 0.10 sec - Loss 0.056545 - ACC 72.38% - ACC Mean 72.17% - AUC 79.10% - AUC Mean 79.70% - Deter 326\n",
      "Ite 00550 - 0.13 sec - Loss 0.055759 - ACC 72.92% - ACC Mean 72.26% - AUC 80.52% - AUC Mean 80.00% - Deter 376\n",
      "Ite 00600 - 0.10 sec - Loss 0.054826 - ACC 73.68% - ACC Mean 73.19% - AUC 80.42% - AUC Mean 81.50% - Deter 026\n",
      "Ite 00650 - 0.11 sec - Loss 0.053827 - ACC 73.87% - ACC Mean 73.63% - AUC 81.61% - AUC Mean 81.66% - Deter 023\n",
      "Ite 00700 - 0.14 sec - Loss 0.052808 - ACC 72.71% - ACC Mean 73.46% - AUC 79.85% - AUC Mean 81.05% - Deter 031\n",
      "Ite 00750 - 0.10 sec - Loss 0.051820 - ACC 74.55% - ACC Mean 73.01% - AUC 79.79% - AUC Mean 80.21% - Deter 081\n",
      "Ite 00800 - 0.11 sec - Loss 0.050852 - ACC 72.18% - ACC Mean 72.92% - AUC 79.94% - AUC Mean 80.10% - Deter 131\n",
      "Ite 00850 - 0.14 sec - Loss 0.049847 - ACC 74.08% - ACC Mean 73.31% - AUC 80.39% - AUC Mean 80.75% - Deter 011\n",
      "Ite 00900 - 0.14 sec - Loss 0.048818 - ACC 75.32% - ACC Mean 73.00% - AUC 81.75% - AUC Mean 81.12% - Deter 061\n",
      "Ite 00950 - 0.10 sec - Loss 0.047733 - ACC 72.82% - ACC Mean 73.37% - AUC 81.31% - AUC Mean 80.73% - Deter 003\n",
      "Ite 01000 - 0.10 sec - Loss 0.046522 - ACC 73.66% - ACC Mean 73.98% - AUC 80.52% - AUC Mean 80.75% - Deter 053\n",
      "Ite 01050 - 0.10 sec - Loss 0.045240 - ACC 72.70% - ACC Mean 73.76% - AUC 78.76% - AUC Mean 80.54% - Deter 103\n",
      "Ite 01100 - 0.11 sec - Loss 0.043811 - ACC 72.88% - ACC Mean 73.08% - AUC 79.46% - AUC Mean 79.70% - Deter 153\n",
      "Ite 01150 - 0.12 sec - Loss 0.042448 - ACC 72.16% - ACC Mean 72.18% - AUC 78.01% - AUC Mean 78.77% - Deter 203\n",
      "Ite 01200 - 0.10 sec - Loss 0.041055 - ACC 73.70% - ACC Mean 72.91% - AUC 78.47% - AUC Mean 79.29% - Deter 253\n",
      "Ite 01250 - 0.11 sec - Loss 0.039703 - ACC 74.46% - ACC Mean 73.39% - AUC 79.78% - AUC Mean 79.69% - Deter 303\n",
      "Ite 01300 - 0.11 sec - Loss 0.038188 - ACC 73.37% - ACC Mean 73.70% - AUC 81.81% - AUC Mean 80.46% - Deter 353\n",
      "Ite 01347 - 0.14 sec - Loss 0.036750 - ACC 75.62% - ACC Mean 74.05% - AUC 80.59% - AUC Mean 80.75% - Deter 400\n",
      "Early stop ite 1347, rollback to correction of ite 947, whith acc of 74.52% and auc of 84.5%\n",
      "OUR METHOD RUN 5/10 - acc: 74.52% +- 0.0% - auc: 84.5% +- 0.0%\n",
      "Ite 00000 - 0.11 sec - Loss 0.089082 - ACC 73.01% - ACC Mean 73.01% - AUC 79.22% - AUC Mean 79.22% - Deter 000\n",
      "Ite 00050 - 0.11 sec - Loss 0.084850 - ACC 72.29% - ACC Mean 72.49% - AUC 78.19% - AUC Mean 79.33% - Deter 036\n",
      "Ite 00100 - 0.11 sec - Loss 0.075496 - ACC 72.75% - ACC Mean 72.65% - AUC 78.06% - AUC Mean 77.98% - Deter 086\n",
      "Ite 00150 - 0.15 sec - Loss 0.063977 - ACC 71.89% - ACC Mean 71.69% - AUC 77.32% - AUC Mean 78.29% - Deter 136\n",
      "Ite 00200 - 0.12 sec - Loss 0.060037 - ACC 72.15% - ACC Mean 71.42% - AUC 78.79% - AUC Mean 79.13% - Deter 186\n",
      "Ite 00250 - 0.10 sec - Loss 0.059171 - ACC 71.84% - ACC Mean 71.41% - AUC 79.71% - AUC Mean 79.58% - Deter 041\n",
      "Ite 00300 - 0.11 sec - Loss 0.058812 - ACC 71.28% - ACC Mean 71.16% - AUC 80.00% - AUC Mean 79.73% - Deter 091\n",
      "Ite 00350 - 0.11 sec - Loss 0.058512 - ACC 69.77% - ACC Mean 70.71% - AUC 78.15% - AUC Mean 79.26% - Deter 141\n",
      "Ite 00400 - 0.11 sec - Loss 0.058180 - ACC 69.43% - ACC Mean 70.13% - AUC 77.97% - AUC Mean 78.80% - Deter 191\n",
      "Ite 00450 - 0.14 sec - Loss 0.057781 - ACC 70.31% - ACC Mean 70.07% - AUC 78.87% - AUC Mean 78.61% - Deter 241\n",
      "Ite 00500 - 0.10 sec - Loss 0.057300 - ACC 69.72% - ACC Mean 70.29% - AUC 78.18% - AUC Mean 78.81% - Deter 006\n",
      "Ite 00550 - 0.14 sec - Loss 0.056703 - ACC 72.05% - ACC Mean 71.09% - AUC 79.77% - AUC Mean 79.55% - Deter 056\n",
      "Ite 00600 - 0.11 sec - Loss 0.055970 - ACC 73.25% - ACC Mean 72.38% - AUC 80.50% - AUC Mean 80.28% - Deter 007\n",
      "Ite 00650 - 0.11 sec - Loss 0.055076 - ACC 73.48% - ACC Mean 72.45% - AUC 81.46% - AUC Mean 80.52% - Deter 021\n",
      "Ite 00700 - 0.12 sec - Loss 0.054078 - ACC 71.99% - ACC Mean 72.01% - AUC 80.17% - AUC Mean 80.32% - Deter 023\n",
      "Ite 00750 - 0.11 sec - Loss 0.053178 - ACC 71.29% - ACC Mean 71.91% - AUC 77.44% - AUC Mean 79.45% - Deter 073\n",
      "Ite 00800 - 0.10 sec - Loss 0.052295 - ACC 73.83% - ACC Mean 72.96% - AUC 79.98% - AUC Mean 79.71% - Deter 123\n",
      "Ite 00850 - 0.11 sec - Loss 0.051382 - ACC 72.74% - ACC Mean 72.53% - AUC 78.49% - AUC Mean 79.64% - Deter 173\n",
      "Ite 00900 - 0.14 sec - Loss 0.050370 - ACC 71.11% - ACC Mean 70.79% - AUC 77.88% - AUC Mean 77.91% - Deter 223\n",
      "Ite 00950 - 0.10 sec - Loss 0.049244 - ACC 69.19% - ACC Mean 70.42% - AUC 75.98% - AUC Mean 77.39% - Deter 273\n",
      "Ite 01000 - 0.11 sec - Loss 0.048147 - ACC 71.42% - ACC Mean 71.05% - AUC 75.86% - AUC Mean 77.76% - Deter 323\n",
      "Ite 01050 - 0.12 sec - Loss 0.047053 - ACC 71.63% - ACC Mean 71.43% - AUC 76.40% - AUC Mean 77.80% - Deter 373\n",
      "Ite 01077 - 0.13 sec - Loss 0.046356 - ACC 70.60% - ACC Mean 71.07% - AUC 77.49% - AUC Mean 77.63% - Deter 400\n",
      "Early stop ite 1077, rollback to correction of ite 677, whith acc of 75.39% and auc of 82.67%\n",
      "OUR METHOD RUN 6/10 - acc: 75.39% +- 0.0% - auc: 82.67% +- 0.0%\n",
      "Ite 00000 - 0.11 sec - Loss 0.088763 - ACC 71.58% - ACC Mean 71.58% - AUC 79.68% - AUC Mean 79.68% - Deter 000\n",
      "Ite 00050 - 0.13 sec - Loss 0.083722 - ACC 70.71% - ACC Mean 70.55% - AUC 77.45% - AUC Mean 78.52% - Deter 022\n",
      "Ite 00100 - 0.14 sec - Loss 0.072207 - ACC 71.00% - ACC Mean 69.70% - AUC 79.56% - AUC Mean 77.76% - Deter 072\n",
      "Ite 00150 - 0.11 sec - Loss 0.061746 - ACC 70.65% - ACC Mean 71.34% - AUC 80.08% - AUC Mean 78.92% - Deter 122\n",
      "Ite 00200 - 0.10 sec - Loss 0.059508 - ACC 70.40% - ACC Mean 71.17% - AUC 79.43% - AUC Mean 79.47% - Deter 172\n",
      "Ite 00250 - 0.13 sec - Loss 0.058933 - ACC 70.79% - ACC Mean 71.21% - AUC 80.00% - AUC Mean 79.30% - Deter 222\n",
      "Ite 00300 - 0.10 sec - Loss 0.058520 - ACC 71.77% - ACC Mean 71.26% - AUC 79.01% - AUC Mean 79.23% - Deter 272\n",
      "Ite 00350 - 0.11 sec - Loss 0.058096 - ACC 71.70% - ACC Mean 71.28% - AUC 79.53% - AUC Mean 79.24% - Deter 322\n",
      "Ite 00400 - 0.14 sec - Loss 0.057592 - ACC 69.93% - ACC Mean 70.58% - AUC 79.30% - AUC Mean 79.13% - Deter 372\n",
      "Ite 00450 - 0.12 sec - Loss 0.056969 - ACC 70.31% - ACC Mean 70.86% - AUC 79.19% - AUC Mean 79.35% - Deter 022\n",
      "Ite 00500 - 0.12 sec - Loss 0.056249 - ACC 72.00% - ACC Mean 70.93% - AUC 80.96% - AUC Mean 79.43% - Deter 024\n",
      "Ite 00550 - 0.13 sec - Loss 0.055456 - ACC 70.19% - ACC Mean 71.43% - AUC 79.69% - AUC Mean 79.84% - Deter 074\n",
      "Ite 00600 - 0.14 sec - Loss 0.054608 - ACC 70.42% - ACC Mean 70.53% - AUC 79.49% - AUC Mean 79.48% - Deter 124\n",
      "Ite 00650 - 0.12 sec - Loss 0.053703 - ACC 73.32% - ACC Mean 70.48% - AUC 78.26% - AUC Mean 78.94% - Deter 012\n",
      "Ite 00700 - 0.10 sec - Loss 0.052670 - ACC 73.15% - ACC Mean 71.02% - AUC 79.83% - AUC Mean 78.46% - Deter 062\n",
      "Ite 00750 - 0.11 sec - Loss 0.051589 - ACC 69.20% - ACC Mean 71.42% - AUC 76.13% - AUC Mean 78.62% - Deter 112\n",
      "Ite 00800 - 0.10 sec - Loss 0.050497 - ACC 70.36% - ACC Mean 71.17% - AUC 76.07% - AUC Mean 77.78% - Deter 162\n",
      "Ite 00850 - 0.14 sec - Loss 0.049363 - ACC 70.34% - ACC Mean 71.53% - AUC 78.29% - AUC Mean 77.89% - Deter 212\n",
      "Ite 00900 - 0.14 sec - Loss 0.048213 - ACC 71.56% - ACC Mean 71.73% - AUC 78.82% - AUC Mean 78.43% - Deter 006\n",
      "Ite 00950 - 0.11 sec - Loss 0.047016 - ACC 73.05% - ACC Mean 71.72% - AUC 80.26% - AUC Mean 78.46% - Deter 056\n",
      "Ite 01000 - 0.14 sec - Loss 0.045817 - ACC 71.73% - ACC Mean 71.54% - AUC 79.25% - AUC Mean 78.37% - Deter 106\n",
      "Ite 01050 - 0.11 sec - Loss 0.044596 - ACC 73.50% - ACC Mean 72.46% - AUC 80.89% - AUC Mean 78.79% - Deter 156\n",
      "Ite 01100 - 0.11 sec - Loss 0.043235 - ACC 71.18% - ACC Mean 72.57% - AUC 78.08% - AUC Mean 78.70% - Deter 014\n",
      "Ite 01150 - 0.12 sec - Loss 0.041841 - ACC 71.46% - ACC Mean 71.91% - AUC 78.99% - AUC Mean 78.54% - Deter 064\n",
      "Ite 01200 - 0.12 sec - Loss 0.040396 - ACC 73.79% - ACC Mean 72.28% - AUC 78.39% - AUC Mean 78.64% - Deter 114\n",
      "Ite 01250 - 0.12 sec - Loss 0.039019 - ACC 70.41% - ACC Mean 72.71% - AUC 76.46% - AUC Mean 79.07% - Deter 164\n",
      "Ite 01300 - 0.10 sec - Loss 0.037581 - ACC 70.63% - ACC Mean 72.48% - AUC 77.74% - AUC Mean 79.25% - Deter 214\n",
      "Ite 01350 - 0.13 sec - Loss 0.036106 - ACC 74.94% - ACC Mean 71.86% - AUC 80.46% - AUC Mean 78.68% - Deter 264\n",
      "Ite 01400 - 0.13 sec - Loss 0.034679 - ACC 72.00% - ACC Mean 72.08% - AUC 79.37% - AUC Mean 78.67% - Deter 314\n",
      "Ite 01450 - 0.11 sec - Loss 0.033298 - ACC 72.58% - ACC Mean 72.59% - AUC 79.97% - AUC Mean 79.18% - Deter 364\n",
      "Ite 01486 - 0.22 sec - Loss 0.032347 - ACC 78.22% - ACC Mean 72.62% - AUC 80.57% - AUC Mean 79.46% - Deter 400\n",
      "Early stop ite 1486, rollback to correction of ite 1086, whith acc of 76.24% and auc of 83.57%\n",
      "OUR METHOD RUN 7/10 - acc: 76.24% +- 0.0% - auc: 83.57% +- 0.0%\n",
      "Ite 00000 - 0.11 sec - Loss 0.089363 - ACC 70.42% - ACC Mean 70.42% - AUC 78.85% - AUC Mean 78.85% - Deter 000\n",
      "Ite 00050 - 0.13 sec - Loss 0.084667 - ACC 70.42% - ACC Mean 70.47% - AUC 79.02% - AUC Mean 78.51% - Deter 002\n",
      "Ite 00100 - 0.11 sec - Loss 0.075362 - ACC 74.27% - ACC Mean 73.23% - AUC 81.58% - AUC Mean 79.83% - Deter 012\n",
      "Ite 00150 - 0.12 sec - Loss 0.064264 - ACC 73.29% - ACC Mean 73.07% - AUC 80.23% - AUC Mean 80.26% - Deter 062\n",
      "Ite 00200 - 0.10 sec - Loss 0.059974 - ACC 73.29% - ACC Mean 72.87% - AUC 79.89% - AUC Mean 79.71% - Deter 112\n",
      "Ite 00250 - 0.10 sec - Loss 0.059178 - ACC 73.29% - ACC Mean 72.78% - AUC 80.21% - AUC Mean 79.59% - Deter 162\n",
      "Ite 00300 - 0.11 sec - Loss 0.058834 - ACC 71.94% - ACC Mean 72.39% - AUC 79.41% - AUC Mean 79.40% - Deter 212\n",
      "Ite 00350 - 0.11 sec - Loss 0.058512 - ACC 70.30% - ACC Mean 72.20% - AUC 77.94% - AUC Mean 79.50% - Deter 262\n",
      "Ite 00400 - 0.11 sec - Loss 0.058179 - ACC 72.50% - ACC Mean 71.86% - AUC 79.98% - AUC Mean 79.42% - Deter 312\n",
      "Ite 00450 - 0.11 sec - Loss 0.057746 - ACC 71.31% - ACC Mean 71.66% - AUC 79.57% - AUC Mean 79.50% - Deter 362\n",
      "Ite 00488 - 0.11 sec - Loss 0.057353 - ACC 72.24% - ACC Mean 72.12% - AUC 79.66% - AUC Mean 79.57% - Deter 400\n",
      "Early stop ite 488, rollback to correction of ite 88, whith acc of 74.53% and auc of 81.61%\n",
      "OUR METHOD RUN 8/10 - acc: 74.53% +- 0.0% - auc: 81.61% +- 0.0%\n",
      "Ite 00000 - 0.11 sec - Loss 0.088387 - ACC 72.29% - ACC Mean 72.29% - AUC 78.96% - AUC Mean 78.96% - Deter 000\n",
      "Ite 00050 - 0.11 sec - Loss 0.083668 - ACC 72.19% - ACC Mean 72.20% - AUC 78.66% - AUC Mean 78.98% - Deter 024\n",
      "Ite 00100 - 0.12 sec - Loss 0.072608 - ACC 71.39% - ACC Mean 72.48% - AUC 77.71% - AUC Mean 78.81% - Deter 044\n",
      "Ite 00150 - 0.11 sec - Loss 0.061907 - ACC 70.98% - ACC Mean 71.68% - AUC 78.92% - AUC Mean 78.56% - Deter 094\n",
      "Ite 00200 - 0.10 sec - Loss 0.059426 - ACC 71.63% - ACC Mean 71.60% - AUC 79.01% - AUC Mean 78.70% - Deter 144\n",
      "Ite 00250 - 0.15 sec - Loss 0.058851 - ACC 71.84% - ACC Mean 71.78% - AUC 78.36% - AUC Mean 78.63% - Deter 194\n",
      "Ite 00300 - 0.12 sec - Loss 0.058504 - ACC 71.59% - ACC Mean 71.74% - AUC 79.03% - AUC Mean 78.58% - Deter 244\n",
      "Ite 00350 - 0.12 sec - Loss 0.058137 - ACC 71.59% - ACC Mean 71.60% - AUC 78.63% - AUC Mean 78.58% - Deter 294\n",
      "Ite 00400 - 0.11 sec - Loss 0.057717 - ACC 70.93% - ACC Mean 71.41% - AUC 78.67% - AUC Mean 78.76% - Deter 344\n",
      "Ite 00450 - 0.11 sec - Loss 0.057185 - ACC 71.77% - ACC Mean 71.55% - AUC 79.00% - AUC Mean 78.96% - Deter 034\n",
      "Ite 00500 - 0.11 sec - Loss 0.056568 - ACC 71.38% - ACC Mean 71.53% - AUC 78.56% - AUC Mean 78.90% - Deter 084\n",
      "Ite 00550 - 0.11 sec - Loss 0.055859 - ACC 71.89% - ACC Mean 71.82% - AUC 78.84% - AUC Mean 79.00% - Deter 134\n",
      "Ite 00600 - 0.13 sec - Loss 0.055039 - ACC 71.03% - ACC Mean 71.82% - AUC 79.81% - AUC Mean 79.15% - Deter 012\n",
      "Ite 00650 - 0.10 sec - Loss 0.054169 - ACC 73.10% - ACC Mean 72.28% - AUC 79.25% - AUC Mean 79.94% - Deter 005\n",
      "Ite 00700 - 0.10 sec - Loss 0.053274 - ACC 71.98% - ACC Mean 72.24% - AUC 78.73% - AUC Mean 79.69% - Deter 055\n",
      "Ite 00750 - 0.11 sec - Loss 0.052378 - ACC 72.52% - ACC Mean 72.64% - AUC 79.21% - AUC Mean 79.83% - Deter 105\n",
      "Ite 00800 - 0.11 sec - Loss 0.051458 - ACC 73.87% - ACC Mean 72.85% - AUC 79.96% - AUC Mean 79.77% - Deter 155\n",
      "Ite 00850 - 0.11 sec - Loss 0.050449 - ACC 73.82% - ACC Mean 73.26% - AUC 80.82% - AUC Mean 80.12% - Deter 205\n",
      "Ite 00900 - 0.11 sec - Loss 0.049433 - ACC 73.66% - ACC Mean 73.67% - AUC 79.12% - AUC Mean 79.86% - Deter 255\n",
      "Ite 00950 - 0.11 sec - Loss 0.048317 - ACC 76.35% - ACC Mean 74.70% - AUC 80.64% - AUC Mean 80.48% - Deter 305\n",
      "Ite 01000 - 0.11 sec - Loss 0.047068 - ACC 76.39% - ACC Mean 75.05% - AUC 80.55% - AUC Mean 80.69% - Deter 042\n",
      "Ite 01050 - 0.10 sec - Loss 0.045723 - ACC 75.69% - ACC Mean 75.30% - AUC 80.47% - AUC Mean 81.00% - Deter 092\n",
      "Ite 01100 - 0.11 sec - Loss 0.044268 - ACC 75.48% - ACC Mean 74.90% - AUC 81.75% - AUC Mean 80.96% - Deter 142\n",
      "Ite 01150 - 0.11 sec - Loss 0.042688 - ACC 73.13% - ACC Mean 73.74% - AUC 80.51% - AUC Mean 80.47% - Deter 192\n",
      "Ite 01200 - 0.12 sec - Loss 0.041105 - ACC 72.24% - ACC Mean 73.00% - AUC 79.43% - AUC Mean 80.02% - Deter 242\n",
      "Ite 01250 - 0.10 sec - Loss 0.039558 - ACC 72.95% - ACC Mean 72.93% - AUC 78.90% - AUC Mean 79.54% - Deter 292\n",
      "Ite 01300 - 0.17 sec - Loss 0.038047 - ACC 73.07% - ACC Mean 73.30% - AUC 79.40% - AUC Mean 79.37% - Deter 342\n",
      "Ite 01350 - 0.11 sec - Loss 0.036523 - ACC 69.93% - ACC Mean 72.11% - AUC 77.35% - AUC Mean 78.89% - Deter 392\n",
      "Ite 01358 - 0.11 sec - Loss 0.036301 - ACC 70.83% - ACC Mean 72.03% - AUC 77.09% - AUC Mean 78.84% - Deter 400\n",
      "Early stop ite 1358, rollback to correction of ite 958, whith acc of 76.56% and auc of 82.47%\n",
      "OUR METHOD RUN 9/10 - acc: 76.56% +- 0.0% - auc: 82.47% +- 0.0%\n",
      "Ite 00000 - 0.13 sec - Loss 0.088703 - ACC 68.93% - ACC Mean 68.93% - AUC 75.77% - AUC Mean 75.77% - Deter 000\n",
      "Ite 00050 - 0.21 sec - Loss 0.084069 - ACC 69.26% - ACC Mean 70.85% - AUC 75.81% - AUC Mean 77.34% - Deter 038\n",
      "Ite 00100 - 0.24 sec - Loss 0.073797 - ACC 70.21% - ACC Mean 70.31% - AUC 77.78% - AUC Mean 77.60% - Deter 088\n",
      "Ite 00150 - 0.16 sec - Loss 0.063531 - ACC 70.42% - ACC Mean 71.25% - AUC 78.39% - AUC Mean 78.48% - Deter 015\n",
      "Ite 00200 - 0.15 sec - Loss 0.060386 - ACC 69.61% - ACC Mean 70.62% - AUC 78.73% - AUC Mean 78.99% - Deter 006\n",
      "Ite 00250 - 0.11 sec - Loss 0.059440 - ACC 70.16% - ACC Mean 70.16% - AUC 79.07% - AUC Mean 78.98% - Deter 020\n",
      "Ite 00300 - 0.20 sec - Loss 0.058988 - ACC 69.65% - ACC Mean 69.90% - AUC 79.10% - AUC Mean 78.93% - Deter 070\n",
      "Ite 00350 - 0.11 sec - Loss 0.058650 - ACC 69.95% - ACC Mean 69.72% - AUC 79.10% - AUC Mean 78.86% - Deter 009\n",
      "Ite 00400 - 0.10 sec - Loss 0.058312 - ACC 69.65% - ACC Mean 69.90% - AUC 79.35% - AUC Mean 79.06% - Deter 059\n",
      "Ite 00450 - 0.17 sec - Loss 0.057896 - ACC 69.70% - ACC Mean 70.14% - AUC 78.63% - AUC Mean 79.16% - Deter 109\n",
      "Ite 00500 - 0.14 sec - Loss 0.057399 - ACC 69.70% - ACC Mean 70.25% - AUC 78.59% - AUC Mean 79.06% - Deter 030\n",
      "Ite 00550 - 0.11 sec - Loss 0.056796 - ACC 69.05% - ACC Mean 69.67% - AUC 77.37% - AUC Mean 77.90% - Deter 080\n",
      "Ite 00600 - 0.15 sec - Loss 0.056041 - ACC 68.93% - ACC Mean 69.92% - AUC 76.72% - AUC Mean 77.64% - Deter 130\n",
      "Ite 00650 - 0.12 sec - Loss 0.055241 - ACC 70.82% - ACC Mean 70.27% - AUC 77.38% - AUC Mean 77.72% - Deter 180\n",
      "Ite 00700 - 0.10 sec - Loss 0.054351 - ACC 70.37% - ACC Mean 70.12% - AUC 78.08% - AUC Mean 77.49% - Deter 230\n",
      "Ite 00750 - 0.14 sec - Loss 0.053449 - ACC 69.24% - ACC Mean 70.01% - AUC 76.86% - AUC Mean 77.67% - Deter 280\n",
      "Ite 00800 - 0.10 sec - Loss 0.052537 - ACC 72.51% - ACC Mean 70.74% - AUC 79.39% - AUC Mean 78.78% - Deter 023\n",
      "Ite 00850 - 0.12 sec - Loss 0.051613 - ACC 72.66% - ACC Mean 71.54% - AUC 78.92% - AUC Mean 79.23% - Deter 073\n",
      "Ite 00900 - 0.11 sec - Loss 0.050708 - ACC 71.69% - ACC Mean 71.39% - AUC 79.31% - AUC Mean 78.82% - Deter 123\n",
      "Ite 00950 - 0.10 sec - Loss 0.049791 - ACC 69.71% - ACC Mean 71.65% - AUC 76.74% - AUC Mean 78.45% - Deter 173\n",
      "Ite 01000 - 0.15 sec - Loss 0.048815 - ACC 69.39% - ACC Mean 71.60% - AUC 77.50% - AUC Mean 78.41% - Deter 223\n",
      "Ite 01050 - 0.13 sec - Loss 0.047794 - ACC 71.77% - ACC Mean 71.49% - AUC 80.73% - AUC Mean 78.50% - Deter 273\n",
      "Ite 01100 - 0.11 sec - Loss 0.046543 - ACC 69.99% - ACC Mean 71.56% - AUC 77.96% - AUC Mean 79.18% - Deter 008\n",
      "Ite 01150 - 0.13 sec - Loss 0.045292 - ACC 71.98% - ACC Mean 71.41% - AUC 79.37% - AUC Mean 79.30% - Deter 058\n",
      "Ite 01200 - 0.14 sec - Loss 0.044103 - ACC 70.51% - ACC Mean 71.09% - AUC 79.25% - AUC Mean 79.32% - Deter 108\n",
      "Ite 01250 - 0.12 sec - Loss 0.042921 - ACC 73.05% - ACC Mean 71.05% - AUC 80.50% - AUC Mean 79.47% - Deter 158\n",
      "Ite 01300 - 0.13 sec - Loss 0.041696 - ACC 73.63% - ACC Mean 70.93% - AUC 80.26% - AUC Mean 79.80% - Deter 208\n",
      "Ite 01350 - 0.11 sec - Loss 0.040512 - ACC 69.93% - ACC Mean 71.11% - AUC 79.65% - AUC Mean 79.60% - Deter 258\n",
      "Ite 01400 - 0.16 sec - Loss 0.039243 - ACC 72.48% - ACC Mean 71.65% - AUC 81.81% - AUC Mean 79.98% - Deter 308\n",
      "Ite 01450 - 0.27 sec - Loss 0.038069 - ACC 72.30% - ACC Mean 71.92% - AUC 82.21% - AUC Mean 80.13% - Deter 358\n",
      "Ite 01492 - 0.15 sec - Loss 0.037011 - ACC 74.03% - ACC Mean 71.98% - AUC 80.82% - AUC Mean 80.51% - Deter 400\n",
      "Early stop ite 1492, rollback to correction of ite 1092, whith acc of 73.66% and auc of 82.43%\n",
      "OUR METHOD RUN 10/10 - acc: 73.66% +- 0.0% - auc: 82.43% +- 0.0%\n",
      "\n",
      "OUR METHOD GLOBAL - acc: 74.41% +- 1.34% - auc: 82.13% +- 1.19%\n"
     ]
    }
   ],
   "source": [
    "params = {\n",
    "    'nb_batches': 10,\n",
    "    'reg_noise_std': .03,\n",
    "    'net_input': 'data_corrupted',\n",
    "    'net_params': [80, 80],\n",
    "    'adam_lr': .0001,\n",
    "    'adam_weight_decay': 0.,\n",
    "}\n",
    "\n",
    "ours_accs, ours_aucs = [], []\n",
    "for i in range(n_runs):\n",
    "    ours_correction = correction.run(data_missing, 4001, params, y=y, missing_mask=missing_mask, seed=i)\n",
    "    ## Since our method returns 2 imputations select the best one\n",
    "    scores_raw = utils.get_scores(ours_correction['raw_out'], y)\n",
    "    acc = scores_raw['test_balanced_accuracy']\n",
    "    auc = scores_raw['test_roc_auc_ovo']\n",
    "    acc = acc.mean()\n",
    "    acc_std = acc.std()\n",
    "    auc = auc.mean()\n",
    "    auc_std = auc.std()\n",
    "    if 'masked_out' in ours_correction:\n",
    "        scores_masked = utils.get_scores(ours_correction['masked_out'], y)\n",
    "        acc_masked = scores_masked['test_balanced_accuracy']\n",
    "        auc_masked = scores_masked['test_roc_auc_ovo']\n",
    "        if auc_masked.mean() > auc:\n",
    "            acc = acc_masked.mean()\n",
    "            acc_std = acc_masked.std()\n",
    "            auc = auc_masked.mean()\n",
    "            auc_std = auc_masked.std()\n",
    "    print(f'OUR METHOD RUN {i + 1}/{n_runs} - acc: {round(acc.mean() * 100, 2)}% +- {round(acc.std() * 100, 2)}% - ' +\n",
    "          f'auc: {round(auc.mean() * 100, 2)}% +- {round(auc.std() * 100, 2)}%')\n",
    "    ours_accs.append(acc.mean())\n",
    "    ours_aucs.append(auc.mean())\n",
    "print(f'\\nOUR METHOD GLOBAL - acc: {round(np.array(ours_accs).mean() * 100, 2)}% +- {round(np.array(ours_accs).std() * 100, 2)}% - ' +\n",
    "      f'auc: {round(np.array(ours_aucs).mean() * 100, 2)}% +- {round(np.array(ours_aucs).std() * 100, 2)}%')"
   ]
  },
  {
   "cell_type": "markdown",
   "metadata": {},
   "source": [
    "## Run Median, Mean and KNN"
   ]
  },
  {
   "cell_type": "code",
   "execution_count": 5,
   "metadata": {
    "ExecuteTime": {
     "end_time": "2022-06-03T15:23:05.488483Z",
     "start_time": "2022-06-03T15:23:05.488473Z"
    },
    "execution": {
     "iopub.execute_input": "2022-06-04T07:36:07.443635Z",
     "iopub.status.busy": "2022-06-04T07:36:07.443111Z",
     "iopub.status.idle": "2022-06-04T07:36:07.900597Z",
     "shell.execute_reply": "2022-06-04T07:36:07.899779Z"
    }
   },
   "outputs": [
    {
     "name": "stdout",
     "output_type": "stream",
     "text": [
      "MEDIAN - acc: 72.24% +- 0.0% - auc: 78.79% +- 0.0%\n",
      "MEAN - acc: 71.73% +- 0.0% - auc: 78.94% +- 0.0%\n",
      "KNN - acc: 74.49% +- 0.0% - auc: 81.73% +- 0.0%\n"
     ]
    }
   ],
   "source": [
    "data_missing_nans = np.where(missing_mask, data_missing, np.nan)\n",
    "\n",
    "median_imputer = SimpleImputer(missing_values=np.nan, strategy='median')\n",
    "mean_imputer = SimpleImputer(missing_values=np.nan, strategy='mean')\n",
    "knn_imputer = KNNImputer(n_neighbors=10, weights='uniform')\n",
    "\n",
    "median_completed = median_imputer.fit_transform(data_missing_nans)\n",
    "mean_completed = mean_imputer.fit_transform(data_missing_nans)\n",
    "knn_completed = knn_imputer.fit_transform(data_missing_nans)\n",
    "\n",
    "## All runs would be the same since deterministic methods\n",
    "scores = utils.get_scores(median_completed, y)\n",
    "acc = [scores['test_balanced_accuracy'].mean()] * n_runs\n",
    "auc = [scores['test_roc_auc_ovo'].mean()] * n_runs\n",
    "print(f'MEDIAN - acc: {round(np.mean(acc) * 100, 2)}% +- {round(np.std(acc) * 100, 2)}% - ' +\n",
    "      f'auc: {round(np.mean(auc) * 100, 2)}% +- {round(np.std(auc) * 100, 2)}%')\n",
    "median_accs = acc\n",
    "median_aucs = auc\n",
    "\n",
    "scores = utils.get_scores(mean_completed, y)\n",
    "acc = [scores['test_balanced_accuracy'].mean()] * n_runs\n",
    "auc = [scores['test_roc_auc_ovo'].mean()] * n_runs\n",
    "print(f'MEAN - acc: {round(np.mean(acc) * 100, 2)}% +- {round(np.std(acc) * 100, 2)}% - ' +\n",
    "      f'auc: {round(np.mean(auc) * 100, 2)}% +- {round(np.std(auc) * 100, 2)}%')\n",
    "mean_accs = acc\n",
    "mean_aucs = auc\n",
    "\n",
    "scores = utils.get_scores(knn_completed, y)\n",
    "acc = [scores['test_balanced_accuracy'].mean()] * n_runs\n",
    "auc = [scores['test_roc_auc_ovo'].mean()] * n_runs\n",
    "print(f'KNN - acc: {round(np.mean(acc) * 100, 2)}% +- {round(np.std(acc) * 100, 2)}% - ' +\n",
    "      f'auc: {round(np.mean(auc) * 100, 2)}% +- {round(np.std(auc) * 100, 2)}%')\n",
    "knn_accs = acc\n",
    "knn_aucs = auc"
   ]
  },
  {
   "cell_type": "markdown",
   "metadata": {},
   "source": [
    "## Run GAIN"
   ]
  },
  {
   "cell_type": "code",
   "execution_count": 6,
   "metadata": {
    "ExecuteTime": {
     "end_time": "2022-06-03T15:23:05.489380Z",
     "start_time": "2022-06-03T15:23:05.489371Z"
    },
    "execution": {
     "iopub.execute_input": "2022-06-04T07:36:07.916082Z",
     "iopub.status.busy": "2022-06-04T07:36:07.910393Z",
     "iopub.status.idle": "2022-06-04T07:42:41.140507Z",
     "shell.execute_reply": "2022-06-04T07:42:41.139986Z"
    },
    "scrolled": false
   },
   "outputs": [
    {
     "name": "stderr",
     "output_type": "stream",
     "text": [
      "100%|██████████| 5000/5000 [00:39<00:00, 126.62it/s]\n"
     ]
    },
    {
     "name": "stdout",
     "output_type": "stream",
     "text": [
      "\n",
      "GAIN RUN 1/10 - acc: 75.84% +- 7.54% - auc: 79.68% +- 5.67%\n",
      "\n"
     ]
    },
    {
     "name": "stderr",
     "output_type": "stream",
     "text": [
      "100%|██████████| 5000/5000 [00:32<00:00, 152.82it/s]\n"
     ]
    },
    {
     "name": "stdout",
     "output_type": "stream",
     "text": [
      "\n",
      "GAIN RUN 2/10 - acc: 76.31% +- 6.61% - auc: 82.21% +- 2.47%\n",
      "\n"
     ]
    },
    {
     "name": "stderr",
     "output_type": "stream",
     "text": [
      "100%|██████████| 5000/5000 [00:37<00:00, 132.81it/s]\n"
     ]
    },
    {
     "name": "stdout",
     "output_type": "stream",
     "text": [
      "\n",
      "GAIN RUN 3/10 - acc: 74.75% +- 7.17% - auc: 79.02% +- 6.52%\n",
      "\n"
     ]
    },
    {
     "name": "stderr",
     "output_type": "stream",
     "text": [
      "100%|██████████| 5000/5000 [00:38<00:00, 130.97it/s]\n"
     ]
    },
    {
     "name": "stdout",
     "output_type": "stream",
     "text": [
      "\n",
      "GAIN RUN 4/10 - acc: 71.14% +- 6.36% - auc: 80.03% +- 3.46%\n",
      "\n"
     ]
    },
    {
     "name": "stderr",
     "output_type": "stream",
     "text": [
      "100%|██████████| 5000/5000 [00:37<00:00, 133.04it/s]\n"
     ]
    },
    {
     "name": "stdout",
     "output_type": "stream",
     "text": [
      "\n",
      "GAIN RUN 5/10 - acc: 75.53% +- 8.88% - auc: 79.86% +- 4.16%\n",
      "\n"
     ]
    },
    {
     "name": "stderr",
     "output_type": "stream",
     "text": [
      "100%|██████████| 5000/5000 [00:34<00:00, 143.39it/s]\n"
     ]
    },
    {
     "name": "stdout",
     "output_type": "stream",
     "text": [
      "\n",
      "GAIN RUN 6/10 - acc: 76.88% +- 4.86% - auc: 82.5% +- 3.63%\n",
      "\n"
     ]
    },
    {
     "name": "stderr",
     "output_type": "stream",
     "text": [
      "100%|██████████| 5000/5000 [00:37<00:00, 134.68it/s]\n"
     ]
    },
    {
     "name": "stdout",
     "output_type": "stream",
     "text": [
      "\n",
      "GAIN RUN 7/10 - acc: 74.89% +- 4.91% - auc: 78.54% +- 4.74%\n",
      "\n"
     ]
    },
    {
     "name": "stderr",
     "output_type": "stream",
     "text": [
      "100%|██████████| 5000/5000 [00:35<00:00, 139.98it/s]\n"
     ]
    },
    {
     "name": "stdout",
     "output_type": "stream",
     "text": [
      "\n",
      "GAIN RUN 8/10 - acc: 77.13% +- 7.17% - auc: 81.57% +- 4.65%\n",
      "\n"
     ]
    },
    {
     "name": "stderr",
     "output_type": "stream",
     "text": [
      "100%|██████████| 5000/5000 [00:36<00:00, 135.44it/s]\n"
     ]
    },
    {
     "name": "stdout",
     "output_type": "stream",
     "text": [
      "\n",
      "GAIN RUN 9/10 - acc: 78.41% +- 4.42% - auc: 82.07% +- 4.04%\n",
      "\n"
     ]
    },
    {
     "name": "stderr",
     "output_type": "stream",
     "text": [
      "100%|██████████| 5000/5000 [00:40<00:00, 122.39it/s]\n"
     ]
    },
    {
     "name": "stdout",
     "output_type": "stream",
     "text": [
      "\n",
      "GAIN RUN 10/10 - acc: 72.7% +- 6.43% - auc: 76.47% +- 7.5%\n",
      "\n",
      "GAIN GLOBAL - acc: 75.36% +- 2.03% - auc: 80.19% +- 1.82%\n"
     ]
    }
   ],
   "source": [
    "gain_parameters = {'batch_size': 128,\n",
    "                   'hint_rate': .9,\n",
    "                   'alpha': 100,\n",
    "                   'iterations': 5000}\n",
    "\n",
    "gain_accs, gain_aucs = [], []\n",
    "for i in range(n_runs):\n",
    "    random.seed(i)\n",
    "    np.random.seed(i)\n",
    "    torch.manual_seed(i)\n",
    "    imputed = gain(data_missing_nans, gain_parameters)\n",
    "    scores = utils.get_scores(imputed, y)\n",
    "    acc = scores['test_balanced_accuracy']\n",
    "    auc = scores['test_roc_auc_ovo']\n",
    "    print(f'\\nGAIN RUN {i + 1}/{n_runs} - acc: {round(acc.mean() * 100, 2)}% +- {round(acc.std() * 100, 2)}% - ' +\n",
    "          f'auc: {round(auc.mean() * 100, 2)}% +- {round(auc.std() * 100, 2)}%\\n')\n",
    "    gain_accs.append(acc.mean())\n",
    "    gain_aucs.append(auc.mean())\n",
    "print(f'GAIN GLOBAL - acc: {round(np.array(gain_accs).mean() * 100, 2)}% +- {round(np.array(gain_accs).std() * 100, 2)}% - ' +\n",
    "      f'auc: {round(np.array(gain_aucs).mean() * 100, 2)}% +- {round(np.array(gain_aucs).std() * 100, 2)}%')"
   ]
  },
  {
   "cell_type": "markdown",
   "metadata": {},
   "source": [
    "## Run MICE"
   ]
  },
  {
   "cell_type": "code",
   "execution_count": 7,
   "metadata": {
    "ExecuteTime": {
     "end_time": "2022-06-03T15:23:05.489983Z",
     "start_time": "2022-06-03T15:23:05.489973Z"
    },
    "execution": {
     "iopub.execute_input": "2022-06-04T07:42:41.148368Z",
     "iopub.status.busy": "2022-06-04T07:42:41.147926Z",
     "iopub.status.idle": "2022-06-04T07:43:56.171644Z",
     "shell.execute_reply": "2022-06-04T07:43:56.172003Z"
    }
   },
   "outputs": [
    {
     "name": "stdout",
     "output_type": "stream",
     "text": [
      "MICE - acc: 70.99% +- 0.0% - auc: 78.35% +- 0.0%\n"
     ]
    }
   ],
   "source": [
    "imputer = IterativeImputer()\n",
    "imputed = imputer.fit_transform(data_missing_nans)\n",
    "## All runs would be the same since deterministic method\n",
    "scores = utils.get_scores(imputed, y)\n",
    "acc = [scores['test_balanced_accuracy'].mean()] * n_runs\n",
    "auc = [scores['test_roc_auc_ovo'].mean()] * n_runs\n",
    "print(f'MICE - acc: {round(np.mean(acc) * 100, 2)}% +- {round(np.std(acc) * 100, 2)}% - ' +\n",
    "      f'auc: {round(np.mean(auc) * 100, 2)}% +- {round(np.std(auc) * 100, 2)}%')\n",
    "mice_accs = acc\n",
    "mice_aucs = auc"
   ]
  },
  {
   "cell_type": "markdown",
   "metadata": {},
   "source": [
    "## Run MISSFOREST"
   ]
  },
  {
   "cell_type": "code",
   "execution_count": 8,
   "metadata": {
    "ExecuteTime": {
     "end_time": "2022-06-03T15:23:05.490726Z",
     "start_time": "2022-06-03T15:23:05.490717Z"
    },
    "execution": {
     "iopub.execute_input": "2022-06-04T07:43:56.188168Z",
     "iopub.status.busy": "2022-06-04T07:43:56.187707Z",
     "iopub.status.idle": "2022-06-04T08:52:38.096437Z",
     "shell.execute_reply": "2022-06-04T08:52:38.096909Z"
    },
    "scrolled": false
   },
   "outputs": [
    {
     "name": "stdout",
     "output_type": "stream",
     "text": [
      "Iteration: 0\n",
      "Iteration: 1\n",
      "Iteration: 2\n",
      "Iteration: 3\n",
      "Iteration: 4\n",
      "\n",
      "MISSFOREST RUN 1/10 - acc: 72.47% +- 2.91% - auc: 77.57% +- 4.18%\n",
      "\n",
      "Iteration: 0\n",
      "Iteration: 1\n",
      "Iteration: 2\n",
      "Iteration: 3\n",
      "Iteration: 4\n",
      "Iteration: 5\n",
      "Iteration: 6\n",
      "\n",
      "MISSFOREST RUN 2/10 - acc: 71.5% +- 2.97% - auc: 78.14% +- 3.47%\n",
      "\n",
      "Iteration: 0\n",
      "Iteration: 1\n",
      "Iteration: 2\n",
      "Iteration: 3\n",
      "Iteration: 4\n",
      "Iteration: 5\n",
      "\n",
      "MISSFOREST RUN 3/10 - acc: 71.55% +- 5.35% - auc: 80.09% +- 5.42%\n",
      "\n",
      "Iteration: 0\n",
      "Iteration: 1\n",
      "Iteration: 2\n",
      "Iteration: 3\n",
      "\n",
      "MISSFOREST RUN 4/10 - acc: 70.86% +- 5.23% - auc: 78.03% +- 4.86%\n",
      "\n",
      "Iteration: 0\n",
      "Iteration: 1\n",
      "Iteration: 2\n",
      "Iteration: 3\n",
      "Iteration: 4\n",
      "Iteration: 5\n",
      "Iteration: 6\n",
      "\n",
      "MISSFOREST RUN 5/10 - acc: 72.36% +- 3.4% - auc: 79.91% +- 4.44%\n",
      "\n",
      "Iteration: 0\n",
      "Iteration: 1\n",
      "Iteration: 2\n",
      "Iteration: 3\n",
      "Iteration: 4\n",
      "Iteration: 5\n",
      "Iteration: 6\n",
      "Iteration: 7\n",
      "Iteration: 8\n",
      "\n",
      "MISSFOREST RUN 6/10 - acc: 70.9% +- 5.76% - auc: 78.97% +- 6.03%\n",
      "\n",
      "Iteration: 0\n",
      "Iteration: 1\n",
      "Iteration: 2\n",
      "Iteration: 3\n",
      "Iteration: 4\n",
      "Iteration: 5\n",
      "Iteration: 6\n",
      "Iteration: 7\n",
      "\n",
      "MISSFOREST RUN 7/10 - acc: 74.09% +- 4.63% - auc: 79.85% +- 5.44%\n",
      "\n",
      "Iteration: 0\n",
      "Iteration: 1\n",
      "Iteration: 2\n",
      "Iteration: 3\n",
      "Iteration: 4\n",
      "Iteration: 5\n",
      "\n",
      "MISSFOREST RUN 8/10 - acc: 69.19% +- 4.09% - auc: 77.9% +- 4.59%\n",
      "\n",
      "Iteration: 0\n",
      "Iteration: 1\n",
      "Iteration: 2\n",
      "Iteration: 3\n",
      "Iteration: 4\n",
      "Iteration: 5\n",
      "Iteration: 6\n",
      "\n",
      "MISSFOREST RUN 9/10 - acc: 70.17% +- 3.81% - auc: 78.95% +- 3.15%\n",
      "\n",
      "Iteration: 0\n",
      "Iteration: 1\n",
      "Iteration: 2\n",
      "Iteration: 3\n",
      "Iteration: 4\n",
      "Iteration: 5\n",
      "Iteration: 6\n",
      "Iteration: 7\n",
      "\n",
      "MISSFOREST RUN 10/10 - acc: 71.44% +- 5.91% - auc: 78.08% +- 7.75%\n",
      "\n",
      "\n",
      "MISSFOREST GLOBAL - acc: 71.45% +- 1.27% - auc: 78.75% +- 0.89%\n"
     ]
    }
   ],
   "source": [
    "miss_accs, miss_aucs = [], []\n",
    "for i in range(n_runs):\n",
    "    random.seed(i)\n",
    "    np.random.seed(i)\n",
    "    torch.manual_seed(i)\n",
    "    imputer = MissForest(n_jobs=-1, random_state=i)\n",
    "    imputed = imputer.fit_transform(data_missing_nans)\n",
    "    scores = utils.get_scores(imputed, y)\n",
    "    acc = scores['test_balanced_accuracy']\n",
    "    auc = scores['test_roc_auc_ovo']\n",
    "    print(f'\\nMISSFOREST RUN {i + 1}/{n_runs} - acc: {round(acc.mean() * 100, 2)}% +- {round(acc.std() * 100, 2)}% - ' +\n",
    "          f'auc: {round(auc.mean() * 100, 2)}% +- {round(auc.std() * 100, 2)}%\\n')\n",
    "    miss_accs.append(acc.mean())\n",
    "    miss_aucs.append(auc.mean())\n",
    "print(f'\\nMISSFOREST GLOBAL - acc: {round(np.array(miss_accs).mean() * 100, 2)}% +- {round(np.array(miss_accs).std() * 100, 2)}% - ' +\n",
    "      f'auc: {round(np.array(miss_aucs).mean() * 100, 2)}% +- {round(np.array(miss_aucs).std() * 100, 2)}%')"
   ]
  },
  {
   "cell_type": "markdown",
   "metadata": {},
   "source": [
    "## Run SOFTIMPUTE"
   ]
  },
  {
   "cell_type": "code",
   "execution_count": 9,
   "metadata": {
    "ExecuteTime": {
     "end_time": "2022-06-03T15:23:05.491327Z",
     "start_time": "2022-06-03T15:23:05.491318Z"
    },
    "execution": {
     "iopub.execute_input": "2022-06-04T08:52:38.112514Z",
     "iopub.status.busy": "2022-06-04T08:52:38.104921Z",
     "iopub.status.idle": "2022-06-04T08:52:39.423030Z",
     "shell.execute_reply": "2022-06-04T08:52:39.422587Z"
    }
   },
   "outputs": [
    {
     "name": "stdout",
     "output_type": "stream",
     "text": [
      "SOFTIMPUTE RUN 1/10 - acc: 76.23% +- 3.48% - auc: 82.13% +- 2.44%\n",
      "SOFTIMPUTE RUN 2/10 - acc: 72.55% +- 4.91% - auc: 79.93% +- 5.37%\n",
      "SOFTIMPUTE RUN 3/10 - acc: 73.93% +- 3.59% - auc: 80.24% +- 4.18%\n",
      "SOFTIMPUTE RUN 4/10 - acc: 72.58% +- 4.82% - auc: 80.66% +- 5.62%\n",
      "SOFTIMPUTE RUN 5/10 - acc: 75.13% +- 2.88% - auc: 81.26% +- 2.69%\n",
      "SOFTIMPUTE RUN 6/10 - acc: 73.87% +- 1.1% - auc: 82.29% +- 2.07%\n",
      "SOFTIMPUTE RUN 7/10 - acc: 74.79% +- 3.51% - auc: 79.54% +- 3.68%\n",
      "SOFTIMPUTE RUN 8/10 - acc: 70.41% +- 3.99% - auc: 77.17% +- 3.26%\n",
      "SOFTIMPUTE RUN 9/10 - acc: 76.57% +- 4.63% - auc: 80.75% +- 2.42%\n",
      "SOFTIMPUTE RUN 10/10 - acc: 77.43% +- 2.27% - auc: 83.44% +- 1.79%\n",
      "\n",
      "SOFTIMPUTE GLOBAL - acc: 74.35% +- 2.02% - auc: 80.74% +- 1.64%\n"
     ]
    }
   ],
   "source": [
    "soft_accs, soft_aucs = [], []\n",
    "for i in range(n_runs):\n",
    "    random.seed(i)\n",
    "    np.random.seed(i)\n",
    "    torch.manual_seed(i)\n",
    "    imputer = SoftImpute(random_state=i)\n",
    "    imputer.fit(data_missing_nans)\n",
    "    imputed = imputer.predict(data_missing_nans)\n",
    "    imputed = np.where(missing_mask, data_missing, imputed)\n",
    "    scores = utils.get_scores(imputed, y)\n",
    "    acc = scores['test_balanced_accuracy']\n",
    "    auc = scores['test_roc_auc_ovo']\n",
    "    print(f'SOFTIMPUTE RUN {i + 1}/{n_runs} - acc: {round(acc.mean() * 100, 2)}% +- {round(acc.std() * 100, 2)}% - ' +\n",
    "          f'auc: {round(auc.mean() * 100, 2)}% +- {round(auc.std() * 100, 2)}%')\n",
    "    soft_accs.append(acc.mean())\n",
    "    soft_aucs.append(auc.mean())\n",
    "print(f'\\nSOFTIMPUTE GLOBAL - acc: {round(np.array(soft_accs).mean() * 100, 2)}% +- {round(np.array(soft_accs).std() * 100, 2)}% - ' +\n",
    "      f'auc: {round(np.array(soft_aucs).mean() * 100, 2)}% +- {round(np.array(soft_aucs).std() * 100, 2)}%')"
   ]
  },
  {
   "cell_type": "markdown",
   "metadata": {},
   "source": [
    "## Run SINKHORN"
   ]
  },
  {
   "cell_type": "code",
   "execution_count": 10,
   "metadata": {
    "ExecuteTime": {
     "end_time": "2022-06-03T15:23:05.491915Z",
     "start_time": "2022-06-03T15:23:05.491906Z"
    },
    "execution": {
     "iopub.execute_input": "2022-06-04T08:52:39.429974Z",
     "iopub.status.busy": "2022-06-04T08:52:39.429472Z",
     "iopub.status.idle": "2022-06-04T08:58:30.516765Z",
     "shell.execute_reply": "2022-06-04T08:58:30.517315Z"
    }
   },
   "outputs": [
    {
     "name": "stdout",
     "output_type": "stream",
     "text": [
      "batchsize = 128, epsilon = 0.0100\n",
      "Iteration 0:\t Loss: 2.4114\n",
      "\n",
      "SINKHORN RUN 1/10 - acc: 73.34% +- 3.64% - auc: 79.52% +- 2.76%\n",
      "\n",
      "batchsize = 128, epsilon = 0.0100\n",
      "Iteration 0:\t Loss: 2.2672\n",
      "\n",
      "SINKHORN RUN 2/10 - acc: 73.28% +- 3.58% - auc: 80.0% +- 4.53%\n",
      "\n",
      "batchsize = 128, epsilon = 0.0100\n",
      "Iteration 0:\t Loss: 2.2777\n",
      "\n",
      "SINKHORN RUN 3/10 - acc: 73.92% +- 4.65% - auc: 82.04% +- 2.66%\n",
      "\n",
      "batchsize = 128, epsilon = 0.0100\n",
      "Iteration 0:\t Loss: 2.1077\n",
      "\n",
      "SINKHORN RUN 4/10 - acc: 76.25% +- 1.36% - auc: 81.73% +- 3.12%\n",
      "\n",
      "batchsize = 128, epsilon = 0.0100\n",
      "Iteration 0:\t Loss: 2.4741\n",
      "\n",
      "SINKHORN RUN 5/10 - acc: 74.67% +- 4.12% - auc: 79.94% +- 3.74%\n",
      "\n",
      "batchsize = 128, epsilon = 0.0100\n",
      "Iteration 0:\t Loss: 2.4108\n",
      "\n",
      "SINKHORN RUN 6/10 - acc: 73.65% +- 2.74% - auc: 81.38% +- 3.89%\n",
      "\n",
      "batchsize = 128, epsilon = 0.0100\n",
      "Iteration 0:\t Loss: 2.1520\n",
      "\n",
      "SINKHORN RUN 7/10 - acc: 73.08% +- 3.45% - auc: 79.65% +- 1.47%\n",
      "\n",
      "batchsize = 128, epsilon = 0.0100\n",
      "Iteration 0:\t Loss: 2.2293\n",
      "\n",
      "SINKHORN RUN 8/10 - acc: 75.24% +- 0.95% - auc: 81.65% +- 2.77%\n",
      "\n",
      "batchsize = 128, epsilon = 0.0100\n",
      "Iteration 0:\t Loss: 2.2610\n",
      "\n",
      "SINKHORN RUN 9/10 - acc: 74.88% +- 3.93% - auc: 80.07% +- 4.7%\n",
      "\n",
      "batchsize = 128, epsilon = 0.0100\n",
      "Iteration 0:\t Loss: 2.2095\n",
      "\n",
      "SINKHORN RUN 10/10 - acc: 71.7% +- 3.48% - auc: 78.84% +- 2.64%\n",
      "\n",
      "\n",
      "SINKHORN GLOBAL - acc: 74.0% +- 1.23% - auc: 80.48% +- 1.06%\n"
     ]
    }
   ],
   "source": [
    "sink_accs, sink_aucs = [], []\n",
    "for i in range(n_runs):\n",
    "    random.seed(i)\n",
    "    np.random.seed(i)\n",
    "    torch.manual_seed(i)\n",
    "    imputer = OTimputer(niter=500)\n",
    "    imputed = imputer.fit_transform(data_missing_nans).cpu().detach().numpy()\n",
    "    scores = utils.get_scores(imputed, y)\n",
    "    acc = scores['test_balanced_accuracy']\n",
    "    auc = scores['test_roc_auc_ovo']\n",
    "    print(f'\\nSINKHORN RUN {i + 1}/{n_runs} - acc: {round(acc.mean() * 100, 2)}% +- {round(acc.std() * 100, 2)}% - ' +\n",
    "          f'auc: {round(auc.mean() * 100, 2)}% +- {round(auc.std() * 100, 2)}%\\n')\n",
    "    sink_accs.append(acc.mean())\n",
    "    sink_aucs.append(auc.mean())\n",
    "print(f'\\nSINKHORN GLOBAL - acc: {round(np.array(sink_accs).mean() * 100, 2)}% +- {round(np.array(sink_accs).std() * 100, 2)}% - ' +\n",
    "      f'auc: {round(np.array(sink_aucs).mean() * 100, 2)}% +- {round(np.array(sink_aucs).std() * 100, 2)}%')"
   ]
  },
  {
   "cell_type": "markdown",
   "metadata": {},
   "source": [
    "## Run MIDA"
   ]
  },
  {
   "cell_type": "code",
   "execution_count": 11,
   "metadata": {
    "ExecuteTime": {
     "end_time": "2022-06-03T15:23:05.492695Z",
     "start_time": "2022-06-03T15:23:05.492686Z"
    },
    "execution": {
     "iopub.execute_input": "2022-06-04T08:58:30.523551Z",
     "iopub.status.busy": "2022-06-04T08:58:30.522900Z",
     "iopub.status.idle": "2022-06-04T09:02:48.584165Z",
     "shell.execute_reply": "2022-06-04T09:02:48.584660Z"
    }
   },
   "outputs": [
    {
     "name": "stdout",
     "output_type": "stream",
     "text": [
      "Stop training at epoch: 1500/1500, return best output\n",
      "\n",
      "MIDA RUN 1/10 - acc: 70.32% +- 3.49% - auc: 80.23% +- 2.84%\n",
      "\n",
      "Stop training at epoch: 1500/1500, return best output\n",
      "\n",
      "MIDA RUN 2/10 - acc: 72.08% +- 6.1% - auc: 76.96% +- 3.89%\n",
      "\n",
      "Stop training at epoch: 1500/1500, return best output\n",
      "\n",
      "MIDA RUN 3/10 - acc: 74.02% +- 3.64% - auc: 81.8% +- 1.67%\n",
      "\n",
      "Stop training at epoch: 1500/1500, return best output\n",
      "\n",
      "MIDA RUN 4/10 - acc: 70.27% +- 4.01% - auc: 79.56% +- 4.1%\n",
      "\n",
      "Stop training at epoch: 1500/1500, return best output\n",
      "\n",
      "MIDA RUN 5/10 - acc: 71.59% +- 3.2% - auc: 79.3% +- 3.46%\n",
      "\n",
      "Stop training at epoch: 1500/1500, return best output\n",
      "\n",
      "MIDA RUN 6/10 - acc: 72.99% +- 3.82% - auc: 79.84% +- 3.08%\n",
      "\n",
      "Stop training at epoch: 1500/1500, return best output\n",
      "\n",
      "MIDA RUN 7/10 - acc: 71.18% +- 4.73% - auc: 79.55% +- 3.31%\n",
      "\n",
      "Stop training at epoch: 1500/1500, return best output\n",
      "\n",
      "MIDA RUN 8/10 - acc: 71.29% +- 3.02% - auc: 78.99% +- 3.37%\n",
      "\n",
      "Stop training at epoch: 1500/1500, return best output\n",
      "\n",
      "MIDA RUN 9/10 - acc: 73.02% +- 2.94% - auc: 80.36% +- 3.24%\n",
      "\n",
      "Stop training at epoch: 1500/1500, return best output\n",
      "\n",
      "MIDA RUN 10/10 - acc: 69.61% +- 3.69% - auc: 79.14% +- 2.38%\n",
      "\n",
      "\n",
      "MIDA GLOBAL - acc: 71.64% +- 1.33% - auc: 79.57% +- 1.16%\n"
     ]
    }
   ],
   "source": [
    "mida_accs, mida_aucs = [], []\n",
    "for i in range(n_runs):\n",
    "    random.seed(i)\n",
    "    np.random.seed(i)\n",
    "    torch.manual_seed(i)\n",
    "    imputed = mida(data_missing_nans, num_layers=2, num_epochs=1500)\n",
    "    imputed = np.where(missing_mask, data_missing, imputed)\n",
    "    scores = utils.get_scores(imputed, y)\n",
    "    acc = scores['test_balanced_accuracy']\n",
    "    auc = scores['test_roc_auc_ovo']\n",
    "    print(f'\\nMIDA RUN {i + 1}/{n_runs} - acc: {round(acc.mean() * 100, 2)}% +- {round(acc.std() * 100, 2)}% - ' +\n",
    "          f'auc: {round(auc.mean() * 100, 2)}% +- {round(auc.std() * 100, 2)}%\\n')\n",
    "    mida_accs.append(acc.mean())\n",
    "    mida_aucs.append(auc.mean())\n",
    "print(f'\\nMIDA GLOBAL - acc: {round(np.array(mida_accs).mean() * 100, 2)}% +- {round(np.array(mida_accs).std() * 100, 2)}% - ' +\n",
    "      f'auc: {round(np.array(mida_aucs).mean() * 100, 2)}% +- {round(np.array(mida_aucs).std() * 100, 2)}%')"
   ]
  },
  {
   "cell_type": "markdown",
   "metadata": {},
   "source": [
    "## Run T-tests"
   ]
  },
  {
   "cell_type": "code",
   "execution_count": 12,
   "metadata": {
    "ExecuteTime": {
     "end_time": "2022-06-03T15:23:05.493389Z",
     "start_time": "2022-06-03T15:23:05.493380Z"
    },
    "execution": {
     "iopub.execute_input": "2022-06-04T09:02:48.598044Z",
     "iopub.status.busy": "2022-06-04T09:02:48.597243Z",
     "iopub.status.idle": "2022-06-04T09:02:48.602496Z",
     "shell.execute_reply": "2022-06-04T09:02:48.601845Z"
    },
    "scrolled": false
   },
   "outputs": [
    {
     "name": "stdout",
     "output_type": "stream",
     "text": [
      "Metric ACC - OUR METHOD is significantly better than MEDIAN\n",
      "Metric AUC - OUR METHOD is significantly better than MEDIAN\n",
      "Metric ACC - OUR METHOD is significantly better than MEAN\n",
      "Metric AUC - OUR METHOD is significantly better than MEAN\n",
      "Metric ACC - OUR METHOD is even with KNN\n",
      "Metric AUC - OUR METHOD is even with KNN\n",
      "Metric ACC - OUR METHOD is even with GAIN\n",
      "Metric AUC - OUR METHOD is significantly better than GAIN\n",
      "Metric ACC - OUR METHOD is significantly better than MICE\n",
      "Metric AUC - OUR METHOD is significantly better than MICE\n",
      "Metric ACC - OUR METHOD is significantly better than MISS\n",
      "Metric AUC - OUR METHOD is significantly better than MISS\n",
      "Metric ACC - OUR METHOD is even with SOFT\n",
      "Metric AUC - OUR METHOD is even with SOFT\n",
      "Metric ACC - OUR METHOD is even with SINK\n",
      "Metric AUC - OUR METHOD is significantly better than SINK\n",
      "Metric ACC - OUR METHOD is significantly better than MIDA\n",
      "Metric AUC - OUR METHOD is significantly better than MIDA\n"
     ]
    }
   ],
   "source": [
    "for model, metrics in {\n",
    "        'MEDIAN': {'ACC': median_accs, 'AUC': median_aucs},\n",
    "        'MEAN': {'ACC': mean_accs, 'AUC': mean_aucs},\n",
    "        'KNN': {'ACC': knn_accs, 'AUC': knn_aucs},\n",
    "        'GAIN': {'ACC': gain_accs, 'AUC': gain_aucs},\n",
    "        'MICE': {'ACC': mice_accs, 'AUC': mice_aucs},\n",
    "        'MISS': {'ACC': miss_accs, 'AUC': miss_aucs},\n",
    "        'SOFT': {'ACC': soft_accs, 'AUC': soft_aucs},\n",
    "        'SINK': {'ACC': sink_accs, 'AUC': sink_aucs},\n",
    "        'MIDA': {'ACC': mida_accs, 'AUC': mida_aucs}}.items():\n",
    "    for metric_name, metric in metrics.items():\n",
    "        ours_metric = ours_accs if metric_name == 'ACC' else ours_aucs\n",
    "        t, p = scipy.stats.ttest_ind(np.array(ours_metric), np.array(metric))\n",
    "        if p <= .05:\n",
    "            if t > 0:\n",
    "                ## Our method is better\n",
    "                print(f'Metric {metric_name} - OUR METHOD is significantly better than {model}')\n",
    "            else:\n",
    "                ## Theirs is better\n",
    "                print(f'Metric {metric_name} - OUR METHOD is significantly worse than {model}')\n",
    "        else:\n",
    "            ## Else we are even\n",
    "            print(f'Metric {metric_name} - OUR METHOD is even with {model}')"
   ]
  }
 ],
 "metadata": {
  "kernelspec": {
   "display_name": "Python 3 (ipykernel)",
   "language": "python",
   "name": "python3"
  },
  "language_info": {
   "codemirror_mode": {
    "name": "ipython",
    "version": 3
   },
   "file_extension": ".py",
   "mimetype": "text/x-python",
   "name": "python",
   "nbconvert_exporter": "python",
   "pygments_lexer": "ipython3",
   "version": "3.9.7"
  },
  "latex_envs": {
   "LaTeX_envs_menu_present": true,
   "autoclose": false,
   "autocomplete": true,
   "bibliofile": "biblio.bib",
   "cite_by": "apalike",
   "current_citInitial": 1,
   "eqLabelWithNumbers": true,
   "eqNumInitial": 1,
   "hotkeys": {
    "equation": "Ctrl-E",
    "itemize": "Ctrl-I"
   },
   "labels_anchors": false,
   "latex_user_defs": false,
   "report_style_numbering": false,
   "user_envs_cfg": false
  }
 },
 "nbformat": 4,
 "nbformat_minor": 2
}
