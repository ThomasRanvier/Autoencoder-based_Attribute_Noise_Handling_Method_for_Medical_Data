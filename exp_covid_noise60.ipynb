{
 "cells": [
  {
   "cell_type": "code",
   "execution_count": 1,
   "metadata": {
    "ExecuteTime": {
     "end_time": "2022-06-03T15:22:32.840331Z",
     "start_time": "2022-06-03T15:22:29.696281Z"
    },
    "execution": {
     "iopub.execute_input": "2022-06-04T07:14:43.116119Z",
     "iopub.status.busy": "2022-06-04T07:14:43.108630Z",
     "iopub.status.idle": "2022-06-04T07:15:15.338258Z",
     "shell.execute_reply": "2022-06-04T07:15:15.335030Z"
    }
   },
   "outputs": [],
   "source": [
    "from __future__ import print_function\n",
    "import warnings\n",
    "warnings.filterwarnings(\"ignore\", category=UserWarning)\n",
    "warnings.filterwarnings(\"ignore\", category=FutureWarning)\n",
    "## Disable tf future deprecated messages\n",
    "import logging\n",
    "logging.getLogger('tensorflow').disabled = True\n",
    "## Disable tf CUDA messages\n",
    "import os\n",
    "os.environ['TF_CPP_MIN_LOG_LEVEL'] = '3'\n",
    "\n",
    "%matplotlib inline\n",
    "\n",
    "import sys\n",
    "import random\n",
    "import numpy as np\n",
    "import pandas as pd\n",
    "\n",
    "import utils\n",
    "import correction\n",
    "from models.dense import *\n",
    "from models.gain import gain\n",
    "from models.soft_impute import SoftImpute\n",
    "from models.sinkhorn import OTimputer\n",
    "from models.mida import mida\n",
    "\n",
    "import scipy.stats\n",
    "\n",
    "from sklearn.experimental import enable_iterative_imputer\n",
    "from sklearn.impute import IterativeImputer\n",
    "from sklearn.impute import KNNImputer, SimpleImputer\n",
    "\n",
    "import sklearn.neighbors._base\n",
    "sys.modules['sklearn.neighbors.base'] = sklearn.neighbors._base\n",
    "from missingpy import MissForest\n",
    "\n",
    "torch.backends.cudnn.enabled = True\n",
    "torch.backends.cudnn.benchmark = True\n",
    "dtype = torch.cuda.FloatTensor"
   ]
  },
  {
   "cell_type": "markdown",
   "metadata": {},
   "source": [
    "## Repeat all experiments for 10 runs"
   ]
  },
  {
   "cell_type": "code",
   "execution_count": 2,
   "metadata": {
    "ExecuteTime": {
     "end_time": "2022-06-03T15:22:32.845502Z",
     "start_time": "2022-06-03T15:22:32.842130Z"
    },
    "execution": {
     "iopub.execute_input": "2022-06-04T07:15:15.347566Z",
     "iopub.status.busy": "2022-06-04T07:15:15.346713Z",
     "iopub.status.idle": "2022-06-04T07:15:15.351959Z",
     "shell.execute_reply": "2022-06-04T07:15:15.351275Z"
    }
   },
   "outputs": [],
   "source": [
    "n_runs = 10"
   ]
  },
  {
   "cell_type": "markdown",
   "metadata": {},
   "source": [
    "## Load data"
   ]
  },
  {
   "cell_type": "code",
   "execution_count": 3,
   "metadata": {
    "ExecuteTime": {
     "end_time": "2022-06-03T15:22:34.289014Z",
     "start_time": "2022-06-03T15:22:32.847779Z"
    },
    "execution": {
     "iopub.execute_input": "2022-06-04T07:15:15.360940Z",
     "iopub.status.busy": "2022-06-04T07:15:15.360157Z",
     "iopub.status.idle": "2022-06-04T07:15:17.975808Z",
     "shell.execute_reply": "2022-06-04T07:15:17.975355Z"
    }
   },
   "outputs": [
    {
     "name": "stdout",
     "output_type": "stream",
     "text": [
      "Dataset shape: (361, 80)\n",
      "19.75% missing data\n",
      "Class distribution: (array([0, 1]), array([195, 166]))\n"
     ]
    }
   ],
   "source": [
    "data_missing, missing_mask, y = utils.load_covid()\n",
    "## Inject noise\n",
    "data_missing = utils.inject_noise(data_missing.copy(), noise_rate=.60)\n",
    "## Replace missing values locations by 0\n",
    "data_missing = data_missing * missing_mask"
   ]
  },
  {
   "cell_type": "markdown",
   "metadata": {},
   "source": [
    "## Run OUR METHOD"
   ]
  },
  {
   "cell_type": "code",
   "execution_count": 4,
   "metadata": {
    "ExecuteTime": {
     "end_time": "2022-06-03T15:23:05.486728Z",
     "start_time": "2022-06-03T15:22:34.290669Z"
    },
    "execution": {
     "iopub.execute_input": "2022-06-04T07:15:17.983641Z",
     "iopub.status.busy": "2022-06-04T07:15:17.982987Z",
     "iopub.status.idle": "2022-06-04T07:30:34.186644Z",
     "shell.execute_reply": "2022-06-04T07:30:34.187014Z"
    },
    "scrolled": false
   },
   "outputs": [
    {
     "name": "stdout",
     "output_type": "stream",
     "text": [
      "Ite 00000 - 0.83 sec - Loss 0.082258 - ACC 66.77% - ACC Mean 66.77% - AUC 70.11% - AUC Mean 70.11% - Deter 000\n",
      "Ite 00050 - 0.14 sec - Loss 0.079037 - ACC 69.17% - ACC Mean 67.81% - AUC 72.81% - AUC Mean 71.92% - Deter 012\n",
      "Ite 00100 - 0.14 sec - Loss 0.072901 - ACC 65.07% - ACC Mean 67.26% - AUC 70.17% - AUC Mean 70.43% - Deter 062\n",
      "Ite 00150 - 0.12 sec - Loss 0.068545 - ACC 66.43% - ACC Mean 66.77% - AUC 70.45% - AUC Mean 70.66% - Deter 112\n",
      "Ite 00200 - 0.10 sec - Loss 0.067306 - ACC 66.73% - ACC Mean 66.72% - AUC 69.68% - AUC Mean 70.09% - Deter 162\n",
      "Ite 00250 - 0.11 sec - Loss 0.066672 - ACC 66.97% - ACC Mean 66.56% - AUC 70.32% - AUC Mean 69.81% - Deter 212\n",
      "Ite 00300 - 0.12 sec - Loss 0.066080 - ACC 66.99% - ACC Mean 66.40% - AUC 70.17% - AUC Mean 69.71% - Deter 262\n",
      "Ite 00350 - 0.11 sec - Loss 0.065372 - ACC 64.71% - ACC Mean 66.26% - AUC 68.35% - AUC Mean 69.44% - Deter 312\n",
      "Ite 00400 - 0.11 sec - Loss 0.064543 - ACC 65.65% - ACC Mean 66.16% - AUC 70.72% - AUC Mean 69.23% - Deter 362\n",
      "Ite 00438 - 0.12 sec - Loss 0.063760 - ACC 64.48% - ACC Mean 65.31% - AUC 69.52% - AUC Mean 69.58% - Deter 400\n",
      "Early stop ite 438, rollback to correction of ite 38, whith acc of 67.76% and auc of 73.43%\n",
      "OUR METHOD RUN 1/10 - acc: 67.76% +- 0.0% - auc: 73.43% +- 0.0%\n",
      "Ite 00000 - 0.12 sec - Loss 0.081968 - ACC 69.24% - ACC Mean 69.24% - AUC 73.34% - AUC Mean 73.34% - Deter 000\n",
      "Ite 00050 - 0.12 sec - Loss 0.078793 - ACC 63.72% - ACC Mean 66.43% - AUC 68.82% - AUC Mean 70.83% - Deter 038\n",
      "Ite 00100 - 0.11 sec - Loss 0.072842 - ACC 66.98% - ACC Mean 65.64% - AUC 70.76% - AUC Mean 70.43% - Deter 088\n",
      "Ite 00150 - 0.11 sec - Loss 0.068587 - ACC 67.39% - ACC Mean 67.73% - AUC 70.32% - AUC Mean 71.24% - Deter 138\n",
      "Ite 00200 - 0.11 sec - Loss 0.067386 - ACC 65.58% - ACC Mean 66.00% - AUC 69.13% - AUC Mean 69.74% - Deter 188\n",
      "Ite 00250 - 0.13 sec - Loss 0.066771 - ACC 65.45% - ACC Mean 65.17% - AUC 69.78% - AUC Mean 69.39% - Deter 238\n",
      "Ite 00300 - 0.15 sec - Loss 0.066159 - ACC 62.99% - ACC Mean 64.51% - AUC 68.97% - AUC Mean 68.79% - Deter 288\n",
      "Ite 00350 - 0.14 sec - Loss 0.065459 - ACC 66.35% - ACC Mean 65.13% - AUC 69.86% - AUC Mean 69.19% - Deter 338\n",
      "Ite 00400 - 0.16 sec - Loss 0.064636 - ACC 66.04% - ACC Mean 65.14% - AUC 69.05% - AUC Mean 68.87% - Deter 388\n",
      "Ite 00412 - 0.11 sec - Loss 0.064402 - ACC 64.90% - ACC Mean 65.28% - AUC 68.44% - AUC Mean 69.08% - Deter 400\n",
      "Early stop ite 412, rollback to correction of ite 12, whith acc of 68.31% and auc of 75.05%\n",
      "OUR METHOD RUN 2/10 - acc: 68.31% +- 0.0% - auc: 75.05% +- 0.0%\n",
      "Ite 00000 - 0.15 sec - Loss 0.081634 - ACC 67.85% - ACC Mean 67.85% - AUC 71.89% - AUC Mean 71.89% - Deter 000\n",
      "Ite 00050 - 0.12 sec - Loss 0.078982 - ACC 67.39% - ACC Mean 67.31% - AUC 72.55% - AUC Mean 72.04% - Deter 038\n",
      "Ite 00100 - 0.14 sec - Loss 0.073994 - ACC 68.71% - ACC Mean 66.85% - AUC 72.75% - AUC Mean 71.44% - Deter 088\n",
      "Ite 00150 - 0.11 sec - Loss 0.069214 - ACC 66.00% - ACC Mean 67.02% - AUC 71.80% - AUC Mean 71.84% - Deter 138\n",
      "Ite 00200 - 0.10 sec - Loss 0.067481 - ACC 65.96% - ACC Mean 66.20% - AUC 70.25% - AUC Mean 71.13% - Deter 188\n",
      "Ite 00250 - 0.11 sec - Loss 0.066662 - ACC 65.76% - ACC Mean 65.67% - AUC 70.65% - AUC Mean 70.74% - Deter 238\n",
      "Ite 00300 - 0.11 sec - Loss 0.065949 - ACC 64.38% - ACC Mean 65.93% - AUC 70.38% - AUC Mean 70.64% - Deter 288\n",
      "Ite 00350 - 0.14 sec - Loss 0.065099 - ACC 65.15% - ACC Mean 64.97% - AUC 71.25% - AUC Mean 70.37% - Deter 338\n",
      "Ite 00400 - 0.10 sec - Loss 0.064082 - ACC 64.73% - ACC Mean 65.55% - AUC 70.59% - AUC Mean 70.38% - Deter 388\n",
      "Ite 00412 - 0.11 sec - Loss 0.063819 - ACC 65.85% - ACC Mean 65.77% - AUC 69.52% - AUC Mean 70.36% - Deter 400\n",
      "Early stop ite 412, rollback to correction of ite 12, whith acc of 68.99% and auc of 73.64%\n",
      "OUR METHOD RUN 3/10 - acc: 68.99% +- 0.0% - auc: 73.64% +- 0.0%\n",
      "Ite 00000 - 0.13 sec - Loss 0.081776 - ACC 66.01% - ACC Mean 66.01% - AUC 70.17% - AUC Mean 70.17% - Deter 000\n",
      "Ite 00050 - 0.11 sec - Loss 0.078078 - ACC 65.72% - ACC Mean 66.07% - AUC 68.84% - AUC Mean 69.42% - Deter 029\n",
      "Ite 00100 - 0.14 sec - Loss 0.071846 - ACC 64.79% - ACC Mean 65.85% - AUC 69.24% - AUC Mean 69.10% - Deter 079\n",
      "Ite 00150 - 0.11 sec - Loss 0.068216 - ACC 66.77% - ACC Mean 65.48% - AUC 70.81% - AUC Mean 69.75% - Deter 129\n",
      "Ite 00200 - 0.11 sec - Loss 0.067216 - ACC 66.04% - ACC Mean 66.28% - AUC 69.83% - AUC Mean 70.56% - Deter 028\n",
      "Ite 00250 - 0.12 sec - Loss 0.066648 - ACC 65.93% - ACC Mean 66.20% - AUC 69.76% - AUC Mean 70.49% - Deter 078\n",
      "Ite 00300 - 0.10 sec - Loss 0.066017 - ACC 66.77% - ACC Mean 66.09% - AUC 71.46% - AUC Mean 70.45% - Deter 030\n",
      "Ite 00350 - 0.11 sec - Loss 0.065266 - ACC 65.44% - ACC Mean 65.93% - AUC 69.63% - AUC Mean 70.32% - Deter 030\n",
      "Ite 00400 - 0.11 sec - Loss 0.064320 - ACC 65.19% - ACC Mean 65.80% - AUC 69.73% - AUC Mean 70.52% - Deter 020\n",
      "Ite 00450 - 0.10 sec - Loss 0.063166 - ACC 66.82% - ACC Mean 65.81% - AUC 70.89% - AUC Mean 70.24% - Deter 070\n",
      "Ite 00500 - 0.22 sec - Loss 0.061831 - ACC 64.07% - ACC Mean 65.37% - AUC 70.03% - AUC Mean 70.50% - Deter 120\n",
      "Ite 00550 - 0.12 sec - Loss 0.060345 - ACC 67.01% - ACC Mean 65.85% - AUC 72.17% - AUC Mean 71.17% - Deter 170\n",
      "Ite 00600 - 0.11 sec - Loss 0.058657 - ACC 69.43% - ACC Mean 67.40% - AUC 74.08% - AUC Mean 72.88% - Deter 006\n",
      "Ite 00650 - 0.10 sec - Loss 0.056764 - ACC 66.09% - ACC Mean 68.75% - AUC 71.94% - AUC Mean 74.21% - Deter 014\n",
      "Ite 00700 - 0.12 sec - Loss 0.054844 - ACC 67.60% - ACC Mean 68.41% - AUC 73.72% - AUC Mean 73.72% - Deter 064\n",
      "Ite 00750 - 0.10 sec - Loss 0.052722 - ACC 65.96% - ACC Mean 67.06% - AUC 69.78% - AUC Mean 71.90% - Deter 114\n",
      "Ite 00800 - 0.15 sec - Loss 0.050627 - ACC 66.04% - ACC Mean 66.03% - AUC 70.91% - AUC Mean 70.51% - Deter 164\n",
      "Ite 00850 - 0.11 sec - Loss 0.048532 - ACC 64.87% - ACC Mean 66.24% - AUC 69.61% - AUC Mean 70.62% - Deter 214\n",
      "Ite 00900 - 0.10 sec - Loss 0.046306 - ACC 68.31% - ACC Mean 67.03% - AUC 71.30% - AUC Mean 71.13% - Deter 264\n",
      "Ite 00950 - 0.13 sec - Loss 0.044240 - ACC 68.99% - ACC Mean 67.91% - AUC 73.29% - AUC Mean 71.29% - Deter 314\n",
      "Ite 01000 - 0.11 sec - Loss 0.042304 - ACC 67.82% - ACC Mean 67.57% - AUC 70.01% - AUC Mean 70.74% - Deter 364\n",
      "Ite 01036 - 0.11 sec - Loss 0.040923 - ACC 66.91% - ACC Mean 67.12% - AUC 69.69% - AUC Mean 70.39% - Deter 400\n",
      "Early stop ite 1036, rollback to correction of ite 636, whith acc of 71.87% and auc of 76.29%\n",
      "OUR METHOD RUN 4/10 - acc: 71.87% +- 0.0% - auc: 76.29% +- 0.0%\n",
      "Ite 00000 - 0.12 sec - Loss 0.082328 - ACC 64.56% - ACC Mean 64.56% - AUC 67.55% - AUC Mean 67.55% - Deter 000\n",
      "Ite 00050 - 0.10 sec - Loss 0.078795 - ACC 65.86% - ACC Mean 64.99% - AUC 70.60% - AUC Mean 68.34% - Deter 000\n",
      "Ite 00100 - 0.11 sec - Loss 0.072097 - ACC 66.27% - ACC Mean 65.44% - AUC 69.59% - AUC Mean 69.23% - Deter 043\n",
      "Ite 00150 - 0.12 sec - Loss 0.067953 - ACC 65.97% - ACC Mean 65.82% - AUC 70.15% - AUC Mean 68.89% - Deter 047\n",
      "Ite 00200 - 0.12 sec - Loss 0.067081 - ACC 65.55% - ACC Mean 65.86% - AUC 68.45% - AUC Mean 69.36% - Deter 046\n",
      "Ite 00250 - 0.11 sec - Loss 0.066488 - ACC 66.02% - ACC Mean 65.95% - AUC 68.67% - AUC Mean 69.06% - Deter 096\n",
      "Ite 00300 - 0.15 sec - Loss 0.065797 - ACC 65.95% - ACC Mean 65.94% - AUC 69.02% - AUC Mean 68.79% - Deter 146\n",
      "Ite 00350 - 0.16 sec - Loss 0.064941 - ACC 63.65% - ACC Mean 65.58% - AUC 69.14% - AUC Mean 68.67% - Deter 196\n",
      "Ite 00400 - 0.20 sec - Loss 0.063935 - ACC 66.63% - ACC Mean 65.13% - AUC 70.71% - AUC Mean 68.83% - Deter 246\n",
      "Ite 00450 - 0.11 sec - Loss 0.062736 - ACC 65.87% - ACC Mean 65.46% - AUC 69.89% - AUC Mean 69.30% - Deter 296\n",
      "Ite 00500 - 0.11 sec - Loss 0.061384 - ACC 66.09% - ACC Mean 65.49% - AUC 70.69% - AUC Mean 69.83% - Deter 025\n",
      "Ite 00550 - 0.24 sec - Loss 0.059801 - ACC 65.86% - ACC Mean 66.08% - AUC 70.25% - AUC Mean 70.68% - Deter 028\n",
      "Ite 00600 - 0.11 sec - Loss 0.058116 - ACC 65.25% - ACC Mean 65.83% - AUC 71.04% - AUC Mean 71.40% - Deter 078\n",
      "Ite 00650 - 0.10 sec - Loss 0.056321 - ACC 66.38% - ACC Mean 65.87% - AUC 71.86% - AUC Mean 72.04% - Deter 026\n",
      "Ite 00700 - 0.16 sec - Loss 0.054126 - ACC 65.99% - ACC Mean 66.35% - AUC 72.38% - AUC Mean 72.74% - Deter 032\n",
      "Ite 00750 - 0.10 sec - Loss 0.051967 - ACC 66.25% - ACC Mean 66.59% - AUC 71.42% - AUC Mean 72.27% - Deter 082\n",
      "Ite 00800 - 0.10 sec - Loss 0.049699 - ACC 69.56% - ACC Mean 68.08% - AUC 73.92% - AUC Mean 72.82% - Deter 045\n",
      "Ite 00850 - 0.11 sec - Loss 0.047545 - ACC 68.14% - ACC Mean 68.69% - AUC 73.14% - AUC Mean 72.80% - Deter 095\n",
      "Ite 00900 - 0.14 sec - Loss 0.045377 - ACC 67.93% - ACC Mean 68.70% - AUC 72.25% - AUC Mean 72.72% - Deter 145\n",
      "Ite 00950 - 0.11 sec - Loss 0.043125 - ACC 68.91% - ACC Mean 67.96% - AUC 71.79% - AUC Mean 72.21% - Deter 195\n",
      "Ite 01000 - 0.11 sec - Loss 0.041071 - ACC 67.87% - ACC Mean 68.15% - AUC 71.69% - AUC Mean 72.31% - Deter 245\n",
      "Ite 01050 - 0.14 sec - Loss 0.039062 - ACC 67.87% - ACC Mean 68.20% - AUC 72.05% - AUC Mean 72.22% - Deter 295\n",
      "Ite 01100 - 0.12 sec - Loss 0.037170 - ACC 65.18% - ACC Mean 67.93% - AUC 70.45% - AUC Mean 71.96% - Deter 345\n",
      "Ite 01150 - 0.11 sec - Loss 0.035339 - ACC 65.16% - ACC Mean 67.91% - AUC 69.84% - AUC Mean 71.93% - Deter 395\n",
      "Ite 01155 - 0.20 sec - Loss 0.035150 - ACC 67.84% - ACC Mean 67.90% - AUC 72.70% - AUC Mean 72.04% - Deter 400\n",
      "Early stop ite 1155, rollback to correction of ite 755, whith acc of 69.08% and auc of 75.45%\n",
      "OUR METHOD RUN 5/10 - acc: 69.08% +- 0.0% - auc: 75.45% +- 0.0%\n",
      "Ite 00000 - 0.13 sec - Loss 0.081596 - ACC 66.20% - ACC Mean 66.20% - AUC 70.58% - AUC Mean 70.58% - Deter 000\n",
      "Ite 00050 - 0.12 sec - Loss 0.078672 - ACC 66.64% - ACC Mean 66.42% - AUC 71.26% - AUC Mean 70.47% - Deter 031\n",
      "Ite 00100 - 0.14 sec - Loss 0.073205 - ACC 67.09% - ACC Mean 66.16% - AUC 70.98% - AUC Mean 69.73% - Deter 026\n",
      "Ite 00150 - 0.12 sec - Loss 0.068528 - ACC 67.24% - ACC Mean 66.10% - AUC 70.81% - AUC Mean 69.73% - Deter 076\n",
      "Ite 00200 - 0.14 sec - Loss 0.067259 - ACC 66.07% - ACC Mean 65.63% - AUC 70.23% - AUC Mean 70.07% - Deter 126\n",
      "Ite 00250 - 0.13 sec - Loss 0.066672 - ACC 64.53% - ACC Mean 65.30% - AUC 69.18% - AUC Mean 69.92% - Deter 176\n",
      "Ite 00300 - 0.12 sec - Loss 0.066018 - ACC 64.34% - ACC Mean 65.14% - AUC 70.01% - AUC Mean 69.86% - Deter 027\n",
      "Ite 00350 - 0.11 sec - Loss 0.065285 - ACC 65.95% - ACC Mean 65.49% - AUC 71.41% - AUC Mean 70.40% - Deter 077\n",
      "Ite 00400 - 0.12 sec - Loss 0.064391 - ACC 65.45% - ACC Mean 66.39% - AUC 70.68% - AUC Mean 71.10% - Deter 008\n",
      "Ite 00450 - 0.12 sec - Loss 0.063274 - ACC 67.11% - ACC Mean 67.15% - AUC 73.29% - AUC Mean 72.43% - Deter 043\n",
      "Ite 00500 - 0.11 sec - Loss 0.061874 - ACC 70.12% - ACC Mean 68.06% - AUC 73.49% - AUC Mean 73.35% - Deter 029\n",
      "Ite 00550 - 0.14 sec - Loss 0.060260 - ACC 67.53% - ACC Mean 67.44% - AUC 72.46% - AUC Mean 72.23% - Deter 079\n",
      "Ite 00600 - 0.14 sec - Loss 0.058510 - ACC 66.61% - ACC Mean 67.33% - AUC 71.13% - AUC Mean 72.22% - Deter 129\n",
      "Ite 00650 - 0.10 sec - Loss 0.056661 - ACC 68.62% - ACC Mean 67.85% - AUC 73.14% - AUC Mean 72.55% - Deter 179\n",
      "Ite 00700 - 0.12 sec - Loss 0.054541 - ACC 69.16% - ACC Mean 68.22% - AUC 73.89% - AUC Mean 73.03% - Deter 034\n",
      "Ite 00750 - 0.11 sec - Loss 0.052312 - ACC 68.31% - ACC Mean 68.09% - AUC 72.87% - AUC Mean 73.24% - Deter 084\n",
      "Ite 00800 - 0.14 sec - Loss 0.050089 - ACC 68.10% - ACC Mean 67.20% - AUC 73.68% - AUC Mean 72.60% - Deter 134\n",
      "Ite 00850 - 0.12 sec - Loss 0.047967 - ACC 67.68% - ACC Mean 67.06% - AUC 72.69% - AUC Mean 72.60% - Deter 184\n",
      "Ite 00900 - 0.11 sec - Loss 0.045926 - ACC 68.63% - ACC Mean 67.54% - AUC 72.55% - AUC Mean 72.69% - Deter 234\n",
      "Ite 00950 - 0.12 sec - Loss 0.043878 - ACC 68.06% - ACC Mean 67.83% - AUC 74.27% - AUC Mean 72.83% - Deter 284\n",
      "Ite 01000 - 0.15 sec - Loss 0.041931 - ACC 69.09% - ACC Mean 68.66% - AUC 73.89% - AUC Mean 73.42% - Deter 334\n",
      "Ite 01050 - 0.12 sec - Loss 0.039882 - ACC 66.88% - ACC Mean 67.78% - AUC 72.47% - AUC Mean 73.24% - Deter 384\n",
      "Ite 01066 - 0.11 sec - Loss 0.039282 - ACC 67.29% - ACC Mean 67.58% - AUC 72.36% - AUC Mean 73.05% - Deter 400\n",
      "Early stop ite 1066, rollback to correction of ite 666, whith acc of 70.63% and auc of 76.09%\n",
      "OUR METHOD RUN 6/10 - acc: 70.63% +- 0.0% - auc: 76.09% +- 0.0%\n",
      "Ite 00000 - 0.11 sec - Loss 0.081462 - ACC 67.03% - ACC Mean 67.03% - AUC 70.81% - AUC Mean 70.81% - Deter 000\n",
      "Ite 00050 - 0.12 sec - Loss 0.077889 - ACC 66.00% - ACC Mean 65.47% - AUC 68.90% - AUC Mean 70.22% - Deter 019\n",
      "Ite 00100 - 0.11 sec - Loss 0.071422 - ACC 65.38% - ACC Mean 65.81% - AUC 69.62% - AUC Mean 69.97% - Deter 069\n",
      "Ite 00150 - 0.11 sec - Loss 0.067885 - ACC 66.00% - ACC Mean 65.35% - AUC 70.74% - AUC Mean 69.54% - Deter 119\n",
      "Ite 00200 - 0.11 sec - Loss 0.066912 - ACC 64.41% - ACC Mean 65.43% - AUC 68.42% - AUC Mean 69.48% - Deter 169\n",
      "Ite 00250 - 0.12 sec - Loss 0.066176 - ACC 64.89% - ACC Mean 64.68% - AUC 67.84% - AUC Mean 68.96% - Deter 219\n",
      "Ite 00300 - 0.11 sec - Loss 0.065293 - ACC 64.51% - ACC Mean 64.10% - AUC 69.17% - AUC Mean 68.86% - Deter 269\n",
      "Ite 00350 - 0.11 sec - Loss 0.064168 - ACC 65.18% - ACC Mean 64.55% - AUC 69.06% - AUC Mean 69.03% - Deter 319\n",
      "Ite 00400 - 0.11 sec - Loss 0.062827 - ACC 65.18% - ACC Mean 65.24% - AUC 68.68% - AUC Mean 69.29% - Deter 369\n",
      "Ite 00431 - 0.18 sec - Loss 0.061853 - ACC 66.85% - ACC Mean 65.87% - AUC 71.39% - AUC Mean 70.17% - Deter 400\n",
      "Early stop ite 431, rollback to correction of ite 31, whith acc of 67.36% and auc of 72.78%\n",
      "OUR METHOD RUN 7/10 - acc: 67.36% +- 0.0% - auc: 72.78% +- 0.0%\n",
      "Ite 00000 - 0.13 sec - Loss 0.081733 - ACC 66.54% - ACC Mean 66.54% - AUC 70.45% - AUC Mean 70.45% - Deter 000\n",
      "Ite 00050 - 0.15 sec - Loss 0.078520 - ACC 67.20% - ACC Mean 65.76% - AUC 70.65% - AUC Mean 69.47% - Deter 034\n",
      "Ite 00100 - 0.13 sec - Loss 0.073057 - ACC 65.55% - ACC Mean 65.95% - AUC 70.07% - AUC Mean 69.98% - Deter 034\n",
      "Ite 00150 - 0.11 sec - Loss 0.068414 - ACC 63.33% - ACC Mean 65.00% - AUC 69.17% - AUC Mean 69.58% - Deter 084\n",
      "Ite 00200 - 0.13 sec - Loss 0.067188 - ACC 65.94% - ACC Mean 66.14% - AUC 69.53% - AUC Mean 70.21% - Deter 134\n",
      "Ite 00250 - 0.11 sec - Loss 0.066622 - ACC 66.97% - ACC Mean 66.80% - AUC 71.01% - AUC Mean 70.73% - Deter 184\n",
      "Ite 00300 - 0.22 sec - Loss 0.065997 - ACC 64.70% - ACC Mean 66.16% - AUC 69.77% - AUC Mean 70.18% - Deter 234\n",
      "Ite 00350 - 0.13 sec - Loss 0.065258 - ACC 65.66% - ACC Mean 65.75% - AUC 69.95% - AUC Mean 70.06% - Deter 008\n",
      "Ite 00400 - 0.12 sec - Loss 0.064425 - ACC 64.90% - ACC Mean 65.70% - AUC 71.42% - AUC Mean 70.18% - Deter 058\n",
      "Ite 00450 - 0.13 sec - Loss 0.063356 - ACC 65.83% - ACC Mean 66.39% - AUC 70.32% - AUC Mean 70.37% - Deter 108\n",
      "Ite 00500 - 0.13 sec - Loss 0.062207 - ACC 66.72% - ACC Mean 66.38% - AUC 71.78% - AUC Mean 70.80% - Deter 029\n",
      "Ite 00550 - 0.11 sec - Loss 0.060840 - ACC 67.12% - ACC Mean 66.27% - AUC 73.67% - AUC Mean 71.62% - Deter 011\n",
      "Ite 00600 - 0.12 sec - Loss 0.059389 - ACC 66.08% - ACC Mean 66.47% - AUC 71.76% - AUC Mean 72.33% - Deter 014\n",
      "Ite 00650 - 0.13 sec - Loss 0.057772 - ACC 67.04% - ACC Mean 66.24% - AUC 70.39% - AUC Mean 71.50% - Deter 025\n",
      "Ite 00700 - 0.12 sec - Loss 0.055891 - ACC 65.07% - ACC Mean 65.98% - AUC 70.40% - AUC Mean 70.98% - Deter 075\n",
      "Ite 00750 - 0.11 sec - Loss 0.053914 - ACC 66.00% - ACC Mean 66.21% - AUC 71.88% - AUC Mean 70.89% - Deter 125\n",
      "Ite 00800 - 0.15 sec - Loss 0.051995 - ACC 65.07% - ACC Mean 66.51% - AUC 70.08% - AUC Mean 71.18% - Deter 175\n",
      "Ite 00850 - 0.12 sec - Loss 0.050071 - ACC 69.12% - ACC Mean 67.71% - AUC 73.28% - AUC Mean 72.20% - Deter 225\n",
      "Ite 00900 - 0.12 sec - Loss 0.047938 - ACC 65.75% - ACC Mean 67.56% - AUC 71.34% - AUC Mean 72.87% - Deter 010\n",
      "Ite 00950 - 0.12 sec - Loss 0.045845 - ACC 67.61% - ACC Mean 67.75% - AUC 74.76% - AUC Mean 73.47% - Deter 014\n",
      "Ite 01000 - 0.16 sec - Loss 0.043754 - ACC 67.80% - ACC Mean 67.93% - AUC 73.64% - AUC Mean 73.66% - Deter 064\n",
      "Ite 01050 - 0.12 sec - Loss 0.041831 - ACC 68.24% - ACC Mean 67.89% - AUC 74.29% - AUC Mean 73.58% - Deter 042\n",
      "Ite 01100 - 0.10 sec - Loss 0.040010 - ACC 67.44% - ACC Mean 67.33% - AUC 72.94% - AUC Mean 72.64% - Deter 092\n",
      "Ite 01150 - 0.13 sec - Loss 0.038294 - ACC 67.85% - ACC Mean 67.04% - AUC 72.78% - AUC Mean 71.92% - Deter 142\n",
      "Ite 01200 - 0.11 sec - Loss 0.036664 - ACC 67.30% - ACC Mean 66.63% - AUC 72.41% - AUC Mean 71.33% - Deter 192\n",
      "Ite 01250 - 0.11 sec - Loss 0.035058 - ACC 66.61% - ACC Mean 66.68% - AUC 72.00% - AUC Mean 71.34% - Deter 242\n",
      "Ite 01300 - 0.14 sec - Loss 0.033521 - ACC 64.69% - ACC Mean 66.53% - AUC 71.37% - AUC Mean 71.49% - Deter 292\n",
      "Ite 01350 - 0.12 sec - Loss 0.032104 - ACC 67.14% - ACC Mean 66.79% - AUC 70.69% - AUC Mean 71.53% - Deter 342\n",
      "Ite 01400 - 0.11 sec - Loss 0.030726 - ACC 68.67% - ACC Mean 66.50% - AUC 71.81% - AUC Mean 71.42% - Deter 392\n",
      "Ite 01408 - 0.15 sec - Loss 0.030488 - ACC 65.35% - ACC Mean 66.52% - AUC 70.35% - AUC Mean 71.42% - Deter 400\n",
      "Early stop ite 1408, rollback to correction of ite 1008, whith acc of 69.44% and auc of 76.5%\n",
      "OUR METHOD RUN 8/10 - acc: 69.44% +- 0.0% - auc: 76.5% +- 0.0%\n",
      "Ite 00000 - 0.14 sec - Loss 0.081062 - ACC 66.73% - ACC Mean 66.73% - AUC 70.69% - AUC Mean 70.69% - Deter 000\n",
      "Ite 00050 - 0.11 sec - Loss 0.077802 - ACC 66.17% - ACC Mean 66.45% - AUC 70.72% - AUC Mean 70.37% - Deter 044\n",
      "Ite 00100 - 0.12 sec - Loss 0.071659 - ACC 66.11% - ACC Mean 66.13% - AUC 71.26% - AUC Mean 70.61% - Deter 038\n",
      "Ite 00150 - 0.11 sec - Loss 0.067849 - ACC 63.41% - ACC Mean 64.74% - AUC 68.11% - AUC Mean 69.76% - Deter 088\n",
      "Ite 00200 - 0.12 sec - Loss 0.066863 - ACC 65.74% - ACC Mean 64.79% - AUC 69.58% - AUC Mean 69.20% - Deter 138\n",
      "Ite 00250 - 0.14 sec - Loss 0.066177 - ACC 66.46% - ACC Mean 65.19% - AUC 70.17% - AUC Mean 69.59% - Deter 188\n",
      "Ite 00300 - 0.14 sec - Loss 0.065398 - ACC 66.55% - ACC Mean 66.41% - AUC 70.36% - AUC Mean 70.13% - Deter 238\n",
      "Ite 00350 - 0.13 sec - Loss 0.064469 - ACC 66.37% - ACC Mean 66.07% - AUC 69.59% - AUC Mean 69.92% - Deter 288\n",
      "Ite 00400 - 0.11 sec - Loss 0.063352 - ACC 66.44% - ACC Mean 65.67% - AUC 70.63% - AUC Mean 70.27% - Deter 338\n",
      "Ite 00450 - 0.13 sec - Loss 0.062013 - ACC 65.45% - ACC Mean 65.61% - AUC 71.13% - AUC Mean 70.26% - Deter 388\n",
      "Ite 00462 - 0.12 sec - Loss 0.061675 - ACC 66.85% - ACC Mean 65.57% - AUC 71.21% - AUC Mean 70.36% - Deter 400\n",
      "Early stop ite 462, rollback to correction of ite 62, whith acc of 67.76% and auc of 72.74%\n",
      "OUR METHOD RUN 9/10 - acc: 67.76% +- 0.0% - auc: 72.74% +- 0.0%\n",
      "Ite 00000 - 0.12 sec - Loss 0.081276 - ACC 66.05% - ACC Mean 66.05% - AUC 69.22% - AUC Mean 69.22% - Deter 000\n",
      "Ite 00050 - 0.15 sec - Loss 0.078018 - ACC 68.15% - ACC Mean 66.91% - AUC 70.14% - AUC Mean 69.85% - Deter 014\n",
      "Ite 00100 - 0.13 sec - Loss 0.072290 - ACC 66.07% - ACC Mean 67.38% - AUC 69.83% - AUC Mean 69.93% - Deter 064\n",
      "Ite 00150 - 0.20 sec - Loss 0.068766 - ACC 65.91% - ACC Mean 65.88% - AUC 68.91% - AUC Mean 69.19% - Deter 114\n",
      "Ite 00200 - 0.11 sec - Loss 0.067630 - ACC 66.63% - ACC Mean 66.07% - AUC 69.33% - AUC Mean 68.99% - Deter 164\n",
      "Ite 00250 - 0.13 sec - Loss 0.067022 - ACC 65.96% - ACC Mean 66.14% - AUC 69.31% - AUC Mean 69.21% - Deter 214\n",
      "Ite 00300 - 0.14 sec - Loss 0.066440 - ACC 66.38% - ACC Mean 65.72% - AUC 69.60% - AUC Mean 69.28% - Deter 264\n",
      "Ite 00350 - 0.12 sec - Loss 0.065750 - ACC 66.95% - ACC Mean 65.90% - AUC 69.63% - AUC Mean 69.45% - Deter 314\n",
      "Ite 00400 - 0.11 sec - Loss 0.064878 - ACC 66.34% - ACC Mean 66.72% - AUC 69.81% - AUC Mean 69.84% - Deter 364\n",
      "Ite 00436 - 0.12 sec - Loss 0.064106 - ACC 66.05% - ACC Mean 66.69% - AUC 69.02% - AUC Mean 69.69% - Deter 400\n",
      "Early stop ite 436, rollback to correction of ite 36, whith acc of 68.09% and auc of 71.75%\n",
      "OUR METHOD RUN 10/10 - acc: 68.09% +- 0.0% - auc: 71.75% +- 0.0%\n",
      "\n",
      "OUR METHOD GLOBAL - acc: 68.93% +- 1.35% - auc: 74.37% +- 1.62%\n"
     ]
    }
   ],
   "source": [
    "params = {\n",
    "    'nb_batches': 10,\n",
    "    'reg_noise_std': .03,\n",
    "    'net_input': 'data_corrupted',\n",
    "    'net_params': [80, 80],\n",
    "    'adam_lr': .0001,\n",
    "    'adam_weight_decay': 0.,\n",
    "}\n",
    "\n",
    "ours_accs, ours_aucs = [], []\n",
    "for i in range(n_runs):\n",
    "    ours_correction = correction.run(data_missing, 4001, params, y=y, missing_mask=missing_mask, seed=i)\n",
    "    ## Since our method returns 2 imputations select the best one\n",
    "    scores_raw = utils.get_scores(ours_correction['raw_out'], y)\n",
    "    acc = scores_raw['test_balanced_accuracy']\n",
    "    auc = scores_raw['test_roc_auc_ovo']\n",
    "    acc = acc.mean()\n",
    "    acc_std = acc.std()\n",
    "    auc = auc.mean()\n",
    "    auc_std = auc.std()\n",
    "    if 'masked_out' in ours_correction:\n",
    "        scores_masked = utils.get_scores(ours_correction['masked_out'], y)\n",
    "        acc_masked = scores_masked['test_balanced_accuracy']\n",
    "        auc_masked = scores_masked['test_roc_auc_ovo']\n",
    "        if auc_masked.mean() > auc:\n",
    "            acc = acc_masked.mean()\n",
    "            acc_std = acc_masked.std()\n",
    "            auc = auc_masked.mean()\n",
    "            auc_std = auc_masked.std()\n",
    "    print(f'OUR METHOD RUN {i + 1}/{n_runs} - acc: {round(acc.mean() * 100, 2)}% +- {round(acc.std() * 100, 2)}% - ' +\n",
    "          f'auc: {round(auc.mean() * 100, 2)}% +- {round(auc.std() * 100, 2)}%')\n",
    "    ours_accs.append(acc.mean())\n",
    "    ours_aucs.append(auc.mean())\n",
    "print(f'\\nOUR METHOD GLOBAL - acc: {round(np.array(ours_accs).mean() * 100, 2)}% +- {round(np.array(ours_accs).std() * 100, 2)}% - ' +\n",
    "      f'auc: {round(np.array(ours_aucs).mean() * 100, 2)}% +- {round(np.array(ours_aucs).std() * 100, 2)}%')"
   ]
  },
  {
   "cell_type": "markdown",
   "metadata": {},
   "source": [
    "## Run Median, Mean and KNN"
   ]
  },
  {
   "cell_type": "code",
   "execution_count": 5,
   "metadata": {
    "ExecuteTime": {
     "end_time": "2022-06-03T15:23:05.488483Z",
     "start_time": "2022-06-03T15:23:05.488473Z"
    },
    "execution": {
     "iopub.execute_input": "2022-06-04T07:30:34.197200Z",
     "iopub.status.busy": "2022-06-04T07:30:34.196355Z",
     "iopub.status.idle": "2022-06-04T07:30:34.579977Z",
     "shell.execute_reply": "2022-06-04T07:30:34.580411Z"
    }
   },
   "outputs": [
    {
     "name": "stdout",
     "output_type": "stream",
     "text": [
      "MEDIAN - acc: 67.16% +- 0.0% - auc: 72.08% +- 0.0%\n",
      "MEAN - acc: 65.52% +- 0.0% - auc: 71.04% +- 0.0%\n",
      "KNN - acc: 65.44% +- 0.0% - auc: 71.62% +- 0.0%\n"
     ]
    }
   ],
   "source": [
    "data_missing_nans = np.where(missing_mask, data_missing, np.nan)\n",
    "\n",
    "median_imputer = SimpleImputer(missing_values=np.nan, strategy='median')\n",
    "mean_imputer = SimpleImputer(missing_values=np.nan, strategy='mean')\n",
    "knn_imputer = KNNImputer(n_neighbors=10, weights='uniform')\n",
    "\n",
    "median_completed = median_imputer.fit_transform(data_missing_nans)\n",
    "mean_completed = mean_imputer.fit_transform(data_missing_nans)\n",
    "knn_completed = knn_imputer.fit_transform(data_missing_nans)\n",
    "\n",
    "## All runs would be the same since deterministic methods\n",
    "scores = utils.get_scores(median_completed, y)\n",
    "acc = [scores['test_balanced_accuracy'].mean()] * n_runs\n",
    "auc = [scores['test_roc_auc_ovo'].mean()] * n_runs\n",
    "print(f'MEDIAN - acc: {round(np.mean(acc) * 100, 2)}% +- {round(np.std(acc) * 100, 2)}% - ' +\n",
    "      f'auc: {round(np.mean(auc) * 100, 2)}% +- {round(np.std(auc) * 100, 2)}%')\n",
    "median_accs = acc\n",
    "median_aucs = auc\n",
    "\n",
    "scores = utils.get_scores(mean_completed, y)\n",
    "acc = [scores['test_balanced_accuracy'].mean()] * n_runs\n",
    "auc = [scores['test_roc_auc_ovo'].mean()] * n_runs\n",
    "print(f'MEAN - acc: {round(np.mean(acc) * 100, 2)}% +- {round(np.std(acc) * 100, 2)}% - ' +\n",
    "      f'auc: {round(np.mean(auc) * 100, 2)}% +- {round(np.std(auc) * 100, 2)}%')\n",
    "mean_accs = acc\n",
    "mean_aucs = auc\n",
    "\n",
    "scores = utils.get_scores(knn_completed, y)\n",
    "acc = [scores['test_balanced_accuracy'].mean()] * n_runs\n",
    "auc = [scores['test_roc_auc_ovo'].mean()] * n_runs\n",
    "print(f'KNN - acc: {round(np.mean(acc) * 100, 2)}% +- {round(np.std(acc) * 100, 2)}% - ' +\n",
    "      f'auc: {round(np.mean(auc) * 100, 2)}% +- {round(np.std(auc) * 100, 2)}%')\n",
    "knn_accs = acc\n",
    "knn_aucs = auc"
   ]
  },
  {
   "cell_type": "markdown",
   "metadata": {},
   "source": [
    "## Run GAIN"
   ]
  },
  {
   "cell_type": "code",
   "execution_count": 6,
   "metadata": {
    "ExecuteTime": {
     "end_time": "2022-06-03T15:23:05.489380Z",
     "start_time": "2022-06-03T15:23:05.489371Z"
    },
    "execution": {
     "iopub.execute_input": "2022-06-04T07:30:34.588270Z",
     "iopub.status.busy": "2022-06-04T07:30:34.583645Z",
     "iopub.status.idle": "2022-06-04T07:36:55.516968Z",
     "shell.execute_reply": "2022-06-04T07:36:55.516509Z"
    },
    "scrolled": false
   },
   "outputs": [
    {
     "name": "stderr",
     "output_type": "stream",
     "text": [
      "100%|██████████| 5000/5000 [00:36<00:00, 136.98it/s]\n"
     ]
    },
    {
     "name": "stdout",
     "output_type": "stream",
     "text": [
      "\n",
      "GAIN RUN 1/10 - acc: 64.55% +- 4.06% - auc: 72.23% +- 4.14%\n",
      "\n"
     ]
    },
    {
     "name": "stderr",
     "output_type": "stream",
     "text": [
      "100%|██████████| 5000/5000 [00:36<00:00, 138.05it/s]\n"
     ]
    },
    {
     "name": "stdout",
     "output_type": "stream",
     "text": [
      "\n",
      "GAIN RUN 2/10 - acc: 65.8% +- 5.7% - auc: 70.93% +- 6.28%\n",
      "\n"
     ]
    },
    {
     "name": "stderr",
     "output_type": "stream",
     "text": [
      "100%|██████████| 5000/5000 [00:36<00:00, 136.98it/s]\n"
     ]
    },
    {
     "name": "stdout",
     "output_type": "stream",
     "text": [
      "\n",
      "GAIN RUN 3/10 - acc: 67.11% +- 6.71% - auc: 71.73% +- 7.01%\n",
      "\n"
     ]
    },
    {
     "name": "stderr",
     "output_type": "stream",
     "text": [
      "100%|██████████| 5000/5000 [00:30<00:00, 162.82it/s]\n"
     ]
    },
    {
     "name": "stdout",
     "output_type": "stream",
     "text": [
      "\n",
      "GAIN RUN 4/10 - acc: 68.96% +- 6.66% - auc: 72.82% +- 5.6%\n",
      "\n"
     ]
    },
    {
     "name": "stderr",
     "output_type": "stream",
     "text": [
      "100%|██████████| 5000/5000 [00:36<00:00, 136.82it/s]\n"
     ]
    },
    {
     "name": "stdout",
     "output_type": "stream",
     "text": [
      "\n",
      "GAIN RUN 5/10 - acc: 63.69% +- 5.22% - auc: 73.88% +- 5.11%\n",
      "\n"
     ]
    },
    {
     "name": "stderr",
     "output_type": "stream",
     "text": [
      "100%|██████████| 5000/5000 [00:37<00:00, 135.03it/s]\n"
     ]
    },
    {
     "name": "stdout",
     "output_type": "stream",
     "text": [
      "\n",
      "GAIN RUN 6/10 - acc: 65.05% +- 2.01% - auc: 71.43% +- 3.78%\n",
      "\n"
     ]
    },
    {
     "name": "stderr",
     "output_type": "stream",
     "text": [
      "100%|██████████| 5000/5000 [00:39<00:00, 127.84it/s]\n"
     ]
    },
    {
     "name": "stdout",
     "output_type": "stream",
     "text": [
      "\n",
      "GAIN RUN 7/10 - acc: 70.68% +- 4.83% - auc: 76.84% +- 4.85%\n",
      "\n"
     ]
    },
    {
     "name": "stderr",
     "output_type": "stream",
     "text": [
      "100%|██████████| 5000/5000 [00:39<00:00, 127.86it/s]\n"
     ]
    },
    {
     "name": "stdout",
     "output_type": "stream",
     "text": [
      "\n",
      "GAIN RUN 8/10 - acc: 68.38% +- 4.86% - auc: 74.54% +- 7.53%\n",
      "\n"
     ]
    },
    {
     "name": "stderr",
     "output_type": "stream",
     "text": [
      "100%|██████████| 5000/5000 [00:36<00:00, 138.72it/s]\n"
     ]
    },
    {
     "name": "stdout",
     "output_type": "stream",
     "text": [
      "\n",
      "GAIN RUN 9/10 - acc: 68.31% +- 3.69% - auc: 72.8% +- 5.53%\n",
      "\n"
     ]
    },
    {
     "name": "stderr",
     "output_type": "stream",
     "text": [
      "100%|██████████| 5000/5000 [00:40<00:00, 122.56it/s]\n"
     ]
    },
    {
     "name": "stdout",
     "output_type": "stream",
     "text": [
      "\n",
      "GAIN RUN 10/10 - acc: 70.64% +- 4.94% - auc: 76.43% +- 4.91%\n",
      "\n",
      "GAIN GLOBAL - acc: 67.32% +- 2.36% - auc: 73.36% +- 1.93%\n"
     ]
    }
   ],
   "source": [
    "gain_parameters = {'batch_size': 128,\n",
    "                   'hint_rate': .9,\n",
    "                   'alpha': 100,\n",
    "                   'iterations': 5000}\n",
    "\n",
    "gain_accs, gain_aucs = [], []\n",
    "for i in range(n_runs):\n",
    "    random.seed(i)\n",
    "    np.random.seed(i)\n",
    "    torch.manual_seed(i)\n",
    "    imputed = gain(data_missing_nans, gain_parameters)\n",
    "    scores = utils.get_scores(imputed, y)\n",
    "    acc = scores['test_balanced_accuracy']\n",
    "    auc = scores['test_roc_auc_ovo']\n",
    "    print(f'\\nGAIN RUN {i + 1}/{n_runs} - acc: {round(acc.mean() * 100, 2)}% +- {round(acc.std() * 100, 2)}% - ' +\n",
    "          f'auc: {round(auc.mean() * 100, 2)}% +- {round(auc.std() * 100, 2)}%\\n')\n",
    "    gain_accs.append(acc.mean())\n",
    "    gain_aucs.append(auc.mean())\n",
    "print(f'GAIN GLOBAL - acc: {round(np.array(gain_accs).mean() * 100, 2)}% +- {round(np.array(gain_accs).std() * 100, 2)}% - ' +\n",
    "      f'auc: {round(np.array(gain_aucs).mean() * 100, 2)}% +- {round(np.array(gain_aucs).std() * 100, 2)}%')"
   ]
  },
  {
   "cell_type": "markdown",
   "metadata": {},
   "source": [
    "## Run MICE"
   ]
  },
  {
   "cell_type": "code",
   "execution_count": 7,
   "metadata": {
    "ExecuteTime": {
     "end_time": "2022-06-03T15:23:05.489983Z",
     "start_time": "2022-06-03T15:23:05.489973Z"
    },
    "execution": {
     "iopub.execute_input": "2022-06-04T07:36:55.524768Z",
     "iopub.status.busy": "2022-06-04T07:36:55.524316Z",
     "iopub.status.idle": "2022-06-04T07:37:23.617064Z",
     "shell.execute_reply": "2022-06-04T07:37:23.616536Z"
    }
   },
   "outputs": [
    {
     "name": "stdout",
     "output_type": "stream",
     "text": [
      "MICE - acc: 67.95% +- 0.0% - auc: 71.94% +- 0.0%\n"
     ]
    }
   ],
   "source": [
    "imputer = IterativeImputer()\n",
    "imputed = imputer.fit_transform(data_missing_nans)\n",
    "## All runs would be the same since deterministic method\n",
    "scores = utils.get_scores(imputed, y)\n",
    "acc = [scores['test_balanced_accuracy'].mean()] * n_runs\n",
    "auc = [scores['test_roc_auc_ovo'].mean()] * n_runs\n",
    "print(f'MICE - acc: {round(np.mean(acc) * 100, 2)}% +- {round(np.std(acc) * 100, 2)}% - ' +\n",
    "      f'auc: {round(np.mean(auc) * 100, 2)}% +- {round(np.std(auc) * 100, 2)}%')\n",
    "mice_accs = acc\n",
    "mice_aucs = auc"
   ]
  },
  {
   "cell_type": "markdown",
   "metadata": {},
   "source": [
    "## Run MISSFOREST"
   ]
  },
  {
   "cell_type": "code",
   "execution_count": 8,
   "metadata": {
    "ExecuteTime": {
     "end_time": "2022-06-03T15:23:05.490726Z",
     "start_time": "2022-06-03T15:23:05.490717Z"
    },
    "execution": {
     "iopub.execute_input": "2022-06-04T07:37:23.625070Z",
     "iopub.status.busy": "2022-06-04T07:37:23.621124Z",
     "iopub.status.idle": "2022-06-04T08:51:13.062588Z",
     "shell.execute_reply": "2022-06-04T08:51:13.063002Z"
    },
    "scrolled": false
   },
   "outputs": [
    {
     "name": "stdout",
     "output_type": "stream",
     "text": [
      "Iteration: 0\n",
      "Iteration: 1\n",
      "Iteration: 2\n",
      "Iteration: 3\n",
      "Iteration: 4\n",
      "Iteration: 5\n",
      "Iteration: 6\n",
      "\n",
      "MISSFOREST RUN 1/10 - acc: 66.26% +- 5.48% - auc: 71.98% +- 8.21%\n",
      "\n",
      "Iteration: 0\n",
      "Iteration: 1\n",
      "Iteration: 2\n",
      "Iteration: 3\n",
      "Iteration: 4\n",
      "Iteration: 5\n",
      "Iteration: 6\n",
      "\n",
      "MISSFOREST RUN 2/10 - acc: 64.97% +- 3.24% - auc: 71.55% +- 3.29%\n",
      "\n",
      "Iteration: 0\n",
      "Iteration: 1\n",
      "Iteration: 2\n",
      "Iteration: 3\n",
      "Iteration: 4\n",
      "Iteration: 5\n",
      "\n",
      "MISSFOREST RUN 3/10 - acc: 68.48% +- 5.95% - auc: 73.7% +- 5.69%\n",
      "\n",
      "Iteration: 0\n",
      "Iteration: 1\n",
      "Iteration: 2\n",
      "Iteration: 3\n",
      "Iteration: 4\n",
      "Iteration: 5\n",
      "Iteration: 6\n",
      "\n",
      "MISSFOREST RUN 4/10 - acc: 68.27% +- 4.11% - auc: 74.11% +- 4.54%\n",
      "\n",
      "Iteration: 0\n",
      "Iteration: 1\n",
      "Iteration: 2\n",
      "Iteration: 3\n",
      "Iteration: 4\n",
      "Iteration: 5\n",
      "Iteration: 6\n",
      "Iteration: 7\n",
      "Iteration: 8\n",
      "\n",
      "MISSFOREST RUN 5/10 - acc: 66.28% +- 3.13% - auc: 72.09% +- 3.69%\n",
      "\n",
      "Iteration: 0\n",
      "Iteration: 1\n",
      "Iteration: 2\n",
      "Iteration: 3\n",
      "Iteration: 4\n",
      "Iteration: 5\n",
      "\n",
      "MISSFOREST RUN 6/10 - acc: 66.71% +- 4.62% - auc: 73.2% +- 5.53%\n",
      "\n",
      "Iteration: 0\n",
      "Iteration: 1\n",
      "Iteration: 2\n",
      "Iteration: 3\n",
      "Iteration: 4\n",
      "Iteration: 5\n",
      "Iteration: 6\n",
      "\n",
      "MISSFOREST RUN 7/10 - acc: 67.71% +- 3.53% - auc: 73.62% +- 5.9%\n",
      "\n",
      "Iteration: 0\n",
      "Iteration: 1\n",
      "Iteration: 2\n",
      "Iteration: 3\n",
      "Iteration: 4\n",
      "Iteration: 5\n",
      "\n",
      "MISSFOREST RUN 8/10 - acc: 64.44% +- 4.44% - auc: 70.48% +- 4.57%\n",
      "\n",
      "Iteration: 0\n",
      "Iteration: 1\n",
      "Iteration: 2\n",
      "Iteration: 3\n",
      "Iteration: 4\n",
      "Iteration: 5\n",
      "Iteration: 6\n",
      "Iteration: 7\n",
      "Iteration: 8\n",
      "Iteration: 9\n",
      "\n",
      "MISSFOREST RUN 9/10 - acc: 65.87% +- 6.04% - auc: 73.29% +- 6.23%\n",
      "\n",
      "Iteration: 0\n",
      "Iteration: 1\n",
      "Iteration: 2\n",
      "Iteration: 3\n",
      "Iteration: 4\n",
      "Iteration: 5\n",
      "Iteration: 6\n",
      "\n",
      "MISSFOREST RUN 10/10 - acc: 68.85% +- 3.56% - auc: 74.63% +- 4.24%\n",
      "\n",
      "\n",
      "MISSFOREST GLOBAL - acc: 66.79% +- 1.43% - auc: 72.86% +- 1.23%\n"
     ]
    }
   ],
   "source": [
    "miss_accs, miss_aucs = [], []\n",
    "for i in range(n_runs):\n",
    "    random.seed(i)\n",
    "    np.random.seed(i)\n",
    "    torch.manual_seed(i)\n",
    "    imputer = MissForest(n_jobs=-1, random_state=i)\n",
    "    imputed = imputer.fit_transform(data_missing_nans)\n",
    "    scores = utils.get_scores(imputed, y)\n",
    "    acc = scores['test_balanced_accuracy']\n",
    "    auc = scores['test_roc_auc_ovo']\n",
    "    print(f'\\nMISSFOREST RUN {i + 1}/{n_runs} - acc: {round(acc.mean() * 100, 2)}% +- {round(acc.std() * 100, 2)}% - ' +\n",
    "          f'auc: {round(auc.mean() * 100, 2)}% +- {round(auc.std() * 100, 2)}%\\n')\n",
    "    miss_accs.append(acc.mean())\n",
    "    miss_aucs.append(auc.mean())\n",
    "print(f'\\nMISSFOREST GLOBAL - acc: {round(np.array(miss_accs).mean() * 100, 2)}% +- {round(np.array(miss_accs).std() * 100, 2)}% - ' +\n",
    "      f'auc: {round(np.array(miss_aucs).mean() * 100, 2)}% +- {round(np.array(miss_aucs).std() * 100, 2)}%')"
   ]
  },
  {
   "cell_type": "markdown",
   "metadata": {},
   "source": [
    "## Run SOFTIMPUTE"
   ]
  },
  {
   "cell_type": "code",
   "execution_count": 9,
   "metadata": {
    "ExecuteTime": {
     "end_time": "2022-06-03T15:23:05.491327Z",
     "start_time": "2022-06-03T15:23:05.491318Z"
    },
    "execution": {
     "iopub.execute_input": "2022-06-04T08:51:13.070631Z",
     "iopub.status.busy": "2022-06-04T08:51:13.069790Z",
     "iopub.status.idle": "2022-06-04T08:51:14.363273Z",
     "shell.execute_reply": "2022-06-04T08:51:14.363674Z"
    }
   },
   "outputs": [
    {
     "name": "stdout",
     "output_type": "stream",
     "text": [
      "SOFTIMPUTE RUN 1/10 - acc: 64.8% +- 5.0% - auc: 72.88% +- 7.76%\n",
      "SOFTIMPUTE RUN 2/10 - acc: 67.47% +- 6.24% - auc: 75.26% +- 6.75%\n",
      "SOFTIMPUTE RUN 3/10 - acc: 68.16% +- 3.57% - auc: 72.09% +- 2.99%\n",
      "SOFTIMPUTE RUN 4/10 - acc: 66.97% +- 3.28% - auc: 74.82% +- 5.31%\n",
      "SOFTIMPUTE RUN 5/10 - acc: 64.08% +- 2.92% - auc: 72.9% +- 2.66%\n",
      "SOFTIMPUTE RUN 6/10 - acc: 66.62% +- 5.38% - auc: 73.7% +- 5.71%\n",
      "SOFTIMPUTE RUN 7/10 - acc: 66.34% +- 4.02% - auc: 71.89% +- 6.89%\n",
      "SOFTIMPUTE RUN 8/10 - acc: 66.28% +- 5.31% - auc: 71.89% +- 5.69%\n",
      "SOFTIMPUTE RUN 9/10 - acc: 66.03% +- 4.11% - auc: 74.39% +- 6.72%\n",
      "SOFTIMPUTE RUN 10/10 - acc: 65.17% +- 2.23% - auc: 73.26% +- 5.06%\n",
      "\n",
      "SOFTIMPUTE GLOBAL - acc: 66.19% +- 1.18% - auc: 73.31% +- 1.15%\n"
     ]
    }
   ],
   "source": [
    "soft_accs, soft_aucs = [], []\n",
    "for i in range(n_runs):\n",
    "    random.seed(i)\n",
    "    np.random.seed(i)\n",
    "    torch.manual_seed(i)\n",
    "    imputer = SoftImpute(random_state=i)\n",
    "    imputer.fit(data_missing_nans)\n",
    "    imputed = imputer.predict(data_missing_nans)\n",
    "    imputed = np.where(missing_mask, data_missing, imputed)\n",
    "    scores = utils.get_scores(imputed, y)\n",
    "    acc = scores['test_balanced_accuracy']\n",
    "    auc = scores['test_roc_auc_ovo']\n",
    "    print(f'SOFTIMPUTE RUN {i + 1}/{n_runs} - acc: {round(acc.mean() * 100, 2)}% +- {round(acc.std() * 100, 2)}% - ' +\n",
    "          f'auc: {round(auc.mean() * 100, 2)}% +- {round(auc.std() * 100, 2)}%')\n",
    "    soft_accs.append(acc.mean())\n",
    "    soft_aucs.append(auc.mean())\n",
    "print(f'\\nSOFTIMPUTE GLOBAL - acc: {round(np.array(soft_accs).mean() * 100, 2)}% +- {round(np.array(soft_accs).std() * 100, 2)}% - ' +\n",
    "      f'auc: {round(np.array(soft_aucs).mean() * 100, 2)}% +- {round(np.array(soft_aucs).std() * 100, 2)}%')"
   ]
  },
  {
   "cell_type": "markdown",
   "metadata": {},
   "source": [
    "## Run SINKHORN"
   ]
  },
  {
   "cell_type": "code",
   "execution_count": 10,
   "metadata": {
    "ExecuteTime": {
     "end_time": "2022-06-03T15:23:05.491915Z",
     "start_time": "2022-06-03T15:23:05.491906Z"
    },
    "execution": {
     "iopub.execute_input": "2022-06-04T08:51:14.372209Z",
     "iopub.status.busy": "2022-06-04T08:51:14.371663Z",
     "iopub.status.idle": "2022-06-04T08:57:05.101334Z",
     "shell.execute_reply": "2022-06-04T08:57:05.102136Z"
    }
   },
   "outputs": [
    {
     "name": "stdout",
     "output_type": "stream",
     "text": [
      "batchsize = 128, epsilon = 0.0100\n",
      "Iteration 0:\t Loss: 2.7988\n",
      "\n",
      "SINKHORN RUN 1/10 - acc: 67.66% +- 4.71% - auc: 74.61% +- 6.14%\n",
      "\n",
      "batchsize = 128, epsilon = 0.0100\n",
      "Iteration 0:\t Loss: 2.6428\n",
      "\n",
      "SINKHORN RUN 2/10 - acc: 69.69% +- 4.24% - auc: 73.21% +- 4.17%\n",
      "\n",
      "batchsize = 128, epsilon = 0.0100\n",
      "Iteration 0:\t Loss: 2.7103\n",
      "\n",
      "SINKHORN RUN 3/10 - acc: 65.54% +- 3.32% - auc: 72.5% +- 5.42%\n",
      "\n",
      "batchsize = 128, epsilon = 0.0100\n",
      "Iteration 0:\t Loss: 2.4630\n",
      "\n",
      "SINKHORN RUN 4/10 - acc: 68.31% +- 5.1% - auc: 75.22% +- 5.91%\n",
      "\n",
      "batchsize = 128, epsilon = 0.0100\n",
      "Iteration 0:\t Loss: 2.8821\n",
      "\n",
      "SINKHORN RUN 5/10 - acc: 65.95% +- 7.51% - auc: 72.01% +- 6.26%\n",
      "\n",
      "batchsize = 128, epsilon = 0.0100\n",
      "Iteration 0:\t Loss: 2.6999\n",
      "\n",
      "SINKHORN RUN 6/10 - acc: 66.95% +- 1.86% - auc: 73.17% +- 3.19%\n",
      "\n",
      "batchsize = 128, epsilon = 0.0100\n",
      "Iteration 0:\t Loss: 2.5172\n",
      "\n",
      "SINKHORN RUN 7/10 - acc: 68.95% +- 5.05% - auc: 76.49% +- 5.24%\n",
      "\n",
      "batchsize = 128, epsilon = 0.0100\n",
      "Iteration 0:\t Loss: 2.5824\n",
      "\n",
      "SINKHORN RUN 8/10 - acc: 64.82% +- 6.24% - auc: 70.78% +- 5.84%\n",
      "\n",
      "batchsize = 128, epsilon = 0.0100\n",
      "Iteration 0:\t Loss: 2.6300\n",
      "\n",
      "SINKHORN RUN 9/10 - acc: 68.64% +- 2.75% - auc: 74.84% +- 4.45%\n",
      "\n",
      "batchsize = 128, epsilon = 0.0100\n",
      "Iteration 0:\t Loss: 2.5524\n",
      "\n",
      "SINKHORN RUN 10/10 - acc: 66.67% +- 3.96% - auc: 75.17% +- 4.4%\n",
      "\n",
      "\n",
      "SINKHORN GLOBAL - acc: 67.32% +- 1.52% - auc: 73.8% +- 1.66%\n"
     ]
    }
   ],
   "source": [
    "sink_accs, sink_aucs = [], []\n",
    "for i in range(n_runs):\n",
    "    random.seed(i)\n",
    "    np.random.seed(i)\n",
    "    torch.manual_seed(i)\n",
    "    imputer = OTimputer(niter=500)\n",
    "    imputed = imputer.fit_transform(data_missing_nans).cpu().detach().numpy()\n",
    "    scores = utils.get_scores(imputed, y)\n",
    "    acc = scores['test_balanced_accuracy']\n",
    "    auc = scores['test_roc_auc_ovo']\n",
    "    print(f'\\nSINKHORN RUN {i + 1}/{n_runs} - acc: {round(acc.mean() * 100, 2)}% +- {round(acc.std() * 100, 2)}% - ' +\n",
    "          f'auc: {round(auc.mean() * 100, 2)}% +- {round(auc.std() * 100, 2)}%\\n')\n",
    "    sink_accs.append(acc.mean())\n",
    "    sink_aucs.append(auc.mean())\n",
    "print(f'\\nSINKHORN GLOBAL - acc: {round(np.array(sink_accs).mean() * 100, 2)}% +- {round(np.array(sink_accs).std() * 100, 2)}% - ' +\n",
    "      f'auc: {round(np.array(sink_aucs).mean() * 100, 2)}% +- {round(np.array(sink_aucs).std() * 100, 2)}%')"
   ]
  },
  {
   "cell_type": "markdown",
   "metadata": {},
   "source": [
    "## Run MIDA"
   ]
  },
  {
   "cell_type": "code",
   "execution_count": 11,
   "metadata": {
    "ExecuteTime": {
     "end_time": "2022-06-03T15:23:05.492695Z",
     "start_time": "2022-06-03T15:23:05.492686Z"
    },
    "execution": {
     "iopub.execute_input": "2022-06-04T08:57:05.109328Z",
     "iopub.status.busy": "2022-06-04T08:57:05.108750Z",
     "iopub.status.idle": "2022-06-04T09:01:50.767169Z",
     "shell.execute_reply": "2022-06-04T09:01:50.766635Z"
    }
   },
   "outputs": [
    {
     "name": "stdout",
     "output_type": "stream",
     "text": [
      "Stop training at epoch: 1500/1500, return best output\n",
      "\n",
      "MIDA RUN 1/10 - acc: 65.94% +- 5.3% - auc: 71.42% +- 4.51%\n",
      "\n",
      "Stop training at epoch: 1500/1500, return best output\n",
      "\n",
      "MIDA RUN 2/10 - acc: 67.04% +- 5.73% - auc: 72.2% +- 7.06%\n",
      "\n",
      "Stop training at epoch: 1500/1500, return best output\n",
      "\n",
      "MIDA RUN 3/10 - acc: 65.84% +- 5.48% - auc: 72.03% +- 6.87%\n",
      "\n",
      "Stop training at epoch: 1500/1500, return best output\n",
      "\n",
      "MIDA RUN 4/10 - acc: 66.31% +- 2.75% - auc: 69.82% +- 3.96%\n",
      "\n",
      "Stop training at epoch: 1500/1500, return best output\n",
      "\n",
      "MIDA RUN 5/10 - acc: 66.73% +- 4.91% - auc: 70.16% +- 7.01%\n",
      "\n",
      "Stop training at epoch: 1500/1500, return best output\n",
      "\n",
      "MIDA RUN 6/10 - acc: 68.25% +- 4.39% - auc: 72.69% +- 4.53%\n",
      "\n",
      "Stop training at epoch: 1500/1500, return best output\n",
      "\n",
      "MIDA RUN 7/10 - acc: 66.98% +- 4.23% - auc: 74.5% +- 5.01%\n",
      "\n",
      "Stop training at epoch: 1500/1500, return best output\n",
      "\n",
      "MIDA RUN 8/10 - acc: 66.52% +- 4.43% - auc: 72.41% +- 5.1%\n",
      "\n",
      "Stop training at epoch: 1500/1500, return best output\n",
      "\n",
      "MIDA RUN 9/10 - acc: 66.88% +- 5.47% - auc: 73.86% +- 5.97%\n",
      "\n",
      "Stop training at epoch: 1500/1500, return best output\n",
      "\n",
      "MIDA RUN 10/10 - acc: 67.06% +- 5.91% - auc: 73.47% +- 4.16%\n",
      "\n",
      "\n",
      "MIDA GLOBAL - acc: 66.76% +- 0.65% - auc: 72.26% +- 1.43%\n"
     ]
    }
   ],
   "source": [
    "mida_accs, mida_aucs = [], []\n",
    "for i in range(n_runs):\n",
    "    random.seed(i)\n",
    "    np.random.seed(i)\n",
    "    torch.manual_seed(i)\n",
    "    imputed = mida(data_missing_nans, num_layers=2, num_epochs=1500)\n",
    "    imputed = np.where(missing_mask, data_missing, imputed)\n",
    "    scores = utils.get_scores(imputed, y)\n",
    "    acc = scores['test_balanced_accuracy']\n",
    "    auc = scores['test_roc_auc_ovo']\n",
    "    print(f'\\nMIDA RUN {i + 1}/{n_runs} - acc: {round(acc.mean() * 100, 2)}% +- {round(acc.std() * 100, 2)}% - ' +\n",
    "          f'auc: {round(auc.mean() * 100, 2)}% +- {round(auc.std() * 100, 2)}%\\n')\n",
    "    mida_accs.append(acc.mean())\n",
    "    mida_aucs.append(auc.mean())\n",
    "print(f'\\nMIDA GLOBAL - acc: {round(np.array(mida_accs).mean() * 100, 2)}% +- {round(np.array(mida_accs).std() * 100, 2)}% - ' +\n",
    "      f'auc: {round(np.array(mida_aucs).mean() * 100, 2)}% +- {round(np.array(mida_aucs).std() * 100, 2)}%')"
   ]
  },
  {
   "cell_type": "markdown",
   "metadata": {},
   "source": [
    "## Run T-tests"
   ]
  },
  {
   "cell_type": "code",
   "execution_count": 12,
   "metadata": {
    "ExecuteTime": {
     "end_time": "2022-06-03T15:23:05.493389Z",
     "start_time": "2022-06-03T15:23:05.493380Z"
    },
    "execution": {
     "iopub.execute_input": "2022-06-04T09:01:50.779762Z",
     "iopub.status.busy": "2022-06-04T09:01:50.774862Z",
     "iopub.status.idle": "2022-06-04T09:01:50.783867Z",
     "shell.execute_reply": "2022-06-04T09:01:50.783430Z"
    },
    "scrolled": false
   },
   "outputs": [
    {
     "name": "stdout",
     "output_type": "stream",
     "text": [
      "Metric ACC - OUR METHOD is significantly better than MEDIAN\n",
      "Metric AUC - OUR METHOD is significantly better than MEDIAN\n",
      "Metric ACC - OUR METHOD is significantly better than MEAN\n",
      "Metric AUC - OUR METHOD is significantly better than MEAN\n",
      "Metric ACC - OUR METHOD is significantly better than KNN\n",
      "Metric AUC - OUR METHOD is significantly better than KNN\n",
      "Metric ACC - OUR METHOD is even with GAIN\n",
      "Metric AUC - OUR METHOD is even with GAIN\n",
      "Metric ACC - OUR METHOD is significantly better than MICE\n",
      "Metric AUC - OUR METHOD is significantly better than MICE\n",
      "Metric ACC - OUR METHOD is significantly better than MISS\n",
      "Metric AUC - OUR METHOD is significantly better than MISS\n",
      "Metric ACC - OUR METHOD is significantly better than SOFT\n",
      "Metric AUC - OUR METHOD is even with SOFT\n",
      "Metric ACC - OUR METHOD is significantly better than SINK\n",
      "Metric AUC - OUR METHOD is even with SINK\n",
      "Metric ACC - OUR METHOD is significantly better than MIDA\n",
      "Metric AUC - OUR METHOD is significantly better than MIDA\n"
     ]
    }
   ],
   "source": [
    "for model, metrics in {\n",
    "        'MEDIAN': {'ACC': median_accs, 'AUC': median_aucs},\n",
    "        'MEAN': {'ACC': mean_accs, 'AUC': mean_aucs},\n",
    "        'KNN': {'ACC': knn_accs, 'AUC': knn_aucs},\n",
    "        'GAIN': {'ACC': gain_accs, 'AUC': gain_aucs},\n",
    "        'MICE': {'ACC': mice_accs, 'AUC': mice_aucs},\n",
    "        'MISS': {'ACC': miss_accs, 'AUC': miss_aucs},\n",
    "        'SOFT': {'ACC': soft_accs, 'AUC': soft_aucs},\n",
    "        'SINK': {'ACC': sink_accs, 'AUC': sink_aucs},\n",
    "        'MIDA': {'ACC': mida_accs, 'AUC': mida_aucs}}.items():\n",
    "    for metric_name, metric in metrics.items():\n",
    "        ours_metric = ours_accs if metric_name == 'ACC' else ours_aucs\n",
    "        t, p = scipy.stats.ttest_ind(np.array(ours_metric), np.array(metric))\n",
    "        if p <= .05:\n",
    "            if t > 0:\n",
    "                ## Our method is better\n",
    "                print(f'Metric {metric_name} - OUR METHOD is significantly better than {model}')\n",
    "            else:\n",
    "                ## Theirs is better\n",
    "                print(f'Metric {metric_name} - OUR METHOD is significantly worse than {model}')\n",
    "        else:\n",
    "            ## Else we are even\n",
    "            print(f'Metric {metric_name} - OUR METHOD is even with {model}')"
   ]
  }
 ],
 "metadata": {
  "kernelspec": {
   "display_name": "Python 3 (ipykernel)",
   "language": "python",
   "name": "python3"
  },
  "language_info": {
   "codemirror_mode": {
    "name": "ipython",
    "version": 3
   },
   "file_extension": ".py",
   "mimetype": "text/x-python",
   "name": "python",
   "nbconvert_exporter": "python",
   "pygments_lexer": "ipython3",
   "version": "3.9.7"
  },
  "latex_envs": {
   "LaTeX_envs_menu_present": true,
   "autoclose": false,
   "autocomplete": true,
   "bibliofile": "biblio.bib",
   "cite_by": "apalike",
   "current_citInitial": 1,
   "eqLabelWithNumbers": true,
   "eqNumInitial": 1,
   "hotkeys": {
    "equation": "Ctrl-E",
    "itemize": "Ctrl-I"
   },
   "labels_anchors": false,
   "latex_user_defs": false,
   "report_style_numbering": false,
   "user_envs_cfg": false
  }
 },
 "nbformat": 4,
 "nbformat_minor": 2
}
