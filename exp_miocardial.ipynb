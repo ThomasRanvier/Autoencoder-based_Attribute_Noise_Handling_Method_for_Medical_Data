{
 "cells": [
  {
   "cell_type": "code",
   "execution_count": 1,
   "metadata": {
    "ExecuteTime": {
     "end_time": "2022-06-03T07:56:37.128214Z",
     "start_time": "2022-06-03T07:56:33.810392Z"
    },
    "execution": {
     "iopub.execute_input": "2022-06-03T08:58:03.301346Z",
     "iopub.status.busy": "2022-06-03T08:58:03.292430Z",
     "iopub.status.idle": "2022-06-03T08:58:09.278494Z",
     "shell.execute_reply": "2022-06-03T08:58:09.278979Z"
    }
   },
   "outputs": [],
   "source": [
    "from __future__ import print_function\n",
    "import warnings\n",
    "warnings.filterwarnings(\"ignore\", category=UserWarning)\n",
    "warnings.filterwarnings(\"ignore\", category=FutureWarning)\n",
    "## Disable tf future deprecated messages\n",
    "import logging\n",
    "logging.getLogger('tensorflow').disabled = True\n",
    "## Disable tf CUDA messages\n",
    "import os\n",
    "os.environ['TF_CPP_MIN_LOG_LEVEL'] = '3'\n",
    "\n",
    "%matplotlib inline\n",
    "\n",
    "import sys\n",
    "import random\n",
    "import numpy as np\n",
    "import pandas as pd\n",
    "\n",
    "import utils\n",
    "import correction\n",
    "from models.dense import *\n",
    "from models.gain import gain\n",
    "from models.soft_impute import SoftImpute\n",
    "from models.sinkhorn import OTimputer\n",
    "from models.mida import mida\n",
    "\n",
    "import scipy.stats\n",
    "\n",
    "from sklearn.experimental import enable_iterative_imputer\n",
    "from sklearn.impute import IterativeImputer\n",
    "from sklearn.impute import KNNImputer, SimpleImputer\n",
    "\n",
    "import sklearn.neighbors._base\n",
    "sys.modules['sklearn.neighbors.base'] = sklearn.neighbors._base\n",
    "from missingpy import MissForest\n",
    "\n",
    "torch.backends.cudnn.enabled = True\n",
    "torch.backends.cudnn.benchmark = True\n",
    "dtype = torch.cuda.FloatTensor"
   ]
  },
  {
   "cell_type": "markdown",
   "metadata": {},
   "source": [
    "## Repeat all experiments for 10 runs"
   ]
  },
  {
   "cell_type": "code",
   "execution_count": 2,
   "metadata": {
    "ExecuteTime": {
     "end_time": "2022-06-03T07:56:37.132965Z",
     "start_time": "2022-06-03T07:56:37.130326Z"
    },
    "execution": {
     "iopub.execute_input": "2022-06-03T08:58:09.292627Z",
     "iopub.status.busy": "2022-06-03T08:58:09.287804Z",
     "iopub.status.idle": "2022-06-03T08:58:09.298682Z",
     "shell.execute_reply": "2022-06-03T08:58:09.299130Z"
    }
   },
   "outputs": [],
   "source": [
    "n_runs = 10"
   ]
  },
  {
   "cell_type": "markdown",
   "metadata": {},
   "source": [
    "## Load data"
   ]
  },
  {
   "cell_type": "code",
   "execution_count": 3,
   "metadata": {
    "ExecuteTime": {
     "end_time": "2022-06-03T07:56:37.290562Z",
     "start_time": "2022-06-03T07:56:37.134360Z"
    },
    "execution": {
     "iopub.execute_input": "2022-06-03T08:58:09.303333Z",
     "iopub.status.busy": "2022-06-03T08:58:09.301075Z",
     "iopub.status.idle": "2022-06-03T08:58:09.684486Z",
     "shell.execute_reply": "2022-06-03T08:58:09.684924Z"
    }
   },
   "outputs": [
    {
     "name": "stdout",
     "output_type": "stream",
     "text": [
      "Dataset shape: (1700, 110)\n",
      "5.62% missing data\n",
      "Class distribution: (array([0, 1]), array([1429,  271]))\n"
     ]
    }
   ],
   "source": [
    "data_missing, missing_mask, y = utils.load_miocardial()"
   ]
  },
  {
   "cell_type": "markdown",
   "metadata": {},
   "source": [
    "## Run OUR METHOD"
   ]
  },
  {
   "cell_type": "code",
   "execution_count": 4,
   "metadata": {
    "ExecuteTime": {
     "end_time": "2022-06-03T07:58:28.409535Z",
     "start_time": "2022-06-03T07:56:37.292368Z"
    },
    "execution": {
     "iopub.execute_input": "2022-06-03T08:58:09.699786Z",
     "iopub.status.busy": "2022-06-03T08:58:09.689839Z",
     "iopub.status.idle": "2022-06-03T09:10:13.181308Z",
     "shell.execute_reply": "2022-06-03T09:10:13.181676Z"
    },
    "scrolled": false
   },
   "outputs": [
    {
     "name": "stdout",
     "output_type": "stream",
     "text": [
      "Ite 00000 - 2.90 sec - Loss 0.243613 - ACC 77.61% - ACC Mean 77.61% - AUC 85.66% - AUC Mean 85.66% - Deter 000\n",
      "Ite 00050 - 0.95 sec - Loss 0.122674 - ACC 78.07% - ACC Mean 77.67% - AUC 84.44% - AUC Mean 84.01% - Deter 047\n",
      "Ite 00053 - 1.23 sec - Loss 0.120377 - ACC 77.91% - ACC Mean 77.69% - AUC 84.30% - AUC Mean 83.88% - Deter 050\n",
      "Early stop ite 53, rollback to correction of ite 3, whith acc of 77.07% and auc of 86.4%\n",
      "OUR METHOD RUN 1/10 - acc: 77.07% +- 0.0% - auc: 86.4% +- 0.0%\n",
      "Ite 00000 - 0.95 sec - Loss 0.247092 - ACC 78.02% - ACC Mean 78.02% - AUC 85.75% - AUC Mean 85.75% - Deter 000\n",
      "Ite 00050 - 1.04 sec - Loss 0.130605 - ACC 78.14% - ACC Mean 78.18% - AUC 84.38% - AUC Mean 84.45% - Deter 050\n",
      "Early stop ite 50, rollback to correction of ite 0, whith acc of 78.02% and auc of 85.75%\n",
      "OUR METHOD RUN 2/10 - acc: 78.02% +- 0.0% - auc: 85.75% +- 0.0%\n",
      "Ite 00000 - 1.03 sec - Loss 0.218782 - ACC 75.94% - ACC Mean 75.94% - AUC 85.19% - AUC Mean 85.19% - Deter 000\n",
      "Ite 00050 - 1.05 sec - Loss 0.110384 - ACC 78.22% - ACC Mean 77.75% - AUC 83.54% - AUC Mean 83.78% - Deter 047\n",
      "Ite 00053 - 1.02 sec - Loss 0.108080 - ACC 78.33% - ACC Mean 77.80% - AUC 85.44% - AUC Mean 83.70% - Deter 050\n",
      "Early stop ite 53, rollback to correction of ite 3, whith acc of 78.04% and auc of 86.39%\n",
      "OUR METHOD RUN 3/10 - acc: 78.04% +- 0.0% - auc: 86.39% +- 0.0%\n",
      "Ite 00000 - 1.11 sec - Loss 0.179567 - ACC 75.46% - ACC Mean 75.46% - AUC 86.38% - AUC Mean 86.38% - Deter 000\n",
      "Ite 00050 - 1.12 sec - Loss 0.089994 - ACC 76.74% - ACC Mean 76.62% - AUC 86.80% - AUC Mean 84.96% - Deter 000\n",
      "Ite 00100 - 1.03 sec - Loss 0.071248 - ACC 76.14% - ACC Mean 76.29% - AUC 83.25% - AUC Mean 84.45% - Deter 050\n",
      "Early stop ite 100, rollback to correction of ite 50, whith acc of 76.74% and auc of 86.8%\n",
      "OUR METHOD RUN 4/10 - acc: 76.74% +- 0.0% - auc: 86.8% +- 0.0%\n",
      "Ite 00000 - 1.06 sec - Loss 0.247643 - ACC 76.55% - ACC Mean 76.55% - AUC 85.27% - AUC Mean 85.27% - Deter 000\n",
      "Ite 00050 - 1.12 sec - Loss 0.127190 - ACC 77.36% - ACC Mean 77.09% - AUC 83.63% - AUC Mean 84.38% - Deter 042\n",
      "Ite 00058 - 1.12 sec - Loss 0.119876 - ACC 77.29% - ACC Mean 77.32% - AUC 84.98% - AUC Mean 84.32% - Deter 050\n",
      "Early stop ite 58, rollback to correction of ite 8, whith acc of 76.84% and auc of 86.5%\n",
      "OUR METHOD RUN 5/10 - acc: 76.84% +- 0.0% - auc: 86.5% +- 0.0%\n",
      "Ite 00000 - 0.97 sec - Loss 0.229334 - ACC 77.41% - ACC Mean 77.41% - AUC 85.72% - AUC Mean 85.72% - Deter 000\n",
      "Ite 00050 - 1.05 sec - Loss 0.137022 - ACC 78.66% - ACC Mean 77.34% - AUC 83.88% - AUC Mean 84.59% - Deter 032\n",
      "Ite 00068 - 1.14 sec - Loss 0.125977 - ACC 78.21% - ACC Mean 77.37% - AUC 85.05% - AUC Mean 84.34% - Deter 050\n",
      "Early stop ite 68, rollback to correction of ite 18, whith acc of 79.39% and auc of 86.4%\n",
      "OUR METHOD RUN 6/10 - acc: 79.39% +- 0.0% - auc: 86.4% +- 0.0%\n",
      "Ite 00000 - 1.19 sec - Loss 0.249050 - ACC 76.79% - ACC Mean 76.79% - AUC 83.92% - AUC Mean 83.92% - Deter 000\n",
      "Ite 00050 - 0.99 sec - Loss 0.136743 - ACC 77.27% - ACC Mean 77.50% - AUC 82.12% - AUC Mean 83.78% - Deter 049\n",
      "Ite 00051 - 0.99 sec - Loss 0.136100 - ACC 78.08% - ACC Mean 77.52% - AUC 83.53% - AUC Mean 83.73% - Deter 050\n",
      "Early stop ite 51, rollback to correction of ite 1, whith acc of 76.74% and auc of 86.02%\n",
      "OUR METHOD RUN 7/10 - acc: 76.74% +- 0.0% - auc: 86.02% +- 0.0%\n",
      "Ite 00000 - 1.22 sec - Loss 0.245503 - ACC 76.08% - ACC Mean 76.08% - AUC 83.65% - AUC Mean 83.65% - Deter 000\n",
      "Ite 00050 - 0.95 sec - Loss 0.127842 - ACC 78.50% - ACC Mean 77.29% - AUC 85.00% - AUC Mean 83.82% - Deter 047\n",
      "Ite 00053 - 1.18 sec - Loss 0.125500 - ACC 77.28% - ACC Mean 77.30% - AUC 84.60% - AUC Mean 83.83% - Deter 050\n",
      "Early stop ite 53, rollback to correction of ite 3, whith acc of 78.28% and auc of 85.71%\n",
      "OUR METHOD RUN 8/10 - acc: 78.28% +- 0.0% - auc: 85.71% +- 0.0%\n",
      "Ite 00000 - 1.06 sec - Loss 0.196877 - ACC 77.37% - ACC Mean 77.37% - AUC 85.60% - AUC Mean 85.60% - Deter 000\n",
      "Ite 00050 - 1.16 sec - Loss 0.101196 - ACC 77.90% - ACC Mean 77.04% - AUC 85.38% - AUC Mean 85.12% - Deter 012\n",
      "Ite 00088 - 1.00 sec - Loss 0.083057 - ACC 76.79% - ACC Mean 77.25% - AUC 85.39% - AUC Mean 85.25% - Deter 050\n",
      "Early stop ite 88, rollback to correction of ite 38, whith acc of 77.67% and auc of 87.0%\n",
      "OUR METHOD RUN 9/10 - acc: 77.67% +- 0.0% - auc: 87.0% +- 0.0%\n",
      "Ite 00000 - 1.00 sec - Loss 0.228376 - ACC 77.36% - ACC Mean 77.36% - AUC 83.09% - AUC Mean 83.09% - Deter 000\n",
      "Ite 00050 - 1.19 sec - Loss 0.121011 - ACC 78.04% - ACC Mean 78.01% - AUC 83.92% - AUC Mean 83.92% - Deter 037\n",
      "Ite 00063 - 1.13 sec - Loss 0.113364 - ACC 77.69% - ACC Mean 78.06% - AUC 83.57% - AUC Mean 83.90% - Deter 050\n",
      "Early stop ite 63, rollback to correction of ite 13, whith acc of 80.25% and auc of 85.83%\n",
      "OUR METHOD RUN 10/10 - acc: 80.25% +- 0.0% - auc: 85.83% +- 0.0%\n",
      "\n",
      "OUR METHOD GLOBAL - acc: 77.91% +- 1.12% - auc: 86.28% +- 0.42%\n"
     ]
    }
   ],
   "source": [
    "params = {\n",
    "    'nb_batches': 10,\n",
    "    'reg_noise_std': .03,\n",
    "    'net_input': 'data_corrupted',\n",
    "    'net_params': {\n",
    "        'input_channels':1,\n",
    "        'output_channels':1,\n",
    "        'channels_skip':4,\n",
    "        'down_layers':[(24, 7, 2),\n",
    "                       (46, 9, 1),\n",
    "                       (96, 9, 5),\n",
    "                       (96, 11, 1)],\n",
    "        'need_sigmoid':True,\n",
    "        'need_bias':True,\n",
    "        'pad':'zero',\n",
    "        'downsample_mode':'stride',\n",
    "        'upsample_mode':'nearest',\n",
    "        'act_fun':'LeakyReLU',\n",
    "        'need1x1_up':True\n",
    "    },# or a list containing layers sizes\n",
    "    'adam_lr': .0001,\n",
    "    'adam_weight_decay': 0.,\n",
    "}\n",
    "\n",
    "ours_accs, ours_aucs = [], []\n",
    "for i in range(n_runs):\n",
    "    ours_correction = correction.run(data_missing, 501, params, y=y, missing_mask=missing_mask, seed=i)\n",
    "    ## Since our method returns 2 imputations select the best one\n",
    "    scores_raw = utils.get_scores(ours_correction['raw_out'], y)\n",
    "    acc = scores_raw['test_balanced_accuracy']\n",
    "    auc = scores_raw['test_roc_auc_ovo']\n",
    "    acc = acc.mean()\n",
    "    acc_std = acc.std()\n",
    "    auc = auc.mean()\n",
    "    auc_std = auc.std()\n",
    "    if 'masked_out' in ours_correction:\n",
    "        scores_masked = utils.get_scores(ours_correction['masked_out'], y)\n",
    "        acc_masked = scores_masked['test_balanced_accuracy']\n",
    "        auc_masked = scores_masked['test_roc_auc_ovo']\n",
    "        if auc_masked.mean() > auc:\n",
    "            acc = acc_masked.mean()\n",
    "            acc_std = acc_masked.std()\n",
    "            auc = auc_masked.mean()\n",
    "            auc_std = auc_masked.std()\n",
    "    print(f'OUR METHOD RUN {i + 1}/{n_runs} - acc: {round(acc.mean() * 100, 2)}% +- {round(acc.std() * 100, 2)}% - ' +\n",
    "          f'auc: {round(auc.mean() * 100, 2)}% +- {round(auc.std() * 100, 2)}%')\n",
    "    ours_accs.append(acc.mean())\n",
    "    ours_aucs.append(auc.mean())\n",
    "print(f'\\nOUR METHOD GLOBAL - acc: {round(np.array(ours_accs).mean() * 100, 2)}% +- {round(np.array(ours_accs).std() * 100, 2)}% - ' +\n",
    "      f'auc: {round(np.array(ours_aucs).mean() * 100, 2)}% +- {round(np.array(ours_aucs).std() * 100, 2)}%')"
   ]
  },
  {
   "cell_type": "markdown",
   "metadata": {},
   "source": [
    "## Run Median, Mean and KNN"
   ]
  },
  {
   "cell_type": "code",
   "execution_count": 5,
   "metadata": {
    "ExecuteTime": {
     "end_time": "2022-06-03T07:58:31.715672Z",
     "start_time": "2022-06-03T07:58:28.411834Z"
    },
    "execution": {
     "iopub.execute_input": "2022-06-03T09:10:13.196608Z",
     "iopub.status.busy": "2022-06-03T09:10:13.185995Z",
     "iopub.status.idle": "2022-06-03T09:10:14.477833Z",
     "shell.execute_reply": "2022-06-03T09:10:14.478134Z"
    }
   },
   "outputs": [
    {
     "name": "stdout",
     "output_type": "stream",
     "text": [
      "MEDIAN - acc: 64.11% +- 0.0% - auc: 73.54% +- 0.0%\n",
      "MEAN - acc: 77.3% +- 0.0% - auc: 85.09% +- 0.0%\n",
      "KNN - acc: 68.83% +- 0.0% - auc: 78.94% +- 0.0%\n"
     ]
    }
   ],
   "source": [
    "data_missing_nans = np.where(missing_mask, data_missing, np.nan)\n",
    "\n",
    "median_imputer = SimpleImputer(missing_values=np.nan, strategy='median')\n",
    "mean_imputer = SimpleImputer(missing_values=np.nan, strategy='mean')\n",
    "knn_imputer = KNNImputer(n_neighbors=10, weights='uniform')\n",
    "\n",
    "median_completed = median_imputer.fit_transform(data_missing_nans)\n",
    "mean_completed = mean_imputer.fit_transform(data_missing_nans)\n",
    "knn_completed = knn_imputer.fit_transform(data_missing_nans)\n",
    "\n",
    "## All runs would be the same since deterministic methods\n",
    "scores = utils.get_scores(median_completed, y)\n",
    "acc = [scores['test_balanced_accuracy'].mean()] * n_runs\n",
    "auc = [scores['test_roc_auc_ovo'].mean()] * n_runs\n",
    "print(f'MEDIAN - acc: {round(np.mean(acc) * 100, 2)}% +- {round(np.std(acc) * 100, 2)}% - ' +\n",
    "      f'auc: {round(np.mean(auc) * 100, 2)}% +- {round(np.std(auc) * 100, 2)}%')\n",
    "median_accs = acc\n",
    "median_aucs = auc\n",
    "\n",
    "scores = utils.get_scores(mean_completed, y)\n",
    "acc = [scores['test_balanced_accuracy'].mean()] * n_runs\n",
    "auc = [scores['test_roc_auc_ovo'].mean()] * n_runs\n",
    "print(f'MEAN - acc: {round(np.mean(acc) * 100, 2)}% +- {round(np.std(acc) * 100, 2)}% - ' +\n",
    "      f'auc: {round(np.mean(auc) * 100, 2)}% +- {round(np.std(auc) * 100, 2)}%')\n",
    "mean_accs = acc\n",
    "mean_aucs = auc\n",
    "\n",
    "scores = utils.get_scores(knn_completed, y)\n",
    "acc = [scores['test_balanced_accuracy'].mean()] * n_runs\n",
    "auc = [scores['test_roc_auc_ovo'].mean()] * n_runs\n",
    "print(f'KNN - acc: {round(np.mean(acc) * 100, 2)}% +- {round(np.std(acc) * 100, 2)}% - ' +\n",
    "      f'auc: {round(np.mean(auc) * 100, 2)}% +- {round(np.std(auc) * 100, 2)}%')\n",
    "knn_accs = acc\n",
    "knn_aucs = auc"
   ]
  },
  {
   "cell_type": "markdown",
   "metadata": {},
   "source": [
    "## Run GAIN"
   ]
  },
  {
   "cell_type": "code",
   "execution_count": 6,
   "metadata": {
    "ExecuteTime": {
     "end_time": "2022-06-03T07:59:07.140809Z",
     "start_time": "2022-06-03T07:58:31.718964Z"
    },
    "execution": {
     "iopub.execute_input": "2022-06-03T09:10:14.487062Z",
     "iopub.status.busy": "2022-06-03T09:10:14.482058Z",
     "iopub.status.idle": "2022-06-03T09:19:57.676276Z",
     "shell.execute_reply": "2022-06-03T09:19:57.675887Z"
    },
    "scrolled": false
   },
   "outputs": [
    {
     "name": "stderr",
     "output_type": "stream",
     "text": [
      "100%|██████████| 5000/5000 [00:52<00:00, 95.35it/s]\n"
     ]
    },
    {
     "name": "stdout",
     "output_type": "stream",
     "text": [
      "\n",
      "GAIN RUN 1/10 - acc: 61.99% +- 2.48% - auc: 72.96% +- 2.01%\n",
      "\n"
     ]
    },
    {
     "name": "stderr",
     "output_type": "stream",
     "text": [
      "100%|██████████| 5000/5000 [00:57<00:00, 87.58it/s]\n"
     ]
    },
    {
     "name": "stdout",
     "output_type": "stream",
     "text": [
      "\n",
      "GAIN RUN 2/10 - acc: 62.01% +- 1.65% - auc: 74.38% +- 1.59%\n",
      "\n"
     ]
    },
    {
     "name": "stderr",
     "output_type": "stream",
     "text": [
      "100%|██████████| 5000/5000 [00:55<00:00, 89.75it/s]\n"
     ]
    },
    {
     "name": "stdout",
     "output_type": "stream",
     "text": [
      "\n",
      "GAIN RUN 3/10 - acc: 64.82% +- 2.67% - auc: 74.07% +- 3.24%\n",
      "\n"
     ]
    },
    {
     "name": "stderr",
     "output_type": "stream",
     "text": [
      "100%|██████████| 5000/5000 [00:55<00:00, 90.02it/s]\n"
     ]
    },
    {
     "name": "stdout",
     "output_type": "stream",
     "text": [
      "\n",
      "GAIN RUN 4/10 - acc: 63.39% +- 2.93% - auc: 73.42% +- 2.94%\n",
      "\n"
     ]
    },
    {
     "name": "stderr",
     "output_type": "stream",
     "text": [
      "100%|██████████| 5000/5000 [00:56<00:00, 88.56it/s]\n"
     ]
    },
    {
     "name": "stdout",
     "output_type": "stream",
     "text": [
      "\n",
      "GAIN RUN 5/10 - acc: 65.79% +- 2.81% - auc: 74.97% +- 0.91%\n",
      "\n"
     ]
    },
    {
     "name": "stderr",
     "output_type": "stream",
     "text": [
      "100%|██████████| 5000/5000 [00:55<00:00, 89.37it/s]\n"
     ]
    },
    {
     "name": "stdout",
     "output_type": "stream",
     "text": [
      "\n",
      "GAIN RUN 6/10 - acc: 62.3% +- 4.7% - auc: 73.9% +- 2.59%\n",
      "\n"
     ]
    },
    {
     "name": "stderr",
     "output_type": "stream",
     "text": [
      "100%|██████████| 5000/5000 [00:57<00:00, 87.27it/s]\n"
     ]
    },
    {
     "name": "stdout",
     "output_type": "stream",
     "text": [
      "\n",
      "GAIN RUN 7/10 - acc: 64.24% +- 4.24% - auc: 73.73% +- 3.15%\n",
      "\n"
     ]
    },
    {
     "name": "stderr",
     "output_type": "stream",
     "text": [
      "100%|██████████| 5000/5000 [00:58<00:00, 84.80it/s]\n"
     ]
    },
    {
     "name": "stdout",
     "output_type": "stream",
     "text": [
      "\n",
      "GAIN RUN 8/10 - acc: 60.93% +- 2.57% - auc: 73.7% +- 2.94%\n",
      "\n"
     ]
    },
    {
     "name": "stderr",
     "output_type": "stream",
     "text": [
      "100%|██████████| 5000/5000 [01:00<00:00, 82.77it/s]\n"
     ]
    },
    {
     "name": "stdout",
     "output_type": "stream",
     "text": [
      "\n",
      "GAIN RUN 9/10 - acc: 64.51% +- 2.0% - auc: 73.87% +- 4.06%\n",
      "\n"
     ]
    },
    {
     "name": "stderr",
     "output_type": "stream",
     "text": [
      "100%|██████████| 5000/5000 [01:01<00:00, 80.67it/s]\n"
     ]
    },
    {
     "name": "stdout",
     "output_type": "stream",
     "text": [
      "\n",
      "GAIN RUN 10/10 - acc: 68.93% +- 1.69% - auc: 77.19% +- 1.33%\n",
      "\n",
      "GAIN GLOBAL - acc: 63.89% +- 2.21% - auc: 74.22% +- 1.11%\n"
     ]
    }
   ],
   "source": [
    "gain_parameters = {'batch_size': 128,\n",
    "                   'hint_rate': .9,\n",
    "                   'alpha': 100,\n",
    "                   'iterations': 5000}\n",
    "\n",
    "gain_accs, gain_aucs = [], []\n",
    "for i in range(n_runs):\n",
    "    random.seed(i)\n",
    "    np.random.seed(i)\n",
    "    torch.manual_seed(i)\n",
    "    imputed = gain(data_missing_nans, gain_parameters)\n",
    "    scores = utils.get_scores(imputed, y)\n",
    "    acc = scores['test_balanced_accuracy']\n",
    "    auc = scores['test_roc_auc_ovo']\n",
    "    print(f'\\nGAIN RUN {i + 1}/{n_runs} - acc: {round(acc.mean() * 100, 2)}% +- {round(acc.std() * 100, 2)}% - ' +\n",
    "          f'auc: {round(auc.mean() * 100, 2)}% +- {round(auc.std() * 100, 2)}%\\n')\n",
    "    gain_accs.append(acc.mean())\n",
    "    gain_aucs.append(auc.mean())\n",
    "print(f'GAIN GLOBAL - acc: {round(np.array(gain_accs).mean() * 100, 2)}% +- {round(np.array(gain_accs).std() * 100, 2)}% - ' +\n",
    "      f'auc: {round(np.array(gain_aucs).mean() * 100, 2)}% +- {round(np.array(gain_aucs).std() * 100, 2)}%')"
   ]
  },
  {
   "cell_type": "markdown",
   "metadata": {},
   "source": [
    "## Run MICE"
   ]
  },
  {
   "cell_type": "code",
   "execution_count": 7,
   "metadata": {
    "ExecuteTime": {
     "end_time": "2022-06-03T08:13:33.572553Z",
     "start_time": "2022-06-03T07:59:07.142164Z"
    },
    "execution": {
     "iopub.execute_input": "2022-06-03T09:19:57.684187Z",
     "iopub.status.busy": "2022-06-03T09:19:57.683194Z",
     "iopub.status.idle": "2022-06-03T09:47:39.253995Z",
     "shell.execute_reply": "2022-06-03T09:47:39.254366Z"
    }
   },
   "outputs": [
    {
     "name": "stdout",
     "output_type": "stream",
     "text": [
      "MICE - acc: 76.55% +- 0.0% - auc: 81.39% +- 0.0%\n"
     ]
    }
   ],
   "source": [
    "imputer = IterativeImputer()\n",
    "imputed = imputer.fit_transform(data_missing_nans)\n",
    "## All runs would be the same since deterministic method\n",
    "scores = utils.get_scores(imputed, y)\n",
    "acc = [scores['test_balanced_accuracy'].mean()] * n_runs\n",
    "auc = [scores['test_roc_auc_ovo'].mean()] * n_runs\n",
    "print(f'MICE - acc: {round(np.mean(acc) * 100, 2)}% +- {round(np.std(acc) * 100, 2)}% - ' +\n",
    "      f'auc: {round(np.mean(auc) * 100, 2)}% +- {round(np.std(auc) * 100, 2)}%')\n",
    "mice_accs = acc\n",
    "mice_aucs = auc"
   ]
  },
  {
   "cell_type": "markdown",
   "metadata": {},
   "source": [
    "## Run MISSFOREST"
   ]
  },
  {
   "cell_type": "code",
   "execution_count": 8,
   "metadata": {
    "ExecuteTime": {
     "end_time": "2022-06-03T08:13:33.579829Z",
     "start_time": "2022-06-03T08:13:33.579804Z"
    },
    "execution": {
     "iopub.execute_input": "2022-06-03T09:47:39.276918Z",
     "iopub.status.busy": "2022-06-03T09:47:39.268046Z",
     "iopub.status.idle": "2022-06-03T11:14:03.318652Z",
     "shell.execute_reply": "2022-06-03T11:14:03.319541Z"
    },
    "scrolled": false
   },
   "outputs": [
    {
     "name": "stdout",
     "output_type": "stream",
     "text": [
      "Iteration: 0\n",
      "Iteration: 1\n",
      "Iteration: 2\n",
      "Iteration: 3\n",
      "Iteration: 4\n",
      "Iteration: 5\n",
      "\n",
      "MISSFOREST RUN 1/10 - acc: 71.51% +- 2.58% - auc: 77.34% +- 4.75%\n",
      "\n",
      "Iteration: 0\n",
      "Iteration: 1\n",
      "Iteration: 2\n",
      "Iteration: 3\n",
      "Iteration: 4\n",
      "Iteration: 5\n",
      "\n",
      "MISSFOREST RUN 2/10 - acc: 72.43% +- 3.05% - auc: 81.76% +- 2.9%\n",
      "\n",
      "Iteration: 0\n",
      "Iteration: 1\n",
      "Iteration: 2\n",
      "Iteration: 3\n",
      "Iteration: 4\n",
      "Iteration: 5\n",
      "Iteration: 6\n",
      "\n",
      "MISSFOREST RUN 3/10 - acc: 73.81% +- 1.69% - auc: 81.77% +- 2.76%\n",
      "\n",
      "Iteration: 0\n",
      "Iteration: 1\n",
      "Iteration: 2\n",
      "Iteration: 3\n",
      "Iteration: 4\n",
      "Iteration: 5\n",
      "Iteration: 6\n",
      "Iteration: 7\n",
      "\n",
      "MISSFOREST RUN 4/10 - acc: 72.66% +- 1.45% - auc: 79.61% +- 4.0%\n",
      "\n",
      "Iteration: 0\n",
      "Iteration: 1\n",
      "Iteration: 2\n",
      "Iteration: 3\n",
      "Iteration: 4\n",
      "Iteration: 5\n",
      "Iteration: 6\n",
      "\n",
      "MISSFOREST RUN 5/10 - acc: 73.99% +- 2.57% - auc: 81.68% +- 2.71%\n",
      "\n",
      "Iteration: 0\n",
      "Iteration: 1\n",
      "Iteration: 2\n",
      "Iteration: 3\n",
      "Iteration: 4\n",
      "Iteration: 5\n",
      "\n",
      "MISSFOREST RUN 6/10 - acc: 73.24% +- 3.83% - auc: 83.16% +- 3.25%\n",
      "\n",
      "Iteration: 0\n",
      "Iteration: 1\n",
      "Iteration: 2\n",
      "Iteration: 3\n",
      "Iteration: 4\n",
      "Iteration: 5\n",
      "\n",
      "MISSFOREST RUN 7/10 - acc: 71.82% +- 2.86% - auc: 79.39% +- 4.39%\n",
      "\n",
      "Iteration: 0\n",
      "Iteration: 1\n",
      "Iteration: 2\n",
      "Iteration: 3\n",
      "Iteration: 4\n",
      "Iteration: 5\n",
      "Iteration: 6\n",
      "Iteration: 7\n",
      "\n",
      "MISSFOREST RUN 8/10 - acc: 72.78% +- 2.95% - auc: 80.48% +- 5.1%\n",
      "\n",
      "Iteration: 0\n",
      "Iteration: 1\n",
      "Iteration: 2\n",
      "Iteration: 3\n",
      "Iteration: 4\n",
      "Iteration: 5\n",
      "\n",
      "MISSFOREST RUN 9/10 - acc: 74.26% +- 2.07% - auc: 82.12% +- 2.09%\n",
      "\n",
      "Iteration: 0\n",
      "Iteration: 1\n",
      "Iteration: 2\n",
      "Iteration: 3\n",
      "Iteration: 4\n",
      "\n",
      "MISSFOREST RUN 10/10 - acc: 73.5% +- 1.91% - auc: 80.92% +- 2.91%\n",
      "\n",
      "\n",
      "MISSFOREST GLOBAL - acc: 73.0% +- 0.87% - auc: 80.82% +- 1.6%\n"
     ]
    }
   ],
   "source": [
    "miss_accs, miss_aucs = [], []\n",
    "for i in range(n_runs):\n",
    "    random.seed(i)\n",
    "    np.random.seed(i)\n",
    "    torch.manual_seed(i)\n",
    "    imputer = MissForest(n_jobs=-1, random_state=i)\n",
    "    imputed = imputer.fit_transform(data_missing_nans)\n",
    "    scores = utils.get_scores(imputed, y)\n",
    "    acc = scores['test_balanced_accuracy']\n",
    "    auc = scores['test_roc_auc_ovo']\n",
    "    print(f'\\nMISSFOREST RUN {i + 1}/{n_runs} - acc: {round(acc.mean() * 100, 2)}% +- {round(acc.std() * 100, 2)}% - ' +\n",
    "          f'auc: {round(auc.mean() * 100, 2)}% +- {round(auc.std() * 100, 2)}%\\n')\n",
    "    miss_accs.append(acc.mean())\n",
    "    miss_aucs.append(auc.mean())\n",
    "print(f'\\nMISSFOREST GLOBAL - acc: {round(np.array(miss_accs).mean() * 100, 2)}% +- {round(np.array(miss_accs).std() * 100, 2)}% - ' +\n",
    "      f'auc: {round(np.array(miss_aucs).mean() * 100, 2)}% +- {round(np.array(miss_aucs).std() * 100, 2)}%')"
   ]
  },
  {
   "cell_type": "markdown",
   "metadata": {},
   "source": [
    "## Run SOFTIMPUTE"
   ]
  },
  {
   "cell_type": "code",
   "execution_count": 9,
   "metadata": {
    "ExecuteTime": {
     "end_time": "2022-06-03T08:13:33.581198Z",
     "start_time": "2022-06-03T08:13:33.581175Z"
    },
    "execution": {
     "iopub.execute_input": "2022-06-03T11:14:03.329141Z",
     "iopub.status.busy": "2022-06-03T11:14:03.328267Z",
     "iopub.status.idle": "2022-06-03T11:14:04.990117Z",
     "shell.execute_reply": "2022-06-03T11:14:04.990463Z"
    }
   },
   "outputs": [
    {
     "name": "stdout",
     "output_type": "stream",
     "text": [
      "SOFTIMPUTE RUN 1/10 - acc: 79.56% +- 3.17% - auc: 85.88% +- 1.83%\n",
      "SOFTIMPUTE RUN 2/10 - acc: 76.79% +- 2.22% - auc: 85.11% +- 2.75%\n",
      "SOFTIMPUTE RUN 3/10 - acc: 78.06% +- 1.38% - auc: 84.35% +- 1.73%\n",
      "SOFTIMPUTE RUN 4/10 - acc: 77.23% +- 1.86% - auc: 84.55% +- 2.67%\n",
      "SOFTIMPUTE RUN 5/10 - acc: 77.27% +- 1.06% - auc: 86.42% +- 1.57%\n",
      "SOFTIMPUTE RUN 6/10 - acc: 76.07% +- 2.04% - auc: 84.31% +- 3.03%\n",
      "SOFTIMPUTE RUN 7/10 - acc: 77.2% +- 1.53% - auc: 85.33% +- 2.22%\n",
      "SOFTIMPUTE RUN 8/10 - acc: 77.22% +- 1.5% - auc: 84.47% +- 2.84%\n",
      "SOFTIMPUTE RUN 9/10 - acc: 77.29% +- 1.77% - auc: 84.66% +- 2.35%\n",
      "SOFTIMPUTE RUN 10/10 - acc: 75.75% +- 2.24% - auc: 83.74% +- 3.96%\n",
      "\n",
      "SOFTIMPUTE GLOBAL - acc: 77.24% +- 0.99% - auc: 84.88% +- 0.77%\n"
     ]
    }
   ],
   "source": [
    "soft_accs, soft_aucs = [], []\n",
    "for i in range(n_runs):\n",
    "    random.seed(i)\n",
    "    np.random.seed(i)\n",
    "    torch.manual_seed(i)\n",
    "    imputer = SoftImpute(random_state=i)\n",
    "    imputer.fit(data_missing_nans)\n",
    "    imputed = imputer.predict(data_missing_nans)\n",
    "    imputed = np.where(missing_mask, data_missing, imputed)\n",
    "    scores = utils.get_scores(imputed, y)\n",
    "    acc = scores['test_balanced_accuracy']\n",
    "    auc = scores['test_roc_auc_ovo']\n",
    "    print(f'SOFTIMPUTE RUN {i + 1}/{n_runs} - acc: {round(acc.mean() * 100, 2)}% +- {round(acc.std() * 100, 2)}% - ' +\n",
    "          f'auc: {round(auc.mean() * 100, 2)}% +- {round(auc.std() * 100, 2)}%')\n",
    "    soft_accs.append(acc.mean())\n",
    "    soft_aucs.append(auc.mean())\n",
    "print(f'\\nSOFTIMPUTE GLOBAL - acc: {round(np.array(soft_accs).mean() * 100, 2)}% +- {round(np.array(soft_accs).std() * 100, 2)}% - ' +\n",
    "      f'auc: {round(np.array(soft_aucs).mean() * 100, 2)}% +- {round(np.array(soft_aucs).std() * 100, 2)}%')"
   ]
  },
  {
   "cell_type": "markdown",
   "metadata": {},
   "source": [
    "## Run SINKHORN"
   ]
  },
  {
   "cell_type": "code",
   "execution_count": 10,
   "metadata": {
    "execution": {
     "iopub.execute_input": "2022-06-03T11:14:04.995634Z",
     "iopub.status.busy": "2022-06-03T11:14:04.992362Z",
     "iopub.status.idle": "2022-06-03T11:18:50.220728Z",
     "shell.execute_reply": "2022-06-03T11:18:50.221707Z"
    }
   },
   "outputs": [
    {
     "name": "stdout",
     "output_type": "stream",
     "text": [
      "batchsize = 128, epsilon = 0.0100\n",
      "Iteration 0:\t Loss: 2.7690\n",
      "\n",
      "SINKHORN RUN 1/10 - acc: 75.83% +- 1.86% - auc: 82.06% +- 2.94%\n",
      "\n",
      "batchsize = 128, epsilon = 0.0100\n",
      "Iteration 0:\t Loss: 2.7215\n",
      "\n",
      "SINKHORN RUN 2/10 - acc: 75.86% +- 1.5% - auc: 82.55% +- 1.16%\n",
      "\n",
      "batchsize = 128, epsilon = 0.0100\n",
      "Iteration 0:\t Loss: 2.7614\n",
      "\n",
      "SINKHORN RUN 3/10 - acc: 78.64% +- 2.26% - auc: 84.9% +- 1.13%\n",
      "\n",
      "batchsize = 128, epsilon = 0.0100\n",
      "Iteration 0:\t Loss: 2.8255\n",
      "\n",
      "SINKHORN RUN 4/10 - acc: 74.64% +- 2.86% - auc: 83.43% +- 0.98%\n",
      "\n",
      "batchsize = 128, epsilon = 0.0100\n",
      "Iteration 0:\t Loss: 2.8721\n",
      "\n",
      "SINKHORN RUN 5/10 - acc: 74.37% +- 1.77% - auc: 83.73% +- 1.04%\n",
      "\n",
      "batchsize = 128, epsilon = 0.0100\n",
      "Iteration 0:\t Loss: 2.8616\n",
      "\n",
      "SINKHORN RUN 6/10 - acc: 75.65% +- 2.24% - auc: 81.39% +- 2.78%\n",
      "\n",
      "batchsize = 128, epsilon = 0.0100\n",
      "Iteration 0:\t Loss: 2.8772\n",
      "\n",
      "SINKHORN RUN 7/10 - acc: 75.41% +- 1.68% - auc: 83.84% +- 4.7%\n",
      "\n",
      "batchsize = 128, epsilon = 0.0100\n",
      "Iteration 0:\t Loss: 2.9172\n",
      "\n",
      "SINKHORN RUN 8/10 - acc: 75.11% +- 2.31% - auc: 82.7% +- 1.69%\n",
      "\n",
      "batchsize = 128, epsilon = 0.0100\n",
      "Iteration 0:\t Loss: 2.9098\n",
      "\n",
      "SINKHORN RUN 9/10 - acc: 76.77% +- 2.49% - auc: 84.0% +- 1.36%\n",
      "\n",
      "batchsize = 128, epsilon = 0.0100\n",
      "Iteration 0:\t Loss: 3.0061\n",
      "\n",
      "SINKHORN RUN 10/10 - acc: 74.36% +- 2.05% - auc: 83.97% +- 1.89%\n",
      "\n",
      "\n",
      "SINKHORN GLOBAL - acc: 75.66% +- 1.22% - auc: 83.26% +- 1.01%\n"
     ]
    }
   ],
   "source": [
    "sink_accs, sink_aucs = [], []\n",
    "for i in range(n_runs):\n",
    "    random.seed(i)\n",
    "    np.random.seed(i)\n",
    "    torch.manual_seed(i)\n",
    "    imputer = OTimputer(niter=500)\n",
    "    imputed = imputer.fit_transform(data_missing_nans).cpu().detach().numpy()\n",
    "    scores = utils.get_scores(imputed, y)\n",
    "    acc = scores['test_balanced_accuracy']\n",
    "    auc = scores['test_roc_auc_ovo']\n",
    "    print(f'\\nSINKHORN RUN {i + 1}/{n_runs} - acc: {round(acc.mean() * 100, 2)}% +- {round(acc.std() * 100, 2)}% - ' +\n",
    "          f'auc: {round(auc.mean() * 100, 2)}% +- {round(auc.std() * 100, 2)}%\\n')\n",
    "    sink_accs.append(acc.mean())\n",
    "    sink_aucs.append(auc.mean())\n",
    "print(f'\\nSINKHORN GLOBAL - acc: {round(np.array(sink_accs).mean() * 100, 2)}% +- {round(np.array(sink_accs).std() * 100, 2)}% - ' +\n",
    "      f'auc: {round(np.array(sink_aucs).mean() * 100, 2)}% +- {round(np.array(sink_aucs).std() * 100, 2)}%')"
   ]
  },
  {
   "cell_type": "markdown",
   "metadata": {},
   "source": [
    "## Run MIDA"
   ]
  },
  {
   "cell_type": "code",
   "execution_count": 11,
   "metadata": {
    "execution": {
     "iopub.execute_input": "2022-06-03T11:18:50.230209Z",
     "iopub.status.busy": "2022-06-03T11:18:50.228995Z",
     "iopub.status.idle": "2022-06-03T11:21:37.524218Z",
     "shell.execute_reply": "2022-06-03T11:21:37.524775Z"
    }
   },
   "outputs": [
    {
     "name": "stdout",
     "output_type": "stream",
     "text": [
      "Stop training at epoch: 1500/1500, return best output\n",
      "\n",
      "MIDA RUN 1/10 - acc: 76.16% +- 2.25% - auc: 84.22% +- 1.34%\n",
      "\n",
      "Stop training at epoch: 1500/1500, return best output\n",
      "\n",
      "MIDA RUN 2/10 - acc: 74.0% +- 2.89% - auc: 82.24% +- 1.04%\n",
      "\n",
      "Stop training at epoch: 1500/1500, return best output\n",
      "\n",
      "MIDA RUN 3/10 - acc: 74.92% +- 2.95% - auc: 82.1% +- 2.45%\n",
      "\n",
      "Stop training at epoch: 1500/1500, return best output\n",
      "\n",
      "MIDA RUN 4/10 - acc: 76.11% +- 2.31% - auc: 83.9% +- 1.52%\n",
      "\n",
      "Stop training at epoch: 1500/1500, return best output\n",
      "\n",
      "MIDA RUN 5/10 - acc: 75.67% +- 2.68% - auc: 83.53% +- 2.4%\n",
      "\n",
      "Stop training at epoch: 1500/1500, return best output\n",
      "\n",
      "MIDA RUN 6/10 - acc: 74.47% +- 2.72% - auc: 82.63% +- 3.24%\n",
      "\n",
      "Stop training at epoch: 1500/1500, return best output\n",
      "\n",
      "MIDA RUN 7/10 - acc: 75.48% +- 2.16% - auc: 82.0% +- 3.19%\n",
      "\n",
      "Stop training at epoch: 1500/1500, return best output\n",
      "\n",
      "MIDA RUN 8/10 - acc: 75.04% +- 2.08% - auc: 83.1% +- 1.06%\n",
      "\n",
      "Stop training at epoch: 1500/1500, return best output\n",
      "\n",
      "MIDA RUN 9/10 - acc: 74.51% +- 3.15% - auc: 83.07% +- 2.36%\n",
      "\n",
      "Stop training at epoch: 1500/1500, return best output\n",
      "\n",
      "MIDA RUN 10/10 - acc: 74.54% +- 3.06% - auc: 81.91% +- 1.74%\n",
      "\n",
      "\n",
      "MIDA GLOBAL - acc: 75.09% +- 0.7% - auc: 82.87% +- 0.78%\n"
     ]
    }
   ],
   "source": [
    "mida_accs, mida_aucs = [], []\n",
    "for i in range(n_runs):\n",
    "    random.seed(i)\n",
    "    np.random.seed(i)\n",
    "    torch.manual_seed(i)\n",
    "    imputed = mida(data_missing_nans, num_layers=2, num_epochs=1500)\n",
    "    imputed = np.where(missing_mask, data_missing, imputed)\n",
    "    scores = utils.get_scores(imputed, y)\n",
    "    acc = scores['test_balanced_accuracy']\n",
    "    auc = scores['test_roc_auc_ovo']\n",
    "    print(f'\\nMIDA RUN {i + 1}/{n_runs} - acc: {round(acc.mean() * 100, 2)}% +- {round(acc.std() * 100, 2)}% - ' +\n",
    "          f'auc: {round(auc.mean() * 100, 2)}% +- {round(auc.std() * 100, 2)}%\\n')\n",
    "    mida_accs.append(acc.mean())\n",
    "    mida_aucs.append(auc.mean())\n",
    "print(f'\\nMIDA GLOBAL - acc: {round(np.array(mida_accs).mean() * 100, 2)}% +- {round(np.array(mida_accs).std() * 100, 2)}% - ' +\n",
    "      f'auc: {round(np.array(mida_aucs).mean() * 100, 2)}% +- {round(np.array(mida_aucs).std() * 100, 2)}%')"
   ]
  },
  {
   "cell_type": "markdown",
   "metadata": {},
   "source": [
    "## Run T-tests"
   ]
  },
  {
   "cell_type": "code",
   "execution_count": 12,
   "metadata": {
    "ExecuteTime": {
     "end_time": "2022-06-03T08:13:33.583163Z",
     "start_time": "2022-06-03T08:13:33.583140Z"
    },
    "execution": {
     "iopub.execute_input": "2022-06-03T11:21:37.532865Z",
     "iopub.status.busy": "2022-06-03T11:21:37.531498Z",
     "iopub.status.idle": "2022-06-03T11:21:37.541478Z",
     "shell.execute_reply": "2022-06-03T11:21:37.540863Z"
    },
    "scrolled": false
   },
   "outputs": [
    {
     "name": "stdout",
     "output_type": "stream",
     "text": [
      "Metric ACC - OUR METHOD is significantly better than MEDIAN\n",
      "Metric AUC - OUR METHOD is significantly better than MEDIAN\n",
      "Metric ACC - OUR METHOD is even with MEAN\n",
      "Metric AUC - OUR METHOD is significantly better than MEAN\n",
      "Metric ACC - OUR METHOD is significantly better than KNN\n",
      "Metric AUC - OUR METHOD is significantly better than KNN\n",
      "Metric ACC - OUR METHOD is significantly better than GAIN\n",
      "Metric AUC - OUR METHOD is significantly better than GAIN\n",
      "Metric ACC - OUR METHOD is significantly better than MICE\n",
      "Metric AUC - OUR METHOD is significantly better than MICE\n",
      "Metric ACC - OUR METHOD is significantly better than MISS\n",
      "Metric AUC - OUR METHOD is significantly better than MISS\n",
      "Metric ACC - OUR METHOD is even with SOFT\n",
      "Metric AUC - OUR METHOD is significantly better than SOFT\n",
      "Metric ACC - OUR METHOD is significantly better than SINK\n",
      "Metric AUC - OUR METHOD is significantly better than SINK\n",
      "Metric ACC - OUR METHOD is significantly better than MIDA\n",
      "Metric AUC - OUR METHOD is significantly better than MIDA\n"
     ]
    }
   ],
   "source": [
    "for model, metrics in {\n",
    "        'MEDIAN': {'ACC': median_accs, 'AUC': median_aucs},\n",
    "        'MEAN': {'ACC': mean_accs, 'AUC': mean_aucs},\n",
    "        'KNN': {'ACC': knn_accs, 'AUC': knn_aucs},\n",
    "        'GAIN': {'ACC': gain_accs, 'AUC': gain_aucs},\n",
    "        'MICE': {'ACC': mice_accs, 'AUC': mice_aucs},\n",
    "        'MISS': {'ACC': miss_accs, 'AUC': miss_aucs},\n",
    "        'SOFT': {'ACC': soft_accs, 'AUC': soft_aucs},\n",
    "        'SINK': {'ACC': sink_accs, 'AUC': sink_aucs},\n",
    "        'MIDA': {'ACC': mida_accs, 'AUC': mida_aucs}}.items():\n",
    "    for metric_name, metric in metrics.items():\n",
    "        ours_metric = ours_accs if metric_name == 'ACC' else ours_aucs\n",
    "        t, p = scipy.stats.ttest_ind(np.array(ours_metric), np.array(metric))\n",
    "        if p <= .05:\n",
    "            if t > 0:\n",
    "                ## Our method is better\n",
    "                print(f'Metric {metric_name} - OUR METHOD is significantly better than {model}')\n",
    "            else:\n",
    "                ## Theirs is better\n",
    "                print(f'Metric {metric_name} - OUR METHOD is significantly worse than {model}')\n",
    "        else:\n",
    "            ## Else we are even\n",
    "            print(f'Metric {metric_name} - OUR METHOD is even with {model}')"
   ]
  }
 ],
 "metadata": {
  "kernelspec": {
   "display_name": "Python 3 (ipykernel)",
   "language": "python",
   "name": "python3"
  },
  "language_info": {
   "codemirror_mode": {
    "name": "ipython",
    "version": 3
   },
   "file_extension": ".py",
   "mimetype": "text/x-python",
   "name": "python",
   "nbconvert_exporter": "python",
   "pygments_lexer": "ipython3",
   "version": "3.9.7"
  },
  "latex_envs": {
   "LaTeX_envs_menu_present": true,
   "autoclose": false,
   "autocomplete": true,
   "bibliofile": "biblio.bib",
   "cite_by": "apalike",
   "current_citInitial": 1,
   "eqLabelWithNumbers": true,
   "eqNumInitial": 1,
   "hotkeys": {
    "equation": "Ctrl-E",
    "itemize": "Ctrl-I"
   },
   "labels_anchors": false,
   "latex_user_defs": false,
   "report_style_numbering": false,
   "user_envs_cfg": false
  }
 },
 "nbformat": 4,
 "nbformat_minor": 2
}
