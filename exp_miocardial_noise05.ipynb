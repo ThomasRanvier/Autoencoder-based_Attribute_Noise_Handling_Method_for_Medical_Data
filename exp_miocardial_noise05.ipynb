{
 "cells": [
  {
   "cell_type": "code",
   "execution_count": 1,
   "metadata": {
    "ExecuteTime": {
     "end_time": "2022-06-03T07:56:37.128214Z",
     "start_time": "2022-06-03T07:56:33.810392Z"
    },
    "execution": {
     "iopub.execute_input": "2022-06-03T15:29:46.788147Z",
     "iopub.status.busy": "2022-06-03T15:29:46.782636Z",
     "iopub.status.idle": "2022-06-03T15:29:50.621919Z",
     "shell.execute_reply": "2022-06-03T15:29:50.621011Z"
    }
   },
   "outputs": [],
   "source": [
    "from __future__ import print_function\n",
    "import warnings\n",
    "warnings.filterwarnings(\"ignore\", category=UserWarning)\n",
    "warnings.filterwarnings(\"ignore\", category=FutureWarning)\n",
    "## Disable tf future deprecated messages\n",
    "import logging\n",
    "logging.getLogger('tensorflow').disabled = True\n",
    "## Disable tf CUDA messages\n",
    "import os\n",
    "os.environ['TF_CPP_MIN_LOG_LEVEL'] = '3'\n",
    "\n",
    "%matplotlib inline\n",
    "\n",
    "import sys\n",
    "import random\n",
    "import numpy as np\n",
    "import pandas as pd\n",
    "\n",
    "import utils\n",
    "import correction\n",
    "from models.dense import *\n",
    "from models.gain import gain\n",
    "from models.soft_impute import SoftImpute\n",
    "from models.sinkhorn import OTimputer\n",
    "from models.mida import mida\n",
    "\n",
    "import scipy.stats\n",
    "\n",
    "from sklearn.experimental import enable_iterative_imputer\n",
    "from sklearn.impute import IterativeImputer\n",
    "from sklearn.impute import KNNImputer, SimpleImputer\n",
    "\n",
    "import sklearn.neighbors._base\n",
    "sys.modules['sklearn.neighbors.base'] = sklearn.neighbors._base\n",
    "from missingpy import MissForest\n",
    "\n",
    "torch.backends.cudnn.enabled = True\n",
    "torch.backends.cudnn.benchmark = True\n",
    "dtype = torch.cuda.FloatTensor"
   ]
  },
  {
   "cell_type": "markdown",
   "metadata": {},
   "source": [
    "## Repeat all experiments for 10 runs"
   ]
  },
  {
   "cell_type": "code",
   "execution_count": 2,
   "metadata": {
    "ExecuteTime": {
     "end_time": "2022-06-03T07:56:37.132965Z",
     "start_time": "2022-06-03T07:56:37.130326Z"
    },
    "execution": {
     "iopub.execute_input": "2022-06-03T15:29:50.642220Z",
     "iopub.status.busy": "2022-06-03T15:29:50.640831Z",
     "iopub.status.idle": "2022-06-03T15:29:50.642895Z",
     "shell.execute_reply": "2022-06-03T15:29:50.641512Z"
    }
   },
   "outputs": [],
   "source": [
    "n_runs = 10"
   ]
  },
  {
   "cell_type": "markdown",
   "metadata": {},
   "source": [
    "## Load data"
   ]
  },
  {
   "cell_type": "code",
   "execution_count": 3,
   "metadata": {
    "ExecuteTime": {
     "end_time": "2022-06-03T07:56:37.290562Z",
     "start_time": "2022-06-03T07:56:37.134360Z"
    },
    "execution": {
     "iopub.execute_input": "2022-06-03T15:29:50.649890Z",
     "iopub.status.busy": "2022-06-03T15:29:50.648955Z",
     "iopub.status.idle": "2022-06-03T15:29:50.799482Z",
     "shell.execute_reply": "2022-06-03T15:29:50.800091Z"
    }
   },
   "outputs": [
    {
     "name": "stdout",
     "output_type": "stream",
     "text": [
      "Dataset shape: (1700, 110)\n",
      "5.62% missing data\n",
      "Class distribution: (array([0, 1]), array([1429,  271]))\n"
     ]
    }
   ],
   "source": [
    "data_missing, missing_mask, y = utils.load_miocardial()\n",
    "## Inject noise\n",
    "data_missing = utils.inject_noise(data_missing.copy(), noise_rate=.05)\n",
    "## Replace missing values locations by 0\n",
    "data_missing = data_missing * missing_mask"
   ]
  },
  {
   "cell_type": "markdown",
   "metadata": {},
   "source": [
    "## Run OUR METHOD"
   ]
  },
  {
   "cell_type": "code",
   "execution_count": 4,
   "metadata": {
    "ExecuteTime": {
     "end_time": "2022-06-03T07:58:28.409535Z",
     "start_time": "2022-06-03T07:56:37.292368Z"
    },
    "execution": {
     "iopub.execute_input": "2022-06-03T15:29:50.811712Z",
     "iopub.status.busy": "2022-06-03T15:29:50.810221Z",
     "iopub.status.idle": "2022-06-03T15:40:55.432047Z",
     "shell.execute_reply": "2022-06-03T15:40:55.433225Z"
    },
    "scrolled": false
   },
   "outputs": [
    {
     "name": "stdout",
     "output_type": "stream",
     "text": [
      "Ite 00000 - 3.37 sec - Loss 0.233687 - ACC 75.02% - ACC Mean 75.02% - AUC 83.42% - AUC Mean 83.42% - Deter 000\n",
      "Ite 00050 - 0.82 sec - Loss 0.116730 - ACC 74.43% - ACC Mean 75.17% - AUC 82.49% - AUC Mean 82.27% - Deter 037\n",
      "Ite 00063 - 0.91 sec - Loss 0.107708 - ACC 74.15% - ACC Mean 74.39% - AUC 81.77% - AUC Mean 82.14% - Deter 050\n",
      "Early stop ite 63, rollback to correction of ite 13, whith acc of 77.63% and auc of 84.89%\n",
      "OUR METHOD RUN 1/10 - acc: 77.63% +- 0.0% - auc: 84.89% +- 0.0%\n",
      "Ite 00000 - 0.87 sec - Loss 0.239321 - ACC 77.33% - ACC Mean 77.33% - AUC 81.58% - AUC Mean 81.58% - Deter 000\n",
      "Ite 00050 - 0.86 sec - Loss 0.126545 - ACC 76.20% - ACC Mean 76.82% - AUC 82.98% - AUC Mean 83.13% - Deter 047\n",
      "Ite 00053 - 0.89 sec - Loss 0.124028 - ACC 78.12% - ACC Mean 76.80% - AUC 83.41% - AUC Mean 83.05% - Deter 050\n",
      "Early stop ite 53, rollback to correction of ite 3, whith acc of 78.13% and auc of 85.47%\n",
      "OUR METHOD RUN 2/10 - acc: 78.13% +- 0.0% - auc: 85.47% +- 0.0%\n",
      "Ite 00000 - 0.85 sec - Loss 0.213600 - ACC 73.71% - ACC Mean 73.71% - AUC 81.43% - AUC Mean 81.43% - Deter 000\n",
      "Ite 00050 - 0.77 sec - Loss 0.106376 - ACC 74.65% - ACC Mean 76.29% - AUC 80.50% - AUC Mean 82.74% - Deter 043\n",
      "Ite 00057 - 0.90 sec - Loss 0.100821 - ACC 75.15% - ACC Mean 76.30% - AUC 82.56% - AUC Mean 82.61% - Deter 050\n",
      "Early stop ite 57, rollback to correction of ite 7, whith acc of 76.16% and auc of 84.17%\n",
      "OUR METHOD RUN 3/10 - acc: 76.16% +- 0.0% - auc: 84.17% +- 0.0%\n",
      "Ite 00000 - 0.77 sec - Loss 0.175888 - ACC 75.09% - ACC Mean 75.09% - AUC 80.81% - AUC Mean 80.81% - Deter 000\n",
      "Ite 00050 - 0.84 sec - Loss 0.088105 - ACC 74.81% - ACC Mean 74.02% - AUC 80.36% - AUC Mean 81.86% - Deter 038\n",
      "Ite 00062 - 0.87 sec - Loss 0.081682 - ACC 75.29% - ACC Mean 74.10% - AUC 80.54% - AUC Mean 81.45% - Deter 050\n",
      "Early stop ite 62, rollback to correction of ite 12, whith acc of 73.85% and auc of 83.46%\n",
      "OUR METHOD RUN 4/10 - acc: 73.85% +- 0.0% - auc: 83.46% +- 0.0%\n",
      "Ite 00000 - 0.87 sec - Loss 0.241090 - ACC 74.50% - ACC Mean 74.50% - AUC 81.98% - AUC Mean 81.98% - Deter 000\n",
      "Ite 00050 - 0.89 sec - Loss 0.124329 - ACC 77.01% - ACC Mean 76.34% - AUC 81.29% - AUC Mean 82.98% - Deter 018\n",
      "Ite 00082 - 0.97 sec - Loss 0.099626 - ACC 76.06% - ACC Mean 75.49% - AUC 81.21% - AUC Mean 81.55% - Deter 050\n",
      "Early stop ite 82, rollback to correction of ite 32, whith acc of 75.89% and auc of 85.08%\n",
      "OUR METHOD RUN 5/10 - acc: 75.89% +- 0.0% - auc: 85.08% +- 0.0%\n",
      "Ite 00000 - 0.77 sec - Loss 0.221300 - ACC 75.55% - ACC Mean 75.55% - AUC 82.42% - AUC Mean 82.42% - Deter 000\n",
      "Ite 00050 - 0.85 sec - Loss 0.131976 - ACC 76.30% - ACC Mean 76.36% - AUC 84.44% - AUC Mean 83.66% - Deter 031\n",
      "Ite 00069 - 0.87 sec - Loss 0.119613 - ACC 77.16% - ACC Mean 76.36% - AUC 83.52% - AUC Mean 83.37% - Deter 050\n",
      "Early stop ite 69, rollback to correction of ite 19, whith acc of 77.44% and auc of 85.7%\n",
      "OUR METHOD RUN 6/10 - acc: 77.44% +- 0.0% - auc: 85.7% +- 0.0%\n",
      "Ite 00000 - 0.98 sec - Loss 0.240796 - ACC 76.61% - ACC Mean 76.61% - AUC 82.35% - AUC Mean 82.35% - Deter 000\n",
      "Ite 00050 - 0.99 sec - Loss 0.131967 - ACC 76.90% - ACC Mean 76.90% - AUC 83.78% - AUC Mean 83.44% - Deter 048\n",
      "Ite 00052 - 0.78 sec - Loss 0.130602 - ACC 77.81% - ACC Mean 76.93% - AUC 84.14% - AUC Mean 83.42% - Deter 050\n",
      "Early stop ite 52, rollback to correction of ite 2, whith acc of 76.8% and auc of 84.94%\n",
      "OUR METHOD RUN 7/10 - acc: 76.8% +- 0.0% - auc: 84.94% +- 0.0%\n",
      "Ite 00000 - 0.82 sec - Loss 0.238832 - ACC 73.94% - ACC Mean 73.94% - AUC 81.96% - AUC Mean 81.96% - Deter 000\n",
      "Ite 00050 - 0.86 sec - Loss 0.124377 - ACC 76.87% - ACC Mean 76.28% - AUC 82.63% - AUC Mean 82.40% - Deter 038\n",
      "Ite 00062 - 0.94 sec - Loss 0.114956 - ACC 74.34% - ACC Mean 76.00% - AUC 82.50% - AUC Mean 82.34% - Deter 050\n",
      "Early stop ite 62, rollback to correction of ite 12, whith acc of 76.94% and auc of 84.2%\n",
      "OUR METHOD RUN 8/10 - acc: 76.94% +- 0.0% - auc: 84.2% +- 0.0%\n",
      "Ite 00000 - 0.75 sec - Loss 0.191217 - ACC 75.31% - ACC Mean 75.31% - AUC 82.33% - AUC Mean 82.33% - Deter 000\n",
      "Ite 00050 - 1.01 sec - Loss 0.098288 - ACC 74.14% - ACC Mean 74.67% - AUC 81.66% - AUC Mean 82.19% - Deter 038\n",
      "Ite 00062 - 0.90 sec - Loss 0.090610 - ACC 73.37% - ACC Mean 74.33% - AUC 82.23% - AUC Mean 82.05% - Deter 050\n",
      "Early stop ite 62, rollback to correction of ite 12, whith acc of 75.83% and auc of 84.86%\n",
      "OUR METHOD RUN 9/10 - acc: 75.83% +- 0.0% - auc: 84.86% +- 0.0%\n",
      "Ite 00000 - 0.83 sec - Loss 0.220418 - ACC 75.57% - ACC Mean 75.57% - AUC 82.47% - AUC Mean 82.47% - Deter 000\n",
      "Ite 00050 - 0.98 sec - Loss 0.115016 - ACC 75.30% - ACC Mean 76.05% - AUC 82.87% - AUC Mean 82.79% - Deter 003\n",
      "Ite 00100 - 1.05 sec - Loss 0.091672 - ACC 75.01% - ACC Mean 75.50% - AUC 82.88% - AUC Mean 83.11% - Deter 024\n",
      "Ite 00126 - 1.03 sec - Loss 0.084885 - ACC 76.14% - ACC Mean 75.83% - AUC 82.84% - AUC Mean 82.84% - Deter 050\n",
      "Early stop ite 126, rollback to correction of ite 76, whith acc of 76.34% and auc of 85.49%\n",
      "OUR METHOD RUN 10/10 - acc: 76.34% +- 0.0% - auc: 85.49% +- 0.0%\n",
      "\n",
      "OUR METHOD GLOBAL - acc: 76.5% +- 1.14% - auc: 84.83% +- 0.66%\n"
     ]
    }
   ],
   "source": [
    "params = {\n",
    "    'nb_batches': 10,\n",
    "    'reg_noise_std': .03,\n",
    "    'net_input': 'data_corrupted',\n",
    "    'net_params': {\n",
    "        'input_channels':1,\n",
    "        'output_channels':1,\n",
    "        'channels_skip':4,\n",
    "        'down_layers':[(24, 7, 2),\n",
    "                       (46, 9, 1),\n",
    "                       (96, 9, 5),\n",
    "                       (96, 11, 1)],\n",
    "        'need_sigmoid':True,\n",
    "        'need_bias':True,\n",
    "        'pad':'zero',\n",
    "        'downsample_mode':'stride',\n",
    "        'upsample_mode':'nearest',\n",
    "        'act_fun':'LeakyReLU',\n",
    "        'need1x1_up':True\n",
    "    },# or a list containing layers sizes\n",
    "    'adam_lr': .0001,\n",
    "    'adam_weight_decay': 0.,\n",
    "}\n",
    "\n",
    "ours_accs, ours_aucs = [], []\n",
    "for i in range(n_runs):\n",
    "    ours_correction = correction.run(data_missing, 501, params, y=y, missing_mask=missing_mask, seed=i)\n",
    "    ## Since our method returns 2 imputations select the best one\n",
    "    scores_raw = utils.get_scores(ours_correction['raw_out'], y)\n",
    "    acc = scores_raw['test_balanced_accuracy']\n",
    "    auc = scores_raw['test_roc_auc_ovo']\n",
    "    acc = acc.mean()\n",
    "    acc_std = acc.std()\n",
    "    auc = auc.mean()\n",
    "    auc_std = auc.std()\n",
    "    if 'masked_out' in ours_correction:\n",
    "        scores_masked = utils.get_scores(ours_correction['masked_out'], y)\n",
    "        acc_masked = scores_masked['test_balanced_accuracy']\n",
    "        auc_masked = scores_masked['test_roc_auc_ovo']\n",
    "        if auc_masked.mean() > auc:\n",
    "            acc = acc_masked.mean()\n",
    "            acc_std = acc_masked.std()\n",
    "            auc = auc_masked.mean()\n",
    "            auc_std = auc_masked.std()\n",
    "    print(f'OUR METHOD RUN {i + 1}/{n_runs} - acc: {round(acc.mean() * 100, 2)}% +- {round(acc.std() * 100, 2)}% - ' +\n",
    "          f'auc: {round(auc.mean() * 100, 2)}% +- {round(auc.std() * 100, 2)}%')\n",
    "    ours_accs.append(acc.mean())\n",
    "    ours_aucs.append(auc.mean())\n",
    "print(f'\\nOUR METHOD GLOBAL - acc: {round(np.array(ours_accs).mean() * 100, 2)}% +- {round(np.array(ours_accs).std() * 100, 2)}% - ' +\n",
    "      f'auc: {round(np.array(ours_aucs).mean() * 100, 2)}% +- {round(np.array(ours_aucs).std() * 100, 2)}%')"
   ]
  },
  {
   "cell_type": "markdown",
   "metadata": {},
   "source": [
    "## Run Median, Mean and KNN"
   ]
  },
  {
   "cell_type": "code",
   "execution_count": 5,
   "metadata": {
    "ExecuteTime": {
     "end_time": "2022-06-03T07:58:31.715672Z",
     "start_time": "2022-06-03T07:58:28.411834Z"
    },
    "execution": {
     "iopub.execute_input": "2022-06-03T15:40:55.438669Z",
     "iopub.status.busy": "2022-06-03T15:40:55.437700Z",
     "iopub.status.idle": "2022-06-03T15:40:56.830355Z",
     "shell.execute_reply": "2022-06-03T15:40:56.830836Z"
    }
   },
   "outputs": [
    {
     "name": "stdout",
     "output_type": "stream",
     "text": [
      "MEDIAN - acc: 63.3% +- 0.0% - auc: 73.71% +- 0.0%\n",
      "MEAN - acc: 76.22% +- 0.0% - auc: 80.28% +- 0.0%\n",
      "KNN - acc: 67.93% +- 0.0% - auc: 77.86% +- 0.0%\n"
     ]
    }
   ],
   "source": [
    "data_missing_nans = np.where(missing_mask, data_missing, np.nan)\n",
    "\n",
    "median_imputer = SimpleImputer(missing_values=np.nan, strategy='median')\n",
    "mean_imputer = SimpleImputer(missing_values=np.nan, strategy='mean')\n",
    "knn_imputer = KNNImputer(n_neighbors=10, weights='uniform')\n",
    "\n",
    "median_completed = median_imputer.fit_transform(data_missing_nans)\n",
    "mean_completed = mean_imputer.fit_transform(data_missing_nans)\n",
    "knn_completed = knn_imputer.fit_transform(data_missing_nans)\n",
    "\n",
    "## All runs would be the same since deterministic methods\n",
    "scores = utils.get_scores(median_completed, y)\n",
    "acc = [scores['test_balanced_accuracy'].mean()] * n_runs\n",
    "auc = [scores['test_roc_auc_ovo'].mean()] * n_runs\n",
    "print(f'MEDIAN - acc: {round(np.mean(acc) * 100, 2)}% +- {round(np.std(acc) * 100, 2)}% - ' +\n",
    "      f'auc: {round(np.mean(auc) * 100, 2)}% +- {round(np.std(auc) * 100, 2)}%')\n",
    "median_accs = acc\n",
    "median_aucs = auc\n",
    "\n",
    "scores = utils.get_scores(mean_completed, y)\n",
    "acc = [scores['test_balanced_accuracy'].mean()] * n_runs\n",
    "auc = [scores['test_roc_auc_ovo'].mean()] * n_runs\n",
    "print(f'MEAN - acc: {round(np.mean(acc) * 100, 2)}% +- {round(np.std(acc) * 100, 2)}% - ' +\n",
    "      f'auc: {round(np.mean(auc) * 100, 2)}% +- {round(np.std(auc) * 100, 2)}%')\n",
    "mean_accs = acc\n",
    "mean_aucs = auc\n",
    "\n",
    "scores = utils.get_scores(knn_completed, y)\n",
    "acc = [scores['test_balanced_accuracy'].mean()] * n_runs\n",
    "auc = [scores['test_roc_auc_ovo'].mean()] * n_runs\n",
    "print(f'KNN - acc: {round(np.mean(acc) * 100, 2)}% +- {round(np.std(acc) * 100, 2)}% - ' +\n",
    "      f'auc: {round(np.mean(auc) * 100, 2)}% +- {round(np.std(auc) * 100, 2)}%')\n",
    "knn_accs = acc\n",
    "knn_aucs = auc"
   ]
  },
  {
   "cell_type": "markdown",
   "metadata": {},
   "source": [
    "## Run GAIN"
   ]
  },
  {
   "cell_type": "code",
   "execution_count": 6,
   "metadata": {
    "ExecuteTime": {
     "end_time": "2022-06-03T07:59:07.140809Z",
     "start_time": "2022-06-03T07:58:31.718964Z"
    },
    "execution": {
     "iopub.execute_input": "2022-06-03T15:40:56.840767Z",
     "iopub.status.busy": "2022-06-03T15:40:56.840312Z",
     "iopub.status.idle": "2022-06-03T15:50:04.300079Z",
     "shell.execute_reply": "2022-06-03T15:50:04.298919Z"
    },
    "scrolled": false
   },
   "outputs": [
    {
     "name": "stderr",
     "output_type": "stream",
     "text": [
      "100%|██████████| 5000/5000 [00:48<00:00, 103.80it/s]\n"
     ]
    },
    {
     "name": "stdout",
     "output_type": "stream",
     "text": [
      "\n",
      "GAIN RUN 1/10 - acc: 75.02% +- 0.98% - auc: 81.37% +- 1.9%\n",
      "\n"
     ]
    },
    {
     "name": "stderr",
     "output_type": "stream",
     "text": [
      "100%|██████████| 5000/5000 [00:47<00:00, 104.48it/s]\n"
     ]
    },
    {
     "name": "stdout",
     "output_type": "stream",
     "text": [
      "\n",
      "GAIN RUN 2/10 - acc: 74.52% +- 1.52% - auc: 81.59% +- 2.66%\n",
      "\n"
     ]
    },
    {
     "name": "stderr",
     "output_type": "stream",
     "text": [
      "100%|██████████| 5000/5000 [00:48<00:00, 102.67it/s]\n"
     ]
    },
    {
     "name": "stdout",
     "output_type": "stream",
     "text": [
      "\n",
      "GAIN RUN 3/10 - acc: 75.13% +- 0.55% - auc: 81.34% +- 2.57%\n",
      "\n"
     ]
    },
    {
     "name": "stderr",
     "output_type": "stream",
     "text": [
      "100%|██████████| 5000/5000 [00:48<00:00, 102.16it/s]\n"
     ]
    },
    {
     "name": "stdout",
     "output_type": "stream",
     "text": [
      "\n",
      "GAIN RUN 4/10 - acc: 75.32% +- 2.68% - auc: 82.31% +- 2.2%\n",
      "\n"
     ]
    },
    {
     "name": "stderr",
     "output_type": "stream",
     "text": [
      "100%|██████████| 5000/5000 [00:50<00:00, 98.41it/s] \n"
     ]
    },
    {
     "name": "stdout",
     "output_type": "stream",
     "text": [
      "\n",
      "GAIN RUN 5/10 - acc: 75.89% +- 2.2% - auc: 82.27% +- 2.51%\n",
      "\n"
     ]
    },
    {
     "name": "stderr",
     "output_type": "stream",
     "text": [
      "100%|██████████| 5000/5000 [00:51<00:00, 97.52it/s]\n"
     ]
    },
    {
     "name": "stdout",
     "output_type": "stream",
     "text": [
      "\n",
      "GAIN RUN 6/10 - acc: 74.45% +- 2.77% - auc: 80.21% +- 2.45%\n",
      "\n"
     ]
    },
    {
     "name": "stderr",
     "output_type": "stream",
     "text": [
      "100%|██████████| 5000/5000 [00:55<00:00, 90.89it/s]\n"
     ]
    },
    {
     "name": "stdout",
     "output_type": "stream",
     "text": [
      "\n",
      "GAIN RUN 7/10 - acc: 73.88% +- 1.23% - auc: 79.67% +- 1.8%\n",
      "\n"
     ]
    },
    {
     "name": "stderr",
     "output_type": "stream",
     "text": [
      "100%|██████████| 5000/5000 [00:59<00:00, 84.61it/s]\n"
     ]
    },
    {
     "name": "stdout",
     "output_type": "stream",
     "text": [
      "\n",
      "GAIN RUN 8/10 - acc: 75.33% +- 2.35% - auc: 81.36% +- 1.46%\n",
      "\n"
     ]
    },
    {
     "name": "stderr",
     "output_type": "stream",
     "text": [
      "100%|██████████| 5000/5000 [01:02<00:00, 79.44it/s]\n"
     ]
    },
    {
     "name": "stdout",
     "output_type": "stream",
     "text": [
      "\n",
      "GAIN RUN 9/10 - acc: 74.25% +- 1.53% - auc: 81.47% +- 2.52%\n",
      "\n"
     ]
    },
    {
     "name": "stderr",
     "output_type": "stream",
     "text": [
      "100%|██████████| 5000/5000 [01:01<00:00, 81.08it/s]\n"
     ]
    },
    {
     "name": "stdout",
     "output_type": "stream",
     "text": [
      "\n",
      "GAIN RUN 10/10 - acc: 72.51% +- 2.33% - auc: 81.1% +- 1.96%\n",
      "\n",
      "GAIN GLOBAL - acc: 74.63% +- 0.91% - auc: 81.27% +- 0.77%\n"
     ]
    }
   ],
   "source": [
    "gain_parameters = {'batch_size': 128,\n",
    "                   'hint_rate': .9,\n",
    "                   'alpha': 100,\n",
    "                   'iterations': 5000}\n",
    "\n",
    "gain_accs, gain_aucs = [], []\n",
    "for i in range(n_runs):\n",
    "    random.seed(i)\n",
    "    np.random.seed(i)\n",
    "    torch.manual_seed(i)\n",
    "    imputed = gain(data_missing_nans, gain_parameters)\n",
    "    scores = utils.get_scores(imputed, y)\n",
    "    acc = scores['test_balanced_accuracy']\n",
    "    auc = scores['test_roc_auc_ovo']\n",
    "    print(f'\\nGAIN RUN {i + 1}/{n_runs} - acc: {round(acc.mean() * 100, 2)}% +- {round(acc.std() * 100, 2)}% - ' +\n",
    "          f'auc: {round(auc.mean() * 100, 2)}% +- {round(auc.std() * 100, 2)}%\\n')\n",
    "    gain_accs.append(acc.mean())\n",
    "    gain_aucs.append(auc.mean())\n",
    "print(f'GAIN GLOBAL - acc: {round(np.array(gain_accs).mean() * 100, 2)}% +- {round(np.array(gain_accs).std() * 100, 2)}% - ' +\n",
    "      f'auc: {round(np.array(gain_aucs).mean() * 100, 2)}% +- {round(np.array(gain_aucs).std() * 100, 2)}%')"
   ]
  },
  {
   "cell_type": "markdown",
   "metadata": {},
   "source": [
    "## Run MICE"
   ]
  },
  {
   "cell_type": "code",
   "execution_count": 7,
   "metadata": {
    "ExecuteTime": {
     "end_time": "2022-06-03T08:13:33.572553Z",
     "start_time": "2022-06-03T07:59:07.142164Z"
    },
    "execution": {
     "iopub.execute_input": "2022-06-03T15:50:04.306674Z",
     "iopub.status.busy": "2022-06-03T15:50:04.306249Z",
     "iopub.status.idle": "2022-06-03T16:22:09.810879Z",
     "shell.execute_reply": "2022-06-03T16:22:09.811728Z"
    }
   },
   "outputs": [
    {
     "name": "stdout",
     "output_type": "stream",
     "text": [
      "MICE - acc: 73.51% +- 0.0% - auc: 80.38% +- 0.0%\n"
     ]
    }
   ],
   "source": [
    "imputer = IterativeImputer()\n",
    "imputed = imputer.fit_transform(data_missing_nans)\n",
    "## All runs would be the same since deterministic method\n",
    "scores = utils.get_scores(imputed, y)\n",
    "acc = [scores['test_balanced_accuracy'].mean()] * n_runs\n",
    "auc = [scores['test_roc_auc_ovo'].mean()] * n_runs\n",
    "print(f'MICE - acc: {round(np.mean(acc) * 100, 2)}% +- {round(np.std(acc) * 100, 2)}% - ' +\n",
    "      f'auc: {round(np.mean(auc) * 100, 2)}% +- {round(np.std(auc) * 100, 2)}%')\n",
    "mice_accs = acc\n",
    "mice_aucs = auc"
   ]
  },
  {
   "cell_type": "markdown",
   "metadata": {},
   "source": [
    "## Run MISSFOREST"
   ]
  },
  {
   "cell_type": "code",
   "execution_count": 8,
   "metadata": {
    "ExecuteTime": {
     "end_time": "2022-06-03T08:13:33.579829Z",
     "start_time": "2022-06-03T08:13:33.579804Z"
    },
    "execution": {
     "iopub.execute_input": "2022-06-03T16:22:09.822798Z",
     "iopub.status.busy": "2022-06-03T16:22:09.822354Z",
     "iopub.status.idle": "2022-06-03T19:35:35.344668Z",
     "shell.execute_reply": "2022-06-03T19:35:35.345847Z"
    },
    "scrolled": false
   },
   "outputs": [
    {
     "name": "stdout",
     "output_type": "stream",
     "text": [
      "Iteration: 0\n",
      "Iteration: 1\n",
      "Iteration: 2\n",
      "Iteration: 3\n",
      "Iteration: 4\n",
      "\n",
      "MISSFOREST RUN 1/10 - acc: 73.3% +- 2.02% - auc: 79.18% +- 1.18%\n",
      "\n",
      "Iteration: 0\n",
      "Iteration: 1\n",
      "Iteration: 2\n",
      "Iteration: 3\n",
      "Iteration: 4\n",
      "Iteration: 5\n",
      "\n",
      "MISSFOREST RUN 2/10 - acc: 72.53% +- 1.06% - auc: 80.31% +- 1.14%\n",
      "\n",
      "Iteration: 0\n",
      "Iteration: 1\n",
      "Iteration: 2\n",
      "Iteration: 3\n",
      "Iteration: 4\n",
      "Iteration: 5\n",
      "\n",
      "MISSFOREST RUN 3/10 - acc: 73.84% +- 2.16% - auc: 80.86% +- 1.23%\n",
      "\n",
      "Iteration: 0\n",
      "Iteration: 1\n",
      "Iteration: 2\n",
      "Iteration: 3\n",
      "Iteration: 4\n",
      "\n",
      "MISSFOREST RUN 4/10 - acc: 72.69% +- 2.76% - auc: 80.62% +- 1.76%\n",
      "\n",
      "Iteration: 0\n",
      "Iteration: 1\n",
      "Iteration: 2\n",
      "Iteration: 3\n",
      "Iteration: 4\n",
      "Iteration: 5\n",
      "\n",
      "MISSFOREST RUN 5/10 - acc: 72.04% +- 3.27% - auc: 80.87% +- 3.28%\n",
      "\n",
      "Iteration: 0\n",
      "Iteration: 1\n",
      "Iteration: 2\n",
      "Iteration: 3\n",
      "Iteration: 4\n",
      "Iteration: 5\n",
      "\n",
      "MISSFOREST RUN 6/10 - acc: 70.98% +- 3.22% - auc: 78.63% +- 3.28%\n",
      "\n",
      "Iteration: 0\n",
      "Iteration: 1\n",
      "Iteration: 2\n",
      "Iteration: 3\n",
      "Iteration: 4\n",
      "Iteration: 5\n",
      "Iteration: 6\n",
      "\n",
      "MISSFOREST RUN 7/10 - acc: 72.68% +- 2.69% - auc: 80.67% +- 2.42%\n",
      "\n",
      "Iteration: 0\n",
      "Iteration: 1\n",
      "Iteration: 2\n",
      "Iteration: 3\n",
      "Iteration: 4\n",
      "\n",
      "MISSFOREST RUN 8/10 - acc: 72.88% +- 2.44% - auc: 79.57% +- 2.61%\n",
      "\n",
      "Iteration: 0\n",
      "Iteration: 1\n",
      "Iteration: 2\n",
      "Iteration: 3\n",
      "\n",
      "MISSFOREST RUN 9/10 - acc: 73.66% +- 2.68% - auc: 80.89% +- 2.58%\n",
      "\n",
      "Iteration: 0\n",
      "Iteration: 1\n",
      "Iteration: 2\n",
      "Iteration: 3\n",
      "Iteration: 4\n",
      "Iteration: 5\n",
      "\n",
      "MISSFOREST RUN 10/10 - acc: 71.82% +- 4.16% - auc: 80.42% +- 1.43%\n",
      "\n",
      "\n",
      "MISSFOREST GLOBAL - acc: 72.64% +- 0.82% - auc: 80.2% +- 0.76%\n"
     ]
    }
   ],
   "source": [
    "miss_accs, miss_aucs = [], []\n",
    "for i in range(n_runs):\n",
    "    random.seed(i)\n",
    "    np.random.seed(i)\n",
    "    torch.manual_seed(i)\n",
    "    imputer = MissForest(n_jobs=-1, random_state=i)\n",
    "    imputed = imputer.fit_transform(data_missing_nans)\n",
    "    scores = utils.get_scores(imputed, y)\n",
    "    acc = scores['test_balanced_accuracy']\n",
    "    auc = scores['test_roc_auc_ovo']\n",
    "    print(f'\\nMISSFOREST RUN {i + 1}/{n_runs} - acc: {round(acc.mean() * 100, 2)}% +- {round(acc.std() * 100, 2)}% - ' +\n",
    "          f'auc: {round(auc.mean() * 100, 2)}% +- {round(auc.std() * 100, 2)}%\\n')\n",
    "    miss_accs.append(acc.mean())\n",
    "    miss_aucs.append(auc.mean())\n",
    "print(f'\\nMISSFOREST GLOBAL - acc: {round(np.array(miss_accs).mean() * 100, 2)}% +- {round(np.array(miss_accs).std() * 100, 2)}% - ' +\n",
    "      f'auc: {round(np.array(miss_aucs).mean() * 100, 2)}% +- {round(np.array(miss_aucs).std() * 100, 2)}%')"
   ]
  },
  {
   "cell_type": "markdown",
   "metadata": {},
   "source": [
    "## Run SOFTIMPUTE"
   ]
  },
  {
   "cell_type": "code",
   "execution_count": 9,
   "metadata": {
    "ExecuteTime": {
     "end_time": "2022-06-03T08:13:33.581198Z",
     "start_time": "2022-06-03T08:13:33.581175Z"
    },
    "execution": {
     "iopub.execute_input": "2022-06-03T19:35:35.360938Z",
     "iopub.status.busy": "2022-06-03T19:35:35.359597Z",
     "iopub.status.idle": "2022-06-03T19:35:40.929837Z",
     "shell.execute_reply": "2022-06-03T19:35:40.930203Z"
    }
   },
   "outputs": [
    {
     "name": "stdout",
     "output_type": "stream",
     "text": [
      "SOFTIMPUTE RUN 1/10 - acc: 74.87% +- 1.07% - auc: 81.12% +- 2.06%\n",
      "SOFTIMPUTE RUN 2/10 - acc: 75.04% +- 2.34% - auc: 81.59% +- 2.82%\n",
      "SOFTIMPUTE RUN 3/10 - acc: 75.47% +- 1.51% - auc: 82.62% +- 1.66%\n",
      "SOFTIMPUTE RUN 4/10 - acc: 73.43% +- 1.75% - auc: 80.92% +- 1.47%\n",
      "SOFTIMPUTE RUN 5/10 - acc: 76.19% +- 1.04% - auc: 79.94% +- 1.23%\n",
      "SOFTIMPUTE RUN 6/10 - acc: 73.81% +- 2.93% - auc: 80.8% +- 2.35%\n",
      "SOFTIMPUTE RUN 7/10 - acc: 74.56% +- 2.35% - auc: 80.92% +- 1.57%\n",
      "SOFTIMPUTE RUN 8/10 - acc: 75.24% +- 0.64% - auc: 81.57% +- 2.61%\n",
      "SOFTIMPUTE RUN 9/10 - acc: 74.35% +- 1.65% - auc: 81.13% +- 1.14%\n",
      "SOFTIMPUTE RUN 10/10 - acc: 73.98% +- 1.55% - auc: 81.95% +- 1.45%\n",
      "\n",
      "SOFTIMPUTE GLOBAL - acc: 74.69% +- 0.8% - auc: 81.26% +- 0.69%\n"
     ]
    }
   ],
   "source": [
    "soft_accs, soft_aucs = [], []\n",
    "for i in range(n_runs):\n",
    "    random.seed(i)\n",
    "    np.random.seed(i)\n",
    "    torch.manual_seed(i)\n",
    "    imputer = SoftImpute(random_state=i)\n",
    "    imputer.fit(data_missing_nans)\n",
    "    imputed = imputer.predict(data_missing_nans)\n",
    "    imputed = np.where(missing_mask, data_missing, imputed)\n",
    "    scores = utils.get_scores(imputed, y)\n",
    "    acc = scores['test_balanced_accuracy']\n",
    "    auc = scores['test_roc_auc_ovo']\n",
    "    print(f'SOFTIMPUTE RUN {i + 1}/{n_runs} - acc: {round(acc.mean() * 100, 2)}% +- {round(acc.std() * 100, 2)}% - ' +\n",
    "          f'auc: {round(auc.mean() * 100, 2)}% +- {round(auc.std() * 100, 2)}%')\n",
    "    soft_accs.append(acc.mean())\n",
    "    soft_aucs.append(auc.mean())\n",
    "print(f'\\nSOFTIMPUTE GLOBAL - acc: {round(np.array(soft_accs).mean() * 100, 2)}% +- {round(np.array(soft_accs).std() * 100, 2)}% - ' +\n",
    "      f'auc: {round(np.array(soft_aucs).mean() * 100, 2)}% +- {round(np.array(soft_aucs).std() * 100, 2)}%')"
   ]
  },
  {
   "cell_type": "markdown",
   "metadata": {},
   "source": [
    "## Run SINKHORN"
   ]
  },
  {
   "cell_type": "code",
   "execution_count": 10,
   "metadata": {
    "execution": {
     "iopub.execute_input": "2022-06-03T19:35:40.936462Z",
     "iopub.status.busy": "2022-06-03T19:35:40.936003Z",
     "iopub.status.idle": "2022-06-03T19:41:38.360377Z",
     "shell.execute_reply": "2022-06-03T19:41:38.360675Z"
    }
   },
   "outputs": [
    {
     "name": "stdout",
     "output_type": "stream",
     "text": [
      "batchsize = 128, epsilon = 0.0100\n",
      "Iteration 0:\t Loss: 3.7105\n",
      "\n",
      "SINKHORN RUN 1/10 - acc: 72.56% +- 2.3% - auc: 78.11% +- 3.64%\n",
      "\n",
      "batchsize = 128, epsilon = 0.0100\n",
      "Iteration 0:\t Loss: 3.6310\n",
      "\n",
      "SINKHORN RUN 2/10 - acc: 74.35% +- 1.14% - auc: 80.94% +- 2.36%\n",
      "\n",
      "batchsize = 128, epsilon = 0.0100\n",
      "Iteration 0:\t Loss: 3.7249\n",
      "\n",
      "SINKHORN RUN 3/10 - acc: 72.46% +- 2.26% - auc: 81.44% +- 1.39%\n",
      "\n",
      "batchsize = 128, epsilon = 0.0100\n",
      "Iteration 0:\t Loss: 3.8107\n",
      "\n",
      "SINKHORN RUN 4/10 - acc: 73.24% +- 2.67% - auc: 81.07% +- 1.82%\n",
      "\n",
      "batchsize = 128, epsilon = 0.0100\n",
      "Iteration 0:\t Loss: 3.8509\n",
      "\n",
      "SINKHORN RUN 5/10 - acc: 73.09% +- 1.85% - auc: 80.14% +- 2.83%\n",
      "\n",
      "batchsize = 128, epsilon = 0.0100\n",
      "Iteration 0:\t Loss: 3.7494\n",
      "\n",
      "SINKHORN RUN 6/10 - acc: 72.15% +- 2.67% - auc: 78.34% +- 2.34%\n",
      "\n",
      "batchsize = 128, epsilon = 0.0100\n",
      "Iteration 0:\t Loss: 3.8780\n",
      "\n",
      "SINKHORN RUN 7/10 - acc: 73.92% +- 2.95% - auc: 80.38% +- 1.32%\n",
      "\n",
      "batchsize = 128, epsilon = 0.0100\n",
      "Iteration 0:\t Loss: 3.8436\n",
      "\n",
      "SINKHORN RUN 8/10 - acc: 73.15% +- 1.65% - auc: 78.99% +- 2.12%\n",
      "\n",
      "batchsize = 128, epsilon = 0.0100\n",
      "Iteration 0:\t Loss: 3.8102\n",
      "\n",
      "SINKHORN RUN 9/10 - acc: 72.28% +- 1.66% - auc: 79.18% +- 2.2%\n",
      "\n",
      "batchsize = 128, epsilon = 0.0100\n",
      "Iteration 0:\t Loss: 3.8916\n",
      "\n",
      "SINKHORN RUN 10/10 - acc: 72.4% +- 2.89% - auc: 80.16% +- 1.77%\n",
      "\n",
      "\n",
      "SINKHORN GLOBAL - acc: 72.96% +- 0.69% - auc: 79.88% +- 1.1%\n"
     ]
    }
   ],
   "source": [
    "sink_accs, sink_aucs = [], []\n",
    "for i in range(n_runs):\n",
    "    random.seed(i)\n",
    "    np.random.seed(i)\n",
    "    torch.manual_seed(i)\n",
    "    imputer = OTimputer(niter=500)\n",
    "    imputed = imputer.fit_transform(data_missing_nans).cpu().detach().numpy()\n",
    "    scores = utils.get_scores(imputed, y)\n",
    "    acc = scores['test_balanced_accuracy']\n",
    "    auc = scores['test_roc_auc_ovo']\n",
    "    print(f'\\nSINKHORN RUN {i + 1}/{n_runs} - acc: {round(acc.mean() * 100, 2)}% +- {round(acc.std() * 100, 2)}% - ' +\n",
    "          f'auc: {round(auc.mean() * 100, 2)}% +- {round(auc.std() * 100, 2)}%\\n')\n",
    "    sink_accs.append(acc.mean())\n",
    "    sink_aucs.append(auc.mean())\n",
    "print(f'\\nSINKHORN GLOBAL - acc: {round(np.array(sink_accs).mean() * 100, 2)}% +- {round(np.array(sink_accs).std() * 100, 2)}% - ' +\n",
    "      f'auc: {round(np.array(sink_aucs).mean() * 100, 2)}% +- {round(np.array(sink_aucs).std() * 100, 2)}%')"
   ]
  },
  {
   "cell_type": "markdown",
   "metadata": {},
   "source": [
    "## Run MIDA"
   ]
  },
  {
   "cell_type": "code",
   "execution_count": 11,
   "metadata": {
    "execution": {
     "iopub.execute_input": "2022-06-03T19:41:38.367475Z",
     "iopub.status.busy": "2022-06-03T19:41:38.367018Z",
     "iopub.status.idle": "2022-06-03T19:44:46.778939Z",
     "shell.execute_reply": "2022-06-03T19:44:46.778555Z"
    }
   },
   "outputs": [
    {
     "name": "stdout",
     "output_type": "stream",
     "text": [
      "Stop training at epoch: 1500/1500, return best output\n",
      "\n",
      "MIDA RUN 1/10 - acc: 72.03% +- 2.03% - auc: 79.15% +- 2.76%\n",
      "\n",
      "Stop training at epoch: 1500/1500, return best output\n",
      "\n",
      "MIDA RUN 2/10 - acc: 72.87% +- 1.89% - auc: 78.55% +- 3.51%\n",
      "\n",
      "Stop training at epoch: 1500/1500, return best output\n",
      "\n",
      "MIDA RUN 3/10 - acc: 72.04% +- 1.13% - auc: 79.54% +- 1.19%\n",
      "\n",
      "Stop training at epoch: 1500/1500, return best output\n",
      "\n",
      "MIDA RUN 4/10 - acc: 71.41% +- 1.97% - auc: 78.55% +- 2.57%\n",
      "\n",
      "Stop training at epoch: 1500/1500, return best output\n",
      "\n",
      "MIDA RUN 5/10 - acc: 72.71% +- 1.12% - auc: 79.87% +- 2.88%\n",
      "\n",
      "Stop training at epoch: 1500/1500, return best output\n",
      "\n",
      "MIDA RUN 6/10 - acc: 73.4% +- 2.95% - auc: 76.55% +- 3.29%\n",
      "\n",
      "Stop training at epoch: 1500/1500, return best output\n",
      "\n",
      "MIDA RUN 7/10 - acc: 73.45% +- 2.44% - auc: 80.96% +- 1.8%\n",
      "\n",
      "Stop training at epoch: 1500/1500, return best output\n",
      "\n",
      "MIDA RUN 8/10 - acc: 72.1% +- 2.23% - auc: 78.94% +- 1.63%\n",
      "\n",
      "Stop training at epoch: 1500/1500, return best output\n",
      "\n",
      "MIDA RUN 9/10 - acc: 72.09% +- 2.7% - auc: 78.99% +- 2.24%\n",
      "\n",
      "Stop training at epoch: 1500/1500, return best output\n",
      "\n",
      "MIDA RUN 10/10 - acc: 72.61% +- 3.3% - auc: 81.4% +- 2.55%\n",
      "\n",
      "\n",
      "MIDA GLOBAL - acc: 72.47% +- 0.62% - auc: 79.25% +- 1.28%\n"
     ]
    }
   ],
   "source": [
    "mida_accs, mida_aucs = [], []\n",
    "for i in range(n_runs):\n",
    "    random.seed(i)\n",
    "    np.random.seed(i)\n",
    "    torch.manual_seed(i)\n",
    "    imputed = mida(data_missing_nans, num_layers=2, num_epochs=1500)\n",
    "    imputed = np.where(missing_mask, data_missing, imputed)\n",
    "    scores = utils.get_scores(imputed, y)\n",
    "    acc = scores['test_balanced_accuracy']\n",
    "    auc = scores['test_roc_auc_ovo']\n",
    "    print(f'\\nMIDA RUN {i + 1}/{n_runs} - acc: {round(acc.mean() * 100, 2)}% +- {round(acc.std() * 100, 2)}% - ' +\n",
    "          f'auc: {round(auc.mean() * 100, 2)}% +- {round(auc.std() * 100, 2)}%\\n')\n",
    "    mida_accs.append(acc.mean())\n",
    "    mida_aucs.append(auc.mean())\n",
    "print(f'\\nMIDA GLOBAL - acc: {round(np.array(mida_accs).mean() * 100, 2)}% +- {round(np.array(mida_accs).std() * 100, 2)}% - ' +\n",
    "      f'auc: {round(np.array(mida_aucs).mean() * 100, 2)}% +- {round(np.array(mida_aucs).std() * 100, 2)}%')"
   ]
  },
  {
   "cell_type": "markdown",
   "metadata": {},
   "source": [
    "## Run T-tests"
   ]
  },
  {
   "cell_type": "code",
   "execution_count": 12,
   "metadata": {
    "ExecuteTime": {
     "end_time": "2022-06-03T08:13:33.583163Z",
     "start_time": "2022-06-03T08:13:33.583140Z"
    },
    "execution": {
     "iopub.execute_input": "2022-06-03T19:44:46.793870Z",
     "iopub.status.busy": "2022-06-03T19:44:46.793433Z",
     "iopub.status.idle": "2022-06-03T19:44:46.805279Z",
     "shell.execute_reply": "2022-06-03T19:44:46.805624Z"
    },
    "scrolled": false
   },
   "outputs": [
    {
     "name": "stdout",
     "output_type": "stream",
     "text": [
      "Metric ACC - OUR METHOD is significantly better than MEDIAN\n",
      "Metric AUC - OUR METHOD is significantly better than MEDIAN\n",
      "Metric ACC - OUR METHOD is even with MEAN\n",
      "Metric AUC - OUR METHOD is significantly better than MEAN\n",
      "Metric ACC - OUR METHOD is significantly better than KNN\n",
      "Metric AUC - OUR METHOD is significantly better than KNN\n",
      "Metric ACC - OUR METHOD is significantly better than GAIN\n",
      "Metric AUC - OUR METHOD is significantly better than GAIN\n",
      "Metric ACC - OUR METHOD is significantly better than MICE\n",
      "Metric AUC - OUR METHOD is significantly better than MICE\n",
      "Metric ACC - OUR METHOD is significantly better than MISS\n",
      "Metric AUC - OUR METHOD is significantly better than MISS\n",
      "Metric ACC - OUR METHOD is significantly better than SOFT\n",
      "Metric AUC - OUR METHOD is significantly better than SOFT\n",
      "Metric ACC - OUR METHOD is significantly better than SINK\n",
      "Metric AUC - OUR METHOD is significantly better than SINK\n",
      "Metric ACC - OUR METHOD is significantly better than MIDA\n",
      "Metric AUC - OUR METHOD is significantly better than MIDA\n"
     ]
    }
   ],
   "source": [
    "for model, metrics in {\n",
    "        'MEDIAN': {'ACC': median_accs, 'AUC': median_aucs},\n",
    "        'MEAN': {'ACC': mean_accs, 'AUC': mean_aucs},\n",
    "        'KNN': {'ACC': knn_accs, 'AUC': knn_aucs},\n",
    "        'GAIN': {'ACC': gain_accs, 'AUC': gain_aucs},\n",
    "        'MICE': {'ACC': mice_accs, 'AUC': mice_aucs},\n",
    "        'MISS': {'ACC': miss_accs, 'AUC': miss_aucs},\n",
    "        'SOFT': {'ACC': soft_accs, 'AUC': soft_aucs},\n",
    "        'SINK': {'ACC': sink_accs, 'AUC': sink_aucs},\n",
    "        'MIDA': {'ACC': mida_accs, 'AUC': mida_aucs}}.items():\n",
    "    for metric_name, metric in metrics.items():\n",
    "        ours_metric = ours_accs if metric_name == 'ACC' else ours_aucs\n",
    "        t, p = scipy.stats.ttest_ind(np.array(ours_metric), np.array(metric))\n",
    "        if p <= .05:\n",
    "            if t > 0:\n",
    "                ## Our method is better\n",
    "                print(f'Metric {metric_name} - OUR METHOD is significantly better than {model}')\n",
    "            else:\n",
    "                ## Theirs is better\n",
    "                print(f'Metric {metric_name} - OUR METHOD is significantly worse than {model}')\n",
    "        else:\n",
    "            ## Else we are even\n",
    "            print(f'Metric {metric_name} - OUR METHOD is even with {model}')"
   ]
  }
 ],
 "metadata": {
  "kernelspec": {
   "display_name": "Python 3 (ipykernel)",
   "language": "python",
   "name": "python3"
  },
  "language_info": {
   "codemirror_mode": {
    "name": "ipython",
    "version": 3
   },
   "file_extension": ".py",
   "mimetype": "text/x-python",
   "name": "python",
   "nbconvert_exporter": "python",
   "pygments_lexer": "ipython3",
   "version": "3.9.7"
  },
  "latex_envs": {
   "LaTeX_envs_menu_present": true,
   "autoclose": false,
   "autocomplete": true,
   "bibliofile": "biblio.bib",
   "cite_by": "apalike",
   "current_citInitial": 1,
   "eqLabelWithNumbers": true,
   "eqNumInitial": 1,
   "hotkeys": {
    "equation": "Ctrl-E",
    "itemize": "Ctrl-I"
   },
   "labels_anchors": false,
   "latex_user_defs": false,
   "report_style_numbering": false,
   "user_envs_cfg": false
  }
 },
 "nbformat": 4,
 "nbformat_minor": 2
}
