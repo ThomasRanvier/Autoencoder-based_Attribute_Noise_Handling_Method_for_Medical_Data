{
 "cells": [
  {
   "cell_type": "code",
   "execution_count": 1,
   "metadata": {
    "ExecuteTime": {
     "end_time": "2022-06-03T07:56:37.128214Z",
     "start_time": "2022-06-03T07:56:33.810392Z"
    },
    "execution": {
     "iopub.execute_input": "2022-06-03T15:29:46.705955Z",
     "iopub.status.busy": "2022-06-03T15:29:46.700327Z",
     "iopub.status.idle": "2022-06-03T15:29:50.432467Z",
     "shell.execute_reply": "2022-06-03T15:29:50.431917Z"
    }
   },
   "outputs": [],
   "source": [
    "from __future__ import print_function\n",
    "import warnings\n",
    "warnings.filterwarnings(\"ignore\", category=UserWarning)\n",
    "warnings.filterwarnings(\"ignore\", category=FutureWarning)\n",
    "## Disable tf future deprecated messages\n",
    "import logging\n",
    "logging.getLogger('tensorflow').disabled = True\n",
    "## Disable tf CUDA messages\n",
    "import os\n",
    "os.environ['TF_CPP_MIN_LOG_LEVEL'] = '3'\n",
    "\n",
    "%matplotlib inline\n",
    "\n",
    "import sys\n",
    "import random\n",
    "import numpy as np\n",
    "import pandas as pd\n",
    "\n",
    "import utils\n",
    "import correction\n",
    "from models.dense import *\n",
    "from models.gain import gain\n",
    "from models.soft_impute import SoftImpute\n",
    "from models.sinkhorn import OTimputer\n",
    "from models.mida import mida\n",
    "\n",
    "import scipy.stats\n",
    "\n",
    "from sklearn.experimental import enable_iterative_imputer\n",
    "from sklearn.impute import IterativeImputer\n",
    "from sklearn.impute import KNNImputer, SimpleImputer\n",
    "\n",
    "import sklearn.neighbors._base\n",
    "sys.modules['sklearn.neighbors.base'] = sklearn.neighbors._base\n",
    "from missingpy import MissForest\n",
    "\n",
    "torch.backends.cudnn.enabled = True\n",
    "torch.backends.cudnn.benchmark = True\n",
    "dtype = torch.cuda.FloatTensor"
   ]
  },
  {
   "cell_type": "markdown",
   "metadata": {},
   "source": [
    "## Repeat all experiments for 10 runs"
   ]
  },
  {
   "cell_type": "code",
   "execution_count": 2,
   "metadata": {
    "ExecuteTime": {
     "end_time": "2022-06-03T07:56:37.132965Z",
     "start_time": "2022-06-03T07:56:37.130326Z"
    },
    "execution": {
     "iopub.execute_input": "2022-06-03T15:29:50.436903Z",
     "iopub.status.busy": "2022-06-03T15:29:50.436379Z",
     "iopub.status.idle": "2022-06-03T15:29:50.438354Z",
     "shell.execute_reply": "2022-06-03T15:29:50.438746Z"
    }
   },
   "outputs": [],
   "source": [
    "n_runs = 10"
   ]
  },
  {
   "cell_type": "markdown",
   "metadata": {},
   "source": [
    "## Load data"
   ]
  },
  {
   "cell_type": "code",
   "execution_count": 3,
   "metadata": {
    "ExecuteTime": {
     "end_time": "2022-06-03T07:56:37.290562Z",
     "start_time": "2022-06-03T07:56:37.134360Z"
    },
    "execution": {
     "iopub.execute_input": "2022-06-03T15:29:50.443351Z",
     "iopub.status.busy": "2022-06-03T15:29:50.442908Z",
     "iopub.status.idle": "2022-06-03T15:29:50.593120Z",
     "shell.execute_reply": "2022-06-03T15:29:50.594040Z"
    }
   },
   "outputs": [
    {
     "name": "stdout",
     "output_type": "stream",
     "text": [
      "Dataset shape: (1700, 110)\n",
      "5.62% missing data\n",
      "Class distribution: (array([0, 1]), array([1429,  271]))\n"
     ]
    }
   ],
   "source": [
    "data_missing, missing_mask, y = utils.load_miocardial()\n",
    "## Inject noise\n",
    "data_missing = utils.inject_noise(data_missing.copy(), noise_rate=.10)\n",
    "## Replace missing values locations by 0\n",
    "data_missing = data_missing * missing_mask"
   ]
  },
  {
   "cell_type": "markdown",
   "metadata": {},
   "source": [
    "## Run OUR METHOD"
   ]
  },
  {
   "cell_type": "code",
   "execution_count": 4,
   "metadata": {
    "ExecuteTime": {
     "end_time": "2022-06-03T07:58:28.409535Z",
     "start_time": "2022-06-03T07:56:37.292368Z"
    },
    "execution": {
     "iopub.execute_input": "2022-06-03T15:29:50.606556Z",
     "iopub.status.busy": "2022-06-03T15:29:50.605255Z",
     "iopub.status.idle": "2022-06-03T15:46:08.345731Z",
     "shell.execute_reply": "2022-06-03T15:46:08.346138Z"
    },
    "scrolled": false
   },
   "outputs": [
    {
     "name": "stdout",
     "output_type": "stream",
     "text": [
      "Ite 00000 - 6.20 sec - Loss 0.224128 - ACC 74.52% - ACC Mean 74.52% - AUC 79.33% - AUC Mean 79.33% - Deter 000\n",
      "Ite 00050 - 0.91 sec - Loss 0.108819 - ACC 74.79% - ACC Mean 74.22% - AUC 80.62% - AUC Mean 80.15% - Deter 042\n",
      "Ite 00058 - 1.17 sec - Loss 0.102832 - ACC 75.25% - ACC Mean 74.14% - AUC 80.26% - AUC Mean 80.05% - Deter 050\n",
      "Early stop ite 58, rollback to correction of ite 8, whith acc of 74.25% and auc of 81.87%\n",
      "OUR METHOD RUN 1/10 - acc: 74.25% +- 0.0% - auc: 81.87% +- 0.0%\n",
      "Ite 00000 - 0.89 sec - Loss 0.231244 - ACC 73.50% - ACC Mean 73.50% - AUC 81.59% - AUC Mean 81.59% - Deter 000\n",
      "Ite 00050 - 0.86 sec - Loss 0.121219 - ACC 74.12% - ACC Mean 75.10% - AUC 79.24% - AUC Mean 80.50% - Deter 035\n",
      "Ite 00065 - 1.00 sec - Loss 0.109825 - ACC 73.22% - ACC Mean 74.68% - AUC 77.77% - AUC Mean 80.21% - Deter 050\n",
      "Early stop ite 65, rollback to correction of ite 15, whith acc of 75.89% and auc of 82.3%\n",
      "OUR METHOD RUN 2/10 - acc: 75.89% +- 0.0% - auc: 82.3% +- 0.0%\n",
      "Ite 00000 - 0.82 sec - Loss 0.208409 - ACC 73.94% - ACC Mean 73.94% - AUC 81.32% - AUC Mean 81.32% - Deter 000\n",
      "Ite 00050 - 0.82 sec - Loss 0.102092 - ACC 74.47% - ACC Mean 74.34% - AUC 80.53% - AUC Mean 80.12% - Deter 047\n",
      "Ite 00053 - 1.09 sec - Loss 0.099494 - ACC 74.24% - ACC Mean 74.24% - AUC 78.96% - AUC Mean 80.04% - Deter 050\n",
      "Early stop ite 53, rollback to correction of ite 3, whith acc of 76.34% and auc of 81.88%\n",
      "OUR METHOD RUN 3/10 - acc: 76.34% +- 0.0% - auc: 81.88% +- 0.0%\n",
      "Ite 00000 - 0.91 sec - Loss 0.172234 - ACC 72.92% - ACC Mean 72.92% - AUC 80.65% - AUC Mean 80.65% - Deter 000\n",
      "Ite 00050 - 0.89 sec - Loss 0.084713 - ACC 73.95% - ACC Mean 74.22% - AUC 79.95% - AUC Mean 79.94% - Deter 006\n",
      "Ite 00100 - 0.85 sec - Loss 0.063543 - ACC 75.64% - ACC Mean 74.59% - AUC 81.10% - AUC Mean 80.79% - Deter 004\n",
      "Ite 00150 - 0.98 sec - Loss 0.053041 - ACC 73.02% - ACC Mean 74.60% - AUC 80.64% - AUC Mean 81.07% - Deter 030\n",
      "Ite 00170 - 0.94 sec - Loss 0.049991 - ACC 76.50% - ACC Mean 74.67% - AUC 81.12% - AUC Mean 80.88% - Deter 050\n",
      "Early stop ite 170, rollback to correction of ite 120, whith acc of 76.05% and auc of 82.89%\n",
      "OUR METHOD RUN 4/10 - acc: 76.05% +- 0.0% - auc: 82.89% +- 0.0%\n",
      "Ite 00000 - 0.92 sec - Loss 0.234308 - ACC 74.18% - ACC Mean 74.18% - AUC 80.62% - AUC Mean 80.62% - Deter 000\n",
      "Ite 00050 - 0.93 sec - Loss 0.121064 - ACC 73.83% - ACC Mean 74.51% - AUC 79.44% - AUC Mean 80.19% - Deter 011\n",
      "Ite 00089 - 1.02 sec - Loss 0.091234 - ACC 74.28% - ACC Mean 74.14% - AUC 80.39% - AUC Mean 79.82% - Deter 050\n",
      "Early stop ite 89, rollback to correction of ite 39, whith acc of 75.1% and auc of 81.85%\n",
      "OUR METHOD RUN 5/10 - acc: 75.1% +- 0.0% - auc: 81.85% +- 0.0%\n",
      "Ite 00000 - 0.85 sec - Loss 0.213135 - ACC 72.52% - ACC Mean 72.52% - AUC 78.82% - AUC Mean 78.82% - Deter 000\n",
      "Ite 00050 - 0.86 sec - Loss 0.125796 - ACC 75.65% - ACC Mean 75.20% - AUC 79.87% - AUC Mean 80.94% - Deter 017\n",
      "Ite 00100 - 0.96 sec - Loss 0.100454 - ACC 74.60% - ACC Mean 75.38% - AUC 81.76% - AUC Mean 81.61% - Deter 014\n",
      "Ite 00136 - 0.87 sec - Loss 0.090651 - ACC 75.34% - ACC Mean 75.26% - AUC 82.65% - AUC Mean 81.79% - Deter 050\n",
      "Early stop ite 136, rollback to correction of ite 86, whith acc of 76.32% and auc of 83.97%\n",
      "OUR METHOD RUN 6/10 - acc: 76.32% +- 0.0% - auc: 83.97% +- 0.0%\n",
      "Ite 00000 - 0.87 sec - Loss 0.232340 - ACC 73.97% - ACC Mean 73.97% - AUC 80.17% - AUC Mean 80.17% - Deter 000\n",
      "Ite 00050 - 1.12 sec - Loss 0.125914 - ACC 75.31% - ACC Mean 75.07% - AUC 80.76% - AUC Mean 80.50% - Deter 002\n",
      "Ite 00100 - 0.95 sec - Loss 0.102550 - ACC 76.53% - ACC Mean 76.11% - AUC 82.60% - AUC Mean 81.70% - Deter 034\n",
      "Ite 00116 - 1.05 sec - Loss 0.097988 - ACC 75.34% - ACC Mean 75.97% - AUC 82.44% - AUC Mean 81.64% - Deter 050\n",
      "Early stop ite 116, rollback to correction of ite 66, whith acc of 76.34% and auc of 82.8%\n",
      "OUR METHOD RUN 7/10 - acc: 76.34% +- 0.0% - auc: 82.8% +- 0.0%\n",
      "Ite 00000 - 0.96 sec - Loss 0.232456 - ACC 74.79% - ACC Mean 74.79% - AUC 78.91% - AUC Mean 78.91% - Deter 000\n",
      "Ite 00050 - 1.09 sec - Loss 0.120207 - ACC 75.83% - ACC Mean 74.55% - AUC 80.94% - AUC Mean 80.12% - Deter 040\n",
      "Ite 00100 - 0.93 sec - Loss 0.091210 - ACC 74.25% - ACC Mean 74.06% - AUC 79.92% - AUC Mean 80.12% - Deter 041\n",
      "Ite 00109 - 1.01 sec - Loss 0.087974 - ACC 74.69% - ACC Mean 73.99% - AUC 79.68% - AUC Mean 79.86% - Deter 050\n",
      "Early stop ite 109, rollback to correction of ite 59, whith acc of 75.63% and auc of 81.75%\n",
      "OUR METHOD RUN 8/10 - acc: 75.63% +- 0.0% - auc: 81.75% +- 0.0%\n",
      "Ite 00000 - 1.41 sec - Loss 0.185707 - ACC 73.76% - ACC Mean 73.76% - AUC 78.84% - AUC Mean 78.84% - Deter 000\n",
      "Ite 00050 - 1.16 sec - Loss 0.094467 - ACC 74.56% - ACC Mean 74.59% - AUC 81.71% - AUC Mean 80.46% - Deter 012\n",
      "Ite 00088 - 1.27 sec - Loss 0.073796 - ACC 74.32% - ACC Mean 74.75% - AUC 81.63% - AUC Mean 81.07% - Deter 050\n",
      "Early stop ite 88, rollback to correction of ite 38, whith acc of 75.11% and auc of 82.35%\n",
      "OUR METHOD RUN 9/10 - acc: 75.11% +- 0.0% - auc: 82.35% +- 0.0%\n",
      "Ite 00000 - 1.44 sec - Loss 0.212484 - ACC 73.77% - ACC Mean 73.77% - AUC 81.64% - AUC Mean 81.64% - Deter 000\n",
      "Ite 00050 - 1.39 sec - Loss 0.110462 - ACC 74.90% - ACC Mean 74.29% - AUC 78.50% - AUC Mean 80.07% - Deter 050\n",
      "Early stop ite 50, rollback to correction of ite 0, whith acc of 73.77% and auc of 81.64%\n",
      "OUR METHOD RUN 10/10 - acc: 73.77% +- 0.0% - auc: 81.64% +- 0.0%\n",
      "\n",
      "OUR METHOD GLOBAL - acc: 75.48% +- 0.86% - auc: 82.33% +- 0.68%\n"
     ]
    }
   ],
   "source": [
    "params = {\n",
    "    'nb_batches': 10,\n",
    "    'reg_noise_std': .03,\n",
    "    'net_input': 'data_corrupted',\n",
    "    'net_params': {\n",
    "        'input_channels':1,\n",
    "        'output_channels':1,\n",
    "        'channels_skip':4,\n",
    "        'down_layers':[(24, 7, 2),\n",
    "                       (46, 9, 1),\n",
    "                       (96, 9, 5),\n",
    "                       (96, 11, 1)],\n",
    "        'need_sigmoid':True,\n",
    "        'need_bias':True,\n",
    "        'pad':'zero',\n",
    "        'downsample_mode':'stride',\n",
    "        'upsample_mode':'nearest',\n",
    "        'act_fun':'LeakyReLU',\n",
    "        'need1x1_up':True\n",
    "    },# or a list containing layers sizes\n",
    "    'adam_lr': .0001,\n",
    "    'adam_weight_decay': 0.,\n",
    "}\n",
    "\n",
    "ours_accs, ours_aucs = [], []\n",
    "for i in range(n_runs):\n",
    "    ours_correction = correction.run(data_missing, 501, params, y=y, missing_mask=missing_mask, seed=i)\n",
    "    ## Since our method returns 2 imputations select the best one\n",
    "    scores_raw = utils.get_scores(ours_correction['raw_out'], y)\n",
    "    acc = scores_raw['test_balanced_accuracy']\n",
    "    auc = scores_raw['test_roc_auc_ovo']\n",
    "    acc = acc.mean()\n",
    "    acc_std = acc.std()\n",
    "    auc = auc.mean()\n",
    "    auc_std = auc.std()\n",
    "    if 'masked_out' in ours_correction:\n",
    "        scores_masked = utils.get_scores(ours_correction['masked_out'], y)\n",
    "        acc_masked = scores_masked['test_balanced_accuracy']\n",
    "        auc_masked = scores_masked['test_roc_auc_ovo']\n",
    "        if auc_masked.mean() > auc:\n",
    "            acc = acc_masked.mean()\n",
    "            acc_std = acc_masked.std()\n",
    "            auc = auc_masked.mean()\n",
    "            auc_std = auc_masked.std()\n",
    "    print(f'OUR METHOD RUN {i + 1}/{n_runs} - acc: {round(acc.mean() * 100, 2)}% +- {round(acc.std() * 100, 2)}% - ' +\n",
    "          f'auc: {round(auc.mean() * 100, 2)}% +- {round(auc.std() * 100, 2)}%')\n",
    "    ours_accs.append(acc.mean())\n",
    "    ours_aucs.append(auc.mean())\n",
    "print(f'\\nOUR METHOD GLOBAL - acc: {round(np.array(ours_accs).mean() * 100, 2)}% +- {round(np.array(ours_accs).std() * 100, 2)}% - ' +\n",
    "      f'auc: {round(np.array(ours_aucs).mean() * 100, 2)}% +- {round(np.array(ours_aucs).std() * 100, 2)}%')"
   ]
  },
  {
   "cell_type": "markdown",
   "metadata": {},
   "source": [
    "## Run Median, Mean and KNN"
   ]
  },
  {
   "cell_type": "code",
   "execution_count": 5,
   "metadata": {
    "ExecuteTime": {
     "end_time": "2022-06-03T07:58:31.715672Z",
     "start_time": "2022-06-03T07:58:28.411834Z"
    },
    "execution": {
     "iopub.execute_input": "2022-06-03T15:46:08.355632Z",
     "iopub.status.busy": "2022-06-03T15:46:08.354824Z",
     "iopub.status.idle": "2022-06-03T15:46:10.047817Z",
     "shell.execute_reply": "2022-06-03T15:46:10.048153Z"
    }
   },
   "outputs": [
    {
     "name": "stdout",
     "output_type": "stream",
     "text": [
      "MEDIAN - acc: 62.42% +- 0.0% - auc: 68.86% +- 0.0%\n",
      "MEAN - acc: 75.14% +- 0.0% - auc: 81.97% +- 0.0%\n",
      "KNN - acc: 67.49% +- 0.0% - auc: 72.42% +- 0.0%\n"
     ]
    }
   ],
   "source": [
    "data_missing_nans = np.where(missing_mask, data_missing, np.nan)\n",
    "\n",
    "median_imputer = SimpleImputer(missing_values=np.nan, strategy='median')\n",
    "mean_imputer = SimpleImputer(missing_values=np.nan, strategy='mean')\n",
    "knn_imputer = KNNImputer(n_neighbors=10, weights='uniform')\n",
    "\n",
    "median_completed = median_imputer.fit_transform(data_missing_nans)\n",
    "mean_completed = mean_imputer.fit_transform(data_missing_nans)\n",
    "knn_completed = knn_imputer.fit_transform(data_missing_nans)\n",
    "\n",
    "## All runs would be the same since deterministic methods\n",
    "scores = utils.get_scores(median_completed, y)\n",
    "acc = [scores['test_balanced_accuracy'].mean()] * n_runs\n",
    "auc = [scores['test_roc_auc_ovo'].mean()] * n_runs\n",
    "print(f'MEDIAN - acc: {round(np.mean(acc) * 100, 2)}% +- {round(np.std(acc) * 100, 2)}% - ' +\n",
    "      f'auc: {round(np.mean(auc) * 100, 2)}% +- {round(np.std(auc) * 100, 2)}%')\n",
    "median_accs = acc\n",
    "median_aucs = auc\n",
    "\n",
    "scores = utils.get_scores(mean_completed, y)\n",
    "acc = [scores['test_balanced_accuracy'].mean()] * n_runs\n",
    "auc = [scores['test_roc_auc_ovo'].mean()] * n_runs\n",
    "print(f'MEAN - acc: {round(np.mean(acc) * 100, 2)}% +- {round(np.std(acc) * 100, 2)}% - ' +\n",
    "      f'auc: {round(np.mean(auc) * 100, 2)}% +- {round(np.std(auc) * 100, 2)}%')\n",
    "mean_accs = acc\n",
    "mean_aucs = auc\n",
    "\n",
    "scores = utils.get_scores(knn_completed, y)\n",
    "acc = [scores['test_balanced_accuracy'].mean()] * n_runs\n",
    "auc = [scores['test_roc_auc_ovo'].mean()] * n_runs\n",
    "print(f'KNN - acc: {round(np.mean(acc) * 100, 2)}% +- {round(np.std(acc) * 100, 2)}% - ' +\n",
    "      f'auc: {round(np.mean(auc) * 100, 2)}% +- {round(np.std(auc) * 100, 2)}%')\n",
    "knn_accs = acc\n",
    "knn_aucs = auc"
   ]
  },
  {
   "cell_type": "markdown",
   "metadata": {},
   "source": [
    "## Run GAIN"
   ]
  },
  {
   "cell_type": "code",
   "execution_count": 6,
   "metadata": {
    "ExecuteTime": {
     "end_time": "2022-06-03T07:59:07.140809Z",
     "start_time": "2022-06-03T07:58:31.718964Z"
    },
    "execution": {
     "iopub.execute_input": "2022-06-03T15:46:10.055048Z",
     "iopub.status.busy": "2022-06-03T15:46:10.054597Z",
     "iopub.status.idle": "2022-06-03T15:56:40.492764Z",
     "shell.execute_reply": "2022-06-03T15:56:40.495262Z"
    },
    "scrolled": false
   },
   "outputs": [
    {
     "name": "stderr",
     "output_type": "stream",
     "text": [
      "100%|██████████| 5000/5000 [00:56<00:00, 88.59it/s]\n"
     ]
    },
    {
     "name": "stdout",
     "output_type": "stream",
     "text": [
      "\n",
      "GAIN RUN 1/10 - acc: 73.39% +- 2.98% - auc: 79.13% +- 1.98%\n",
      "\n"
     ]
    },
    {
     "name": "stderr",
     "output_type": "stream",
     "text": [
      "100%|██████████| 5000/5000 [00:59<00:00, 84.01it/s]\n"
     ]
    },
    {
     "name": "stdout",
     "output_type": "stream",
     "text": [
      "\n",
      "GAIN RUN 2/10 - acc: 72.01% +- 3.61% - auc: 78.77% +- 4.17%\n",
      "\n"
     ]
    },
    {
     "name": "stderr",
     "output_type": "stream",
     "text": [
      "100%|██████████| 5000/5000 [01:05<00:00, 76.71it/s]\n"
     ]
    },
    {
     "name": "stdout",
     "output_type": "stream",
     "text": [
      "\n",
      "GAIN RUN 3/10 - acc: 72.16% +- 4.38% - auc: 77.96% +- 4.73%\n",
      "\n"
     ]
    },
    {
     "name": "stderr",
     "output_type": "stream",
     "text": [
      "100%|██████████| 5000/5000 [00:58<00:00, 85.64it/s] \n"
     ]
    },
    {
     "name": "stdout",
     "output_type": "stream",
     "text": [
      "\n",
      "GAIN RUN 4/10 - acc: 72.35% +- 3.36% - auc: 79.42% +- 1.9%\n",
      "\n"
     ]
    },
    {
     "name": "stderr",
     "output_type": "stream",
     "text": [
      "100%|██████████| 5000/5000 [01:01<00:00, 81.80it/s]\n"
     ]
    },
    {
     "name": "stdout",
     "output_type": "stream",
     "text": [
      "\n",
      "GAIN RUN 5/10 - acc: 71.87% +- 2.95% - auc: 78.73% +- 2.04%\n",
      "\n"
     ]
    },
    {
     "name": "stderr",
     "output_type": "stream",
     "text": [
      "100%|██████████| 5000/5000 [00:47<00:00, 106.00it/s]\n"
     ]
    },
    {
     "name": "stdout",
     "output_type": "stream",
     "text": [
      "\n",
      "GAIN RUN 6/10 - acc: 72.3% +- 1.9% - auc: 77.8% +- 2.95%\n",
      "\n"
     ]
    },
    {
     "name": "stderr",
     "output_type": "stream",
     "text": [
      "100%|██████████| 5000/5000 [00:54<00:00, 91.05it/s]\n"
     ]
    },
    {
     "name": "stdout",
     "output_type": "stream",
     "text": [
      "\n",
      "GAIN RUN 7/10 - acc: 71.58% +- 2.62% - auc: 77.79% +- 4.31%\n",
      "\n"
     ]
    },
    {
     "name": "stderr",
     "output_type": "stream",
     "text": [
      "100%|██████████| 5000/5000 [00:58<00:00, 85.17it/s]\n"
     ]
    },
    {
     "name": "stdout",
     "output_type": "stream",
     "text": [
      "\n",
      "GAIN RUN 8/10 - acc: 70.76% +- 1.36% - auc: 77.74% +- 2.08%\n",
      "\n"
     ]
    },
    {
     "name": "stderr",
     "output_type": "stream",
     "text": [
      "100%|██████████| 5000/5000 [00:58<00:00, 85.98it/s] \n"
     ]
    },
    {
     "name": "stdout",
     "output_type": "stream",
     "text": [
      "\n",
      "GAIN RUN 9/10 - acc: 71.68% +- 3.63% - auc: 79.01% +- 4.52%\n",
      "\n"
     ]
    },
    {
     "name": "stderr",
     "output_type": "stream",
     "text": [
      "100%|██████████| 5000/5000 [00:59<00:00, 84.68it/s]\n"
     ]
    },
    {
     "name": "stdout",
     "output_type": "stream",
     "text": [
      "\n",
      "GAIN RUN 10/10 - acc: 73.96% +- 2.53% - auc: 80.32% +- 3.2%\n",
      "\n",
      "GAIN GLOBAL - acc: 72.2% +- 0.86% - auc: 78.67% +- 0.81%\n"
     ]
    }
   ],
   "source": [
    "gain_parameters = {'batch_size': 128,\n",
    "                   'hint_rate': .9,\n",
    "                   'alpha': 100,\n",
    "                   'iterations': 5000}\n",
    "\n",
    "gain_accs, gain_aucs = [], []\n",
    "for i in range(n_runs):\n",
    "    random.seed(i)\n",
    "    np.random.seed(i)\n",
    "    torch.manual_seed(i)\n",
    "    imputed = gain(data_missing_nans, gain_parameters)\n",
    "    scores = utils.get_scores(imputed, y)\n",
    "    acc = scores['test_balanced_accuracy']\n",
    "    auc = scores['test_roc_auc_ovo']\n",
    "    print(f'\\nGAIN RUN {i + 1}/{n_runs} - acc: {round(acc.mean() * 100, 2)}% +- {round(acc.std() * 100, 2)}% - ' +\n",
    "          f'auc: {round(auc.mean() * 100, 2)}% +- {round(auc.std() * 100, 2)}%\\n')\n",
    "    gain_accs.append(acc.mean())\n",
    "    gain_aucs.append(auc.mean())\n",
    "print(f'GAIN GLOBAL - acc: {round(np.array(gain_accs).mean() * 100, 2)}% +- {round(np.array(gain_accs).std() * 100, 2)}% - ' +\n",
    "      f'auc: {round(np.array(gain_aucs).mean() * 100, 2)}% +- {round(np.array(gain_aucs).std() * 100, 2)}%')"
   ]
  },
  {
   "cell_type": "markdown",
   "metadata": {},
   "source": [
    "## Run MICE"
   ]
  },
  {
   "cell_type": "code",
   "execution_count": 7,
   "metadata": {
    "ExecuteTime": {
     "end_time": "2022-06-03T08:13:33.572553Z",
     "start_time": "2022-06-03T07:59:07.142164Z"
    },
    "execution": {
     "iopub.execute_input": "2022-06-03T15:56:40.504836Z",
     "iopub.status.busy": "2022-06-03T15:56:40.497709Z",
     "iopub.status.idle": "2022-06-03T17:10:34.148928Z",
     "shell.execute_reply": "2022-06-03T17:10:34.148464Z"
    }
   },
   "outputs": [
    {
     "name": "stdout",
     "output_type": "stream",
     "text": [
      "MICE - acc: 73.82% +- 0.0% - auc: 80.8% +- 0.0%\n"
     ]
    }
   ],
   "source": [
    "imputer = IterativeImputer()\n",
    "imputed = imputer.fit_transform(data_missing_nans)\n",
    "## All runs would be the same since deterministic method\n",
    "scores = utils.get_scores(imputed, y)\n",
    "acc = [scores['test_balanced_accuracy'].mean()] * n_runs\n",
    "auc = [scores['test_roc_auc_ovo'].mean()] * n_runs\n",
    "print(f'MICE - acc: {round(np.mean(acc) * 100, 2)}% +- {round(np.std(acc) * 100, 2)}% - ' +\n",
    "      f'auc: {round(np.mean(auc) * 100, 2)}% +- {round(np.std(auc) * 100, 2)}%')\n",
    "mice_accs = acc\n",
    "mice_aucs = auc"
   ]
  },
  {
   "cell_type": "markdown",
   "metadata": {},
   "source": [
    "## Run MISSFOREST"
   ]
  },
  {
   "cell_type": "code",
   "execution_count": 8,
   "metadata": {
    "ExecuteTime": {
     "end_time": "2022-06-03T08:13:33.579829Z",
     "start_time": "2022-06-03T08:13:33.579804Z"
    },
    "execution": {
     "iopub.execute_input": "2022-06-03T17:10:34.174993Z",
     "iopub.status.busy": "2022-06-03T17:10:34.174461Z",
     "iopub.status.idle": "2022-06-03T19:53:26.744448Z",
     "shell.execute_reply": "2022-06-03T19:53:26.743363Z"
    },
    "scrolled": false
   },
   "outputs": [
    {
     "name": "stdout",
     "output_type": "stream",
     "text": [
      "Iteration: 0\n",
      "Iteration: 1\n",
      "Iteration: 2\n",
      "Iteration: 3\n",
      "Iteration: 4\n",
      "Iteration: 5\n",
      "\n",
      "MISSFOREST RUN 1/10 - acc: 71.96% +- 2.07% - auc: 79.34% +- 1.02%\n",
      "\n",
      "Iteration: 0\n",
      "Iteration: 1\n",
      "Iteration: 2\n",
      "Iteration: 3\n",
      "\n",
      "MISSFOREST RUN 2/10 - acc: 71.98% +- 2.81% - auc: 79.38% +- 4.54%\n",
      "\n",
      "Iteration: 0\n",
      "Iteration: 1\n",
      "Iteration: 2\n",
      "Iteration: 3\n",
      "Iteration: 4\n",
      "Iteration: 5\n",
      "\n",
      "MISSFOREST RUN 3/10 - acc: 71.84% +- 2.38% - auc: 79.63% +- 4.44%\n",
      "\n",
      "Iteration: 0\n",
      "Iteration: 1\n",
      "Iteration: 2\n",
      "Iteration: 3\n",
      "Iteration: 4\n",
      "\n",
      "MISSFOREST RUN 4/10 - acc: 71.23% +- 1.39% - auc: 78.24% +- 2.75%\n",
      "\n",
      "Iteration: 0\n",
      "Iteration: 1\n",
      "Iteration: 2\n",
      "Iteration: 3\n",
      "Iteration: 4\n",
      "\n",
      "MISSFOREST RUN 5/10 - acc: 73.03% +- 2.15% - auc: 79.11% +- 2.72%\n",
      "\n",
      "Iteration: 0\n",
      "Iteration: 1\n",
      "Iteration: 2\n",
      "Iteration: 3\n",
      "Iteration: 4\n",
      "Iteration: 5\n",
      "\n",
      "MISSFOREST RUN 6/10 - acc: 72.56% +- 2.22% - auc: 78.15% +- 3.86%\n",
      "\n",
      "Iteration: 0\n",
      "Iteration: 1\n",
      "Iteration: 2\n",
      "Iteration: 3\n",
      "Iteration: 4\n",
      "Iteration: 5\n",
      "\n",
      "MISSFOREST RUN 7/10 - acc: 72.56% +- 2.47% - auc: 79.73% +- 2.84%\n",
      "\n",
      "Iteration: 0\n",
      "Iteration: 1\n",
      "Iteration: 2\n",
      "Iteration: 3\n",
      "Iteration: 4\n",
      "\n",
      "MISSFOREST RUN 8/10 - acc: 73.2% +- 1.8% - auc: 79.78% +- 3.1%\n",
      "\n",
      "Iteration: 0\n",
      "Iteration: 1\n",
      "Iteration: 2\n",
      "Iteration: 3\n",
      "Iteration: 4\n",
      "Iteration: 5\n",
      "Iteration: 6\n",
      "\n",
      "MISSFOREST RUN 9/10 - acc: 72.6% +- 1.61% - auc: 78.92% +- 2.61%\n",
      "\n",
      "Iteration: 0\n",
      "Iteration: 1\n",
      "Iteration: 2\n",
      "Iteration: 3\n",
      "Iteration: 4\n",
      "Iteration: 5\n",
      "\n",
      "MISSFOREST RUN 10/10 - acc: 70.69% +- 1.28% - auc: 77.36% +- 2.67%\n",
      "\n",
      "\n",
      "MISSFOREST GLOBAL - acc: 72.16% +- 0.74% - auc: 78.97% +- 0.76%\n"
     ]
    }
   ],
   "source": [
    "miss_accs, miss_aucs = [], []\n",
    "for i in range(n_runs):\n",
    "    random.seed(i)\n",
    "    np.random.seed(i)\n",
    "    torch.manual_seed(i)\n",
    "    imputer = MissForest(n_jobs=-1, random_state=i)\n",
    "    imputed = imputer.fit_transform(data_missing_nans)\n",
    "    scores = utils.get_scores(imputed, y)\n",
    "    acc = scores['test_balanced_accuracy']\n",
    "    auc = scores['test_roc_auc_ovo']\n",
    "    print(f'\\nMISSFOREST RUN {i + 1}/{n_runs} - acc: {round(acc.mean() * 100, 2)}% +- {round(acc.std() * 100, 2)}% - ' +\n",
    "          f'auc: {round(auc.mean() * 100, 2)}% +- {round(auc.std() * 100, 2)}%\\n')\n",
    "    miss_accs.append(acc.mean())\n",
    "    miss_aucs.append(auc.mean())\n",
    "print(f'\\nMISSFOREST GLOBAL - acc: {round(np.array(miss_accs).mean() * 100, 2)}% +- {round(np.array(miss_accs).std() * 100, 2)}% - ' +\n",
    "      f'auc: {round(np.array(miss_aucs).mean() * 100, 2)}% +- {round(np.array(miss_aucs).std() * 100, 2)}%')"
   ]
  },
  {
   "cell_type": "markdown",
   "metadata": {},
   "source": [
    "## Run SOFTIMPUTE"
   ]
  },
  {
   "cell_type": "code",
   "execution_count": 9,
   "metadata": {
    "ExecuteTime": {
     "end_time": "2022-06-03T08:13:33.581198Z",
     "start_time": "2022-06-03T08:13:33.581175Z"
    },
    "execution": {
     "iopub.execute_input": "2022-06-03T19:53:26.754546Z",
     "iopub.status.busy": "2022-06-03T19:53:26.753636Z",
     "iopub.status.idle": "2022-06-03T19:53:28.695509Z",
     "shell.execute_reply": "2022-06-03T19:53:28.695985Z"
    }
   },
   "outputs": [
    {
     "name": "stdout",
     "output_type": "stream",
     "text": [
      "SOFTIMPUTE RUN 1/10 - acc: 71.45% +- 3.64% - auc: 76.73% +- 3.44%\n",
      "SOFTIMPUTE RUN 2/10 - acc: 71.73% +- 3.84% - auc: 78.25% +- 3.96%\n",
      "SOFTIMPUTE RUN 3/10 - acc: 72.15% +- 3.1% - auc: 77.29% +- 2.72%\n",
      "SOFTIMPUTE RUN 4/10 - acc: 72.46% +- 2.73% - auc: 78.17% +- 2.89%\n",
      "SOFTIMPUTE RUN 5/10 - acc: 73.03% +- 2.77% - auc: 79.24% +- 2.33%\n",
      "SOFTIMPUTE RUN 6/10 - acc: 71.94% +- 3.39% - auc: 77.54% +- 2.62%\n",
      "SOFTIMPUTE RUN 7/10 - acc: 72.51% +- 2.8% - auc: 79.01% +- 3.1%\n",
      "SOFTIMPUTE RUN 8/10 - acc: 73.74% +- 3.59% - auc: 78.73% +- 3.56%\n",
      "SOFTIMPUTE RUN 9/10 - acc: 71.58% +- 2.23% - auc: 79.01% +- 1.8%\n",
      "SOFTIMPUTE RUN 10/10 - acc: 71.52% +- 2.67% - auc: 79.3% +- 1.34%\n",
      "\n",
      "SOFTIMPUTE GLOBAL - acc: 72.21% +- 0.7% - auc: 78.33% +- 0.85%\n"
     ]
    }
   ],
   "source": [
    "soft_accs, soft_aucs = [], []\n",
    "for i in range(n_runs):\n",
    "    random.seed(i)\n",
    "    np.random.seed(i)\n",
    "    torch.manual_seed(i)\n",
    "    imputer = SoftImpute(random_state=i)\n",
    "    imputer.fit(data_missing_nans)\n",
    "    imputed = imputer.predict(data_missing_nans)\n",
    "    imputed = np.where(missing_mask, data_missing, imputed)\n",
    "    scores = utils.get_scores(imputed, y)\n",
    "    acc = scores['test_balanced_accuracy']\n",
    "    auc = scores['test_roc_auc_ovo']\n",
    "    print(f'SOFTIMPUTE RUN {i + 1}/{n_runs} - acc: {round(acc.mean() * 100, 2)}% +- {round(acc.std() * 100, 2)}% - ' +\n",
    "          f'auc: {round(auc.mean() * 100, 2)}% +- {round(auc.std() * 100, 2)}%')\n",
    "    soft_accs.append(acc.mean())\n",
    "    soft_aucs.append(auc.mean())\n",
    "print(f'\\nSOFTIMPUTE GLOBAL - acc: {round(np.array(soft_accs).mean() * 100, 2)}% +- {round(np.array(soft_accs).std() * 100, 2)}% - ' +\n",
    "      f'auc: {round(np.array(soft_aucs).mean() * 100, 2)}% +- {round(np.array(soft_aucs).std() * 100, 2)}%')"
   ]
  },
  {
   "cell_type": "markdown",
   "metadata": {},
   "source": [
    "## Run SINKHORN"
   ]
  },
  {
   "cell_type": "code",
   "execution_count": 10,
   "metadata": {
    "execution": {
     "iopub.execute_input": "2022-06-03T19:53:28.698496Z",
     "iopub.status.busy": "2022-06-03T19:53:28.698010Z",
     "iopub.status.idle": "2022-06-03T19:58:23.556336Z",
     "shell.execute_reply": "2022-06-03T19:58:23.557442Z"
    }
   },
   "outputs": [
    {
     "name": "stdout",
     "output_type": "stream",
     "text": [
      "batchsize = 128, epsilon = 0.0100\n",
      "Iteration 0:\t Loss: 4.5090\n",
      "\n",
      "SINKHORN RUN 1/10 - acc: 73.0% +- 3.45% - auc: 80.46% +- 5.69%\n",
      "\n",
      "batchsize = 128, epsilon = 0.0100\n",
      "Iteration 0:\t Loss: 4.5691\n",
      "\n",
      "SINKHORN RUN 2/10 - acc: 72.34% +- 2.46% - auc: 80.02% +- 3.17%\n",
      "\n",
      "batchsize = 128, epsilon = 0.0100\n",
      "Iteration 0:\t Loss: 4.5750\n",
      "\n",
      "SINKHORN RUN 3/10 - acc: 72.17% +- 2.91% - auc: 78.19% +- 3.85%\n",
      "\n",
      "batchsize = 128, epsilon = 0.0100\n",
      "Iteration 0:\t Loss: 4.5790\n",
      "\n",
      "SINKHORN RUN 4/10 - acc: 71.85% +- 5.03% - auc: 77.91% +- 6.66%\n",
      "\n",
      "batchsize = 128, epsilon = 0.0100\n",
      "Iteration 0:\t Loss: 4.6528\n",
      "\n",
      "SINKHORN RUN 5/10 - acc: 70.65% +- 3.07% - auc: 77.34% +- 4.8%\n",
      "\n",
      "batchsize = 128, epsilon = 0.0100\n",
      "Iteration 0:\t Loss: 4.7223\n",
      "\n",
      "SINKHORN RUN 6/10 - acc: 72.87% +- 1.8% - auc: 80.23% +- 3.46%\n",
      "\n",
      "batchsize = 128, epsilon = 0.0100\n",
      "Iteration 0:\t Loss: 4.8059\n",
      "\n",
      "SINKHORN RUN 7/10 - acc: 72.12% +- 2.92% - auc: 77.32% +- 4.97%\n",
      "\n",
      "batchsize = 128, epsilon = 0.0100\n",
      "Iteration 0:\t Loss: 4.7106\n",
      "\n",
      "SINKHORN RUN 8/10 - acc: 72.77% +- 2.36% - auc: 78.35% +- 3.71%\n",
      "\n",
      "batchsize = 128, epsilon = 0.0100\n",
      "Iteration 0:\t Loss: 4.7717\n",
      "\n",
      "SINKHORN RUN 9/10 - acc: 72.4% +- 3.24% - auc: 77.29% +- 3.57%\n",
      "\n",
      "batchsize = 128, epsilon = 0.0100\n",
      "Iteration 0:\t Loss: 4.8499\n",
      "\n",
      "SINKHORN RUN 10/10 - acc: 73.37% +- 4.66% - auc: 79.39% +- 2.92%\n",
      "\n",
      "\n",
      "SINKHORN GLOBAL - acc: 72.35% +- 0.72% - auc: 78.65% +- 1.2%\n"
     ]
    }
   ],
   "source": [
    "sink_accs, sink_aucs = [], []\n",
    "for i in range(n_runs):\n",
    "    random.seed(i)\n",
    "    np.random.seed(i)\n",
    "    torch.manual_seed(i)\n",
    "    imputer = OTimputer(niter=500)\n",
    "    imputed = imputer.fit_transform(data_missing_nans).cpu().detach().numpy()\n",
    "    scores = utils.get_scores(imputed, y)\n",
    "    acc = scores['test_balanced_accuracy']\n",
    "    auc = scores['test_roc_auc_ovo']\n",
    "    print(f'\\nSINKHORN RUN {i + 1}/{n_runs} - acc: {round(acc.mean() * 100, 2)}% +- {round(acc.std() * 100, 2)}% - ' +\n",
    "          f'auc: {round(auc.mean() * 100, 2)}% +- {round(auc.std() * 100, 2)}%\\n')\n",
    "    sink_accs.append(acc.mean())\n",
    "    sink_aucs.append(auc.mean())\n",
    "print(f'\\nSINKHORN GLOBAL - acc: {round(np.array(sink_accs).mean() * 100, 2)}% +- {round(np.array(sink_accs).std() * 100, 2)}% - ' +\n",
    "      f'auc: {round(np.array(sink_aucs).mean() * 100, 2)}% +- {round(np.array(sink_aucs).std() * 100, 2)}%')"
   ]
  },
  {
   "cell_type": "markdown",
   "metadata": {},
   "source": [
    "## Run MIDA"
   ]
  },
  {
   "cell_type": "code",
   "execution_count": 11,
   "metadata": {
    "execution": {
     "iopub.execute_input": "2022-06-03T19:58:23.566924Z",
     "iopub.status.busy": "2022-06-03T19:58:23.565548Z",
     "iopub.status.idle": "2022-06-03T20:01:13.462772Z",
     "shell.execute_reply": "2022-06-03T20:01:13.462276Z"
    }
   },
   "outputs": [
    {
     "name": "stdout",
     "output_type": "stream",
     "text": [
      "Stop training at epoch: 1500/1500, return best output\n",
      "\n",
      "MIDA RUN 1/10 - acc: 71.88% +- 3.08% - auc: 78.37% +- 2.71%\n",
      "\n",
      "Stop training at epoch: 1500/1500, return best output\n",
      "\n",
      "MIDA RUN 2/10 - acc: 72.82% +- 2.49% - auc: 78.77% +- 3.3%\n",
      "\n",
      "Stop training at epoch: 1500/1500, return best output\n",
      "\n",
      "MIDA RUN 3/10 - acc: 72.88% +- 2.52% - auc: 78.23% +- 5.01%\n",
      "\n",
      "Stop training at epoch: 1500/1500, return best output\n",
      "\n",
      "MIDA RUN 4/10 - acc: 72.26% +- 3.2% - auc: 77.48% +- 3.81%\n",
      "\n",
      "Stop training at epoch: 1500/1500, return best output\n",
      "\n",
      "MIDA RUN 5/10 - acc: 72.69% +- 2.12% - auc: 77.36% +- 2.16%\n",
      "\n",
      "Stop training at epoch: 1500/1500, return best output\n",
      "\n",
      "MIDA RUN 6/10 - acc: 69.65% +- 4.8% - auc: 75.71% +- 2.78%\n",
      "\n",
      "Stop training at epoch: 1500/1500, return best output\n",
      "\n",
      "MIDA RUN 7/10 - acc: 72.77% +- 3.56% - auc: 77.39% +- 4.32%\n",
      "\n",
      "Stop training at epoch: 1500/1500, return best output\n",
      "\n",
      "MIDA RUN 8/10 - acc: 71.01% +- 3.58% - auc: 79.81% +- 2.81%\n",
      "\n",
      "Stop training at epoch: 1500/1500, return best output\n",
      "\n",
      "MIDA RUN 9/10 - acc: 71.4% +- 2.17% - auc: 78.15% +- 3.63%\n",
      "\n",
      "Stop training at epoch: 1500/1500, return best output\n",
      "\n",
      "MIDA RUN 10/10 - acc: 69.71% +- 3.45% - auc: 77.81% +- 3.63%\n",
      "\n",
      "\n",
      "MIDA GLOBAL - acc: 71.71% +- 1.18% - auc: 77.91% +- 1.02%\n"
     ]
    }
   ],
   "source": [
    "mida_accs, mida_aucs = [], []\n",
    "for i in range(n_runs):\n",
    "    random.seed(i)\n",
    "    np.random.seed(i)\n",
    "    torch.manual_seed(i)\n",
    "    imputed = mida(data_missing_nans, num_layers=2, num_epochs=1500)\n",
    "    imputed = np.where(missing_mask, data_missing, imputed)\n",
    "    scores = utils.get_scores(imputed, y)\n",
    "    acc = scores['test_balanced_accuracy']\n",
    "    auc = scores['test_roc_auc_ovo']\n",
    "    print(f'\\nMIDA RUN {i + 1}/{n_runs} - acc: {round(acc.mean() * 100, 2)}% +- {round(acc.std() * 100, 2)}% - ' +\n",
    "          f'auc: {round(auc.mean() * 100, 2)}% +- {round(auc.std() * 100, 2)}%\\n')\n",
    "    mida_accs.append(acc.mean())\n",
    "    mida_aucs.append(auc.mean())\n",
    "print(f'\\nMIDA GLOBAL - acc: {round(np.array(mida_accs).mean() * 100, 2)}% +- {round(np.array(mida_accs).std() * 100, 2)}% - ' +\n",
    "      f'auc: {round(np.array(mida_aucs).mean() * 100, 2)}% +- {round(np.array(mida_aucs).std() * 100, 2)}%')"
   ]
  },
  {
   "cell_type": "markdown",
   "metadata": {},
   "source": [
    "## Run T-tests"
   ]
  },
  {
   "cell_type": "code",
   "execution_count": 12,
   "metadata": {
    "ExecuteTime": {
     "end_time": "2022-06-03T08:13:33.583163Z",
     "start_time": "2022-06-03T08:13:33.583140Z"
    },
    "execution": {
     "iopub.execute_input": "2022-06-03T20:01:13.470742Z",
     "iopub.status.busy": "2022-06-03T20:01:13.470259Z",
     "iopub.status.idle": "2022-06-03T20:01:13.476945Z",
     "shell.execute_reply": "2022-06-03T20:01:13.477431Z"
    },
    "scrolled": false
   },
   "outputs": [
    {
     "name": "stdout",
     "output_type": "stream",
     "text": [
      "Metric ACC - OUR METHOD is significantly better than MEDIAN\n",
      "Metric AUC - OUR METHOD is significantly better than MEDIAN\n",
      "Metric ACC - OUR METHOD is even with MEAN\n",
      "Metric AUC - OUR METHOD is even with MEAN\n",
      "Metric ACC - OUR METHOD is significantly better than KNN\n",
      "Metric AUC - OUR METHOD is significantly better than KNN\n",
      "Metric ACC - OUR METHOD is significantly better than GAIN\n",
      "Metric AUC - OUR METHOD is significantly better than GAIN\n",
      "Metric ACC - OUR METHOD is significantly better than MICE\n",
      "Metric AUC - OUR METHOD is significantly better than MICE\n",
      "Metric ACC - OUR METHOD is significantly better than MISS\n",
      "Metric AUC - OUR METHOD is significantly better than MISS\n",
      "Metric ACC - OUR METHOD is significantly better than SOFT\n",
      "Metric AUC - OUR METHOD is significantly better than SOFT\n",
      "Metric ACC - OUR METHOD is significantly better than SINK\n",
      "Metric AUC - OUR METHOD is significantly better than SINK\n",
      "Metric ACC - OUR METHOD is significantly better than MIDA\n",
      "Metric AUC - OUR METHOD is significantly better than MIDA\n"
     ]
    }
   ],
   "source": [
    "for model, metrics in {\n",
    "        'MEDIAN': {'ACC': median_accs, 'AUC': median_aucs},\n",
    "        'MEAN': {'ACC': mean_accs, 'AUC': mean_aucs},\n",
    "        'KNN': {'ACC': knn_accs, 'AUC': knn_aucs},\n",
    "        'GAIN': {'ACC': gain_accs, 'AUC': gain_aucs},\n",
    "        'MICE': {'ACC': mice_accs, 'AUC': mice_aucs},\n",
    "        'MISS': {'ACC': miss_accs, 'AUC': miss_aucs},\n",
    "        'SOFT': {'ACC': soft_accs, 'AUC': soft_aucs},\n",
    "        'SINK': {'ACC': sink_accs, 'AUC': sink_aucs},\n",
    "        'MIDA': {'ACC': mida_accs, 'AUC': mida_aucs}}.items():\n",
    "    for metric_name, metric in metrics.items():\n",
    "        ours_metric = ours_accs if metric_name == 'ACC' else ours_aucs\n",
    "        t, p = scipy.stats.ttest_ind(np.array(ours_metric), np.array(metric))\n",
    "        if p <= .05:\n",
    "            if t > 0:\n",
    "                ## Our method is better\n",
    "                print(f'Metric {metric_name} - OUR METHOD is significantly better than {model}')\n",
    "            else:\n",
    "                ## Theirs is better\n",
    "                print(f'Metric {metric_name} - OUR METHOD is significantly worse than {model}')\n",
    "        else:\n",
    "            ## Else we are even\n",
    "            print(f'Metric {metric_name} - OUR METHOD is even with {model}')"
   ]
  }
 ],
 "metadata": {
  "kernelspec": {
   "display_name": "Python 3 (ipykernel)",
   "language": "python",
   "name": "python3"
  },
  "language_info": {
   "codemirror_mode": {
    "name": "ipython",
    "version": 3
   },
   "file_extension": ".py",
   "mimetype": "text/x-python",
   "name": "python",
   "nbconvert_exporter": "python",
   "pygments_lexer": "ipython3",
   "version": "3.9.7"
  },
  "latex_envs": {
   "LaTeX_envs_menu_present": true,
   "autoclose": false,
   "autocomplete": true,
   "bibliofile": "biblio.bib",
   "cite_by": "apalike",
   "current_citInitial": 1,
   "eqLabelWithNumbers": true,
   "eqNumInitial": 1,
   "hotkeys": {
    "equation": "Ctrl-E",
    "itemize": "Ctrl-I"
   },
   "labels_anchors": false,
   "latex_user_defs": false,
   "report_style_numbering": false,
   "user_envs_cfg": false
  }
 },
 "nbformat": 4,
 "nbformat_minor": 2
}
