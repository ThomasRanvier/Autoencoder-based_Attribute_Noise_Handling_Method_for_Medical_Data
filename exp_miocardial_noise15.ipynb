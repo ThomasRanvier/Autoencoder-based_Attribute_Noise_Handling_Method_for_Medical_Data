{
 "cells": [
  {
   "cell_type": "code",
   "execution_count": 1,
   "metadata": {
    "ExecuteTime": {
     "end_time": "2022-06-03T07:56:37.128214Z",
     "start_time": "2022-06-03T07:56:33.810392Z"
    },
    "execution": {
     "iopub.execute_input": "2022-06-03T15:29:46.934862Z",
     "iopub.status.busy": "2022-06-03T15:29:46.925405Z",
     "iopub.status.idle": "2022-06-03T15:29:50.352247Z",
     "shell.execute_reply": "2022-06-03T15:29:50.351639Z"
    }
   },
   "outputs": [],
   "source": [
    "from __future__ import print_function\n",
    "import warnings\n",
    "warnings.filterwarnings(\"ignore\", category=UserWarning)\n",
    "warnings.filterwarnings(\"ignore\", category=FutureWarning)\n",
    "## Disable tf future deprecated messages\n",
    "import logging\n",
    "logging.getLogger('tensorflow').disabled = True\n",
    "## Disable tf CUDA messages\n",
    "import os\n",
    "os.environ['TF_CPP_MIN_LOG_LEVEL'] = '3'\n",
    "\n",
    "%matplotlib inline\n",
    "\n",
    "import sys\n",
    "import random\n",
    "import numpy as np\n",
    "import pandas as pd\n",
    "\n",
    "import utils\n",
    "import correction\n",
    "from models.dense import *\n",
    "from models.gain import gain\n",
    "from models.soft_impute import SoftImpute\n",
    "from models.sinkhorn import OTimputer\n",
    "from models.mida import mida\n",
    "\n",
    "import scipy.stats\n",
    "\n",
    "from sklearn.experimental import enable_iterative_imputer\n",
    "from sklearn.impute import IterativeImputer\n",
    "from sklearn.impute import KNNImputer, SimpleImputer\n",
    "\n",
    "import sklearn.neighbors._base\n",
    "sys.modules['sklearn.neighbors.base'] = sklearn.neighbors._base\n",
    "from missingpy import MissForest\n",
    "\n",
    "torch.backends.cudnn.enabled = True\n",
    "torch.backends.cudnn.benchmark = True\n",
    "dtype = torch.cuda.FloatTensor"
   ]
  },
  {
   "cell_type": "markdown",
   "metadata": {},
   "source": [
    "## Repeat all experiments for 10 runs"
   ]
  },
  {
   "cell_type": "code",
   "execution_count": 2,
   "metadata": {
    "ExecuteTime": {
     "end_time": "2022-06-03T07:56:37.132965Z",
     "start_time": "2022-06-03T07:56:37.130326Z"
    },
    "execution": {
     "iopub.execute_input": "2022-06-03T15:29:50.357152Z",
     "iopub.status.busy": "2022-06-03T15:29:50.356730Z",
     "iopub.status.idle": "2022-06-03T15:29:50.359437Z",
     "shell.execute_reply": "2022-06-03T15:29:50.359914Z"
    }
   },
   "outputs": [],
   "source": [
    "n_runs = 10"
   ]
  },
  {
   "cell_type": "markdown",
   "metadata": {},
   "source": [
    "## Load data"
   ]
  },
  {
   "cell_type": "code",
   "execution_count": 3,
   "metadata": {
    "ExecuteTime": {
     "end_time": "2022-06-03T07:56:37.290562Z",
     "start_time": "2022-06-03T07:56:37.134360Z"
    },
    "execution": {
     "iopub.execute_input": "2022-06-03T15:29:50.367182Z",
     "iopub.status.busy": "2022-06-03T15:29:50.362935Z",
     "iopub.status.idle": "2022-06-03T15:29:50.549990Z",
     "shell.execute_reply": "2022-06-03T15:29:50.551068Z"
    }
   },
   "outputs": [
    {
     "name": "stdout",
     "output_type": "stream",
     "text": [
      "Dataset shape: (1700, 110)\n",
      "5.62% missing data\n",
      "Class distribution: (array([0, 1]), array([1429,  271]))\n"
     ]
    }
   ],
   "source": [
    "data_missing, missing_mask, y = utils.load_miocardial()\n",
    "## Inject noise\n",
    "data_missing = utils.inject_noise(data_missing.copy(), noise_rate=.15)\n",
    "## Replace missing values locations by 0\n",
    "data_missing = data_missing * missing_mask"
   ]
  },
  {
   "cell_type": "markdown",
   "metadata": {},
   "source": [
    "## Run OUR METHOD"
   ]
  },
  {
   "cell_type": "code",
   "execution_count": 4,
   "metadata": {
    "ExecuteTime": {
     "end_time": "2022-06-03T07:58:28.409535Z",
     "start_time": "2022-06-03T07:56:37.292368Z"
    },
    "execution": {
     "iopub.execute_input": "2022-06-03T15:29:50.563819Z",
     "iopub.status.busy": "2022-06-03T15:29:50.563038Z",
     "iopub.status.idle": "2022-06-03T15:40:09.533521Z",
     "shell.execute_reply": "2022-06-03T15:40:09.531820Z"
    },
    "scrolled": false
   },
   "outputs": [
    {
     "name": "stdout",
     "output_type": "stream",
     "text": [
      "Ite 00000 - 6.28 sec - Loss 0.213609 - ACC 72.60% - ACC Mean 72.60% - AUC 77.26% - AUC Mean 77.26% - Deter 000\n",
      "Ite 00050 - 0.92 sec - Loss 0.100613 - ACC 71.23% - ACC Mean 73.05% - AUC 77.58% - AUC Mean 77.83% - Deter 045\n",
      "Ite 00055 - 0.96 sec - Loss 0.096516 - ACC 73.02% - ACC Mean 73.07% - AUC 77.54% - AUC Mean 77.78% - Deter 050\n",
      "Early stop ite 55, rollback to correction of ite 5, whith acc of 73.08% and auc of 80.09%\n",
      "OUR METHOD RUN 1/10 - acc: 73.08% +- 0.0% - auc: 80.09% +- 0.0%\n",
      "Ite 00000 - 0.88 sec - Loss 0.223108 - ACC 73.62% - ACC Mean 73.62% - AUC 78.52% - AUC Mean 78.52% - Deter 000\n",
      "Ite 00050 - 1.05 sec - Loss 0.114689 - ACC 73.42% - ACC Mean 73.48% - AUC 77.62% - AUC Mean 78.45% - Deter 014\n",
      "Ite 00086 - 1.07 sec - Loss 0.091285 - ACC 72.32% - ACC Mean 73.43% - AUC 77.00% - AUC Mean 77.13% - Deter 050\n",
      "Early stop ite 86, rollback to correction of ite 36, whith acc of 74.02% and auc of 81.02%\n",
      "OUR METHOD RUN 2/10 - acc: 74.02% +- 0.0% - auc: 81.02% +- 0.0%\n",
      "Ite 00000 - 0.82 sec - Loss 0.202416 - ACC 74.18% - ACC Mean 74.18% - AUC 79.62% - AUC Mean 79.62% - Deter 000\n",
      "Ite 00050 - 0.94 sec - Loss 0.097266 - ACC 71.55% - ACC Mean 73.36% - AUC 77.90% - AUC Mean 78.15% - Deter 027\n",
      "Ite 00073 - 1.12 sec - Loss 0.080831 - ACC 70.66% - ACC Mean 72.39% - AUC 77.40% - AUC Mean 77.78% - Deter 050\n",
      "Early stop ite 73, rollback to correction of ite 23, whith acc of 74.44% and auc of 80.05%\n",
      "OUR METHOD RUN 3/10 - acc: 74.44% +- 0.0% - auc: 80.05% +- 0.0%\n",
      "Ite 00000 - 0.86 sec - Loss 0.168385 - ACC 72.14% - ACC Mean 72.14% - AUC 77.32% - AUC Mean 77.32% - Deter 000\n",
      "Ite 00050 - 0.88 sec - Loss 0.081304 - ACC 71.95% - ACC Mean 71.40% - AUC 77.42% - AUC Mean 76.83% - Deter 046\n",
      "Ite 00054 - 0.94 sec - Loss 0.078664 - ACC 70.56% - ACC Mean 71.23% - AUC 76.98% - AUC Mean 76.80% - Deter 050\n",
      "Early stop ite 54, rollback to correction of ite 4, whith acc of 74.8% and auc of 78.73%\n",
      "OUR METHOD RUN 4/10 - acc: 74.8% +- 0.0% - auc: 78.73% +- 0.0%\n",
      "Ite 00000 - 0.86 sec - Loss 0.227240 - ACC 72.65% - ACC Mean 72.65% - AUC 78.16% - AUC Mean 78.16% - Deter 000\n",
      "Ite 00050 - 1.08 sec - Loss 0.116025 - ACC 72.61% - ACC Mean 73.37% - AUC 76.43% - AUC Mean 78.97% - Deter 038\n",
      "Ite 00062 - 0.90 sec - Loss 0.104181 - ACC 72.54% - ACC Mean 73.28% - AUC 77.84% - AUC Mean 78.36% - Deter 050\n",
      "Early stop ite 62, rollback to correction of ite 12, whith acc of 72.4% and auc of 80.1%\n",
      "OUR METHOD RUN 5/10 - acc: 72.4% +- 0.0% - auc: 80.1% +- 0.0%\n",
      "Ite 00000 - 0.77 sec - Loss 0.204417 - ACC 72.73% - ACC Mean 72.73% - AUC 76.94% - AUC Mean 76.94% - Deter 000\n",
      "Ite 00050 - 0.97 sec - Loss 0.119074 - ACC 72.00% - ACC Mean 72.82% - AUC 76.42% - AUC Mean 77.98% - Deter 046\n",
      "Ite 00054 - 1.01 sec - Loss 0.116123 - ACC 73.00% - ACC Mean 72.75% - AUC 77.14% - AUC Mean 77.81% - Deter 050\n",
      "Early stop ite 54, rollback to correction of ite 4, whith acc of 73.38% and auc of 81.44%\n",
      "OUR METHOD RUN 6/10 - acc: 73.38% +- 0.0% - auc: 81.44% +- 0.0%\n",
      "Ite 00000 - 0.94 sec - Loss 0.223511 - ACC 73.22% - ACC Mean 73.22% - AUC 78.05% - AUC Mean 78.05% - Deter 000\n",
      "Ite 00050 - 0.89 sec - Loss 0.119209 - ACC 73.83% - ACC Mean 73.44% - AUC 77.49% - AUC Mean 78.23% - Deter 047\n",
      "Ite 00053 - 1.07 sec - Loss 0.116812 - ACC 72.98% - ACC Mean 73.43% - AUC 76.92% - AUC Mean 78.10% - Deter 050\n",
      "Early stop ite 53, rollback to correction of ite 3, whith acc of 74.51% and auc of 80.27%\n",
      "OUR METHOD RUN 7/10 - acc: 74.51% +- 0.0% - auc: 80.27% +- 0.0%\n",
      "Ite 00000 - 0.85 sec - Loss 0.225556 - ACC 72.19% - ACC Mean 72.19% - AUC 77.34% - AUC Mean 77.34% - Deter 000\n",
      "Ite 00050 - 0.95 sec - Loss 0.115467 - ACC 74.53% - ACC Mean 73.58% - AUC 77.43% - AUC Mean 78.14% - Deter 046\n",
      "Ite 00054 - 0.94 sec - Loss 0.111796 - ACC 74.86% - ACC Mean 73.65% - AUC 78.43% - AUC Mean 78.07% - Deter 050\n",
      "Early stop ite 54, rollback to correction of ite 4, whith acc of 73.53% and auc of 80.5%\n",
      "OUR METHOD RUN 8/10 - acc: 73.53% +- 0.0% - auc: 80.5% +- 0.0%\n",
      "Ite 00000 - 0.82 sec - Loss 0.180069 - ACC 73.95% - ACC Mean 73.95% - AUC 76.85% - AUC Mean 76.85% - Deter 000\n",
      "Ite 00050 - 0.87 sec - Loss 0.090174 - ACC 72.61% - ACC Mean 72.71% - AUC 76.58% - AUC Mean 76.60% - Deter 036\n",
      "Ite 00064 - 0.98 sec - Loss 0.080265 - ACC 72.04% - ACC Mean 72.43% - AUC 77.55% - AUC Mean 76.52% - Deter 050\n",
      "Early stop ite 64, rollback to correction of ite 14, whith acc of 72.64% and auc of 78.66%\n",
      "OUR METHOD RUN 9/10 - acc: 72.64% +- 0.0% - auc: 78.66% +- 0.0%\n",
      "Ite 00000 - 0.87 sec - Loss 0.204467 - ACC 72.94% - ACC Mean 72.94% - AUC 78.01% - AUC Mean 78.01% - Deter 000\n",
      "Ite 00050 - 0.95 sec - Loss 0.104376 - ACC 71.74% - ACC Mean 72.79% - AUC 76.11% - AUC Mean 77.09% - Deter 046\n",
      "Ite 00054 - 1.05 sec - Loss 0.101520 - ACC 71.97% - ACC Mean 72.69% - AUC 74.83% - AUC Mean 76.86% - Deter 050\n",
      "Early stop ite 54, rollback to correction of ite 4, whith acc of 73.99% and auc of 79.33%\n",
      "OUR METHOD RUN 10/10 - acc: 73.99% +- 0.0% - auc: 79.33% +- 0.0%\n",
      "\n",
      "OUR METHOD GLOBAL - acc: 73.68% +- 0.77% - auc: 80.02% +- 0.85%\n"
     ]
    }
   ],
   "source": [
    "params = {\n",
    "    'nb_batches': 10,\n",
    "    'reg_noise_std': .03,\n",
    "    'net_input': 'data_corrupted',\n",
    "    'net_params': {\n",
    "        'input_channels':1,\n",
    "        'output_channels':1,\n",
    "        'channels_skip':4,\n",
    "        'down_layers':[(24, 7, 2),\n",
    "                       (46, 9, 1),\n",
    "                       (96, 9, 5),\n",
    "                       (96, 11, 1)],\n",
    "        'need_sigmoid':True,\n",
    "        'need_bias':True,\n",
    "        'pad':'zero',\n",
    "        'downsample_mode':'stride',\n",
    "        'upsample_mode':'nearest',\n",
    "        'act_fun':'LeakyReLU',\n",
    "        'need1x1_up':True\n",
    "    },# or a list containing layers sizes\n",
    "    'adam_lr': .0001,\n",
    "    'adam_weight_decay': 0.,\n",
    "}\n",
    "\n",
    "ours_accs, ours_aucs = [], []\n",
    "for i in range(n_runs):\n",
    "    ours_correction = correction.run(data_missing, 501, params, y=y, missing_mask=missing_mask, seed=i)\n",
    "    ## Since our method returns 2 imputations select the best one\n",
    "    scores_raw = utils.get_scores(ours_correction['raw_out'], y)\n",
    "    acc = scores_raw['test_balanced_accuracy']\n",
    "    auc = scores_raw['test_roc_auc_ovo']\n",
    "    acc = acc.mean()\n",
    "    acc_std = acc.std()\n",
    "    auc = auc.mean()\n",
    "    auc_std = auc.std()\n",
    "    if 'masked_out' in ours_correction:\n",
    "        scores_masked = utils.get_scores(ours_correction['masked_out'], y)\n",
    "        acc_masked = scores_masked['test_balanced_accuracy']\n",
    "        auc_masked = scores_masked['test_roc_auc_ovo']\n",
    "        if auc_masked.mean() > auc:\n",
    "            acc = acc_masked.mean()\n",
    "            acc_std = acc_masked.std()\n",
    "            auc = auc_masked.mean()\n",
    "            auc_std = auc_masked.std()\n",
    "    print(f'OUR METHOD RUN {i + 1}/{n_runs} - acc: {round(acc.mean() * 100, 2)}% +- {round(acc.std() * 100, 2)}% - ' +\n",
    "          f'auc: {round(auc.mean() * 100, 2)}% +- {round(auc.std() * 100, 2)}%')\n",
    "    ours_accs.append(acc.mean())\n",
    "    ours_aucs.append(auc.mean())\n",
    "print(f'\\nOUR METHOD GLOBAL - acc: {round(np.array(ours_accs).mean() * 100, 2)}% +- {round(np.array(ours_accs).std() * 100, 2)}% - ' +\n",
    "      f'auc: {round(np.array(ours_aucs).mean() * 100, 2)}% +- {round(np.array(ours_aucs).std() * 100, 2)}%')"
   ]
  },
  {
   "cell_type": "markdown",
   "metadata": {},
   "source": [
    "## Run Median, Mean and KNN"
   ]
  },
  {
   "cell_type": "code",
   "execution_count": 5,
   "metadata": {
    "ExecuteTime": {
     "end_time": "2022-06-03T07:58:31.715672Z",
     "start_time": "2022-06-03T07:58:28.411834Z"
    },
    "execution": {
     "iopub.execute_input": "2022-06-03T15:40:09.542582Z",
     "iopub.status.busy": "2022-06-03T15:40:09.541850Z",
     "iopub.status.idle": "2022-06-03T15:40:11.393442Z",
     "shell.execute_reply": "2022-06-03T15:40:11.391138Z"
    }
   },
   "outputs": [
    {
     "name": "stdout",
     "output_type": "stream",
     "text": [
      "MEDIAN - acc: 62.6% +- 0.0% - auc: 70.09% +- 0.0%\n",
      "MEAN - acc: 74.61% +- 0.0% - auc: 79.0% +- 0.0%\n",
      "KNN - acc: 67.29% +- 0.0% - auc: 75.38% +- 0.0%\n"
     ]
    }
   ],
   "source": [
    "data_missing_nans = np.where(missing_mask, data_missing, np.nan)\n",
    "\n",
    "median_imputer = SimpleImputer(missing_values=np.nan, strategy='median')\n",
    "mean_imputer = SimpleImputer(missing_values=np.nan, strategy='mean')\n",
    "knn_imputer = KNNImputer(n_neighbors=10, weights='uniform')\n",
    "\n",
    "median_completed = median_imputer.fit_transform(data_missing_nans)\n",
    "mean_completed = mean_imputer.fit_transform(data_missing_nans)\n",
    "knn_completed = knn_imputer.fit_transform(data_missing_nans)\n",
    "\n",
    "## All runs would be the same since deterministic methods\n",
    "scores = utils.get_scores(median_completed, y)\n",
    "acc = [scores['test_balanced_accuracy'].mean()] * n_runs\n",
    "auc = [scores['test_roc_auc_ovo'].mean()] * n_runs\n",
    "print(f'MEDIAN - acc: {round(np.mean(acc) * 100, 2)}% +- {round(np.std(acc) * 100, 2)}% - ' +\n",
    "      f'auc: {round(np.mean(auc) * 100, 2)}% +- {round(np.std(auc) * 100, 2)}%')\n",
    "median_accs = acc\n",
    "median_aucs = auc\n",
    "\n",
    "scores = utils.get_scores(mean_completed, y)\n",
    "acc = [scores['test_balanced_accuracy'].mean()] * n_runs\n",
    "auc = [scores['test_roc_auc_ovo'].mean()] * n_runs\n",
    "print(f'MEAN - acc: {round(np.mean(acc) * 100, 2)}% +- {round(np.std(acc) * 100, 2)}% - ' +\n",
    "      f'auc: {round(np.mean(auc) * 100, 2)}% +- {round(np.std(auc) * 100, 2)}%')\n",
    "mean_accs = acc\n",
    "mean_aucs = auc\n",
    "\n",
    "scores = utils.get_scores(knn_completed, y)\n",
    "acc = [scores['test_balanced_accuracy'].mean()] * n_runs\n",
    "auc = [scores['test_roc_auc_ovo'].mean()] * n_runs\n",
    "print(f'KNN - acc: {round(np.mean(acc) * 100, 2)}% +- {round(np.std(acc) * 100, 2)}% - ' +\n",
    "      f'auc: {round(np.mean(auc) * 100, 2)}% +- {round(np.std(auc) * 100, 2)}%')\n",
    "knn_accs = acc\n",
    "knn_aucs = auc"
   ]
  },
  {
   "cell_type": "markdown",
   "metadata": {},
   "source": [
    "## Run GAIN"
   ]
  },
  {
   "cell_type": "code",
   "execution_count": 6,
   "metadata": {
    "ExecuteTime": {
     "end_time": "2022-06-03T07:59:07.140809Z",
     "start_time": "2022-06-03T07:58:31.718964Z"
    },
    "execution": {
     "iopub.execute_input": "2022-06-03T15:40:11.401036Z",
     "iopub.status.busy": "2022-06-03T15:40:11.400284Z",
     "iopub.status.idle": "2022-06-03T15:49:24.810786Z",
     "shell.execute_reply": "2022-06-03T15:49:24.811241Z"
    },
    "scrolled": false
   },
   "outputs": [
    {
     "name": "stderr",
     "output_type": "stream",
     "text": [
      "100%|██████████| 5000/5000 [00:49<00:00, 100.28it/s]\n"
     ]
    },
    {
     "name": "stdout",
     "output_type": "stream",
     "text": [
      "\n",
      "GAIN RUN 1/10 - acc: 72.12% +- 2.06% - auc: 78.48% +- 2.18%\n",
      "\n"
     ]
    },
    {
     "name": "stderr",
     "output_type": "stream",
     "text": [
      "100%|██████████| 5000/5000 [00:48<00:00, 102.79it/s]\n"
     ]
    },
    {
     "name": "stdout",
     "output_type": "stream",
     "text": [
      "\n",
      "GAIN RUN 2/10 - acc: 71.69% +- 3.13% - auc: 78.92% +- 3.34%\n",
      "\n"
     ]
    },
    {
     "name": "stderr",
     "output_type": "stream",
     "text": [
      "100%|██████████| 5000/5000 [00:49<00:00, 101.59it/s]\n"
     ]
    },
    {
     "name": "stdout",
     "output_type": "stream",
     "text": [
      "\n",
      "GAIN RUN 3/10 - acc: 71.04% +- 2.55% - auc: 77.84% +- 2.96%\n",
      "\n"
     ]
    },
    {
     "name": "stderr",
     "output_type": "stream",
     "text": [
      "100%|██████████| 5000/5000 [00:48<00:00, 102.44it/s]\n"
     ]
    },
    {
     "name": "stdout",
     "output_type": "stream",
     "text": [
      "\n",
      "GAIN RUN 4/10 - acc: 70.32% +- 3.28% - auc: 78.32% +- 2.14%\n",
      "\n"
     ]
    },
    {
     "name": "stderr",
     "output_type": "stream",
     "text": [
      "100%|██████████| 5000/5000 [00:51<00:00, 97.26it/s]\n"
     ]
    },
    {
     "name": "stdout",
     "output_type": "stream",
     "text": [
      "\n",
      "GAIN RUN 5/10 - acc: 71.62% +- 2.65% - auc: 74.97% +- 3.26%\n",
      "\n"
     ]
    },
    {
     "name": "stderr",
     "output_type": "stream",
     "text": [
      "100%|██████████| 5000/5000 [00:51<00:00, 97.30it/s] \n"
     ]
    },
    {
     "name": "stdout",
     "output_type": "stream",
     "text": [
      "\n",
      "GAIN RUN 6/10 - acc: 71.65% +- 2.63% - auc: 77.58% +- 1.7%\n",
      "\n"
     ]
    },
    {
     "name": "stderr",
     "output_type": "stream",
     "text": [
      "100%|██████████| 5000/5000 [00:52<00:00, 94.54it/s]\n"
     ]
    },
    {
     "name": "stdout",
     "output_type": "stream",
     "text": [
      "\n",
      "GAIN RUN 7/10 - acc: 70.26% +- 2.08% - auc: 78.74% +- 2.75%\n",
      "\n"
     ]
    },
    {
     "name": "stderr",
     "output_type": "stream",
     "text": [
      "100%|██████████| 5000/5000 [00:57<00:00, 86.32it/s]\n"
     ]
    },
    {
     "name": "stdout",
     "output_type": "stream",
     "text": [
      "\n",
      "GAIN RUN 8/10 - acc: 70.46% +- 2.62% - auc: 75.29% +- 3.19%\n",
      "\n"
     ]
    },
    {
     "name": "stderr",
     "output_type": "stream",
     "text": [
      "100%|██████████| 5000/5000 [01:00<00:00, 82.43it/s]\n"
     ]
    },
    {
     "name": "stdout",
     "output_type": "stream",
     "text": [
      "\n",
      "GAIN RUN 9/10 - acc: 70.49% +- 3.63% - auc: 77.0% +- 2.47%\n",
      "\n"
     ]
    },
    {
     "name": "stderr",
     "output_type": "stream",
     "text": [
      "100%|██████████| 5000/5000 [01:05<00:00, 76.31it/s]\n"
     ]
    },
    {
     "name": "stdout",
     "output_type": "stream",
     "text": [
      "\n",
      "GAIN RUN 10/10 - acc: 70.14% +- 3.71% - auc: 75.7% +- 4.45%\n",
      "\n",
      "GAIN GLOBAL - acc: 70.98% +- 0.7% - auc: 77.28% +- 1.4%\n"
     ]
    }
   ],
   "source": [
    "gain_parameters = {'batch_size': 128,\n",
    "                   'hint_rate': .9,\n",
    "                   'alpha': 100,\n",
    "                   'iterations': 5000}\n",
    "\n",
    "gain_accs, gain_aucs = [], []\n",
    "for i in range(n_runs):\n",
    "    random.seed(i)\n",
    "    np.random.seed(i)\n",
    "    torch.manual_seed(i)\n",
    "    imputed = gain(data_missing_nans, gain_parameters)\n",
    "    scores = utils.get_scores(imputed, y)\n",
    "    acc = scores['test_balanced_accuracy']\n",
    "    auc = scores['test_roc_auc_ovo']\n",
    "    print(f'\\nGAIN RUN {i + 1}/{n_runs} - acc: {round(acc.mean() * 100, 2)}% +- {round(acc.std() * 100, 2)}% - ' +\n",
    "          f'auc: {round(auc.mean() * 100, 2)}% +- {round(auc.std() * 100, 2)}%\\n')\n",
    "    gain_accs.append(acc.mean())\n",
    "    gain_aucs.append(auc.mean())\n",
    "print(f'GAIN GLOBAL - acc: {round(np.array(gain_accs).mean() * 100, 2)}% +- {round(np.array(gain_accs).std() * 100, 2)}% - ' +\n",
    "      f'auc: {round(np.array(gain_aucs).mean() * 100, 2)}% +- {round(np.array(gain_aucs).std() * 100, 2)}%')"
   ]
  },
  {
   "cell_type": "markdown",
   "metadata": {},
   "source": [
    "## Run MICE"
   ]
  },
  {
   "cell_type": "code",
   "execution_count": 7,
   "metadata": {
    "ExecuteTime": {
     "end_time": "2022-06-03T08:13:33.572553Z",
     "start_time": "2022-06-03T07:59:07.142164Z"
    },
    "execution": {
     "iopub.execute_input": "2022-06-03T15:49:24.815078Z",
     "iopub.status.busy": "2022-06-03T15:49:24.814646Z",
     "iopub.status.idle": "2022-06-03T16:15:43.560812Z",
     "shell.execute_reply": "2022-06-03T16:15:43.561862Z"
    }
   },
   "outputs": [
    {
     "name": "stdout",
     "output_type": "stream",
     "text": [
      "MICE - acc: 73.4% +- 0.0% - auc: 79.58% +- 0.0%\n"
     ]
    }
   ],
   "source": [
    "imputer = IterativeImputer()\n",
    "imputed = imputer.fit_transform(data_missing_nans)\n",
    "## All runs would be the same since deterministic method\n",
    "scores = utils.get_scores(imputed, y)\n",
    "acc = [scores['test_balanced_accuracy'].mean()] * n_runs\n",
    "auc = [scores['test_roc_auc_ovo'].mean()] * n_runs\n",
    "print(f'MICE - acc: {round(np.mean(acc) * 100, 2)}% +- {round(np.std(acc) * 100, 2)}% - ' +\n",
    "      f'auc: {round(np.mean(auc) * 100, 2)}% +- {round(np.std(auc) * 100, 2)}%')\n",
    "mice_accs = acc\n",
    "mice_aucs = auc"
   ]
  },
  {
   "cell_type": "markdown",
   "metadata": {},
   "source": [
    "## Run MISSFOREST"
   ]
  },
  {
   "cell_type": "code",
   "execution_count": 8,
   "metadata": {
    "ExecuteTime": {
     "end_time": "2022-06-03T08:13:33.579829Z",
     "start_time": "2022-06-03T08:13:33.579804Z"
    },
    "execution": {
     "iopub.execute_input": "2022-06-03T16:15:43.619060Z",
     "iopub.status.busy": "2022-06-03T16:15:43.573569Z",
     "iopub.status.idle": "2022-06-03T19:48:41.330662Z",
     "shell.execute_reply": "2022-06-03T19:48:41.329530Z"
    },
    "scrolled": false
   },
   "outputs": [
    {
     "name": "stdout",
     "output_type": "stream",
     "text": [
      "Iteration: 0\n",
      "Iteration: 1\n",
      "Iteration: 2\n",
      "Iteration: 3\n",
      "Iteration: 4\n",
      "Iteration: 5\n",
      "Iteration: 6\n",
      "\n",
      "MISSFOREST RUN 1/10 - acc: 72.44% +- 2.12% - auc: 76.97% +- 1.39%\n",
      "\n",
      "Iteration: 0\n",
      "Iteration: 1\n",
      "Iteration: 2\n",
      "Iteration: 3\n",
      "Iteration: 4\n",
      "\n",
      "MISSFOREST RUN 2/10 - acc: 71.36% +- 1.27% - auc: 77.08% +- 2.01%\n",
      "\n",
      "Iteration: 0\n",
      "Iteration: 1\n",
      "Iteration: 2\n",
      "Iteration: 3\n",
      "Iteration: 4\n",
      "Iteration: 5\n",
      "\n",
      "MISSFOREST RUN 3/10 - acc: 72.07% +- 1.15% - auc: 76.34% +- 3.01%\n",
      "\n",
      "Iteration: 0\n",
      "Iteration: 1\n",
      "Iteration: 2\n",
      "Iteration: 3\n",
      "Iteration: 4\n",
      "Iteration: 5\n",
      "Iteration: 6\n",
      "\n",
      "MISSFOREST RUN 4/10 - acc: 72.9% +- 2.35% - auc: 77.84% +- 3.07%\n",
      "\n",
      "Iteration: 0\n",
      "Iteration: 1\n",
      "Iteration: 2\n",
      "Iteration: 3\n",
      "Iteration: 4\n",
      "\n",
      "MISSFOREST RUN 5/10 - acc: 72.83% +- 1.88% - auc: 77.57% +- 2.32%\n",
      "\n",
      "Iteration: 0\n",
      "Iteration: 1\n",
      "Iteration: 2\n",
      "Iteration: 3\n",
      "\n",
      "MISSFOREST RUN 6/10 - acc: 72.79% +- 2.24% - auc: 76.13% +- 2.96%\n",
      "\n",
      "Iteration: 0\n",
      "Iteration: 1\n",
      "Iteration: 2\n",
      "Iteration: 3\n",
      "Iteration: 4\n",
      "Iteration: 5\n",
      "Iteration: 6\n",
      "\n",
      "MISSFOREST RUN 7/10 - acc: 71.94% +- 2.78% - auc: 78.21% +- 2.65%\n",
      "\n",
      "Iteration: 0\n",
      "Iteration: 1\n",
      "Iteration: 2\n",
      "Iteration: 3\n",
      "\n",
      "MISSFOREST RUN 8/10 - acc: 72.06% +- 2.88% - auc: 77.34% +- 1.84%\n",
      "\n",
      "Iteration: 0\n",
      "Iteration: 1\n",
      "Iteration: 2\n",
      "Iteration: 3\n",
      "Iteration: 4\n",
      "Iteration: 5\n",
      "Iteration: 6\n",
      "\n",
      "MISSFOREST RUN 9/10 - acc: 72.48% +- 2.19% - auc: 77.75% +- 2.3%\n",
      "\n",
      "Iteration: 0\n",
      "Iteration: 1\n",
      "Iteration: 2\n",
      "Iteration: 3\n",
      "Iteration: 4\n",
      "Iteration: 5\n",
      "Iteration: 6\n",
      "Iteration: 7\n",
      "\n",
      "MISSFOREST RUN 10/10 - acc: 72.09% +- 2.32% - auc: 78.53% +- 1.28%\n",
      "\n",
      "\n",
      "MISSFOREST GLOBAL - acc: 72.3% +- 0.46% - auc: 77.38% +- 0.73%\n"
     ]
    }
   ],
   "source": [
    "miss_accs, miss_aucs = [], []\n",
    "for i in range(n_runs):\n",
    "    random.seed(i)\n",
    "    np.random.seed(i)\n",
    "    torch.manual_seed(i)\n",
    "    imputer = MissForest(n_jobs=-1, random_state=i)\n",
    "    imputed = imputer.fit_transform(data_missing_nans)\n",
    "    scores = utils.get_scores(imputed, y)\n",
    "    acc = scores['test_balanced_accuracy']\n",
    "    auc = scores['test_roc_auc_ovo']\n",
    "    print(f'\\nMISSFOREST RUN {i + 1}/{n_runs} - acc: {round(acc.mean() * 100, 2)}% +- {round(acc.std() * 100, 2)}% - ' +\n",
    "          f'auc: {round(auc.mean() * 100, 2)}% +- {round(auc.std() * 100, 2)}%\\n')\n",
    "    miss_accs.append(acc.mean())\n",
    "    miss_aucs.append(auc.mean())\n",
    "print(f'\\nMISSFOREST GLOBAL - acc: {round(np.array(miss_accs).mean() * 100, 2)}% +- {round(np.array(miss_accs).std() * 100, 2)}% - ' +\n",
    "      f'auc: {round(np.array(miss_aucs).mean() * 100, 2)}% +- {round(np.array(miss_aucs).std() * 100, 2)}%')"
   ]
  },
  {
   "cell_type": "markdown",
   "metadata": {},
   "source": [
    "## Run SOFTIMPUTE"
   ]
  },
  {
   "cell_type": "code",
   "execution_count": 9,
   "metadata": {
    "ExecuteTime": {
     "end_time": "2022-06-03T08:13:33.581198Z",
     "start_time": "2022-06-03T08:13:33.581175Z"
    },
    "execution": {
     "iopub.execute_input": "2022-06-03T19:48:41.339801Z",
     "iopub.status.busy": "2022-06-03T19:48:41.338752Z",
     "iopub.status.idle": "2022-06-03T19:48:44.118755Z",
     "shell.execute_reply": "2022-06-03T19:48:44.118187Z"
    }
   },
   "outputs": [
    {
     "name": "stdout",
     "output_type": "stream",
     "text": [
      "SOFTIMPUTE RUN 1/10 - acc: 73.38% +- 4.67% - auc: 79.42% +- 2.13%\n",
      "SOFTIMPUTE RUN 2/10 - acc: 72.61% +- 3.08% - auc: 75.75% +- 2.53%\n",
      "SOFTIMPUTE RUN 3/10 - acc: 71.83% +- 3.74% - auc: 77.08% +- 2.81%\n",
      "SOFTIMPUTE RUN 4/10 - acc: 73.22% +- 2.07% - auc: 78.3% +- 2.18%\n",
      "SOFTIMPUTE RUN 5/10 - acc: 70.95% +- 3.25% - auc: 77.56% +- 2.73%\n",
      "SOFTIMPUTE RUN 6/10 - acc: 73.11% +- 2.11% - auc: 77.38% +- 2.68%\n",
      "SOFTIMPUTE RUN 7/10 - acc: 72.66% +- 4.91% - auc: 80.19% +- 1.66%\n",
      "SOFTIMPUTE RUN 8/10 - acc: 73.02% +- 2.74% - auc: 78.09% +- 3.06%\n",
      "SOFTIMPUTE RUN 9/10 - acc: 72.09% +- 3.87% - auc: 74.5% +- 4.02%\n",
      "SOFTIMPUTE RUN 10/10 - acc: 72.63% +- 3.26% - auc: 77.82% +- 3.0%\n",
      "\n",
      "SOFTIMPUTE GLOBAL - acc: 72.55% +- 0.71% - auc: 77.61% +- 1.55%\n"
     ]
    }
   ],
   "source": [
    "soft_accs, soft_aucs = [], []\n",
    "for i in range(n_runs):\n",
    "    random.seed(i)\n",
    "    np.random.seed(i)\n",
    "    torch.manual_seed(i)\n",
    "    imputer = SoftImpute(random_state=i)\n",
    "    imputer.fit(data_missing_nans)\n",
    "    imputed = imputer.predict(data_missing_nans)\n",
    "    imputed = np.where(missing_mask, data_missing, imputed)\n",
    "    scores = utils.get_scores(imputed, y)\n",
    "    acc = scores['test_balanced_accuracy']\n",
    "    auc = scores['test_roc_auc_ovo']\n",
    "    print(f'SOFTIMPUTE RUN {i + 1}/{n_runs} - acc: {round(acc.mean() * 100, 2)}% +- {round(acc.std() * 100, 2)}% - ' +\n",
    "          f'auc: {round(auc.mean() * 100, 2)}% +- {round(auc.std() * 100, 2)}%')\n",
    "    soft_accs.append(acc.mean())\n",
    "    soft_aucs.append(auc.mean())\n",
    "print(f'\\nSOFTIMPUTE GLOBAL - acc: {round(np.array(soft_accs).mean() * 100, 2)}% +- {round(np.array(soft_accs).std() * 100, 2)}% - ' +\n",
    "      f'auc: {round(np.array(soft_aucs).mean() * 100, 2)}% +- {round(np.array(soft_aucs).std() * 100, 2)}%')"
   ]
  },
  {
   "cell_type": "markdown",
   "metadata": {},
   "source": [
    "## Run SINKHORN"
   ]
  },
  {
   "cell_type": "code",
   "execution_count": 10,
   "metadata": {
    "execution": {
     "iopub.execute_input": "2022-06-03T19:48:44.125655Z",
     "iopub.status.busy": "2022-06-03T19:48:44.124976Z",
     "iopub.status.idle": "2022-06-03T19:54:10.026222Z",
     "shell.execute_reply": "2022-06-03T19:54:10.025256Z"
    }
   },
   "outputs": [
    {
     "name": "stdout",
     "output_type": "stream",
     "text": [
      "batchsize = 128, epsilon = 0.0100\n",
      "Iteration 0:\t Loss: 5.4601\n",
      "\n",
      "SINKHORN RUN 1/10 - acc: 71.91% +- 2.21% - auc: 78.93% +- 1.77%\n",
      "\n",
      "batchsize = 128, epsilon = 0.0100\n",
      "Iteration 0:\t Loss: 5.3284\n",
      "\n",
      "SINKHORN RUN 2/10 - acc: 71.97% +- 3.12% - auc: 77.7% +- 3.27%\n",
      "\n",
      "batchsize = 128, epsilon = 0.0100\n",
      "Iteration 0:\t Loss: 5.4594\n",
      "\n",
      "SINKHORN RUN 3/10 - acc: 72.51% +- 1.84% - auc: 78.19% +- 3.01%\n",
      "\n",
      "batchsize = 128, epsilon = 0.0100\n",
      "Iteration 0:\t Loss: 5.4397\n",
      "\n",
      "SINKHORN RUN 4/10 - acc: 71.3% +- 4.62% - auc: 78.95% +- 2.63%\n",
      "\n",
      "batchsize = 128, epsilon = 0.0100\n",
      "Iteration 0:\t Loss: 5.5366\n",
      "\n",
      "SINKHORN RUN 5/10 - acc: 72.98% +- 2.58% - auc: 78.15% +- 2.57%\n",
      "\n",
      "batchsize = 128, epsilon = 0.0100\n",
      "Iteration 0:\t Loss: 5.4382\n",
      "\n",
      "SINKHORN RUN 6/10 - acc: 72.41% +- 2.43% - auc: 77.2% +- 2.31%\n",
      "\n",
      "batchsize = 128, epsilon = 0.0100\n",
      "Iteration 0:\t Loss: 5.5303\n",
      "\n",
      "SINKHORN RUN 7/10 - acc: 73.14% +- 1.94% - auc: 77.22% +- 1.61%\n",
      "\n",
      "batchsize = 128, epsilon = 0.0100\n",
      "Iteration 0:\t Loss: 5.6527\n",
      "\n",
      "SINKHORN RUN 8/10 - acc: 72.24% +- 4.05% - auc: 77.17% +- 6.03%\n",
      "\n",
      "batchsize = 128, epsilon = 0.0100\n",
      "Iteration 0:\t Loss: 5.4797\n",
      "\n",
      "SINKHORN RUN 9/10 - acc: 72.66% +- 2.03% - auc: 78.03% +- 3.49%\n",
      "\n",
      "batchsize = 128, epsilon = 0.0100\n",
      "Iteration 0:\t Loss: 5.4233\n",
      "\n",
      "SINKHORN RUN 10/10 - acc: 72.49% +- 2.74% - auc: 77.86% +- 3.64%\n",
      "\n",
      "\n",
      "SINKHORN GLOBAL - acc: 72.36% +- 0.51% - auc: 77.94% +- 0.62%\n"
     ]
    }
   ],
   "source": [
    "sink_accs, sink_aucs = [], []\n",
    "for i in range(n_runs):\n",
    "    random.seed(i)\n",
    "    np.random.seed(i)\n",
    "    torch.manual_seed(i)\n",
    "    imputer = OTimputer(niter=500)\n",
    "    imputed = imputer.fit_transform(data_missing_nans).cpu().detach().numpy()\n",
    "    scores = utils.get_scores(imputed, y)\n",
    "    acc = scores['test_balanced_accuracy']\n",
    "    auc = scores['test_roc_auc_ovo']\n",
    "    print(f'\\nSINKHORN RUN {i + 1}/{n_runs} - acc: {round(acc.mean() * 100, 2)}% +- {round(acc.std() * 100, 2)}% - ' +\n",
    "          f'auc: {round(auc.mean() * 100, 2)}% +- {round(auc.std() * 100, 2)}%\\n')\n",
    "    sink_accs.append(acc.mean())\n",
    "    sink_aucs.append(auc.mean())\n",
    "print(f'\\nSINKHORN GLOBAL - acc: {round(np.array(sink_accs).mean() * 100, 2)}% +- {round(np.array(sink_accs).std() * 100, 2)}% - ' +\n",
    "      f'auc: {round(np.array(sink_aucs).mean() * 100, 2)}% +- {round(np.array(sink_aucs).std() * 100, 2)}%')"
   ]
  },
  {
   "cell_type": "markdown",
   "metadata": {},
   "source": [
    "## Run MIDA"
   ]
  },
  {
   "cell_type": "code",
   "execution_count": 11,
   "metadata": {
    "execution": {
     "iopub.execute_input": "2022-06-03T19:54:10.036707Z",
     "iopub.status.busy": "2022-06-03T19:54:10.035521Z",
     "iopub.status.idle": "2022-06-03T19:57:28.937359Z",
     "shell.execute_reply": "2022-06-03T19:57:28.936117Z"
    }
   },
   "outputs": [
    {
     "name": "stdout",
     "output_type": "stream",
     "text": [
      "Stop training at epoch: 1500/1500, return best output\n",
      "\n",
      "MIDA RUN 1/10 - acc: 71.07% +- 2.15% - auc: 77.67% +- 2.71%\n",
      "\n",
      "Stop training at epoch: 1500/1500, return best output\n",
      "\n",
      "MIDA RUN 2/10 - acc: 70.73% +- 2.08% - auc: 77.95% +- 2.8%\n",
      "\n",
      "Stop training at epoch: 1500/1500, return best output\n",
      "\n",
      "MIDA RUN 3/10 - acc: 71.45% +- 3.39% - auc: 74.96% +- 5.33%\n",
      "\n",
      "Stop training at epoch: 1500/1500, return best output\n",
      "\n",
      "MIDA RUN 4/10 - acc: 71.03% +- 3.39% - auc: 76.59% +- 4.29%\n",
      "\n",
      "Stop training at epoch: 1500/1500, return best output\n",
      "\n",
      "MIDA RUN 5/10 - acc: 69.26% +- 4.49% - auc: 73.81% +- 3.19%\n",
      "\n",
      "Stop training at epoch: 1500/1500, return best output\n",
      "\n",
      "MIDA RUN 6/10 - acc: 70.33% +- 2.58% - auc: 78.12% +- 1.83%\n",
      "\n",
      "Stop training at epoch: 1500/1500, return best output\n",
      "\n",
      "MIDA RUN 7/10 - acc: 70.15% +- 4.33% - auc: 77.83% +- 2.89%\n",
      "\n",
      "Stop training at epoch: 1500/1500, return best output\n",
      "\n",
      "MIDA RUN 8/10 - acc: 69.82% +- 3.76% - auc: 75.7% +- 2.85%\n",
      "\n",
      "Stop training at epoch: 1500/1500, return best output\n",
      "\n",
      "MIDA RUN 9/10 - acc: 70.28% +- 2.56% - auc: 74.52% +- 3.98%\n",
      "\n",
      "Stop training at epoch: 1500/1500, return best output\n",
      "\n",
      "MIDA RUN 10/10 - acc: 69.27% +- 3.4% - auc: 76.15% +- 4.67%\n",
      "\n",
      "\n",
      "MIDA GLOBAL - acc: 70.34% +- 0.71% - auc: 76.33% +- 1.48%\n"
     ]
    }
   ],
   "source": [
    "mida_accs, mida_aucs = [], []\n",
    "for i in range(n_runs):\n",
    "    random.seed(i)\n",
    "    np.random.seed(i)\n",
    "    torch.manual_seed(i)\n",
    "    imputed = mida(data_missing_nans, num_layers=2, num_epochs=1500)\n",
    "    imputed = np.where(missing_mask, data_missing, imputed)\n",
    "    scores = utils.get_scores(imputed, y)\n",
    "    acc = scores['test_balanced_accuracy']\n",
    "    auc = scores['test_roc_auc_ovo']\n",
    "    print(f'\\nMIDA RUN {i + 1}/{n_runs} - acc: {round(acc.mean() * 100, 2)}% +- {round(acc.std() * 100, 2)}% - ' +\n",
    "          f'auc: {round(auc.mean() * 100, 2)}% +- {round(auc.std() * 100, 2)}%\\n')\n",
    "    mida_accs.append(acc.mean())\n",
    "    mida_aucs.append(auc.mean())\n",
    "print(f'\\nMIDA GLOBAL - acc: {round(np.array(mida_accs).mean() * 100, 2)}% +- {round(np.array(mida_accs).std() * 100, 2)}% - ' +\n",
    "      f'auc: {round(np.array(mida_aucs).mean() * 100, 2)}% +- {round(np.array(mida_aucs).std() * 100, 2)}%')"
   ]
  },
  {
   "cell_type": "markdown",
   "metadata": {},
   "source": [
    "## Run T-tests"
   ]
  },
  {
   "cell_type": "code",
   "execution_count": 12,
   "metadata": {
    "ExecuteTime": {
     "end_time": "2022-06-03T08:13:33.583163Z",
     "start_time": "2022-06-03T08:13:33.583140Z"
    },
    "execution": {
     "iopub.execute_input": "2022-06-03T19:57:28.950842Z",
     "iopub.status.busy": "2022-06-03T19:57:28.949954Z",
     "iopub.status.idle": "2022-06-03T19:57:28.956179Z",
     "shell.execute_reply": "2022-06-03T19:57:28.955124Z"
    },
    "scrolled": false
   },
   "outputs": [
    {
     "name": "stdout",
     "output_type": "stream",
     "text": [
      "Metric ACC - OUR METHOD is significantly better than MEDIAN\n",
      "Metric AUC - OUR METHOD is significantly better than MEDIAN\n",
      "Metric ACC - OUR METHOD is significantly worse than MEAN\n",
      "Metric AUC - OUR METHOD is significantly better than MEAN\n",
      "Metric ACC - OUR METHOD is significantly better than KNN\n",
      "Metric AUC - OUR METHOD is significantly better than KNN\n",
      "Metric ACC - OUR METHOD is significantly better than GAIN\n",
      "Metric AUC - OUR METHOD is significantly better than GAIN\n",
      "Metric ACC - OUR METHOD is even with MICE\n",
      "Metric AUC - OUR METHOD is even with MICE\n",
      "Metric ACC - OUR METHOD is significantly better than MISS\n",
      "Metric AUC - OUR METHOD is significantly better than MISS\n",
      "Metric ACC - OUR METHOD is significantly better than SOFT\n",
      "Metric AUC - OUR METHOD is significantly better than SOFT\n",
      "Metric ACC - OUR METHOD is significantly better than SINK\n",
      "Metric AUC - OUR METHOD is significantly better than SINK\n",
      "Metric ACC - OUR METHOD is significantly better than MIDA\n",
      "Metric AUC - OUR METHOD is significantly better than MIDA\n"
     ]
    }
   ],
   "source": [
    "for model, metrics in {\n",
    "        'MEDIAN': {'ACC': median_accs, 'AUC': median_aucs},\n",
    "        'MEAN': {'ACC': mean_accs, 'AUC': mean_aucs},\n",
    "        'KNN': {'ACC': knn_accs, 'AUC': knn_aucs},\n",
    "        'GAIN': {'ACC': gain_accs, 'AUC': gain_aucs},\n",
    "        'MICE': {'ACC': mice_accs, 'AUC': mice_aucs},\n",
    "        'MISS': {'ACC': miss_accs, 'AUC': miss_aucs},\n",
    "        'SOFT': {'ACC': soft_accs, 'AUC': soft_aucs},\n",
    "        'SINK': {'ACC': sink_accs, 'AUC': sink_aucs},\n",
    "        'MIDA': {'ACC': mida_accs, 'AUC': mida_aucs}}.items():\n",
    "    for metric_name, metric in metrics.items():\n",
    "        ours_metric = ours_accs if metric_name == 'ACC' else ours_aucs\n",
    "        t, p = scipy.stats.ttest_ind(np.array(ours_metric), np.array(metric))\n",
    "        if p <= .05:\n",
    "            if t > 0:\n",
    "                ## Our method is better\n",
    "                print(f'Metric {metric_name} - OUR METHOD is significantly better than {model}')\n",
    "            else:\n",
    "                ## Theirs is better\n",
    "                print(f'Metric {metric_name} - OUR METHOD is significantly worse than {model}')\n",
    "        else:\n",
    "            ## Else we are even\n",
    "            print(f'Metric {metric_name} - OUR METHOD is even with {model}')"
   ]
  }
 ],
 "metadata": {
  "kernelspec": {
   "display_name": "Python 3 (ipykernel)",
   "language": "python",
   "name": "python3"
  },
  "language_info": {
   "codemirror_mode": {
    "name": "ipython",
    "version": 3
   },
   "file_extension": ".py",
   "mimetype": "text/x-python",
   "name": "python",
   "nbconvert_exporter": "python",
   "pygments_lexer": "ipython3",
   "version": "3.9.7"
  },
  "latex_envs": {
   "LaTeX_envs_menu_present": true,
   "autoclose": false,
   "autocomplete": true,
   "bibliofile": "biblio.bib",
   "cite_by": "apalike",
   "current_citInitial": 1,
   "eqLabelWithNumbers": true,
   "eqNumInitial": 1,
   "hotkeys": {
    "equation": "Ctrl-E",
    "itemize": "Ctrl-I"
   },
   "labels_anchors": false,
   "latex_user_defs": false,
   "report_style_numbering": false,
   "user_envs_cfg": false
  }
 },
 "nbformat": 4,
 "nbformat_minor": 2
}
