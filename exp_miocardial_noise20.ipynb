{
 "cells": [
  {
   "cell_type": "code",
   "execution_count": 1,
   "metadata": {
    "ExecuteTime": {
     "end_time": "2022-06-03T07:56:37.128214Z",
     "start_time": "2022-06-03T07:56:33.810392Z"
    },
    "execution": {
     "iopub.execute_input": "2022-06-03T15:29:46.710565Z",
     "iopub.status.busy": "2022-06-03T15:29:46.709197Z",
     "iopub.status.idle": "2022-06-03T15:29:50.114325Z",
     "shell.execute_reply": "2022-06-03T15:29:50.115147Z"
    }
   },
   "outputs": [],
   "source": [
    "from __future__ import print_function\n",
    "import warnings\n",
    "warnings.filterwarnings(\"ignore\", category=UserWarning)\n",
    "warnings.filterwarnings(\"ignore\", category=FutureWarning)\n",
    "## Disable tf future deprecated messages\n",
    "import logging\n",
    "logging.getLogger('tensorflow').disabled = True\n",
    "## Disable tf CUDA messages\n",
    "import os\n",
    "os.environ['TF_CPP_MIN_LOG_LEVEL'] = '3'\n",
    "\n",
    "%matplotlib inline\n",
    "\n",
    "import sys\n",
    "import random\n",
    "import numpy as np\n",
    "import pandas as pd\n",
    "\n",
    "import utils\n",
    "import correction\n",
    "from models.dense import *\n",
    "from models.gain import gain\n",
    "from models.soft_impute import SoftImpute\n",
    "from models.sinkhorn import OTimputer\n",
    "from models.mida import mida\n",
    "\n",
    "import scipy.stats\n",
    "\n",
    "from sklearn.experimental import enable_iterative_imputer\n",
    "from sklearn.impute import IterativeImputer\n",
    "from sklearn.impute import KNNImputer, SimpleImputer\n",
    "\n",
    "import sklearn.neighbors._base\n",
    "sys.modules['sklearn.neighbors.base'] = sklearn.neighbors._base\n",
    "from missingpy import MissForest\n",
    "\n",
    "torch.backends.cudnn.enabled = True\n",
    "torch.backends.cudnn.benchmark = True\n",
    "dtype = torch.cuda.FloatTensor"
   ]
  },
  {
   "cell_type": "markdown",
   "metadata": {},
   "source": [
    "## Repeat all experiments for 10 runs"
   ]
  },
  {
   "cell_type": "code",
   "execution_count": 2,
   "metadata": {
    "ExecuteTime": {
     "end_time": "2022-06-03T07:56:37.132965Z",
     "start_time": "2022-06-03T07:56:37.130326Z"
    },
    "execution": {
     "iopub.execute_input": "2022-06-03T15:29:50.120670Z",
     "iopub.status.busy": "2022-06-03T15:29:50.120010Z",
     "iopub.status.idle": "2022-06-03T15:29:50.122339Z",
     "shell.execute_reply": "2022-06-03T15:29:50.121708Z"
    }
   },
   "outputs": [],
   "source": [
    "n_runs = 10"
   ]
  },
  {
   "cell_type": "markdown",
   "metadata": {},
   "source": [
    "## Load data"
   ]
  },
  {
   "cell_type": "code",
   "execution_count": 3,
   "metadata": {
    "ExecuteTime": {
     "end_time": "2022-06-03T07:56:37.290562Z",
     "start_time": "2022-06-03T07:56:37.134360Z"
    },
    "execution": {
     "iopub.execute_input": "2022-06-03T15:29:50.128680Z",
     "iopub.status.busy": "2022-06-03T15:29:50.127707Z",
     "iopub.status.idle": "2022-06-03T15:29:50.289688Z",
     "shell.execute_reply": "2022-06-03T15:29:50.290654Z"
    }
   },
   "outputs": [
    {
     "name": "stdout",
     "output_type": "stream",
     "text": [
      "Dataset shape: (1700, 110)\n",
      "5.62% missing data\n",
      "Class distribution: (array([0, 1]), array([1429,  271]))\n"
     ]
    }
   ],
   "source": [
    "data_missing, missing_mask, y = utils.load_miocardial()\n",
    "## Inject noise\n",
    "data_missing = utils.inject_noise(data_missing.copy(), noise_rate=.20)\n",
    "## Replace missing values locations by 0\n",
    "data_missing = data_missing * missing_mask"
   ]
  },
  {
   "cell_type": "markdown",
   "metadata": {},
   "source": [
    "## Run OUR METHOD"
   ]
  },
  {
   "cell_type": "code",
   "execution_count": 4,
   "metadata": {
    "ExecuteTime": {
     "end_time": "2022-06-03T07:58:28.409535Z",
     "start_time": "2022-06-03T07:56:37.292368Z"
    },
    "execution": {
     "iopub.execute_input": "2022-06-03T15:29:50.300840Z",
     "iopub.status.busy": "2022-06-03T15:29:50.299966Z",
     "iopub.status.idle": "2022-06-03T15:48:34.729089Z",
     "shell.execute_reply": "2022-06-03T15:48:34.729591Z"
    },
    "scrolled": false
   },
   "outputs": [
    {
     "name": "stdout",
     "output_type": "stream",
     "text": [
      "Ite 00000 - 2.68 sec - Loss 0.204868 - ACC 69.86% - ACC Mean 69.86% - AUC 75.27% - AUC Mean 75.27% - Deter 000\n",
      "Ite 00050 - 1.07 sec - Loss 0.094655 - ACC 71.99% - ACC Mean 71.85% - AUC 76.10% - AUC Mean 76.82% - Deter 041\n",
      "Ite 00100 - 1.02 sec - Loss 0.070284 - ACC 71.54% - ACC Mean 71.92% - AUC 76.24% - AUC Mean 77.84% - Deter 033\n",
      "Ite 00117 - 0.88 sec - Loss 0.066089 - ACC 70.73% - ACC Mean 71.33% - AUC 75.89% - AUC Mean 76.98% - Deter 050\n",
      "Early stop ite 117, rollback to correction of ite 67, whith acc of 73.16% and auc of 80.28%\n",
      "OUR METHOD RUN 1/10 - acc: 73.16% +- 0.0% - auc: 80.28% +- 0.0%\n",
      "Ite 00000 - 0.99 sec - Loss 0.215856 - ACC 72.32% - ACC Mean 72.32% - AUC 76.74% - AUC Mean 76.74% - Deter 000\n",
      "Ite 00050 - 0.92 sec - Loss 0.109192 - ACC 72.01% - ACC Mean 71.99% - AUC 76.41% - AUC Mean 76.94% - Deter 033\n",
      "Ite 00067 - 1.20 sec - Loss 0.094926 - ACC 73.26% - ACC Mean 71.78% - AUC 77.70% - AUC Mean 76.39% - Deter 050\n",
      "Early stop ite 67, rollback to correction of ite 17, whith acc of 71.82% and auc of 79.03%\n",
      "OUR METHOD RUN 2/10 - acc: 71.82% +- 0.0% - auc: 79.03% +- 0.0%\n",
      "Ite 00000 - 0.86 sec - Loss 0.197517 - ACC 71.61% - ACC Mean 71.61% - AUC 76.33% - AUC Mean 76.33% - Deter 000\n",
      "Ite 00050 - 1.03 sec - Loss 0.092981 - ACC 71.78% - ACC Mean 71.35% - AUC 77.18% - AUC Mean 77.39% - Deter 031\n",
      "Ite 00069 - 1.01 sec - Loss 0.078125 - ACC 71.12% - ACC Mean 71.25% - AUC 75.36% - AUC Mean 77.53% - Deter 050\n",
      "Early stop ite 69, rollback to correction of ite 19, whith acc of 72.04% and auc of 79.53%\n",
      "OUR METHOD RUN 3/10 - acc: 72.04% +- 0.0% - auc: 79.53% +- 0.0%\n",
      "Ite 00000 - 0.96 sec - Loss 0.164913 - ACC 72.85% - ACC Mean 72.85% - AUC 76.66% - AUC Mean 76.66% - Deter 000\n",
      "Ite 00050 - 1.00 sec - Loss 0.078504 - ACC 72.21% - ACC Mean 71.51% - AUC 77.76% - AUC Mean 77.41% - Deter 018\n",
      "Ite 00082 - 0.95 sec - Loss 0.061193 - ACC 70.71% - ACC Mean 72.05% - AUC 78.37% - AUC Mean 77.65% - Deter 050\n",
      "Early stop ite 82, rollback to correction of ite 32, whith acc of 71.35% and auc of 79.33%\n",
      "OUR METHOD RUN 4/10 - acc: 71.35% +- 0.0% - auc: 79.33% +- 0.0%\n",
      "Ite 00000 - 0.86 sec - Loss 0.220912 - ACC 70.74% - ACC Mean 70.74% - AUC 77.24% - AUC Mean 77.24% - Deter 000\n",
      "Ite 00050 - 0.97 sec - Loss 0.111907 - ACC 73.57% - ACC Mean 72.25% - AUC 78.71% - AUC Mean 77.24% - Deter 003\n",
      "Ite 00100 - 0.93 sec - Loss 0.076272 - ACC 70.83% - ACC Mean 71.77% - AUC 76.27% - AUC Mean 76.31% - Deter 049\n",
      "Ite 00101 - 1.00 sec - Loss 0.075796 - ACC 72.66% - ACC Mean 71.76% - AUC 78.70% - AUC Mean 76.29% - Deter 050\n",
      "Early stop ite 101, rollback to correction of ite 51, whith acc of 72.84% and auc of 79.86%\n",
      "OUR METHOD RUN 5/10 - acc: 72.84% +- 0.0% - auc: 79.86% +- 0.0%\n",
      "Ite 00000 - 0.86 sec - Loss 0.196720 - ACC 70.91% - ACC Mean 70.91% - AUC 77.39% - AUC Mean 77.39% - Deter 000\n",
      "Ite 00050 - 0.95 sec - Loss 0.112817 - ACC 71.76% - ACC Mean 71.74% - AUC 77.53% - AUC Mean 77.25% - Deter 029\n",
      "Ite 00100 - 0.88 sec - Loss 0.088185 - ACC 72.55% - ACC Mean 72.80% - AUC 78.54% - AUC Mean 78.26% - Deter 034\n",
      "Ite 00150 - 0.91 sec - Loss 0.076102 - ACC 74.13% - ACC Mean 72.66% - AUC 79.64% - AUC Mean 78.52% - Deter 042\n",
      "Ite 00158 - 0.91 sec - Loss 0.074557 - ACC 71.98% - ACC Mean 72.67% - AUC 76.74% - AUC Mean 78.34% - Deter 050\n",
      "Early stop ite 158, rollback to correction of ite 108, whith acc of 72.34% and auc of 80.55%\n",
      "OUR METHOD RUN 6/10 - acc: 72.34% +- 0.0% - auc: 80.55% +- 0.0%\n",
      "Ite 00000 - 0.89 sec - Loss 0.216467 - ACC 71.76% - ACC Mean 71.76% - AUC 75.18% - AUC Mean 75.18% - Deter 000\n",
      "Ite 00050 - 1.18 sec - Loss 0.112932 - ACC 72.12% - ACC Mean 72.17% - AUC 78.04% - AUC Mean 77.58% - Deter 013\n",
      "Ite 00100 - 1.56 sec - Loss 0.089280 - ACC 72.76% - ACC Mean 72.51% - AUC 78.87% - AUC Mean 78.64% - Deter 029\n",
      "Ite 00150 - 1.14 sec - Loss 0.078260 - ACC 74.39% - ACC Mean 73.45% - AUC 78.68% - AUC Mean 78.44% - Deter 023\n",
      "Ite 00177 - 1.35 sec - Loss 0.073696 - ACC 74.24% - ACC Mean 73.95% - AUC 79.35% - AUC Mean 78.57% - Deter 050\n",
      "Early stop ite 177, rollback to correction of ite 127, whith acc of 73.94% and auc of 80.53%\n",
      "OUR METHOD RUN 7/10 - acc: 73.94% +- 0.0% - auc: 80.53% +- 0.0%\n",
      "Ite 00000 - 1.28 sec - Loss 0.220164 - ACC 70.91% - ACC Mean 70.91% - AUC 75.66% - AUC Mean 75.66% - Deter 000\n",
      "Ite 00050 - 1.64 sec - Loss 0.111155 - ACC 73.11% - ACC Mean 72.61% - AUC 78.25% - AUC Mean 77.71% - Deter 025\n",
      "Ite 00075 - 1.63 sec - Loss 0.091702 - ACC 70.85% - ACC Mean 71.87% - AUC 75.89% - AUC Mean 77.06% - Deter 050\n",
      "Early stop ite 75, rollback to correction of ite 25, whith acc of 72.8% and auc of 79.75%\n",
      "OUR METHOD RUN 8/10 - acc: 72.8% +- 0.0% - auc: 79.75% +- 0.0%\n",
      "Ite 00000 - 1.23 sec - Loss 0.175268 - ACC 71.57% - ACC Mean 71.57% - AUC 75.60% - AUC Mean 75.60% - Deter 000\n",
      "Ite 00050 - 1.44 sec - Loss 0.086378 - ACC 70.76% - ACC Mean 72.39% - AUC 76.44% - AUC Mean 78.00% - Deter 027\n",
      "Ite 00073 - 1.80 sec - Loss 0.070792 - ACC 71.53% - ACC Mean 72.36% - AUC 75.83% - AUC Mean 77.33% - Deter 050\n",
      "Early stop ite 73, rollback to correction of ite 23, whith acc of 72.79% and auc of 79.24%\n",
      "OUR METHOD RUN 9/10 - acc: 72.79% +- 0.0% - auc: 79.24% +- 0.0%\n",
      "Ite 00000 - 1.59 sec - Loss 0.197468 - ACC 71.38% - ACC Mean 71.38% - AUC 77.93% - AUC Mean 77.93% - Deter 000\n",
      "Ite 00050 - 1.94 sec - Loss 0.098797 - ACC 71.11% - ACC Mean 72.07% - AUC 76.34% - AUC Mean 77.05% - Deter 047\n",
      "Ite 00053 - 2.02 sec - Loss 0.096562 - ACC 70.98% - ACC Mean 72.09% - AUC 75.67% - AUC Mean 76.91% - Deter 050\n",
      "Early stop ite 53, rollback to correction of ite 3, whith acc of 71.29% and auc of 79.38%\n",
      "OUR METHOD RUN 10/10 - acc: 71.29% +- 0.0% - auc: 79.38% +- 0.0%\n",
      "\n",
      "OUR METHOD GLOBAL - acc: 72.44% +- 0.79% - auc: 79.75% +- 0.52%\n"
     ]
    }
   ],
   "source": [
    "params = {\n",
    "    'nb_batches': 10,\n",
    "    'reg_noise_std': .03,\n",
    "    'net_input': 'data_corrupted',\n",
    "    'net_params': {\n",
    "        'input_channels':1,\n",
    "        'output_channels':1,\n",
    "        'channels_skip':4,\n",
    "        'down_layers':[(24, 7, 2),\n",
    "                       (46, 9, 1),\n",
    "                       (96, 9, 5),\n",
    "                       (96, 11, 1)],\n",
    "        'need_sigmoid':True,\n",
    "        'need_bias':True,\n",
    "        'pad':'zero',\n",
    "        'downsample_mode':'stride',\n",
    "        'upsample_mode':'nearest',\n",
    "        'act_fun':'LeakyReLU',\n",
    "        'need1x1_up':True\n",
    "    },# or a list containing layers sizes\n",
    "    'adam_lr': .0001,\n",
    "    'adam_weight_decay': 0.,\n",
    "}\n",
    "\n",
    "ours_accs, ours_aucs = [], []\n",
    "for i in range(n_runs):\n",
    "    ours_correction = correction.run(data_missing, 501, params, y=y, missing_mask=missing_mask, seed=i)\n",
    "    ## Since our method returns 2 imputations select the best one\n",
    "    scores_raw = utils.get_scores(ours_correction['raw_out'], y)\n",
    "    acc = scores_raw['test_balanced_accuracy']\n",
    "    auc = scores_raw['test_roc_auc_ovo']\n",
    "    acc = acc.mean()\n",
    "    acc_std = acc.std()\n",
    "    auc = auc.mean()\n",
    "    auc_std = auc.std()\n",
    "    if 'masked_out' in ours_correction:\n",
    "        scores_masked = utils.get_scores(ours_correction['masked_out'], y)\n",
    "        acc_masked = scores_masked['test_balanced_accuracy']\n",
    "        auc_masked = scores_masked['test_roc_auc_ovo']\n",
    "        if auc_masked.mean() > auc:\n",
    "            acc = acc_masked.mean()\n",
    "            acc_std = acc_masked.std()\n",
    "            auc = auc_masked.mean()\n",
    "            auc_std = auc_masked.std()\n",
    "    print(f'OUR METHOD RUN {i + 1}/{n_runs} - acc: {round(acc.mean() * 100, 2)}% +- {round(acc.std() * 100, 2)}% - ' +\n",
    "          f'auc: {round(auc.mean() * 100, 2)}% +- {round(auc.std() * 100, 2)}%')\n",
    "    ours_accs.append(acc.mean())\n",
    "    ours_aucs.append(auc.mean())\n",
    "print(f'\\nOUR METHOD GLOBAL - acc: {round(np.array(ours_accs).mean() * 100, 2)}% +- {round(np.array(ours_accs).std() * 100, 2)}% - ' +\n",
    "      f'auc: {round(np.array(ours_aucs).mean() * 100, 2)}% +- {round(np.array(ours_aucs).std() * 100, 2)}%')"
   ]
  },
  {
   "cell_type": "markdown",
   "metadata": {},
   "source": [
    "## Run Median, Mean and KNN"
   ]
  },
  {
   "cell_type": "code",
   "execution_count": 5,
   "metadata": {
    "ExecuteTime": {
     "end_time": "2022-06-03T07:58:31.715672Z",
     "start_time": "2022-06-03T07:58:28.411834Z"
    },
    "execution": {
     "iopub.execute_input": "2022-06-03T15:48:34.743651Z",
     "iopub.status.busy": "2022-06-03T15:48:34.741016Z",
     "iopub.status.idle": "2022-06-03T15:48:36.874578Z",
     "shell.execute_reply": "2022-06-03T15:48:36.874182Z"
    }
   },
   "outputs": [
    {
     "name": "stdout",
     "output_type": "stream",
     "text": [
      "MEDIAN - acc: 61.93% +- 0.0% - auc: 67.86% +- 0.0%\n",
      "MEAN - acc: 73.73% +- 0.0% - auc: 78.42% +- 0.0%\n",
      "KNN - acc: 67.62% +- 0.0% - auc: 73.0% +- 0.0%\n"
     ]
    }
   ],
   "source": [
    "data_missing_nans = np.where(missing_mask, data_missing, np.nan)\n",
    "\n",
    "median_imputer = SimpleImputer(missing_values=np.nan, strategy='median')\n",
    "mean_imputer = SimpleImputer(missing_values=np.nan, strategy='mean')\n",
    "knn_imputer = KNNImputer(n_neighbors=10, weights='uniform')\n",
    "\n",
    "median_completed = median_imputer.fit_transform(data_missing_nans)\n",
    "mean_completed = mean_imputer.fit_transform(data_missing_nans)\n",
    "knn_completed = knn_imputer.fit_transform(data_missing_nans)\n",
    "\n",
    "## All runs would be the same since deterministic methods\n",
    "scores = utils.get_scores(median_completed, y)\n",
    "acc = [scores['test_balanced_accuracy'].mean()] * n_runs\n",
    "auc = [scores['test_roc_auc_ovo'].mean()] * n_runs\n",
    "print(f'MEDIAN - acc: {round(np.mean(acc) * 100, 2)}% +- {round(np.std(acc) * 100, 2)}% - ' +\n",
    "      f'auc: {round(np.mean(auc) * 100, 2)}% +- {round(np.std(auc) * 100, 2)}%')\n",
    "median_accs = acc\n",
    "median_aucs = auc\n",
    "\n",
    "scores = utils.get_scores(mean_completed, y)\n",
    "acc = [scores['test_balanced_accuracy'].mean()] * n_runs\n",
    "auc = [scores['test_roc_auc_ovo'].mean()] * n_runs\n",
    "print(f'MEAN - acc: {round(np.mean(acc) * 100, 2)}% +- {round(np.std(acc) * 100, 2)}% - ' +\n",
    "      f'auc: {round(np.mean(auc) * 100, 2)}% +- {round(np.std(auc) * 100, 2)}%')\n",
    "mean_accs = acc\n",
    "mean_aucs = auc\n",
    "\n",
    "scores = utils.get_scores(knn_completed, y)\n",
    "acc = [scores['test_balanced_accuracy'].mean()] * n_runs\n",
    "auc = [scores['test_roc_auc_ovo'].mean()] * n_runs\n",
    "print(f'KNN - acc: {round(np.mean(acc) * 100, 2)}% +- {round(np.std(acc) * 100, 2)}% - ' +\n",
    "      f'auc: {round(np.mean(auc) * 100, 2)}% +- {round(np.std(auc) * 100, 2)}%')\n",
    "knn_accs = acc\n",
    "knn_aucs = auc"
   ]
  },
  {
   "cell_type": "markdown",
   "metadata": {},
   "source": [
    "## Run GAIN"
   ]
  },
  {
   "cell_type": "code",
   "execution_count": 6,
   "metadata": {
    "ExecuteTime": {
     "end_time": "2022-06-03T07:59:07.140809Z",
     "start_time": "2022-06-03T07:58:31.718964Z"
    },
    "execution": {
     "iopub.execute_input": "2022-06-03T15:48:36.882340Z",
     "iopub.status.busy": "2022-06-03T15:48:36.881870Z",
     "iopub.status.idle": "2022-06-03T15:59:41.694834Z",
     "shell.execute_reply": "2022-06-03T15:59:41.696115Z"
    },
    "scrolled": false
   },
   "outputs": [
    {
     "name": "stderr",
     "output_type": "stream",
     "text": [
      "100%|██████████| 5000/5000 [01:03<00:00, 79.14it/s]\n"
     ]
    },
    {
     "name": "stdout",
     "output_type": "stream",
     "text": [
      "\n",
      "GAIN RUN 1/10 - acc: 70.31% +- 2.7% - auc: 75.08% +- 4.42%\n",
      "\n"
     ]
    },
    {
     "name": "stderr",
     "output_type": "stream",
     "text": [
      "100%|██████████| 5000/5000 [00:56<00:00, 88.48it/s]\n"
     ]
    },
    {
     "name": "stdout",
     "output_type": "stream",
     "text": [
      "\n",
      "GAIN RUN 2/10 - acc: 68.19% +- 1.93% - auc: 74.25% +- 1.47%\n",
      "\n"
     ]
    },
    {
     "name": "stderr",
     "output_type": "stream",
     "text": [
      "100%|██████████| 5000/5000 [00:53<00:00, 93.45it/s] \n"
     ]
    },
    {
     "name": "stdout",
     "output_type": "stream",
     "text": [
      "\n",
      "GAIN RUN 3/10 - acc: 70.1% +- 2.86% - auc: 75.99% +- 3.13%\n",
      "\n"
     ]
    },
    {
     "name": "stderr",
     "output_type": "stream",
     "text": [
      "100%|██████████| 5000/5000 [00:52<00:00, 94.50it/s]\n"
     ]
    },
    {
     "name": "stdout",
     "output_type": "stream",
     "text": [
      "\n",
      "GAIN RUN 4/10 - acc: 72.43% +- 2.73% - auc: 76.93% +- 2.74%\n",
      "\n"
     ]
    },
    {
     "name": "stderr",
     "output_type": "stream",
     "text": [
      "100%|██████████| 5000/5000 [00:58<00:00, 85.42it/s]\n"
     ]
    },
    {
     "name": "stdout",
     "output_type": "stream",
     "text": [
      "\n",
      "GAIN RUN 5/10 - acc: 70.83% +- 3.23% - auc: 76.0% +- 3.61%\n",
      "\n"
     ]
    },
    {
     "name": "stderr",
     "output_type": "stream",
     "text": [
      "100%|██████████| 5000/5000 [00:56<00:00, 88.06it/s] \n"
     ]
    },
    {
     "name": "stdout",
     "output_type": "stream",
     "text": [
      "\n",
      "GAIN RUN 6/10 - acc: 70.06% +- 2.48% - auc: 74.51% +- 3.09%\n",
      "\n"
     ]
    },
    {
     "name": "stderr",
     "output_type": "stream",
     "text": [
      "100%|██████████| 5000/5000 [00:56<00:00, 88.11it/s]\n"
     ]
    },
    {
     "name": "stdout",
     "output_type": "stream",
     "text": [
      "\n",
      "GAIN RUN 7/10 - acc: 70.96% +- 1.7% - auc: 76.6% +- 1.69%\n",
      "\n"
     ]
    },
    {
     "name": "stderr",
     "output_type": "stream",
     "text": [
      "100%|██████████| 5000/5000 [01:01<00:00, 80.94it/s]\n"
     ]
    },
    {
     "name": "stdout",
     "output_type": "stream",
     "text": [
      "\n",
      "GAIN RUN 8/10 - acc: 69.33% +- 2.1% - auc: 73.97% +- 1.63%\n",
      "\n"
     ]
    },
    {
     "name": "stderr",
     "output_type": "stream",
     "text": [
      "100%|██████████| 5000/5000 [01:05<00:00, 76.56it/s]\n"
     ]
    },
    {
     "name": "stdout",
     "output_type": "stream",
     "text": [
      "\n",
      "GAIN RUN 9/10 - acc: 69.59% +- 1.04% - auc: 74.62% +- 2.24%\n",
      "\n"
     ]
    },
    {
     "name": "stderr",
     "output_type": "stream",
     "text": [
      "100%|██████████| 5000/5000 [01:07<00:00, 74.20it/s]\n"
     ]
    },
    {
     "name": "stdout",
     "output_type": "stream",
     "text": [
      "\n",
      "GAIN RUN 10/10 - acc: 67.88% +- 2.93% - auc: 73.51% +- 3.36%\n",
      "\n",
      "GAIN GLOBAL - acc: 69.97% +- 1.27% - auc: 75.15% +- 1.11%\n"
     ]
    }
   ],
   "source": [
    "gain_parameters = {'batch_size': 128,\n",
    "                   'hint_rate': .9,\n",
    "                   'alpha': 100,\n",
    "                   'iterations': 5000}\n",
    "\n",
    "gain_accs, gain_aucs = [], []\n",
    "for i in range(n_runs):\n",
    "    random.seed(i)\n",
    "    np.random.seed(i)\n",
    "    torch.manual_seed(i)\n",
    "    imputed = gain(data_missing_nans, gain_parameters)\n",
    "    scores = utils.get_scores(imputed, y)\n",
    "    acc = scores['test_balanced_accuracy']\n",
    "    auc = scores['test_roc_auc_ovo']\n",
    "    print(f'\\nGAIN RUN {i + 1}/{n_runs} - acc: {round(acc.mean() * 100, 2)}% +- {round(acc.std() * 100, 2)}% - ' +\n",
    "          f'auc: {round(auc.mean() * 100, 2)}% +- {round(auc.std() * 100, 2)}%\\n')\n",
    "    gain_accs.append(acc.mean())\n",
    "    gain_aucs.append(auc.mean())\n",
    "print(f'GAIN GLOBAL - acc: {round(np.array(gain_accs).mean() * 100, 2)}% +- {round(np.array(gain_accs).std() * 100, 2)}% - ' +\n",
    "      f'auc: {round(np.array(gain_aucs).mean() * 100, 2)}% +- {round(np.array(gain_aucs).std() * 100, 2)}%')"
   ]
  },
  {
   "cell_type": "markdown",
   "metadata": {},
   "source": [
    "## Run MICE"
   ]
  },
  {
   "cell_type": "code",
   "execution_count": 7,
   "metadata": {
    "ExecuteTime": {
     "end_time": "2022-06-03T08:13:33.572553Z",
     "start_time": "2022-06-03T07:59:07.142164Z"
    },
    "execution": {
     "iopub.execute_input": "2022-06-03T15:59:41.709168Z",
     "iopub.status.busy": "2022-06-03T15:59:41.706390Z",
     "iopub.status.idle": "2022-06-03T16:56:10.773889Z",
     "shell.execute_reply": "2022-06-03T16:56:10.773427Z"
    }
   },
   "outputs": [
    {
     "name": "stdout",
     "output_type": "stream",
     "text": [
      "MICE - acc: 72.52% +- 0.0% - auc: 76.1% +- 0.0%\n"
     ]
    }
   ],
   "source": [
    "imputer = IterativeImputer()\n",
    "imputed = imputer.fit_transform(data_missing_nans)\n",
    "## All runs would be the same since deterministic method\n",
    "scores = utils.get_scores(imputed, y)\n",
    "acc = [scores['test_balanced_accuracy'].mean()] * n_runs\n",
    "auc = [scores['test_roc_auc_ovo'].mean()] * n_runs\n",
    "print(f'MICE - acc: {round(np.mean(acc) * 100, 2)}% +- {round(np.std(acc) * 100, 2)}% - ' +\n",
    "      f'auc: {round(np.mean(auc) * 100, 2)}% +- {round(np.std(auc) * 100, 2)}%')\n",
    "mice_accs = acc\n",
    "mice_aucs = auc"
   ]
  },
  {
   "cell_type": "markdown",
   "metadata": {},
   "source": [
    "## Run MISSFOREST"
   ]
  },
  {
   "cell_type": "code",
   "execution_count": 8,
   "metadata": {
    "ExecuteTime": {
     "end_time": "2022-06-03T08:13:33.579829Z",
     "start_time": "2022-06-03T08:13:33.579804Z"
    },
    "execution": {
     "iopub.execute_input": "2022-06-03T16:56:10.794746Z",
     "iopub.status.busy": "2022-06-03T16:56:10.794257Z",
     "iopub.status.idle": "2022-06-03T19:45:30.793104Z",
     "shell.execute_reply": "2022-06-03T19:45:30.793568Z"
    },
    "scrolled": false
   },
   "outputs": [
    {
     "name": "stdout",
     "output_type": "stream",
     "text": [
      "Iteration: 0\n",
      "Iteration: 1\n",
      "Iteration: 2\n",
      "Iteration: 3\n",
      "\n",
      "MISSFOREST RUN 1/10 - acc: 71.88% +- 2.82% - auc: 76.98% +- 1.6%\n",
      "\n",
      "Iteration: 0\n",
      "Iteration: 1\n",
      "Iteration: 2\n",
      "Iteration: 3\n",
      "\n",
      "MISSFOREST RUN 2/10 - acc: 71.37% +- 2.51% - auc: 76.27% +- 1.7%\n",
      "\n",
      "Iteration: 0\n",
      "Iteration: 1\n",
      "Iteration: 2\n",
      "Iteration: 3\n",
      "Iteration: 4\n",
      "Iteration: 5\n",
      "Iteration: 6\n",
      "Iteration: 7\n",
      "\n",
      "MISSFOREST RUN 3/10 - acc: 71.15% +- 2.52% - auc: 76.32% +- 1.09%\n",
      "\n",
      "Iteration: 0\n",
      "Iteration: 1\n",
      "Iteration: 2\n",
      "Iteration: 3\n",
      "Iteration: 4\n",
      "\n",
      "MISSFOREST RUN 4/10 - acc: 70.48% +- 1.37% - auc: 76.18% +- 1.23%\n",
      "\n",
      "Iteration: 0\n",
      "Iteration: 1\n",
      "Iteration: 2\n",
      "Iteration: 3\n",
      "\n",
      "MISSFOREST RUN 5/10 - acc: 71.52% +- 1.98% - auc: 77.13% +- 3.81%\n",
      "\n",
      "Iteration: 0\n",
      "Iteration: 1\n",
      "Iteration: 2\n",
      "Iteration: 3\n",
      "Iteration: 4\n",
      "\n",
      "MISSFOREST RUN 6/10 - acc: 72.42% +- 0.76% - auc: 77.17% +- 2.76%\n",
      "\n",
      "Iteration: 0\n",
      "Iteration: 1\n",
      "Iteration: 2\n",
      "Iteration: 3\n",
      "Iteration: 4\n",
      "\n",
      "MISSFOREST RUN 7/10 - acc: 71.72% +- 2.32% - auc: 77.44% +- 1.76%\n",
      "\n",
      "Iteration: 0\n",
      "Iteration: 1\n",
      "Iteration: 2\n",
      "Iteration: 3\n",
      "Iteration: 4\n",
      "Iteration: 5\n",
      "\n",
      "MISSFOREST RUN 8/10 - acc: 71.57% +- 2.21% - auc: 75.85% +- 2.75%\n",
      "\n",
      "Iteration: 0\n",
      "Iteration: 1\n",
      "Iteration: 2\n",
      "Iteration: 3\n",
      "Iteration: 4\n",
      "\n",
      "MISSFOREST RUN 9/10 - acc: 72.06% +- 1.97% - auc: 75.76% +- 1.94%\n",
      "\n",
      "Iteration: 0\n",
      "Iteration: 1\n",
      "Iteration: 2\n",
      "Iteration: 3\n",
      "\n",
      "MISSFOREST RUN 10/10 - acc: 71.55% +- 2.0% - auc: 76.35% +- 1.8%\n",
      "\n",
      "\n",
      "MISSFOREST GLOBAL - acc: 71.57% +- 0.5% - auc: 76.55% +- 0.56%\n"
     ]
    }
   ],
   "source": [
    "miss_accs, miss_aucs = [], []\n",
    "for i in range(n_runs):\n",
    "    random.seed(i)\n",
    "    np.random.seed(i)\n",
    "    torch.manual_seed(i)\n",
    "    imputer = MissForest(n_jobs=-1, random_state=i)\n",
    "    imputed = imputer.fit_transform(data_missing_nans)\n",
    "    scores = utils.get_scores(imputed, y)\n",
    "    acc = scores['test_balanced_accuracy']\n",
    "    auc = scores['test_roc_auc_ovo']\n",
    "    print(f'\\nMISSFOREST RUN {i + 1}/{n_runs} - acc: {round(acc.mean() * 100, 2)}% +- {round(acc.std() * 100, 2)}% - ' +\n",
    "          f'auc: {round(auc.mean() * 100, 2)}% +- {round(auc.std() * 100, 2)}%\\n')\n",
    "    miss_accs.append(acc.mean())\n",
    "    miss_aucs.append(auc.mean())\n",
    "print(f'\\nMISSFOREST GLOBAL - acc: {round(np.array(miss_accs).mean() * 100, 2)}% +- {round(np.array(miss_accs).std() * 100, 2)}% - ' +\n",
    "      f'auc: {round(np.array(miss_aucs).mean() * 100, 2)}% +- {round(np.array(miss_aucs).std() * 100, 2)}%')"
   ]
  },
  {
   "cell_type": "markdown",
   "metadata": {},
   "source": [
    "## Run SOFTIMPUTE"
   ]
  },
  {
   "cell_type": "code",
   "execution_count": 9,
   "metadata": {
    "ExecuteTime": {
     "end_time": "2022-06-03T08:13:33.581198Z",
     "start_time": "2022-06-03T08:13:33.581175Z"
    },
    "execution": {
     "iopub.execute_input": "2022-06-03T19:45:30.800395Z",
     "iopub.status.busy": "2022-06-03T19:45:30.799745Z",
     "iopub.status.idle": "2022-06-03T19:45:35.109466Z",
     "shell.execute_reply": "2022-06-03T19:45:35.110451Z"
    }
   },
   "outputs": [
    {
     "name": "stdout",
     "output_type": "stream",
     "text": [
      "SOFTIMPUTE RUN 1/10 - acc: 72.22% +- 2.39% - auc: 75.92% +- 1.93%\n",
      "SOFTIMPUTE RUN 2/10 - acc: 73.39% +- 1.63% - auc: 76.42% +- 1.95%\n",
      "SOFTIMPUTE RUN 3/10 - acc: 73.74% +- 1.62% - auc: 76.98% +- 1.57%\n",
      "SOFTIMPUTE RUN 4/10 - acc: 70.27% +- 2.39% - auc: 74.58% +- 2.61%\n",
      "SOFTIMPUTE RUN 5/10 - acc: 70.29% +- 1.8% - auc: 74.99% +- 1.74%\n",
      "SOFTIMPUTE RUN 6/10 - acc: 71.74% +- 2.45% - auc: 75.65% +- 3.32%\n",
      "SOFTIMPUTE RUN 7/10 - acc: 73.13% +- 0.7% - auc: 76.83% +- 2.05%\n",
      "SOFTIMPUTE RUN 8/10 - acc: 71.98% +- 2.18% - auc: 75.4% +- 2.84%\n",
      "SOFTIMPUTE RUN 9/10 - acc: 72.11% +- 1.15% - auc: 76.5% +- 2.09%\n",
      "SOFTIMPUTE RUN 10/10 - acc: 71.74% +- 2.13% - auc: 74.62% +- 2.23%\n",
      "\n",
      "SOFTIMPUTE GLOBAL - acc: 72.06% +- 1.11% - auc: 75.79% +- 0.84%\n"
     ]
    }
   ],
   "source": [
    "soft_accs, soft_aucs = [], []\n",
    "for i in range(n_runs):\n",
    "    random.seed(i)\n",
    "    np.random.seed(i)\n",
    "    torch.manual_seed(i)\n",
    "    imputer = SoftImpute(random_state=i)\n",
    "    imputer.fit(data_missing_nans)\n",
    "    imputed = imputer.predict(data_missing_nans)\n",
    "    imputed = np.where(missing_mask, data_missing, imputed)\n",
    "    scores = utils.get_scores(imputed, y)\n",
    "    acc = scores['test_balanced_accuracy']\n",
    "    auc = scores['test_roc_auc_ovo']\n",
    "    print(f'SOFTIMPUTE RUN {i + 1}/{n_runs} - acc: {round(acc.mean() * 100, 2)}% +- {round(acc.std() * 100, 2)}% - ' +\n",
    "          f'auc: {round(auc.mean() * 100, 2)}% +- {round(auc.std() * 100, 2)}%')\n",
    "    soft_accs.append(acc.mean())\n",
    "    soft_aucs.append(auc.mean())\n",
    "print(f'\\nSOFTIMPUTE GLOBAL - acc: {round(np.array(soft_accs).mean() * 100, 2)}% +- {round(np.array(soft_accs).std() * 100, 2)}% - ' +\n",
    "      f'auc: {round(np.array(soft_aucs).mean() * 100, 2)}% +- {round(np.array(soft_aucs).std() * 100, 2)}%')"
   ]
  },
  {
   "cell_type": "markdown",
   "metadata": {},
   "source": [
    "## Run SINKHORN"
   ]
  },
  {
   "cell_type": "code",
   "execution_count": 10,
   "metadata": {
    "execution": {
     "iopub.execute_input": "2022-06-03T19:45:35.118484Z",
     "iopub.status.busy": "2022-06-03T19:45:35.117575Z",
     "iopub.status.idle": "2022-06-03T19:50:56.976736Z",
     "shell.execute_reply": "2022-06-03T19:50:56.977124Z"
    }
   },
   "outputs": [
    {
     "name": "stdout",
     "output_type": "stream",
     "text": [
      "batchsize = 128, epsilon = 0.0100\n",
      "Iteration 0:\t Loss: 5.9800\n",
      "\n",
      "SINKHORN RUN 1/10 - acc: 69.27% +- 1.17% - auc: 73.45% +- 2.86%\n",
      "\n",
      "batchsize = 128, epsilon = 0.0100\n",
      "Iteration 0:\t Loss: 5.9946\n",
      "\n",
      "SINKHORN RUN 2/10 - acc: 69.62% +- 2.08% - auc: 74.6% +- 4.8%\n",
      "\n",
      "batchsize = 128, epsilon = 0.0100\n",
      "Iteration 0:\t Loss: 5.9565\n",
      "\n",
      "SINKHORN RUN 3/10 - acc: 71.45% +- 1.0% - auc: 76.87% +- 2.6%\n",
      "\n",
      "batchsize = 128, epsilon = 0.0100\n",
      "Iteration 0:\t Loss: 6.1261\n",
      "\n",
      "SINKHORN RUN 4/10 - acc: 72.13% +- 2.32% - auc: 76.36% +- 2.98%\n",
      "\n",
      "batchsize = 128, epsilon = 0.0100\n",
      "Iteration 0:\t Loss: 6.0931\n",
      "\n",
      "SINKHORN RUN 5/10 - acc: 70.61% +- 1.67% - auc: 74.39% +- 2.95%\n",
      "\n",
      "batchsize = 128, epsilon = 0.0100\n",
      "Iteration 0:\t Loss: 6.1518\n",
      "\n",
      "SINKHORN RUN 6/10 - acc: 71.24% +- 1.08% - auc: 76.5% +- 2.35%\n",
      "\n",
      "batchsize = 128, epsilon = 0.0100\n",
      "Iteration 0:\t Loss: 6.1586\n",
      "\n",
      "SINKHORN RUN 7/10 - acc: 70.71% +- 2.62% - auc: 74.71% +- 1.7%\n",
      "\n",
      "batchsize = 128, epsilon = 0.0100\n",
      "Iteration 0:\t Loss: 6.3045\n",
      "\n",
      "SINKHORN RUN 8/10 - acc: 70.86% +- 2.1% - auc: 75.2% +- 2.93%\n",
      "\n",
      "batchsize = 128, epsilon = 0.0100\n",
      "Iteration 0:\t Loss: 6.2100\n",
      "\n",
      "SINKHORN RUN 9/10 - acc: 68.67% +- 0.6% - auc: 74.31% +- 2.29%\n",
      "\n",
      "batchsize = 128, epsilon = 0.0100\n",
      "Iteration 0:\t Loss: 6.1429\n",
      "\n",
      "SINKHORN RUN 10/10 - acc: 69.64% +- 1.16% - auc: 75.11% +- 3.15%\n",
      "\n",
      "\n",
      "SINKHORN GLOBAL - acc: 70.42% +- 1.03% - auc: 75.15% +- 1.04%\n"
     ]
    }
   ],
   "source": [
    "sink_accs, sink_aucs = [], []\n",
    "for i in range(n_runs):\n",
    "    random.seed(i)\n",
    "    np.random.seed(i)\n",
    "    torch.manual_seed(i)\n",
    "    imputer = OTimputer(niter=500)\n",
    "    imputed = imputer.fit_transform(data_missing_nans).cpu().detach().numpy()\n",
    "    scores = utils.get_scores(imputed, y)\n",
    "    acc = scores['test_balanced_accuracy']\n",
    "    auc = scores['test_roc_auc_ovo']\n",
    "    print(f'\\nSINKHORN RUN {i + 1}/{n_runs} - acc: {round(acc.mean() * 100, 2)}% +- {round(acc.std() * 100, 2)}% - ' +\n",
    "          f'auc: {round(auc.mean() * 100, 2)}% +- {round(auc.std() * 100, 2)}%\\n')\n",
    "    sink_accs.append(acc.mean())\n",
    "    sink_aucs.append(auc.mean())\n",
    "print(f'\\nSINKHORN GLOBAL - acc: {round(np.array(sink_accs).mean() * 100, 2)}% +- {round(np.array(sink_accs).std() * 100, 2)}% - ' +\n",
    "      f'auc: {round(np.array(sink_aucs).mean() * 100, 2)}% +- {round(np.array(sink_aucs).std() * 100, 2)}%')"
   ]
  },
  {
   "cell_type": "markdown",
   "metadata": {},
   "source": [
    "## Run MIDA"
   ]
  },
  {
   "cell_type": "code",
   "execution_count": 11,
   "metadata": {
    "execution": {
     "iopub.execute_input": "2022-06-03T19:50:56.983706Z",
     "iopub.status.busy": "2022-06-03T19:50:56.983226Z",
     "iopub.status.idle": "2022-06-03T19:54:30.405788Z",
     "shell.execute_reply": "2022-06-03T19:54:30.405343Z"
    }
   },
   "outputs": [
    {
     "name": "stdout",
     "output_type": "stream",
     "text": [
      "Stop training at epoch: 1500/1500, return best output\n",
      "\n",
      "MIDA RUN 1/10 - acc: 68.24% +- 3.96% - auc: 71.19% +- 2.34%\n",
      "\n",
      "Stop training at epoch: 1500/1500, return best output\n",
      "\n",
      "MIDA RUN 2/10 - acc: 69.15% +- 3.11% - auc: 76.61% +- 2.45%\n",
      "\n",
      "Stop training at epoch: 1500/1500, return best output\n",
      "\n",
      "MIDA RUN 3/10 - acc: 70.17% +- 1.99% - auc: 76.17% +- 1.58%\n",
      "\n",
      "Stop training at epoch: 1500/1500, return best output\n",
      "\n",
      "MIDA RUN 4/10 - acc: 69.8% +- 2.52% - auc: 74.29% +- 2.67%\n",
      "\n",
      "Stop training at epoch: 1500/1500, return best output\n",
      "\n",
      "MIDA RUN 5/10 - acc: 68.09% +- 3.15% - auc: 73.16% +- 2.07%\n",
      "\n",
      "Stop training at epoch: 1500/1500, return best output\n",
      "\n",
      "MIDA RUN 6/10 - acc: 70.12% +- 3.98% - auc: 74.14% +- 3.33%\n",
      "\n",
      "Stop training at epoch: 1500/1500, return best output\n",
      "\n",
      "MIDA RUN 7/10 - acc: 70.36% +- 1.94% - auc: 74.7% +- 2.28%\n",
      "\n",
      "Stop training at epoch: 1500/1500, return best output\n",
      "\n",
      "MIDA RUN 8/10 - acc: 70.17% +- 1.97% - auc: 76.87% +- 2.74%\n",
      "\n",
      "Stop training at epoch: 1500/1500, return best output\n",
      "\n",
      "MIDA RUN 9/10 - acc: 69.45% +- 1.46% - auc: 75.36% +- 2.84%\n",
      "\n",
      "Stop training at epoch: 1500/1500, return best output\n",
      "\n",
      "MIDA RUN 10/10 - acc: 69.46% +- 3.22% - auc: 75.32% +- 1.52%\n",
      "\n",
      "\n",
      "MIDA GLOBAL - acc: 69.5% +- 0.76% - auc: 74.78% +- 1.63%\n"
     ]
    }
   ],
   "source": [
    "mida_accs, mida_aucs = [], []\n",
    "for i in range(n_runs):\n",
    "    random.seed(i)\n",
    "    np.random.seed(i)\n",
    "    torch.manual_seed(i)\n",
    "    imputed = mida(data_missing_nans, num_layers=2, num_epochs=1500)\n",
    "    imputed = np.where(missing_mask, data_missing, imputed)\n",
    "    scores = utils.get_scores(imputed, y)\n",
    "    acc = scores['test_balanced_accuracy']\n",
    "    auc = scores['test_roc_auc_ovo']\n",
    "    print(f'\\nMIDA RUN {i + 1}/{n_runs} - acc: {round(acc.mean() * 100, 2)}% +- {round(acc.std() * 100, 2)}% - ' +\n",
    "          f'auc: {round(auc.mean() * 100, 2)}% +- {round(auc.std() * 100, 2)}%\\n')\n",
    "    mida_accs.append(acc.mean())\n",
    "    mida_aucs.append(auc.mean())\n",
    "print(f'\\nMIDA GLOBAL - acc: {round(np.array(mida_accs).mean() * 100, 2)}% +- {round(np.array(mida_accs).std() * 100, 2)}% - ' +\n",
    "      f'auc: {round(np.array(mida_aucs).mean() * 100, 2)}% +- {round(np.array(mida_aucs).std() * 100, 2)}%')"
   ]
  },
  {
   "cell_type": "markdown",
   "metadata": {},
   "source": [
    "## Run T-tests"
   ]
  },
  {
   "cell_type": "code",
   "execution_count": 12,
   "metadata": {
    "ExecuteTime": {
     "end_time": "2022-06-03T08:13:33.583163Z",
     "start_time": "2022-06-03T08:13:33.583140Z"
    },
    "execution": {
     "iopub.execute_input": "2022-06-03T19:54:30.418181Z",
     "iopub.status.busy": "2022-06-03T19:54:30.417476Z",
     "iopub.status.idle": "2022-06-03T19:54:30.423228Z",
     "shell.execute_reply": "2022-06-03T19:54:30.422351Z"
    },
    "scrolled": false
   },
   "outputs": [
    {
     "name": "stdout",
     "output_type": "stream",
     "text": [
      "Metric ACC - OUR METHOD is significantly better than MEDIAN\n",
      "Metric AUC - OUR METHOD is significantly better than MEDIAN\n",
      "Metric ACC - OUR METHOD is significantly worse than MEAN\n",
      "Metric AUC - OUR METHOD is significantly better than MEAN\n",
      "Metric ACC - OUR METHOD is significantly better than KNN\n",
      "Metric AUC - OUR METHOD is significantly better than KNN\n",
      "Metric ACC - OUR METHOD is significantly better than GAIN\n",
      "Metric AUC - OUR METHOD is significantly better than GAIN\n",
      "Metric ACC - OUR METHOD is even with MICE\n",
      "Metric AUC - OUR METHOD is significantly better than MICE\n",
      "Metric ACC - OUR METHOD is significantly better than MISS\n",
      "Metric AUC - OUR METHOD is significantly better than MISS\n",
      "Metric ACC - OUR METHOD is even with SOFT\n",
      "Metric AUC - OUR METHOD is significantly better than SOFT\n",
      "Metric ACC - OUR METHOD is significantly better than SINK\n",
      "Metric AUC - OUR METHOD is significantly better than SINK\n",
      "Metric ACC - OUR METHOD is significantly better than MIDA\n",
      "Metric AUC - OUR METHOD is significantly better than MIDA\n"
     ]
    }
   ],
   "source": [
    "for model, metrics in {\n",
    "        'MEDIAN': {'ACC': median_accs, 'AUC': median_aucs},\n",
    "        'MEAN': {'ACC': mean_accs, 'AUC': mean_aucs},\n",
    "        'KNN': {'ACC': knn_accs, 'AUC': knn_aucs},\n",
    "        'GAIN': {'ACC': gain_accs, 'AUC': gain_aucs},\n",
    "        'MICE': {'ACC': mice_accs, 'AUC': mice_aucs},\n",
    "        'MISS': {'ACC': miss_accs, 'AUC': miss_aucs},\n",
    "        'SOFT': {'ACC': soft_accs, 'AUC': soft_aucs},\n",
    "        'SINK': {'ACC': sink_accs, 'AUC': sink_aucs},\n",
    "        'MIDA': {'ACC': mida_accs, 'AUC': mida_aucs}}.items():\n",
    "    for metric_name, metric in metrics.items():\n",
    "        ours_metric = ours_accs if metric_name == 'ACC' else ours_aucs\n",
    "        t, p = scipy.stats.ttest_ind(np.array(ours_metric), np.array(metric))\n",
    "        if p <= .05:\n",
    "            if t > 0:\n",
    "                ## Our method is better\n",
    "                print(f'Metric {metric_name} - OUR METHOD is significantly better than {model}')\n",
    "            else:\n",
    "                ## Theirs is better\n",
    "                print(f'Metric {metric_name} - OUR METHOD is significantly worse than {model}')\n",
    "        else:\n",
    "            ## Else we are even\n",
    "            print(f'Metric {metric_name} - OUR METHOD is even with {model}')"
   ]
  }
 ],
 "metadata": {
  "kernelspec": {
   "display_name": "Python 3 (ipykernel)",
   "language": "python",
   "name": "python3"
  },
  "language_info": {
   "codemirror_mode": {
    "name": "ipython",
    "version": 3
   },
   "file_extension": ".py",
   "mimetype": "text/x-python",
   "name": "python",
   "nbconvert_exporter": "python",
   "pygments_lexer": "ipython3",
   "version": "3.9.7"
  },
  "latex_envs": {
   "LaTeX_envs_menu_present": true,
   "autoclose": false,
   "autocomplete": true,
   "bibliofile": "biblio.bib",
   "cite_by": "apalike",
   "current_citInitial": 1,
   "eqLabelWithNumbers": true,
   "eqNumInitial": 1,
   "hotkeys": {
    "equation": "Ctrl-E",
    "itemize": "Ctrl-I"
   },
   "labels_anchors": false,
   "latex_user_defs": false,
   "report_style_numbering": false,
   "user_envs_cfg": false
  }
 },
 "nbformat": 4,
 "nbformat_minor": 2
}
