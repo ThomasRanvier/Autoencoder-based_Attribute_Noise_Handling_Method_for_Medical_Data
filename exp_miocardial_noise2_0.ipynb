{
 "cells": [
  {
   "cell_type": "code",
   "execution_count": 1,
   "metadata": {
    "ExecuteTime": {
     "end_time": "2022-06-07T08:11:39.412870Z",
     "start_time": "2022-06-07T08:11:35.692131Z"
    },
    "execution": {
     "iopub.execute_input": "2022-06-07T10:30:39.329713Z",
     "iopub.status.busy": "2022-06-07T10:30:39.328340Z",
     "iopub.status.idle": "2022-06-07T10:30:42.606567Z",
     "shell.execute_reply": "2022-06-07T10:30:42.600673Z"
    }
   },
   "outputs": [],
   "source": [
    "from __future__ import print_function\n",
    "import warnings\n",
    "warnings.filterwarnings('ignore')\n",
    "## Disable tf future deprecated messages\n",
    "import logging\n",
    "logging.getLogger('tensorflow').disabled = True\n",
    "## Disable tf CUDA messages\n",
    "import os\n",
    "os.environ['TF_CPP_MIN_LOG_LEVEL'] = '3'\n",
    "\n",
    "%matplotlib inline\n",
    "\n",
    "import sys\n",
    "import random\n",
    "import numpy as np\n",
    "import pandas as pd\n",
    "\n",
    "import utils\n",
    "import correction\n",
    "from models.dense import *\n",
    "from models.gain import gain\n",
    "from models.soft_impute import SoftImpute\n",
    "from models.sinkhorn import OTimputer\n",
    "from models.mida import mida\n",
    "from models.polishing import polishing\n",
    "from models.filtering import filtering\n",
    "\n",
    "import scipy.stats\n",
    "\n",
    "from sklearn.experimental import enable_iterative_imputer\n",
    "from sklearn.impute import IterativeImputer\n",
    "from sklearn.impute import KNNImputer, SimpleImputer\n",
    "\n",
    "import sklearn.neighbors._base\n",
    "sys.modules['sklearn.neighbors.base'] = sklearn.neighbors._base\n",
    "from missingpy import MissForest\n",
    "\n",
    "torch.backends.cudnn.enabled = True\n",
    "torch.backends.cudnn.benchmark = True\n",
    "dtype = torch.cuda.FloatTensor"
   ]
  },
  {
   "cell_type": "markdown",
   "metadata": {},
   "source": [
    "## Repeat all experiments for 10 runs"
   ]
  },
  {
   "cell_type": "code",
   "execution_count": 2,
   "metadata": {
    "ExecuteTime": {
     "end_time": "2022-06-07T08:11:39.417491Z",
     "start_time": "2022-06-07T08:11:39.415081Z"
    },
    "execution": {
     "iopub.execute_input": "2022-06-07T10:30:42.610972Z",
     "iopub.status.busy": "2022-06-07T10:30:42.610558Z",
     "iopub.status.idle": "2022-06-07T10:30:42.613788Z",
     "shell.execute_reply": "2022-06-07T10:30:42.613427Z"
    }
   },
   "outputs": [],
   "source": [
    "n_runs = 10"
   ]
  },
  {
   "cell_type": "markdown",
   "metadata": {},
   "source": [
    "## Load data"
   ]
  },
  {
   "cell_type": "code",
   "execution_count": 3,
   "metadata": {
    "ExecuteTime": {
     "end_time": "2022-06-07T08:11:41.218694Z",
     "start_time": "2022-06-07T08:11:39.419632Z"
    },
    "execution": {
     "iopub.execute_input": "2022-06-07T10:30:42.619063Z",
     "iopub.status.busy": "2022-06-07T10:30:42.618540Z",
     "iopub.status.idle": "2022-06-07T10:30:42.804665Z",
     "shell.execute_reply": "2022-06-07T10:30:42.805724Z"
    }
   },
   "outputs": [
    {
     "name": "stdout",
     "output_type": "stream",
     "text": [
      "Dataset shape: (1700, 110)\n",
      "5.62% missing data\n",
      "Class distribution: (array([0, 1]), array([1429,  271]))\n"
     ]
    }
   ],
   "source": [
    "data_missing, missing_mask, y = utils.load_miocardial()\n",
    "## Inject noise\n",
    "data_missing = utils.inject_noise(data_missing.copy(), noise_rate=0.)\n",
    "## Replace missing values locations by 0\n",
    "data_missing = data_missing * missing_mask"
   ]
  },
  {
   "cell_type": "markdown",
   "metadata": {},
   "source": [
    "## Run OUR METHOD"
   ]
  },
  {
   "cell_type": "code",
   "execution_count": 4,
   "metadata": {
    "ExecuteTime": {
     "end_time": "2022-06-07T08:25:41.124140Z",
     "start_time": "2022-06-07T08:11:41.222736Z"
    },
    "execution": {
     "iopub.execute_input": "2022-06-07T10:30:42.815911Z",
     "iopub.status.busy": "2022-06-07T10:30:42.815022Z",
     "iopub.status.idle": "2022-06-07T10:39:53.685899Z",
     "shell.execute_reply": "2022-06-07T10:39:53.684381Z"
    },
    "scrolled": false
   },
   "outputs": [
    {
     "name": "stdout",
     "output_type": "stream",
     "text": [
      "Ite 00000 - 2.38 sec - Loss 0.243613 - ACC 77.61% - ACC Mean 77.61% - AUC 85.66% - AUC Mean 85.66% - Deter 000\n",
      "Ite 00050 - 0.82 sec - Loss 0.122702 - ACC 78.07% - ACC Mean 77.68% - AUC 84.32% - AUC Mean 84.01% - Deter 047\n",
      "Ite 00053 - 0.96 sec - Loss 0.120403 - ACC 77.91% - ACC Mean 77.71% - AUC 84.30% - AUC Mean 83.87% - Deter 050\n",
      "Early stop ite 53, rollback to correction of ite 3, whith acc of 77.07% and auc of 86.4%\n",
      "OUR METHOD RUN 1/10 - acc: 77.07% +- 0.0% - auc: 86.4% +- 0.0%\n",
      "Ite 00000 - 0.83 sec - Loss 0.247092 - ACC 78.02% - ACC Mean 78.02% - AUC 85.75% - AUC Mean 85.75% - Deter 000\n",
      "Ite 00050 - 0.88 sec - Loss 0.130608 - ACC 78.19% - ACC Mean 78.16% - AUC 84.35% - AUC Mean 84.47% - Deter 050\n",
      "Early stop ite 50, rollback to correction of ite 0, whith acc of 78.02% and auc of 85.75%\n",
      "OUR METHOD RUN 2/10 - acc: 78.02% +- 0.0% - auc: 85.75% +- 0.0%\n",
      "Ite 00000 - 0.85 sec - Loss 0.218782 - ACC 75.94% - ACC Mean 75.94% - AUC 85.19% - AUC Mean 85.19% - Deter 000\n",
      "Ite 00050 - 0.82 sec - Loss 0.110387 - ACC 78.03% - ACC Mean 77.74% - AUC 83.72% - AUC Mean 83.79% - Deter 047\n",
      "Ite 00053 - 1.03 sec - Loss 0.108083 - ACC 78.33% - ACC Mean 77.79% - AUC 85.45% - AUC Mean 83.70% - Deter 050\n",
      "Early stop ite 53, rollback to correction of ite 3, whith acc of 78.04% and auc of 86.39%\n",
      "OUR METHOD RUN 3/10 - acc: 78.04% +- 0.0% - auc: 86.39% +- 0.0%\n",
      "Ite 00000 - 0.85 sec - Loss 0.179567 - ACC 75.46% - ACC Mean 75.46% - AUC 86.38% - AUC Mean 86.38% - Deter 000\n",
      "Ite 00050 - 0.94 sec - Loss 0.089986 - ACC 76.74% - ACC Mean 76.60% - AUC 86.32% - AUC Mean 85.01% - Deter 034\n",
      "Ite 00066 - 0.84 sec - Loss 0.082289 - ACC 76.66% - ACC Mean 76.89% - AUC 85.25% - AUC Mean 85.06% - Deter 050\n",
      "Early stop ite 66, rollback to correction of ite 16, whith acc of 76.22% and auc of 87.01%\n",
      "OUR METHOD RUN 4/10 - acc: 76.22% +- 0.0% - auc: 87.01% +- 0.0%\n",
      "Ite 00000 - 0.89 sec - Loss 0.247643 - ACC 76.55% - ACC Mean 76.55% - AUC 85.27% - AUC Mean 85.27% - Deter 000\n",
      "Ite 00050 - 0.95 sec - Loss 0.127191 - ACC 77.36% - ACC Mean 77.14% - AUC 83.77% - AUC Mean 84.39% - Deter 042\n",
      "Ite 00058 - 0.91 sec - Loss 0.119867 - ACC 77.29% - ACC Mean 77.36% - AUC 84.90% - AUC Mean 84.33% - Deter 050\n",
      "Early stop ite 58, rollback to correction of ite 8, whith acc of 76.84% and auc of 86.42%\n",
      "OUR METHOD RUN 5/10 - acc: 76.84% +- 0.0% - auc: 86.42% +- 0.0%\n",
      "Ite 00000 - 0.82 sec - Loss 0.229334 - ACC 77.41% - ACC Mean 77.41% - AUC 85.72% - AUC Mean 85.72% - Deter 000\n",
      "Ite 00050 - 0.74 sec - Loss 0.137028 - ACC 78.66% - ACC Mean 77.33% - AUC 83.85% - AUC Mean 84.60% - Deter 032\n",
      "Ite 00068 - 0.85 sec - Loss 0.125976 - ACC 78.21% - ACC Mean 77.34% - AUC 85.08% - AUC Mean 84.37% - Deter 050\n",
      "Early stop ite 68, rollback to correction of ite 18, whith acc of 79.29% and auc of 86.22%\n",
      "OUR METHOD RUN 6/10 - acc: 79.29% +- 0.0% - auc: 86.22% +- 0.0%\n",
      "Ite 00000 - 0.91 sec - Loss 0.249050 - ACC 76.79% - ACC Mean 76.79% - AUC 83.92% - AUC Mean 83.92% - Deter 000\n",
      "Ite 00050 - 0.70 sec - Loss 0.136733 - ACC 77.60% - ACC Mean 77.54% - AUC 83.25% - AUC Mean 83.79% - Deter 049\n",
      "Ite 00051 - 0.83 sec - Loss 0.136090 - ACC 78.08% - ACC Mean 77.57% - AUC 83.51% - AUC Mean 83.74% - Deter 050\n",
      "Early stop ite 51, rollback to correction of ite 1, whith acc of 76.74% and auc of 86.02%\n",
      "OUR METHOD RUN 7/10 - acc: 76.74% +- 0.0% - auc: 86.02% +- 0.0%\n",
      "Ite 00000 - 0.86 sec - Loss 0.245503 - ACC 76.08% - ACC Mean 76.08% - AUC 83.65% - AUC Mean 83.65% - Deter 000\n",
      "Ite 00050 - 0.81 sec - Loss 0.127836 - ACC 78.72% - ACC Mean 77.24% - AUC 85.06% - AUC Mean 83.78% - Deter 047\n",
      "Ite 00053 - 0.84 sec - Loss 0.125493 - ACC 77.28% - ACC Mean 77.26% - AUC 84.59% - AUC Mean 83.79% - Deter 050\n",
      "Early stop ite 53, rollback to correction of ite 3, whith acc of 78.28% and auc of 85.71%\n",
      "OUR METHOD RUN 8/10 - acc: 78.28% +- 0.0% - auc: 85.71% +- 0.0%\n",
      "Ite 00000 - 0.86 sec - Loss 0.196877 - ACC 77.37% - ACC Mean 77.37% - AUC 85.60% - AUC Mean 85.60% - Deter 000\n",
      "Ite 00050 - 0.87 sec - Loss 0.101197 - ACC 77.87% - ACC Mean 77.12% - AUC 85.04% - AUC Mean 85.12% - Deter 007\n",
      "Ite 00093 - 0.78 sec - Loss 0.081424 - ACC 77.68% - ACC Mean 77.28% - AUC 85.83% - AUC Mean 85.26% - Deter 050\n",
      "Early stop ite 93, rollback to correction of ite 43, whith acc of 78.38% and auc of 87.26%\n",
      "OUR METHOD RUN 9/10 - acc: 78.38% +- 0.0% - auc: 87.26% +- 0.0%\n",
      "Ite 00000 - 0.75 sec - Loss 0.228376 - ACC 77.36% - ACC Mean 77.36% - AUC 83.09% - AUC Mean 83.09% - Deter 000\n",
      "Ite 00050 - 0.84 sec - Loss 0.121015 - ACC 78.07% - ACC Mean 78.06% - AUC 83.89% - AUC Mean 83.93% - Deter 037\n",
      "Ite 00063 - 0.89 sec - Loss 0.113360 - ACC 77.69% - ACC Mean 78.11% - AUC 84.35% - AUC Mean 83.91% - Deter 050\n",
      "Early stop ite 63, rollback to correction of ite 13, whith acc of 80.1% and auc of 85.67%\n",
      "OUR METHOD RUN 10/10 - acc: 80.1% +- 0.0% - auc: 85.67% +- 0.0%\n",
      "\n",
      "OUR METHOD GLOBAL - acc: 77.9% +- 1.15% - auc: 86.29% +- 0.51%\n"
     ]
    }
   ],
   "source": [
    "params = {\n",
    "    'nb_batches': 10,\n",
    "    'reg_noise_std': .03,\n",
    "    'net_input': 'data_corrupted',\n",
    "    'net_params': {\n",
    "        'input_channels':1,\n",
    "        'output_channels':1,\n",
    "        'channels_skip':4,\n",
    "        'down_layers':[(24, 7, 2),\n",
    "                       (46, 9, 1),\n",
    "                       (96, 9, 5),\n",
    "                       (96, 11, 1)],\n",
    "        'need_sigmoid':True,\n",
    "        'need_bias':True,\n",
    "        'pad':'zero',\n",
    "        'downsample_mode':'stride',\n",
    "        'upsample_mode':'nearest',\n",
    "        'act_fun':'LeakyReLU',\n",
    "        'need1x1_up':True\n",
    "    },# or a list containing layers sizes\n",
    "    'adam_lr': .0001,\n",
    "    'adam_weight_decay': 0.,\n",
    "}\n",
    "\n",
    "ours_accs, ours_aucs = [], []\n",
    "for i in range(n_runs):\n",
    "    ours_correction = correction.run(data_missing, 501, params, y=y, missing_mask=missing_mask, seed=i)\n",
    "    ## Since our method returns 2 imputations select the best one\n",
    "    scores_raw = utils.get_scores(ours_correction['raw_out'], y)\n",
    "    acc = scores_raw['test_balanced_accuracy']\n",
    "    auc = scores_raw['test_roc_auc_ovo']\n",
    "    acc = acc.mean()\n",
    "    acc_std = acc.std()\n",
    "    auc = auc.mean()\n",
    "    auc_std = auc.std()\n",
    "    if 'masked_out' in ours_correction:\n",
    "        scores_masked = utils.get_scores(ours_correction['masked_out'], y)\n",
    "        acc_masked = scores_masked['test_balanced_accuracy']\n",
    "        auc_masked = scores_masked['test_roc_auc_ovo']\n",
    "        if auc_masked.mean() > auc:\n",
    "            acc = acc_masked.mean()\n",
    "            acc_std = acc_masked.std()\n",
    "            auc = auc_masked.mean()\n",
    "            auc_std = auc_masked.std()\n",
    "    print(f'OUR METHOD RUN {i + 1}/{n_runs} - acc: {round(acc.mean() * 100, 2)}% +- {round(acc.std() * 100, 2)}% - ' +\n",
    "          f'auc: {round(auc.mean() * 100, 2)}% +- {round(auc.std() * 100, 2)}%')\n",
    "    ours_accs.append(acc.mean())\n",
    "    ours_aucs.append(auc.mean())\n",
    "print(f'\\nOUR METHOD GLOBAL - acc: {round(np.array(ours_accs).mean() * 100, 2)}% +- {round(np.array(ours_accs).std() * 100, 2)}% - ' +\n",
    "      f'auc: {round(np.array(ours_aucs).mean() * 100, 2)}% +- {round(np.array(ours_aucs).std() * 100, 2)}%')"
   ]
  },
  {
   "cell_type": "markdown",
   "metadata": {},
   "source": [
    "## Run MICE"
   ]
  },
  {
   "cell_type": "code",
   "execution_count": 5,
   "metadata": {
    "ExecuteTime": {
     "end_time": "2022-06-07T08:25:47.812154Z",
     "start_time": "2022-06-07T08:25:41.125881Z"
    },
    "execution": {
     "iopub.execute_input": "2022-06-07T10:39:53.691825Z",
     "iopub.status.busy": "2022-06-07T10:39:53.691048Z",
     "iopub.status.idle": "2022-06-07T10:54:25.831238Z",
     "shell.execute_reply": "2022-06-07T10:54:25.831598Z"
    }
   },
   "outputs": [
    {
     "name": "stdout",
     "output_type": "stream",
     "text": [
      "MICE - acc: 76.55% +- 0.0% - auc: 81.39% +- 0.0%\n"
     ]
    }
   ],
   "source": [
    "data_missing_nans = np.where(missing_mask, data_missing, np.nan)\n",
    "\n",
    "imputer = IterativeImputer()\n",
    "imputed = imputer.fit_transform(data_missing_nans)\n",
    "## All runs would be the same since deterministic method\n",
    "scores = utils.get_scores(imputed, y)\n",
    "acc = [scores['test_balanced_accuracy'].mean()] * n_runs\n",
    "auc = [scores['test_roc_auc_ovo'].mean()] * n_runs\n",
    "print(f'MICE - acc: {round(np.mean(acc) * 100, 2)}% +- {round(np.std(acc) * 100, 2)}% - ' +\n",
    "      f'auc: {round(np.mean(auc) * 100, 2)}% +- {round(np.std(auc) * 100, 2)}%')\n",
    "mice_accs = acc\n",
    "mice_aucs = auc"
   ]
  },
  {
   "cell_type": "markdown",
   "metadata": {},
   "source": [
    "## Run SFIL"
   ]
  },
  {
   "cell_type": "code",
   "execution_count": 6,
   "metadata": {
    "ExecuteTime": {
     "end_time": "2022-06-07T08:25:49.133209Z",
     "start_time": "2022-06-07T08:25:47.813384Z"
    },
    "execution": {
     "iopub.execute_input": "2022-06-07T10:54:25.837550Z",
     "iopub.status.busy": "2022-06-07T10:54:25.837068Z",
     "iopub.status.idle": "2022-06-07T10:54:50.311792Z",
     "shell.execute_reply": "2022-06-07T10:54:50.312337Z"
    }
   },
   "outputs": [
    {
     "name": "stdout",
     "output_type": "stream",
     "text": [
      "SFIL RUN 1/10 - acc: 57.91% +- 3.82% - auc: 64.49% +- 4.51%\n",
      "SFIL RUN 2/10 - acc: 59.62% +- 4.91% - auc: 64.35% +- 2.34%\n",
      "SFIL RUN 3/10 - acc: 57.07% +- 2.89% - auc: 64.07% +- 5.69%\n",
      "SFIL RUN 4/10 - acc: 56.76% +- 1.91% - auc: 66.63% +- 4.01%\n",
      "SFIL RUN 5/10 - acc: 57.83% +- 0.83% - auc: 67.43% +- 4.78%\n",
      "SFIL RUN 6/10 - acc: 58.31% +- 1.14% - auc: 63.88% +- 1.85%\n",
      "SFIL RUN 7/10 - acc: 57.84% +- 2.43% - auc: 66.31% +- 2.9%\n",
      "SFIL RUN 8/10 - acc: 57.82% +- 1.16% - auc: 64.8% +- 1.49%\n",
      "SFIL RUN 9/10 - acc: 59.79% +- 6.03% - auc: 64.84% +- 4.93%\n",
      "SFIL RUN 10/10 - acc: 57.82% +- 1.99% - auc: 65.1% +- 5.03%\n",
      "SFIL GLOBAL - acc: 58.08% +- 0.92% - auc: 65.19% +- 1.13%\n"
     ]
    }
   ],
   "source": [
    "sfil_accs, sfil_aucs = [], []\n",
    "for i in range(n_runs):\n",
    "    acc, auc = filtering(imputed, y, mode='standard', random_state=i)\n",
    "    sfil_accs.append(acc.mean())\n",
    "    sfil_aucs.append(auc.mean())\n",
    "    print(f'SFIL RUN {i + 1}/{n_runs} - acc: {round(np.mean(acc) * 100, 2)}% +- {round(np.std(acc) * 100, 2)}% - ' +\n",
    "          f'auc: {round(np.mean(auc) * 100, 2)}% +- {round(np.std(auc) * 100, 2)}%')\n",
    "print(f'SFIL GLOBAL - acc: {round(np.mean(sfil_accs) * 100, 2)}% +- {round(np.std(sfil_accs) * 100, 2)}% - ' +\n",
    "      f'auc: {round(np.mean(sfil_aucs) * 100, 2)}% +- {round(np.std(sfil_aucs) * 100, 2)}%')"
   ]
  },
  {
   "cell_type": "markdown",
   "metadata": {},
   "source": [
    "## Run PFIL"
   ]
  },
  {
   "cell_type": "code",
   "execution_count": 7,
   "metadata": {
    "ExecuteTime": {
     "end_time": "2022-06-07T08:35:09.194980Z",
     "start_time": "2022-06-07T08:25:49.134766Z"
    },
    "execution": {
     "iopub.execute_input": "2022-06-07T10:54:50.319638Z",
     "iopub.status.busy": "2022-06-07T10:54:50.314633Z",
     "iopub.status.idle": "2022-06-07T13:23:33.740082Z",
     "shell.execute_reply": "2022-06-07T13:23:33.741127Z"
    },
    "scrolled": false
   },
   "outputs": [
    {
     "name": "stdout",
     "output_type": "stream",
     "text": [
      "PFIL RUN 1/10 - acc: 74.55% +- 2.98% - auc: 83.83% +- 2.64%\n",
      "PFIL RUN 2/10 - acc: 72.98% +- 3.11% - auc: 82.08% +- 2.63%\n",
      "PFIL RUN 3/10 - acc: 75.37% +- 3.4% - auc: 83.54% +- 2.77%\n",
      "PFIL RUN 4/10 - acc: 73.26% +- 1.59% - auc: 83.68% +- 2.09%\n",
      "PFIL RUN 5/10 - acc: 73.98% +- 3.88% - auc: 84.42% +- 3.12%\n",
      "PFIL RUN 6/10 - acc: 74.79% +- 3.91% - auc: 82.97% +- 2.87%\n",
      "PFIL RUN 7/10 - acc: 74.31% +- 3.3% - auc: 84.02% +- 3.41%\n",
      "PFIL RUN 8/10 - acc: 73.34% +- 3.61% - auc: 84.5% +- 4.52%\n",
      "PFIL RUN 9/10 - acc: 74.17% +- 3.27% - auc: 81.03% +- 1.22%\n",
      "PFIL RUN 10/10 - acc: 74.48% +- 2.55% - auc: 82.8% +- 3.3%\n",
      "PFIL GLOBAL - acc: 74.12% +- 0.71% - auc: 83.28% +- 1.03%\n"
     ]
    }
   ],
   "source": [
    "pfil_accs, pfil_aucs = [], []\n",
    "for i in range(n_runs):\n",
    "    acc, auc = filtering(imputed, y, mode='panda', random_state=i)\n",
    "    pfil_accs.append(acc.mean())\n",
    "    pfil_aucs.append(auc.mean())\n",
    "    print(f'PFIL RUN {i + 1}/{n_runs} - acc: {round(np.mean(acc) * 100, 2)}% +- {round(np.std(acc) * 100, 2)}% - ' +\n",
    "          f'auc: {round(np.mean(auc) * 100, 2)}% +- {round(np.std(auc) * 100, 2)}%')\n",
    "print(f'PFIL GLOBAL - acc: {round(np.mean(pfil_accs) * 100, 2)}% +- {round(np.std(pfil_accs) * 100, 2)}% - ' +\n",
    "      f'auc: {round(np.mean(pfil_aucs) * 100, 2)}% +- {round(np.std(pfil_aucs) * 100, 2)}%')"
   ]
  },
  {
   "cell_type": "markdown",
   "metadata": {},
   "source": [
    "## Run SPOL"
   ]
  },
  {
   "cell_type": "code",
   "execution_count": 8,
   "metadata": {
    "ExecuteTime": {
     "end_time": "2022-06-07T08:50:33.353751Z",
     "start_time": "2022-06-07T08:49:36.684786Z"
    },
    "execution": {
     "iopub.execute_input": "2022-06-07T13:23:33.750211Z",
     "iopub.status.busy": "2022-06-07T13:23:33.748943Z",
     "iopub.status.idle": "2022-06-07T13:24:33.362795Z",
     "shell.execute_reply": "2022-06-07T13:24:33.362380Z"
    }
   },
   "outputs": [
    {
     "name": "stdout",
     "output_type": "stream",
     "text": [
      "SPOL RUN 1/10 - acc: 63.79% +- 5.47% - auc: 69.28% +- 6.42%\n",
      "SPOL RUN 2/10 - acc: 61.39% +- 2.91% - auc: 66.62% +- 3.18%\n",
      "SPOL RUN 3/10 - acc: 63.85% +- 6.5% - auc: 68.7% +- 4.22%\n",
      "SPOL RUN 4/10 - acc: 65.08% +- 7.5% - auc: 69.4% +- 7.15%\n",
      "SPOL RUN 5/10 - acc: 68.33% +- 5.26% - auc: 73.52% +- 5.09%\n",
      "SPOL RUN 6/10 - acc: 64.64% +- 3.82% - auc: 68.93% +- 2.35%\n",
      "SPOL RUN 7/10 - acc: 64.59% +- 6.78% - auc: 67.55% +- 7.58%\n",
      "SPOL RUN 8/10 - acc: 69.37% +- 5.24% - auc: 74.12% +- 5.94%\n",
      "SPOL RUN 9/10 - acc: 67.4% +- 6.76% - auc: 72.53% +- 3.51%\n",
      "SPOL RUN 10/10 - acc: 66.77% +- 6.24% - auc: 70.27% +- 7.42%\n",
      "SPOL GLOBAL - acc: 65.52% +- 2.29% - auc: 70.09% +- 2.39%\n"
     ]
    }
   ],
   "source": [
    "spol_accs, spol_aucs = [], []\n",
    "for i in range(n_runs):\n",
    "    acc, auc = polishing(imputed, y, mode='standard', random_state=i)\n",
    "    spol_accs.append(acc.mean())\n",
    "    spol_aucs.append(auc.mean())\n",
    "    print(f'SPOL RUN {i + 1}/{n_runs} - acc: {round(np.mean(acc) * 100, 2)}% +- {round(np.std(acc) * 100, 2)}% - ' +\n",
    "          f'auc: {round(np.mean(auc) * 100, 2)}% +- {round(np.std(auc) * 100, 2)}%')\n",
    "print(f'SPOL GLOBAL - acc: {round(np.mean(spol_accs) * 100, 2)}% +- {round(np.std(spol_accs) * 100, 2)}% - ' +\n",
    "      f'auc: {round(np.mean(spol_aucs) * 100, 2)}% +- {round(np.std(spol_aucs) * 100, 2)}%')"
   ]
  },
  {
   "cell_type": "markdown",
   "metadata": {},
   "source": [
    "## Run PPOL"
   ]
  },
  {
   "cell_type": "code",
   "execution_count": 9,
   "metadata": {
    "ExecuteTime": {
     "end_time": "2022-06-07T08:52:24.306737Z",
     "start_time": "2022-06-07T08:50:33.355178Z"
    },
    "execution": {
     "iopub.execute_input": "2022-06-07T13:24:33.375313Z",
     "iopub.status.busy": "2022-06-07T13:24:33.373107Z",
     "iopub.status.idle": "2022-06-07T15:45:39.643845Z",
     "shell.execute_reply": "2022-06-07T15:45:39.643375Z"
    }
   },
   "outputs": [
    {
     "name": "stdout",
     "output_type": "stream",
     "text": [
      "PPOL RUN 1/10 - acc: 73.57% +- 3.37% - auc: 83.3% +- 4.56%\n",
      "PPOL RUN 2/10 - acc: 73.4% +- 3.66% - auc: 81.65% +- 4.64%\n",
      "PPOL RUN 3/10 - acc: 77.09% +- 2.98% - auc: 83.88% +- 2.7%\n",
      "PPOL RUN 4/10 - acc: 74.61% +- 3.81% - auc: 84.28% +- 2.32%\n",
      "PPOL RUN 5/10 - acc: 74.65% +- 2.6% - auc: 83.87% +- 1.68%\n",
      "PPOL RUN 6/10 - acc: 75.08% +- 4.29% - auc: 84.11% +- 3.29%\n",
      "PPOL RUN 7/10 - acc: 74.26% +- 4.41% - auc: 82.61% +- 1.97%\n",
      "PPOL RUN 8/10 - acc: 73.16% +- 2.99% - auc: 82.49% +- 2.81%\n",
      "PPOL RUN 9/10 - acc: 72.44% +- 2.49% - auc: 81.21% +- 2.4%\n",
      "PPOL RUN 10/10 - acc: 76.16% +- 2.54% - auc: 83.74% +- 2.35%\n",
      "PPOL GLOBAL - acc: 74.44% +- 1.34% - auc: 83.11% +- 1.02%\n"
     ]
    }
   ],
   "source": [
    "ppol_accs, ppol_aucs = [], []\n",
    "for i in range(n_runs):\n",
    "    acc, auc = polishing(imputed, y, mode='panda', random_state=i)\n",
    "    ppol_accs.append(acc.mean())\n",
    "    ppol_aucs.append(auc.mean())\n",
    "    print(f'PPOL RUN {i + 1}/{n_runs} - acc: {round(np.mean(acc) * 100, 2)}% +- {round(np.std(acc) * 100, 2)}% - ' +\n",
    "          f'auc: {round(np.mean(auc) * 100, 2)}% +- {round(np.std(auc) * 100, 2)}%')\n",
    "print(f'PPOL GLOBAL - acc: {round(np.mean(ppol_accs) * 100, 2)}% +- {round(np.std(ppol_accs) * 100, 2)}% - ' +\n",
    "      f'auc: {round(np.mean(ppol_aucs) * 100, 2)}% +- {round(np.std(ppol_aucs) * 100, 2)}%')"
   ]
  },
  {
   "cell_type": "markdown",
   "metadata": {},
   "source": [
    "## Run T-tests"
   ]
  },
  {
   "cell_type": "code",
   "execution_count": 10,
   "metadata": {
    "ExecuteTime": {
     "end_time": "2022-06-07T08:52:25.983958Z",
     "start_time": "2022-06-07T08:52:25.963898Z"
    },
    "execution": {
     "iopub.execute_input": "2022-06-07T15:45:39.653203Z",
     "iopub.status.busy": "2022-06-07T15:45:39.649852Z",
     "iopub.status.idle": "2022-06-07T15:45:39.655471Z",
     "shell.execute_reply": "2022-06-07T15:45:39.655897Z"
    },
    "scrolled": false
   },
   "outputs": [
    {
     "name": "stdout",
     "output_type": "stream",
     "text": [
      "Metric ACC - OUR METHOD is significantly better than MICE\n",
      "Metric AUC - OUR METHOD is significantly better than MICE\n",
      "Metric ACC - OUR METHOD is significantly better than SFIL\n",
      "Metric AUC - OUR METHOD is significantly better than SFIL\n",
      "Metric ACC - OUR METHOD is significantly better than PFIL\n",
      "Metric AUC - OUR METHOD is significantly better than PFIL\n",
      "Metric ACC - OUR METHOD is significantly better than SPOL\n",
      "Metric AUC - OUR METHOD is significantly better than SPOL\n",
      "Metric ACC - OUR METHOD is significantly better than PPOL\n",
      "Metric AUC - OUR METHOD is significantly better than PPOL\n"
     ]
    }
   ],
   "source": [
    "for model, metrics in {\n",
    "        'MICE': {'ACC': mice_accs, 'AUC': mice_aucs},\n",
    "        'SFIL': {'ACC': sfil_accs, 'AUC': sfil_aucs},\n",
    "        'PFIL': {'ACC': pfil_accs, 'AUC': pfil_aucs},\n",
    "        'SPOL': {'ACC': spol_accs, 'AUC': spol_aucs},\n",
    "        'PPOL': {'ACC': ppol_accs, 'AUC': ppol_aucs}}.items():\n",
    "    for metric_name, metric in metrics.items():\n",
    "        ours_metric = ours_accs if metric_name == 'ACC' else ours_aucs\n",
    "        t, p = scipy.stats.ttest_ind(np.array(ours_metric), np.array(metric))\n",
    "        if p <= .05:\n",
    "            if t > 0:\n",
    "                ## Our method is better\n",
    "                print(f'Metric {metric_name} - OUR METHOD is significantly better than {model}')\n",
    "            else:\n",
    "                ## Theirs is better\n",
    "                print(f'Metric {metric_name} - OUR METHOD is significantly worse than {model}')\n",
    "        else:\n",
    "            ## Else we are even\n",
    "            print(f'Metric {metric_name} - OUR METHOD is even with {model}')"
   ]
  }
 ],
 "metadata": {
  "kernelspec": {
   "display_name": "Python 3 (ipykernel)",
   "language": "python",
   "name": "python3"
  },
  "language_info": {
   "codemirror_mode": {
    "name": "ipython",
    "version": 3
   },
   "file_extension": ".py",
   "mimetype": "text/x-python",
   "name": "python",
   "nbconvert_exporter": "python",
   "pygments_lexer": "ipython3",
   "version": "3.9.7"
  },
  "latex_envs": {
   "LaTeX_envs_menu_present": true,
   "autoclose": false,
   "autocomplete": true,
   "bibliofile": "biblio.bib",
   "cite_by": "apalike",
   "current_citInitial": 1,
   "eqLabelWithNumbers": true,
   "eqNumInitial": 1,
   "hotkeys": {
    "equation": "Ctrl-E",
    "itemize": "Ctrl-I"
   },
   "labels_anchors": false,
   "latex_user_defs": false,
   "report_style_numbering": false,
   "user_envs_cfg": false
  }
 },
 "nbformat": 4,
 "nbformat_minor": 2
}
