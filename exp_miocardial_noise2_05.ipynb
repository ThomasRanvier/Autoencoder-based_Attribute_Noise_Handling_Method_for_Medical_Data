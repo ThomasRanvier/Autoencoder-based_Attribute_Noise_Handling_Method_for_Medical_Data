{
 "cells": [
  {
   "cell_type": "code",
   "execution_count": 1,
   "metadata": {
    "ExecuteTime": {
     "end_time": "2022-06-07T08:11:39.412870Z",
     "start_time": "2022-06-07T08:11:35.692131Z"
    },
    "execution": {
     "iopub.execute_input": "2022-06-07T10:30:39.399270Z",
     "iopub.status.busy": "2022-06-07T10:30:39.390614Z",
     "iopub.status.idle": "2022-06-07T10:30:42.633901Z",
     "shell.execute_reply": "2022-06-07T10:30:42.633146Z"
    }
   },
   "outputs": [],
   "source": [
    "from __future__ import print_function\n",
    "import warnings\n",
    "warnings.filterwarnings('ignore')\n",
    "## Disable tf future deprecated messages\n",
    "import logging\n",
    "logging.getLogger('tensorflow').disabled = True\n",
    "## Disable tf CUDA messages\n",
    "import os\n",
    "os.environ['TF_CPP_MIN_LOG_LEVEL'] = '3'\n",
    "\n",
    "%matplotlib inline\n",
    "\n",
    "import sys\n",
    "import random\n",
    "import numpy as np\n",
    "import pandas as pd\n",
    "\n",
    "import utils\n",
    "import correction\n",
    "from models.dense import *\n",
    "from models.gain import gain\n",
    "from models.soft_impute import SoftImpute\n",
    "from models.sinkhorn import OTimputer\n",
    "from models.mida import mida\n",
    "from models.polishing import polishing\n",
    "from models.filtering import filtering\n",
    "\n",
    "import scipy.stats\n",
    "\n",
    "from sklearn.experimental import enable_iterative_imputer\n",
    "from sklearn.impute import IterativeImputer\n",
    "from sklearn.impute import KNNImputer, SimpleImputer\n",
    "\n",
    "import sklearn.neighbors._base\n",
    "sys.modules['sklearn.neighbors.base'] = sklearn.neighbors._base\n",
    "from missingpy import MissForest\n",
    "\n",
    "torch.backends.cudnn.enabled = True\n",
    "torch.backends.cudnn.benchmark = True\n",
    "dtype = torch.cuda.FloatTensor"
   ]
  },
  {
   "cell_type": "markdown",
   "metadata": {},
   "source": [
    "## Repeat all experiments for 10 runs"
   ]
  },
  {
   "cell_type": "code",
   "execution_count": 2,
   "metadata": {
    "ExecuteTime": {
     "end_time": "2022-06-07T08:11:39.417491Z",
     "start_time": "2022-06-07T08:11:39.415081Z"
    },
    "execution": {
     "iopub.execute_input": "2022-06-07T10:30:42.637980Z",
     "iopub.status.busy": "2022-06-07T10:30:42.637442Z",
     "iopub.status.idle": "2022-06-07T10:30:42.640100Z",
     "shell.execute_reply": "2022-06-07T10:30:42.639598Z"
    }
   },
   "outputs": [],
   "source": [
    "n_runs = 10"
   ]
  },
  {
   "cell_type": "markdown",
   "metadata": {},
   "source": [
    "## Load data"
   ]
  },
  {
   "cell_type": "code",
   "execution_count": 3,
   "metadata": {
    "ExecuteTime": {
     "end_time": "2022-06-07T08:11:41.218694Z",
     "start_time": "2022-06-07T08:11:39.419632Z"
    },
    "execution": {
     "iopub.execute_input": "2022-06-07T10:30:42.645839Z",
     "iopub.status.busy": "2022-06-07T10:30:42.645282Z",
     "iopub.status.idle": "2022-06-07T10:30:42.790662Z",
     "shell.execute_reply": "2022-06-07T10:30:42.790243Z"
    }
   },
   "outputs": [
    {
     "name": "stdout",
     "output_type": "stream",
     "text": [
      "Dataset shape: (1700, 110)\n",
      "5.62% missing data\n",
      "Class distribution: (array([0, 1]), array([1429,  271]))\n"
     ]
    }
   ],
   "source": [
    "data_missing, missing_mask, y = utils.load_miocardial()\n",
    "## Inject noise\n",
    "data_missing = utils.inject_noise(data_missing.copy(), noise_rate=.05)\n",
    "## Replace missing values locations by 0\n",
    "data_missing = data_missing * missing_mask"
   ]
  },
  {
   "cell_type": "markdown",
   "metadata": {},
   "source": [
    "## Run OUR METHOD"
   ]
  },
  {
   "cell_type": "code",
   "execution_count": 4,
   "metadata": {
    "ExecuteTime": {
     "end_time": "2022-06-07T08:25:41.124140Z",
     "start_time": "2022-06-07T08:11:41.222736Z"
    },
    "execution": {
     "iopub.execute_input": "2022-06-07T10:30:42.798618Z",
     "iopub.status.busy": "2022-06-07T10:30:42.792582Z",
     "iopub.status.idle": "2022-06-07T10:56:04.100170Z",
     "shell.execute_reply": "2022-06-07T10:56:04.100488Z"
    },
    "scrolled": false
   },
   "outputs": [
    {
     "name": "stdout",
     "output_type": "stream",
     "text": [
      "Ite 00000 - 2.58 sec - Loss 0.233828 - ACC 73.91% - ACC Mean 73.91% - AUC 82.18% - AUC Mean 82.18% - Deter 000\n",
      "Ite 00050 - 0.97 sec - Loss 0.116764 - ACC 76.93% - ACC Mean 75.19% - AUC 82.22% - AUC Mean 81.68% - Deter 024\n",
      "Ite 00076 - 0.82 sec - Loss 0.100943 - ACC 75.52% - ACC Mean 75.29% - AUC 82.27% - AUC Mean 81.70% - Deter 050\n",
      "Early stop ite 76, rollback to correction of ite 26, whith acc of 75.89% and auc of 84.09%\n",
      "OUR METHOD RUN 1/10 - acc: 75.89% +- 0.0% - auc: 84.09% +- 0.0%\n",
      "Ite 00000 - 0.77 sec - Loss 0.239439 - ACC 75.70% - ACC Mean 75.70% - AUC 82.55% - AUC Mean 82.55% - Deter 000\n",
      "Ite 00050 - 0.84 sec - Loss 0.126461 - ACC 75.48% - ACC Mean 74.96% - AUC 81.76% - AUC Mean 81.93% - Deter 016\n",
      "Ite 00100 - 0.76 sec - Loss 0.098067 - ACC 76.61% - ACC Mean 75.98% - AUC 82.93% - AUC Mean 82.35% - Deter 023\n",
      "Ite 00150 - 0.88 sec - Loss 0.083502 - ACC 75.82% - ACC Mean 75.42% - AUC 84.08% - AUC Mean 83.39% - Deter 017\n",
      "Ite 00200 - 0.73 sec - Loss 0.073662 - ACC 75.72% - ACC Mean 76.23% - AUC 82.69% - AUC Mean 84.14% - Deter 039\n",
      "Ite 00211 - 0.78 sec - Loss 0.071745 - ACC 76.80% - ACC Mean 76.09% - AUC 85.02% - AUC Mean 83.97% - Deter 050\n",
      "Early stop ite 211, rollback to correction of ite 161, whith acc of 77.38% and auc of 85.81%\n",
      "OUR METHOD RUN 2/10 - acc: 77.38% +- 0.0% - auc: 85.81% +- 0.0%\n",
      "Ite 00000 - 0.91 sec - Loss 0.213695 - ACC 74.63% - ACC Mean 74.63% - AUC 81.41% - AUC Mean 81.41% - Deter 000\n",
      "Ite 00050 - 0.78 sec - Loss 0.106736 - ACC 75.50% - ACC Mean 75.00% - AUC 82.80% - AUC Mean 82.21% - Deter 018\n",
      "Ite 00082 - 0.94 sec - Loss 0.086996 - ACC 73.87% - ACC Mean 74.80% - AUC 81.60% - AUC Mean 82.12% - Deter 050\n",
      "Early stop ite 82, rollback to correction of ite 32, whith acc of 75.72% and auc of 83.98%\n",
      "OUR METHOD RUN 3/10 - acc: 75.72% +- 0.0% - auc: 83.98% +- 0.0%\n",
      "Ite 00000 - 0.99 sec - Loss 0.175785 - ACC 74.31% - ACC Mean 74.31% - AUC 80.94% - AUC Mean 80.94% - Deter 000\n",
      "Ite 00050 - 0.96 sec - Loss 0.088045 - ACC 75.84% - ACC Mean 75.03% - AUC 83.08% - AUC Mean 82.39% - Deter 030\n",
      "Ite 00070 - 0.81 sec - Loss 0.078214 - ACC 75.10% - ACC Mean 75.35% - AUC 82.24% - AUC Mean 82.31% - Deter 050\n",
      "Early stop ite 70, rollback to correction of ite 20, whith acc of 75.82% and auc of 84.4%\n",
      "OUR METHOD RUN 4/10 - acc: 75.82% +- 0.0% - auc: 84.4% +- 0.0%\n",
      "Ite 00000 - 0.85 sec - Loss 0.241041 - ACC 75.68% - ACC Mean 75.68% - AUC 83.70% - AUC Mean 83.70% - Deter 000\n",
      "Ite 00050 - 0.91 sec - Loss 0.124753 - ACC 76.37% - ACC Mean 75.37% - AUC 82.34% - AUC Mean 83.09% - Deter 006\n",
      "Ite 00094 - 0.85 sec - Loss 0.093125 - ACC 75.29% - ACC Mean 75.64% - AUC 82.70% - AUC Mean 82.60% - Deter 050\n",
      "Early stop ite 94, rollback to correction of ite 44, whith acc of 75.65% and auc of 84.74%\n",
      "OUR METHOD RUN 5/10 - acc: 75.65% +- 0.0% - auc: 84.74% +- 0.0%\n",
      "Ite 00000 - 0.79 sec - Loss 0.221466 - ACC 74.62% - ACC Mean 74.62% - AUC 81.30% - AUC Mean 81.30% - Deter 000\n",
      "Ite 00050 - 0.80 sec - Loss 0.132939 - ACC 75.56% - ACC Mean 75.34% - AUC 84.38% - AUC Mean 82.26% - Deter 000\n",
      "Ite 00100 - 0.93 sec - Loss 0.107255 - ACC 76.01% - ACC Mean 75.52% - AUC 83.02% - AUC Mean 83.49% - Deter 037\n",
      "Ite 00113 - 0.96 sec - Loss 0.103053 - ACC 75.10% - ACC Mean 75.51% - AUC 82.37% - AUC Mean 83.47% - Deter 050\n",
      "Early stop ite 113, rollback to correction of ite 63, whith acc of 74.53% and auc of 84.91%\n",
      "OUR METHOD RUN 6/10 - acc: 74.53% +- 0.0% - auc: 84.91% +- 0.0%\n",
      "Ite 00000 - 0.95 sec - Loss 0.240900 - ACC 75.96% - ACC Mean 75.96% - AUC 83.25% - AUC Mean 83.25% - Deter 000\n",
      "Ite 00050 - 0.90 sec - Loss 0.132073 - ACC 76.04% - ACC Mean 75.10% - AUC 83.12% - AUC Mean 82.01% - Deter 039\n",
      "Ite 00061 - 1.67 sec - Loss 0.125330 - ACC 75.92% - ACC Mean 75.23% - AUC 81.96% - AUC Mean 81.92% - Deter 050\n",
      "Early stop ite 61, rollback to correction of ite 11, whith acc of 76.1% and auc of 83.56%\n",
      "OUR METHOD RUN 7/10 - acc: 76.1% +- 0.0% - auc: 83.56% +- 0.0%\n",
      "Ite 00000 - 1.75 sec - Loss 0.239129 - ACC 74.77% - ACC Mean 74.77% - AUC 80.51% - AUC Mean 80.51% - Deter 000\n",
      "Ite 00050 - 2.57 sec - Loss 0.124483 - ACC 75.39% - ACC Mean 75.48% - AUC 83.36% - AUC Mean 82.54% - Deter 045\n",
      "Ite 00055 - 1.77 sec - Loss 0.120270 - ACC 75.61% - ACC Mean 75.62% - AUC 82.45% - AUC Mean 82.52% - Deter 050\n",
      "Early stop ite 55, rollback to correction of ite 5, whith acc of 75.27% and auc of 83.67%\n",
      "OUR METHOD RUN 8/10 - acc: 75.27% +- 0.0% - auc: 83.67% +- 0.0%\n",
      "Ite 00000 - 1.65 sec - Loss 0.191539 - ACC 74.68% - ACC Mean 74.68% - AUC 82.23% - AUC Mean 82.23% - Deter 000\n",
      "Ite 00050 - 4.61 sec - Loss 0.098504 - ACC 74.97% - ACC Mean 74.76% - AUC 83.15% - AUC Mean 82.27% - Deter 001\n",
      "Ite 00100 - 3.23 sec - Loss 0.075145 - ACC 76.83% - ACC Mean 76.28% - AUC 84.14% - AUC Mean 83.66% - Deter 031\n",
      "Ite 00119 - 3.22 sec - Loss 0.069946 - ACC 76.13% - ACC Mean 76.14% - AUC 83.28% - AUC Mean 83.43% - Deter 050\n",
      "Early stop ite 119, rollback to correction of ite 69, whith acc of 78.16% and auc of 85.18%\n",
      "OUR METHOD RUN 9/10 - acc: 78.16% +- 0.0% - auc: 85.18% +- 0.0%\n",
      "Ite 00000 - 2.93 sec - Loss 0.220476 - ACC 75.46% - ACC Mean 75.46% - AUC 83.11% - AUC Mean 83.11% - Deter 000\n",
      "Ite 00050 - 3.63 sec - Loss 0.115673 - ACC 74.51% - ACC Mean 75.44% - AUC 82.74% - AUC Mean 82.41% - Deter 047\n",
      "Ite 00100 - 3.98 sec - Loss 0.092305 - ACC 75.47% - ACC Mean 75.83% - AUC 81.87% - AUC Mean 82.14% - Deter 049\n",
      "Ite 00101 - 4.13 sec - Loss 0.092006 - ACC 76.05% - ACC Mean 75.83% - AUC 82.45% - AUC Mean 82.10% - Deter 050\n",
      "Early stop ite 101, rollback to correction of ite 51, whith acc of 76.12% and auc of 84.18%\n",
      "OUR METHOD RUN 10/10 - acc: 76.12% +- 0.0% - auc: 84.18% +- 0.0%\n",
      "\n",
      "OUR METHOD GLOBAL - acc: 76.06% +- 0.97% - auc: 84.45% +- 0.67%\n"
     ]
    }
   ],
   "source": [
    "params = {\n",
    "    'nb_batches': 10,\n",
    "    'reg_noise_std': .03,\n",
    "    'net_input': 'data_corrupted',\n",
    "    'net_params': {\n",
    "        'input_channels':1,\n",
    "        'output_channels':1,\n",
    "        'channels_skip':4,\n",
    "        'down_layers':[(24, 7, 2),\n",
    "                       (46, 9, 1),\n",
    "                       (96, 9, 5),\n",
    "                       (96, 11, 1)],\n",
    "        'need_sigmoid':True,\n",
    "        'need_bias':True,\n",
    "        'pad':'zero',\n",
    "        'downsample_mode':'stride',\n",
    "        'upsample_mode':'nearest',\n",
    "        'act_fun':'LeakyReLU',\n",
    "        'need1x1_up':True\n",
    "    },# or a list containing layers sizes\n",
    "    'adam_lr': .0001,\n",
    "    'adam_weight_decay': 0.,\n",
    "}\n",
    "\n",
    "ours_accs, ours_aucs = [], []\n",
    "for i in range(n_runs):\n",
    "    ours_correction = correction.run(data_missing, 501, params, y=y, missing_mask=missing_mask, seed=i)\n",
    "    ## Since our method returns 2 imputations select the best one\n",
    "    scores_raw = utils.get_scores(ours_correction['raw_out'], y)\n",
    "    acc = scores_raw['test_balanced_accuracy']\n",
    "    auc = scores_raw['test_roc_auc_ovo']\n",
    "    acc = acc.mean()\n",
    "    acc_std = acc.std()\n",
    "    auc = auc.mean()\n",
    "    auc_std = auc.std()\n",
    "    if 'masked_out' in ours_correction:\n",
    "        scores_masked = utils.get_scores(ours_correction['masked_out'], y)\n",
    "        acc_masked = scores_masked['test_balanced_accuracy']\n",
    "        auc_masked = scores_masked['test_roc_auc_ovo']\n",
    "        if auc_masked.mean() > auc:\n",
    "            acc = acc_masked.mean()\n",
    "            acc_std = acc_masked.std()\n",
    "            auc = auc_masked.mean()\n",
    "            auc_std = auc_masked.std()\n",
    "    print(f'OUR METHOD RUN {i + 1}/{n_runs} - acc: {round(acc.mean() * 100, 2)}% +- {round(acc.std() * 100, 2)}% - ' +\n",
    "          f'auc: {round(auc.mean() * 100, 2)}% +- {round(auc.std() * 100, 2)}%')\n",
    "    ours_accs.append(acc.mean())\n",
    "    ours_aucs.append(auc.mean())\n",
    "print(f'\\nOUR METHOD GLOBAL - acc: {round(np.array(ours_accs).mean() * 100, 2)}% +- {round(np.array(ours_accs).std() * 100, 2)}% - ' +\n",
    "      f'auc: {round(np.array(ours_aucs).mean() * 100, 2)}% +- {round(np.array(ours_aucs).std() * 100, 2)}%')"
   ]
  },
  {
   "cell_type": "markdown",
   "metadata": {},
   "source": [
    "## Run MICE"
   ]
  },
  {
   "cell_type": "code",
   "execution_count": 5,
   "metadata": {
    "ExecuteTime": {
     "end_time": "2022-06-07T08:25:47.812154Z",
     "start_time": "2022-06-07T08:25:41.125881Z"
    },
    "execution": {
     "iopub.execute_input": "2022-06-07T10:56:04.115429Z",
     "iopub.status.busy": "2022-06-07T10:56:04.114946Z",
     "iopub.status.idle": "2022-06-07T11:10:41.478880Z",
     "shell.execute_reply": "2022-06-07T11:10:41.479253Z"
    }
   },
   "outputs": [
    {
     "name": "stdout",
     "output_type": "stream",
     "text": [
      "MICE - acc: 74.01% +- 0.0% - auc: 80.15% +- 0.0%\n"
     ]
    }
   ],
   "source": [
    "data_missing_nans = np.where(missing_mask, data_missing, np.nan)\n",
    "\n",
    "imputer = IterativeImputer()\n",
    "imputed = imputer.fit_transform(data_missing_nans)\n",
    "## All runs would be the same since deterministic method\n",
    "scores = utils.get_scores(imputed, y)\n",
    "acc = [scores['test_balanced_accuracy'].mean()] * n_runs\n",
    "auc = [scores['test_roc_auc_ovo'].mean()] * n_runs\n",
    "print(f'MICE - acc: {round(np.mean(acc) * 100, 2)}% +- {round(np.std(acc) * 100, 2)}% - ' +\n",
    "      f'auc: {round(np.mean(auc) * 100, 2)}% +- {round(np.std(auc) * 100, 2)}%')\n",
    "mice_accs = acc\n",
    "mice_aucs = auc"
   ]
  },
  {
   "cell_type": "markdown",
   "metadata": {},
   "source": [
    "## Run SFIL"
   ]
  },
  {
   "cell_type": "code",
   "execution_count": 6,
   "metadata": {
    "ExecuteTime": {
     "end_time": "2022-06-07T08:25:49.133209Z",
     "start_time": "2022-06-07T08:25:47.813384Z"
    },
    "execution": {
     "iopub.execute_input": "2022-06-07T11:10:41.485813Z",
     "iopub.status.busy": "2022-06-07T11:10:41.485386Z",
     "iopub.status.idle": "2022-06-07T11:10:54.396855Z",
     "shell.execute_reply": "2022-06-07T11:10:54.397215Z"
    }
   },
   "outputs": [
    {
     "name": "stdout",
     "output_type": "stream",
     "text": [
      "SFIL RUN 1/10 - acc: 56.91% +- 1.27% - auc: 62.12% +- 2.45%\n",
      "SFIL RUN 2/10 - acc: 57.39% +- 4.45% - auc: 59.81% +- 4.04%\n",
      "SFIL RUN 3/10 - acc: 56.75% +- 2.12% - auc: 58.95% +- 2.13%\n",
      "SFIL RUN 4/10 - acc: 55.22% +- 2.26% - auc: 59.82% +- 3.51%\n",
      "SFIL RUN 5/10 - acc: 56.91% +- 0.85% - auc: 60.51% +- 1.71%\n",
      "SFIL RUN 6/10 - acc: 58.43% +- 2.3% - auc: 60.41% +- 2.3%\n",
      "SFIL RUN 7/10 - acc: 57.33% +- 1.79% - auc: 58.63% +- 1.48%\n",
      "SFIL RUN 8/10 - acc: 55.77% +- 1.33% - auc: 58.39% +- 1.55%\n",
      "SFIL RUN 9/10 - acc: 56.9% +- 1.99% - auc: 61.32% +- 3.21%\n",
      "SFIL RUN 10/10 - acc: 57.28% +- 1.45% - auc: 60.62% +- 1.95%\n",
      "SFIL GLOBAL - acc: 56.89% +- 0.84% - auc: 60.06% +- 1.13%\n"
     ]
    }
   ],
   "source": [
    "sfil_accs, sfil_aucs = [], []\n",
    "for i in range(n_runs):\n",
    "    acc, auc = filtering(imputed, y, mode='standard', random_state=i)\n",
    "    sfil_accs.append(acc.mean())\n",
    "    sfil_aucs.append(auc.mean())\n",
    "    print(f'SFIL RUN {i + 1}/{n_runs} - acc: {round(np.mean(acc) * 100, 2)}% +- {round(np.std(acc) * 100, 2)}% - ' +\n",
    "          f'auc: {round(np.mean(auc) * 100, 2)}% +- {round(np.std(auc) * 100, 2)}%')\n",
    "print(f'SFIL GLOBAL - acc: {round(np.mean(sfil_accs) * 100, 2)}% +- {round(np.std(sfil_accs) * 100, 2)}% - ' +\n",
    "      f'auc: {round(np.mean(sfil_aucs) * 100, 2)}% +- {round(np.std(sfil_aucs) * 100, 2)}%')"
   ]
  },
  {
   "cell_type": "markdown",
   "metadata": {},
   "source": [
    "## Run PFIL"
   ]
  },
  {
   "cell_type": "code",
   "execution_count": 7,
   "metadata": {
    "ExecuteTime": {
     "end_time": "2022-06-07T08:35:09.194980Z",
     "start_time": "2022-06-07T08:25:49.134766Z"
    },
    "execution": {
     "iopub.execute_input": "2022-06-07T11:10:54.403014Z",
     "iopub.status.busy": "2022-06-07T11:10:54.401806Z",
     "iopub.status.idle": "2022-06-07T13:24:12.694831Z",
     "shell.execute_reply": "2022-06-07T13:24:12.695868Z"
    },
    "scrolled": false
   },
   "outputs": [
    {
     "name": "stdout",
     "output_type": "stream",
     "text": [
      "PFIL RUN 1/10 - acc: 74.33% +- 2.68% - auc: 81.72% +- 1.46%\n",
      "PFIL RUN 2/10 - acc: 74.56% +- 3.39% - auc: 82.19% +- 3.09%\n",
      "PFIL RUN 3/10 - acc: 74.57% +- 3.53% - auc: 84.79% +- 1.23%\n",
      "PFIL RUN 4/10 - acc: 72.51% +- 5.05% - auc: 79.46% +- 7.21%\n",
      "PFIL RUN 5/10 - acc: 75.46% +- 3.66% - auc: 83.67% +- 3.57%\n",
      "PFIL RUN 6/10 - acc: 71.74% +- 3.4% - auc: 77.12% +- 2.75%\n",
      "PFIL RUN 7/10 - acc: 73.44% +- 4.34% - auc: 82.15% +- 4.51%\n",
      "PFIL RUN 8/10 - acc: 73.28% +- 2.72% - auc: 81.97% +- 1.37%\n",
      "PFIL RUN 9/10 - acc: 74.83% +- 2.88% - auc: 81.86% +- 4.03%\n",
      "PFIL RUN 10/10 - acc: 73.55% +- 2.81% - auc: 80.94% +- 4.48%\n",
      "PFIL GLOBAL - acc: 73.83% +- 1.08% - auc: 81.59% +- 2.01%\n"
     ]
    }
   ],
   "source": [
    "pfil_accs, pfil_aucs = [], []\n",
    "for i in range(n_runs):\n",
    "    acc, auc = filtering(imputed, y, mode='panda', random_state=i)\n",
    "    pfil_accs.append(acc.mean())\n",
    "    pfil_aucs.append(auc.mean())\n",
    "    print(f'PFIL RUN {i + 1}/{n_runs} - acc: {round(np.mean(acc) * 100, 2)}% +- {round(np.std(acc) * 100, 2)}% - ' +\n",
    "          f'auc: {round(np.mean(auc) * 100, 2)}% +- {round(np.std(auc) * 100, 2)}%')\n",
    "print(f'PFIL GLOBAL - acc: {round(np.mean(pfil_accs) * 100, 2)}% +- {round(np.std(pfil_accs) * 100, 2)}% - ' +\n",
    "      f'auc: {round(np.mean(pfil_aucs) * 100, 2)}% +- {round(np.std(pfil_aucs) * 100, 2)}%')"
   ]
  },
  {
   "cell_type": "markdown",
   "metadata": {},
   "source": [
    "## Run SPOL"
   ]
  },
  {
   "cell_type": "code",
   "execution_count": 8,
   "metadata": {
    "ExecuteTime": {
     "end_time": "2022-06-07T08:50:33.353751Z",
     "start_time": "2022-06-07T08:49:36.684786Z"
    },
    "execution": {
     "iopub.execute_input": "2022-06-07T13:24:12.703739Z",
     "iopub.status.busy": "2022-06-07T13:24:12.702636Z",
     "iopub.status.idle": "2022-06-07T13:25:27.030606Z",
     "shell.execute_reply": "2022-06-07T13:25:27.032121Z"
    }
   },
   "outputs": [
    {
     "name": "stdout",
     "output_type": "stream",
     "text": [
      "SPOL RUN 1/10 - acc: 62.58% +- 5.34% - auc: 68.94% +- 5.17%\n",
      "SPOL RUN 2/10 - acc: 58.33% +- 4.4% - auc: 64.32% +- 2.71%\n",
      "SPOL RUN 3/10 - acc: 63.45% +- 3.74% - auc: 67.91% +- 5.8%\n",
      "SPOL RUN 4/10 - acc: 59.65% +- 2.87% - auc: 63.71% +- 5.75%\n",
      "SPOL RUN 5/10 - acc: 59.13% +- 4.11% - auc: 64.8% +- 5.95%\n",
      "SPOL RUN 6/10 - acc: 64.8% +- 8.71% - auc: 69.06% +- 11.15%\n",
      "SPOL RUN 7/10 - acc: 59.07% +- 4.44% - auc: 65.54% +- 3.37%\n",
      "SPOL RUN 8/10 - acc: 59.36% +- 3.04% - auc: 63.99% +- 4.31%\n",
      "SPOL RUN 9/10 - acc: 59.24% +- 1.96% - auc: 62.73% +- 3.74%\n",
      "SPOL RUN 10/10 - acc: 60.8% +- 3.31% - auc: 66.12% +- 5.19%\n",
      "SPOL GLOBAL - acc: 60.64% +- 2.09% - auc: 65.71% +- 2.13%\n"
     ]
    }
   ],
   "source": [
    "spol_accs, spol_aucs = [], []\n",
    "for i in range(n_runs):\n",
    "    acc, auc = polishing(imputed, y, mode='standard', random_state=i)\n",
    "    spol_accs.append(acc.mean())\n",
    "    spol_aucs.append(auc.mean())\n",
    "    print(f'SPOL RUN {i + 1}/{n_runs} - acc: {round(np.mean(acc) * 100, 2)}% +- {round(np.std(acc) * 100, 2)}% - ' +\n",
    "          f'auc: {round(np.mean(auc) * 100, 2)}% +- {round(np.std(auc) * 100, 2)}%')\n",
    "print(f'SPOL GLOBAL - acc: {round(np.mean(spol_accs) * 100, 2)}% +- {round(np.std(spol_accs) * 100, 2)}% - ' +\n",
    "      f'auc: {round(np.mean(spol_aucs) * 100, 2)}% +- {round(np.std(spol_aucs) * 100, 2)}%')"
   ]
  },
  {
   "cell_type": "markdown",
   "metadata": {},
   "source": [
    "## Run PPOL"
   ]
  },
  {
   "cell_type": "code",
   "execution_count": 9,
   "metadata": {
    "ExecuteTime": {
     "end_time": "2022-06-07T08:52:24.306737Z",
     "start_time": "2022-06-07T08:50:33.355178Z"
    },
    "execution": {
     "iopub.execute_input": "2022-06-07T13:25:27.036918Z",
     "iopub.status.busy": "2022-06-07T13:25:27.035894Z",
     "iopub.status.idle": "2022-06-07T15:38:17.041314Z",
     "shell.execute_reply": "2022-06-07T15:38:17.040863Z"
    }
   },
   "outputs": [
    {
     "name": "stdout",
     "output_type": "stream",
     "text": [
      "PPOL RUN 1/10 - acc: 74.28% +- 2.94% - auc: 81.82% +- 3.74%\n",
      "PPOL RUN 2/10 - acc: 72.33% +- 3.43% - auc: 79.57% +- 2.85%\n",
      "PPOL RUN 3/10 - acc: 73.44% +- 2.33% - auc: 81.92% +- 1.97%\n",
      "PPOL RUN 4/10 - acc: 73.32% +- 4.6% - auc: 83.34% +- 4.61%\n",
      "PPOL RUN 5/10 - acc: 73.56% +- 4.49% - auc: 82.78% +- 3.21%\n",
      "PPOL RUN 6/10 - acc: 73.09% +- 5.51% - auc: 80.79% +- 1.51%\n",
      "PPOL RUN 7/10 - acc: 73.54% +- 4.14% - auc: 81.04% +- 4.44%\n",
      "PPOL RUN 8/10 - acc: 73.02% +- 1.8% - auc: 80.47% +- 2.07%\n",
      "PPOL RUN 9/10 - acc: 71.77% +- 2.9% - auc: 81.07% +- 2.36%\n",
      "PPOL RUN 10/10 - acc: 73.73% +- 3.94% - auc: 79.95% +- 4.6%\n",
      "PPOL GLOBAL - acc: 73.21% +- 0.68% - auc: 81.28% +- 1.13%\n"
     ]
    }
   ],
   "source": [
    "ppol_accs, ppol_aucs = [], []\n",
    "for i in range(n_runs):\n",
    "    acc, auc = polishing(imputed, y, mode='panda', random_state=i)\n",
    "    ppol_accs.append(acc.mean())\n",
    "    ppol_aucs.append(auc.mean())\n",
    "    print(f'PPOL RUN {i + 1}/{n_runs} - acc: {round(np.mean(acc) * 100, 2)}% +- {round(np.std(acc) * 100, 2)}% - ' +\n",
    "          f'auc: {round(np.mean(auc) * 100, 2)}% +- {round(np.std(auc) * 100, 2)}%')\n",
    "print(f'PPOL GLOBAL - acc: {round(np.mean(ppol_accs) * 100, 2)}% +- {round(np.std(ppol_accs) * 100, 2)}% - ' +\n",
    "      f'auc: {round(np.mean(ppol_aucs) * 100, 2)}% +- {round(np.std(ppol_aucs) * 100, 2)}%')"
   ]
  },
  {
   "cell_type": "markdown",
   "metadata": {},
   "source": [
    "## Run T-tests"
   ]
  },
  {
   "cell_type": "code",
   "execution_count": 10,
   "metadata": {
    "ExecuteTime": {
     "end_time": "2022-06-07T08:52:25.983958Z",
     "start_time": "2022-06-07T08:52:25.963898Z"
    },
    "execution": {
     "iopub.execute_input": "2022-06-07T15:38:17.051491Z",
     "iopub.status.busy": "2022-06-07T15:38:17.049297Z",
     "iopub.status.idle": "2022-06-07T15:38:17.054919Z",
     "shell.execute_reply": "2022-06-07T15:38:17.054597Z"
    },
    "scrolled": false
   },
   "outputs": [
    {
     "name": "stdout",
     "output_type": "stream",
     "text": [
      "Metric ACC - OUR METHOD is significantly better than MICE\n",
      "Metric AUC - OUR METHOD is significantly better than MICE\n",
      "Metric ACC - OUR METHOD is significantly better than SFIL\n",
      "Metric AUC - OUR METHOD is significantly better than SFIL\n",
      "Metric ACC - OUR METHOD is significantly better than PFIL\n",
      "Metric AUC - OUR METHOD is significantly better than PFIL\n",
      "Metric ACC - OUR METHOD is significantly better than SPOL\n",
      "Metric AUC - OUR METHOD is significantly better than SPOL\n",
      "Metric ACC - OUR METHOD is significantly better than PPOL\n",
      "Metric AUC - OUR METHOD is significantly better than PPOL\n"
     ]
    }
   ],
   "source": [
    "for model, metrics in {\n",
    "        'MICE': {'ACC': mice_accs, 'AUC': mice_aucs},\n",
    "        'SFIL': {'ACC': sfil_accs, 'AUC': sfil_aucs},\n",
    "        'PFIL': {'ACC': pfil_accs, 'AUC': pfil_aucs},\n",
    "        'SPOL': {'ACC': spol_accs, 'AUC': spol_aucs},\n",
    "        'PPOL': {'ACC': ppol_accs, 'AUC': ppol_aucs}}.items():\n",
    "    for metric_name, metric in metrics.items():\n",
    "        ours_metric = ours_accs if metric_name == 'ACC' else ours_aucs\n",
    "        t, p = scipy.stats.ttest_ind(np.array(ours_metric), np.array(metric))\n",
    "        if p <= .05:\n",
    "            if t > 0:\n",
    "                ## Our method is better\n",
    "                print(f'Metric {metric_name} - OUR METHOD is significantly better than {model}')\n",
    "            else:\n",
    "                ## Theirs is better\n",
    "                print(f'Metric {metric_name} - OUR METHOD is significantly worse than {model}')\n",
    "        else:\n",
    "            ## Else we are even\n",
    "            print(f'Metric {metric_name} - OUR METHOD is even with {model}')"
   ]
  }
 ],
 "metadata": {
  "kernelspec": {
   "display_name": "Python 3 (ipykernel)",
   "language": "python",
   "name": "python3"
  },
  "language_info": {
   "codemirror_mode": {
    "name": "ipython",
    "version": 3
   },
   "file_extension": ".py",
   "mimetype": "text/x-python",
   "name": "python",
   "nbconvert_exporter": "python",
   "pygments_lexer": "ipython3",
   "version": "3.9.7"
  },
  "latex_envs": {
   "LaTeX_envs_menu_present": true,
   "autoclose": false,
   "autocomplete": true,
   "bibliofile": "biblio.bib",
   "cite_by": "apalike",
   "current_citInitial": 1,
   "eqLabelWithNumbers": true,
   "eqNumInitial": 1,
   "hotkeys": {
    "equation": "Ctrl-E",
    "itemize": "Ctrl-I"
   },
   "labels_anchors": false,
   "latex_user_defs": false,
   "report_style_numbering": false,
   "user_envs_cfg": false
  }
 },
 "nbformat": 4,
 "nbformat_minor": 2
}
