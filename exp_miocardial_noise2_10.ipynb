{
 "cells": [
  {
   "cell_type": "code",
   "execution_count": 1,
   "metadata": {
    "ExecuteTime": {
     "end_time": "2022-06-07T08:11:39.412870Z",
     "start_time": "2022-06-07T08:11:35.692131Z"
    },
    "execution": {
     "iopub.execute_input": "2022-06-07T10:30:39.378359Z",
     "iopub.status.busy": "2022-06-07T10:30:39.368594Z",
     "iopub.status.idle": "2022-06-07T10:30:42.690788Z",
     "shell.execute_reply": "2022-06-07T10:30:42.689129Z"
    }
   },
   "outputs": [],
   "source": [
    "from __future__ import print_function\n",
    "import warnings\n",
    "warnings.filterwarnings('ignore')\n",
    "## Disable tf future deprecated messages\n",
    "import logging\n",
    "logging.getLogger('tensorflow').disabled = True\n",
    "## Disable tf CUDA messages\n",
    "import os\n",
    "os.environ['TF_CPP_MIN_LOG_LEVEL'] = '3'\n",
    "\n",
    "%matplotlib inline\n",
    "\n",
    "import sys\n",
    "import random\n",
    "import numpy as np\n",
    "import pandas as pd\n",
    "\n",
    "import utils\n",
    "import correction\n",
    "from models.dense import *\n",
    "from models.gain import gain\n",
    "from models.soft_impute import SoftImpute\n",
    "from models.sinkhorn import OTimputer\n",
    "from models.mida import mida\n",
    "from models.polishing import polishing\n",
    "from models.filtering import filtering\n",
    "\n",
    "import scipy.stats\n",
    "\n",
    "from sklearn.experimental import enable_iterative_imputer\n",
    "from sklearn.impute import IterativeImputer\n",
    "from sklearn.impute import KNNImputer, SimpleImputer\n",
    "\n",
    "import sklearn.neighbors._base\n",
    "sys.modules['sklearn.neighbors.base'] = sklearn.neighbors._base\n",
    "from missingpy import MissForest\n",
    "\n",
    "torch.backends.cudnn.enabled = True\n",
    "torch.backends.cudnn.benchmark = True\n",
    "dtype = torch.cuda.FloatTensor"
   ]
  },
  {
   "cell_type": "markdown",
   "metadata": {},
   "source": [
    "## Repeat all experiments for 10 runs"
   ]
  },
  {
   "cell_type": "code",
   "execution_count": 2,
   "metadata": {
    "ExecuteTime": {
     "end_time": "2022-06-07T08:11:39.417491Z",
     "start_time": "2022-06-07T08:11:39.415081Z"
    },
    "execution": {
     "iopub.execute_input": "2022-06-07T10:30:42.698027Z",
     "iopub.status.busy": "2022-06-07T10:30:42.696370Z",
     "iopub.status.idle": "2022-06-07T10:30:42.699378Z",
     "shell.execute_reply": "2022-06-07T10:30:42.700082Z"
    }
   },
   "outputs": [],
   "source": [
    "n_runs = 10"
   ]
  },
  {
   "cell_type": "markdown",
   "metadata": {},
   "source": [
    "## Load data"
   ]
  },
  {
   "cell_type": "code",
   "execution_count": 3,
   "metadata": {
    "ExecuteTime": {
     "end_time": "2022-06-07T08:11:41.218694Z",
     "start_time": "2022-06-07T08:11:39.419632Z"
    },
    "execution": {
     "iopub.execute_input": "2022-06-07T10:30:42.706857Z",
     "iopub.status.busy": "2022-06-07T10:30:42.706181Z",
     "iopub.status.idle": "2022-06-07T10:30:42.852752Z",
     "shell.execute_reply": "2022-06-07T10:30:42.853726Z"
    }
   },
   "outputs": [
    {
     "name": "stdout",
     "output_type": "stream",
     "text": [
      "Dataset shape: (1700, 110)\n",
      "5.62% missing data\n",
      "Class distribution: (array([0, 1]), array([1429,  271]))\n"
     ]
    }
   ],
   "source": [
    "data_missing, missing_mask, y = utils.load_miocardial()\n",
    "## Inject noise\n",
    "data_missing = utils.inject_noise(data_missing.copy(), noise_rate=.1)\n",
    "## Replace missing values locations by 0\n",
    "data_missing = data_missing * missing_mask"
   ]
  },
  {
   "cell_type": "markdown",
   "metadata": {},
   "source": [
    "## Run OUR METHOD"
   ]
  },
  {
   "cell_type": "code",
   "execution_count": 4,
   "metadata": {
    "ExecuteTime": {
     "end_time": "2022-06-07T08:25:41.124140Z",
     "start_time": "2022-06-07T08:11:41.222736Z"
    },
    "execution": {
     "iopub.execute_input": "2022-06-07T10:30:42.865026Z",
     "iopub.status.busy": "2022-06-07T10:30:42.863653Z",
     "iopub.status.idle": "2022-06-07T10:41:50.031644Z",
     "shell.execute_reply": "2022-06-07T10:41:50.032036Z"
    },
    "scrolled": false
   },
   "outputs": [
    {
     "name": "stdout",
     "output_type": "stream",
     "text": [
      "Ite 00000 - 2.54 sec - Loss 0.223435 - ACC 74.51% - ACC Mean 74.51% - AUC 80.73% - AUC Mean 80.73% - Deter 000\n",
      "Ite 00050 - 0.97 sec - Loss 0.108350 - ACC 72.74% - ACC Mean 73.83% - AUC 79.37% - AUC Mean 79.82% - Deter 042\n",
      "Ite 00058 - 0.93 sec - Loss 0.102232 - ACC 71.96% - ACC Mean 73.49% - AUC 78.38% - AUC Mean 79.50% - Deter 050\n",
      "Early stop ite 58, rollback to correction of ite 8, whith acc of 75.7% and auc of 82.71%\n",
      "OUR METHOD RUN 1/10 - acc: 75.7% +- 0.0% - auc: 82.71% +- 0.0%\n",
      "Ite 00000 - 0.99 sec - Loss 0.231320 - ACC 75.43% - ACC Mean 75.43% - AUC 80.16% - AUC Mean 80.16% - Deter 000\n",
      "Ite 00050 - 0.91 sec - Loss 0.121362 - ACC 73.89% - ACC Mean 74.40% - AUC 80.55% - AUC Mean 80.49% - Deter 049\n",
      "Ite 00051 - 0.96 sec - Loss 0.120488 - ACC 73.71% - ACC Mean 74.36% - AUC 80.60% - AUC Mean 80.44% - Deter 050\n",
      "Early stop ite 51, rollback to correction of ite 1, whith acc of 75.44% and auc of 82.68%\n",
      "OUR METHOD RUN 2/10 - acc: 75.44% +- 0.0% - auc: 82.68% +- 0.0%\n",
      "Ite 00000 - 0.81 sec - Loss 0.208078 - ACC 75.68% - ACC Mean 75.68% - AUC 79.49% - AUC Mean 79.49% - Deter 000\n",
      "Ite 00050 - 0.81 sec - Loss 0.101930 - ACC 72.51% - ACC Mean 75.06% - AUC 80.62% - AUC Mean 80.78% - Deter 033\n",
      "Ite 00067 - 0.79 sec - Loss 0.089232 - ACC 73.75% - ACC Mean 74.24% - AUC 80.20% - AUC Mean 80.24% - Deter 050\n",
      "Early stop ite 67, rollback to correction of ite 17, whith acc of 75.55% and auc of 82.43%\n",
      "OUR METHOD RUN 3/10 - acc: 75.55% +- 0.0% - auc: 82.43% +- 0.0%\n",
      "Ite 00000 - 0.80 sec - Loss 0.172237 - ACC 72.24% - ACC Mean 72.24% - AUC 80.56% - AUC Mean 80.56% - Deter 000\n",
      "Ite 00050 - 0.82 sec - Loss 0.085070 - ACC 73.67% - ACC Mean 73.45% - AUC 80.73% - AUC Mean 80.15% - Deter 001\n",
      "Ite 00099 - 0.80 sec - Loss 0.064174 - ACC 73.28% - ACC Mean 73.31% - AUC 78.53% - AUC Mean 80.39% - Deter 050\n",
      "Early stop ite 99, rollback to correction of ite 49, whith acc of 74.2% and auc of 82.96%\n",
      "OUR METHOD RUN 4/10 - acc: 74.2% +- 0.0% - auc: 82.96% +- 0.0%\n",
      "Ite 00000 - 0.82 sec - Loss 0.234008 - ACC 75.76% - ACC Mean 75.76% - AUC 81.59% - AUC Mean 81.59% - Deter 000\n",
      "Ite 00050 - 0.92 sec - Loss 0.120963 - ACC 73.44% - ACC Mean 73.84% - AUC 80.28% - AUC Mean 80.68% - Deter 017\n",
      "Ite 00083 - 0.86 sec - Loss 0.094241 - ACC 73.57% - ACC Mean 73.67% - AUC 78.58% - AUC Mean 79.91% - Deter 050\n",
      "Early stop ite 83, rollback to correction of ite 33, whith acc of 75.66% and auc of 82.45%\n",
      "OUR METHOD RUN 5/10 - acc: 75.66% +- 0.0% - auc: 82.45% +- 0.0%\n",
      "Ite 00000 - 0.85 sec - Loss 0.212622 - ACC 73.52% - ACC Mean 73.52% - AUC 78.35% - AUC Mean 78.35% - Deter 000\n",
      "Ite 00050 - 0.83 sec - Loss 0.125825 - ACC 74.69% - ACC Mean 74.62% - AUC 80.66% - AUC Mean 81.09% - Deter 021\n",
      "Ite 00079 - 0.96 sec - Loss 0.108621 - ACC 74.36% - ACC Mean 74.92% - AUC 80.92% - AUC Mean 80.86% - Deter 050\n",
      "Early stop ite 79, rollback to correction of ite 29, whith acc of 75.5% and auc of 82.83%\n",
      "OUR METHOD RUN 6/10 - acc: 75.5% +- 0.0% - auc: 82.83% +- 0.0%\n",
      "Ite 00000 - 1.02 sec - Loss 0.232283 - ACC 74.40% - ACC Mean 74.40% - AUC 80.73% - AUC Mean 80.73% - Deter 000\n",
      "Ite 00050 - 0.90 sec - Loss 0.125919 - ACC 75.96% - ACC Mean 74.93% - AUC 80.84% - AUC Mean 80.50% - Deter 047\n",
      "Ite 00053 - 0.83 sec - Loss 0.123662 - ACC 76.02% - ACC Mean 74.98% - AUC 80.90% - AUC Mean 80.45% - Deter 050\n",
      "Early stop ite 53, rollback to correction of ite 3, whith acc of 75.77% and auc of 82.23%\n",
      "OUR METHOD RUN 7/10 - acc: 75.77% +- 0.0% - auc: 82.23% +- 0.0%\n",
      "Ite 00000 - 0.83 sec - Loss 0.232404 - ACC 75.01% - ACC Mean 75.01% - AUC 81.39% - AUC Mean 81.39% - Deter 000\n",
      "Ite 00050 - 0.89 sec - Loss 0.119319 - ACC 73.95% - ACC Mean 74.57% - AUC 80.61% - AUC Mean 80.79% - Deter 031\n",
      "Ite 00069 - 0.82 sec - Loss 0.104979 - ACC 74.96% - ACC Mean 74.35% - AUC 80.93% - AUC Mean 80.43% - Deter 050\n",
      "Early stop ite 69, rollback to correction of ite 19, whith acc of 76.01% and auc of 82.73%\n",
      "OUR METHOD RUN 8/10 - acc: 76.01% +- 0.0% - auc: 82.73% +- 0.0%\n",
      "Ite 00000 - 0.83 sec - Loss 0.185629 - ACC 75.43% - ACC Mean 75.43% - AUC 79.65% - AUC Mean 79.65% - Deter 000\n",
      "Ite 00050 - 0.89 sec - Loss 0.094208 - ACC 70.74% - ACC Mean 72.99% - AUC 77.58% - AUC Mean 79.56% - Deter 035\n",
      "Ite 00065 - 0.94 sec - Loss 0.084280 - ACC 72.74% - ACC Mean 72.41% - AUC 77.61% - AUC Mean 78.97% - Deter 050\n",
      "Early stop ite 65, rollback to correction of ite 15, whith acc of 75.94% and auc of 82.95%\n",
      "OUR METHOD RUN 9/10 - acc: 75.94% +- 0.0% - auc: 82.95% +- 0.0%\n",
      "Ite 00000 - 1.60 sec - Loss 0.212330 - ACC 74.21% - ACC Mean 74.21% - AUC 80.53% - AUC Mean 80.53% - Deter 000\n",
      "Ite 00050 - 1.06 sec - Loss 0.109809 - ACC 73.92% - ACC Mean 74.51% - AUC 80.24% - AUC Mean 80.39% - Deter 040\n",
      "Ite 00060 - 1.90 sec - Loss 0.103157 - ACC 74.33% - ACC Mean 74.65% - AUC 80.10% - AUC Mean 80.56% - Deter 050\n",
      "Early stop ite 60, rollback to correction of ite 10, whith acc of 75.0% and auc of 82.14%\n",
      "OUR METHOD RUN 10/10 - acc: 75.0% +- 0.0% - auc: 82.14% +- 0.0%\n",
      "\n",
      "OUR METHOD GLOBAL - acc: 75.48% +- 0.5% - auc: 82.61% +- 0.27%\n"
     ]
    }
   ],
   "source": [
    "params = {\n",
    "    'nb_batches': 10,\n",
    "    'reg_noise_std': .03,\n",
    "    'net_input': 'data_corrupted',\n",
    "    'net_params': {\n",
    "        'input_channels':1,\n",
    "        'output_channels':1,\n",
    "        'channels_skip':4,\n",
    "        'down_layers':[(24, 7, 2),\n",
    "                       (46, 9, 1),\n",
    "                       (96, 9, 5),\n",
    "                       (96, 11, 1)],\n",
    "        'need_sigmoid':True,\n",
    "        'need_bias':True,\n",
    "        'pad':'zero',\n",
    "        'downsample_mode':'stride',\n",
    "        'upsample_mode':'nearest',\n",
    "        'act_fun':'LeakyReLU',\n",
    "        'need1x1_up':True\n",
    "    },# or a list containing layers sizes\n",
    "    'adam_lr': .0001,\n",
    "    'adam_weight_decay': 0.,\n",
    "}\n",
    "\n",
    "ours_accs, ours_aucs = [], []\n",
    "for i in range(n_runs):\n",
    "    ours_correction = correction.run(data_missing, 501, params, y=y, missing_mask=missing_mask, seed=i)\n",
    "    ## Since our method returns 2 imputations select the best one\n",
    "    scores_raw = utils.get_scores(ours_correction['raw_out'], y)\n",
    "    acc = scores_raw['test_balanced_accuracy']\n",
    "    auc = scores_raw['test_roc_auc_ovo']\n",
    "    acc = acc.mean()\n",
    "    acc_std = acc.std()\n",
    "    auc = auc.mean()\n",
    "    auc_std = auc.std()\n",
    "    if 'masked_out' in ours_correction:\n",
    "        scores_masked = utils.get_scores(ours_correction['masked_out'], y)\n",
    "        acc_masked = scores_masked['test_balanced_accuracy']\n",
    "        auc_masked = scores_masked['test_roc_auc_ovo']\n",
    "        if auc_masked.mean() > auc:\n",
    "            acc = acc_masked.mean()\n",
    "            acc_std = acc_masked.std()\n",
    "            auc = auc_masked.mean()\n",
    "            auc_std = auc_masked.std()\n",
    "    print(f'OUR METHOD RUN {i + 1}/{n_runs} - acc: {round(acc.mean() * 100, 2)}% +- {round(acc.std() * 100, 2)}% - ' +\n",
    "          f'auc: {round(auc.mean() * 100, 2)}% +- {round(auc.std() * 100, 2)}%')\n",
    "    ours_accs.append(acc.mean())\n",
    "    ours_aucs.append(auc.mean())\n",
    "print(f'\\nOUR METHOD GLOBAL - acc: {round(np.array(ours_accs).mean() * 100, 2)}% +- {round(np.array(ours_accs).std() * 100, 2)}% - ' +\n",
    "      f'auc: {round(np.array(ours_aucs).mean() * 100, 2)}% +- {round(np.array(ours_aucs).std() * 100, 2)}%')"
   ]
  },
  {
   "cell_type": "markdown",
   "metadata": {},
   "source": [
    "## Run MICE"
   ]
  },
  {
   "cell_type": "code",
   "execution_count": 5,
   "metadata": {
    "ExecuteTime": {
     "end_time": "2022-06-07T08:25:47.812154Z",
     "start_time": "2022-06-07T08:25:41.125881Z"
    },
    "execution": {
     "iopub.execute_input": "2022-06-07T10:41:50.037907Z",
     "iopub.status.busy": "2022-06-07T10:41:50.037400Z",
     "iopub.status.idle": "2022-06-07T11:04:39.753200Z",
     "shell.execute_reply": "2022-06-07T11:04:39.753623Z"
    }
   },
   "outputs": [
    {
     "name": "stdout",
     "output_type": "stream",
     "text": [
      "MICE - acc: 73.1% +- 0.0% - auc: 78.16% +- 0.0%\n"
     ]
    }
   ],
   "source": [
    "data_missing_nans = np.where(missing_mask, data_missing, np.nan)\n",
    "\n",
    "imputer = IterativeImputer()\n",
    "imputed = imputer.fit_transform(data_missing_nans)\n",
    "## All runs would be the same since deterministic method\n",
    "scores = utils.get_scores(imputed, y)\n",
    "acc = [scores['test_balanced_accuracy'].mean()] * n_runs\n",
    "auc = [scores['test_roc_auc_ovo'].mean()] * n_runs\n",
    "print(f'MICE - acc: {round(np.mean(acc) * 100, 2)}% +- {round(np.std(acc) * 100, 2)}% - ' +\n",
    "      f'auc: {round(np.mean(auc) * 100, 2)}% +- {round(np.std(auc) * 100, 2)}%')\n",
    "mice_accs = acc\n",
    "mice_aucs = auc"
   ]
  },
  {
   "cell_type": "markdown",
   "metadata": {},
   "source": [
    "## Run SFIL"
   ]
  },
  {
   "cell_type": "code",
   "execution_count": 6,
   "metadata": {
    "ExecuteTime": {
     "end_time": "2022-06-07T08:25:49.133209Z",
     "start_time": "2022-06-07T08:25:47.813384Z"
    },
    "execution": {
     "iopub.execute_input": "2022-06-07T11:04:39.759620Z",
     "iopub.status.busy": "2022-06-07T11:04:39.759150Z",
     "iopub.status.idle": "2022-06-07T11:05:00.704117Z",
     "shell.execute_reply": "2022-06-07T11:05:00.704532Z"
    }
   },
   "outputs": [
    {
     "name": "stdout",
     "output_type": "stream",
     "text": [
      "SFIL RUN 1/10 - acc: 56.16% +- 2.22% - auc: 62.49% +- 5.5%\n",
      "SFIL RUN 2/10 - acc: 56.91% +- 3.86% - auc: 63.8% +- 6.53%\n",
      "SFIL RUN 3/10 - acc: 55.66% +- 1.27% - auc: 57.73% +- 1.79%\n",
      "SFIL RUN 4/10 - acc: 56.85% +- 2.36% - auc: 58.69% +- 1.73%\n",
      "SFIL RUN 5/10 - acc: 56.83% +- 0.98% - auc: 58.66% +- 2.81%\n",
      "SFIL RUN 6/10 - acc: 56.88% +- 1.79% - auc: 62.35% +- 2.39%\n",
      "SFIL RUN 7/10 - acc: 56.91% +- 2.28% - auc: 59.8% +- 2.98%\n",
      "SFIL RUN 8/10 - acc: 56.83% +- 0.78% - auc: 58.92% +- 2.94%\n",
      "SFIL RUN 9/10 - acc: 56.9% +- 2.25% - auc: 58.42% +- 4.08%\n",
      "SFIL RUN 10/10 - acc: 56.9% +- 1.7% - auc: 60.33% +- 1.77%\n",
      "SFIL GLOBAL - acc: 56.68% +- 0.4% - auc: 60.12% +- 1.96%\n"
     ]
    }
   ],
   "source": [
    "sfil_accs, sfil_aucs = [], []\n",
    "for i in range(n_runs):\n",
    "    acc, auc = filtering(imputed, y, mode='standard', random_state=i)\n",
    "    sfil_accs.append(acc.mean())\n",
    "    sfil_aucs.append(auc.mean())\n",
    "    print(f'SFIL RUN {i + 1}/{n_runs} - acc: {round(np.mean(acc) * 100, 2)}% +- {round(np.std(acc) * 100, 2)}% - ' +\n",
    "          f'auc: {round(np.mean(auc) * 100, 2)}% +- {round(np.std(auc) * 100, 2)}%')\n",
    "print(f'SFIL GLOBAL - acc: {round(np.mean(sfil_accs) * 100, 2)}% +- {round(np.std(sfil_accs) * 100, 2)}% - ' +\n",
    "      f'auc: {round(np.mean(sfil_aucs) * 100, 2)}% +- {round(np.std(sfil_aucs) * 100, 2)}%')"
   ]
  },
  {
   "cell_type": "markdown",
   "metadata": {},
   "source": [
    "## Run PFIL"
   ]
  },
  {
   "cell_type": "code",
   "execution_count": 7,
   "metadata": {
    "ExecuteTime": {
     "end_time": "2022-06-07T08:35:09.194980Z",
     "start_time": "2022-06-07T08:25:49.134766Z"
    },
    "execution": {
     "iopub.execute_input": "2022-06-07T11:05:00.708118Z",
     "iopub.status.busy": "2022-06-07T11:05:00.706682Z",
     "iopub.status.idle": "2022-06-07T13:20:56.333646Z",
     "shell.execute_reply": "2022-06-07T13:20:56.334771Z"
    },
    "scrolled": false
   },
   "outputs": [
    {
     "name": "stdout",
     "output_type": "stream",
     "text": [
      "PFIL RUN 1/10 - acc: 70.31% +- 3.46% - auc: 76.91% +- 6.61%\n",
      "PFIL RUN 2/10 - acc: 71.1% +- 2.63% - auc: 75.16% +- 2.56%\n",
      "PFIL RUN 3/10 - acc: 71.84% +- 3.25% - auc: 76.3% +- 2.24%\n",
      "PFIL RUN 4/10 - acc: 70.69% +- 4.45% - auc: 78.12% +- 2.39%\n",
      "PFIL RUN 5/10 - acc: 72.56% +- 3.03% - auc: 75.47% +- 5.63%\n",
      "PFIL RUN 6/10 - acc: 71.95% +- 3.42% - auc: 76.66% +- 5.14%\n",
      "PFIL RUN 7/10 - acc: 71.93% +- 3.4% - auc: 78.15% +- 3.81%\n",
      "PFIL RUN 8/10 - acc: 71.64% +- 2.8% - auc: 77.51% +- 3.1%\n",
      "PFIL RUN 9/10 - acc: 72.84% +- 2.56% - auc: 77.8% +- 2.69%\n",
      "PFIL RUN 10/10 - acc: 71.44% +- 2.95% - auc: 76.43% +- 4.02%\n",
      "PFIL GLOBAL - acc: 71.63% +- 0.74% - auc: 76.85% +- 1.0%\n"
     ]
    }
   ],
   "source": [
    "pfil_accs, pfil_aucs = [], []\n",
    "for i in range(n_runs):\n",
    "    acc, auc = filtering(imputed, y, mode='panda', random_state=i)\n",
    "    pfil_accs.append(acc.mean())\n",
    "    pfil_aucs.append(auc.mean())\n",
    "    print(f'PFIL RUN {i + 1}/{n_runs} - acc: {round(np.mean(acc) * 100, 2)}% +- {round(np.std(acc) * 100, 2)}% - ' +\n",
    "          f'auc: {round(np.mean(auc) * 100, 2)}% +- {round(np.std(auc) * 100, 2)}%')\n",
    "print(f'PFIL GLOBAL - acc: {round(np.mean(pfil_accs) * 100, 2)}% +- {round(np.std(pfil_accs) * 100, 2)}% - ' +\n",
    "      f'auc: {round(np.mean(pfil_aucs) * 100, 2)}% +- {round(np.std(pfil_aucs) * 100, 2)}%')"
   ]
  },
  {
   "cell_type": "markdown",
   "metadata": {},
   "source": [
    "## Run SPOL"
   ]
  },
  {
   "cell_type": "code",
   "execution_count": 8,
   "metadata": {
    "ExecuteTime": {
     "end_time": "2022-06-07T08:50:33.353751Z",
     "start_time": "2022-06-07T08:49:36.684786Z"
    },
    "execution": {
     "iopub.execute_input": "2022-06-07T13:20:56.342256Z",
     "iopub.status.busy": "2022-06-07T13:20:56.341223Z",
     "iopub.status.idle": "2022-06-07T13:22:25.514988Z",
     "shell.execute_reply": "2022-06-07T13:22:25.516056Z"
    }
   },
   "outputs": [
    {
     "name": "stdout",
     "output_type": "stream",
     "text": [
      "SPOL RUN 1/10 - acc: 60.21% +- 6.18% - auc: 64.19% +- 5.65%\n",
      "SPOL RUN 2/10 - acc: 57.96% +- 4.75% - auc: 64.93% +- 7.17%\n",
      "SPOL RUN 3/10 - acc: 58.76% +- 3.18% - auc: 62.56% +- 3.6%\n",
      "SPOL RUN 4/10 - acc: 55.14% +- 1.72% - auc: 62.01% +- 5.27%\n",
      "SPOL RUN 5/10 - acc: 58.69% +- 1.79% - auc: 66.08% +- 2.54%\n",
      "SPOL RUN 6/10 - acc: 60.14% +- 5.95% - auc: 63.29% +- 7.32%\n",
      "SPOL RUN 7/10 - acc: 55.78% +- 1.33% - auc: 61.75% +- 1.8%\n",
      "SPOL RUN 8/10 - acc: 60.14% +- 3.9% - auc: 64.19% +- 2.89%\n",
      "SPOL RUN 9/10 - acc: 62.56% +- 6.17% - auc: 64.61% +- 5.68%\n",
      "SPOL RUN 10/10 - acc: 62.57% +- 5.74% - auc: 67.28% +- 6.82%\n",
      "SPOL GLOBAL - acc: 59.2% +- 2.36% - auc: 64.09% +- 1.67%\n"
     ]
    }
   ],
   "source": [
    "spol_accs, spol_aucs = [], []\n",
    "for i in range(n_runs):\n",
    "    acc, auc = polishing(imputed, y, mode='standard', random_state=i)\n",
    "    spol_accs.append(acc.mean())\n",
    "    spol_aucs.append(auc.mean())\n",
    "    print(f'SPOL RUN {i + 1}/{n_runs} - acc: {round(np.mean(acc) * 100, 2)}% +- {round(np.std(acc) * 100, 2)}% - ' +\n",
    "          f'auc: {round(np.mean(auc) * 100, 2)}% +- {round(np.std(auc) * 100, 2)}%')\n",
    "print(f'SPOL GLOBAL - acc: {round(np.mean(spol_accs) * 100, 2)}% +- {round(np.std(spol_accs) * 100, 2)}% - ' +\n",
    "      f'auc: {round(np.mean(spol_aucs) * 100, 2)}% +- {round(np.std(spol_aucs) * 100, 2)}%')"
   ]
  },
  {
   "cell_type": "markdown",
   "metadata": {},
   "source": [
    "## Run PPOL"
   ]
  },
  {
   "cell_type": "code",
   "execution_count": 9,
   "metadata": {
    "ExecuteTime": {
     "end_time": "2022-06-07T08:52:24.306737Z",
     "start_time": "2022-06-07T08:50:33.355178Z"
    },
    "execution": {
     "iopub.execute_input": "2022-06-07T13:22:25.524933Z",
     "iopub.status.busy": "2022-06-07T13:22:25.523490Z",
     "iopub.status.idle": "2022-06-07T15:28:06.271786Z",
     "shell.execute_reply": "2022-06-07T15:28:06.272399Z"
    }
   },
   "outputs": [
    {
     "name": "stdout",
     "output_type": "stream",
     "text": [
      "PPOL RUN 1/10 - acc: 72.47% +- 3.12% - auc: 77.03% +- 2.28%\n",
      "PPOL RUN 2/10 - acc: 70.78% +- 2.83% - auc: 74.23% +- 2.63%\n",
      "PPOL RUN 3/10 - acc: 70.29% +- 4.12% - auc: 75.99% +- 3.45%\n",
      "PPOL RUN 4/10 - acc: 71.8% +- 2.69% - auc: 78.97% +- 4.02%\n",
      "PPOL RUN 5/10 - acc: 71.04% +- 2.79% - auc: 76.88% +- 4.04%\n",
      "PPOL RUN 6/10 - acc: 71.62% +- 2.37% - auc: 76.09% +- 2.06%\n",
      "PPOL RUN 7/10 - acc: 72.1% +- 3.48% - auc: 77.8% +- 4.82%\n",
      "PPOL RUN 8/10 - acc: 71.76% +- 2.26% - auc: 78.39% +- 2.69%\n",
      "PPOL RUN 9/10 - acc: 72.62% +- 2.08% - auc: 78.34% +- 2.05%\n",
      "PPOL RUN 10/10 - acc: 72.95% +- 1.65% - auc: 78.39% +- 3.71%\n",
      "PPOL GLOBAL - acc: 71.74% +- 0.8% - auc: 77.21% +- 1.39%\n"
     ]
    }
   ],
   "source": [
    "ppol_accs, ppol_aucs = [], []\n",
    "for i in range(n_runs):\n",
    "    acc, auc = polishing(imputed, y, mode='panda', random_state=i)\n",
    "    ppol_accs.append(acc.mean())\n",
    "    ppol_aucs.append(auc.mean())\n",
    "    print(f'PPOL RUN {i + 1}/{n_runs} - acc: {round(np.mean(acc) * 100, 2)}% +- {round(np.std(acc) * 100, 2)}% - ' +\n",
    "          f'auc: {round(np.mean(auc) * 100, 2)}% +- {round(np.std(auc) * 100, 2)}%')\n",
    "print(f'PPOL GLOBAL - acc: {round(np.mean(ppol_accs) * 100, 2)}% +- {round(np.std(ppol_accs) * 100, 2)}% - ' +\n",
    "      f'auc: {round(np.mean(ppol_aucs) * 100, 2)}% +- {round(np.std(ppol_aucs) * 100, 2)}%')"
   ]
  },
  {
   "cell_type": "markdown",
   "metadata": {},
   "source": [
    "## Run T-tests"
   ]
  },
  {
   "cell_type": "code",
   "execution_count": 10,
   "metadata": {
    "ExecuteTime": {
     "end_time": "2022-06-07T08:52:25.983958Z",
     "start_time": "2022-06-07T08:52:25.963898Z"
    },
    "execution": {
     "iopub.execute_input": "2022-06-07T15:28:06.284197Z",
     "iopub.status.busy": "2022-06-07T15:28:06.282069Z",
     "iopub.status.idle": "2022-06-07T15:28:06.298224Z",
     "shell.execute_reply": "2022-06-07T15:28:06.299161Z"
    },
    "scrolled": false
   },
   "outputs": [
    {
     "name": "stdout",
     "output_type": "stream",
     "text": [
      "Metric ACC - OUR METHOD is significantly better than MICE\n",
      "Metric AUC - OUR METHOD is significantly better than MICE\n",
      "Metric ACC - OUR METHOD is significantly better than SFIL\n",
      "Metric AUC - OUR METHOD is significantly better than SFIL\n",
      "Metric ACC - OUR METHOD is significantly better than PFIL\n",
      "Metric AUC - OUR METHOD is significantly better than PFIL\n",
      "Metric ACC - OUR METHOD is significantly better than SPOL\n",
      "Metric AUC - OUR METHOD is significantly better than SPOL\n",
      "Metric ACC - OUR METHOD is significantly better than PPOL\n",
      "Metric AUC - OUR METHOD is significantly better than PPOL\n"
     ]
    }
   ],
   "source": [
    "for model, metrics in {\n",
    "        'MICE': {'ACC': mice_accs, 'AUC': mice_aucs},\n",
    "        'SFIL': {'ACC': sfil_accs, 'AUC': sfil_aucs},\n",
    "        'PFIL': {'ACC': pfil_accs, 'AUC': pfil_aucs},\n",
    "        'SPOL': {'ACC': spol_accs, 'AUC': spol_aucs},\n",
    "        'PPOL': {'ACC': ppol_accs, 'AUC': ppol_aucs}}.items():\n",
    "    for metric_name, metric in metrics.items():\n",
    "        ours_metric = ours_accs if metric_name == 'ACC' else ours_aucs\n",
    "        t, p = scipy.stats.ttest_ind(np.array(ours_metric), np.array(metric))\n",
    "        if p <= .05:\n",
    "            if t > 0:\n",
    "                ## Our method is better\n",
    "                print(f'Metric {metric_name} - OUR METHOD is significantly better than {model}')\n",
    "            else:\n",
    "                ## Theirs is better\n",
    "                print(f'Metric {metric_name} - OUR METHOD is significantly worse than {model}')\n",
    "        else:\n",
    "            ## Else we are even\n",
    "            print(f'Metric {metric_name} - OUR METHOD is even with {model}')"
   ]
  }
 ],
 "metadata": {
  "kernelspec": {
   "display_name": "Python 3 (ipykernel)",
   "language": "python",
   "name": "python3"
  },
  "language_info": {
   "codemirror_mode": {
    "name": "ipython",
    "version": 3
   },
   "file_extension": ".py",
   "mimetype": "text/x-python",
   "name": "python",
   "nbconvert_exporter": "python",
   "pygments_lexer": "ipython3",
   "version": "3.9.7"
  },
  "latex_envs": {
   "LaTeX_envs_menu_present": true,
   "autoclose": false,
   "autocomplete": true,
   "bibliofile": "biblio.bib",
   "cite_by": "apalike",
   "current_citInitial": 1,
   "eqLabelWithNumbers": true,
   "eqNumInitial": 1,
   "hotkeys": {
    "equation": "Ctrl-E",
    "itemize": "Ctrl-I"
   },
   "labels_anchors": false,
   "latex_user_defs": false,
   "report_style_numbering": false,
   "user_envs_cfg": false
  }
 },
 "nbformat": 4,
 "nbformat_minor": 2
}
