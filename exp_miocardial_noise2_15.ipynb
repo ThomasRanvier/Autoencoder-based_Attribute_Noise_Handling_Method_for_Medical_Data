{
 "cells": [
  {
   "cell_type": "code",
   "execution_count": 1,
   "metadata": {
    "ExecuteTime": {
     "end_time": "2022-06-07T08:11:39.412870Z",
     "start_time": "2022-06-07T08:11:35.692131Z"
    },
    "execution": {
     "iopub.execute_input": "2022-06-07T10:30:39.330236Z",
     "iopub.status.busy": "2022-06-07T10:30:39.328741Z",
     "iopub.status.idle": "2022-06-07T10:30:42.610093Z",
     "shell.execute_reply": "2022-06-07T10:30:42.608396Z"
    }
   },
   "outputs": [],
   "source": [
    "from __future__ import print_function\n",
    "import warnings\n",
    "warnings.filterwarnings('ignore')\n",
    "## Disable tf future deprecated messages\n",
    "import logging\n",
    "logging.getLogger('tensorflow').disabled = True\n",
    "## Disable tf CUDA messages\n",
    "import os\n",
    "os.environ['TF_CPP_MIN_LOG_LEVEL'] = '3'\n",
    "\n",
    "%matplotlib inline\n",
    "\n",
    "import sys\n",
    "import random\n",
    "import numpy as np\n",
    "import pandas as pd\n",
    "\n",
    "import utils\n",
    "import correction\n",
    "from models.dense import *\n",
    "from models.gain import gain\n",
    "from models.soft_impute import SoftImpute\n",
    "from models.sinkhorn import OTimputer\n",
    "from models.mida import mida\n",
    "from models.polishing import polishing\n",
    "from models.filtering import filtering\n",
    "\n",
    "import scipy.stats\n",
    "\n",
    "from sklearn.experimental import enable_iterative_imputer\n",
    "from sklearn.impute import IterativeImputer\n",
    "from sklearn.impute import KNNImputer, SimpleImputer\n",
    "\n",
    "import sklearn.neighbors._base\n",
    "sys.modules['sklearn.neighbors.base'] = sklearn.neighbors._base\n",
    "from missingpy import MissForest\n",
    "\n",
    "torch.backends.cudnn.enabled = True\n",
    "torch.backends.cudnn.benchmark = True\n",
    "dtype = torch.cuda.FloatTensor"
   ]
  },
  {
   "cell_type": "markdown",
   "metadata": {},
   "source": [
    "## Repeat all experiments for 10 runs"
   ]
  },
  {
   "cell_type": "code",
   "execution_count": 2,
   "metadata": {
    "ExecuteTime": {
     "end_time": "2022-06-07T08:11:39.417491Z",
     "start_time": "2022-06-07T08:11:39.415081Z"
    },
    "execution": {
     "iopub.execute_input": "2022-06-07T10:30:42.617388Z",
     "iopub.status.busy": "2022-06-07T10:30:42.616098Z",
     "iopub.status.idle": "2022-06-07T10:30:42.618559Z",
     "shell.execute_reply": "2022-06-07T10:30:42.619134Z"
    }
   },
   "outputs": [],
   "source": [
    "n_runs = 10"
   ]
  },
  {
   "cell_type": "markdown",
   "metadata": {},
   "source": [
    "## Load data"
   ]
  },
  {
   "cell_type": "code",
   "execution_count": 3,
   "metadata": {
    "ExecuteTime": {
     "end_time": "2022-06-07T08:11:41.218694Z",
     "start_time": "2022-06-07T08:11:39.419632Z"
    },
    "execution": {
     "iopub.execute_input": "2022-06-07T10:30:42.625679Z",
     "iopub.status.busy": "2022-06-07T10:30:42.624960Z",
     "iopub.status.idle": "2022-06-07T10:30:42.790303Z",
     "shell.execute_reply": "2022-06-07T10:30:42.789447Z"
    }
   },
   "outputs": [
    {
     "name": "stdout",
     "output_type": "stream",
     "text": [
      "Dataset shape: (1700, 110)\n",
      "5.62% missing data\n",
      "Class distribution: (array([0, 1]), array([1429,  271]))\n"
     ]
    }
   ],
   "source": [
    "data_missing, missing_mask, y = utils.load_miocardial()\n",
    "## Inject noise\n",
    "data_missing = utils.inject_noise(data_missing.copy(), noise_rate=.15)\n",
    "## Replace missing values locations by 0\n",
    "data_missing = data_missing * missing_mask"
   ]
  },
  {
   "cell_type": "markdown",
   "metadata": {},
   "source": [
    "## Run OUR METHOD"
   ]
  },
  {
   "cell_type": "code",
   "execution_count": 4,
   "metadata": {
    "ExecuteTime": {
     "end_time": "2022-06-07T08:25:41.124140Z",
     "start_time": "2022-06-07T08:11:41.222736Z"
    },
    "execution": {
     "iopub.execute_input": "2022-06-07T10:30:42.799079Z",
     "iopub.status.busy": "2022-06-07T10:30:42.798188Z",
     "iopub.status.idle": "2022-06-07T11:08:52.350346Z",
     "shell.execute_reply": "2022-06-07T11:08:52.349199Z"
    },
    "scrolled": false
   },
   "outputs": [
    {
     "name": "stdout",
     "output_type": "stream",
     "text": [
      "Ite 00000 - 2.68 sec - Loss 0.214564 - ACC 73.32% - ACC Mean 73.32% - AUC 78.08% - AUC Mean 78.08% - Deter 000\n",
      "Ite 00050 - 0.94 sec - Loss 0.101095 - ACC 73.82% - ACC Mean 74.52% - AUC 78.67% - AUC Mean 80.26% - Deter 022\n",
      "Ite 00078 - 0.92 sec - Loss 0.084206 - ACC 71.76% - ACC Mean 74.10% - AUC 79.88% - AUC Mean 79.71% - Deter 050\n",
      "Early stop ite 78, rollback to correction of ite 28, whith acc of 75.84% and auc of 81.85%\n",
      "OUR METHOD RUN 1/10 - acc: 75.84% +- 0.0% - auc: 81.85% +- 0.0%\n",
      "Ite 00000 - 0.90 sec - Loss 0.223886 - ACC 73.23% - ACC Mean 73.23% - AUC 79.53% - AUC Mean 79.53% - Deter 000\n",
      "Ite 00050 - 0.88 sec - Loss 0.115086 - ACC 73.51% - ACC Mean 73.67% - AUC 79.93% - AUC Mean 79.14% - Deter 039\n",
      "Ite 00100 - 0.92 sec - Loss 0.086057 - ACC 73.60% - ACC Mean 73.47% - AUC 80.02% - AUC Mean 80.11% - Deter 001\n",
      "Ite 00150 - 0.85 sec - Loss 0.072395 - ACC 74.55% - ACC Mean 74.33% - AUC 79.40% - AUC Mean 80.64% - Deter 033\n",
      "Ite 00167 - 0.81 sec - Loss 0.068865 - ACC 75.00% - ACC Mean 74.45% - AUC 80.65% - AUC Mean 80.55% - Deter 050\n",
      "Early stop ite 167, rollback to correction of ite 117, whith acc of 76.0% and auc of 82.18%\n",
      "OUR METHOD RUN 2/10 - acc: 76.0% +- 0.0% - auc: 82.18% +- 0.0%\n",
      "Ite 00000 - 0.89 sec - Loss 0.203359 - ACC 73.61% - ACC Mean 73.61% - AUC 78.89% - AUC Mean 78.89% - Deter 000\n",
      "Ite 00050 - 0.81 sec - Loss 0.097473 - ACC 72.10% - ACC Mean 74.09% - AUC 78.50% - AUC Mean 80.58% - Deter 009\n",
      "Ite 00091 - 0.86 sec - Loss 0.073047 - ACC 73.05% - ACC Mean 74.05% - AUC 79.63% - AUC Mean 79.81% - Deter 050\n",
      "Early stop ite 91, rollback to correction of ite 41, whith acc of 75.83% and auc of 82.52%\n",
      "OUR METHOD RUN 3/10 - acc: 75.83% +- 0.0% - auc: 82.52% +- 0.0%\n",
      "Ite 00000 - 0.86 sec - Loss 0.168819 - ACC 74.34% - ACC Mean 74.34% - AUC 77.32% - AUC Mean 77.32% - Deter 000\n",
      "Ite 00050 - 0.88 sec - Loss 0.082054 - ACC 73.36% - ACC Mean 73.38% - AUC 80.38% - AUC Mean 79.02% - Deter 020\n",
      "Ite 00100 - 0.82 sec - Loss 0.059316 - ACC 74.47% - ACC Mean 73.77% - AUC 80.59% - AUC Mean 79.93% - Deter 004\n",
      "Ite 00150 - 0.87 sec - Loss 0.048567 - ACC 73.80% - ACC Mean 73.85% - AUC 79.77% - AUC Mean 80.49% - Deter 027\n",
      "Ite 00173 - 0.88 sec - Loss 0.045174 - ACC 73.57% - ACC Mean 73.51% - AUC 79.96% - AUC Mean 79.62% - Deter 050\n",
      "Early stop ite 173, rollback to correction of ite 123, whith acc of 74.74% and auc of 83.3%\n",
      "OUR METHOD RUN 4/10 - acc: 74.74% +- 0.0% - auc: 83.3% +- 0.0%\n",
      "Ite 00000 - 0.86 sec - Loss 0.227834 - ACC 72.84% - ACC Mean 72.84% - AUC 77.96% - AUC Mean 77.96% - Deter 000\n",
      "Ite 00050 - 0.93 sec - Loss 0.116420 - ACC 73.38% - ACC Mean 74.33% - AUC 79.85% - AUC Mean 79.21% - Deter 037\n",
      "Ite 00100 - 1.02 sec - Loss 0.081652 - ACC 72.36% - ACC Mean 73.47% - AUC 78.03% - AUC Mean 79.93% - Deter 041\n",
      "Ite 00109 - 0.97 sec - Loss 0.077941 - ACC 73.28% - ACC Mean 73.37% - AUC 79.49% - AUC Mean 79.81% - Deter 050\n",
      "Early stop ite 109, rollback to correction of ite 59, whith acc of 73.2% and auc of 81.45%\n",
      "OUR METHOD RUN 5/10 - acc: 73.2% +- 0.0% - auc: 81.45% +- 0.0%\n",
      "Ite 00000 - 0.97 sec - Loss 0.205106 - ACC 73.12% - ACC Mean 73.12% - AUC 76.42% - AUC Mean 76.42% - Deter 000\n",
      "Ite 00050 - 0.95 sec - Loss 0.119506 - ACC 72.28% - ACC Mean 74.14% - AUC 79.20% - AUC Mean 79.43% - Deter 007\n",
      "Ite 00100 - 1.96 sec - Loss 0.094298 - ACC 74.26% - ACC Mean 73.49% - AUC 81.66% - AUC Mean 80.54% - Deter 011\n",
      "Ite 00150 - 1.74 sec - Loss 0.081762 - ACC 72.12% - ACC Mean 74.04% - AUC 79.22% - AUC Mean 80.47% - Deter 047\n",
      "Ite 00153 - 2.69 sec - Loss 0.081159 - ACC 73.67% - ACC Mean 73.97% - AUC 79.71% - AUC Mean 80.29% - Deter 050\n",
      "Early stop ite 153, rollback to correction of ite 103, whith acc of 73.72% and auc of 82.84%\n",
      "OUR METHOD RUN 6/10 - acc: 73.72% +- 0.0% - auc: 82.84% +- 0.0%\n",
      "Ite 00000 - 2.55 sec - Loss 0.224416 - ACC 73.70% - ACC Mean 73.70% - AUC 78.32% - AUC Mean 78.32% - Deter 000\n",
      "Ite 00050 - 3.84 sec - Loss 0.119701 - ACC 73.18% - ACC Mean 73.73% - AUC 78.97% - AUC Mean 79.20% - Deter 012\n",
      "Ite 00100 - 3.56 sec - Loss 0.095841 - ACC 73.32% - ACC Mean 73.79% - AUC 80.14% - AUC Mean 79.94% - Deter 004\n",
      "Ite 00150 - 3.23 sec - Loss 0.084150 - ACC 74.49% - ACC Mean 74.00% - AUC 81.80% - AUC Mean 81.03% - Deter 042\n",
      "Ite 00158 - 3.83 sec - Loss 0.082661 - ACC 72.79% - ACC Mean 73.99% - AUC 79.64% - AUC Mean 81.03% - Deter 050\n",
      "Early stop ite 158, rollback to correction of ite 108, whith acc of 74.06% and auc of 82.18%\n",
      "OUR METHOD RUN 7/10 - acc: 74.06% +- 0.0% - auc: 82.18% +- 0.0%\n",
      "Ite 00000 - 4.13 sec - Loss 0.226317 - ACC 73.30% - ACC Mean 73.30% - AUC 78.21% - AUC Mean 78.21% - Deter 000\n",
      "Ite 00050 - 4.10 sec - Loss 0.115428 - ACC 74.13% - ACC Mean 74.15% - AUC 80.32% - AUC Mean 79.16% - Deter 010\n",
      "Ite 00100 - 2.88 sec - Loss 0.085205 - ACC 73.50% - ACC Mean 73.79% - AUC 79.34% - AUC Mean 80.60% - Deter 042\n",
      "Ite 00108 - 4.19 sec - Loss 0.082324 - ACC 73.88% - ACC Mean 73.80% - AUC 79.87% - AUC Mean 80.47% - Deter 050\n",
      "Early stop ite 108, rollback to correction of ite 58, whith acc of 74.4% and auc of 82.61%\n",
      "OUR METHOD RUN 8/10 - acc: 74.4% +- 0.0% - auc: 82.61% +- 0.0%\n",
      "Ite 00000 - 4.23 sec - Loss 0.180701 - ACC 73.26% - ACC Mean 73.26% - AUC 78.81% - AUC Mean 78.81% - Deter 000\n",
      "Ite 00050 - 2.66 sec - Loss 0.090565 - ACC 73.55% - ACC Mean 74.22% - AUC 77.85% - AUC Mean 79.31% - Deter 032\n",
      "Ite 00068 - 1.22 sec - Loss 0.078189 - ACC 73.72% - ACC Mean 74.14% - AUC 77.94% - AUC Mean 78.99% - Deter 050\n",
      "Early stop ite 68, rollback to correction of ite 18, whith acc of 75.29% and auc of 81.96%\n",
      "OUR METHOD RUN 9/10 - acc: 75.29% +- 0.0% - auc: 81.96% +- 0.0%\n",
      "Ite 00000 - 1.81 sec - Loss 0.205018 - ACC 73.54% - ACC Mean 73.54% - AUC 79.30% - AUC Mean 79.30% - Deter 000\n",
      "Ite 00050 - 1.00 sec - Loss 0.103879 - ACC 73.58% - ACC Mean 73.08% - AUC 80.39% - AUC Mean 79.13% - Deter 017\n",
      "Ite 00100 - 1.58 sec - Loss 0.080054 - ACC 75.21% - ACC Mean 73.87% - AUC 80.68% - AUC Mean 80.16% - Deter 020\n",
      "Ite 00130 - 0.96 sec - Loss 0.072656 - ACC 74.64% - ACC Mean 74.06% - AUC 81.30% - AUC Mean 79.92% - Deter 050\n",
      "Early stop ite 130, rollback to correction of ite 80, whith acc of 74.9% and auc of 82.93%\n",
      "OUR METHOD RUN 10/10 - acc: 74.9% +- 0.0% - auc: 82.93% +- 0.0%\n",
      "\n",
      "OUR METHOD GLOBAL - acc: 74.8% +- 0.91% - auc: 82.38% +- 0.53%\n"
     ]
    }
   ],
   "source": [
    "params = {\n",
    "    'nb_batches': 10,\n",
    "    'reg_noise_std': .03,\n",
    "    'net_input': 'data_corrupted',\n",
    "    'net_params': {\n",
    "        'input_channels':1,\n",
    "        'output_channels':1,\n",
    "        'channels_skip':4,\n",
    "        'down_layers':[(24, 7, 2),\n",
    "                       (46, 9, 1),\n",
    "                       (96, 9, 5),\n",
    "                       (96, 11, 1)],\n",
    "        'need_sigmoid':True,\n",
    "        'need_bias':True,\n",
    "        'pad':'zero',\n",
    "        'downsample_mode':'stride',\n",
    "        'upsample_mode':'nearest',\n",
    "        'act_fun':'LeakyReLU',\n",
    "        'need1x1_up':True\n",
    "    },# or a list containing layers sizes\n",
    "    'adam_lr': .0001,\n",
    "    'adam_weight_decay': 0.,\n",
    "}\n",
    "\n",
    "ours_accs, ours_aucs = [], []\n",
    "for i in range(n_runs):\n",
    "    ours_correction = correction.run(data_missing, 501, params, y=y, missing_mask=missing_mask, seed=i)\n",
    "    ## Since our method returns 2 imputations select the best one\n",
    "    scores_raw = utils.get_scores(ours_correction['raw_out'], y)\n",
    "    acc = scores_raw['test_balanced_accuracy']\n",
    "    auc = scores_raw['test_roc_auc_ovo']\n",
    "    acc = acc.mean()\n",
    "    acc_std = acc.std()\n",
    "    auc = auc.mean()\n",
    "    auc_std = auc.std()\n",
    "    if 'masked_out' in ours_correction:\n",
    "        scores_masked = utils.get_scores(ours_correction['masked_out'], y)\n",
    "        acc_masked = scores_masked['test_balanced_accuracy']\n",
    "        auc_masked = scores_masked['test_roc_auc_ovo']\n",
    "        if auc_masked.mean() > auc:\n",
    "            acc = acc_masked.mean()\n",
    "            acc_std = acc_masked.std()\n",
    "            auc = auc_masked.mean()\n",
    "            auc_std = auc_masked.std()\n",
    "    print(f'OUR METHOD RUN {i + 1}/{n_runs} - acc: {round(acc.mean() * 100, 2)}% +- {round(acc.std() * 100, 2)}% - ' +\n",
    "          f'auc: {round(auc.mean() * 100, 2)}% +- {round(auc.std() * 100, 2)}%')\n",
    "    ours_accs.append(acc.mean())\n",
    "    ours_aucs.append(auc.mean())\n",
    "print(f'\\nOUR METHOD GLOBAL - acc: {round(np.array(ours_accs).mean() * 100, 2)}% +- {round(np.array(ours_accs).std() * 100, 2)}% - ' +\n",
    "      f'auc: {round(np.array(ours_aucs).mean() * 100, 2)}% +- {round(np.array(ours_aucs).std() * 100, 2)}%')"
   ]
  },
  {
   "cell_type": "markdown",
   "metadata": {},
   "source": [
    "## Run MICE"
   ]
  },
  {
   "cell_type": "code",
   "execution_count": 5,
   "metadata": {
    "ExecuteTime": {
     "end_time": "2022-06-07T08:25:47.812154Z",
     "start_time": "2022-06-07T08:25:41.125881Z"
    },
    "execution": {
     "iopub.execute_input": "2022-06-07T11:08:52.357785Z",
     "iopub.status.busy": "2022-06-07T11:08:52.356853Z",
     "iopub.status.idle": "2022-06-07T11:18:26.278406Z",
     "shell.execute_reply": "2022-06-07T11:18:26.278823Z"
    }
   },
   "outputs": [
    {
     "name": "stdout",
     "output_type": "stream",
     "text": [
      "MICE - acc: 71.41% +- 0.0% - auc: 78.98% +- 0.0%\n"
     ]
    }
   ],
   "source": [
    "data_missing_nans = np.where(missing_mask, data_missing, np.nan)\n",
    "\n",
    "imputer = IterativeImputer()\n",
    "imputed = imputer.fit_transform(data_missing_nans)\n",
    "## All runs would be the same since deterministic method\n",
    "scores = utils.get_scores(imputed, y)\n",
    "acc = [scores['test_balanced_accuracy'].mean()] * n_runs\n",
    "auc = [scores['test_roc_auc_ovo'].mean()] * n_runs\n",
    "print(f'MICE - acc: {round(np.mean(acc) * 100, 2)}% +- {round(np.std(acc) * 100, 2)}% - ' +\n",
    "      f'auc: {round(np.mean(auc) * 100, 2)}% +- {round(np.std(auc) * 100, 2)}%')\n",
    "mice_accs = acc\n",
    "mice_aucs = auc"
   ]
  },
  {
   "cell_type": "markdown",
   "metadata": {},
   "source": [
    "## Run SFIL"
   ]
  },
  {
   "cell_type": "code",
   "execution_count": 6,
   "metadata": {
    "ExecuteTime": {
     "end_time": "2022-06-07T08:25:49.133209Z",
     "start_time": "2022-06-07T08:25:47.813384Z"
    },
    "execution": {
     "iopub.execute_input": "2022-06-07T11:18:26.284195Z",
     "iopub.status.busy": "2022-06-07T11:18:26.283684Z",
     "iopub.status.idle": "2022-06-07T11:18:35.160266Z",
     "shell.execute_reply": "2022-06-07T11:18:35.160660Z"
    }
   },
   "outputs": [
    {
     "name": "stdout",
     "output_type": "stream",
     "text": [
      "SFIL RUN 1/10 - acc: 55.31% +- 3.63% - auc: 59.36% +- 2.79%\n",
      "SFIL RUN 2/10 - acc: 53.88% +- 3.41% - auc: 58.72% +- 2.28%\n",
      "SFIL RUN 3/10 - acc: 56.44% +- 0.84% - auc: 59.74% +- 2.62%\n",
      "SFIL RUN 4/10 - acc: 56.4% +- 1.98% - auc: 58.76% +- 2.83%\n",
      "SFIL RUN 5/10 - acc: 57.86% +- 1.95% - auc: 61.5% +- 4.46%\n",
      "SFIL RUN 6/10 - acc: 56.27% +- 2.77% - auc: 60.13% +- 2.22%\n",
      "SFIL RUN 7/10 - acc: 54.33% +- 2.5% - auc: 57.8% +- 1.73%\n",
      "SFIL RUN 8/10 - acc: 57.5% +- 6.14% - auc: 61.56% +- 3.95%\n",
      "SFIL RUN 9/10 - acc: 56.79% +- 4.74% - auc: 60.71% +- 6.47%\n",
      "SFIL RUN 10/10 - acc: 55.28% +- 3.16% - auc: 58.54% +- 2.3%\n",
      "SFIL GLOBAL - acc: 56.01% +- 1.23% - auc: 59.68% +- 1.22%\n"
     ]
    }
   ],
   "source": [
    "sfil_accs, sfil_aucs = [], []\n",
    "for i in range(n_runs):\n",
    "    acc, auc = filtering(imputed, y, mode='standard', random_state=i)\n",
    "    sfil_accs.append(acc.mean())\n",
    "    sfil_aucs.append(auc.mean())\n",
    "    print(f'SFIL RUN {i + 1}/{n_runs} - acc: {round(np.mean(acc) * 100, 2)}% +- {round(np.std(acc) * 100, 2)}% - ' +\n",
    "          f'auc: {round(np.mean(auc) * 100, 2)}% +- {round(np.std(auc) * 100, 2)}%')\n",
    "print(f'SFIL GLOBAL - acc: {round(np.mean(sfil_accs) * 100, 2)}% +- {round(np.std(sfil_accs) * 100, 2)}% - ' +\n",
    "      f'auc: {round(np.mean(sfil_aucs) * 100, 2)}% +- {round(np.std(sfil_aucs) * 100, 2)}%')"
   ]
  },
  {
   "cell_type": "markdown",
   "metadata": {},
   "source": [
    "## Run PFIL"
   ]
  },
  {
   "cell_type": "code",
   "execution_count": 7,
   "metadata": {
    "ExecuteTime": {
     "end_time": "2022-06-07T08:35:09.194980Z",
     "start_time": "2022-06-07T08:25:49.134766Z"
    },
    "execution": {
     "iopub.execute_input": "2022-06-07T11:18:35.165576Z",
     "iopub.status.busy": "2022-06-07T11:18:35.165150Z",
     "iopub.status.idle": "2022-06-07T13:34:36.444444Z",
     "shell.execute_reply": "2022-06-07T13:34:36.445525Z"
    },
    "scrolled": false
   },
   "outputs": [
    {
     "name": "stdout",
     "output_type": "stream",
     "text": [
      "PFIL RUN 1/10 - acc: 71.51% +- 3.84% - auc: 78.53% +- 2.38%\n",
      "PFIL RUN 2/10 - acc: 70.83% +- 2.5% - auc: 75.53% +- 3.6%\n",
      "PFIL RUN 3/10 - acc: 72.32% +- 3.9% - auc: 77.86% +- 5.26%\n",
      "PFIL RUN 4/10 - acc: 72.31% +- 1.89% - auc: 77.29% +- 2.49%\n",
      "PFIL RUN 5/10 - acc: 71.25% +- 4.34% - auc: 76.46% +- 3.84%\n",
      "PFIL RUN 6/10 - acc: 71.64% +- 2.89% - auc: 76.93% +- 3.65%\n",
      "PFIL RUN 7/10 - acc: 70.61% +- 1.89% - auc: 76.46% +- 1.67%\n",
      "PFIL RUN 8/10 - acc: 72.47% +- 2.17% - auc: 77.28% +- 3.02%\n",
      "PFIL RUN 9/10 - acc: 72.11% +- 4.6% - auc: 77.9% +- 5.35%\n",
      "PFIL RUN 10/10 - acc: 72.02% +- 4.28% - auc: 75.07% +- 3.32%\n",
      "PFIL GLOBAL - acc: 71.71% +- 0.62% - auc: 76.93% +- 1.03%\n"
     ]
    }
   ],
   "source": [
    "pfil_accs, pfil_aucs = [], []\n",
    "for i in range(n_runs):\n",
    "    acc, auc = filtering(imputed, y, mode='panda', random_state=i)\n",
    "    pfil_accs.append(acc.mean())\n",
    "    pfil_aucs.append(auc.mean())\n",
    "    print(f'PFIL RUN {i + 1}/{n_runs} - acc: {round(np.mean(acc) * 100, 2)}% +- {round(np.std(acc) * 100, 2)}% - ' +\n",
    "          f'auc: {round(np.mean(auc) * 100, 2)}% +- {round(np.std(auc) * 100, 2)}%')\n",
    "print(f'PFIL GLOBAL - acc: {round(np.mean(pfil_accs) * 100, 2)}% +- {round(np.std(pfil_accs) * 100, 2)}% - ' +\n",
    "      f'auc: {round(np.mean(pfil_aucs) * 100, 2)}% +- {round(np.std(pfil_aucs) * 100, 2)}%')"
   ]
  },
  {
   "cell_type": "markdown",
   "metadata": {},
   "source": [
    "## Run SPOL"
   ]
  },
  {
   "cell_type": "code",
   "execution_count": 8,
   "metadata": {
    "ExecuteTime": {
     "end_time": "2022-06-07T08:50:33.353751Z",
     "start_time": "2022-06-07T08:49:36.684786Z"
    },
    "execution": {
     "iopub.execute_input": "2022-06-07T13:34:36.453257Z",
     "iopub.status.busy": "2022-06-07T13:34:36.452523Z",
     "iopub.status.idle": "2022-06-07T13:36:12.271285Z",
     "shell.execute_reply": "2022-06-07T13:36:12.272325Z"
    }
   },
   "outputs": [
    {
     "name": "stdout",
     "output_type": "stream",
     "text": [
      "SPOL RUN 1/10 - acc: 62.22% +- 5.89% - auc: 67.22% +- 5.73%\n",
      "SPOL RUN 2/10 - acc: 60.74% +- 6.27% - auc: 65.17% +- 5.01%\n",
      "SPOL RUN 3/10 - acc: 58.28% +- 3.42% - auc: 62.53% +- 5.17%\n",
      "SPOL RUN 4/10 - acc: 60.15% +- 2.08% - auc: 62.77% +- 3.61%\n",
      "SPOL RUN 5/10 - acc: 58.44% +- 3.21% - auc: 61.85% +- 3.62%\n",
      "SPOL RUN 6/10 - acc: 56.01% +- 2.24% - auc: 60.61% +- 3.25%\n",
      "SPOL RUN 7/10 - acc: 55.31% +- 1.46% - auc: 57.74% +- 1.14%\n",
      "SPOL RUN 8/10 - acc: 56.06% +- 2.9% - auc: 61.57% +- 2.44%\n",
      "SPOL RUN 9/10 - acc: 60.46% +- 4.25% - auc: 65.56% +- 5.93%\n",
      "SPOL RUN 10/10 - acc: 57.52% +- 5.5% - auc: 60.71% +- 4.93%\n",
      "SPOL GLOBAL - acc: 58.52% +- 2.21% - auc: 62.57% +- 2.64%\n"
     ]
    }
   ],
   "source": [
    "spol_accs, spol_aucs = [], []\n",
    "for i in range(n_runs):\n",
    "    acc, auc = polishing(imputed, y, mode='standard', random_state=i)\n",
    "    spol_accs.append(acc.mean())\n",
    "    spol_aucs.append(auc.mean())\n",
    "    print(f'SPOL RUN {i + 1}/{n_runs} - acc: {round(np.mean(acc) * 100, 2)}% +- {round(np.std(acc) * 100, 2)}% - ' +\n",
    "          f'auc: {round(np.mean(auc) * 100, 2)}% +- {round(np.std(auc) * 100, 2)}%')\n",
    "print(f'SPOL GLOBAL - acc: {round(np.mean(spol_accs) * 100, 2)}% +- {round(np.std(spol_accs) * 100, 2)}% - ' +\n",
    "      f'auc: {round(np.mean(spol_aucs) * 100, 2)}% +- {round(np.std(spol_aucs) * 100, 2)}%')"
   ]
  },
  {
   "cell_type": "markdown",
   "metadata": {},
   "source": [
    "## Run PPOL"
   ]
  },
  {
   "cell_type": "code",
   "execution_count": 9,
   "metadata": {
    "ExecuteTime": {
     "end_time": "2022-06-07T08:52:24.306737Z",
     "start_time": "2022-06-07T08:50:33.355178Z"
    },
    "execution": {
     "iopub.execute_input": "2022-06-07T13:36:12.284452Z",
     "iopub.status.busy": "2022-06-07T13:36:12.283167Z",
     "iopub.status.idle": "2022-06-07T16:20:41.004470Z",
     "shell.execute_reply": "2022-06-07T16:20:41.004855Z"
    }
   },
   "outputs": [
    {
     "name": "stdout",
     "output_type": "stream",
     "text": [
      "PPOL RUN 1/10 - acc: 71.81% +- 2.4% - auc: 76.75% +- 2.13%\n",
      "PPOL RUN 2/10 - acc: 70.25% +- 3.29% - auc: 76.26% +- 4.52%\n",
      "PPOL RUN 3/10 - acc: 70.08% +- 4.02% - auc: 75.68% +- 5.23%\n",
      "PPOL RUN 4/10 - acc: 71.66% +- 2.53% - auc: 77.88% +- 1.0%\n",
      "PPOL RUN 5/10 - acc: 68.42% +- 3.64% - auc: 76.04% +- 4.2%\n",
      "PPOL RUN 6/10 - acc: 72.21% +- 3.38% - auc: 77.3% +- 5.2%\n",
      "PPOL RUN 7/10 - acc: 70.96% +- 2.64% - auc: 76.44% +- 2.63%\n",
      "PPOL RUN 8/10 - acc: 70.77% +- 1.66% - auc: 76.58% +- 2.3%\n",
      "PPOL RUN 9/10 - acc: 70.57% +- 3.24% - auc: 76.57% +- 3.67%\n",
      "PPOL RUN 10/10 - acc: 71.04% +- 3.55% - auc: 78.34% +- 5.94%\n",
      "PPOL GLOBAL - acc: 70.78% +- 1.02% - auc: 76.78% +- 0.78%\n"
     ]
    }
   ],
   "source": [
    "ppol_accs, ppol_aucs = [], []\n",
    "for i in range(n_runs):\n",
    "    acc, auc = polishing(imputed, y, mode='panda', random_state=i)\n",
    "    ppol_accs.append(acc.mean())\n",
    "    ppol_aucs.append(auc.mean())\n",
    "    print(f'PPOL RUN {i + 1}/{n_runs} - acc: {round(np.mean(acc) * 100, 2)}% +- {round(np.std(acc) * 100, 2)}% - ' +\n",
    "          f'auc: {round(np.mean(auc) * 100, 2)}% +- {round(np.std(auc) * 100, 2)}%')\n",
    "print(f'PPOL GLOBAL - acc: {round(np.mean(ppol_accs) * 100, 2)}% +- {round(np.std(ppol_accs) * 100, 2)}% - ' +\n",
    "      f'auc: {round(np.mean(ppol_aucs) * 100, 2)}% +- {round(np.std(ppol_aucs) * 100, 2)}%')"
   ]
  },
  {
   "cell_type": "markdown",
   "metadata": {},
   "source": [
    "## Run T-tests"
   ]
  },
  {
   "cell_type": "code",
   "execution_count": 10,
   "metadata": {
    "ExecuteTime": {
     "end_time": "2022-06-07T08:52:25.983958Z",
     "start_time": "2022-06-07T08:52:25.963898Z"
    },
    "execution": {
     "iopub.execute_input": "2022-06-07T16:20:41.013608Z",
     "iopub.status.busy": "2022-06-07T16:20:41.012929Z",
     "iopub.status.idle": "2022-06-07T16:20:41.022061Z",
     "shell.execute_reply": "2022-06-07T16:20:41.022439Z"
    },
    "scrolled": false
   },
   "outputs": [
    {
     "name": "stdout",
     "output_type": "stream",
     "text": [
      "Metric ACC - OUR METHOD is significantly better than MICE\n",
      "Metric AUC - OUR METHOD is significantly better than MICE\n",
      "Metric ACC - OUR METHOD is significantly better than SFIL\n",
      "Metric AUC - OUR METHOD is significantly better than SFIL\n",
      "Metric ACC - OUR METHOD is significantly better than PFIL\n",
      "Metric AUC - OUR METHOD is significantly better than PFIL\n",
      "Metric ACC - OUR METHOD is significantly better than SPOL\n",
      "Metric AUC - OUR METHOD is significantly better than SPOL\n",
      "Metric ACC - OUR METHOD is significantly better than PPOL\n",
      "Metric AUC - OUR METHOD is significantly better than PPOL\n"
     ]
    }
   ],
   "source": [
    "for model, metrics in {\n",
    "        'MICE': {'ACC': mice_accs, 'AUC': mice_aucs},\n",
    "        'SFIL': {'ACC': sfil_accs, 'AUC': sfil_aucs},\n",
    "        'PFIL': {'ACC': pfil_accs, 'AUC': pfil_aucs},\n",
    "        'SPOL': {'ACC': spol_accs, 'AUC': spol_aucs},\n",
    "        'PPOL': {'ACC': ppol_accs, 'AUC': ppol_aucs}}.items():\n",
    "    for metric_name, metric in metrics.items():\n",
    "        ours_metric = ours_accs if metric_name == 'ACC' else ours_aucs\n",
    "        t, p = scipy.stats.ttest_ind(np.array(ours_metric), np.array(metric))\n",
    "        if p <= .05:\n",
    "            if t > 0:\n",
    "                ## Our method is better\n",
    "                print(f'Metric {metric_name} - OUR METHOD is significantly better than {model}')\n",
    "            else:\n",
    "                ## Theirs is better\n",
    "                print(f'Metric {metric_name} - OUR METHOD is significantly worse than {model}')\n",
    "        else:\n",
    "            ## Else we are even\n",
    "            print(f'Metric {metric_name} - OUR METHOD is even with {model}')"
   ]
  }
 ],
 "metadata": {
  "kernelspec": {
   "display_name": "Python 3 (ipykernel)",
   "language": "python",
   "name": "python3"
  },
  "language_info": {
   "codemirror_mode": {
    "name": "ipython",
    "version": 3
   },
   "file_extension": ".py",
   "mimetype": "text/x-python",
   "name": "python",
   "nbconvert_exporter": "python",
   "pygments_lexer": "ipython3",
   "version": "3.9.7"
  },
  "latex_envs": {
   "LaTeX_envs_menu_present": true,
   "autoclose": false,
   "autocomplete": true,
   "bibliofile": "biblio.bib",
   "cite_by": "apalike",
   "current_citInitial": 1,
   "eqLabelWithNumbers": true,
   "eqNumInitial": 1,
   "hotkeys": {
    "equation": "Ctrl-E",
    "itemize": "Ctrl-I"
   },
   "labels_anchors": false,
   "latex_user_defs": false,
   "report_style_numbering": false,
   "user_envs_cfg": false
  }
 },
 "nbformat": 4,
 "nbformat_minor": 2
}
