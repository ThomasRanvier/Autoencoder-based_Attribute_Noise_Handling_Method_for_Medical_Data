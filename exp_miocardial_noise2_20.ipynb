{
 "cells": [
  {
   "cell_type": "code",
   "execution_count": 1,
   "metadata": {
    "ExecuteTime": {
     "end_time": "2022-06-07T08:11:39.412870Z",
     "start_time": "2022-06-07T08:11:35.692131Z"
    },
    "execution": {
     "iopub.execute_input": "2022-06-07T10:30:39.320172Z",
     "iopub.status.busy": "2022-06-07T10:30:39.318874Z",
     "iopub.status.idle": "2022-06-07T10:30:42.603887Z",
     "shell.execute_reply": "2022-06-07T10:30:42.601884Z"
    }
   },
   "outputs": [],
   "source": [
    "from __future__ import print_function\n",
    "import warnings\n",
    "warnings.filterwarnings('ignore')\n",
    "## Disable tf future deprecated messages\n",
    "import logging\n",
    "logging.getLogger('tensorflow').disabled = True\n",
    "## Disable tf CUDA messages\n",
    "import os\n",
    "os.environ['TF_CPP_MIN_LOG_LEVEL'] = '3'\n",
    "\n",
    "%matplotlib inline\n",
    "\n",
    "import sys\n",
    "import random\n",
    "import numpy as np\n",
    "import pandas as pd\n",
    "\n",
    "import utils\n",
    "import correction\n",
    "from models.dense import *\n",
    "from models.gain import gain\n",
    "from models.soft_impute import SoftImpute\n",
    "from models.sinkhorn import OTimputer\n",
    "from models.mida import mida\n",
    "from models.polishing import polishing\n",
    "from models.filtering import filtering\n",
    "\n",
    "import scipy.stats\n",
    "\n",
    "from sklearn.experimental import enable_iterative_imputer\n",
    "from sklearn.impute import IterativeImputer\n",
    "from sklearn.impute import KNNImputer, SimpleImputer\n",
    "\n",
    "import sklearn.neighbors._base\n",
    "sys.modules['sklearn.neighbors.base'] = sklearn.neighbors._base\n",
    "from missingpy import MissForest\n",
    "\n",
    "torch.backends.cudnn.enabled = True\n",
    "torch.backends.cudnn.benchmark = True\n",
    "dtype = torch.cuda.FloatTensor"
   ]
  },
  {
   "cell_type": "markdown",
   "metadata": {},
   "source": [
    "## Repeat all experiments for 10 runs"
   ]
  },
  {
   "cell_type": "code",
   "execution_count": 2,
   "metadata": {
    "ExecuteTime": {
     "end_time": "2022-06-07T08:11:39.417491Z",
     "start_time": "2022-06-07T08:11:39.415081Z"
    },
    "execution": {
     "iopub.execute_input": "2022-06-07T10:30:42.610137Z",
     "iopub.status.busy": "2022-06-07T10:30:42.609195Z",
     "iopub.status.idle": "2022-06-07T10:30:42.611944Z",
     "shell.execute_reply": "2022-06-07T10:30:42.610979Z"
    }
   },
   "outputs": [],
   "source": [
    "n_runs = 10"
   ]
  },
  {
   "cell_type": "markdown",
   "metadata": {},
   "source": [
    "## Load data"
   ]
  },
  {
   "cell_type": "code",
   "execution_count": 3,
   "metadata": {
    "ExecuteTime": {
     "end_time": "2022-06-07T08:11:41.218694Z",
     "start_time": "2022-06-07T08:11:39.419632Z"
    },
    "execution": {
     "iopub.execute_input": "2022-06-07T10:30:42.617457Z",
     "iopub.status.busy": "2022-06-07T10:30:42.616562Z",
     "iopub.status.idle": "2022-06-07T10:30:42.794363Z",
     "shell.execute_reply": "2022-06-07T10:30:42.795380Z"
    }
   },
   "outputs": [
    {
     "name": "stdout",
     "output_type": "stream",
     "text": [
      "Dataset shape: (1700, 110)\n",
      "5.62% missing data\n",
      "Class distribution: (array([0, 1]), array([1429,  271]))\n"
     ]
    }
   ],
   "source": [
    "data_missing, missing_mask, y = utils.load_miocardial()\n",
    "## Inject noise\n",
    "data_missing = utils.inject_noise(data_missing.copy(), noise_rate=.2)\n",
    "## Replace missing values locations by 0\n",
    "data_missing = data_missing * missing_mask"
   ]
  },
  {
   "cell_type": "markdown",
   "metadata": {},
   "source": [
    "## Run OUR METHOD"
   ]
  },
  {
   "cell_type": "code",
   "execution_count": 4,
   "metadata": {
    "ExecuteTime": {
     "end_time": "2022-06-07T08:25:41.124140Z",
     "start_time": "2022-06-07T08:11:41.222736Z"
    },
    "execution": {
     "iopub.execute_input": "2022-06-07T10:30:42.805499Z",
     "iopub.status.busy": "2022-06-07T10:30:42.804730Z",
     "iopub.status.idle": "2022-06-07T10:44:05.347449Z",
     "shell.execute_reply": "2022-06-07T10:44:05.347965Z"
    },
    "scrolled": false
   },
   "outputs": [
    {
     "name": "stdout",
     "output_type": "stream",
     "text": [
      "Ite 00000 - 2.66 sec - Loss 0.204314 - ACC 72.45% - ACC Mean 72.45% - AUC 77.76% - AUC Mean 77.76% - Deter 000\n",
      "Ite 00050 - 0.86 sec - Loss 0.093729 - ACC 72.84% - ACC Mean 72.63% - AUC 75.73% - AUC Mean 76.93% - Deter 027\n",
      "Ite 00073 - 0.88 sec - Loss 0.078966 - ACC 72.60% - ACC Mean 72.42% - AUC 77.17% - AUC Mean 76.44% - Deter 050\n",
      "Early stop ite 73, rollback to correction of ite 23, whith acc of 73.35% and auc of 80.01%\n",
      "OUR METHOD RUN 1/10 - acc: 73.35% +- 0.0% - auc: 80.01% +- 0.0%\n",
      "Ite 00000 - 0.92 sec - Loss 0.215497 - ACC 73.89% - ACC Mean 73.89% - AUC 78.18% - AUC Mean 78.18% - Deter 000\n",
      "Ite 00050 - 0.93 sec - Loss 0.107702 - ACC 73.13% - ACC Mean 72.81% - AUC 77.09% - AUC Mean 77.44% - Deter 040\n",
      "Ite 00060 - 0.94 sec - Loss 0.098378 - ACC 71.94% - ACC Mean 72.82% - AUC 78.57% - AUC Mean 77.43% - Deter 050\n",
      "Early stop ite 60, rollback to correction of ite 10, whith acc of 72.3% and auc of 78.79%\n",
      "OUR METHOD RUN 2/10 - acc: 72.3% +- 0.0% - auc: 78.79% +- 0.0%\n",
      "Ite 00000 - 1.02 sec - Loss 0.197555 - ACC 71.45% - ACC Mean 71.45% - AUC 76.30% - AUC Mean 76.30% - Deter 000\n",
      "Ite 00050 - 0.91 sec - Loss 0.092273 - ACC 71.37% - ACC Mean 72.43% - AUC 75.79% - AUC Mean 76.96% - Deter 048\n",
      "Ite 00052 - 0.89 sec - Loss 0.090372 - ACC 71.74% - ACC Mean 72.39% - AUC 77.02% - AUC Mean 76.90% - Deter 050\n",
      "Early stop ite 52, rollback to correction of ite 2, whith acc of 72.37% and auc of 80.19%\n",
      "OUR METHOD RUN 3/10 - acc: 72.37% +- 0.0% - auc: 80.19% +- 0.0%\n",
      "Ite 00000 - 0.82 sec - Loss 0.164582 - ACC 69.91% - ACC Mean 69.91% - AUC 75.23% - AUC Mean 75.23% - Deter 000\n",
      "Ite 00050 - 0.95 sec - Loss 0.078386 - ACC 72.09% - ACC Mean 71.57% - AUC 76.43% - AUC Mean 76.26% - Deter 049\n",
      "Ite 00051 - 0.93 sec - Loss 0.077695 - ACC 70.56% - ACC Mean 71.57% - AUC 76.19% - AUC Mean 76.21% - Deter 050\n",
      "Early stop ite 51, rollback to correction of ite 1, whith acc of 70.3% and auc of 78.47%\n",
      "OUR METHOD RUN 4/10 - acc: 70.3% +- 0.0% - auc: 78.47% +- 0.0%\n",
      "Ite 00000 - 0.89 sec - Loss 0.220711 - ACC 70.74% - ACC Mean 70.74% - AUC 76.98% - AUC Mean 76.98% - Deter 000\n",
      "Ite 00050 - 0.92 sec - Loss 0.111702 - ACC 72.38% - ACC Mean 72.39% - AUC 77.63% - AUC Mean 77.09% - Deter 034\n",
      "Ite 00100 - 0.93 sec - Loss 0.075773 - ACC 72.45% - ACC Mean 72.99% - AUC 77.43% - AUC Mean 77.75% - Deter 047\n",
      "Ite 00103 - 0.88 sec - Loss 0.074436 - ACC 73.18% - ACC Mean 72.94% - AUC 78.47% - AUC Mean 77.67% - Deter 050\n",
      "Early stop ite 103, rollback to correction of ite 53, whith acc of 74.33% and auc of 80.03%\n",
      "OUR METHOD RUN 5/10 - acc: 74.33% +- 0.0% - auc: 80.03% +- 0.0%\n",
      "Ite 00000 - 0.82 sec - Loss 0.196385 - ACC 71.82% - ACC Mean 71.82% - AUC 76.93% - AUC Mean 76.93% - Deter 000\n",
      "Ite 00050 - 1.02 sec - Loss 0.112264 - ACC 71.85% - ACC Mean 72.15% - AUC 77.31% - AUC Mean 77.13% - Deter 005\n",
      "Ite 00100 - 0.82 sec - Loss 0.087290 - ACC 73.23% - ACC Mean 72.58% - AUC 77.05% - AUC Mean 77.47% - Deter 038\n",
      "Ite 00112 - 0.97 sec - Loss 0.083841 - ACC 72.28% - ACC Mean 72.66% - AUC 76.99% - AUC Mean 77.40% - Deter 050\n",
      "Early stop ite 112, rollback to correction of ite 62, whith acc of 73.36% and auc of 80.45%\n",
      "OUR METHOD RUN 6/10 - acc: 73.36% +- 0.0% - auc: 80.45% +- 0.0%\n",
      "Ite 00000 - 0.79 sec - Loss 0.216004 - ACC 71.95% - ACC Mean 71.95% - AUC 76.93% - AUC Mean 76.93% - Deter 000\n",
      "Ite 00050 - 0.90 sec - Loss 0.112968 - ACC 71.91% - ACC Mean 72.36% - AUC 76.73% - AUC Mean 76.78% - Deter 021\n",
      "Ite 00079 - 1.02 sec - Loss 0.095779 - ACC 72.16% - ACC Mean 72.28% - AUC 78.17% - AUC Mean 77.14% - Deter 050\n",
      "Early stop ite 79, rollback to correction of ite 29, whith acc of 73.32% and auc of 78.86%\n",
      "OUR METHOD RUN 7/10 - acc: 73.32% +- 0.0% - auc: 78.86% +- 0.0%\n",
      "Ite 00000 - 0.94 sec - Loss 0.219747 - ACC 71.85% - ACC Mean 71.85% - AUC 76.91% - AUC Mean 76.91% - Deter 000\n",
      "Ite 00050 - 1.42 sec - Loss 0.110860 - ACC 71.96% - ACC Mean 72.25% - AUC 76.90% - AUC Mean 76.63% - Deter 027\n",
      "Ite 00073 - 0.93 sec - Loss 0.092724 - ACC 72.87% - ACC Mean 72.40% - AUC 76.85% - AUC Mean 76.73% - Deter 050\n",
      "Early stop ite 73, rollback to correction of ite 23, whith acc of 73.38% and auc of 78.35%\n",
      "OUR METHOD RUN 8/10 - acc: 73.38% +- 0.0% - auc: 78.35% +- 0.0%\n",
      "Ite 00000 - 0.96 sec - Loss 0.175272 - ACC 71.95% - ACC Mean 71.95% - AUC 78.62% - AUC Mean 78.62% - Deter 000\n",
      "Ite 00050 - 1.73 sec - Loss 0.086128 - ACC 71.27% - ACC Mean 72.26% - AUC 76.51% - AUC Mean 77.06% - Deter 038\n",
      "Ite 00062 - 1.74 sec - Loss 0.077120 - ACC 71.11% - ACC Mean 72.00% - AUC 76.92% - AUC Mean 76.82% - Deter 050\n",
      "Early stop ite 62, rollback to correction of ite 12, whith acc of 73.16% and auc of 79.63%\n",
      "OUR METHOD RUN 9/10 - acc: 73.16% +- 0.0% - auc: 79.63% +- 0.0%\n",
      "Ite 00000 - 1.69 sec - Loss 0.196908 - ACC 72.23% - ACC Mean 72.23% - AUC 75.20% - AUC Mean 75.20% - Deter 000\n",
      "Ite 00050 - 1.86 sec - Loss 0.098486 - ACC 73.53% - ACC Mean 72.64% - AUC 77.05% - AUC Mean 76.75% - Deter 041\n",
      "Ite 00059 - 1.89 sec - Loss 0.092107 - ACC 72.20% - ACC Mean 72.78% - AUC 75.81% - AUC Mean 76.78% - Deter 050\n",
      "Early stop ite 59, rollback to correction of ite 9, whith acc of 73.1% and auc of 79.07%\n",
      "OUR METHOD RUN 10/10 - acc: 73.1% +- 0.0% - auc: 79.07% +- 0.0%\n",
      "\n",
      "OUR METHOD GLOBAL - acc: 72.9% +- 1.02% - auc: 79.39% +- 0.73%\n"
     ]
    }
   ],
   "source": [
    "params = {\n",
    "    'nb_batches': 10,\n",
    "    'reg_noise_std': .03,\n",
    "    'net_input': 'data_corrupted',\n",
    "    'net_params': {\n",
    "        'input_channels':1,\n",
    "        'output_channels':1,\n",
    "        'channels_skip':4,\n",
    "        'down_layers':[(24, 7, 2),\n",
    "                       (46, 9, 1),\n",
    "                       (96, 9, 5),\n",
    "                       (96, 11, 1)],\n",
    "        'need_sigmoid':True,\n",
    "        'need_bias':True,\n",
    "        'pad':'zero',\n",
    "        'downsample_mode':'stride',\n",
    "        'upsample_mode':'nearest',\n",
    "        'act_fun':'LeakyReLU',\n",
    "        'need1x1_up':True\n",
    "    },# or a list containing layers sizes\n",
    "    'adam_lr': .0001,\n",
    "    'adam_weight_decay': 0.,\n",
    "}\n",
    "\n",
    "ours_accs, ours_aucs = [], []\n",
    "for i in range(n_runs):\n",
    "    ours_correction = correction.run(data_missing, 501, params, y=y, missing_mask=missing_mask, seed=i)\n",
    "    ## Since our method returns 2 imputations select the best one\n",
    "    scores_raw = utils.get_scores(ours_correction['raw_out'], y)\n",
    "    acc = scores_raw['test_balanced_accuracy']\n",
    "    auc = scores_raw['test_roc_auc_ovo']\n",
    "    acc = acc.mean()\n",
    "    acc_std = acc.std()\n",
    "    auc = auc.mean()\n",
    "    auc_std = auc.std()\n",
    "    if 'masked_out' in ours_correction:\n",
    "        scores_masked = utils.get_scores(ours_correction['masked_out'], y)\n",
    "        acc_masked = scores_masked['test_balanced_accuracy']\n",
    "        auc_masked = scores_masked['test_roc_auc_ovo']\n",
    "        if auc_masked.mean() > auc:\n",
    "            acc = acc_masked.mean()\n",
    "            acc_std = acc_masked.std()\n",
    "            auc = auc_masked.mean()\n",
    "            auc_std = auc_masked.std()\n",
    "    print(f'OUR METHOD RUN {i + 1}/{n_runs} - acc: {round(acc.mean() * 100, 2)}% +- {round(acc.std() * 100, 2)}% - ' +\n",
    "          f'auc: {round(auc.mean() * 100, 2)}% +- {round(auc.std() * 100, 2)}%')\n",
    "    ours_accs.append(acc.mean())\n",
    "    ours_aucs.append(auc.mean())\n",
    "print(f'\\nOUR METHOD GLOBAL - acc: {round(np.array(ours_accs).mean() * 100, 2)}% +- {round(np.array(ours_accs).std() * 100, 2)}% - ' +\n",
    "      f'auc: {round(np.array(ours_aucs).mean() * 100, 2)}% +- {round(np.array(ours_aucs).std() * 100, 2)}%')"
   ]
  },
  {
   "cell_type": "markdown",
   "metadata": {},
   "source": [
    "## Run MICE"
   ]
  },
  {
   "cell_type": "code",
   "execution_count": 5,
   "metadata": {
    "ExecuteTime": {
     "end_time": "2022-06-07T08:25:47.812154Z",
     "start_time": "2022-06-07T08:25:41.125881Z"
    },
    "execution": {
     "iopub.execute_input": "2022-06-07T10:44:05.354737Z",
     "iopub.status.busy": "2022-06-07T10:44:05.354264Z",
     "iopub.status.idle": "2022-06-07T11:04:14.826001Z",
     "shell.execute_reply": "2022-06-07T11:04:14.826363Z"
    }
   },
   "outputs": [
    {
     "name": "stdout",
     "output_type": "stream",
     "text": [
      "MICE - acc: 71.71% +- 0.0% - auc: 76.48% +- 0.0%\n"
     ]
    }
   ],
   "source": [
    "data_missing_nans = np.where(missing_mask, data_missing, np.nan)\n",
    "\n",
    "imputer = IterativeImputer()\n",
    "imputed = imputer.fit_transform(data_missing_nans)\n",
    "## All runs would be the same since deterministic method\n",
    "scores = utils.get_scores(imputed, y)\n",
    "acc = [scores['test_balanced_accuracy'].mean()] * n_runs\n",
    "auc = [scores['test_roc_auc_ovo'].mean()] * n_runs\n",
    "print(f'MICE - acc: {round(np.mean(acc) * 100, 2)}% +- {round(np.std(acc) * 100, 2)}% - ' +\n",
    "      f'auc: {round(np.mean(auc) * 100, 2)}% +- {round(np.std(auc) * 100, 2)}%')\n",
    "mice_accs = acc\n",
    "mice_aucs = auc"
   ]
  },
  {
   "cell_type": "markdown",
   "metadata": {},
   "source": [
    "## Run SFIL"
   ]
  },
  {
   "cell_type": "code",
   "execution_count": 6,
   "metadata": {
    "ExecuteTime": {
     "end_time": "2022-06-07T08:25:49.133209Z",
     "start_time": "2022-06-07T08:25:47.813384Z"
    },
    "execution": {
     "iopub.execute_input": "2022-06-07T11:04:14.832021Z",
     "iopub.status.busy": "2022-06-07T11:04:14.831536Z",
     "iopub.status.idle": "2022-06-07T11:04:37.618648Z",
     "shell.execute_reply": "2022-06-07T11:04:37.619034Z"
    }
   },
   "outputs": [
    {
     "name": "stdout",
     "output_type": "stream",
     "text": [
      "SFIL RUN 1/10 - acc: 51.47% +- 2.8% - auc: 56.1% +- 3.07%\n",
      "SFIL RUN 2/10 - acc: 50.71% +- 1.5% - auc: 53.59% +- 2.21%\n",
      "SFIL RUN 3/10 - acc: 50.89% +- 1.78% - auc: 57.43% +- 3.89%\n",
      "SFIL RUN 4/10 - acc: 51.59% +- 2.1% - auc: 56.91% +- 3.28%\n",
      "SFIL RUN 5/10 - acc: 53.06% +- 2.52% - auc: 54.77% +- 1.29%\n",
      "SFIL RUN 6/10 - acc: 53.47% +- 2.99% - auc: 57.3% +- 4.38%\n",
      "SFIL RUN 7/10 - acc: 51.1% +- 1.48% - auc: 56.3% +- 3.89%\n",
      "SFIL RUN 8/10 - acc: 52.3% +- 2.83% - auc: 56.35% +- 2.98%\n",
      "SFIL RUN 9/10 - acc: 50.0% +- 0.0% - auc: 57.73% +- 2.81%\n",
      "SFIL RUN 10/10 - acc: 52.45% +- 3.74% - auc: 56.55% +- 3.56%\n",
      "SFIL GLOBAL - acc: 51.7% +- 1.04% - auc: 56.3% +- 1.2%\n"
     ]
    }
   ],
   "source": [
    "sfil_accs, sfil_aucs = [], []\n",
    "for i in range(n_runs):\n",
    "    acc, auc = filtering(imputed, y, mode='standard', random_state=i)\n",
    "    sfil_accs.append(acc.mean())\n",
    "    sfil_aucs.append(auc.mean())\n",
    "    print(f'SFIL RUN {i + 1}/{n_runs} - acc: {round(np.mean(acc) * 100, 2)}% +- {round(np.std(acc) * 100, 2)}% - ' +\n",
    "          f'auc: {round(np.mean(auc) * 100, 2)}% +- {round(np.std(auc) * 100, 2)}%')\n",
    "print(f'SFIL GLOBAL - acc: {round(np.mean(sfil_accs) * 100, 2)}% +- {round(np.std(sfil_accs) * 100, 2)}% - ' +\n",
    "      f'auc: {round(np.mean(sfil_aucs) * 100, 2)}% +- {round(np.std(sfil_aucs) * 100, 2)}%')"
   ]
  },
  {
   "cell_type": "markdown",
   "metadata": {},
   "source": [
    "## Run PFIL"
   ]
  },
  {
   "cell_type": "code",
   "execution_count": 7,
   "metadata": {
    "ExecuteTime": {
     "end_time": "2022-06-07T08:35:09.194980Z",
     "start_time": "2022-06-07T08:25:49.134766Z"
    },
    "execution": {
     "iopub.execute_input": "2022-06-07T11:04:37.625233Z",
     "iopub.status.busy": "2022-06-07T11:04:37.624654Z",
     "iopub.status.idle": "2022-06-07T13:19:29.030354Z",
     "shell.execute_reply": "2022-06-07T13:19:29.031376Z"
    },
    "scrolled": false
   },
   "outputs": [
    {
     "name": "stdout",
     "output_type": "stream",
     "text": [
      "PFIL RUN 1/10 - acc: 70.88% +- 3.84% - auc: 71.87% +- 5.01%\n",
      "PFIL RUN 2/10 - acc: 71.07% +- 2.47% - auc: 76.12% +- 1.7%\n",
      "PFIL RUN 3/10 - acc: 70.58% +- 4.29% - auc: 74.43% +- 4.95%\n",
      "PFIL RUN 4/10 - acc: 69.65% +- 3.14% - auc: 74.81% +- 6.21%\n",
      "PFIL RUN 5/10 - acc: 70.3% +- 1.76% - auc: 74.11% +- 2.89%\n",
      "PFIL RUN 6/10 - acc: 70.15% +- 3.02% - auc: 72.86% +- 5.91%\n",
      "PFIL RUN 7/10 - acc: 70.22% +- 1.79% - auc: 75.13% +- 3.13%\n",
      "PFIL RUN 8/10 - acc: 70.22% +- 4.53% - auc: 74.15% +- 4.63%\n",
      "PFIL RUN 9/10 - acc: 69.78% +- 4.03% - auc: 75.27% +- 3.61%\n",
      "PFIL RUN 10/10 - acc: 70.13% +- 2.49% - auc: 74.66% +- 3.61%\n",
      "PFIL GLOBAL - acc: 70.3% +- 0.42% - auc: 74.34% +- 1.16%\n"
     ]
    }
   ],
   "source": [
    "pfil_accs, pfil_aucs = [], []\n",
    "for i in range(n_runs):\n",
    "    acc, auc = filtering(imputed, y, mode='panda', random_state=i)\n",
    "    pfil_accs.append(acc.mean())\n",
    "    pfil_aucs.append(auc.mean())\n",
    "    print(f'PFIL RUN {i + 1}/{n_runs} - acc: {round(np.mean(acc) * 100, 2)}% +- {round(np.std(acc) * 100, 2)}% - ' +\n",
    "          f'auc: {round(np.mean(auc) * 100, 2)}% +- {round(np.std(auc) * 100, 2)}%')\n",
    "print(f'PFIL GLOBAL - acc: {round(np.mean(pfil_accs) * 100, 2)}% +- {round(np.std(pfil_accs) * 100, 2)}% - ' +\n",
    "      f'auc: {round(np.mean(pfil_aucs) * 100, 2)}% +- {round(np.std(pfil_aucs) * 100, 2)}%')"
   ]
  },
  {
   "cell_type": "markdown",
   "metadata": {},
   "source": [
    "## Run SPOL"
   ]
  },
  {
   "cell_type": "code",
   "execution_count": 8,
   "metadata": {
    "ExecuteTime": {
     "end_time": "2022-06-07T08:50:33.353751Z",
     "start_time": "2022-06-07T08:49:36.684786Z"
    },
    "execution": {
     "iopub.execute_input": "2022-06-07T13:19:29.038849Z",
     "iopub.status.busy": "2022-06-07T13:19:29.037940Z",
     "iopub.status.idle": "2022-06-07T13:21:16.329015Z",
     "shell.execute_reply": "2022-06-07T13:21:16.330021Z"
    }
   },
   "outputs": [
    {
     "name": "stdout",
     "output_type": "stream",
     "text": [
      "SPOL RUN 1/10 - acc: 52.61% +- 3.71% - auc: 56.64% +- 4.85%\n",
      "SPOL RUN 2/10 - acc: 52.74% +- 2.56% - auc: 56.11% +- 4.02%\n",
      "SPOL RUN 3/10 - acc: 57.39% +- 4.96% - auc: 61.14% +- 2.82%\n",
      "SPOL RUN 4/10 - acc: 53.81% +- 3.05% - auc: 59.9% +- 2.76%\n",
      "SPOL RUN 5/10 - acc: 52.55% +- 2.51% - auc: 56.47% +- 2.17%\n",
      "SPOL RUN 6/10 - acc: 53.75% +- 2.55% - auc: 57.03% +- 3.55%\n",
      "SPOL RUN 7/10 - acc: 51.87% +- 2.42% - auc: 56.12% +- 3.15%\n",
      "SPOL RUN 8/10 - acc: 54.66% +- 4.66% - auc: 56.46% +- 3.18%\n",
      "SPOL RUN 9/10 - acc: 54.83% +- 3.54% - auc: 59.04% +- 4.2%\n",
      "SPOL RUN 10/10 - acc: 55.88% +- 4.36% - auc: 58.04% +- 4.98%\n",
      "SPOL GLOBAL - acc: 54.01% +- 1.63% - auc: 57.69% +- 1.68%\n"
     ]
    }
   ],
   "source": [
    "spol_accs, spol_aucs = [], []\n",
    "for i in range(n_runs):\n",
    "    acc, auc = polishing(imputed, y, mode='standard', random_state=i)\n",
    "    spol_accs.append(acc.mean())\n",
    "    spol_aucs.append(auc.mean())\n",
    "    print(f'SPOL RUN {i + 1}/{n_runs} - acc: {round(np.mean(acc) * 100, 2)}% +- {round(np.std(acc) * 100, 2)}% - ' +\n",
    "          f'auc: {round(np.mean(auc) * 100, 2)}% +- {round(np.std(auc) * 100, 2)}%')\n",
    "print(f'SPOL GLOBAL - acc: {round(np.mean(spol_accs) * 100, 2)}% +- {round(np.std(spol_accs) * 100, 2)}% - ' +\n",
    "      f'auc: {round(np.mean(spol_aucs) * 100, 2)}% +- {round(np.std(spol_aucs) * 100, 2)}%')"
   ]
  },
  {
   "cell_type": "markdown",
   "metadata": {},
   "source": [
    "## Run PPOL"
   ]
  },
  {
   "cell_type": "code",
   "execution_count": 9,
   "metadata": {
    "ExecuteTime": {
     "end_time": "2022-06-07T08:52:24.306737Z",
     "start_time": "2022-06-07T08:50:33.355178Z"
    },
    "execution": {
     "iopub.execute_input": "2022-06-07T13:21:16.342037Z",
     "iopub.status.busy": "2022-06-07T13:21:16.341358Z",
     "iopub.status.idle": "2022-06-07T15:24:38.145144Z",
     "shell.execute_reply": "2022-06-07T15:24:38.145536Z"
    }
   },
   "outputs": [
    {
     "name": "stdout",
     "output_type": "stream",
     "text": [
      "PPOL RUN 1/10 - acc: 68.85% +- 4.65% - auc: 74.34% +- 6.06%\n",
      "PPOL RUN 2/10 - acc: 70.31% +- 5.39% - auc: 78.06% +- 5.05%\n",
      "PPOL RUN 3/10 - acc: 70.79% +- 3.11% - auc: 73.56% +- 2.87%\n",
      "PPOL RUN 4/10 - acc: 69.27% +- 6.67% - auc: 75.62% +- 6.62%\n",
      "PPOL RUN 5/10 - acc: 71.72% +- 2.23% - auc: 76.01% +- 3.76%\n",
      "PPOL RUN 6/10 - acc: 69.21% +- 2.38% - auc: 75.88% +- 2.79%\n",
      "PPOL RUN 7/10 - acc: 70.4% +- 4.56% - auc: 75.27% +- 6.03%\n",
      "PPOL RUN 8/10 - acc: 69.65% +- 4.56% - auc: 75.59% +- 5.03%\n",
      "PPOL RUN 9/10 - acc: 69.94% +- 4.64% - auc: 74.58% +- 4.38%\n",
      "PPOL RUN 10/10 - acc: 68.53% +- 2.63% - auc: 71.01% +- 3.57%\n",
      "PPOL GLOBAL - acc: 69.87% +- 0.92% - auc: 74.99% +- 1.75%\n"
     ]
    }
   ],
   "source": [
    "ppol_accs, ppol_aucs = [], []\n",
    "for i in range(n_runs):\n",
    "    acc, auc = polishing(imputed, y, mode='panda', random_state=i)\n",
    "    ppol_accs.append(acc.mean())\n",
    "    ppol_aucs.append(auc.mean())\n",
    "    print(f'PPOL RUN {i + 1}/{n_runs} - acc: {round(np.mean(acc) * 100, 2)}% +- {round(np.std(acc) * 100, 2)}% - ' +\n",
    "          f'auc: {round(np.mean(auc) * 100, 2)}% +- {round(np.std(auc) * 100, 2)}%')\n",
    "print(f'PPOL GLOBAL - acc: {round(np.mean(ppol_accs) * 100, 2)}% +- {round(np.std(ppol_accs) * 100, 2)}% - ' +\n",
    "      f'auc: {round(np.mean(ppol_aucs) * 100, 2)}% +- {round(np.std(ppol_aucs) * 100, 2)}%')"
   ]
  },
  {
   "cell_type": "markdown",
   "metadata": {},
   "source": [
    "## Run T-tests"
   ]
  },
  {
   "cell_type": "code",
   "execution_count": 10,
   "metadata": {
    "ExecuteTime": {
     "end_time": "2022-06-07T08:52:25.983958Z",
     "start_time": "2022-06-07T08:52:25.963898Z"
    },
    "execution": {
     "iopub.execute_input": "2022-06-07T15:24:38.149161Z",
     "iopub.status.busy": "2022-06-07T15:24:38.148586Z",
     "iopub.status.idle": "2022-06-07T15:24:38.160240Z",
     "shell.execute_reply": "2022-06-07T15:24:38.160860Z"
    },
    "scrolled": false
   },
   "outputs": [
    {
     "name": "stdout",
     "output_type": "stream",
     "text": [
      "Metric ACC - OUR METHOD is significantly better than MICE\n",
      "Metric AUC - OUR METHOD is significantly better than MICE\n",
      "Metric ACC - OUR METHOD is significantly better than SFIL\n",
      "Metric AUC - OUR METHOD is significantly better than SFIL\n",
      "Metric ACC - OUR METHOD is significantly better than PFIL\n",
      "Metric AUC - OUR METHOD is significantly better than PFIL\n",
      "Metric ACC - OUR METHOD is significantly better than SPOL\n",
      "Metric AUC - OUR METHOD is significantly better than SPOL\n",
      "Metric ACC - OUR METHOD is significantly better than PPOL\n",
      "Metric AUC - OUR METHOD is significantly better than PPOL\n"
     ]
    }
   ],
   "source": [
    "for model, metrics in {\n",
    "        'MICE': {'ACC': mice_accs, 'AUC': mice_aucs},\n",
    "        'SFIL': {'ACC': sfil_accs, 'AUC': sfil_aucs},\n",
    "        'PFIL': {'ACC': pfil_accs, 'AUC': pfil_aucs},\n",
    "        'SPOL': {'ACC': spol_accs, 'AUC': spol_aucs},\n",
    "        'PPOL': {'ACC': ppol_accs, 'AUC': ppol_aucs}}.items():\n",
    "    for metric_name, metric in metrics.items():\n",
    "        ours_metric = ours_accs if metric_name == 'ACC' else ours_aucs\n",
    "        t, p = scipy.stats.ttest_ind(np.array(ours_metric), np.array(metric))\n",
    "        if p <= .05:\n",
    "            if t > 0:\n",
    "                ## Our method is better\n",
    "                print(f'Metric {metric_name} - OUR METHOD is significantly better than {model}')\n",
    "            else:\n",
    "                ## Theirs is better\n",
    "                print(f'Metric {metric_name} - OUR METHOD is significantly worse than {model}')\n",
    "        else:\n",
    "            ## Else we are even\n",
    "            print(f'Metric {metric_name} - OUR METHOD is even with {model}')"
   ]
  }
 ],
 "metadata": {
  "kernelspec": {
   "display_name": "Python 3 (ipykernel)",
   "language": "python",
   "name": "python3"
  },
  "language_info": {
   "codemirror_mode": {
    "name": "ipython",
    "version": 3
   },
   "file_extension": ".py",
   "mimetype": "text/x-python",
   "name": "python",
   "nbconvert_exporter": "python",
   "pygments_lexer": "ipython3",
   "version": "3.9.7"
  },
  "latex_envs": {
   "LaTeX_envs_menu_present": true,
   "autoclose": false,
   "autocomplete": true,
   "bibliofile": "biblio.bib",
   "cite_by": "apalike",
   "current_citInitial": 1,
   "eqLabelWithNumbers": true,
   "eqNumInitial": 1,
   "hotkeys": {
    "equation": "Ctrl-E",
    "itemize": "Ctrl-I"
   },
   "labels_anchors": false,
   "latex_user_defs": false,
   "report_style_numbering": false,
   "user_envs_cfg": false
  }
 },
 "nbformat": 4,
 "nbformat_minor": 2
}
