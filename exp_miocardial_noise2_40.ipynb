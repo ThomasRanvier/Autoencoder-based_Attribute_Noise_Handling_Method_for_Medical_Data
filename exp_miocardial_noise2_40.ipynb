{
 "cells": [
  {
   "cell_type": "code",
   "execution_count": 1,
   "metadata": {
    "ExecuteTime": {
     "end_time": "2022-06-07T08:11:39.412870Z",
     "start_time": "2022-06-07T08:11:35.692131Z"
    },
    "execution": {
     "iopub.execute_input": "2022-06-07T10:30:39.369946Z",
     "iopub.status.busy": "2022-06-07T10:30:39.368892Z",
     "iopub.status.idle": "2022-06-07T10:30:42.913249Z",
     "shell.execute_reply": "2022-06-07T10:30:42.911507Z"
    }
   },
   "outputs": [],
   "source": [
    "from __future__ import print_function\n",
    "import warnings\n",
    "warnings.filterwarnings('ignore')\n",
    "## Disable tf future deprecated messages\n",
    "import logging\n",
    "logging.getLogger('tensorflow').disabled = True\n",
    "## Disable tf CUDA messages\n",
    "import os\n",
    "os.environ['TF_CPP_MIN_LOG_LEVEL'] = '3'\n",
    "\n",
    "%matplotlib inline\n",
    "\n",
    "import sys\n",
    "import random\n",
    "import numpy as np\n",
    "import pandas as pd\n",
    "\n",
    "import utils\n",
    "import correction\n",
    "from models.dense import *\n",
    "from models.gain import gain\n",
    "from models.soft_impute import SoftImpute\n",
    "from models.sinkhorn import OTimputer\n",
    "from models.mida import mida\n",
    "from models.polishing import polishing\n",
    "from models.filtering import filtering\n",
    "\n",
    "import scipy.stats\n",
    "\n",
    "from sklearn.experimental import enable_iterative_imputer\n",
    "from sklearn.impute import IterativeImputer\n",
    "from sklearn.impute import KNNImputer, SimpleImputer\n",
    "\n",
    "import sklearn.neighbors._base\n",
    "sys.modules['sklearn.neighbors.base'] = sklearn.neighbors._base\n",
    "from missingpy import MissForest\n",
    "\n",
    "torch.backends.cudnn.enabled = True\n",
    "torch.backends.cudnn.benchmark = True\n",
    "dtype = torch.cuda.FloatTensor"
   ]
  },
  {
   "cell_type": "markdown",
   "metadata": {},
   "source": [
    "## Repeat all experiments for 10 runs"
   ]
  },
  {
   "cell_type": "code",
   "execution_count": 2,
   "metadata": {
    "ExecuteTime": {
     "end_time": "2022-06-07T08:11:39.417491Z",
     "start_time": "2022-06-07T08:11:39.415081Z"
    },
    "execution": {
     "iopub.execute_input": "2022-06-07T10:30:42.920268Z",
     "iopub.status.busy": "2022-06-07T10:30:42.918975Z",
     "iopub.status.idle": "2022-06-07T10:30:42.922006Z",
     "shell.execute_reply": "2022-06-07T10:30:42.922957Z"
    }
   },
   "outputs": [],
   "source": [
    "n_runs = 10"
   ]
  },
  {
   "cell_type": "markdown",
   "metadata": {},
   "source": [
    "## Load data"
   ]
  },
  {
   "cell_type": "code",
   "execution_count": 3,
   "metadata": {
    "ExecuteTime": {
     "end_time": "2022-06-07T08:11:41.218694Z",
     "start_time": "2022-06-07T08:11:39.419632Z"
    },
    "execution": {
     "iopub.execute_input": "2022-06-07T10:30:42.930665Z",
     "iopub.status.busy": "2022-06-07T10:30:42.929906Z",
     "iopub.status.idle": "2022-06-07T10:30:43.081858Z",
     "shell.execute_reply": "2022-06-07T10:30:43.082863Z"
    }
   },
   "outputs": [
    {
     "name": "stdout",
     "output_type": "stream",
     "text": [
      "Dataset shape: (1700, 110)\n",
      "5.62% missing data\n",
      "Class distribution: (array([0, 1]), array([1429,  271]))\n"
     ]
    }
   ],
   "source": [
    "data_missing, missing_mask, y = utils.load_miocardial()\n",
    "## Inject noise\n",
    "data_missing = utils.inject_noise(data_missing.copy(), noise_rate=.4)\n",
    "## Replace missing values locations by 0\n",
    "data_missing = data_missing * missing_mask"
   ]
  },
  {
   "cell_type": "markdown",
   "metadata": {},
   "source": [
    "## Run OUR METHOD"
   ]
  },
  {
   "cell_type": "code",
   "execution_count": 4,
   "metadata": {
    "ExecuteTime": {
     "end_time": "2022-06-07T08:25:41.124140Z",
     "start_time": "2022-06-07T08:11:41.222736Z"
    },
    "execution": {
     "iopub.execute_input": "2022-06-07T10:30:43.095371Z",
     "iopub.status.busy": "2022-06-07T10:30:43.094300Z",
     "iopub.status.idle": "2022-06-07T10:44:25.373739Z",
     "shell.execute_reply": "2022-06-07T10:44:25.374249Z"
    },
    "scrolled": false
   },
   "outputs": [
    {
     "name": "stdout",
     "output_type": "stream",
     "text": [
      "Ite 00000 - 2.71 sec - Loss 0.167834 - ACC 70.53% - ACC Mean 70.53% - AUC 75.80% - AUC Mean 75.80% - Deter 000\n",
      "Ite 00050 - 1.02 sec - Loss 0.067423 - ACC 66.96% - ACC Mean 68.33% - AUC 71.64% - AUC Mean 73.74% - Deter 020\n",
      "Ite 00080 - 1.01 sec - Loss 0.050919 - ACC 67.86% - ACC Mean 68.15% - AUC 72.26% - AUC Mean 72.56% - Deter 050\n",
      "Early stop ite 80, rollback to correction of ite 30, whith acc of 69.56% and auc of 76.36%\n",
      "OUR METHOD RUN 1/10 - acc: 69.56% +- 0.0% - auc: 76.36% +- 0.0%\n",
      "Ite 00000 - 1.22 sec - Loss 0.183274 - ACC 67.49% - ACC Mean 67.49% - AUC 72.49% - AUC Mean 72.49% - Deter 000\n",
      "Ite 00050 - 0.94 sec - Loss 0.085060 - ACC 69.51% - ACC Mean 68.31% - AUC 73.26% - AUC Mean 73.29% - Deter 034\n",
      "Ite 00066 - 0.96 sec - Loss 0.069689 - ACC 67.19% - ACC Mean 67.95% - AUC 72.81% - AUC Mean 72.62% - Deter 050\n",
      "Early stop ite 66, rollback to correction of ite 16, whith acc of 70.68% and auc of 76.87%\n",
      "OUR METHOD RUN 2/10 - acc: 70.68% +- 0.0% - auc: 76.87% +- 0.0%\n",
      "Ite 00000 - 1.00 sec - Loss 0.174593 - ACC 66.33% - ACC Mean 66.33% - AUC 73.88% - AUC Mean 73.88% - Deter 000\n",
      "Ite 00050 - 0.95 sec - Loss 0.073663 - ACC 67.49% - ACC Mean 68.23% - AUC 72.19% - AUC Mean 74.01% - Deter 021\n",
      "Ite 00079 - 1.13 sec - Loss 0.053927 - ACC 66.96% - ACC Mean 67.93% - AUC 71.92% - AUC Mean 72.63% - Deter 050\n",
      "Early stop ite 79, rollback to correction of ite 29, whith acc of 69.31% and auc of 77.27%\n",
      "OUR METHOD RUN 3/10 - acc: 69.31% +- 0.0% - auc: 77.27% +- 0.0%\n",
      "Ite 00000 - 1.03 sec - Loss 0.149330 - ACC 66.99% - ACC Mean 66.99% - AUC 71.27% - AUC Mean 71.27% - Deter 000\n",
      "Ite 00050 - 1.01 sec - Loss 0.063923 - ACC 68.04% - ACC Mean 68.25% - AUC 71.18% - AUC Mean 72.39% - Deter 049\n",
      "Ite 00051 - 1.12 sec - Loss 0.063113 - ACC 67.06% - ACC Mean 68.21% - AUC 70.29% - AUC Mean 72.30% - Deter 050\n",
      "Early stop ite 51, rollback to correction of ite 1, whith acc of 69.18% and auc of 74.79%\n",
      "OUR METHOD RUN 4/10 - acc: 69.18% +- 0.0% - auc: 74.79% +- 0.0%\n",
      "Ite 00000 - 0.96 sec - Loss 0.193433 - ACC 68.22% - ACC Mean 68.22% - AUC 72.58% - AUC Mean 72.58% - Deter 000\n",
      "Ite 00050 - 1.08 sec - Loss 0.093562 - ACC 66.91% - ACC Mean 68.30% - AUC 74.12% - AUC Mean 73.77% - Deter 040\n",
      "Ite 00060 - 1.08 sec - Loss 0.084242 - ACC 65.61% - ACC Mean 67.85% - AUC 70.39% - AUC Mean 73.48% - Deter 050\n",
      "Early stop ite 60, rollback to correction of ite 10, whith acc of 68.85% and auc of 75.86%\n",
      "OUR METHOD RUN 5/10 - acc: 68.85% +- 0.0% - auc: 75.86% +- 0.0%\n",
      "Ite 00000 - 1.00 sec - Loss 0.164940 - ACC 66.52% - ACC Mean 66.52% - AUC 72.88% - AUC Mean 72.88% - Deter 000\n",
      "Ite 00050 - 1.15 sec - Loss 0.086088 - ACC 67.95% - ACC Mean 68.11% - AUC 72.34% - AUC Mean 73.34% - Deter 019\n",
      "Ite 00081 - 0.97 sec - Loss 0.068032 - ACC 69.14% - ACC Mean 67.61% - AUC 73.64% - AUC Mean 73.06% - Deter 050\n",
      "Early stop ite 81, rollback to correction of ite 31, whith acc of 69.21% and auc of 75.18%\n",
      "OUR METHOD RUN 6/10 - acc: 69.21% +- 0.0% - auc: 75.18% +- 0.0%\n",
      "Ite 00000 - 0.95 sec - Loss 0.184117 - ACC 69.17% - ACC Mean 69.17% - AUC 75.54% - AUC Mean 75.54% - Deter 000\n",
      "Ite 00050 - 0.98 sec - Loss 0.088972 - ACC 67.75% - ACC Mean 68.81% - AUC 71.33% - AUC Mean 73.49% - Deter 041\n",
      "Ite 00059 - 1.08 sec - Loss 0.081265 - ACC 66.70% - ACC Mean 68.66% - AUC 71.61% - AUC Mean 73.08% - Deter 050\n",
      "Early stop ite 59, rollback to correction of ite 9, whith acc of 69.22% and auc of 77.13%\n",
      "OUR METHOD RUN 7/10 - acc: 69.22% +- 0.0% - auc: 77.13% +- 0.0%\n",
      "Ite 00000 - 1.07 sec - Loss 0.193964 - ACC 67.09% - ACC Mean 67.09% - AUC 72.85% - AUC Mean 72.85% - Deter 000\n",
      "Ite 00050 - 1.72 sec - Loss 0.092851 - ACC 67.69% - ACC Mean 67.92% - AUC 72.61% - AUC Mean 73.24% - Deter 024\n",
      "Ite 00076 - 1.30 sec - Loss 0.071242 - ACC 69.53% - ACC Mean 68.21% - AUC 73.34% - AUC Mean 73.07% - Deter 050\n",
      "Early stop ite 76, rollback to correction of ite 26, whith acc of 67.65% and auc of 75.79%\n",
      "OUR METHOD RUN 8/10 - acc: 67.65% +- 0.0% - auc: 75.79% +- 0.0%\n",
      "Ite 00000 - 0.99 sec - Loss 0.153590 - ACC 69.96% - ACC Mean 69.96% - AUC 75.01% - AUC Mean 75.01% - Deter 000\n",
      "Ite 00050 - 2.03 sec - Loss 0.068979 - ACC 67.13% - ACC Mean 68.10% - AUC 70.87% - AUC Mean 73.42% - Deter 036\n",
      "Ite 00064 - 2.35 sec - Loss 0.058393 - ACC 68.49% - ACC Mean 68.13% - AUC 72.12% - AUC Mean 72.84% - Deter 050\n",
      "Early stop ite 64, rollback to correction of ite 14, whith acc of 69.62% and auc of 76.4%\n",
      "OUR METHOD RUN 9/10 - acc: 69.62% +- 0.0% - auc: 76.4% +- 0.0%\n",
      "Ite 00000 - 2.29 sec - Loss 0.166598 - ACC 69.72% - ACC Mean 69.72% - AUC 75.89% - AUC Mean 75.89% - Deter 000\n",
      "Ite 00050 - 3.27 sec - Loss 0.076949 - ACC 68.41% - ACC Mean 68.81% - AUC 73.04% - AUC Mean 73.64% - Deter 050\n",
      "Early stop ite 50, rollback to correction of ite 0, whith acc of 69.72% and auc of 75.89%\n",
      "OUR METHOD RUN 10/10 - acc: 69.72% +- 0.0% - auc: 75.89% +- 0.0%\n",
      "\n",
      "OUR METHOD GLOBAL - acc: 69.3% +- 0.72% - auc: 76.16% +- 0.77%\n"
     ]
    }
   ],
   "source": [
    "params = {\n",
    "    'nb_batches': 10,\n",
    "    'reg_noise_std': .03,\n",
    "    'net_input': 'data_corrupted',\n",
    "    'net_params': {\n",
    "        'input_channels':1,\n",
    "        'output_channels':1,\n",
    "        'channels_skip':4,\n",
    "        'down_layers':[(24, 7, 2),\n",
    "                       (46, 9, 1),\n",
    "                       (96, 9, 5),\n",
    "                       (96, 11, 1)],\n",
    "        'need_sigmoid':True,\n",
    "        'need_bias':True,\n",
    "        'pad':'zero',\n",
    "        'downsample_mode':'stride',\n",
    "        'upsample_mode':'nearest',\n",
    "        'act_fun':'LeakyReLU',\n",
    "        'need1x1_up':True\n",
    "    },# or a list containing layers sizes\n",
    "    'adam_lr': .0001,\n",
    "    'adam_weight_decay': 0.,\n",
    "}\n",
    "\n",
    "ours_accs, ours_aucs = [], []\n",
    "for i in range(n_runs):\n",
    "    ours_correction = correction.run(data_missing, 501, params, y=y, missing_mask=missing_mask, seed=i)\n",
    "    ## Since our method returns 2 imputations select the best one\n",
    "    scores_raw = utils.get_scores(ours_correction['raw_out'], y)\n",
    "    acc = scores_raw['test_balanced_accuracy']\n",
    "    auc = scores_raw['test_roc_auc_ovo']\n",
    "    acc = acc.mean()\n",
    "    acc_std = acc.std()\n",
    "    auc = auc.mean()\n",
    "    auc_std = auc.std()\n",
    "    if 'masked_out' in ours_correction:\n",
    "        scores_masked = utils.get_scores(ours_correction['masked_out'], y)\n",
    "        acc_masked = scores_masked['test_balanced_accuracy']\n",
    "        auc_masked = scores_masked['test_roc_auc_ovo']\n",
    "        if auc_masked.mean() > auc:\n",
    "            acc = acc_masked.mean()\n",
    "            acc_std = acc_masked.std()\n",
    "            auc = auc_masked.mean()\n",
    "            auc_std = auc_masked.std()\n",
    "    print(f'OUR METHOD RUN {i + 1}/{n_runs} - acc: {round(acc.mean() * 100, 2)}% +- {round(acc.std() * 100, 2)}% - ' +\n",
    "          f'auc: {round(auc.mean() * 100, 2)}% +- {round(auc.std() * 100, 2)}%')\n",
    "    ours_accs.append(acc.mean())\n",
    "    ours_aucs.append(auc.mean())\n",
    "print(f'\\nOUR METHOD GLOBAL - acc: {round(np.array(ours_accs).mean() * 100, 2)}% +- {round(np.array(ours_accs).std() * 100, 2)}% - ' +\n",
    "      f'auc: {round(np.array(ours_aucs).mean() * 100, 2)}% +- {round(np.array(ours_aucs).std() * 100, 2)}%')"
   ]
  },
  {
   "cell_type": "markdown",
   "metadata": {},
   "source": [
    "## Run MICE"
   ]
  },
  {
   "cell_type": "code",
   "execution_count": 5,
   "metadata": {
    "ExecuteTime": {
     "end_time": "2022-06-07T08:25:47.812154Z",
     "start_time": "2022-06-07T08:25:41.125881Z"
    },
    "execution": {
     "iopub.execute_input": "2022-06-07T10:44:25.378858Z",
     "iopub.status.busy": "2022-06-07T10:44:25.376828Z",
     "iopub.status.idle": "2022-06-07T10:56:43.243300Z",
     "shell.execute_reply": "2022-06-07T10:56:43.243828Z"
    }
   },
   "outputs": [
    {
     "name": "stdout",
     "output_type": "stream",
     "text": [
      "MICE - acc: 71.29% +- 0.0% - auc: 74.67% +- 0.0%\n"
     ]
    }
   ],
   "source": [
    "data_missing_nans = np.where(missing_mask, data_missing, np.nan)\n",
    "\n",
    "imputer = IterativeImputer()\n",
    "imputed = imputer.fit_transform(data_missing_nans)\n",
    "## All runs would be the same since deterministic method\n",
    "scores = utils.get_scores(imputed, y)\n",
    "acc = [scores['test_balanced_accuracy'].mean()] * n_runs\n",
    "auc = [scores['test_roc_auc_ovo'].mean()] * n_runs\n",
    "print(f'MICE - acc: {round(np.mean(acc) * 100, 2)}% +- {round(np.std(acc) * 100, 2)}% - ' +\n",
    "      f'auc: {round(np.mean(auc) * 100, 2)}% +- {round(np.std(auc) * 100, 2)}%')\n",
    "mice_accs = acc\n",
    "mice_aucs = auc"
   ]
  },
  {
   "cell_type": "markdown",
   "metadata": {},
   "source": [
    "## Run SFIL"
   ]
  },
  {
   "cell_type": "code",
   "execution_count": 6,
   "metadata": {
    "ExecuteTime": {
     "end_time": "2022-06-07T08:25:49.133209Z",
     "start_time": "2022-06-07T08:25:47.813384Z"
    },
    "execution": {
     "iopub.execute_input": "2022-06-07T10:56:43.257538Z",
     "iopub.status.busy": "2022-06-07T10:56:43.255927Z",
     "iopub.status.idle": "2022-06-07T10:57:20.363614Z",
     "shell.execute_reply": "2022-06-07T10:57:20.364178Z"
    }
   },
   "outputs": [
    {
     "name": "stdout",
     "output_type": "stream",
     "text": [
      "SFIL RUN 1/10 - acc: 51.67% +- 3.33% - auc: 59.13% +- 1.95%\n",
      "SFIL RUN 2/10 - acc: 51.71% +- 2.67% - auc: 58.03% +- 3.34%\n",
      "SFIL RUN 3/10 - acc: 51.76% +- 1.99% - auc: 57.09% +- 3.34%\n",
      "SFIL RUN 4/10 - acc: 51.93% +- 3.1% - auc: 56.16% +- 1.45%\n",
      "SFIL RUN 5/10 - acc: 52.41% +- 2.17% - auc: 58.47% +- 3.08%\n",
      "SFIL RUN 6/10 - acc: 52.33% +- 2.22% - auc: 56.87% +- 3.14%\n",
      "SFIL RUN 7/10 - acc: 51.62% +- 2.16% - auc: 58.44% +- 2.13%\n",
      "SFIL RUN 8/10 - acc: 53.11% +- 2.64% - auc: 56.38% +- 1.69%\n",
      "SFIL RUN 9/10 - acc: 51.72% +- 1.65% - auc: 57.45% +- 2.92%\n",
      "SFIL RUN 10/10 - acc: 54.44% +- 2.36% - auc: 57.71% +- 1.81%\n",
      "SFIL GLOBAL - acc: 52.27% +- 0.85% - auc: 57.57% +- 0.91%\n"
     ]
    }
   ],
   "source": [
    "sfil_accs, sfil_aucs = [], []\n",
    "for i in range(n_runs):\n",
    "    acc, auc = filtering(imputed, y, mode='standard', random_state=i)\n",
    "    sfil_accs.append(acc.mean())\n",
    "    sfil_aucs.append(auc.mean())\n",
    "    print(f'SFIL RUN {i + 1}/{n_runs} - acc: {round(np.mean(acc) * 100, 2)}% +- {round(np.std(acc) * 100, 2)}% - ' +\n",
    "          f'auc: {round(np.mean(auc) * 100, 2)}% +- {round(np.std(auc) * 100, 2)}%')\n",
    "print(f'SFIL GLOBAL - acc: {round(np.mean(sfil_accs) * 100, 2)}% +- {round(np.std(sfil_accs) * 100, 2)}% - ' +\n",
    "      f'auc: {round(np.mean(sfil_aucs) * 100, 2)}% +- {round(np.std(sfil_aucs) * 100, 2)}%')"
   ]
  },
  {
   "cell_type": "markdown",
   "metadata": {},
   "source": [
    "## Run PFIL"
   ]
  },
  {
   "cell_type": "code",
   "execution_count": 7,
   "metadata": {
    "ExecuteTime": {
     "end_time": "2022-06-07T08:35:09.194980Z",
     "start_time": "2022-06-07T08:25:49.134766Z"
    },
    "execution": {
     "iopub.execute_input": "2022-06-07T10:57:20.370205Z",
     "iopub.status.busy": "2022-06-07T10:57:20.369586Z",
     "iopub.status.idle": "2022-06-07T13:21:13.342654Z",
     "shell.execute_reply": "2022-06-07T13:21:13.342260Z"
    },
    "scrolled": false
   },
   "outputs": [
    {
     "name": "stdout",
     "output_type": "stream",
     "text": [
      "PFIL RUN 1/10 - acc: 70.7% +- 3.79% - auc: 74.5% +- 3.85%\n",
      "PFIL RUN 2/10 - acc: 68.3% +- 4.62% - auc: 73.84% +- 2.51%\n",
      "PFIL RUN 3/10 - acc: 70.85% +- 3.38% - auc: 75.33% +- 3.93%\n",
      "PFIL RUN 4/10 - acc: 70.69% +- 4.36% - auc: 75.82% +- 4.54%\n",
      "PFIL RUN 5/10 - acc: 70.81% +- 3.41% - auc: 75.05% +- 2.28%\n",
      "PFIL RUN 6/10 - acc: 71.26% +- 3.33% - auc: 73.04% +- 3.42%\n",
      "PFIL RUN 7/10 - acc: 70.74% +- 3.48% - auc: 76.28% +- 1.11%\n",
      "PFIL RUN 8/10 - acc: 70.96% +- 4.83% - auc: 75.44% +- 4.26%\n",
      "PFIL RUN 9/10 - acc: 71.43% +- 3.14% - auc: 74.79% +- 2.94%\n",
      "PFIL RUN 10/10 - acc: 70.27% +- 2.76% - auc: 75.02% +- 2.38%\n",
      "PFIL GLOBAL - acc: 70.6% +- 0.82% - auc: 74.91% +- 0.89%\n"
     ]
    }
   ],
   "source": [
    "pfil_accs, pfil_aucs = [], []\n",
    "for i in range(n_runs):\n",
    "    acc, auc = filtering(imputed, y, mode='panda', random_state=i)\n",
    "    pfil_accs.append(acc.mean())\n",
    "    pfil_aucs.append(auc.mean())\n",
    "    print(f'PFIL RUN {i + 1}/{n_runs} - acc: {round(np.mean(acc) * 100, 2)}% +- {round(np.std(acc) * 100, 2)}% - ' +\n",
    "          f'auc: {round(np.mean(auc) * 100, 2)}% +- {round(np.std(auc) * 100, 2)}%')\n",
    "print(f'PFIL GLOBAL - acc: {round(np.mean(pfil_accs) * 100, 2)}% +- {round(np.std(pfil_accs) * 100, 2)}% - ' +\n",
    "      f'auc: {round(np.mean(pfil_aucs) * 100, 2)}% +- {round(np.std(pfil_aucs) * 100, 2)}%')"
   ]
  },
  {
   "cell_type": "markdown",
   "metadata": {},
   "source": [
    "## Run SPOL"
   ]
  },
  {
   "cell_type": "code",
   "execution_count": 8,
   "metadata": {
    "ExecuteTime": {
     "end_time": "2022-06-07T08:50:33.353751Z",
     "start_time": "2022-06-07T08:49:36.684786Z"
    },
    "execution": {
     "iopub.execute_input": "2022-06-07T13:21:13.347985Z",
     "iopub.status.busy": "2022-06-07T13:21:13.347547Z",
     "iopub.status.idle": "2022-06-07T13:23:45.908611Z",
     "shell.execute_reply": "2022-06-07T13:23:45.908230Z"
    }
   },
   "outputs": [
    {
     "name": "stdout",
     "output_type": "stream",
     "text": [
      "SPOL RUN 1/10 - acc: 54.19% +- 3.4% - auc: 57.42% +- 3.64%\n",
      "SPOL RUN 2/10 - acc: 55.95% +- 3.12% - auc: 60.27% +- 2.8%\n",
      "SPOL RUN 3/10 - acc: 59.89% +- 4.42% - auc: 63.02% +- 6.39%\n",
      "SPOL RUN 4/10 - acc: 55.33% +- 4.55% - auc: 63.86% +- 7.01%\n",
      "SPOL RUN 5/10 - acc: 57.29% +- 6.36% - auc: 60.71% +- 5.08%\n",
      "SPOL RUN 6/10 - acc: 54.49% +- 1.83% - auc: 61.0% +- 3.57%\n",
      "SPOL RUN 7/10 - acc: 57.89% +- 4.4% - auc: 60.0% +- 1.58%\n",
      "SPOL RUN 8/10 - acc: 56.19% +- 3.84% - auc: 59.64% +- 5.49%\n",
      "SPOL RUN 9/10 - acc: 54.53% +- 4.35% - auc: 57.76% +- 4.19%\n",
      "SPOL RUN 10/10 - acc: 55.05% +- 3.49% - auc: 56.89% +- 3.99%\n",
      "SPOL GLOBAL - acc: 56.08% +- 1.72% - auc: 60.06% +- 2.17%\n"
     ]
    }
   ],
   "source": [
    "spol_accs, spol_aucs = [], []\n",
    "for i in range(n_runs):\n",
    "    acc, auc = polishing(imputed, y, mode='standard', random_state=i)\n",
    "    spol_accs.append(acc.mean())\n",
    "    spol_aucs.append(auc.mean())\n",
    "    print(f'SPOL RUN {i + 1}/{n_runs} - acc: {round(np.mean(acc) * 100, 2)}% +- {round(np.std(acc) * 100, 2)}% - ' +\n",
    "          f'auc: {round(np.mean(auc) * 100, 2)}% +- {round(np.std(auc) * 100, 2)}%')\n",
    "print(f'SPOL GLOBAL - acc: {round(np.mean(spol_accs) * 100, 2)}% +- {round(np.std(spol_accs) * 100, 2)}% - ' +\n",
    "      f'auc: {round(np.mean(spol_aucs) * 100, 2)}% +- {round(np.std(spol_aucs) * 100, 2)}%')"
   ]
  },
  {
   "cell_type": "markdown",
   "metadata": {},
   "source": [
    "## Run PPOL"
   ]
  },
  {
   "cell_type": "code",
   "execution_count": 9,
   "metadata": {
    "ExecuteTime": {
     "end_time": "2022-06-07T08:52:24.306737Z",
     "start_time": "2022-06-07T08:50:33.355178Z"
    },
    "execution": {
     "iopub.execute_input": "2022-06-07T13:23:45.921796Z",
     "iopub.status.busy": "2022-06-07T13:23:45.921388Z",
     "iopub.status.idle": "2022-06-07T15:43:21.551183Z",
     "shell.execute_reply": "2022-06-07T15:43:21.551504Z"
    }
   },
   "outputs": [
    {
     "name": "stdout",
     "output_type": "stream",
     "text": [
      "PPOL RUN 1/10 - acc: 70.06% +- 4.65% - auc: 71.23% +- 3.94%\n",
      "PPOL RUN 2/10 - acc: 69.44% +- 2.69% - auc: 73.47% +- 2.52%\n",
      "PPOL RUN 3/10 - acc: 72.18% +- 3.76% - auc: 76.92% +- 2.76%\n",
      "PPOL RUN 4/10 - acc: 71.45% +- 5.21% - auc: 74.46% +- 4.78%\n",
      "PPOL RUN 5/10 - acc: 72.13% +- 2.96% - auc: 74.31% +- 1.98%\n",
      "PPOL RUN 6/10 - acc: 70.4% +- 4.92% - auc: 73.09% +- 4.9%\n",
      "PPOL RUN 7/10 - acc: 69.28% +- 4.54% - auc: 72.81% +- 2.98%\n",
      "PPOL RUN 8/10 - acc: 71.09% +- 4.08% - auc: 75.66% +- 5.47%\n",
      "PPOL RUN 9/10 - acc: 69.91% +- 3.7% - auc: 73.91% +- 2.31%\n",
      "PPOL RUN 10/10 - acc: 71.07% +- 4.14% - auc: 74.62% +- 3.48%\n",
      "PPOL GLOBAL - acc: 70.7% +- 0.99% - auc: 74.05% +- 1.49%\n"
     ]
    }
   ],
   "source": [
    "ppol_accs, ppol_aucs = [], []\n",
    "for i in range(n_runs):\n",
    "    acc, auc = polishing(imputed, y, mode='panda', random_state=i)\n",
    "    ppol_accs.append(acc.mean())\n",
    "    ppol_aucs.append(auc.mean())\n",
    "    print(f'PPOL RUN {i + 1}/{n_runs} - acc: {round(np.mean(acc) * 100, 2)}% +- {round(np.std(acc) * 100, 2)}% - ' +\n",
    "          f'auc: {round(np.mean(auc) * 100, 2)}% +- {round(np.std(auc) * 100, 2)}%')\n",
    "print(f'PPOL GLOBAL - acc: {round(np.mean(ppol_accs) * 100, 2)}% +- {round(np.std(ppol_accs) * 100, 2)}% - ' +\n",
    "      f'auc: {round(np.mean(ppol_aucs) * 100, 2)}% +- {round(np.std(ppol_aucs) * 100, 2)}%')"
   ]
  },
  {
   "cell_type": "markdown",
   "metadata": {},
   "source": [
    "## Run T-tests"
   ]
  },
  {
   "cell_type": "code",
   "execution_count": 10,
   "metadata": {
    "ExecuteTime": {
     "end_time": "2022-06-07T08:52:25.983958Z",
     "start_time": "2022-06-07T08:52:25.963898Z"
    },
    "execution": {
     "iopub.execute_input": "2022-06-07T15:43:21.559421Z",
     "iopub.status.busy": "2022-06-07T15:43:21.558193Z",
     "iopub.status.idle": "2022-06-07T15:43:21.563609Z",
     "shell.execute_reply": "2022-06-07T15:43:21.563945Z"
    },
    "scrolled": false
   },
   "outputs": [
    {
     "name": "stdout",
     "output_type": "stream",
     "text": [
      "Metric ACC - OUR METHOD is significantly worse than MICE\n",
      "Metric AUC - OUR METHOD is significantly better than MICE\n",
      "Metric ACC - OUR METHOD is significantly better than SFIL\n",
      "Metric AUC - OUR METHOD is significantly better than SFIL\n",
      "Metric ACC - OUR METHOD is significantly worse than PFIL\n",
      "Metric AUC - OUR METHOD is significantly better than PFIL\n",
      "Metric ACC - OUR METHOD is significantly better than SPOL\n",
      "Metric AUC - OUR METHOD is significantly better than SPOL\n",
      "Metric ACC - OUR METHOD is significantly worse than PPOL\n",
      "Metric AUC - OUR METHOD is significantly better than PPOL\n"
     ]
    }
   ],
   "source": [
    "for model, metrics in {\n",
    "        'MICE': {'ACC': mice_accs, 'AUC': mice_aucs},\n",
    "        'SFIL': {'ACC': sfil_accs, 'AUC': sfil_aucs},\n",
    "        'PFIL': {'ACC': pfil_accs, 'AUC': pfil_aucs},\n",
    "        'SPOL': {'ACC': spol_accs, 'AUC': spol_aucs},\n",
    "        'PPOL': {'ACC': ppol_accs, 'AUC': ppol_aucs}}.items():\n",
    "    for metric_name, metric in metrics.items():\n",
    "        ours_metric = ours_accs if metric_name == 'ACC' else ours_aucs\n",
    "        t, p = scipy.stats.ttest_ind(np.array(ours_metric), np.array(metric))\n",
    "        if p <= .05:\n",
    "            if t > 0:\n",
    "                ## Our method is better\n",
    "                print(f'Metric {metric_name} - OUR METHOD is significantly better than {model}')\n",
    "            else:\n",
    "                ## Theirs is better\n",
    "                print(f'Metric {metric_name} - OUR METHOD is significantly worse than {model}')\n",
    "        else:\n",
    "            ## Else we are even\n",
    "            print(f'Metric {metric_name} - OUR METHOD is even with {model}')"
   ]
  }
 ],
 "metadata": {
  "kernelspec": {
   "display_name": "Python 3 (ipykernel)",
   "language": "python",
   "name": "python3"
  },
  "language_info": {
   "codemirror_mode": {
    "name": "ipython",
    "version": 3
   },
   "file_extension": ".py",
   "mimetype": "text/x-python",
   "name": "python",
   "nbconvert_exporter": "python",
   "pygments_lexer": "ipython3",
   "version": "3.9.7"
  },
  "latex_envs": {
   "LaTeX_envs_menu_present": true,
   "autoclose": false,
   "autocomplete": true,
   "bibliofile": "biblio.bib",
   "cite_by": "apalike",
   "current_citInitial": 1,
   "eqLabelWithNumbers": true,
   "eqNumInitial": 1,
   "hotkeys": {
    "equation": "Ctrl-E",
    "itemize": "Ctrl-I"
   },
   "labels_anchors": false,
   "latex_user_defs": false,
   "report_style_numbering": false,
   "user_envs_cfg": false
  }
 },
 "nbformat": 4,
 "nbformat_minor": 2
}
