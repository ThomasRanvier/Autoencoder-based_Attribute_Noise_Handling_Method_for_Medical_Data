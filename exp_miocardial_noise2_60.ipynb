{
 "cells": [
  {
   "cell_type": "code",
   "execution_count": 1,
   "metadata": {
    "ExecuteTime": {
     "end_time": "2022-06-07T08:11:39.412870Z",
     "start_time": "2022-06-07T08:11:35.692131Z"
    },
    "execution": {
     "iopub.execute_input": "2022-06-07T10:30:39.487330Z",
     "iopub.status.busy": "2022-06-07T10:30:39.473045Z",
     "iopub.status.idle": "2022-06-07T10:30:42.680492Z",
     "shell.execute_reply": "2022-06-07T10:30:42.679764Z"
    }
   },
   "outputs": [],
   "source": [
    "from __future__ import print_function\n",
    "import warnings\n",
    "warnings.filterwarnings('ignore')\n",
    "## Disable tf future deprecated messages\n",
    "import logging\n",
    "logging.getLogger('tensorflow').disabled = True\n",
    "## Disable tf CUDA messages\n",
    "import os\n",
    "os.environ['TF_CPP_MIN_LOG_LEVEL'] = '3'\n",
    "\n",
    "%matplotlib inline\n",
    "\n",
    "import sys\n",
    "import random\n",
    "import numpy as np\n",
    "import pandas as pd\n",
    "\n",
    "import utils\n",
    "import correction\n",
    "from models.dense import *\n",
    "from models.gain import gain\n",
    "from models.soft_impute import SoftImpute\n",
    "from models.sinkhorn import OTimputer\n",
    "from models.mida import mida\n",
    "from models.polishing import polishing\n",
    "from models.filtering import filtering\n",
    "\n",
    "import scipy.stats\n",
    "\n",
    "from sklearn.experimental import enable_iterative_imputer\n",
    "from sklearn.impute import IterativeImputer\n",
    "from sklearn.impute import KNNImputer, SimpleImputer\n",
    "\n",
    "import sklearn.neighbors._base\n",
    "sys.modules['sklearn.neighbors.base'] = sklearn.neighbors._base\n",
    "from missingpy import MissForest\n",
    "\n",
    "torch.backends.cudnn.enabled = True\n",
    "torch.backends.cudnn.benchmark = True\n",
    "dtype = torch.cuda.FloatTensor"
   ]
  },
  {
   "cell_type": "markdown",
   "metadata": {},
   "source": [
    "## Repeat all experiments for 10 runs"
   ]
  },
  {
   "cell_type": "code",
   "execution_count": 2,
   "metadata": {
    "ExecuteTime": {
     "end_time": "2022-06-07T08:11:39.417491Z",
     "start_time": "2022-06-07T08:11:39.415081Z"
    },
    "execution": {
     "iopub.execute_input": "2022-06-07T10:30:42.685264Z",
     "iopub.status.busy": "2022-06-07T10:30:42.684631Z",
     "iopub.status.idle": "2022-06-07T10:30:42.687166Z",
     "shell.execute_reply": "2022-06-07T10:30:42.686732Z"
    }
   },
   "outputs": [],
   "source": [
    "n_runs = 10"
   ]
  },
  {
   "cell_type": "markdown",
   "metadata": {},
   "source": [
    "## Load data"
   ]
  },
  {
   "cell_type": "code",
   "execution_count": 3,
   "metadata": {
    "ExecuteTime": {
     "end_time": "2022-06-07T08:11:41.218694Z",
     "start_time": "2022-06-07T08:11:39.419632Z"
    },
    "execution": {
     "iopub.execute_input": "2022-06-07T10:30:42.693381Z",
     "iopub.status.busy": "2022-06-07T10:30:42.692645Z",
     "iopub.status.idle": "2022-06-07T10:30:42.863217Z",
     "shell.execute_reply": "2022-06-07T10:30:42.864297Z"
    }
   },
   "outputs": [
    {
     "name": "stdout",
     "output_type": "stream",
     "text": [
      "Dataset shape: (1700, 110)\n",
      "5.62% missing data\n",
      "Class distribution: (array([0, 1]), array([1429,  271]))\n"
     ]
    }
   ],
   "source": [
    "data_missing, missing_mask, y = utils.load_miocardial()\n",
    "## Inject noise\n",
    "data_missing = utils.inject_noise(data_missing.copy(), noise_rate=.6)\n",
    "## Replace missing values locations by 0\n",
    "data_missing = data_missing * missing_mask"
   ]
  },
  {
   "cell_type": "markdown",
   "metadata": {},
   "source": [
    "## Run OUR METHOD"
   ]
  },
  {
   "cell_type": "code",
   "execution_count": 4,
   "metadata": {
    "ExecuteTime": {
     "end_time": "2022-06-07T08:25:41.124140Z",
     "start_time": "2022-06-07T08:11:41.222736Z"
    },
    "execution": {
     "iopub.execute_input": "2022-06-07T10:30:42.875309Z",
     "iopub.status.busy": "2022-06-07T10:30:42.874316Z",
     "iopub.status.idle": "2022-06-07T10:54:41.056754Z",
     "shell.execute_reply": "2022-06-07T10:54:41.057210Z"
    },
    "scrolled": false
   },
   "outputs": [
    {
     "name": "stdout",
     "output_type": "stream",
     "text": [
      "Ite 00000 - 2.38 sec - Loss 0.133102 - ACC 66.58% - ACC Mean 66.58% - AUC 72.94% - AUC Mean 72.94% - Deter 000\n",
      "Ite 00050 - 0.88 sec - Loss 0.044479 - ACC 66.46% - ACC Mean 66.51% - AUC 69.34% - AUC Mean 70.67% - Deter 046\n",
      "Ite 00054 - 0.98 sec - Loss 0.041818 - ACC 66.60% - ACC Mean 66.51% - AUC 71.20% - AUC Mean 70.56% - Deter 050\n",
      "Early stop ite 54, rollback to correction of ite 4, whith acc of 67.83% and auc of 73.38%\n",
      "OUR METHOD RUN 1/10 - acc: 67.83% +- 0.0% - auc: 73.38% +- 0.0%\n",
      "Ite 00000 - 1.15 sec - Loss 0.151212 - ACC 66.70% - ACC Mean 66.70% - AUC 71.81% - AUC Mean 71.81% - Deter 000\n",
      "Ite 00050 - 1.07 sec - Loss 0.065200 - ACC 66.18% - ACC Mean 67.87% - AUC 70.81% - AUC Mean 72.32% - Deter 015\n",
      "Ite 00085 - 0.89 sec - Loss 0.040022 - ACC 67.32% - ACC Mean 67.63% - AUC 70.66% - AUC Mean 72.25% - Deter 050\n",
      "Early stop ite 85, rollback to correction of ite 35, whith acc of 68.14% and auc of 75.12%\n",
      "OUR METHOD RUN 2/10 - acc: 68.14% +- 0.0% - auc: 75.12% +- 0.0%\n",
      "Ite 00000 - 1.08 sec - Loss 0.151228 - ACC 66.71% - ACC Mean 66.71% - AUC 68.46% - AUC Mean 68.46% - Deter 000\n",
      "Ite 00050 - 0.93 sec - Loss 0.056384 - ACC 66.17% - ACC Mean 66.49% - AUC 69.52% - AUC Mean 70.81% - Deter 016\n",
      "Ite 00084 - 0.96 sec - Loss 0.036486 - ACC 67.57% - ACC Mean 66.44% - AUC 72.03% - AUC Mean 70.31% - Deter 050\n",
      "Early stop ite 84, rollback to correction of ite 34, whith acc of 65.88% and auc of 74.63%\n",
      "OUR METHOD RUN 3/10 - acc: 65.88% +- 0.0% - auc: 74.63% +- 0.0%\n",
      "Ite 00000 - 0.96 sec - Loss 0.132960 - ACC 68.26% - ACC Mean 68.26% - AUC 72.21% - AUC Mean 72.21% - Deter 000\n",
      "Ite 00050 - 0.98 sec - Loss 0.050363 - ACC 65.13% - ACC Mean 65.70% - AUC 68.07% - AUC Mean 69.69% - Deter 038\n",
      "Ite 00062 - 0.95 sec - Loss 0.041447 - ACC 66.27% - ACC Mean 65.23% - AUC 68.64% - AUC Mean 69.05% - Deter 050\n",
      "Early stop ite 62, rollback to correction of ite 12, whith acc of 67.64% and auc of 72.58%\n",
      "OUR METHOD RUN 4/10 - acc: 67.64% +- 0.0% - auc: 72.58% +- 0.0%\n",
      "Ite 00000 - 1.00 sec - Loss 0.165140 - ACC 66.86% - ACC Mean 66.86% - AUC 70.68% - AUC Mean 70.68% - Deter 000\n",
      "Ite 00050 - 0.88 sec - Loss 0.072163 - ACC 66.37% - ACC Mean 67.06% - AUC 70.94% - AUC Mean 70.66% - Deter 029\n",
      "Ite 00071 - 1.01 sec - Loss 0.055496 - ACC 66.13% - ACC Mean 66.36% - AUC 69.41% - AUC Mean 70.50% - Deter 050\n",
      "Early stop ite 71, rollback to correction of ite 21, whith acc of 67.48% and auc of 73.27%\n",
      "OUR METHOD RUN 5/10 - acc: 67.48% +- 0.0% - auc: 73.27% +- 0.0%\n",
      "Ite 00000 - 1.03 sec - Loss 0.133001 - ACC 66.19% - ACC Mean 66.19% - AUC 69.88% - AUC Mean 69.88% - Deter 000\n",
      "Ite 00050 - 0.94 sec - Loss 0.061667 - ACC 67.28% - ACC Mean 66.83% - AUC 73.99% - AUC Mean 71.48% - Deter 005\n",
      "Ite 00095 - 1.04 sec - Loss 0.040389 - ACC 67.25% - ACC Mean 67.47% - AUC 71.51% - AUC Mean 71.38% - Deter 050\n",
      "Early stop ite 95, rollback to correction of ite 45, whith acc of 67.92% and auc of 74.57%\n",
      "OUR METHOD RUN 6/10 - acc: 67.92% +- 0.0% - auc: 74.57% +- 0.0%\n",
      "Ite 00000 - 0.99 sec - Loss 0.152475 - ACC 66.01% - ACC Mean 66.01% - AUC 69.01% - AUC Mean 69.01% - Deter 000\n",
      "Ite 00050 - 0.90 sec - Loss 0.066896 - ACC 67.12% - ACC Mean 67.09% - AUC 72.80% - AUC Mean 71.26% - Deter 027\n",
      "Ite 00073 - 1.00 sec - Loss 0.051742 - ACC 68.09% - ACC Mean 67.68% - AUC 72.91% - AUC Mean 72.05% - Deter 050\n",
      "Early stop ite 73, rollback to correction of ite 23, whith acc of 67.83% and auc of 74.01%\n",
      "OUR METHOD RUN 7/10 - acc: 67.83% +- 0.0% - auc: 74.01% +- 0.0%\n",
      "Ite 00000 - 0.94 sec - Loss 0.167563 - ACC 67.61% - ACC Mean 67.61% - AUC 70.83% - AUC Mean 70.83% - Deter 000\n",
      "Ite 00050 - 1.27 sec - Loss 0.072872 - ACC 64.67% - ACC Mean 67.04% - AUC 68.34% - AUC Mean 71.08% - Deter 039\n",
      "Ite 00061 - 1.02 sec - Loss 0.062906 - ACC 66.54% - ACC Mean 66.87% - AUC 69.62% - AUC Mean 70.98% - Deter 050\n",
      "Early stop ite 61, rollback to correction of ite 11, whith acc of 67.91% and auc of 73.66%\n",
      "OUR METHOD RUN 8/10 - acc: 67.91% +- 0.0% - auc: 73.66% +- 0.0%\n",
      "Ite 00000 - 1.10 sec - Loss 0.131981 - ACC 67.90% - ACC Mean 67.90% - AUC 72.57% - AUC Mean 72.57% - Deter 000\n",
      "Ite 00050 - 1.62 sec - Loss 0.052130 - ACC 66.80% - ACC Mean 66.82% - AUC 71.42% - AUC Mean 71.16% - Deter 042\n",
      "Ite 00058 - 1.89 sec - Loss 0.046347 - ACC 65.32% - ACC Mean 66.32% - AUC 69.87% - AUC Mean 70.72% - Deter 050\n",
      "Early stop ite 58, rollback to correction of ite 8, whith acc of 68.66% and auc of 74.54%\n",
      "OUR METHOD RUN 9/10 - acc: 68.66% +- 0.0% - auc: 74.54% +- 0.0%\n",
      "Ite 00000 - 2.29 sec - Loss 0.136445 - ACC 67.80% - ACC Mean 67.80% - AUC 70.09% - AUC Mean 70.09% - Deter 000\n",
      "Ite 00050 - 4.03 sec - Loss 0.056156 - ACC 67.17% - ACC Mean 66.48% - AUC 72.97% - AUC Mean 71.31% - Deter 002\n",
      "Ite 00100 - 4.05 sec - Loss 0.034037 - ACC 68.18% - ACC Mean 67.16% - AUC 71.37% - AUC Mean 71.85% - Deter 013\n",
      "Ite 00150 - 3.94 sec - Loss 0.025159 - ACC 69.40% - ACC Mean 68.16% - AUC 74.02% - AUC Mean 71.97% - Deter 015\n",
      "Ite 00185 - 4.57 sec - Loss 0.021387 - ACC 67.50% - ACC Mean 67.84% - AUC 70.34% - AUC Mean 71.60% - Deter 050\n",
      "Early stop ite 185, rollback to correction of ite 135, whith acc of 69.17% and auc of 75.77%\n",
      "OUR METHOD RUN 10/10 - acc: 69.17% +- 0.0% - auc: 75.77% +- 0.0%\n",
      "\n",
      "OUR METHOD GLOBAL - acc: 67.85% +- 0.81% - auc: 74.15% +- 0.91%\n"
     ]
    }
   ],
   "source": [
    "params = {\n",
    "    'nb_batches': 10,\n",
    "    'reg_noise_std': .03,\n",
    "    'net_input': 'data_corrupted',\n",
    "    'net_params': {\n",
    "        'input_channels':1,\n",
    "        'output_channels':1,\n",
    "        'channels_skip':4,\n",
    "        'down_layers':[(24, 7, 2),\n",
    "                       (46, 9, 1),\n",
    "                       (96, 9, 5),\n",
    "                       (96, 11, 1)],\n",
    "        'need_sigmoid':True,\n",
    "        'need_bias':True,\n",
    "        'pad':'zero',\n",
    "        'downsample_mode':'stride',\n",
    "        'upsample_mode':'nearest',\n",
    "        'act_fun':'LeakyReLU',\n",
    "        'need1x1_up':True\n",
    "    },# or a list containing layers sizes\n",
    "    'adam_lr': .0001,\n",
    "    'adam_weight_decay': 0.,\n",
    "}\n",
    "\n",
    "ours_accs, ours_aucs = [], []\n",
    "for i in range(n_runs):\n",
    "    ours_correction = correction.run(data_missing, 501, params, y=y, missing_mask=missing_mask, seed=i)\n",
    "    ## Since our method returns 2 imputations select the best one\n",
    "    scores_raw = utils.get_scores(ours_correction['raw_out'], y)\n",
    "    acc = scores_raw['test_balanced_accuracy']\n",
    "    auc = scores_raw['test_roc_auc_ovo']\n",
    "    acc = acc.mean()\n",
    "    acc_std = acc.std()\n",
    "    auc = auc.mean()\n",
    "    auc_std = auc.std()\n",
    "    if 'masked_out' in ours_correction:\n",
    "        scores_masked = utils.get_scores(ours_correction['masked_out'], y)\n",
    "        acc_masked = scores_masked['test_balanced_accuracy']\n",
    "        auc_masked = scores_masked['test_roc_auc_ovo']\n",
    "        if auc_masked.mean() > auc:\n",
    "            acc = acc_masked.mean()\n",
    "            acc_std = acc_masked.std()\n",
    "            auc = auc_masked.mean()\n",
    "            auc_std = auc_masked.std()\n",
    "    print(f'OUR METHOD RUN {i + 1}/{n_runs} - acc: {round(acc.mean() * 100, 2)}% +- {round(acc.std() * 100, 2)}% - ' +\n",
    "          f'auc: {round(auc.mean() * 100, 2)}% +- {round(auc.std() * 100, 2)}%')\n",
    "    ours_accs.append(acc.mean())\n",
    "    ours_aucs.append(auc.mean())\n",
    "print(f'\\nOUR METHOD GLOBAL - acc: {round(np.array(ours_accs).mean() * 100, 2)}% +- {round(np.array(ours_accs).std() * 100, 2)}% - ' +\n",
    "      f'auc: {round(np.array(ours_aucs).mean() * 100, 2)}% +- {round(np.array(ours_aucs).std() * 100, 2)}%')"
   ]
  },
  {
   "cell_type": "markdown",
   "metadata": {},
   "source": [
    "## Run MICE"
   ]
  },
  {
   "cell_type": "code",
   "execution_count": 5,
   "metadata": {
    "ExecuteTime": {
     "end_time": "2022-06-07T08:25:47.812154Z",
     "start_time": "2022-06-07T08:25:41.125881Z"
    },
    "execution": {
     "iopub.execute_input": "2022-06-07T10:54:41.065075Z",
     "iopub.status.busy": "2022-06-07T10:54:41.062202Z",
     "iopub.status.idle": "2022-06-07T11:05:22.052549Z",
     "shell.execute_reply": "2022-06-07T11:05:22.052997Z"
    }
   },
   "outputs": [
    {
     "name": "stdout",
     "output_type": "stream",
     "text": [
      "MICE - acc: 70.39% +- 0.0% - auc: 76.05% +- 0.0%\n"
     ]
    }
   ],
   "source": [
    "data_missing_nans = np.where(missing_mask, data_missing, np.nan)\n",
    "\n",
    "imputer = IterativeImputer()\n",
    "imputed = imputer.fit_transform(data_missing_nans)\n",
    "## All runs would be the same since deterministic method\n",
    "scores = utils.get_scores(imputed, y)\n",
    "acc = [scores['test_balanced_accuracy'].mean()] * n_runs\n",
    "auc = [scores['test_roc_auc_ovo'].mean()] * n_runs\n",
    "print(f'MICE - acc: {round(np.mean(acc) * 100, 2)}% +- {round(np.std(acc) * 100, 2)}% - ' +\n",
    "      f'auc: {round(np.mean(auc) * 100, 2)}% +- {round(np.std(auc) * 100, 2)}%')\n",
    "mice_accs = acc\n",
    "mice_aucs = auc"
   ]
  },
  {
   "cell_type": "markdown",
   "metadata": {},
   "source": [
    "## Run SFIL"
   ]
  },
  {
   "cell_type": "code",
   "execution_count": 6,
   "metadata": {
    "ExecuteTime": {
     "end_time": "2022-06-07T08:25:49.133209Z",
     "start_time": "2022-06-07T08:25:47.813384Z"
    },
    "execution": {
     "iopub.execute_input": "2022-06-07T11:05:22.059085Z",
     "iopub.status.busy": "2022-06-07T11:05:22.058410Z",
     "iopub.status.idle": "2022-06-07T11:05:41.748754Z",
     "shell.execute_reply": "2022-06-07T11:05:41.747645Z"
    }
   },
   "outputs": [
    {
     "name": "stdout",
     "output_type": "stream",
     "text": [
      "SFIL RUN 1/10 - acc: 50.0% +- 0.0% - auc: 52.31% +- 1.85%\n",
      "SFIL RUN 2/10 - acc: 50.0% +- 0.0% - auc: 52.88% +- 2.86%\n",
      "SFIL RUN 3/10 - acc: 50.0% +- 0.0% - auc: 53.54% +- 1.6%\n",
      "SFIL RUN 4/10 - acc: 50.15% +- 0.29% - auc: 55.43% +- 2.47%\n",
      "SFIL RUN 5/10 - acc: 50.0% +- 0.0% - auc: 53.72% +- 1.85%\n",
      "SFIL RUN 6/10 - acc: 52.3% +- 4.61% - auc: 57.61% +- 5.03%\n",
      "SFIL RUN 7/10 - acc: 50.0% +- 0.0% - auc: 53.9% +- 1.96%\n",
      "SFIL RUN 8/10 - acc: 50.74% +- 1.48% - auc: 53.82% +- 2.24%\n",
      "SFIL RUN 9/10 - acc: 50.0% +- 0.0% - auc: 52.82% +- 2.43%\n",
      "SFIL RUN 10/10 - acc: 52.8% +- 5.61% - auc: 54.92% +- 6.0%\n",
      "SFIL GLOBAL - acc: 50.6% +- 1.01% - auc: 54.1% +- 1.47%\n"
     ]
    }
   ],
   "source": [
    "sfil_accs, sfil_aucs = [], []\n",
    "for i in range(n_runs):\n",
    "    acc, auc = filtering(imputed, y, mode='standard', random_state=i)\n",
    "    sfil_accs.append(acc.mean())\n",
    "    sfil_aucs.append(auc.mean())\n",
    "    print(f'SFIL RUN {i + 1}/{n_runs} - acc: {round(np.mean(acc) * 100, 2)}% +- {round(np.std(acc) * 100, 2)}% - ' +\n",
    "          f'auc: {round(np.mean(auc) * 100, 2)}% +- {round(np.std(auc) * 100, 2)}%')\n",
    "print(f'SFIL GLOBAL - acc: {round(np.mean(sfil_accs) * 100, 2)}% +- {round(np.std(sfil_accs) * 100, 2)}% - ' +\n",
    "      f'auc: {round(np.mean(sfil_aucs) * 100, 2)}% +- {round(np.std(sfil_aucs) * 100, 2)}%')"
   ]
  },
  {
   "cell_type": "markdown",
   "metadata": {},
   "source": [
    "## Run PFIL"
   ]
  },
  {
   "cell_type": "code",
   "execution_count": 7,
   "metadata": {
    "ExecuteTime": {
     "end_time": "2022-06-07T08:35:09.194980Z",
     "start_time": "2022-06-07T08:25:49.134766Z"
    },
    "execution": {
     "iopub.execute_input": "2022-06-07T11:05:41.755531Z",
     "iopub.status.busy": "2022-06-07T11:05:41.754559Z",
     "iopub.status.idle": "2022-06-07T13:24:03.087121Z",
     "shell.execute_reply": "2022-06-07T13:24:03.087802Z"
    },
    "scrolled": false
   },
   "outputs": [
    {
     "name": "stdout",
     "output_type": "stream",
     "text": [
      "PFIL RUN 1/10 - acc: 71.48% +- 3.25% - auc: 74.1% +- 2.55%\n",
      "PFIL RUN 2/10 - acc: 71.49% +- 4.02% - auc: 74.98% +- 4.32%\n",
      "PFIL RUN 3/10 - acc: 70.23% +- 3.18% - auc: 73.24% +- 4.49%\n",
      "PFIL RUN 4/10 - acc: 71.1% +- 3.14% - auc: 75.94% +- 3.12%\n",
      "PFIL RUN 5/10 - acc: 71.15% +- 1.32% - auc: 74.58% +- 1.56%\n",
      "PFIL RUN 6/10 - acc: 71.47% +- 1.85% - auc: 76.05% +- 4.1%\n",
      "PFIL RUN 7/10 - acc: 70.89% +- 0.9% - auc: 74.08% +- 2.68%\n",
      "PFIL RUN 8/10 - acc: 70.87% +- 3.59% - auc: 73.32% +- 3.3%\n",
      "PFIL RUN 9/10 - acc: 70.34% +- 3.28% - auc: 72.39% +- 1.92%\n",
      "PFIL RUN 10/10 - acc: 71.51% +- 4.24% - auc: 74.61% +- 4.89%\n",
      "PFIL GLOBAL - acc: 71.05% +- 0.45% - auc: 74.33% +- 1.1%\n"
     ]
    }
   ],
   "source": [
    "pfil_accs, pfil_aucs = [], []\n",
    "for i in range(n_runs):\n",
    "    acc, auc = filtering(imputed, y, mode='panda', random_state=i)\n",
    "    pfil_accs.append(acc.mean())\n",
    "    pfil_aucs.append(auc.mean())\n",
    "    print(f'PFIL RUN {i + 1}/{n_runs} - acc: {round(np.mean(acc) * 100, 2)}% +- {round(np.std(acc) * 100, 2)}% - ' +\n",
    "          f'auc: {round(np.mean(auc) * 100, 2)}% +- {round(np.std(auc) * 100, 2)}%')\n",
    "print(f'PFIL GLOBAL - acc: {round(np.mean(pfil_accs) * 100, 2)}% +- {round(np.std(pfil_accs) * 100, 2)}% - ' +\n",
    "      f'auc: {round(np.mean(pfil_aucs) * 100, 2)}% +- {round(np.std(pfil_aucs) * 100, 2)}%')"
   ]
  },
  {
   "cell_type": "markdown",
   "metadata": {},
   "source": [
    "## Run SPOL"
   ]
  },
  {
   "cell_type": "code",
   "execution_count": 8,
   "metadata": {
    "ExecuteTime": {
     "end_time": "2022-06-07T08:50:33.353751Z",
     "start_time": "2022-06-07T08:49:36.684786Z"
    },
    "execution": {
     "iopub.execute_input": "2022-06-07T13:24:03.094155Z",
     "iopub.status.busy": "2022-06-07T13:24:03.093467Z",
     "iopub.status.idle": "2022-06-07T13:27:15.020990Z",
     "shell.execute_reply": "2022-06-07T13:27:15.021946Z"
    }
   },
   "outputs": [
    {
     "name": "stdout",
     "output_type": "stream",
     "text": [
      "SPOL RUN 1/10 - acc: 57.93% +- 7.32% - auc: 61.55% +- 6.08%\n",
      "SPOL RUN 2/10 - acc: 53.42% +- 2.86% - auc: 54.99% +- 3.69%\n",
      "SPOL RUN 3/10 - acc: 51.85% +- 3.39% - auc: 55.45% +- 8.09%\n",
      "SPOL RUN 4/10 - acc: 54.25% +- 4.9% - auc: 58.21% +- 8.71%\n",
      "SPOL RUN 5/10 - acc: 55.24% +- 3.17% - auc: 61.0% +- 7.82%\n",
      "SPOL RUN 6/10 - acc: 51.97% +- 1.71% - auc: 54.35% +- 2.59%\n",
      "SPOL RUN 7/10 - acc: 53.25% +- 2.6% - auc: 56.42% +- 2.69%\n",
      "SPOL RUN 8/10 - acc: 56.84% +- 4.88% - auc: 59.99% +- 6.66%\n",
      "SPOL RUN 9/10 - acc: 54.75% +- 3.09% - auc: 58.04% +- 6.41%\n",
      "SPOL RUN 10/10 - acc: 55.33% +- 3.52% - auc: 65.01% +- 5.18%\n",
      "SPOL GLOBAL - acc: 54.48% +- 1.87% - auc: 58.5% +- 3.22%\n"
     ]
    }
   ],
   "source": [
    "spol_accs, spol_aucs = [], []\n",
    "for i in range(n_runs):\n",
    "    acc, auc = polishing(imputed, y, mode='standard', random_state=i)\n",
    "    spol_accs.append(acc.mean())\n",
    "    spol_aucs.append(auc.mean())\n",
    "    print(f'SPOL RUN {i + 1}/{n_runs} - acc: {round(np.mean(acc) * 100, 2)}% +- {round(np.std(acc) * 100, 2)}% - ' +\n",
    "          f'auc: {round(np.mean(auc) * 100, 2)}% +- {round(np.std(auc) * 100, 2)}%')\n",
    "print(f'SPOL GLOBAL - acc: {round(np.mean(spol_accs) * 100, 2)}% +- {round(np.std(spol_accs) * 100, 2)}% - ' +\n",
    "      f'auc: {round(np.mean(spol_aucs) * 100, 2)}% +- {round(np.std(spol_aucs) * 100, 2)}%')"
   ]
  },
  {
   "cell_type": "markdown",
   "metadata": {},
   "source": [
    "## Run PPOL"
   ]
  },
  {
   "cell_type": "code",
   "execution_count": 9,
   "metadata": {
    "ExecuteTime": {
     "end_time": "2022-06-07T08:52:24.306737Z",
     "start_time": "2022-06-07T08:50:33.355178Z"
    },
    "execution": {
     "iopub.execute_input": "2022-06-07T13:27:15.029114Z",
     "iopub.status.busy": "2022-06-07T13:27:15.028211Z",
     "iopub.status.idle": "2022-06-07T16:02:05.436159Z",
     "shell.execute_reply": "2022-06-07T16:02:05.436706Z"
    }
   },
   "outputs": [
    {
     "name": "stdout",
     "output_type": "stream",
     "text": [
      "PPOL RUN 1/10 - acc: 67.87% +- 5.63% - auc: 73.69% +- 5.69%\n",
      "PPOL RUN 2/10 - acc: 71.1% +- 2.66% - auc: 72.17% +- 2.53%\n",
      "PPOL RUN 3/10 - acc: 70.14% +- 2.66% - auc: 74.85% +- 2.96%\n",
      "PPOL RUN 4/10 - acc: 69.47% +- 4.85% - auc: 73.23% +- 6.74%\n",
      "PPOL RUN 5/10 - acc: 70.38% +- 0.78% - auc: 72.92% +- 1.84%\n",
      "PPOL RUN 6/10 - acc: 69.93% +- 2.7% - auc: 72.57% +- 2.06%\n",
      "PPOL RUN 7/10 - acc: 66.89% +- 4.14% - auc: 71.64% +- 3.01%\n",
      "PPOL RUN 8/10 - acc: 72.38% +- 4.12% - auc: 75.23% +- 4.19%\n",
      "PPOL RUN 9/10 - acc: 68.76% +- 2.26% - auc: 72.88% +- 1.88%\n",
      "PPOL RUN 10/10 - acc: 69.3% +- 2.44% - auc: 72.08% +- 2.74%\n",
      "PPOL GLOBAL - acc: 69.62% +- 1.49% - auc: 73.13% +- 1.11%\n"
     ]
    }
   ],
   "source": [
    "ppol_accs, ppol_aucs = [], []\n",
    "for i in range(n_runs):\n",
    "    acc, auc = polishing(imputed, y, mode='panda', random_state=i)\n",
    "    ppol_accs.append(acc.mean())\n",
    "    ppol_aucs.append(auc.mean())\n",
    "    print(f'PPOL RUN {i + 1}/{n_runs} - acc: {round(np.mean(acc) * 100, 2)}% +- {round(np.std(acc) * 100, 2)}% - ' +\n",
    "          f'auc: {round(np.mean(auc) * 100, 2)}% +- {round(np.std(auc) * 100, 2)}%')\n",
    "print(f'PPOL GLOBAL - acc: {round(np.mean(ppol_accs) * 100, 2)}% +- {round(np.std(ppol_accs) * 100, 2)}% - ' +\n",
    "      f'auc: {round(np.mean(ppol_aucs) * 100, 2)}% +- {round(np.std(ppol_aucs) * 100, 2)}%')"
   ]
  },
  {
   "cell_type": "markdown",
   "metadata": {},
   "source": [
    "## Run T-tests"
   ]
  },
  {
   "cell_type": "code",
   "execution_count": 10,
   "metadata": {
    "ExecuteTime": {
     "end_time": "2022-06-07T08:52:25.983958Z",
     "start_time": "2022-06-07T08:52:25.963898Z"
    },
    "execution": {
     "iopub.execute_input": "2022-06-07T16:02:05.445696Z",
     "iopub.status.busy": "2022-06-07T16:02:05.441469Z",
     "iopub.status.idle": "2022-06-07T16:02:05.476564Z",
     "shell.execute_reply": "2022-06-07T16:02:05.476947Z"
    },
    "scrolled": false
   },
   "outputs": [
    {
     "name": "stdout",
     "output_type": "stream",
     "text": [
      "Metric ACC - OUR METHOD is significantly worse than MICE\n",
      "Metric AUC - OUR METHOD is significantly worse than MICE\n",
      "Metric ACC - OUR METHOD is significantly better than SFIL\n",
      "Metric AUC - OUR METHOD is significantly better than SFIL\n",
      "Metric ACC - OUR METHOD is significantly worse than PFIL\n",
      "Metric AUC - OUR METHOD is even with PFIL\n",
      "Metric ACC - OUR METHOD is significantly better than SPOL\n",
      "Metric AUC - OUR METHOD is significantly better than SPOL\n",
      "Metric ACC - OUR METHOD is significantly worse than PPOL\n",
      "Metric AUC - OUR METHOD is significantly better than PPOL\n"
     ]
    }
   ],
   "source": [
    "for model, metrics in {\n",
    "        'MICE': {'ACC': mice_accs, 'AUC': mice_aucs},\n",
    "        'SFIL': {'ACC': sfil_accs, 'AUC': sfil_aucs},\n",
    "        'PFIL': {'ACC': pfil_accs, 'AUC': pfil_aucs},\n",
    "        'SPOL': {'ACC': spol_accs, 'AUC': spol_aucs},\n",
    "        'PPOL': {'ACC': ppol_accs, 'AUC': ppol_aucs}}.items():\n",
    "    for metric_name, metric in metrics.items():\n",
    "        ours_metric = ours_accs if metric_name == 'ACC' else ours_aucs\n",
    "        t, p = scipy.stats.ttest_ind(np.array(ours_metric), np.array(metric))\n",
    "        if p <= .05:\n",
    "            if t > 0:\n",
    "                ## Our method is better\n",
    "                print(f'Metric {metric_name} - OUR METHOD is significantly better than {model}')\n",
    "            else:\n",
    "                ## Theirs is better\n",
    "                print(f'Metric {metric_name} - OUR METHOD is significantly worse than {model}')\n",
    "        else:\n",
    "            ## Else we are even\n",
    "            print(f'Metric {metric_name} - OUR METHOD is even with {model}')"
   ]
  }
 ],
 "metadata": {
  "kernelspec": {
   "display_name": "Python 3 (ipykernel)",
   "language": "python",
   "name": "python3"
  },
  "language_info": {
   "codemirror_mode": {
    "name": "ipython",
    "version": 3
   },
   "file_extension": ".py",
   "mimetype": "text/x-python",
   "name": "python",
   "nbconvert_exporter": "python",
   "pygments_lexer": "ipython3",
   "version": "3.9.7"
  },
  "latex_envs": {
   "LaTeX_envs_menu_present": true,
   "autoclose": false,
   "autocomplete": true,
   "bibliofile": "biblio.bib",
   "cite_by": "apalike",
   "current_citInitial": 1,
   "eqLabelWithNumbers": true,
   "eqNumInitial": 1,
   "hotkeys": {
    "equation": "Ctrl-E",
    "itemize": "Ctrl-I"
   },
   "labels_anchors": false,
   "latex_user_defs": false,
   "report_style_numbering": false,
   "user_envs_cfg": false
  }
 },
 "nbformat": 4,
 "nbformat_minor": 2
}
