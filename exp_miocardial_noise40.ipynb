{
 "cells": [
  {
   "cell_type": "code",
   "execution_count": 1,
   "metadata": {
    "ExecuteTime": {
     "end_time": "2022-06-03T07:56:37.128214Z",
     "start_time": "2022-06-03T07:56:33.810392Z"
    },
    "execution": {
     "iopub.execute_input": "2022-06-03T15:29:46.708366Z",
     "iopub.status.busy": "2022-06-03T15:29:46.699667Z",
     "iopub.status.idle": "2022-06-03T15:29:50.485932Z",
     "shell.execute_reply": "2022-06-03T15:29:50.485394Z"
    }
   },
   "outputs": [],
   "source": [
    "from __future__ import print_function\n",
    "import warnings\n",
    "warnings.filterwarnings(\"ignore\", category=UserWarning)\n",
    "warnings.filterwarnings(\"ignore\", category=FutureWarning)\n",
    "## Disable tf future deprecated messages\n",
    "import logging\n",
    "logging.getLogger('tensorflow').disabled = True\n",
    "## Disable tf CUDA messages\n",
    "import os\n",
    "os.environ['TF_CPP_MIN_LOG_LEVEL'] = '3'\n",
    "\n",
    "%matplotlib inline\n",
    "\n",
    "import sys\n",
    "import random\n",
    "import numpy as np\n",
    "import pandas as pd\n",
    "\n",
    "import utils\n",
    "import correction\n",
    "from models.dense import *\n",
    "from models.gain import gain\n",
    "from models.soft_impute import SoftImpute\n",
    "from models.sinkhorn import OTimputer\n",
    "from models.mida import mida\n",
    "\n",
    "import scipy.stats\n",
    "\n",
    "from sklearn.experimental import enable_iterative_imputer\n",
    "from sklearn.impute import IterativeImputer\n",
    "from sklearn.impute import KNNImputer, SimpleImputer\n",
    "\n",
    "import sklearn.neighbors._base\n",
    "sys.modules['sklearn.neighbors.base'] = sklearn.neighbors._base\n",
    "from missingpy import MissForest\n",
    "\n",
    "torch.backends.cudnn.enabled = True\n",
    "torch.backends.cudnn.benchmark = True\n",
    "dtype = torch.cuda.FloatTensor"
   ]
  },
  {
   "cell_type": "markdown",
   "metadata": {},
   "source": [
    "## Repeat all experiments for 10 runs"
   ]
  },
  {
   "cell_type": "code",
   "execution_count": 2,
   "metadata": {
    "ExecuteTime": {
     "end_time": "2022-06-03T07:56:37.132965Z",
     "start_time": "2022-06-03T07:56:37.130326Z"
    },
    "execution": {
     "iopub.execute_input": "2022-06-03T15:29:50.490452Z",
     "iopub.status.busy": "2022-06-03T15:29:50.489985Z",
     "iopub.status.idle": "2022-06-03T15:29:50.492400Z",
     "shell.execute_reply": "2022-06-03T15:29:50.492741Z"
    }
   },
   "outputs": [],
   "source": [
    "n_runs = 10"
   ]
  },
  {
   "cell_type": "markdown",
   "metadata": {},
   "source": [
    "## Load data"
   ]
  },
  {
   "cell_type": "code",
   "execution_count": 3,
   "metadata": {
    "ExecuteTime": {
     "end_time": "2022-06-03T07:56:37.290562Z",
     "start_time": "2022-06-03T07:56:37.134360Z"
    },
    "execution": {
     "iopub.execute_input": "2022-06-03T15:29:50.498317Z",
     "iopub.status.busy": "2022-06-03T15:29:50.497872Z",
     "iopub.status.idle": "2022-06-03T15:29:50.672019Z",
     "shell.execute_reply": "2022-06-03T15:29:50.671505Z"
    }
   },
   "outputs": [
    {
     "name": "stdout",
     "output_type": "stream",
     "text": [
      "Dataset shape: (1700, 110)\n",
      "5.62% missing data\n",
      "Class distribution: (array([0, 1]), array([1429,  271]))\n"
     ]
    }
   ],
   "source": [
    "data_missing, missing_mask, y = utils.load_miocardial()\n",
    "## Inject noise\n",
    "data_missing = utils.inject_noise(data_missing.copy(), noise_rate=.40)\n",
    "## Replace missing values locations by 0\n",
    "data_missing = data_missing * missing_mask"
   ]
  },
  {
   "cell_type": "markdown",
   "metadata": {},
   "source": [
    "## Run OUR METHOD"
   ]
  },
  {
   "cell_type": "code",
   "execution_count": 4,
   "metadata": {
    "ExecuteTime": {
     "end_time": "2022-06-03T07:58:28.409535Z",
     "start_time": "2022-06-03T07:56:37.292368Z"
    },
    "execution": {
     "iopub.execute_input": "2022-06-03T15:29:50.682477Z",
     "iopub.status.busy": "2022-06-03T15:29:50.681693Z",
     "iopub.status.idle": "2022-06-03T15:40:22.491246Z",
     "shell.execute_reply": "2022-06-03T15:40:22.491829Z"
    },
    "scrolled": false
   },
   "outputs": [
    {
     "name": "stdout",
     "output_type": "stream",
     "text": [
      "Ite 00000 - 5.84 sec - Loss 0.167764 - ACC 67.23% - ACC Mean 67.23% - AUC 72.85% - AUC Mean 72.85% - Deter 000\n",
      "Ite 00050 - 0.94 sec - Loss 0.067565 - ACC 67.83% - ACC Mean 68.15% - AUC 71.37% - AUC Mean 72.94% - Deter 043\n",
      "Ite 00057 - 0.89 sec - Loss 0.062088 - ACC 68.12% - ACC Mean 67.89% - AUC 73.01% - AUC Mean 72.66% - Deter 050\n",
      "Early stop ite 57, rollback to correction of ite 7, whith acc of 69.93% and auc of 76.32%\n",
      "OUR METHOD RUN 1/10 - acc: 69.93% +- 0.0% - auc: 76.32% +- 0.0%\n",
      "Ite 00000 - 1.01 sec - Loss 0.183461 - ACC 69.98% - ACC Mean 69.98% - AUC 73.92% - AUC Mean 73.92% - Deter 000\n",
      "Ite 00050 - 1.02 sec - Loss 0.086285 - ACC 67.49% - ACC Mean 69.55% - AUC 71.71% - AUC Mean 73.71% - Deter 033\n",
      "Ite 00067 - 0.94 sec - Loss 0.070182 - ACC 69.06% - ACC Mean 68.54% - AUC 73.19% - AUC Mean 72.33% - Deter 050\n",
      "Early stop ite 67, rollback to correction of ite 17, whith acc of 70.72% and auc of 76.85%\n",
      "OUR METHOD RUN 2/10 - acc: 70.72% +- 0.0% - auc: 76.85% +- 0.0%\n",
      "Ite 00000 - 1.08 sec - Loss 0.174742 - ACC 67.68% - ACC Mean 67.68% - AUC 71.86% - AUC Mean 71.86% - Deter 000\n",
      "Ite 00050 - 1.02 sec - Loss 0.074058 - ACC 66.77% - ACC Mean 67.97% - AUC 71.32% - AUC Mean 72.69% - Deter 043\n",
      "Ite 00057 - 0.94 sec - Loss 0.067977 - ACC 67.82% - ACC Mean 67.74% - AUC 70.52% - AUC Mean 72.34% - Deter 050\n",
      "Early stop ite 57, rollback to correction of ite 7, whith acc of 70.4% and auc of 76.04%\n",
      "OUR METHOD RUN 3/10 - acc: 70.4% +- 0.0% - auc: 76.04% +- 0.0%\n",
      "Ite 00000 - 1.05 sec - Loss 0.149197 - ACC 68.34% - ACC Mean 68.34% - AUC 74.95% - AUC Mean 74.95% - Deter 000\n",
      "Ite 00050 - 1.12 sec - Loss 0.063847 - ACC 68.12% - ACC Mean 67.90% - AUC 72.40% - AUC Mean 71.68% - Deter 046\n",
      "Ite 00054 - 1.08 sec - Loss 0.060697 - ACC 67.31% - ACC Mean 67.74% - AUC 70.96% - AUC Mean 71.43% - Deter 050\n",
      "Early stop ite 54, rollback to correction of ite 4, whith acc of 70.12% and auc of 75.26%\n",
      "OUR METHOD RUN 4/10 - acc: 70.12% +- 0.0% - auc: 75.26% +- 0.0%\n",
      "Ite 00000 - 0.89 sec - Loss 0.193089 - ACC 68.21% - ACC Mean 68.21% - AUC 72.29% - AUC Mean 72.29% - Deter 000\n",
      "Ite 00050 - 1.12 sec - Loss 0.093530 - ACC 66.26% - ACC Mean 68.44% - AUC 71.23% - AUC Mean 72.76% - Deter 030\n",
      "Ite 00070 - 0.91 sec - Loss 0.075616 - ACC 67.66% - ACC Mean 67.49% - AUC 72.52% - AUC Mean 72.11% - Deter 050\n",
      "Early stop ite 70, rollback to correction of ite 20, whith acc of 70.79% and auc of 76.04%\n",
      "OUR METHOD RUN 5/10 - acc: 70.79% +- 0.0% - auc: 76.04% +- 0.0%\n",
      "Ite 00000 - 0.92 sec - Loss 0.164380 - ACC 67.62% - ACC Mean 67.62% - AUC 70.58% - AUC Mean 70.58% - Deter 000\n",
      "Ite 00050 - 0.87 sec - Loss 0.085995 - ACC 67.86% - ACC Mean 68.04% - AUC 70.75% - AUC Mean 72.50% - Deter 044\n",
      "Ite 00056 - 0.96 sec - Loss 0.081394 - ACC 67.36% - ACC Mean 67.66% - AUC 71.97% - AUC Mean 72.08% - Deter 050\n",
      "Early stop ite 56, rollback to correction of ite 6, whith acc of 71.01% and auc of 76.26%\n",
      "OUR METHOD RUN 6/10 - acc: 71.01% +- 0.0% - auc: 76.26% +- 0.0%\n",
      "Ite 00000 - 1.01 sec - Loss 0.184089 - ACC 70.73% - ACC Mean 70.73% - AUC 73.81% - AUC Mean 73.81% - Deter 000\n",
      "Ite 00050 - 0.98 sec - Loss 0.089011 - ACC 69.81% - ACC Mean 69.79% - AUC 72.61% - AUC Mean 74.15% - Deter 035\n",
      "Ite 00065 - 0.94 sec - Loss 0.077350 - ACC 69.84% - ACC Mean 69.62% - AUC 72.58% - AUC Mean 73.76% - Deter 050\n",
      "Early stop ite 65, rollback to correction of ite 15, whith acc of 70.62% and auc of 76.39%\n",
      "OUR METHOD RUN 7/10 - acc: 70.62% +- 0.0% - auc: 76.39% +- 0.0%\n",
      "Ite 00000 - 0.96 sec - Loss 0.194218 - ACC 68.23% - ACC Mean 68.23% - AUC 74.15% - AUC Mean 74.15% - Deter 000\n",
      "Ite 00050 - 1.02 sec - Loss 0.093081 - ACC 66.60% - ACC Mean 68.25% - AUC 71.00% - AUC Mean 72.89% - Deter 039\n",
      "Ite 00061 - 1.04 sec - Loss 0.083007 - ACC 67.93% - ACC Mean 67.60% - AUC 72.56% - AUC Mean 72.33% - Deter 050\n",
      "Early stop ite 61, rollback to correction of ite 11, whith acc of 70.32% and auc of 75.76%\n",
      "OUR METHOD RUN 8/10 - acc: 70.32% +- 0.0% - auc: 75.76% +- 0.0%\n",
      "Ite 00000 - 1.01 sec - Loss 0.153459 - ACC 68.81% - ACC Mean 68.81% - AUC 73.10% - AUC Mean 73.10% - Deter 000\n",
      "Ite 00050 - 0.94 sec - Loss 0.069087 - ACC 69.68% - ACC Mean 68.41% - AUC 73.40% - AUC Mean 72.33% - Deter 049\n",
      "Ite 00051 - 0.94 sec - Loss 0.068257 - ACC 66.57% - ACC Mean 68.34% - AUC 68.78% - AUC Mean 72.18% - Deter 050\n",
      "Early stop ite 51, rollback to correction of ite 1, whith acc of 69.91% and auc of 75.97%\n",
      "OUR METHOD RUN 9/10 - acc: 69.91% +- 0.0% - auc: 75.97% +- 0.0%\n",
      "Ite 00000 - 1.01 sec - Loss 0.166462 - ACC 68.70% - ACC Mean 68.70% - AUC 73.58% - AUC Mean 73.58% - Deter 000\n",
      "Ite 00050 - 1.17 sec - Loss 0.076532 - ACC 68.06% - ACC Mean 68.56% - AUC 70.80% - AUC Mean 72.40% - Deter 047\n",
      "Ite 00053 - 1.03 sec - Loss 0.074156 - ACC 68.96% - ACC Mean 68.46% - AUC 69.84% - AUC Mean 72.22% - Deter 050\n",
      "Early stop ite 53, rollback to correction of ite 3, whith acc of 69.89% and auc of 75.59%\n",
      "OUR METHOD RUN 10/10 - acc: 69.89% +- 0.0% - auc: 75.59% +- 0.0%\n",
      "\n",
      "OUR METHOD GLOBAL - acc: 70.37% +- 0.38% - auc: 76.05% +- 0.42%\n"
     ]
    }
   ],
   "source": [
    "params = {\n",
    "    'nb_batches': 10,\n",
    "    'reg_noise_std': .03,\n",
    "    'net_input': 'data_corrupted',\n",
    "    'net_params': {\n",
    "        'input_channels':1,\n",
    "        'output_channels':1,\n",
    "        'channels_skip':4,\n",
    "        'down_layers':[(24, 7, 2),\n",
    "                       (46, 9, 1),\n",
    "                       (96, 9, 5),\n",
    "                       (96, 11, 1)],\n",
    "        'need_sigmoid':True,\n",
    "        'need_bias':True,\n",
    "        'pad':'zero',\n",
    "        'downsample_mode':'stride',\n",
    "        'upsample_mode':'nearest',\n",
    "        'act_fun':'LeakyReLU',\n",
    "        'need1x1_up':True\n",
    "    },# or a list containing layers sizes\n",
    "    'adam_lr': .0001,\n",
    "    'adam_weight_decay': 0.,\n",
    "}\n",
    "\n",
    "ours_accs, ours_aucs = [], []\n",
    "for i in range(n_runs):\n",
    "    ours_correction = correction.run(data_missing, 501, params, y=y, missing_mask=missing_mask, seed=i)\n",
    "    ## Since our method returns 2 imputations select the best one\n",
    "    scores_raw = utils.get_scores(ours_correction['raw_out'], y)\n",
    "    acc = scores_raw['test_balanced_accuracy']\n",
    "    auc = scores_raw['test_roc_auc_ovo']\n",
    "    acc = acc.mean()\n",
    "    acc_std = acc.std()\n",
    "    auc = auc.mean()\n",
    "    auc_std = auc.std()\n",
    "    if 'masked_out' in ours_correction:\n",
    "        scores_masked = utils.get_scores(ours_correction['masked_out'], y)\n",
    "        acc_masked = scores_masked['test_balanced_accuracy']\n",
    "        auc_masked = scores_masked['test_roc_auc_ovo']\n",
    "        if auc_masked.mean() > auc:\n",
    "            acc = acc_masked.mean()\n",
    "            acc_std = acc_masked.std()\n",
    "            auc = auc_masked.mean()\n",
    "            auc_std = auc_masked.std()\n",
    "    print(f'OUR METHOD RUN {i + 1}/{n_runs} - acc: {round(acc.mean() * 100, 2)}% +- {round(acc.std() * 100, 2)}% - ' +\n",
    "          f'auc: {round(auc.mean() * 100, 2)}% +- {round(auc.std() * 100, 2)}%')\n",
    "    ours_accs.append(acc.mean())\n",
    "    ours_aucs.append(auc.mean())\n",
    "print(f'\\nOUR METHOD GLOBAL - acc: {round(np.array(ours_accs).mean() * 100, 2)}% +- {round(np.array(ours_accs).std() * 100, 2)}% - ' +\n",
    "      f'auc: {round(np.array(ours_aucs).mean() * 100, 2)}% +- {round(np.array(ours_aucs).std() * 100, 2)}%')"
   ]
  },
  {
   "cell_type": "markdown",
   "metadata": {},
   "source": [
    "## Run Median, Mean and KNN"
   ]
  },
  {
   "cell_type": "code",
   "execution_count": 5,
   "metadata": {
    "ExecuteTime": {
     "end_time": "2022-06-03T07:58:31.715672Z",
     "start_time": "2022-06-03T07:58:28.411834Z"
    },
    "execution": {
     "iopub.execute_input": "2022-06-03T15:40:22.502872Z",
     "iopub.status.busy": "2022-06-03T15:40:22.501061Z",
     "iopub.status.idle": "2022-06-03T15:40:24.074202Z",
     "shell.execute_reply": "2022-06-03T15:40:24.074964Z"
    }
   },
   "outputs": [
    {
     "name": "stdout",
     "output_type": "stream",
     "text": [
      "MEDIAN - acc: 56.82% +- 0.0% - auc: 61.13% +- 0.0%\n",
      "MEAN - acc: 71.28% +- 0.0% - auc: 74.72% +- 0.0%\n",
      "KNN - acc: 67.56% +- 0.0% - auc: 71.19% +- 0.0%\n"
     ]
    }
   ],
   "source": [
    "data_missing_nans = np.where(missing_mask, data_missing, np.nan)\n",
    "\n",
    "median_imputer = SimpleImputer(missing_values=np.nan, strategy='median')\n",
    "mean_imputer = SimpleImputer(missing_values=np.nan, strategy='mean')\n",
    "knn_imputer = KNNImputer(n_neighbors=10, weights='uniform')\n",
    "\n",
    "median_completed = median_imputer.fit_transform(data_missing_nans)\n",
    "mean_completed = mean_imputer.fit_transform(data_missing_nans)\n",
    "knn_completed = knn_imputer.fit_transform(data_missing_nans)\n",
    "\n",
    "## All runs would be the same since deterministic methods\n",
    "scores = utils.get_scores(median_completed, y)\n",
    "acc = [scores['test_balanced_accuracy'].mean()] * n_runs\n",
    "auc = [scores['test_roc_auc_ovo'].mean()] * n_runs\n",
    "print(f'MEDIAN - acc: {round(np.mean(acc) * 100, 2)}% +- {round(np.std(acc) * 100, 2)}% - ' +\n",
    "      f'auc: {round(np.mean(auc) * 100, 2)}% +- {round(np.std(auc) * 100, 2)}%')\n",
    "median_accs = acc\n",
    "median_aucs = auc\n",
    "\n",
    "scores = utils.get_scores(mean_completed, y)\n",
    "acc = [scores['test_balanced_accuracy'].mean()] * n_runs\n",
    "auc = [scores['test_roc_auc_ovo'].mean()] * n_runs\n",
    "print(f'MEAN - acc: {round(np.mean(acc) * 100, 2)}% +- {round(np.std(acc) * 100, 2)}% - ' +\n",
    "      f'auc: {round(np.mean(auc) * 100, 2)}% +- {round(np.std(auc) * 100, 2)}%')\n",
    "mean_accs = acc\n",
    "mean_aucs = auc\n",
    "\n",
    "scores = utils.get_scores(knn_completed, y)\n",
    "acc = [scores['test_balanced_accuracy'].mean()] * n_runs\n",
    "auc = [scores['test_roc_auc_ovo'].mean()] * n_runs\n",
    "print(f'KNN - acc: {round(np.mean(acc) * 100, 2)}% +- {round(np.std(acc) * 100, 2)}% - ' +\n",
    "      f'auc: {round(np.mean(auc) * 100, 2)}% +- {round(np.std(auc) * 100, 2)}%')\n",
    "knn_accs = acc\n",
    "knn_aucs = auc"
   ]
  },
  {
   "cell_type": "markdown",
   "metadata": {},
   "source": [
    "## Run GAIN"
   ]
  },
  {
   "cell_type": "code",
   "execution_count": 6,
   "metadata": {
    "ExecuteTime": {
     "end_time": "2022-06-03T07:59:07.140809Z",
     "start_time": "2022-06-03T07:58:31.718964Z"
    },
    "execution": {
     "iopub.execute_input": "2022-06-03T15:40:24.082254Z",
     "iopub.status.busy": "2022-06-03T15:40:24.081262Z",
     "iopub.status.idle": "2022-06-03T15:49:32.126215Z",
     "shell.execute_reply": "2022-06-03T15:49:32.125706Z"
    },
    "scrolled": false
   },
   "outputs": [
    {
     "name": "stderr",
     "output_type": "stream",
     "text": [
      "100%|██████████| 5000/5000 [00:47<00:00, 104.66it/s]\n"
     ]
    },
    {
     "name": "stdout",
     "output_type": "stream",
     "text": [
      "\n",
      "GAIN RUN 1/10 - acc: 68.49% +- 1.76% - auc: 70.9% +- 2.89%\n",
      "\n"
     ]
    },
    {
     "name": "stderr",
     "output_type": "stream",
     "text": [
      "100%|██████████| 5000/5000 [00:49<00:00, 101.23it/s]\n"
     ]
    },
    {
     "name": "stdout",
     "output_type": "stream",
     "text": [
      "\n",
      "GAIN RUN 2/10 - acc: 63.85% +- 2.03% - auc: 69.14% +- 1.75%\n",
      "\n"
     ]
    },
    {
     "name": "stderr",
     "output_type": "stream",
     "text": [
      "100%|██████████| 5000/5000 [00:48<00:00, 102.74it/s]\n"
     ]
    },
    {
     "name": "stdout",
     "output_type": "stream",
     "text": [
      "\n",
      "GAIN RUN 3/10 - acc: 69.44% +- 3.57% - auc: 73.53% +- 3.31%\n",
      "\n"
     ]
    },
    {
     "name": "stderr",
     "output_type": "stream",
     "text": [
      "100%|██████████| 5000/5000 [00:48<00:00, 102.09it/s]\n"
     ]
    },
    {
     "name": "stdout",
     "output_type": "stream",
     "text": [
      "\n",
      "GAIN RUN 4/10 - acc: 66.23% +- 2.69% - auc: 70.75% +- 2.98%\n",
      "\n"
     ]
    },
    {
     "name": "stderr",
     "output_type": "stream",
     "text": [
      "100%|██████████| 5000/5000 [00:50<00:00, 99.57it/s]\n"
     ]
    },
    {
     "name": "stdout",
     "output_type": "stream",
     "text": [
      "\n",
      "GAIN RUN 5/10 - acc: 62.46% +- 3.17% - auc: 68.55% +- 4.4%\n",
      "\n"
     ]
    },
    {
     "name": "stderr",
     "output_type": "stream",
     "text": [
      "100%|██████████| 5000/5000 [00:51<00:00, 96.60it/s]\n"
     ]
    },
    {
     "name": "stdout",
     "output_type": "stream",
     "text": [
      "\n",
      "GAIN RUN 6/10 - acc: 65.81% +- 3.4% - auc: 68.0% +- 2.53%\n",
      "\n"
     ]
    },
    {
     "name": "stderr",
     "output_type": "stream",
     "text": [
      "100%|██████████| 5000/5000 [00:52<00:00, 95.41it/s] \n"
     ]
    },
    {
     "name": "stdout",
     "output_type": "stream",
     "text": [
      "\n",
      "GAIN RUN 7/10 - acc: 68.61% +- 2.05% - auc: 72.26% +- 3.22%\n",
      "\n"
     ]
    },
    {
     "name": "stderr",
     "output_type": "stream",
     "text": [
      "100%|██████████| 5000/5000 [00:58<00:00, 85.43it/s]\n"
     ]
    },
    {
     "name": "stdout",
     "output_type": "stream",
     "text": [
      "\n",
      "GAIN RUN 8/10 - acc: 63.9% +- 2.15% - auc: 70.4% +- 1.74%\n",
      "\n"
     ]
    },
    {
     "name": "stderr",
     "output_type": "stream",
     "text": [
      "100%|██████████| 5000/5000 [01:00<00:00, 82.73it/s]\n"
     ]
    },
    {
     "name": "stdout",
     "output_type": "stream",
     "text": [
      "\n",
      "GAIN RUN 9/10 - acc: 66.52% +- 3.7% - auc: 71.4% +- 2.94%\n",
      "\n"
     ]
    },
    {
     "name": "stderr",
     "output_type": "stream",
     "text": [
      "100%|██████████| 5000/5000 [01:05<00:00, 76.28it/s]\n"
     ]
    },
    {
     "name": "stdout",
     "output_type": "stream",
     "text": [
      "\n",
      "GAIN RUN 10/10 - acc: 65.98% +- 1.77% - auc: 69.52% +- 3.54%\n",
      "\n",
      "GAIN GLOBAL - acc: 66.13% +- 2.16% - auc: 70.44% +- 1.62%\n"
     ]
    }
   ],
   "source": [
    "gain_parameters = {'batch_size': 128,\n",
    "                   'hint_rate': .9,\n",
    "                   'alpha': 100,\n",
    "                   'iterations': 5000}\n",
    "\n",
    "gain_accs, gain_aucs = [], []\n",
    "for i in range(n_runs):\n",
    "    random.seed(i)\n",
    "    np.random.seed(i)\n",
    "    torch.manual_seed(i)\n",
    "    imputed = gain(data_missing_nans, gain_parameters)\n",
    "    scores = utils.get_scores(imputed, y)\n",
    "    acc = scores['test_balanced_accuracy']\n",
    "    auc = scores['test_roc_auc_ovo']\n",
    "    print(f'\\nGAIN RUN {i + 1}/{n_runs} - acc: {round(acc.mean() * 100, 2)}% +- {round(acc.std() * 100, 2)}% - ' +\n",
    "          f'auc: {round(auc.mean() * 100, 2)}% +- {round(auc.std() * 100, 2)}%\\n')\n",
    "    gain_accs.append(acc.mean())\n",
    "    gain_aucs.append(auc.mean())\n",
    "print(f'GAIN GLOBAL - acc: {round(np.array(gain_accs).mean() * 100, 2)}% +- {round(np.array(gain_accs).std() * 100, 2)}% - ' +\n",
    "      f'auc: {round(np.array(gain_aucs).mean() * 100, 2)}% +- {round(np.array(gain_aucs).std() * 100, 2)}%')"
   ]
  },
  {
   "cell_type": "markdown",
   "metadata": {},
   "source": [
    "## Run MICE"
   ]
  },
  {
   "cell_type": "code",
   "execution_count": 7,
   "metadata": {
    "ExecuteTime": {
     "end_time": "2022-06-03T08:13:33.572553Z",
     "start_time": "2022-06-03T07:59:07.142164Z"
    },
    "execution": {
     "iopub.execute_input": "2022-06-03T15:49:32.137003Z",
     "iopub.status.busy": "2022-06-03T15:49:32.136546Z",
     "iopub.status.idle": "2022-06-03T15:57:46.283526Z",
     "shell.execute_reply": "2022-06-03T15:57:46.280627Z"
    }
   },
   "outputs": [
    {
     "name": "stdout",
     "output_type": "stream",
     "text": [
      "MICE - acc: 72.06% +- 0.0% - auc: 74.75% +- 0.0%\n"
     ]
    }
   ],
   "source": [
    "imputer = IterativeImputer()\n",
    "imputed = imputer.fit_transform(data_missing_nans)\n",
    "## All runs would be the same since deterministic method\n",
    "scores = utils.get_scores(imputed, y)\n",
    "acc = [scores['test_balanced_accuracy'].mean()] * n_runs\n",
    "auc = [scores['test_roc_auc_ovo'].mean()] * n_runs\n",
    "print(f'MICE - acc: {round(np.mean(acc) * 100, 2)}% +- {round(np.std(acc) * 100, 2)}% - ' +\n",
    "      f'auc: {round(np.mean(auc) * 100, 2)}% +- {round(np.std(auc) * 100, 2)}%')\n",
    "mice_accs = acc\n",
    "mice_aucs = auc"
   ]
  },
  {
   "cell_type": "markdown",
   "metadata": {},
   "source": [
    "## Run MISSFOREST"
   ]
  },
  {
   "cell_type": "code",
   "execution_count": 8,
   "metadata": {
    "ExecuteTime": {
     "end_time": "2022-06-03T08:13:33.579829Z",
     "start_time": "2022-06-03T08:13:33.579804Z"
    },
    "execution": {
     "iopub.execute_input": "2022-06-03T15:57:46.293682Z",
     "iopub.status.busy": "2022-06-03T15:57:46.293267Z",
     "iopub.status.idle": "2022-06-03T19:26:22.296446Z",
     "shell.execute_reply": "2022-06-03T19:26:22.296972Z"
    },
    "scrolled": false
   },
   "outputs": [
    {
     "name": "stdout",
     "output_type": "stream",
     "text": [
      "Iteration: 0\n",
      "Iteration: 1\n",
      "Iteration: 2\n",
      "Iteration: 3\n",
      "\n",
      "MISSFOREST RUN 1/10 - acc: 70.97% +- 1.14% - auc: 73.17% +- 2.05%\n",
      "\n",
      "Iteration: 0\n",
      "Iteration: 1\n",
      "Iteration: 2\n",
      "Iteration: 3\n",
      "\n",
      "MISSFOREST RUN 2/10 - acc: 69.48% +- 3.42% - auc: 73.74% +- 2.73%\n",
      "\n",
      "Iteration: 0\n",
      "Iteration: 1\n",
      "Iteration: 2\n",
      "Iteration: 3\n",
      "\n",
      "MISSFOREST RUN 3/10 - acc: 69.58% +- 2.61% - auc: 73.54% +- 2.27%\n",
      "\n",
      "Iteration: 0\n",
      "Iteration: 1\n",
      "Iteration: 2\n",
      "Iteration: 3\n",
      "Iteration: 4\n",
      "Iteration: 5\n",
      "\n",
      "MISSFOREST RUN 4/10 - acc: 69.8% +- 2.16% - auc: 72.29% +- 2.6%\n",
      "\n",
      "Iteration: 0\n",
      "Iteration: 1\n",
      "Iteration: 2\n",
      "Iteration: 3\n",
      "\n",
      "MISSFOREST RUN 5/10 - acc: 70.61% +- 2.67% - auc: 73.29% +- 2.68%\n",
      "\n",
      "Iteration: 0\n",
      "Iteration: 1\n",
      "Iteration: 2\n",
      "Iteration: 3\n",
      "Iteration: 4\n",
      "Iteration: 5\n",
      "Iteration: 6\n",
      "\n",
      "MISSFOREST RUN 6/10 - acc: 69.5% +- 4.18% - auc: 72.39% +- 4.15%\n",
      "\n",
      "Iteration: 0\n",
      "Iteration: 1\n",
      "Iteration: 2\n",
      "Iteration: 3\n",
      "Iteration: 4\n",
      "Iteration: 5\n",
      "\n",
      "MISSFOREST RUN 7/10 - acc: 68.65% +- 3.86% - auc: 74.0% +- 3.29%\n",
      "\n",
      "Iteration: 0\n",
      "Iteration: 1\n",
      "Iteration: 2\n",
      "Iteration: 3\n",
      "Iteration: 4\n",
      "\n",
      "MISSFOREST RUN 8/10 - acc: 66.93% +- 2.92% - auc: 72.41% +- 2.22%\n",
      "\n",
      "Iteration: 0\n",
      "Iteration: 1\n",
      "Iteration: 2\n",
      "Iteration: 3\n",
      "Iteration: 4\n",
      "\n",
      "MISSFOREST RUN 9/10 - acc: 69.83% +- 2.71% - auc: 73.22% +- 2.51%\n",
      "\n",
      "Iteration: 0\n",
      "Iteration: 1\n",
      "Iteration: 2\n",
      "Iteration: 3\n",
      "\n",
      "MISSFOREST RUN 10/10 - acc: 71.4% +- 2.04% - auc: 74.3% +- 2.8%\n",
      "\n",
      "\n",
      "MISSFOREST GLOBAL - acc: 69.68% +- 1.19% - auc: 73.23% +- 0.66%\n"
     ]
    }
   ],
   "source": [
    "miss_accs, miss_aucs = [], []\n",
    "for i in range(n_runs):\n",
    "    random.seed(i)\n",
    "    np.random.seed(i)\n",
    "    torch.manual_seed(i)\n",
    "    imputer = MissForest(n_jobs=-1, random_state=i)\n",
    "    imputed = imputer.fit_transform(data_missing_nans)\n",
    "    scores = utils.get_scores(imputed, y)\n",
    "    acc = scores['test_balanced_accuracy']\n",
    "    auc = scores['test_roc_auc_ovo']\n",
    "    print(f'\\nMISSFOREST RUN {i + 1}/{n_runs} - acc: {round(acc.mean() * 100, 2)}% +- {round(acc.std() * 100, 2)}% - ' +\n",
    "          f'auc: {round(auc.mean() * 100, 2)}% +- {round(auc.std() * 100, 2)}%\\n')\n",
    "    miss_accs.append(acc.mean())\n",
    "    miss_aucs.append(auc.mean())\n",
    "print(f'\\nMISSFOREST GLOBAL - acc: {round(np.array(miss_accs).mean() * 100, 2)}% +- {round(np.array(miss_accs).std() * 100, 2)}% - ' +\n",
    "      f'auc: {round(np.array(miss_aucs).mean() * 100, 2)}% +- {round(np.array(miss_aucs).std() * 100, 2)}%')"
   ]
  },
  {
   "cell_type": "markdown",
   "metadata": {},
   "source": [
    "## Run SOFTIMPUTE"
   ]
  },
  {
   "cell_type": "code",
   "execution_count": 9,
   "metadata": {
    "ExecuteTime": {
     "end_time": "2022-06-03T08:13:33.581198Z",
     "start_time": "2022-06-03T08:13:33.581175Z"
    },
    "execution": {
     "iopub.execute_input": "2022-06-03T19:26:22.315664Z",
     "iopub.status.busy": "2022-06-03T19:26:22.312310Z",
     "iopub.status.idle": "2022-06-03T19:26:34.978271Z",
     "shell.execute_reply": "2022-06-03T19:26:34.978681Z"
    }
   },
   "outputs": [
    {
     "name": "stdout",
     "output_type": "stream",
     "text": [
      "SOFTIMPUTE RUN 1/10 - acc: 70.69% +- 3.04% - auc: 75.18% +- 3.71%\n",
      "SOFTIMPUTE RUN 2/10 - acc: 70.39% +- 2.91% - auc: 73.33% +- 4.15%\n",
      "SOFTIMPUTE RUN 3/10 - acc: 70.52% +- 3.46% - auc: 73.3% +- 4.31%\n",
      "SOFTIMPUTE RUN 4/10 - acc: 70.03% +- 3.93% - auc: 75.98% +- 3.02%\n",
      "SOFTIMPUTE RUN 5/10 - acc: 70.36% +- 3.27% - auc: 72.63% +- 5.52%\n",
      "SOFTIMPUTE RUN 6/10 - acc: 70.56% +- 2.99% - auc: 73.42% +- 4.46%\n",
      "SOFTIMPUTE RUN 7/10 - acc: 71.02% +- 2.8% - auc: 73.08% +- 5.64%\n",
      "SOFTIMPUTE RUN 8/10 - acc: 71.85% +- 3.73% - auc: 74.2% +- 5.15%\n",
      "SOFTIMPUTE RUN 9/10 - acc: 71.11% +- 3.16% - auc: 72.77% +- 5.16%\n",
      "SOFTIMPUTE RUN 10/10 - acc: 71.49% +- 2.6% - auc: 74.18% +- 5.7%\n",
      "\n",
      "SOFTIMPUTE GLOBAL - acc: 70.8% +- 0.53% - auc: 73.81% +- 1.03%\n"
     ]
    }
   ],
   "source": [
    "soft_accs, soft_aucs = [], []\n",
    "for i in range(n_runs):\n",
    "    random.seed(i)\n",
    "    np.random.seed(i)\n",
    "    torch.manual_seed(i)\n",
    "    imputer = SoftImpute(random_state=i)\n",
    "    imputer.fit(data_missing_nans)\n",
    "    imputed = imputer.predict(data_missing_nans)\n",
    "    imputed = np.where(missing_mask, data_missing, imputed)\n",
    "    scores = utils.get_scores(imputed, y)\n",
    "    acc = scores['test_balanced_accuracy']\n",
    "    auc = scores['test_roc_auc_ovo']\n",
    "    print(f'SOFTIMPUTE RUN {i + 1}/{n_runs} - acc: {round(acc.mean() * 100, 2)}% +- {round(acc.std() * 100, 2)}% - ' +\n",
    "          f'auc: {round(auc.mean() * 100, 2)}% +- {round(auc.std() * 100, 2)}%')\n",
    "    soft_accs.append(acc.mean())\n",
    "    soft_aucs.append(auc.mean())\n",
    "print(f'\\nSOFTIMPUTE GLOBAL - acc: {round(np.array(soft_accs).mean() * 100, 2)}% +- {round(np.array(soft_accs).std() * 100, 2)}% - ' +\n",
    "      f'auc: {round(np.array(soft_aucs).mean() * 100, 2)}% +- {round(np.array(soft_aucs).std() * 100, 2)}%')"
   ]
  },
  {
   "cell_type": "markdown",
   "metadata": {},
   "source": [
    "## Run SINKHORN"
   ]
  },
  {
   "cell_type": "code",
   "execution_count": 10,
   "metadata": {
    "execution": {
     "iopub.execute_input": "2022-06-03T19:26:34.986483Z",
     "iopub.status.busy": "2022-06-03T19:26:34.986043Z",
     "iopub.status.idle": "2022-06-03T19:33:36.562845Z",
     "shell.execute_reply": "2022-06-03T19:33:36.563305Z"
    }
   },
   "outputs": [
    {
     "name": "stdout",
     "output_type": "stream",
     "text": [
      "batchsize = 128, epsilon = 0.0100\n",
      "Iteration 0:\t Loss: 7.7756\n",
      "\n",
      "SINKHORN RUN 1/10 - acc: 66.31% +- 2.63% - auc: 70.03% +- 2.8%\n",
      "\n",
      "batchsize = 128, epsilon = 0.0100\n",
      "Iteration 0:\t Loss: 7.7849\n",
      "\n",
      "SINKHORN RUN 2/10 - acc: 69.02% +- 4.01% - auc: 71.67% +- 3.09%\n",
      "\n",
      "batchsize = 128, epsilon = 0.0100\n",
      "Iteration 0:\t Loss: 7.8881\n",
      "\n",
      "SINKHORN RUN 3/10 - acc: 69.17% +- 3.74% - auc: 71.0% +- 3.84%\n",
      "\n",
      "batchsize = 128, epsilon = 0.0100\n",
      "Iteration 0:\t Loss: 8.0223\n",
      "\n",
      "SINKHORN RUN 4/10 - acc: 68.71% +- 5.22% - auc: 70.47% +- 5.01%\n",
      "\n",
      "batchsize = 128, epsilon = 0.0100\n",
      "Iteration 0:\t Loss: 7.8125\n",
      "\n",
      "SINKHORN RUN 5/10 - acc: 67.88% +- 3.66% - auc: 71.84% +- 3.41%\n",
      "\n",
      "batchsize = 128, epsilon = 0.0100\n",
      "Iteration 0:\t Loss: 7.7409\n",
      "\n",
      "SINKHORN RUN 6/10 - acc: 70.66% +- 2.05% - auc: 73.79% +- 1.0%\n",
      "\n",
      "batchsize = 128, epsilon = 0.0100\n",
      "Iteration 0:\t Loss: 7.9821\n",
      "\n",
      "SINKHORN RUN 7/10 - acc: 68.78% +- 3.47% - auc: 73.56% +- 2.99%\n",
      "\n",
      "batchsize = 128, epsilon = 0.0100\n",
      "Iteration 0:\t Loss: 7.9311\n",
      "\n",
      "SINKHORN RUN 8/10 - acc: 68.84% +- 1.11% - auc: 70.71% +- 1.54%\n",
      "\n",
      "batchsize = 128, epsilon = 0.0100\n",
      "Iteration 0:\t Loss: 7.8940\n",
      "\n",
      "SINKHORN RUN 9/10 - acc: 68.2% +- 3.77% - auc: 72.6% +- 2.68%\n",
      "\n",
      "batchsize = 128, epsilon = 0.0100\n",
      "Iteration 0:\t Loss: 7.7357\n",
      "\n",
      "SINKHORN RUN 10/10 - acc: 69.45% +- 1.81% - auc: 72.25% +- 2.8%\n",
      "\n",
      "\n",
      "SINKHORN GLOBAL - acc: 68.7% +- 1.07% - auc: 71.79% +- 1.21%\n"
     ]
    }
   ],
   "source": [
    "sink_accs, sink_aucs = [], []\n",
    "for i in range(n_runs):\n",
    "    random.seed(i)\n",
    "    np.random.seed(i)\n",
    "    torch.manual_seed(i)\n",
    "    imputer = OTimputer(niter=500)\n",
    "    imputed = imputer.fit_transform(data_missing_nans).cpu().detach().numpy()\n",
    "    scores = utils.get_scores(imputed, y)\n",
    "    acc = scores['test_balanced_accuracy']\n",
    "    auc = scores['test_roc_auc_ovo']\n",
    "    print(f'\\nSINKHORN RUN {i + 1}/{n_runs} - acc: {round(acc.mean() * 100, 2)}% +- {round(acc.std() * 100, 2)}% - ' +\n",
    "          f'auc: {round(auc.mean() * 100, 2)}% +- {round(auc.std() * 100, 2)}%\\n')\n",
    "    sink_accs.append(acc.mean())\n",
    "    sink_aucs.append(auc.mean())\n",
    "print(f'\\nSINKHORN GLOBAL - acc: {round(np.array(sink_accs).mean() * 100, 2)}% +- {round(np.array(sink_accs).std() * 100, 2)}% - ' +\n",
    "      f'auc: {round(np.array(sink_aucs).mean() * 100, 2)}% +- {round(np.array(sink_aucs).std() * 100, 2)}%')"
   ]
  },
  {
   "cell_type": "markdown",
   "metadata": {},
   "source": [
    "## Run MIDA"
   ]
  },
  {
   "cell_type": "code",
   "execution_count": 11,
   "metadata": {
    "execution": {
     "iopub.execute_input": "2022-06-03T19:33:36.568189Z",
     "iopub.status.busy": "2022-06-03T19:33:36.567714Z",
     "iopub.status.idle": "2022-06-03T19:37:12.352625Z",
     "shell.execute_reply": "2022-06-03T19:37:12.352211Z"
    }
   },
   "outputs": [
    {
     "name": "stdout",
     "output_type": "stream",
     "text": [
      "Stop training at epoch: 1500/1500, return best output\n",
      "\n",
      "MIDA RUN 1/10 - acc: 69.51% +- 1.86% - auc: 71.4% +- 3.53%\n",
      "\n",
      "Stop training at epoch: 1500/1500, return best output\n",
      "\n",
      "MIDA RUN 2/10 - acc: 70.05% +- 4.2% - auc: 72.54% +- 3.34%\n",
      "\n",
      "Stop training at epoch: 1500/1500, return best output\n",
      "\n",
      "MIDA RUN 3/10 - acc: 69.12% +- 1.12% - auc: 71.87% +- 2.02%\n",
      "\n",
      "Stop training at epoch: 1500/1500, return best output\n",
      "\n",
      "MIDA RUN 4/10 - acc: 66.73% +- 2.3% - auc: 70.39% +- 3.56%\n",
      "\n",
      "Stop training at epoch: 1500/1500, return best output\n",
      "\n",
      "MIDA RUN 5/10 - acc: 69.58% +- 1.36% - auc: 71.36% +- 3.06%\n",
      "\n",
      "Stop training at epoch: 1500/1500, return best output\n",
      "\n",
      "MIDA RUN 6/10 - acc: 68.52% +- 2.01% - auc: 71.23% +- 2.5%\n",
      "\n",
      "Stop training at epoch: 1500/1500, return best output\n",
      "\n",
      "MIDA RUN 7/10 - acc: 68.06% +- 3.56% - auc: 70.08% +- 5.04%\n",
      "\n",
      "Stop training at epoch: 1500/1500, return best output\n",
      "\n",
      "MIDA RUN 8/10 - acc: 67.71% +- 2.73% - auc: 69.44% +- 2.23%\n",
      "\n",
      "Stop training at epoch: 1500/1500, return best output\n",
      "\n",
      "MIDA RUN 9/10 - acc: 67.93% +- 2.96% - auc: 71.51% +- 2.67%\n",
      "\n",
      "Stop training at epoch: 1500/1500, return best output\n",
      "\n",
      "MIDA RUN 10/10 - acc: 68.61% +- 2.87% - auc: 73.13% +- 4.52%\n",
      "\n",
      "\n",
      "MIDA GLOBAL - acc: 68.58% +- 0.96% - auc: 71.29% +- 1.05%\n"
     ]
    }
   ],
   "source": [
    "mida_accs, mida_aucs = [], []\n",
    "for i in range(n_runs):\n",
    "    random.seed(i)\n",
    "    np.random.seed(i)\n",
    "    torch.manual_seed(i)\n",
    "    imputed = mida(data_missing_nans, num_layers=2, num_epochs=1500)\n",
    "    imputed = np.where(missing_mask, data_missing, imputed)\n",
    "    scores = utils.get_scores(imputed, y)\n",
    "    acc = scores['test_balanced_accuracy']\n",
    "    auc = scores['test_roc_auc_ovo']\n",
    "    print(f'\\nMIDA RUN {i + 1}/{n_runs} - acc: {round(acc.mean() * 100, 2)}% +- {round(acc.std() * 100, 2)}% - ' +\n",
    "          f'auc: {round(auc.mean() * 100, 2)}% +- {round(auc.std() * 100, 2)}%\\n')\n",
    "    mida_accs.append(acc.mean())\n",
    "    mida_aucs.append(auc.mean())\n",
    "print(f'\\nMIDA GLOBAL - acc: {round(np.array(mida_accs).mean() * 100, 2)}% +- {round(np.array(mida_accs).std() * 100, 2)}% - ' +\n",
    "      f'auc: {round(np.array(mida_aucs).mean() * 100, 2)}% +- {round(np.array(mida_aucs).std() * 100, 2)}%')"
   ]
  },
  {
   "cell_type": "markdown",
   "metadata": {},
   "source": [
    "## Run T-tests"
   ]
  },
  {
   "cell_type": "code",
   "execution_count": 12,
   "metadata": {
    "ExecuteTime": {
     "end_time": "2022-06-03T08:13:33.583163Z",
     "start_time": "2022-06-03T08:13:33.583140Z"
    },
    "execution": {
     "iopub.execute_input": "2022-06-03T19:37:12.363292Z",
     "iopub.status.busy": "2022-06-03T19:37:12.362013Z",
     "iopub.status.idle": "2022-06-03T19:37:12.370159Z",
     "shell.execute_reply": "2022-06-03T19:37:12.370491Z"
    },
    "scrolled": false
   },
   "outputs": [
    {
     "name": "stdout",
     "output_type": "stream",
     "text": [
      "Metric ACC - OUR METHOD is significantly better than MEDIAN\n",
      "Metric AUC - OUR METHOD is significantly better than MEDIAN\n",
      "Metric ACC - OUR METHOD is significantly worse than MEAN\n",
      "Metric AUC - OUR METHOD is significantly better than MEAN\n",
      "Metric ACC - OUR METHOD is significantly better than KNN\n",
      "Metric AUC - OUR METHOD is significantly better than KNN\n",
      "Metric ACC - OUR METHOD is significantly better than GAIN\n",
      "Metric AUC - OUR METHOD is significantly better than GAIN\n",
      "Metric ACC - OUR METHOD is significantly worse than MICE\n",
      "Metric AUC - OUR METHOD is significantly better than MICE\n",
      "Metric ACC - OUR METHOD is even with MISS\n",
      "Metric AUC - OUR METHOD is significantly better than MISS\n",
      "Metric ACC - OUR METHOD is even with SOFT\n",
      "Metric AUC - OUR METHOD is significantly better than SOFT\n",
      "Metric ACC - OUR METHOD is significantly better than SINK\n",
      "Metric AUC - OUR METHOD is significantly better than SINK\n",
      "Metric ACC - OUR METHOD is significantly better than MIDA\n",
      "Metric AUC - OUR METHOD is significantly better than MIDA\n"
     ]
    }
   ],
   "source": [
    "for model, metrics in {\n",
    "        'MEDIAN': {'ACC': median_accs, 'AUC': median_aucs},\n",
    "        'MEAN': {'ACC': mean_accs, 'AUC': mean_aucs},\n",
    "        'KNN': {'ACC': knn_accs, 'AUC': knn_aucs},\n",
    "        'GAIN': {'ACC': gain_accs, 'AUC': gain_aucs},\n",
    "        'MICE': {'ACC': mice_accs, 'AUC': mice_aucs},\n",
    "        'MISS': {'ACC': miss_accs, 'AUC': miss_aucs},\n",
    "        'SOFT': {'ACC': soft_accs, 'AUC': soft_aucs},\n",
    "        'SINK': {'ACC': sink_accs, 'AUC': sink_aucs},\n",
    "        'MIDA': {'ACC': mida_accs, 'AUC': mida_aucs}}.items():\n",
    "    for metric_name, metric in metrics.items():\n",
    "        ours_metric = ours_accs if metric_name == 'ACC' else ours_aucs\n",
    "        t, p = scipy.stats.ttest_ind(np.array(ours_metric), np.array(metric))\n",
    "        if p <= .05:\n",
    "            if t > 0:\n",
    "                ## Our method is better\n",
    "                print(f'Metric {metric_name} - OUR METHOD is significantly better than {model}')\n",
    "            else:\n",
    "                ## Theirs is better\n",
    "                print(f'Metric {metric_name} - OUR METHOD is significantly worse than {model}')\n",
    "        else:\n",
    "            ## Else we are even\n",
    "            print(f'Metric {metric_name} - OUR METHOD is even with {model}')"
   ]
  }
 ],
 "metadata": {
  "kernelspec": {
   "display_name": "Python 3 (ipykernel)",
   "language": "python",
   "name": "python3"
  },
  "language_info": {
   "codemirror_mode": {
    "name": "ipython",
    "version": 3
   },
   "file_extension": ".py",
   "mimetype": "text/x-python",
   "name": "python",
   "nbconvert_exporter": "python",
   "pygments_lexer": "ipython3",
   "version": "3.9.7"
  },
  "latex_envs": {
   "LaTeX_envs_menu_present": true,
   "autoclose": false,
   "autocomplete": true,
   "bibliofile": "biblio.bib",
   "cite_by": "apalike",
   "current_citInitial": 1,
   "eqLabelWithNumbers": true,
   "eqNumInitial": 1,
   "hotkeys": {
    "equation": "Ctrl-E",
    "itemize": "Ctrl-I"
   },
   "labels_anchors": false,
   "latex_user_defs": false,
   "report_style_numbering": false,
   "user_envs_cfg": false
  }
 },
 "nbformat": 4,
 "nbformat_minor": 2
}
