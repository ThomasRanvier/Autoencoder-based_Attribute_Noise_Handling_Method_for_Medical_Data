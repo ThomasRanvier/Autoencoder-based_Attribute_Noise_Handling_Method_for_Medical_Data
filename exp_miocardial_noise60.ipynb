{
 "cells": [
  {
   "cell_type": "code",
   "execution_count": 1,
   "metadata": {
    "ExecuteTime": {
     "end_time": "2022-06-03T07:56:37.128214Z",
     "start_time": "2022-06-03T07:56:33.810392Z"
    },
    "execution": {
     "iopub.execute_input": "2022-06-03T15:29:46.819568Z",
     "iopub.status.busy": "2022-06-03T15:29:46.819058Z",
     "iopub.status.idle": "2022-06-03T15:29:50.194476Z",
     "shell.execute_reply": "2022-06-03T15:29:50.193902Z"
    }
   },
   "outputs": [],
   "source": [
    "from __future__ import print_function\n",
    "import warnings\n",
    "warnings.filterwarnings(\"ignore\", category=UserWarning)\n",
    "warnings.filterwarnings(\"ignore\", category=FutureWarning)\n",
    "## Disable tf future deprecated messages\n",
    "import logging\n",
    "logging.getLogger('tensorflow').disabled = True\n",
    "## Disable tf CUDA messages\n",
    "import os\n",
    "os.environ['TF_CPP_MIN_LOG_LEVEL'] = '3'\n",
    "\n",
    "%matplotlib inline\n",
    "\n",
    "import sys\n",
    "import random\n",
    "import numpy as np\n",
    "import pandas as pd\n",
    "\n",
    "import utils\n",
    "import correction\n",
    "from models.dense import *\n",
    "from models.gain import gain\n",
    "from models.soft_impute import SoftImpute\n",
    "from models.sinkhorn import OTimputer\n",
    "from models.mida import mida\n",
    "\n",
    "import scipy.stats\n",
    "\n",
    "from sklearn.experimental import enable_iterative_imputer\n",
    "from sklearn.impute import IterativeImputer\n",
    "from sklearn.impute import KNNImputer, SimpleImputer\n",
    "\n",
    "import sklearn.neighbors._base\n",
    "sys.modules['sklearn.neighbors.base'] = sklearn.neighbors._base\n",
    "from missingpy import MissForest\n",
    "\n",
    "torch.backends.cudnn.enabled = True\n",
    "torch.backends.cudnn.benchmark = True\n",
    "dtype = torch.cuda.FloatTensor"
   ]
  },
  {
   "cell_type": "markdown",
   "metadata": {},
   "source": [
    "## Repeat all experiments for 10 runs"
   ]
  },
  {
   "cell_type": "code",
   "execution_count": 2,
   "metadata": {
    "ExecuteTime": {
     "end_time": "2022-06-03T07:56:37.132965Z",
     "start_time": "2022-06-03T07:56:37.130326Z"
    },
    "execution": {
     "iopub.execute_input": "2022-06-03T15:29:50.198477Z",
     "iopub.status.busy": "2022-06-03T15:29:50.198014Z",
     "iopub.status.idle": "2022-06-03T15:29:50.200329Z",
     "shell.execute_reply": "2022-06-03T15:29:50.199866Z"
    }
   },
   "outputs": [],
   "source": [
    "n_runs = 10"
   ]
  },
  {
   "cell_type": "markdown",
   "metadata": {},
   "source": [
    "## Load data"
   ]
  },
  {
   "cell_type": "code",
   "execution_count": 3,
   "metadata": {
    "ExecuteTime": {
     "end_time": "2022-06-03T07:56:37.290562Z",
     "start_time": "2022-06-03T07:56:37.134360Z"
    },
    "execution": {
     "iopub.execute_input": "2022-06-03T15:29:50.205089Z",
     "iopub.status.busy": "2022-06-03T15:29:50.204438Z",
     "iopub.status.idle": "2022-06-03T15:29:50.371294Z",
     "shell.execute_reply": "2022-06-03T15:29:50.370827Z"
    }
   },
   "outputs": [
    {
     "name": "stdout",
     "output_type": "stream",
     "text": [
      "Dataset shape: (1700, 110)\n",
      "5.62% missing data\n",
      "Class distribution: (array([0, 1]), array([1429,  271]))\n"
     ]
    }
   ],
   "source": [
    "data_missing, missing_mask, y = utils.load_miocardial()\n",
    "## Inject noise\n",
    "data_missing = utils.inject_noise(data_missing.copy(), noise_rate=.60)\n",
    "## Replace missing values locations by 0\n",
    "data_missing = data_missing * missing_mask"
   ]
  },
  {
   "cell_type": "markdown",
   "metadata": {},
   "source": [
    "## Run OUR METHOD"
   ]
  },
  {
   "cell_type": "code",
   "execution_count": 4,
   "metadata": {
    "ExecuteTime": {
     "end_time": "2022-06-03T07:58:28.409535Z",
     "start_time": "2022-06-03T07:56:37.292368Z"
    },
    "execution": {
     "iopub.execute_input": "2022-06-03T15:29:50.380718Z",
     "iopub.status.busy": "2022-06-03T15:29:50.380216Z",
     "iopub.status.idle": "2022-06-03T15:46:39.139404Z",
     "shell.execute_reply": "2022-06-03T15:46:39.139811Z"
    },
    "scrolled": false
   },
   "outputs": [
    {
     "name": "stdout",
     "output_type": "stream",
     "text": [
      "Ite 00000 - 6.00 sec - Loss 0.132941 - ACC 67.86% - ACC Mean 67.86% - AUC 71.94% - AUC Mean 71.94% - Deter 000\n",
      "Ite 00050 - 0.91 sec - Loss 0.044549 - ACC 67.11% - ACC Mean 67.78% - AUC 70.30% - AUC Mean 71.60% - Deter 036\n",
      "Ite 00064 - 1.18 sec - Loss 0.036447 - ACC 66.04% - ACC Mean 67.24% - AUC 71.27% - AUC Mean 70.87% - Deter 050\n",
      "Early stop ite 64, rollback to correction of ite 14, whith acc of 70.5% and auc of 75.03%\n",
      "OUR METHOD RUN 1/10 - acc: 70.5% +- 0.0% - auc: 75.03% +- 0.0%\n",
      "Ite 00000 - 1.09 sec - Loss 0.151011 - ACC 67.38% - ACC Mean 67.38% - AUC 69.99% - AUC Mean 69.99% - Deter 000\n",
      "Ite 00050 - 0.95 sec - Loss 0.065088 - ACC 68.87% - ACC Mean 67.78% - AUC 69.99% - AUC Mean 71.95% - Deter 016\n",
      "Ite 00084 - 1.11 sec - Loss 0.040206 - ACC 68.49% - ACC Mean 67.31% - AUC 73.39% - AUC Mean 70.86% - Deter 050\n",
      "Early stop ite 84, rollback to correction of ite 34, whith acc of 69.59% and auc of 74.89%\n",
      "OUR METHOD RUN 2/10 - acc: 69.59% +- 0.0% - auc: 74.89% +- 0.0%\n",
      "Ite 00000 - 1.01 sec - Loss 0.151229 - ACC 67.16% - ACC Mean 67.16% - AUC 71.68% - AUC Mean 71.68% - Deter 000\n",
      "Ite 00050 - 1.01 sec - Loss 0.056704 - ACC 67.01% - ACC Mean 67.63% - AUC 71.37% - AUC Mean 71.75% - Deter 008\n",
      "Ite 00092 - 1.19 sec - Loss 0.033773 - ACC 68.17% - ACC Mean 67.74% - AUC 73.03% - AUC Mean 72.10% - Deter 050\n",
      "Early stop ite 92, rollback to correction of ite 42, whith acc of 68.02% and auc of 74.29%\n",
      "OUR METHOD RUN 3/10 - acc: 68.02% +- 0.0% - auc: 74.29% +- 0.0%\n",
      "Ite 00000 - 0.95 sec - Loss 0.133171 - ACC 69.26% - ACC Mean 69.26% - AUC 74.74% - AUC Mean 74.74% - Deter 000\n",
      "Ite 00050 - 1.09 sec - Loss 0.050646 - ACC 65.40% - ACC Mean 66.47% - AUC 69.41% - AUC Mean 70.76% - Deter 050\n",
      "Early stop ite 50, rollback to correction of ite 0, whith acc of 69.26% and auc of 74.74%\n",
      "OUR METHOD RUN 4/10 - acc: 69.26% +- 0.0% - auc: 74.74% +- 0.0%\n",
      "Ite 00000 - 1.01 sec - Loss 0.165561 - ACC 66.56% - ACC Mean 66.56% - AUC 69.27% - AUC Mean 69.27% - Deter 000\n",
      "Ite 00050 - 1.07 sec - Loss 0.072536 - ACC 64.27% - ACC Mean 67.47% - AUC 67.30% - AUC Mean 71.55% - Deter 007\n",
      "Ite 00093 - 1.02 sec - Loss 0.043616 - ACC 68.46% - ACC Mean 66.71% - AUC 72.49% - AUC Mean 70.68% - Deter 050\n",
      "Early stop ite 93, rollback to correction of ite 43, whith acc of 70.06% and auc of 74.68%\n",
      "OUR METHOD RUN 5/10 - acc: 70.06% +- 0.0% - auc: 74.68% +- 0.0%\n",
      "Ite 00000 - 1.13 sec - Loss 0.133270 - ACC 67.69% - ACC Mean 67.69% - AUC 70.92% - AUC Mean 70.92% - Deter 000\n",
      "Ite 00050 - 1.03 sec - Loss 0.060933 - ACC 66.37% - ACC Mean 67.58% - AUC 70.80% - AUC Mean 71.07% - Deter 045\n",
      "Ite 00055 - 1.02 sec - Loss 0.057344 - ACC 65.26% - ACC Mean 67.29% - AUC 70.38% - AUC Mean 70.83% - Deter 050\n",
      "Early stop ite 55, rollback to correction of ite 5, whith acc of 70.12% and auc of 74.85%\n",
      "OUR METHOD RUN 6/10 - acc: 70.12% +- 0.0% - auc: 74.85% +- 0.0%\n",
      "Ite 00000 - 1.18 sec - Loss 0.152580 - ACC 67.77% - ACC Mean 67.77% - AUC 70.85% - AUC Mean 70.85% - Deter 000\n",
      "Ite 00050 - 0.97 sec - Loss 0.067177 - ACC 68.64% - ACC Mean 67.37% - AUC 73.03% - AUC Mean 71.35% - Deter 032\n",
      "Ite 00100 - 1.07 sec - Loss 0.042126 - ACC 68.67% - ACC Mean 68.34% - AUC 73.11% - AUC Mean 72.86% - Deter 033\n",
      "Ite 00117 - 0.97 sec - Loss 0.037838 - ACC 68.50% - ACC Mean 68.26% - AUC 74.41% - AUC Mean 73.00% - Deter 050\n",
      "Early stop ite 117, rollback to correction of ite 67, whith acc of 69.28% and auc of 75.49%\n",
      "OUR METHOD RUN 7/10 - acc: 69.28% +- 0.0% - auc: 75.49% +- 0.0%\n",
      "Ite 00000 - 1.00 sec - Loss 0.167553 - ACC 67.80% - ACC Mean 67.80% - AUC 70.82% - AUC Mean 70.82% - Deter 000\n",
      "Ite 00050 - 1.33 sec - Loss 0.072980 - ACC 67.46% - ACC Mean 67.37% - AUC 72.29% - AUC Mean 71.30% - Deter 048\n",
      "Ite 00052 - 1.46 sec - Loss 0.070989 - ACC 67.19% - ACC Mean 67.31% - AUC 70.92% - AUC Mean 71.24% - Deter 050\n",
      "Early stop ite 52, rollback to correction of ite 2, whith acc of 67.84% and auc of 74.8%\n",
      "OUR METHOD RUN 8/10 - acc: 67.84% +- 0.0% - auc: 74.8% +- 0.0%\n",
      "Ite 00000 - 1.57 sec - Loss 0.132015 - ACC 67.55% - ACC Mean 67.55% - AUC 71.17% - AUC Mean 71.17% - Deter 000\n",
      "Ite 00050 - 1.44 sec - Loss 0.052504 - ACC 66.60% - ACC Mean 67.31% - AUC 71.01% - AUC Mean 71.66% - Deter 001\n",
      "Ite 00099 - 1.28 sec - Loss 0.027704 - ACC 68.33% - ACC Mean 67.36% - AUC 71.77% - AUC Mean 71.91% - Deter 050\n",
      "Early stop ite 99, rollback to correction of ite 49, whith acc of 68.73% and auc of 74.3%\n",
      "OUR METHOD RUN 9/10 - acc: 68.73% +- 0.0% - auc: 74.3% +- 0.0%\n",
      "Ite 00000 - 1.45 sec - Loss 0.136602 - ACC 68.98% - ACC Mean 68.98% - AUC 71.37% - AUC Mean 71.37% - Deter 000\n",
      "Ite 00050 - 1.33 sec - Loss 0.056700 - ACC 68.36% - ACC Mean 67.40% - AUC 73.29% - AUC Mean 71.32% - Deter 016\n",
      "Ite 00100 - 1.54 sec - Loss 0.034003 - ACC 69.83% - ACC Mean 68.37% - AUC 72.08% - AUC Mean 72.71% - Deter 035\n",
      "Ite 00115 - 1.46 sec - Loss 0.030662 - ACC 69.60% - ACC Mean 68.55% - AUC 73.77% - AUC Mean 72.70% - Deter 050\n",
      "Early stop ite 115, rollback to correction of ite 65, whith acc of 69.12% and auc of 74.7%\n",
      "OUR METHOD RUN 10/10 - acc: 69.12% +- 0.0% - auc: 74.7% +- 0.0%\n",
      "\n",
      "OUR METHOD GLOBAL - acc: 69.25% +- 0.83% - auc: 74.78% +- 0.33%\n"
     ]
    }
   ],
   "source": [
    "params = {\n",
    "    'nb_batches': 10,\n",
    "    'reg_noise_std': .03,\n",
    "    'net_input': 'data_corrupted',\n",
    "    'net_params': {\n",
    "        'input_channels':1,\n",
    "        'output_channels':1,\n",
    "        'channels_skip':4,\n",
    "        'down_layers':[(24, 7, 2),\n",
    "                       (46, 9, 1),\n",
    "                       (96, 9, 5),\n",
    "                       (96, 11, 1)],\n",
    "        'need_sigmoid':True,\n",
    "        'need_bias':True,\n",
    "        'pad':'zero',\n",
    "        'downsample_mode':'stride',\n",
    "        'upsample_mode':'nearest',\n",
    "        'act_fun':'LeakyReLU',\n",
    "        'need1x1_up':True\n",
    "    },# or a list containing layers sizes\n",
    "    'adam_lr': .0001,\n",
    "    'adam_weight_decay': 0.,\n",
    "}\n",
    "\n",
    "ours_accs, ours_aucs = [], []\n",
    "for i in range(n_runs):\n",
    "    ours_correction = correction.run(data_missing, 501, params, y=y, missing_mask=missing_mask, seed=i)\n",
    "    ## Since our method returns 2 imputations select the best one\n",
    "    scores_raw = utils.get_scores(ours_correction['raw_out'], y)\n",
    "    acc = scores_raw['test_balanced_accuracy']\n",
    "    auc = scores_raw['test_roc_auc_ovo']\n",
    "    acc = acc.mean()\n",
    "    acc_std = acc.std()\n",
    "    auc = auc.mean()\n",
    "    auc_std = auc.std()\n",
    "    if 'masked_out' in ours_correction:\n",
    "        scores_masked = utils.get_scores(ours_correction['masked_out'], y)\n",
    "        acc_masked = scores_masked['test_balanced_accuracy']\n",
    "        auc_masked = scores_masked['test_roc_auc_ovo']\n",
    "        if auc_masked.mean() > auc:\n",
    "            acc = acc_masked.mean()\n",
    "            acc_std = acc_masked.std()\n",
    "            auc = auc_masked.mean()\n",
    "            auc_std = auc_masked.std()\n",
    "    print(f'OUR METHOD RUN {i + 1}/{n_runs} - acc: {round(acc.mean() * 100, 2)}% +- {round(acc.std() * 100, 2)}% - ' +\n",
    "          f'auc: {round(auc.mean() * 100, 2)}% +- {round(auc.std() * 100, 2)}%')\n",
    "    ours_accs.append(acc.mean())\n",
    "    ours_aucs.append(auc.mean())\n",
    "print(f'\\nOUR METHOD GLOBAL - acc: {round(np.array(ours_accs).mean() * 100, 2)}% +- {round(np.array(ours_accs).std() * 100, 2)}% - ' +\n",
    "      f'auc: {round(np.array(ours_aucs).mean() * 100, 2)}% +- {round(np.array(ours_aucs).std() * 100, 2)}%')"
   ]
  },
  {
   "cell_type": "markdown",
   "metadata": {},
   "source": [
    "## Run Median, Mean and KNN"
   ]
  },
  {
   "cell_type": "code",
   "execution_count": 5,
   "metadata": {
    "ExecuteTime": {
     "end_time": "2022-06-03T07:58:31.715672Z",
     "start_time": "2022-06-03T07:58:28.411834Z"
    },
    "execution": {
     "iopub.execute_input": "2022-06-03T15:46:39.148761Z",
     "iopub.status.busy": "2022-06-03T15:46:39.148267Z",
     "iopub.status.idle": "2022-06-03T15:46:41.507208Z",
     "shell.execute_reply": "2022-06-03T15:46:41.506166Z"
    }
   },
   "outputs": [
    {
     "name": "stdout",
     "output_type": "stream",
     "text": [
      "MEDIAN - acc: 72.64% +- 0.0% - auc: 75.22% +- 0.0%\n",
      "MEAN - acc: 72.03% +- 0.0% - auc: 76.72% +- 0.0%\n",
      "KNN - acc: 64.1% +- 0.0% - auc: 68.1% +- 0.0%\n"
     ]
    }
   ],
   "source": [
    "data_missing_nans = np.where(missing_mask, data_missing, np.nan)\n",
    "\n",
    "median_imputer = SimpleImputer(missing_values=np.nan, strategy='median')\n",
    "mean_imputer = SimpleImputer(missing_values=np.nan, strategy='mean')\n",
    "knn_imputer = KNNImputer(n_neighbors=10, weights='uniform')\n",
    "\n",
    "median_completed = median_imputer.fit_transform(data_missing_nans)\n",
    "mean_completed = mean_imputer.fit_transform(data_missing_nans)\n",
    "knn_completed = knn_imputer.fit_transform(data_missing_nans)\n",
    "\n",
    "## All runs would be the same since deterministic methods\n",
    "scores = utils.get_scores(median_completed, y)\n",
    "acc = [scores['test_balanced_accuracy'].mean()] * n_runs\n",
    "auc = [scores['test_roc_auc_ovo'].mean()] * n_runs\n",
    "print(f'MEDIAN - acc: {round(np.mean(acc) * 100, 2)}% +- {round(np.std(acc) * 100, 2)}% - ' +\n",
    "      f'auc: {round(np.mean(auc) * 100, 2)}% +- {round(np.std(auc) * 100, 2)}%')\n",
    "median_accs = acc\n",
    "median_aucs = auc\n",
    "\n",
    "scores = utils.get_scores(mean_completed, y)\n",
    "acc = [scores['test_balanced_accuracy'].mean()] * n_runs\n",
    "auc = [scores['test_roc_auc_ovo'].mean()] * n_runs\n",
    "print(f'MEAN - acc: {round(np.mean(acc) * 100, 2)}% +- {round(np.std(acc) * 100, 2)}% - ' +\n",
    "      f'auc: {round(np.mean(auc) * 100, 2)}% +- {round(np.std(auc) * 100, 2)}%')\n",
    "mean_accs = acc\n",
    "mean_aucs = auc\n",
    "\n",
    "scores = utils.get_scores(knn_completed, y)\n",
    "acc = [scores['test_balanced_accuracy'].mean()] * n_runs\n",
    "auc = [scores['test_roc_auc_ovo'].mean()] * n_runs\n",
    "print(f'KNN - acc: {round(np.mean(acc) * 100, 2)}% +- {round(np.std(acc) * 100, 2)}% - ' +\n",
    "      f'auc: {round(np.mean(auc) * 100, 2)}% +- {round(np.std(auc) * 100, 2)}%')\n",
    "knn_accs = acc\n",
    "knn_aucs = auc"
   ]
  },
  {
   "cell_type": "markdown",
   "metadata": {},
   "source": [
    "## Run GAIN"
   ]
  },
  {
   "cell_type": "code",
   "execution_count": 6,
   "metadata": {
    "ExecuteTime": {
     "end_time": "2022-06-03T07:59:07.140809Z",
     "start_time": "2022-06-03T07:58:31.718964Z"
    },
    "execution": {
     "iopub.execute_input": "2022-06-03T15:46:41.514074Z",
     "iopub.status.busy": "2022-06-03T15:46:41.513516Z",
     "iopub.status.idle": "2022-06-03T15:57:49.106474Z",
     "shell.execute_reply": "2022-06-03T15:57:49.106882Z"
    },
    "scrolled": false
   },
   "outputs": [
    {
     "name": "stderr",
     "output_type": "stream",
     "text": [
      "100%|██████████| 5000/5000 [00:59<00:00, 84.71it/s]\n"
     ]
    },
    {
     "name": "stdout",
     "output_type": "stream",
     "text": [
      "\n",
      "GAIN RUN 1/10 - acc: 64.47% +- 2.85% - auc: 67.24% +- 4.84%\n",
      "\n"
     ]
    },
    {
     "name": "stderr",
     "output_type": "stream",
     "text": [
      "100%|██████████| 5000/5000 [01:00<00:00, 83.04it/s]\n"
     ]
    },
    {
     "name": "stdout",
     "output_type": "stream",
     "text": [
      "\n",
      "GAIN RUN 2/10 - acc: 58.5% +- 2.96% - auc: 62.83% +- 2.81%\n",
      "\n"
     ]
    },
    {
     "name": "stderr",
     "output_type": "stream",
     "text": [
      "100%|██████████| 5000/5000 [00:59<00:00, 83.67it/s] \n"
     ]
    },
    {
     "name": "stdout",
     "output_type": "stream",
     "text": [
      "\n",
      "GAIN RUN 3/10 - acc: 63.81% +- 4.82% - auc: 67.49% +- 4.58%\n",
      "\n"
     ]
    },
    {
     "name": "stderr",
     "output_type": "stream",
     "text": [
      "100%|██████████| 5000/5000 [00:54<00:00, 92.55it/s] \n"
     ]
    },
    {
     "name": "stdout",
     "output_type": "stream",
     "text": [
      "\n",
      "GAIN RUN 4/10 - acc: 60.24% +- 4.11% - auc: 64.85% +- 3.62%\n",
      "\n"
     ]
    },
    {
     "name": "stderr",
     "output_type": "stream",
     "text": [
      "100%|██████████| 5000/5000 [00:56<00:00, 89.00it/s]\n"
     ]
    },
    {
     "name": "stdout",
     "output_type": "stream",
     "text": [
      "\n",
      "GAIN RUN 5/10 - acc: 61.9% +- 3.23% - auc: 66.79% +- 4.71%\n",
      "\n"
     ]
    },
    {
     "name": "stderr",
     "output_type": "stream",
     "text": [
      "100%|██████████| 5000/5000 [00:59<00:00, 84.46it/s]\n"
     ]
    },
    {
     "name": "stdout",
     "output_type": "stream",
     "text": [
      "\n",
      "GAIN RUN 6/10 - acc: 59.77% +- 2.47% - auc: 63.6% +- 3.25%\n",
      "\n"
     ]
    },
    {
     "name": "stderr",
     "output_type": "stream",
     "text": [
      "100%|██████████| 5000/5000 [00:59<00:00, 84.47it/s]\n"
     ]
    },
    {
     "name": "stdout",
     "output_type": "stream",
     "text": [
      "\n",
      "GAIN RUN 7/10 - acc: 61.55% +- 4.33% - auc: 64.66% +- 2.53%\n",
      "\n"
     ]
    },
    {
     "name": "stderr",
     "output_type": "stream",
     "text": [
      "100%|██████████| 5000/5000 [01:02<00:00, 80.24it/s]\n"
     ]
    },
    {
     "name": "stdout",
     "output_type": "stream",
     "text": [
      "\n",
      "GAIN RUN 8/10 - acc: 62.97% +- 2.79% - auc: 67.37% +- 3.63%\n",
      "\n"
     ]
    },
    {
     "name": "stderr",
     "output_type": "stream",
     "text": [
      "100%|██████████| 5000/5000 [01:00<00:00, 83.27it/s]\n"
     ]
    },
    {
     "name": "stdout",
     "output_type": "stream",
     "text": [
      "\n",
      "GAIN RUN 9/10 - acc: 59.82% +- 4.74% - auc: 64.79% +- 4.23%\n",
      "\n"
     ]
    },
    {
     "name": "stderr",
     "output_type": "stream",
     "text": [
      "100%|██████████| 5000/5000 [01:05<00:00, 76.32it/s]\n"
     ]
    },
    {
     "name": "stdout",
     "output_type": "stream",
     "text": [
      "\n",
      "GAIN RUN 10/10 - acc: 60.39% +- 1.91% - auc: 62.22% +- 1.74%\n",
      "\n",
      "GAIN GLOBAL - acc: 61.34% +- 1.84% - auc: 65.19% +- 1.85%\n"
     ]
    }
   ],
   "source": [
    "gain_parameters = {'batch_size': 128,\n",
    "                   'hint_rate': .9,\n",
    "                   'alpha': 100,\n",
    "                   'iterations': 5000}\n",
    "\n",
    "gain_accs, gain_aucs = [], []\n",
    "for i in range(n_runs):\n",
    "    random.seed(i)\n",
    "    np.random.seed(i)\n",
    "    torch.manual_seed(i)\n",
    "    imputed = gain(data_missing_nans, gain_parameters)\n",
    "    scores = utils.get_scores(imputed, y)\n",
    "    acc = scores['test_balanced_accuracy']\n",
    "    auc = scores['test_roc_auc_ovo']\n",
    "    print(f'\\nGAIN RUN {i + 1}/{n_runs} - acc: {round(acc.mean() * 100, 2)}% +- {round(acc.std() * 100, 2)}% - ' +\n",
    "          f'auc: {round(auc.mean() * 100, 2)}% +- {round(auc.std() * 100, 2)}%\\n')\n",
    "    gain_accs.append(acc.mean())\n",
    "    gain_aucs.append(auc.mean())\n",
    "print(f'GAIN GLOBAL - acc: {round(np.array(gain_accs).mean() * 100, 2)}% +- {round(np.array(gain_accs).std() * 100, 2)}% - ' +\n",
    "      f'auc: {round(np.array(gain_aucs).mean() * 100, 2)}% +- {round(np.array(gain_aucs).std() * 100, 2)}%')"
   ]
  },
  {
   "cell_type": "markdown",
   "metadata": {},
   "source": [
    "## Run MICE"
   ]
  },
  {
   "cell_type": "code",
   "execution_count": 7,
   "metadata": {
    "ExecuteTime": {
     "end_time": "2022-06-03T08:13:33.572553Z",
     "start_time": "2022-06-03T07:59:07.142164Z"
    },
    "execution": {
     "iopub.execute_input": "2022-06-03T15:57:49.120661Z",
     "iopub.status.busy": "2022-06-03T15:57:49.120175Z",
     "iopub.status.idle": "2022-06-03T16:18:47.845150Z",
     "shell.execute_reply": "2022-06-03T16:18:47.853040Z"
    }
   },
   "outputs": [
    {
     "name": "stdout",
     "output_type": "stream",
     "text": [
      "MICE - acc: 71.9% +- 0.0% - auc: 76.58% +- 0.0%\n"
     ]
    }
   ],
   "source": [
    "imputer = IterativeImputer()\n",
    "imputed = imputer.fit_transform(data_missing_nans)\n",
    "## All runs would be the same since deterministic method\n",
    "scores = utils.get_scores(imputed, y)\n",
    "acc = [scores['test_balanced_accuracy'].mean()] * n_runs\n",
    "auc = [scores['test_roc_auc_ovo'].mean()] * n_runs\n",
    "print(f'MICE - acc: {round(np.mean(acc) * 100, 2)}% +- {round(np.std(acc) * 100, 2)}% - ' +\n",
    "      f'auc: {round(np.mean(auc) * 100, 2)}% +- {round(np.std(auc) * 100, 2)}%')\n",
    "mice_accs = acc\n",
    "mice_aucs = auc"
   ]
  },
  {
   "cell_type": "markdown",
   "metadata": {},
   "source": [
    "## Run MISSFOREST"
   ]
  },
  {
   "cell_type": "code",
   "execution_count": 8,
   "metadata": {
    "ExecuteTime": {
     "end_time": "2022-06-03T08:13:33.579829Z",
     "start_time": "2022-06-03T08:13:33.579804Z"
    },
    "execution": {
     "iopub.execute_input": "2022-06-03T16:18:47.914005Z",
     "iopub.status.busy": "2022-06-03T16:18:47.911449Z",
     "iopub.status.idle": "2022-06-03T19:31:15.013645Z",
     "shell.execute_reply": "2022-06-03T19:31:15.014295Z"
    },
    "scrolled": false
   },
   "outputs": [
    {
     "name": "stdout",
     "output_type": "stream",
     "text": [
      "Iteration: 0\n",
      "Iteration: 1\n",
      "Iteration: 2\n",
      "Iteration: 3\n",
      "Iteration: 4\n",
      "Iteration: 5\n",
      "\n",
      "MISSFOREST RUN 1/10 - acc: 69.53% +- 2.68% - auc: 72.79% +- 3.4%\n",
      "\n",
      "Iteration: 0\n",
      "Iteration: 1\n",
      "Iteration: 2\n",
      "\n",
      "MISSFOREST RUN 2/10 - acc: 68.67% +- 2.3% - auc: 71.46% +- 3.8%\n",
      "\n",
      "Iteration: 0\n",
      "Iteration: 1\n",
      "Iteration: 2\n",
      "Iteration: 3\n",
      "\n",
      "MISSFOREST RUN 3/10 - acc: 67.06% +- 2.53% - auc: 71.55% +- 2.48%\n",
      "\n",
      "Iteration: 0\n",
      "Iteration: 1\n",
      "Iteration: 2\n",
      "Iteration: 3\n",
      "Iteration: 4\n",
      "Iteration: 5\n",
      "Iteration: 6\n",
      "\n",
      "MISSFOREST RUN 4/10 - acc: 70.43% +- 2.26% - auc: 75.27% +- 3.92%\n",
      "\n",
      "Iteration: 0\n",
      "Iteration: 1\n",
      "Iteration: 2\n",
      "Iteration: 3\n",
      "Iteration: 4\n",
      "Iteration: 5\n",
      "\n",
      "MISSFOREST RUN 5/10 - acc: 67.1% +- 3.16% - auc: 71.24% +- 5.36%\n",
      "\n",
      "Iteration: 0\n",
      "Iteration: 1\n",
      "Iteration: 2\n",
      "\n",
      "MISSFOREST RUN 6/10 - acc: 67.67% +- 2.1% - auc: 74.03% +- 4.67%\n",
      "\n",
      "Iteration: 0\n",
      "Iteration: 1\n",
      "Iteration: 2\n",
      "Iteration: 3\n",
      "\n",
      "MISSFOREST RUN 7/10 - acc: 69.38% +- 3.35% - auc: 71.46% +- 4.63%\n",
      "\n",
      "Iteration: 0\n",
      "Iteration: 1\n",
      "Iteration: 2\n",
      "\n",
      "MISSFOREST RUN 8/10 - acc: 68.44% +- 2.48% - auc: 74.01% +- 3.64%\n",
      "\n",
      "Iteration: 0\n",
      "Iteration: 1\n",
      "Iteration: 2\n",
      "Iteration: 3\n",
      "Iteration: 4\n",
      "Iteration: 5\n",
      "Iteration: 6\n",
      "\n",
      "MISSFOREST RUN 9/10 - acc: 68.45% +- 2.41% - auc: 71.42% +- 5.27%\n",
      "\n",
      "Iteration: 0\n",
      "Iteration: 1\n",
      "Iteration: 2\n",
      "Iteration: 3\n",
      "Iteration: 4\n",
      "\n",
      "MISSFOREST RUN 10/10 - acc: 66.24% +- 3.34% - auc: 71.66% +- 3.61%\n",
      "\n",
      "\n",
      "MISSFOREST GLOBAL - acc: 68.3% +- 1.23% - auc: 72.49% +- 1.37%\n"
     ]
    }
   ],
   "source": [
    "miss_accs, miss_aucs = [], []\n",
    "for i in range(n_runs):\n",
    "    random.seed(i)\n",
    "    np.random.seed(i)\n",
    "    torch.manual_seed(i)\n",
    "    imputer = MissForest(n_jobs=-1, random_state=i)\n",
    "    imputed = imputer.fit_transform(data_missing_nans)\n",
    "    scores = utils.get_scores(imputed, y)\n",
    "    acc = scores['test_balanced_accuracy']\n",
    "    auc = scores['test_roc_auc_ovo']\n",
    "    print(f'\\nMISSFOREST RUN {i + 1}/{n_runs} - acc: {round(acc.mean() * 100, 2)}% +- {round(acc.std() * 100, 2)}% - ' +\n",
    "          f'auc: {round(auc.mean() * 100, 2)}% +- {round(auc.std() * 100, 2)}%\\n')\n",
    "    miss_accs.append(acc.mean())\n",
    "    miss_aucs.append(auc.mean())\n",
    "print(f'\\nMISSFOREST GLOBAL - acc: {round(np.array(miss_accs).mean() * 100, 2)}% +- {round(np.array(miss_accs).std() * 100, 2)}% - ' +\n",
    "      f'auc: {round(np.array(miss_aucs).mean() * 100, 2)}% +- {round(np.array(miss_aucs).std() * 100, 2)}%')"
   ]
  },
  {
   "cell_type": "markdown",
   "metadata": {},
   "source": [
    "## Run SOFTIMPUTE"
   ]
  },
  {
   "cell_type": "code",
   "execution_count": 9,
   "metadata": {
    "ExecuteTime": {
     "end_time": "2022-06-03T08:13:33.581198Z",
     "start_time": "2022-06-03T08:13:33.581175Z"
    },
    "execution": {
     "iopub.execute_input": "2022-06-03T19:31:15.021758Z",
     "iopub.status.busy": "2022-06-03T19:31:15.021258Z",
     "iopub.status.idle": "2022-06-03T19:31:25.489190Z",
     "shell.execute_reply": "2022-06-03T19:31:25.488552Z"
    }
   },
   "outputs": [
    {
     "name": "stdout",
     "output_type": "stream",
     "text": [
      "SOFTIMPUTE RUN 1/10 - acc: 69.03% +- 2.91% - auc: 74.62% +- 4.66%\n",
      "SOFTIMPUTE RUN 2/10 - acc: 68.79% +- 3.78% - auc: 72.09% +- 4.06%\n",
      "SOFTIMPUTE RUN 3/10 - acc: 66.87% +- 3.63% - auc: 70.36% +- 4.01%\n",
      "SOFTIMPUTE RUN 4/10 - acc: 67.31% +- 2.98% - auc: 69.73% +- 4.65%\n",
      "SOFTIMPUTE RUN 5/10 - acc: 68.3% +- 2.93% - auc: 71.78% +- 5.5%\n",
      "SOFTIMPUTE RUN 6/10 - acc: 69.27% +- 2.46% - auc: 73.04% +- 3.48%\n",
      "SOFTIMPUTE RUN 7/10 - acc: 69.77% +- 2.84% - auc: 75.06% +- 4.36%\n",
      "SOFTIMPUTE RUN 8/10 - acc: 66.97% +- 2.67% - auc: 72.82% +- 3.79%\n",
      "SOFTIMPUTE RUN 9/10 - acc: 68.15% +- 1.71% - auc: 71.71% +- 3.99%\n",
      "SOFTIMPUTE RUN 10/10 - acc: 68.9% +- 3.17% - auc: 73.17% +- 5.39%\n",
      "\n",
      "SOFTIMPUTE GLOBAL - acc: 68.34% +- 0.95% - auc: 72.44% +- 1.59%\n"
     ]
    }
   ],
   "source": [
    "soft_accs, soft_aucs = [], []\n",
    "for i in range(n_runs):\n",
    "    random.seed(i)\n",
    "    np.random.seed(i)\n",
    "    torch.manual_seed(i)\n",
    "    imputer = SoftImpute(random_state=i)\n",
    "    imputer.fit(data_missing_nans)\n",
    "    imputed = imputer.predict(data_missing_nans)\n",
    "    imputed = np.where(missing_mask, data_missing, imputed)\n",
    "    scores = utils.get_scores(imputed, y)\n",
    "    acc = scores['test_balanced_accuracy']\n",
    "    auc = scores['test_roc_auc_ovo']\n",
    "    print(f'SOFTIMPUTE RUN {i + 1}/{n_runs} - acc: {round(acc.mean() * 100, 2)}% +- {round(acc.std() * 100, 2)}% - ' +\n",
    "          f'auc: {round(auc.mean() * 100, 2)}% +- {round(auc.std() * 100, 2)}%')\n",
    "    soft_accs.append(acc.mean())\n",
    "    soft_aucs.append(auc.mean())\n",
    "print(f'\\nSOFTIMPUTE GLOBAL - acc: {round(np.array(soft_accs).mean() * 100, 2)}% +- {round(np.array(soft_accs).std() * 100, 2)}% - ' +\n",
    "      f'auc: {round(np.array(soft_aucs).mean() * 100, 2)}% +- {round(np.array(soft_aucs).std() * 100, 2)}%')"
   ]
  },
  {
   "cell_type": "markdown",
   "metadata": {},
   "source": [
    "## Run SINKHORN"
   ]
  },
  {
   "cell_type": "code",
   "execution_count": 10,
   "metadata": {
    "execution": {
     "iopub.execute_input": "2022-06-03T19:31:25.498732Z",
     "iopub.status.busy": "2022-06-03T19:31:25.498025Z",
     "iopub.status.idle": "2022-06-03T19:38:00.244508Z",
     "shell.execute_reply": "2022-06-03T19:38:00.244890Z"
    }
   },
   "outputs": [
    {
     "name": "stdout",
     "output_type": "stream",
     "text": [
      "batchsize = 128, epsilon = 0.0100\n",
      "Iteration 0:\t Loss: 8.2791\n",
      "\n",
      "SINKHORN RUN 1/10 - acc: 65.82% +- 2.48% - auc: 71.75% +- 3.07%\n",
      "\n",
      "batchsize = 128, epsilon = 0.0100\n",
      "Iteration 0:\t Loss: 8.3575\n",
      "\n",
      "SINKHORN RUN 2/10 - acc: 66.02% +- 2.04% - auc: 72.06% +- 2.84%\n",
      "\n",
      "batchsize = 128, epsilon = 0.0100\n",
      "Iteration 0:\t Loss: 8.3516\n",
      "\n",
      "SINKHORN RUN 3/10 - acc: 67.76% +- 2.83% - auc: 72.35% +- 2.73%\n",
      "\n",
      "batchsize = 128, epsilon = 0.0100\n",
      "Iteration 0:\t Loss: 8.5670\n",
      "\n",
      "SINKHORN RUN 4/10 - acc: 65.25% +- 1.26% - auc: 70.96% +- 1.84%\n",
      "\n",
      "batchsize = 128, epsilon = 0.0100\n",
      "Iteration 0:\t Loss: 8.3402\n",
      "\n",
      "SINKHORN RUN 5/10 - acc: 65.04% +- 2.31% - auc: 70.15% +- 4.51%\n",
      "\n",
      "batchsize = 128, epsilon = 0.0100\n",
      "Iteration 0:\t Loss: 8.4171\n",
      "\n",
      "SINKHORN RUN 6/10 - acc: 66.04% +- 3.67% - auc: 68.03% +- 4.89%\n",
      "\n",
      "batchsize = 128, epsilon = 0.0100\n",
      "Iteration 0:\t Loss: 8.6368\n",
      "\n",
      "SINKHORN RUN 7/10 - acc: 64.13% +- 1.79% - auc: 67.62% +- 2.01%\n",
      "\n",
      "batchsize = 128, epsilon = 0.0100\n",
      "Iteration 0:\t Loss: 8.5315\n",
      "\n",
      "SINKHORN RUN 8/10 - acc: 65.54% +- 3.11% - auc: 70.43% +- 1.93%\n",
      "\n",
      "batchsize = 128, epsilon = 0.0100\n",
      "Iteration 0:\t Loss: 8.4144\n",
      "\n",
      "SINKHORN RUN 9/10 - acc: 64.22% +- 3.06% - auc: 67.97% +- 4.32%\n",
      "\n",
      "batchsize = 128, epsilon = 0.0100\n",
      "Iteration 0:\t Loss: 8.3194\n",
      "\n",
      "SINKHORN RUN 10/10 - acc: 65.23% +- 3.22% - auc: 69.98% +- 2.84%\n",
      "\n",
      "\n",
      "SINKHORN GLOBAL - acc: 65.5% +- 0.98% - auc: 70.13% +- 1.66%\n"
     ]
    }
   ],
   "source": [
    "sink_accs, sink_aucs = [], []\n",
    "for i in range(n_runs):\n",
    "    random.seed(i)\n",
    "    np.random.seed(i)\n",
    "    torch.manual_seed(i)\n",
    "    imputer = OTimputer(niter=500)\n",
    "    imputed = imputer.fit_transform(data_missing_nans).cpu().detach().numpy()\n",
    "    scores = utils.get_scores(imputed, y)\n",
    "    acc = scores['test_balanced_accuracy']\n",
    "    auc = scores['test_roc_auc_ovo']\n",
    "    print(f'\\nSINKHORN RUN {i + 1}/{n_runs} - acc: {round(acc.mean() * 100, 2)}% +- {round(acc.std() * 100, 2)}% - ' +\n",
    "          f'auc: {round(auc.mean() * 100, 2)}% +- {round(auc.std() * 100, 2)}%\\n')\n",
    "    sink_accs.append(acc.mean())\n",
    "    sink_aucs.append(auc.mean())\n",
    "print(f'\\nSINKHORN GLOBAL - acc: {round(np.array(sink_accs).mean() * 100, 2)}% +- {round(np.array(sink_accs).std() * 100, 2)}% - ' +\n",
    "      f'auc: {round(np.array(sink_aucs).mean() * 100, 2)}% +- {round(np.array(sink_aucs).std() * 100, 2)}%')"
   ]
  },
  {
   "cell_type": "markdown",
   "metadata": {},
   "source": [
    "## Run MIDA"
   ]
  },
  {
   "cell_type": "code",
   "execution_count": 11,
   "metadata": {
    "execution": {
     "iopub.execute_input": "2022-06-03T19:38:00.250923Z",
     "iopub.status.busy": "2022-06-03T19:38:00.250460Z",
     "iopub.status.idle": "2022-06-03T19:41:25.022876Z",
     "shell.execute_reply": "2022-06-03T19:41:25.022476Z"
    }
   },
   "outputs": [
    {
     "name": "stdout",
     "output_type": "stream",
     "text": [
      "Stop training at epoch: 1500/1500, return best output\n",
      "\n",
      "MIDA RUN 1/10 - acc: 68.6% +- 4.3% - auc: 71.87% +- 4.91%\n",
      "\n",
      "Stop training at epoch: 1500/1500, return best output\n",
      "\n",
      "MIDA RUN 2/10 - acc: 68.67% +- 2.73% - auc: 73.48% +- 3.26%\n",
      "\n",
      "Stop training at epoch: 1500/1500, return best output\n",
      "\n",
      "MIDA RUN 3/10 - acc: 68.87% +- 2.76% - auc: 72.5% +- 4.34%\n",
      "\n",
      "Stop training at epoch: 1500/1500, return best output\n",
      "\n",
      "MIDA RUN 4/10 - acc: 67.41% +- 3.49% - auc: 71.57% +- 3.74%\n",
      "\n",
      "Stop training at epoch: 1500/1500, return best output\n",
      "\n",
      "MIDA RUN 5/10 - acc: 68.34% +- 3.53% - auc: 71.99% +- 3.46%\n",
      "\n",
      "Stop training at epoch: 1500/1500, return best output\n",
      "\n",
      "MIDA RUN 6/10 - acc: 69.74% +- 1.96% - auc: 73.76% +- 3.9%\n",
      "\n",
      "Stop training at epoch: 1500/1500, return best output\n",
      "\n",
      "MIDA RUN 7/10 - acc: 66.99% +- 2.98% - auc: 71.49% +- 3.34%\n",
      "\n",
      "Stop training at epoch: 1500/1500, return best output\n",
      "\n",
      "MIDA RUN 8/10 - acc: 69.83% +- 4.24% - auc: 73.8% +- 5.74%\n",
      "\n",
      "Stop training at epoch: 1500/1500, return best output\n",
      "\n",
      "MIDA RUN 9/10 - acc: 67.32% +- 4.35% - auc: 71.61% +- 5.13%\n",
      "\n",
      "Stop training at epoch: 1500/1500, return best output\n",
      "\n",
      "MIDA RUN 10/10 - acc: 69.27% +- 2.78% - auc: 72.23% +- 4.01%\n",
      "\n",
      "\n",
      "MIDA GLOBAL - acc: 68.5% +- 0.95% - auc: 72.43% +- 0.87%\n"
     ]
    }
   ],
   "source": [
    "mida_accs, mida_aucs = [], []\n",
    "for i in range(n_runs):\n",
    "    random.seed(i)\n",
    "    np.random.seed(i)\n",
    "    torch.manual_seed(i)\n",
    "    imputed = mida(data_missing_nans, num_layers=2, num_epochs=1500)\n",
    "    imputed = np.where(missing_mask, data_missing, imputed)\n",
    "    scores = utils.get_scores(imputed, y)\n",
    "    acc = scores['test_balanced_accuracy']\n",
    "    auc = scores['test_roc_auc_ovo']\n",
    "    print(f'\\nMIDA RUN {i + 1}/{n_runs} - acc: {round(acc.mean() * 100, 2)}% +- {round(acc.std() * 100, 2)}% - ' +\n",
    "          f'auc: {round(auc.mean() * 100, 2)}% +- {round(auc.std() * 100, 2)}%\\n')\n",
    "    mida_accs.append(acc.mean())\n",
    "    mida_aucs.append(auc.mean())\n",
    "print(f'\\nMIDA GLOBAL - acc: {round(np.array(mida_accs).mean() * 100, 2)}% +- {round(np.array(mida_accs).std() * 100, 2)}% - ' +\n",
    "      f'auc: {round(np.array(mida_aucs).mean() * 100, 2)}% +- {round(np.array(mida_aucs).std() * 100, 2)}%')"
   ]
  },
  {
   "cell_type": "markdown",
   "metadata": {},
   "source": [
    "## Run T-tests"
   ]
  },
  {
   "cell_type": "code",
   "execution_count": 12,
   "metadata": {
    "ExecuteTime": {
     "end_time": "2022-06-03T08:13:33.583163Z",
     "start_time": "2022-06-03T08:13:33.583140Z"
    },
    "execution": {
     "iopub.execute_input": "2022-06-03T19:41:25.032812Z",
     "iopub.status.busy": "2022-06-03T19:41:25.032405Z",
     "iopub.status.idle": "2022-06-03T19:41:25.042471Z",
     "shell.execute_reply": "2022-06-03T19:41:25.042060Z"
    },
    "scrolled": false
   },
   "outputs": [
    {
     "name": "stdout",
     "output_type": "stream",
     "text": [
      "Metric ACC - OUR METHOD is significantly worse than MEDIAN\n",
      "Metric AUC - OUR METHOD is significantly worse than MEDIAN\n",
      "Metric ACC - OUR METHOD is significantly worse than MEAN\n",
      "Metric AUC - OUR METHOD is significantly worse than MEAN\n",
      "Metric ACC - OUR METHOD is significantly better than KNN\n",
      "Metric AUC - OUR METHOD is significantly better than KNN\n",
      "Metric ACC - OUR METHOD is significantly better than GAIN\n",
      "Metric AUC - OUR METHOD is significantly better than GAIN\n",
      "Metric ACC - OUR METHOD is significantly worse than MICE\n",
      "Metric AUC - OUR METHOD is significantly worse than MICE\n",
      "Metric ACC - OUR METHOD is even with MISS\n",
      "Metric AUC - OUR METHOD is significantly better than MISS\n",
      "Metric ACC - OUR METHOD is significantly better than SOFT\n",
      "Metric AUC - OUR METHOD is significantly better than SOFT\n",
      "Metric ACC - OUR METHOD is significantly better than SINK\n",
      "Metric AUC - OUR METHOD is significantly better than SINK\n",
      "Metric ACC - OUR METHOD is even with MIDA\n",
      "Metric AUC - OUR METHOD is significantly better than MIDA\n"
     ]
    }
   ],
   "source": [
    "for model, metrics in {\n",
    "        'MEDIAN': {'ACC': median_accs, 'AUC': median_aucs},\n",
    "        'MEAN': {'ACC': mean_accs, 'AUC': mean_aucs},\n",
    "        'KNN': {'ACC': knn_accs, 'AUC': knn_aucs},\n",
    "        'GAIN': {'ACC': gain_accs, 'AUC': gain_aucs},\n",
    "        'MICE': {'ACC': mice_accs, 'AUC': mice_aucs},\n",
    "        'MISS': {'ACC': miss_accs, 'AUC': miss_aucs},\n",
    "        'SOFT': {'ACC': soft_accs, 'AUC': soft_aucs},\n",
    "        'SINK': {'ACC': sink_accs, 'AUC': sink_aucs},\n",
    "        'MIDA': {'ACC': mida_accs, 'AUC': mida_aucs}}.items():\n",
    "    for metric_name, metric in metrics.items():\n",
    "        ours_metric = ours_accs if metric_name == 'ACC' else ours_aucs\n",
    "        t, p = scipy.stats.ttest_ind(np.array(ours_metric), np.array(metric))\n",
    "        if p <= .05:\n",
    "            if t > 0:\n",
    "                ## Our method is better\n",
    "                print(f'Metric {metric_name} - OUR METHOD is significantly better than {model}')\n",
    "            else:\n",
    "                ## Theirs is better\n",
    "                print(f'Metric {metric_name} - OUR METHOD is significantly worse than {model}')\n",
    "        else:\n",
    "            ## Else we are even\n",
    "            print(f'Metric {metric_name} - OUR METHOD is even with {model}')"
   ]
  }
 ],
 "metadata": {
  "kernelspec": {
   "display_name": "Python 3 (ipykernel)",
   "language": "python",
   "name": "python3"
  },
  "language_info": {
   "codemirror_mode": {
    "name": "ipython",
    "version": 3
   },
   "file_extension": ".py",
   "mimetype": "text/x-python",
   "name": "python",
   "nbconvert_exporter": "python",
   "pygments_lexer": "ipython3",
   "version": "3.9.7"
  },
  "latex_envs": {
   "LaTeX_envs_menu_present": true,
   "autoclose": false,
   "autocomplete": true,
   "bibliofile": "biblio.bib",
   "cite_by": "apalike",
   "current_citInitial": 1,
   "eqLabelWithNumbers": true,
   "eqNumInitial": 1,
   "hotkeys": {
    "equation": "Ctrl-E",
    "itemize": "Ctrl-I"
   },
   "labels_anchors": false,
   "latex_user_defs": false,
   "report_style_numbering": false,
   "user_envs_cfg": false
  }
 },
 "nbformat": 4,
 "nbformat_minor": 2
}
