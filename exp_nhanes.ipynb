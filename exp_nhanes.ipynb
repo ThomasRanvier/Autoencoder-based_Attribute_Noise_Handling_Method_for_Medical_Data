{
 "cells": [
  {
   "cell_type": "code",
   "execution_count": 1,
   "metadata": {
    "ExecuteTime": {
     "end_time": "2022-06-03T07:55:07.995838Z",
     "start_time": "2022-06-03T07:55:05.179232Z"
    },
    "execution": {
     "iopub.execute_input": "2022-06-03T11:05:08.162791Z",
     "iopub.status.busy": "2022-06-03T11:05:08.162266Z",
     "iopub.status.idle": "2022-06-03T11:05:11.409204Z",
     "shell.execute_reply": "2022-06-03T11:05:11.408274Z"
    }
   },
   "outputs": [],
   "source": [
    "from __future__ import print_function\n",
    "import warnings\n",
    "warnings.filterwarnings(\"ignore\", category=UserWarning)\n",
    "warnings.filterwarnings(\"ignore\", category=FutureWarning)\n",
    "## Disable tf future deprecated messages\n",
    "import logging\n",
    "logging.getLogger('tensorflow').disabled = True\n",
    "## Disable tf CUDA messages\n",
    "import os\n",
    "os.environ['TF_CPP_MIN_LOG_LEVEL'] = '3'\n",
    "\n",
    "%matplotlib inline\n",
    "\n",
    "import sys\n",
    "import random\n",
    "import numpy as np\n",
    "import pandas as pd\n",
    "\n",
    "import utils\n",
    "import correction\n",
    "from models.dense import *\n",
    "from models.gain import gain\n",
    "from models.soft_impute import SoftImpute\n",
    "from models.sinkhorn import OTimputer\n",
    "from models.mida import mida\n",
    "\n",
    "import scipy.stats\n",
    "\n",
    "from sklearn.experimental import enable_iterative_imputer\n",
    "from sklearn.impute import IterativeImputer\n",
    "from sklearn.impute import KNNImputer, SimpleImputer\n",
    "\n",
    "import sklearn.neighbors._base\n",
    "sys.modules['sklearn.neighbors.base'] = sklearn.neighbors._base\n",
    "from missingpy import MissForest\n",
    "\n",
    "torch.backends.cudnn.enabled = True\n",
    "torch.backends.cudnn.benchmark = True\n",
    "dtype = torch.cuda.FloatTensor"
   ]
  },
  {
   "cell_type": "markdown",
   "metadata": {},
   "source": [
    "## Repeat all experiments for 10 runs"
   ]
  },
  {
   "cell_type": "code",
   "execution_count": 2,
   "metadata": {
    "ExecuteTime": {
     "end_time": "2022-06-03T07:55:08.000555Z",
     "start_time": "2022-06-03T07:55:07.997377Z"
    },
    "execution": {
     "iopub.execute_input": "2022-06-03T11:05:11.417809Z",
     "iopub.status.busy": "2022-06-03T11:05:11.416983Z",
     "iopub.status.idle": "2022-06-03T11:05:11.419821Z",
     "shell.execute_reply": "2022-06-03T11:05:11.418994Z"
    }
   },
   "outputs": [],
   "source": [
    "n_runs = 10"
   ]
  },
  {
   "cell_type": "markdown",
   "metadata": {},
   "source": [
    "## Load data"
   ]
  },
  {
   "cell_type": "code",
   "execution_count": 3,
   "metadata": {
    "ExecuteTime": {
     "end_time": "2022-06-03T07:55:08.125875Z",
     "start_time": "2022-06-03T07:55:08.002687Z"
    },
    "execution": {
     "iopub.execute_input": "2022-06-03T11:05:11.424801Z",
     "iopub.status.busy": "2022-06-03T11:05:11.423686Z",
     "iopub.status.idle": "2022-06-03T11:05:11.547481Z",
     "shell.execute_reply": "2022-06-03T11:05:11.546700Z"
    }
   },
   "outputs": [
    {
     "name": "stdout",
     "output_type": "stream",
     "text": [
      "Dataset shape: (2000, 95)\n",
      "33.65% missing data\n",
      "Class distribution: (array([1., 2.]), array([1000, 1000]))\n"
     ]
    }
   ],
   "source": [
    "data_missing, missing_mask, y = utils.load_nhanes(balanced=True)"
   ]
  },
  {
   "cell_type": "markdown",
   "metadata": {},
   "source": [
    "## Run OUR METHOD"
   ]
  },
  {
   "cell_type": "code",
   "execution_count": 4,
   "metadata": {
    "ExecuteTime": {
     "end_time": "2022-06-03T07:56:24.490750Z",
     "start_time": "2022-06-03T07:55:08.129737Z"
    },
    "execution": {
     "iopub.execute_input": "2022-06-03T11:05:11.561543Z",
     "iopub.status.busy": "2022-06-03T11:05:11.551636Z",
     "iopub.status.idle": "2022-06-03T11:21:53.192109Z",
     "shell.execute_reply": "2022-06-03T11:21:53.190827Z"
    },
    "scrolled": false
   },
   "outputs": [
    {
     "name": "stdout",
     "output_type": "stream",
     "text": [
      "Ite 00000 - 1.84 sec - Loss 0.060620 - ACC 62.45% - ACC Mean 62.45% - AUC 68.32% - AUC Mean 68.32% - Deter 000\n",
      "Ite 00050 - 1.04 sec - Loss 0.011664 - ACC 61.70% - ACC Mean 62.30% - AUC 67.32% - AUC Mean 67.39% - Deter 007\n",
      "Ite 00093 - 1.01 sec - Loss 0.007196 - ACC 61.50% - ACC Mean 61.89% - AUC 66.16% - AUC Mean 67.00% - Deter 050\n",
      "Early stop ite 93, rollback to correction of ite 43, whith acc of 64.3% and auc of 69.45%\n",
      "OUR METHOD RUN 1/10 - acc: 64.3% +- 0.0% - auc: 69.45% +- 0.0%\n",
      "Ite 00000 - 0.95 sec - Loss 0.145551 - ACC 63.60% - ACC Mean 63.60% - AUC 68.19% - AUC Mean 68.19% - Deter 000\n",
      "Ite 00050 - 1.01 sec - Loss 0.054923 - ACC 61.60% - ACC Mean 62.31% - AUC 67.23% - AUC Mean 67.45% - Deter 022\n",
      "Ite 00100 - 1.14 sec - Loss 0.037251 - ACC 61.60% - ACC Mean 62.43% - AUC 66.36% - AUC Mean 67.86% - Deter 027\n",
      "Ite 00123 - 0.93 sec - Loss 0.032460 - ACC 61.70% - ACC Mean 62.37% - AUC 67.54% - AUC Mean 67.70% - Deter 050\n",
      "Early stop ite 123, rollback to correction of ite 73, whith acc of 63.95% and auc of 70.27%\n",
      "OUR METHOD RUN 2/10 - acc: 63.95% +- 0.0% - auc: 70.27% +- 0.0%\n",
      "Ite 00000 - 1.06 sec - Loss 0.083273 - ACC 64.40% - ACC Mean 64.40% - AUC 68.96% - AUC Mean 68.96% - Deter 000\n",
      "Ite 00050 - 0.97 sec - Loss 0.023785 - ACC 62.70% - ACC Mean 62.45% - AUC 67.56% - AUC Mean 67.43% - Deter 050\n",
      "Early stop ite 50, rollback to correction of ite 0, whith acc of 64.4% and auc of 68.96%\n",
      "OUR METHOD RUN 3/10 - acc: 64.4% +- 0.0% - auc: 68.96% +- 0.0%\n",
      "Ite 00000 - 1.00 sec - Loss 0.079583 - ACC 61.10% - ACC Mean 61.10% - AUC 66.10% - AUC Mean 66.10% - Deter 000\n",
      "Ite 00050 - 1.03 sec - Loss 0.020574 - ACC 61.95% - ACC Mean 62.09% - AUC 66.88% - AUC Mean 67.37% - Deter 024\n",
      "Ite 00076 - 1.02 sec - Loss 0.015620 - ACC 61.15% - ACC Mean 61.94% - AUC 67.17% - AUC Mean 67.36% - Deter 050\n",
      "Early stop ite 76, rollback to correction of ite 26, whith acc of 64.5% and auc of 69.54%\n",
      "OUR METHOD RUN 4/10 - acc: 64.5% +- 0.0% - auc: 69.54% +- 0.0%\n",
      "Ite 00000 - 1.03 sec - Loss 0.109286 - ACC 63.20% - ACC Mean 63.20% - AUC 67.49% - AUC Mean 67.49% - Deter 000\n",
      "Ite 00050 - 1.00 sec - Loss 0.041470 - ACC 63.05% - ACC Mean 62.84% - AUC 68.33% - AUC Mean 67.99% - Deter 010\n",
      "Ite 00090 - 1.02 sec - Loss 0.028891 - ACC 63.40% - ACC Mean 62.61% - AUC 68.78% - AUC Mean 67.85% - Deter 050\n",
      "Early stop ite 90, rollback to correction of ite 40, whith acc of 63.8% and auc of 70.78%\n",
      "OUR METHOD RUN 5/10 - acc: 63.8% +- 0.0% - auc: 70.78% +- 0.0%\n",
      "Ite 00000 - 1.01 sec - Loss 0.088058 - ACC 61.10% - ACC Mean 61.10% - AUC 66.89% - AUC Mean 66.89% - Deter 000\n",
      "Ite 00050 - 1.00 sec - Loss 0.020658 - ACC 61.35% - ACC Mean 62.56% - AUC 67.18% - AUC Mean 67.70% - Deter 021\n",
      "Ite 00100 - 0.93 sec - Loss 0.012185 - ACC 60.85% - ACC Mean 62.44% - AUC 66.44% - AUC Mean 67.59% - Deter 041\n",
      "Ite 00109 - 0.97 sec - Loss 0.011269 - ACC 62.85% - ACC Mean 62.30% - AUC 68.14% - AUC Mean 67.44% - Deter 050\n",
      "Early stop ite 109, rollback to correction of ite 59, whith acc of 64.5% and auc of 70.4%\n",
      "OUR METHOD RUN 6/10 - acc: 64.5% +- 0.0% - auc: 70.4% +- 0.0%\n",
      "Ite 00000 - 0.91 sec - Loss 0.108274 - ACC 60.15% - ACC Mean 60.15% - AUC 65.68% - AUC Mean 65.68% - Deter 000\n",
      "Ite 00050 - 1.02 sec - Loss 0.036148 - ACC 62.10% - ACC Mean 62.37% - AUC 67.73% - AUC Mean 67.60% - Deter 012\n",
      "Ite 00100 - 0.89 sec - Loss 0.024614 - ACC 62.95% - ACC Mean 62.56% - AUC 68.48% - AUC Mean 67.58% - Deter 037\n",
      "Ite 00113 - 0.90 sec - Loss 0.022985 - ACC 62.60% - ACC Mean 62.29% - AUC 68.35% - AUC Mean 67.36% - Deter 050\n",
      "Early stop ite 113, rollback to correction of ite 63, whith acc of 64.7% and auc of 70.48%\n",
      "OUR METHOD RUN 7/10 - acc: 64.7% +- 0.0% - auc: 70.48% +- 0.0%\n",
      "Ite 00000 - 0.91 sec - Loss 0.081262 - ACC 63.65% - ACC Mean 63.65% - AUC 68.22% - AUC Mean 68.22% - Deter 000\n",
      "Ite 00050 - 0.90 sec - Loss 0.019339 - ACC 62.60% - ACC Mean 62.35% - AUC 67.43% - AUC Mean 67.29% - Deter 019\n",
      "Ite 00100 - 0.91 sec - Loss 0.011325 - ACC 63.20% - ACC Mean 62.39% - AUC 67.83% - AUC Mean 67.42% - Deter 028\n",
      "Ite 00122 - 0.91 sec - Loss 0.009458 - ACC 62.50% - ACC Mean 62.33% - AUC 67.42% - AUC Mean 67.29% - Deter 050\n",
      "Early stop ite 122, rollback to correction of ite 72, whith acc of 63.5% and auc of 69.63%\n",
      "OUR METHOD RUN 8/10 - acc: 63.5% +- 0.0% - auc: 69.63% +- 0.0%\n",
      "Ite 00000 - 0.88 sec - Loss 0.089842 - ACC 60.35% - ACC Mean 60.35% - AUC 66.43% - AUC Mean 66.43% - Deter 000\n",
      "Ite 00050 - 0.92 sec - Loss 0.028192 - ACC 61.75% - ACC Mean 62.44% - AUC 67.50% - AUC Mean 67.48% - Deter 018\n",
      "Ite 00100 - 0.88 sec - Loss 0.017974 - ACC 62.60% - ACC Mean 62.99% - AUC 68.04% - AUC Mean 68.12% - Deter 029\n",
      "Ite 00121 - 0.90 sec - Loss 0.015454 - ACC 61.35% - ACC Mean 62.66% - AUC 67.64% - AUC Mean 67.90% - Deter 050\n",
      "Early stop ite 121, rollback to correction of ite 71, whith acc of 63.85% and auc of 70.27%\n",
      "OUR METHOD RUN 9/10 - acc: 63.85% +- 0.0% - auc: 70.27% +- 0.0%\n",
      "Ite 00000 - 0.90 sec - Loss 0.072180 - ACC 62.80% - ACC Mean 62.80% - AUC 68.03% - AUC Mean 68.03% - Deter 000\n",
      "Ite 00050 - 0.89 sec - Loss 0.028037 - ACC 61.85% - ACC Mean 62.45% - AUC 67.17% - AUC Mean 67.53% - Deter 002\n",
      "Ite 00098 - 0.91 sec - Loss 0.018570 - ACC 61.85% - ACC Mean 62.14% - AUC 67.55% - AUC Mean 67.33% - Deter 050\n",
      "Early stop ite 98, rollback to correction of ite 48, whith acc of 64.15% and auc of 69.46%\n",
      "OUR METHOD RUN 10/10 - acc: 64.15% +- 0.0% - auc: 69.46% +- 0.0%\n",
      "\n",
      "OUR METHOD GLOBAL - acc: 64.17% +- 0.36% - auc: 69.92% +- 0.56%\n"
     ]
    }
   ],
   "source": [
    "params = {\n",
    "    'nb_batches': 10,\n",
    "    'reg_noise_std': .03,\n",
    "    'net_input': 'data_corrupted',\n",
    "    'net_params': {\n",
    "        'input_channels':1,\n",
    "        'output_channels':1,\n",
    "        'channels_skip':4,\n",
    "        'down_layers':[(24, 7, 1),\n",
    "                       (46, 9, 5),\n",
    "                       (96, 11, 1),\n",
    "                       (96, 13, 1)],\n",
    "        'need_sigmoid':True,\n",
    "        'need_bias':True,\n",
    "        'pad':'zero',\n",
    "        'downsample_mode':'stride',\n",
    "        'upsample_mode':'nearest',\n",
    "        'act_fun':'LeakyReLU',\n",
    "        'need1x1_up':True\n",
    "    },# or a list containing layers sizes\n",
    "    'adam_lr': .0001,\n",
    "    'adam_weight_decay': 0.,\n",
    "}\n",
    "\n",
    "ours_accs, ours_aucs = [], []\n",
    "for i in range(n_runs):\n",
    "    ours_correction = correction.run(data_missing, 501, params, y=y, missing_mask=missing_mask, seed=i)\n",
    "    ## Since our method returns 2 imputations select the best one\n",
    "    scores_raw = utils.get_scores(ours_correction['raw_out'], y)\n",
    "    acc = scores_raw['test_balanced_accuracy']\n",
    "    auc = scores_raw['test_roc_auc_ovo']\n",
    "    acc = acc.mean()\n",
    "    acc_std = acc.std()\n",
    "    auc = auc.mean()\n",
    "    auc_std = auc.std()\n",
    "    if 'masked_out' in ours_correction:\n",
    "        scores_masked = utils.get_scores(ours_correction['masked_out'], y)\n",
    "        acc_masked = scores_masked['test_balanced_accuracy']\n",
    "        auc_masked = scores_masked['test_roc_auc_ovo']\n",
    "        if auc_masked.mean() > auc:\n",
    "            acc = acc_masked.mean()\n",
    "            acc_std = acc_masked.std()\n",
    "            auc = auc_masked.mean()\n",
    "            auc_std = auc_masked.std()\n",
    "    print(f'OUR METHOD RUN {i + 1}/{n_runs} - acc: {round(acc.mean() * 100, 2)}% +- {round(acc.std() * 100, 2)}% - ' +\n",
    "          f'auc: {round(auc.mean() * 100, 2)}% +- {round(auc.std() * 100, 2)}%')\n",
    "    ours_accs.append(acc.mean())\n",
    "    ours_aucs.append(auc.mean())\n",
    "print(f'\\nOUR METHOD GLOBAL - acc: {round(np.array(ours_accs).mean() * 100, 2)}% +- {round(np.array(ours_accs).std() * 100, 2)}% - ' +\n",
    "      f'auc: {round(np.array(ours_aucs).mean() * 100, 2)}% +- {round(np.array(ours_aucs).std() * 100, 2)}%')"
   ]
  },
  {
   "cell_type": "markdown",
   "metadata": {},
   "source": [
    "## Run Median, Mean and KNN"
   ]
  },
  {
   "cell_type": "code",
   "execution_count": 5,
   "metadata": {
    "ExecuteTime": {
     "end_time": "2022-06-03T07:56:26.974392Z",
     "start_time": "2022-06-03T07:56:24.492926Z"
    },
    "execution": {
     "iopub.execute_input": "2022-06-03T11:21:53.201558Z",
     "iopub.status.busy": "2022-06-03T11:21:53.199877Z",
     "iopub.status.idle": "2022-06-03T11:21:55.381760Z",
     "shell.execute_reply": "2022-06-03T11:21:55.383279Z"
    }
   },
   "outputs": [
    {
     "name": "stdout",
     "output_type": "stream",
     "text": [
      "MEDIAN - acc: 60.3% +- 0.0% - auc: 65.11% +- 0.0%\n",
      "MEAN - acc: 60.35% +- 0.0% - auc: 66.1% +- 0.0%\n",
      "KNN - acc: 63.0% +- 0.0% - auc: 67.78% +- 0.0%\n"
     ]
    }
   ],
   "source": [
    "data_missing_nans = np.where(missing_mask, data_missing, np.nan)\n",
    "\n",
    "median_imputer = SimpleImputer(missing_values=np.nan, strategy='median')\n",
    "mean_imputer = SimpleImputer(missing_values=np.nan, strategy='mean')\n",
    "knn_imputer = KNNImputer(n_neighbors=10, weights='uniform')\n",
    "\n",
    "median_completed = median_imputer.fit_transform(data_missing_nans)\n",
    "mean_completed = mean_imputer.fit_transform(data_missing_nans)\n",
    "knn_completed = knn_imputer.fit_transform(data_missing_nans)\n",
    "\n",
    "## All runs would be the same since deterministic methods\n",
    "scores = utils.get_scores(median_completed, y)\n",
    "acc = [scores['test_balanced_accuracy'].mean()] * n_runs\n",
    "auc = [scores['test_roc_auc_ovo'].mean()] * n_runs\n",
    "print(f'MEDIAN - acc: {round(np.mean(acc) * 100, 2)}% +- {round(np.std(acc) * 100, 2)}% - ' +\n",
    "      f'auc: {round(np.mean(auc) * 100, 2)}% +- {round(np.std(auc) * 100, 2)}%')\n",
    "median_accs = acc\n",
    "median_aucs = auc\n",
    "\n",
    "scores = utils.get_scores(mean_completed, y)\n",
    "acc = [scores['test_balanced_accuracy'].mean()] * n_runs\n",
    "auc = [scores['test_roc_auc_ovo'].mean()] * n_runs\n",
    "print(f'MEAN - acc: {round(np.mean(acc) * 100, 2)}% +- {round(np.std(acc) * 100, 2)}% - ' +\n",
    "      f'auc: {round(np.mean(auc) * 100, 2)}% +- {round(np.std(auc) * 100, 2)}%')\n",
    "mean_accs = acc\n",
    "mean_aucs = auc\n",
    "\n",
    "scores = utils.get_scores(knn_completed, y)\n",
    "acc = [scores['test_balanced_accuracy'].mean()] * n_runs\n",
    "auc = [scores['test_roc_auc_ovo'].mean()] * n_runs\n",
    "print(f'KNN - acc: {round(np.mean(acc) * 100, 2)}% +- {round(np.std(acc) * 100, 2)}% - ' +\n",
    "      f'auc: {round(np.mean(auc) * 100, 2)}% +- {round(np.std(auc) * 100, 2)}%')\n",
    "knn_accs = acc\n",
    "knn_aucs = auc"
   ]
  },
  {
   "cell_type": "markdown",
   "metadata": {},
   "source": [
    "## Run GAIN"
   ]
  },
  {
   "cell_type": "code",
   "execution_count": 6,
   "metadata": {
    "ExecuteTime": {
     "end_time": "2022-06-03T07:57:05.045589Z",
     "start_time": "2022-06-03T07:56:26.976166Z"
    },
    "execution": {
     "iopub.execute_input": "2022-06-03T11:21:55.391659Z",
     "iopub.status.busy": "2022-06-03T11:21:55.390599Z",
     "iopub.status.idle": "2022-06-03T11:31:46.848818Z",
     "shell.execute_reply": "2022-06-03T11:31:46.849816Z"
    },
    "scrolled": false
   },
   "outputs": [
    {
     "name": "stderr",
     "output_type": "stream",
     "text": [
      "100%|██████████| 5000/5000 [00:58<00:00, 85.36it/s]\n"
     ]
    },
    {
     "name": "stdout",
     "output_type": "stream",
     "text": [
      "\n",
      "GAIN RUN 1/10 - acc: 61.3% +- 2.52% - auc: 67.22% +- 3.64%\n",
      "\n"
     ]
    },
    {
     "name": "stderr",
     "output_type": "stream",
     "text": [
      "100%|██████████| 5000/5000 [00:58<00:00, 84.99it/s]\n"
     ]
    },
    {
     "name": "stdout",
     "output_type": "stream",
     "text": [
      "\n",
      "GAIN RUN 2/10 - acc: 61.3% +- 2.5% - auc: 66.84% +- 2.99%\n",
      "\n"
     ]
    },
    {
     "name": "stderr",
     "output_type": "stream",
     "text": [
      "100%|██████████| 5000/5000 [00:58<00:00, 85.36it/s]\n"
     ]
    },
    {
     "name": "stdout",
     "output_type": "stream",
     "text": [
      "\n",
      "GAIN RUN 3/10 - acc: 61.0% +- 0.91% - auc: 66.7% +- 1.06%\n",
      "\n"
     ]
    },
    {
     "name": "stderr",
     "output_type": "stream",
     "text": [
      "100%|██████████| 5000/5000 [00:57<00:00, 87.32it/s]\n"
     ]
    },
    {
     "name": "stdout",
     "output_type": "stream",
     "text": [
      "\n",
      "GAIN RUN 4/10 - acc: 62.55% +- 1.11% - auc: 67.67% +- 2.23%\n",
      "\n"
     ]
    },
    {
     "name": "stderr",
     "output_type": "stream",
     "text": [
      "100%|██████████| 5000/5000 [00:58<00:00, 85.28it/s]\n"
     ]
    },
    {
     "name": "stdout",
     "output_type": "stream",
     "text": [
      "\n",
      "GAIN RUN 5/10 - acc: 61.05% +- 0.99% - auc: 66.08% +- 2.25%\n",
      "\n"
     ]
    },
    {
     "name": "stderr",
     "output_type": "stream",
     "text": [
      "100%|██████████| 5000/5000 [00:57<00:00, 86.23it/s]\n"
     ]
    },
    {
     "name": "stdout",
     "output_type": "stream",
     "text": [
      "\n",
      "GAIN RUN 6/10 - acc: 60.95% +- 1.58% - auc: 66.55% +- 1.62%\n",
      "\n"
     ]
    },
    {
     "name": "stderr",
     "output_type": "stream",
     "text": [
      "100%|██████████| 5000/5000 [00:58<00:00, 85.27it/s]\n"
     ]
    },
    {
     "name": "stdout",
     "output_type": "stream",
     "text": [
      "\n",
      "GAIN RUN 7/10 - acc: 61.1% +- 2.34% - auc: 66.86% +- 2.22%\n",
      "\n"
     ]
    },
    {
     "name": "stderr",
     "output_type": "stream",
     "text": [
      "100%|██████████| 5000/5000 [00:58<00:00, 85.77it/s]\n"
     ]
    },
    {
     "name": "stdout",
     "output_type": "stream",
     "text": [
      "\n",
      "GAIN RUN 8/10 - acc: 62.2% +- 2.47% - auc: 67.05% +- 3.47%\n",
      "\n"
     ]
    },
    {
     "name": "stderr",
     "output_type": "stream",
     "text": [
      "100%|██████████| 5000/5000 [00:57<00:00, 87.36it/s]\n"
     ]
    },
    {
     "name": "stdout",
     "output_type": "stream",
     "text": [
      "\n",
      "GAIN RUN 9/10 - acc: 60.95% +- 1.33% - auc: 66.85% +- 1.68%\n",
      "\n"
     ]
    },
    {
     "name": "stderr",
     "output_type": "stream",
     "text": [
      "100%|██████████| 5000/5000 [00:58<00:00, 85.49it/s]\n"
     ]
    },
    {
     "name": "stdout",
     "output_type": "stream",
     "text": [
      "\n",
      "GAIN RUN 10/10 - acc: 61.2% +- 1.19% - auc: 66.65% +- 2.31%\n",
      "\n",
      "GAIN GLOBAL - acc: 61.36% +- 0.53% - auc: 66.85% +- 0.4%\n"
     ]
    }
   ],
   "source": [
    "gain_parameters = {'batch_size': 128,\n",
    "                   'hint_rate': .9,\n",
    "                   'alpha': 100,\n",
    "                   'iterations': 5000}\n",
    "\n",
    "gain_accs, gain_aucs = [], []\n",
    "for i in range(n_runs):\n",
    "    random.seed(i)\n",
    "    np.random.seed(i)\n",
    "    torch.manual_seed(i)\n",
    "    imputed = gain(data_missing_nans, gain_parameters)\n",
    "    scores = utils.get_scores(imputed, y)\n",
    "    acc = scores['test_balanced_accuracy']\n",
    "    auc = scores['test_roc_auc_ovo']\n",
    "    print(f'\\nGAIN RUN {i + 1}/{n_runs} - acc: {round(acc.mean() * 100, 2)}% +- {round(acc.std() * 100, 2)}% - ' +\n",
    "          f'auc: {round(auc.mean() * 100, 2)}% +- {round(auc.std() * 100, 2)}%\\n')\n",
    "    gain_accs.append(acc.mean())\n",
    "    gain_aucs.append(auc.mean())\n",
    "print(f'GAIN GLOBAL - acc: {round(np.array(gain_accs).mean() * 100, 2)}% +- {round(np.array(gain_accs).std() * 100, 2)}% - ' +\n",
    "      f'auc: {round(np.array(gain_aucs).mean() * 100, 2)}% +- {round(np.array(gain_aucs).std() * 100, 2)}%')"
   ]
  },
  {
   "cell_type": "markdown",
   "metadata": {},
   "source": [
    "## Run MICE"
   ]
  },
  {
   "cell_type": "code",
   "execution_count": 7,
   "metadata": {
    "ExecuteTime": {
     "end_time": "2022-06-03T08:05:36.625097Z",
     "start_time": "2022-06-03T07:57:05.047941Z"
    },
    "execution": {
     "iopub.execute_input": "2022-06-03T11:31:46.855639Z",
     "iopub.status.busy": "2022-06-03T11:31:46.854896Z",
     "iopub.status.idle": "2022-06-03T11:31:54.717779Z",
     "shell.execute_reply": "2022-06-03T11:31:54.716955Z"
    }
   },
   "outputs": [
    {
     "name": "stdout",
     "output_type": "stream",
     "text": [
      "MICE - acc: 61.7% +- 0.0% - auc: 67.3% +- 0.0%\n"
     ]
    }
   ],
   "source": [
    "imputer = IterativeImputer()\n",
    "imputed = imputer.fit_transform(data_missing_nans)\n",
    "## All runs would be the same since deterministic method\n",
    "scores = utils.get_scores(imputed, y)\n",
    "acc = [scores['test_balanced_accuracy'].mean()] * n_runs\n",
    "auc = [scores['test_roc_auc_ovo'].mean()] * n_runs\n",
    "print(f'MICE - acc: {round(np.mean(acc) * 100, 2)}% +- {round(np.std(acc) * 100, 2)}% - ' +\n",
    "      f'auc: {round(np.mean(auc) * 100, 2)}% +- {round(np.std(auc) * 100, 2)}%')\n",
    "mice_accs = acc\n",
    "mice_aucs = auc"
   ]
  },
  {
   "cell_type": "markdown",
   "metadata": {},
   "source": [
    "## Run MISSFOREST"
   ]
  },
  {
   "cell_type": "code",
   "execution_count": 8,
   "metadata": {
    "ExecuteTime": {
     "end_time": "2022-06-03T08:13:22.668185Z",
     "start_time": "2022-06-03T08:05:36.627849Z"
    },
    "execution": {
     "iopub.execute_input": "2022-06-03T11:31:54.726655Z",
     "iopub.status.busy": "2022-06-03T11:31:54.725758Z",
     "iopub.status.idle": "2022-06-03T11:58:47.280213Z",
     "shell.execute_reply": "2022-06-03T11:58:47.281257Z"
    },
    "scrolled": false
   },
   "outputs": [
    {
     "name": "stdout",
     "output_type": "stream",
     "text": [
      "Iteration: 0\n",
      "Iteration: 1\n",
      "Iteration: 2\n",
      "Iteration: 3\n",
      "Iteration: 4\n",
      "\n",
      "MISSFOREST RUN 1/10 - acc: 61.85% +- 2.35% - auc: 67.39% +- 3.61%\n",
      "\n",
      "Iteration: 0\n",
      "Iteration: 1\n",
      "Iteration: 2\n",
      "Iteration: 3\n",
      "\n",
      "MISSFOREST RUN 2/10 - acc: 61.35% +- 2.61% - auc: 66.65% +- 2.53%\n",
      "\n",
      "Iteration: 0\n",
      "Iteration: 1\n",
      "Iteration: 2\n",
      "Iteration: 3\n",
      "\n",
      "MISSFOREST RUN 3/10 - acc: 63.4% +- 1.75% - auc: 67.61% +- 2.22%\n",
      "\n",
      "Iteration: 0\n",
      "Iteration: 1\n",
      "Iteration: 2\n",
      "Iteration: 3\n",
      "\n",
      "MISSFOREST RUN 4/10 - acc: 62.6% +- 1.28% - auc: 67.1% +- 1.47%\n",
      "\n",
      "Iteration: 0\n",
      "Iteration: 1\n",
      "Iteration: 2\n",
      "Iteration: 3\n",
      "Iteration: 4\n",
      "\n",
      "MISSFOREST RUN 5/10 - acc: 60.6% +- 2.53% - auc: 65.69% +- 2.52%\n",
      "\n",
      "Iteration: 0\n",
      "Iteration: 1\n",
      "Iteration: 2\n",
      "\n",
      "MISSFOREST RUN 6/10 - acc: 60.5% +- 1.42% - auc: 65.91% +- 2.03%\n",
      "\n",
      "Iteration: 0\n",
      "Iteration: 1\n",
      "Iteration: 2\n",
      "Iteration: 3\n",
      "Iteration: 4\n",
      "Iteration: 5\n",
      "\n",
      "MISSFOREST RUN 7/10 - acc: 61.95% +- 2.02% - auc: 67.24% +- 1.51%\n",
      "\n",
      "Iteration: 0\n",
      "Iteration: 1\n",
      "Iteration: 2\n",
      "Iteration: 3\n",
      "Iteration: 4\n",
      "Iteration: 5\n",
      "\n",
      "MISSFOREST RUN 8/10 - acc: 60.2% +- 2.38% - auc: 66.13% +- 2.54%\n",
      "\n",
      "Iteration: 0\n",
      "Iteration: 1\n",
      "Iteration: 2\n",
      "\n",
      "MISSFOREST RUN 9/10 - acc: 60.05% +- 1.91% - auc: 64.5% +- 2.58%\n",
      "\n",
      "Iteration: 0\n",
      "Iteration: 1\n",
      "Iteration: 2\n",
      "Iteration: 3\n",
      "Iteration: 4\n",
      "Iteration: 5\n",
      "Iteration: 6\n",
      "\n",
      "MISSFOREST RUN 10/10 - acc: 61.55% +- 1.73% - auc: 66.54% +- 2.11%\n",
      "\n",
      "\n",
      "MISSFOREST GLOBAL - acc: 61.4% +- 1.03% - auc: 66.48% +- 0.9%\n"
     ]
    }
   ],
   "source": [
    "miss_accs, miss_aucs = [], []\n",
    "for i in range(n_runs):\n",
    "    random.seed(i)\n",
    "    np.random.seed(i)\n",
    "    torch.manual_seed(i)\n",
    "    imputer = MissForest(n_jobs=-1, random_state=i)\n",
    "    imputed = imputer.fit_transform(data_missing_nans)\n",
    "    scores = utils.get_scores(imputed, y)\n",
    "    acc = scores['test_balanced_accuracy']\n",
    "    auc = scores['test_roc_auc_ovo']\n",
    "    print(f'\\nMISSFOREST RUN {i + 1}/{n_runs} - acc: {round(acc.mean() * 100, 2)}% +- {round(acc.std() * 100, 2)}% - ' +\n",
    "          f'auc: {round(auc.mean() * 100, 2)}% +- {round(auc.std() * 100, 2)}%\\n')\n",
    "    miss_accs.append(acc.mean())\n",
    "    miss_aucs.append(auc.mean())\n",
    "print(f'\\nMISSFOREST GLOBAL - acc: {round(np.array(miss_accs).mean() * 100, 2)}% +- {round(np.array(miss_accs).std() * 100, 2)}% - ' +\n",
    "      f'auc: {round(np.array(miss_aucs).mean() * 100, 2)}% +- {round(np.array(miss_aucs).std() * 100, 2)}%')"
   ]
  },
  {
   "cell_type": "markdown",
   "metadata": {},
   "source": [
    "## Run SOFTIMPUTE"
   ]
  },
  {
   "cell_type": "code",
   "execution_count": 9,
   "metadata": {
    "ExecuteTime": {
     "end_time": "2022-06-03T08:13:24.127459Z",
     "start_time": "2022-06-03T08:13:22.670807Z"
    },
    "execution": {
     "iopub.execute_input": "2022-06-03T11:58:47.293432Z",
     "iopub.status.busy": "2022-06-03T11:58:47.290315Z",
     "iopub.status.idle": "2022-06-03T11:58:52.068156Z",
     "shell.execute_reply": "2022-06-03T11:58:52.066961Z"
    }
   },
   "outputs": [
    {
     "name": "stdout",
     "output_type": "stream",
     "text": [
      "SOFTIMPUTE RUN 1/10 - acc: 62.15% +- 1.78% - auc: 67.33% +- 3.38%\n",
      "SOFTIMPUTE RUN 2/10 - acc: 61.85% +- 2.58% - auc: 67.61% +- 3.12%\n",
      "SOFTIMPUTE RUN 3/10 - acc: 62.05% +- 1.71% - auc: 66.61% +- 1.89%\n",
      "SOFTIMPUTE RUN 4/10 - acc: 62.3% +- 2.67% - auc: 68.77% +- 3.56%\n",
      "SOFTIMPUTE RUN 5/10 - acc: 62.2% +- 1.29% - auc: 67.6% +- 2.76%\n",
      "SOFTIMPUTE RUN 6/10 - acc: 62.1% +- 1.39% - auc: 66.18% +- 1.82%\n",
      "SOFTIMPUTE RUN 7/10 - acc: 61.75% +- 1.89% - auc: 67.3% +- 3.57%\n",
      "SOFTIMPUTE RUN 8/10 - acc: 62.3% +- 1.83% - auc: 66.63% +- 2.41%\n",
      "SOFTIMPUTE RUN 9/10 - acc: 59.05% +- 2.62% - auc: 64.42% +- 2.3%\n",
      "SOFTIMPUTE RUN 10/10 - acc: 61.25% +- 1.43% - auc: 66.87% +- 2.36%\n",
      "\n",
      "SOFTIMPUTE GLOBAL - acc: 61.7% +- 0.93% - auc: 66.93% +- 1.08%\n"
     ]
    }
   ],
   "source": [
    "soft_accs, soft_aucs = [], []\n",
    "for i in range(n_runs):\n",
    "    random.seed(i)\n",
    "    np.random.seed(i)\n",
    "    torch.manual_seed(i)\n",
    "    imputer = SoftImpute(random_state=i)\n",
    "    imputer.fit(data_missing_nans)\n",
    "    imputed = imputer.predict(data_missing_nans)\n",
    "    imputed = np.where(missing_mask, data_missing, imputed)\n",
    "    scores = utils.get_scores(imputed, y)\n",
    "    acc = scores['test_balanced_accuracy']\n",
    "    auc = scores['test_roc_auc_ovo']\n",
    "    print(f'SOFTIMPUTE RUN {i + 1}/{n_runs} - acc: {round(acc.mean() * 100, 2)}% +- {round(acc.std() * 100, 2)}% - ' +\n",
    "          f'auc: {round(auc.mean() * 100, 2)}% +- {round(auc.std() * 100, 2)}%')\n",
    "    soft_accs.append(acc.mean())\n",
    "    soft_aucs.append(auc.mean())\n",
    "print(f'\\nSOFTIMPUTE GLOBAL - acc: {round(np.array(soft_accs).mean() * 100, 2)}% +- {round(np.array(soft_accs).std() * 100, 2)}% - ' +\n",
    "      f'auc: {round(np.array(soft_aucs).mean() * 100, 2)}% +- {round(np.array(soft_aucs).std() * 100, 2)}%')"
   ]
  },
  {
   "cell_type": "markdown",
   "metadata": {},
   "source": [
    "## Run SINKHORN"
   ]
  },
  {
   "cell_type": "code",
   "execution_count": 10,
   "metadata": {
    "execution": {
     "iopub.execute_input": "2022-06-03T11:58:52.079264Z",
     "iopub.status.busy": "2022-06-03T11:58:52.077091Z",
     "iopub.status.idle": "2022-06-03T12:04:01.599294Z",
     "shell.execute_reply": "2022-06-03T12:04:01.599727Z"
    }
   },
   "outputs": [
    {
     "name": "stdout",
     "output_type": "stream",
     "text": [
      "batchsize = 128, epsilon = 0.0100\n",
      "Iteration 0:\t Loss: 1.3529\n",
      "\n",
      "SINKHORN RUN 1/10 - acc: 59.55% +- 2.04% - auc: 63.89% +- 2.17%\n",
      "\n",
      "batchsize = 128, epsilon = 0.0100\n",
      "Iteration 0:\t Loss: 1.3886\n",
      "\n",
      "SINKHORN RUN 2/10 - acc: 61.75% +- 3.32% - auc: 65.5% +- 4.61%\n",
      "\n",
      "batchsize = 128, epsilon = 0.0100\n",
      "Iteration 0:\t Loss: 1.3466\n",
      "\n",
      "SINKHORN RUN 3/10 - acc: 62.05% +- 2.43% - auc: 67.18% +- 2.32%\n",
      "\n",
      "batchsize = 128, epsilon = 0.0100\n",
      "Iteration 0:\t Loss: 1.4362\n",
      "\n",
      "SINKHORN RUN 4/10 - acc: 59.1% +- 2.74% - auc: 64.02% +- 3.3%\n",
      "\n",
      "batchsize = 128, epsilon = 0.0100\n",
      "Iteration 0:\t Loss: 1.3403\n",
      "\n",
      "SINKHORN RUN 5/10 - acc: 61.0% +- 1.71% - auc: 67.08% +- 1.98%\n",
      "\n",
      "batchsize = 128, epsilon = 0.0100\n",
      "Iteration 0:\t Loss: 1.3580\n",
      "\n",
      "SINKHORN RUN 6/10 - acc: 59.95% +- 1.51% - auc: 64.55% +- 2.14%\n",
      "\n",
      "batchsize = 128, epsilon = 0.0100\n",
      "Iteration 0:\t Loss: 1.3399\n",
      "\n",
      "SINKHORN RUN 7/10 - acc: 60.95% +- 3.05% - auc: 65.35% +- 4.6%\n",
      "\n",
      "batchsize = 128, epsilon = 0.0100\n",
      "Iteration 0:\t Loss: 1.3619\n",
      "\n",
      "SINKHORN RUN 8/10 - acc: 60.4% +- 0.34% - auc: 64.47% +- 1.23%\n",
      "\n",
      "batchsize = 128, epsilon = 0.0100\n",
      "Iteration 0:\t Loss: 1.3386\n",
      "\n",
      "SINKHORN RUN 9/10 - acc: 60.85% +- 3.77% - auc: 65.33% +- 3.39%\n",
      "\n",
      "batchsize = 128, epsilon = 0.0100\n",
      "Iteration 0:\t Loss: 1.3921\n",
      "\n",
      "SINKHORN RUN 10/10 - acc: 62.1% +- 2.13% - auc: 66.87% +- 3.3%\n",
      "\n",
      "\n",
      "SINKHORN GLOBAL - acc: 60.77% +- 0.98% - auc: 65.42% +- 1.18%\n"
     ]
    }
   ],
   "source": [
    "sink_accs, sink_aucs = [], []\n",
    "for i in range(n_runs):\n",
    "    random.seed(i)\n",
    "    np.random.seed(i)\n",
    "    torch.manual_seed(i)\n",
    "    imputer = OTimputer(niter=500)\n",
    "    imputed = imputer.fit_transform(data_missing_nans).cpu().detach().numpy()\n",
    "    scores = utils.get_scores(imputed, y)\n",
    "    acc = scores['test_balanced_accuracy']\n",
    "    auc = scores['test_roc_auc_ovo']\n",
    "    print(f'\\nSINKHORN RUN {i + 1}/{n_runs} - acc: {round(acc.mean() * 100, 2)}% +- {round(acc.std() * 100, 2)}% - ' +\n",
    "          f'auc: {round(auc.mean() * 100, 2)}% +- {round(auc.std() * 100, 2)}%\\n')\n",
    "    sink_accs.append(acc.mean())\n",
    "    sink_aucs.append(auc.mean())\n",
    "print(f'\\nSINKHORN GLOBAL - acc: {round(np.array(sink_accs).mean() * 100, 2)}% +- {round(np.array(sink_accs).std() * 100, 2)}% - ' +\n",
    "      f'auc: {round(np.array(sink_aucs).mean() * 100, 2)}% +- {round(np.array(sink_aucs).std() * 100, 2)}%')"
   ]
  },
  {
   "cell_type": "markdown",
   "metadata": {},
   "source": [
    "## Run MIDA"
   ]
  },
  {
   "cell_type": "code",
   "execution_count": 11,
   "metadata": {
    "execution": {
     "iopub.execute_input": "2022-06-03T12:04:01.608189Z",
     "iopub.status.busy": "2022-06-03T12:04:01.605470Z",
     "iopub.status.idle": "2022-06-03T12:07:40.278322Z",
     "shell.execute_reply": "2022-06-03T12:07:40.277708Z"
    }
   },
   "outputs": [
    {
     "name": "stdout",
     "output_type": "stream",
     "text": [
      "Stop training at epoch: 1500/1500, return best output\n",
      "\n",
      "MIDA RUN 1/10 - acc: 62.8% +- 2.49% - auc: 67.54% +- 3.37%\n",
      "\n",
      "Stop training at epoch: 1500/1500, return best output\n",
      "\n",
      "MIDA RUN 2/10 - acc: 62.85% +- 2.11% - auc: 68.36% +- 2.99%\n",
      "\n",
      "Stop training at epoch: 1500/1500, return best output\n",
      "\n",
      "MIDA RUN 3/10 - acc: 63.2% +- 2.99% - auc: 66.69% +- 3.4%\n",
      "\n",
      "Stop training at epoch: 1500/1500, return best output\n",
      "\n",
      "MIDA RUN 4/10 - acc: 64.65% +- 1.76% - auc: 69.74% +- 2.76%\n",
      "\n",
      "Stop training at epoch: 1500/1500, return best output\n",
      "\n",
      "MIDA RUN 5/10 - acc: 62.2% +- 1.83% - auc: 65.35% +- 3.09%\n",
      "\n",
      "Stop training at epoch: 1500/1500, return best output\n",
      "\n",
      "MIDA RUN 6/10 - acc: 62.0% +- 1.04% - auc: 67.48% +- 1.84%\n",
      "\n",
      "Stop training at epoch: 1500/1500, return best output\n",
      "\n",
      "MIDA RUN 7/10 - acc: 61.55% +- 2.45% - auc: 66.01% +- 3.6%\n",
      "\n",
      "Stop training at epoch: 1500/1500, return best output\n",
      "\n",
      "MIDA RUN 8/10 - acc: 61.0% +- 1.84% - auc: 66.19% +- 2.19%\n",
      "\n",
      "Stop training at epoch: 1500/1500, return best output\n",
      "\n",
      "MIDA RUN 9/10 - acc: 61.45% +- 1.24% - auc: 66.04% +- 1.8%\n",
      "\n",
      "Stop training at epoch: 1500/1500, return best output\n",
      "\n",
      "MIDA RUN 10/10 - acc: 59.85% +- 2.32% - auc: 65.7% +- 2.96%\n",
      "\n",
      "\n",
      "MIDA GLOBAL - acc: 62.15% +- 1.26% - auc: 66.91% +- 1.3%\n"
     ]
    }
   ],
   "source": [
    "mida_accs, mida_aucs = [], []\n",
    "for i in range(n_runs):\n",
    "    random.seed(i)\n",
    "    np.random.seed(i)\n",
    "    torch.manual_seed(i)\n",
    "    imputed = mida(data_missing_nans, num_layers=2, num_epochs=1500)\n",
    "    imputed = np.where(missing_mask, data_missing, imputed)\n",
    "    scores = utils.get_scores(imputed, y)\n",
    "    acc = scores['test_balanced_accuracy']\n",
    "    auc = scores['test_roc_auc_ovo']\n",
    "    print(f'\\nMIDA RUN {i + 1}/{n_runs} - acc: {round(acc.mean() * 100, 2)}% +- {round(acc.std() * 100, 2)}% - ' +\n",
    "          f'auc: {round(auc.mean() * 100, 2)}% +- {round(auc.std() * 100, 2)}%\\n')\n",
    "    mida_accs.append(acc.mean())\n",
    "    mida_aucs.append(auc.mean())\n",
    "print(f'\\nMIDA GLOBAL - acc: {round(np.array(mida_accs).mean() * 100, 2)}% +- {round(np.array(mida_accs).std() * 100, 2)}% - ' +\n",
    "      f'auc: {round(np.array(mida_aucs).mean() * 100, 2)}% +- {round(np.array(mida_aucs).std() * 100, 2)}%')"
   ]
  },
  {
   "cell_type": "markdown",
   "metadata": {},
   "source": [
    "## Run T-tests"
   ]
  },
  {
   "cell_type": "code",
   "execution_count": 12,
   "metadata": {
    "ExecuteTime": {
     "end_time": "2022-06-03T08:13:24.155174Z",
     "start_time": "2022-06-03T08:13:24.143959Z"
    },
    "execution": {
     "iopub.execute_input": "2022-06-03T12:07:40.296773Z",
     "iopub.status.busy": "2022-06-03T12:07:40.295969Z",
     "iopub.status.idle": "2022-06-03T12:07:40.302163Z",
     "shell.execute_reply": "2022-06-03T12:07:40.301346Z"
    }
   },
   "outputs": [
    {
     "name": "stdout",
     "output_type": "stream",
     "text": [
      "Metric ACC - OUR METHOD is significantly better than MEDIAN\n",
      "Metric AUC - OUR METHOD is significantly better than MEDIAN\n",
      "Metric ACC - OUR METHOD is significantly better than MEAN\n",
      "Metric AUC - OUR METHOD is significantly better than MEAN\n",
      "Metric ACC - OUR METHOD is significantly better than KNN\n",
      "Metric AUC - OUR METHOD is significantly better than KNN\n",
      "Metric ACC - OUR METHOD is significantly better than GAIN\n",
      "Metric AUC - OUR METHOD is significantly better than GAIN\n",
      "Metric ACC - OUR METHOD is significantly better than MICE\n",
      "Metric AUC - OUR METHOD is significantly better than MICE\n",
      "Metric ACC - OUR METHOD is significantly better than MISS\n",
      "Metric AUC - OUR METHOD is significantly better than MISS\n",
      "Metric ACC - OUR METHOD is significantly better than SOFT\n",
      "Metric AUC - OUR METHOD is significantly better than SOFT\n",
      "Metric ACC - OUR METHOD is significantly better than SINK\n",
      "Metric AUC - OUR METHOD is significantly better than SINK\n",
      "Metric ACC - OUR METHOD is significantly better than MIDA\n",
      "Metric AUC - OUR METHOD is significantly better than MIDA\n"
     ]
    }
   ],
   "source": [
    "for model, metrics in {\n",
    "        'MEDIAN': {'ACC': median_accs, 'AUC': median_aucs},\n",
    "        'MEAN': {'ACC': mean_accs, 'AUC': mean_aucs},\n",
    "        'KNN': {'ACC': knn_accs, 'AUC': knn_aucs},\n",
    "        'GAIN': {'ACC': gain_accs, 'AUC': gain_aucs},\n",
    "        'MICE': {'ACC': mice_accs, 'AUC': mice_aucs},\n",
    "        'MISS': {'ACC': miss_accs, 'AUC': miss_aucs},\n",
    "        'SOFT': {'ACC': soft_accs, 'AUC': soft_aucs},\n",
    "        'SINK': {'ACC': sink_accs, 'AUC': sink_aucs},\n",
    "        'MIDA': {'ACC': mida_accs, 'AUC': mida_aucs}}.items():\n",
    "    for metric_name, metric in metrics.items():\n",
    "        ours_metric = ours_accs if metric_name == 'ACC' else ours_aucs\n",
    "        t, p = scipy.stats.ttest_ind(np.array(ours_metric), np.array(metric))\n",
    "        if p <= .05:\n",
    "            if t > 0:\n",
    "                ## Our method is better\n",
    "                print(f'Metric {metric_name} - OUR METHOD is significantly better than {model}')\n",
    "            else:\n",
    "                ## Theirs is better\n",
    "                print(f'Metric {metric_name} - OUR METHOD is significantly worse than {model}')\n",
    "        else:\n",
    "            ## Else we are even\n",
    "            print(f'Metric {metric_name} - OUR METHOD is even with {model}')"
   ]
  }
 ],
 "metadata": {
  "kernelspec": {
   "display_name": "Python 3 (ipykernel)",
   "language": "python",
   "name": "python3"
  },
  "language_info": {
   "codemirror_mode": {
    "name": "ipython",
    "version": 3
   },
   "file_extension": ".py",
   "mimetype": "text/x-python",
   "name": "python",
   "nbconvert_exporter": "python",
   "pygments_lexer": "ipython3",
   "version": "3.9.7"
  },
  "latex_envs": {
   "LaTeX_envs_menu_present": true,
   "autoclose": false,
   "autocomplete": true,
   "bibliofile": "biblio.bib",
   "cite_by": "apalike",
   "current_citInitial": 1,
   "eqLabelWithNumbers": true,
   "eqNumInitial": 1,
   "hotkeys": {
    "equation": "Ctrl-E",
    "itemize": "Ctrl-I"
   },
   "labels_anchors": false,
   "latex_user_defs": false,
   "report_style_numbering": false,
   "user_envs_cfg": false
  }
 },
 "nbformat": 4,
 "nbformat_minor": 2
}
