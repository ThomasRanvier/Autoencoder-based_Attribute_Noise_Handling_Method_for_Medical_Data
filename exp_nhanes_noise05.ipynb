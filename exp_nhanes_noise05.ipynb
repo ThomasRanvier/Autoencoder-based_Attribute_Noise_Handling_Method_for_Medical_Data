{
 "cells": [
  {
   "cell_type": "code",
   "execution_count": 1,
   "metadata": {
    "ExecuteTime": {
     "end_time": "2022-06-03T07:55:07.995838Z",
     "start_time": "2022-06-03T07:55:05.179232Z"
    },
    "execution": {
     "iopub.execute_input": "2022-06-03T15:29:46.903590Z",
     "iopub.status.busy": "2022-06-03T15:29:46.902212Z",
     "iopub.status.idle": "2022-06-03T15:29:50.601764Z",
     "shell.execute_reply": "2022-06-03T15:29:50.602117Z"
    }
   },
   "outputs": [],
   "source": [
    "from __future__ import print_function\n",
    "import warnings\n",
    "warnings.filterwarnings(\"ignore\", category=UserWarning)\n",
    "warnings.filterwarnings(\"ignore\", category=FutureWarning)\n",
    "## Disable tf future deprecated messages\n",
    "import logging\n",
    "logging.getLogger('tensorflow').disabled = True\n",
    "## Disable tf CUDA messages\n",
    "import os\n",
    "os.environ['TF_CPP_MIN_LOG_LEVEL'] = '3'\n",
    "\n",
    "%matplotlib inline\n",
    "\n",
    "import sys\n",
    "import random\n",
    "import numpy as np\n",
    "import pandas as pd\n",
    "\n",
    "import utils\n",
    "import correction\n",
    "from models.dense import *\n",
    "from models.gain import gain\n",
    "from models.soft_impute import SoftImpute\n",
    "from models.sinkhorn import OTimputer\n",
    "from models.mida import mida\n",
    "\n",
    "import scipy.stats\n",
    "\n",
    "from sklearn.experimental import enable_iterative_imputer\n",
    "from sklearn.impute import IterativeImputer\n",
    "from sklearn.impute import KNNImputer, SimpleImputer\n",
    "\n",
    "import sklearn.neighbors._base\n",
    "sys.modules['sklearn.neighbors.base'] = sklearn.neighbors._base\n",
    "from missingpy import MissForest\n",
    "\n",
    "torch.backends.cudnn.enabled = True\n",
    "torch.backends.cudnn.benchmark = True\n",
    "dtype = torch.cuda.FloatTensor"
   ]
  },
  {
   "cell_type": "markdown",
   "metadata": {},
   "source": [
    "## Repeat all experiments for 10 runs"
   ]
  },
  {
   "cell_type": "code",
   "execution_count": 2,
   "metadata": {
    "ExecuteTime": {
     "end_time": "2022-06-03T07:55:08.000555Z",
     "start_time": "2022-06-03T07:55:07.997377Z"
    },
    "execution": {
     "iopub.execute_input": "2022-06-03T15:29:50.606403Z",
     "iopub.status.busy": "2022-06-03T15:29:50.605947Z",
     "iopub.status.idle": "2022-06-03T15:29:50.609110Z",
     "shell.execute_reply": "2022-06-03T15:29:50.608749Z"
    }
   },
   "outputs": [],
   "source": [
    "n_runs = 10"
   ]
  },
  {
   "cell_type": "markdown",
   "metadata": {},
   "source": [
    "## Load data"
   ]
  },
  {
   "cell_type": "code",
   "execution_count": 3,
   "metadata": {
    "ExecuteTime": {
     "end_time": "2022-06-03T07:55:08.125875Z",
     "start_time": "2022-06-03T07:55:08.002687Z"
    },
    "execution": {
     "iopub.execute_input": "2022-06-03T15:29:50.613431Z",
     "iopub.status.busy": "2022-06-03T15:29:50.612794Z",
     "iopub.status.idle": "2022-06-03T15:29:50.742777Z",
     "shell.execute_reply": "2022-06-03T15:29:50.742407Z"
    }
   },
   "outputs": [
    {
     "name": "stdout",
     "output_type": "stream",
     "text": [
      "Dataset shape: (2000, 95)\n",
      "33.65% missing data\n",
      "Class distribution: (array([1., 2.]), array([1000, 1000]))\n"
     ]
    }
   ],
   "source": [
    "data_missing, missing_mask, y = utils.load_nhanes(balanced=True)\n",
    "## Inject noise\n",
    "data_missing = utils.inject_noise(data_missing.copy(), noise_rate=.05)\n",
    "## Replace missing values locations by 0\n",
    "data_missing = data_missing * missing_mask"
   ]
  },
  {
   "cell_type": "markdown",
   "metadata": {},
   "source": [
    "## Run OUR METHOD"
   ]
  },
  {
   "cell_type": "code",
   "execution_count": 4,
   "metadata": {
    "ExecuteTime": {
     "end_time": "2022-06-03T07:56:24.490750Z",
     "start_time": "2022-06-03T07:55:08.129737Z"
    },
    "execution": {
     "iopub.execute_input": "2022-06-03T15:29:50.751803Z",
     "iopub.status.busy": "2022-06-03T15:29:50.751008Z",
     "iopub.status.idle": "2022-06-03T15:48:09.460191Z",
     "shell.execute_reply": "2022-06-03T15:48:09.459670Z"
    },
    "scrolled": false
   },
   "outputs": [
    {
     "name": "stdout",
     "output_type": "stream",
     "text": [
      "Ite 00000 - 5.38 sec - Loss 0.060790 - ACC 60.35% - ACC Mean 60.35% - AUC 64.99% - AUC Mean 64.99% - Deter 000\n",
      "Ite 00050 - 0.96 sec - Loss 0.012178 - ACC 61.30% - ACC Mean 61.77% - AUC 65.96% - AUC Mean 66.51% - Deter 009\n",
      "Ite 00091 - 1.01 sec - Loss 0.007462 - ACC 62.85% - ACC Mean 61.76% - AUC 67.63% - AUC Mean 66.38% - Deter 050\n",
      "Early stop ite 91, rollback to correction of ite 41, whith acc of 64.15% and auc of 70.1%\n",
      "OUR METHOD RUN 1/10 - acc: 64.15% +- 0.0% - auc: 70.1% +- 0.0%\n",
      "Ite 00000 - 1.12 sec - Loss 0.143298 - ACC 60.85% - ACC Mean 60.85% - AUC 66.52% - AUC Mean 66.52% - Deter 000\n",
      "Ite 00050 - 1.02 sec - Loss 0.054434 - ACC 61.00% - ACC Mean 61.86% - AUC 65.43% - AUC Mean 66.78% - Deter 044\n",
      "Ite 00056 - 1.25 sec - Loss 0.051197 - ACC 61.10% - ACC Mean 61.78% - AUC 66.17% - AUC Mean 66.60% - Deter 050\n",
      "Early stop ite 56, rollback to correction of ite 6, whith acc of 63.55% and auc of 69.36%\n",
      "OUR METHOD RUN 2/10 - acc: 63.55% +- 0.0% - auc: 69.36% +- 0.0%\n",
      "Ite 00000 - 1.13 sec - Loss 0.082645 - ACC 61.20% - ACC Mean 61.20% - AUC 65.12% - AUC Mean 65.12% - Deter 000\n",
      "Ite 00050 - 1.10 sec - Loss 0.024270 - ACC 63.50% - ACC Mean 61.84% - AUC 68.57% - AUC Mean 66.58% - Deter 004\n",
      "Ite 00100 - 0.99 sec - Loss 0.014248 - ACC 61.10% - ACC Mean 61.89% - AUC 66.09% - AUC Mean 66.64% - Deter 046\n",
      "Ite 00104 - 1.09 sec - Loss 0.013786 - ACC 60.55% - ACC Mean 61.75% - AUC 65.23% - AUC Mean 66.48% - Deter 050\n",
      "Early stop ite 104, rollback to correction of ite 54, whith acc of 63.45% and auc of 68.76%\n",
      "OUR METHOD RUN 3/10 - acc: 63.45% +- 0.0% - auc: 68.76% +- 0.0%\n",
      "Ite 00000 - 1.05 sec - Loss 0.078699 - ACC 62.25% - ACC Mean 62.25% - AUC 66.97% - AUC Mean 66.97% - Deter 000\n",
      "Ite 00050 - 0.95 sec - Loss 0.020712 - ACC 61.00% - ACC Mean 61.92% - AUC 65.41% - AUC Mean 66.73% - Deter 029\n",
      "Ite 00071 - 1.07 sec - Loss 0.016263 - ACC 60.85% - ACC Mean 61.71% - AUC 66.79% - AUC Mean 66.60% - Deter 050\n",
      "Early stop ite 71, rollback to correction of ite 21, whith acc of 63.55% and auc of 69.25%\n",
      "OUR METHOD RUN 4/10 - acc: 63.55% +- 0.0% - auc: 69.25% +- 0.0%\n",
      "Ite 00000 - 0.98 sec - Loss 0.107047 - ACC 62.05% - ACC Mean 62.05% - AUC 66.49% - AUC Mean 66.49% - Deter 000\n",
      "Ite 00050 - 1.04 sec - Loss 0.041225 - ACC 62.50% - ACC Mean 61.86% - AUC 67.00% - AUC Mean 66.76% - Deter 046\n",
      "Ite 00054 - 0.97 sec - Loss 0.039415 - ACC 62.20% - ACC Mean 61.84% - AUC 67.26% - AUC Mean 66.74% - Deter 050\n",
      "Early stop ite 54, rollback to correction of ite 4, whith acc of 63.15% and auc of 68.45%\n",
      "OUR METHOD RUN 5/10 - acc: 63.15% +- 0.0% - auc: 68.45% +- 0.0%\n",
      "Ite 00000 - 1.03 sec - Loss 0.087185 - ACC 62.90% - ACC Mean 62.90% - AUC 67.29% - AUC Mean 67.29% - Deter 000\n",
      "Ite 00050 - 1.02 sec - Loss 0.021123 - ACC 62.80% - ACC Mean 61.96% - AUC 67.09% - AUC Mean 66.74% - Deter 039\n",
      "Ite 00061 - 0.94 sec - Loss 0.018327 - ACC 62.65% - ACC Mean 61.98% - AUC 67.29% - AUC Mean 66.75% - Deter 050\n",
      "Early stop ite 61, rollback to correction of ite 11, whith acc of 62.85% and auc of 68.69%\n",
      "OUR METHOD RUN 6/10 - acc: 62.85% +- 0.0% - auc: 68.69% +- 0.0%\n",
      "Ite 00000 - 0.93 sec - Loss 0.106015 - ACC 61.30% - ACC Mean 61.30% - AUC 65.31% - AUC Mean 65.31% - Deter 000\n",
      "Ite 00050 - 1.23 sec - Loss 0.035777 - ACC 60.25% - ACC Mean 62.05% - AUC 65.68% - AUC Mean 66.79% - Deter 040\n",
      "Ite 00060 - 1.02 sec - Loss 0.032244 - ACC 61.65% - ACC Mean 61.80% - AUC 66.91% - AUC Mean 66.54% - Deter 050\n",
      "Early stop ite 60, rollback to correction of ite 10, whith acc of 63.9% and auc of 69.3%\n",
      "OUR METHOD RUN 7/10 - acc: 63.9% +- 0.0% - auc: 69.3% +- 0.0%\n",
      "Ite 00000 - 0.99 sec - Loss 0.080440 - ACC 62.30% - ACC Mean 62.30% - AUC 67.00% - AUC Mean 67.00% - Deter 000\n",
      "Ite 00050 - 1.05 sec - Loss 0.019772 - ACC 62.85% - ACC Mean 62.09% - AUC 68.38% - AUC Mean 66.87% - Deter 021\n",
      "Ite 00100 - 1.04 sec - Loss 0.011227 - ACC 61.15% - ACC Mean 61.73% - AUC 66.17% - AUC Mean 66.57% - Deter 024\n",
      "Ite 00126 - 1.43 sec - Loss 0.009050 - ACC 60.25% - ACC Mean 61.74% - AUC 65.31% - AUC Mean 66.60% - Deter 050\n",
      "Early stop ite 126, rollback to correction of ite 76, whith acc of 63.55% and auc of 69.09%\n",
      "OUR METHOD RUN 8/10 - acc: 63.55% +- 0.0% - auc: 69.09% +- 0.0%\n",
      "Ite 00000 - 1.30 sec - Loss 0.088455 - ACC 61.30% - ACC Mean 61.30% - AUC 66.16% - AUC Mean 66.16% - Deter 000\n",
      "Ite 00050 - 1.56 sec - Loss 0.028242 - ACC 61.95% - ACC Mean 61.73% - AUC 67.08% - AUC Mean 66.66% - Deter 018\n",
      "Ite 00082 - 1.31 sec - Loss 0.020361 - ACC 62.15% - ACC Mean 61.80% - AUC 65.86% - AUC Mean 66.60% - Deter 050\n",
      "Early stop ite 82, rollback to correction of ite 32, whith acc of 63.35% and auc of 68.39%\n",
      "OUR METHOD RUN 9/10 - acc: 63.35% +- 0.0% - auc: 68.39% +- 0.0%\n",
      "Ite 00000 - 1.35 sec - Loss 0.069848 - ACC 62.90% - ACC Mean 62.90% - AUC 66.90% - AUC Mean 66.90% - Deter 000\n",
      "Ite 00050 - 1.33 sec - Loss 0.027227 - ACC 62.40% - ACC Mean 61.53% - AUC 67.21% - AUC Mean 66.36% - Deter 019\n",
      "Ite 00100 - 1.37 sec - Loss 0.017460 - ACC 61.40% - ACC Mean 61.48% - AUC 68.32% - AUC Mean 66.33% - Deter 017\n",
      "Ite 00150 - 1.53 sec - Loss 0.012239 - ACC 61.85% - ACC Mean 62.22% - AUC 66.72% - AUC Mean 67.37% - Deter 001\n",
      "Ite 00200 - 1.57 sec - Loss 0.008862 - ACC 63.60% - ACC Mean 62.40% - AUC 68.09% - AUC Mean 67.59% - Deter 044\n",
      "Ite 00206 - 1.50 sec - Loss 0.008561 - ACC 62.45% - ACC Mean 62.31% - AUC 67.82% - AUC Mean 67.51% - Deter 050\n",
      "Early stop ite 206, rollback to correction of ite 156, whith acc of 64.25% and auc of 70.01%\n",
      "OUR METHOD RUN 10/10 - acc: 64.25% +- 0.0% - auc: 70.01% +- 0.0%\n",
      "\n",
      "OUR METHOD GLOBAL - acc: 63.58% +- 0.41% - auc: 69.14% +- 0.56%\n"
     ]
    }
   ],
   "source": [
    "params = {\n",
    "    'nb_batches': 10,\n",
    "    'reg_noise_std': .03,\n",
    "    'net_input': 'data_corrupted',\n",
    "    'net_params': {\n",
    "        'input_channels':1,\n",
    "        'output_channels':1,\n",
    "        'channels_skip':4,\n",
    "        'down_layers':[(24, 7, 1),\n",
    "                       (46, 9, 5),\n",
    "                       (96, 11, 1),\n",
    "                       (96, 13, 1)],\n",
    "        'need_sigmoid':True,\n",
    "        'need_bias':True,\n",
    "        'pad':'zero',\n",
    "        'downsample_mode':'stride',\n",
    "        'upsample_mode':'nearest',\n",
    "        'act_fun':'LeakyReLU',\n",
    "        'need1x1_up':True\n",
    "    },# or a list containing layers sizes\n",
    "    'adam_lr': .0001,\n",
    "    'adam_weight_decay': 0.,\n",
    "}\n",
    "\n",
    "ours_accs, ours_aucs = [], []\n",
    "for i in range(n_runs):\n",
    "    ours_correction = correction.run(data_missing, 501, params, y=y, missing_mask=missing_mask, seed=i)\n",
    "    ## Since our method returns 2 imputations select the best one\n",
    "    scores_raw = utils.get_scores(ours_correction['raw_out'], y)\n",
    "    acc = scores_raw['test_balanced_accuracy']\n",
    "    auc = scores_raw['test_roc_auc_ovo']\n",
    "    acc = acc.mean()\n",
    "    acc_std = acc.std()\n",
    "    auc = auc.mean()\n",
    "    auc_std = auc.std()\n",
    "    if 'masked_out' in ours_correction:\n",
    "        scores_masked = utils.get_scores(ours_correction['masked_out'], y)\n",
    "        acc_masked = scores_masked['test_balanced_accuracy']\n",
    "        auc_masked = scores_masked['test_roc_auc_ovo']\n",
    "        if auc_masked.mean() > auc:\n",
    "            acc = acc_masked.mean()\n",
    "            acc_std = acc_masked.std()\n",
    "            auc = auc_masked.mean()\n",
    "            auc_std = auc_masked.std()\n",
    "    print(f'OUR METHOD RUN {i + 1}/{n_runs} - acc: {round(acc.mean() * 100, 2)}% +- {round(acc.std() * 100, 2)}% - ' +\n",
    "          f'auc: {round(auc.mean() * 100, 2)}% +- {round(auc.std() * 100, 2)}%')\n",
    "    ours_accs.append(acc.mean())\n",
    "    ours_aucs.append(auc.mean())\n",
    "print(f'\\nOUR METHOD GLOBAL - acc: {round(np.array(ours_accs).mean() * 100, 2)}% +- {round(np.array(ours_accs).std() * 100, 2)}% - ' +\n",
    "      f'auc: {round(np.array(ours_aucs).mean() * 100, 2)}% +- {round(np.array(ours_aucs).std() * 100, 2)}%')"
   ]
  },
  {
   "cell_type": "markdown",
   "metadata": {},
   "source": [
    "## Run Median, Mean and KNN"
   ]
  },
  {
   "cell_type": "code",
   "execution_count": 5,
   "metadata": {
    "ExecuteTime": {
     "end_time": "2022-06-03T07:56:26.974392Z",
     "start_time": "2022-06-03T07:56:24.492926Z"
    },
    "execution": {
     "iopub.execute_input": "2022-06-03T15:48:09.476303Z",
     "iopub.status.busy": "2022-06-03T15:48:09.475805Z",
     "iopub.status.idle": "2022-06-03T15:48:13.318751Z",
     "shell.execute_reply": "2022-06-03T15:48:13.317616Z"
    }
   },
   "outputs": [
    {
     "name": "stdout",
     "output_type": "stream",
     "text": [
      "MEDIAN - acc: 62.1% +- 0.0% - auc: 66.19% +- 0.0%\n",
      "MEAN - acc: 62.15% +- 0.0% - auc: 66.36% +- 0.0%\n",
      "KNN - acc: 60.9% +- 0.0% - auc: 65.03% +- 0.0%\n"
     ]
    }
   ],
   "source": [
    "data_missing_nans = np.where(missing_mask, data_missing, np.nan)\n",
    "\n",
    "median_imputer = SimpleImputer(missing_values=np.nan, strategy='median')\n",
    "mean_imputer = SimpleImputer(missing_values=np.nan, strategy='mean')\n",
    "knn_imputer = KNNImputer(n_neighbors=10, weights='uniform')\n",
    "\n",
    "median_completed = median_imputer.fit_transform(data_missing_nans)\n",
    "mean_completed = mean_imputer.fit_transform(data_missing_nans)\n",
    "knn_completed = knn_imputer.fit_transform(data_missing_nans)\n",
    "\n",
    "## All runs would be the same since deterministic methods\n",
    "scores = utils.get_scores(median_completed, y)\n",
    "acc = [scores['test_balanced_accuracy'].mean()] * n_runs\n",
    "auc = [scores['test_roc_auc_ovo'].mean()] * n_runs\n",
    "print(f'MEDIAN - acc: {round(np.mean(acc) * 100, 2)}% +- {round(np.std(acc) * 100, 2)}% - ' +\n",
    "      f'auc: {round(np.mean(auc) * 100, 2)}% +- {round(np.std(auc) * 100, 2)}%')\n",
    "median_accs = acc\n",
    "median_aucs = auc\n",
    "\n",
    "scores = utils.get_scores(mean_completed, y)\n",
    "acc = [scores['test_balanced_accuracy'].mean()] * n_runs\n",
    "auc = [scores['test_roc_auc_ovo'].mean()] * n_runs\n",
    "print(f'MEAN - acc: {round(np.mean(acc) * 100, 2)}% +- {round(np.std(acc) * 100, 2)}% - ' +\n",
    "      f'auc: {round(np.mean(auc) * 100, 2)}% +- {round(np.std(auc) * 100, 2)}%')\n",
    "mean_accs = acc\n",
    "mean_aucs = auc\n",
    "\n",
    "scores = utils.get_scores(knn_completed, y)\n",
    "acc = [scores['test_balanced_accuracy'].mean()] * n_runs\n",
    "auc = [scores['test_roc_auc_ovo'].mean()] * n_runs\n",
    "print(f'KNN - acc: {round(np.mean(acc) * 100, 2)}% +- {round(np.std(acc) * 100, 2)}% - ' +\n",
    "      f'auc: {round(np.mean(auc) * 100, 2)}% +- {round(np.std(auc) * 100, 2)}%')\n",
    "knn_accs = acc\n",
    "knn_aucs = auc"
   ]
  },
  {
   "cell_type": "markdown",
   "metadata": {},
   "source": [
    "## Run GAIN"
   ]
  },
  {
   "cell_type": "code",
   "execution_count": 6,
   "metadata": {
    "ExecuteTime": {
     "end_time": "2022-06-03T07:57:05.045589Z",
     "start_time": "2022-06-03T07:56:26.976166Z"
    },
    "execution": {
     "iopub.execute_input": "2022-06-03T15:48:13.327376Z",
     "iopub.status.busy": "2022-06-03T15:48:13.325424Z",
     "iopub.status.idle": "2022-06-03T15:58:34.562946Z",
     "shell.execute_reply": "2022-06-03T15:58:34.563382Z"
    },
    "scrolled": false
   },
   "outputs": [
    {
     "name": "stderr",
     "output_type": "stream",
     "text": [
      "100%|██████████| 5000/5000 [00:55<00:00, 89.67it/s]\n"
     ]
    },
    {
     "name": "stdout",
     "output_type": "stream",
     "text": [
      "\n",
      "GAIN RUN 1/10 - acc: 60.7% +- 2.31% - auc: 64.76% +- 3.52%\n",
      "\n"
     ]
    },
    {
     "name": "stderr",
     "output_type": "stream",
     "text": [
      "100%|██████████| 5000/5000 [00:48<00:00, 102.96it/s]\n"
     ]
    },
    {
     "name": "stdout",
     "output_type": "stream",
     "text": [
      "\n",
      "GAIN RUN 2/10 - acc: 62.9% +- 2.71% - auc: 67.6% +- 2.16%\n",
      "\n"
     ]
    },
    {
     "name": "stderr",
     "output_type": "stream",
     "text": [
      "100%|██████████| 5000/5000 [00:55<00:00, 90.31it/s] \n"
     ]
    },
    {
     "name": "stdout",
     "output_type": "stream",
     "text": [
      "\n",
      "GAIN RUN 3/10 - acc: 61.6% +- 2.01% - auc: 65.97% +- 2.13%\n",
      "\n"
     ]
    },
    {
     "name": "stderr",
     "output_type": "stream",
     "text": [
      "100%|██████████| 5000/5000 [00:50<00:00, 99.87it/s] \n"
     ]
    },
    {
     "name": "stdout",
     "output_type": "stream",
     "text": [
      "\n",
      "GAIN RUN 4/10 - acc: 62.8% +- 2.03% - auc: 67.76% +- 2.86%\n",
      "\n"
     ]
    },
    {
     "name": "stderr",
     "output_type": "stream",
     "text": [
      "100%|██████████| 5000/5000 [00:55<00:00, 89.37it/s]\n"
     ]
    },
    {
     "name": "stdout",
     "output_type": "stream",
     "text": [
      "\n",
      "GAIN RUN 5/10 - acc: 61.5% +- 1.38% - auc: 66.73% +- 0.89%\n",
      "\n"
     ]
    },
    {
     "name": "stderr",
     "output_type": "stream",
     "text": [
      "100%|██████████| 5000/5000 [00:54<00:00, 92.25it/s]\n"
     ]
    },
    {
     "name": "stdout",
     "output_type": "stream",
     "text": [
      "\n",
      "GAIN RUN 6/10 - acc: 63.4% +- 2.24% - auc: 68.38% +- 2.51%\n",
      "\n"
     ]
    },
    {
     "name": "stderr",
     "output_type": "stream",
     "text": [
      "100%|██████████| 5000/5000 [00:58<00:00, 85.04it/s]\n"
     ]
    },
    {
     "name": "stdout",
     "output_type": "stream",
     "text": [
      "\n",
      "GAIN RUN 7/10 - acc: 62.25% +- 2.72% - auc: 66.99% +- 3.15%\n",
      "\n"
     ]
    },
    {
     "name": "stderr",
     "output_type": "stream",
     "text": [
      "100%|██████████| 5000/5000 [00:56<00:00, 88.97it/s]\n"
     ]
    },
    {
     "name": "stdout",
     "output_type": "stream",
     "text": [
      "\n",
      "GAIN RUN 8/10 - acc: 59.7% +- 3.4% - auc: 64.62% +- 3.22%\n",
      "\n"
     ]
    },
    {
     "name": "stderr",
     "output_type": "stream",
     "text": [
      "100%|██████████| 5000/5000 [01:04<00:00, 77.24it/s]\n"
     ]
    },
    {
     "name": "stdout",
     "output_type": "stream",
     "text": [
      "\n",
      "GAIN RUN 9/10 - acc: 62.4% +- 2.4% - auc: 68.04% +- 2.83%\n",
      "\n"
     ]
    },
    {
     "name": "stderr",
     "output_type": "stream",
     "text": [
      "100%|██████████| 5000/5000 [00:55<00:00, 90.79it/s] \n"
     ]
    },
    {
     "name": "stdout",
     "output_type": "stream",
     "text": [
      "\n",
      "GAIN RUN 10/10 - acc: 62.45% +- 2.75% - auc: 66.95% +- 2.81%\n",
      "\n",
      "GAIN GLOBAL - acc: 61.97% +- 1.06% - auc: 66.78% +- 1.23%\n"
     ]
    }
   ],
   "source": [
    "gain_parameters = {'batch_size': 128,\n",
    "                   'hint_rate': .9,\n",
    "                   'alpha': 100,\n",
    "                   'iterations': 5000}\n",
    "\n",
    "gain_accs, gain_aucs = [], []\n",
    "for i in range(n_runs):\n",
    "    random.seed(i)\n",
    "    np.random.seed(i)\n",
    "    torch.manual_seed(i)\n",
    "    imputed = gain(data_missing_nans, gain_parameters)\n",
    "    scores = utils.get_scores(imputed, y)\n",
    "    acc = scores['test_balanced_accuracy']\n",
    "    auc = scores['test_roc_auc_ovo']\n",
    "    print(f'\\nGAIN RUN {i + 1}/{n_runs} - acc: {round(acc.mean() * 100, 2)}% +- {round(acc.std() * 100, 2)}% - ' +\n",
    "          f'auc: {round(auc.mean() * 100, 2)}% +- {round(auc.std() * 100, 2)}%\\n')\n",
    "    gain_accs.append(acc.mean())\n",
    "    gain_aucs.append(auc.mean())\n",
    "print(f'GAIN GLOBAL - acc: {round(np.array(gain_accs).mean() * 100, 2)}% +- {round(np.array(gain_accs).std() * 100, 2)}% - ' +\n",
    "      f'auc: {round(np.array(gain_aucs).mean() * 100, 2)}% +- {round(np.array(gain_aucs).std() * 100, 2)}%')"
   ]
  },
  {
   "cell_type": "markdown",
   "metadata": {},
   "source": [
    "## Run MICE"
   ]
  },
  {
   "cell_type": "code",
   "execution_count": 7,
   "metadata": {
    "ExecuteTime": {
     "end_time": "2022-06-03T08:05:36.625097Z",
     "start_time": "2022-06-03T07:57:05.047941Z"
    },
    "execution": {
     "iopub.execute_input": "2022-06-03T15:58:34.572769Z",
     "iopub.status.busy": "2022-06-03T15:58:34.566567Z",
     "iopub.status.idle": "2022-06-03T16:24:46.702878Z",
     "shell.execute_reply": "2022-06-03T16:24:46.703288Z"
    }
   },
   "outputs": [
    {
     "name": "stdout",
     "output_type": "stream",
     "text": [
      "MICE - acc: 60.85% +- 0.0% - auc: 65.3% +- 0.0%\n"
     ]
    }
   ],
   "source": [
    "imputer = IterativeImputer()\n",
    "imputed = imputer.fit_transform(data_missing_nans)\n",
    "## All runs would be the same since deterministic method\n",
    "scores = utils.get_scores(imputed, y)\n",
    "acc = [scores['test_balanced_accuracy'].mean()] * n_runs\n",
    "auc = [scores['test_roc_auc_ovo'].mean()] * n_runs\n",
    "print(f'MICE - acc: {round(np.mean(acc) * 100, 2)}% +- {round(np.std(acc) * 100, 2)}% - ' +\n",
    "      f'auc: {round(np.mean(auc) * 100, 2)}% +- {round(np.std(auc) * 100, 2)}%')\n",
    "mice_accs = acc\n",
    "mice_aucs = auc"
   ]
  },
  {
   "cell_type": "markdown",
   "metadata": {},
   "source": [
    "## Run MISSFOREST"
   ]
  },
  {
   "cell_type": "code",
   "execution_count": 8,
   "metadata": {
    "ExecuteTime": {
     "end_time": "2022-06-03T08:13:22.668185Z",
     "start_time": "2022-06-03T08:05:36.627849Z"
    },
    "execution": {
     "iopub.execute_input": "2022-06-03T16:24:46.732132Z",
     "iopub.status.busy": "2022-06-03T16:24:46.731606Z",
     "iopub.status.idle": "2022-06-03T18:40:55.785422Z",
     "shell.execute_reply": "2022-06-03T18:40:55.785798Z"
    },
    "scrolled": false
   },
   "outputs": [
    {
     "name": "stdout",
     "output_type": "stream",
     "text": [
      "Iteration: 0\n",
      "Iteration: 1\n",
      "\n",
      "MISSFOREST RUN 1/10 - acc: 59.75% +- 2.64% - auc: 64.14% +- 2.01%\n",
      "\n",
      "Iteration: 0\n",
      "Iteration: 1\n",
      "Iteration: 2\n",
      "Iteration: 3\n",
      "Iteration: 4\n",
      "Iteration: 5\n",
      "Iteration: 6\n",
      "Iteration: 7\n",
      "Iteration: 8\n",
      "\n",
      "MISSFOREST RUN 2/10 - acc: 59.95% +- 3.32% - auc: 64.42% +- 3.24%\n",
      "\n",
      "Iteration: 0\n",
      "Iteration: 1\n",
      "Iteration: 2\n",
      "\n",
      "MISSFOREST RUN 3/10 - acc: 60.75% +- 1.9% - auc: 65.68% +- 2.52%\n",
      "\n",
      "Iteration: 0\n",
      "Iteration: 1\n",
      "\n",
      "MISSFOREST RUN 4/10 - acc: 58.95% +- 3.06% - auc: 63.35% +- 1.91%\n",
      "\n",
      "Iteration: 0\n",
      "Iteration: 1\n",
      "Iteration: 2\n",
      "Iteration: 3\n",
      "Iteration: 4\n",
      "Iteration: 5\n",
      "Iteration: 6\n",
      "\n",
      "MISSFOREST RUN 5/10 - acc: 60.7% +- 1.71% - auc: 64.25% +- 2.02%\n",
      "\n",
      "Iteration: 0\n",
      "Iteration: 1\n",
      "Iteration: 2\n",
      "Iteration: 3\n",
      "Iteration: 4\n",
      "\n",
      "MISSFOREST RUN 6/10 - acc: 60.3% +- 1.78% - auc: 65.24% +- 2.47%\n",
      "\n",
      "Iteration: 0\n",
      "Iteration: 1\n",
      "Iteration: 2\n",
      "\n",
      "MISSFOREST RUN 7/10 - acc: 59.95% +- 1.86% - auc: 64.85% +- 2.22%\n",
      "\n",
      "Iteration: 0\n",
      "Iteration: 1\n",
      "Iteration: 2\n",
      "\n",
      "MISSFOREST RUN 8/10 - acc: 63.5% +- 2.59% - auc: 68.01% +- 2.46%\n",
      "\n",
      "Iteration: 0\n",
      "Iteration: 1\n",
      "Iteration: 2\n",
      "Iteration: 3\n",
      "\n",
      "MISSFOREST RUN 9/10 - acc: 59.0% +- 1.45% - auc: 63.9% +- 1.62%\n",
      "\n",
      "Iteration: 0\n",
      "Iteration: 1\n",
      "Iteration: 2\n",
      "\n",
      "MISSFOREST RUN 10/10 - acc: 61.6% +- 3.56% - auc: 65.88% +- 4.01%\n",
      "\n",
      "\n",
      "MISSFOREST GLOBAL - acc: 60.44% +- 1.27% - auc: 64.97% +- 1.26%\n"
     ]
    }
   ],
   "source": [
    "miss_accs, miss_aucs = [], []\n",
    "for i in range(n_runs):\n",
    "    random.seed(i)\n",
    "    np.random.seed(i)\n",
    "    torch.manual_seed(i)\n",
    "    imputer = MissForest(n_jobs=-1, random_state=i)\n",
    "    imputed = imputer.fit_transform(data_missing_nans)\n",
    "    scores = utils.get_scores(imputed, y)\n",
    "    acc = scores['test_balanced_accuracy']\n",
    "    auc = scores['test_roc_auc_ovo']\n",
    "    print(f'\\nMISSFOREST RUN {i + 1}/{n_runs} - acc: {round(acc.mean() * 100, 2)}% +- {round(acc.std() * 100, 2)}% - ' +\n",
    "          f'auc: {round(auc.mean() * 100, 2)}% +- {round(auc.std() * 100, 2)}%\\n')\n",
    "    miss_accs.append(acc.mean())\n",
    "    miss_aucs.append(auc.mean())\n",
    "print(f'\\nMISSFOREST GLOBAL - acc: {round(np.array(miss_accs).mean() * 100, 2)}% +- {round(np.array(miss_accs).std() * 100, 2)}% - ' +\n",
    "      f'auc: {round(np.array(miss_aucs).mean() * 100, 2)}% +- {round(np.array(miss_aucs).std() * 100, 2)}%')"
   ]
  },
  {
   "cell_type": "markdown",
   "metadata": {},
   "source": [
    "## Run SOFTIMPUTE"
   ]
  },
  {
   "cell_type": "code",
   "execution_count": 9,
   "metadata": {
    "ExecuteTime": {
     "end_time": "2022-06-03T08:13:24.127459Z",
     "start_time": "2022-06-03T08:13:22.670807Z"
    },
    "execution": {
     "iopub.execute_input": "2022-06-03T18:40:55.792920Z",
     "iopub.status.busy": "2022-06-03T18:40:55.791448Z",
     "iopub.status.idle": "2022-06-03T18:41:10.745574Z",
     "shell.execute_reply": "2022-06-03T18:41:10.745964Z"
    }
   },
   "outputs": [
    {
     "name": "stdout",
     "output_type": "stream",
     "text": [
      "SOFTIMPUTE RUN 1/10 - acc: 61.9% +- 1.93% - auc: 65.69% +- 1.94%\n",
      "SOFTIMPUTE RUN 2/10 - acc: 61.6% +- 1.39% - auc: 66.91% +- 1.58%\n",
      "SOFTIMPUTE RUN 3/10 - acc: 59.85% +- 1.31% - auc: 64.03% +- 1.93%\n",
      "SOFTIMPUTE RUN 4/10 - acc: 62.2% +- 1.51% - auc: 67.34% +- 2.36%\n",
      "SOFTIMPUTE RUN 5/10 - acc: 61.9% +- 1.53% - auc: 65.77% +- 1.95%\n",
      "SOFTIMPUTE RUN 6/10 - acc: 60.8% +- 2.13% - auc: 66.28% +- 3.35%\n",
      "SOFTIMPUTE RUN 7/10 - acc: 61.15% +- 1.93% - auc: 66.38% +- 2.59%\n",
      "SOFTIMPUTE RUN 8/10 - acc: 59.85% +- 3.87% - auc: 63.76% +- 4.27%\n",
      "SOFTIMPUTE RUN 9/10 - acc: 62.15% +- 2.34% - auc: 66.44% +- 3.65%\n",
      "SOFTIMPUTE RUN 10/10 - acc: 59.95% +- 2.41% - auc: 64.52% +- 2.39%\n",
      "\n",
      "SOFTIMPUTE GLOBAL - acc: 61.14% +- 0.91% - auc: 65.71% +- 1.16%\n"
     ]
    }
   ],
   "source": [
    "soft_accs, soft_aucs = [], []\n",
    "for i in range(n_runs):\n",
    "    random.seed(i)\n",
    "    np.random.seed(i)\n",
    "    torch.manual_seed(i)\n",
    "    imputer = SoftImpute(random_state=i)\n",
    "    imputer.fit(data_missing_nans)\n",
    "    imputed = imputer.predict(data_missing_nans)\n",
    "    imputed = np.where(missing_mask, data_missing, imputed)\n",
    "    scores = utils.get_scores(imputed, y)\n",
    "    acc = scores['test_balanced_accuracy']\n",
    "    auc = scores['test_roc_auc_ovo']\n",
    "    print(f'SOFTIMPUTE RUN {i + 1}/{n_runs} - acc: {round(acc.mean() * 100, 2)}% +- {round(acc.std() * 100, 2)}% - ' +\n",
    "          f'auc: {round(auc.mean() * 100, 2)}% +- {round(auc.std() * 100, 2)}%')\n",
    "    soft_accs.append(acc.mean())\n",
    "    soft_aucs.append(auc.mean())\n",
    "print(f'\\nSOFTIMPUTE GLOBAL - acc: {round(np.array(soft_accs).mean() * 100, 2)}% +- {round(np.array(soft_accs).std() * 100, 2)}% - ' +\n",
    "      f'auc: {round(np.array(soft_aucs).mean() * 100, 2)}% +- {round(np.array(soft_aucs).std() * 100, 2)}%')"
   ]
  },
  {
   "cell_type": "markdown",
   "metadata": {},
   "source": [
    "## Run SINKHORN"
   ]
  },
  {
   "cell_type": "code",
   "execution_count": 10,
   "metadata": {
    "execution": {
     "iopub.execute_input": "2022-06-03T18:41:10.755671Z",
     "iopub.status.busy": "2022-06-03T18:41:10.755031Z",
     "iopub.status.idle": "2022-06-03T18:49:22.729591Z",
     "shell.execute_reply": "2022-06-03T18:49:22.729109Z"
    }
   },
   "outputs": [
    {
     "name": "stdout",
     "output_type": "stream",
     "text": [
      "batchsize = 128, epsilon = 0.0100\n",
      "Iteration 0:\t Loss: 1.7492\n",
      "\n",
      "SINKHORN RUN 1/10 - acc: 61.95% +- 1.18% - auc: 65.84% +- 1.36%\n",
      "\n",
      "batchsize = 128, epsilon = 0.0100\n",
      "Iteration 0:\t Loss: 1.7467\n",
      "\n",
      "SINKHORN RUN 2/10 - acc: 61.0% +- 0.99% - auc: 65.99% +- 1.83%\n",
      "\n",
      "batchsize = 128, epsilon = 0.0100\n",
      "Iteration 0:\t Loss: 1.7484\n",
      "\n",
      "SINKHORN RUN 3/10 - acc: 62.9% +- 2.15% - auc: 66.58% +- 1.85%\n",
      "\n",
      "batchsize = 128, epsilon = 0.0100\n",
      "Iteration 0:\t Loss: 1.8440\n",
      "\n",
      "SINKHORN RUN 4/10 - acc: 60.0% +- 3.03% - auc: 63.11% +- 2.82%\n",
      "\n",
      "batchsize = 128, epsilon = 0.0100\n",
      "Iteration 0:\t Loss: 1.7542\n",
      "\n",
      "SINKHORN RUN 5/10 - acc: 61.6% +- 3.33% - auc: 65.14% +- 4.19%\n",
      "\n",
      "batchsize = 128, epsilon = 0.0100\n",
      "Iteration 0:\t Loss: 1.7368\n",
      "\n",
      "SINKHORN RUN 6/10 - acc: 61.7% +- 3.47% - auc: 65.12% +- 4.16%\n",
      "\n",
      "batchsize = 128, epsilon = 0.0100\n",
      "Iteration 0:\t Loss: 1.7326\n",
      "\n",
      "SINKHORN RUN 7/10 - acc: 60.15% +- 2.22% - auc: 65.08% +- 2.19%\n",
      "\n",
      "batchsize = 128, epsilon = 0.0100\n",
      "Iteration 0:\t Loss: 1.7726\n",
      "\n",
      "SINKHORN RUN 8/10 - acc: 60.7% +- 3.01% - auc: 65.03% +- 3.47%\n",
      "\n",
      "batchsize = 128, epsilon = 0.0100\n",
      "Iteration 0:\t Loss: 1.7256\n",
      "\n",
      "SINKHORN RUN 9/10 - acc: 59.5% +- 3.62% - auc: 63.44% +- 4.62%\n",
      "\n",
      "batchsize = 128, epsilon = 0.0100\n",
      "Iteration 0:\t Loss: 1.8377\n",
      "\n",
      "SINKHORN RUN 10/10 - acc: 61.7% +- 1.32% - auc: 66.36% +- 1.91%\n",
      "\n",
      "\n",
      "SINKHORN GLOBAL - acc: 61.12% +- 0.99% - auc: 65.17% +- 1.09%\n"
     ]
    }
   ],
   "source": [
    "sink_accs, sink_aucs = [], []\n",
    "for i in range(n_runs):\n",
    "    random.seed(i)\n",
    "    np.random.seed(i)\n",
    "    torch.manual_seed(i)\n",
    "    imputer = OTimputer(niter=500)\n",
    "    imputed = imputer.fit_transform(data_missing_nans).cpu().detach().numpy()\n",
    "    scores = utils.get_scores(imputed, y)\n",
    "    acc = scores['test_balanced_accuracy']\n",
    "    auc = scores['test_roc_auc_ovo']\n",
    "    print(f'\\nSINKHORN RUN {i + 1}/{n_runs} - acc: {round(acc.mean() * 100, 2)}% +- {round(acc.std() * 100, 2)}% - ' +\n",
    "          f'auc: {round(auc.mean() * 100, 2)}% +- {round(auc.std() * 100, 2)}%\\n')\n",
    "    sink_accs.append(acc.mean())\n",
    "    sink_aucs.append(auc.mean())\n",
    "print(f'\\nSINKHORN GLOBAL - acc: {round(np.array(sink_accs).mean() * 100, 2)}% +- {round(np.array(sink_accs).std() * 100, 2)}% - ' +\n",
    "      f'auc: {round(np.array(sink_aucs).mean() * 100, 2)}% +- {round(np.array(sink_aucs).std() * 100, 2)}%')"
   ]
  },
  {
   "cell_type": "markdown",
   "metadata": {},
   "source": [
    "## Run MIDA"
   ]
  },
  {
   "cell_type": "code",
   "execution_count": 11,
   "metadata": {
    "execution": {
     "iopub.execute_input": "2022-06-03T18:49:22.738347Z",
     "iopub.status.busy": "2022-06-03T18:49:22.732533Z",
     "iopub.status.idle": "2022-06-03T18:53:05.098724Z",
     "shell.execute_reply": "2022-06-03T18:53:05.099067Z"
    }
   },
   "outputs": [
    {
     "name": "stdout",
     "output_type": "stream",
     "text": [
      "Stop training at epoch: 1500/1500, return best output\n",
      "\n",
      "MIDA RUN 1/10 - acc: 62.05% +- 2.35% - auc: 67.16% +- 2.18%\n",
      "\n",
      "Stop training at epoch: 1500/1500, return best output\n",
      "\n",
      "MIDA RUN 2/10 - acc: 59.95% +- 2.17% - auc: 63.99% +- 3.09%\n",
      "\n",
      "Stop training at epoch: 1500/1500, return best output\n",
      "\n",
      "MIDA RUN 3/10 - acc: 60.6% +- 1.83% - auc: 64.86% +- 3.34%\n",
      "\n",
      "Stop training at epoch: 1500/1500, return best output\n",
      "\n",
      "MIDA RUN 4/10 - acc: 61.05% +- 2.42% - auc: 65.67% +- 2.8%\n",
      "\n",
      "Stop training at epoch: 1500/1500, return best output\n",
      "\n",
      "MIDA RUN 5/10 - acc: 60.6% +- 1.46% - auc: 65.3% +- 2.94%\n",
      "\n",
      "Stop training at epoch: 1500/1500, return best output\n",
      "\n",
      "MIDA RUN 6/10 - acc: 61.75% +- 2.01% - auc: 66.58% +- 2.14%\n",
      "\n",
      "Stop training at epoch: 1500/1500, return best output\n",
      "\n",
      "MIDA RUN 7/10 - acc: 61.8% +- 2.15% - auc: 66.41% +- 1.96%\n",
      "\n",
      "Stop training at epoch: 1500/1500, return best output\n",
      "\n",
      "MIDA RUN 8/10 - acc: 59.9% +- 2.44% - auc: 64.54% +- 2.66%\n",
      "\n",
      "Stop training at epoch: 1500/1500, return best output\n",
      "\n",
      "MIDA RUN 9/10 - acc: 61.25% +- 3.85% - auc: 66.71% +- 4.27%\n",
      "\n",
      "Stop training at epoch: 1500/1500, return best output\n",
      "\n",
      "MIDA RUN 10/10 - acc: 61.2% +- 2.31% - auc: 65.86% +- 3.7%\n",
      "\n",
      "\n",
      "MIDA GLOBAL - acc: 61.02% +- 0.71% - auc: 65.71% +- 0.98%\n"
     ]
    }
   ],
   "source": [
    "mida_accs, mida_aucs = [], []\n",
    "for i in range(n_runs):\n",
    "    random.seed(i)\n",
    "    np.random.seed(i)\n",
    "    torch.manual_seed(i)\n",
    "    imputed = mida(data_missing_nans, num_layers=2, num_epochs=1500)\n",
    "    imputed = np.where(missing_mask, data_missing, imputed)\n",
    "    scores = utils.get_scores(imputed, y)\n",
    "    acc = scores['test_balanced_accuracy']\n",
    "    auc = scores['test_roc_auc_ovo']\n",
    "    print(f'\\nMIDA RUN {i + 1}/{n_runs} - acc: {round(acc.mean() * 100, 2)}% +- {round(acc.std() * 100, 2)}% - ' +\n",
    "          f'auc: {round(auc.mean() * 100, 2)}% +- {round(auc.std() * 100, 2)}%\\n')\n",
    "    mida_accs.append(acc.mean())\n",
    "    mida_aucs.append(auc.mean())\n",
    "print(f'\\nMIDA GLOBAL - acc: {round(np.array(mida_accs).mean() * 100, 2)}% +- {round(np.array(mida_accs).std() * 100, 2)}% - ' +\n",
    "      f'auc: {round(np.array(mida_aucs).mean() * 100, 2)}% +- {round(np.array(mida_aucs).std() * 100, 2)}%')"
   ]
  },
  {
   "cell_type": "markdown",
   "metadata": {},
   "source": [
    "## Run T-tests"
   ]
  },
  {
   "cell_type": "code",
   "execution_count": 12,
   "metadata": {
    "ExecuteTime": {
     "end_time": "2022-06-03T08:13:24.155174Z",
     "start_time": "2022-06-03T08:13:24.143959Z"
    },
    "execution": {
     "iopub.execute_input": "2022-06-03T18:53:05.114372Z",
     "iopub.status.busy": "2022-06-03T18:53:05.113951Z",
     "iopub.status.idle": "2022-06-03T18:53:05.128096Z",
     "shell.execute_reply": "2022-06-03T18:53:05.127681Z"
    }
   },
   "outputs": [
    {
     "name": "stdout",
     "output_type": "stream",
     "text": [
      "Metric ACC - OUR METHOD is significantly better than MEDIAN\n",
      "Metric AUC - OUR METHOD is significantly better than MEDIAN\n",
      "Metric ACC - OUR METHOD is significantly better than MEAN\n",
      "Metric AUC - OUR METHOD is significantly better than MEAN\n",
      "Metric ACC - OUR METHOD is significantly better than KNN\n",
      "Metric AUC - OUR METHOD is significantly better than KNN\n",
      "Metric ACC - OUR METHOD is significantly better than GAIN\n",
      "Metric AUC - OUR METHOD is significantly better than GAIN\n",
      "Metric ACC - OUR METHOD is significantly better than MICE\n",
      "Metric AUC - OUR METHOD is significantly better than MICE\n",
      "Metric ACC - OUR METHOD is significantly better than MISS\n",
      "Metric AUC - OUR METHOD is significantly better than MISS\n",
      "Metric ACC - OUR METHOD is significantly better than SOFT\n",
      "Metric AUC - OUR METHOD is significantly better than SOFT\n",
      "Metric ACC - OUR METHOD is significantly better than SINK\n",
      "Metric AUC - OUR METHOD is significantly better than SINK\n",
      "Metric ACC - OUR METHOD is significantly better than MIDA\n",
      "Metric AUC - OUR METHOD is significantly better than MIDA\n"
     ]
    }
   ],
   "source": [
    "for model, metrics in {\n",
    "        'MEDIAN': {'ACC': median_accs, 'AUC': median_aucs},\n",
    "        'MEAN': {'ACC': mean_accs, 'AUC': mean_aucs},\n",
    "        'KNN': {'ACC': knn_accs, 'AUC': knn_aucs},\n",
    "        'GAIN': {'ACC': gain_accs, 'AUC': gain_aucs},\n",
    "        'MICE': {'ACC': mice_accs, 'AUC': mice_aucs},\n",
    "        'MISS': {'ACC': miss_accs, 'AUC': miss_aucs},\n",
    "        'SOFT': {'ACC': soft_accs, 'AUC': soft_aucs},\n",
    "        'SINK': {'ACC': sink_accs, 'AUC': sink_aucs},\n",
    "        'MIDA': {'ACC': mida_accs, 'AUC': mida_aucs}}.items():\n",
    "    for metric_name, metric in metrics.items():\n",
    "        ours_metric = ours_accs if metric_name == 'ACC' else ours_aucs\n",
    "        t, p = scipy.stats.ttest_ind(np.array(ours_metric), np.array(metric))\n",
    "        if p <= .05:\n",
    "            if t > 0:\n",
    "                ## Our method is better\n",
    "                print(f'Metric {metric_name} - OUR METHOD is significantly better than {model}')\n",
    "            else:\n",
    "                ## Theirs is better\n",
    "                print(f'Metric {metric_name} - OUR METHOD is significantly worse than {model}')\n",
    "        else:\n",
    "            ## Else we are even\n",
    "            print(f'Metric {metric_name} - OUR METHOD is even with {model}')"
   ]
  }
 ],
 "metadata": {
  "kernelspec": {
   "display_name": "Python 3 (ipykernel)",
   "language": "python",
   "name": "python3"
  },
  "language_info": {
   "codemirror_mode": {
    "name": "ipython",
    "version": 3
   },
   "file_extension": ".py",
   "mimetype": "text/x-python",
   "name": "python",
   "nbconvert_exporter": "python",
   "pygments_lexer": "ipython3",
   "version": "3.9.7"
  },
  "latex_envs": {
   "LaTeX_envs_menu_present": true,
   "autoclose": false,
   "autocomplete": true,
   "bibliofile": "biblio.bib",
   "cite_by": "apalike",
   "current_citInitial": 1,
   "eqLabelWithNumbers": true,
   "eqNumInitial": 1,
   "hotkeys": {
    "equation": "Ctrl-E",
    "itemize": "Ctrl-I"
   },
   "labels_anchors": false,
   "latex_user_defs": false,
   "report_style_numbering": false,
   "user_envs_cfg": false
  }
 },
 "nbformat": 4,
 "nbformat_minor": 2
}
