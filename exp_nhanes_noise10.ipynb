{
 "cells": [
  {
   "cell_type": "code",
   "execution_count": 1,
   "metadata": {
    "ExecuteTime": {
     "end_time": "2022-06-03T07:55:07.995838Z",
     "start_time": "2022-06-03T07:55:05.179232Z"
    },
    "execution": {
     "iopub.execute_input": "2022-06-04T07:14:43.224882Z",
     "iopub.status.busy": "2022-06-04T07:14:43.223873Z",
     "iopub.status.idle": "2022-06-04T07:15:15.341557Z",
     "shell.execute_reply": "2022-06-04T07:15:15.339951Z"
    }
   },
   "outputs": [],
   "source": [
    "from __future__ import print_function\n",
    "import warnings\n",
    "warnings.filterwarnings(\"ignore\", category=UserWarning)\n",
    "warnings.filterwarnings(\"ignore\", category=FutureWarning)\n",
    "## Disable tf future deprecated messages\n",
    "import logging\n",
    "logging.getLogger('tensorflow').disabled = True\n",
    "## Disable tf CUDA messages\n",
    "import os\n",
    "os.environ['TF_CPP_MIN_LOG_LEVEL'] = '3'\n",
    "\n",
    "%matplotlib inline\n",
    "\n",
    "import sys\n",
    "import random\n",
    "import numpy as np\n",
    "import pandas as pd\n",
    "\n",
    "import utils\n",
    "import correction\n",
    "from models.dense import *\n",
    "from models.gain import gain\n",
    "from models.soft_impute import SoftImpute\n",
    "from models.sinkhorn import OTimputer\n",
    "from models.mida import mida\n",
    "\n",
    "import scipy.stats\n",
    "\n",
    "from sklearn.experimental import enable_iterative_imputer\n",
    "from sklearn.impute import IterativeImputer\n",
    "from sklearn.impute import KNNImputer, SimpleImputer\n",
    "\n",
    "import sklearn.neighbors._base\n",
    "sys.modules['sklearn.neighbors.base'] = sklearn.neighbors._base\n",
    "from missingpy import MissForest\n",
    "\n",
    "torch.backends.cudnn.enabled = True\n",
    "torch.backends.cudnn.benchmark = True\n",
    "dtype = torch.cuda.FloatTensor"
   ]
  },
  {
   "cell_type": "markdown",
   "metadata": {},
   "source": [
    "## Repeat all experiments for 10 runs"
   ]
  },
  {
   "cell_type": "code",
   "execution_count": 2,
   "metadata": {
    "ExecuteTime": {
     "end_time": "2022-06-03T07:55:08.000555Z",
     "start_time": "2022-06-03T07:55:07.997377Z"
    },
    "execution": {
     "iopub.execute_input": "2022-06-04T07:15:15.349276Z",
     "iopub.status.busy": "2022-06-04T07:15:15.348116Z",
     "iopub.status.idle": "2022-06-04T07:15:15.351026Z",
     "shell.execute_reply": "2022-06-04T07:15:15.351476Z"
    }
   },
   "outputs": [],
   "source": [
    "n_runs = 10"
   ]
  },
  {
   "cell_type": "markdown",
   "metadata": {},
   "source": [
    "## Load data"
   ]
  },
  {
   "cell_type": "code",
   "execution_count": 3,
   "metadata": {
    "ExecuteTime": {
     "end_time": "2022-06-03T07:55:08.125875Z",
     "start_time": "2022-06-03T07:55:08.002687Z"
    },
    "execution": {
     "iopub.execute_input": "2022-06-04T07:15:15.363165Z",
     "iopub.status.busy": "2022-06-04T07:15:15.359013Z",
     "iopub.status.idle": "2022-06-04T07:15:15.684233Z",
     "shell.execute_reply": "2022-06-04T07:15:15.685126Z"
    }
   },
   "outputs": [
    {
     "name": "stdout",
     "output_type": "stream",
     "text": [
      "Dataset shape: (2000, 95)\n",
      "33.65% missing data\n",
      "Class distribution: (array([1., 2.]), array([1000, 1000]))\n"
     ]
    }
   ],
   "source": [
    "data_missing, missing_mask, y = utils.load_nhanes(balanced=True)\n",
    "## Inject noise\n",
    "data_missing = utils.inject_noise(data_missing.copy(), noise_rate=.10)\n",
    "## Replace missing values locations by 0\n",
    "data_missing = data_missing * missing_mask"
   ]
  },
  {
   "cell_type": "markdown",
   "metadata": {},
   "source": [
    "## Run OUR METHOD"
   ]
  },
  {
   "cell_type": "code",
   "execution_count": 4,
   "metadata": {
    "ExecuteTime": {
     "end_time": "2022-06-03T07:56:24.490750Z",
     "start_time": "2022-06-03T07:55:08.129737Z"
    },
    "execution": {
     "iopub.execute_input": "2022-06-04T07:15:15.697890Z",
     "iopub.status.busy": "2022-06-04T07:15:15.696643Z",
     "iopub.status.idle": "2022-06-04T07:29:26.643238Z",
     "shell.execute_reply": "2022-06-04T07:29:26.644355Z"
    },
    "scrolled": false
   },
   "outputs": [
    {
     "name": "stdout",
     "output_type": "stream",
     "text": [
      "Ite 00000 - 2.02 sec - Loss 0.060906 - ACC 62.10% - ACC Mean 62.10% - AUC 66.76% - AUC Mean 66.76% - Deter 000\n",
      "Ite 00050 - 0.94 sec - Loss 0.012443 - ACC 61.80% - ACC Mean 61.23% - AUC 65.98% - AUC Mean 65.85% - Deter 048\n",
      "Ite 00052 - 0.94 sec - Loss 0.012063 - ACC 61.70% - ACC Mean 61.21% - AUC 66.24% - AUC Mean 65.81% - Deter 050\n",
      "Early stop ite 52, rollback to correction of ite 2, whith acc of 63.75% and auc of 68.11%\n",
      "OUR METHOD RUN 1/10 - acc: 63.75% +- 0.0% - auc: 68.11% +- 0.0%\n",
      "Ite 00000 - 0.93 sec - Loss 0.140771 - ACC 62.40% - ACC Mean 62.40% - AUC 66.40% - AUC Mean 66.40% - Deter 000\n",
      "Ite 00050 - 1.01 sec - Loss 0.053657 - ACC 60.75% - ACC Mean 60.87% - AUC 65.20% - AUC Mean 65.56% - Deter 002\n",
      "Ite 00098 - 0.93 sec - Loss 0.035558 - ACC 61.65% - ACC Mean 61.04% - AUC 66.48% - AUC Mean 65.89% - Deter 050\n",
      "Early stop ite 98, rollback to correction of ite 48, whith acc of 62.65% and auc of 68.3%\n",
      "OUR METHOD RUN 2/10 - acc: 62.65% +- 0.0% - auc: 68.3% +- 0.0%\n",
      "Ite 00000 - 0.96 sec - Loss 0.082169 - ACC 60.95% - ACC Mean 60.95% - AUC 65.64% - AUC Mean 65.64% - Deter 000\n",
      "Ite 00050 - 0.97 sec - Loss 0.024247 - ACC 61.85% - ACC Mean 61.33% - AUC 66.02% - AUC Mean 65.65% - Deter 048\n",
      "Ite 00052 - 0.98 sec - Loss 0.023550 - ACC 59.45% - ACC Mean 61.22% - AUC 63.60% - AUC Mean 65.56% - Deter 050\n",
      "Early stop ite 52, rollback to correction of ite 2, whith acc of 63.25% and auc of 67.21%\n",
      "OUR METHOD RUN 3/10 - acc: 63.25% +- 0.0% - auc: 67.21% +- 0.0%\n",
      "Ite 00000 - 1.02 sec - Loss 0.077952 - ACC 62.75% - ACC Mean 62.75% - AUC 66.98% - AUC Mean 66.98% - Deter 000\n",
      "Ite 00050 - 0.94 sec - Loss 0.020499 - ACC 60.45% - ACC Mean 61.29% - AUC 64.44% - AUC Mean 65.75% - Deter 044\n",
      "Ite 00056 - 0.95 sec - Loss 0.018926 - ACC 60.40% - ACC Mean 61.24% - AUC 64.78% - AUC Mean 65.70% - Deter 050\n",
      "Early stop ite 56, rollback to correction of ite 6, whith acc of 63.8% and auc of 68.4%\n",
      "OUR METHOD RUN 4/10 - acc: 63.8% +- 0.0% - auc: 68.4% +- 0.0%\n",
      "Ite 00000 - 1.00 sec - Loss 0.104751 - ACC 60.15% - ACC Mean 60.15% - AUC 65.30% - AUC Mean 65.30% - Deter 000\n",
      "Ite 00050 - 0.97 sec - Loss 0.040777 - ACC 60.35% - ACC Mean 61.03% - AUC 65.16% - AUC Mean 65.53% - Deter 035\n",
      "Ite 00100 - 1.00 sec - Loss 0.025171 - ACC 61.90% - ACC Mean 61.57% - AUC 65.91% - AUC Mean 66.33% - Deter 006\n",
      "Ite 00150 - 0.95 sec - Loss 0.017575 - ACC 62.40% - ACC Mean 61.75% - AUC 66.73% - AUC Mean 66.67% - Deter 032\n",
      "Ite 00168 - 0.98 sec - Loss 0.015495 - ACC 60.75% - ACC Mean 61.69% - AUC 64.28% - AUC Mean 66.35% - Deter 050\n",
      "Early stop ite 168, rollback to correction of ite 118, whith acc of 63.4% and auc of 68.95%\n",
      "OUR METHOD RUN 5/10 - acc: 63.4% +- 0.0% - auc: 68.95% +- 0.0%\n",
      "Ite 00000 - 0.97 sec - Loss 0.086308 - ACC 61.15% - ACC Mean 61.15% - AUC 65.23% - AUC Mean 65.23% - Deter 000\n",
      "Ite 00050 - 0.99 sec - Loss 0.021140 - ACC 61.50% - ACC Mean 61.06% - AUC 66.56% - AUC Mean 65.30% - Deter 049\n",
      "Ite 00051 - 0.94 sec - Loss 0.020826 - ACC 61.40% - ACC Mean 61.04% - AUC 66.63% - AUC Mean 65.29% - Deter 050\n",
      "Early stop ite 51, rollback to correction of ite 1, whith acc of 62.5% and auc of 67.25%\n",
      "OUR METHOD RUN 6/10 - acc: 62.5% +- 0.0% - auc: 67.25% +- 0.0%\n",
      "Ite 00000 - 0.99 sec - Loss 0.103857 - ACC 61.05% - ACC Mean 61.05% - AUC 65.91% - AUC Mean 65.91% - Deter 000\n",
      "Ite 00050 - 1.02 sec - Loss 0.034927 - ACC 60.85% - ACC Mean 61.41% - AUC 65.31% - AUC Mean 65.72% - Deter 039\n",
      "Ite 00100 - 0.98 sec - Loss 0.023150 - ACC 61.70% - ACC Mean 61.37% - AUC 65.30% - AUC Mean 65.70% - Deter 042\n",
      "Ite 00108 - 0.95 sec - Loss 0.022095 - ACC 61.05% - ACC Mean 61.25% - AUC 65.46% - AUC Mean 65.60% - Deter 050\n",
      "Early stop ite 108, rollback to correction of ite 58, whith acc of 63.85% and auc of 67.82%\n",
      "OUR METHOD RUN 7/10 - acc: 63.85% +- 0.0% - auc: 67.82% +- 0.0%\n",
      "Ite 00000 - 0.95 sec - Loss 0.079566 - ACC 60.60% - ACC Mean 60.60% - AUC 65.72% - AUC Mean 65.72% - Deter 000\n",
      "Ite 00050 - 1.01 sec - Loss 0.019505 - ACC 62.05% - ACC Mean 61.56% - AUC 67.75% - AUC Mean 66.00% - Deter 044\n",
      "Ite 00056 - 1.00 sec - Loss 0.017759 - ACC 60.25% - ACC Mean 61.47% - AUC 64.90% - AUC Mean 65.98% - Deter 050\n",
      "Early stop ite 56, rollback to correction of ite 6, whith acc of 63.6% and auc of 68.48%\n",
      "OUR METHOD RUN 8/10 - acc: 63.6% +- 0.0% - auc: 68.48% +- 0.0%\n",
      "Ite 00000 - 1.06 sec - Loss 0.087170 - ACC 61.40% - ACC Mean 61.40% - AUC 66.03% - AUC Mean 66.03% - Deter 000\n",
      "Ite 00050 - 0.99 sec - Loss 0.027824 - ACC 60.95% - ACC Mean 61.04% - AUC 65.16% - AUC Mean 65.42% - Deter 020\n",
      "Ite 00100 - 0.93 sec - Loss 0.017113 - ACC 62.25% - ACC Mean 61.26% - AUC 66.19% - AUC Mean 65.75% - Deter 047\n",
      "Ite 00103 - 0.96 sec - Loss 0.016720 - ACC 61.30% - ACC Mean 61.24% - AUC 64.99% - AUC Mean 65.68% - Deter 050\n",
      "Early stop ite 103, rollback to correction of ite 53, whith acc of 62.7% and auc of 68.26%\n",
      "OUR METHOD RUN 9/10 - acc: 62.7% +- 0.0% - auc: 68.26% +- 0.0%\n",
      "Ite 00000 - 0.99 sec - Loss 0.067539 - ACC 61.30% - ACC Mean 61.30% - AUC 65.31% - AUC Mean 65.31% - Deter 000\n",
      "Ite 00050 - 0.95 sec - Loss 0.026221 - ACC 59.35% - ACC Mean 61.38% - AUC 64.74% - AUC Mean 66.11% - Deter 014\n",
      "Ite 00086 - 0.96 sec - Loss 0.018474 - ACC 63.30% - ACC Mean 61.49% - AUC 67.34% - AUC Mean 65.98% - Deter 050\n",
      "Early stop ite 86, rollback to correction of ite 36, whith acc of 64.55% and auc of 69.61%\n",
      "OUR METHOD RUN 10/10 - acc: 64.55% +- 0.0% - auc: 69.61% +- 0.0%\n",
      "\n",
      "OUR METHOD GLOBAL - acc: 63.4% +- 0.61% - auc: 68.24% +- 0.69%\n"
     ]
    }
   ],
   "source": [
    "params = {\n",
    "    'nb_batches': 10,\n",
    "    'reg_noise_std': .03,\n",
    "    'net_input': 'data_corrupted',\n",
    "    'net_params': {\n",
    "        'input_channels':1,\n",
    "        'output_channels':1,\n",
    "        'channels_skip':4,\n",
    "        'down_layers':[(24, 7, 1),\n",
    "                       (46, 9, 5),\n",
    "                       (96, 11, 1),\n",
    "                       (96, 13, 1)],\n",
    "        'need_sigmoid':True,\n",
    "        'need_bias':True,\n",
    "        'pad':'zero',\n",
    "        'downsample_mode':'stride',\n",
    "        'upsample_mode':'nearest',\n",
    "        'act_fun':'LeakyReLU',\n",
    "        'need1x1_up':True\n",
    "    },# or a list containing layers sizes\n",
    "    'adam_lr': .0001,\n",
    "    'adam_weight_decay': 0.,\n",
    "}\n",
    "\n",
    "ours_accs, ours_aucs = [], []\n",
    "for i in range(n_runs):\n",
    "    ours_correction = correction.run(data_missing, 501, params, y=y, missing_mask=missing_mask, seed=i)\n",
    "    ## Since our method returns 2 imputations select the best one\n",
    "    scores_raw = utils.get_scores(ours_correction['raw_out'], y)\n",
    "    acc = scores_raw['test_balanced_accuracy']\n",
    "    auc = scores_raw['test_roc_auc_ovo']\n",
    "    acc = acc.mean()\n",
    "    acc_std = acc.std()\n",
    "    auc = auc.mean()\n",
    "    auc_std = auc.std()\n",
    "    if 'masked_out' in ours_correction:\n",
    "        scores_masked = utils.get_scores(ours_correction['masked_out'], y)\n",
    "        acc_masked = scores_masked['test_balanced_accuracy']\n",
    "        auc_masked = scores_masked['test_roc_auc_ovo']\n",
    "        if auc_masked.mean() > auc:\n",
    "            acc = acc_masked.mean()\n",
    "            acc_std = acc_masked.std()\n",
    "            auc = auc_masked.mean()\n",
    "            auc_std = auc_masked.std()\n",
    "    print(f'OUR METHOD RUN {i + 1}/{n_runs} - acc: {round(acc.mean() * 100, 2)}% +- {round(acc.std() * 100, 2)}% - ' +\n",
    "          f'auc: {round(auc.mean() * 100, 2)}% +- {round(auc.std() * 100, 2)}%')\n",
    "    ours_accs.append(acc.mean())\n",
    "    ours_aucs.append(auc.mean())\n",
    "print(f'\\nOUR METHOD GLOBAL - acc: {round(np.array(ours_accs).mean() * 100, 2)}% +- {round(np.array(ours_accs).std() * 100, 2)}% - ' +\n",
    "      f'auc: {round(np.array(ours_aucs).mean() * 100, 2)}% +- {round(np.array(ours_aucs).std() * 100, 2)}%')"
   ]
  },
  {
   "cell_type": "markdown",
   "metadata": {},
   "source": [
    "## Run Median, Mean and KNN"
   ]
  },
  {
   "cell_type": "code",
   "execution_count": 5,
   "metadata": {
    "ExecuteTime": {
     "end_time": "2022-06-03T07:56:26.974392Z",
     "start_time": "2022-06-03T07:56:24.492926Z"
    },
    "execution": {
     "iopub.execute_input": "2022-06-04T07:29:26.654261Z",
     "iopub.status.busy": "2022-06-04T07:29:26.653396Z",
     "iopub.status.idle": "2022-06-04T07:29:29.313527Z",
     "shell.execute_reply": "2022-06-04T07:29:29.314684Z"
    }
   },
   "outputs": [
    {
     "name": "stdout",
     "output_type": "stream",
     "text": [
      "MEDIAN - acc: 61.2% +- 0.0% - auc: 65.47% +- 0.0%\n",
      "MEAN - acc: 63.4% +- 0.0% - auc: 68.55% +- 0.0%\n",
      "KNN - acc: 59.95% +- 0.0% - auc: 63.25% +- 0.0%\n"
     ]
    }
   ],
   "source": [
    "data_missing_nans = np.where(missing_mask, data_missing, np.nan)\n",
    "\n",
    "median_imputer = SimpleImputer(missing_values=np.nan, strategy='median')\n",
    "mean_imputer = SimpleImputer(missing_values=np.nan, strategy='mean')\n",
    "knn_imputer = KNNImputer(n_neighbors=10, weights='uniform')\n",
    "\n",
    "median_completed = median_imputer.fit_transform(data_missing_nans)\n",
    "mean_completed = mean_imputer.fit_transform(data_missing_nans)\n",
    "knn_completed = knn_imputer.fit_transform(data_missing_nans)\n",
    "\n",
    "## All runs would be the same since deterministic methods\n",
    "scores = utils.get_scores(median_completed, y)\n",
    "acc = [scores['test_balanced_accuracy'].mean()] * n_runs\n",
    "auc = [scores['test_roc_auc_ovo'].mean()] * n_runs\n",
    "print(f'MEDIAN - acc: {round(np.mean(acc) * 100, 2)}% +- {round(np.std(acc) * 100, 2)}% - ' +\n",
    "      f'auc: {round(np.mean(auc) * 100, 2)}% +- {round(np.std(auc) * 100, 2)}%')\n",
    "median_accs = acc\n",
    "median_aucs = auc\n",
    "\n",
    "scores = utils.get_scores(mean_completed, y)\n",
    "acc = [scores['test_balanced_accuracy'].mean()] * n_runs\n",
    "auc = [scores['test_roc_auc_ovo'].mean()] * n_runs\n",
    "print(f'MEAN - acc: {round(np.mean(acc) * 100, 2)}% +- {round(np.std(acc) * 100, 2)}% - ' +\n",
    "      f'auc: {round(np.mean(auc) * 100, 2)}% +- {round(np.std(auc) * 100, 2)}%')\n",
    "mean_accs = acc\n",
    "mean_aucs = auc\n",
    "\n",
    "scores = utils.get_scores(knn_completed, y)\n",
    "acc = [scores['test_balanced_accuracy'].mean()] * n_runs\n",
    "auc = [scores['test_roc_auc_ovo'].mean()] * n_runs\n",
    "print(f'KNN - acc: {round(np.mean(acc) * 100, 2)}% +- {round(np.std(acc) * 100, 2)}% - ' +\n",
    "      f'auc: {round(np.mean(auc) * 100, 2)}% +- {round(np.std(auc) * 100, 2)}%')\n",
    "knn_accs = acc\n",
    "knn_aucs = auc"
   ]
  },
  {
   "cell_type": "markdown",
   "metadata": {},
   "source": [
    "## Run GAIN"
   ]
  },
  {
   "cell_type": "code",
   "execution_count": 6,
   "metadata": {
    "ExecuteTime": {
     "end_time": "2022-06-03T07:57:05.045589Z",
     "start_time": "2022-06-03T07:56:26.976166Z"
    },
    "execution": {
     "iopub.execute_input": "2022-06-04T07:29:29.323084Z",
     "iopub.status.busy": "2022-06-04T07:29:29.322175Z",
     "iopub.status.idle": "2022-06-04T07:36:45.028132Z",
     "shell.execute_reply": "2022-06-04T07:36:45.028562Z"
    },
    "scrolled": false
   },
   "outputs": [
    {
     "name": "stderr",
     "output_type": "stream",
     "text": [
      "100%|██████████| 5000/5000 [00:40<00:00, 122.38it/s]\n"
     ]
    },
    {
     "name": "stdout",
     "output_type": "stream",
     "text": [
      "\n",
      "GAIN RUN 1/10 - acc: 62.15% +- 2.82% - auc: 66.4% +- 3.05%\n",
      "\n"
     ]
    },
    {
     "name": "stderr",
     "output_type": "stream",
     "text": [
      "100%|██████████| 5000/5000 [00:41<00:00, 121.01it/s]\n"
     ]
    },
    {
     "name": "stdout",
     "output_type": "stream",
     "text": [
      "\n",
      "GAIN RUN 2/10 - acc: 60.9% +- 2.91% - auc: 65.51% +- 2.98%\n",
      "\n"
     ]
    },
    {
     "name": "stderr",
     "output_type": "stream",
     "text": [
      "100%|██████████| 5000/5000 [00:42<00:00, 118.12it/s]\n"
     ]
    },
    {
     "name": "stdout",
     "output_type": "stream",
     "text": [
      "\n",
      "GAIN RUN 3/10 - acc: 62.25% +- 1.72% - auc: 66.38% +- 2.69%\n",
      "\n"
     ]
    },
    {
     "name": "stderr",
     "output_type": "stream",
     "text": [
      "100%|██████████| 5000/5000 [00:41<00:00, 119.39it/s]\n"
     ]
    },
    {
     "name": "stdout",
     "output_type": "stream",
     "text": [
      "\n",
      "GAIN RUN 4/10 - acc: 60.85% +- 2.06% - auc: 65.54% +- 2.24%\n",
      "\n"
     ]
    },
    {
     "name": "stderr",
     "output_type": "stream",
     "text": [
      "100%|██████████| 5000/5000 [00:37<00:00, 132.54it/s]\n"
     ]
    },
    {
     "name": "stdout",
     "output_type": "stream",
     "text": [
      "\n",
      "GAIN RUN 5/10 - acc: 62.6% +- 2.59% - auc: 67.11% +- 1.91%\n",
      "\n"
     ]
    },
    {
     "name": "stderr",
     "output_type": "stream",
     "text": [
      "100%|██████████| 5000/5000 [00:41<00:00, 119.20it/s]\n"
     ]
    },
    {
     "name": "stdout",
     "output_type": "stream",
     "text": [
      "\n",
      "GAIN RUN 6/10 - acc: 62.05% +- 1.67% - auc: 66.74% +- 2.21%\n",
      "\n"
     ]
    },
    {
     "name": "stderr",
     "output_type": "stream",
     "text": [
      "100%|██████████| 5000/5000 [00:42<00:00, 117.84it/s]\n"
     ]
    },
    {
     "name": "stdout",
     "output_type": "stream",
     "text": [
      "\n",
      "GAIN RUN 7/10 - acc: 63.05% +- 1.77% - auc: 66.25% +- 2.38%\n",
      "\n"
     ]
    },
    {
     "name": "stderr",
     "output_type": "stream",
     "text": [
      "100%|██████████| 5000/5000 [00:44<00:00, 112.32it/s]\n"
     ]
    },
    {
     "name": "stdout",
     "output_type": "stream",
     "text": [
      "\n",
      "GAIN RUN 8/10 - acc: 61.85% +- 2.63% - auc: 66.34% +- 2.21%\n",
      "\n"
     ]
    },
    {
     "name": "stderr",
     "output_type": "stream",
     "text": [
      "100%|██████████| 5000/5000 [00:41<00:00, 120.90it/s]\n"
     ]
    },
    {
     "name": "stdout",
     "output_type": "stream",
     "text": [
      "\n",
      "GAIN RUN 9/10 - acc: 60.35% +- 2.76% - auc: 65.25% +- 2.53%\n",
      "\n"
     ]
    },
    {
     "name": "stderr",
     "output_type": "stream",
     "text": [
      "100%|██████████| 5000/5000 [00:45<00:00, 110.68it/s]\n"
     ]
    },
    {
     "name": "stdout",
     "output_type": "stream",
     "text": [
      "\n",
      "GAIN RUN 10/10 - acc: 61.5% +- 0.72% - auc: 65.81% +- 2.31%\n",
      "\n",
      "GAIN GLOBAL - acc: 61.76% +- 0.8% - auc: 66.13% +- 0.56%\n"
     ]
    }
   ],
   "source": [
    "gain_parameters = {'batch_size': 128,\n",
    "                   'hint_rate': .9,\n",
    "                   'alpha': 100,\n",
    "                   'iterations': 5000}\n",
    "\n",
    "gain_accs, gain_aucs = [], []\n",
    "for i in range(n_runs):\n",
    "    random.seed(i)\n",
    "    np.random.seed(i)\n",
    "    torch.manual_seed(i)\n",
    "    imputed = gain(data_missing_nans, gain_parameters)\n",
    "    scores = utils.get_scores(imputed, y)\n",
    "    acc = scores['test_balanced_accuracy']\n",
    "    auc = scores['test_roc_auc_ovo']\n",
    "    print(f'\\nGAIN RUN {i + 1}/{n_runs} - acc: {round(acc.mean() * 100, 2)}% +- {round(acc.std() * 100, 2)}% - ' +\n",
    "          f'auc: {round(auc.mean() * 100, 2)}% +- {round(auc.std() * 100, 2)}%\\n')\n",
    "    gain_accs.append(acc.mean())\n",
    "    gain_aucs.append(auc.mean())\n",
    "print(f'GAIN GLOBAL - acc: {round(np.array(gain_accs).mean() * 100, 2)}% +- {round(np.array(gain_accs).std() * 100, 2)}% - ' +\n",
    "      f'auc: {round(np.array(gain_aucs).mean() * 100, 2)}% +- {round(np.array(gain_aucs).std() * 100, 2)}%')"
   ]
  },
  {
   "cell_type": "markdown",
   "metadata": {},
   "source": [
    "## Run MICE"
   ]
  },
  {
   "cell_type": "code",
   "execution_count": 7,
   "metadata": {
    "ExecuteTime": {
     "end_time": "2022-06-03T08:05:36.625097Z",
     "start_time": "2022-06-03T07:57:05.047941Z"
    },
    "execution": {
     "iopub.execute_input": "2022-06-04T07:36:45.035549Z",
     "iopub.status.busy": "2022-06-04T07:36:45.035105Z",
     "iopub.status.idle": "2022-06-04T07:41:43.931513Z",
     "shell.execute_reply": "2022-06-04T07:41:43.930990Z"
    }
   },
   "outputs": [
    {
     "name": "stdout",
     "output_type": "stream",
     "text": [
      "MICE - acc: 58.8% +- 0.0% - auc: 62.58% +- 0.0%\n"
     ]
    }
   ],
   "source": [
    "imputer = IterativeImputer()\n",
    "imputed = imputer.fit_transform(data_missing_nans)\n",
    "## All runs would be the same since deterministic method\n",
    "scores = utils.get_scores(imputed, y)\n",
    "acc = [scores['test_balanced_accuracy'].mean()] * n_runs\n",
    "auc = [scores['test_roc_auc_ovo'].mean()] * n_runs\n",
    "print(f'MICE - acc: {round(np.mean(acc) * 100, 2)}% +- {round(np.std(acc) * 100, 2)}% - ' +\n",
    "      f'auc: {round(np.mean(auc) * 100, 2)}% +- {round(np.std(auc) * 100, 2)}%')\n",
    "mice_accs = acc\n",
    "mice_aucs = auc"
   ]
  },
  {
   "cell_type": "markdown",
   "metadata": {},
   "source": [
    "## Run MISSFOREST"
   ]
  },
  {
   "cell_type": "code",
   "execution_count": 8,
   "metadata": {
    "ExecuteTime": {
     "end_time": "2022-06-03T08:13:22.668185Z",
     "start_time": "2022-06-03T08:05:36.627849Z"
    },
    "execution": {
     "iopub.execute_input": "2022-06-04T07:41:43.951347Z",
     "iopub.status.busy": "2022-06-04T07:41:43.950907Z",
     "iopub.status.idle": "2022-06-04T08:21:53.062011Z",
     "shell.execute_reply": "2022-06-04T08:21:53.062688Z"
    },
    "scrolled": false
   },
   "outputs": [
    {
     "name": "stdout",
     "output_type": "stream",
     "text": [
      "Iteration: 0\n",
      "Iteration: 1\n",
      "\n",
      "MISSFOREST RUN 1/10 - acc: 60.8% +- 1.87% - auc: 65.8% +- 1.49%\n",
      "\n",
      "Iteration: 0\n",
      "Iteration: 1\n",
      "\n",
      "MISSFOREST RUN 2/10 - acc: 59.35% +- 1.25% - auc: 63.35% +- 2.19%\n",
      "\n",
      "Iteration: 0\n",
      "Iteration: 1\n",
      "\n",
      "MISSFOREST RUN 3/10 - acc: 60.45% +- 1.35% - auc: 63.95% +- 0.68%\n",
      "\n",
      "Iteration: 0\n",
      "Iteration: 1\n",
      "\n",
      "MISSFOREST RUN 4/10 - acc: 58.5% +- 2.47% - auc: 63.38% +- 3.45%\n",
      "\n",
      "Iteration: 0\n",
      "Iteration: 1\n",
      "\n",
      "MISSFOREST RUN 5/10 - acc: 61.35% +- 4.56% - auc: 65.37% +- 4.61%\n",
      "\n",
      "Iteration: 0\n",
      "Iteration: 1\n",
      "\n",
      "MISSFOREST RUN 6/10 - acc: 61.95% +- 2.34% - auc: 65.97% +- 2.15%\n",
      "\n",
      "Iteration: 0\n",
      "Iteration: 1\n",
      "Iteration: 2\n",
      "\n",
      "MISSFOREST RUN 7/10 - acc: 61.8% +- 2.59% - auc: 65.41% +- 3.73%\n",
      "\n",
      "Iteration: 0\n",
      "Iteration: 1\n",
      "\n",
      "MISSFOREST RUN 8/10 - acc: 62.2% +- 2.6% - auc: 67.01% +- 3.33%\n",
      "\n",
      "Iteration: 0\n",
      "Iteration: 1\n",
      "\n",
      "MISSFOREST RUN 9/10 - acc: 62.2% +- 2.59% - auc: 67.16% +- 2.61%\n",
      "\n",
      "Iteration: 0\n",
      "Iteration: 1\n",
      "Iteration: 2\n",
      "\n",
      "MISSFOREST RUN 10/10 - acc: 61.7% +- 2.48% - auc: 65.68% +- 3.18%\n",
      "\n",
      "\n",
      "MISSFOREST GLOBAL - acc: 61.03% +- 1.2% - auc: 65.31% +- 1.29%\n"
     ]
    }
   ],
   "source": [
    "miss_accs, miss_aucs = [], []\n",
    "for i in range(n_runs):\n",
    "    random.seed(i)\n",
    "    np.random.seed(i)\n",
    "    torch.manual_seed(i)\n",
    "    imputer = MissForest(n_jobs=-1, random_state=i)\n",
    "    imputed = imputer.fit_transform(data_missing_nans)\n",
    "    scores = utils.get_scores(imputed, y)\n",
    "    acc = scores['test_balanced_accuracy']\n",
    "    auc = scores['test_roc_auc_ovo']\n",
    "    print(f'\\nMISSFOREST RUN {i + 1}/{n_runs} - acc: {round(acc.mean() * 100, 2)}% +- {round(acc.std() * 100, 2)}% - ' +\n",
    "          f'auc: {round(auc.mean() * 100, 2)}% +- {round(auc.std() * 100, 2)}%\\n')\n",
    "    miss_accs.append(acc.mean())\n",
    "    miss_aucs.append(auc.mean())\n",
    "print(f'\\nMISSFOREST GLOBAL - acc: {round(np.array(miss_accs).mean() * 100, 2)}% +- {round(np.array(miss_accs).std() * 100, 2)}% - ' +\n",
    "      f'auc: {round(np.array(miss_aucs).mean() * 100, 2)}% +- {round(np.array(miss_aucs).std() * 100, 2)}%')"
   ]
  },
  {
   "cell_type": "markdown",
   "metadata": {},
   "source": [
    "## Run SOFTIMPUTE"
   ]
  },
  {
   "cell_type": "code",
   "execution_count": 9,
   "metadata": {
    "ExecuteTime": {
     "end_time": "2022-06-03T08:13:24.127459Z",
     "start_time": "2022-06-03T08:13:22.670807Z"
    },
    "execution": {
     "iopub.execute_input": "2022-06-04T08:21:53.080223Z",
     "iopub.status.busy": "2022-06-04T08:21:53.070413Z",
     "iopub.status.idle": "2022-06-04T08:22:00.992373Z",
     "shell.execute_reply": "2022-06-04T08:22:00.992707Z"
    }
   },
   "outputs": [
    {
     "name": "stdout",
     "output_type": "stream",
     "text": [
      "SOFTIMPUTE RUN 1/10 - acc: 60.9% +- 2.15% - auc: 66.3% +- 2.22%\n",
      "SOFTIMPUTE RUN 2/10 - acc: 61.15% +- 1.45% - auc: 66.23% +- 1.69%\n",
      "SOFTIMPUTE RUN 3/10 - acc: 60.4% +- 1.68% - auc: 64.72% +- 2.35%\n",
      "SOFTIMPUTE RUN 4/10 - acc: 60.8% +- 2.87% - auc: 64.98% +- 2.68%\n",
      "SOFTIMPUTE RUN 5/10 - acc: 61.75% +- 0.61% - auc: 65.94% +- 2.23%\n",
      "SOFTIMPUTE RUN 6/10 - acc: 60.8% +- 1.75% - auc: 66.08% +- 1.15%\n",
      "SOFTIMPUTE RUN 7/10 - acc: 60.7% +- 2.8% - auc: 66.2% +- 4.22%\n",
      "SOFTIMPUTE RUN 8/10 - acc: 59.8% +- 2.48% - auc: 64.42% +- 3.57%\n",
      "SOFTIMPUTE RUN 9/10 - acc: 61.25% +- 3.95% - auc: 65.67% +- 3.57%\n",
      "SOFTIMPUTE RUN 10/10 - acc: 61.15% +- 0.68% - auc: 66.05% +- 1.9%\n",
      "\n",
      "SOFTIMPUTE GLOBAL - acc: 60.87% +- 0.5% - auc: 65.66% +- 0.66%\n"
     ]
    }
   ],
   "source": [
    "soft_accs, soft_aucs = [], []\n",
    "for i in range(n_runs):\n",
    "    random.seed(i)\n",
    "    np.random.seed(i)\n",
    "    torch.manual_seed(i)\n",
    "    imputer = SoftImpute(random_state=i)\n",
    "    imputer.fit(data_missing_nans)\n",
    "    imputed = imputer.predict(data_missing_nans)\n",
    "    imputed = np.where(missing_mask, data_missing, imputed)\n",
    "    scores = utils.get_scores(imputed, y)\n",
    "    acc = scores['test_balanced_accuracy']\n",
    "    auc = scores['test_roc_auc_ovo']\n",
    "    print(f'SOFTIMPUTE RUN {i + 1}/{n_runs} - acc: {round(acc.mean() * 100, 2)}% +- {round(acc.std() * 100, 2)}% - ' +\n",
    "          f'auc: {round(auc.mean() * 100, 2)}% +- {round(auc.std() * 100, 2)}%')\n",
    "    soft_accs.append(acc.mean())\n",
    "    soft_aucs.append(auc.mean())\n",
    "print(f'\\nSOFTIMPUTE GLOBAL - acc: {round(np.array(soft_accs).mean() * 100, 2)}% +- {round(np.array(soft_accs).std() * 100, 2)}% - ' +\n",
    "      f'auc: {round(np.array(soft_aucs).mean() * 100, 2)}% +- {round(np.array(soft_aucs).std() * 100, 2)}%')"
   ]
  },
  {
   "cell_type": "markdown",
   "metadata": {},
   "source": [
    "## Run SINKHORN"
   ]
  },
  {
   "cell_type": "code",
   "execution_count": 10,
   "metadata": {
    "execution": {
     "iopub.execute_input": "2022-06-04T08:22:01.006762Z",
     "iopub.status.busy": "2022-06-04T08:22:01.006298Z",
     "iopub.status.idle": "2022-06-04T08:29:10.179637Z",
     "shell.execute_reply": "2022-06-04T08:29:10.180029Z"
    }
   },
   "outputs": [
    {
     "name": "stdout",
     "output_type": "stream",
     "text": [
      "batchsize = 128, epsilon = 0.0100\n",
      "Iteration 0:\t Loss: 2.1106\n",
      "\n",
      "SINKHORN RUN 1/10 - acc: 59.7% +- 1.51% - auc: 63.16% +- 1.55%\n",
      "\n",
      "batchsize = 128, epsilon = 0.0100\n",
      "Iteration 0:\t Loss: 2.1005\n",
      "\n",
      "SINKHORN RUN 2/10 - acc: 58.9% +- 1.83% - auc: 63.18% +- 2.51%\n",
      "\n",
      "batchsize = 128, epsilon = 0.0100\n",
      "Iteration 0:\t Loss: 2.0833\n",
      "\n",
      "SINKHORN RUN 3/10 - acc: 59.75% +- 2.46% - auc: 63.79% +- 3.34%\n",
      "\n",
      "batchsize = 128, epsilon = 0.0100\n",
      "Iteration 0:\t Loss: 2.2575\n",
      "\n",
      "SINKHORN RUN 4/10 - acc: 60.0% +- 2.49% - auc: 63.56% +- 2.46%\n",
      "\n",
      "batchsize = 128, epsilon = 0.0100\n",
      "Iteration 0:\t Loss: 2.1348\n",
      "\n",
      "SINKHORN RUN 5/10 - acc: 60.25% +- 2.49% - auc: 64.36% +- 3.02%\n",
      "\n",
      "batchsize = 128, epsilon = 0.0100\n",
      "Iteration 0:\t Loss: 2.1262\n",
      "\n",
      "SINKHORN RUN 6/10 - acc: 60.15% +- 1.63% - auc: 64.92% +- 2.76%\n",
      "\n",
      "batchsize = 128, epsilon = 0.0100\n",
      "Iteration 0:\t Loss: 2.0659\n",
      "\n",
      "SINKHORN RUN 7/10 - acc: 59.05% +- 2.82% - auc: 63.11% +- 2.16%\n",
      "\n",
      "batchsize = 128, epsilon = 0.0100\n",
      "Iteration 0:\t Loss: 2.1725\n",
      "\n",
      "SINKHORN RUN 8/10 - acc: 61.8% +- 2.69% - auc: 66.26% +- 2.56%\n",
      "\n",
      "batchsize = 128, epsilon = 0.0100\n",
      "Iteration 0:\t Loss: 2.1061\n",
      "\n",
      "SINKHORN RUN 9/10 - acc: 60.6% +- 1.59% - auc: 63.18% +- 2.39%\n",
      "\n",
      "batchsize = 128, epsilon = 0.0100\n",
      "Iteration 0:\t Loss: 2.1639\n",
      "\n",
      "SINKHORN RUN 10/10 - acc: 60.8% +- 3.31% - auc: 64.97% +- 3.92%\n",
      "\n",
      "\n",
      "SINKHORN GLOBAL - acc: 60.1% +- 0.81% - auc: 64.05% +- 1.0%\n"
     ]
    }
   ],
   "source": [
    "sink_accs, sink_aucs = [], []\n",
    "for i in range(n_runs):\n",
    "    random.seed(i)\n",
    "    np.random.seed(i)\n",
    "    torch.manual_seed(i)\n",
    "    imputer = OTimputer(niter=500)\n",
    "    imputed = imputer.fit_transform(data_missing_nans).cpu().detach().numpy()\n",
    "    scores = utils.get_scores(imputed, y)\n",
    "    acc = scores['test_balanced_accuracy']\n",
    "    auc = scores['test_roc_auc_ovo']\n",
    "    print(f'\\nSINKHORN RUN {i + 1}/{n_runs} - acc: {round(acc.mean() * 100, 2)}% +- {round(acc.std() * 100, 2)}% - ' +\n",
    "          f'auc: {round(auc.mean() * 100, 2)}% +- {round(auc.std() * 100, 2)}%\\n')\n",
    "    sink_accs.append(acc.mean())\n",
    "    sink_aucs.append(auc.mean())\n",
    "print(f'\\nSINKHORN GLOBAL - acc: {round(np.array(sink_accs).mean() * 100, 2)}% +- {round(np.array(sink_accs).std() * 100, 2)}% - ' +\n",
    "      f'auc: {round(np.array(sink_aucs).mean() * 100, 2)}% +- {round(np.array(sink_aucs).std() * 100, 2)}%')"
   ]
  },
  {
   "cell_type": "markdown",
   "metadata": {},
   "source": [
    "## Run MIDA"
   ]
  },
  {
   "cell_type": "code",
   "execution_count": 11,
   "metadata": {
    "execution": {
     "iopub.execute_input": "2022-06-04T08:29:10.188794Z",
     "iopub.status.busy": "2022-06-04T08:29:10.188362Z",
     "iopub.status.idle": "2022-06-04T08:33:02.845592Z",
     "shell.execute_reply": "2022-06-04T08:33:02.845961Z"
    }
   },
   "outputs": [
    {
     "name": "stdout",
     "output_type": "stream",
     "text": [
      "Stop training at epoch: 1500/1500, return best output\n",
      "\n",
      "MIDA RUN 1/10 - acc: 60.45% +- 1.84% - auc: 65.5% +- 2.41%\n",
      "\n",
      "Stop training at epoch: 1500/1500, return best output\n",
      "\n",
      "MIDA RUN 2/10 - acc: 61.2% +- 2.08% - auc: 65.47% +- 1.79%\n",
      "\n",
      "Stop training at epoch: 1500/1500, return best output\n",
      "\n",
      "MIDA RUN 3/10 - acc: 60.85% +- 1.84% - auc: 65.39% +- 1.89%\n",
      "\n",
      "Stop training at epoch: 1500/1500, return best output\n",
      "\n",
      "MIDA RUN 4/10 - acc: 61.25% +- 2.94% - auc: 65.65% +- 3.12%\n",
      "\n",
      "Stop training at epoch: 1500/1500, return best output\n",
      "\n",
      "MIDA RUN 5/10 - acc: 59.25% +- 2.3% - auc: 63.77% +- 2.3%\n",
      "\n",
      "Stop training at epoch: 1500/1500, return best output\n",
      "\n",
      "MIDA RUN 6/10 - acc: 59.85% +- 2.66% - auc: 64.64% +- 2.87%\n",
      "\n",
      "Stop training at epoch: 1500/1500, return best output\n",
      "\n",
      "MIDA RUN 7/10 - acc: 60.1% +- 3.06% - auc: 64.03% +- 3.89%\n",
      "\n",
      "Stop training at epoch: 1500/1500, return best output\n",
      "\n",
      "MIDA RUN 8/10 - acc: 61.8% +- 2.23% - auc: 67.08% +- 3.65%\n",
      "\n",
      "Stop training at epoch: 1500/1500, return best output\n",
      "\n",
      "MIDA RUN 9/10 - acc: 62.05% +- 2.31% - auc: 66.38% +- 2.77%\n",
      "\n",
      "Stop training at epoch: 1500/1500, return best output\n",
      "\n",
      "MIDA RUN 10/10 - acc: 58.4% +- 2.63% - auc: 63.54% +- 3.11%\n",
      "\n",
      "\n",
      "MIDA GLOBAL - acc: 60.52% +- 1.09% - auc: 65.14% +- 1.09%\n"
     ]
    }
   ],
   "source": [
    "mida_accs, mida_aucs = [], []\n",
    "for i in range(n_runs):\n",
    "    random.seed(i)\n",
    "    np.random.seed(i)\n",
    "    torch.manual_seed(i)\n",
    "    imputed = mida(data_missing_nans, num_layers=2, num_epochs=1500)\n",
    "    imputed = np.where(missing_mask, data_missing, imputed)\n",
    "    scores = utils.get_scores(imputed, y)\n",
    "    acc = scores['test_balanced_accuracy']\n",
    "    auc = scores['test_roc_auc_ovo']\n",
    "    print(f'\\nMIDA RUN {i + 1}/{n_runs} - acc: {round(acc.mean() * 100, 2)}% +- {round(acc.std() * 100, 2)}% - ' +\n",
    "          f'auc: {round(auc.mean() * 100, 2)}% +- {round(auc.std() * 100, 2)}%\\n')\n",
    "    mida_accs.append(acc.mean())\n",
    "    mida_aucs.append(auc.mean())\n",
    "print(f'\\nMIDA GLOBAL - acc: {round(np.array(mida_accs).mean() * 100, 2)}% +- {round(np.array(mida_accs).std() * 100, 2)}% - ' +\n",
    "      f'auc: {round(np.array(mida_aucs).mean() * 100, 2)}% +- {round(np.array(mida_aucs).std() * 100, 2)}%')"
   ]
  },
  {
   "cell_type": "markdown",
   "metadata": {},
   "source": [
    "## Run T-tests"
   ]
  },
  {
   "cell_type": "code",
   "execution_count": 12,
   "metadata": {
    "ExecuteTime": {
     "end_time": "2022-06-03T08:13:24.155174Z",
     "start_time": "2022-06-03T08:13:24.143959Z"
    },
    "execution": {
     "iopub.execute_input": "2022-06-04T08:33:02.861098Z",
     "iopub.status.busy": "2022-06-04T08:33:02.860530Z",
     "iopub.status.idle": "2022-06-04T08:33:02.864733Z",
     "shell.execute_reply": "2022-06-04T08:33:02.865122Z"
    }
   },
   "outputs": [
    {
     "name": "stdout",
     "output_type": "stream",
     "text": [
      "Metric ACC - OUR METHOD is significantly better than MEDIAN\n",
      "Metric AUC - OUR METHOD is significantly better than MEDIAN\n",
      "Metric ACC - OUR METHOD is even with MEAN\n",
      "Metric AUC - OUR METHOD is even with MEAN\n",
      "Metric ACC - OUR METHOD is significantly better than KNN\n",
      "Metric AUC - OUR METHOD is significantly better than KNN\n",
      "Metric ACC - OUR METHOD is significantly better than GAIN\n",
      "Metric AUC - OUR METHOD is significantly better than GAIN\n",
      "Metric ACC - OUR METHOD is significantly better than MICE\n",
      "Metric AUC - OUR METHOD is significantly better than MICE\n",
      "Metric ACC - OUR METHOD is significantly better than MISS\n",
      "Metric AUC - OUR METHOD is significantly better than MISS\n",
      "Metric ACC - OUR METHOD is significantly better than SOFT\n",
      "Metric AUC - OUR METHOD is significantly better than SOFT\n",
      "Metric ACC - OUR METHOD is significantly better than SINK\n",
      "Metric AUC - OUR METHOD is significantly better than SINK\n",
      "Metric ACC - OUR METHOD is significantly better than MIDA\n",
      "Metric AUC - OUR METHOD is significantly better than MIDA\n"
     ]
    }
   ],
   "source": [
    "for model, metrics in {\n",
    "        'MEDIAN': {'ACC': median_accs, 'AUC': median_aucs},\n",
    "        'MEAN': {'ACC': mean_accs, 'AUC': mean_aucs},\n",
    "        'KNN': {'ACC': knn_accs, 'AUC': knn_aucs},\n",
    "        'GAIN': {'ACC': gain_accs, 'AUC': gain_aucs},\n",
    "        'MICE': {'ACC': mice_accs, 'AUC': mice_aucs},\n",
    "        'MISS': {'ACC': miss_accs, 'AUC': miss_aucs},\n",
    "        'SOFT': {'ACC': soft_accs, 'AUC': soft_aucs},\n",
    "        'SINK': {'ACC': sink_accs, 'AUC': sink_aucs},\n",
    "        'MIDA': {'ACC': mida_accs, 'AUC': mida_aucs}}.items():\n",
    "    for metric_name, metric in metrics.items():\n",
    "        ours_metric = ours_accs if metric_name == 'ACC' else ours_aucs\n",
    "        t, p = scipy.stats.ttest_ind(np.array(ours_metric), np.array(metric))\n",
    "        if p <= .05:\n",
    "            if t > 0:\n",
    "                ## Our method is better\n",
    "                print(f'Metric {metric_name} - OUR METHOD is significantly better than {model}')\n",
    "            else:\n",
    "                ## Theirs is better\n",
    "                print(f'Metric {metric_name} - OUR METHOD is significantly worse than {model}')\n",
    "        else:\n",
    "            ## Else we are even\n",
    "            print(f'Metric {metric_name} - OUR METHOD is even with {model}')"
   ]
  }
 ],
 "metadata": {
  "kernelspec": {
   "display_name": "Python 3 (ipykernel)",
   "language": "python",
   "name": "python3"
  },
  "language_info": {
   "codemirror_mode": {
    "name": "ipython",
    "version": 3
   },
   "file_extension": ".py",
   "mimetype": "text/x-python",
   "name": "python",
   "nbconvert_exporter": "python",
   "pygments_lexer": "ipython3",
   "version": "3.9.7"
  },
  "latex_envs": {
   "LaTeX_envs_menu_present": true,
   "autoclose": false,
   "autocomplete": true,
   "bibliofile": "biblio.bib",
   "cite_by": "apalike",
   "current_citInitial": 1,
   "eqLabelWithNumbers": true,
   "eqNumInitial": 1,
   "hotkeys": {
    "equation": "Ctrl-E",
    "itemize": "Ctrl-I"
   },
   "labels_anchors": false,
   "latex_user_defs": false,
   "report_style_numbering": false,
   "user_envs_cfg": false
  }
 },
 "nbformat": 4,
 "nbformat_minor": 2
}
