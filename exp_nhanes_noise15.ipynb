{
 "cells": [
  {
   "cell_type": "code",
   "execution_count": 1,
   "metadata": {
    "ExecuteTime": {
     "end_time": "2022-06-03T07:55:07.995838Z",
     "start_time": "2022-06-03T07:55:05.179232Z"
    },
    "execution": {
     "iopub.execute_input": "2022-06-03T15:29:46.713971Z",
     "iopub.status.busy": "2022-06-03T15:29:46.705718Z",
     "iopub.status.idle": "2022-06-03T15:29:50.198587Z",
     "shell.execute_reply": "2022-06-03T15:29:50.197963Z"
    }
   },
   "outputs": [],
   "source": [
    "from __future__ import print_function\n",
    "import warnings\n",
    "warnings.filterwarnings(\"ignore\", category=UserWarning)\n",
    "warnings.filterwarnings(\"ignore\", category=FutureWarning)\n",
    "## Disable tf future deprecated messages\n",
    "import logging\n",
    "logging.getLogger('tensorflow').disabled = True\n",
    "## Disable tf CUDA messages\n",
    "import os\n",
    "os.environ['TF_CPP_MIN_LOG_LEVEL'] = '3'\n",
    "\n",
    "%matplotlib inline\n",
    "\n",
    "import sys\n",
    "import random\n",
    "import numpy as np\n",
    "import pandas as pd\n",
    "\n",
    "import utils\n",
    "import correction\n",
    "from models.dense import *\n",
    "from models.gain import gain\n",
    "from models.soft_impute import SoftImpute\n",
    "from models.sinkhorn import OTimputer\n",
    "from models.mida import mida\n",
    "\n",
    "import scipy.stats\n",
    "\n",
    "from sklearn.experimental import enable_iterative_imputer\n",
    "from sklearn.impute import IterativeImputer\n",
    "from sklearn.impute import KNNImputer, SimpleImputer\n",
    "\n",
    "import sklearn.neighbors._base\n",
    "sys.modules['sklearn.neighbors.base'] = sklearn.neighbors._base\n",
    "from missingpy import MissForest\n",
    "\n",
    "torch.backends.cudnn.enabled = True\n",
    "torch.backends.cudnn.benchmark = True\n",
    "dtype = torch.cuda.FloatTensor"
   ]
  },
  {
   "cell_type": "markdown",
   "metadata": {},
   "source": [
    "## Repeat all experiments for 10 runs"
   ]
  },
  {
   "cell_type": "code",
   "execution_count": 2,
   "metadata": {
    "ExecuteTime": {
     "end_time": "2022-06-03T07:55:08.000555Z",
     "start_time": "2022-06-03T07:55:07.997377Z"
    },
    "execution": {
     "iopub.execute_input": "2022-06-03T15:29:50.202345Z",
     "iopub.status.busy": "2022-06-03T15:29:50.201886Z",
     "iopub.status.idle": "2022-06-03T15:29:50.203900Z",
     "shell.execute_reply": "2022-06-03T15:29:50.203491Z"
    }
   },
   "outputs": [],
   "source": [
    "n_runs = 10"
   ]
  },
  {
   "cell_type": "markdown",
   "metadata": {},
   "source": [
    "## Load data"
   ]
  },
  {
   "cell_type": "code",
   "execution_count": 3,
   "metadata": {
    "ExecuteTime": {
     "end_time": "2022-06-03T07:55:08.125875Z",
     "start_time": "2022-06-03T07:55:08.002687Z"
    },
    "execution": {
     "iopub.execute_input": "2022-06-03T15:29:50.207689Z",
     "iopub.status.busy": "2022-06-03T15:29:50.207240Z",
     "iopub.status.idle": "2022-06-03T15:29:50.343582Z",
     "shell.execute_reply": "2022-06-03T15:29:50.344942Z"
    }
   },
   "outputs": [
    {
     "name": "stdout",
     "output_type": "stream",
     "text": [
      "Dataset shape: (2000, 95)\n",
      "33.65% missing data\n",
      "Class distribution: (array([1., 2.]), array([1000, 1000]))\n"
     ]
    }
   ],
   "source": [
    "data_missing, missing_mask, y = utils.load_nhanes(balanced=True)\n",
    "## Inject noise\n",
    "data_missing = utils.inject_noise(data_missing.copy(), noise_rate=.15)\n",
    "## Replace missing values locations by 0\n",
    "data_missing = data_missing * missing_mask"
   ]
  },
  {
   "cell_type": "markdown",
   "metadata": {},
   "source": [
    "## Run OUR METHOD"
   ]
  },
  {
   "cell_type": "code",
   "execution_count": 4,
   "metadata": {
    "ExecuteTime": {
     "end_time": "2022-06-03T07:56:24.490750Z",
     "start_time": "2022-06-03T07:55:08.129737Z"
    },
    "execution": {
     "iopub.execute_input": "2022-06-03T15:29:50.356354Z",
     "iopub.status.busy": "2022-06-03T15:29:50.355558Z",
     "iopub.status.idle": "2022-06-03T15:43:48.242730Z",
     "shell.execute_reply": "2022-06-03T15:43:48.243133Z"
    },
    "scrolled": false
   },
   "outputs": [
    {
     "name": "stdout",
     "output_type": "stream",
     "text": [
      "Ite 00000 - 4.90 sec - Loss 0.060898 - ACC 60.75% - ACC Mean 60.75% - AUC 65.72% - AUC Mean 65.72% - Deter 000\n",
      "Ite 00050 - 0.95 sec - Loss 0.012384 - ACC 62.55% - ACC Mean 60.69% - AUC 65.21% - AUC Mean 64.84% - Deter 015\n",
      "Ite 00085 - 0.98 sec - Loss 0.007724 - ACC 58.95% - ACC Mean 60.37% - AUC 63.48% - AUC Mean 64.34% - Deter 050\n",
      "Early stop ite 85, rollback to correction of ite 35, whith acc of 62.65% and auc of 66.95%\n",
      "OUR METHOD RUN 1/10 - acc: 62.65% +- 0.0% - auc: 66.95% +- 0.0%\n",
      "Ite 00000 - 1.02 sec - Loss 0.138130 - ACC 59.75% - ACC Mean 59.75% - AUC 65.04% - AUC Mean 65.04% - Deter 000\n",
      "Ite 00050 - 1.24 sec - Loss 0.052408 - ACC 60.65% - ACC Mean 61.02% - AUC 64.90% - AUC Mean 65.16% - Deter 031\n",
      "Ite 00069 - 1.07 sec - Loss 0.042984 - ACC 60.20% - ACC Mean 60.73% - AUC 64.65% - AUC Mean 64.95% - Deter 050\n",
      "Early stop ite 69, rollback to correction of ite 19, whith acc of 61.95% and auc of 66.91%\n",
      "OUR METHOD RUN 2/10 - acc: 61.95% +- 0.0% - auc: 66.91% +- 0.0%\n",
      "Ite 00000 - 0.98 sec - Loss 0.081472 - ACC 60.80% - ACC Mean 60.80% - AUC 65.61% - AUC Mean 65.61% - Deter 000\n",
      "Ite 00050 - 1.08 sec - Loss 0.023951 - ACC 59.75% - ACC Mean 60.79% - AUC 63.25% - AUC Mean 64.91% - Deter 047\n",
      "Ite 00053 - 1.05 sec - Loss 0.022872 - ACC 61.00% - ACC Mean 60.76% - AUC 64.97% - AUC Mean 64.85% - Deter 050\n",
      "Early stop ite 53, rollback to correction of ite 3, whith acc of 61.25% and auc of 66.72%\n",
      "OUR METHOD RUN 3/10 - acc: 61.25% +- 0.0% - auc: 66.72% +- 0.0%\n",
      "Ite 00000 - 0.98 sec - Loss 0.077095 - ACC 60.95% - ACC Mean 60.95% - AUC 65.61% - AUC Mean 65.61% - Deter 000\n",
      "Ite 00050 - 1.03 sec - Loss 0.020098 - ACC 59.40% - ACC Mean 60.29% - AUC 62.97% - AUC Mean 64.43% - Deter 041\n",
      "Ite 00059 - 1.00 sec - Loss 0.017793 - ACC 61.35% - ACC Mean 60.32% - AUC 65.72% - AUC Mean 64.53% - Deter 050\n",
      "Early stop ite 59, rollback to correction of ite 9, whith acc of 63.15% and auc of 66.98%\n",
      "OUR METHOD RUN 4/10 - acc: 63.15% +- 0.0% - auc: 66.98% +- 0.0%\n",
      "Ite 00000 - 1.05 sec - Loss 0.102528 - ACC 61.00% - ACC Mean 61.00% - AUC 65.43% - AUC Mean 65.43% - Deter 000\n",
      "Ite 00050 - 1.03 sec - Loss 0.040106 - ACC 62.85% - ACC Mean 61.27% - AUC 67.42% - AUC Mean 65.76% - Deter 004\n",
      "Ite 00096 - 1.06 sec - Loss 0.024965 - ACC 60.65% - ACC Mean 60.97% - AUC 64.88% - AUC Mean 65.28% - Deter 050\n",
      "Early stop ite 96, rollback to correction of ite 46, whith acc of 64.05% and auc of 67.64%\n",
      "OUR METHOD RUN 5/10 - acc: 64.05% +- 0.0% - auc: 67.64% +- 0.0%\n",
      "Ite 00000 - 1.08 sec - Loss 0.085252 - ACC 60.15% - ACC Mean 60.15% - AUC 63.96% - AUC Mean 63.96% - Deter 000\n",
      "Ite 00050 - 1.01 sec - Loss 0.020817 - ACC 59.05% - ACC Mean 60.33% - AUC 64.01% - AUC Mean 64.59% - Deter 048\n",
      "Ite 00052 - 1.06 sec - Loss 0.020198 - ACC 60.35% - ACC Mean 60.32% - AUC 64.51% - AUC Mean 64.58% - Deter 050\n",
      "Early stop ite 52, rollback to correction of ite 2, whith acc of 62.0% and auc of 66.7%\n",
      "OUR METHOD RUN 6/10 - acc: 62.0% +- 0.0% - auc: 66.7% +- 0.0%\n",
      "Ite 00000 - 0.95 sec - Loss 0.101746 - ACC 62.05% - ACC Mean 62.05% - AUC 65.77% - AUC Mean 65.77% - Deter 000\n",
      "Ite 00050 - 1.06 sec - Loss 0.034189 - ACC 61.75% - ACC Mean 60.82% - AUC 65.01% - AUC Mean 64.97% - Deter 043\n",
      "Ite 00057 - 1.14 sec - Loss 0.031499 - ACC 60.85% - ACC Mean 60.87% - AUC 65.36% - AUC Mean 65.05% - Deter 050\n",
      "Early stop ite 57, rollback to correction of ite 7, whith acc of 62.1% and auc of 67.04%\n",
      "OUR METHOD RUN 7/10 - acc: 62.1% +- 0.0% - auc: 67.04% +- 0.0%\n",
      "Ite 00000 - 1.05 sec - Loss 0.078717 - ACC 61.10% - ACC Mean 61.10% - AUC 65.35% - AUC Mean 65.35% - Deter 000\n",
      "Ite 00050 - 0.92 sec - Loss 0.019345 - ACC 60.85% - ACC Mean 60.80% - AUC 64.88% - AUC Mean 64.97% - Deter 046\n",
      "Ite 00054 - 1.12 sec - Loss 0.018098 - ACC 61.25% - ACC Mean 60.67% - AUC 65.38% - AUC Mean 64.87% - Deter 050\n",
      "Early stop ite 54, rollback to correction of ite 4, whith acc of 62.75% and auc of 67.49%\n",
      "OUR METHOD RUN 8/10 - acc: 62.75% +- 0.0% - auc: 67.49% +- 0.0%\n",
      "Ite 00000 - 1.02 sec - Loss 0.086008 - ACC 61.05% - ACC Mean 61.05% - AUC 64.97% - AUC Mean 64.97% - Deter 000\n",
      "Ite 00050 - 1.12 sec - Loss 0.027250 - ACC 59.80% - ACC Mean 61.03% - AUC 64.53% - AUC Mean 65.12% - Deter 007\n",
      "Ite 00093 - 1.27 sec - Loss 0.017413 - ACC 61.60% - ACC Mean 61.02% - AUC 65.33% - AUC Mean 64.94% - Deter 050\n",
      "Early stop ite 93, rollback to correction of ite 43, whith acc of 63.1% and auc of 67.96%\n",
      "OUR METHOD RUN 9/10 - acc: 63.1% +- 0.0% - auc: 67.96% +- 0.0%\n",
      "Ite 00000 - 1.25 sec - Loss 0.065488 - ACC 61.45% - ACC Mean 61.45% - AUC 65.19% - AUC Mean 65.19% - Deter 000\n",
      "Ite 00050 - 1.31 sec - Loss 0.025155 - ACC 61.05% - ACC Mean 60.65% - AUC 65.30% - AUC Mean 64.85% - Deter 033\n",
      "Ite 00100 - 1.11 sec - Loss 0.015491 - ACC 61.25% - ACC Mean 60.88% - AUC 65.96% - AUC Mean 65.34% - Deter 048\n",
      "Ite 00102 - 1.11 sec - Loss 0.015230 - ACC 62.30% - ACC Mean 60.86% - AUC 66.20% - AUC Mean 65.31% - Deter 050\n",
      "Early stop ite 102, rollback to correction of ite 52, whith acc of 63.15% and auc of 67.35%\n",
      "OUR METHOD RUN 10/10 - acc: 63.15% +- 0.0% - auc: 67.35% +- 0.0%\n",
      "\n",
      "OUR METHOD GLOBAL - acc: 62.62% +- 0.76% - auc: 67.17% +- 0.4%\n"
     ]
    }
   ],
   "source": [
    "params = {\n",
    "    'nb_batches': 10,\n",
    "    'reg_noise_std': .03,\n",
    "    'net_input': 'data_corrupted',\n",
    "    'net_params': {\n",
    "        'input_channels':1,\n",
    "        'output_channels':1,\n",
    "        'channels_skip':4,\n",
    "        'down_layers':[(24, 7, 1),\n",
    "                       (46, 9, 5),\n",
    "                       (96, 11, 1),\n",
    "                       (96, 13, 1)],\n",
    "        'need_sigmoid':True,\n",
    "        'need_bias':True,\n",
    "        'pad':'zero',\n",
    "        'downsample_mode':'stride',\n",
    "        'upsample_mode':'nearest',\n",
    "        'act_fun':'LeakyReLU',\n",
    "        'need1x1_up':True\n",
    "    },# or a list containing layers sizes\n",
    "    'adam_lr': .0001,\n",
    "    'adam_weight_decay': 0.,\n",
    "}\n",
    "\n",
    "ours_accs, ours_aucs = [], []\n",
    "for i in range(n_runs):\n",
    "    ours_correction = correction.run(data_missing, 501, params, y=y, missing_mask=missing_mask, seed=i)\n",
    "    ## Since our method returns 2 imputations select the best one\n",
    "    scores_raw = utils.get_scores(ours_correction['raw_out'], y)\n",
    "    acc = scores_raw['test_balanced_accuracy']\n",
    "    auc = scores_raw['test_roc_auc_ovo']\n",
    "    acc = acc.mean()\n",
    "    acc_std = acc.std()\n",
    "    auc = auc.mean()\n",
    "    auc_std = auc.std()\n",
    "    if 'masked_out' in ours_correction:\n",
    "        scores_masked = utils.get_scores(ours_correction['masked_out'], y)\n",
    "        acc_masked = scores_masked['test_balanced_accuracy']\n",
    "        auc_masked = scores_masked['test_roc_auc_ovo']\n",
    "        if auc_masked.mean() > auc:\n",
    "            acc = acc_masked.mean()\n",
    "            acc_std = acc_masked.std()\n",
    "            auc = auc_masked.mean()\n",
    "            auc_std = auc_masked.std()\n",
    "    print(f'OUR METHOD RUN {i + 1}/{n_runs} - acc: {round(acc.mean() * 100, 2)}% +- {round(acc.std() * 100, 2)}% - ' +\n",
    "          f'auc: {round(auc.mean() * 100, 2)}% +- {round(auc.std() * 100, 2)}%')\n",
    "    ours_accs.append(acc.mean())\n",
    "    ours_aucs.append(auc.mean())\n",
    "print(f'\\nOUR METHOD GLOBAL - acc: {round(np.array(ours_accs).mean() * 100, 2)}% +- {round(np.array(ours_accs).std() * 100, 2)}% - ' +\n",
    "      f'auc: {round(np.array(ours_aucs).mean() * 100, 2)}% +- {round(np.array(ours_aucs).std() * 100, 2)}%')"
   ]
  },
  {
   "cell_type": "markdown",
   "metadata": {},
   "source": [
    "## Run Median, Mean and KNN"
   ]
  },
  {
   "cell_type": "code",
   "execution_count": 5,
   "metadata": {
    "ExecuteTime": {
     "end_time": "2022-06-03T07:56:26.974392Z",
     "start_time": "2022-06-03T07:56:24.492926Z"
    },
    "execution": {
     "iopub.execute_input": "2022-06-03T15:43:48.252165Z",
     "iopub.status.busy": "2022-06-03T15:43:48.246137Z",
     "iopub.status.idle": "2022-06-03T15:43:51.480973Z",
     "shell.execute_reply": "2022-06-03T15:43:51.480552Z"
    }
   },
   "outputs": [
    {
     "name": "stdout",
     "output_type": "stream",
     "text": [
      "MEDIAN - acc: 60.65% +- 0.0% - auc: 64.04% +- 0.0%\n",
      "MEAN - acc: 58.75% +- 0.0% - auc: 63.8% +- 0.0%\n",
      "KNN - acc: 60.55% +- 0.0% - auc: 64.29% +- 0.0%\n"
     ]
    }
   ],
   "source": [
    "data_missing_nans = np.where(missing_mask, data_missing, np.nan)\n",
    "\n",
    "median_imputer = SimpleImputer(missing_values=np.nan, strategy='median')\n",
    "mean_imputer = SimpleImputer(missing_values=np.nan, strategy='mean')\n",
    "knn_imputer = KNNImputer(n_neighbors=10, weights='uniform')\n",
    "\n",
    "median_completed = median_imputer.fit_transform(data_missing_nans)\n",
    "mean_completed = mean_imputer.fit_transform(data_missing_nans)\n",
    "knn_completed = knn_imputer.fit_transform(data_missing_nans)\n",
    "\n",
    "## All runs would be the same since deterministic methods\n",
    "scores = utils.get_scores(median_completed, y)\n",
    "acc = [scores['test_balanced_accuracy'].mean()] * n_runs\n",
    "auc = [scores['test_roc_auc_ovo'].mean()] * n_runs\n",
    "print(f'MEDIAN - acc: {round(np.mean(acc) * 100, 2)}% +- {round(np.std(acc) * 100, 2)}% - ' +\n",
    "      f'auc: {round(np.mean(auc) * 100, 2)}% +- {round(np.std(auc) * 100, 2)}%')\n",
    "median_accs = acc\n",
    "median_aucs = auc\n",
    "\n",
    "scores = utils.get_scores(mean_completed, y)\n",
    "acc = [scores['test_balanced_accuracy'].mean()] * n_runs\n",
    "auc = [scores['test_roc_auc_ovo'].mean()] * n_runs\n",
    "print(f'MEAN - acc: {round(np.mean(acc) * 100, 2)}% +- {round(np.std(acc) * 100, 2)}% - ' +\n",
    "      f'auc: {round(np.mean(auc) * 100, 2)}% +- {round(np.std(auc) * 100, 2)}%')\n",
    "mean_accs = acc\n",
    "mean_aucs = auc\n",
    "\n",
    "scores = utils.get_scores(knn_completed, y)\n",
    "acc = [scores['test_balanced_accuracy'].mean()] * n_runs\n",
    "auc = [scores['test_roc_auc_ovo'].mean()] * n_runs\n",
    "print(f'KNN - acc: {round(np.mean(acc) * 100, 2)}% +- {round(np.std(acc) * 100, 2)}% - ' +\n",
    "      f'auc: {round(np.mean(auc) * 100, 2)}% +- {round(np.std(auc) * 100, 2)}%')\n",
    "knn_accs = acc\n",
    "knn_aucs = auc"
   ]
  },
  {
   "cell_type": "markdown",
   "metadata": {},
   "source": [
    "## Run GAIN"
   ]
  },
  {
   "cell_type": "code",
   "execution_count": 6,
   "metadata": {
    "ExecuteTime": {
     "end_time": "2022-06-03T07:57:05.045589Z",
     "start_time": "2022-06-03T07:56:26.976166Z"
    },
    "execution": {
     "iopub.execute_input": "2022-06-03T15:43:51.487613Z",
     "iopub.status.busy": "2022-06-03T15:43:51.487179Z",
     "iopub.status.idle": "2022-06-03T15:52:32.783476Z",
     "shell.execute_reply": "2022-06-03T15:52:32.784065Z"
    },
    "scrolled": false
   },
   "outputs": [
    {
     "name": "stderr",
     "output_type": "stream",
     "text": [
      "100%|██████████| 5000/5000 [00:43<00:00, 114.80it/s]\n"
     ]
    },
    {
     "name": "stdout",
     "output_type": "stream",
     "text": [
      "\n",
      "GAIN RUN 1/10 - acc: 59.05% +- 1.63% - auc: 61.93% +- 2.39%\n",
      "\n"
     ]
    },
    {
     "name": "stderr",
     "output_type": "stream",
     "text": [
      "100%|██████████| 5000/5000 [00:44<00:00, 113.10it/s]\n"
     ]
    },
    {
     "name": "stdout",
     "output_type": "stream",
     "text": [
      "\n",
      "GAIN RUN 2/10 - acc: 60.05% +- 2.36% - auc: 64.14% +- 2.79%\n",
      "\n"
     ]
    },
    {
     "name": "stderr",
     "output_type": "stream",
     "text": [
      "100%|██████████| 5000/5000 [00:42<00:00, 117.53it/s]\n"
     ]
    },
    {
     "name": "stdout",
     "output_type": "stream",
     "text": [
      "\n",
      "GAIN RUN 3/10 - acc: 60.4% +- 3.22% - auc: 64.94% +- 3.82%\n",
      "\n"
     ]
    },
    {
     "name": "stderr",
     "output_type": "stream",
     "text": [
      "100%|██████████| 5000/5000 [00:48<00:00, 103.69it/s]\n"
     ]
    },
    {
     "name": "stdout",
     "output_type": "stream",
     "text": [
      "\n",
      "GAIN RUN 4/10 - acc: 59.85% +- 2.16% - auc: 64.08% +- 2.01%\n",
      "\n"
     ]
    },
    {
     "name": "stderr",
     "output_type": "stream",
     "text": [
      "100%|██████████| 5000/5000 [00:50<00:00, 99.76it/s] \n"
     ]
    },
    {
     "name": "stdout",
     "output_type": "stream",
     "text": [
      "\n",
      "GAIN RUN 5/10 - acc: 61.6% +- 3.14% - auc: 66.29% +- 3.54%\n",
      "\n"
     ]
    },
    {
     "name": "stderr",
     "output_type": "stream",
     "text": [
      "100%|██████████| 5000/5000 [00:50<00:00, 98.49it/s]\n"
     ]
    },
    {
     "name": "stdout",
     "output_type": "stream",
     "text": [
      "\n",
      "GAIN RUN 6/10 - acc: 59.9% +- 2.43% - auc: 64.47% +- 2.92%\n",
      "\n"
     ]
    },
    {
     "name": "stderr",
     "output_type": "stream",
     "text": [
      "100%|██████████| 5000/5000 [00:56<00:00, 88.32it/s]\n"
     ]
    },
    {
     "name": "stdout",
     "output_type": "stream",
     "text": [
      "\n",
      "GAIN RUN 7/10 - acc: 60.15% +- 2.93% - auc: 65.02% +- 3.05%\n",
      "\n"
     ]
    },
    {
     "name": "stderr",
     "output_type": "stream",
     "text": [
      "100%|██████████| 5000/5000 [00:49<00:00, 101.55it/s]\n"
     ]
    },
    {
     "name": "stdout",
     "output_type": "stream",
     "text": [
      "\n",
      "GAIN RUN 8/10 - acc: 59.65% +- 2.31% - auc: 63.96% +- 2.65%\n",
      "\n"
     ]
    },
    {
     "name": "stderr",
     "output_type": "stream",
     "text": [
      "100%|██████████| 5000/5000 [00:48<00:00, 103.52it/s]\n"
     ]
    },
    {
     "name": "stdout",
     "output_type": "stream",
     "text": [
      "\n",
      "GAIN RUN 9/10 - acc: 60.0% +- 1.65% - auc: 63.68% +- 2.48%\n",
      "\n"
     ]
    },
    {
     "name": "stderr",
     "output_type": "stream",
     "text": [
      "100%|██████████| 5000/5000 [00:49<00:00, 101.96it/s]\n"
     ]
    },
    {
     "name": "stdout",
     "output_type": "stream",
     "text": [
      "\n",
      "GAIN RUN 10/10 - acc: 61.4% +- 2.24% - auc: 65.48% +- 3.48%\n",
      "\n",
      "GAIN GLOBAL - acc: 60.2% +- 0.73% - auc: 64.4% +- 1.11%\n"
     ]
    }
   ],
   "source": [
    "gain_parameters = {'batch_size': 128,\n",
    "                   'hint_rate': .9,\n",
    "                   'alpha': 100,\n",
    "                   'iterations': 5000}\n",
    "\n",
    "gain_accs, gain_aucs = [], []\n",
    "for i in range(n_runs):\n",
    "    random.seed(i)\n",
    "    np.random.seed(i)\n",
    "    torch.manual_seed(i)\n",
    "    imputed = gain(data_missing_nans, gain_parameters)\n",
    "    scores = utils.get_scores(imputed, y)\n",
    "    acc = scores['test_balanced_accuracy']\n",
    "    auc = scores['test_roc_auc_ovo']\n",
    "    print(f'\\nGAIN RUN {i + 1}/{n_runs} - acc: {round(acc.mean() * 100, 2)}% +- {round(acc.std() * 100, 2)}% - ' +\n",
    "          f'auc: {round(auc.mean() * 100, 2)}% +- {round(auc.std() * 100, 2)}%\\n')\n",
    "    gain_accs.append(acc.mean())\n",
    "    gain_aucs.append(auc.mean())\n",
    "print(f'GAIN GLOBAL - acc: {round(np.array(gain_accs).mean() * 100, 2)}% +- {round(np.array(gain_accs).std() * 100, 2)}% - ' +\n",
    "      f'auc: {round(np.array(gain_aucs).mean() * 100, 2)}% +- {round(np.array(gain_aucs).std() * 100, 2)}%')"
   ]
  },
  {
   "cell_type": "markdown",
   "metadata": {},
   "source": [
    "## Run MICE"
   ]
  },
  {
   "cell_type": "code",
   "execution_count": 7,
   "metadata": {
    "ExecuteTime": {
     "end_time": "2022-06-03T08:05:36.625097Z",
     "start_time": "2022-06-03T07:57:05.047941Z"
    },
    "execution": {
     "iopub.execute_input": "2022-06-03T15:52:32.795486Z",
     "iopub.status.busy": "2022-06-03T15:52:32.794975Z",
     "iopub.status.idle": "2022-06-03T16:06:57.089241Z",
     "shell.execute_reply": "2022-06-03T16:06:57.090055Z"
    }
   },
   "outputs": [
    {
     "name": "stdout",
     "output_type": "stream",
     "text": [
      "MICE - acc: 61.2% +- 0.0% - auc: 64.88% +- 0.0%\n"
     ]
    }
   ],
   "source": [
    "imputer = IterativeImputer()\n",
    "imputed = imputer.fit_transform(data_missing_nans)\n",
    "## All runs would be the same since deterministic method\n",
    "scores = utils.get_scores(imputed, y)\n",
    "acc = [scores['test_balanced_accuracy'].mean()] * n_runs\n",
    "auc = [scores['test_roc_auc_ovo'].mean()] * n_runs\n",
    "print(f'MICE - acc: {round(np.mean(acc) * 100, 2)}% +- {round(np.std(acc) * 100, 2)}% - ' +\n",
    "      f'auc: {round(np.mean(auc) * 100, 2)}% +- {round(np.std(auc) * 100, 2)}%')\n",
    "mice_accs = acc\n",
    "mice_aucs = auc"
   ]
  },
  {
   "cell_type": "markdown",
   "metadata": {},
   "source": [
    "## Run MISSFOREST"
   ]
  },
  {
   "cell_type": "code",
   "execution_count": 8,
   "metadata": {
    "ExecuteTime": {
     "end_time": "2022-06-03T08:13:22.668185Z",
     "start_time": "2022-06-03T08:05:36.627849Z"
    },
    "execution": {
     "iopub.execute_input": "2022-06-03T16:06:57.104206Z",
     "iopub.status.busy": "2022-06-03T16:06:57.097775Z",
     "iopub.status.idle": "2022-06-03T17:40:26.124902Z",
     "shell.execute_reply": "2022-06-03T17:40:26.124477Z"
    },
    "scrolled": false
   },
   "outputs": [
    {
     "name": "stdout",
     "output_type": "stream",
     "text": [
      "Iteration: 0\n",
      "Iteration: 1\n",
      "\n",
      "MISSFOREST RUN 1/10 - acc: 59.65% +- 2.12% - auc: 64.29% +- 2.59%\n",
      "\n",
      "Iteration: 0\n",
      "Iteration: 1\n",
      "\n",
      "MISSFOREST RUN 2/10 - acc: 60.4% +- 0.94% - auc: 64.32% +- 1.92%\n",
      "\n",
      "Iteration: 0\n",
      "Iteration: 1\n",
      "\n",
      "MISSFOREST RUN 3/10 - acc: 62.15% +- 1.09% - auc: 65.36% +- 2.72%\n",
      "\n",
      "Iteration: 0\n",
      "Iteration: 1\n",
      "\n",
      "MISSFOREST RUN 4/10 - acc: 61.9% +- 1.56% - auc: 65.79% +- 2.22%\n",
      "\n",
      "Iteration: 0\n",
      "Iteration: 1\n",
      "\n",
      "MISSFOREST RUN 5/10 - acc: 60.65% +- 1.29% - auc: 64.71% +- 2.2%\n",
      "\n",
      "Iteration: 0\n",
      "Iteration: 1\n",
      "\n",
      "MISSFOREST RUN 6/10 - acc: 59.8% +- 1.45% - auc: 64.5% +- 2.07%\n",
      "\n",
      "Iteration: 0\n",
      "Iteration: 1\n",
      "\n",
      "MISSFOREST RUN 7/10 - acc: 60.15% +- 3.23% - auc: 63.84% +- 3.46%\n",
      "\n",
      "Iteration: 0\n",
      "Iteration: 1\n",
      "\n",
      "MISSFOREST RUN 8/10 - acc: 61.45% +- 1.94% - auc: 66.07% +- 2.3%\n",
      "\n",
      "Iteration: 0\n",
      "Iteration: 1\n",
      "\n",
      "MISSFOREST RUN 9/10 - acc: 62.35% +- 1.35% - auc: 66.07% +- 3.13%\n",
      "\n",
      "Iteration: 0\n",
      "Iteration: 1\n",
      "\n",
      "MISSFOREST RUN 10/10 - acc: 60.9% +- 2.77% - auc: 65.45% +- 2.68%\n",
      "\n",
      "\n",
      "MISSFOREST GLOBAL - acc: 60.94% +- 0.93% - auc: 65.04% +- 0.77%\n"
     ]
    }
   ],
   "source": [
    "miss_accs, miss_aucs = [], []\n",
    "for i in range(n_runs):\n",
    "    random.seed(i)\n",
    "    np.random.seed(i)\n",
    "    torch.manual_seed(i)\n",
    "    imputer = MissForest(n_jobs=-1, random_state=i)\n",
    "    imputed = imputer.fit_transform(data_missing_nans)\n",
    "    scores = utils.get_scores(imputed, y)\n",
    "    acc = scores['test_balanced_accuracy']\n",
    "    auc = scores['test_roc_auc_ovo']\n",
    "    print(f'\\nMISSFOREST RUN {i + 1}/{n_runs} - acc: {round(acc.mean() * 100, 2)}% +- {round(acc.std() * 100, 2)}% - ' +\n",
    "          f'auc: {round(auc.mean() * 100, 2)}% +- {round(auc.std() * 100, 2)}%\\n')\n",
    "    miss_accs.append(acc.mean())\n",
    "    miss_aucs.append(auc.mean())\n",
    "print(f'\\nMISSFOREST GLOBAL - acc: {round(np.array(miss_accs).mean() * 100, 2)}% +- {round(np.array(miss_accs).std() * 100, 2)}% - ' +\n",
    "      f'auc: {round(np.array(miss_aucs).mean() * 100, 2)}% +- {round(np.array(miss_aucs).std() * 100, 2)}%')"
   ]
  },
  {
   "cell_type": "markdown",
   "metadata": {},
   "source": [
    "## Run SOFTIMPUTE"
   ]
  },
  {
   "cell_type": "code",
   "execution_count": 9,
   "metadata": {
    "ExecuteTime": {
     "end_time": "2022-06-03T08:13:24.127459Z",
     "start_time": "2022-06-03T08:13:22.670807Z"
    },
    "execution": {
     "iopub.execute_input": "2022-06-03T17:40:26.133480Z",
     "iopub.status.busy": "2022-06-03T17:40:26.133045Z",
     "iopub.status.idle": "2022-06-03T17:40:44.454308Z",
     "shell.execute_reply": "2022-06-03T17:40:44.454738Z"
    }
   },
   "outputs": [
    {
     "name": "stdout",
     "output_type": "stream",
     "text": [
      "SOFTIMPUTE RUN 1/10 - acc: 61.75% +- 2.16% - auc: 65.12% +- 3.32%\n",
      "SOFTIMPUTE RUN 2/10 - acc: 58.8% +- 0.4% - auc: 63.73% +- 0.69%\n",
      "SOFTIMPUTE RUN 3/10 - acc: 61.05% +- 2.61% - auc: 64.56% +- 2.98%\n",
      "SOFTIMPUTE RUN 4/10 - acc: 58.95% +- 1.65% - auc: 64.12% +- 2.07%\n",
      "SOFTIMPUTE RUN 5/10 - acc: 61.3% +- 1.67% - auc: 65.29% +- 1.91%\n",
      "SOFTIMPUTE RUN 6/10 - acc: 60.8% +- 2.38% - auc: 64.6% +- 2.79%\n",
      "SOFTIMPUTE RUN 7/10 - acc: 59.85% +- 2.41% - auc: 63.56% +- 3.15%\n",
      "SOFTIMPUTE RUN 8/10 - acc: 60.5% +- 1.64% - auc: 64.54% +- 1.58%\n",
      "SOFTIMPUTE RUN 9/10 - acc: 60.35% +- 3.12% - auc: 65.1% +- 4.24%\n",
      "SOFTIMPUTE RUN 10/10 - acc: 60.05% +- 2.43% - auc: 64.18% +- 2.6%\n",
      "\n",
      "SOFTIMPUTE GLOBAL - acc: 60.34% +- 0.91% - auc: 64.48% +- 0.56%\n"
     ]
    }
   ],
   "source": [
    "soft_accs, soft_aucs = [], []\n",
    "for i in range(n_runs):\n",
    "    random.seed(i)\n",
    "    np.random.seed(i)\n",
    "    torch.manual_seed(i)\n",
    "    imputer = SoftImpute(random_state=i)\n",
    "    imputer.fit(data_missing_nans)\n",
    "    imputed = imputer.predict(data_missing_nans)\n",
    "    imputed = np.where(missing_mask, data_missing, imputed)\n",
    "    scores = utils.get_scores(imputed, y)\n",
    "    acc = scores['test_balanced_accuracy']\n",
    "    auc = scores['test_roc_auc_ovo']\n",
    "    print(f'SOFTIMPUTE RUN {i + 1}/{n_runs} - acc: {round(acc.mean() * 100, 2)}% +- {round(acc.std() * 100, 2)}% - ' +\n",
    "          f'auc: {round(auc.mean() * 100, 2)}% +- {round(auc.std() * 100, 2)}%')\n",
    "    soft_accs.append(acc.mean())\n",
    "    soft_aucs.append(auc.mean())\n",
    "print(f'\\nSOFTIMPUTE GLOBAL - acc: {round(np.array(soft_accs).mean() * 100, 2)}% +- {round(np.array(soft_accs).std() * 100, 2)}% - ' +\n",
    "      f'auc: {round(np.array(soft_aucs).mean() * 100, 2)}% +- {round(np.array(soft_aucs).std() * 100, 2)}%')"
   ]
  },
  {
   "cell_type": "markdown",
   "metadata": {},
   "source": [
    "## Run SINKHORN"
   ]
  },
  {
   "cell_type": "code",
   "execution_count": 10,
   "metadata": {
    "execution": {
     "iopub.execute_input": "2022-06-03T17:40:44.460034Z",
     "iopub.status.busy": "2022-06-03T17:40:44.459587Z",
     "iopub.status.idle": "2022-06-03T17:53:21.642180Z",
     "shell.execute_reply": "2022-06-03T17:53:21.642850Z"
    }
   },
   "outputs": [
    {
     "name": "stdout",
     "output_type": "stream",
     "text": [
      "batchsize = 128, epsilon = 0.0100\n",
      "Iteration 0:\t Loss: 2.4094\n",
      "\n",
      "SINKHORN RUN 1/10 - acc: 59.95% +- 2.81% - auc: 64.1% +- 2.72%\n",
      "\n",
      "batchsize = 128, epsilon = 0.0100\n",
      "Iteration 0:\t Loss: 2.4365\n",
      "\n",
      "SINKHORN RUN 2/10 - acc: 58.8% +- 2.34% - auc: 63.4% +- 2.0%\n",
      "\n",
      "batchsize = 128, epsilon = 0.0100\n",
      "Iteration 0:\t Loss: 2.4261\n",
      "\n",
      "SINKHORN RUN 3/10 - acc: 57.8% +- 2.22% - auc: 62.75% +- 2.36%\n",
      "\n",
      "batchsize = 128, epsilon = 0.0100\n",
      "Iteration 0:\t Loss: 2.5577\n",
      "\n",
      "SINKHORN RUN 4/10 - acc: 58.55% +- 2.13% - auc: 62.32% +- 1.94%\n",
      "\n",
      "batchsize = 128, epsilon = 0.0100\n",
      "Iteration 0:\t Loss: 2.4567\n",
      "\n",
      "SINKHORN RUN 5/10 - acc: 60.8% +- 1.59% - auc: 64.75% +- 1.66%\n",
      "\n",
      "batchsize = 128, epsilon = 0.0100\n",
      "Iteration 0:\t Loss: 2.4533\n",
      "\n",
      "SINKHORN RUN 6/10 - acc: 60.05% +- 3.44% - auc: 63.45% +- 3.48%\n",
      "\n",
      "batchsize = 128, epsilon = 0.0100\n",
      "Iteration 0:\t Loss: 2.4107\n",
      "\n",
      "SINKHORN RUN 7/10 - acc: 60.55% +- 1.96% - auc: 63.07% +- 2.73%\n",
      "\n",
      "batchsize = 128, epsilon = 0.0100\n",
      "Iteration 0:\t Loss: 2.5078\n",
      "\n",
      "SINKHORN RUN 8/10 - acc: 58.9% +- 2.93% - auc: 62.35% +- 3.07%\n",
      "\n",
      "batchsize = 128, epsilon = 0.0100\n",
      "Iteration 0:\t Loss: 2.4605\n",
      "\n",
      "SINKHORN RUN 9/10 - acc: 60.7% +- 2.2% - auc: 63.71% +- 1.7%\n",
      "\n",
      "batchsize = 128, epsilon = 0.0100\n",
      "Iteration 0:\t Loss: 2.4088\n",
      "\n",
      "SINKHORN RUN 10/10 - acc: 59.6% +- 1.01% - auc: 63.45% +- 1.75%\n",
      "\n",
      "\n",
      "SINKHORN GLOBAL - acc: 59.57% +- 0.97% - auc: 63.34% +- 0.72%\n"
     ]
    }
   ],
   "source": [
    "sink_accs, sink_aucs = [], []\n",
    "for i in range(n_runs):\n",
    "    random.seed(i)\n",
    "    np.random.seed(i)\n",
    "    torch.manual_seed(i)\n",
    "    imputer = OTimputer(niter=500)\n",
    "    imputed = imputer.fit_transform(data_missing_nans).cpu().detach().numpy()\n",
    "    scores = utils.get_scores(imputed, y)\n",
    "    acc = scores['test_balanced_accuracy']\n",
    "    auc = scores['test_roc_auc_ovo']\n",
    "    print(f'\\nSINKHORN RUN {i + 1}/{n_runs} - acc: {round(acc.mean() * 100, 2)}% +- {round(acc.std() * 100, 2)}% - ' +\n",
    "          f'auc: {round(auc.mean() * 100, 2)}% +- {round(auc.std() * 100, 2)}%\\n')\n",
    "    sink_accs.append(acc.mean())\n",
    "    sink_aucs.append(auc.mean())\n",
    "print(f'\\nSINKHORN GLOBAL - acc: {round(np.array(sink_accs).mean() * 100, 2)}% +- {round(np.array(sink_accs).std() * 100, 2)}% - ' +\n",
    "      f'auc: {round(np.array(sink_aucs).mean() * 100, 2)}% +- {round(np.array(sink_aucs).std() * 100, 2)}%')"
   ]
  },
  {
   "cell_type": "markdown",
   "metadata": {},
   "source": [
    "## Run MIDA"
   ]
  },
  {
   "cell_type": "code",
   "execution_count": 11,
   "metadata": {
    "execution": {
     "iopub.execute_input": "2022-06-03T17:53:21.650505Z",
     "iopub.status.busy": "2022-06-03T17:53:21.650025Z",
     "iopub.status.idle": "2022-06-03T17:59:57.193762Z",
     "shell.execute_reply": "2022-06-03T17:59:57.194126Z"
    }
   },
   "outputs": [
    {
     "name": "stdout",
     "output_type": "stream",
     "text": [
      "Stop training at epoch: 1500/1500, return best output\n",
      "\n",
      "MIDA RUN 1/10 - acc: 61.45% +- 2.2% - auc: 65.15% +- 1.3%\n",
      "\n",
      "Stop training at epoch: 1500/1500, return best output\n",
      "\n",
      "MIDA RUN 2/10 - acc: 60.85% +- 2.74% - auc: 64.99% +- 3.76%\n",
      "\n",
      "Stop training at epoch: 1500/1500, return best output\n",
      "\n",
      "MIDA RUN 3/10 - acc: 60.3% +- 1.49% - auc: 64.23% +- 2.35%\n",
      "\n",
      "Stop training at epoch: 1500/1500, return best output\n",
      "\n",
      "MIDA RUN 4/10 - acc: 59.3% +- 1.76% - auc: 63.96% +- 1.91%\n",
      "\n",
      "Stop training at epoch: 1500/1500, return best output\n",
      "\n",
      "MIDA RUN 5/10 - acc: 60.5% +- 2.07% - auc: 64.74% +- 1.9%\n",
      "\n",
      "Stop training at epoch: 1500/1500, return best output\n",
      "\n",
      "MIDA RUN 6/10 - acc: 59.7% +- 2.81% - auc: 65.49% +- 3.85%\n",
      "\n",
      "Stop training at epoch: 1500/1500, return best output\n",
      "\n",
      "MIDA RUN 7/10 - acc: 59.65% +- 1.87% - auc: 63.71% +- 1.87%\n",
      "\n",
      "Stop training at epoch: 1500/1500, return best output\n",
      "\n",
      "MIDA RUN 8/10 - acc: 58.25% +- 1.89% - auc: 61.86% +- 1.33%\n",
      "\n",
      "Stop training at epoch: 1500/1500, return best output\n",
      "\n",
      "MIDA RUN 9/10 - acc: 59.75% +- 2.42% - auc: 64.63% +- 2.62%\n",
      "\n",
      "Stop training at epoch: 1500/1500, return best output\n",
      "\n",
      "MIDA RUN 10/10 - acc: 61.35% +- 1.95% - auc: 65.9% +- 1.87%\n",
      "\n",
      "\n",
      "MIDA GLOBAL - acc: 60.11% +- 0.93% - auc: 64.47% +- 1.08%\n"
     ]
    }
   ],
   "source": [
    "mida_accs, mida_aucs = [], []\n",
    "for i in range(n_runs):\n",
    "    random.seed(i)\n",
    "    np.random.seed(i)\n",
    "    torch.manual_seed(i)\n",
    "    imputed = mida(data_missing_nans, num_layers=2, num_epochs=1500)\n",
    "    imputed = np.where(missing_mask, data_missing, imputed)\n",
    "    scores = utils.get_scores(imputed, y)\n",
    "    acc = scores['test_balanced_accuracy']\n",
    "    auc = scores['test_roc_auc_ovo']\n",
    "    print(f'\\nMIDA RUN {i + 1}/{n_runs} - acc: {round(acc.mean() * 100, 2)}% +- {round(acc.std() * 100, 2)}% - ' +\n",
    "          f'auc: {round(auc.mean() * 100, 2)}% +- {round(auc.std() * 100, 2)}%\\n')\n",
    "    mida_accs.append(acc.mean())\n",
    "    mida_aucs.append(auc.mean())\n",
    "print(f'\\nMIDA GLOBAL - acc: {round(np.array(mida_accs).mean() * 100, 2)}% +- {round(np.array(mida_accs).std() * 100, 2)}% - ' +\n",
    "      f'auc: {round(np.array(mida_aucs).mean() * 100, 2)}% +- {round(np.array(mida_aucs).std() * 100, 2)}%')"
   ]
  },
  {
   "cell_type": "markdown",
   "metadata": {},
   "source": [
    "## Run T-tests"
   ]
  },
  {
   "cell_type": "code",
   "execution_count": 12,
   "metadata": {
    "ExecuteTime": {
     "end_time": "2022-06-03T08:13:24.155174Z",
     "start_time": "2022-06-03T08:13:24.143959Z"
    },
    "execution": {
     "iopub.execute_input": "2022-06-03T17:59:57.241136Z",
     "iopub.status.busy": "2022-06-03T17:59:57.240667Z",
     "iopub.status.idle": "2022-06-03T17:59:57.252628Z",
     "shell.execute_reply": "2022-06-03T17:59:57.252288Z"
    }
   },
   "outputs": [
    {
     "name": "stdout",
     "output_type": "stream",
     "text": [
      "Metric ACC - OUR METHOD is significantly better than MEDIAN\n",
      "Metric AUC - OUR METHOD is significantly better than MEDIAN\n",
      "Metric ACC - OUR METHOD is significantly better than MEAN\n",
      "Metric AUC - OUR METHOD is significantly better than MEAN\n",
      "Metric ACC - OUR METHOD is significantly better than KNN\n",
      "Metric AUC - OUR METHOD is significantly better than KNN\n",
      "Metric ACC - OUR METHOD is significantly better than GAIN\n",
      "Metric AUC - OUR METHOD is significantly better than GAIN\n",
      "Metric ACC - OUR METHOD is significantly better than MICE\n",
      "Metric AUC - OUR METHOD is significantly better than MICE\n",
      "Metric ACC - OUR METHOD is significantly better than MISS\n",
      "Metric AUC - OUR METHOD is significantly better than MISS\n",
      "Metric ACC - OUR METHOD is significantly better than SOFT\n",
      "Metric AUC - OUR METHOD is significantly better than SOFT\n",
      "Metric ACC - OUR METHOD is significantly better than SINK\n",
      "Metric AUC - OUR METHOD is significantly better than SINK\n",
      "Metric ACC - OUR METHOD is significantly better than MIDA\n",
      "Metric AUC - OUR METHOD is significantly better than MIDA\n"
     ]
    }
   ],
   "source": [
    "for model, metrics in {\n",
    "        'MEDIAN': {'ACC': median_accs, 'AUC': median_aucs},\n",
    "        'MEAN': {'ACC': mean_accs, 'AUC': mean_aucs},\n",
    "        'KNN': {'ACC': knn_accs, 'AUC': knn_aucs},\n",
    "        'GAIN': {'ACC': gain_accs, 'AUC': gain_aucs},\n",
    "        'MICE': {'ACC': mice_accs, 'AUC': mice_aucs},\n",
    "        'MISS': {'ACC': miss_accs, 'AUC': miss_aucs},\n",
    "        'SOFT': {'ACC': soft_accs, 'AUC': soft_aucs},\n",
    "        'SINK': {'ACC': sink_accs, 'AUC': sink_aucs},\n",
    "        'MIDA': {'ACC': mida_accs, 'AUC': mida_aucs}}.items():\n",
    "    for metric_name, metric in metrics.items():\n",
    "        ours_metric = ours_accs if metric_name == 'ACC' else ours_aucs\n",
    "        t, p = scipy.stats.ttest_ind(np.array(ours_metric), np.array(metric))\n",
    "        if p <= .05:\n",
    "            if t > 0:\n",
    "                ## Our method is better\n",
    "                print(f'Metric {metric_name} - OUR METHOD is significantly better than {model}')\n",
    "            else:\n",
    "                ## Theirs is better\n",
    "                print(f'Metric {metric_name} - OUR METHOD is significantly worse than {model}')\n",
    "        else:\n",
    "            ## Else we are even\n",
    "            print(f'Metric {metric_name} - OUR METHOD is even with {model}')"
   ]
  }
 ],
 "metadata": {
  "kernelspec": {
   "display_name": "Python 3 (ipykernel)",
   "language": "python",
   "name": "python3"
  },
  "language_info": {
   "codemirror_mode": {
    "name": "ipython",
    "version": 3
   },
   "file_extension": ".py",
   "mimetype": "text/x-python",
   "name": "python",
   "nbconvert_exporter": "python",
   "pygments_lexer": "ipython3",
   "version": "3.9.7"
  },
  "latex_envs": {
   "LaTeX_envs_menu_present": true,
   "autoclose": false,
   "autocomplete": true,
   "bibliofile": "biblio.bib",
   "cite_by": "apalike",
   "current_citInitial": 1,
   "eqLabelWithNumbers": true,
   "eqNumInitial": 1,
   "hotkeys": {
    "equation": "Ctrl-E",
    "itemize": "Ctrl-I"
   },
   "labels_anchors": false,
   "latex_user_defs": false,
   "report_style_numbering": false,
   "user_envs_cfg": false
  }
 },
 "nbformat": 4,
 "nbformat_minor": 2
}
