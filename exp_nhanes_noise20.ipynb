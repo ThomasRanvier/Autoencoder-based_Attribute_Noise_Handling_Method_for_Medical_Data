{
 "cells": [
  {
   "cell_type": "code",
   "execution_count": 1,
   "metadata": {
    "ExecuteTime": {
     "end_time": "2022-06-03T07:55:07.995838Z",
     "start_time": "2022-06-03T07:55:05.179232Z"
    },
    "execution": {
     "iopub.execute_input": "2022-06-03T15:29:46.788962Z",
     "iopub.status.busy": "2022-06-03T15:29:46.786812Z",
     "iopub.status.idle": "2022-06-03T15:29:50.244241Z",
     "shell.execute_reply": "2022-06-03T15:29:50.244623Z"
    }
   },
   "outputs": [],
   "source": [
    "from __future__ import print_function\n",
    "import warnings\n",
    "warnings.filterwarnings(\"ignore\", category=UserWarning)\n",
    "warnings.filterwarnings(\"ignore\", category=FutureWarning)\n",
    "## Disable tf future deprecated messages\n",
    "import logging\n",
    "logging.getLogger('tensorflow').disabled = True\n",
    "## Disable tf CUDA messages\n",
    "import os\n",
    "os.environ['TF_CPP_MIN_LOG_LEVEL'] = '3'\n",
    "\n",
    "%matplotlib inline\n",
    "\n",
    "import sys\n",
    "import random\n",
    "import numpy as np\n",
    "import pandas as pd\n",
    "\n",
    "import utils\n",
    "import correction\n",
    "from models.dense import *\n",
    "from models.gain import gain\n",
    "from models.soft_impute import SoftImpute\n",
    "from models.sinkhorn import OTimputer\n",
    "from models.mida import mida\n",
    "\n",
    "import scipy.stats\n",
    "\n",
    "from sklearn.experimental import enable_iterative_imputer\n",
    "from sklearn.impute import IterativeImputer\n",
    "from sklearn.impute import KNNImputer, SimpleImputer\n",
    "\n",
    "import sklearn.neighbors._base\n",
    "sys.modules['sklearn.neighbors.base'] = sklearn.neighbors._base\n",
    "from missingpy import MissForest\n",
    "\n",
    "torch.backends.cudnn.enabled = True\n",
    "torch.backends.cudnn.benchmark = True\n",
    "dtype = torch.cuda.FloatTensor"
   ]
  },
  {
   "cell_type": "markdown",
   "metadata": {},
   "source": [
    "## Repeat all experiments for 10 runs"
   ]
  },
  {
   "cell_type": "code",
   "execution_count": 2,
   "metadata": {
    "ExecuteTime": {
     "end_time": "2022-06-03T07:55:08.000555Z",
     "start_time": "2022-06-03T07:55:07.997377Z"
    },
    "execution": {
     "iopub.execute_input": "2022-06-03T15:29:50.247959Z",
     "iopub.status.busy": "2022-06-03T15:29:50.246943Z",
     "iopub.status.idle": "2022-06-03T15:29:50.249616Z",
     "shell.execute_reply": "2022-06-03T15:29:50.249957Z"
    }
   },
   "outputs": [],
   "source": [
    "n_runs = 10"
   ]
  },
  {
   "cell_type": "markdown",
   "metadata": {},
   "source": [
    "## Load data"
   ]
  },
  {
   "cell_type": "code",
   "execution_count": 3,
   "metadata": {
    "ExecuteTime": {
     "end_time": "2022-06-03T07:55:08.125875Z",
     "start_time": "2022-06-03T07:55:08.002687Z"
    },
    "execution": {
     "iopub.execute_input": "2022-06-03T15:29:50.253678Z",
     "iopub.status.busy": "2022-06-03T15:29:50.253231Z",
     "iopub.status.idle": "2022-06-03T15:29:50.381069Z",
     "shell.execute_reply": "2022-06-03T15:29:50.381439Z"
    }
   },
   "outputs": [
    {
     "name": "stdout",
     "output_type": "stream",
     "text": [
      "Dataset shape: (2000, 95)\n",
      "33.65% missing data\n",
      "Class distribution: (array([1., 2.]), array([1000, 1000]))\n"
     ]
    }
   ],
   "source": [
    "data_missing, missing_mask, y = utils.load_nhanes(balanced=True)\n",
    "## Inject noise\n",
    "data_missing = utils.inject_noise(data_missing.copy(), noise_rate=.20)\n",
    "## Replace missing values locations by 0\n",
    "data_missing = data_missing * missing_mask"
   ]
  },
  {
   "cell_type": "markdown",
   "metadata": {},
   "source": [
    "## Run OUR METHOD"
   ]
  },
  {
   "cell_type": "code",
   "execution_count": 4,
   "metadata": {
    "ExecuteTime": {
     "end_time": "2022-06-03T07:56:24.490750Z",
     "start_time": "2022-06-03T07:55:08.129737Z"
    },
    "execution": {
     "iopub.execute_input": "2022-06-03T15:29:50.385414Z",
     "iopub.status.busy": "2022-06-03T15:29:50.384974Z",
     "iopub.status.idle": "2022-06-03T15:49:19.383093Z",
     "shell.execute_reply": "2022-06-03T15:49:19.382493Z"
    },
    "scrolled": false
   },
   "outputs": [
    {
     "name": "stdout",
     "output_type": "stream",
     "text": [
      "Ite 00000 - 4.76 sec - Loss 0.061286 - ACC 59.40% - ACC Mean 59.40% - AUC 63.53% - AUC Mean 63.53% - Deter 000\n",
      "Ite 00050 - 0.94 sec - Loss 0.012290 - ACC 60.60% - ACC Mean 59.43% - AUC 64.02% - AUC Mean 63.42% - Deter 043\n",
      "Ite 00057 - 0.93 sec - Loss 0.010934 - ACC 60.35% - ACC Mean 59.38% - AUC 63.57% - AUC Mean 63.34% - Deter 050\n",
      "Early stop ite 57, rollback to correction of ite 7, whith acc of 61.9% and auc of 65.78%\n",
      "OUR METHOD RUN 1/10 - acc: 61.9% +- 0.0% - auc: 65.78% +- 0.0%\n",
      "Ite 00000 - 1.17 sec - Loss 0.135436 - ACC 60.25% - ACC Mean 60.25% - AUC 63.69% - AUC Mean 63.69% - Deter 000\n",
      "Ite 00050 - 1.06 sec - Loss 0.051122 - ACC 61.65% - ACC Mean 59.88% - AUC 64.73% - AUC Mean 63.68% - Deter 003\n",
      "Ite 00100 - 1.14 sec - Loss 0.032109 - ACC 59.30% - ACC Mean 60.09% - AUC 62.89% - AUC Mean 64.13% - Deter 001\n",
      "Ite 00150 - 1.09 sec - Loss 0.023171 - ACC 59.45% - ACC Mean 60.29% - AUC 62.84% - AUC Mean 64.45% - Deter 003\n",
      "Ite 00197 - 1.01 sec - Loss 0.017711 - ACC 61.20% - ACC Mean 60.32% - AUC 65.37% - AUC Mean 64.41% - Deter 050\n",
      "Early stop ite 197, rollback to correction of ite 147, whith acc of 62.35% and auc of 66.44%\n",
      "OUR METHOD RUN 2/10 - acc: 62.35% +- 0.0% - auc: 66.44% +- 0.0%\n",
      "Ite 00000 - 1.07 sec - Loss 0.080927 - ACC 60.25% - ACC Mean 60.25% - AUC 63.76% - AUC Mean 63.76% - Deter 000\n",
      "Ite 00050 - 1.14 sec - Loss 0.023615 - ACC 61.35% - ACC Mean 60.64% - AUC 65.66% - AUC Mean 64.59% - Deter 032\n",
      "Ite 00068 - 1.00 sec - Loss 0.018171 - ACC 58.65% - ACC Mean 60.53% - AUC 63.97% - AUC Mean 64.60% - Deter 050\n",
      "Early stop ite 68, rollback to correction of ite 18, whith acc of 62.7% and auc of 67.02%\n",
      "OUR METHOD RUN 3/10 - acc: 62.7% +- 0.0% - auc: 67.02% +- 0.0%\n",
      "Ite 00000 - 1.00 sec - Loss 0.076306 - ACC 59.70% - ACC Mean 59.70% - AUC 64.13% - AUC Mean 64.13% - Deter 000\n",
      "Ite 00050 - 1.08 sec - Loss 0.019746 - ACC 58.60% - ACC Mean 59.65% - AUC 62.31% - AUC Mean 63.45% - Deter 041\n",
      "Ite 00059 - 0.97 sec - Loss 0.017374 - ACC 59.60% - ACC Mean 59.73% - AUC 62.76% - AUC Mean 63.57% - Deter 050\n",
      "Early stop ite 59, rollback to correction of ite 9, whith acc of 60.65% and auc of 65.55%\n",
      "OUR METHOD RUN 4/10 - acc: 60.65% +- 0.0% - auc: 65.55% +- 0.0%\n",
      "Ite 00000 - 0.99 sec - Loss 0.100254 - ACC 59.55% - ACC Mean 59.55% - AUC 63.57% - AUC Mean 63.57% - Deter 000\n",
      "Ite 00050 - 1.01 sec - Loss 0.039004 - ACC 60.55% - ACC Mean 59.62% - AUC 64.35% - AUC Mean 63.70% - Deter 033\n",
      "Ite 00067 - 1.05 sec - Loss 0.031674 - ACC 60.80% - ACC Mean 59.75% - AUC 65.15% - AUC Mean 63.76% - Deter 050\n",
      "Early stop ite 67, rollback to correction of ite 17, whith acc of 63.05% and auc of 66.79%\n",
      "OUR METHOD RUN 5/10 - acc: 63.05% +- 0.0% - auc: 66.79% +- 0.0%\n",
      "Ite 00000 - 1.04 sec - Loss 0.084181 - ACC 59.40% - ACC Mean 59.40% - AUC 63.93% - AUC Mean 63.93% - Deter 000\n",
      "Ite 00050 - 1.28 sec - Loss 0.020462 - ACC 60.90% - ACC Mean 60.06% - AUC 64.38% - AUC Mean 64.22% - Deter 027\n",
      "Ite 00073 - 0.98 sec - Loss 0.014762 - ACC 58.10% - ACC Mean 60.19% - AUC 62.69% - AUC Mean 64.49% - Deter 050\n",
      "Early stop ite 73, rollback to correction of ite 23, whith acc of 61.85% and auc of 66.57%\n",
      "OUR METHOD RUN 6/10 - acc: 61.85% +- 0.0% - auc: 66.57% +- 0.0%\n",
      "Ite 00000 - 0.99 sec - Loss 0.099674 - ACC 61.75% - ACC Mean 61.75% - AUC 65.77% - AUC Mean 65.77% - Deter 000\n",
      "Ite 00050 - 1.08 sec - Loss 0.033264 - ACC 59.15% - ACC Mean 60.22% - AUC 63.99% - AUC Mean 64.02% - Deter 041\n",
      "Ite 00059 - 1.24 sec - Loss 0.029780 - ACC 60.25% - ACC Mean 60.28% - AUC 65.58% - AUC Mean 64.11% - Deter 050\n",
      "Early stop ite 59, rollback to correction of ite 9, whith acc of 62.85% and auc of 67.11%\n",
      "OUR METHOD RUN 7/10 - acc: 62.85% +- 0.0% - auc: 67.11% +- 0.0%\n",
      "Ite 00000 - 1.21 sec - Loss 0.078146 - ACC 58.70% - ACC Mean 58.70% - AUC 64.42% - AUC Mean 64.42% - Deter 000\n",
      "Ite 00050 - 1.35 sec - Loss 0.019175 - ACC 59.80% - ACC Mean 59.77% - AUC 64.35% - AUC Mean 63.59% - Deter 005\n",
      "Ite 00095 - 1.09 sec - Loss 0.010645 - ACC 61.20% - ACC Mean 60.14% - AUC 65.32% - AUC Mean 64.32% - Deter 050\n",
      "Early stop ite 95, rollback to correction of ite 45, whith acc of 61.9% and auc of 66.77%\n",
      "OUR METHOD RUN 8/10 - acc: 61.9% +- 0.0% - auc: 66.77% +- 0.0%\n",
      "Ite 00000 - 1.27 sec - Loss 0.084718 - ACC 60.45% - ACC Mean 60.45% - AUC 64.57% - AUC Mean 64.57% - Deter 000\n",
      "Ite 00050 - 1.09 sec - Loss 0.026532 - ACC 60.80% - ACC Mean 60.23% - AUC 64.41% - AUC Mean 64.12% - Deter 029\n",
      "Ite 00071 - 1.55 sec - Loss 0.020551 - ACC 59.70% - ACC Mean 60.16% - AUC 64.72% - AUC Mean 64.05% - Deter 050\n",
      "Early stop ite 71, rollback to correction of ite 21, whith acc of 60.85% and auc of 65.99%\n",
      "OUR METHOD RUN 9/10 - acc: 60.85% +- 0.0% - auc: 65.99% +- 0.0%\n",
      "Ite 00000 - 1.31 sec - Loss 0.063299 - ACC 60.60% - ACC Mean 60.60% - AUC 64.57% - AUC Mean 64.57% - Deter 000\n",
      "Ite 00050 - 1.27 sec - Loss 0.023927 - ACC 58.60% - ACC Mean 60.45% - AUC 62.84% - AUC Mean 64.44% - Deter 012\n",
      "Ite 00100 - 1.54 sec - Loss 0.014591 - ACC 59.75% - ACC Mean 60.51% - AUC 64.62% - AUC Mean 64.48% - Deter 009\n",
      "Ite 00150 - 1.62 sec - Loss 0.009823 - ACC 61.15% - ACC Mean 60.80% - AUC 64.32% - AUC Mean 64.79% - Deter 014\n",
      "Ite 00186 - 2.29 sec - Loss 0.007489 - ACC 59.70% - ACC Mean 61.06% - AUC 65.23% - AUC Mean 65.14% - Deter 050\n",
      "Early stop ite 186, rollback to correction of ite 136, whith acc of 62.35% and auc of 67.13%\n",
      "OUR METHOD RUN 10/10 - acc: 62.35% +- 0.0% - auc: 67.13% +- 0.0%\n",
      "\n",
      "OUR METHOD GLOBAL - acc: 62.05% +- 0.76% - auc: 66.52% +- 0.54%\n"
     ]
    }
   ],
   "source": [
    "params = {\n",
    "    'nb_batches': 10,\n",
    "    'reg_noise_std': .03,\n",
    "    'net_input': 'data_corrupted',\n",
    "    'net_params': {\n",
    "        'input_channels':1,\n",
    "        'output_channels':1,\n",
    "        'channels_skip':4,\n",
    "        'down_layers':[(24, 7, 1),\n",
    "                       (46, 9, 5),\n",
    "                       (96, 11, 1),\n",
    "                       (96, 13, 1)],\n",
    "        'need_sigmoid':True,\n",
    "        'need_bias':True,\n",
    "        'pad':'zero',\n",
    "        'downsample_mode':'stride',\n",
    "        'upsample_mode':'nearest',\n",
    "        'act_fun':'LeakyReLU',\n",
    "        'need1x1_up':True\n",
    "    },# or a list containing layers sizes\n",
    "    'adam_lr': .0001,\n",
    "    'adam_weight_decay': 0.,\n",
    "}\n",
    "\n",
    "ours_accs, ours_aucs = [], []\n",
    "for i in range(n_runs):\n",
    "    ours_correction = correction.run(data_missing, 501, params, y=y, missing_mask=missing_mask, seed=i)\n",
    "    ## Since our method returns 2 imputations select the best one\n",
    "    scores_raw = utils.get_scores(ours_correction['raw_out'], y)\n",
    "    acc = scores_raw['test_balanced_accuracy']\n",
    "    auc = scores_raw['test_roc_auc_ovo']\n",
    "    acc = acc.mean()\n",
    "    acc_std = acc.std()\n",
    "    auc = auc.mean()\n",
    "    auc_std = auc.std()\n",
    "    if 'masked_out' in ours_correction:\n",
    "        scores_masked = utils.get_scores(ours_correction['masked_out'], y)\n",
    "        acc_masked = scores_masked['test_balanced_accuracy']\n",
    "        auc_masked = scores_masked['test_roc_auc_ovo']\n",
    "        if auc_masked.mean() > auc:\n",
    "            acc = acc_masked.mean()\n",
    "            acc_std = acc_masked.std()\n",
    "            auc = auc_masked.mean()\n",
    "            auc_std = auc_masked.std()\n",
    "    print(f'OUR METHOD RUN {i + 1}/{n_runs} - acc: {round(acc.mean() * 100, 2)}% +- {round(acc.std() * 100, 2)}% - ' +\n",
    "          f'auc: {round(auc.mean() * 100, 2)}% +- {round(auc.std() * 100, 2)}%')\n",
    "    ours_accs.append(acc.mean())\n",
    "    ours_aucs.append(auc.mean())\n",
    "print(f'\\nOUR METHOD GLOBAL - acc: {round(np.array(ours_accs).mean() * 100, 2)}% +- {round(np.array(ours_accs).std() * 100, 2)}% - ' +\n",
    "      f'auc: {round(np.array(ours_aucs).mean() * 100, 2)}% +- {round(np.array(ours_aucs).std() * 100, 2)}%')"
   ]
  },
  {
   "cell_type": "markdown",
   "metadata": {},
   "source": [
    "## Run Median, Mean and KNN"
   ]
  },
  {
   "cell_type": "code",
   "execution_count": 5,
   "metadata": {
    "ExecuteTime": {
     "end_time": "2022-06-03T07:56:26.974392Z",
     "start_time": "2022-06-03T07:56:24.492926Z"
    },
    "execution": {
     "iopub.execute_input": "2022-06-03T15:49:19.394585Z",
     "iopub.status.busy": "2022-06-03T15:49:19.394053Z",
     "iopub.status.idle": "2022-06-03T15:49:23.690610Z",
     "shell.execute_reply": "2022-06-03T15:49:23.690992Z"
    }
   },
   "outputs": [
    {
     "name": "stdout",
     "output_type": "stream",
     "text": [
      "MEDIAN - acc: 59.4% +- 0.0% - auc: 64.48% +- 0.0%\n",
      "MEAN - acc: 60.0% +- 0.0% - auc: 64.02% +- 0.0%\n",
      "KNN - acc: 58.3% +- 0.0% - auc: 60.78% +- 0.0%\n"
     ]
    }
   ],
   "source": [
    "data_missing_nans = np.where(missing_mask, data_missing, np.nan)\n",
    "\n",
    "median_imputer = SimpleImputer(missing_values=np.nan, strategy='median')\n",
    "mean_imputer = SimpleImputer(missing_values=np.nan, strategy='mean')\n",
    "knn_imputer = KNNImputer(n_neighbors=10, weights='uniform')\n",
    "\n",
    "median_completed = median_imputer.fit_transform(data_missing_nans)\n",
    "mean_completed = mean_imputer.fit_transform(data_missing_nans)\n",
    "knn_completed = knn_imputer.fit_transform(data_missing_nans)\n",
    "\n",
    "## All runs would be the same since deterministic methods\n",
    "scores = utils.get_scores(median_completed, y)\n",
    "acc = [scores['test_balanced_accuracy'].mean()] * n_runs\n",
    "auc = [scores['test_roc_auc_ovo'].mean()] * n_runs\n",
    "print(f'MEDIAN - acc: {round(np.mean(acc) * 100, 2)}% +- {round(np.std(acc) * 100, 2)}% - ' +\n",
    "      f'auc: {round(np.mean(auc) * 100, 2)}% +- {round(np.std(auc) * 100, 2)}%')\n",
    "median_accs = acc\n",
    "median_aucs = auc\n",
    "\n",
    "scores = utils.get_scores(mean_completed, y)\n",
    "acc = [scores['test_balanced_accuracy'].mean()] * n_runs\n",
    "auc = [scores['test_roc_auc_ovo'].mean()] * n_runs\n",
    "print(f'MEAN - acc: {round(np.mean(acc) * 100, 2)}% +- {round(np.std(acc) * 100, 2)}% - ' +\n",
    "      f'auc: {round(np.mean(auc) * 100, 2)}% +- {round(np.std(auc) * 100, 2)}%')\n",
    "mean_accs = acc\n",
    "mean_aucs = auc\n",
    "\n",
    "scores = utils.get_scores(knn_completed, y)\n",
    "acc = [scores['test_balanced_accuracy'].mean()] * n_runs\n",
    "auc = [scores['test_roc_auc_ovo'].mean()] * n_runs\n",
    "print(f'KNN - acc: {round(np.mean(acc) * 100, 2)}% +- {round(np.std(acc) * 100, 2)}% - ' +\n",
    "      f'auc: {round(np.mean(auc) * 100, 2)}% +- {round(np.std(auc) * 100, 2)}%')\n",
    "knn_accs = acc\n",
    "knn_aucs = auc"
   ]
  },
  {
   "cell_type": "markdown",
   "metadata": {},
   "source": [
    "## Run GAIN"
   ]
  },
  {
   "cell_type": "code",
   "execution_count": 6,
   "metadata": {
    "ExecuteTime": {
     "end_time": "2022-06-03T07:57:05.045589Z",
     "start_time": "2022-06-03T07:56:26.976166Z"
    },
    "execution": {
     "iopub.execute_input": "2022-06-03T15:49:23.699662Z",
     "iopub.status.busy": "2022-06-03T15:49:23.699192Z",
     "iopub.status.idle": "2022-06-03T15:59:56.103334Z",
     "shell.execute_reply": "2022-06-03T15:59:56.103877Z"
    },
    "scrolled": false
   },
   "outputs": [
    {
     "name": "stderr",
     "output_type": "stream",
     "text": [
      "100%|██████████| 5000/5000 [00:44<00:00, 112.80it/s]\n"
     ]
    },
    {
     "name": "stdout",
     "output_type": "stream",
     "text": [
      "\n",
      "GAIN RUN 1/10 - acc: 61.95% +- 2.31% - auc: 65.16% +- 3.46%\n",
      "\n"
     ]
    },
    {
     "name": "stderr",
     "output_type": "stream",
     "text": [
      "100%|██████████| 5000/5000 [00:49<00:00, 100.59it/s]\n"
     ]
    },
    {
     "name": "stdout",
     "output_type": "stream",
     "text": [
      "\n",
      "GAIN RUN 2/10 - acc: 60.5% +- 3.19% - auc: 65.01% +- 3.02%\n",
      "\n"
     ]
    },
    {
     "name": "stderr",
     "output_type": "stream",
     "text": [
      "100%|██████████| 5000/5000 [00:52<00:00, 96.04it/s]\n"
     ]
    },
    {
     "name": "stdout",
     "output_type": "stream",
     "text": [
      "\n",
      "GAIN RUN 3/10 - acc: 61.35% +- 3.65% - auc: 65.26% +- 2.55%\n",
      "\n"
     ]
    },
    {
     "name": "stderr",
     "output_type": "stream",
     "text": [
      "100%|██████████| 5000/5000 [00:57<00:00, 87.58it/s] \n"
     ]
    },
    {
     "name": "stdout",
     "output_type": "stream",
     "text": [
      "\n",
      "GAIN RUN 4/10 - acc: 58.25% +- 1.08% - auc: 61.77% +- 2.22%\n",
      "\n"
     ]
    },
    {
     "name": "stderr",
     "output_type": "stream",
     "text": [
      "100%|██████████| 5000/5000 [00:56<00:00, 88.45it/s] \n"
     ]
    },
    {
     "name": "stdout",
     "output_type": "stream",
     "text": [
      "\n",
      "GAIN RUN 5/10 - acc: 61.75% +- 1.13% - auc: 65.82% +- 2.42%\n",
      "\n"
     ]
    },
    {
     "name": "stderr",
     "output_type": "stream",
     "text": [
      "100%|██████████| 5000/5000 [00:51<00:00, 97.05it/s] \n"
     ]
    },
    {
     "name": "stdout",
     "output_type": "stream",
     "text": [
      "\n",
      "GAIN RUN 6/10 - acc: 60.65% +- 3.14% - auc: 63.9% +- 3.7%\n",
      "\n"
     ]
    },
    {
     "name": "stderr",
     "output_type": "stream",
     "text": [
      "100%|██████████| 5000/5000 [00:53<00:00, 93.11it/s]\n"
     ]
    },
    {
     "name": "stdout",
     "output_type": "stream",
     "text": [
      "\n",
      "GAIN RUN 7/10 - acc: 59.65% +- 1.95% - auc: 65.22% +- 3.1%\n",
      "\n"
     ]
    },
    {
     "name": "stderr",
     "output_type": "stream",
     "text": [
      "100%|██████████| 5000/5000 [00:55<00:00, 89.44it/s] \n"
     ]
    },
    {
     "name": "stdout",
     "output_type": "stream",
     "text": [
      "\n",
      "GAIN RUN 8/10 - acc: 59.3% +- 4.14% - auc: 63.28% +- 4.53%\n",
      "\n"
     ]
    },
    {
     "name": "stderr",
     "output_type": "stream",
     "text": [
      "100%|██████████| 5000/5000 [01:06<00:00, 75.16it/s] \n"
     ]
    },
    {
     "name": "stdout",
     "output_type": "stream",
     "text": [
      "\n",
      "GAIN RUN 9/10 - acc: 57.95% +- 1.68% - auc: 61.8% +- 2.06%\n",
      "\n"
     ]
    },
    {
     "name": "stderr",
     "output_type": "stream",
     "text": [
      "100%|██████████| 5000/5000 [01:07<00:00, 74.14it/s]\n"
     ]
    },
    {
     "name": "stdout",
     "output_type": "stream",
     "text": [
      "\n",
      "GAIN RUN 10/10 - acc: 62.45% +- 2.58% - auc: 66.02% +- 3.34%\n",
      "\n",
      "GAIN GLOBAL - acc: 60.38% +- 1.48% - auc: 64.32% +- 1.49%\n"
     ]
    }
   ],
   "source": [
    "gain_parameters = {'batch_size': 128,\n",
    "                   'hint_rate': .9,\n",
    "                   'alpha': 100,\n",
    "                   'iterations': 5000}\n",
    "\n",
    "gain_accs, gain_aucs = [], []\n",
    "for i in range(n_runs):\n",
    "    random.seed(i)\n",
    "    np.random.seed(i)\n",
    "    torch.manual_seed(i)\n",
    "    imputed = gain(data_missing_nans, gain_parameters)\n",
    "    scores = utils.get_scores(imputed, y)\n",
    "    acc = scores['test_balanced_accuracy']\n",
    "    auc = scores['test_roc_auc_ovo']\n",
    "    print(f'\\nGAIN RUN {i + 1}/{n_runs} - acc: {round(acc.mean() * 100, 2)}% +- {round(acc.std() * 100, 2)}% - ' +\n",
    "          f'auc: {round(auc.mean() * 100, 2)}% +- {round(auc.std() * 100, 2)}%\\n')\n",
    "    gain_accs.append(acc.mean())\n",
    "    gain_aucs.append(auc.mean())\n",
    "print(f'GAIN GLOBAL - acc: {round(np.array(gain_accs).mean() * 100, 2)}% +- {round(np.array(gain_accs).std() * 100, 2)}% - ' +\n",
    "      f'auc: {round(np.array(gain_aucs).mean() * 100, 2)}% +- {round(np.array(gain_aucs).std() * 100, 2)}%')"
   ]
  },
  {
   "cell_type": "markdown",
   "metadata": {},
   "source": [
    "## Run MICE"
   ]
  },
  {
   "cell_type": "code",
   "execution_count": 7,
   "metadata": {
    "ExecuteTime": {
     "end_time": "2022-06-03T08:05:36.625097Z",
     "start_time": "2022-06-03T07:57:05.047941Z"
    },
    "execution": {
     "iopub.execute_input": "2022-06-03T15:59:56.111442Z",
     "iopub.status.busy": "2022-06-03T15:59:56.111015Z",
     "iopub.status.idle": "2022-06-03T16:27:10.485119Z",
     "shell.execute_reply": "2022-06-03T16:27:10.485956Z"
    }
   },
   "outputs": [
    {
     "name": "stdout",
     "output_type": "stream",
     "text": [
      "MICE - acc: 59.6% +- 0.0% - auc: 63.03% +- 0.0%\n"
     ]
    }
   ],
   "source": [
    "imputer = IterativeImputer()\n",
    "imputed = imputer.fit_transform(data_missing_nans)\n",
    "## All runs would be the same since deterministic method\n",
    "scores = utils.get_scores(imputed, y)\n",
    "acc = [scores['test_balanced_accuracy'].mean()] * n_runs\n",
    "auc = [scores['test_roc_auc_ovo'].mean()] * n_runs\n",
    "print(f'MICE - acc: {round(np.mean(acc) * 100, 2)}% +- {round(np.std(acc) * 100, 2)}% - ' +\n",
    "      f'auc: {round(np.mean(auc) * 100, 2)}% +- {round(np.std(auc) * 100, 2)}%')\n",
    "mice_accs = acc\n",
    "mice_aucs = auc"
   ]
  },
  {
   "cell_type": "markdown",
   "metadata": {},
   "source": [
    "## Run MISSFOREST"
   ]
  },
  {
   "cell_type": "code",
   "execution_count": 8,
   "metadata": {
    "ExecuteTime": {
     "end_time": "2022-06-03T08:13:22.668185Z",
     "start_time": "2022-06-03T08:05:36.627849Z"
    },
    "execution": {
     "iopub.execute_input": "2022-06-03T16:27:10.518580Z",
     "iopub.status.busy": "2022-06-03T16:27:10.518121Z",
     "iopub.status.idle": "2022-06-03T18:14:08.016444Z",
     "shell.execute_reply": "2022-06-03T18:14:08.015539Z"
    },
    "scrolled": false
   },
   "outputs": [
    {
     "name": "stdout",
     "output_type": "stream",
     "text": [
      "Iteration: 0\n",
      "Iteration: 1\n",
      "\n",
      "MISSFOREST RUN 1/10 - acc: 58.6% +- 1.83% - auc: 62.34% +- 1.35%\n",
      "\n",
      "Iteration: 0\n",
      "Iteration: 1\n",
      "\n",
      "MISSFOREST RUN 2/10 - acc: 57.6% +- 2.75% - auc: 61.11% +- 2.15%\n",
      "\n",
      "Iteration: 0\n",
      "Iteration: 1\n",
      "Iteration: 2\n",
      "\n",
      "MISSFOREST RUN 3/10 - acc: 59.0% +- 2.43% - auc: 63.43% +- 1.6%\n",
      "\n",
      "Iteration: 0\n",
      "Iteration: 1\n",
      "\n",
      "MISSFOREST RUN 4/10 - acc: 60.4% +- 2.0% - auc: 64.55% +- 2.05%\n",
      "\n",
      "Iteration: 0\n",
      "Iteration: 1\n",
      "Iteration: 2\n",
      "Iteration: 3\n",
      "Iteration: 4\n",
      "Iteration: 5\n",
      "Iteration: 6\n",
      "\n",
      "MISSFOREST RUN 5/10 - acc: 59.6% +- 1.79% - auc: 62.88% +- 1.75%\n",
      "\n",
      "Iteration: 0\n",
      "Iteration: 1\n",
      "\n",
      "MISSFOREST RUN 6/10 - acc: 60.2% +- 1.93% - auc: 63.56% +- 1.62%\n",
      "\n",
      "Iteration: 0\n",
      "Iteration: 1\n",
      "\n",
      "MISSFOREST RUN 7/10 - acc: 60.2% +- 1.5% - auc: 63.89% +- 2.17%\n",
      "\n",
      "Iteration: 0\n",
      "Iteration: 1\n",
      "\n",
      "MISSFOREST RUN 8/10 - acc: 60.6% +- 2.02% - auc: 64.86% +- 0.97%\n",
      "\n",
      "Iteration: 0\n",
      "Iteration: 1\n",
      "\n",
      "MISSFOREST RUN 9/10 - acc: 59.7% +- 3.22% - auc: 63.08% +- 4.09%\n",
      "\n",
      "Iteration: 0\n",
      "Iteration: 1\n",
      "\n",
      "MISSFOREST RUN 10/10 - acc: 59.3% +- 1.35% - auc: 63.09% +- 2.27%\n",
      "\n",
      "\n",
      "MISSFOREST GLOBAL - acc: 59.52% +- 0.88% - auc: 63.28% +- 1.02%\n"
     ]
    }
   ],
   "source": [
    "miss_accs, miss_aucs = [], []\n",
    "for i in range(n_runs):\n",
    "    random.seed(i)\n",
    "    np.random.seed(i)\n",
    "    torch.manual_seed(i)\n",
    "    imputer = MissForest(n_jobs=-1, random_state=i)\n",
    "    imputed = imputer.fit_transform(data_missing_nans)\n",
    "    scores = utils.get_scores(imputed, y)\n",
    "    acc = scores['test_balanced_accuracy']\n",
    "    auc = scores['test_roc_auc_ovo']\n",
    "    print(f'\\nMISSFOREST RUN {i + 1}/{n_runs} - acc: {round(acc.mean() * 100, 2)}% +- {round(acc.std() * 100, 2)}% - ' +\n",
    "          f'auc: {round(auc.mean() * 100, 2)}% +- {round(auc.std() * 100, 2)}%\\n')\n",
    "    miss_accs.append(acc.mean())\n",
    "    miss_aucs.append(auc.mean())\n",
    "print(f'\\nMISSFOREST GLOBAL - acc: {round(np.array(miss_accs).mean() * 100, 2)}% +- {round(np.array(miss_accs).std() * 100, 2)}% - ' +\n",
    "      f'auc: {round(np.array(miss_aucs).mean() * 100, 2)}% +- {round(np.array(miss_aucs).std() * 100, 2)}%')"
   ]
  },
  {
   "cell_type": "markdown",
   "metadata": {},
   "source": [
    "## Run SOFTIMPUTE"
   ]
  },
  {
   "cell_type": "code",
   "execution_count": 9,
   "metadata": {
    "ExecuteTime": {
     "end_time": "2022-06-03T08:13:24.127459Z",
     "start_time": "2022-06-03T08:13:22.670807Z"
    },
    "execution": {
     "iopub.execute_input": "2022-06-03T18:14:08.030358Z",
     "iopub.status.busy": "2022-06-03T18:14:08.029279Z",
     "iopub.status.idle": "2022-06-03T18:14:23.708998Z",
     "shell.execute_reply": "2022-06-03T18:14:23.709344Z"
    }
   },
   "outputs": [
    {
     "name": "stdout",
     "output_type": "stream",
     "text": [
      "SOFTIMPUTE RUN 1/10 - acc: 59.65% +- 2.43% - auc: 63.68% +- 2.34%\n",
      "SOFTIMPUTE RUN 2/10 - acc: 60.7% +- 2.06% - auc: 64.52% +- 2.5%\n",
      "SOFTIMPUTE RUN 3/10 - acc: 61.95% +- 2.96% - auc: 66.03% +- 3.3%\n",
      "SOFTIMPUTE RUN 4/10 - acc: 60.7% +- 3.81% - auc: 63.34% +- 4.79%\n",
      "SOFTIMPUTE RUN 5/10 - acc: 60.75% +- 2.71% - auc: 64.98% +- 1.67%\n",
      "SOFTIMPUTE RUN 6/10 - acc: 60.75% +- 3.32% - auc: 63.86% +- 3.05%\n",
      "SOFTIMPUTE RUN 7/10 - acc: 57.85% +- 1.75% - auc: 62.19% +- 2.13%\n",
      "SOFTIMPUTE RUN 8/10 - acc: 59.95% +- 1.92% - auc: 62.79% +- 2.73%\n",
      "SOFTIMPUTE RUN 9/10 - acc: 60.55% +- 1.39% - auc: 64.41% +- 2.5%\n",
      "SOFTIMPUTE RUN 10/10 - acc: 61.35% +- 3.18% - auc: 64.87% +- 2.75%\n",
      "\n",
      "SOFTIMPUTE GLOBAL - acc: 60.42% +- 1.05% - auc: 64.07% +- 1.07%\n"
     ]
    }
   ],
   "source": [
    "soft_accs, soft_aucs = [], []\n",
    "for i in range(n_runs):\n",
    "    random.seed(i)\n",
    "    np.random.seed(i)\n",
    "    torch.manual_seed(i)\n",
    "    imputer = SoftImpute(random_state=i)\n",
    "    imputer.fit(data_missing_nans)\n",
    "    imputed = imputer.predict(data_missing_nans)\n",
    "    imputed = np.where(missing_mask, data_missing, imputed)\n",
    "    scores = utils.get_scores(imputed, y)\n",
    "    acc = scores['test_balanced_accuracy']\n",
    "    auc = scores['test_roc_auc_ovo']\n",
    "    print(f'SOFTIMPUTE RUN {i + 1}/{n_runs} - acc: {round(acc.mean() * 100, 2)}% +- {round(acc.std() * 100, 2)}% - ' +\n",
    "          f'auc: {round(auc.mean() * 100, 2)}% +- {round(auc.std() * 100, 2)}%')\n",
    "    soft_accs.append(acc.mean())\n",
    "    soft_aucs.append(auc.mean())\n",
    "print(f'\\nSOFTIMPUTE GLOBAL - acc: {round(np.array(soft_accs).mean() * 100, 2)}% +- {round(np.array(soft_accs).std() * 100, 2)}% - ' +\n",
    "      f'auc: {round(np.array(soft_aucs).mean() * 100, 2)}% +- {round(np.array(soft_aucs).std() * 100, 2)}%')"
   ]
  },
  {
   "cell_type": "markdown",
   "metadata": {},
   "source": [
    "## Run SINKHORN"
   ]
  },
  {
   "cell_type": "code",
   "execution_count": 10,
   "metadata": {
    "execution": {
     "iopub.execute_input": "2022-06-03T18:14:23.715014Z",
     "iopub.status.busy": "2022-06-03T18:14:23.711412Z",
     "iopub.status.idle": "2022-06-03T18:23:56.989202Z",
     "shell.execute_reply": "2022-06-03T18:23:56.989568Z"
    }
   },
   "outputs": [
    {
     "name": "stdout",
     "output_type": "stream",
     "text": [
      "batchsize = 128, epsilon = 0.0100\n",
      "Iteration 0:\t Loss: 2.7121\n",
      "\n",
      "SINKHORN RUN 1/10 - acc: 58.95% +- 2.34% - auc: 63.28% +- 1.59%\n",
      "\n",
      "batchsize = 128, epsilon = 0.0100\n",
      "Iteration 0:\t Loss: 2.7521\n",
      "\n",
      "SINKHORN RUN 2/10 - acc: 58.25% +- 1.34% - auc: 61.28% +- 1.75%\n",
      "\n",
      "batchsize = 128, epsilon = 0.0100\n",
      "Iteration 0:\t Loss: 2.6612\n",
      "\n",
      "SINKHORN RUN 3/10 - acc: 58.0% +- 1.15% - auc: 61.79% +- 1.19%\n",
      "\n",
      "batchsize = 128, epsilon = 0.0100\n",
      "Iteration 0:\t Loss: 2.9204\n",
      "\n",
      "SINKHORN RUN 4/10 - acc: 58.2% +- 2.02% - auc: 63.03% +- 0.46%\n",
      "\n",
      "batchsize = 128, epsilon = 0.0100\n",
      "Iteration 0:\t Loss: 2.7422\n",
      "\n",
      "SINKHORN RUN 5/10 - acc: 57.9% +- 1.73% - auc: 60.03% +- 2.0%\n",
      "\n",
      "batchsize = 128, epsilon = 0.0100\n",
      "Iteration 0:\t Loss: 2.6801\n",
      "\n",
      "SINKHORN RUN 6/10 - acc: 59.5% +- 1.47% - auc: 62.0% +- 1.98%\n",
      "\n",
      "batchsize = 128, epsilon = 0.0100\n",
      "Iteration 0:\t Loss: 2.7053\n",
      "\n",
      "SINKHORN RUN 7/10 - acc: 59.35% +- 2.44% - auc: 63.07% +- 2.87%\n",
      "\n",
      "batchsize = 128, epsilon = 0.0100\n",
      "Iteration 0:\t Loss: 2.8078\n",
      "\n",
      "SINKHORN RUN 8/10 - acc: 59.05% +- 1.54% - auc: 63.29% +- 1.62%\n",
      "\n",
      "batchsize = 128, epsilon = 0.0100\n",
      "Iteration 0:\t Loss: 2.7504\n",
      "\n",
      "SINKHORN RUN 9/10 - acc: 59.3% +- 2.11% - auc: 62.01% +- 2.22%\n",
      "\n",
      "batchsize = 128, epsilon = 0.0100\n",
      "Iteration 0:\t Loss: 2.6936\n",
      "\n",
      "SINKHORN RUN 10/10 - acc: 60.9% +- 0.6% - auc: 64.14% +- 1.32%\n",
      "\n",
      "\n",
      "SINKHORN GLOBAL - acc: 58.94% +- 0.86% - auc: 62.39% +- 1.14%\n"
     ]
    }
   ],
   "source": [
    "sink_accs, sink_aucs = [], []\n",
    "for i in range(n_runs):\n",
    "    random.seed(i)\n",
    "    np.random.seed(i)\n",
    "    torch.manual_seed(i)\n",
    "    imputer = OTimputer(niter=500)\n",
    "    imputed = imputer.fit_transform(data_missing_nans).cpu().detach().numpy()\n",
    "    scores = utils.get_scores(imputed, y)\n",
    "    acc = scores['test_balanced_accuracy']\n",
    "    auc = scores['test_roc_auc_ovo']\n",
    "    print(f'\\nSINKHORN RUN {i + 1}/{n_runs} - acc: {round(acc.mean() * 100, 2)}% +- {round(acc.std() * 100, 2)}% - ' +\n",
    "          f'auc: {round(auc.mean() * 100, 2)}% +- {round(auc.std() * 100, 2)}%\\n')\n",
    "    sink_accs.append(acc.mean())\n",
    "    sink_aucs.append(auc.mean())\n",
    "print(f'\\nSINKHORN GLOBAL - acc: {round(np.array(sink_accs).mean() * 100, 2)}% +- {round(np.array(sink_accs).std() * 100, 2)}% - ' +\n",
    "      f'auc: {round(np.array(sink_aucs).mean() * 100, 2)}% +- {round(np.array(sink_aucs).std() * 100, 2)}%')"
   ]
  },
  {
   "cell_type": "markdown",
   "metadata": {},
   "source": [
    "## Run MIDA"
   ]
  },
  {
   "cell_type": "code",
   "execution_count": 11,
   "metadata": {
    "execution": {
     "iopub.execute_input": "2022-06-03T18:23:56.996751Z",
     "iopub.status.busy": "2022-06-03T18:23:56.996306Z",
     "iopub.status.idle": "2022-06-03T18:28:26.027932Z",
     "shell.execute_reply": "2022-06-03T18:28:26.028337Z"
    }
   },
   "outputs": [
    {
     "name": "stdout",
     "output_type": "stream",
     "text": [
      "Stop training at epoch: 1500/1500, return best output\n",
      "\n",
      "MIDA RUN 1/10 - acc: 59.0% +- 2.31% - auc: 62.36% +- 2.84%\n",
      "\n",
      "Stop training at epoch: 1500/1500, return best output\n",
      "\n",
      "MIDA RUN 2/10 - acc: 61.35% +- 0.78% - auc: 64.6% +- 1.9%\n",
      "\n",
      "Stop training at epoch: 1500/1500, return best output\n",
      "\n",
      "MIDA RUN 3/10 - acc: 60.1% +- 1.83% - auc: 64.03% +- 3.16%\n",
      "\n",
      "Stop training at epoch: 1500/1500, return best output\n",
      "\n",
      "MIDA RUN 4/10 - acc: 61.15% +- 1.06% - auc: 65.54% +- 1.84%\n",
      "\n",
      "Stop training at epoch: 1500/1500, return best output\n",
      "\n",
      "MIDA RUN 5/10 - acc: 60.15% +- 2.46% - auc: 63.32% +- 2.02%\n",
      "\n",
      "Stop training at epoch: 1500/1500, return best output\n",
      "\n",
      "MIDA RUN 6/10 - acc: 60.15% +- 1.6% - auc: 63.17% +- 2.88%\n",
      "\n",
      "Stop training at epoch: 1500/1500, return best output\n",
      "\n",
      "MIDA RUN 7/10 - acc: 59.65% +- 1.4% - auc: 62.93% +- 1.79%\n",
      "\n",
      "Stop training at epoch: 1500/1500, return best output\n",
      "\n",
      "MIDA RUN 8/10 - acc: 59.2% +- 2.08% - auc: 62.58% +- 2.23%\n",
      "\n",
      "Stop training at epoch: 1500/1500, return best output\n",
      "\n",
      "MIDA RUN 9/10 - acc: 59.15% +- 1.1% - auc: 63.24% +- 0.89%\n",
      "\n",
      "Stop training at epoch: 1500/1500, return best output\n",
      "\n",
      "MIDA RUN 10/10 - acc: 61.1% +- 2.87% - auc: 65.59% +- 2.97%\n",
      "\n",
      "\n",
      "MIDA GLOBAL - acc: 60.1% +- 0.82% - auc: 63.74% +- 1.1%\n"
     ]
    }
   ],
   "source": [
    "mida_accs, mida_aucs = [], []\n",
    "for i in range(n_runs):\n",
    "    random.seed(i)\n",
    "    np.random.seed(i)\n",
    "    torch.manual_seed(i)\n",
    "    imputed = mida(data_missing_nans, num_layers=2, num_epochs=1500)\n",
    "    imputed = np.where(missing_mask, data_missing, imputed)\n",
    "    scores = utils.get_scores(imputed, y)\n",
    "    acc = scores['test_balanced_accuracy']\n",
    "    auc = scores['test_roc_auc_ovo']\n",
    "    print(f'\\nMIDA RUN {i + 1}/{n_runs} - acc: {round(acc.mean() * 100, 2)}% +- {round(acc.std() * 100, 2)}% - ' +\n",
    "          f'auc: {round(auc.mean() * 100, 2)}% +- {round(auc.std() * 100, 2)}%\\n')\n",
    "    mida_accs.append(acc.mean())\n",
    "    mida_aucs.append(auc.mean())\n",
    "print(f'\\nMIDA GLOBAL - acc: {round(np.array(mida_accs).mean() * 100, 2)}% +- {round(np.array(mida_accs).std() * 100, 2)}% - ' +\n",
    "      f'auc: {round(np.array(mida_aucs).mean() * 100, 2)}% +- {round(np.array(mida_aucs).std() * 100, 2)}%')"
   ]
  },
  {
   "cell_type": "markdown",
   "metadata": {},
   "source": [
    "## Run T-tests"
   ]
  },
  {
   "cell_type": "code",
   "execution_count": 12,
   "metadata": {
    "ExecuteTime": {
     "end_time": "2022-06-03T08:13:24.155174Z",
     "start_time": "2022-06-03T08:13:24.143959Z"
    },
    "execution": {
     "iopub.execute_input": "2022-06-03T18:28:26.036304Z",
     "iopub.status.busy": "2022-06-03T18:28:26.035853Z",
     "iopub.status.idle": "2022-06-03T18:28:26.052444Z",
     "shell.execute_reply": "2022-06-03T18:28:26.052051Z"
    }
   },
   "outputs": [
    {
     "name": "stdout",
     "output_type": "stream",
     "text": [
      "Metric ACC - OUR METHOD is significantly better than MEDIAN\n",
      "Metric AUC - OUR METHOD is significantly better than MEDIAN\n",
      "Metric ACC - OUR METHOD is significantly better than MEAN\n",
      "Metric AUC - OUR METHOD is significantly better than MEAN\n",
      "Metric ACC - OUR METHOD is significantly better than KNN\n",
      "Metric AUC - OUR METHOD is significantly better than KNN\n",
      "Metric ACC - OUR METHOD is significantly better than GAIN\n",
      "Metric AUC - OUR METHOD is significantly better than GAIN\n",
      "Metric ACC - OUR METHOD is significantly better than MICE\n",
      "Metric AUC - OUR METHOD is significantly better than MICE\n",
      "Metric ACC - OUR METHOD is significantly better than MISS\n",
      "Metric AUC - OUR METHOD is significantly better than MISS\n",
      "Metric ACC - OUR METHOD is significantly better than SOFT\n",
      "Metric AUC - OUR METHOD is significantly better than SOFT\n",
      "Metric ACC - OUR METHOD is significantly better than SINK\n",
      "Metric AUC - OUR METHOD is significantly better than SINK\n",
      "Metric ACC - OUR METHOD is significantly better than MIDA\n",
      "Metric AUC - OUR METHOD is significantly better than MIDA\n"
     ]
    }
   ],
   "source": [
    "for model, metrics in {\n",
    "        'MEDIAN': {'ACC': median_accs, 'AUC': median_aucs},\n",
    "        'MEAN': {'ACC': mean_accs, 'AUC': mean_aucs},\n",
    "        'KNN': {'ACC': knn_accs, 'AUC': knn_aucs},\n",
    "        'GAIN': {'ACC': gain_accs, 'AUC': gain_aucs},\n",
    "        'MICE': {'ACC': mice_accs, 'AUC': mice_aucs},\n",
    "        'MISS': {'ACC': miss_accs, 'AUC': miss_aucs},\n",
    "        'SOFT': {'ACC': soft_accs, 'AUC': soft_aucs},\n",
    "        'SINK': {'ACC': sink_accs, 'AUC': sink_aucs},\n",
    "        'MIDA': {'ACC': mida_accs, 'AUC': mida_aucs}}.items():\n",
    "    for metric_name, metric in metrics.items():\n",
    "        ours_metric = ours_accs if metric_name == 'ACC' else ours_aucs\n",
    "        t, p = scipy.stats.ttest_ind(np.array(ours_metric), np.array(metric))\n",
    "        if p <= .05:\n",
    "            if t > 0:\n",
    "                ## Our method is better\n",
    "                print(f'Metric {metric_name} - OUR METHOD is significantly better than {model}')\n",
    "            else:\n",
    "                ## Theirs is better\n",
    "                print(f'Metric {metric_name} - OUR METHOD is significantly worse than {model}')\n",
    "        else:\n",
    "            ## Else we are even\n",
    "            print(f'Metric {metric_name} - OUR METHOD is even with {model}')"
   ]
  }
 ],
 "metadata": {
  "kernelspec": {
   "display_name": "Python 3 (ipykernel)",
   "language": "python",
   "name": "python3"
  },
  "language_info": {
   "codemirror_mode": {
    "name": "ipython",
    "version": 3
   },
   "file_extension": ".py",
   "mimetype": "text/x-python",
   "name": "python",
   "nbconvert_exporter": "python",
   "pygments_lexer": "ipython3",
   "version": "3.9.7"
  },
  "latex_envs": {
   "LaTeX_envs_menu_present": true,
   "autoclose": false,
   "autocomplete": true,
   "bibliofile": "biblio.bib",
   "cite_by": "apalike",
   "current_citInitial": 1,
   "eqLabelWithNumbers": true,
   "eqNumInitial": 1,
   "hotkeys": {
    "equation": "Ctrl-E",
    "itemize": "Ctrl-I"
   },
   "labels_anchors": false,
   "latex_user_defs": false,
   "report_style_numbering": false,
   "user_envs_cfg": false
  }
 },
 "nbformat": 4,
 "nbformat_minor": 2
}
