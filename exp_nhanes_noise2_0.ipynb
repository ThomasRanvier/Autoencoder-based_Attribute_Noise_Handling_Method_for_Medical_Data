{
 "cells": [
  {
   "cell_type": "code",
   "execution_count": 1,
   "metadata": {
    "ExecuteTime": {
     "end_time": "2022-06-07T08:11:39.412870Z",
     "start_time": "2022-06-07T08:11:35.692131Z"
    },
    "execution": {
     "iopub.execute_input": "2022-06-07T16:15:21.652475Z",
     "iopub.status.busy": "2022-06-07T16:15:21.649716Z",
     "iopub.status.idle": "2022-06-07T16:15:26.288540Z",
     "shell.execute_reply": "2022-06-07T16:15:26.287791Z"
    }
   },
   "outputs": [],
   "source": [
    "from __future__ import print_function\n",
    "import warnings\n",
    "warnings.filterwarnings('ignore')\n",
    "## Disable tf future deprecated messages\n",
    "import logging\n",
    "logging.getLogger('tensorflow').disabled = True\n",
    "## Disable tf CUDA messages\n",
    "import os\n",
    "os.environ['TF_CPP_MIN_LOG_LEVEL'] = '3'\n",
    "\n",
    "%matplotlib inline\n",
    "\n",
    "import sys\n",
    "import random\n",
    "import numpy as np\n",
    "import pandas as pd\n",
    "\n",
    "import utils\n",
    "import correction\n",
    "from models.dense import *\n",
    "from models.gain import gain\n",
    "from models.soft_impute import SoftImpute\n",
    "from models.sinkhorn import OTimputer\n",
    "from models.mida import mida\n",
    "from models.polishing import polishing\n",
    "from models.filtering import filtering\n",
    "\n",
    "import scipy.stats\n",
    "\n",
    "from sklearn.experimental import enable_iterative_imputer\n",
    "from sklearn.impute import IterativeImputer\n",
    "from sklearn.impute import KNNImputer, SimpleImputer\n",
    "\n",
    "import sklearn.neighbors._base\n",
    "sys.modules['sklearn.neighbors.base'] = sklearn.neighbors._base\n",
    "from missingpy import MissForest\n",
    "\n",
    "torch.backends.cudnn.enabled = True\n",
    "torch.backends.cudnn.benchmark = True\n",
    "dtype = torch.cuda.FloatTensor"
   ]
  },
  {
   "cell_type": "markdown",
   "metadata": {},
   "source": [
    "## Repeat all experiments for 10 runs"
   ]
  },
  {
   "cell_type": "code",
   "execution_count": 2,
   "metadata": {
    "ExecuteTime": {
     "end_time": "2022-06-07T08:11:39.417491Z",
     "start_time": "2022-06-07T08:11:39.415081Z"
    },
    "execution": {
     "iopub.execute_input": "2022-06-07T16:15:26.293205Z",
     "iopub.status.busy": "2022-06-07T16:15:26.292777Z",
     "iopub.status.idle": "2022-06-07T16:15:26.296722Z",
     "shell.execute_reply": "2022-06-07T16:15:26.295943Z"
    }
   },
   "outputs": [],
   "source": [
    "n_runs = 10"
   ]
  },
  {
   "cell_type": "markdown",
   "metadata": {},
   "source": [
    "## Load data"
   ]
  },
  {
   "cell_type": "code",
   "execution_count": 3,
   "metadata": {
    "ExecuteTime": {
     "end_time": "2022-06-07T08:11:41.218694Z",
     "start_time": "2022-06-07T08:11:39.419632Z"
    },
    "execution": {
     "iopub.execute_input": "2022-06-07T16:15:26.301193Z",
     "iopub.status.busy": "2022-06-07T16:15:26.300774Z",
     "iopub.status.idle": "2022-06-07T16:15:26.454113Z",
     "shell.execute_reply": "2022-06-07T16:15:26.454469Z"
    }
   },
   "outputs": [
    {
     "name": "stdout",
     "output_type": "stream",
     "text": [
      "Dataset shape: (2000, 95)\n",
      "33.65% missing data\n",
      "Class distribution: (array([1., 2.]), array([1000, 1000]))\n"
     ]
    }
   ],
   "source": [
    "data_missing, missing_mask, y = utils.load_nhanes()\n",
    "## Inject noise\n",
    "data_missing = utils.inject_noise(data_missing.copy(), noise_rate=0.)\n",
    "## Replace missing values locations by 0\n",
    "data_missing = data_missing * missing_mask"
   ]
  },
  {
   "cell_type": "markdown",
   "metadata": {},
   "source": [
    "## Run OUR METHOD"
   ]
  },
  {
   "cell_type": "code",
   "execution_count": 4,
   "metadata": {
    "ExecuteTime": {
     "end_time": "2022-06-07T08:25:41.124140Z",
     "start_time": "2022-06-07T08:11:41.222736Z"
    },
    "execution": {
     "iopub.execute_input": "2022-06-07T16:15:26.471934Z",
     "iopub.status.busy": "2022-06-07T16:15:26.458378Z",
     "iopub.status.idle": "2022-06-07T16:36:19.579149Z",
     "shell.execute_reply": "2022-06-07T16:36:19.579507Z"
    },
    "scrolled": false
   },
   "outputs": [
    {
     "name": "stdout",
     "output_type": "stream",
     "text": [
      "Ite 00000 - 4.34 sec - Loss 0.060620 - ACC 62.45% - ACC Mean 62.45% - AUC 68.32% - AUC Mean 68.32% - Deter 000\n",
      "Ite 00050 - 1.58 sec - Loss 0.011666 - ACC 62.05% - ACC Mean 62.21% - AUC 68.03% - AUC Mean 67.34% - Deter 025\n",
      "Ite 00075 - 1.10 sec - Loss 0.008583 - ACC 60.70% - ACC Mean 62.35% - AUC 66.03% - AUC Mean 67.42% - Deter 050\n",
      "Early stop ite 75, rollback to correction of ite 25, whith acc of 63.65% and auc of 69.16%\n",
      "OUR METHOD RUN 1/10 - acc: 63.65% +- 0.0% - auc: 69.16% +- 0.0%\n",
      "Ite 00000 - 0.92 sec - Loss 0.145551 - ACC 63.60% - ACC Mean 63.60% - AUC 68.19% - AUC Mean 68.19% - Deter 000\n",
      "Ite 00050 - 1.76 sec - Loss 0.054918 - ACC 62.50% - ACC Mean 62.46% - AUC 67.57% - AUC Mean 67.58% - Deter 030\n",
      "Ite 00070 - 1.00 sec - Loss 0.045855 - ACC 62.45% - ACC Mean 62.64% - AUC 67.05% - AUC Mean 67.79% - Deter 050\n",
      "Early stop ite 70, rollback to correction of ite 20, whith acc of 64.75% and auc of 69.83%\n",
      "OUR METHOD RUN 2/10 - acc: 64.75% +- 0.0% - auc: 69.83% +- 0.0%\n",
      "Ite 00000 - 1.40 sec - Loss 0.083273 - ACC 64.40% - ACC Mean 64.40% - AUC 68.96% - AUC Mean 68.96% - Deter 000\n",
      "Ite 00050 - 1.76 sec - Loss 0.023780 - ACC 62.60% - ACC Mean 62.39% - AUC 68.09% - AUC Mean 67.33% - Deter 017\n",
      "Ite 00100 - 1.58 sec - Loss 0.014268 - ACC 64.20% - ACC Mean 62.86% - AUC 69.02% - AUC Mean 68.00% - Deter 012\n",
      "Ite 00150 - 1.52 sec - Loss 0.009984 - ACC 61.70% - ACC Mean 62.93% - AUC 67.38% - AUC Mean 68.16% - Deter 030\n",
      "Ite 00170 - 1.44 sec - Loss 0.008724 - ACC 60.20% - ACC Mean 62.57% - AUC 66.24% - AUC Mean 67.81% - Deter 050\n",
      "Early stop ite 170, rollback to correction of ite 120, whith acc of 63.95% and auc of 70.1%\n",
      "OUR METHOD RUN 3/10 - acc: 63.95% +- 0.0% - auc: 70.1% +- 0.0%\n",
      "Ite 00000 - 1.39 sec - Loss 0.079583 - ACC 61.10% - ACC Mean 61.10% - AUC 66.10% - AUC Mean 66.10% - Deter 000\n",
      "Ite 00050 - 0.91 sec - Loss 0.020573 - ACC 61.90% - ACC Mean 62.25% - AUC 67.33% - AUC Mean 67.43% - Deter 008\n",
      "Ite 00092 - 0.92 sec - Loss 0.013565 - ACC 61.25% - ACC Mean 62.10% - AUC 66.22% - AUC Mean 67.56% - Deter 050\n",
      "Early stop ite 92, rollback to correction of ite 42, whith acc of 64.3% and auc of 69.76%\n",
      "OUR METHOD RUN 4/10 - acc: 64.3% +- 0.0% - auc: 69.76% +- 0.0%\n",
      "Ite 00000 - 0.99 sec - Loss 0.109286 - ACC 63.20% - ACC Mean 63.20% - AUC 67.49% - AUC Mean 67.49% - Deter 000\n",
      "Ite 00050 - 1.05 sec - Loss 0.041465 - ACC 63.55% - ACC Mean 62.81% - AUC 68.72% - AUC Mean 68.01% - Deter 003\n",
      "Ite 00100 - 1.15 sec - Loss 0.026810 - ACC 62.55% - ACC Mean 62.42% - AUC 68.38% - AUC Mean 67.54% - Deter 043\n",
      "Ite 00107 - 1.06 sec - Loss 0.025543 - ACC 61.20% - ACC Mean 62.27% - AUC 66.35% - AUC Mean 67.47% - Deter 050\n",
      "Early stop ite 107, rollback to correction of ite 57, whith acc of 64.9% and auc of 70.21%\n",
      "OUR METHOD RUN 5/10 - acc: 64.9% +- 0.0% - auc: 70.21% +- 0.0%\n",
      "Ite 00000 - 0.96 sec - Loss 0.088058 - ACC 61.10% - ACC Mean 61.10% - AUC 66.89% - AUC Mean 66.89% - Deter 000\n",
      "Ite 00050 - 0.92 sec - Loss 0.020660 - ACC 60.60% - ACC Mean 62.54% - AUC 66.68% - AUC Mean 67.60% - Deter 008\n",
      "Ite 00100 - 0.89 sec - Loss 0.012187 - ACC 60.15% - ACC Mean 62.30% - AUC 65.93% - AUC Mean 67.49% - Deter 019\n",
      "Ite 00131 - 0.90 sec - Loss 0.009460 - ACC 62.05% - ACC Mean 61.94% - AUC 67.06% - AUC Mean 67.20% - Deter 050\n",
      "Early stop ite 131, rollback to correction of ite 81, whith acc of 63.8% and auc of 69.83%\n",
      "OUR METHOD RUN 6/10 - acc: 63.8% +- 0.0% - auc: 69.83% +- 0.0%\n",
      "Ite 00000 - 0.88 sec - Loss 0.108274 - ACC 60.15% - ACC Mean 60.15% - AUC 65.68% - AUC Mean 65.68% - Deter 000\n",
      "Ite 00050 - 1.05 sec - Loss 0.036149 - ACC 62.50% - ACC Mean 62.42% - AUC 67.67% - AUC Mean 67.50% - Deter 046\n",
      "Ite 00100 - 1.04 sec - Loss 0.024619 - ACC 62.65% - ACC Mean 62.55% - AUC 68.16% - AUC Mean 67.73% - Deter 037\n",
      "Ite 00113 - 0.93 sec - Loss 0.022989 - ACC 62.00% - ACC Mean 62.27% - AUC 66.63% - AUC Mean 67.48% - Deter 050\n",
      "Early stop ite 113, rollback to correction of ite 63, whith acc of 64.6% and auc of 69.44%\n",
      "OUR METHOD RUN 7/10 - acc: 64.6% +- 0.0% - auc: 69.44% +- 0.0%\n",
      "Ite 00000 - 0.90 sec - Loss 0.081262 - ACC 63.65% - ACC Mean 63.65% - AUC 68.22% - AUC Mean 68.22% - Deter 000\n",
      "Ite 00050 - 1.86 sec - Loss 0.019334 - ACC 62.90% - ACC Mean 62.37% - AUC 68.32% - AUC Mean 67.34% - Deter 038\n",
      "Ite 00062 - 2.00 sec - Loss 0.016529 - ACC 61.75% - ACC Mean 62.31% - AUC 67.24% - AUC Mean 67.41% - Deter 050\n",
      "Early stop ite 62, rollback to correction of ite 12, whith acc of 63.9% and auc of 68.94%\n",
      "OUR METHOD RUN 8/10 - acc: 63.9% +- 0.0% - auc: 68.94% +- 0.0%\n",
      "Ite 00000 - 1.05 sec - Loss 0.089842 - ACC 60.35% - ACC Mean 60.35% - AUC 66.43% - AUC Mean 66.43% - Deter 000\n",
      "Ite 00050 - 0.98 sec - Loss 0.028193 - ACC 61.75% - ACC Mean 62.52% - AUC 66.60% - AUC Mean 67.58% - Deter 022\n",
      "Ite 00078 - 0.94 sec - Loss 0.021401 - ACC 63.50% - ACC Mean 62.91% - AUC 68.67% - AUC Mean 68.08% - Deter 050\n",
      "Early stop ite 78, rollback to correction of ite 28, whith acc of 64.7% and auc of 70.1%\n",
      "OUR METHOD RUN 9/10 - acc: 64.7% +- 0.0% - auc: 70.1% +- 0.0%\n",
      "Ite 00000 - 1.31 sec - Loss 0.072180 - ACC 62.80% - ACC Mean 62.80% - AUC 68.03% - AUC Mean 68.03% - Deter 000\n",
      "Ite 00050 - 1.92 sec - Loss 0.028031 - ACC 62.20% - ACC Mean 62.55% - AUC 67.24% - AUC Mean 67.52% - Deter 034\n",
      "Ite 00066 - 1.97 sec - Loss 0.024072 - ACC 62.65% - ACC Mean 62.41% - AUC 68.48% - AUC Mean 67.48% - Deter 050\n",
      "Early stop ite 66, rollback to correction of ite 16, whith acc of 64.2% and auc of 69.83%\n",
      "OUR METHOD RUN 10/10 - acc: 64.2% +- 0.0% - auc: 69.83% +- 0.0%\n",
      "\n",
      "OUR METHOD GLOBAL - acc: 64.28% +- 0.42% - auc: 69.72% +- 0.4%\n"
     ]
    }
   ],
   "source": [
    "params = {\n",
    "    'nb_batches': 10,\n",
    "    'reg_noise_std': .03,\n",
    "    'net_input': 'data_corrupted',\n",
    "    'net_params': {\n",
    "        'input_channels':1,\n",
    "        'output_channels':1,\n",
    "        'channels_skip':4,\n",
    "        'down_layers':[(24, 7, 1),\n",
    "                       (46, 9, 5),\n",
    "                       (96, 11, 1),\n",
    "                       (96, 13, 1)],\n",
    "        'need_sigmoid':True,\n",
    "        'need_bias':True,\n",
    "        'pad':'zero',\n",
    "        'downsample_mode':'stride',\n",
    "        'upsample_mode':'nearest',\n",
    "        'act_fun':'LeakyReLU',\n",
    "        'need1x1_up':True\n",
    "    },# or a list containing layers sizes\n",
    "    'adam_lr': .0001,\n",
    "    'adam_weight_decay': 0.,\n",
    "}\n",
    "\n",
    "ours_accs, ours_aucs = [], []\n",
    "for i in range(n_runs):\n",
    "    ours_correction = correction.run(data_missing, 501, params, y=y, missing_mask=missing_mask, seed=i)\n",
    "    ## Since our method returns 2 imputations select the best one\n",
    "    scores_raw = utils.get_scores(ours_correction['raw_out'], y)\n",
    "    acc = scores_raw['test_balanced_accuracy']\n",
    "    auc = scores_raw['test_roc_auc_ovo']\n",
    "    acc = acc.mean()\n",
    "    acc_std = acc.std()\n",
    "    auc = auc.mean()\n",
    "    auc_std = auc.std()\n",
    "    if 'masked_out' in ours_correction:\n",
    "        scores_masked = utils.get_scores(ours_correction['masked_out'], y)\n",
    "        acc_masked = scores_masked['test_balanced_accuracy']\n",
    "        auc_masked = scores_masked['test_roc_auc_ovo']\n",
    "        if auc_masked.mean() > auc:\n",
    "            acc = acc_masked.mean()\n",
    "            acc_std = acc_masked.std()\n",
    "            auc = auc_masked.mean()\n",
    "            auc_std = auc_masked.std()\n",
    "    print(f'OUR METHOD RUN {i + 1}/{n_runs} - acc: {round(acc.mean() * 100, 2)}% +- {round(acc.std() * 100, 2)}% - ' +\n",
    "          f'auc: {round(auc.mean() * 100, 2)}% +- {round(auc.std() * 100, 2)}%')\n",
    "    ours_accs.append(acc.mean())\n",
    "    ours_aucs.append(auc.mean())\n",
    "print(f'\\nOUR METHOD GLOBAL - acc: {round(np.array(ours_accs).mean() * 100, 2)}% +- {round(np.array(ours_accs).std() * 100, 2)}% - ' +\n",
    "      f'auc: {round(np.array(ours_aucs).mean() * 100, 2)}% +- {round(np.array(ours_aucs).std() * 100, 2)}%')"
   ]
  },
  {
   "cell_type": "markdown",
   "metadata": {},
   "source": [
    "## Run MICE"
   ]
  },
  {
   "cell_type": "code",
   "execution_count": 5,
   "metadata": {
    "ExecuteTime": {
     "end_time": "2022-06-07T08:25:47.812154Z",
     "start_time": "2022-06-07T08:25:41.125881Z"
    },
    "execution": {
     "iopub.execute_input": "2022-06-07T16:36:19.584216Z",
     "iopub.status.busy": "2022-06-07T16:36:19.583792Z",
     "iopub.status.idle": "2022-06-07T16:45:25.811770Z",
     "shell.execute_reply": "2022-06-07T16:45:25.812323Z"
    }
   },
   "outputs": [
    {
     "name": "stdout",
     "output_type": "stream",
     "text": [
      "MICE - acc: 61.7% +- 0.0% - auc: 67.3% +- 0.0%\n"
     ]
    }
   ],
   "source": [
    "data_missing_nans = np.where(missing_mask, data_missing, np.nan)\n",
    "\n",
    "imputer = IterativeImputer()\n",
    "imputed = imputer.fit_transform(data_missing_nans)\n",
    "## All runs would be the same since deterministic method\n",
    "scores = utils.get_scores(imputed, y)\n",
    "acc = [scores['test_balanced_accuracy'].mean()] * n_runs\n",
    "auc = [scores['test_roc_auc_ovo'].mean()] * n_runs\n",
    "print(f'MICE - acc: {round(np.mean(acc) * 100, 2)}% +- {round(np.std(acc) * 100, 2)}% - ' +\n",
    "      f'auc: {round(np.mean(auc) * 100, 2)}% +- {round(np.std(auc) * 100, 2)}%')\n",
    "mice_accs = acc\n",
    "mice_aucs = auc"
   ]
  },
  {
   "cell_type": "markdown",
   "metadata": {},
   "source": [
    "## Run SFIL"
   ]
  },
  {
   "cell_type": "code",
   "execution_count": 6,
   "metadata": {
    "ExecuteTime": {
     "end_time": "2022-06-07T08:25:49.133209Z",
     "start_time": "2022-06-07T08:25:47.813384Z"
    },
    "execution": {
     "iopub.execute_input": "2022-06-07T16:45:25.819484Z",
     "iopub.status.busy": "2022-06-07T16:45:25.819037Z",
     "iopub.status.idle": "2022-06-07T16:45:50.067963Z",
     "shell.execute_reply": "2022-06-07T16:45:50.068552Z"
    }
   },
   "outputs": [
    {
     "name": "stdout",
     "output_type": "stream",
     "text": [
      "SFIL RUN 1/10 - acc: 61.95% +- 2.53% - auc: 66.35% +- 3.35%\n",
      "SFIL RUN 2/10 - acc: 63.45% +- 1.32% - auc: 67.48% +- 1.97%\n",
      "SFIL RUN 3/10 - acc: 63.45% +- 2.67% - auc: 67.94% +- 2.02%\n",
      "SFIL RUN 4/10 - acc: 60.3% +- 2.96% - auc: 66.01% +- 3.38%\n",
      "SFIL RUN 5/10 - acc: 63.65% +- 1.5% - auc: 68.13% +- 0.88%\n",
      "SFIL RUN 6/10 - acc: 63.15% +- 1.03% - auc: 67.55% +- 0.98%\n",
      "SFIL RUN 7/10 - acc: 62.6% +- 2.43% - auc: 66.58% +- 1.43%\n",
      "SFIL RUN 8/10 - acc: 62.05% +- 1.39% - auc: 66.73% +- 2.31%\n",
      "SFIL RUN 9/10 - acc: 61.7% +- 1.73% - auc: 67.78% +- 1.7%\n",
      "SFIL RUN 10/10 - acc: 61.95% +- 2.33% - auc: 66.88% +- 2.6%\n",
      "SFIL GLOBAL - acc: 62.43% +- 0.99% - auc: 67.14% +- 0.69%\n"
     ]
    }
   ],
   "source": [
    "sfil_accs, sfil_aucs = [], []\n",
    "for i in range(n_runs):\n",
    "    acc, auc = filtering(imputed, y, mode='standard', random_state=i)\n",
    "    sfil_accs.append(acc.mean())\n",
    "    sfil_aucs.append(auc.mean())\n",
    "    print(f'SFIL RUN {i + 1}/{n_runs} - acc: {round(np.mean(acc) * 100, 2)}% +- {round(np.std(acc) * 100, 2)}% - ' +\n",
    "          f'auc: {round(np.mean(auc) * 100, 2)}% +- {round(np.std(auc) * 100, 2)}%')\n",
    "print(f'SFIL GLOBAL - acc: {round(np.mean(sfil_accs) * 100, 2)}% +- {round(np.std(sfil_accs) * 100, 2)}% - ' +\n",
    "      f'auc: {round(np.mean(sfil_aucs) * 100, 2)}% +- {round(np.std(sfil_aucs) * 100, 2)}%')"
   ]
  },
  {
   "cell_type": "markdown",
   "metadata": {},
   "source": [
    "## Run PFIL"
   ]
  },
  {
   "cell_type": "code",
   "execution_count": 7,
   "metadata": {
    "ExecuteTime": {
     "end_time": "2022-06-07T08:35:09.194980Z",
     "start_time": "2022-06-07T08:25:49.134766Z"
    },
    "execution": {
     "iopub.execute_input": "2022-06-07T16:45:50.075460Z",
     "iopub.status.busy": "2022-06-07T16:45:50.073112Z",
     "iopub.status.idle": "2022-06-07T18:05:03.148397Z",
     "shell.execute_reply": "2022-06-07T18:05:03.147635Z"
    },
    "scrolled": false
   },
   "outputs": [
    {
     "name": "stdout",
     "output_type": "stream",
     "text": [
      "PFIL RUN 1/10 - acc: 60.05% +- 1.71% - auc: 66.0% +- 2.8%\n",
      "PFIL RUN 2/10 - acc: 62.8% +- 2.3% - auc: 67.56% +- 2.06%\n",
      "PFIL RUN 3/10 - acc: 62.0% +- 1.52% - auc: 65.88% +- 1.65%\n",
      "PFIL RUN 4/10 - acc: 60.6% +- 1.93% - auc: 66.51% +- 2.23%\n",
      "PFIL RUN 5/10 - acc: 59.75% +- 1.65% - auc: 64.84% +- 1.7%\n",
      "PFIL RUN 6/10 - acc: 61.4% +- 1.89% - auc: 67.16% +- 1.59%\n",
      "PFIL RUN 7/10 - acc: 60.55% +- 2.98% - auc: 66.56% +- 3.07%\n",
      "PFIL RUN 8/10 - acc: 64.1% +- 1.95% - auc: 68.83% +- 2.49%\n",
      "PFIL RUN 9/10 - acc: 60.55% +- 1.28% - auc: 64.54% +- 2.33%\n",
      "PFIL RUN 10/10 - acc: 63.35% +- 2.82% - auc: 68.11% +- 2.71%\n",
      "PFIL GLOBAL - acc: 61.52% +- 1.41% - auc: 66.6% +- 1.29%\n"
     ]
    }
   ],
   "source": [
    "pfil_accs, pfil_aucs = [], []\n",
    "for i in range(n_runs):\n",
    "    acc, auc = filtering(imputed, y, mode='panda', random_state=i)\n",
    "    pfil_accs.append(acc.mean())\n",
    "    pfil_aucs.append(auc.mean())\n",
    "    print(f'PFIL RUN {i + 1}/{n_runs} - acc: {round(np.mean(acc) * 100, 2)}% +- {round(np.std(acc) * 100, 2)}% - ' +\n",
    "          f'auc: {round(np.mean(auc) * 100, 2)}% +- {round(np.std(auc) * 100, 2)}%')\n",
    "print(f'PFIL GLOBAL - acc: {round(np.mean(pfil_accs) * 100, 2)}% +- {round(np.std(pfil_accs) * 100, 2)}% - ' +\n",
    "      f'auc: {round(np.mean(pfil_aucs) * 100, 2)}% +- {round(np.std(pfil_aucs) * 100, 2)}%')"
   ]
  },
  {
   "cell_type": "markdown",
   "metadata": {},
   "source": [
    "## Run SPOL"
   ]
  },
  {
   "cell_type": "code",
   "execution_count": 8,
   "metadata": {
    "ExecuteTime": {
     "end_time": "2022-06-07T08:50:33.353751Z",
     "start_time": "2022-06-07T08:49:36.684786Z"
    },
    "execution": {
     "iopub.execute_input": "2022-06-07T18:05:03.154821Z",
     "iopub.status.busy": "2022-06-07T18:05:03.154044Z",
     "iopub.status.idle": "2022-06-07T18:06:52.738113Z",
     "shell.execute_reply": "2022-06-07T18:06:52.737080Z"
    }
   },
   "outputs": [
    {
     "name": "stdout",
     "output_type": "stream",
     "text": [
      "SPOL RUN 1/10 - acc: 61.75% +- 2.32% - auc: 65.86% +- 4.46%\n",
      "SPOL RUN 2/10 - acc: 61.25% +- 1.51% - auc: 66.05% +- 1.87%\n",
      "SPOL RUN 3/10 - acc: 61.0% +- 3.24% - auc: 66.14% +- 3.06%\n",
      "SPOL RUN 4/10 - acc: 61.55% +- 3.04% - auc: 67.16% +- 3.72%\n",
      "SPOL RUN 5/10 - acc: 63.65% +- 1.86% - auc: 68.33% +- 1.64%\n",
      "SPOL RUN 6/10 - acc: 60.4% +- 1.62% - auc: 65.31% +- 1.44%\n",
      "SPOL RUN 7/10 - acc: 62.5% +- 3.08% - auc: 68.32% +- 2.67%\n",
      "SPOL RUN 8/10 - acc: 61.3% +- 1.95% - auc: 65.71% +- 2.47%\n",
      "SPOL RUN 9/10 - acc: 61.45% +- 2.58% - auc: 66.89% +- 2.57%\n",
      "SPOL RUN 10/10 - acc: 60.35% +- 2.7% - auc: 65.0% +- 2.3%\n",
      "SPOL GLOBAL - acc: 61.52% +- 0.93% - auc: 66.48% +- 1.11%\n"
     ]
    }
   ],
   "source": [
    "spol_accs, spol_aucs = [], []\n",
    "for i in range(n_runs):\n",
    "    acc, auc = polishing(imputed, y, mode='standard', random_state=i)\n",
    "    spol_accs.append(acc.mean())\n",
    "    spol_aucs.append(auc.mean())\n",
    "    print(f'SPOL RUN {i + 1}/{n_runs} - acc: {round(np.mean(acc) * 100, 2)}% +- {round(np.std(acc) * 100, 2)}% - ' +\n",
    "          f'auc: {round(np.mean(auc) * 100, 2)}% +- {round(np.std(auc) * 100, 2)}%')\n",
    "print(f'SPOL GLOBAL - acc: {round(np.mean(spol_accs) * 100, 2)}% +- {round(np.std(spol_accs) * 100, 2)}% - ' +\n",
    "      f'auc: {round(np.mean(spol_aucs) * 100, 2)}% +- {round(np.std(spol_aucs) * 100, 2)}%')"
   ]
  },
  {
   "cell_type": "markdown",
   "metadata": {},
   "source": [
    "## Run PPOL"
   ]
  },
  {
   "cell_type": "code",
   "execution_count": 9,
   "metadata": {
    "ExecuteTime": {
     "end_time": "2022-06-07T08:52:24.306737Z",
     "start_time": "2022-06-07T08:50:33.355178Z"
    },
    "execution": {
     "iopub.execute_input": "2022-06-07T18:06:52.752365Z",
     "iopub.status.busy": "2022-06-07T18:06:52.748160Z",
     "iopub.status.idle": "2022-06-07T19:25:08.804305Z",
     "shell.execute_reply": "2022-06-07T19:25:08.803244Z"
    }
   },
   "outputs": [
    {
     "name": "stdout",
     "output_type": "stream",
     "text": [
      "PPOL RUN 1/10 - acc: 61.55% +- 2.37% - auc: 66.65% +- 2.47%\n",
      "PPOL RUN 2/10 - acc: 61.2% +- 2.5% - auc: 66.17% +- 2.88%\n",
      "PPOL RUN 3/10 - acc: 61.75% +- 1.34% - auc: 67.33% +- 1.51%\n",
      "PPOL RUN 4/10 - acc: 61.55% +- 1.0% - auc: 67.47% +- 1.32%\n",
      "PPOL RUN 5/10 - acc: 60.5% +- 1.64% - auc: 64.13% +- 2.39%\n",
      "PPOL RUN 6/10 - acc: 60.45% +- 2.51% - auc: 65.5% +- 2.76%\n",
      "PPOL RUN 7/10 - acc: 62.35% +- 1.1% - auc: 66.34% +- 0.96%\n",
      "PPOL RUN 8/10 - acc: 62.65% +- 1.47% - auc: 67.7% +- 1.94%\n",
      "PPOL RUN 9/10 - acc: 60.45% +- 2.54% - auc: 65.52% +- 2.61%\n",
      "PPOL RUN 10/10 - acc: 63.75% +- 2.74% - auc: 68.1% +- 2.57%\n",
      "PPOL GLOBAL - acc: 61.62% +- 1.02% - auc: 66.49% +- 1.16%\n"
     ]
    }
   ],
   "source": [
    "ppol_accs, ppol_aucs = [], []\n",
    "for i in range(n_runs):\n",
    "    acc, auc = polishing(imputed, y, mode='panda', random_state=i)\n",
    "    ppol_accs.append(acc.mean())\n",
    "    ppol_aucs.append(auc.mean())\n",
    "    print(f'PPOL RUN {i + 1}/{n_runs} - acc: {round(np.mean(acc) * 100, 2)}% +- {round(np.std(acc) * 100, 2)}% - ' +\n",
    "          f'auc: {round(np.mean(auc) * 100, 2)}% +- {round(np.std(auc) * 100, 2)}%')\n",
    "print(f'PPOL GLOBAL - acc: {round(np.mean(ppol_accs) * 100, 2)}% +- {round(np.std(ppol_accs) * 100, 2)}% - ' +\n",
    "      f'auc: {round(np.mean(ppol_aucs) * 100, 2)}% +- {round(np.std(ppol_aucs) * 100, 2)}%')"
   ]
  },
  {
   "cell_type": "markdown",
   "metadata": {},
   "source": [
    "## Run T-tests"
   ]
  },
  {
   "cell_type": "code",
   "execution_count": 10,
   "metadata": {
    "ExecuteTime": {
     "end_time": "2022-06-07T08:52:25.983958Z",
     "start_time": "2022-06-07T08:52:25.963898Z"
    },
    "execution": {
     "iopub.execute_input": "2022-06-07T19:25:08.815912Z",
     "iopub.status.busy": "2022-06-07T19:25:08.815112Z",
     "iopub.status.idle": "2022-06-07T19:25:08.820536Z",
     "shell.execute_reply": "2022-06-07T19:25:08.819731Z"
    },
    "scrolled": false
   },
   "outputs": [
    {
     "name": "stdout",
     "output_type": "stream",
     "text": [
      "Metric ACC - OUR METHOD is significantly better than MICE\n",
      "Metric AUC - OUR METHOD is significantly better than MICE\n",
      "Metric ACC - OUR METHOD is significantly better than SFIL\n",
      "Metric AUC - OUR METHOD is significantly better than SFIL\n",
      "Metric ACC - OUR METHOD is significantly better than PFIL\n",
      "Metric AUC - OUR METHOD is significantly better than PFIL\n",
      "Metric ACC - OUR METHOD is significantly better than SPOL\n",
      "Metric AUC - OUR METHOD is significantly better than SPOL\n",
      "Metric ACC - OUR METHOD is significantly better than PPOL\n",
      "Metric AUC - OUR METHOD is significantly better than PPOL\n"
     ]
    }
   ],
   "source": [
    "for model, metrics in {\n",
    "        'MICE': {'ACC': mice_accs, 'AUC': mice_aucs},\n",
    "        'SFIL': {'ACC': sfil_accs, 'AUC': sfil_aucs},\n",
    "        'PFIL': {'ACC': pfil_accs, 'AUC': pfil_aucs},\n",
    "        'SPOL': {'ACC': spol_accs, 'AUC': spol_aucs},\n",
    "        'PPOL': {'ACC': ppol_accs, 'AUC': ppol_aucs}}.items():\n",
    "    for metric_name, metric in metrics.items():\n",
    "        ours_metric = ours_accs if metric_name == 'ACC' else ours_aucs\n",
    "        t, p = scipy.stats.ttest_ind(np.array(ours_metric), np.array(metric))\n",
    "        if p <= .05:\n",
    "            if t > 0:\n",
    "                ## Our method is better\n",
    "                print(f'Metric {metric_name} - OUR METHOD is significantly better than {model}')\n",
    "            else:\n",
    "                ## Theirs is better\n",
    "                print(f'Metric {metric_name} - OUR METHOD is significantly worse than {model}')\n",
    "        else:\n",
    "            ## Else we are even\n",
    "            print(f'Metric {metric_name} - OUR METHOD is even with {model}')"
   ]
  }
 ],
 "metadata": {
  "kernelspec": {
   "display_name": "Python 3 (ipykernel)",
   "language": "python",
   "name": "python3"
  },
  "language_info": {
   "codemirror_mode": {
    "name": "ipython",
    "version": 3
   },
   "file_extension": ".py",
   "mimetype": "text/x-python",
   "name": "python",
   "nbconvert_exporter": "python",
   "pygments_lexer": "ipython3",
   "version": "3.9.7"
  },
  "latex_envs": {
   "LaTeX_envs_menu_present": true,
   "autoclose": false,
   "autocomplete": true,
   "bibliofile": "biblio.bib",
   "cite_by": "apalike",
   "current_citInitial": 1,
   "eqLabelWithNumbers": true,
   "eqNumInitial": 1,
   "hotkeys": {
    "equation": "Ctrl-E",
    "itemize": "Ctrl-I"
   },
   "labels_anchors": false,
   "latex_user_defs": false,
   "report_style_numbering": false,
   "user_envs_cfg": false
  }
 },
 "nbformat": 4,
 "nbformat_minor": 2
}
