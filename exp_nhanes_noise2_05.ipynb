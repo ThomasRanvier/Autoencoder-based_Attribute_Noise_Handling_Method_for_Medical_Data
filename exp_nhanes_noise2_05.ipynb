{
 "cells": [
  {
   "cell_type": "code",
   "execution_count": 1,
   "metadata": {
    "ExecuteTime": {
     "end_time": "2022-06-07T08:11:39.412870Z",
     "start_time": "2022-06-07T08:11:35.692131Z"
    },
    "execution": {
     "iopub.execute_input": "2022-06-07T16:15:21.867623Z",
     "iopub.status.busy": "2022-06-07T16:15:21.856029Z",
     "iopub.status.idle": "2022-06-07T16:15:26.378508Z",
     "shell.execute_reply": "2022-06-07T16:15:26.377735Z"
    }
   },
   "outputs": [],
   "source": [
    "from __future__ import print_function\n",
    "import warnings\n",
    "warnings.filterwarnings('ignore')\n",
    "## Disable tf future deprecated messages\n",
    "import logging\n",
    "logging.getLogger('tensorflow').disabled = True\n",
    "## Disable tf CUDA messages\n",
    "import os\n",
    "os.environ['TF_CPP_MIN_LOG_LEVEL'] = '3'\n",
    "\n",
    "%matplotlib inline\n",
    "\n",
    "import sys\n",
    "import random\n",
    "import numpy as np\n",
    "import pandas as pd\n",
    "\n",
    "import utils\n",
    "import correction\n",
    "from models.dense import *\n",
    "from models.gain import gain\n",
    "from models.soft_impute import SoftImpute\n",
    "from models.sinkhorn import OTimputer\n",
    "from models.mida import mida\n",
    "from models.polishing import polishing\n",
    "from models.filtering import filtering\n",
    "\n",
    "import scipy.stats\n",
    "\n",
    "from sklearn.experimental import enable_iterative_imputer\n",
    "from sklearn.impute import IterativeImputer\n",
    "from sklearn.impute import KNNImputer, SimpleImputer\n",
    "\n",
    "import sklearn.neighbors._base\n",
    "sys.modules['sklearn.neighbors.base'] = sklearn.neighbors._base\n",
    "from missingpy import MissForest\n",
    "\n",
    "torch.backends.cudnn.enabled = True\n",
    "torch.backends.cudnn.benchmark = True\n",
    "dtype = torch.cuda.FloatTensor"
   ]
  },
  {
   "cell_type": "markdown",
   "metadata": {},
   "source": [
    "## Repeat all experiments for 10 runs"
   ]
  },
  {
   "cell_type": "code",
   "execution_count": 2,
   "metadata": {
    "ExecuteTime": {
     "end_time": "2022-06-07T08:11:39.417491Z",
     "start_time": "2022-06-07T08:11:39.415081Z"
    },
    "execution": {
     "iopub.execute_input": "2022-06-07T16:15:26.382367Z",
     "iopub.status.busy": "2022-06-07T16:15:26.381871Z",
     "iopub.status.idle": "2022-06-07T16:15:26.383646Z",
     "shell.execute_reply": "2022-06-07T16:15:26.383309Z"
    }
   },
   "outputs": [],
   "source": [
    "n_runs = 10"
   ]
  },
  {
   "cell_type": "markdown",
   "metadata": {},
   "source": [
    "## Load data"
   ]
  },
  {
   "cell_type": "code",
   "execution_count": 3,
   "metadata": {
    "ExecuteTime": {
     "end_time": "2022-06-07T08:11:41.218694Z",
     "start_time": "2022-06-07T08:11:39.419632Z"
    },
    "execution": {
     "iopub.execute_input": "2022-06-07T16:15:26.387314Z",
     "iopub.status.busy": "2022-06-07T16:15:26.386922Z",
     "iopub.status.idle": "2022-06-07T16:15:26.576474Z",
     "shell.execute_reply": "2022-06-07T16:15:26.577261Z"
    }
   },
   "outputs": [
    {
     "name": "stdout",
     "output_type": "stream",
     "text": [
      "Dataset shape: (2000, 95)\n",
      "33.65% missing data\n",
      "Class distribution: (array([1., 2.]), array([1000, 1000]))\n"
     ]
    }
   ],
   "source": [
    "data_missing, missing_mask, y = utils.load_nhanes()\n",
    "## Inject noise\n",
    "data_missing = utils.inject_noise(data_missing.copy(), noise_rate=.05)\n",
    "## Replace missing values locations by 0\n",
    "data_missing = data_missing * missing_mask"
   ]
  },
  {
   "cell_type": "markdown",
   "metadata": {},
   "source": [
    "## Run OUR METHOD"
   ]
  },
  {
   "cell_type": "code",
   "execution_count": 4,
   "metadata": {
    "ExecuteTime": {
     "end_time": "2022-06-07T08:25:41.124140Z",
     "start_time": "2022-06-07T08:11:41.222736Z"
    },
    "execution": {
     "iopub.execute_input": "2022-06-07T16:15:26.603511Z",
     "iopub.status.busy": "2022-06-07T16:15:26.602673Z",
     "iopub.status.idle": "2022-06-07T16:31:15.270595Z",
     "shell.execute_reply": "2022-06-07T16:31:15.270927Z"
    },
    "scrolled": false
   },
   "outputs": [
    {
     "name": "stdout",
     "output_type": "stream",
     "text": [
      "Ite 00000 - 4.23 sec - Loss 0.060790 - ACC 60.35% - ACC Mean 60.35% - AUC 64.99% - AUC Mean 64.99% - Deter 000\n",
      "Ite 00050 - 2.12 sec - Loss 0.012180 - ACC 61.30% - ACC Mean 61.70% - AUC 65.76% - AUC Mean 66.37% - Deter 009\n",
      "Ite 00091 - 1.44 sec - Loss 0.007462 - ACC 61.45% - ACC Mean 61.74% - AUC 66.12% - AUC Mean 66.40% - Deter 050\n",
      "Early stop ite 91, rollback to correction of ite 41, whith acc of 63.45% and auc of 68.77%\n",
      "OUR METHOD RUN 1/10 - acc: 63.45% +- 0.0% - auc: 68.77% +- 0.0%\n",
      "Ite 00000 - 1.71 sec - Loss 0.143298 - ACC 60.85% - ACC Mean 60.85% - AUC 66.52% - AUC Mean 66.52% - Deter 000\n",
      "Ite 00050 - 1.34 sec - Loss 0.054432 - ACC 60.25% - ACC Mean 61.79% - AUC 65.44% - AUC Mean 66.76% - Deter 044\n",
      "Ite 00056 - 1.26 sec - Loss 0.051195 - ACC 61.25% - ACC Mean 61.66% - AUC 65.66% - AUC Mean 66.52% - Deter 050\n",
      "Early stop ite 56, rollback to correction of ite 6, whith acc of 63.55% and auc of 69.48%\n",
      "OUR METHOD RUN 2/10 - acc: 63.55% +- 0.0% - auc: 69.48% +- 0.0%\n",
      "Ite 00000 - 0.95 sec - Loss 0.082645 - ACC 61.20% - ACC Mean 61.20% - AUC 65.12% - AUC Mean 65.12% - Deter 000\n",
      "Ite 00050 - 1.40 sec - Loss 0.024272 - ACC 62.65% - ACC Mean 62.00% - AUC 67.55% - AUC Mean 66.65% - Deter 009\n",
      "Ite 00100 - 1.65 sec - Loss 0.014247 - ACC 60.55% - ACC Mean 61.72% - AUC 64.82% - AUC Mean 66.49% - Deter 045\n",
      "Ite 00105 - 0.92 sec - Loss 0.013671 - ACC 62.90% - ACC Mean 61.63% - AUC 67.65% - AUC Mean 66.38% - Deter 050\n",
      "Early stop ite 105, rollback to correction of ite 55, whith acc of 63.5% and auc of 69.12%\n",
      "OUR METHOD RUN 3/10 - acc: 63.5% +- 0.0% - auc: 69.12% +- 0.0%\n",
      "Ite 00000 - 1.55 sec - Loss 0.078699 - ACC 62.25% - ACC Mean 62.25% - AUC 66.97% - AUC Mean 66.97% - Deter 000\n",
      "Ite 00050 - 1.06 sec - Loss 0.020712 - ACC 60.60% - ACC Mean 61.66% - AUC 65.70% - AUC Mean 66.62% - Deter 045\n",
      "Ite 00055 - 0.97 sec - Loss 0.019454 - ACC 62.25% - ACC Mean 61.61% - AUC 66.81% - AUC Mean 66.51% - Deter 050\n",
      "Early stop ite 55, rollback to correction of ite 5, whith acc of 64.1% and auc of 68.87%\n",
      "OUR METHOD RUN 4/10 - acc: 64.1% +- 0.0% - auc: 68.87% +- 0.0%\n",
      "Ite 00000 - 1.20 sec - Loss 0.107047 - ACC 62.05% - ACC Mean 62.05% - AUC 66.49% - AUC Mean 66.49% - Deter 000\n",
      "Ite 00050 - 1.04 sec - Loss 0.041226 - ACC 63.70% - ACC Mean 61.84% - AUC 67.45% - AUC Mean 66.68% - Deter 039\n",
      "Ite 00061 - 1.02 sec - Loss 0.036626 - ACC 62.45% - ACC Mean 61.86% - AUC 66.94% - AUC Mean 66.70% - Deter 050\n",
      "Early stop ite 61, rollback to correction of ite 11, whith acc of 63.8% and auc of 68.63%\n",
      "OUR METHOD RUN 5/10 - acc: 63.8% +- 0.0% - auc: 68.63% +- 0.0%\n",
      "Ite 00000 - 0.95 sec - Loss 0.087185 - ACC 62.90% - ACC Mean 62.90% - AUC 67.29% - AUC Mean 67.29% - Deter 000\n",
      "Ite 00050 - 0.90 sec - Loss 0.021123 - ACC 62.55% - ACC Mean 61.82% - AUC 68.25% - AUC Mean 66.65% - Deter 027\n",
      "Ite 00073 - 0.88 sec - Loss 0.015940 - ACC 63.10% - ACC Mean 61.79% - AUC 67.06% - AUC Mean 66.55% - Deter 050\n",
      "Early stop ite 73, rollback to correction of ite 23, whith acc of 62.95% and auc of 68.57%\n",
      "OUR METHOD RUN 6/10 - acc: 62.95% +- 0.0% - auc: 68.57% +- 0.0%\n",
      "Ite 00000 - 1.04 sec - Loss 0.106015 - ACC 61.30% - ACC Mean 61.30% - AUC 65.31% - AUC Mean 65.31% - Deter 000\n",
      "Ite 00050 - 0.93 sec - Loss 0.035780 - ACC 61.25% - ACC Mean 62.13% - AUC 65.82% - AUC Mean 66.84% - Deter 040\n",
      "Ite 00060 - 1.00 sec - Loss 0.032245 - ACC 61.45% - ACC Mean 61.85% - AUC 66.36% - AUC Mean 66.50% - Deter 050\n",
      "Early stop ite 60, rollback to correction of ite 10, whith acc of 64.3% and auc of 70.04%\n",
      "OUR METHOD RUN 7/10 - acc: 64.3% +- 0.0% - auc: 70.04% +- 0.0%\n",
      "Ite 00000 - 0.97 sec - Loss 0.080440 - ACC 62.30% - ACC Mean 62.30% - AUC 67.00% - AUC Mean 67.00% - Deter 000\n",
      "Ite 00050 - 1.08 sec - Loss 0.019773 - ACC 61.20% - ACC Mean 61.92% - AUC 67.08% - AUC Mean 66.74% - Deter 043\n",
      "Ite 00057 - 0.90 sec - Loss 0.017866 - ACC 60.60% - ACC Mean 61.84% - AUC 65.45% - AUC Mean 66.69% - Deter 050\n",
      "Early stop ite 57, rollback to correction of ite 7, whith acc of 62.6% and auc of 69.07%\n",
      "OUR METHOD RUN 8/10 - acc: 62.6% +- 0.0% - auc: 69.07% +- 0.0%\n",
      "Ite 00000 - 0.94 sec - Loss 0.088455 - ACC 61.30% - ACC Mean 61.30% - AUC 66.16% - AUC Mean 66.16% - Deter 000\n",
      "Ite 00050 - 0.99 sec - Loss 0.028241 - ACC 61.80% - ACC Mean 61.84% - AUC 66.46% - AUC Mean 66.75% - Deter 018\n",
      "Ite 00082 - 0.97 sec - Loss 0.020361 - ACC 61.40% - ACC Mean 61.75% - AUC 65.61% - AUC Mean 66.49% - Deter 050\n",
      "Early stop ite 82, rollback to correction of ite 32, whith acc of 62.85% and auc of 68.63%\n",
      "OUR METHOD RUN 9/10 - acc: 62.85% +- 0.0% - auc: 68.63% +- 0.0%\n",
      "Ite 00000 - 0.89 sec - Loss 0.069848 - ACC 62.90% - ACC Mean 62.90% - AUC 66.90% - AUC Mean 66.90% - Deter 000\n",
      "Ite 00050 - 0.91 sec - Loss 0.027227 - ACC 61.35% - ACC Mean 61.43% - AUC 66.57% - AUC Mean 66.32% - Deter 016\n",
      "Ite 00100 - 0.98 sec - Loss 0.017467 - ACC 61.65% - ACC Mean 61.68% - AUC 67.76% - AUC Mean 66.55% - Deter 037\n",
      "Ite 00113 - 0.95 sec - Loss 0.015834 - ACC 62.25% - ACC Mean 61.74% - AUC 66.20% - AUC Mean 66.58% - Deter 050\n",
      "Early stop ite 113, rollback to correction of ite 63, whith acc of 63.7% and auc of 68.72%\n",
      "OUR METHOD RUN 10/10 - acc: 63.7% +- 0.0% - auc: 68.72% +- 0.0%\n",
      "\n",
      "OUR METHOD GLOBAL - acc: 63.48% +- 0.52% - auc: 68.99% +- 0.44%\n"
     ]
    }
   ],
   "source": [
    "params = {\n",
    "    'nb_batches': 10,\n",
    "    'reg_noise_std': .03,\n",
    "    'net_input': 'data_corrupted',\n",
    "    'net_params': {\n",
    "        'input_channels':1,\n",
    "        'output_channels':1,\n",
    "        'channels_skip':4,\n",
    "        'down_layers':[(24, 7, 1),\n",
    "                       (46, 9, 5),\n",
    "                       (96, 11, 1),\n",
    "                       (96, 13, 1)],\n",
    "        'need_sigmoid':True,\n",
    "        'need_bias':True,\n",
    "        'pad':'zero',\n",
    "        'downsample_mode':'stride',\n",
    "        'upsample_mode':'nearest',\n",
    "        'act_fun':'LeakyReLU',\n",
    "        'need1x1_up':True\n",
    "    },# or a list containing layers sizes\n",
    "    'adam_lr': .0001,\n",
    "    'adam_weight_decay': 0.,\n",
    "}\n",
    "\n",
    "ours_accs, ours_aucs = [], []\n",
    "for i in range(n_runs):\n",
    "    ours_correction = correction.run(data_missing, 501, params, y=y, missing_mask=missing_mask, seed=i)\n",
    "    ## Since our method returns 2 imputations select the best one\n",
    "    scores_raw = utils.get_scores(ours_correction['raw_out'], y)\n",
    "    acc = scores_raw['test_balanced_accuracy']\n",
    "    auc = scores_raw['test_roc_auc_ovo']\n",
    "    acc = acc.mean()\n",
    "    acc_std = acc.std()\n",
    "    auc = auc.mean()\n",
    "    auc_std = auc.std()\n",
    "    if 'masked_out' in ours_correction:\n",
    "        scores_masked = utils.get_scores(ours_correction['masked_out'], y)\n",
    "        acc_masked = scores_masked['test_balanced_accuracy']\n",
    "        auc_masked = scores_masked['test_roc_auc_ovo']\n",
    "        if auc_masked.mean() > auc:\n",
    "            acc = acc_masked.mean()\n",
    "            acc_std = acc_masked.std()\n",
    "            auc = auc_masked.mean()\n",
    "            auc_std = auc_masked.std()\n",
    "    print(f'OUR METHOD RUN {i + 1}/{n_runs} - acc: {round(acc.mean() * 100, 2)}% +- {round(acc.std() * 100, 2)}% - ' +\n",
    "          f'auc: {round(auc.mean() * 100, 2)}% +- {round(auc.std() * 100, 2)}%')\n",
    "    ours_accs.append(acc.mean())\n",
    "    ours_aucs.append(auc.mean())\n",
    "print(f'\\nOUR METHOD GLOBAL - acc: {round(np.array(ours_accs).mean() * 100, 2)}% +- {round(np.array(ours_accs).std() * 100, 2)}% - ' +\n",
    "      f'auc: {round(np.array(ours_aucs).mean() * 100, 2)}% +- {round(np.array(ours_aucs).std() * 100, 2)}%')"
   ]
  },
  {
   "cell_type": "markdown",
   "metadata": {},
   "source": [
    "## Run MICE"
   ]
  },
  {
   "cell_type": "code",
   "execution_count": 5,
   "metadata": {
    "ExecuteTime": {
     "end_time": "2022-06-07T08:25:47.812154Z",
     "start_time": "2022-06-07T08:25:41.125881Z"
    },
    "execution": {
     "iopub.execute_input": "2022-06-07T16:31:15.276200Z",
     "iopub.status.busy": "2022-06-07T16:31:15.275807Z",
     "iopub.status.idle": "2022-06-07T16:33:44.896569Z",
     "shell.execute_reply": "2022-06-07T16:33:44.896177Z"
    }
   },
   "outputs": [
    {
     "name": "stdout",
     "output_type": "stream",
     "text": [
      "MICE - acc: 60.85% +- 0.0% - auc: 65.3% +- 0.0%\n"
     ]
    }
   ],
   "source": [
    "data_missing_nans = np.where(missing_mask, data_missing, np.nan)\n",
    "\n",
    "imputer = IterativeImputer()\n",
    "imputed = imputer.fit_transform(data_missing_nans)\n",
    "## All runs would be the same since deterministic method\n",
    "scores = utils.get_scores(imputed, y)\n",
    "acc = [scores['test_balanced_accuracy'].mean()] * n_runs\n",
    "auc = [scores['test_roc_auc_ovo'].mean()] * n_runs\n",
    "print(f'MICE - acc: {round(np.mean(acc) * 100, 2)}% +- {round(np.std(acc) * 100, 2)}% - ' +\n",
    "      f'auc: {round(np.mean(auc) * 100, 2)}% +- {round(np.std(auc) * 100, 2)}%')\n",
    "mice_accs = acc\n",
    "mice_aucs = auc"
   ]
  },
  {
   "cell_type": "markdown",
   "metadata": {},
   "source": [
    "## Run SFIL"
   ]
  },
  {
   "cell_type": "code",
   "execution_count": 6,
   "metadata": {
    "ExecuteTime": {
     "end_time": "2022-06-07T08:25:49.133209Z",
     "start_time": "2022-06-07T08:25:47.813384Z"
    },
    "execution": {
     "iopub.execute_input": "2022-06-07T16:33:44.901365Z",
     "iopub.status.busy": "2022-06-07T16:33:44.898814Z",
     "iopub.status.idle": "2022-06-07T16:34:02.067552Z",
     "shell.execute_reply": "2022-06-07T16:34:02.067993Z"
    }
   },
   "outputs": [
    {
     "name": "stdout",
     "output_type": "stream",
     "text": [
      "SFIL RUN 1/10 - acc: 62.2% +- 3.95% - auc: 67.06% +- 4.58%\n",
      "SFIL RUN 2/10 - acc: 62.35% +- 3.96% - auc: 65.82% +- 3.64%\n",
      "SFIL RUN 3/10 - acc: 61.55% +- 3.18% - auc: 66.98% +- 2.33%\n",
      "SFIL RUN 4/10 - acc: 63.1% +- 1.61% - auc: 68.14% +- 3.12%\n",
      "SFIL RUN 5/10 - acc: 61.25% +- 2.73% - auc: 65.49% +- 3.33%\n",
      "SFIL RUN 6/10 - acc: 61.65% +- 0.66% - auc: 66.91% +- 1.44%\n",
      "SFIL RUN 7/10 - acc: 61.5% +- 1.7% - auc: 66.87% +- 1.79%\n",
      "SFIL RUN 8/10 - acc: 60.95% +- 2.5% - auc: 66.1% +- 2.77%\n",
      "SFIL RUN 9/10 - acc: 62.75% +- 1.89% - auc: 67.54% +- 2.68%\n",
      "SFIL RUN 10/10 - acc: 60.9% +- 1.53% - auc: 66.35% +- 1.8%\n",
      "SFIL GLOBAL - acc: 61.82% +- 0.71% - auc: 66.73% +- 0.76%\n"
     ]
    }
   ],
   "source": [
    "sfil_accs, sfil_aucs = [], []\n",
    "for i in range(n_runs):\n",
    "    acc, auc = filtering(imputed, y, mode='standard', random_state=i)\n",
    "    sfil_accs.append(acc.mean())\n",
    "    sfil_aucs.append(auc.mean())\n",
    "    print(f'SFIL RUN {i + 1}/{n_runs} - acc: {round(np.mean(acc) * 100, 2)}% +- {round(np.std(acc) * 100, 2)}% - ' +\n",
    "          f'auc: {round(np.mean(auc) * 100, 2)}% +- {round(np.std(auc) * 100, 2)}%')\n",
    "print(f'SFIL GLOBAL - acc: {round(np.mean(sfil_accs) * 100, 2)}% +- {round(np.std(sfil_accs) * 100, 2)}% - ' +\n",
    "      f'auc: {round(np.mean(sfil_aucs) * 100, 2)}% +- {round(np.std(sfil_aucs) * 100, 2)}%')"
   ]
  },
  {
   "cell_type": "markdown",
   "metadata": {},
   "source": [
    "## Run PFIL"
   ]
  },
  {
   "cell_type": "code",
   "execution_count": 7,
   "metadata": {
    "ExecuteTime": {
     "end_time": "2022-06-07T08:35:09.194980Z",
     "start_time": "2022-06-07T08:25:49.134766Z"
    },
    "execution": {
     "iopub.execute_input": "2022-06-07T16:34:02.070464Z",
     "iopub.status.busy": "2022-06-07T16:34:02.070061Z",
     "iopub.status.idle": "2022-06-07T18:03:13.484045Z",
     "shell.execute_reply": "2022-06-07T18:03:13.485095Z"
    },
    "scrolled": false
   },
   "outputs": [
    {
     "name": "stdout",
     "output_type": "stream",
     "text": [
      "PFIL RUN 1/10 - acc: 59.6% +- 2.65% - auc: 63.54% +- 3.04%\n",
      "PFIL RUN 2/10 - acc: 63.45% +- 2.15% - auc: 67.22% +- 2.58%\n",
      "PFIL RUN 3/10 - acc: 61.1% +- 1.79% - auc: 66.15% +- 1.73%\n",
      "PFIL RUN 4/10 - acc: 60.7% +- 1.56% - auc: 65.15% +- 1.18%\n",
      "PFIL RUN 5/10 - acc: 60.95% +- 2.19% - auc: 65.49% +- 1.62%\n",
      "PFIL RUN 6/10 - acc: 60.7% +- 1.85% - auc: 64.8% +- 2.98%\n",
      "PFIL RUN 7/10 - acc: 61.0% +- 2.53% - auc: 65.2% +- 2.14%\n",
      "PFIL RUN 8/10 - acc: 61.85% +- 2.6% - auc: 66.44% +- 3.16%\n",
      "PFIL RUN 9/10 - acc: 59.85% +- 1.59% - auc: 63.55% +- 1.61%\n",
      "PFIL RUN 10/10 - acc: 62.75% +- 3.41% - auc: 67.25% +- 3.77%\n",
      "PFIL GLOBAL - acc: 61.2% +- 1.14% - auc: 65.48% +- 1.25%\n"
     ]
    }
   ],
   "source": [
    "pfil_accs, pfil_aucs = [], []\n",
    "for i in range(n_runs):\n",
    "    acc, auc = filtering(imputed, y, mode='panda', random_state=i)\n",
    "    pfil_accs.append(acc.mean())\n",
    "    pfil_aucs.append(auc.mean())\n",
    "    print(f'PFIL RUN {i + 1}/{n_runs} - acc: {round(np.mean(acc) * 100, 2)}% +- {round(np.std(acc) * 100, 2)}% - ' +\n",
    "          f'auc: {round(np.mean(auc) * 100, 2)}% +- {round(np.std(auc) * 100, 2)}%')\n",
    "print(f'PFIL GLOBAL - acc: {round(np.mean(pfil_accs) * 100, 2)}% +- {round(np.std(pfil_accs) * 100, 2)}% - ' +\n",
    "      f'auc: {round(np.mean(pfil_aucs) * 100, 2)}% +- {round(np.std(pfil_aucs) * 100, 2)}%')"
   ]
  },
  {
   "cell_type": "markdown",
   "metadata": {},
   "source": [
    "## Run SPOL"
   ]
  },
  {
   "cell_type": "code",
   "execution_count": 8,
   "metadata": {
    "ExecuteTime": {
     "end_time": "2022-06-07T08:50:33.353751Z",
     "start_time": "2022-06-07T08:49:36.684786Z"
    },
    "execution": {
     "iopub.execute_input": "2022-06-07T18:03:13.493070Z",
     "iopub.status.busy": "2022-06-07T18:03:13.491880Z",
     "iopub.status.idle": "2022-06-07T18:05:21.592162Z",
     "shell.execute_reply": "2022-06-07T18:05:21.592551Z"
    }
   },
   "outputs": [
    {
     "name": "stdout",
     "output_type": "stream",
     "text": [
      "SPOL RUN 1/10 - acc: 58.95% +- 3.62% - auc: 63.69% +- 3.83%\n",
      "SPOL RUN 2/10 - acc: 61.0% +- 2.46% - auc: 65.7% +- 3.68%\n",
      "SPOL RUN 3/10 - acc: 60.25% +- 2.16% - auc: 66.37% +- 2.37%\n",
      "SPOL RUN 4/10 - acc: 61.25% +- 1.49% - auc: 65.83% +- 2.4%\n",
      "SPOL RUN 5/10 - acc: 59.55% +- 1.43% - auc: 63.5% +- 1.0%\n",
      "SPOL RUN 6/10 - acc: 60.6% +- 2.49% - auc: 65.49% +- 2.26%\n",
      "SPOL RUN 7/10 - acc: 61.35% +- 2.01% - auc: 65.23% +- 2.95%\n",
      "SPOL RUN 8/10 - acc: 61.15% +- 0.87% - auc: 65.38% +- 1.47%\n",
      "SPOL RUN 9/10 - acc: 62.05% +- 0.56% - auc: 65.9% +- 1.67%\n",
      "SPOL RUN 10/10 - acc: 61.65% +- 1.03% - auc: 65.19% +- 1.67%\n",
      "SPOL GLOBAL - acc: 60.78% +- 0.91% - auc: 65.23% +- 0.88%\n"
     ]
    }
   ],
   "source": [
    "spol_accs, spol_aucs = [], []\n",
    "for i in range(n_runs):\n",
    "    acc, auc = polishing(imputed, y, mode='standard', random_state=i)\n",
    "    spol_accs.append(acc.mean())\n",
    "    spol_aucs.append(auc.mean())\n",
    "    print(f'SPOL RUN {i + 1}/{n_runs} - acc: {round(np.mean(acc) * 100, 2)}% +- {round(np.std(acc) * 100, 2)}% - ' +\n",
    "          f'auc: {round(np.mean(auc) * 100, 2)}% +- {round(np.std(auc) * 100, 2)}%')\n",
    "print(f'SPOL GLOBAL - acc: {round(np.mean(spol_accs) * 100, 2)}% +- {round(np.std(spol_accs) * 100, 2)}% - ' +\n",
    "      f'auc: {round(np.mean(spol_aucs) * 100, 2)}% +- {round(np.std(spol_aucs) * 100, 2)}%')"
   ]
  },
  {
   "cell_type": "markdown",
   "metadata": {},
   "source": [
    "## Run PPOL"
   ]
  },
  {
   "cell_type": "code",
   "execution_count": 9,
   "metadata": {
    "ExecuteTime": {
     "end_time": "2022-06-07T08:52:24.306737Z",
     "start_time": "2022-06-07T08:50:33.355178Z"
    },
    "execution": {
     "iopub.execute_input": "2022-06-07T18:05:21.597386Z",
     "iopub.status.busy": "2022-06-07T18:05:21.596914Z",
     "iopub.status.idle": "2022-06-07T19:26:24.838708Z",
     "shell.execute_reply": "2022-06-07T19:26:24.839662Z"
    }
   },
   "outputs": [
    {
     "name": "stdout",
     "output_type": "stream",
     "text": [
      "PPOL RUN 1/10 - acc: 59.7% +- 1.4% - auc: 64.07% +- 2.38%\n",
      "PPOL RUN 2/10 - acc: 62.2% +- 1.78% - auc: 66.37% +- 1.53%\n",
      "PPOL RUN 3/10 - acc: 62.2% +- 2.81% - auc: 66.55% +- 2.06%\n",
      "PPOL RUN 4/10 - acc: 60.95% +- 2.28% - auc: 66.14% +- 1.69%\n",
      "PPOL RUN 5/10 - acc: 59.75% +- 2.19% - auc: 64.53% +- 2.84%\n",
      "PPOL RUN 6/10 - acc: 61.9% +- 1.6% - auc: 66.73% +- 1.82%\n",
      "PPOL RUN 7/10 - acc: 61.0% +- 0.84% - auc: 65.79% +- 1.66%\n",
      "PPOL RUN 8/10 - acc: 61.75% +- 2.68% - auc: 66.02% +- 3.34%\n",
      "PPOL RUN 9/10 - acc: 63.05% +- 0.91% - auc: 67.28% +- 1.67%\n",
      "PPOL RUN 10/10 - acc: 59.55% +- 1.96% - auc: 64.54% +- 2.08%\n",
      "PPOL GLOBAL - acc: 61.2% +- 1.16% - auc: 65.8% +- 1.02%\n"
     ]
    }
   ],
   "source": [
    "ppol_accs, ppol_aucs = [], []\n",
    "for i in range(n_runs):\n",
    "    acc, auc = polishing(imputed, y, mode='panda', random_state=i)\n",
    "    ppol_accs.append(acc.mean())\n",
    "    ppol_aucs.append(auc.mean())\n",
    "    print(f'PPOL RUN {i + 1}/{n_runs} - acc: {round(np.mean(acc) * 100, 2)}% +- {round(np.std(acc) * 100, 2)}% - ' +\n",
    "          f'auc: {round(np.mean(auc) * 100, 2)}% +- {round(np.std(auc) * 100, 2)}%')\n",
    "print(f'PPOL GLOBAL - acc: {round(np.mean(ppol_accs) * 100, 2)}% +- {round(np.std(ppol_accs) * 100, 2)}% - ' +\n",
    "      f'auc: {round(np.mean(ppol_aucs) * 100, 2)}% +- {round(np.std(ppol_aucs) * 100, 2)}%')"
   ]
  },
  {
   "cell_type": "markdown",
   "metadata": {},
   "source": [
    "## Run T-tests"
   ]
  },
  {
   "cell_type": "code",
   "execution_count": 10,
   "metadata": {
    "ExecuteTime": {
     "end_time": "2022-06-07T08:52:25.983958Z",
     "start_time": "2022-06-07T08:52:25.963898Z"
    },
    "execution": {
     "iopub.execute_input": "2022-06-07T19:26:24.844879Z",
     "iopub.status.busy": "2022-06-07T19:26:24.843613Z",
     "iopub.status.idle": "2022-06-07T19:26:24.852446Z",
     "shell.execute_reply": "2022-06-07T19:26:24.853144Z"
    },
    "scrolled": false
   },
   "outputs": [
    {
     "name": "stdout",
     "output_type": "stream",
     "text": [
      "Metric ACC - OUR METHOD is significantly better than MICE\n",
      "Metric AUC - OUR METHOD is significantly better than MICE\n",
      "Metric ACC - OUR METHOD is significantly better than SFIL\n",
      "Metric AUC - OUR METHOD is significantly better than SFIL\n",
      "Metric ACC - OUR METHOD is significantly better than PFIL\n",
      "Metric AUC - OUR METHOD is significantly better than PFIL\n",
      "Metric ACC - OUR METHOD is significantly better than SPOL\n",
      "Metric AUC - OUR METHOD is significantly better than SPOL\n",
      "Metric ACC - OUR METHOD is significantly better than PPOL\n",
      "Metric AUC - OUR METHOD is significantly better than PPOL\n"
     ]
    }
   ],
   "source": [
    "for model, metrics in {\n",
    "        'MICE': {'ACC': mice_accs, 'AUC': mice_aucs},\n",
    "        'SFIL': {'ACC': sfil_accs, 'AUC': sfil_aucs},\n",
    "        'PFIL': {'ACC': pfil_accs, 'AUC': pfil_aucs},\n",
    "        'SPOL': {'ACC': spol_accs, 'AUC': spol_aucs},\n",
    "        'PPOL': {'ACC': ppol_accs, 'AUC': ppol_aucs}}.items():\n",
    "    for metric_name, metric in metrics.items():\n",
    "        ours_metric = ours_accs if metric_name == 'ACC' else ours_aucs\n",
    "        t, p = scipy.stats.ttest_ind(np.array(ours_metric), np.array(metric))\n",
    "        if p <= .05:\n",
    "            if t > 0:\n",
    "                ## Our method is better\n",
    "                print(f'Metric {metric_name} - OUR METHOD is significantly better than {model}')\n",
    "            else:\n",
    "                ## Theirs is better\n",
    "                print(f'Metric {metric_name} - OUR METHOD is significantly worse than {model}')\n",
    "        else:\n",
    "            ## Else we are even\n",
    "            print(f'Metric {metric_name} - OUR METHOD is even with {model}')"
   ]
  }
 ],
 "metadata": {
  "kernelspec": {
   "display_name": "Python 3 (ipykernel)",
   "language": "python",
   "name": "python3"
  },
  "language_info": {
   "codemirror_mode": {
    "name": "ipython",
    "version": 3
   },
   "file_extension": ".py",
   "mimetype": "text/x-python",
   "name": "python",
   "nbconvert_exporter": "python",
   "pygments_lexer": "ipython3",
   "version": "3.9.7"
  },
  "latex_envs": {
   "LaTeX_envs_menu_present": true,
   "autoclose": false,
   "autocomplete": true,
   "bibliofile": "biblio.bib",
   "cite_by": "apalike",
   "current_citInitial": 1,
   "eqLabelWithNumbers": true,
   "eqNumInitial": 1,
   "hotkeys": {
    "equation": "Ctrl-E",
    "itemize": "Ctrl-I"
   },
   "labels_anchors": false,
   "latex_user_defs": false,
   "report_style_numbering": false,
   "user_envs_cfg": false
  }
 },
 "nbformat": 4,
 "nbformat_minor": 2
}
