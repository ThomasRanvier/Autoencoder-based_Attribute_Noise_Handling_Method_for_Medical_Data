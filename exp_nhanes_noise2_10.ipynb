{
 "cells": [
  {
   "cell_type": "code",
   "execution_count": 1,
   "metadata": {
    "ExecuteTime": {
     "end_time": "2022-06-07T08:11:39.412870Z",
     "start_time": "2022-06-07T08:11:35.692131Z"
    },
    "execution": {
     "iopub.execute_input": "2022-06-07T16:15:21.954765Z",
     "iopub.status.busy": "2022-06-07T16:15:21.953254Z",
     "iopub.status.idle": "2022-06-07T16:15:26.943669Z",
     "shell.execute_reply": "2022-06-07T16:15:26.944799Z"
    }
   },
   "outputs": [],
   "source": [
    "from __future__ import print_function\n",
    "import warnings\n",
    "warnings.filterwarnings('ignore')\n",
    "## Disable tf future deprecated messages\n",
    "import logging\n",
    "logging.getLogger('tensorflow').disabled = True\n",
    "## Disable tf CUDA messages\n",
    "import os\n",
    "os.environ['TF_CPP_MIN_LOG_LEVEL'] = '3'\n",
    "\n",
    "%matplotlib inline\n",
    "\n",
    "import sys\n",
    "import random\n",
    "import numpy as np\n",
    "import pandas as pd\n",
    "\n",
    "import utils\n",
    "import correction\n",
    "from models.dense import *\n",
    "from models.gain import gain\n",
    "from models.soft_impute import SoftImpute\n",
    "from models.sinkhorn import OTimputer\n",
    "from models.mida import mida\n",
    "from models.polishing import polishing\n",
    "from models.filtering import filtering\n",
    "\n",
    "import scipy.stats\n",
    "\n",
    "from sklearn.experimental import enable_iterative_imputer\n",
    "from sklearn.impute import IterativeImputer\n",
    "from sklearn.impute import KNNImputer, SimpleImputer\n",
    "\n",
    "import sklearn.neighbors._base\n",
    "sys.modules['sklearn.neighbors.base'] = sklearn.neighbors._base\n",
    "from missingpy import MissForest\n",
    "\n",
    "torch.backends.cudnn.enabled = True\n",
    "torch.backends.cudnn.benchmark = True\n",
    "dtype = torch.cuda.FloatTensor"
   ]
  },
  {
   "cell_type": "markdown",
   "metadata": {},
   "source": [
    "## Repeat all experiments for 10 runs"
   ]
  },
  {
   "cell_type": "code",
   "execution_count": 2,
   "metadata": {
    "ExecuteTime": {
     "end_time": "2022-06-07T08:11:39.417491Z",
     "start_time": "2022-06-07T08:11:39.415081Z"
    },
    "execution": {
     "iopub.execute_input": "2022-06-07T16:15:26.950349Z",
     "iopub.status.busy": "2022-06-07T16:15:26.949692Z",
     "iopub.status.idle": "2022-06-07T16:15:26.950889Z",
     "shell.execute_reply": "2022-06-07T16:15:26.951290Z"
    }
   },
   "outputs": [],
   "source": [
    "n_runs = 10"
   ]
  },
  {
   "cell_type": "markdown",
   "metadata": {},
   "source": [
    "## Load data"
   ]
  },
  {
   "cell_type": "code",
   "execution_count": 3,
   "metadata": {
    "ExecuteTime": {
     "end_time": "2022-06-07T08:11:41.218694Z",
     "start_time": "2022-06-07T08:11:39.419632Z"
    },
    "execution": {
     "iopub.execute_input": "2022-06-07T16:15:26.954467Z",
     "iopub.status.busy": "2022-06-07T16:15:26.953365Z",
     "iopub.status.idle": "2022-06-07T16:15:27.077788Z",
     "shell.execute_reply": "2022-06-07T16:15:27.077357Z"
    }
   },
   "outputs": [
    {
     "name": "stdout",
     "output_type": "stream",
     "text": [
      "Dataset shape: (2000, 95)\n",
      "33.65% missing data\n",
      "Class distribution: (array([1., 2.]), array([1000, 1000]))\n"
     ]
    }
   ],
   "source": [
    "data_missing, missing_mask, y = utils.load_nhanes()\n",
    "## Inject noise\n",
    "data_missing = utils.inject_noise(data_missing.copy(), noise_rate=.1)\n",
    "## Replace missing values locations by 0\n",
    "data_missing = data_missing * missing_mask"
   ]
  },
  {
   "cell_type": "markdown",
   "metadata": {},
   "source": [
    "## Run OUR METHOD"
   ]
  },
  {
   "cell_type": "code",
   "execution_count": 4,
   "metadata": {
    "ExecuteTime": {
     "end_time": "2022-06-07T08:25:41.124140Z",
     "start_time": "2022-06-07T08:11:41.222736Z"
    },
    "execution": {
     "iopub.execute_input": "2022-06-07T16:15:27.088109Z",
     "iopub.status.busy": "2022-06-07T16:15:27.086671Z",
     "iopub.status.idle": "2022-06-07T16:35:42.394403Z",
     "shell.execute_reply": "2022-06-07T16:35:42.394013Z"
    },
    "scrolled": false
   },
   "outputs": [
    {
     "name": "stdout",
     "output_type": "stream",
     "text": [
      "Ite 00000 - 2.91 sec - Loss 0.060906 - ACC 62.10% - ACC Mean 62.10% - AUC 66.76% - AUC Mean 66.76% - Deter 000\n",
      "Ite 00050 - 1.65 sec - Loss 0.012443 - ACC 61.80% - ACC Mean 61.33% - AUC 67.45% - AUC Mean 65.99% - Deter 048\n",
      "Ite 00052 - 1.58 sec - Loss 0.012063 - ACC 60.70% - ACC Mean 61.29% - AUC 65.42% - AUC Mean 65.92% - Deter 050\n",
      "Early stop ite 52, rollback to correction of ite 2, whith acc of 63.75% and auc of 68.11%\n",
      "OUR METHOD RUN 1/10 - acc: 63.75% +- 0.0% - auc: 68.11% +- 0.0%\n",
      "Ite 00000 - 1.99 sec - Loss 0.140771 - ACC 62.40% - ACC Mean 62.40% - AUC 66.40% - AUC Mean 66.40% - Deter 000\n",
      "Ite 00050 - 1.81 sec - Loss 0.053656 - ACC 61.80% - ACC Mean 60.86% - AUC 66.53% - AUC Mean 65.62% - Deter 002\n",
      "Ite 00100 - 1.63 sec - Loss 0.035053 - ACC 59.00% - ACC Mean 60.85% - AUC 64.20% - AUC Mean 65.71% - Deter 007\n",
      "Ite 00143 - 1.52 sec - Loss 0.026882 - ACC 60.10% - ACC Mean 61.25% - AUC 63.87% - AUC Mean 65.96% - Deter 050\n",
      "Early stop ite 143, rollback to correction of ite 93, whith acc of 62.7% and auc of 68.17%\n",
      "OUR METHOD RUN 2/10 - acc: 62.7% +- 0.0% - auc: 68.17% +- 0.0%\n",
      "Ite 00000 - 1.92 sec - Loss 0.082169 - ACC 60.95% - ACC Mean 60.95% - AUC 65.64% - AUC Mean 65.64% - Deter 000\n",
      "Ite 00050 - 1.06 sec - Loss 0.024246 - ACC 61.35% - ACC Mean 61.34% - AUC 65.60% - AUC Mean 65.61% - Deter 048\n",
      "Ite 00052 - 1.27 sec - Loss 0.023549 - ACC 61.15% - ACC Mean 61.24% - AUC 64.86% - AUC Mean 65.53% - Deter 050\n",
      "Early stop ite 52, rollback to correction of ite 2, whith acc of 63.25% and auc of 67.28%\n",
      "OUR METHOD RUN 3/10 - acc: 63.25% +- 0.0% - auc: 67.28% +- 0.0%\n",
      "Ite 00000 - 0.99 sec - Loss 0.077952 - ACC 62.75% - ACC Mean 62.75% - AUC 66.98% - AUC Mean 66.98% - Deter 000\n",
      "Ite 00050 - 0.96 sec - Loss 0.020501 - ACC 60.20% - ACC Mean 61.47% - AUC 63.80% - AUC Mean 65.89% - Deter 044\n",
      "Ite 00100 - 2.44 sec - Loss 0.012178 - ACC 60.30% - ACC Mean 61.29% - AUC 66.14% - AUC Mean 65.82% - Deter 046\n",
      "Ite 00104 - 2.72 sec - Loss 0.011811 - ACC 61.20% - ACC Mean 61.29% - AUC 65.49% - AUC Mean 65.82% - Deter 050\n",
      "Early stop ite 104, rollback to correction of ite 54, whith acc of 64.2% and auc of 68.35%\n",
      "OUR METHOD RUN 4/10 - acc: 64.2% +- 0.0% - auc: 68.35% +- 0.0%\n",
      "Ite 00000 - 2.58 sec - Loss 0.104751 - ACC 60.15% - ACC Mean 60.15% - AUC 65.30% - AUC Mean 65.30% - Deter 000\n",
      "Ite 00050 - 1.01 sec - Loss 0.040778 - ACC 61.75% - ACC Mean 61.05% - AUC 66.31% - AUC Mean 65.46% - Deter 034\n",
      "Ite 00100 - 0.96 sec - Loss 0.025170 - ACC 61.60% - ACC Mean 61.61% - AUC 66.70% - AUC Mean 66.34% - Deter 006\n",
      "Ite 00144 - 0.92 sec - Loss 0.018301 - ACC 61.20% - ACC Mean 61.72% - AUC 65.14% - AUC Mean 66.56% - Deter 050\n",
      "Early stop ite 144, rollback to correction of ite 94, whith acc of 62.5% and auc of 68.49%\n",
      "OUR METHOD RUN 5/10 - acc: 62.5% +- 0.0% - auc: 68.49% +- 0.0%\n",
      "Ite 00000 - 0.93 sec - Loss 0.086308 - ACC 61.15% - ACC Mean 61.15% - AUC 65.23% - AUC Mean 65.23% - Deter 000\n",
      "Ite 00050 - 0.94 sec - Loss 0.021143 - ACC 62.60% - ACC Mean 61.23% - AUC 66.98% - AUC Mean 65.40% - Deter 002\n",
      "Ite 00100 - 1.03 sec - Loss 0.011831 - ACC 58.90% - ACC Mean 60.92% - AUC 63.10% - AUC Mean 65.49% - Deter 029\n",
      "Ite 00121 - 1.11 sec - Loss 0.009824 - ACC 59.90% - ACC Mean 60.80% - AUC 64.33% - AUC Mean 65.24% - Deter 050\n",
      "Early stop ite 121, rollback to correction of ite 71, whith acc of 62.65% and auc of 68.03%\n",
      "OUR METHOD RUN 6/10 - acc: 62.65% +- 0.0% - auc: 68.03% +- 0.0%\n",
      "Ite 00000 - 1.00 sec - Loss 0.103857 - ACC 61.05% - ACC Mean 61.05% - AUC 65.91% - AUC Mean 65.91% - Deter 000\n",
      "Ite 00050 - 0.98 sec - Loss 0.034928 - ACC 60.65% - ACC Mean 61.51% - AUC 65.09% - AUC Mean 65.85% - Deter 026\n",
      "Ite 00100 - 0.92 sec - Loss 0.023151 - ACC 61.35% - ACC Mean 61.35% - AUC 65.05% - AUC Mean 65.63% - Deter 042\n",
      "Ite 00108 - 0.94 sec - Loss 0.022096 - ACC 61.25% - ACC Mean 61.23% - AUC 65.75% - AUC Mean 65.48% - Deter 050\n",
      "Early stop ite 108, rollback to correction of ite 58, whith acc of 63.35% and auc of 68.03%\n",
      "OUR METHOD RUN 7/10 - acc: 63.35% +- 0.0% - auc: 68.03% +- 0.0%\n",
      "Ite 00000 - 0.90 sec - Loss 0.079566 - ACC 60.60% - ACC Mean 60.60% - AUC 65.72% - AUC Mean 65.72% - Deter 000\n",
      "Ite 00050 - 1.82 sec - Loss 0.019505 - ACC 62.35% - ACC Mean 61.65% - AUC 67.16% - AUC Mean 65.95% - Deter 044\n",
      "Ite 00056 - 1.39 sec - Loss 0.017757 - ACC 60.70% - ACC Mean 61.54% - AUC 65.69% - AUC Mean 65.91% - Deter 050\n",
      "Early stop ite 56, rollback to correction of ite 6, whith acc of 63.15% and auc of 68.02%\n",
      "OUR METHOD RUN 8/10 - acc: 63.15% +- 0.0% - auc: 68.02% +- 0.0%\n",
      "Ite 00000 - 1.66 sec - Loss 0.087170 - ACC 61.40% - ACC Mean 61.40% - AUC 66.03% - AUC Mean 66.03% - Deter 000\n",
      "Ite 00050 - 1.97 sec - Loss 0.027823 - ACC 60.85% - ACC Mean 61.18% - AUC 65.11% - AUC Mean 65.51% - Deter 021\n",
      "Ite 00079 - 1.85 sec - Loss 0.020398 - ACC 61.30% - ACC Mean 61.17% - AUC 65.90% - AUC Mean 65.50% - Deter 050\n",
      "Early stop ite 79, rollback to correction of ite 29, whith acc of 62.15% and auc of 67.56%\n",
      "OUR METHOD RUN 9/10 - acc: 62.15% +- 0.0% - auc: 67.56% +- 0.0%\n",
      "Ite 00000 - 2.32 sec - Loss 0.067539 - ACC 61.30% - ACC Mean 61.30% - AUC 65.31% - AUC Mean 65.31% - Deter 000\n",
      "Ite 00050 - 1.80 sec - Loss 0.026219 - ACC 59.65% - ACC Mean 61.42% - AUC 65.18% - AUC Mean 66.08% - Deter 014\n",
      "Ite 00086 - 1.21 sec - Loss 0.018472 - ACC 62.00% - ACC Mean 61.47% - AUC 66.32% - AUC Mean 66.00% - Deter 050\n",
      "Early stop ite 86, rollback to correction of ite 36, whith acc of 63.55% and auc of 69.37%\n",
      "OUR METHOD RUN 10/10 - acc: 63.55% +- 0.0% - auc: 69.37% +- 0.0%\n",
      "\n",
      "OUR METHOD GLOBAL - acc: 63.12% +- 0.6% - auc: 68.14% +- 0.53%\n"
     ]
    }
   ],
   "source": [
    "params = {\n",
    "    'nb_batches': 10,\n",
    "    'reg_noise_std': .03,\n",
    "    'net_input': 'data_corrupted',\n",
    "    'net_params': {\n",
    "        'input_channels':1,\n",
    "        'output_channels':1,\n",
    "        'channels_skip':4,\n",
    "        'down_layers':[(24, 7, 1),\n",
    "                       (46, 9, 5),\n",
    "                       (96, 11, 1),\n",
    "                       (96, 13, 1)],\n",
    "        'need_sigmoid':True,\n",
    "        'need_bias':True,\n",
    "        'pad':'zero',\n",
    "        'downsample_mode':'stride',\n",
    "        'upsample_mode':'nearest',\n",
    "        'act_fun':'LeakyReLU',\n",
    "        'need1x1_up':True\n",
    "    },# or a list containing layers sizes\n",
    "    'adam_lr': .0001,\n",
    "    'adam_weight_decay': 0.,\n",
    "}\n",
    "\n",
    "ours_accs, ours_aucs = [], []\n",
    "for i in range(n_runs):\n",
    "    ours_correction = correction.run(data_missing, 501, params, y=y, missing_mask=missing_mask, seed=i)\n",
    "    ## Since our method returns 2 imputations select the best one\n",
    "    scores_raw = utils.get_scores(ours_correction['raw_out'], y)\n",
    "    acc = scores_raw['test_balanced_accuracy']\n",
    "    auc = scores_raw['test_roc_auc_ovo']\n",
    "    acc = acc.mean()\n",
    "    acc_std = acc.std()\n",
    "    auc = auc.mean()\n",
    "    auc_std = auc.std()\n",
    "    if 'masked_out' in ours_correction:\n",
    "        scores_masked = utils.get_scores(ours_correction['masked_out'], y)\n",
    "        acc_masked = scores_masked['test_balanced_accuracy']\n",
    "        auc_masked = scores_masked['test_roc_auc_ovo']\n",
    "        if auc_masked.mean() > auc:\n",
    "            acc = acc_masked.mean()\n",
    "            acc_std = acc_masked.std()\n",
    "            auc = auc_masked.mean()\n",
    "            auc_std = auc_masked.std()\n",
    "    print(f'OUR METHOD RUN {i + 1}/{n_runs} - acc: {round(acc.mean() * 100, 2)}% +- {round(acc.std() * 100, 2)}% - ' +\n",
    "          f'auc: {round(auc.mean() * 100, 2)}% +- {round(auc.std() * 100, 2)}%')\n",
    "    ours_accs.append(acc.mean())\n",
    "    ours_aucs.append(auc.mean())\n",
    "print(f'\\nOUR METHOD GLOBAL - acc: {round(np.array(ours_accs).mean() * 100, 2)}% +- {round(np.array(ours_accs).std() * 100, 2)}% - ' +\n",
    "      f'auc: {round(np.array(ours_aucs).mean() * 100, 2)}% +- {round(np.array(ours_aucs).std() * 100, 2)}%')"
   ]
  },
  {
   "cell_type": "markdown",
   "metadata": {},
   "source": [
    "## Run MICE"
   ]
  },
  {
   "cell_type": "code",
   "execution_count": 5,
   "metadata": {
    "ExecuteTime": {
     "end_time": "2022-06-07T08:25:47.812154Z",
     "start_time": "2022-06-07T08:25:41.125881Z"
    },
    "execution": {
     "iopub.execute_input": "2022-06-07T16:35:42.399621Z",
     "iopub.status.busy": "2022-06-07T16:35:42.399178Z",
     "iopub.status.idle": "2022-06-07T16:44:34.856828Z",
     "shell.execute_reply": "2022-06-07T16:44:34.857378Z"
    }
   },
   "outputs": [
    {
     "name": "stdout",
     "output_type": "stream",
     "text": [
      "MICE - acc: 58.8% +- 0.0% - auc: 62.58% +- 0.0%\n"
     ]
    }
   ],
   "source": [
    "data_missing_nans = np.where(missing_mask, data_missing, np.nan)\n",
    "\n",
    "imputer = IterativeImputer()\n",
    "imputed = imputer.fit_transform(data_missing_nans)\n",
    "## All runs would be the same since deterministic method\n",
    "scores = utils.get_scores(imputed, y)\n",
    "acc = [scores['test_balanced_accuracy'].mean()] * n_runs\n",
    "auc = [scores['test_roc_auc_ovo'].mean()] * n_runs\n",
    "print(f'MICE - acc: {round(np.mean(acc) * 100, 2)}% +- {round(np.std(acc) * 100, 2)}% - ' +\n",
    "      f'auc: {round(np.mean(auc) * 100, 2)}% +- {round(np.std(auc) * 100, 2)}%')\n",
    "mice_accs = acc\n",
    "mice_aucs = auc"
   ]
  },
  {
   "cell_type": "markdown",
   "metadata": {},
   "source": [
    "## Run SFIL"
   ]
  },
  {
   "cell_type": "code",
   "execution_count": 6,
   "metadata": {
    "ExecuteTime": {
     "end_time": "2022-06-07T08:25:49.133209Z",
     "start_time": "2022-06-07T08:25:47.813384Z"
    },
    "execution": {
     "iopub.execute_input": "2022-06-07T16:44:34.861810Z",
     "iopub.status.busy": "2022-06-07T16:44:34.861266Z",
     "iopub.status.idle": "2022-06-07T16:45:06.695095Z",
     "shell.execute_reply": "2022-06-07T16:45:06.694704Z"
    }
   },
   "outputs": [
    {
     "name": "stdout",
     "output_type": "stream",
     "text": [
      "SFIL RUN 1/10 - acc: 62.75% +- 2.33% - auc: 67.45% +- 1.69%\n",
      "SFIL RUN 2/10 - acc: 61.2% +- 2.0% - auc: 66.17% +- 2.66%\n",
      "SFIL RUN 3/10 - acc: 60.75% +- 3.48% - auc: 64.3% +- 4.17%\n",
      "SFIL RUN 4/10 - acc: 61.9% +- 3.79% - auc: 66.08% +- 4.09%\n",
      "SFIL RUN 5/10 - acc: 59.7% +- 0.48% - auc: 63.37% +- 1.91%\n",
      "SFIL RUN 6/10 - acc: 60.75% +- 2.63% - auc: 65.32% +- 2.31%\n",
      "SFIL RUN 7/10 - acc: 61.55% +- 2.74% - auc: 64.68% +- 3.44%\n",
      "SFIL RUN 8/10 - acc: 60.8% +- 2.65% - auc: 66.17% +- 3.19%\n",
      "SFIL RUN 9/10 - acc: 62.05% +- 2.01% - auc: 66.76% +- 2.55%\n",
      "SFIL RUN 10/10 - acc: 61.5% +- 2.19% - auc: 65.46% +- 2.75%\n",
      "SFIL GLOBAL - acc: 61.3% +- 0.81% - auc: 65.58% +- 1.15%\n"
     ]
    }
   ],
   "source": [
    "sfil_accs, sfil_aucs = [], []\n",
    "for i in range(n_runs):\n",
    "    acc, auc = filtering(imputed, y, mode='standard', random_state=i)\n",
    "    sfil_accs.append(acc.mean())\n",
    "    sfil_aucs.append(auc.mean())\n",
    "    print(f'SFIL RUN {i + 1}/{n_runs} - acc: {round(np.mean(acc) * 100, 2)}% +- {round(np.std(acc) * 100, 2)}% - ' +\n",
    "          f'auc: {round(np.mean(auc) * 100, 2)}% +- {round(np.std(auc) * 100, 2)}%')\n",
    "print(f'SFIL GLOBAL - acc: {round(np.mean(sfil_accs) * 100, 2)}% +- {round(np.std(sfil_accs) * 100, 2)}% - ' +\n",
    "      f'auc: {round(np.mean(sfil_aucs) * 100, 2)}% +- {round(np.std(sfil_aucs) * 100, 2)}%')"
   ]
  },
  {
   "cell_type": "markdown",
   "metadata": {},
   "source": [
    "## Run PFIL"
   ]
  },
  {
   "cell_type": "code",
   "execution_count": 7,
   "metadata": {
    "ExecuteTime": {
     "end_time": "2022-06-07T08:35:09.194980Z",
     "start_time": "2022-06-07T08:25:49.134766Z"
    },
    "execution": {
     "iopub.execute_input": "2022-06-07T16:45:06.700763Z",
     "iopub.status.busy": "2022-06-07T16:45:06.700066Z",
     "iopub.status.idle": "2022-06-07T18:08:29.928422Z",
     "shell.execute_reply": "2022-06-07T18:08:29.927287Z"
    },
    "scrolled": false
   },
   "outputs": [
    {
     "name": "stdout",
     "output_type": "stream",
     "text": [
      "PFIL RUN 1/10 - acc: 59.05% +- 2.98% - auc: 63.79% +- 3.07%\n",
      "PFIL RUN 2/10 - acc: 60.65% +- 2.24% - auc: 64.19% +- 1.6%\n",
      "PFIL RUN 3/10 - acc: 59.35% +- 2.37% - auc: 62.08% +- 2.49%\n",
      "PFIL RUN 4/10 - acc: 60.95% +- 2.98% - auc: 63.81% +- 3.37%\n",
      "PFIL RUN 5/10 - acc: 59.1% +- 2.18% - auc: 63.47% +- 2.47%\n",
      "PFIL RUN 6/10 - acc: 60.6% +- 1.81% - auc: 64.67% +- 1.28%\n",
      "PFIL RUN 7/10 - acc: 58.85% +- 1.71% - auc: 63.78% +- 2.43%\n",
      "PFIL RUN 8/10 - acc: 60.75% +- 1.34% - auc: 65.84% +- 1.01%\n",
      "PFIL RUN 9/10 - acc: 60.75% +- 1.42% - auc: 65.4% +- 1.53%\n",
      "PFIL RUN 10/10 - acc: 59.8% +- 1.76% - auc: 65.04% +- 2.54%\n",
      "PFIL GLOBAL - acc: 59.98% +- 0.79% - auc: 64.21% +- 1.03%\n"
     ]
    }
   ],
   "source": [
    "pfil_accs, pfil_aucs = [], []\n",
    "for i in range(n_runs):\n",
    "    acc, auc = filtering(imputed, y, mode='panda', random_state=i)\n",
    "    pfil_accs.append(acc.mean())\n",
    "    pfil_aucs.append(auc.mean())\n",
    "    print(f'PFIL RUN {i + 1}/{n_runs} - acc: {round(np.mean(acc) * 100, 2)}% +- {round(np.std(acc) * 100, 2)}% - ' +\n",
    "          f'auc: {round(np.mean(auc) * 100, 2)}% +- {round(np.std(auc) * 100, 2)}%')\n",
    "print(f'PFIL GLOBAL - acc: {round(np.mean(pfil_accs) * 100, 2)}% +- {round(np.std(pfil_accs) * 100, 2)}% - ' +\n",
    "      f'auc: {round(np.mean(pfil_aucs) * 100, 2)}% +- {round(np.std(pfil_aucs) * 100, 2)}%')"
   ]
  },
  {
   "cell_type": "markdown",
   "metadata": {},
   "source": [
    "## Run SPOL"
   ]
  },
  {
   "cell_type": "code",
   "execution_count": 8,
   "metadata": {
    "ExecuteTime": {
     "end_time": "2022-06-07T08:50:33.353751Z",
     "start_time": "2022-06-07T08:49:36.684786Z"
    },
    "execution": {
     "iopub.execute_input": "2022-06-07T18:08:29.935273Z",
     "iopub.status.busy": "2022-06-07T18:08:29.934373Z",
     "iopub.status.idle": "2022-06-07T18:10:44.065119Z",
     "shell.execute_reply": "2022-06-07T18:10:44.066110Z"
    }
   },
   "outputs": [
    {
     "name": "stdout",
     "output_type": "stream",
     "text": [
      "SPOL RUN 1/10 - acc: 61.0% +- 1.65% - auc: 65.1% +- 3.18%\n",
      "SPOL RUN 2/10 - acc: 59.55% +- 3.23% - auc: 64.22% +- 4.42%\n",
      "SPOL RUN 3/10 - acc: 61.3% +- 0.99% - auc: 65.54% +- 0.67%\n",
      "SPOL RUN 4/10 - acc: 61.45% +- 1.84% - auc: 66.63% +- 2.49%\n",
      "SPOL RUN 5/10 - acc: 61.25% +- 2.5% - auc: 65.18% +- 2.39%\n",
      "SPOL RUN 6/10 - acc: 58.85% +- 2.68% - auc: 63.26% +- 2.17%\n",
      "SPOL RUN 7/10 - acc: 60.35% +- 1.71% - auc: 64.93% +- 2.17%\n",
      "SPOL RUN 8/10 - acc: 60.3% +- 0.66% - auc: 63.97% +- 1.19%\n",
      "SPOL RUN 9/10 - acc: 59.95% +- 2.13% - auc: 64.36% +- 2.0%\n",
      "SPOL RUN 10/10 - acc: 61.45% +- 2.32% - auc: 65.99% +- 2.92%\n",
      "SPOL GLOBAL - acc: 60.54% +- 0.85% - auc: 64.92% +- 0.95%\n"
     ]
    }
   ],
   "source": [
    "spol_accs, spol_aucs = [], []\n",
    "for i in range(n_runs):\n",
    "    acc, auc = polishing(imputed, y, mode='standard', random_state=i)\n",
    "    spol_accs.append(acc.mean())\n",
    "    spol_aucs.append(auc.mean())\n",
    "    print(f'SPOL RUN {i + 1}/{n_runs} - acc: {round(np.mean(acc) * 100, 2)}% +- {round(np.std(acc) * 100, 2)}% - ' +\n",
    "          f'auc: {round(np.mean(auc) * 100, 2)}% +- {round(np.std(auc) * 100, 2)}%')\n",
    "print(f'SPOL GLOBAL - acc: {round(np.mean(spol_accs) * 100, 2)}% +- {round(np.std(spol_accs) * 100, 2)}% - ' +\n",
    "      f'auc: {round(np.mean(spol_aucs) * 100, 2)}% +- {round(np.std(spol_aucs) * 100, 2)}%')"
   ]
  },
  {
   "cell_type": "markdown",
   "metadata": {},
   "source": [
    "## Run PPOL"
   ]
  },
  {
   "cell_type": "code",
   "execution_count": 9,
   "metadata": {
    "ExecuteTime": {
     "end_time": "2022-06-07T08:52:24.306737Z",
     "start_time": "2022-06-07T08:50:33.355178Z"
    },
    "execution": {
     "iopub.execute_input": "2022-06-07T18:10:44.076740Z",
     "iopub.status.busy": "2022-06-07T18:10:44.075840Z",
     "iopub.status.idle": "2022-06-07T19:31:17.246250Z",
     "shell.execute_reply": "2022-06-07T19:31:17.247260Z"
    }
   },
   "outputs": [
    {
     "name": "stdout",
     "output_type": "stream",
     "text": [
      "PPOL RUN 1/10 - acc: 59.75% +- 2.64% - auc: 63.44% +- 2.62%\n",
      "PPOL RUN 2/10 - acc: 61.35% +- 3.2% - auc: 65.36% +- 3.47%\n",
      "PPOL RUN 3/10 - acc: 59.4% +- 3.23% - auc: 64.98% +- 4.02%\n",
      "PPOL RUN 4/10 - acc: 61.4% +- 3.04% - auc: 64.75% +- 3.49%\n",
      "PPOL RUN 5/10 - acc: 61.7% +- 2.36% - auc: 65.56% +- 1.04%\n",
      "PPOL RUN 6/10 - acc: 59.3% +- 2.5% - auc: 63.85% +- 3.43%\n",
      "PPOL RUN 7/10 - acc: 59.5% +- 1.82% - auc: 63.98% +- 2.19%\n",
      "PPOL RUN 8/10 - acc: 61.5% +- 1.8% - auc: 65.7% +- 2.56%\n",
      "PPOL RUN 9/10 - acc: 60.7% +- 0.97% - auc: 64.64% +- 1.35%\n",
      "PPOL RUN 10/10 - acc: 60.05% +- 2.98% - auc: 64.45% +- 3.01%\n",
      "PPOL GLOBAL - acc: 60.46% +- 0.92% - auc: 64.67% +- 0.72%\n"
     ]
    }
   ],
   "source": [
    "ppol_accs, ppol_aucs = [], []\n",
    "for i in range(n_runs):\n",
    "    acc, auc = polishing(imputed, y, mode='panda', random_state=i)\n",
    "    ppol_accs.append(acc.mean())\n",
    "    ppol_aucs.append(auc.mean())\n",
    "    print(f'PPOL RUN {i + 1}/{n_runs} - acc: {round(np.mean(acc) * 100, 2)}% +- {round(np.std(acc) * 100, 2)}% - ' +\n",
    "          f'auc: {round(np.mean(auc) * 100, 2)}% +- {round(np.std(auc) * 100, 2)}%')\n",
    "print(f'PPOL GLOBAL - acc: {round(np.mean(ppol_accs) * 100, 2)}% +- {round(np.std(ppol_accs) * 100, 2)}% - ' +\n",
    "      f'auc: {round(np.mean(ppol_aucs) * 100, 2)}% +- {round(np.std(ppol_aucs) * 100, 2)}%')"
   ]
  },
  {
   "cell_type": "markdown",
   "metadata": {},
   "source": [
    "## Run T-tests"
   ]
  },
  {
   "cell_type": "code",
   "execution_count": 10,
   "metadata": {
    "ExecuteTime": {
     "end_time": "2022-06-07T08:52:25.983958Z",
     "start_time": "2022-06-07T08:52:25.963898Z"
    },
    "execution": {
     "iopub.execute_input": "2022-06-07T19:31:17.258618Z",
     "iopub.status.busy": "2022-06-07T19:31:17.257418Z",
     "iopub.status.idle": "2022-06-07T19:31:17.263576Z",
     "shell.execute_reply": "2022-06-07T19:31:17.262315Z"
    },
    "scrolled": false
   },
   "outputs": [
    {
     "name": "stdout",
     "output_type": "stream",
     "text": [
      "Metric ACC - OUR METHOD is significantly better than MICE\n",
      "Metric AUC - OUR METHOD is significantly better than MICE\n",
      "Metric ACC - OUR METHOD is significantly better than SFIL\n",
      "Metric AUC - OUR METHOD is significantly better than SFIL\n",
      "Metric ACC - OUR METHOD is significantly better than PFIL\n",
      "Metric AUC - OUR METHOD is significantly better than PFIL\n",
      "Metric ACC - OUR METHOD is significantly better than SPOL\n",
      "Metric AUC - OUR METHOD is significantly better than SPOL\n",
      "Metric ACC - OUR METHOD is significantly better than PPOL\n",
      "Metric AUC - OUR METHOD is significantly better than PPOL\n"
     ]
    }
   ],
   "source": [
    "for model, metrics in {\n",
    "        'MICE': {'ACC': mice_accs, 'AUC': mice_aucs},\n",
    "        'SFIL': {'ACC': sfil_accs, 'AUC': sfil_aucs},\n",
    "        'PFIL': {'ACC': pfil_accs, 'AUC': pfil_aucs},\n",
    "        'SPOL': {'ACC': spol_accs, 'AUC': spol_aucs},\n",
    "        'PPOL': {'ACC': ppol_accs, 'AUC': ppol_aucs}}.items():\n",
    "    for metric_name, metric in metrics.items():\n",
    "        ours_metric = ours_accs if metric_name == 'ACC' else ours_aucs\n",
    "        t, p = scipy.stats.ttest_ind(np.array(ours_metric), np.array(metric))\n",
    "        if p <= .05:\n",
    "            if t > 0:\n",
    "                ## Our method is better\n",
    "                print(f'Metric {metric_name} - OUR METHOD is significantly better than {model}')\n",
    "            else:\n",
    "                ## Theirs is better\n",
    "                print(f'Metric {metric_name} - OUR METHOD is significantly worse than {model}')\n",
    "        else:\n",
    "            ## Else we are even\n",
    "            print(f'Metric {metric_name} - OUR METHOD is even with {model}')"
   ]
  }
 ],
 "metadata": {
  "kernelspec": {
   "display_name": "Python 3 (ipykernel)",
   "language": "python",
   "name": "python3"
  },
  "language_info": {
   "codemirror_mode": {
    "name": "ipython",
    "version": 3
   },
   "file_extension": ".py",
   "mimetype": "text/x-python",
   "name": "python",
   "nbconvert_exporter": "python",
   "pygments_lexer": "ipython3",
   "version": "3.9.7"
  },
  "latex_envs": {
   "LaTeX_envs_menu_present": true,
   "autoclose": false,
   "autocomplete": true,
   "bibliofile": "biblio.bib",
   "cite_by": "apalike",
   "current_citInitial": 1,
   "eqLabelWithNumbers": true,
   "eqNumInitial": 1,
   "hotkeys": {
    "equation": "Ctrl-E",
    "itemize": "Ctrl-I"
   },
   "labels_anchors": false,
   "latex_user_defs": false,
   "report_style_numbering": false,
   "user_envs_cfg": false
  }
 },
 "nbformat": 4,
 "nbformat_minor": 2
}
