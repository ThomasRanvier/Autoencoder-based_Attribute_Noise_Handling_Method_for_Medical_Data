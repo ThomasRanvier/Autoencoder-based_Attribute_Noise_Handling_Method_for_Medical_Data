{
 "cells": [
  {
   "cell_type": "code",
   "execution_count": 1,
   "metadata": {
    "ExecuteTime": {
     "end_time": "2022-06-07T08:11:39.412870Z",
     "start_time": "2022-06-07T08:11:35.692131Z"
    },
    "execution": {
     "iopub.execute_input": "2022-06-07T16:15:21.952964Z",
     "iopub.status.busy": "2022-06-07T16:15:21.948034Z",
     "iopub.status.idle": "2022-06-07T16:15:26.353701Z",
     "shell.execute_reply": "2022-06-07T16:15:26.354163Z"
    }
   },
   "outputs": [],
   "source": [
    "from __future__ import print_function\n",
    "import warnings\n",
    "warnings.filterwarnings('ignore')\n",
    "## Disable tf future deprecated messages\n",
    "import logging\n",
    "logging.getLogger('tensorflow').disabled = True\n",
    "## Disable tf CUDA messages\n",
    "import os\n",
    "os.environ['TF_CPP_MIN_LOG_LEVEL'] = '3'\n",
    "\n",
    "%matplotlib inline\n",
    "\n",
    "import sys\n",
    "import random\n",
    "import numpy as np\n",
    "import pandas as pd\n",
    "\n",
    "import utils\n",
    "import correction\n",
    "from models.dense import *\n",
    "from models.gain import gain\n",
    "from models.soft_impute import SoftImpute\n",
    "from models.sinkhorn import OTimputer\n",
    "from models.mida import mida\n",
    "from models.polishing import polishing\n",
    "from models.filtering import filtering\n",
    "\n",
    "import scipy.stats\n",
    "\n",
    "from sklearn.experimental import enable_iterative_imputer\n",
    "from sklearn.impute import IterativeImputer\n",
    "from sklearn.impute import KNNImputer, SimpleImputer\n",
    "\n",
    "import sklearn.neighbors._base\n",
    "sys.modules['sklearn.neighbors.base'] = sklearn.neighbors._base\n",
    "from missingpy import MissForest\n",
    "\n",
    "torch.backends.cudnn.enabled = True\n",
    "torch.backends.cudnn.benchmark = True\n",
    "dtype = torch.cuda.FloatTensor"
   ]
  },
  {
   "cell_type": "markdown",
   "metadata": {},
   "source": [
    "## Repeat all experiments for 10 runs"
   ]
  },
  {
   "cell_type": "code",
   "execution_count": 2,
   "metadata": {
    "ExecuteTime": {
     "end_time": "2022-06-07T08:11:39.417491Z",
     "start_time": "2022-06-07T08:11:39.415081Z"
    },
    "execution": {
     "iopub.execute_input": "2022-06-07T16:15:26.358614Z",
     "iopub.status.busy": "2022-06-07T16:15:26.357957Z",
     "iopub.status.idle": "2022-06-07T16:15:26.359846Z",
     "shell.execute_reply": "2022-06-07T16:15:26.360220Z"
    }
   },
   "outputs": [],
   "source": [
    "n_runs = 10"
   ]
  },
  {
   "cell_type": "markdown",
   "metadata": {},
   "source": [
    "## Load data"
   ]
  },
  {
   "cell_type": "code",
   "execution_count": 3,
   "metadata": {
    "ExecuteTime": {
     "end_time": "2022-06-07T08:11:41.218694Z",
     "start_time": "2022-06-07T08:11:39.419632Z"
    },
    "execution": {
     "iopub.execute_input": "2022-06-07T16:15:26.363800Z",
     "iopub.status.busy": "2022-06-07T16:15:26.363350Z",
     "iopub.status.idle": "2022-06-07T16:15:26.497874Z",
     "shell.execute_reply": "2022-06-07T16:15:26.497382Z"
    }
   },
   "outputs": [
    {
     "name": "stdout",
     "output_type": "stream",
     "text": [
      "Dataset shape: (2000, 95)\n",
      "33.65% missing data\n",
      "Class distribution: (array([1., 2.]), array([1000, 1000]))\n"
     ]
    }
   ],
   "source": [
    "data_missing, missing_mask, y = utils.load_nhanes()\n",
    "## Inject noise\n",
    "data_missing = utils.inject_noise(data_missing.copy(), noise_rate=.15)\n",
    "## Replace missing values locations by 0\n",
    "data_missing = data_missing * missing_mask"
   ]
  },
  {
   "cell_type": "markdown",
   "metadata": {},
   "source": [
    "## Run OUR METHOD"
   ]
  },
  {
   "cell_type": "code",
   "execution_count": 4,
   "metadata": {
    "ExecuteTime": {
     "end_time": "2022-06-07T08:25:41.124140Z",
     "start_time": "2022-06-07T08:11:41.222736Z"
    },
    "execution": {
     "iopub.execute_input": "2022-06-07T16:15:26.506739Z",
     "iopub.status.busy": "2022-06-07T16:15:26.506202Z",
     "iopub.status.idle": "2022-06-07T16:32:59.686667Z",
     "shell.execute_reply": "2022-06-07T16:32:59.686232Z"
    },
    "scrolled": false
   },
   "outputs": [
    {
     "name": "stdout",
     "output_type": "stream",
     "text": [
      "Ite 00000 - 4.06 sec - Loss 0.060898 - ACC 60.75% - ACC Mean 60.75% - AUC 65.72% - AUC Mean 65.72% - Deter 000\n",
      "Ite 00050 - 1.49 sec - Loss 0.012381 - ACC 60.60% - ACC Mean 60.51% - AUC 64.44% - AUC Mean 64.66% - Deter 011\n",
      "Ite 00089 - 1.22 sec - Loss 0.007396 - ACC 60.70% - ACC Mean 60.33% - AUC 64.02% - AUC Mean 64.28% - Deter 050\n",
      "Early stop ite 89, rollback to correction of ite 39, whith acc of 62.4% and auc of 67.28%\n",
      "OUR METHOD RUN 1/10 - acc: 62.4% +- 0.0% - auc: 67.28% +- 0.0%\n",
      "Ite 00000 - 1.64 sec - Loss 0.138130 - ACC 59.75% - ACC Mean 59.75% - AUC 65.04% - AUC Mean 65.04% - Deter 000\n",
      "Ite 00050 - 1.14 sec - Loss 0.052407 - ACC 61.15% - ACC Mean 61.12% - AUC 65.75% - AUC Mean 65.31% - Deter 042\n",
      "Ite 00058 - 0.98 sec - Loss 0.047915 - ACC 60.70% - ACC Mean 61.03% - AUC 65.36% - AUC Mean 65.26% - Deter 050\n",
      "Early stop ite 58, rollback to correction of ite 8, whith acc of 62.75% and auc of 66.98%\n",
      "OUR METHOD RUN 2/10 - acc: 62.75% +- 0.0% - auc: 66.98% +- 0.0%\n",
      "Ite 00000 - 1.03 sec - Loss 0.081472 - ACC 60.80% - ACC Mean 60.80% - AUC 65.61% - AUC Mean 65.61% - Deter 000\n",
      "Ite 00050 - 1.38 sec - Loss 0.023944 - ACC 60.55% - ACC Mean 60.76% - AUC 64.21% - AUC Mean 64.88% - Deter 008\n",
      "Ite 00092 - 0.90 sec - Loss 0.014510 - ACC 61.15% - ACC Mean 61.23% - AUC 64.58% - AUC Mean 65.65% - Deter 050\n",
      "Early stop ite 92, rollback to correction of ite 42, whith acc of 62.1% and auc of 67.32%\n",
      "OUR METHOD RUN 3/10 - acc: 62.1% +- 0.0% - auc: 67.32% +- 0.0%\n",
      "Ite 00000 - 1.45 sec - Loss 0.077095 - ACC 60.95% - ACC Mean 60.95% - AUC 65.61% - AUC Mean 65.61% - Deter 000\n",
      "Ite 00050 - 1.02 sec - Loss 0.020098 - ACC 59.85% - ACC Mean 60.27% - AUC 63.71% - AUC Mean 64.61% - Deter 044\n",
      "Ite 00056 - 0.97 sec - Loss 0.018501 - ACC 61.30% - ACC Mean 60.31% - AUC 66.41% - AUC Mean 64.72% - Deter 050\n",
      "Early stop ite 56, rollback to correction of ite 6, whith acc of 63.55% and auc of 66.72%\n",
      "OUR METHOD RUN 4/10 - acc: 63.55% +- 0.0% - auc: 66.72% +- 0.0%\n",
      "Ite 00000 - 1.00 sec - Loss 0.102528 - ACC 61.00% - ACC Mean 61.00% - AUC 65.43% - AUC Mean 65.43% - Deter 000\n",
      "Ite 00050 - 1.16 sec - Loss 0.040106 - ACC 62.20% - ACC Mean 61.27% - AUC 67.32% - AUC Mean 65.88% - Deter 035\n",
      "Ite 00065 - 0.95 sec - Loss 0.033621 - ACC 61.15% - ACC Mean 61.49% - AUC 65.88% - AUC Mean 65.99% - Deter 050\n",
      "Early stop ite 65, rollback to correction of ite 15, whith acc of 62.4% and auc of 67.93%\n",
      "OUR METHOD RUN 5/10 - acc: 62.4% +- 0.0% - auc: 67.93% +- 0.0%\n",
      "Ite 00000 - 1.01 sec - Loss 0.085252 - ACC 60.15% - ACC Mean 60.15% - AUC 63.96% - AUC Mean 63.96% - Deter 000\n",
      "Ite 00050 - 0.97 sec - Loss 0.020812 - ACC 59.75% - ACC Mean 60.65% - AUC 64.79% - AUC Mean 64.85% - Deter 048\n",
      "Ite 00052 - 0.98 sec - Loss 0.020193 - ACC 59.95% - ACC Mean 60.61% - AUC 65.02% - AUC Mean 64.79% - Deter 050\n",
      "Early stop ite 52, rollback to correction of ite 2, whith acc of 62.4% and auc of 67.57%\n",
      "OUR METHOD RUN 6/10 - acc: 62.4% +- 0.0% - auc: 67.57% +- 0.0%\n",
      "Ite 00000 - 1.06 sec - Loss 0.101746 - ACC 62.05% - ACC Mean 62.05% - AUC 65.77% - AUC Mean 65.77% - Deter 000\n",
      "Ite 00050 - 1.00 sec - Loss 0.034191 - ACC 61.25% - ACC Mean 60.89% - AUC 64.81% - AUC Mean 64.98% - Deter 037\n",
      "Ite 00063 - 1.02 sec - Loss 0.029551 - ACC 58.50% - ACC Mean 60.73% - AUC 63.49% - AUC Mean 64.92% - Deter 050\n",
      "Early stop ite 63, rollback to correction of ite 13, whith acc of 63.65% and auc of 67.89%\n",
      "OUR METHOD RUN 7/10 - acc: 63.65% +- 0.0% - auc: 67.89% +- 0.0%\n",
      "Ite 00000 - 0.98 sec - Loss 0.078717 - ACC 61.10% - ACC Mean 61.10% - AUC 65.35% - AUC Mean 65.35% - Deter 000\n",
      "Ite 00050 - 0.93 sec - Loss 0.019348 - ACC 61.40% - ACC Mean 60.87% - AUC 64.98% - AUC Mean 65.12% - Deter 041\n",
      "Ite 00059 - 1.07 sec - Loss 0.016734 - ACC 60.40% - ACC Mean 60.71% - AUC 65.18% - AUC Mean 64.97% - Deter 050\n",
      "Early stop ite 59, rollback to correction of ite 9, whith acc of 63.5% and auc of 67.54%\n",
      "OUR METHOD RUN 8/10 - acc: 63.5% +- 0.0% - auc: 67.54% +- 0.0%\n",
      "Ite 00000 - 0.96 sec - Loss 0.086008 - ACC 61.05% - ACC Mean 61.05% - AUC 64.97% - AUC Mean 64.97% - Deter 000\n",
      "Ite 00050 - 0.89 sec - Loss 0.027248 - ACC 60.85% - ACC Mean 60.84% - AUC 64.92% - AUC Mean 65.03% - Deter 022\n",
      "Ite 00100 - 0.96 sec - Loss 0.016443 - ACC 59.80% - ACC Mean 60.70% - AUC 64.30% - AUC Mean 64.93% - Deter 042\n",
      "Ite 00150 - 1.00 sec - Loss 0.011377 - ACC 59.80% - ACC Mean 60.59% - AUC 65.40% - AUC Mean 64.97% - Deter 043\n",
      "Ite 00157 - 0.89 sec - Loss 0.010838 - ACC 59.35% - ACC Mean 60.48% - AUC 63.44% - AUC Mean 64.88% - Deter 050\n",
      "Early stop ite 157, rollback to correction of ite 107, whith acc of 62.25% and auc of 67.35%\n",
      "OUR METHOD RUN 9/10 - acc: 62.25% +- 0.0% - auc: 67.35% +- 0.0%\n",
      "Ite 00000 - 0.93 sec - Loss 0.065488 - ACC 61.40% - ACC Mean 61.40% - AUC 65.16% - AUC Mean 65.16% - Deter 000\n",
      "Ite 00050 - 0.96 sec - Loss 0.025153 - ACC 60.95% - ACC Mean 60.53% - AUC 65.66% - AUC Mean 64.75% - Deter 018\n",
      "Ite 00100 - 1.14 sec - Loss 0.015485 - ACC 63.00% - ACC Mean 61.05% - AUC 66.93% - AUC Mean 65.26% - Deter 022\n",
      "Ite 00128 - 1.99 sec - Loss 0.012429 - ACC 61.55% - ACC Mean 61.30% - AUC 66.47% - AUC Mean 65.61% - Deter 050\n",
      "Early stop ite 128, rollback to correction of ite 78, whith acc of 62.8% and auc of 67.15%\n",
      "OUR METHOD RUN 10/10 - acc: 62.8% +- 0.0% - auc: 67.15% +- 0.0%\n",
      "\n",
      "OUR METHOD GLOBAL - acc: 62.78% +- 0.55% - auc: 67.37% +- 0.36%\n"
     ]
    }
   ],
   "source": [
    "params = {\n",
    "    'nb_batches': 10,\n",
    "    'reg_noise_std': .03,\n",
    "    'net_input': 'data_corrupted',\n",
    "    'net_params': {\n",
    "        'input_channels':1,\n",
    "        'output_channels':1,\n",
    "        'channels_skip':4,\n",
    "        'down_layers':[(24, 7, 1),\n",
    "                       (46, 9, 5),\n",
    "                       (96, 11, 1),\n",
    "                       (96, 13, 1)],\n",
    "        'need_sigmoid':True,\n",
    "        'need_bias':True,\n",
    "        'pad':'zero',\n",
    "        'downsample_mode':'stride',\n",
    "        'upsample_mode':'nearest',\n",
    "        'act_fun':'LeakyReLU',\n",
    "        'need1x1_up':True\n",
    "    },# or a list containing layers sizes\n",
    "    'adam_lr': .0001,\n",
    "    'adam_weight_decay': 0.,\n",
    "}\n",
    "\n",
    "ours_accs, ours_aucs = [], []\n",
    "for i in range(n_runs):\n",
    "    ours_correction = correction.run(data_missing, 501, params, y=y, missing_mask=missing_mask, seed=i)\n",
    "    ## Since our method returns 2 imputations select the best one\n",
    "    scores_raw = utils.get_scores(ours_correction['raw_out'], y)\n",
    "    acc = scores_raw['test_balanced_accuracy']\n",
    "    auc = scores_raw['test_roc_auc_ovo']\n",
    "    acc = acc.mean()\n",
    "    acc_std = acc.std()\n",
    "    auc = auc.mean()\n",
    "    auc_std = auc.std()\n",
    "    if 'masked_out' in ours_correction:\n",
    "        scores_masked = utils.get_scores(ours_correction['masked_out'], y)\n",
    "        acc_masked = scores_masked['test_balanced_accuracy']\n",
    "        auc_masked = scores_masked['test_roc_auc_ovo']\n",
    "        if auc_masked.mean() > auc:\n",
    "            acc = acc_masked.mean()\n",
    "            acc_std = acc_masked.std()\n",
    "            auc = auc_masked.mean()\n",
    "            auc_std = auc_masked.std()\n",
    "    print(f'OUR METHOD RUN {i + 1}/{n_runs} - acc: {round(acc.mean() * 100, 2)}% +- {round(acc.std() * 100, 2)}% - ' +\n",
    "          f'auc: {round(auc.mean() * 100, 2)}% +- {round(auc.std() * 100, 2)}%')\n",
    "    ours_accs.append(acc.mean())\n",
    "    ours_aucs.append(auc.mean())\n",
    "print(f'\\nOUR METHOD GLOBAL - acc: {round(np.array(ours_accs).mean() * 100, 2)}% +- {round(np.array(ours_accs).std() * 100, 2)}% - ' +\n",
    "      f'auc: {round(np.array(ours_aucs).mean() * 100, 2)}% +- {round(np.array(ours_aucs).std() * 100, 2)}%')"
   ]
  },
  {
   "cell_type": "markdown",
   "metadata": {},
   "source": [
    "## Run MICE"
   ]
  },
  {
   "cell_type": "code",
   "execution_count": 5,
   "metadata": {
    "ExecuteTime": {
     "end_time": "2022-06-07T08:25:47.812154Z",
     "start_time": "2022-06-07T08:25:41.125881Z"
    },
    "execution": {
     "iopub.execute_input": "2022-06-07T16:32:59.691920Z",
     "iopub.status.busy": "2022-06-07T16:32:59.691488Z",
     "iopub.status.idle": "2022-06-07T16:36:14.503135Z",
     "shell.execute_reply": "2022-06-07T16:36:14.502651Z"
    }
   },
   "outputs": [
    {
     "name": "stdout",
     "output_type": "stream",
     "text": [
      "MICE - acc: 61.2% +- 0.0% - auc: 64.88% +- 0.0%\n"
     ]
    }
   ],
   "source": [
    "data_missing_nans = np.where(missing_mask, data_missing, np.nan)\n",
    "\n",
    "imputer = IterativeImputer()\n",
    "imputed = imputer.fit_transform(data_missing_nans)\n",
    "## All runs would be the same since deterministic method\n",
    "scores = utils.get_scores(imputed, y)\n",
    "acc = [scores['test_balanced_accuracy'].mean()] * n_runs\n",
    "auc = [scores['test_roc_auc_ovo'].mean()] * n_runs\n",
    "print(f'MICE - acc: {round(np.mean(acc) * 100, 2)}% +- {round(np.std(acc) * 100, 2)}% - ' +\n",
    "      f'auc: {round(np.mean(auc) * 100, 2)}% +- {round(np.std(auc) * 100, 2)}%')\n",
    "mice_accs = acc\n",
    "mice_aucs = auc"
   ]
  },
  {
   "cell_type": "markdown",
   "metadata": {},
   "source": [
    "## Run SFIL"
   ]
  },
  {
   "cell_type": "code",
   "execution_count": 6,
   "metadata": {
    "ExecuteTime": {
     "end_time": "2022-06-07T08:25:49.133209Z",
     "start_time": "2022-06-07T08:25:47.813384Z"
    },
    "execution": {
     "iopub.execute_input": "2022-06-07T16:36:14.508546Z",
     "iopub.status.busy": "2022-06-07T16:36:14.508079Z",
     "iopub.status.idle": "2022-06-07T16:36:36.452554Z",
     "shell.execute_reply": "2022-06-07T16:36:36.452881Z"
    }
   },
   "outputs": [
    {
     "name": "stdout",
     "output_type": "stream",
     "text": [
      "SFIL RUN 1/10 - acc: 60.65% +- 3.04% - auc: 64.84% +- 3.34%\n",
      "SFIL RUN 2/10 - acc: 60.15% +- 1.02% - auc: 63.92% +- 2.24%\n",
      "SFIL RUN 3/10 - acc: 60.0% +- 1.27% - auc: 63.51% +- 1.8%\n",
      "SFIL RUN 4/10 - acc: 61.2% +- 2.65% - auc: 64.96% +- 3.17%\n",
      "SFIL RUN 5/10 - acc: 59.75% +- 1.9% - auc: 62.91% +- 2.66%\n",
      "SFIL RUN 6/10 - acc: 62.0% +- 2.57% - auc: 66.19% +- 2.14%\n",
      "SFIL RUN 7/10 - acc: 61.25% +- 2.38% - auc: 65.89% +- 1.44%\n",
      "SFIL RUN 8/10 - acc: 60.15% +- 1.89% - auc: 63.77% +- 1.68%\n",
      "SFIL RUN 9/10 - acc: 59.5% +- 1.81% - auc: 63.24% +- 1.78%\n",
      "SFIL RUN 10/10 - acc: 60.65% +- 2.47% - auc: 65.35% +- 2.55%\n",
      "SFIL GLOBAL - acc: 60.53% +- 0.73% - auc: 64.46% +- 1.08%\n"
     ]
    }
   ],
   "source": [
    "sfil_accs, sfil_aucs = [], []\n",
    "for i in range(n_runs):\n",
    "    acc, auc = filtering(imputed, y, mode='standard', random_state=i)\n",
    "    sfil_accs.append(acc.mean())\n",
    "    sfil_aucs.append(auc.mean())\n",
    "    print(f'SFIL RUN {i + 1}/{n_runs} - acc: {round(np.mean(acc) * 100, 2)}% +- {round(np.std(acc) * 100, 2)}% - ' +\n",
    "          f'auc: {round(np.mean(auc) * 100, 2)}% +- {round(np.std(auc) * 100, 2)}%')\n",
    "print(f'SFIL GLOBAL - acc: {round(np.mean(sfil_accs) * 100, 2)}% +- {round(np.std(sfil_accs) * 100, 2)}% - ' +\n",
    "      f'auc: {round(np.mean(sfil_aucs) * 100, 2)}% +- {round(np.std(sfil_aucs) * 100, 2)}%')"
   ]
  },
  {
   "cell_type": "markdown",
   "metadata": {},
   "source": [
    "## Run PFIL"
   ]
  },
  {
   "cell_type": "code",
   "execution_count": 7,
   "metadata": {
    "ExecuteTime": {
     "end_time": "2022-06-07T08:35:09.194980Z",
     "start_time": "2022-06-07T08:25:49.134766Z"
    },
    "execution": {
     "iopub.execute_input": "2022-06-07T16:36:36.459454Z",
     "iopub.status.busy": "2022-06-07T16:36:36.459039Z",
     "iopub.status.idle": "2022-06-07T18:03:46.985667Z",
     "shell.execute_reply": "2022-06-07T18:03:46.984591Z"
    },
    "scrolled": false
   },
   "outputs": [
    {
     "name": "stdout",
     "output_type": "stream",
     "text": [
      "PFIL RUN 1/10 - acc: 59.5% +- 1.47% - auc: 62.83% +- 1.18%\n",
      "PFIL RUN 2/10 - acc: 59.5% +- 0.99% - auc: 64.88% +- 1.35%\n",
      "PFIL RUN 3/10 - acc: 59.9% +- 1.94% - auc: 64.5% +- 2.36%\n",
      "PFIL RUN 4/10 - acc: 59.85% +- 2.7% - auc: 64.44% +- 2.2%\n",
      "PFIL RUN 5/10 - acc: 59.55% +- 1.53% - auc: 63.71% +- 2.2%\n",
      "PFIL RUN 6/10 - acc: 60.7% +- 2.17% - auc: 64.78% +- 2.9%\n",
      "PFIL RUN 7/10 - acc: 59.05% +- 1.62% - auc: 64.12% +- 2.37%\n",
      "PFIL RUN 8/10 - acc: 60.85% +- 0.89% - auc: 64.55% +- 1.38%\n",
      "PFIL RUN 9/10 - acc: 61.7% +- 2.55% - auc: 66.1% +- 2.56%\n",
      "PFIL RUN 10/10 - acc: 59.8% +- 2.33% - auc: 64.3% +- 2.4%\n",
      "PFIL GLOBAL - acc: 60.04% +- 0.76% - auc: 64.42% +- 0.8%\n"
     ]
    }
   ],
   "source": [
    "pfil_accs, pfil_aucs = [], []\n",
    "for i in range(n_runs):\n",
    "    acc, auc = filtering(imputed, y, mode='panda', random_state=i)\n",
    "    pfil_accs.append(acc.mean())\n",
    "    pfil_aucs.append(auc.mean())\n",
    "    print(f'PFIL RUN {i + 1}/{n_runs} - acc: {round(np.mean(acc) * 100, 2)}% +- {round(np.std(acc) * 100, 2)}% - ' +\n",
    "          f'auc: {round(np.mean(auc) * 100, 2)}% +- {round(np.std(auc) * 100, 2)}%')\n",
    "print(f'PFIL GLOBAL - acc: {round(np.mean(pfil_accs) * 100, 2)}% +- {round(np.std(pfil_accs) * 100, 2)}% - ' +\n",
    "      f'auc: {round(np.mean(pfil_aucs) * 100, 2)}% +- {round(np.std(pfil_aucs) * 100, 2)}%')"
   ]
  },
  {
   "cell_type": "markdown",
   "metadata": {},
   "source": [
    "## Run SPOL"
   ]
  },
  {
   "cell_type": "code",
   "execution_count": 8,
   "metadata": {
    "ExecuteTime": {
     "end_time": "2022-06-07T08:50:33.353751Z",
     "start_time": "2022-06-07T08:49:36.684786Z"
    },
    "execution": {
     "iopub.execute_input": "2022-06-07T18:03:46.994349Z",
     "iopub.status.busy": "2022-06-07T18:03:46.993196Z",
     "iopub.status.idle": "2022-06-07T18:05:58.135899Z",
     "shell.execute_reply": "2022-06-07T18:05:58.134814Z"
    }
   },
   "outputs": [
    {
     "name": "stdout",
     "output_type": "stream",
     "text": [
      "SPOL RUN 1/10 - acc: 58.9% +- 1.21% - auc: 62.62% +- 1.81%\n",
      "SPOL RUN 2/10 - acc: 60.65% +- 2.03% - auc: 64.88% +- 2.55%\n",
      "SPOL RUN 3/10 - acc: 60.85% +- 1.5% - auc: 63.86% +- 1.82%\n",
      "SPOL RUN 4/10 - acc: 58.8% +- 2.47% - auc: 62.8% +- 2.7%\n",
      "SPOL RUN 5/10 - acc: 60.25% +- 2.23% - auc: 64.3% +- 2.28%\n",
      "SPOL RUN 6/10 - acc: 59.35% +- 1.83% - auc: 63.24% +- 1.31%\n",
      "SPOL RUN 7/10 - acc: 59.05% +- 2.91% - auc: 63.79% +- 3.17%\n",
      "SPOL RUN 8/10 - acc: 59.8% +- 1.77% - auc: 63.39% +- 2.94%\n",
      "SPOL RUN 9/10 - acc: 59.3% +- 0.64% - auc: 63.54% +- 1.26%\n",
      "SPOL RUN 10/10 - acc: 59.2% +- 1.34% - auc: 62.43% +- 2.05%\n",
      "SPOL GLOBAL - acc: 59.61% +- 0.7% - auc: 63.48% +- 0.72%\n"
     ]
    }
   ],
   "source": [
    "spol_accs, spol_aucs = [], []\n",
    "for i in range(n_runs):\n",
    "    acc, auc = polishing(imputed, y, mode='standard', random_state=i)\n",
    "    spol_accs.append(acc.mean())\n",
    "    spol_aucs.append(auc.mean())\n",
    "    print(f'SPOL RUN {i + 1}/{n_runs} - acc: {round(np.mean(acc) * 100, 2)}% +- {round(np.std(acc) * 100, 2)}% - ' +\n",
    "          f'auc: {round(np.mean(auc) * 100, 2)}% +- {round(np.std(auc) * 100, 2)}%')\n",
    "print(f'SPOL GLOBAL - acc: {round(np.mean(spol_accs) * 100, 2)}% +- {round(np.std(spol_accs) * 100, 2)}% - ' +\n",
    "      f'auc: {round(np.mean(spol_aucs) * 100, 2)}% +- {round(np.std(spol_aucs) * 100, 2)}%')"
   ]
  },
  {
   "cell_type": "markdown",
   "metadata": {},
   "source": [
    "## Run PPOL"
   ]
  },
  {
   "cell_type": "code",
   "execution_count": 9,
   "metadata": {
    "ExecuteTime": {
     "end_time": "2022-06-07T08:52:24.306737Z",
     "start_time": "2022-06-07T08:50:33.355178Z"
    },
    "execution": {
     "iopub.execute_input": "2022-06-07T18:05:58.142483Z",
     "iopub.status.busy": "2022-06-07T18:05:58.141707Z",
     "iopub.status.idle": "2022-06-07T19:25:12.309784Z",
     "shell.execute_reply": "2022-06-07T19:25:12.310872Z"
    }
   },
   "outputs": [
    {
     "name": "stdout",
     "output_type": "stream",
     "text": [
      "PPOL RUN 1/10 - acc: 59.85% +- 2.15% - auc: 63.35% +- 2.63%\n",
      "PPOL RUN 2/10 - acc: 60.0% +- 2.53% - auc: 64.45% +- 2.75%\n",
      "PPOL RUN 3/10 - acc: 61.0% +- 2.09% - auc: 65.2% +- 1.97%\n",
      "PPOL RUN 4/10 - acc: 60.35% +- 1.5% - auc: 63.42% +- 1.16%\n",
      "PPOL RUN 5/10 - acc: 62.25% +- 2.25% - auc: 65.96% +- 2.65%\n",
      "PPOL RUN 6/10 - acc: 59.8% +- 0.94% - auc: 64.27% +- 0.97%\n",
      "PPOL RUN 7/10 - acc: 58.35% +- 2.22% - auc: 62.04% +- 2.11%\n",
      "PPOL RUN 8/10 - acc: 60.6% +- 2.01% - auc: 65.88% +- 3.21%\n",
      "PPOL RUN 9/10 - acc: 60.65% +- 0.6% - auc: 65.32% +- 1.61%\n",
      "PPOL RUN 10/10 - acc: 61.2% +- 1.87% - auc: 64.08% +- 2.49%\n",
      "PPOL GLOBAL - acc: 60.4% +- 0.98% - auc: 64.4% +- 1.18%\n"
     ]
    }
   ],
   "source": [
    "ppol_accs, ppol_aucs = [], []\n",
    "for i in range(n_runs):\n",
    "    acc, auc = polishing(imputed, y, mode='panda', random_state=i)\n",
    "    ppol_accs.append(acc.mean())\n",
    "    ppol_aucs.append(auc.mean())\n",
    "    print(f'PPOL RUN {i + 1}/{n_runs} - acc: {round(np.mean(acc) * 100, 2)}% +- {round(np.std(acc) * 100, 2)}% - ' +\n",
    "          f'auc: {round(np.mean(auc) * 100, 2)}% +- {round(np.std(auc) * 100, 2)}%')\n",
    "print(f'PPOL GLOBAL - acc: {round(np.mean(ppol_accs) * 100, 2)}% +- {round(np.std(ppol_accs) * 100, 2)}% - ' +\n",
    "      f'auc: {round(np.mean(ppol_aucs) * 100, 2)}% +- {round(np.std(ppol_aucs) * 100, 2)}%')"
   ]
  },
  {
   "cell_type": "markdown",
   "metadata": {},
   "source": [
    "## Run T-tests"
   ]
  },
  {
   "cell_type": "code",
   "execution_count": 10,
   "metadata": {
    "ExecuteTime": {
     "end_time": "2022-06-07T08:52:25.983958Z",
     "start_time": "2022-06-07T08:52:25.963898Z"
    },
    "execution": {
     "iopub.execute_input": "2022-06-07T19:25:12.322056Z",
     "iopub.status.busy": "2022-06-07T19:25:12.320827Z",
     "iopub.status.idle": "2022-06-07T19:25:12.326158Z",
     "shell.execute_reply": "2022-06-07T19:25:12.325011Z"
    },
    "scrolled": false
   },
   "outputs": [
    {
     "name": "stdout",
     "output_type": "stream",
     "text": [
      "Metric ACC - OUR METHOD is significantly better than MICE\n",
      "Metric AUC - OUR METHOD is significantly better than MICE\n",
      "Metric ACC - OUR METHOD is significantly better than SFIL\n",
      "Metric AUC - OUR METHOD is significantly better than SFIL\n",
      "Metric ACC - OUR METHOD is significantly better than PFIL\n",
      "Metric AUC - OUR METHOD is significantly better than PFIL\n",
      "Metric ACC - OUR METHOD is significantly better than SPOL\n",
      "Metric AUC - OUR METHOD is significantly better than SPOL\n",
      "Metric ACC - OUR METHOD is significantly better than PPOL\n",
      "Metric AUC - OUR METHOD is significantly better than PPOL\n"
     ]
    }
   ],
   "source": [
    "for model, metrics in {\n",
    "        'MICE': {'ACC': mice_accs, 'AUC': mice_aucs},\n",
    "        'SFIL': {'ACC': sfil_accs, 'AUC': sfil_aucs},\n",
    "        'PFIL': {'ACC': pfil_accs, 'AUC': pfil_aucs},\n",
    "        'SPOL': {'ACC': spol_accs, 'AUC': spol_aucs},\n",
    "        'PPOL': {'ACC': ppol_accs, 'AUC': ppol_aucs}}.items():\n",
    "    for metric_name, metric in metrics.items():\n",
    "        ours_metric = ours_accs if metric_name == 'ACC' else ours_aucs\n",
    "        t, p = scipy.stats.ttest_ind(np.array(ours_metric), np.array(metric))\n",
    "        if p <= .05:\n",
    "            if t > 0:\n",
    "                ## Our method is better\n",
    "                print(f'Metric {metric_name} - OUR METHOD is significantly better than {model}')\n",
    "            else:\n",
    "                ## Theirs is better\n",
    "                print(f'Metric {metric_name} - OUR METHOD is significantly worse than {model}')\n",
    "        else:\n",
    "            ## Else we are even\n",
    "            print(f'Metric {metric_name} - OUR METHOD is even with {model}')"
   ]
  }
 ],
 "metadata": {
  "kernelspec": {
   "display_name": "Python 3 (ipykernel)",
   "language": "python",
   "name": "python3"
  },
  "language_info": {
   "codemirror_mode": {
    "name": "ipython",
    "version": 3
   },
   "file_extension": ".py",
   "mimetype": "text/x-python",
   "name": "python",
   "nbconvert_exporter": "python",
   "pygments_lexer": "ipython3",
   "version": "3.9.7"
  },
  "latex_envs": {
   "LaTeX_envs_menu_present": true,
   "autoclose": false,
   "autocomplete": true,
   "bibliofile": "biblio.bib",
   "cite_by": "apalike",
   "current_citInitial": 1,
   "eqLabelWithNumbers": true,
   "eqNumInitial": 1,
   "hotkeys": {
    "equation": "Ctrl-E",
    "itemize": "Ctrl-I"
   },
   "labels_anchors": false,
   "latex_user_defs": false,
   "report_style_numbering": false,
   "user_envs_cfg": false
  }
 },
 "nbformat": 4,
 "nbformat_minor": 2
}
