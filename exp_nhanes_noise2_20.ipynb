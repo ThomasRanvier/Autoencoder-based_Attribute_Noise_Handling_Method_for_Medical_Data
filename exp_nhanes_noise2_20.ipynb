{
 "cells": [
  {
   "cell_type": "code",
   "execution_count": 1,
   "metadata": {
    "ExecuteTime": {
     "end_time": "2022-06-07T08:11:39.412870Z",
     "start_time": "2022-06-07T08:11:35.692131Z"
    },
    "execution": {
     "iopub.execute_input": "2022-06-07T16:15:21.685242Z",
     "iopub.status.busy": "2022-06-07T16:15:21.679772Z",
     "iopub.status.idle": "2022-06-07T16:15:25.962567Z",
     "shell.execute_reply": "2022-06-07T16:15:25.963470Z"
    }
   },
   "outputs": [],
   "source": [
    "from __future__ import print_function\n",
    "import warnings\n",
    "warnings.filterwarnings('ignore')\n",
    "## Disable tf future deprecated messages\n",
    "import logging\n",
    "logging.getLogger('tensorflow').disabled = True\n",
    "## Disable tf CUDA messages\n",
    "import os\n",
    "os.environ['TF_CPP_MIN_LOG_LEVEL'] = '3'\n",
    "\n",
    "%matplotlib inline\n",
    "\n",
    "import sys\n",
    "import random\n",
    "import numpy as np\n",
    "import pandas as pd\n",
    "\n",
    "import utils\n",
    "import correction\n",
    "from models.dense import *\n",
    "from models.gain import gain\n",
    "from models.soft_impute import SoftImpute\n",
    "from models.sinkhorn import OTimputer\n",
    "from models.mida import mida\n",
    "from models.polishing import polishing\n",
    "from models.filtering import filtering\n",
    "\n",
    "import scipy.stats\n",
    "\n",
    "from sklearn.experimental import enable_iterative_imputer\n",
    "from sklearn.impute import IterativeImputer\n",
    "from sklearn.impute import KNNImputer, SimpleImputer\n",
    "\n",
    "import sklearn.neighbors._base\n",
    "sys.modules['sklearn.neighbors.base'] = sklearn.neighbors._base\n",
    "from missingpy import MissForest\n",
    "\n",
    "torch.backends.cudnn.enabled = True\n",
    "torch.backends.cudnn.benchmark = True\n",
    "dtype = torch.cuda.FloatTensor"
   ]
  },
  {
   "cell_type": "markdown",
   "metadata": {},
   "source": [
    "## Repeat all experiments for 10 runs"
   ]
  },
  {
   "cell_type": "code",
   "execution_count": 2,
   "metadata": {
    "ExecuteTime": {
     "end_time": "2022-06-07T08:11:39.417491Z",
     "start_time": "2022-06-07T08:11:39.415081Z"
    },
    "execution": {
     "iopub.execute_input": "2022-06-07T16:15:25.969911Z",
     "iopub.status.busy": "2022-06-07T16:15:25.969179Z",
     "iopub.status.idle": "2022-06-07T16:15:25.971556Z",
     "shell.execute_reply": "2022-06-07T16:15:25.972111Z"
    }
   },
   "outputs": [],
   "source": [
    "n_runs = 10"
   ]
  },
  {
   "cell_type": "markdown",
   "metadata": {},
   "source": [
    "## Load data"
   ]
  },
  {
   "cell_type": "code",
   "execution_count": 3,
   "metadata": {
    "ExecuteTime": {
     "end_time": "2022-06-07T08:11:41.218694Z",
     "start_time": "2022-06-07T08:11:39.419632Z"
    },
    "execution": {
     "iopub.execute_input": "2022-06-07T16:15:25.977467Z",
     "iopub.status.busy": "2022-06-07T16:15:25.976837Z",
     "iopub.status.idle": "2022-06-07T16:15:26.131137Z",
     "shell.execute_reply": "2022-06-07T16:15:26.131470Z"
    }
   },
   "outputs": [
    {
     "name": "stdout",
     "output_type": "stream",
     "text": [
      "Dataset shape: (2000, 95)\n",
      "33.65% missing data\n",
      "Class distribution: (array([1., 2.]), array([1000, 1000]))\n"
     ]
    }
   ],
   "source": [
    "data_missing, missing_mask, y = utils.load_nhanes()\n",
    "## Inject noise\n",
    "data_missing = utils.inject_noise(data_missing.copy(), noise_rate=.2)\n",
    "## Replace missing values locations by 0\n",
    "data_missing = data_missing * missing_mask"
   ]
  },
  {
   "cell_type": "markdown",
   "metadata": {},
   "source": [
    "## Run OUR METHOD"
   ]
  },
  {
   "cell_type": "code",
   "execution_count": 4,
   "metadata": {
    "ExecuteTime": {
     "end_time": "2022-06-07T08:25:41.124140Z",
     "start_time": "2022-06-07T08:11:41.222736Z"
    },
    "execution": {
     "iopub.execute_input": "2022-06-07T16:15:26.146975Z",
     "iopub.status.busy": "2022-06-07T16:15:26.140297Z",
     "iopub.status.idle": "2022-06-07T16:36:42.698460Z",
     "shell.execute_reply": "2022-06-07T16:36:42.698785Z"
    },
    "scrolled": false
   },
   "outputs": [
    {
     "name": "stdout",
     "output_type": "stream",
     "text": [
      "Ite 00000 - 2.93 sec - Loss 0.061286 - ACC 59.40% - ACC Mean 59.40% - AUC 63.53% - AUC Mean 63.53% - Deter 000\n",
      "Ite 00050 - 1.32 sec - Loss 0.012290 - ACC 59.50% - ACC Mean 59.23% - AUC 62.83% - AUC Mean 63.09% - Deter 032\n",
      "Ite 00100 - 1.33 sec - Loss 0.006530 - ACC 57.65% - ACC Mean 59.78% - AUC 62.49% - AUC Mean 63.60% - Deter 037\n",
      "Ite 00113 - 1.80 sec - Loss 0.005813 - ACC 59.45% - ACC Mean 59.82% - AUC 62.42% - AUC Mean 63.70% - Deter 050\n",
      "Early stop ite 113, rollback to correction of ite 63, whith acc of 62.3% and auc of 66.0%\n",
      "OUR METHOD RUN 1/10 - acc: 62.3% +- 0.0% - auc: 66.0% +- 0.0%\n",
      "Ite 00000 - 1.37 sec - Loss 0.135436 - ACC 60.25% - ACC Mean 60.25% - AUC 63.69% - AUC Mean 63.69% - Deter 000\n",
      "Ite 00050 - 1.47 sec - Loss 0.051123 - ACC 60.25% - ACC Mean 59.99% - AUC 63.98% - AUC Mean 63.72% - Deter 038\n",
      "Ite 00100 - 1.54 sec - Loss 0.032107 - ACC 60.25% - ACC Mean 60.50% - AUC 65.10% - AUC Mean 64.54% - Deter 038\n",
      "Ite 00112 - 1.79 sec - Loss 0.029435 - ACC 60.10% - ACC Mean 60.47% - AUC 65.26% - AUC Mean 64.60% - Deter 050\n",
      "Early stop ite 112, rollback to correction of ite 62, whith acc of 62.9% and auc of 67.24%\n",
      "OUR METHOD RUN 2/10 - acc: 62.9% +- 0.0% - auc: 67.24% +- 0.0%\n",
      "Ite 00000 - 1.01 sec - Loss 0.080927 - ACC 60.25% - ACC Mean 60.25% - AUC 63.76% - AUC Mean 63.76% - Deter 000\n",
      "Ite 00050 - 2.03 sec - Loss 0.023620 - ACC 61.55% - ACC Mean 60.54% - AUC 65.70% - AUC Mean 64.54% - Deter 032\n",
      "Ite 00068 - 1.05 sec - Loss 0.018174 - ACC 58.50% - ACC Mean 60.52% - AUC 63.67% - AUC Mean 64.51% - Deter 050\n",
      "Early stop ite 68, rollback to correction of ite 18, whith acc of 62.2% and auc of 66.67%\n",
      "OUR METHOD RUN 3/10 - acc: 62.2% +- 0.0% - auc: 66.67% +- 0.0%\n",
      "Ite 00000 - 1.52 sec - Loss 0.076306 - ACC 59.70% - ACC Mean 59.70% - AUC 64.13% - AUC Mean 64.13% - Deter 000\n",
      "Ite 00050 - 2.22 sec - Loss 0.019750 - ACC 60.55% - ACC Mean 59.77% - AUC 65.47% - AUC Mean 63.67% - Deter 021\n",
      "Ite 00100 - 0.95 sec - Loss 0.011273 - ACC 61.30% - ACC Mean 60.11% - AUC 64.44% - AUC Mean 64.01% - Deter 024\n",
      "Ite 00150 - 0.98 sec - Loss 0.007638 - ACC 60.70% - ACC Mean 60.51% - AUC 65.18% - AUC Mean 64.60% - Deter 040\n",
      "Ite 00160 - 1.02 sec - Loss 0.007104 - ACC 59.75% - ACC Mean 60.41% - AUC 63.96% - AUC Mean 64.59% - Deter 050\n",
      "Early stop ite 160, rollback to correction of ite 110, whith acc of 63.05% and auc of 67.17%\n",
      "OUR METHOD RUN 4/10 - acc: 63.05% +- 0.0% - auc: 67.17% +- 0.0%\n",
      "Ite 00000 - 1.01 sec - Loss 0.100254 - ACC 59.55% - ACC Mean 59.55% - AUC 63.57% - AUC Mean 63.57% - Deter 000\n",
      "Ite 00050 - 0.93 sec - Loss 0.039006 - ACC 61.15% - ACC Mean 59.59% - AUC 65.07% - AUC Mean 63.71% - Deter 001\n",
      "Ite 00100 - 1.04 sec - Loss 0.022893 - ACC 61.05% - ACC Mean 60.47% - AUC 64.79% - AUC Mean 64.49% - Deter 043\n",
      "Ite 00107 - 0.98 sec - Loss 0.021621 - ACC 59.75% - ACC Mean 60.49% - AUC 64.03% - AUC Mean 64.55% - Deter 050\n",
      "Early stop ite 107, rollback to correction of ite 57, whith acc of 63.45% and auc of 67.56%\n",
      "OUR METHOD RUN 5/10 - acc: 63.45% +- 0.0% - auc: 67.56% +- 0.0%\n",
      "Ite 00000 - 1.02 sec - Loss 0.084181 - ACC 59.40% - ACC Mean 59.40% - AUC 63.93% - AUC Mean 63.93% - Deter 000\n",
      "Ite 00050 - 0.99 sec - Loss 0.020463 - ACC 62.75% - ACC Mean 60.21% - AUC 66.34% - AUC Mean 64.14% - Deter 001\n",
      "Ite 00099 - 0.95 sec - Loss 0.011086 - ACC 61.25% - ACC Mean 60.31% - AUC 64.66% - AUC Mean 64.35% - Deter 050\n",
      "Early stop ite 99, rollback to correction of ite 49, whith acc of 61.5% and auc of 66.82%\n",
      "OUR METHOD RUN 6/10 - acc: 61.5% +- 0.0% - auc: 66.82% +- 0.0%\n",
      "Ite 00000 - 0.98 sec - Loss 0.099674 - ACC 61.75% - ACC Mean 61.75% - AUC 65.77% - AUC Mean 65.77% - Deter 000\n",
      "Ite 00050 - 1.04 sec - Loss 0.033270 - ACC 58.55% - ACC Mean 60.30% - AUC 63.00% - AUC Mean 64.16% - Deter 041\n",
      "Ite 00059 - 0.98 sec - Loss 0.029787 - ACC 59.75% - ACC Mean 60.42% - AUC 65.10% - AUC Mean 64.26% - Deter 050\n",
      "Early stop ite 59, rollback to correction of ite 9, whith acc of 61.8% and auc of 66.4%\n",
      "OUR METHOD RUN 7/10 - acc: 61.8% +- 0.0% - auc: 66.4% +- 0.0%\n",
      "Ite 00000 - 1.04 sec - Loss 0.078146 - ACC 58.70% - ACC Mean 58.70% - AUC 64.42% - AUC Mean 64.42% - Deter 000\n",
      "Ite 00050 - 1.24 sec - Loss 0.019174 - ACC 60.15% - ACC Mean 59.85% - AUC 64.90% - AUC Mean 63.72% - Deter 041\n",
      "Ite 00059 - 1.00 sec - Loss 0.016492 - ACC 60.55% - ACC Mean 59.91% - AUC 64.33% - AUC Mean 63.77% - Deter 050\n",
      "Early stop ite 59, rollback to correction of ite 9, whith acc of 62.0% and auc of 67.62%\n",
      "OUR METHOD RUN 8/10 - acc: 62.0% +- 0.0% - auc: 67.62% +- 0.0%\n",
      "Ite 00000 - 1.11 sec - Loss 0.084718 - ACC 60.45% - ACC Mean 60.45% - AUC 64.57% - AUC Mean 64.57% - Deter 000\n",
      "Ite 00050 - 2.00 sec - Loss 0.026530 - ACC 60.20% - ACC Mean 60.06% - AUC 63.17% - AUC Mean 63.96% - Deter 043\n",
      "Ite 00057 - 2.12 sec - Loss 0.024166 - ACC 59.05% - ACC Mean 60.01% - AUC 63.02% - AUC Mean 63.86% - Deter 050\n",
      "Early stop ite 57, rollback to correction of ite 7, whith acc of 62.0% and auc of 66.77%\n",
      "OUR METHOD RUN 9/10 - acc: 62.0% +- 0.0% - auc: 66.77% +- 0.0%\n",
      "Ite 00000 - 2.12 sec - Loss 0.063299 - ACC 60.60% - ACC Mean 60.60% - AUC 64.57% - AUC Mean 64.57% - Deter 000\n",
      "Ite 00050 - 1.22 sec - Loss 0.023919 - ACC 59.05% - ACC Mean 60.33% - AUC 62.46% - AUC Mean 64.31% - Deter 013\n",
      "Ite 00100 - 1.62 sec - Loss 0.014586 - ACC 62.85% - ACC Mean 60.74% - AUC 66.98% - AUC Mean 64.63% - Deter 024\n",
      "Ite 00126 - 2.10 sec - Loss 0.011801 - ACC 61.15% - ACC Mean 60.84% - AUC 65.46% - AUC Mean 64.81% - Deter 050\n",
      "Early stop ite 126, rollback to correction of ite 76, whith acc of 62.45% and auc of 67.59%\n",
      "OUR METHOD RUN 10/10 - acc: 62.45% +- 0.0% - auc: 67.59% +- 0.0%\n",
      "\n",
      "OUR METHOD GLOBAL - acc: 62.36% +- 0.57% - auc: 66.99% +- 0.52%\n"
     ]
    }
   ],
   "source": [
    "params = {\n",
    "    'nb_batches': 10,\n",
    "    'reg_noise_std': .03,\n",
    "    'net_input': 'data_corrupted',\n",
    "    'net_params': {\n",
    "        'input_channels':1,\n",
    "        'output_channels':1,\n",
    "        'channels_skip':4,\n",
    "        'down_layers':[(24, 7, 1),\n",
    "                       (46, 9, 5),\n",
    "                       (96, 11, 1),\n",
    "                       (96, 13, 1)],\n",
    "        'need_sigmoid':True,\n",
    "        'need_bias':True,\n",
    "        'pad':'zero',\n",
    "        'downsample_mode':'stride',\n",
    "        'upsample_mode':'nearest',\n",
    "        'act_fun':'LeakyReLU',\n",
    "        'need1x1_up':True\n",
    "    },# or a list containing layers sizes\n",
    "    'adam_lr': .0001,\n",
    "    'adam_weight_decay': 0.,\n",
    "}\n",
    "\n",
    "ours_accs, ours_aucs = [], []\n",
    "for i in range(n_runs):\n",
    "    ours_correction = correction.run(data_missing, 501, params, y=y, missing_mask=missing_mask, seed=i)\n",
    "    ## Since our method returns 2 imputations select the best one\n",
    "    scores_raw = utils.get_scores(ours_correction['raw_out'], y)\n",
    "    acc = scores_raw['test_balanced_accuracy']\n",
    "    auc = scores_raw['test_roc_auc_ovo']\n",
    "    acc = acc.mean()\n",
    "    acc_std = acc.std()\n",
    "    auc = auc.mean()\n",
    "    auc_std = auc.std()\n",
    "    if 'masked_out' in ours_correction:\n",
    "        scores_masked = utils.get_scores(ours_correction['masked_out'], y)\n",
    "        acc_masked = scores_masked['test_balanced_accuracy']\n",
    "        auc_masked = scores_masked['test_roc_auc_ovo']\n",
    "        if auc_masked.mean() > auc:\n",
    "            acc = acc_masked.mean()\n",
    "            acc_std = acc_masked.std()\n",
    "            auc = auc_masked.mean()\n",
    "            auc_std = auc_masked.std()\n",
    "    print(f'OUR METHOD RUN {i + 1}/{n_runs} - acc: {round(acc.mean() * 100, 2)}% +- {round(acc.std() * 100, 2)}% - ' +\n",
    "          f'auc: {round(auc.mean() * 100, 2)}% +- {round(auc.std() * 100, 2)}%')\n",
    "    ours_accs.append(acc.mean())\n",
    "    ours_aucs.append(auc.mean())\n",
    "print(f'\\nOUR METHOD GLOBAL - acc: {round(np.array(ours_accs).mean() * 100, 2)}% +- {round(np.array(ours_accs).std() * 100, 2)}% - ' +\n",
    "      f'auc: {round(np.array(ours_aucs).mean() * 100, 2)}% +- {round(np.array(ours_aucs).std() * 100, 2)}%')"
   ]
  },
  {
   "cell_type": "markdown",
   "metadata": {},
   "source": [
    "## Run MICE"
   ]
  },
  {
   "cell_type": "code",
   "execution_count": 5,
   "metadata": {
    "ExecuteTime": {
     "end_time": "2022-06-07T08:25:47.812154Z",
     "start_time": "2022-06-07T08:25:41.125881Z"
    },
    "execution": {
     "iopub.execute_input": "2022-06-07T16:36:42.704160Z",
     "iopub.status.busy": "2022-06-07T16:36:42.703704Z",
     "iopub.status.idle": "2022-06-07T16:46:24.417792Z",
     "shell.execute_reply": "2022-06-07T16:46:24.418148Z"
    }
   },
   "outputs": [
    {
     "name": "stdout",
     "output_type": "stream",
     "text": [
      "MICE - acc: 59.6% +- 0.0% - auc: 63.03% +- 0.0%\n"
     ]
    }
   ],
   "source": [
    "data_missing_nans = np.where(missing_mask, data_missing, np.nan)\n",
    "\n",
    "imputer = IterativeImputer()\n",
    "imputed = imputer.fit_transform(data_missing_nans)\n",
    "## All runs would be the same since deterministic method\n",
    "scores = utils.get_scores(imputed, y)\n",
    "acc = [scores['test_balanced_accuracy'].mean()] * n_runs\n",
    "auc = [scores['test_roc_auc_ovo'].mean()] * n_runs\n",
    "print(f'MICE - acc: {round(np.mean(acc) * 100, 2)}% +- {round(np.std(acc) * 100, 2)}% - ' +\n",
    "      f'auc: {round(np.mean(auc) * 100, 2)}% +- {round(np.std(auc) * 100, 2)}%')\n",
    "mice_accs = acc\n",
    "mice_aucs = auc"
   ]
  },
  {
   "cell_type": "markdown",
   "metadata": {},
   "source": [
    "## Run SFIL"
   ]
  },
  {
   "cell_type": "code",
   "execution_count": 6,
   "metadata": {
    "ExecuteTime": {
     "end_time": "2022-06-07T08:25:49.133209Z",
     "start_time": "2022-06-07T08:25:47.813384Z"
    },
    "execution": {
     "iopub.execute_input": "2022-06-07T16:46:24.423538Z",
     "iopub.status.busy": "2022-06-07T16:46:24.422823Z",
     "iopub.status.idle": "2022-06-07T16:46:49.514009Z",
     "shell.execute_reply": "2022-06-07T16:46:49.514332Z"
    }
   },
   "outputs": [
    {
     "name": "stdout",
     "output_type": "stream",
     "text": [
      "SFIL RUN 1/10 - acc: 58.95% +- 1.18% - auc: 63.58% +- 0.58%\n",
      "SFIL RUN 2/10 - acc: 59.5% +- 2.52% - auc: 63.34% +- 2.89%\n",
      "SFIL RUN 3/10 - acc: 59.35% +- 2.81% - auc: 62.78% +- 4.41%\n",
      "SFIL RUN 4/10 - acc: 59.25% +- 1.38% - auc: 63.48% +- 1.25%\n",
      "SFIL RUN 5/10 - acc: 58.75% +- 3.56% - auc: 62.76% +- 3.49%\n",
      "SFIL RUN 6/10 - acc: 59.2% +- 1.12% - auc: 62.03% +- 2.57%\n",
      "SFIL RUN 7/10 - acc: 57.5% +- 1.57% - auc: 62.11% +- 1.48%\n",
      "SFIL RUN 8/10 - acc: 58.15% +- 1.09% - auc: 61.92% +- 1.05%\n",
      "SFIL RUN 9/10 - acc: 59.85% +- 1.99% - auc: 63.89% +- 2.38%\n",
      "SFIL RUN 10/10 - acc: 60.35% +- 0.56% - auc: 63.9% +- 1.07%\n",
      "SFIL GLOBAL - acc: 59.09% +- 0.77% - auc: 62.98% +- 0.73%\n"
     ]
    }
   ],
   "source": [
    "sfil_accs, sfil_aucs = [], []\n",
    "for i in range(n_runs):\n",
    "    acc, auc = filtering(imputed, y, mode='standard', random_state=i)\n",
    "    sfil_accs.append(acc.mean())\n",
    "    sfil_aucs.append(auc.mean())\n",
    "    print(f'SFIL RUN {i + 1}/{n_runs} - acc: {round(np.mean(acc) * 100, 2)}% +- {round(np.std(acc) * 100, 2)}% - ' +\n",
    "          f'auc: {round(np.mean(auc) * 100, 2)}% +- {round(np.std(auc) * 100, 2)}%')\n",
    "print(f'SFIL GLOBAL - acc: {round(np.mean(sfil_accs) * 100, 2)}% +- {round(np.std(sfil_accs) * 100, 2)}% - ' +\n",
    "      f'auc: {round(np.mean(sfil_aucs) * 100, 2)}% +- {round(np.std(sfil_aucs) * 100, 2)}%')"
   ]
  },
  {
   "cell_type": "markdown",
   "metadata": {},
   "source": [
    "## Run PFIL"
   ]
  },
  {
   "cell_type": "code",
   "execution_count": 7,
   "metadata": {
    "ExecuteTime": {
     "end_time": "2022-06-07T08:35:09.194980Z",
     "start_time": "2022-06-07T08:25:49.134766Z"
    },
    "execution": {
     "iopub.execute_input": "2022-06-07T16:46:49.519474Z",
     "iopub.status.busy": "2022-06-07T16:46:49.518738Z",
     "iopub.status.idle": "2022-06-07T18:07:18.396855Z",
     "shell.execute_reply": "2022-06-07T18:07:18.395723Z"
    },
    "scrolled": false
   },
   "outputs": [
    {
     "name": "stdout",
     "output_type": "stream",
     "text": [
      "PFIL RUN 1/10 - acc: 59.2% +- 1.21% - auc: 61.71% +- 1.39%\n",
      "PFIL RUN 2/10 - acc: 57.85% +- 1.78% - auc: 61.52% +- 1.75%\n",
      "PFIL RUN 3/10 - acc: 57.65% +- 2.22% - auc: 61.49% +- 2.38%\n",
      "PFIL RUN 4/10 - acc: 56.55% +- 2.25% - auc: 60.08% +- 3.36%\n",
      "PFIL RUN 5/10 - acc: 59.1% +- 1.78% - auc: 63.77% +- 1.53%\n",
      "PFIL RUN 6/10 - acc: 57.35% +- 1.95% - auc: 60.13% +- 3.05%\n",
      "PFIL RUN 7/10 - acc: 56.75% +- 1.82% - auc: 59.88% +- 1.8%\n",
      "PFIL RUN 8/10 - acc: 58.95% +- 1.96% - auc: 62.61% +- 1.13%\n",
      "PFIL RUN 9/10 - acc: 56.15% +- 1.27% - auc: 59.95% +- 1.66%\n",
      "PFIL RUN 10/10 - acc: 58.25% +- 2.15% - auc: 61.0% +- 2.37%\n",
      "PFIL GLOBAL - acc: 57.78% +- 1.04% - auc: 61.21% +- 1.22%\n"
     ]
    }
   ],
   "source": [
    "pfil_accs, pfil_aucs = [], []\n",
    "for i in range(n_runs):\n",
    "    acc, auc = filtering(imputed, y, mode='panda', random_state=i)\n",
    "    pfil_accs.append(acc.mean())\n",
    "    pfil_aucs.append(auc.mean())\n",
    "    print(f'PFIL RUN {i + 1}/{n_runs} - acc: {round(np.mean(acc) * 100, 2)}% +- {round(np.std(acc) * 100, 2)}% - ' +\n",
    "          f'auc: {round(np.mean(auc) * 100, 2)}% +- {round(np.std(auc) * 100, 2)}%')\n",
    "print(f'PFIL GLOBAL - acc: {round(np.mean(pfil_accs) * 100, 2)}% +- {round(np.std(pfil_accs) * 100, 2)}% - ' +\n",
    "      f'auc: {round(np.mean(pfil_aucs) * 100, 2)}% +- {round(np.std(pfil_aucs) * 100, 2)}%')"
   ]
  },
  {
   "cell_type": "markdown",
   "metadata": {},
   "source": [
    "## Run SPOL"
   ]
  },
  {
   "cell_type": "code",
   "execution_count": 8,
   "metadata": {
    "ExecuteTime": {
     "end_time": "2022-06-07T08:50:33.353751Z",
     "start_time": "2022-06-07T08:49:36.684786Z"
    },
    "execution": {
     "iopub.execute_input": "2022-06-07T18:07:18.405082Z",
     "iopub.status.busy": "2022-06-07T18:07:18.403838Z",
     "iopub.status.idle": "2022-06-07T18:09:30.815682Z",
     "shell.execute_reply": "2022-06-07T18:09:30.814558Z"
    }
   },
   "outputs": [
    {
     "name": "stdout",
     "output_type": "stream",
     "text": [
      "SPOL RUN 1/10 - acc: 58.45% +- 3.4% - auc: 62.2% +- 3.15%\n",
      "SPOL RUN 2/10 - acc: 58.05% +- 1.46% - auc: 61.61% +- 2.34%\n",
      "SPOL RUN 3/10 - acc: 59.4% +- 1.87% - auc: 63.38% +- 1.15%\n",
      "SPOL RUN 4/10 - acc: 57.6% +- 2.12% - auc: 61.06% +- 2.81%\n",
      "SPOL RUN 5/10 - acc: 58.45% +- 1.17% - auc: 61.97% +- 1.76%\n",
      "SPOL RUN 6/10 - acc: 60.55% +- 2.96% - auc: 63.51% +- 1.72%\n",
      "SPOL RUN 7/10 - acc: 59.4% +- 2.45% - auc: 61.6% +- 1.82%\n",
      "SPOL RUN 8/10 - acc: 58.8% +- 3.05% - auc: 62.61% +- 3.84%\n",
      "SPOL RUN 9/10 - acc: 57.95% +- 0.87% - auc: 61.42% +- 0.78%\n",
      "SPOL RUN 10/10 - acc: 59.5% +- 2.85% - auc: 63.15% +- 2.24%\n",
      "SPOL GLOBAL - acc: 58.82% +- 0.85% - auc: 62.25% +- 0.83%\n"
     ]
    }
   ],
   "source": [
    "spol_accs, spol_aucs = [], []\n",
    "for i in range(n_runs):\n",
    "    acc, auc = polishing(imputed, y, mode='standard', random_state=i)\n",
    "    spol_accs.append(acc.mean())\n",
    "    spol_aucs.append(auc.mean())\n",
    "    print(f'SPOL RUN {i + 1}/{n_runs} - acc: {round(np.mean(acc) * 100, 2)}% +- {round(np.std(acc) * 100, 2)}% - ' +\n",
    "          f'auc: {round(np.mean(auc) * 100, 2)}% +- {round(np.std(auc) * 100, 2)}%')\n",
    "print(f'SPOL GLOBAL - acc: {round(np.mean(spol_accs) * 100, 2)}% +- {round(np.std(spol_accs) * 100, 2)}% - ' +\n",
    "      f'auc: {round(np.mean(spol_aucs) * 100, 2)}% +- {round(np.std(spol_aucs) * 100, 2)}%')"
   ]
  },
  {
   "cell_type": "markdown",
   "metadata": {},
   "source": [
    "## Run PPOL"
   ]
  },
  {
   "cell_type": "code",
   "execution_count": 9,
   "metadata": {
    "ExecuteTime": {
     "end_time": "2022-06-07T08:52:24.306737Z",
     "start_time": "2022-06-07T08:50:33.355178Z"
    },
    "execution": {
     "iopub.execute_input": "2022-06-07T18:09:30.824997Z",
     "iopub.status.busy": "2022-06-07T18:09:30.823973Z",
     "iopub.status.idle": "2022-06-07T19:29:23.912781Z",
     "shell.execute_reply": "2022-06-07T19:29:23.911669Z"
    }
   },
   "outputs": [
    {
     "name": "stdout",
     "output_type": "stream",
     "text": [
      "PPOL RUN 1/10 - acc: 57.7% +- 3.08% - auc: 61.31% +- 3.29%\n",
      "PPOL RUN 2/10 - acc: 58.35% +- 1.26% - auc: 62.94% +- 1.87%\n",
      "PPOL RUN 3/10 - acc: 57.5% +- 1.54% - auc: 61.05% +- 1.87%\n",
      "PPOL RUN 4/10 - acc: 58.8% +- 1.34% - auc: 61.77% +- 1.09%\n",
      "PPOL RUN 5/10 - acc: 59.75% +- 4.34% - auc: 63.63% +- 4.1%\n",
      "PPOL RUN 6/10 - acc: 58.15% +- 2.9% - auc: 61.29% +- 3.37%\n",
      "PPOL RUN 7/10 - acc: 58.7% +- 2.42% - auc: 61.91% +- 3.02%\n",
      "PPOL RUN 8/10 - acc: 58.3% +- 1.64% - auc: 62.76% +- 1.87%\n",
      "PPOL RUN 9/10 - acc: 60.3% +- 2.56% - auc: 63.14% +- 3.39%\n",
      "PPOL RUN 10/10 - acc: 58.3% +- 2.82% - auc: 60.96% +- 2.69%\n",
      "PPOL GLOBAL - acc: 58.58% +- 0.82% - auc: 62.08% +- 0.92%\n"
     ]
    }
   ],
   "source": [
    "ppol_accs, ppol_aucs = [], []\n",
    "for i in range(n_runs):\n",
    "    acc, auc = polishing(imputed, y, mode='panda', random_state=i)\n",
    "    ppol_accs.append(acc.mean())\n",
    "    ppol_aucs.append(auc.mean())\n",
    "    print(f'PPOL RUN {i + 1}/{n_runs} - acc: {round(np.mean(acc) * 100, 2)}% +- {round(np.std(acc) * 100, 2)}% - ' +\n",
    "          f'auc: {round(np.mean(auc) * 100, 2)}% +- {round(np.std(auc) * 100, 2)}%')\n",
    "print(f'PPOL GLOBAL - acc: {round(np.mean(ppol_accs) * 100, 2)}% +- {round(np.std(ppol_accs) * 100, 2)}% - ' +\n",
    "      f'auc: {round(np.mean(ppol_aucs) * 100, 2)}% +- {round(np.std(ppol_aucs) * 100, 2)}%')"
   ]
  },
  {
   "cell_type": "markdown",
   "metadata": {},
   "source": [
    "## Run T-tests"
   ]
  },
  {
   "cell_type": "code",
   "execution_count": 10,
   "metadata": {
    "ExecuteTime": {
     "end_time": "2022-06-07T08:52:25.983958Z",
     "start_time": "2022-06-07T08:52:25.963898Z"
    },
    "execution": {
     "iopub.execute_input": "2022-06-07T19:29:23.925278Z",
     "iopub.status.busy": "2022-06-07T19:29:23.924459Z",
     "iopub.status.idle": "2022-06-07T19:29:23.928747Z",
     "shell.execute_reply": "2022-06-07T19:29:23.928035Z"
    },
    "scrolled": false
   },
   "outputs": [
    {
     "name": "stdout",
     "output_type": "stream",
     "text": [
      "Metric ACC - OUR METHOD is significantly better than MICE\n",
      "Metric AUC - OUR METHOD is significantly better than MICE\n",
      "Metric ACC - OUR METHOD is significantly better than SFIL\n",
      "Metric AUC - OUR METHOD is significantly better than SFIL\n",
      "Metric ACC - OUR METHOD is significantly better than PFIL\n",
      "Metric AUC - OUR METHOD is significantly better than PFIL\n",
      "Metric ACC - OUR METHOD is significantly better than SPOL\n",
      "Metric AUC - OUR METHOD is significantly better than SPOL\n",
      "Metric ACC - OUR METHOD is significantly better than PPOL\n",
      "Metric AUC - OUR METHOD is significantly better than PPOL\n"
     ]
    }
   ],
   "source": [
    "for model, metrics in {\n",
    "        'MICE': {'ACC': mice_accs, 'AUC': mice_aucs},\n",
    "        'SFIL': {'ACC': sfil_accs, 'AUC': sfil_aucs},\n",
    "        'PFIL': {'ACC': pfil_accs, 'AUC': pfil_aucs},\n",
    "        'SPOL': {'ACC': spol_accs, 'AUC': spol_aucs},\n",
    "        'PPOL': {'ACC': ppol_accs, 'AUC': ppol_aucs}}.items():\n",
    "    for metric_name, metric in metrics.items():\n",
    "        ours_metric = ours_accs if metric_name == 'ACC' else ours_aucs\n",
    "        t, p = scipy.stats.ttest_ind(np.array(ours_metric), np.array(metric))\n",
    "        if p <= .05:\n",
    "            if t > 0:\n",
    "                ## Our method is better\n",
    "                print(f'Metric {metric_name} - OUR METHOD is significantly better than {model}')\n",
    "            else:\n",
    "                ## Theirs is better\n",
    "                print(f'Metric {metric_name} - OUR METHOD is significantly worse than {model}')\n",
    "        else:\n",
    "            ## Else we are even\n",
    "            print(f'Metric {metric_name} - OUR METHOD is even with {model}')"
   ]
  }
 ],
 "metadata": {
  "kernelspec": {
   "display_name": "Python 3 (ipykernel)",
   "language": "python",
   "name": "python3"
  },
  "language_info": {
   "codemirror_mode": {
    "name": "ipython",
    "version": 3
   },
   "file_extension": ".py",
   "mimetype": "text/x-python",
   "name": "python",
   "nbconvert_exporter": "python",
   "pygments_lexer": "ipython3",
   "version": "3.9.7"
  },
  "latex_envs": {
   "LaTeX_envs_menu_present": true,
   "autoclose": false,
   "autocomplete": true,
   "bibliofile": "biblio.bib",
   "cite_by": "apalike",
   "current_citInitial": 1,
   "eqLabelWithNumbers": true,
   "eqNumInitial": 1,
   "hotkeys": {
    "equation": "Ctrl-E",
    "itemize": "Ctrl-I"
   },
   "labels_anchors": false,
   "latex_user_defs": false,
   "report_style_numbering": false,
   "user_envs_cfg": false
  }
 },
 "nbformat": 4,
 "nbformat_minor": 2
}
