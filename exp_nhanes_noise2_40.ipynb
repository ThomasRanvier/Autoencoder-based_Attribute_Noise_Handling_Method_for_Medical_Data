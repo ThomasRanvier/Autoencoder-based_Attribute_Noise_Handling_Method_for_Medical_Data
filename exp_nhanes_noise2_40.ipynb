{
 "cells": [
  {
   "cell_type": "code",
   "execution_count": 1,
   "metadata": {
    "ExecuteTime": {
     "end_time": "2022-06-07T08:11:39.412870Z",
     "start_time": "2022-06-07T08:11:35.692131Z"
    },
    "execution": {
     "iopub.execute_input": "2022-06-07T16:15:21.991597Z",
     "iopub.status.busy": "2022-06-07T16:15:21.987201Z",
     "iopub.status.idle": "2022-06-07T16:15:26.254263Z",
     "shell.execute_reply": "2022-06-07T16:15:26.252636Z"
    }
   },
   "outputs": [],
   "source": [
    "from __future__ import print_function\n",
    "import warnings\n",
    "warnings.filterwarnings('ignore')\n",
    "## Disable tf future deprecated messages\n",
    "import logging\n",
    "logging.getLogger('tensorflow').disabled = True\n",
    "## Disable tf CUDA messages\n",
    "import os\n",
    "os.environ['TF_CPP_MIN_LOG_LEVEL'] = '3'\n",
    "\n",
    "%matplotlib inline\n",
    "\n",
    "import sys\n",
    "import random\n",
    "import numpy as np\n",
    "import pandas as pd\n",
    "\n",
    "import utils\n",
    "import correction\n",
    "from models.dense import *\n",
    "from models.gain import gain\n",
    "from models.soft_impute import SoftImpute\n",
    "from models.sinkhorn import OTimputer\n",
    "from models.mida import mida\n",
    "from models.polishing import polishing\n",
    "from models.filtering import filtering\n",
    "\n",
    "import scipy.stats\n",
    "\n",
    "from sklearn.experimental import enable_iterative_imputer\n",
    "from sklearn.impute import IterativeImputer\n",
    "from sklearn.impute import KNNImputer, SimpleImputer\n",
    "\n",
    "import sklearn.neighbors._base\n",
    "sys.modules['sklearn.neighbors.base'] = sklearn.neighbors._base\n",
    "from missingpy import MissForest\n",
    "\n",
    "torch.backends.cudnn.enabled = True\n",
    "torch.backends.cudnn.benchmark = True\n",
    "dtype = torch.cuda.FloatTensor"
   ]
  },
  {
   "cell_type": "markdown",
   "metadata": {},
   "source": [
    "## Repeat all experiments for 10 runs"
   ]
  },
  {
   "cell_type": "code",
   "execution_count": 2,
   "metadata": {
    "ExecuteTime": {
     "end_time": "2022-06-07T08:11:39.417491Z",
     "start_time": "2022-06-07T08:11:39.415081Z"
    },
    "execution": {
     "iopub.execute_input": "2022-06-07T16:15:26.260651Z",
     "iopub.status.busy": "2022-06-07T16:15:26.259369Z",
     "iopub.status.idle": "2022-06-07T16:15:26.263263Z",
     "shell.execute_reply": "2022-06-07T16:15:26.262031Z"
    }
   },
   "outputs": [],
   "source": [
    "n_runs = 10"
   ]
  },
  {
   "cell_type": "markdown",
   "metadata": {},
   "source": [
    "## Load data"
   ]
  },
  {
   "cell_type": "code",
   "execution_count": 3,
   "metadata": {
    "ExecuteTime": {
     "end_time": "2022-06-07T08:11:41.218694Z",
     "start_time": "2022-06-07T08:11:39.419632Z"
    },
    "execution": {
     "iopub.execute_input": "2022-06-07T16:15:26.269077Z",
     "iopub.status.busy": "2022-06-07T16:15:26.268460Z",
     "iopub.status.idle": "2022-06-07T16:15:26.410473Z",
     "shell.execute_reply": "2022-06-07T16:15:26.411062Z"
    }
   },
   "outputs": [
    {
     "name": "stdout",
     "output_type": "stream",
     "text": [
      "Dataset shape: (2000, 95)\n",
      "33.65% missing data\n",
      "Class distribution: (array([1., 2.]), array([1000, 1000]))\n"
     ]
    }
   ],
   "source": [
    "data_missing, missing_mask, y = utils.load_nhanes()\n",
    "## Inject noise\n",
    "data_missing = utils.inject_noise(data_missing.copy(), noise_rate=.4)\n",
    "## Replace missing values locations by 0\n",
    "data_missing = data_missing * missing_mask"
   ]
  },
  {
   "cell_type": "markdown",
   "metadata": {},
   "source": [
    "## Run OUR METHOD"
   ]
  },
  {
   "cell_type": "code",
   "execution_count": 4,
   "metadata": {
    "ExecuteTime": {
     "end_time": "2022-06-07T08:25:41.124140Z",
     "start_time": "2022-06-07T08:11:41.222736Z"
    },
    "execution": {
     "iopub.execute_input": "2022-06-07T16:15:26.428850Z",
     "iopub.status.busy": "2022-06-07T16:15:26.414702Z",
     "iopub.status.idle": "2022-06-07T16:46:05.101574Z",
     "shell.execute_reply": "2022-06-07T16:46:05.101988Z"
    },
    "scrolled": false
   },
   "outputs": [
    {
     "name": "stdout",
     "output_type": "stream",
     "text": [
      "Ite 00000 - 2.80 sec - Loss 0.062100 - ACC 57.25% - ACC Mean 57.25% - AUC 60.00% - AUC Mean 60.00% - Deter 000\n",
      "Ite 00050 - 1.69 sec - Loss 0.011730 - ACC 56.55% - ACC Mean 57.80% - AUC 58.36% - AUC Mean 60.83% - Deter 003\n",
      "Ite 00097 - 1.67 sec - Loss 0.006119 - ACC 58.10% - ACC Mean 58.03% - AUC 62.10% - AUC Mean 61.21% - Deter 050\n",
      "Early stop ite 97, rollback to correction of ite 47, whith acc of 59.4% and auc of 63.62%\n",
      "OUR METHOD RUN 1/10 - acc: 59.4% +- 0.0% - auc: 63.62% +- 0.0%\n",
      "Ite 00000 - 1.42 sec - Loss 0.125068 - ACC 59.50% - ACC Mean 59.50% - AUC 63.05% - AUC Mean 63.05% - Deter 000\n",
      "Ite 00050 - 1.72 sec - Loss 0.045110 - ACC 58.10% - ACC Mean 58.07% - AUC 61.01% - AUC Mean 61.29% - Deter 013\n",
      "Ite 00087 - 2.03 sec - Loss 0.029097 - ACC 57.55% - ACC Mean 57.96% - AUC 60.08% - AUC Mean 61.27% - Deter 050\n",
      "Early stop ite 87, rollback to correction of ite 37, whith acc of 58.85% and auc of 64.18%\n",
      "OUR METHOD RUN 2/10 - acc: 58.85% +- 0.0% - auc: 64.18% +- 0.0%\n",
      "Ite 00000 - 2.44 sec - Loss 0.078081 - ACC 57.25% - ACC Mean 57.25% - AUC 59.47% - AUC Mean 59.47% - Deter 000\n",
      "Ite 00050 - 1.55 sec - Loss 0.021948 - ACC 57.45% - ACC Mean 58.04% - AUC 60.73% - AUC Mean 61.14% - Deter 015\n",
      "Ite 00100 - 1.21 sec - Loss 0.010830 - ACC 57.25% - ACC Mean 58.12% - AUC 60.66% - AUC Mean 61.42% - Deter 019\n",
      "Ite 00131 - 2.49 sec - Loss 0.008122 - ACC 57.95% - ACC Mean 58.27% - AUC 60.56% - AUC Mean 61.57% - Deter 050\n",
      "Early stop ite 131, rollback to correction of ite 81, whith acc of 59.75% and auc of 63.66%\n",
      "OUR METHOD RUN 3/10 - acc: 59.75% +- 0.0% - auc: 63.66% +- 0.0%\n",
      "Ite 00000 - 2.00 sec - Loss 0.072684 - ACC 58.65% - ACC Mean 58.65% - AUC 61.11% - AUC Mean 61.11% - Deter 000\n",
      "Ite 00050 - 1.00 sec - Loss 0.017978 - ACC 57.50% - ACC Mean 57.81% - AUC 60.82% - AUC Mean 60.84% - Deter 036\n",
      "Ite 00064 - 0.99 sec - Loss 0.014303 - ACC 57.20% - ACC Mean 57.75% - AUC 60.64% - AUC Mean 60.87% - Deter 050\n",
      "Early stop ite 64, rollback to correction of ite 14, whith acc of 59.85% and auc of 63.36%\n",
      "OUR METHOD RUN 4/10 - acc: 59.85% +- 0.0% - auc: 63.36% +- 0.0%\n",
      "Ite 00000 - 1.05 sec - Loss 0.091030 - ACC 57.70% - ACC Mean 57.70% - AUC 61.18% - AUC Mean 61.18% - Deter 000\n",
      "Ite 00050 - 0.96 sec - Loss 0.034755 - ACC 59.90% - ACC Mean 58.31% - AUC 63.38% - AUC Mean 61.67% - Deter 038\n",
      "Ite 00062 - 1.01 sec - Loss 0.028758 - ACC 58.00% - ACC Mean 58.26% - AUC 61.44% - AUC Mean 61.50% - Deter 050\n",
      "Early stop ite 62, rollback to correction of ite 12, whith acc of 59.05% and auc of 63.63%\n",
      "OUR METHOD RUN 5/10 - acc: 59.05% +- 0.0% - auc: 63.63% +- 0.0%\n",
      "Ite 00000 - 1.06 sec - Loss 0.080321 - ACC 57.70% - ACC Mean 57.70% - AUC 60.76% - AUC Mean 60.76% - Deter 000\n",
      "Ite 00050 - 1.03 sec - Loss 0.018753 - ACC 57.80% - ACC Mean 57.99% - AUC 60.64% - AUC Mean 60.96% - Deter 014\n",
      "Ite 00100 - 0.99 sec - Loss 0.009401 - ACC 57.85% - ACC Mean 58.27% - AUC 61.49% - AUC Mean 61.55% - Deter 041\n",
      "Ite 00109 - 1.02 sec - Loss 0.008555 - ACC 59.05% - ACC Mean 58.29% - AUC 61.86% - AUC Mean 61.53% - Deter 050\n",
      "Early stop ite 109, rollback to correction of ite 59, whith acc of 60.0% and auc of 64.01%\n",
      "OUR METHOD RUN 6/10 - acc: 60.0% +- 0.0% - auc: 64.01% +- 0.0%\n",
      "Ite 00000 - 1.06 sec - Loss 0.091076 - ACC 58.25% - ACC Mean 58.25% - AUC 61.24% - AUC Mean 61.24% - Deter 000\n",
      "Ite 00050 - 1.16 sec - Loss 0.028912 - ACC 60.00% - ACC Mean 58.09% - AUC 62.36% - AUC Mean 61.21% - Deter 011\n",
      "Ite 00100 - 1.08 sec - Loss 0.016813 - ACC 59.70% - ACC Mean 59.20% - AUC 62.48% - AUC Mean 62.53% - Deter 008\n",
      "Ite 00142 - 1.11 sec - Loss 0.012618 - ACC 57.95% - ACC Mean 58.60% - AUC 62.06% - AUC Mean 62.04% - Deter 050\n",
      "Early stop ite 142, rollback to correction of ite 92, whith acc of 60.95% and auc of 64.97%\n",
      "OUR METHOD RUN 7/10 - acc: 60.95% +- 0.0% - auc: 64.97% +- 0.0%\n",
      "Ite 00000 - 1.21 sec - Loss 0.075216 - ACC 56.70% - ACC Mean 56.70% - AUC 59.42% - AUC Mean 59.42% - Deter 000\n",
      "Ite 00050 - 1.69 sec - Loss 0.017523 - ACC 57.30% - ACC Mean 57.68% - AUC 59.43% - AUC Mean 60.76% - Deter 019\n",
      "Ite 00081 - 2.17 sec - Loss 0.010685 - ACC 60.30% - ACC Mean 57.92% - AUC 63.45% - AUC Mean 60.94% - Deter 050\n",
      "Early stop ite 81, rollback to correction of ite 31, whith acc of 60.1% and auc of 63.69%\n",
      "OUR METHOD RUN 8/10 - acc: 60.1% +- 0.0% - auc: 63.69% +- 0.0%\n",
      "Ite 00000 - 2.47 sec - Loss 0.079528 - ACC 58.15% - ACC Mean 58.15% - AUC 60.07% - AUC Mean 60.07% - Deter 000\n",
      "Ite 00050 - 2.02 sec - Loss 0.023640 - ACC 58.15% - ACC Mean 58.04% - AUC 62.45% - AUC Mean 61.20% - Deter 020\n",
      "Ite 00100 - 3.00 sec - Loss 0.012660 - ACC 60.10% - ACC Mean 59.05% - AUC 64.35% - AUC Mean 62.43% - Deter 025\n",
      "Ite 00150 - 3.49 sec - Loss 0.008214 - ACC 58.60% - ACC Mean 58.78% - AUC 61.72% - AUC Mean 62.19% - Deter 044\n",
      "Ite 00156 - 2.75 sec - Loss 0.007846 - ACC 59.10% - ACC Mean 58.73% - AUC 63.40% - AUC Mean 62.12% - Deter 050\n",
      "Early stop ite 156, rollback to correction of ite 106, whith acc of 60.85% and auc of 64.87%\n",
      "OUR METHOD RUN 9/10 - acc: 60.85% +- 0.0% - auc: 64.87% +- 0.0%\n",
      "Ite 00000 - 3.12 sec - Loss 0.055320 - ACC 56.30% - ACC Mean 56.30% - AUC 60.02% - AUC Mean 60.02% - Deter 000\n",
      "Ite 00050 - 3.49 sec - Loss 0.019448 - ACC 57.95% - ACC Mean 58.32% - AUC 60.40% - AUC Mean 61.42% - Deter 023\n",
      "Ite 00100 - 4.15 sec - Loss 0.010921 - ACC 58.55% - ACC Mean 58.93% - AUC 64.19% - AUC Mean 62.42% - Deter 025\n",
      "Ite 00125 - 2.12 sec - Loss 0.008642 - ACC 58.15% - ACC Mean 58.92% - AUC 62.39% - AUC Mean 62.40% - Deter 050\n",
      "Early stop ite 125, rollback to correction of ite 75, whith acc of 60.95% and auc of 65.32%\n",
      "OUR METHOD RUN 10/10 - acc: 60.95% +- 0.0% - auc: 65.32% +- 0.0%\n",
      "\n",
      "OUR METHOD GLOBAL - acc: 59.98% +- 0.72% - auc: 64.13% +- 0.65%\n"
     ]
    }
   ],
   "source": [
    "params = {\n",
    "    'nb_batches': 10,\n",
    "    'reg_noise_std': .03,\n",
    "    'net_input': 'data_corrupted',\n",
    "    'net_params': {\n",
    "        'input_channels':1,\n",
    "        'output_channels':1,\n",
    "        'channels_skip':4,\n",
    "        'down_layers':[(24, 7, 1),\n",
    "                       (46, 9, 5),\n",
    "                       (96, 11, 1),\n",
    "                       (96, 13, 1)],\n",
    "        'need_sigmoid':True,\n",
    "        'need_bias':True,\n",
    "        'pad':'zero',\n",
    "        'downsample_mode':'stride',\n",
    "        'upsample_mode':'nearest',\n",
    "        'act_fun':'LeakyReLU',\n",
    "        'need1x1_up':True\n",
    "    },# or a list containing layers sizes\n",
    "    'adam_lr': .0001,\n",
    "    'adam_weight_decay': 0.,\n",
    "}\n",
    "\n",
    "ours_accs, ours_aucs = [], []\n",
    "for i in range(n_runs):\n",
    "    ours_correction = correction.run(data_missing, 501, params, y=y, missing_mask=missing_mask, seed=i)\n",
    "    ## Since our method returns 2 imputations select the best one\n",
    "    scores_raw = utils.get_scores(ours_correction['raw_out'], y)\n",
    "    acc = scores_raw['test_balanced_accuracy']\n",
    "    auc = scores_raw['test_roc_auc_ovo']\n",
    "    acc = acc.mean()\n",
    "    acc_std = acc.std()\n",
    "    auc = auc.mean()\n",
    "    auc_std = auc.std()\n",
    "    if 'masked_out' in ours_correction:\n",
    "        scores_masked = utils.get_scores(ours_correction['masked_out'], y)\n",
    "        acc_masked = scores_masked['test_balanced_accuracy']\n",
    "        auc_masked = scores_masked['test_roc_auc_ovo']\n",
    "        if auc_masked.mean() > auc:\n",
    "            acc = acc_masked.mean()\n",
    "            acc_std = acc_masked.std()\n",
    "            auc = auc_masked.mean()\n",
    "            auc_std = auc_masked.std()\n",
    "    print(f'OUR METHOD RUN {i + 1}/{n_runs} - acc: {round(acc.mean() * 100, 2)}% +- {round(acc.std() * 100, 2)}% - ' +\n",
    "          f'auc: {round(auc.mean() * 100, 2)}% +- {round(auc.std() * 100, 2)}%')\n",
    "    ours_accs.append(acc.mean())\n",
    "    ours_aucs.append(auc.mean())\n",
    "print(f'\\nOUR METHOD GLOBAL - acc: {round(np.array(ours_accs).mean() * 100, 2)}% +- {round(np.array(ours_accs).std() * 100, 2)}% - ' +\n",
    "      f'auc: {round(np.array(ours_aucs).mean() * 100, 2)}% +- {round(np.array(ours_aucs).std() * 100, 2)}%')"
   ]
  },
  {
   "cell_type": "markdown",
   "metadata": {},
   "source": [
    "## Run MICE"
   ]
  },
  {
   "cell_type": "code",
   "execution_count": 5,
   "metadata": {
    "ExecuteTime": {
     "end_time": "2022-06-07T08:25:47.812154Z",
     "start_time": "2022-06-07T08:25:41.125881Z"
    },
    "execution": {
     "iopub.execute_input": "2022-06-07T16:46:05.106791Z",
     "iopub.status.busy": "2022-06-07T16:46:05.106369Z",
     "iopub.status.idle": "2022-06-07T16:52:36.755936Z",
     "shell.execute_reply": "2022-06-07T16:52:36.754816Z"
    }
   },
   "outputs": [
    {
     "name": "stdout",
     "output_type": "stream",
     "text": [
      "MICE - acc: 57.6% +- 0.0% - auc: 61.31% +- 0.0%\n"
     ]
    }
   ],
   "source": [
    "data_missing_nans = np.where(missing_mask, data_missing, np.nan)\n",
    "\n",
    "imputer = IterativeImputer()\n",
    "imputed = imputer.fit_transform(data_missing_nans)\n",
    "## All runs would be the same since deterministic method\n",
    "scores = utils.get_scores(imputed, y)\n",
    "acc = [scores['test_balanced_accuracy'].mean()] * n_runs\n",
    "auc = [scores['test_roc_auc_ovo'].mean()] * n_runs\n",
    "print(f'MICE - acc: {round(np.mean(acc) * 100, 2)}% +- {round(np.std(acc) * 100, 2)}% - ' +\n",
    "      f'auc: {round(np.mean(auc) * 100, 2)}% +- {round(np.std(auc) * 100, 2)}%')\n",
    "mice_accs = acc\n",
    "mice_aucs = auc"
   ]
  },
  {
   "cell_type": "markdown",
   "metadata": {},
   "source": [
    "## Run SFIL"
   ]
  },
  {
   "cell_type": "code",
   "execution_count": 6,
   "metadata": {
    "ExecuteTime": {
     "end_time": "2022-06-07T08:25:49.133209Z",
     "start_time": "2022-06-07T08:25:47.813384Z"
    },
    "execution": {
     "iopub.execute_input": "2022-06-07T16:52:36.764505Z",
     "iopub.status.busy": "2022-06-07T16:52:36.763168Z",
     "iopub.status.idle": "2022-06-07T16:52:46.552202Z",
     "shell.execute_reply": "2022-06-07T16:52:46.552627Z"
    }
   },
   "outputs": [
    {
     "name": "stdout",
     "output_type": "stream",
     "text": [
      "SFIL RUN 1/10 - acc: 56.3% +- 1.61% - auc: 60.0% +- 3.22%\n",
      "SFIL RUN 2/10 - acc: 53.65% +- 2.4% - auc: 56.41% +- 1.12%\n",
      "SFIL RUN 3/10 - acc: 54.4% +- 2.33% - auc: 57.79% +- 3.21%\n",
      "SFIL RUN 4/10 - acc: 53.55% +- 2.39% - auc: 55.3% +- 2.44%\n",
      "SFIL RUN 5/10 - acc: 54.65% +- 2.71% - auc: 58.34% +- 2.53%\n",
      "SFIL RUN 6/10 - acc: 55.55% +- 3.02% - auc: 58.53% +- 2.17%\n",
      "SFIL RUN 7/10 - acc: 54.65% +- 2.82% - auc: 58.39% +- 3.98%\n",
      "SFIL RUN 8/10 - acc: 54.7% +- 1.46% - auc: 56.87% +- 2.73%\n",
      "SFIL RUN 9/10 - acc: 53.75% +- 2.2% - auc: 57.55% +- 2.73%\n",
      "SFIL RUN 10/10 - acc: 53.85% +- 1.45% - auc: 56.21% +- 2.3%\n",
      "SFIL GLOBAL - acc: 54.5% +- 0.84% - auc: 57.54% +- 1.3%\n"
     ]
    }
   ],
   "source": [
    "sfil_accs, sfil_aucs = [], []\n",
    "for i in range(n_runs):\n",
    "    acc, auc = filtering(imputed, y, mode='standard', random_state=i)\n",
    "    sfil_accs.append(acc.mean())\n",
    "    sfil_aucs.append(auc.mean())\n",
    "    print(f'SFIL RUN {i + 1}/{n_runs} - acc: {round(np.mean(acc) * 100, 2)}% +- {round(np.std(acc) * 100, 2)}% - ' +\n",
    "          f'auc: {round(np.mean(auc) * 100, 2)}% +- {round(np.std(auc) * 100, 2)}%')\n",
    "print(f'SFIL GLOBAL - acc: {round(np.mean(sfil_accs) * 100, 2)}% +- {round(np.std(sfil_accs) * 100, 2)}% - ' +\n",
    "      f'auc: {round(np.mean(sfil_aucs) * 100, 2)}% +- {round(np.std(sfil_aucs) * 100, 2)}%')"
   ]
  },
  {
   "cell_type": "markdown",
   "metadata": {},
   "source": [
    "## Run PFIL"
   ]
  },
  {
   "cell_type": "code",
   "execution_count": 7,
   "metadata": {
    "ExecuteTime": {
     "end_time": "2022-06-07T08:35:09.194980Z",
     "start_time": "2022-06-07T08:25:49.134766Z"
    },
    "execution": {
     "iopub.execute_input": "2022-06-07T16:52:46.558078Z",
     "iopub.status.busy": "2022-06-07T16:52:46.557608Z",
     "iopub.status.idle": "2022-06-07T18:07:56.211885Z",
     "shell.execute_reply": "2022-06-07T18:07:56.210791Z"
    },
    "scrolled": false
   },
   "outputs": [
    {
     "name": "stdout",
     "output_type": "stream",
     "text": [
      "PFIL RUN 1/10 - acc: 58.4% +- 2.04% - auc: 61.77% +- 3.54%\n",
      "PFIL RUN 2/10 - acc: 58.55% +- 1.9% - auc: 61.93% +- 1.45%\n",
      "PFIL RUN 3/10 - acc: 58.45% +- 0.95% - auc: 61.88% +- 0.88%\n",
      "PFIL RUN 4/10 - acc: 58.55% +- 2.57% - auc: 62.35% +- 3.13%\n",
      "PFIL RUN 5/10 - acc: 59.7% +- 2.18% - auc: 62.81% +- 3.18%\n",
      "PFIL RUN 6/10 - acc: 57.6% +- 1.79% - auc: 59.68% +- 2.01%\n",
      "PFIL RUN 7/10 - acc: 59.25% +- 1.06% - auc: 62.2% +- 1.7%\n",
      "PFIL RUN 8/10 - acc: 60.4% +- 2.94% - auc: 63.71% +- 2.72%\n",
      "PFIL RUN 9/10 - acc: 57.7% +- 2.44% - auc: 61.06% +- 2.18%\n",
      "PFIL RUN 10/10 - acc: 59.7% +- 1.44% - auc: 62.63% +- 1.94%\n",
      "PFIL GLOBAL - acc: 58.83% +- 0.86% - auc: 62.0% +- 1.02%\n"
     ]
    }
   ],
   "source": [
    "pfil_accs, pfil_aucs = [], []\n",
    "for i in range(n_runs):\n",
    "    acc, auc = filtering(imputed, y, mode='panda', random_state=i)\n",
    "    pfil_accs.append(acc.mean())\n",
    "    pfil_aucs.append(auc.mean())\n",
    "    print(f'PFIL RUN {i + 1}/{n_runs} - acc: {round(np.mean(acc) * 100, 2)}% +- {round(np.std(acc) * 100, 2)}% - ' +\n",
    "          f'auc: {round(np.mean(auc) * 100, 2)}% +- {round(np.std(auc) * 100, 2)}%')\n",
    "print(f'PFIL GLOBAL - acc: {round(np.mean(pfil_accs) * 100, 2)}% +- {round(np.std(pfil_accs) * 100, 2)}% - ' +\n",
    "      f'auc: {round(np.mean(pfil_aucs) * 100, 2)}% +- {round(np.std(pfil_aucs) * 100, 2)}%')"
   ]
  },
  {
   "cell_type": "markdown",
   "metadata": {},
   "source": [
    "## Run SPOL"
   ]
  },
  {
   "cell_type": "code",
   "execution_count": 8,
   "metadata": {
    "ExecuteTime": {
     "end_time": "2022-06-07T08:50:33.353751Z",
     "start_time": "2022-06-07T08:49:36.684786Z"
    },
    "execution": {
     "iopub.execute_input": "2022-06-07T18:07:56.219177Z",
     "iopub.status.busy": "2022-06-07T18:07:56.218091Z",
     "iopub.status.idle": "2022-06-07T18:10:13.731044Z",
     "shell.execute_reply": "2022-06-07T18:10:13.730038Z"
    }
   },
   "outputs": [
    {
     "name": "stdout",
     "output_type": "stream",
     "text": [
      "SPOL RUN 1/10 - acc: 53.8% +- 3.1% - auc: 56.98% +- 4.29%\n",
      "SPOL RUN 2/10 - acc: 54.1% +- 1.11% - auc: 56.21% +- 1.83%\n",
      "SPOL RUN 3/10 - acc: 54.1% +- 3.76% - auc: 55.74% +- 3.84%\n",
      "SPOL RUN 4/10 - acc: 54.6% +- 1.63% - auc: 56.92% +- 2.02%\n",
      "SPOL RUN 5/10 - acc: 54.1% +- 2.42% - auc: 56.86% +- 2.89%\n",
      "SPOL RUN 6/10 - acc: 54.3% +- 2.58% - auc: 55.76% +- 3.09%\n",
      "SPOL RUN 7/10 - acc: 54.9% +- 1.9% - auc: 57.08% +- 2.53%\n",
      "SPOL RUN 8/10 - acc: 53.4% +- 1.35% - auc: 55.85% +- 1.86%\n",
      "SPOL RUN 9/10 - acc: 54.45% +- 0.66% - auc: 57.43% +- 1.07%\n",
      "SPOL RUN 10/10 - acc: 53.45% +- 2.26% - auc: 55.65% +- 2.59%\n",
      "SPOL GLOBAL - acc: 54.12% +- 0.45% - auc: 56.45% +- 0.64%\n"
     ]
    }
   ],
   "source": [
    "spol_accs, spol_aucs = [], []\n",
    "for i in range(n_runs):\n",
    "    acc, auc = polishing(imputed, y, mode='standard', random_state=i)\n",
    "    spol_accs.append(acc.mean())\n",
    "    spol_aucs.append(auc.mean())\n",
    "    print(f'SPOL RUN {i + 1}/{n_runs} - acc: {round(np.mean(acc) * 100, 2)}% +- {round(np.std(acc) * 100, 2)}% - ' +\n",
    "          f'auc: {round(np.mean(auc) * 100, 2)}% +- {round(np.std(auc) * 100, 2)}%')\n",
    "print(f'SPOL GLOBAL - acc: {round(np.mean(spol_accs) * 100, 2)}% +- {round(np.std(spol_accs) * 100, 2)}% - ' +\n",
    "      f'auc: {round(np.mean(spol_aucs) * 100, 2)}% +- {round(np.std(spol_aucs) * 100, 2)}%')"
   ]
  },
  {
   "cell_type": "markdown",
   "metadata": {},
   "source": [
    "## Run PPOL"
   ]
  },
  {
   "cell_type": "code",
   "execution_count": 9,
   "metadata": {
    "ExecuteTime": {
     "end_time": "2022-06-07T08:52:24.306737Z",
     "start_time": "2022-06-07T08:50:33.355178Z"
    },
    "execution": {
     "iopub.execute_input": "2022-06-07T18:10:13.743487Z",
     "iopub.status.busy": "2022-06-07T18:10:13.742607Z",
     "iopub.status.idle": "2022-06-07T19:28:53.266838Z",
     "shell.execute_reply": "2022-06-07T19:28:53.265809Z"
    }
   },
   "outputs": [
    {
     "name": "stdout",
     "output_type": "stream",
     "text": [
      "PPOL RUN 1/10 - acc: 60.05% +- 1.28% - auc: 61.49% +- 1.9%\n",
      "PPOL RUN 2/10 - acc: 60.95% +- 3.28% - auc: 63.36% +- 3.28%\n",
      "PPOL RUN 3/10 - acc: 58.4% +- 1.37% - auc: 61.63% +- 1.89%\n",
      "PPOL RUN 4/10 - acc: 59.85% +- 2.04% - auc: 62.79% +- 1.92%\n",
      "PPOL RUN 5/10 - acc: 58.3% +- 2.18% - auc: 60.96% +- 2.41%\n",
      "PPOL RUN 6/10 - acc: 58.4% +- 3.8% - auc: 61.63% +- 3.73%\n",
      "PPOL RUN 7/10 - acc: 59.45% +- 2.61% - auc: 63.37% +- 2.48%\n",
      "PPOL RUN 8/10 - acc: 60.4% +- 2.13% - auc: 63.9% +- 2.39%\n",
      "PPOL RUN 9/10 - acc: 57.9% +- 2.21% - auc: 61.94% +- 1.87%\n",
      "PPOL RUN 10/10 - acc: 58.2% +- 1.44% - auc: 61.96% +- 1.13%\n",
      "PPOL GLOBAL - acc: 59.19% +- 1.02% - auc: 62.3% +- 0.93%\n"
     ]
    }
   ],
   "source": [
    "ppol_accs, ppol_aucs = [], []\n",
    "for i in range(n_runs):\n",
    "    acc, auc = polishing(imputed, y, mode='panda', random_state=i)\n",
    "    ppol_accs.append(acc.mean())\n",
    "    ppol_aucs.append(auc.mean())\n",
    "    print(f'PPOL RUN {i + 1}/{n_runs} - acc: {round(np.mean(acc) * 100, 2)}% +- {round(np.std(acc) * 100, 2)}% - ' +\n",
    "          f'auc: {round(np.mean(auc) * 100, 2)}% +- {round(np.std(auc) * 100, 2)}%')\n",
    "print(f'PPOL GLOBAL - acc: {round(np.mean(ppol_accs) * 100, 2)}% +- {round(np.std(ppol_accs) * 100, 2)}% - ' +\n",
    "      f'auc: {round(np.mean(ppol_aucs) * 100, 2)}% +- {round(np.std(ppol_aucs) * 100, 2)}%')"
   ]
  },
  {
   "cell_type": "markdown",
   "metadata": {},
   "source": [
    "## Run T-tests"
   ]
  },
  {
   "cell_type": "code",
   "execution_count": 10,
   "metadata": {
    "ExecuteTime": {
     "end_time": "2022-06-07T08:52:25.983958Z",
     "start_time": "2022-06-07T08:52:25.963898Z"
    },
    "execution": {
     "iopub.execute_input": "2022-06-07T19:28:53.278008Z",
     "iopub.status.busy": "2022-06-07T19:28:53.277093Z",
     "iopub.status.idle": "2022-06-07T19:28:53.280708Z",
     "shell.execute_reply": "2022-06-07T19:28:53.281613Z"
    },
    "scrolled": false
   },
   "outputs": [
    {
     "name": "stdout",
     "output_type": "stream",
     "text": [
      "Metric ACC - OUR METHOD is significantly better than MICE\n",
      "Metric AUC - OUR METHOD is significantly better than MICE\n",
      "Metric ACC - OUR METHOD is significantly better than SFIL\n",
      "Metric AUC - OUR METHOD is significantly better than SFIL\n",
      "Metric ACC - OUR METHOD is significantly better than PFIL\n",
      "Metric AUC - OUR METHOD is significantly better than PFIL\n",
      "Metric ACC - OUR METHOD is significantly better than SPOL\n",
      "Metric AUC - OUR METHOD is significantly better than SPOL\n",
      "Metric ACC - OUR METHOD is even with PPOL\n",
      "Metric AUC - OUR METHOD is significantly better than PPOL\n"
     ]
    }
   ],
   "source": [
    "for model, metrics in {\n",
    "        'MICE': {'ACC': mice_accs, 'AUC': mice_aucs},\n",
    "        'SFIL': {'ACC': sfil_accs, 'AUC': sfil_aucs},\n",
    "        'PFIL': {'ACC': pfil_accs, 'AUC': pfil_aucs},\n",
    "        'SPOL': {'ACC': spol_accs, 'AUC': spol_aucs},\n",
    "        'PPOL': {'ACC': ppol_accs, 'AUC': ppol_aucs}}.items():\n",
    "    for metric_name, metric in metrics.items():\n",
    "        ours_metric = ours_accs if metric_name == 'ACC' else ours_aucs\n",
    "        t, p = scipy.stats.ttest_ind(np.array(ours_metric), np.array(metric))\n",
    "        if p <= .05:\n",
    "            if t > 0:\n",
    "                ## Our method is better\n",
    "                print(f'Metric {metric_name} - OUR METHOD is significantly better than {model}')\n",
    "            else:\n",
    "                ## Theirs is better\n",
    "                print(f'Metric {metric_name} - OUR METHOD is significantly worse than {model}')\n",
    "        else:\n",
    "            ## Else we are even\n",
    "            print(f'Metric {metric_name} - OUR METHOD is even with {model}')"
   ]
  }
 ],
 "metadata": {
  "kernelspec": {
   "display_name": "Python 3 (ipykernel)",
   "language": "python",
   "name": "python3"
  },
  "language_info": {
   "codemirror_mode": {
    "name": "ipython",
    "version": 3
   },
   "file_extension": ".py",
   "mimetype": "text/x-python",
   "name": "python",
   "nbconvert_exporter": "python",
   "pygments_lexer": "ipython3",
   "version": "3.9.7"
  },
  "latex_envs": {
   "LaTeX_envs_menu_present": true,
   "autoclose": false,
   "autocomplete": true,
   "bibliofile": "biblio.bib",
   "cite_by": "apalike",
   "current_citInitial": 1,
   "eqLabelWithNumbers": true,
   "eqNumInitial": 1,
   "hotkeys": {
    "equation": "Ctrl-E",
    "itemize": "Ctrl-I"
   },
   "labels_anchors": false,
   "latex_user_defs": false,
   "report_style_numbering": false,
   "user_envs_cfg": false
  }
 },
 "nbformat": 4,
 "nbformat_minor": 2
}
