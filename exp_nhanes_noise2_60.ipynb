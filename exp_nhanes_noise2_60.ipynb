{
 "cells": [
  {
   "cell_type": "code",
   "execution_count": 1,
   "metadata": {
    "ExecuteTime": {
     "end_time": "2022-06-07T08:11:39.412870Z",
     "start_time": "2022-06-07T08:11:35.692131Z"
    },
    "execution": {
     "iopub.execute_input": "2022-06-07T16:15:21.786528Z",
     "iopub.status.busy": "2022-06-07T16:15:21.781725Z",
     "iopub.status.idle": "2022-06-07T16:15:26.261103Z",
     "shell.execute_reply": "2022-06-07T16:15:26.259536Z"
    }
   },
   "outputs": [],
   "source": [
    "from __future__ import print_function\n",
    "import warnings\n",
    "warnings.filterwarnings('ignore')\n",
    "## Disable tf future deprecated messages\n",
    "import logging\n",
    "logging.getLogger('tensorflow').disabled = True\n",
    "## Disable tf CUDA messages\n",
    "import os\n",
    "os.environ['TF_CPP_MIN_LOG_LEVEL'] = '3'\n",
    "\n",
    "%matplotlib inline\n",
    "\n",
    "import sys\n",
    "import random\n",
    "import numpy as np\n",
    "import pandas as pd\n",
    "\n",
    "import utils\n",
    "import correction\n",
    "from models.dense import *\n",
    "from models.gain import gain\n",
    "from models.soft_impute import SoftImpute\n",
    "from models.sinkhorn import OTimputer\n",
    "from models.mida import mida\n",
    "from models.polishing import polishing\n",
    "from models.filtering import filtering\n",
    "\n",
    "import scipy.stats\n",
    "\n",
    "from sklearn.experimental import enable_iterative_imputer\n",
    "from sklearn.impute import IterativeImputer\n",
    "from sklearn.impute import KNNImputer, SimpleImputer\n",
    "\n",
    "import sklearn.neighbors._base\n",
    "sys.modules['sklearn.neighbors.base'] = sklearn.neighbors._base\n",
    "from missingpy import MissForest\n",
    "\n",
    "torch.backends.cudnn.enabled = True\n",
    "torch.backends.cudnn.benchmark = True\n",
    "dtype = torch.cuda.FloatTensor"
   ]
  },
  {
   "cell_type": "markdown",
   "metadata": {},
   "source": [
    "## Repeat all experiments for 10 runs"
   ]
  },
  {
   "cell_type": "code",
   "execution_count": 2,
   "metadata": {
    "ExecuteTime": {
     "end_time": "2022-06-07T08:11:39.417491Z",
     "start_time": "2022-06-07T08:11:39.415081Z"
    },
    "execution": {
     "iopub.execute_input": "2022-06-07T16:15:26.267892Z",
     "iopub.status.busy": "2022-06-07T16:15:26.266815Z",
     "iopub.status.idle": "2022-06-07T16:15:26.270314Z",
     "shell.execute_reply": "2022-06-07T16:15:26.269431Z"
    }
   },
   "outputs": [],
   "source": [
    "n_runs = 10"
   ]
  },
  {
   "cell_type": "markdown",
   "metadata": {},
   "source": [
    "## Load data"
   ]
  },
  {
   "cell_type": "code",
   "execution_count": 3,
   "metadata": {
    "ExecuteTime": {
     "end_time": "2022-06-07T08:11:41.218694Z",
     "start_time": "2022-06-07T08:11:39.419632Z"
    },
    "execution": {
     "iopub.execute_input": "2022-06-07T16:15:26.275830Z",
     "iopub.status.busy": "2022-06-07T16:15:26.275137Z",
     "iopub.status.idle": "2022-06-07T16:15:26.398063Z",
     "shell.execute_reply": "2022-06-07T16:15:26.398489Z"
    }
   },
   "outputs": [
    {
     "name": "stdout",
     "output_type": "stream",
     "text": [
      "Dataset shape: (2000, 95)\n",
      "33.65% missing data\n",
      "Class distribution: (array([1., 2.]), array([1000, 1000]))\n"
     ]
    }
   ],
   "source": [
    "data_missing, missing_mask, y = utils.load_nhanes()\n",
    "## Inject noise\n",
    "data_missing = utils.inject_noise(data_missing.copy(), noise_rate=.6)\n",
    "## Replace missing values locations by 0\n",
    "data_missing = data_missing * missing_mask"
   ]
  },
  {
   "cell_type": "markdown",
   "metadata": {},
   "source": [
    "## Run OUR METHOD"
   ]
  },
  {
   "cell_type": "code",
   "execution_count": 4,
   "metadata": {
    "ExecuteTime": {
     "end_time": "2022-06-07T08:25:41.124140Z",
     "start_time": "2022-06-07T08:11:41.222736Z"
    },
    "execution": {
     "iopub.execute_input": "2022-06-07T16:15:26.406962Z",
     "iopub.status.busy": "2022-06-07T16:15:26.406548Z",
     "iopub.status.idle": "2022-06-07T16:43:21.241269Z",
     "shell.execute_reply": "2022-06-07T16:43:21.241904Z"
    },
    "scrolled": false
   },
   "outputs": [
    {
     "name": "stdout",
     "output_type": "stream",
     "text": [
      "Ite 00000 - 4.63 sec - Loss 0.063312 - ACC 57.05% - ACC Mean 57.05% - AUC 59.01% - AUC Mean 59.01% - Deter 000\n",
      "Ite 00050 - 3.27 sec - Loss 0.011090 - ACC 56.55% - ACC Mean 56.87% - AUC 57.98% - AUC Mean 59.65% - Deter 007\n",
      "Ite 00100 - 1.40 sec - Loss 0.005409 - ACC 57.15% - ACC Mean 57.45% - AUC 58.82% - AUC Mean 60.17% - Deter 025\n",
      "Ite 00125 - 1.64 sec - Loss 0.004318 - ACC 56.55% - ACC Mean 57.63% - AUC 59.35% - AUC Mean 60.26% - Deter 050\n",
      "Early stop ite 125, rollback to correction of ite 75, whith acc of 59.2% and auc of 62.29%\n",
      "OUR METHOD RUN 1/10 - acc: 59.2% +- 0.0% - auc: 62.29% +- 0.0%\n",
      "Ite 00000 - 1.74 sec - Loss 0.113753 - ACC 57.70% - ACC Mean 57.70% - AUC 61.20% - AUC Mean 61.20% - Deter 000\n",
      "Ite 00050 - 2.15 sec - Loss 0.038748 - ACC 57.05% - ACC Mean 57.94% - AUC 59.38% - AUC Mean 60.86% - Deter 044\n",
      "Ite 00056 - 1.40 sec - Loss 0.035360 - ACC 57.70% - ACC Mean 57.84% - AUC 59.75% - AUC Mean 60.71% - Deter 050\n",
      "Early stop ite 56, rollback to correction of ite 6, whith acc of 59.95% and auc of 63.6%\n",
      "OUR METHOD RUN 2/10 - acc: 59.95% +- 0.0% - auc: 63.6% +- 0.0%\n",
      "Ite 00000 - 1.40 sec - Loss 0.075313 - ACC 58.75% - ACC Mean 58.75% - AUC 61.86% - AUC Mean 61.86% - Deter 000\n",
      "Ite 00050 - 1.75 sec - Loss 0.020108 - ACC 57.35% - ACC Mean 57.46% - AUC 59.41% - AUC Mean 60.44% - Deter 014\n",
      "Ite 00086 - 1.66 sec - Loss 0.010831 - ACC 58.40% - ACC Mean 57.67% - AUC 61.28% - AUC Mean 60.52% - Deter 050\n",
      "Early stop ite 86, rollback to correction of ite 36, whith acc of 59.4% and auc of 63.14%\n",
      "OUR METHOD RUN 3/10 - acc: 59.4% +- 0.0% - auc: 63.14% +- 0.0%\n",
      "Ite 00000 - 1.58 sec - Loss 0.069195 - ACC 57.90% - ACC Mean 57.90% - AUC 61.58% - AUC Mean 61.58% - Deter 000\n",
      "Ite 00050 - 1.13 sec - Loss 0.016040 - ACC 57.35% - ACC Mean 57.56% - AUC 60.95% - AUC Mean 60.32% - Deter 019\n",
      "Ite 00081 - 1.03 sec - Loss 0.009700 - ACC 57.05% - ACC Mean 57.35% - AUC 59.42% - AUC Mean 60.07% - Deter 050\n",
      "Early stop ite 81, rollback to correction of ite 31, whith acc of 59.6% and auc of 63.2%\n",
      "OUR METHOD RUN 4/10 - acc: 59.6% +- 0.0% - auc: 63.2% +- 0.0%\n",
      "Ite 00000 - 1.09 sec - Loss 0.081338 - ACC 58.45% - ACC Mean 58.45% - AUC 62.01% - AUC Mean 62.01% - Deter 000\n",
      "Ite 00050 - 1.14 sec - Loss 0.030452 - ACC 57.05% - ACC Mean 58.28% - AUC 60.04% - AUC Mean 61.43% - Deter 032\n",
      "Ite 00068 - 1.17 sec - Loss 0.022060 - ACC 58.55% - ACC Mean 58.19% - AUC 62.02% - AUC Mean 61.31% - Deter 050\n",
      "Early stop ite 68, rollback to correction of ite 18, whith acc of 60.5% and auc of 63.63%\n",
      "OUR METHOD RUN 5/10 - acc: 60.5% +- 0.0% - auc: 63.63% +- 0.0%\n",
      "Ite 00000 - 1.25 sec - Loss 0.076878 - ACC 57.95% - ACC Mean 57.95% - AUC 60.05% - AUC Mean 60.05% - Deter 000\n",
      "Ite 00050 - 1.13 sec - Loss 0.016499 - ACC 57.90% - ACC Mean 57.38% - AUC 60.18% - AUC Mean 60.08% - Deter 023\n",
      "Ite 00077 - 1.00 sec - Loss 0.010556 - ACC 56.65% - ACC Mean 57.19% - AUC 59.51% - AUC Mean 60.04% - Deter 050\n",
      "Early stop ite 77, rollback to correction of ite 27, whith acc of 60.9% and auc of 64.44%\n",
      "OUR METHOD RUN 6/10 - acc: 60.9% +- 0.0% - auc: 64.44% +- 0.0%\n",
      "Ite 00000 - 1.24 sec - Loss 0.082765 - ACC 58.05% - ACC Mean 58.05% - AUC 59.98% - AUC Mean 59.98% - Deter 000\n",
      "Ite 00050 - 1.16 sec - Loss 0.024559 - ACC 58.60% - ACC Mean 57.83% - AUC 61.94% - AUC Mean 60.81% - Deter 021\n",
      "Ite 00100 - 1.10 sec - Loss 0.013132 - ACC 57.30% - ACC Mean 57.52% - AUC 60.67% - AUC Mean 60.46% - Deter 027\n",
      "Ite 00150 - 1.09 sec - Loss 0.009021 - ACC 57.25% - ACC Mean 57.45% - AUC 60.57% - AUC Mean 60.48% - Deter 028\n",
      "Ite 00200 - 1.37 sec - Loss 0.006486 - ACC 57.75% - ACC Mean 58.06% - AUC 60.25% - AUC Mean 61.07% - Deter 034\n",
      "Ite 00216 - 2.24 sec - Loss 0.005898 - ACC 57.90% - ACC Mean 58.10% - AUC 61.05% - AUC Mean 61.12% - Deter 050\n",
      "Early stop ite 216, rollback to correction of ite 166, whith acc of 60.0% and auc of 64.24%\n",
      "OUR METHOD RUN 7/10 - acc: 60.0% +- 0.0% - auc: 64.24% +- 0.0%\n",
      "Ite 00000 - 1.58 sec - Loss 0.072061 - ACC 58.85% - ACC Mean 58.85% - AUC 62.04% - AUC Mean 62.04% - Deter 000\n",
      "Ite 00050 - 2.33 sec - Loss 0.015424 - ACC 56.55% - ACC Mean 57.64% - AUC 59.50% - AUC Mean 60.54% - Deter 025\n",
      "Ite 00100 - 1.35 sec - Loss 0.007232 - ACC 57.90% - ACC Mean 58.13% - AUC 60.06% - AUC Mean 61.16% - Deter 027\n",
      "Ite 00123 - 1.66 sec - Loss 0.005803 - ACC 55.45% - ACC Mean 57.86% - AUC 58.28% - AUC Mean 60.94% - Deter 050\n",
      "Early stop ite 123, rollback to correction of ite 73, whith acc of 58.85% and auc of 63.17%\n",
      "OUR METHOD RUN 8/10 - acc: 58.85% +- 0.0% - auc: 63.17% +- 0.0%\n",
      "Ite 00000 - 2.33 sec - Loss 0.074452 - ACC 59.10% - ACC Mean 59.10% - AUC 61.87% - AUC Mean 61.87% - Deter 000\n",
      "Ite 00050 - 3.96 sec - Loss 0.020901 - ACC 56.15% - ACC Mean 57.97% - AUC 58.24% - AUC Mean 61.17% - Deter 034\n",
      "Ite 00066 - 3.06 sec - Loss 0.016110 - ACC 57.40% - ACC Mean 57.93% - AUC 60.55% - AUC Mean 61.01% - Deter 050\n",
      "Early stop ite 66, rollback to correction of ite 16, whith acc of 59.45% and auc of 63.59%\n",
      "OUR METHOD RUN 9/10 - acc: 59.45% +- 0.0% - auc: 63.59% +- 0.0%\n",
      "Ite 00000 - 3.16 sec - Loss 0.048063 - ACC 57.70% - ACC Mean 57.70% - AUC 61.60% - AUC Mean 61.60% - Deter 000\n",
      "Ite 00050 - 3.29 sec - Loss 0.015500 - ACC 56.80% - ACC Mean 57.68% - AUC 59.62% - AUC Mean 60.36% - Deter 044\n",
      "Ite 00056 - 3.22 sec - Loss 0.014051 - ACC 57.40% - ACC Mean 57.38% - AUC 60.26% - AUC Mean 60.16% - Deter 050\n",
      "Early stop ite 56, rollback to correction of ite 6, whith acc of 61.3% and auc of 65.04%\n",
      "OUR METHOD RUN 10/10 - acc: 61.3% +- 0.0% - auc: 65.04% +- 0.0%\n",
      "\n",
      "OUR METHOD GLOBAL - acc: 59.92% +- 0.74% - auc: 63.63% +- 0.74%\n"
     ]
    }
   ],
   "source": [
    "params = {\n",
    "    'nb_batches': 10,\n",
    "    'reg_noise_std': .03,\n",
    "    'net_input': 'data_corrupted',\n",
    "    'net_params': {\n",
    "        'input_channels':1,\n",
    "        'output_channels':1,\n",
    "        'channels_skip':4,\n",
    "        'down_layers':[(24, 7, 1),\n",
    "                       (46, 9, 5),\n",
    "                       (96, 11, 1),\n",
    "                       (96, 13, 1)],\n",
    "        'need_sigmoid':True,\n",
    "        'need_bias':True,\n",
    "        'pad':'zero',\n",
    "        'downsample_mode':'stride',\n",
    "        'upsample_mode':'nearest',\n",
    "        'act_fun':'LeakyReLU',\n",
    "        'need1x1_up':True\n",
    "    },# or a list containing layers sizes\n",
    "    'adam_lr': .0001,\n",
    "    'adam_weight_decay': 0.,\n",
    "}\n",
    "\n",
    "ours_accs, ours_aucs = [], []\n",
    "for i in range(n_runs):\n",
    "    ours_correction = correction.run(data_missing, 501, params, y=y, missing_mask=missing_mask, seed=i)\n",
    "    ## Since our method returns 2 imputations select the best one\n",
    "    scores_raw = utils.get_scores(ours_correction['raw_out'], y)\n",
    "    acc = scores_raw['test_balanced_accuracy']\n",
    "    auc = scores_raw['test_roc_auc_ovo']\n",
    "    acc = acc.mean()\n",
    "    acc_std = acc.std()\n",
    "    auc = auc.mean()\n",
    "    auc_std = auc.std()\n",
    "    if 'masked_out' in ours_correction:\n",
    "        scores_masked = utils.get_scores(ours_correction['masked_out'], y)\n",
    "        acc_masked = scores_masked['test_balanced_accuracy']\n",
    "        auc_masked = scores_masked['test_roc_auc_ovo']\n",
    "        if auc_masked.mean() > auc:\n",
    "            acc = acc_masked.mean()\n",
    "            acc_std = acc_masked.std()\n",
    "            auc = auc_masked.mean()\n",
    "            auc_std = auc_masked.std()\n",
    "    print(f'OUR METHOD RUN {i + 1}/{n_runs} - acc: {round(acc.mean() * 100, 2)}% +- {round(acc.std() * 100, 2)}% - ' +\n",
    "          f'auc: {round(auc.mean() * 100, 2)}% +- {round(auc.std() * 100, 2)}%')\n",
    "    ours_accs.append(acc.mean())\n",
    "    ours_aucs.append(auc.mean())\n",
    "print(f'\\nOUR METHOD GLOBAL - acc: {round(np.array(ours_accs).mean() * 100, 2)}% +- {round(np.array(ours_accs).std() * 100, 2)}% - ' +\n",
    "      f'auc: {round(np.array(ours_aucs).mean() * 100, 2)}% +- {round(np.array(ours_aucs).std() * 100, 2)}%')"
   ]
  },
  {
   "cell_type": "markdown",
   "metadata": {},
   "source": [
    "## Run MICE"
   ]
  },
  {
   "cell_type": "code",
   "execution_count": 5,
   "metadata": {
    "ExecuteTime": {
     "end_time": "2022-06-07T08:25:47.812154Z",
     "start_time": "2022-06-07T08:25:41.125881Z"
    },
    "execution": {
     "iopub.execute_input": "2022-06-07T16:43:21.252526Z",
     "iopub.status.busy": "2022-06-07T16:43:21.249907Z",
     "iopub.status.idle": "2022-06-07T16:52:04.888911Z",
     "shell.execute_reply": "2022-06-07T16:52:04.889285Z"
    }
   },
   "outputs": [
    {
     "name": "stdout",
     "output_type": "stream",
     "text": [
      "MICE - acc: 57.65% +- 0.0% - auc: 60.8% +- 0.0%\n"
     ]
    }
   ],
   "source": [
    "data_missing_nans = np.where(missing_mask, data_missing, np.nan)\n",
    "\n",
    "imputer = IterativeImputer()\n",
    "imputed = imputer.fit_transform(data_missing_nans)\n",
    "## All runs would be the same since deterministic method\n",
    "scores = utils.get_scores(imputed, y)\n",
    "acc = [scores['test_balanced_accuracy'].mean()] * n_runs\n",
    "auc = [scores['test_roc_auc_ovo'].mean()] * n_runs\n",
    "print(f'MICE - acc: {round(np.mean(acc) * 100, 2)}% +- {round(np.std(acc) * 100, 2)}% - ' +\n",
    "      f'auc: {round(np.mean(auc) * 100, 2)}% +- {round(np.std(auc) * 100, 2)}%')\n",
    "mice_accs = acc\n",
    "mice_aucs = auc"
   ]
  },
  {
   "cell_type": "markdown",
   "metadata": {},
   "source": [
    "## Run SFIL"
   ]
  },
  {
   "cell_type": "code",
   "execution_count": 6,
   "metadata": {
    "ExecuteTime": {
     "end_time": "2022-06-07T08:25:49.133209Z",
     "start_time": "2022-06-07T08:25:47.813384Z"
    },
    "execution": {
     "iopub.execute_input": "2022-06-07T16:52:04.896783Z",
     "iopub.status.busy": "2022-06-07T16:52:04.896361Z",
     "iopub.status.idle": "2022-06-07T16:52:22.387677Z",
     "shell.execute_reply": "2022-06-07T16:52:22.387247Z"
    }
   },
   "outputs": [
    {
     "name": "stdout",
     "output_type": "stream",
     "text": [
      "SFIL RUN 1/10 - acc: 51.2% +- 2.19% - auc: 51.95% +- 2.88%\n",
      "SFIL RUN 2/10 - acc: 52.5% +- 1.67% - auc: 54.18% +- 1.59%\n",
      "SFIL RUN 3/10 - acc: 50.6% +- 0.34% - auc: 52.15% +- 0.95%\n",
      "SFIL RUN 4/10 - acc: 51.2% +- 1.44% - auc: 52.57% +- 2.1%\n",
      "SFIL RUN 5/10 - acc: 52.0% +- 0.97% - auc: 53.35% +- 2.13%\n",
      "SFIL RUN 6/10 - acc: 50.45% +- 1.09% - auc: 52.59% +- 0.84%\n",
      "SFIL RUN 7/10 - acc: 51.9% +- 1.04% - auc: 52.82% +- 2.0%\n",
      "SFIL RUN 8/10 - acc: 52.15% +- 2.14% - auc: 52.83% +- 2.72%\n",
      "SFIL RUN 9/10 - acc: 52.1% +- 3.1% - auc: 52.96% +- 4.03%\n",
      "SFIL RUN 10/10 - acc: 52.05% +- 2.11% - auc: 53.12% +- 1.52%\n",
      "SFIL GLOBAL - acc: 51.61% +- 0.67% - auc: 52.85% +- 0.59%\n"
     ]
    }
   ],
   "source": [
    "sfil_accs, sfil_aucs = [], []\n",
    "for i in range(n_runs):\n",
    "    acc, auc = filtering(imputed, y, mode='standard', random_state=i)\n",
    "    sfil_accs.append(acc.mean())\n",
    "    sfil_aucs.append(auc.mean())\n",
    "    print(f'SFIL RUN {i + 1}/{n_runs} - acc: {round(np.mean(acc) * 100, 2)}% +- {round(np.std(acc) * 100, 2)}% - ' +\n",
    "          f'auc: {round(np.mean(auc) * 100, 2)}% +- {round(np.std(auc) * 100, 2)}%')\n",
    "print(f'SFIL GLOBAL - acc: {round(np.mean(sfil_accs) * 100, 2)}% +- {round(np.std(sfil_accs) * 100, 2)}% - ' +\n",
    "      f'auc: {round(np.mean(sfil_aucs) * 100, 2)}% +- {round(np.std(sfil_aucs) * 100, 2)}%')"
   ]
  },
  {
   "cell_type": "markdown",
   "metadata": {},
   "source": [
    "## Run PFIL"
   ]
  },
  {
   "cell_type": "code",
   "execution_count": 7,
   "metadata": {
    "ExecuteTime": {
     "end_time": "2022-06-07T08:35:09.194980Z",
     "start_time": "2022-06-07T08:25:49.134766Z"
    },
    "execution": {
     "iopub.execute_input": "2022-06-07T16:52:22.394091Z",
     "iopub.status.busy": "2022-06-07T16:52:22.392987Z",
     "iopub.status.idle": "2022-06-07T18:09:36.077221Z",
     "shell.execute_reply": "2022-06-07T18:09:36.078211Z"
    },
    "scrolled": false
   },
   "outputs": [
    {
     "name": "stdout",
     "output_type": "stream",
     "text": [
      "PFIL RUN 1/10 - acc: 55.65% +- 1.45% - auc: 58.69% +- 2.82%\n",
      "PFIL RUN 2/10 - acc: 55.4% +- 1.87% - auc: 58.48% +- 1.88%\n",
      "PFIL RUN 3/10 - acc: 56.6% +- 1.15% - auc: 58.44% +- 1.58%\n",
      "PFIL RUN 4/10 - acc: 53.0% +- 3.02% - auc: 55.32% +- 3.11%\n",
      "PFIL RUN 5/10 - acc: 54.75% +- 1.49% - auc: 57.04% +- 1.54%\n",
      "PFIL RUN 6/10 - acc: 56.2% +- 1.84% - auc: 58.76% +- 2.55%\n",
      "PFIL RUN 7/10 - acc: 56.3% +- 1.88% - auc: 58.54% +- 2.81%\n",
      "PFIL RUN 8/10 - acc: 58.1% +- 1.97% - auc: 59.88% +- 2.81%\n",
      "PFIL RUN 9/10 - acc: 54.15% +- 1.66% - auc: 57.14% +- 2.39%\n",
      "PFIL RUN 10/10 - acc: 54.75% +- 1.68% - auc: 57.73% +- 2.01%\n",
      "PFIL GLOBAL - acc: 55.49% +- 1.35% - auc: 58.0% +- 1.19%\n"
     ]
    }
   ],
   "source": [
    "pfil_accs, pfil_aucs = [], []\n",
    "for i in range(n_runs):\n",
    "    acc, auc = filtering(imputed, y, mode='panda', random_state=i)\n",
    "    pfil_accs.append(acc.mean())\n",
    "    pfil_aucs.append(auc.mean())\n",
    "    print(f'PFIL RUN {i + 1}/{n_runs} - acc: {round(np.mean(acc) * 100, 2)}% +- {round(np.std(acc) * 100, 2)}% - ' +\n",
    "          f'auc: {round(np.mean(auc) * 100, 2)}% +- {round(np.std(auc) * 100, 2)}%')\n",
    "print(f'PFIL GLOBAL - acc: {round(np.mean(pfil_accs) * 100, 2)}% +- {round(np.std(pfil_accs) * 100, 2)}% - ' +\n",
    "      f'auc: {round(np.mean(pfil_aucs) * 100, 2)}% +- {round(np.std(pfil_aucs) * 100, 2)}%')"
   ]
  },
  {
   "cell_type": "markdown",
   "metadata": {},
   "source": [
    "## Run SPOL"
   ]
  },
  {
   "cell_type": "code",
   "execution_count": 8,
   "metadata": {
    "ExecuteTime": {
     "end_time": "2022-06-07T08:50:33.353751Z",
     "start_time": "2022-06-07T08:49:36.684786Z"
    },
    "execution": {
     "iopub.execute_input": "2022-06-07T18:09:36.085370Z",
     "iopub.status.busy": "2022-06-07T18:09:36.084593Z",
     "iopub.status.idle": "2022-06-07T18:11:51.566795Z",
     "shell.execute_reply": "2022-06-07T18:11:51.567852Z"
    }
   },
   "outputs": [
    {
     "name": "stdout",
     "output_type": "stream",
     "text": [
      "SPOL RUN 1/10 - acc: 51.95% +- 2.03% - auc: 53.3% +- 2.34%\n",
      "SPOL RUN 2/10 - acc: 53.45% +- 0.86% - auc: 54.27% +- 1.67%\n",
      "SPOL RUN 3/10 - acc: 51.55% +- 1.35% - auc: 53.53% +- 3.18%\n",
      "SPOL RUN 4/10 - acc: 50.3% +- 2.21% - auc: 50.6% +- 2.74%\n",
      "SPOL RUN 5/10 - acc: 51.4% +- 1.71% - auc: 51.36% +- 2.76%\n",
      "SPOL RUN 6/10 - acc: 50.35% +- 2.49% - auc: 50.7% +- 3.66%\n",
      "SPOL RUN 7/10 - acc: 52.6% +- 2.3% - auc: 53.17% +- 2.46%\n",
      "SPOL RUN 8/10 - acc: 52.65% +- 1.49% - auc: 53.59% +- 2.55%\n",
      "SPOL RUN 9/10 - acc: 51.25% +- 2.61% - auc: 53.09% +- 3.23%\n",
      "SPOL RUN 10/10 - acc: 51.95% +- 1.55% - auc: 52.68% +- 2.37%\n",
      "SPOL GLOBAL - acc: 51.74% +- 0.95% - auc: 52.63% +- 1.22%\n"
     ]
    }
   ],
   "source": [
    "spol_accs, spol_aucs = [], []\n",
    "for i in range(n_runs):\n",
    "    acc, auc = polishing(imputed, y, mode='standard', random_state=i)\n",
    "    spol_accs.append(acc.mean())\n",
    "    spol_aucs.append(auc.mean())\n",
    "    print(f'SPOL RUN {i + 1}/{n_runs} - acc: {round(np.mean(acc) * 100, 2)}% +- {round(np.std(acc) * 100, 2)}% - ' +\n",
    "          f'auc: {round(np.mean(auc) * 100, 2)}% +- {round(np.std(auc) * 100, 2)}%')\n",
    "print(f'SPOL GLOBAL - acc: {round(np.mean(spol_accs) * 100, 2)}% +- {round(np.std(spol_accs) * 100, 2)}% - ' +\n",
    "      f'auc: {round(np.mean(spol_aucs) * 100, 2)}% +- {round(np.std(spol_aucs) * 100, 2)}%')"
   ]
  },
  {
   "cell_type": "markdown",
   "metadata": {},
   "source": [
    "## Run PPOL"
   ]
  },
  {
   "cell_type": "code",
   "execution_count": 9,
   "metadata": {
    "ExecuteTime": {
     "end_time": "2022-06-07T08:52:24.306737Z",
     "start_time": "2022-06-07T08:50:33.355178Z"
    },
    "execution": {
     "iopub.execute_input": "2022-06-07T18:11:51.579018Z",
     "iopub.status.busy": "2022-06-07T18:11:51.573191Z",
     "iopub.status.idle": "2022-06-07T19:31:42.747459Z",
     "shell.execute_reply": "2022-06-07T19:31:42.746384Z"
    }
   },
   "outputs": [
    {
     "name": "stdout",
     "output_type": "stream",
     "text": [
      "PPOL RUN 1/10 - acc: 58.9% +- 1.99% - auc: 60.75% +- 3.11%\n",
      "PPOL RUN 2/10 - acc: 57.15% +- 2.58% - auc: 59.1% +- 2.66%\n",
      "PPOL RUN 3/10 - acc: 56.8% +- 3.22% - auc: 59.33% +- 2.81%\n",
      "PPOL RUN 4/10 - acc: 57.55% +- 1.5% - auc: 60.34% +- 1.95%\n",
      "PPOL RUN 5/10 - acc: 57.2% +- 1.91% - auc: 61.71% +- 2.0%\n",
      "PPOL RUN 6/10 - acc: 57.75% +- 2.56% - auc: 60.5% +- 2.98%\n",
      "PPOL RUN 7/10 - acc: 58.45% +- 1.35% - auc: 61.62% +- 2.5%\n",
      "PPOL RUN 8/10 - acc: 58.6% +- 2.87% - auc: 61.61% +- 2.24%\n",
      "PPOL RUN 9/10 - acc: 57.05% +- 3.06% - auc: 60.12% +- 2.83%\n",
      "PPOL RUN 10/10 - acc: 55.75% +- 1.08% - auc: 58.96% +- 1.42%\n",
      "PPOL GLOBAL - acc: 57.52% +- 0.9% - auc: 60.4% +- 0.99%\n"
     ]
    }
   ],
   "source": [
    "ppol_accs, ppol_aucs = [], []\n",
    "for i in range(n_runs):\n",
    "    acc, auc = polishing(imputed, y, mode='panda', random_state=i)\n",
    "    ppol_accs.append(acc.mean())\n",
    "    ppol_aucs.append(auc.mean())\n",
    "    print(f'PPOL RUN {i + 1}/{n_runs} - acc: {round(np.mean(acc) * 100, 2)}% +- {round(np.std(acc) * 100, 2)}% - ' +\n",
    "          f'auc: {round(np.mean(auc) * 100, 2)}% +- {round(np.std(auc) * 100, 2)}%')\n",
    "print(f'PPOL GLOBAL - acc: {round(np.mean(ppol_accs) * 100, 2)}% +- {round(np.std(ppol_accs) * 100, 2)}% - ' +\n",
    "      f'auc: {round(np.mean(ppol_aucs) * 100, 2)}% +- {round(np.std(ppol_aucs) * 100, 2)}%')"
   ]
  },
  {
   "cell_type": "markdown",
   "metadata": {},
   "source": [
    "## Run T-tests"
   ]
  },
  {
   "cell_type": "code",
   "execution_count": 10,
   "metadata": {
    "ExecuteTime": {
     "end_time": "2022-06-07T08:52:25.983958Z",
     "start_time": "2022-06-07T08:52:25.963898Z"
    },
    "execution": {
     "iopub.execute_input": "2022-06-07T19:31:42.757749Z",
     "iopub.status.busy": "2022-06-07T19:31:42.757014Z",
     "iopub.status.idle": "2022-06-07T19:31:42.760831Z",
     "shell.execute_reply": "2022-06-07T19:31:42.761458Z"
    },
    "scrolled": false
   },
   "outputs": [
    {
     "name": "stdout",
     "output_type": "stream",
     "text": [
      "Metric ACC - OUR METHOD is significantly better than MICE\n",
      "Metric AUC - OUR METHOD is significantly better than MICE\n",
      "Metric ACC - OUR METHOD is significantly better than SFIL\n",
      "Metric AUC - OUR METHOD is significantly better than SFIL\n",
      "Metric ACC - OUR METHOD is significantly better than PFIL\n",
      "Metric AUC - OUR METHOD is significantly better than PFIL\n",
      "Metric ACC - OUR METHOD is significantly better than SPOL\n",
      "Metric AUC - OUR METHOD is significantly better than SPOL\n",
      "Metric ACC - OUR METHOD is significantly better than PPOL\n",
      "Metric AUC - OUR METHOD is significantly better than PPOL\n"
     ]
    }
   ],
   "source": [
    "for model, metrics in {\n",
    "        'MICE': {'ACC': mice_accs, 'AUC': mice_aucs},\n",
    "        'SFIL': {'ACC': sfil_accs, 'AUC': sfil_aucs},\n",
    "        'PFIL': {'ACC': pfil_accs, 'AUC': pfil_aucs},\n",
    "        'SPOL': {'ACC': spol_accs, 'AUC': spol_aucs},\n",
    "        'PPOL': {'ACC': ppol_accs, 'AUC': ppol_aucs}}.items():\n",
    "    for metric_name, metric in metrics.items():\n",
    "        ours_metric = ours_accs if metric_name == 'ACC' else ours_aucs\n",
    "        t, p = scipy.stats.ttest_ind(np.array(ours_metric), np.array(metric))\n",
    "        if p <= .05:\n",
    "            if t > 0:\n",
    "                ## Our method is better\n",
    "                print(f'Metric {metric_name} - OUR METHOD is significantly better than {model}')\n",
    "            else:\n",
    "                ## Theirs is better\n",
    "                print(f'Metric {metric_name} - OUR METHOD is significantly worse than {model}')\n",
    "        else:\n",
    "            ## Else we are even\n",
    "            print(f'Metric {metric_name} - OUR METHOD is even with {model}')"
   ]
  }
 ],
 "metadata": {
  "kernelspec": {
   "display_name": "Python 3 (ipykernel)",
   "language": "python",
   "name": "python3"
  },
  "language_info": {
   "codemirror_mode": {
    "name": "ipython",
    "version": 3
   },
   "file_extension": ".py",
   "mimetype": "text/x-python",
   "name": "python",
   "nbconvert_exporter": "python",
   "pygments_lexer": "ipython3",
   "version": "3.9.7"
  },
  "latex_envs": {
   "LaTeX_envs_menu_present": true,
   "autoclose": false,
   "autocomplete": true,
   "bibliofile": "biblio.bib",
   "cite_by": "apalike",
   "current_citInitial": 1,
   "eqLabelWithNumbers": true,
   "eqNumInitial": 1,
   "hotkeys": {
    "equation": "Ctrl-E",
    "itemize": "Ctrl-I"
   },
   "labels_anchors": false,
   "latex_user_defs": false,
   "report_style_numbering": false,
   "user_envs_cfg": false
  }
 },
 "nbformat": 4,
 "nbformat_minor": 2
}
