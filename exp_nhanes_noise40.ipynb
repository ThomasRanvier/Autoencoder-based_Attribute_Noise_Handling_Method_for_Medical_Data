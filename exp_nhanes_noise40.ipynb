{
 "cells": [
  {
   "cell_type": "code",
   "execution_count": 1,
   "metadata": {
    "ExecuteTime": {
     "end_time": "2022-06-03T07:55:07.995838Z",
     "start_time": "2022-06-03T07:55:05.179232Z"
    },
    "execution": {
     "iopub.execute_input": "2022-06-04T07:14:43.051176Z",
     "iopub.status.busy": "2022-06-04T07:14:43.050207Z",
     "iopub.status.idle": "2022-06-04T07:15:15.342338Z",
     "shell.execute_reply": "2022-06-04T07:15:15.341200Z"
    }
   },
   "outputs": [],
   "source": [
    "from __future__ import print_function\n",
    "import warnings\n",
    "warnings.filterwarnings(\"ignore\", category=UserWarning)\n",
    "warnings.filterwarnings(\"ignore\", category=FutureWarning)\n",
    "## Disable tf future deprecated messages\n",
    "import logging\n",
    "logging.getLogger('tensorflow').disabled = True\n",
    "## Disable tf CUDA messages\n",
    "import os\n",
    "os.environ['TF_CPP_MIN_LOG_LEVEL'] = '3'\n",
    "\n",
    "%matplotlib inline\n",
    "\n",
    "import sys\n",
    "import random\n",
    "import numpy as np\n",
    "import pandas as pd\n",
    "\n",
    "import utils\n",
    "import correction\n",
    "from models.dense import *\n",
    "from models.gain import gain\n",
    "from models.soft_impute import SoftImpute\n",
    "from models.sinkhorn import OTimputer\n",
    "from models.mida import mida\n",
    "\n",
    "import scipy.stats\n",
    "\n",
    "from sklearn.experimental import enable_iterative_imputer\n",
    "from sklearn.impute import IterativeImputer\n",
    "from sklearn.impute import KNNImputer, SimpleImputer\n",
    "\n",
    "import sklearn.neighbors._base\n",
    "sys.modules['sklearn.neighbors.base'] = sklearn.neighbors._base\n",
    "from missingpy import MissForest\n",
    "\n",
    "torch.backends.cudnn.enabled = True\n",
    "torch.backends.cudnn.benchmark = True\n",
    "dtype = torch.cuda.FloatTensor"
   ]
  },
  {
   "cell_type": "markdown",
   "metadata": {},
   "source": [
    "## Repeat all experiments for 10 runs"
   ]
  },
  {
   "cell_type": "code",
   "execution_count": 2,
   "metadata": {
    "ExecuteTime": {
     "end_time": "2022-06-03T07:55:08.000555Z",
     "start_time": "2022-06-03T07:55:07.997377Z"
    },
    "execution": {
     "iopub.execute_input": "2022-06-04T07:15:15.350902Z",
     "iopub.status.busy": "2022-06-04T07:15:15.350261Z",
     "iopub.status.idle": "2022-06-04T07:15:15.354826Z",
     "shell.execute_reply": "2022-06-04T07:15:15.354272Z"
    }
   },
   "outputs": [],
   "source": [
    "n_runs = 10"
   ]
  },
  {
   "cell_type": "markdown",
   "metadata": {},
   "source": [
    "## Load data"
   ]
  },
  {
   "cell_type": "code",
   "execution_count": 3,
   "metadata": {
    "ExecuteTime": {
     "end_time": "2022-06-03T07:55:08.125875Z",
     "start_time": "2022-06-03T07:55:08.002687Z"
    },
    "execution": {
     "iopub.execute_input": "2022-06-04T07:15:15.362420Z",
     "iopub.status.busy": "2022-06-04T07:15:15.361903Z",
     "iopub.status.idle": "2022-06-04T07:15:15.684609Z",
     "shell.execute_reply": "2022-06-04T07:15:15.685526Z"
    }
   },
   "outputs": [
    {
     "name": "stdout",
     "output_type": "stream",
     "text": [
      "Dataset shape: (2000, 95)\n",
      "33.65% missing data\n",
      "Class distribution: (array([1., 2.]), array([1000, 1000]))\n"
     ]
    }
   ],
   "source": [
    "data_missing, missing_mask, y = utils.load_nhanes(balanced=True)\n",
    "## Inject noise\n",
    "data_missing = utils.inject_noise(data_missing.copy(), noise_rate=.40)\n",
    "## Replace missing values locations by 0\n",
    "data_missing = data_missing * missing_mask"
   ]
  },
  {
   "cell_type": "markdown",
   "metadata": {},
   "source": [
    "## Run OUR METHOD"
   ]
  },
  {
   "cell_type": "code",
   "execution_count": 4,
   "metadata": {
    "ExecuteTime": {
     "end_time": "2022-06-03T07:56:24.490750Z",
     "start_time": "2022-06-03T07:55:08.129737Z"
    },
    "execution": {
     "iopub.execute_input": "2022-06-04T07:15:15.698578Z",
     "iopub.status.busy": "2022-06-04T07:15:15.696787Z",
     "iopub.status.idle": "2022-06-04T07:37:02.637393Z",
     "shell.execute_reply": "2022-06-04T07:37:02.637914Z"
    },
    "scrolled": false
   },
   "outputs": [
    {
     "name": "stdout",
     "output_type": "stream",
     "text": [
      "Ite 00000 - 2.45 sec - Loss 0.062100 - ACC 57.25% - ACC Mean 57.25% - AUC 60.00% - AUC Mean 60.00% - Deter 000\n",
      "Ite 00050 - 1.07 sec - Loss 0.011731 - ACC 58.00% - ACC Mean 57.88% - AUC 61.10% - AUC Mean 60.91% - Deter 015\n",
      "Ite 00085 - 0.97 sec - Loss 0.007001 - ACC 58.20% - ACC Mean 57.92% - AUC 62.41% - AUC Mean 60.93% - Deter 050\n",
      "Early stop ite 85, rollback to correction of ite 35, whith acc of 60.2% and auc of 63.57%\n",
      "OUR METHOD RUN 1/10 - acc: 60.2% +- 0.0% - auc: 63.57% +- 0.0%\n",
      "Ite 00000 - 1.07 sec - Loss 0.125068 - ACC 59.50% - ACC Mean 59.50% - AUC 63.05% - AUC Mean 63.05% - Deter 000\n",
      "Ite 00050 - 1.07 sec - Loss 0.045111 - ACC 57.60% - ACC Mean 58.06% - AUC 60.30% - AUC Mean 61.21% - Deter 025\n",
      "Ite 00075 - 1.07 sec - Loss 0.032905 - ACC 56.40% - ACC Mean 57.62% - AUC 59.92% - AUC Mean 61.02% - Deter 050\n",
      "Early stop ite 75, rollback to correction of ite 25, whith acc of 59.95% and auc of 63.37%\n",
      "OUR METHOD RUN 2/10 - acc: 59.95% +- 0.0% - auc: 63.37% +- 0.0%\n",
      "Ite 00000 - 1.09 sec - Loss 0.078081 - ACC 57.25% - ACC Mean 57.25% - AUC 59.47% - AUC Mean 59.47% - Deter 000\n",
      "Ite 00050 - 1.03 sec - Loss 0.021954 - ACC 57.45% - ACC Mean 57.87% - AUC 60.52% - AUC Mean 60.96% - Deter 006\n",
      "Ite 00100 - 1.09 sec - Loss 0.010830 - ACC 56.90% - ACC Mean 57.87% - AUC 60.31% - AUC Mean 61.16% - Deter 015\n",
      "Ite 00135 - 1.10 sec - Loss 0.007865 - ACC 58.75% - ACC Mean 57.74% - AUC 61.70% - AUC Mean 61.12% - Deter 050\n",
      "Early stop ite 135, rollback to correction of ite 85, whith acc of 60.3% and auc of 63.77%\n",
      "OUR METHOD RUN 3/10 - acc: 60.3% +- 0.0% - auc: 63.77% +- 0.0%\n",
      "Ite 00000 - 1.06 sec - Loss 0.072684 - ACC 58.65% - ACC Mean 58.65% - AUC 61.11% - AUC Mean 61.11% - Deter 000\n",
      "Ite 00050 - 1.07 sec - Loss 0.017980 - ACC 57.40% - ACC Mean 58.02% - AUC 59.35% - AUC Mean 60.92% - Deter 045\n",
      "Ite 00055 - 1.06 sec - Loss 0.016475 - ACC 58.10% - ACC Mean 58.02% - AUC 59.57% - AUC Mean 60.93% - Deter 050\n",
      "Early stop ite 55, rollback to correction of ite 5, whith acc of 59.55% and auc of 63.24%\n",
      "OUR METHOD RUN 4/10 - acc: 59.55% +- 0.0% - auc: 63.24% +- 0.0%\n",
      "Ite 00000 - 1.11 sec - Loss 0.091030 - ACC 57.70% - ACC Mean 57.70% - AUC 61.18% - AUC Mean 61.18% - Deter 000\n",
      "Ite 00050 - 1.07 sec - Loss 0.034750 - ACC 60.80% - ACC Mean 58.21% - AUC 64.90% - AUC Mean 61.53% - Deter 000\n",
      "Ite 00100 - 1.08 sec - Loss 0.017922 - ACC 57.30% - ACC Mean 58.14% - AUC 60.93% - AUC Mean 61.40% - Deter 050\n",
      "Early stop ite 100, rollback to correction of ite 50, whith acc of 60.8% and auc of 64.9%\n",
      "OUR METHOD RUN 5/10 - acc: 60.8% +- 0.0% - auc: 64.9% +- 0.0%\n",
      "Ite 00000 - 1.13 sec - Loss 0.080321 - ACC 57.70% - ACC Mean 57.70% - AUC 60.76% - AUC Mean 60.76% - Deter 000\n",
      "Ite 00050 - 1.00 sec - Loss 0.018751 - ACC 56.60% - ACC Mean 57.88% - AUC 60.11% - AUC Mean 60.90% - Deter 004\n",
      "Ite 00100 - 0.98 sec - Loss 0.009401 - ACC 59.40% - ACC Mean 58.12% - AUC 63.00% - AUC Mean 61.31% - Deter 044\n",
      "Ite 00106 - 1.01 sec - Loss 0.008810 - ACC 58.25% - ACC Mean 58.17% - AUC 61.64% - AUC Mean 61.39% - Deter 050\n",
      "Early stop ite 106, rollback to correction of ite 56, whith acc of 60.25% and auc of 64.05%\n",
      "OUR METHOD RUN 6/10 - acc: 60.25% +- 0.0% - auc: 64.05% +- 0.0%\n",
      "Ite 00000 - 1.04 sec - Loss 0.091076 - ACC 58.25% - ACC Mean 58.25% - AUC 61.24% - AUC Mean 61.24% - Deter 000\n",
      "Ite 00050 - 1.11 sec - Loss 0.028911 - ACC 59.50% - ACC Mean 58.19% - AUC 61.84% - AUC Mean 61.34% - Deter 046\n",
      "Ite 00054 - 1.24 sec - Loss 0.027222 - ACC 59.50% - ACC Mean 58.23% - AUC 62.53% - AUC Mean 61.40% - Deter 050\n",
      "Early stop ite 54, rollback to correction of ite 4, whith acc of 59.75% and auc of 63.25%\n",
      "OUR METHOD RUN 7/10 - acc: 59.75% +- 0.0% - auc: 63.25% +- 0.0%\n",
      "Ite 00000 - 1.32 sec - Loss 0.075216 - ACC 56.70% - ACC Mean 56.70% - AUC 59.42% - AUC Mean 59.42% - Deter 000\n",
      "Ite 00050 - 1.11 sec - Loss 0.017522 - ACC 58.40% - ACC Mean 57.90% - AUC 60.54% - AUC Mean 60.93% - Deter 023\n",
      "Ite 00100 - 1.00 sec - Loss 0.008612 - ACC 58.00% - ACC Mean 58.11% - AUC 61.64% - AUC Mean 61.08% - Deter 034\n",
      "Ite 00116 - 1.20 sec - Loss 0.007374 - ACC 58.75% - ACC Mean 58.17% - AUC 62.01% - AUC Mean 61.25% - Deter 050\n",
      "Early stop ite 116, rollback to correction of ite 66, whith acc of 62.55% and auc of 65.6%\n",
      "OUR METHOD RUN 8/10 - acc: 62.55% +- 0.0% - auc: 65.6% +- 0.0%\n",
      "Ite 00000 - 1.10 sec - Loss 0.079528 - ACC 58.15% - ACC Mean 58.15% - AUC 60.07% - AUC Mean 60.07% - Deter 000\n",
      "Ite 00050 - 1.28 sec - Loss 0.023642 - ACC 58.15% - ACC Mean 57.91% - AUC 61.43% - AUC Mean 61.08% - Deter 008\n",
      "Ite 00100 - 1.34 sec - Loss 0.012658 - ACC 60.70% - ACC Mean 58.76% - AUC 64.59% - AUC Mean 62.05% - Deter 000\n",
      "Ite 00150 - 1.27 sec - Loss 0.008211 - ACC 58.35% - ACC Mean 58.82% - AUC 61.95% - AUC Mean 62.32% - Deter 050\n",
      "Early stop ite 150, rollback to correction of ite 100, whith acc of 60.7% and auc of 64.59%\n",
      "OUR METHOD RUN 9/10 - acc: 60.7% +- 0.0% - auc: 64.59% +- 0.0%\n",
      "Ite 00000 - 1.31 sec - Loss 0.055320 - ACC 56.30% - ACC Mean 56.30% - AUC 60.02% - AUC Mean 60.02% - Deter 000\n",
      "Ite 00050 - 1.47 sec - Loss 0.019450 - ACC 57.20% - ACC Mean 58.38% - AUC 60.18% - AUC Mean 61.41% - Deter 007\n",
      "Ite 00100 - 1.63 sec - Loss 0.010925 - ACC 61.30% - ACC Mean 58.73% - AUC 64.54% - AUC Mean 62.12% - Deter 000\n",
      "Ite 00150 - 1.65 sec - Loss 0.006957 - ACC 58.90% - ACC Mean 59.28% - AUC 63.49% - AUC Mean 62.69% - Deter 008\n",
      "Ite 00192 - 3.95 sec - Loss 0.004941 - ACC 59.35% - ACC Mean 59.27% - AUC 62.91% - AUC Mean 62.67% - Deter 050\n",
      "Early stop ite 192, rollback to correction of ite 142, whith acc of 61.4% and auc of 66.27%\n",
      "OUR METHOD RUN 10/10 - acc: 61.4% +- 0.0% - auc: 66.27% +- 0.0%\n",
      "\n",
      "OUR METHOD GLOBAL - acc: 60.54% +- 0.84% - auc: 64.26% +- 1.0%\n"
     ]
    }
   ],
   "source": [
    "params = {\n",
    "    'nb_batches': 10,\n",
    "    'reg_noise_std': .03,\n",
    "    'net_input': 'data_corrupted',\n",
    "    'net_params': {\n",
    "        'input_channels':1,\n",
    "        'output_channels':1,\n",
    "        'channels_skip':4,\n",
    "        'down_layers':[(24, 7, 1),\n",
    "                       (46, 9, 5),\n",
    "                       (96, 11, 1),\n",
    "                       (96, 13, 1)],\n",
    "        'need_sigmoid':True,\n",
    "        'need_bias':True,\n",
    "        'pad':'zero',\n",
    "        'downsample_mode':'stride',\n",
    "        'upsample_mode':'nearest',\n",
    "        'act_fun':'LeakyReLU',\n",
    "        'need1x1_up':True\n",
    "    },# or a list containing layers sizes\n",
    "    'adam_lr': .0001,\n",
    "    'adam_weight_decay': 0.,\n",
    "}\n",
    "\n",
    "ours_accs, ours_aucs = [], []\n",
    "for i in range(n_runs):\n",
    "    ours_correction = correction.run(data_missing, 501, params, y=y, missing_mask=missing_mask, seed=i)\n",
    "    ## Since our method returns 2 imputations select the best one\n",
    "    scores_raw = utils.get_scores(ours_correction['raw_out'], y)\n",
    "    acc = scores_raw['test_balanced_accuracy']\n",
    "    auc = scores_raw['test_roc_auc_ovo']\n",
    "    acc = acc.mean()\n",
    "    acc_std = acc.std()\n",
    "    auc = auc.mean()\n",
    "    auc_std = auc.std()\n",
    "    if 'masked_out' in ours_correction:\n",
    "        scores_masked = utils.get_scores(ours_correction['masked_out'], y)\n",
    "        acc_masked = scores_masked['test_balanced_accuracy']\n",
    "        auc_masked = scores_masked['test_roc_auc_ovo']\n",
    "        if auc_masked.mean() > auc:\n",
    "            acc = acc_masked.mean()\n",
    "            acc_std = acc_masked.std()\n",
    "            auc = auc_masked.mean()\n",
    "            auc_std = auc_masked.std()\n",
    "    print(f'OUR METHOD RUN {i + 1}/{n_runs} - acc: {round(acc.mean() * 100, 2)}% +- {round(acc.std() * 100, 2)}% - ' +\n",
    "          f'auc: {round(auc.mean() * 100, 2)}% +- {round(auc.std() * 100, 2)}%')\n",
    "    ours_accs.append(acc.mean())\n",
    "    ours_aucs.append(auc.mean())\n",
    "print(f'\\nOUR METHOD GLOBAL - acc: {round(np.array(ours_accs).mean() * 100, 2)}% +- {round(np.array(ours_accs).std() * 100, 2)}% - ' +\n",
    "      f'auc: {round(np.array(ours_aucs).mean() * 100, 2)}% +- {round(np.array(ours_aucs).std() * 100, 2)}%')"
   ]
  },
  {
   "cell_type": "markdown",
   "metadata": {},
   "source": [
    "## Run Median, Mean and KNN"
   ]
  },
  {
   "cell_type": "code",
   "execution_count": 5,
   "metadata": {
    "ExecuteTime": {
     "end_time": "2022-06-03T07:56:26.974392Z",
     "start_time": "2022-06-03T07:56:24.492926Z"
    },
    "execution": {
     "iopub.execute_input": "2022-06-04T07:37:02.648385Z",
     "iopub.status.busy": "2022-06-04T07:37:02.646833Z",
     "iopub.status.idle": "2022-06-04T07:37:09.865699Z",
     "shell.execute_reply": "2022-06-04T07:37:09.866079Z"
    }
   },
   "outputs": [
    {
     "name": "stdout",
     "output_type": "stream",
     "text": [
      "MEDIAN - acc: 59.1% +- 0.0% - auc: 61.8% +- 0.0%\n",
      "MEAN - acc: 58.35% +- 0.0% - auc: 62.16% +- 0.0%\n",
      "KNN - acc: 55.5% +- 0.0% - auc: 58.43% +- 0.0%\n"
     ]
    }
   ],
   "source": [
    "data_missing_nans = np.where(missing_mask, data_missing, np.nan)\n",
    "\n",
    "median_imputer = SimpleImputer(missing_values=np.nan, strategy='median')\n",
    "mean_imputer = SimpleImputer(missing_values=np.nan, strategy='mean')\n",
    "knn_imputer = KNNImputer(n_neighbors=10, weights='uniform')\n",
    "\n",
    "median_completed = median_imputer.fit_transform(data_missing_nans)\n",
    "mean_completed = mean_imputer.fit_transform(data_missing_nans)\n",
    "knn_completed = knn_imputer.fit_transform(data_missing_nans)\n",
    "\n",
    "## All runs would be the same since deterministic methods\n",
    "scores = utils.get_scores(median_completed, y)\n",
    "acc = [scores['test_balanced_accuracy'].mean()] * n_runs\n",
    "auc = [scores['test_roc_auc_ovo'].mean()] * n_runs\n",
    "print(f'MEDIAN - acc: {round(np.mean(acc) * 100, 2)}% +- {round(np.std(acc) * 100, 2)}% - ' +\n",
    "      f'auc: {round(np.mean(auc) * 100, 2)}% +- {round(np.std(auc) * 100, 2)}%')\n",
    "median_accs = acc\n",
    "median_aucs = auc\n",
    "\n",
    "scores = utils.get_scores(mean_completed, y)\n",
    "acc = [scores['test_balanced_accuracy'].mean()] * n_runs\n",
    "auc = [scores['test_roc_auc_ovo'].mean()] * n_runs\n",
    "print(f'MEAN - acc: {round(np.mean(acc) * 100, 2)}% +- {round(np.std(acc) * 100, 2)}% - ' +\n",
    "      f'auc: {round(np.mean(auc) * 100, 2)}% +- {round(np.std(auc) * 100, 2)}%')\n",
    "mean_accs = acc\n",
    "mean_aucs = auc\n",
    "\n",
    "scores = utils.get_scores(knn_completed, y)\n",
    "acc = [scores['test_balanced_accuracy'].mean()] * n_runs\n",
    "auc = [scores['test_roc_auc_ovo'].mean()] * n_runs\n",
    "print(f'KNN - acc: {round(np.mean(acc) * 100, 2)}% +- {round(np.std(acc) * 100, 2)}% - ' +\n",
    "      f'auc: {round(np.mean(auc) * 100, 2)}% +- {round(np.std(auc) * 100, 2)}%')\n",
    "knn_accs = acc\n",
    "knn_aucs = auc"
   ]
  },
  {
   "cell_type": "markdown",
   "metadata": {},
   "source": [
    "## Run GAIN"
   ]
  },
  {
   "cell_type": "code",
   "execution_count": 6,
   "metadata": {
    "ExecuteTime": {
     "end_time": "2022-06-03T07:57:05.045589Z",
     "start_time": "2022-06-03T07:56:26.976166Z"
    },
    "execution": {
     "iopub.execute_input": "2022-06-04T07:37:09.871180Z",
     "iopub.status.busy": "2022-06-04T07:37:09.869006Z",
     "iopub.status.idle": "2022-06-04T07:44:19.146119Z",
     "shell.execute_reply": "2022-06-04T07:44:19.146485Z"
    },
    "scrolled": false
   },
   "outputs": [
    {
     "name": "stderr",
     "output_type": "stream",
     "text": [
      "100%|██████████| 5000/5000 [00:41<00:00, 119.26it/s]\n"
     ]
    },
    {
     "name": "stdout",
     "output_type": "stream",
     "text": [
      "\n",
      "GAIN RUN 1/10 - acc: 58.45% +- 3.3% - auc: 61.98% +- 3.46%\n",
      "\n"
     ]
    },
    {
     "name": "stderr",
     "output_type": "stream",
     "text": [
      "100%|██████████| 5000/5000 [00:39<00:00, 127.39it/s]\n"
     ]
    },
    {
     "name": "stdout",
     "output_type": "stream",
     "text": [
      "\n",
      "GAIN RUN 2/10 - acc: 59.2% +- 1.86% - auc: 63.26% +- 1.33%\n",
      "\n"
     ]
    },
    {
     "name": "stderr",
     "output_type": "stream",
     "text": [
      "100%|██████████| 5000/5000 [00:39<00:00, 125.26it/s]\n"
     ]
    },
    {
     "name": "stdout",
     "output_type": "stream",
     "text": [
      "\n",
      "GAIN RUN 3/10 - acc: 58.7% +- 3.29% - auc: 62.73% +- 2.85%\n",
      "\n"
     ]
    },
    {
     "name": "stderr",
     "output_type": "stream",
     "text": [
      "100%|██████████| 5000/5000 [00:38<00:00, 129.04it/s]\n"
     ]
    },
    {
     "name": "stdout",
     "output_type": "stream",
     "text": [
      "\n",
      "GAIN RUN 4/10 - acc: 60.25% +- 2.73% - auc: 64.53% +- 2.45%\n",
      "\n"
     ]
    },
    {
     "name": "stderr",
     "output_type": "stream",
     "text": [
      "100%|██████████| 5000/5000 [00:41<00:00, 121.93it/s]\n"
     ]
    },
    {
     "name": "stdout",
     "output_type": "stream",
     "text": [
      "\n",
      "GAIN RUN 5/10 - acc: 59.4% +- 3.34% - auc: 62.8% +- 3.73%\n",
      "\n"
     ]
    },
    {
     "name": "stderr",
     "output_type": "stream",
     "text": [
      "100%|██████████| 5000/5000 [00:36<00:00, 136.09it/s]\n"
     ]
    },
    {
     "name": "stdout",
     "output_type": "stream",
     "text": [
      "\n",
      "GAIN RUN 6/10 - acc: 58.25% +- 3.41% - auc: 61.34% +- 3.71%\n",
      "\n"
     ]
    },
    {
     "name": "stderr",
     "output_type": "stream",
     "text": [
      "100%|██████████| 5000/5000 [00:39<00:00, 127.52it/s]\n"
     ]
    },
    {
     "name": "stdout",
     "output_type": "stream",
     "text": [
      "\n",
      "GAIN RUN 7/10 - acc: 59.75% +- 2.32% - auc: 64.34% +- 3.85%\n",
      "\n"
     ]
    },
    {
     "name": "stderr",
     "output_type": "stream",
     "text": [
      "100%|██████████| 5000/5000 [00:43<00:00, 114.23it/s]\n"
     ]
    },
    {
     "name": "stdout",
     "output_type": "stream",
     "text": [
      "\n",
      "GAIN RUN 8/10 - acc: 58.9% +- 1.32% - auc: 61.48% +- 1.57%\n",
      "\n"
     ]
    },
    {
     "name": "stderr",
     "output_type": "stream",
     "text": [
      "100%|██████████| 5000/5000 [00:40<00:00, 123.15it/s]\n"
     ]
    },
    {
     "name": "stdout",
     "output_type": "stream",
     "text": [
      "\n",
      "GAIN RUN 9/10 - acc: 59.2% +- 2.3% - auc: 62.31% +- 2.65%\n",
      "\n"
     ]
    },
    {
     "name": "stderr",
     "output_type": "stream",
     "text": [
      "100%|██████████| 5000/5000 [00:42<00:00, 118.41it/s]\n"
     ]
    },
    {
     "name": "stdout",
     "output_type": "stream",
     "text": [
      "\n",
      "GAIN RUN 10/10 - acc: 57.9% +- 2.0% - auc: 61.74% +- 2.26%\n",
      "\n",
      "GAIN GLOBAL - acc: 59.0% +- 0.67% - auc: 62.65% +- 1.06%\n"
     ]
    }
   ],
   "source": [
    "gain_parameters = {'batch_size': 128,\n",
    "                   'hint_rate': .9,\n",
    "                   'alpha': 100,\n",
    "                   'iterations': 5000}\n",
    "\n",
    "gain_accs, gain_aucs = [], []\n",
    "for i in range(n_runs):\n",
    "    random.seed(i)\n",
    "    np.random.seed(i)\n",
    "    torch.manual_seed(i)\n",
    "    imputed = gain(data_missing_nans, gain_parameters)\n",
    "    scores = utils.get_scores(imputed, y)\n",
    "    acc = scores['test_balanced_accuracy']\n",
    "    auc = scores['test_roc_auc_ovo']\n",
    "    print(f'\\nGAIN RUN {i + 1}/{n_runs} - acc: {round(acc.mean() * 100, 2)}% +- {round(acc.std() * 100, 2)}% - ' +\n",
    "          f'auc: {round(auc.mean() * 100, 2)}% +- {round(auc.std() * 100, 2)}%\\n')\n",
    "    gain_accs.append(acc.mean())\n",
    "    gain_aucs.append(auc.mean())\n",
    "print(f'GAIN GLOBAL - acc: {round(np.array(gain_accs).mean() * 100, 2)}% +- {round(np.array(gain_accs).std() * 100, 2)}% - ' +\n",
    "      f'auc: {round(np.array(gain_aucs).mean() * 100, 2)}% +- {round(np.array(gain_aucs).std() * 100, 2)}%')"
   ]
  },
  {
   "cell_type": "markdown",
   "metadata": {},
   "source": [
    "## Run MICE"
   ]
  },
  {
   "cell_type": "code",
   "execution_count": 7,
   "metadata": {
    "ExecuteTime": {
     "end_time": "2022-06-03T08:05:36.625097Z",
     "start_time": "2022-06-03T07:57:05.047941Z"
    },
    "execution": {
     "iopub.execute_input": "2022-06-04T07:44:19.151377Z",
     "iopub.status.busy": "2022-06-04T07:44:19.150932Z",
     "iopub.status.idle": "2022-06-04T07:51:59.249271Z",
     "shell.execute_reply": "2022-06-04T07:51:59.249637Z"
    }
   },
   "outputs": [
    {
     "name": "stdout",
     "output_type": "stream",
     "text": [
      "MICE - acc: 57.6% +- 0.0% - auc: 61.31% +- 0.0%\n"
     ]
    }
   ],
   "source": [
    "imputer = IterativeImputer()\n",
    "imputed = imputer.fit_transform(data_missing_nans)\n",
    "## All runs would be the same since deterministic method\n",
    "scores = utils.get_scores(imputed, y)\n",
    "acc = [scores['test_balanced_accuracy'].mean()] * n_runs\n",
    "auc = [scores['test_roc_auc_ovo'].mean()] * n_runs\n",
    "print(f'MICE - acc: {round(np.mean(acc) * 100, 2)}% +- {round(np.std(acc) * 100, 2)}% - ' +\n",
    "      f'auc: {round(np.mean(auc) * 100, 2)}% +- {round(np.std(auc) * 100, 2)}%')\n",
    "mice_accs = acc\n",
    "mice_aucs = auc"
   ]
  },
  {
   "cell_type": "markdown",
   "metadata": {},
   "source": [
    "## Run MISSFOREST"
   ]
  },
  {
   "cell_type": "code",
   "execution_count": 8,
   "metadata": {
    "ExecuteTime": {
     "end_time": "2022-06-03T08:13:22.668185Z",
     "start_time": "2022-06-03T08:05:36.627849Z"
    },
    "execution": {
     "iopub.execute_input": "2022-06-04T07:51:59.260390Z",
     "iopub.status.busy": "2022-06-04T07:51:59.251979Z",
     "iopub.status.idle": "2022-06-04T08:25:42.998316Z",
     "shell.execute_reply": "2022-06-04T08:25:42.998712Z"
    },
    "scrolled": false
   },
   "outputs": [
    {
     "name": "stdout",
     "output_type": "stream",
     "text": [
      "Iteration: 0\n",
      "Iteration: 1\n",
      "\n",
      "MISSFOREST RUN 1/10 - acc: 57.9% +- 2.13% - auc: 60.63% +- 3.17%\n",
      "\n",
      "Iteration: 0\n",
      "Iteration: 1\n",
      "\n",
      "MISSFOREST RUN 2/10 - acc: 56.45% +- 1.41% - auc: 59.14% +- 0.67%\n",
      "\n",
      "Iteration: 0\n",
      "Iteration: 1\n",
      "\n",
      "MISSFOREST RUN 3/10 - acc: 57.05% +- 2.37% - auc: 59.54% +- 2.26%\n",
      "\n",
      "Iteration: 0\n",
      "Iteration: 1\n",
      "\n",
      "MISSFOREST RUN 4/10 - acc: 55.5% +- 2.62% - auc: 58.26% +- 2.6%\n",
      "\n",
      "Iteration: 0\n",
      "Iteration: 1\n",
      "\n",
      "MISSFOREST RUN 5/10 - acc: 57.6% +- 2.87% - auc: 61.13% +- 3.24%\n",
      "\n",
      "Iteration: 0\n",
      "Iteration: 1\n",
      "\n",
      "MISSFOREST RUN 6/10 - acc: 56.65% +- 2.41% - auc: 59.8% +- 3.14%\n",
      "\n",
      "Iteration: 0\n",
      "Iteration: 1\n",
      "\n",
      "MISSFOREST RUN 7/10 - acc: 56.6% +- 2.39% - auc: 60.61% +- 2.52%\n",
      "\n",
      "Iteration: 0\n",
      "Iteration: 1\n",
      "\n",
      "MISSFOREST RUN 8/10 - acc: 59.4% +- 2.19% - auc: 62.53% +- 2.64%\n",
      "\n",
      "Iteration: 0\n",
      "Iteration: 1\n",
      "\n",
      "MISSFOREST RUN 9/10 - acc: 56.6% +- 4.5% - auc: 60.23% +- 4.04%\n",
      "\n",
      "Iteration: 0\n",
      "Iteration: 1\n",
      "\n",
      "MISSFOREST RUN 10/10 - acc: 57.95% +- 2.83% - auc: 60.4% +- 3.17%\n",
      "\n",
      "\n",
      "MISSFOREST GLOBAL - acc: 57.17% +- 1.03% - auc: 60.23% +- 1.1%\n"
     ]
    }
   ],
   "source": [
    "miss_accs, miss_aucs = [], []\n",
    "for i in range(n_runs):\n",
    "    random.seed(i)\n",
    "    np.random.seed(i)\n",
    "    torch.manual_seed(i)\n",
    "    imputer = MissForest(n_jobs=-1, random_state=i)\n",
    "    imputed = imputer.fit_transform(data_missing_nans)\n",
    "    scores = utils.get_scores(imputed, y)\n",
    "    acc = scores['test_balanced_accuracy']\n",
    "    auc = scores['test_roc_auc_ovo']\n",
    "    print(f'\\nMISSFOREST RUN {i + 1}/{n_runs} - acc: {round(acc.mean() * 100, 2)}% +- {round(acc.std() * 100, 2)}% - ' +\n",
    "          f'auc: {round(auc.mean() * 100, 2)}% +- {round(auc.std() * 100, 2)}%\\n')\n",
    "    miss_accs.append(acc.mean())\n",
    "    miss_aucs.append(auc.mean())\n",
    "print(f'\\nMISSFOREST GLOBAL - acc: {round(np.array(miss_accs).mean() * 100, 2)}% +- {round(np.array(miss_accs).std() * 100, 2)}% - ' +\n",
    "      f'auc: {round(np.array(miss_aucs).mean() * 100, 2)}% +- {round(np.array(miss_aucs).std() * 100, 2)}%')"
   ]
  },
  {
   "cell_type": "markdown",
   "metadata": {},
   "source": [
    "## Run SOFTIMPUTE"
   ]
  },
  {
   "cell_type": "code",
   "execution_count": 9,
   "metadata": {
    "ExecuteTime": {
     "end_time": "2022-06-03T08:13:24.127459Z",
     "start_time": "2022-06-03T08:13:22.670807Z"
    },
    "execution": {
     "iopub.execute_input": "2022-06-04T08:25:43.010754Z",
     "iopub.status.busy": "2022-06-04T08:25:43.010081Z",
     "iopub.status.idle": "2022-06-04T08:25:50.279848Z",
     "shell.execute_reply": "2022-06-04T08:25:50.279448Z"
    }
   },
   "outputs": [
    {
     "name": "stdout",
     "output_type": "stream",
     "text": [
      "SOFTIMPUTE RUN 1/10 - acc: 58.0% +- 2.06% - auc: 60.43% +- 2.1%\n",
      "SOFTIMPUTE RUN 2/10 - acc: 57.0% +- 2.59% - auc: 60.96% +- 2.69%\n",
      "SOFTIMPUTE RUN 3/10 - acc: 57.7% +- 1.48% - auc: 61.82% +- 2.98%\n",
      "SOFTIMPUTE RUN 4/10 - acc: 59.7% +- 1.82% - auc: 61.62% +- 2.95%\n",
      "SOFTIMPUTE RUN 5/10 - acc: 58.95% +- 2.67% - auc: 61.81% +- 2.49%\n",
      "SOFTIMPUTE RUN 6/10 - acc: 57.65% +- 2.14% - auc: 61.3% +- 3.74%\n",
      "SOFTIMPUTE RUN 7/10 - acc: 59.3% +- 2.69% - auc: 62.69% +- 4.15%\n",
      "SOFTIMPUTE RUN 8/10 - acc: 58.0% +- 3.04% - auc: 61.02% +- 4.62%\n",
      "SOFTIMPUTE RUN 9/10 - acc: 58.9% +- 2.49% - auc: 61.88% +- 2.68%\n",
      "SOFTIMPUTE RUN 10/10 - acc: 58.05% +- 3.31% - auc: 60.32% +- 4.92%\n",
      "\n",
      "SOFTIMPUTE GLOBAL - acc: 58.32% +- 0.8% - auc: 61.39% +- 0.69%\n"
     ]
    }
   ],
   "source": [
    "soft_accs, soft_aucs = [], []\n",
    "for i in range(n_runs):\n",
    "    random.seed(i)\n",
    "    np.random.seed(i)\n",
    "    torch.manual_seed(i)\n",
    "    imputer = SoftImpute(random_state=i)\n",
    "    imputer.fit(data_missing_nans)\n",
    "    imputed = imputer.predict(data_missing_nans)\n",
    "    imputed = np.where(missing_mask, data_missing, imputed)\n",
    "    scores = utils.get_scores(imputed, y)\n",
    "    acc = scores['test_balanced_accuracy']\n",
    "    auc = scores['test_roc_auc_ovo']\n",
    "    print(f'SOFTIMPUTE RUN {i + 1}/{n_runs} - acc: {round(acc.mean() * 100, 2)}% +- {round(acc.std() * 100, 2)}% - ' +\n",
    "          f'auc: {round(auc.mean() * 100, 2)}% +- {round(auc.std() * 100, 2)}%')\n",
    "    soft_accs.append(acc.mean())\n",
    "    soft_aucs.append(auc.mean())\n",
    "print(f'\\nSOFTIMPUTE GLOBAL - acc: {round(np.array(soft_accs).mean() * 100, 2)}% +- {round(np.array(soft_accs).std() * 100, 2)}% - ' +\n",
    "      f'auc: {round(np.array(soft_aucs).mean() * 100, 2)}% +- {round(np.array(soft_aucs).std() * 100, 2)}%')"
   ]
  },
  {
   "cell_type": "markdown",
   "metadata": {},
   "source": [
    "## Run SINKHORN"
   ]
  },
  {
   "cell_type": "code",
   "execution_count": 10,
   "metadata": {
    "execution": {
     "iopub.execute_input": "2022-06-04T08:25:50.289549Z",
     "iopub.status.busy": "2022-06-04T08:25:50.289104Z",
     "iopub.status.idle": "2022-06-04T08:33:03.820493Z",
     "shell.execute_reply": "2022-06-04T08:33:03.820051Z"
    }
   },
   "outputs": [
    {
     "name": "stdout",
     "output_type": "stream",
     "text": [
      "batchsize = 128, epsilon = 0.0100\n",
      "Iteration 0:\t Loss: 3.4972\n",
      "\n",
      "SINKHORN RUN 1/10 - acc: 57.1% +- 2.12% - auc: 59.16% +- 3.81%\n",
      "\n",
      "batchsize = 128, epsilon = 0.0100\n",
      "Iteration 0:\t Loss: 3.5331\n",
      "\n",
      "SINKHORN RUN 2/10 - acc: 56.45% +- 1.54% - auc: 58.47% +- 1.94%\n",
      "\n",
      "batchsize = 128, epsilon = 0.0100\n",
      "Iteration 0:\t Loss: 3.4364\n",
      "\n",
      "SINKHORN RUN 3/10 - acc: 55.55% +- 2.98% - auc: 58.17% +- 2.57%\n",
      "\n",
      "batchsize = 128, epsilon = 0.0100\n",
      "Iteration 0:\t Loss: 3.7518\n",
      "\n",
      "SINKHORN RUN 4/10 - acc: 55.55% +- 2.33% - auc: 58.36% +- 1.77%\n",
      "\n",
      "batchsize = 128, epsilon = 0.0100\n",
      "Iteration 0:\t Loss: 3.6296\n",
      "\n",
      "SINKHORN RUN 5/10 - acc: 56.65% +- 2.12% - auc: 59.89% +- 1.88%\n",
      "\n",
      "batchsize = 128, epsilon = 0.0100\n",
      "Iteration 0:\t Loss: 3.5641\n",
      "\n",
      "SINKHORN RUN 6/10 - acc: 57.45% +- 1.88% - auc: 60.88% +- 1.55%\n",
      "\n",
      "batchsize = 128, epsilon = 0.0100\n",
      "Iteration 0:\t Loss: 3.4576\n",
      "\n",
      "SINKHORN RUN 7/10 - acc: 59.25% +- 1.8% - auc: 62.48% +- 2.86%\n",
      "\n",
      "batchsize = 128, epsilon = 0.0100\n",
      "Iteration 0:\t Loss: 3.6611\n",
      "\n",
      "SINKHORN RUN 8/10 - acc: 58.25% +- 0.69% - auc: 61.93% +- 1.45%\n",
      "\n",
      "batchsize = 128, epsilon = 0.0100\n",
      "Iteration 0:\t Loss: 3.5863\n",
      "\n",
      "SINKHORN RUN 9/10 - acc: 55.35% +- 2.94% - auc: 58.09% +- 2.24%\n",
      "\n",
      "batchsize = 128, epsilon = 0.0100\n",
      "Iteration 0:\t Loss: 3.5466\n",
      "\n",
      "SINKHORN RUN 10/10 - acc: 58.4% +- 0.85% - auc: 60.4% +- 1.71%\n",
      "\n",
      "\n",
      "SINKHORN GLOBAL - acc: 57.0% +- 1.27% - auc: 59.78% +- 1.52%\n"
     ]
    }
   ],
   "source": [
    "sink_accs, sink_aucs = [], []\n",
    "for i in range(n_runs):\n",
    "    random.seed(i)\n",
    "    np.random.seed(i)\n",
    "    torch.manual_seed(i)\n",
    "    imputer = OTimputer(niter=500)\n",
    "    imputed = imputer.fit_transform(data_missing_nans).cpu().detach().numpy()\n",
    "    scores = utils.get_scores(imputed, y)\n",
    "    acc = scores['test_balanced_accuracy']\n",
    "    auc = scores['test_roc_auc_ovo']\n",
    "    print(f'\\nSINKHORN RUN {i + 1}/{n_runs} - acc: {round(acc.mean() * 100, 2)}% +- {round(acc.std() * 100, 2)}% - ' +\n",
    "          f'auc: {round(auc.mean() * 100, 2)}% +- {round(auc.std() * 100, 2)}%\\n')\n",
    "    sink_accs.append(acc.mean())\n",
    "    sink_aucs.append(auc.mean())\n",
    "print(f'\\nSINKHORN GLOBAL - acc: {round(np.array(sink_accs).mean() * 100, 2)}% +- {round(np.array(sink_accs).std() * 100, 2)}% - ' +\n",
    "      f'auc: {round(np.array(sink_aucs).mean() * 100, 2)}% +- {round(np.array(sink_aucs).std() * 100, 2)}%')"
   ]
  },
  {
   "cell_type": "markdown",
   "metadata": {},
   "source": [
    "## Run MIDA"
   ]
  },
  {
   "cell_type": "code",
   "execution_count": 11,
   "metadata": {
    "execution": {
     "iopub.execute_input": "2022-06-04T08:33:03.827884Z",
     "iopub.status.busy": "2022-06-04T08:33:03.827405Z",
     "iopub.status.idle": "2022-06-04T08:36:44.409697Z",
     "shell.execute_reply": "2022-06-04T08:36:44.410033Z"
    }
   },
   "outputs": [
    {
     "name": "stdout",
     "output_type": "stream",
     "text": [
      "Stop training at epoch: 1500/1500, return best output\n",
      "\n",
      "MIDA RUN 1/10 - acc: 58.75% +- 4.02% - auc: 61.99% +- 4.26%\n",
      "\n",
      "Stop training at epoch: 1500/1500, return best output\n",
      "\n",
      "MIDA RUN 2/10 - acc: 56.7% +- 3.01% - auc: 59.65% +- 3.01%\n",
      "\n",
      "Stop training at epoch: 1500/1500, return best output\n",
      "\n",
      "MIDA RUN 3/10 - acc: 58.3% +- 1.32% - auc: 60.83% +- 1.53%\n",
      "\n",
      "Stop training at epoch: 1500/1500, return best output\n",
      "\n",
      "MIDA RUN 4/10 - acc: 59.15% +- 1.7% - auc: 62.19% +- 2.53%\n",
      "\n",
      "Stop training at epoch: 1500/1500, return best output\n",
      "\n",
      "MIDA RUN 5/10 - acc: 56.85% +- 1.82% - auc: 58.78% +- 1.53%\n",
      "\n",
      "Stop training at epoch: 1500/1500, return best output\n",
      "\n",
      "MIDA RUN 6/10 - acc: 58.8% +- 2.83% - auc: 61.78% +- 3.02%\n",
      "\n",
      "Stop training at epoch: 1500/1500, return best output\n",
      "\n",
      "MIDA RUN 7/10 - acc: 57.35% +- 4.01% - auc: 60.93% +- 3.66%\n",
      "\n",
      "Stop training at epoch: 1500/1500, return best output\n",
      "\n",
      "MIDA RUN 8/10 - acc: 57.95% +- 1.76% - auc: 60.54% +- 2.57%\n",
      "\n",
      "Stop training at epoch: 1500/1500, return best output\n",
      "\n",
      "MIDA RUN 9/10 - acc: 56.4% +- 3.11% - auc: 59.82% +- 3.06%\n",
      "\n",
      "Stop training at epoch: 1500/1500, return best output\n",
      "\n",
      "MIDA RUN 10/10 - acc: 57.55% +- 1.65% - auc: 60.83% +- 1.73%\n",
      "\n",
      "\n",
      "MIDA GLOBAL - acc: 57.78% +- 0.91% - auc: 60.73% +- 1.04%\n"
     ]
    }
   ],
   "source": [
    "mida_accs, mida_aucs = [], []\n",
    "for i in range(n_runs):\n",
    "    random.seed(i)\n",
    "    np.random.seed(i)\n",
    "    torch.manual_seed(i)\n",
    "    imputed = mida(data_missing_nans, num_layers=2, num_epochs=1500)\n",
    "    imputed = np.where(missing_mask, data_missing, imputed)\n",
    "    scores = utils.get_scores(imputed, y)\n",
    "    acc = scores['test_balanced_accuracy']\n",
    "    auc = scores['test_roc_auc_ovo']\n",
    "    print(f'\\nMIDA RUN {i + 1}/{n_runs} - acc: {round(acc.mean() * 100, 2)}% +- {round(acc.std() * 100, 2)}% - ' +\n",
    "          f'auc: {round(auc.mean() * 100, 2)}% +- {round(auc.std() * 100, 2)}%\\n')\n",
    "    mida_accs.append(acc.mean())\n",
    "    mida_aucs.append(auc.mean())\n",
    "print(f'\\nMIDA GLOBAL - acc: {round(np.array(mida_accs).mean() * 100, 2)}% +- {round(np.array(mida_accs).std() * 100, 2)}% - ' +\n",
    "      f'auc: {round(np.array(mida_aucs).mean() * 100, 2)}% +- {round(np.array(mida_aucs).std() * 100, 2)}%')"
   ]
  },
  {
   "cell_type": "markdown",
   "metadata": {},
   "source": [
    "## Run T-tests"
   ]
  },
  {
   "cell_type": "code",
   "execution_count": 12,
   "metadata": {
    "ExecuteTime": {
     "end_time": "2022-06-03T08:13:24.155174Z",
     "start_time": "2022-06-03T08:13:24.143959Z"
    },
    "execution": {
     "iopub.execute_input": "2022-06-04T08:36:44.423885Z",
     "iopub.status.busy": "2022-06-04T08:36:44.422566Z",
     "iopub.status.idle": "2022-06-04T08:36:44.432306Z",
     "shell.execute_reply": "2022-06-04T08:36:44.432672Z"
    }
   },
   "outputs": [
    {
     "name": "stdout",
     "output_type": "stream",
     "text": [
      "Metric ACC - OUR METHOD is significantly better than MEDIAN\n",
      "Metric AUC - OUR METHOD is significantly better than MEDIAN\n",
      "Metric ACC - OUR METHOD is significantly better than MEAN\n",
      "Metric AUC - OUR METHOD is significantly better than MEAN\n",
      "Metric ACC - OUR METHOD is significantly better than KNN\n",
      "Metric AUC - OUR METHOD is significantly better than KNN\n",
      "Metric ACC - OUR METHOD is significantly better than GAIN\n",
      "Metric AUC - OUR METHOD is significantly better than GAIN\n",
      "Metric ACC - OUR METHOD is significantly better than MICE\n",
      "Metric AUC - OUR METHOD is significantly better than MICE\n",
      "Metric ACC - OUR METHOD is significantly better than MISS\n",
      "Metric AUC - OUR METHOD is significantly better than MISS\n",
      "Metric ACC - OUR METHOD is significantly better than SOFT\n",
      "Metric AUC - OUR METHOD is significantly better than SOFT\n",
      "Metric ACC - OUR METHOD is significantly better than SINK\n",
      "Metric AUC - OUR METHOD is significantly better than SINK\n",
      "Metric ACC - OUR METHOD is significantly better than MIDA\n",
      "Metric AUC - OUR METHOD is significantly better than MIDA\n"
     ]
    }
   ],
   "source": [
    "for model, metrics in {\n",
    "        'MEDIAN': {'ACC': median_accs, 'AUC': median_aucs},\n",
    "        'MEAN': {'ACC': mean_accs, 'AUC': mean_aucs},\n",
    "        'KNN': {'ACC': knn_accs, 'AUC': knn_aucs},\n",
    "        'GAIN': {'ACC': gain_accs, 'AUC': gain_aucs},\n",
    "        'MICE': {'ACC': mice_accs, 'AUC': mice_aucs},\n",
    "        'MISS': {'ACC': miss_accs, 'AUC': miss_aucs},\n",
    "        'SOFT': {'ACC': soft_accs, 'AUC': soft_aucs},\n",
    "        'SINK': {'ACC': sink_accs, 'AUC': sink_aucs},\n",
    "        'MIDA': {'ACC': mida_accs, 'AUC': mida_aucs}}.items():\n",
    "    for metric_name, metric in metrics.items():\n",
    "        ours_metric = ours_accs if metric_name == 'ACC' else ours_aucs\n",
    "        t, p = scipy.stats.ttest_ind(np.array(ours_metric), np.array(metric))\n",
    "        if p <= .05:\n",
    "            if t > 0:\n",
    "                ## Our method is better\n",
    "                print(f'Metric {metric_name} - OUR METHOD is significantly better than {model}')\n",
    "            else:\n",
    "                ## Theirs is better\n",
    "                print(f'Metric {metric_name} - OUR METHOD is significantly worse than {model}')\n",
    "        else:\n",
    "            ## Else we are even\n",
    "            print(f'Metric {metric_name} - OUR METHOD is even with {model}')"
   ]
  }
 ],
 "metadata": {
  "kernelspec": {
   "display_name": "Python 3 (ipykernel)",
   "language": "python",
   "name": "python3"
  },
  "language_info": {
   "codemirror_mode": {
    "name": "ipython",
    "version": 3
   },
   "file_extension": ".py",
   "mimetype": "text/x-python",
   "name": "python",
   "nbconvert_exporter": "python",
   "pygments_lexer": "ipython3",
   "version": "3.9.7"
  },
  "latex_envs": {
   "LaTeX_envs_menu_present": true,
   "autoclose": false,
   "autocomplete": true,
   "bibliofile": "biblio.bib",
   "cite_by": "apalike",
   "current_citInitial": 1,
   "eqLabelWithNumbers": true,
   "eqNumInitial": 1,
   "hotkeys": {
    "equation": "Ctrl-E",
    "itemize": "Ctrl-I"
   },
   "labels_anchors": false,
   "latex_user_defs": false,
   "report_style_numbering": false,
   "user_envs_cfg": false
  }
 },
 "nbformat": 4,
 "nbformat_minor": 2
}
