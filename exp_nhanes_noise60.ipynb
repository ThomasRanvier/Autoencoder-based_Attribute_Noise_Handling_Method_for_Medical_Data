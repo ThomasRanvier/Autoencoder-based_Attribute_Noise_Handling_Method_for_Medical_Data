{
 "cells": [
  {
   "cell_type": "code",
   "execution_count": 1,
   "metadata": {
    "ExecuteTime": {
     "end_time": "2022-06-03T07:55:07.995838Z",
     "start_time": "2022-06-03T07:55:05.179232Z"
    },
    "execution": {
     "iopub.execute_input": "2022-06-03T15:29:46.849587Z",
     "iopub.status.busy": "2022-06-03T15:29:46.848624Z",
     "iopub.status.idle": "2022-06-03T15:29:50.209341Z",
     "shell.execute_reply": "2022-06-03T15:29:50.208833Z"
    }
   },
   "outputs": [],
   "source": [
    "from __future__ import print_function\n",
    "import warnings\n",
    "warnings.filterwarnings(\"ignore\", category=UserWarning)\n",
    "warnings.filterwarnings(\"ignore\", category=FutureWarning)\n",
    "## Disable tf future deprecated messages\n",
    "import logging\n",
    "logging.getLogger('tensorflow').disabled = True\n",
    "## Disable tf CUDA messages\n",
    "import os\n",
    "os.environ['TF_CPP_MIN_LOG_LEVEL'] = '3'\n",
    "\n",
    "%matplotlib inline\n",
    "\n",
    "import sys\n",
    "import random\n",
    "import numpy as np\n",
    "import pandas as pd\n",
    "\n",
    "import utils\n",
    "import correction\n",
    "from models.dense import *\n",
    "from models.gain import gain\n",
    "from models.soft_impute import SoftImpute\n",
    "from models.sinkhorn import OTimputer\n",
    "from models.mida import mida\n",
    "\n",
    "import scipy.stats\n",
    "\n",
    "from sklearn.experimental import enable_iterative_imputer\n",
    "from sklearn.impute import IterativeImputer\n",
    "from sklearn.impute import KNNImputer, SimpleImputer\n",
    "\n",
    "import sklearn.neighbors._base\n",
    "sys.modules['sklearn.neighbors.base'] = sklearn.neighbors._base\n",
    "from missingpy import MissForest\n",
    "\n",
    "torch.backends.cudnn.enabled = True\n",
    "torch.backends.cudnn.benchmark = True\n",
    "dtype = torch.cuda.FloatTensor"
   ]
  },
  {
   "cell_type": "markdown",
   "metadata": {},
   "source": [
    "## Repeat all experiments for 10 runs"
   ]
  },
  {
   "cell_type": "code",
   "execution_count": 2,
   "metadata": {
    "ExecuteTime": {
     "end_time": "2022-06-03T07:55:08.000555Z",
     "start_time": "2022-06-03T07:55:07.997377Z"
    },
    "execution": {
     "iopub.execute_input": "2022-06-03T15:29:50.213240Z",
     "iopub.status.busy": "2022-06-03T15:29:50.212739Z",
     "iopub.status.idle": "2022-06-03T15:29:50.214787Z",
     "shell.execute_reply": "2022-06-03T15:29:50.214442Z"
    }
   },
   "outputs": [],
   "source": [
    "n_runs = 10"
   ]
  },
  {
   "cell_type": "markdown",
   "metadata": {},
   "source": [
    "## Load data"
   ]
  },
  {
   "cell_type": "code",
   "execution_count": 3,
   "metadata": {
    "ExecuteTime": {
     "end_time": "2022-06-03T07:55:08.125875Z",
     "start_time": "2022-06-03T07:55:08.002687Z"
    },
    "execution": {
     "iopub.execute_input": "2022-06-03T15:29:50.218671Z",
     "iopub.status.busy": "2022-06-03T15:29:50.218164Z",
     "iopub.status.idle": "2022-06-03T15:29:50.351952Z",
     "shell.execute_reply": "2022-06-03T15:29:50.352288Z"
    }
   },
   "outputs": [
    {
     "name": "stdout",
     "output_type": "stream",
     "text": [
      "Dataset shape: (2000, 95)\n",
      "33.65% missing data\n",
      "Class distribution: (array([1., 2.]), array([1000, 1000]))\n"
     ]
    }
   ],
   "source": [
    "data_missing, missing_mask, y = utils.load_nhanes(balanced=True)\n",
    "## Inject noise\n",
    "data_missing = utils.inject_noise(data_missing.copy(), noise_rate=.60)\n",
    "## Replace missing values locations by 0\n",
    "data_missing = data_missing * missing_mask"
   ]
  },
  {
   "cell_type": "markdown",
   "metadata": {},
   "source": [
    "## Run OUR METHOD"
   ]
  },
  {
   "cell_type": "code",
   "execution_count": 4,
   "metadata": {
    "ExecuteTime": {
     "end_time": "2022-06-03T07:56:24.490750Z",
     "start_time": "2022-06-03T07:55:08.129737Z"
    },
    "execution": {
     "iopub.execute_input": "2022-06-03T15:29:50.361500Z",
     "iopub.status.busy": "2022-06-03T15:29:50.361006Z",
     "iopub.status.idle": "2022-06-03T15:58:59.088554Z",
     "shell.execute_reply": "2022-06-03T15:58:59.089620Z"
    },
    "scrolled": false
   },
   "outputs": [
    {
     "name": "stdout",
     "output_type": "stream",
     "text": [
      "Ite 00000 - 5.31 sec - Loss 0.063312 - ACC 57.05% - ACC Mean 57.05% - AUC 59.01% - AUC Mean 59.01% - Deter 000\n",
      "Ite 00050 - 1.30 sec - Loss 0.011089 - ACC 56.75% - ACC Mean 56.74% - AUC 58.61% - AUC Mean 59.60% - Deter 024\n",
      "Ite 00100 - 1.32 sec - Loss 0.005408 - ACC 55.95% - ACC Mean 57.47% - AUC 59.01% - AUC Mean 60.29% - Deter 019\n",
      "Ite 00131 - 1.11 sec - Loss 0.004104 - ACC 57.25% - ACC Mean 57.53% - AUC 60.42% - AUC Mean 60.17% - Deter 050\n",
      "Early stop ite 131, rollback to correction of ite 81, whith acc of 59.5% and auc of 62.55%\n",
      "OUR METHOD RUN 1/10 - acc: 59.5% +- 0.0% - auc: 62.55% +- 0.0%\n",
      "Ite 00000 - 1.06 sec - Loss 0.113753 - ACC 57.70% - ACC Mean 57.70% - AUC 61.20% - AUC Mean 61.20% - Deter 000\n",
      "Ite 00050 - 1.17 sec - Loss 0.038747 - ACC 55.30% - ACC Mean 58.01% - AUC 59.01% - AUC Mean 61.06% - Deter 044\n",
      "Ite 00056 - 1.13 sec - Loss 0.035359 - ACC 58.60% - ACC Mean 57.97% - AUC 61.27% - AUC Mean 60.95% - Deter 050\n",
      "Early stop ite 56, rollback to correction of ite 6, whith acc of 59.9% and auc of 63.72%\n",
      "OUR METHOD RUN 2/10 - acc: 59.9% +- 0.0% - auc: 63.72% +- 0.0%\n",
      "Ite 00000 - 1.10 sec - Loss 0.075313 - ACC 58.75% - ACC Mean 58.75% - AUC 61.86% - AUC Mean 61.86% - Deter 000\n",
      "Ite 00050 - 1.14 sec - Loss 0.020106 - ACC 57.35% - ACC Mean 57.71% - AUC 61.44% - AUC Mean 60.54% - Deter 006\n",
      "Ite 00100 - 1.15 sec - Loss 0.009044 - ACC 56.60% - ACC Mean 58.16% - AUC 59.21% - AUC Mean 61.03% - Deter 015\n",
      "Ite 00135 - 1.06 sec - Loss 0.006311 - ACC 56.65% - ACC Mean 57.41% - AUC 59.09% - AUC Mean 60.23% - Deter 050\n",
      "Early stop ite 135, rollback to correction of ite 85, whith acc of 60.75% and auc of 63.86%\n",
      "OUR METHOD RUN 3/10 - acc: 60.75% +- 0.0% - auc: 63.86% +- 0.0%\n",
      "Ite 00000 - 1.33 sec - Loss 0.069195 - ACC 57.90% - ACC Mean 57.90% - AUC 61.58% - AUC Mean 61.58% - Deter 000\n",
      "Ite 00050 - 1.07 sec - Loss 0.016043 - ACC 58.15% - ACC Mean 57.86% - AUC 61.27% - AUC Mean 60.59% - Deter 021\n",
      "Ite 00079 - 1.18 sec - Loss 0.009970 - ACC 56.40% - ACC Mean 57.67% - AUC 59.18% - AUC Mean 60.25% - Deter 050\n",
      "Early stop ite 79, rollback to correction of ite 29, whith acc of 60.05% and auc of 63.5%\n",
      "OUR METHOD RUN 4/10 - acc: 60.05% +- 0.0% - auc: 63.5% +- 0.0%\n",
      "Ite 00000 - 1.25 sec - Loss 0.081338 - ACC 58.45% - ACC Mean 58.45% - AUC 62.01% - AUC Mean 62.01% - Deter 000\n",
      "Ite 00050 - 1.06 sec - Loss 0.030450 - ACC 56.75% - ACC Mean 58.15% - AUC 59.20% - AUC Mean 61.16% - Deter 023\n",
      "Ite 00077 - 1.24 sec - Loss 0.019104 - ACC 57.00% - ACC Mean 58.08% - AUC 59.23% - AUC Mean 61.03% - Deter 050\n",
      "Early stop ite 77, rollback to correction of ite 27, whith acc of 59.45% and auc of 63.34%\n",
      "OUR METHOD RUN 5/10 - acc: 59.45% +- 0.0% - auc: 63.34% +- 0.0%\n",
      "Ite 00000 - 1.16 sec - Loss 0.076878 - ACC 57.95% - ACC Mean 57.95% - AUC 60.05% - AUC Mean 60.05% - Deter 000\n",
      "Ite 00050 - 1.45 sec - Loss 0.016500 - ACC 59.30% - ACC Mean 57.66% - AUC 60.56% - AUC Mean 60.36% - Deter 033\n",
      "Ite 00100 - 1.36 sec - Loss 0.007927 - ACC 56.30% - ACC Mean 57.24% - AUC 59.06% - AUC Mean 59.91% - Deter 049\n",
      "Ite 00101 - 1.27 sec - Loss 0.007832 - ACC 56.80% - ACC Mean 57.17% - AUC 59.41% - AUC Mean 59.83% - Deter 050\n",
      "Early stop ite 101, rollback to correction of ite 51, whith acc of 60.05% and auc of 63.3%\n",
      "OUR METHOD RUN 6/10 - acc: 60.05% +- 0.0% - auc: 63.3% +- 0.0%\n",
      "Ite 00000 - 1.41 sec - Loss 0.082765 - ACC 58.05% - ACC Mean 58.05% - AUC 59.98% - AUC Mean 59.98% - Deter 000\n",
      "Ite 00050 - 1.12 sec - Loss 0.024561 - ACC 56.65% - ACC Mean 57.83% - AUC 59.25% - AUC Mean 60.75% - Deter 001\n",
      "Ite 00099 - 1.38 sec - Loss 0.013247 - ACC 58.75% - ACC Mean 57.37% - AUC 62.09% - AUC Mean 60.41% - Deter 050\n",
      "Early stop ite 99, rollback to correction of ite 49, whith acc of 59.9% and auc of 63.49%\n",
      "OUR METHOD RUN 7/10 - acc: 59.9% +- 0.0% - auc: 63.49% +- 0.0%\n",
      "Ite 00000 - 1.50 sec - Loss 0.072061 - ACC 58.85% - ACC Mean 58.85% - AUC 62.04% - AUC Mean 62.04% - Deter 000\n",
      "Ite 00050 - 1.51 sec - Loss 0.015419 - ACC 56.75% - ACC Mean 57.93% - AUC 58.62% - AUC Mean 60.85% - Deter 004\n",
      "Ite 00100 - 1.91 sec - Loss 0.007231 - ACC 57.05% - ACC Mean 58.10% - AUC 59.56% - AUC Mean 61.20% - Deter 031\n",
      "Ite 00119 - 1.86 sec - Loss 0.006012 - ACC 57.05% - ACC Mean 57.87% - AUC 59.29% - AUC Mean 60.90% - Deter 050\n",
      "Early stop ite 119, rollback to correction of ite 69, whith acc of 59.95% and auc of 63.91%\n",
      "OUR METHOD RUN 8/10 - acc: 59.95% +- 0.0% - auc: 63.91% +- 0.0%\n",
      "Ite 00000 - 1.86 sec - Loss 0.074452 - ACC 59.10% - ACC Mean 59.10% - AUC 61.87% - AUC Mean 61.87% - Deter 000\n",
      "Ite 00050 - 2.57 sec - Loss 0.020902 - ACC 56.85% - ACC Mean 58.28% - AUC 59.23% - AUC Mean 61.40% - Deter 030\n",
      "Ite 00070 - 4.38 sec - Loss 0.015208 - ACC 56.05% - ACC Mean 57.95% - AUC 59.51% - AUC Mean 60.90% - Deter 050\n",
      "Early stop ite 70, rollback to correction of ite 20, whith acc of 60.85% and auc of 64.45%\n",
      "OUR METHOD RUN 9/10 - acc: 60.85% +- 0.0% - auc: 64.45% +- 0.0%\n",
      "Ite 00000 - 5.96 sec - Loss 0.048063 - ACC 57.70% - ACC Mean 57.70% - AUC 61.60% - AUC Mean 61.60% - Deter 000\n",
      "Ite 00050 - 11.25 sec - Loss 0.015499 - ACC 58.75% - ACC Mean 57.56% - AUC 61.65% - AUC Mean 60.16% - Deter 044\n",
      "Ite 00056 - 8.16 sec - Loss 0.014051 - ACC 58.10% - ACC Mean 57.33% - AUC 61.15% - AUC Mean 60.00% - Deter 050\n",
      "Early stop ite 56, rollback to correction of ite 6, whith acc of 61.05% and auc of 64.35%\n",
      "OUR METHOD RUN 10/10 - acc: 61.05% +- 0.0% - auc: 64.35% +- 0.0%\n",
      "\n",
      "OUR METHOD GLOBAL - acc: 60.14% +- 0.53% - auc: 63.65% +- 0.52%\n"
     ]
    }
   ],
   "source": [
    "params = {\n",
    "    'nb_batches': 10,\n",
    "    'reg_noise_std': .03,\n",
    "    'net_input': 'data_corrupted',\n",
    "    'net_params': {\n",
    "        'input_channels':1,\n",
    "        'output_channels':1,\n",
    "        'channels_skip':4,\n",
    "        'down_layers':[(24, 7, 1),\n",
    "                       (46, 9, 5),\n",
    "                       (96, 11, 1),\n",
    "                       (96, 13, 1)],\n",
    "        'need_sigmoid':True,\n",
    "        'need_bias':True,\n",
    "        'pad':'zero',\n",
    "        'downsample_mode':'stride',\n",
    "        'upsample_mode':'nearest',\n",
    "        'act_fun':'LeakyReLU',\n",
    "        'need1x1_up':True\n",
    "    },# or a list containing layers sizes\n",
    "    'adam_lr': .0001,\n",
    "    'adam_weight_decay': 0.,\n",
    "}\n",
    "\n",
    "ours_accs, ours_aucs = [], []\n",
    "for i in range(n_runs):\n",
    "    ours_correction = correction.run(data_missing, 501, params, y=y, missing_mask=missing_mask, seed=i)\n",
    "    ## Since our method returns 2 imputations select the best one\n",
    "    scores_raw = utils.get_scores(ours_correction['raw_out'], y)\n",
    "    acc = scores_raw['test_balanced_accuracy']\n",
    "    auc = scores_raw['test_roc_auc_ovo']\n",
    "    acc = acc.mean()\n",
    "    acc_std = acc.std()\n",
    "    auc = auc.mean()\n",
    "    auc_std = auc.std()\n",
    "    if 'masked_out' in ours_correction:\n",
    "        scores_masked = utils.get_scores(ours_correction['masked_out'], y)\n",
    "        acc_masked = scores_masked['test_balanced_accuracy']\n",
    "        auc_masked = scores_masked['test_roc_auc_ovo']\n",
    "        if auc_masked.mean() > auc:\n",
    "            acc = acc_masked.mean()\n",
    "            acc_std = acc_masked.std()\n",
    "            auc = auc_masked.mean()\n",
    "            auc_std = auc_masked.std()\n",
    "    print(f'OUR METHOD RUN {i + 1}/{n_runs} - acc: {round(acc.mean() * 100, 2)}% +- {round(acc.std() * 100, 2)}% - ' +\n",
    "          f'auc: {round(auc.mean() * 100, 2)}% +- {round(auc.std() * 100, 2)}%')\n",
    "    ours_accs.append(acc.mean())\n",
    "    ours_aucs.append(auc.mean())\n",
    "print(f'\\nOUR METHOD GLOBAL - acc: {round(np.array(ours_accs).mean() * 100, 2)}% +- {round(np.array(ours_accs).std() * 100, 2)}% - ' +\n",
    "      f'auc: {round(np.array(ours_aucs).mean() * 100, 2)}% +- {round(np.array(ours_aucs).std() * 100, 2)}%')"
   ]
  },
  {
   "cell_type": "markdown",
   "metadata": {},
   "source": [
    "## Run Median, Mean and KNN"
   ]
  },
  {
   "cell_type": "code",
   "execution_count": 5,
   "metadata": {
    "ExecuteTime": {
     "end_time": "2022-06-03T07:56:26.974392Z",
     "start_time": "2022-06-03T07:56:24.492926Z"
    },
    "execution": {
     "iopub.execute_input": "2022-06-03T15:58:59.103326Z",
     "iopub.status.busy": "2022-06-03T15:58:59.102750Z",
     "iopub.status.idle": "2022-06-03T15:59:26.197830Z",
     "shell.execute_reply": "2022-06-03T15:59:26.198478Z"
    }
   },
   "outputs": [
    {
     "name": "stdout",
     "output_type": "stream",
     "text": [
      "MEDIAN - acc: 60.45% +- 0.0% - auc: 63.55% +- 0.0%\n",
      "MEAN - acc: 60.1% +- 0.0% - auc: 63.08% +- 0.0%\n",
      "KNN - acc: 57.05% +- 0.0% - auc: 58.81% +- 0.0%\n"
     ]
    }
   ],
   "source": [
    "data_missing_nans = np.where(missing_mask, data_missing, np.nan)\n",
    "\n",
    "median_imputer = SimpleImputer(missing_values=np.nan, strategy='median')\n",
    "mean_imputer = SimpleImputer(missing_values=np.nan, strategy='mean')\n",
    "knn_imputer = KNNImputer(n_neighbors=10, weights='uniform')\n",
    "\n",
    "median_completed = median_imputer.fit_transform(data_missing_nans)\n",
    "mean_completed = mean_imputer.fit_transform(data_missing_nans)\n",
    "knn_completed = knn_imputer.fit_transform(data_missing_nans)\n",
    "\n",
    "## All runs would be the same since deterministic methods\n",
    "scores = utils.get_scores(median_completed, y)\n",
    "acc = [scores['test_balanced_accuracy'].mean()] * n_runs\n",
    "auc = [scores['test_roc_auc_ovo'].mean()] * n_runs\n",
    "print(f'MEDIAN - acc: {round(np.mean(acc) * 100, 2)}% +- {round(np.std(acc) * 100, 2)}% - ' +\n",
    "      f'auc: {round(np.mean(auc) * 100, 2)}% +- {round(np.std(auc) * 100, 2)}%')\n",
    "median_accs = acc\n",
    "median_aucs = auc\n",
    "\n",
    "scores = utils.get_scores(mean_completed, y)\n",
    "acc = [scores['test_balanced_accuracy'].mean()] * n_runs\n",
    "auc = [scores['test_roc_auc_ovo'].mean()] * n_runs\n",
    "print(f'MEAN - acc: {round(np.mean(acc) * 100, 2)}% +- {round(np.std(acc) * 100, 2)}% - ' +\n",
    "      f'auc: {round(np.mean(auc) * 100, 2)}% +- {round(np.std(auc) * 100, 2)}%')\n",
    "mean_accs = acc\n",
    "mean_aucs = auc\n",
    "\n",
    "scores = utils.get_scores(knn_completed, y)\n",
    "acc = [scores['test_balanced_accuracy'].mean()] * n_runs\n",
    "auc = [scores['test_roc_auc_ovo'].mean()] * n_runs\n",
    "print(f'KNN - acc: {round(np.mean(acc) * 100, 2)}% +- {round(np.std(acc) * 100, 2)}% - ' +\n",
    "      f'auc: {round(np.mean(auc) * 100, 2)}% +- {round(np.std(auc) * 100, 2)}%')\n",
    "knn_accs = acc\n",
    "knn_aucs = auc"
   ]
  },
  {
   "cell_type": "markdown",
   "metadata": {},
   "source": [
    "## Run GAIN"
   ]
  },
  {
   "cell_type": "code",
   "execution_count": 6,
   "metadata": {
    "ExecuteTime": {
     "end_time": "2022-06-03T07:57:05.045589Z",
     "start_time": "2022-06-03T07:56:26.976166Z"
    },
    "execution": {
     "iopub.execute_input": "2022-06-03T15:59:26.210824Z",
     "iopub.status.busy": "2022-06-03T15:59:26.209804Z",
     "iopub.status.idle": "2022-06-03T16:13:17.554355Z",
     "shell.execute_reply": "2022-06-03T16:13:17.555666Z"
    },
    "scrolled": false
   },
   "outputs": [
    {
     "name": "stderr",
     "output_type": "stream",
     "text": [
      "100%|██████████| 5000/5000 [01:04<00:00, 77.72it/s]\n"
     ]
    },
    {
     "name": "stdout",
     "output_type": "stream",
     "text": [
      "\n",
      "GAIN RUN 1/10 - acc: 56.75% +- 2.2% - auc: 59.53% +- 2.3%\n",
      "\n"
     ]
    },
    {
     "name": "stderr",
     "output_type": "stream",
     "text": [
      "100%|██████████| 5000/5000 [01:12<00:00, 69.40it/s]\n"
     ]
    },
    {
     "name": "stdout",
     "output_type": "stream",
     "text": [
      "\n",
      "GAIN RUN 2/10 - acc: 57.95% +- 0.91% - auc: 60.6% +- 1.05%\n",
      "\n"
     ]
    },
    {
     "name": "stderr",
     "output_type": "stream",
     "text": [
      "100%|██████████| 5000/5000 [01:10<00:00, 71.22it/s]\n"
     ]
    },
    {
     "name": "stdout",
     "output_type": "stream",
     "text": [
      "\n",
      "GAIN RUN 3/10 - acc: 57.6% +- 1.26% - auc: 60.83% +- 2.12%\n",
      "\n"
     ]
    },
    {
     "name": "stderr",
     "output_type": "stream",
     "text": [
      "100%|██████████| 5000/5000 [01:15<00:00, 66.33it/s]\n"
     ]
    },
    {
     "name": "stdout",
     "output_type": "stream",
     "text": [
      "\n",
      "GAIN RUN 4/10 - acc: 57.95% +- 1.9% - auc: 60.83% +- 1.88%\n",
      "\n"
     ]
    },
    {
     "name": "stderr",
     "output_type": "stream",
     "text": [
      "100%|██████████| 5000/5000 [01:13<00:00, 67.76it/s]\n"
     ]
    },
    {
     "name": "stdout",
     "output_type": "stream",
     "text": [
      "\n",
      "GAIN RUN 5/10 - acc: 58.6% +- 2.13% - auc: 61.74% +- 1.49%\n",
      "\n"
     ]
    },
    {
     "name": "stderr",
     "output_type": "stream",
     "text": [
      "100%|██████████| 5000/5000 [01:12<00:00, 68.77it/s]\n"
     ]
    },
    {
     "name": "stdout",
     "output_type": "stream",
     "text": [
      "\n",
      "GAIN RUN 6/10 - acc: 56.5% +- 2.26% - auc: 59.44% +- 3.65%\n",
      "\n"
     ]
    },
    {
     "name": "stderr",
     "output_type": "stream",
     "text": [
      "100%|██████████| 5000/5000 [01:13<00:00, 68.08it/s]\n"
     ]
    },
    {
     "name": "stdout",
     "output_type": "stream",
     "text": [
      "\n",
      "GAIN RUN 7/10 - acc: 57.6% +- 1.46% - auc: 60.11% +- 1.51%\n",
      "\n"
     ]
    },
    {
     "name": "stderr",
     "output_type": "stream",
     "text": [
      "100%|██████████| 5000/5000 [01:07<00:00, 73.92it/s] \n"
     ]
    },
    {
     "name": "stdout",
     "output_type": "stream",
     "text": [
      "\n",
      "GAIN RUN 8/10 - acc: 57.2% +- 4.16% - auc: 60.29% +- 4.14%\n",
      "\n"
     ]
    },
    {
     "name": "stderr",
     "output_type": "stream",
     "text": [
      "100%|██████████| 5000/5000 [01:15<00:00, 65.93it/s]\n"
     ]
    },
    {
     "name": "stdout",
     "output_type": "stream",
     "text": [
      "\n",
      "GAIN RUN 9/10 - acc: 56.55% +- 2.2% - auc: 60.21% +- 3.48%\n",
      "\n"
     ]
    },
    {
     "name": "stderr",
     "output_type": "stream",
     "text": [
      "100%|██████████| 5000/5000 [01:07<00:00, 74.17it/s]\n"
     ]
    },
    {
     "name": "stdout",
     "output_type": "stream",
     "text": [
      "\n",
      "GAIN RUN 10/10 - acc: 56.5% +- 1.72% - auc: 58.34% +- 2.15%\n",
      "\n",
      "GAIN GLOBAL - acc: 57.32% +- 0.7% - auc: 60.19% +- 0.88%\n"
     ]
    }
   ],
   "source": [
    "gain_parameters = {'batch_size': 128,\n",
    "                   'hint_rate': .9,\n",
    "                   'alpha': 100,\n",
    "                   'iterations': 5000}\n",
    "\n",
    "gain_accs, gain_aucs = [], []\n",
    "for i in range(n_runs):\n",
    "    random.seed(i)\n",
    "    np.random.seed(i)\n",
    "    torch.manual_seed(i)\n",
    "    imputed = gain(data_missing_nans, gain_parameters)\n",
    "    scores = utils.get_scores(imputed, y)\n",
    "    acc = scores['test_balanced_accuracy']\n",
    "    auc = scores['test_roc_auc_ovo']\n",
    "    print(f'\\nGAIN RUN {i + 1}/{n_runs} - acc: {round(acc.mean() * 100, 2)}% +- {round(acc.std() * 100, 2)}% - ' +\n",
    "          f'auc: {round(auc.mean() * 100, 2)}% +- {round(auc.std() * 100, 2)}%\\n')\n",
    "    gain_accs.append(acc.mean())\n",
    "    gain_aucs.append(auc.mean())\n",
    "print(f'GAIN GLOBAL - acc: {round(np.array(gain_accs).mean() * 100, 2)}% +- {round(np.array(gain_accs).std() * 100, 2)}% - ' +\n",
    "      f'auc: {round(np.array(gain_aucs).mean() * 100, 2)}% +- {round(np.array(gain_aucs).std() * 100, 2)}%')"
   ]
  },
  {
   "cell_type": "markdown",
   "metadata": {},
   "source": [
    "## Run MICE"
   ]
  },
  {
   "cell_type": "code",
   "execution_count": 7,
   "metadata": {
    "ExecuteTime": {
     "end_time": "2022-06-03T08:05:36.625097Z",
     "start_time": "2022-06-03T07:57:05.047941Z"
    },
    "execution": {
     "iopub.execute_input": "2022-06-03T16:13:17.567387Z",
     "iopub.status.busy": "2022-06-03T16:13:17.564508Z",
     "iopub.status.idle": "2022-06-03T16:53:54.300408Z",
     "shell.execute_reply": "2022-06-03T16:53:54.300755Z"
    }
   },
   "outputs": [
    {
     "name": "stdout",
     "output_type": "stream",
     "text": [
      "MICE - acc: 57.65% +- 0.0% - auc: 60.8% +- 0.0%\n"
     ]
    }
   ],
   "source": [
    "imputer = IterativeImputer()\n",
    "imputed = imputer.fit_transform(data_missing_nans)\n",
    "## All runs would be the same since deterministic method\n",
    "scores = utils.get_scores(imputed, y)\n",
    "acc = [scores['test_balanced_accuracy'].mean()] * n_runs\n",
    "auc = [scores['test_roc_auc_ovo'].mean()] * n_runs\n",
    "print(f'MICE - acc: {round(np.mean(acc) * 100, 2)}% +- {round(np.std(acc) * 100, 2)}% - ' +\n",
    "      f'auc: {round(np.mean(auc) * 100, 2)}% +- {round(np.std(auc) * 100, 2)}%')\n",
    "mice_accs = acc\n",
    "mice_aucs = auc"
   ]
  },
  {
   "cell_type": "markdown",
   "metadata": {},
   "source": [
    "## Run MISSFOREST"
   ]
  },
  {
   "cell_type": "code",
   "execution_count": 8,
   "metadata": {
    "ExecuteTime": {
     "end_time": "2022-06-03T08:13:22.668185Z",
     "start_time": "2022-06-03T08:05:36.627849Z"
    },
    "execution": {
     "iopub.execute_input": "2022-06-03T16:53:54.350508Z",
     "iopub.status.busy": "2022-06-03T16:53:54.350030Z",
     "iopub.status.idle": "2022-06-03T18:07:58.195507Z",
     "shell.execute_reply": "2022-06-03T18:07:58.195895Z"
    },
    "scrolled": false
   },
   "outputs": [
    {
     "name": "stdout",
     "output_type": "stream",
     "text": [
      "Iteration: 0\n",
      "Iteration: 1\n",
      "\n",
      "MISSFOREST RUN 1/10 - acc: 57.1% +- 2.07% - auc: 61.38% +- 2.89%\n",
      "\n",
      "Iteration: 0\n",
      "Iteration: 1\n",
      "\n",
      "MISSFOREST RUN 2/10 - acc: 58.0% +- 1.72% - auc: 59.81% +- 1.89%\n",
      "\n",
      "Iteration: 0\n",
      "Iteration: 1\n",
      "\n",
      "MISSFOREST RUN 3/10 - acc: 59.25% +- 2.73% - auc: 62.17% +- 2.64%\n",
      "\n",
      "Iteration: 0\n",
      "Iteration: 1\n",
      "\n",
      "MISSFOREST RUN 4/10 - acc: 57.2% +- 0.84% - auc: 59.29% +- 2.35%\n",
      "\n",
      "Iteration: 0\n",
      "Iteration: 1\n",
      "\n",
      "MISSFOREST RUN 5/10 - acc: 58.1% +- 1.71% - auc: 61.14% +- 2.1%\n",
      "\n",
      "Iteration: 0\n",
      "Iteration: 1\n",
      "\n",
      "MISSFOREST RUN 6/10 - acc: 57.5% +- 2.4% - auc: 60.39% +- 3.48%\n",
      "\n",
      "Iteration: 0\n",
      "Iteration: 1\n",
      "\n",
      "MISSFOREST RUN 7/10 - acc: 56.8% +- 1.93% - auc: 58.31% +- 1.89%\n",
      "\n",
      "Iteration: 0\n",
      "Iteration: 1\n",
      "\n",
      "MISSFOREST RUN 8/10 - acc: 56.75% +- 1.13% - auc: 59.58% +- 2.3%\n",
      "\n",
      "Iteration: 0\n",
      "Iteration: 1\n",
      "\n",
      "MISSFOREST RUN 9/10 - acc: 56.4% +- 2.6% - auc: 59.4% +- 1.97%\n",
      "\n",
      "Iteration: 0\n",
      "Iteration: 1\n",
      "\n",
      "MISSFOREST RUN 10/10 - acc: 58.45% +- 1.91% - auc: 61.29% +- 3.14%\n",
      "\n",
      "\n",
      "MISSFOREST GLOBAL - acc: 57.56% +- 0.84% - auc: 60.28% +- 1.14%\n"
     ]
    }
   ],
   "source": [
    "miss_accs, miss_aucs = [], []\n",
    "for i in range(n_runs):\n",
    "    random.seed(i)\n",
    "    np.random.seed(i)\n",
    "    torch.manual_seed(i)\n",
    "    imputer = MissForest(n_jobs=-1, random_state=i)\n",
    "    imputed = imputer.fit_transform(data_missing_nans)\n",
    "    scores = utils.get_scores(imputed, y)\n",
    "    acc = scores['test_balanced_accuracy']\n",
    "    auc = scores['test_roc_auc_ovo']\n",
    "    print(f'\\nMISSFOREST RUN {i + 1}/{n_runs} - acc: {round(acc.mean() * 100, 2)}% +- {round(acc.std() * 100, 2)}% - ' +\n",
    "          f'auc: {round(auc.mean() * 100, 2)}% +- {round(auc.std() * 100, 2)}%\\n')\n",
    "    miss_accs.append(acc.mean())\n",
    "    miss_aucs.append(auc.mean())\n",
    "print(f'\\nMISSFOREST GLOBAL - acc: {round(np.array(miss_accs).mean() * 100, 2)}% +- {round(np.array(miss_accs).std() * 100, 2)}% - ' +\n",
    "      f'auc: {round(np.array(miss_aucs).mean() * 100, 2)}% +- {round(np.array(miss_aucs).std() * 100, 2)}%')"
   ]
  },
  {
   "cell_type": "markdown",
   "metadata": {},
   "source": [
    "## Run SOFTIMPUTE"
   ]
  },
  {
   "cell_type": "code",
   "execution_count": 9,
   "metadata": {
    "ExecuteTime": {
     "end_time": "2022-06-03T08:13:24.127459Z",
     "start_time": "2022-06-03T08:13:22.670807Z"
    },
    "execution": {
     "iopub.execute_input": "2022-06-03T18:07:58.222531Z",
     "iopub.status.busy": "2022-06-03T18:07:58.222023Z",
     "iopub.status.idle": "2022-06-03T18:08:19.387900Z",
     "shell.execute_reply": "2022-06-03T18:08:19.388297Z"
    }
   },
   "outputs": [
    {
     "name": "stdout",
     "output_type": "stream",
     "text": [
      "SOFTIMPUTE RUN 1/10 - acc: 58.15% +- 1.99% - auc: 61.45% +- 2.12%\n",
      "SOFTIMPUTE RUN 2/10 - acc: 59.05% +- 1.81% - auc: 61.64% +- 2.48%\n",
      "SOFTIMPUTE RUN 3/10 - acc: 57.1% +- 1.85% - auc: 60.18% +- 1.69%\n",
      "SOFTIMPUTE RUN 4/10 - acc: 57.2% +- 3.05% - auc: 61.17% +- 3.31%\n",
      "SOFTIMPUTE RUN 5/10 - acc: 57.3% +- 3.1% - auc: 61.08% +- 3.28%\n",
      "SOFTIMPUTE RUN 6/10 - acc: 58.05% +- 1.55% - auc: 59.44% +- 2.1%\n",
      "SOFTIMPUTE RUN 7/10 - acc: 55.55% +- 3.17% - auc: 57.45% +- 3.05%\n",
      "SOFTIMPUTE RUN 8/10 - acc: 57.8% +- 3.06% - auc: 61.77% +- 3.3%\n",
      "SOFTIMPUTE RUN 9/10 - acc: 58.85% +- 3.04% - auc: 61.23% +- 3.19%\n",
      "SOFTIMPUTE RUN 10/10 - acc: 56.5% +- 1.66% - auc: 59.04% +- 2.44%\n",
      "\n",
      "SOFTIMPUTE GLOBAL - acc: 57.56% +- 1.01% - auc: 60.44% +- 1.33%\n"
     ]
    }
   ],
   "source": [
    "soft_accs, soft_aucs = [], []\n",
    "for i in range(n_runs):\n",
    "    random.seed(i)\n",
    "    np.random.seed(i)\n",
    "    torch.manual_seed(i)\n",
    "    imputer = SoftImpute(random_state=i)\n",
    "    imputer.fit(data_missing_nans)\n",
    "    imputed = imputer.predict(data_missing_nans)\n",
    "    imputed = np.where(missing_mask, data_missing, imputed)\n",
    "    scores = utils.get_scores(imputed, y)\n",
    "    acc = scores['test_balanced_accuracy']\n",
    "    auc = scores['test_roc_auc_ovo']\n",
    "    print(f'SOFTIMPUTE RUN {i + 1}/{n_runs} - acc: {round(acc.mean() * 100, 2)}% +- {round(acc.std() * 100, 2)}% - ' +\n",
    "          f'auc: {round(auc.mean() * 100, 2)}% +- {round(auc.std() * 100, 2)}%')\n",
    "    soft_accs.append(acc.mean())\n",
    "    soft_aucs.append(auc.mean())\n",
    "print(f'\\nSOFTIMPUTE GLOBAL - acc: {round(np.array(soft_accs).mean() * 100, 2)}% +- {round(np.array(soft_accs).std() * 100, 2)}% - ' +\n",
    "      f'auc: {round(np.array(soft_aucs).mean() * 100, 2)}% +- {round(np.array(soft_aucs).std() * 100, 2)}%')"
   ]
  },
  {
   "cell_type": "markdown",
   "metadata": {},
   "source": [
    "## Run SINKHORN"
   ]
  },
  {
   "cell_type": "code",
   "execution_count": 10,
   "metadata": {
    "execution": {
     "iopub.execute_input": "2022-06-03T18:08:19.399830Z",
     "iopub.status.busy": "2022-06-03T18:08:19.399043Z",
     "iopub.status.idle": "2022-06-03T18:18:45.154288Z",
     "shell.execute_reply": "2022-06-03T18:18:45.153891Z"
    }
   },
   "outputs": [
    {
     "name": "stdout",
     "output_type": "stream",
     "text": [
      "batchsize = 128, epsilon = 0.0100\n",
      "Iteration 0:\t Loss: 3.9455\n",
      "\n",
      "SINKHORN RUN 1/10 - acc: 57.75% +- 3.12% - auc: 60.99% +- 3.58%\n",
      "\n",
      "batchsize = 128, epsilon = 0.0100\n",
      "Iteration 0:\t Loss: 3.9396\n",
      "\n",
      "SINKHORN RUN 2/10 - acc: 55.85% +- 2.94% - auc: 58.35% +- 3.46%\n",
      "\n",
      "batchsize = 128, epsilon = 0.0100\n",
      "Iteration 0:\t Loss: 3.8754\n",
      "\n",
      "SINKHORN RUN 3/10 - acc: 57.35% +- 4.05% - auc: 60.32% +- 4.33%\n",
      "\n",
      "batchsize = 128, epsilon = 0.0100\n",
      "Iteration 0:\t Loss: 4.2301\n",
      "\n",
      "SINKHORN RUN 4/10 - acc: 58.65% +- 2.0% - auc: 61.51% +- 0.69%\n",
      "\n",
      "batchsize = 128, epsilon = 0.0100\n",
      "Iteration 0:\t Loss: 4.0121\n",
      "\n",
      "SINKHORN RUN 5/10 - acc: 57.3% +- 2.69% - auc: 59.95% +- 3.74%\n",
      "\n",
      "batchsize = 128, epsilon = 0.0100\n",
      "Iteration 0:\t Loss: 4.0531\n",
      "\n",
      "SINKHORN RUN 6/10 - acc: 57.75% +- 1.93% - auc: 59.9% +- 2.1%\n",
      "\n",
      "batchsize = 128, epsilon = 0.0100\n",
      "Iteration 0:\t Loss: 3.9835\n",
      "\n",
      "SINKHORN RUN 7/10 - acc: 57.7% +- 2.91% - auc: 60.3% +- 2.86%\n",
      "\n",
      "batchsize = 128, epsilon = 0.0100\n",
      "Iteration 0:\t Loss: 4.0190\n",
      "\n",
      "SINKHORN RUN 8/10 - acc: 56.85% +- 1.33% - auc: 59.99% +- 2.12%\n",
      "\n",
      "batchsize = 128, epsilon = 0.0100\n",
      "Iteration 0:\t Loss: 4.0043\n",
      "\n",
      "SINKHORN RUN 9/10 - acc: 58.0% +- 1.68% - auc: 60.57% +- 1.56%\n",
      "\n",
      "batchsize = 128, epsilon = 0.0100\n",
      "Iteration 0:\t Loss: 3.9639\n",
      "\n",
      "SINKHORN RUN 10/10 - acc: 57.4% +- 1.46% - auc: 60.86% +- 1.84%\n",
      "\n",
      "\n",
      "SINKHORN GLOBAL - acc: 57.46% +- 0.7% - auc: 60.27% +- 0.81%\n"
     ]
    }
   ],
   "source": [
    "sink_accs, sink_aucs = [], []\n",
    "for i in range(n_runs):\n",
    "    random.seed(i)\n",
    "    np.random.seed(i)\n",
    "    torch.manual_seed(i)\n",
    "    imputer = OTimputer(niter=500)\n",
    "    imputed = imputer.fit_transform(data_missing_nans).cpu().detach().numpy()\n",
    "    scores = utils.get_scores(imputed, y)\n",
    "    acc = scores['test_balanced_accuracy']\n",
    "    auc = scores['test_roc_auc_ovo']\n",
    "    print(f'\\nSINKHORN RUN {i + 1}/{n_runs} - acc: {round(acc.mean() * 100, 2)}% +- {round(acc.std() * 100, 2)}% - ' +\n",
    "          f'auc: {round(auc.mean() * 100, 2)}% +- {round(auc.std() * 100, 2)}%\\n')\n",
    "    sink_accs.append(acc.mean())\n",
    "    sink_aucs.append(auc.mean())\n",
    "print(f'\\nSINKHORN GLOBAL - acc: {round(np.array(sink_accs).mean() * 100, 2)}% +- {round(np.array(sink_accs).std() * 100, 2)}% - ' +\n",
    "      f'auc: {round(np.array(sink_aucs).mean() * 100, 2)}% +- {round(np.array(sink_aucs).std() * 100, 2)}%')"
   ]
  },
  {
   "cell_type": "markdown",
   "metadata": {},
   "source": [
    "## Run MIDA"
   ]
  },
  {
   "cell_type": "code",
   "execution_count": 11,
   "metadata": {
    "execution": {
     "iopub.execute_input": "2022-06-03T18:18:45.160887Z",
     "iopub.status.busy": "2022-06-03T18:18:45.160437Z",
     "iopub.status.idle": "2022-06-03T18:23:47.719673Z",
     "shell.execute_reply": "2022-06-03T18:23:47.720144Z"
    }
   },
   "outputs": [
    {
     "name": "stdout",
     "output_type": "stream",
     "text": [
      "Stop training at epoch: 1500/1500, return best output\n",
      "\n",
      "MIDA RUN 1/10 - acc: 58.1% +- 3.27% - auc: 60.49% +- 3.55%\n",
      "\n",
      "Stop training at epoch: 1500/1500, return best output\n",
      "\n",
      "MIDA RUN 2/10 - acc: 57.1% +- 3.32% - auc: 59.22% +- 3.2%\n",
      "\n",
      "Stop training at epoch: 1500/1500, return best output\n",
      "\n",
      "MIDA RUN 3/10 - acc: 58.9% +- 2.56% - auc: 62.07% +- 1.67%\n",
      "\n",
      "Stop training at epoch: 1500/1500, return best output\n",
      "\n",
      "MIDA RUN 4/10 - acc: 56.45% +- 2.63% - auc: 59.63% +- 4.35%\n",
      "\n",
      "Stop training at epoch: 1500/1500, return best output\n",
      "\n",
      "MIDA RUN 5/10 - acc: 57.55% +- 2.57% - auc: 60.37% +- 3.82%\n",
      "\n",
      "Stop training at epoch: 1500/1500, return best output\n",
      "\n",
      "MIDA RUN 6/10 - acc: 59.2% +- 1.98% - auc: 61.23% +- 2.69%\n",
      "\n",
      "Stop training at epoch: 1500/1500, return best output\n",
      "\n",
      "MIDA RUN 7/10 - acc: 59.85% +- 2.07% - auc: 62.48% +- 1.32%\n",
      "\n",
      "Stop training at epoch: 1500/1500, return best output\n",
      "\n",
      "MIDA RUN 8/10 - acc: 59.05% +- 3.17% - auc: 62.35% +- 3.85%\n",
      "\n",
      "Stop training at epoch: 1500/1500, return best output\n",
      "\n",
      "MIDA RUN 9/10 - acc: 58.25% +- 2.35% - auc: 61.08% +- 2.34%\n",
      "\n",
      "Stop training at epoch: 1500/1500, return best output\n",
      "\n",
      "MIDA RUN 10/10 - acc: 58.1% +- 4.01% - auc: 61.23% +- 3.56%\n",
      "\n",
      "\n",
      "MIDA GLOBAL - acc: 58.26% +- 0.98% - auc: 61.01% +- 1.05%\n"
     ]
    }
   ],
   "source": [
    "mida_accs, mida_aucs = [], []\n",
    "for i in range(n_runs):\n",
    "    random.seed(i)\n",
    "    np.random.seed(i)\n",
    "    torch.manual_seed(i)\n",
    "    imputed = mida(data_missing_nans, num_layers=2, num_epochs=1500)\n",
    "    imputed = np.where(missing_mask, data_missing, imputed)\n",
    "    scores = utils.get_scores(imputed, y)\n",
    "    acc = scores['test_balanced_accuracy']\n",
    "    auc = scores['test_roc_auc_ovo']\n",
    "    print(f'\\nMIDA RUN {i + 1}/{n_runs} - acc: {round(acc.mean() * 100, 2)}% +- {round(acc.std() * 100, 2)}% - ' +\n",
    "          f'auc: {round(auc.mean() * 100, 2)}% +- {round(auc.std() * 100, 2)}%\\n')\n",
    "    mida_accs.append(acc.mean())\n",
    "    mida_aucs.append(auc.mean())\n",
    "print(f'\\nMIDA GLOBAL - acc: {round(np.array(mida_accs).mean() * 100, 2)}% +- {round(np.array(mida_accs).std() * 100, 2)}% - ' +\n",
    "      f'auc: {round(np.array(mida_aucs).mean() * 100, 2)}% +- {round(np.array(mida_aucs).std() * 100, 2)}%')"
   ]
  },
  {
   "cell_type": "markdown",
   "metadata": {},
   "source": [
    "## Run T-tests"
   ]
  },
  {
   "cell_type": "code",
   "execution_count": 12,
   "metadata": {
    "ExecuteTime": {
     "end_time": "2022-06-03T08:13:24.155174Z",
     "start_time": "2022-06-03T08:13:24.143959Z"
    },
    "execution": {
     "iopub.execute_input": "2022-06-03T18:23:47.725481Z",
     "iopub.status.busy": "2022-06-03T18:23:47.725017Z",
     "iopub.status.idle": "2022-06-03T18:23:47.747394Z",
     "shell.execute_reply": "2022-06-03T18:23:47.747848Z"
    }
   },
   "outputs": [
    {
     "name": "stdout",
     "output_type": "stream",
     "text": [
      "Metric ACC - OUR METHOD is even with MEDIAN\n",
      "Metric AUC - OUR METHOD is even with MEDIAN\n",
      "Metric ACC - OUR METHOD is even with MEAN\n",
      "Metric AUC - OUR METHOD is significantly better than MEAN\n",
      "Metric ACC - OUR METHOD is significantly better than KNN\n",
      "Metric AUC - OUR METHOD is significantly better than KNN\n",
      "Metric ACC - OUR METHOD is significantly better than GAIN\n",
      "Metric AUC - OUR METHOD is significantly better than GAIN\n",
      "Metric ACC - OUR METHOD is significantly better than MICE\n",
      "Metric AUC - OUR METHOD is significantly better than MICE\n",
      "Metric ACC - OUR METHOD is significantly better than MISS\n",
      "Metric AUC - OUR METHOD is significantly better than MISS\n",
      "Metric ACC - OUR METHOD is significantly better than SOFT\n",
      "Metric AUC - OUR METHOD is significantly better than SOFT\n",
      "Metric ACC - OUR METHOD is significantly better than SINK\n",
      "Metric AUC - OUR METHOD is significantly better than SINK\n",
      "Metric ACC - OUR METHOD is significantly better than MIDA\n",
      "Metric AUC - OUR METHOD is significantly better than MIDA\n"
     ]
    }
   ],
   "source": [
    "for model, metrics in {\n",
    "        'MEDIAN': {'ACC': median_accs, 'AUC': median_aucs},\n",
    "        'MEAN': {'ACC': mean_accs, 'AUC': mean_aucs},\n",
    "        'KNN': {'ACC': knn_accs, 'AUC': knn_aucs},\n",
    "        'GAIN': {'ACC': gain_accs, 'AUC': gain_aucs},\n",
    "        'MICE': {'ACC': mice_accs, 'AUC': mice_aucs},\n",
    "        'MISS': {'ACC': miss_accs, 'AUC': miss_aucs},\n",
    "        'SOFT': {'ACC': soft_accs, 'AUC': soft_aucs},\n",
    "        'SINK': {'ACC': sink_accs, 'AUC': sink_aucs},\n",
    "        'MIDA': {'ACC': mida_accs, 'AUC': mida_aucs}}.items():\n",
    "    for metric_name, metric in metrics.items():\n",
    "        ours_metric = ours_accs if metric_name == 'ACC' else ours_aucs\n",
    "        t, p = scipy.stats.ttest_ind(np.array(ours_metric), np.array(metric))\n",
    "        if p <= .05:\n",
    "            if t > 0:\n",
    "                ## Our method is better\n",
    "                print(f'Metric {metric_name} - OUR METHOD is significantly better than {model}')\n",
    "            else:\n",
    "                ## Theirs is better\n",
    "                print(f'Metric {metric_name} - OUR METHOD is significantly worse than {model}')\n",
    "        else:\n",
    "            ## Else we are even\n",
    "            print(f'Metric {metric_name} - OUR METHOD is even with {model}')"
   ]
  }
 ],
 "metadata": {
  "kernelspec": {
   "display_name": "Python 3 (ipykernel)",
   "language": "python",
   "name": "python3"
  },
  "language_info": {
   "codemirror_mode": {
    "name": "ipython",
    "version": 3
   },
   "file_extension": ".py",
   "mimetype": "text/x-python",
   "name": "python",
   "nbconvert_exporter": "python",
   "pygments_lexer": "ipython3",
   "version": "3.9.7"
  },
  "latex_envs": {
   "LaTeX_envs_menu_present": true,
   "autoclose": false,
   "autocomplete": true,
   "bibliofile": "biblio.bib",
   "cite_by": "apalike",
   "current_citInitial": 1,
   "eqLabelWithNumbers": true,
   "eqNumInitial": 1,
   "hotkeys": {
    "equation": "Ctrl-E",
    "itemize": "Ctrl-I"
   },
   "labels_anchors": false,
   "latex_user_defs": false,
   "report_style_numbering": false,
   "user_envs_cfg": false
  }
 },
 "nbformat": 4,
 "nbformat_minor": 2
}
